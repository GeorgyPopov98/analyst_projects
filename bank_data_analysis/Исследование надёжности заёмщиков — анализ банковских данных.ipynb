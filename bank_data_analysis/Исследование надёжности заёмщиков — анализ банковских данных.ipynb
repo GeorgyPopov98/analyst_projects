{
 "cells": [
  {
   "cell_type": "markdown",
   "id": "50a378c9",
   "metadata": {},
   "source": [
    "# Исследование надёжности заёмщиков — анализ банковских данных."
   ]
  },
  {
   "cell_type": "markdown",
   "id": "75fff1f7",
   "metadata": {},
   "source": [
    "**Цель исследования** — проверить гипотезу: семейное положение и количество детей клиента влияет на факт погашения кредита в срок.\n",
    "\n",
    "**Ход исследования**\n",
    "\n",
    "Данные о поведении пользователей были получены из файла `/datasets/data.csv`. О качестве данных ничего не известно. Поэтому перед проверкой гипотезы понадобится обзор данных. \n",
    "\n",
    "Необходимо проверить данные на ошибки и оценить их влияние на исследование. Затем, на этапе предобработки найти возможность исправить самые критичные ошибки данных.\n",
    " \n",
    "Таким образом, исследование пройдёт в три этапа:\n",
    " 1. Обзор данных.\n",
    " 2. Предобработка данных.\n",
    " 3. Проверка гипотезы."
   ]
  },
  {
   "cell_type": "markdown",
   "id": "d65c657e",
   "metadata": {},
   "source": [
    "### Исследование надежности заемщиков.\n",
    "_____\n",
    "\n",
    "###### Данное исследование разделим на несколько частей.\n",
    "\n",
    "#### Часть 1. Обзор данных:\n",
    "* [1. Изучение файлов с данными, получение общей информации, загрузка библиотек.](#1-bullet)\n",
    "#### Часть 2. Предобработка данных:\n",
    "* [1. Заполнение пропусков.](#2-bullet)\n",
    "* [2. Проверка данных на аномалии и исправления.](#3-bullet)\n",
    "* [3. Изменение типов данных.](#4-bullet)\n",
    "* [4. Удаление дубликатов.](#5-bullet)\n",
    "* [5. Формирование дополнительных датафреймов словарей, декомпозиция исходного датафрейма.](#6-bullet)\n",
    "* [6. Категоризация дохода.](#7-bullet)\n",
    "* [7. Категоризация целей кредита.](#8-bullet)\n",
    "#### Часть 3. Ответы на вопросы:\n",
    "* [1. Вопрос 1: Есть ли зависимость между количеством детей и возвратом кредита в срок?](#9-bullet)\n",
    "* [2. Вопрос 2: Есть ли зависимость между семейным положением и возвратом кредита в срок?](#10-bullet)\n",
    "* [3. Вопрос 3: Есть ли зависимость между уровнем дохода и возвратом кредита в срок?](#11-bullet)\n",
    "* [4. Вопрос 4: Как разные цели кредита влияют на его возврат в срок?](#12-bullet)\n",
    "##### Итоги исследования"
   ]
  },
  {
   "cell_type": "markdown",
   "id": "c3006cbd",
   "metadata": {},
   "source": [
    "## Обзор данных"
   ]
  },
  {
   "cell_type": "markdown",
   "id": "b30070b7",
   "metadata": {},
   "source": [
    "<a id='1-bullet'></a>\n",
    "### Изучение файлов с данными, получение общей информации, загрузка библиотек."
   ]
  },
  {
   "cell_type": "code",
   "execution_count": 1,
   "id": "882f6d6a",
   "metadata": {},
   "outputs": [],
   "source": [
    "import pandas as pd # импорт библиотеки pandas"
   ]
  },
  {
   "cell_type": "markdown",
   "id": "d5c5cff4",
   "metadata": {},
   "source": [
    "Прочитаем файл `/datasets/data.csv` из папки `/datasets` и сохраним его в переменной `df`:"
   ]
  },
  {
   "cell_type": "code",
   "execution_count": 2,
   "id": "a4b61391",
   "metadata": {},
   "outputs": [],
   "source": [
    "df = pd.read_csv('D:\\Programs\\data.csv') # чтение файла с данными и сохранение в df"
   ]
  },
  {
   "cell_type": "markdown",
   "id": "03042254",
   "metadata": {},
   "source": [
    "Выведем на экран первые 10 строк таблицы"
   ]
  },
  {
   "cell_type": "code",
   "execution_count": 3,
   "id": "ff08d382",
   "metadata": {},
   "outputs": [
    {
     "data": {
      "text/html": [
       "<div>\n",
       "<style scoped>\n",
       "    .dataframe tbody tr th:only-of-type {\n",
       "        vertical-align: middle;\n",
       "    }\n",
       "\n",
       "    .dataframe tbody tr th {\n",
       "        vertical-align: top;\n",
       "    }\n",
       "\n",
       "    .dataframe thead th {\n",
       "        text-align: right;\n",
       "    }\n",
       "</style>\n",
       "<table border=\"1\" class=\"dataframe\">\n",
       "  <thead>\n",
       "    <tr style=\"text-align: right;\">\n",
       "      <th></th>\n",
       "      <th>children</th>\n",
       "      <th>days_employed</th>\n",
       "      <th>dob_years</th>\n",
       "      <th>education</th>\n",
       "      <th>education_id</th>\n",
       "      <th>family_status</th>\n",
       "      <th>family_status_id</th>\n",
       "      <th>gender</th>\n",
       "      <th>income_type</th>\n",
       "      <th>debt</th>\n",
       "      <th>total_income</th>\n",
       "      <th>purpose</th>\n",
       "    </tr>\n",
       "  </thead>\n",
       "  <tbody>\n",
       "    <tr>\n",
       "      <th>0</th>\n",
       "      <td>1</td>\n",
       "      <td>-8437.673028</td>\n",
       "      <td>42</td>\n",
       "      <td>высшее</td>\n",
       "      <td>0</td>\n",
       "      <td>женат / замужем</td>\n",
       "      <td>0</td>\n",
       "      <td>F</td>\n",
       "      <td>сотрудник</td>\n",
       "      <td>0</td>\n",
       "      <td>253875.639453</td>\n",
       "      <td>покупка жилья</td>\n",
       "    </tr>\n",
       "    <tr>\n",
       "      <th>1</th>\n",
       "      <td>1</td>\n",
       "      <td>-4024.803754</td>\n",
       "      <td>36</td>\n",
       "      <td>среднее</td>\n",
       "      <td>1</td>\n",
       "      <td>женат / замужем</td>\n",
       "      <td>0</td>\n",
       "      <td>F</td>\n",
       "      <td>сотрудник</td>\n",
       "      <td>0</td>\n",
       "      <td>112080.014102</td>\n",
       "      <td>приобретение автомобиля</td>\n",
       "    </tr>\n",
       "    <tr>\n",
       "      <th>2</th>\n",
       "      <td>0</td>\n",
       "      <td>-5623.422610</td>\n",
       "      <td>33</td>\n",
       "      <td>Среднее</td>\n",
       "      <td>1</td>\n",
       "      <td>женат / замужем</td>\n",
       "      <td>0</td>\n",
       "      <td>M</td>\n",
       "      <td>сотрудник</td>\n",
       "      <td>0</td>\n",
       "      <td>145885.952297</td>\n",
       "      <td>покупка жилья</td>\n",
       "    </tr>\n",
       "    <tr>\n",
       "      <th>3</th>\n",
       "      <td>3</td>\n",
       "      <td>-4124.747207</td>\n",
       "      <td>32</td>\n",
       "      <td>среднее</td>\n",
       "      <td>1</td>\n",
       "      <td>женат / замужем</td>\n",
       "      <td>0</td>\n",
       "      <td>M</td>\n",
       "      <td>сотрудник</td>\n",
       "      <td>0</td>\n",
       "      <td>267628.550329</td>\n",
       "      <td>дополнительное образование</td>\n",
       "    </tr>\n",
       "    <tr>\n",
       "      <th>4</th>\n",
       "      <td>0</td>\n",
       "      <td>340266.072047</td>\n",
       "      <td>53</td>\n",
       "      <td>среднее</td>\n",
       "      <td>1</td>\n",
       "      <td>гражданский брак</td>\n",
       "      <td>1</td>\n",
       "      <td>F</td>\n",
       "      <td>пенсионер</td>\n",
       "      <td>0</td>\n",
       "      <td>158616.077870</td>\n",
       "      <td>сыграть свадьбу</td>\n",
       "    </tr>\n",
       "    <tr>\n",
       "      <th>5</th>\n",
       "      <td>0</td>\n",
       "      <td>-926.185831</td>\n",
       "      <td>27</td>\n",
       "      <td>высшее</td>\n",
       "      <td>0</td>\n",
       "      <td>гражданский брак</td>\n",
       "      <td>1</td>\n",
       "      <td>M</td>\n",
       "      <td>компаньон</td>\n",
       "      <td>0</td>\n",
       "      <td>255763.565419</td>\n",
       "      <td>покупка жилья</td>\n",
       "    </tr>\n",
       "    <tr>\n",
       "      <th>6</th>\n",
       "      <td>0</td>\n",
       "      <td>-2879.202052</td>\n",
       "      <td>43</td>\n",
       "      <td>высшее</td>\n",
       "      <td>0</td>\n",
       "      <td>женат / замужем</td>\n",
       "      <td>0</td>\n",
       "      <td>F</td>\n",
       "      <td>компаньон</td>\n",
       "      <td>0</td>\n",
       "      <td>240525.971920</td>\n",
       "      <td>операции с жильем</td>\n",
       "    </tr>\n",
       "    <tr>\n",
       "      <th>7</th>\n",
       "      <td>0</td>\n",
       "      <td>-152.779569</td>\n",
       "      <td>50</td>\n",
       "      <td>СРЕДНЕЕ</td>\n",
       "      <td>1</td>\n",
       "      <td>женат / замужем</td>\n",
       "      <td>0</td>\n",
       "      <td>M</td>\n",
       "      <td>сотрудник</td>\n",
       "      <td>0</td>\n",
       "      <td>135823.934197</td>\n",
       "      <td>образование</td>\n",
       "    </tr>\n",
       "    <tr>\n",
       "      <th>8</th>\n",
       "      <td>2</td>\n",
       "      <td>-6929.865299</td>\n",
       "      <td>35</td>\n",
       "      <td>ВЫСШЕЕ</td>\n",
       "      <td>0</td>\n",
       "      <td>гражданский брак</td>\n",
       "      <td>1</td>\n",
       "      <td>F</td>\n",
       "      <td>сотрудник</td>\n",
       "      <td>0</td>\n",
       "      <td>95856.832424</td>\n",
       "      <td>на проведение свадьбы</td>\n",
       "    </tr>\n",
       "    <tr>\n",
       "      <th>9</th>\n",
       "      <td>0</td>\n",
       "      <td>-2188.756445</td>\n",
       "      <td>41</td>\n",
       "      <td>среднее</td>\n",
       "      <td>1</td>\n",
       "      <td>женат / замужем</td>\n",
       "      <td>0</td>\n",
       "      <td>M</td>\n",
       "      <td>сотрудник</td>\n",
       "      <td>0</td>\n",
       "      <td>144425.938277</td>\n",
       "      <td>покупка жилья для семьи</td>\n",
       "    </tr>\n",
       "  </tbody>\n",
       "</table>\n",
       "</div>"
      ],
      "text/plain": [
       "   children  days_employed  dob_years education  education_id  \\\n",
       "0         1   -8437.673028         42    высшее             0   \n",
       "1         1   -4024.803754         36   среднее             1   \n",
       "2         0   -5623.422610         33   Среднее             1   \n",
       "3         3   -4124.747207         32   среднее             1   \n",
       "4         0  340266.072047         53   среднее             1   \n",
       "5         0    -926.185831         27    высшее             0   \n",
       "6         0   -2879.202052         43    высшее             0   \n",
       "7         0    -152.779569         50   СРЕДНЕЕ             1   \n",
       "8         2   -6929.865299         35    ВЫСШЕЕ             0   \n",
       "9         0   -2188.756445         41   среднее             1   \n",
       "\n",
       "      family_status  family_status_id gender income_type  debt   total_income  \\\n",
       "0   женат / замужем                 0      F   сотрудник     0  253875.639453   \n",
       "1   женат / замужем                 0      F   сотрудник     0  112080.014102   \n",
       "2   женат / замужем                 0      M   сотрудник     0  145885.952297   \n",
       "3   женат / замужем                 0      M   сотрудник     0  267628.550329   \n",
       "4  гражданский брак                 1      F   пенсионер     0  158616.077870   \n",
       "5  гражданский брак                 1      M   компаньон     0  255763.565419   \n",
       "6   женат / замужем                 0      F   компаньон     0  240525.971920   \n",
       "7   женат / замужем                 0      M   сотрудник     0  135823.934197   \n",
       "8  гражданский брак                 1      F   сотрудник     0   95856.832424   \n",
       "9   женат / замужем                 0      M   сотрудник     0  144425.938277   \n",
       "\n",
       "                      purpose  \n",
       "0               покупка жилья  \n",
       "1     приобретение автомобиля  \n",
       "2               покупка жилья  \n",
       "3  дополнительное образование  \n",
       "4             сыграть свадьбу  \n",
       "5               покупка жилья  \n",
       "6           операции с жильем  \n",
       "7                 образование  \n",
       "8       на проведение свадьбы  \n",
       "9     покупка жилья для семьи  "
      ]
     },
     "execution_count": 3,
     "metadata": {},
     "output_type": "execute_result"
    }
   ],
   "source": [
    "df.head(10) # получение первых 10 строк таблицы df"
   ]
  },
  {
   "cell_type": "markdown",
   "id": "29c81423",
   "metadata": {},
   "source": [
    "Также необходимо посмотреть общую информацию о таблице"
   ]
  },
  {
   "cell_type": "code",
   "execution_count": 4,
   "id": "5be0626a",
   "metadata": {},
   "outputs": [
    {
     "name": "stdout",
     "output_type": "stream",
     "text": [
      "<class 'pandas.core.frame.DataFrame'>\n",
      "RangeIndex: 21525 entries, 0 to 21524\n",
      "Data columns (total 12 columns):\n",
      " #   Column            Non-Null Count  Dtype  \n",
      "---  ------            --------------  -----  \n",
      " 0   children          21525 non-null  int64  \n",
      " 1   days_employed     19351 non-null  float64\n",
      " 2   dob_years         21525 non-null  int64  \n",
      " 3   education         21525 non-null  object \n",
      " 4   education_id      21525 non-null  int64  \n",
      " 5   family_status     21525 non-null  object \n",
      " 6   family_status_id  21525 non-null  int64  \n",
      " 7   gender            21525 non-null  object \n",
      " 8   income_type       21525 non-null  object \n",
      " 9   debt              21525 non-null  int64  \n",
      " 10  total_income      19351 non-null  float64\n",
      " 11  purpose           21525 non-null  object \n",
      "dtypes: float64(2), int64(5), object(5)\n",
      "memory usage: 2.0+ MB\n"
     ]
    }
   ],
   "source": [
    "df.info()"
   ]
  },
  {
   "cell_type": "markdown",
   "id": "89747988",
   "metadata": {},
   "source": [
    "Итак, в таблице 12 столбцов. Тип данных в столбцах — `object`, `int64`, `float64`.\n",
    "\n",
    "Согласно документации к данным:\n",
    "* `children`  — количество детей в семье\n",
    "* `days_employed` — общий трудовой стаж в днях\n",
    "* `dob_years` — возраст клиента в годах\n",
    "* `education` — уровень образования клиента\n",
    "* `education_id` — идентификатор уровня образования\n",
    "* `family_status` — семейное положение\n",
    "* `family_status_id` — идентификатор семейного положения\n",
    "* `gender` — пол клиента\n",
    "* `income_type` — тип занятости\n",
    "* `debt` — имел ли задолженность по возврату кредитов\n",
    "* `total_income` — ежемесячный доход\n",
    "* `purpose` — цель получения кредита\n",
    "\n",
    "Количество значений в столбцах различается. Значит, в данных есть пропущенные значения."
   ]
  },
  {
   "cell_type": "markdown",
   "id": "8552e7a2",
   "metadata": {},
   "source": [
    "**Вывод**\n",
    "\n",
    "В каждой строке таблицы — данные о клиенте банка. Часть колонок описывает общую информацию о клиенте: пол, возраст, семейное положение, количество детей, трудовой стаж, образование. Остальные данные связаны с финансами: цель получения кредита, доход и задолженности клиента. \n",
    "\n",
    "Предварительно можно утверждать, что, данных достаточно для проверки гипотез, но встречаются пропуски в данных.\n",
    "\n",
    "Чтобы двигаться дальше, нужно устранить проблемы в данных."
   ]
  },
  {
   "cell_type": "markdown",
   "id": "97fc26ce",
   "metadata": {},
   "source": [
    "## Предобработка данных"
   ]
  },
  {
   "cell_type": "markdown",
   "id": "59974935",
   "metadata": {},
   "source": [
    "<a id='2-bullet'></a>\n",
    "### Заполнение пропусков"
   ]
  },
  {
   "cell_type": "markdown",
   "id": "d324e1cc",
   "metadata": {},
   "source": [
    "Посчитаем количество пропусков в данных."
   ]
  },
  {
   "cell_type": "code",
   "execution_count": 5,
   "id": "623b4f0d",
   "metadata": {},
   "outputs": [
    {
     "data": {
      "text/plain": [
       "children               0\n",
       "days_employed       2174\n",
       "dob_years              0\n",
       "education              0\n",
       "education_id           0\n",
       "family_status          0\n",
       "family_status_id       0\n",
       "gender                 0\n",
       "income_type            0\n",
       "debt                   0\n",
       "total_income        2174\n",
       "purpose                0\n",
       "dtype: int64"
      ]
     },
     "execution_count": 5,
     "metadata": {},
     "output_type": "execute_result"
    }
   ],
   "source": [
    "df.isna().sum() # подсчёт пропусков"
   ]
  },
  {
   "cell_type": "markdown",
   "id": "41fdcf33",
   "metadata": {},
   "source": [
    "Отсутсвуют данные в столбцах, описывающих трудовой стаж и ежемесячный доход. Доля пропусков в столбцах  `total_income` и `days_employed` состявляет 10%. Пропуски данных могут быть связаны с тем, что у некоторых людей отсутвует трудовой стаж и ежемесячный доход. Пропущенные значения в столбце `total_income` можно заменить медианным значением по столбцу, так как наши данные не однородны. "
   ]
  },
  {
   "cell_type": "code",
   "execution_count": 6,
   "id": "6b22e63d",
   "metadata": {},
   "outputs": [],
   "source": [
    "df['total_income'] = df['total_income'].fillna(df['total_income'].median()) #заполнение пропусков медианным значением"
   ]
  },
  {
   "cell_type": "markdown",
   "id": "e71b2388",
   "metadata": {},
   "source": [
    "<a id='3-bullet'></a>\n",
    "### Проверка данных на аномалии и исправления."
   ]
  },
  {
   "cell_type": "markdown",
   "id": "688fb23b",
   "metadata": {},
   "source": [
    "В столбцах `children` и `days_employed` есть отрицательные значения. Такие аномалии могли возникнуть в результате технической ошибки. Возможно алгоритм неправильно считает время. Время может обрабатываться алгоритмом в формате UTC. Так как начало отсчета этого времени идет с 1972 года. Люди, начавшие работать до 1972 года, могут иметь отрицательный трудовой стаж. \n",
    "\n",
    "Избавимся от отрицательных значений в столбцах, заменив их пропусками. Для этого напишем функцию, которая заменяет отрицательные значения пропусками."
   ]
  },
  {
   "cell_type": "code",
   "execution_count": 7,
   "id": "71a935c8",
   "metadata": {},
   "outputs": [],
   "source": [
    "def minus_dead(column): # функция замены отрицательных значений пропусками\n",
    "    for row in range(len(df[column])): \n",
    "        if df.loc[row,column] < 0:\n",
    "            df.loc[row,column] = None"
   ]
  },
  {
   "cell_type": "code",
   "execution_count": 8,
   "id": "804c625a",
   "metadata": {},
   "outputs": [],
   "source": [
    "minus_dead('days_employed') #замена пропущенных значений пропусками\n",
    "minus_dead('children') #замена пропущенных значений пропусками"
   ]
  },
  {
   "cell_type": "markdown",
   "id": "993070f8",
   "metadata": {},
   "source": [
    "Заполним пропуски в столбцах `children` и `days_employed` медианным значением столбца."
   ]
  },
  {
   "cell_type": "code",
   "execution_count": 9,
   "id": "cae1fb87",
   "metadata": {},
   "outputs": [],
   "source": [
    "df['days_employed'] = df['days_employed'].fillna(df['days_employed'].median())"
   ]
  },
  {
   "cell_type": "markdown",
   "id": "1be6869c",
   "metadata": {},
   "source": []
  },
  {
   "cell_type": "code",
   "execution_count": 10,
   "id": "2b833f9f",
   "metadata": {
    "scrolled": true
   },
   "outputs": [
    {
     "data": {
      "text/plain": [
       "array([ 1.,  0.,  3.,  2., nan,  4., 20.,  5.])"
      ]
     },
     "execution_count": 10,
     "metadata": {},
     "output_type": "execute_result"
    }
   ],
   "source": [
    "df['children'].unique()"
   ]
  },
  {
   "cell_type": "markdown",
   "id": "ebedf61f",
   "metadata": {},
   "source": [
    "Помимо отсутствующих строк в столбце `children` есть также столбцы содержащие аномальные данные. Скорее всего в результате ошибки, двое детей превратились в 20. Заменим данные в этих столбцах."
   ]
  },
  {
   "cell_type": "code",
   "execution_count": 11,
   "id": "5d77013b",
   "metadata": {},
   "outputs": [],
   "source": [
    "df['children'] = df['children'].replace(20, 2)"
   ]
  },
  {
   "cell_type": "code",
   "execution_count": 12,
   "id": "23cfb25f",
   "metadata": {},
   "outputs": [
    {
     "data": {
      "text/plain": [
       "array([ 1.,  0.,  3.,  2., nan,  4.,  5.])"
      ]
     },
     "execution_count": 12,
     "metadata": {},
     "output_type": "execute_result"
    }
   ],
   "source": [
    "df['children'].unique()"
   ]
  },
  {
   "cell_type": "code",
   "execution_count": 13,
   "id": "1fc8387e",
   "metadata": {},
   "outputs": [],
   "source": [
    "df['children'] = df['children'].fillna(df['children'].median())"
   ]
  },
  {
   "cell_type": "markdown",
   "id": "0cd81dfe",
   "metadata": {},
   "source": [
    "Убедимся, что в таблице не осталось пропусков. Для этого ещё раз посчитаем пропущенные значения."
   ]
  },
  {
   "cell_type": "code",
   "execution_count": 14,
   "id": "8c4bae6a",
   "metadata": {},
   "outputs": [
    {
     "data": {
      "text/plain": [
       "children            0\n",
       "days_employed       0\n",
       "dob_years           0\n",
       "education           0\n",
       "education_id        0\n",
       "family_status       0\n",
       "family_status_id    0\n",
       "gender              0\n",
       "income_type         0\n",
       "debt                0\n",
       "total_income        0\n",
       "purpose             0\n",
       "dtype: int64"
      ]
     },
     "execution_count": 14,
     "metadata": {},
     "output_type": "execute_result"
    }
   ],
   "source": [
    "df.isna().sum()"
   ]
  },
  {
   "cell_type": "markdown",
   "id": "fb817d56",
   "metadata": {},
   "source": [
    "<a id='4-bullet'></a>\n",
    "### Изменение типов данных."
   ]
  },
  {
   "cell_type": "markdown",
   "id": "675327ad",
   "metadata": {},
   "source": [
    "Заменим вещественный тип данных в столбце total_income на целочисленный."
   ]
  },
  {
   "cell_type": "code",
   "execution_count": 15,
   "id": "992b89a6",
   "metadata": {},
   "outputs": [],
   "source": [
    "df['total_income'] = df['total_income'].astype('int') #изменение типа данных столбца"
   ]
  },
  {
   "cell_type": "markdown",
   "id": "2ad0f310",
   "metadata": {},
   "source": [
    "<a id='5-bullet'></a>\n",
    "### Удаление дубликатов."
   ]
  },
  {
   "cell_type": "markdown",
   "id": "b20e2434",
   "metadata": {},
   "source": [
    "Посчитаем явные дубликаты"
   ]
  },
  {
   "cell_type": "code",
   "execution_count": 16,
   "id": "587ca8e2",
   "metadata": {},
   "outputs": [
    {
     "data": {
      "text/plain": [
       "54"
      ]
     },
     "execution_count": 16,
     "metadata": {},
     "output_type": "execute_result"
    }
   ],
   "source": [
    "df.duplicated().sum() # подсчёт явных дубликатов"
   ]
  },
  {
   "cell_type": "markdown",
   "id": "5c72e422",
   "metadata": {},
   "source": [
    "Удалим явные дубликаты."
   ]
  },
  {
   "cell_type": "code",
   "execution_count": 17,
   "id": "f9dee1e9",
   "metadata": {},
   "outputs": [],
   "source": [
    "df = df.drop_duplicates().reset_index(drop=True)\n",
    "# удаление явных дубликатов (с удалением старых индексов и формированием новых)"
   ]
  },
  {
   "cell_type": "markdown",
   "id": "e60df12d",
   "metadata": {},
   "source": [
    "Убедимся, что нам удалось избавиться от дубликатов"
   ]
  },
  {
   "cell_type": "code",
   "execution_count": 18,
   "id": "5c1052a4",
   "metadata": {},
   "outputs": [
    {
     "data": {
      "text/plain": [
       "0"
      ]
     },
     "execution_count": 18,
     "metadata": {},
     "output_type": "execute_result"
    }
   ],
   "source": [
    "df.duplicated().sum() # проверка на отсутствие дубликатов"
   ]
  },
  {
   "cell_type": "markdown",
   "id": "00820443",
   "metadata": {},
   "source": [
    "Теперь избавьтесь от неявных дубликатов в колонках. Например, в столбцах могут быть одни и те же значения, но записанные по-разному: с использованием заглавных и строчных букв. Приведем их к одному регистру. Такие ошибки тоже повлияют на результат исследования."
   ]
  },
  {
   "cell_type": "markdown",
   "id": "064a75ff",
   "metadata": {},
   "source": [
    "Выведем на экран список уникальных названий жанров, отсортированный в алфавитном порядке, для каждого категориального столбца"
   ]
  },
  {
   "cell_type": "code",
   "execution_count": 19,
   "id": "36d09350",
   "metadata": {},
   "outputs": [
    {
     "data": {
      "text/plain": [
       "array(['ВЫСШЕЕ', 'Высшее', 'НАЧАЛЬНОЕ', 'НЕОКОНЧЕННОЕ ВЫСШЕЕ',\n",
       "       'Начальное', 'Неоконченное высшее', 'СРЕДНЕЕ', 'Среднее',\n",
       "       'УЧЕНАЯ СТЕПЕНЬ', 'Ученая степень', 'высшее', 'начальное',\n",
       "       'неоконченное высшее', 'среднее', 'ученая степень'], dtype=object)"
      ]
     },
     "execution_count": 19,
     "metadata": {},
     "output_type": "execute_result"
    }
   ],
   "source": [
    "education_name = df['education'].sort_values().unique() \n",
    "education_name # Просмотр уникальных названий столбца 'образование'"
   ]
  },
  {
   "cell_type": "code",
   "execution_count": 20,
   "id": "63a4b49a",
   "metadata": {},
   "outputs": [
    {
     "data": {
      "text/plain": [
       "среднее                13705\n",
       "высшее                  4710\n",
       "СРЕДНЕЕ                  772\n",
       "Среднее                  711\n",
       "неоконченное высшее      668\n",
       "ВЫСШЕЕ                   273\n",
       "Высшее                   268\n",
       "начальное                250\n",
       "Неоконченное высшее       47\n",
       "НЕОКОНЧЕННОЕ ВЫСШЕЕ       29\n",
       "НАЧАЛЬНОЕ                 17\n",
       "Начальное                 15\n",
       "ученая степень             4\n",
       "Ученая степень             1\n",
       "УЧЕНАЯ СТЕПЕНЬ             1\n",
       "Name: education, dtype: int64"
      ]
     },
     "execution_count": 20,
     "metadata": {},
     "output_type": "execute_result"
    }
   ],
   "source": [
    "df['education'].value_counts() #подсчет количества уникальных значений"
   ]
  },
  {
   "cell_type": "code",
   "execution_count": 21,
   "id": "f56e6b6d",
   "metadata": {},
   "outputs": [
    {
     "data": {
      "text/plain": [
       "array(['Не женат / не замужем', 'в разводе', 'вдовец / вдова',\n",
       "       'гражданский брак', 'женат / замужем'], dtype=object)"
      ]
     },
     "execution_count": 21,
     "metadata": {},
     "output_type": "execute_result"
    }
   ],
   "source": [
    "family_status_name = df['family_status'].sort_values().unique() \n",
    "family_status_name # Просмотр уникальных названий столбца 'семейное положение'"
   ]
  },
  {
   "cell_type": "code",
   "execution_count": 22,
   "id": "b13c1aa4",
   "metadata": {},
   "outputs": [
    {
     "data": {
      "text/plain": [
       "array(['F', 'M', 'XNA'], dtype=object)"
      ]
     },
     "execution_count": 22,
     "metadata": {},
     "output_type": "execute_result"
    }
   ],
   "source": [
    "gender_name = df['gender'].sort_values().unique() \n",
    "gender_name # Просмотр уникальных названий столбца 'пол'"
   ]
  },
  {
   "cell_type": "code",
   "execution_count": 23,
   "id": "2d8d24fc",
   "metadata": {},
   "outputs": [
    {
     "data": {
      "text/plain": [
       "array(['безработный', 'в декрете', 'госслужащий', 'компаньон',\n",
       "       'пенсионер', 'предприниматель', 'сотрудник', 'студент'],\n",
       "      dtype=object)"
      ]
     },
     "execution_count": 23,
     "metadata": {},
     "output_type": "execute_result"
    }
   ],
   "source": [
    "income_type_name = df['income_type'].sort_values().unique() \n",
    "income_type_name # Просмотр уникальных названий столбца 'тип занятости'"
   ]
  },
  {
   "cell_type": "code",
   "execution_count": 24,
   "id": "d2bac4eb",
   "metadata": {},
   "outputs": [
    {
     "data": {
      "text/plain": [
       "array(['автомобили', 'автомобиль', 'высшее образование',\n",
       "       'дополнительное образование', 'жилье',\n",
       "       'заняться высшим образованием', 'заняться образованием',\n",
       "       'на покупку автомобиля', 'на покупку подержанного автомобиля',\n",
       "       'на покупку своего автомобиля', 'на проведение свадьбы',\n",
       "       'недвижимость', 'образование', 'операции с жильем',\n",
       "       'операции с коммерческой недвижимостью',\n",
       "       'операции с недвижимостью', 'операции со своей недвижимостью',\n",
       "       'покупка жилой недвижимости', 'покупка жилья',\n",
       "       'покупка жилья для сдачи', 'покупка жилья для семьи',\n",
       "       'покупка коммерческой недвижимости', 'покупка недвижимости',\n",
       "       'покупка своего жилья', 'получение высшего образования',\n",
       "       'получение дополнительного образования', 'получение образования',\n",
       "       'приобретение автомобиля', 'профильное образование',\n",
       "       'ремонт жилью', 'свадьба', 'свой автомобиль',\n",
       "       'сделка с автомобилем', 'сделка с подержанным автомобилем',\n",
       "       'строительство жилой недвижимости', 'строительство недвижимости',\n",
       "       'строительство собственной недвижимости', 'сыграть свадьбу'],\n",
       "      dtype=object)"
      ]
     },
     "execution_count": 24,
     "metadata": {},
     "output_type": "execute_result"
    }
   ],
   "source": [
    "purpose_name = df['purpose'].sort_values().unique() \n",
    "purpose_name # Просмотр уникальных названий столбца 'тип занятости'"
   ]
  },
  {
   "cell_type": "markdown",
   "id": "a79a3751",
   "metadata": {},
   "source": [
    "В результате просмотра уникальных названий в столбцах удалось выявить некоторые неявные дубликаты."
   ]
  },
  {
   "cell_type": "markdown",
   "id": "d7b10a86",
   "metadata": {},
   "source": [
    "В столбце `education` названия категорий образования записаны с разными регистрами. Например, 'ВЫСШЕЕ' и 'Высшее'. Чтобы избавиться от таких дубликатов, необходимо привести все к одному нижнему регистру. "
   ]
  },
  {
   "cell_type": "code",
   "execution_count": 25,
   "id": "51da0768",
   "metadata": {},
   "outputs": [],
   "source": [
    "df['education'] = df['education'].str.lower() #перевед названий столбца 'образование' в нижний регистр "
   ]
  },
  {
   "cell_type": "markdown",
   "id": "28248b94",
   "metadata": {},
   "source": [
    "Посмотрим результат."
   ]
  },
  {
   "cell_type": "code",
   "execution_count": 26,
   "id": "bd12bd1e",
   "metadata": {},
   "outputs": [
    {
     "data": {
      "text/plain": [
       "array(['высшее', 'начальное', 'неоконченное высшее', 'среднее',\n",
       "       'ученая степень'], dtype=object)"
      ]
     },
     "execution_count": 26,
     "metadata": {},
     "output_type": "execute_result"
    }
   ],
   "source": [
    "education_name = df['education'].sort_values().unique() \n",
    "education_name # Просмотр уникальных названий столбца 'образование'"
   ]
  },
  {
   "cell_type": "code",
   "execution_count": 27,
   "id": "dede0f96",
   "metadata": {},
   "outputs": [
    {
     "data": {
      "text/plain": [
       "среднее                15188\n",
       "высшее                  5251\n",
       "неоконченное высшее      744\n",
       "начальное                282\n",
       "ученая степень             6\n",
       "Name: education, dtype: int64"
      ]
     },
     "execution_count": 27,
     "metadata": {},
     "output_type": "execute_result"
    }
   ],
   "source": [
    "df['education'].value_counts() #подсчет количества уникальных значений после обработки данных"
   ]
  },
  {
   "cell_type": "markdown",
   "id": "54e541da",
   "metadata": {},
   "source": [
    "Нам удалось избавиться от неявных дубликатов в столбце 'образование'."
   ]
  },
  {
   "cell_type": "markdown",
   "id": "531daf3c",
   "metadata": {},
   "source": [
    "В столбце `purpose` одинаковые цели получения кредита записаны по разному. Например, 'получение дополнительного образования' и 'дополнительное образование'."
   ]
  },
  {
   "cell_type": "markdown",
   "id": "313b8904",
   "metadata": {},
   "source": [
    "Чтобы избавиться от таких неявных дубликатов напишем функцию replace_wrong_purpose() с двумя параметрами:\n",
    "\n",
    "* `wrong_purpose` — список дубликатов,\n",
    "* `correct_purpose` — строка с правильным значением.\n",
    "\n",
    "Функция должна исправить колонку `purpose` в таблице `df`: заменить каждое значение из списка `wrong_purpose` на значение из `correct_purpose`."
   ]
  },
  {
   "cell_type": "markdown",
   "id": "ff6787fc",
   "metadata": {},
   "source": [
    "**Вывод**: \n",
    "\n",
    "Дубликаты в столбце `education` могли возникнуть из-за зажатой клавиши CapsLock при вводе данных  в ячейку, а в столбце `purpose` из-за разного написания одной и той же цели получения кредита."
   ]
  },
  {
   "cell_type": "markdown",
   "id": "851f28d5",
   "metadata": {},
   "source": [
    "<a id='6-bullet'></a>\n",
    "### Формирование дополнительных датафреймов словарей, декомпозиция исходного датафрейма."
   ]
  },
  {
   "cell_type": "markdown",
   "id": "e9836b86",
   "metadata": {},
   "source": [
    "Создадим дополнительные датафреймы словари."
   ]
  },
  {
   "cell_type": "code",
   "execution_count": 28,
   "id": "1fc38a70",
   "metadata": {},
   "outputs": [
    {
     "data": {
      "text/html": [
       "<div>\n",
       "<style scoped>\n",
       "    .dataframe tbody tr th:only-of-type {\n",
       "        vertical-align: middle;\n",
       "    }\n",
       "\n",
       "    .dataframe tbody tr th {\n",
       "        vertical-align: top;\n",
       "    }\n",
       "\n",
       "    .dataframe thead th {\n",
       "        text-align: right;\n",
       "    }\n",
       "</style>\n",
       "<table border=\"1\" class=\"dataframe\">\n",
       "  <thead>\n",
       "    <tr style=\"text-align: right;\">\n",
       "      <th></th>\n",
       "      <th>education_id</th>\n",
       "      <th>education</th>\n",
       "    </tr>\n",
       "  </thead>\n",
       "  <tbody>\n",
       "    <tr>\n",
       "      <th>0</th>\n",
       "      <td>0</td>\n",
       "      <td>высшее</td>\n",
       "    </tr>\n",
       "    <tr>\n",
       "      <th>1</th>\n",
       "      <td>1</td>\n",
       "      <td>среднее</td>\n",
       "    </tr>\n",
       "    <tr>\n",
       "      <th>2</th>\n",
       "      <td>2</td>\n",
       "      <td>неоконченное высшее</td>\n",
       "    </tr>\n",
       "    <tr>\n",
       "      <th>3</th>\n",
       "      <td>3</td>\n",
       "      <td>начальное</td>\n",
       "    </tr>\n",
       "    <tr>\n",
       "      <th>4</th>\n",
       "      <td>4</td>\n",
       "      <td>ученая степень</td>\n",
       "    </tr>\n",
       "  </tbody>\n",
       "</table>\n",
       "</div>"
      ],
      "text/plain": [
       "   education_id            education\n",
       "0             0               высшее\n",
       "1             1              среднее\n",
       "2             2  неоконченное высшее\n",
       "3             3            начальное\n",
       "4             4       ученая степень"
      ]
     },
     "execution_count": 28,
     "metadata": {},
     "output_type": "execute_result"
    }
   ],
   "source": [
    "education_df = df[['education_id','education']] #создание новой таблицы\n",
    "education_df = education_df.drop_duplicates().reset_index(drop=True) #удаление дубликатов \n",
    "education_df"
   ]
  },
  {
   "cell_type": "code",
   "execution_count": 29,
   "id": "2aa1790b",
   "metadata": {},
   "outputs": [
    {
     "data": {
      "text/html": [
       "<div>\n",
       "<style scoped>\n",
       "    .dataframe tbody tr th:only-of-type {\n",
       "        vertical-align: middle;\n",
       "    }\n",
       "\n",
       "    .dataframe tbody tr th {\n",
       "        vertical-align: top;\n",
       "    }\n",
       "\n",
       "    .dataframe thead th {\n",
       "        text-align: right;\n",
       "    }\n",
       "</style>\n",
       "<table border=\"1\" class=\"dataframe\">\n",
       "  <thead>\n",
       "    <tr style=\"text-align: right;\">\n",
       "      <th></th>\n",
       "      <th>family_status_id</th>\n",
       "      <th>family_status</th>\n",
       "    </tr>\n",
       "  </thead>\n",
       "  <tbody>\n",
       "    <tr>\n",
       "      <th>0</th>\n",
       "      <td>0</td>\n",
       "      <td>женат / замужем</td>\n",
       "    </tr>\n",
       "    <tr>\n",
       "      <th>1</th>\n",
       "      <td>1</td>\n",
       "      <td>гражданский брак</td>\n",
       "    </tr>\n",
       "    <tr>\n",
       "      <th>2</th>\n",
       "      <td>2</td>\n",
       "      <td>вдовец / вдова</td>\n",
       "    </tr>\n",
       "    <tr>\n",
       "      <th>3</th>\n",
       "      <td>3</td>\n",
       "      <td>в разводе</td>\n",
       "    </tr>\n",
       "    <tr>\n",
       "      <th>4</th>\n",
       "      <td>4</td>\n",
       "      <td>Не женат / не замужем</td>\n",
       "    </tr>\n",
       "  </tbody>\n",
       "</table>\n",
       "</div>"
      ],
      "text/plain": [
       "   family_status_id          family_status\n",
       "0                 0        женат / замужем\n",
       "1                 1       гражданский брак\n",
       "2                 2         вдовец / вдова\n",
       "3                 3              в разводе\n",
       "4                 4  Не женат / не замужем"
      ]
     },
     "execution_count": 29,
     "metadata": {},
     "output_type": "execute_result"
    }
   ],
   "source": [
    "family_df = df[['family_status_id','family_status']] #создание новой таблицы\n",
    "family_df = family_df.drop_duplicates().reset_index(drop=True) #удаление дубликатов\n",
    "family_df"
   ]
  },
  {
   "cell_type": "markdown",
   "id": "6592db91",
   "metadata": {},
   "source": [
    "Так как у нас есть словари для столбцов `family_status` и `education`, эти столбцы можно удалить"
   ]
  },
  {
   "cell_type": "code",
   "execution_count": 30,
   "id": "0d96433c",
   "metadata": {},
   "outputs": [
    {
     "data": {
      "text/html": [
       "<div>\n",
       "<style scoped>\n",
       "    .dataframe tbody tr th:only-of-type {\n",
       "        vertical-align: middle;\n",
       "    }\n",
       "\n",
       "    .dataframe tbody tr th {\n",
       "        vertical-align: top;\n",
       "    }\n",
       "\n",
       "    .dataframe thead th {\n",
       "        text-align: right;\n",
       "    }\n",
       "</style>\n",
       "<table border=\"1\" class=\"dataframe\">\n",
       "  <thead>\n",
       "    <tr style=\"text-align: right;\">\n",
       "      <th></th>\n",
       "      <th>children</th>\n",
       "      <th>days_employed</th>\n",
       "      <th>dob_years</th>\n",
       "      <th>education_id</th>\n",
       "      <th>family_status_id</th>\n",
       "      <th>gender</th>\n",
       "      <th>income_type</th>\n",
       "      <th>debt</th>\n",
       "      <th>total_income</th>\n",
       "      <th>purpose</th>\n",
       "    </tr>\n",
       "  </thead>\n",
       "  <tbody>\n",
       "    <tr>\n",
       "      <th>0</th>\n",
       "      <td>1.0</td>\n",
       "      <td>365213.306266</td>\n",
       "      <td>42</td>\n",
       "      <td>0</td>\n",
       "      <td>0</td>\n",
       "      <td>F</td>\n",
       "      <td>сотрудник</td>\n",
       "      <td>0</td>\n",
       "      <td>253875</td>\n",
       "      <td>покупка жилья</td>\n",
       "    </tr>\n",
       "    <tr>\n",
       "      <th>1</th>\n",
       "      <td>1.0</td>\n",
       "      <td>365213.306266</td>\n",
       "      <td>36</td>\n",
       "      <td>1</td>\n",
       "      <td>0</td>\n",
       "      <td>F</td>\n",
       "      <td>сотрудник</td>\n",
       "      <td>0</td>\n",
       "      <td>112080</td>\n",
       "      <td>приобретение автомобиля</td>\n",
       "    </tr>\n",
       "    <tr>\n",
       "      <th>2</th>\n",
       "      <td>0.0</td>\n",
       "      <td>365213.306266</td>\n",
       "      <td>33</td>\n",
       "      <td>1</td>\n",
       "      <td>0</td>\n",
       "      <td>M</td>\n",
       "      <td>сотрудник</td>\n",
       "      <td>0</td>\n",
       "      <td>145885</td>\n",
       "      <td>покупка жилья</td>\n",
       "    </tr>\n",
       "    <tr>\n",
       "      <th>3</th>\n",
       "      <td>3.0</td>\n",
       "      <td>365213.306266</td>\n",
       "      <td>32</td>\n",
       "      <td>1</td>\n",
       "      <td>0</td>\n",
       "      <td>M</td>\n",
       "      <td>сотрудник</td>\n",
       "      <td>0</td>\n",
       "      <td>267628</td>\n",
       "      <td>дополнительное образование</td>\n",
       "    </tr>\n",
       "    <tr>\n",
       "      <th>4</th>\n",
       "      <td>0.0</td>\n",
       "      <td>340266.072047</td>\n",
       "      <td>53</td>\n",
       "      <td>1</td>\n",
       "      <td>1</td>\n",
       "      <td>F</td>\n",
       "      <td>пенсионер</td>\n",
       "      <td>0</td>\n",
       "      <td>158616</td>\n",
       "      <td>сыграть свадьбу</td>\n",
       "    </tr>\n",
       "    <tr>\n",
       "      <th>...</th>\n",
       "      <td>...</td>\n",
       "      <td>...</td>\n",
       "      <td>...</td>\n",
       "      <td>...</td>\n",
       "      <td>...</td>\n",
       "      <td>...</td>\n",
       "      <td>...</td>\n",
       "      <td>...</td>\n",
       "      <td>...</td>\n",
       "      <td>...</td>\n",
       "    </tr>\n",
       "    <tr>\n",
       "      <th>21466</th>\n",
       "      <td>1.0</td>\n",
       "      <td>365213.306266</td>\n",
       "      <td>43</td>\n",
       "      <td>1</td>\n",
       "      <td>1</td>\n",
       "      <td>F</td>\n",
       "      <td>компаньон</td>\n",
       "      <td>0</td>\n",
       "      <td>224791</td>\n",
       "      <td>операции с жильем</td>\n",
       "    </tr>\n",
       "    <tr>\n",
       "      <th>21467</th>\n",
       "      <td>0.0</td>\n",
       "      <td>343937.404131</td>\n",
       "      <td>67</td>\n",
       "      <td>1</td>\n",
       "      <td>0</td>\n",
       "      <td>F</td>\n",
       "      <td>пенсионер</td>\n",
       "      <td>0</td>\n",
       "      <td>155999</td>\n",
       "      <td>сделка с автомобилем</td>\n",
       "    </tr>\n",
       "    <tr>\n",
       "      <th>21468</th>\n",
       "      <td>1.0</td>\n",
       "      <td>365213.306266</td>\n",
       "      <td>38</td>\n",
       "      <td>1</td>\n",
       "      <td>1</td>\n",
       "      <td>M</td>\n",
       "      <td>сотрудник</td>\n",
       "      <td>1</td>\n",
       "      <td>89672</td>\n",
       "      <td>недвижимость</td>\n",
       "    </tr>\n",
       "    <tr>\n",
       "      <th>21469</th>\n",
       "      <td>3.0</td>\n",
       "      <td>365213.306266</td>\n",
       "      <td>38</td>\n",
       "      <td>1</td>\n",
       "      <td>0</td>\n",
       "      <td>M</td>\n",
       "      <td>сотрудник</td>\n",
       "      <td>1</td>\n",
       "      <td>244093</td>\n",
       "      <td>на покупку своего автомобиля</td>\n",
       "    </tr>\n",
       "    <tr>\n",
       "      <th>21470</th>\n",
       "      <td>2.0</td>\n",
       "      <td>365213.306266</td>\n",
       "      <td>40</td>\n",
       "      <td>1</td>\n",
       "      <td>0</td>\n",
       "      <td>F</td>\n",
       "      <td>сотрудник</td>\n",
       "      <td>0</td>\n",
       "      <td>82047</td>\n",
       "      <td>на покупку автомобиля</td>\n",
       "    </tr>\n",
       "  </tbody>\n",
       "</table>\n",
       "<p>21471 rows × 10 columns</p>\n",
       "</div>"
      ],
      "text/plain": [
       "       children  days_employed  dob_years  education_id  family_status_id  \\\n",
       "0           1.0  365213.306266         42             0                 0   \n",
       "1           1.0  365213.306266         36             1                 0   \n",
       "2           0.0  365213.306266         33             1                 0   \n",
       "3           3.0  365213.306266         32             1                 0   \n",
       "4           0.0  340266.072047         53             1                 1   \n",
       "...         ...            ...        ...           ...               ...   \n",
       "21466       1.0  365213.306266         43             1                 1   \n",
       "21467       0.0  343937.404131         67             1                 0   \n",
       "21468       1.0  365213.306266         38             1                 1   \n",
       "21469       3.0  365213.306266         38             1                 0   \n",
       "21470       2.0  365213.306266         40             1                 0   \n",
       "\n",
       "      gender income_type  debt  total_income                       purpose  \n",
       "0          F   сотрудник     0        253875                 покупка жилья  \n",
       "1          F   сотрудник     0        112080       приобретение автомобиля  \n",
       "2          M   сотрудник     0        145885                 покупка жилья  \n",
       "3          M   сотрудник     0        267628    дополнительное образование  \n",
       "4          F   пенсионер     0        158616               сыграть свадьбу  \n",
       "...      ...         ...   ...           ...                           ...  \n",
       "21466      F   компаньон     0        224791             операции с жильем  \n",
       "21467      F   пенсионер     0        155999          сделка с автомобилем  \n",
       "21468      M   сотрудник     1         89672                  недвижимость  \n",
       "21469      M   сотрудник     1        244093  на покупку своего автомобиля  \n",
       "21470      F   сотрудник     0         82047         на покупку автомобиля  \n",
       "\n",
       "[21471 rows x 10 columns]"
      ]
     },
     "execution_count": 30,
     "metadata": {},
     "output_type": "execute_result"
    }
   ],
   "source": [
    "df = df.drop(['family_status', 'education'], axis=1) #удаление столбцов\n",
    "df"
   ]
  },
  {
   "cell_type": "markdown",
   "id": "81d74170",
   "metadata": {},
   "source": [
    "<a id='7-bullet'></a>\n",
    "### Категоризация дохода."
   ]
  },
  {
   "cell_type": "markdown",
   "id": "2f27eb3b",
   "metadata": {},
   "source": [
    "Создадим функцию, которая возвращает группу по значению дохода income, используя правила:\n",
    "* 0–30000 — `E`;\n",
    "* 30001–50000 — `D`;\n",
    "* 50001–200000 — `C`;\n",
    "* 200001–1000000 — `B`;\n",
    "* 1000001 и выше — `A`\n"
   ]
  },
  {
   "cell_type": "code",
   "execution_count": 31,
   "id": "3f50058e",
   "metadata": {},
   "outputs": [],
   "source": [
    "def total_income_group(income): # создание функции для категоризации доходов клиента\n",
    "    try:\n",
    "        if income >= 0 and income <= 30000:\n",
    "            return 'E'\n",
    "        if income >= 30001 and income <= 50000:\n",
    "            return 'D'\n",
    "        if income >= 50001 and income <= 200000:\n",
    "            return 'C'\n",
    "        if income >= 200001 and income <= 1000000:\n",
    "            return 'B'\n",
    "        if income >= 1000001:\n",
    "            return 'A'\n",
    "    except:\n",
    "        return 'прочее'"
   ]
  },
  {
   "cell_type": "code",
   "execution_count": 32,
   "id": "a4f02fa0",
   "metadata": {},
   "outputs": [
    {
     "data": {
      "text/html": [
       "<div>\n",
       "<style scoped>\n",
       "    .dataframe tbody tr th:only-of-type {\n",
       "        vertical-align: middle;\n",
       "    }\n",
       "\n",
       "    .dataframe tbody tr th {\n",
       "        vertical-align: top;\n",
       "    }\n",
       "\n",
       "    .dataframe thead th {\n",
       "        text-align: right;\n",
       "    }\n",
       "</style>\n",
       "<table border=\"1\" class=\"dataframe\">\n",
       "  <thead>\n",
       "    <tr style=\"text-align: right;\">\n",
       "      <th></th>\n",
       "      <th>children</th>\n",
       "      <th>days_employed</th>\n",
       "      <th>dob_years</th>\n",
       "      <th>education_id</th>\n",
       "      <th>family_status_id</th>\n",
       "      <th>gender</th>\n",
       "      <th>income_type</th>\n",
       "      <th>debt</th>\n",
       "      <th>total_income</th>\n",
       "      <th>purpose</th>\n",
       "      <th>total_income_category</th>\n",
       "    </tr>\n",
       "  </thead>\n",
       "  <tbody>\n",
       "    <tr>\n",
       "      <th>0</th>\n",
       "      <td>1.0</td>\n",
       "      <td>365213.306266</td>\n",
       "      <td>42</td>\n",
       "      <td>0</td>\n",
       "      <td>0</td>\n",
       "      <td>F</td>\n",
       "      <td>сотрудник</td>\n",
       "      <td>0</td>\n",
       "      <td>253875</td>\n",
       "      <td>покупка жилья</td>\n",
       "      <td>B</td>\n",
       "    </tr>\n",
       "    <tr>\n",
       "      <th>1</th>\n",
       "      <td>1.0</td>\n",
       "      <td>365213.306266</td>\n",
       "      <td>36</td>\n",
       "      <td>1</td>\n",
       "      <td>0</td>\n",
       "      <td>F</td>\n",
       "      <td>сотрудник</td>\n",
       "      <td>0</td>\n",
       "      <td>112080</td>\n",
       "      <td>приобретение автомобиля</td>\n",
       "      <td>C</td>\n",
       "    </tr>\n",
       "    <tr>\n",
       "      <th>2</th>\n",
       "      <td>0.0</td>\n",
       "      <td>365213.306266</td>\n",
       "      <td>33</td>\n",
       "      <td>1</td>\n",
       "      <td>0</td>\n",
       "      <td>M</td>\n",
       "      <td>сотрудник</td>\n",
       "      <td>0</td>\n",
       "      <td>145885</td>\n",
       "      <td>покупка жилья</td>\n",
       "      <td>C</td>\n",
       "    </tr>\n",
       "    <tr>\n",
       "      <th>3</th>\n",
       "      <td>3.0</td>\n",
       "      <td>365213.306266</td>\n",
       "      <td>32</td>\n",
       "      <td>1</td>\n",
       "      <td>0</td>\n",
       "      <td>M</td>\n",
       "      <td>сотрудник</td>\n",
       "      <td>0</td>\n",
       "      <td>267628</td>\n",
       "      <td>дополнительное образование</td>\n",
       "      <td>B</td>\n",
       "    </tr>\n",
       "    <tr>\n",
       "      <th>4</th>\n",
       "      <td>0.0</td>\n",
       "      <td>340266.072047</td>\n",
       "      <td>53</td>\n",
       "      <td>1</td>\n",
       "      <td>1</td>\n",
       "      <td>F</td>\n",
       "      <td>пенсионер</td>\n",
       "      <td>0</td>\n",
       "      <td>158616</td>\n",
       "      <td>сыграть свадьбу</td>\n",
       "      <td>C</td>\n",
       "    </tr>\n",
       "    <tr>\n",
       "      <th>5</th>\n",
       "      <td>0.0</td>\n",
       "      <td>365213.306266</td>\n",
       "      <td>27</td>\n",
       "      <td>0</td>\n",
       "      <td>1</td>\n",
       "      <td>M</td>\n",
       "      <td>компаньон</td>\n",
       "      <td>0</td>\n",
       "      <td>255763</td>\n",
       "      <td>покупка жилья</td>\n",
       "      <td>B</td>\n",
       "    </tr>\n",
       "    <tr>\n",
       "      <th>6</th>\n",
       "      <td>0.0</td>\n",
       "      <td>365213.306266</td>\n",
       "      <td>43</td>\n",
       "      <td>0</td>\n",
       "      <td>0</td>\n",
       "      <td>F</td>\n",
       "      <td>компаньон</td>\n",
       "      <td>0</td>\n",
       "      <td>240525</td>\n",
       "      <td>операции с жильем</td>\n",
       "      <td>B</td>\n",
       "    </tr>\n",
       "    <tr>\n",
       "      <th>7</th>\n",
       "      <td>0.0</td>\n",
       "      <td>365213.306266</td>\n",
       "      <td>50</td>\n",
       "      <td>1</td>\n",
       "      <td>0</td>\n",
       "      <td>M</td>\n",
       "      <td>сотрудник</td>\n",
       "      <td>0</td>\n",
       "      <td>135823</td>\n",
       "      <td>образование</td>\n",
       "      <td>C</td>\n",
       "    </tr>\n",
       "    <tr>\n",
       "      <th>8</th>\n",
       "      <td>2.0</td>\n",
       "      <td>365213.306266</td>\n",
       "      <td>35</td>\n",
       "      <td>0</td>\n",
       "      <td>1</td>\n",
       "      <td>F</td>\n",
       "      <td>сотрудник</td>\n",
       "      <td>0</td>\n",
       "      <td>95856</td>\n",
       "      <td>на проведение свадьбы</td>\n",
       "      <td>C</td>\n",
       "    </tr>\n",
       "    <tr>\n",
       "      <th>9</th>\n",
       "      <td>0.0</td>\n",
       "      <td>365213.306266</td>\n",
       "      <td>41</td>\n",
       "      <td>1</td>\n",
       "      <td>0</td>\n",
       "      <td>M</td>\n",
       "      <td>сотрудник</td>\n",
       "      <td>0</td>\n",
       "      <td>144425</td>\n",
       "      <td>покупка жилья для семьи</td>\n",
       "      <td>C</td>\n",
       "    </tr>\n",
       "  </tbody>\n",
       "</table>\n",
       "</div>"
      ],
      "text/plain": [
       "   children  days_employed  dob_years  education_id  family_status_id gender  \\\n",
       "0       1.0  365213.306266         42             0                 0      F   \n",
       "1       1.0  365213.306266         36             1                 0      F   \n",
       "2       0.0  365213.306266         33             1                 0      M   \n",
       "3       3.0  365213.306266         32             1                 0      M   \n",
       "4       0.0  340266.072047         53             1                 1      F   \n",
       "5       0.0  365213.306266         27             0                 1      M   \n",
       "6       0.0  365213.306266         43             0                 0      F   \n",
       "7       0.0  365213.306266         50             1                 0      M   \n",
       "8       2.0  365213.306266         35             0                 1      F   \n",
       "9       0.0  365213.306266         41             1                 0      M   \n",
       "\n",
       "  income_type  debt  total_income                     purpose  \\\n",
       "0   сотрудник     0        253875               покупка жилья   \n",
       "1   сотрудник     0        112080     приобретение автомобиля   \n",
       "2   сотрудник     0        145885               покупка жилья   \n",
       "3   сотрудник     0        267628  дополнительное образование   \n",
       "4   пенсионер     0        158616             сыграть свадьбу   \n",
       "5   компаньон     0        255763               покупка жилья   \n",
       "6   компаньон     0        240525           операции с жильем   \n",
       "7   сотрудник     0        135823                 образование   \n",
       "8   сотрудник     0         95856       на проведение свадьбы   \n",
       "9   сотрудник     0        144425     покупка жилья для семьи   \n",
       "\n",
       "  total_income_category  \n",
       "0                     B  \n",
       "1                     C  \n",
       "2                     C  \n",
       "3                     B  \n",
       "4                     C  \n",
       "5                     B  \n",
       "6                     B  \n",
       "7                     C  \n",
       "8                     C  \n",
       "9                     C  "
      ]
     },
     "execution_count": 32,
     "metadata": {},
     "output_type": "execute_result"
    }
   ],
   "source": [
    "df['total_income_category'] = df['total_income'].apply(total_income_group) # создание нового столбца с категориями дохода клиента\n",
    "df.head(10)"
   ]
  },
  {
   "cell_type": "markdown",
   "id": "c92b7dc4",
   "metadata": {},
   "source": [
    "<a id='8-bullet'></a>\n",
    "### Категоризация целей кредита."
   ]
  },
  {
   "cell_type": "code",
   "execution_count": 33,
   "id": "b51bdd5d",
   "metadata": {},
   "outputs": [],
   "source": [
    "def purpose_group(purpose): # создание функции для категоризации целей кредита\n",
    "    try:\n",
    "        if 'автомоб' in purpose:\n",
    "            return 'операции с автомобилем'\n",
    "        if 'недвиж' in purpose or 'жиль' in purpose:\n",
    "            return 'операции с недвижимостью'\n",
    "        if 'свадьб' in purpose:\n",
    "            return 'проведение свадьбы'\n",
    "        if 'образован' in purpose:\n",
    "            return 'получение образования'\n",
    "    except:\n",
    "        return 'прочее'"
   ]
  },
  {
   "cell_type": "code",
   "execution_count": 34,
   "id": "7d254603",
   "metadata": {},
   "outputs": [
    {
     "data": {
      "text/html": [
       "<div>\n",
       "<style scoped>\n",
       "    .dataframe tbody tr th:only-of-type {\n",
       "        vertical-align: middle;\n",
       "    }\n",
       "\n",
       "    .dataframe tbody tr th {\n",
       "        vertical-align: top;\n",
       "    }\n",
       "\n",
       "    .dataframe thead th {\n",
       "        text-align: right;\n",
       "    }\n",
       "</style>\n",
       "<table border=\"1\" class=\"dataframe\">\n",
       "  <thead>\n",
       "    <tr style=\"text-align: right;\">\n",
       "      <th></th>\n",
       "      <th>children</th>\n",
       "      <th>days_employed</th>\n",
       "      <th>dob_years</th>\n",
       "      <th>education_id</th>\n",
       "      <th>family_status_id</th>\n",
       "      <th>gender</th>\n",
       "      <th>income_type</th>\n",
       "      <th>debt</th>\n",
       "      <th>total_income</th>\n",
       "      <th>purpose</th>\n",
       "      <th>total_income_category</th>\n",
       "      <th>purpose_category</th>\n",
       "    </tr>\n",
       "  </thead>\n",
       "  <tbody>\n",
       "    <tr>\n",
       "      <th>0</th>\n",
       "      <td>1.0</td>\n",
       "      <td>365213.306266</td>\n",
       "      <td>42</td>\n",
       "      <td>0</td>\n",
       "      <td>0</td>\n",
       "      <td>F</td>\n",
       "      <td>сотрудник</td>\n",
       "      <td>0</td>\n",
       "      <td>253875</td>\n",
       "      <td>покупка жилья</td>\n",
       "      <td>B</td>\n",
       "      <td>операции с недвижимостью</td>\n",
       "    </tr>\n",
       "    <tr>\n",
       "      <th>1</th>\n",
       "      <td>1.0</td>\n",
       "      <td>365213.306266</td>\n",
       "      <td>36</td>\n",
       "      <td>1</td>\n",
       "      <td>0</td>\n",
       "      <td>F</td>\n",
       "      <td>сотрудник</td>\n",
       "      <td>0</td>\n",
       "      <td>112080</td>\n",
       "      <td>приобретение автомобиля</td>\n",
       "      <td>C</td>\n",
       "      <td>операции с автомобилем</td>\n",
       "    </tr>\n",
       "    <tr>\n",
       "      <th>2</th>\n",
       "      <td>0.0</td>\n",
       "      <td>365213.306266</td>\n",
       "      <td>33</td>\n",
       "      <td>1</td>\n",
       "      <td>0</td>\n",
       "      <td>M</td>\n",
       "      <td>сотрудник</td>\n",
       "      <td>0</td>\n",
       "      <td>145885</td>\n",
       "      <td>покупка жилья</td>\n",
       "      <td>C</td>\n",
       "      <td>операции с недвижимостью</td>\n",
       "    </tr>\n",
       "    <tr>\n",
       "      <th>3</th>\n",
       "      <td>3.0</td>\n",
       "      <td>365213.306266</td>\n",
       "      <td>32</td>\n",
       "      <td>1</td>\n",
       "      <td>0</td>\n",
       "      <td>M</td>\n",
       "      <td>сотрудник</td>\n",
       "      <td>0</td>\n",
       "      <td>267628</td>\n",
       "      <td>дополнительное образование</td>\n",
       "      <td>B</td>\n",
       "      <td>получение образования</td>\n",
       "    </tr>\n",
       "    <tr>\n",
       "      <th>4</th>\n",
       "      <td>0.0</td>\n",
       "      <td>340266.072047</td>\n",
       "      <td>53</td>\n",
       "      <td>1</td>\n",
       "      <td>1</td>\n",
       "      <td>F</td>\n",
       "      <td>пенсионер</td>\n",
       "      <td>0</td>\n",
       "      <td>158616</td>\n",
       "      <td>сыграть свадьбу</td>\n",
       "      <td>C</td>\n",
       "      <td>проведение свадьбы</td>\n",
       "    </tr>\n",
       "    <tr>\n",
       "      <th>5</th>\n",
       "      <td>0.0</td>\n",
       "      <td>365213.306266</td>\n",
       "      <td>27</td>\n",
       "      <td>0</td>\n",
       "      <td>1</td>\n",
       "      <td>M</td>\n",
       "      <td>компаньон</td>\n",
       "      <td>0</td>\n",
       "      <td>255763</td>\n",
       "      <td>покупка жилья</td>\n",
       "      <td>B</td>\n",
       "      <td>операции с недвижимостью</td>\n",
       "    </tr>\n",
       "    <tr>\n",
       "      <th>6</th>\n",
       "      <td>0.0</td>\n",
       "      <td>365213.306266</td>\n",
       "      <td>43</td>\n",
       "      <td>0</td>\n",
       "      <td>0</td>\n",
       "      <td>F</td>\n",
       "      <td>компаньон</td>\n",
       "      <td>0</td>\n",
       "      <td>240525</td>\n",
       "      <td>операции с жильем</td>\n",
       "      <td>B</td>\n",
       "      <td>операции с недвижимостью</td>\n",
       "    </tr>\n",
       "    <tr>\n",
       "      <th>7</th>\n",
       "      <td>0.0</td>\n",
       "      <td>365213.306266</td>\n",
       "      <td>50</td>\n",
       "      <td>1</td>\n",
       "      <td>0</td>\n",
       "      <td>M</td>\n",
       "      <td>сотрудник</td>\n",
       "      <td>0</td>\n",
       "      <td>135823</td>\n",
       "      <td>образование</td>\n",
       "      <td>C</td>\n",
       "      <td>получение образования</td>\n",
       "    </tr>\n",
       "    <tr>\n",
       "      <th>8</th>\n",
       "      <td>2.0</td>\n",
       "      <td>365213.306266</td>\n",
       "      <td>35</td>\n",
       "      <td>0</td>\n",
       "      <td>1</td>\n",
       "      <td>F</td>\n",
       "      <td>сотрудник</td>\n",
       "      <td>0</td>\n",
       "      <td>95856</td>\n",
       "      <td>на проведение свадьбы</td>\n",
       "      <td>C</td>\n",
       "      <td>проведение свадьбы</td>\n",
       "    </tr>\n",
       "    <tr>\n",
       "      <th>9</th>\n",
       "      <td>0.0</td>\n",
       "      <td>365213.306266</td>\n",
       "      <td>41</td>\n",
       "      <td>1</td>\n",
       "      <td>0</td>\n",
       "      <td>M</td>\n",
       "      <td>сотрудник</td>\n",
       "      <td>0</td>\n",
       "      <td>144425</td>\n",
       "      <td>покупка жилья для семьи</td>\n",
       "      <td>C</td>\n",
       "      <td>операции с недвижимостью</td>\n",
       "    </tr>\n",
       "  </tbody>\n",
       "</table>\n",
       "</div>"
      ],
      "text/plain": [
       "   children  days_employed  dob_years  education_id  family_status_id gender  \\\n",
       "0       1.0  365213.306266         42             0                 0      F   \n",
       "1       1.0  365213.306266         36             1                 0      F   \n",
       "2       0.0  365213.306266         33             1                 0      M   \n",
       "3       3.0  365213.306266         32             1                 0      M   \n",
       "4       0.0  340266.072047         53             1                 1      F   \n",
       "5       0.0  365213.306266         27             0                 1      M   \n",
       "6       0.0  365213.306266         43             0                 0      F   \n",
       "7       0.0  365213.306266         50             1                 0      M   \n",
       "8       2.0  365213.306266         35             0                 1      F   \n",
       "9       0.0  365213.306266         41             1                 0      M   \n",
       "\n",
       "  income_type  debt  total_income                     purpose  \\\n",
       "0   сотрудник     0        253875               покупка жилья   \n",
       "1   сотрудник     0        112080     приобретение автомобиля   \n",
       "2   сотрудник     0        145885               покупка жилья   \n",
       "3   сотрудник     0        267628  дополнительное образование   \n",
       "4   пенсионер     0        158616             сыграть свадьбу   \n",
       "5   компаньон     0        255763               покупка жилья   \n",
       "6   компаньон     0        240525           операции с жильем   \n",
       "7   сотрудник     0        135823                 образование   \n",
       "8   сотрудник     0         95856       на проведение свадьбы   \n",
       "9   сотрудник     0        144425     покупка жилья для семьи   \n",
       "\n",
       "  total_income_category          purpose_category  \n",
       "0                     B  операции с недвижимостью  \n",
       "1                     C    операции с автомобилем  \n",
       "2                     C  операции с недвижимостью  \n",
       "3                     B     получение образования  \n",
       "4                     C        проведение свадьбы  \n",
       "5                     B  операции с недвижимостью  \n",
       "6                     B  операции с недвижимостью  \n",
       "7                     C     получение образования  \n",
       "8                     C        проведение свадьбы  \n",
       "9                     C  операции с недвижимостью  "
      ]
     },
     "execution_count": 34,
     "metadata": {},
     "output_type": "execute_result"
    }
   ],
   "source": [
    "df['purpose_category'] = df['purpose'].apply(purpose_group) # создание нового столбца с категориями дохода клиента\n",
    "df.head(10)"
   ]
  },
  {
   "cell_type": "markdown",
   "id": "d23289fd",
   "metadata": {},
   "source": [
    "## Ответы на вопросы."
   ]
  },
  {
   "cell_type": "markdown",
   "id": "3f454398",
   "metadata": {},
   "source": [
    "<a id='9-bullet'></a>\n",
    "### Вопрос 1: Есть ли зависимость между количеством детей и возвратом кредита в срок?"
   ]
  },
  {
   "cell_type": "markdown",
   "id": "0bc3147a",
   "metadata": {},
   "source": [
    "Чтобы ответить на это вопрос составим сводную таблицу, данные будут сгруппированы по столбцу `children`, а значения взяты из столбца `debt`."
   ]
  },
  {
   "cell_type": "code",
   "execution_count": 35,
   "id": "f8c9e3ce",
   "metadata": {},
   "outputs": [
    {
     "data": {
      "text/html": [
       "<div>\n",
       "<style scoped>\n",
       "    .dataframe tbody tr th:only-of-type {\n",
       "        vertical-align: middle;\n",
       "    }\n",
       "\n",
       "    .dataframe tbody tr th {\n",
       "        vertical-align: top;\n",
       "    }\n",
       "\n",
       "    .dataframe thead tr th {\n",
       "        text-align: left;\n",
       "    }\n",
       "\n",
       "    .dataframe thead tr:last-of-type th {\n",
       "        text-align: right;\n",
       "    }\n",
       "</style>\n",
       "<table border=\"1\" class=\"dataframe\">\n",
       "  <thead>\n",
       "    <tr>\n",
       "      <th></th>\n",
       "      <th>sum</th>\n",
       "      <th>count</th>\n",
       "      <th>mean</th>\n",
       "    </tr>\n",
       "    <tr>\n",
       "      <th></th>\n",
       "      <th>debt</th>\n",
       "      <th>debt</th>\n",
       "      <th>debt</th>\n",
       "    </tr>\n",
       "    <tr>\n",
       "      <th>children</th>\n",
       "      <th></th>\n",
       "      <th></th>\n",
       "      <th></th>\n",
       "    </tr>\n",
       "  </thead>\n",
       "  <tbody>\n",
       "    <tr>\n",
       "      <th>0.0</th>\n",
       "      <td>1064</td>\n",
       "      <td>14154</td>\n",
       "      <td>0.075173</td>\n",
       "    </tr>\n",
       "    <tr>\n",
       "      <th>1.0</th>\n",
       "      <td>444</td>\n",
       "      <td>4809</td>\n",
       "      <td>0.092327</td>\n",
       "    </tr>\n",
       "    <tr>\n",
       "      <th>2.0</th>\n",
       "      <td>202</td>\n",
       "      <td>2128</td>\n",
       "      <td>0.094925</td>\n",
       "    </tr>\n",
       "    <tr>\n",
       "      <th>3.0</th>\n",
       "      <td>27</td>\n",
       "      <td>330</td>\n",
       "      <td>0.081818</td>\n",
       "    </tr>\n",
       "    <tr>\n",
       "      <th>4.0</th>\n",
       "      <td>4</td>\n",
       "      <td>41</td>\n",
       "      <td>0.097561</td>\n",
       "    </tr>\n",
       "    <tr>\n",
       "      <th>5.0</th>\n",
       "      <td>0</td>\n",
       "      <td>9</td>\n",
       "      <td>0.000000</td>\n",
       "    </tr>\n",
       "  </tbody>\n",
       "</table>\n",
       "</div>"
      ],
      "text/plain": [
       "           sum  count      mean\n",
       "          debt   debt      debt\n",
       "children                       \n",
       "0.0       1064  14154  0.075173\n",
       "1.0        444   4809  0.092327\n",
       "2.0        202   2128  0.094925\n",
       "3.0         27    330  0.081818\n",
       "4.0          4     41  0.097561\n",
       "5.0          0      9  0.000000"
      ]
     },
     "execution_count": 35,
     "metadata": {},
     "output_type": "execute_result"
    }
   ],
   "source": [
    "children_data = df.pivot_table(index='children', values ='debt', aggfunc=['sum','count','mean']) # создание сводной таблицы\n",
    "children_data"
   ]
  },
  {
   "cell_type": "markdown",
   "id": "6dec1e5f",
   "metadata": {},
   "source": [
    "##### Вывод 1:"
   ]
  },
  {
   "cell_type": "markdown",
   "id": "77e982ce",
   "metadata": {},
   "source": [
    "Исходя из сводной таблицы, можно сделать вывод, что количество детей в семье влияет на возврат кредита в срок, так как с увеличением количества детей происходит увеличения значения отношения между людьми, имеющими задолженность, ко всем людям в каждой категории.\n"
   ]
  },
  {
   "cell_type": "markdown",
   "id": "f8d6f7e5",
   "metadata": {},
   "source": [
    "<a id='10-bullet'></a>\n",
    "### Вопрос 2: Есть ли зависимость между семейным положением и возвратом кредита в срок?"
   ]
  },
  {
   "cell_type": "code",
   "execution_count": 36,
   "id": "8f450078",
   "metadata": {},
   "outputs": [
    {
     "data": {
      "text/html": [
       "<div>\n",
       "<style scoped>\n",
       "    .dataframe tbody tr th:only-of-type {\n",
       "        vertical-align: middle;\n",
       "    }\n",
       "\n",
       "    .dataframe tbody tr th {\n",
       "        vertical-align: top;\n",
       "    }\n",
       "\n",
       "    .dataframe thead tr th {\n",
       "        text-align: left;\n",
       "    }\n",
       "\n",
       "    .dataframe thead tr:last-of-type th {\n",
       "        text-align: right;\n",
       "    }\n",
       "</style>\n",
       "<table border=\"1\" class=\"dataframe\">\n",
       "  <thead>\n",
       "    <tr>\n",
       "      <th></th>\n",
       "      <th>sum</th>\n",
       "      <th>count</th>\n",
       "      <th>mean</th>\n",
       "    </tr>\n",
       "    <tr>\n",
       "      <th></th>\n",
       "      <th>debt</th>\n",
       "      <th>debt</th>\n",
       "      <th>debt</th>\n",
       "    </tr>\n",
       "    <tr>\n",
       "      <th>family_status_id</th>\n",
       "      <th></th>\n",
       "      <th></th>\n",
       "      <th></th>\n",
       "    </tr>\n",
       "  </thead>\n",
       "  <tbody>\n",
       "    <tr>\n",
       "      <th>0</th>\n",
       "      <td>931</td>\n",
       "      <td>12344</td>\n",
       "      <td>0.075421</td>\n",
       "    </tr>\n",
       "    <tr>\n",
       "      <th>1</th>\n",
       "      <td>388</td>\n",
       "      <td>4163</td>\n",
       "      <td>0.093202</td>\n",
       "    </tr>\n",
       "    <tr>\n",
       "      <th>2</th>\n",
       "      <td>63</td>\n",
       "      <td>959</td>\n",
       "      <td>0.065693</td>\n",
       "    </tr>\n",
       "    <tr>\n",
       "      <th>3</th>\n",
       "      <td>85</td>\n",
       "      <td>1195</td>\n",
       "      <td>0.071130</td>\n",
       "    </tr>\n",
       "    <tr>\n",
       "      <th>4</th>\n",
       "      <td>274</td>\n",
       "      <td>2810</td>\n",
       "      <td>0.097509</td>\n",
       "    </tr>\n",
       "  </tbody>\n",
       "</table>\n",
       "</div>"
      ],
      "text/plain": [
       "                  sum  count      mean\n",
       "                 debt   debt      debt\n",
       "family_status_id                      \n",
       "0                 931  12344  0.075421\n",
       "1                 388   4163  0.093202\n",
       "2                  63    959  0.065693\n",
       "3                  85   1195  0.071130\n",
       "4                 274   2810  0.097509"
      ]
     },
     "execution_count": 36,
     "metadata": {},
     "output_type": "execute_result"
    }
   ],
   "source": [
    "family_data = df.pivot_table(index='family_status_id', values ='debt', aggfunc=['sum','count','mean']) # создание сводной таблицы\n",
    "family_data"
   ]
  },
  {
   "cell_type": "code",
   "execution_count": 37,
   "id": "8ffc73e2",
   "metadata": {},
   "outputs": [
    {
     "name": "stderr",
     "output_type": "stream",
     "text": [
      "C:\\Users\\Георгий\\AppData\\Local\\Temp\\ipykernel_27220\\2261822970.py:1: FutureWarning: merging between different levels is deprecated and will be removed in a future version. (2 levels on the left, 1 on the right)\n",
      "  family_data.merge(family_df, on='family_status_id', how='left') # слияние датасета со словарем\n"
     ]
    },
    {
     "data": {
      "text/html": [
       "<div>\n",
       "<style scoped>\n",
       "    .dataframe tbody tr th:only-of-type {\n",
       "        vertical-align: middle;\n",
       "    }\n",
       "\n",
       "    .dataframe tbody tr th {\n",
       "        vertical-align: top;\n",
       "    }\n",
       "\n",
       "    .dataframe thead th {\n",
       "        text-align: right;\n",
       "    }\n",
       "</style>\n",
       "<table border=\"1\" class=\"dataframe\">\n",
       "  <thead>\n",
       "    <tr style=\"text-align: right;\">\n",
       "      <th></th>\n",
       "      <th>family_status_id</th>\n",
       "      <th>(sum, debt)</th>\n",
       "      <th>(count, debt)</th>\n",
       "      <th>(mean, debt)</th>\n",
       "      <th>family_status</th>\n",
       "    </tr>\n",
       "  </thead>\n",
       "  <tbody>\n",
       "    <tr>\n",
       "      <th>0</th>\n",
       "      <td>0</td>\n",
       "      <td>931</td>\n",
       "      <td>12344</td>\n",
       "      <td>0.075421</td>\n",
       "      <td>женат / замужем</td>\n",
       "    </tr>\n",
       "    <tr>\n",
       "      <th>1</th>\n",
       "      <td>1</td>\n",
       "      <td>388</td>\n",
       "      <td>4163</td>\n",
       "      <td>0.093202</td>\n",
       "      <td>гражданский брак</td>\n",
       "    </tr>\n",
       "    <tr>\n",
       "      <th>2</th>\n",
       "      <td>2</td>\n",
       "      <td>63</td>\n",
       "      <td>959</td>\n",
       "      <td>0.065693</td>\n",
       "      <td>вдовец / вдова</td>\n",
       "    </tr>\n",
       "    <tr>\n",
       "      <th>3</th>\n",
       "      <td>3</td>\n",
       "      <td>85</td>\n",
       "      <td>1195</td>\n",
       "      <td>0.071130</td>\n",
       "      <td>в разводе</td>\n",
       "    </tr>\n",
       "    <tr>\n",
       "      <th>4</th>\n",
       "      <td>4</td>\n",
       "      <td>274</td>\n",
       "      <td>2810</td>\n",
       "      <td>0.097509</td>\n",
       "      <td>Не женат / не замужем</td>\n",
       "    </tr>\n",
       "  </tbody>\n",
       "</table>\n",
       "</div>"
      ],
      "text/plain": [
       "   family_status_id  (sum, debt)  (count, debt)  (mean, debt)  \\\n",
       "0                 0          931          12344      0.075421   \n",
       "1                 1          388           4163      0.093202   \n",
       "2                 2           63            959      0.065693   \n",
       "3                 3           85           1195      0.071130   \n",
       "4                 4          274           2810      0.097509   \n",
       "\n",
       "           family_status  \n",
       "0        женат / замужем  \n",
       "1       гражданский брак  \n",
       "2         вдовец / вдова  \n",
       "3              в разводе  \n",
       "4  Не женат / не замужем  "
      ]
     },
     "execution_count": 37,
     "metadata": {},
     "output_type": "execute_result"
    }
   ],
   "source": [
    "family_data.merge(family_df, on='family_status_id', how='left') # слияние датасета со словарем"
   ]
  },
  {
   "cell_type": "markdown",
   "id": "9b5e52df",
   "metadata": {},
   "source": [
    "##### Вывод 2:"
   ]
  },
  {
   "cell_type": "markdown",
   "id": "6bd38f3f",
   "metadata": {},
   "source": [
    "По сводной таблице видно, что клиенты, никогда не оформлявшие брак официально, имеют больше трудностей с возвратом кредита в срок."
   ]
  },
  {
   "cell_type": "markdown",
   "id": "3e123dcf",
   "metadata": {},
   "source": [
    "<a id='11-bullet'></a>\n",
    "### Вопрос 3: Есть ли зависимость между уровнем дохода и возвратом кредита в срок?"
   ]
  },
  {
   "cell_type": "code",
   "execution_count": 38,
   "id": "78dea4ac",
   "metadata": {
    "scrolled": false
   },
   "outputs": [
    {
     "data": {
      "text/html": [
       "<div>\n",
       "<style scoped>\n",
       "    .dataframe tbody tr th:only-of-type {\n",
       "        vertical-align: middle;\n",
       "    }\n",
       "\n",
       "    .dataframe tbody tr th {\n",
       "        vertical-align: top;\n",
       "    }\n",
       "\n",
       "    .dataframe thead tr th {\n",
       "        text-align: left;\n",
       "    }\n",
       "\n",
       "    .dataframe thead tr:last-of-type th {\n",
       "        text-align: right;\n",
       "    }\n",
       "</style>\n",
       "<table border=\"1\" class=\"dataframe\">\n",
       "  <thead>\n",
       "    <tr>\n",
       "      <th></th>\n",
       "      <th>sum</th>\n",
       "      <th>count</th>\n",
       "      <th>mean</th>\n",
       "    </tr>\n",
       "    <tr>\n",
       "      <th></th>\n",
       "      <th>debt</th>\n",
       "      <th>debt</th>\n",
       "      <th>debt</th>\n",
       "    </tr>\n",
       "    <tr>\n",
       "      <th>total_income_category</th>\n",
       "      <th></th>\n",
       "      <th></th>\n",
       "      <th></th>\n",
       "    </tr>\n",
       "  </thead>\n",
       "  <tbody>\n",
       "    <tr>\n",
       "      <th>A</th>\n",
       "      <td>2</td>\n",
       "      <td>25</td>\n",
       "      <td>0.080000</td>\n",
       "    </tr>\n",
       "    <tr>\n",
       "      <th>B</th>\n",
       "      <td>356</td>\n",
       "      <td>5041</td>\n",
       "      <td>0.070621</td>\n",
       "    </tr>\n",
       "    <tr>\n",
       "      <th>C</th>\n",
       "      <td>1360</td>\n",
       "      <td>16033</td>\n",
       "      <td>0.084825</td>\n",
       "    </tr>\n",
       "    <tr>\n",
       "      <th>D</th>\n",
       "      <td>21</td>\n",
       "      <td>350</td>\n",
       "      <td>0.060000</td>\n",
       "    </tr>\n",
       "    <tr>\n",
       "      <th>E</th>\n",
       "      <td>2</td>\n",
       "      <td>22</td>\n",
       "      <td>0.090909</td>\n",
       "    </tr>\n",
       "  </tbody>\n",
       "</table>\n",
       "</div>"
      ],
      "text/plain": [
       "                        sum  count      mean\n",
       "                       debt   debt      debt\n",
       "total_income_category                       \n",
       "A                         2     25  0.080000\n",
       "B                       356   5041  0.070621\n",
       "C                      1360  16033  0.084825\n",
       "D                        21    350  0.060000\n",
       "E                         2     22  0.090909"
      ]
     },
     "execution_count": 38,
     "metadata": {},
     "output_type": "execute_result"
    }
   ],
   "source": [
    "income_data = df.pivot_table(index='total_income_category', values ='debt', aggfunc=['sum','count','mean'])\n",
    "# создание сводной таблицы\n",
    "income_data"
   ]
  },
  {
   "cell_type": "markdown",
   "id": "822ee539",
   "metadata": {},
   "source": [
    "##### Вывод 3:"
   ]
  },
  {
   "cell_type": "markdown",
   "id": "978c8e22",
   "metadata": {},
   "source": [
    "Можно сделать вывод, что с увеличением дохода клиента, в целом, вероятность проблем с возратом кредита уменьшается."
   ]
  },
  {
   "cell_type": "markdown",
   "id": "086ee408",
   "metadata": {},
   "source": [
    "<a id='12-bullet'></a>\n",
    "### Вопрос 4: Как разные цели кредита влияют на его возврат в срок?"
   ]
  },
  {
   "cell_type": "code",
   "execution_count": 39,
   "id": "d9fed6e7",
   "metadata": {},
   "outputs": [
    {
     "data": {
      "text/html": [
       "<div>\n",
       "<style scoped>\n",
       "    .dataframe tbody tr th:only-of-type {\n",
       "        vertical-align: middle;\n",
       "    }\n",
       "\n",
       "    .dataframe tbody tr th {\n",
       "        vertical-align: top;\n",
       "    }\n",
       "\n",
       "    .dataframe thead tr th {\n",
       "        text-align: left;\n",
       "    }\n",
       "\n",
       "    .dataframe thead tr:last-of-type th {\n",
       "        text-align: right;\n",
       "    }\n",
       "</style>\n",
       "<table border=\"1\" class=\"dataframe\">\n",
       "  <thead>\n",
       "    <tr>\n",
       "      <th></th>\n",
       "      <th>sum</th>\n",
       "      <th>count</th>\n",
       "      <th>mean</th>\n",
       "    </tr>\n",
       "    <tr>\n",
       "      <th></th>\n",
       "      <th>debt</th>\n",
       "      <th>debt</th>\n",
       "      <th>debt</th>\n",
       "    </tr>\n",
       "    <tr>\n",
       "      <th>purpose_category</th>\n",
       "      <th></th>\n",
       "      <th></th>\n",
       "      <th></th>\n",
       "    </tr>\n",
       "  </thead>\n",
       "  <tbody>\n",
       "    <tr>\n",
       "      <th>операции с автомобилем</th>\n",
       "      <td>403</td>\n",
       "      <td>4308</td>\n",
       "      <td>0.093547</td>\n",
       "    </tr>\n",
       "    <tr>\n",
       "      <th>операции с недвижимостью</th>\n",
       "      <td>782</td>\n",
       "      <td>10814</td>\n",
       "      <td>0.072314</td>\n",
       "    </tr>\n",
       "    <tr>\n",
       "      <th>получение образования</th>\n",
       "      <td>370</td>\n",
       "      <td>4014</td>\n",
       "      <td>0.092177</td>\n",
       "    </tr>\n",
       "    <tr>\n",
       "      <th>проведение свадьбы</th>\n",
       "      <td>186</td>\n",
       "      <td>2335</td>\n",
       "      <td>0.079657</td>\n",
       "    </tr>\n",
       "  </tbody>\n",
       "</table>\n",
       "</div>"
      ],
      "text/plain": [
       "                          sum  count      mean\n",
       "                         debt   debt      debt\n",
       "purpose_category                              \n",
       "операции с автомобилем    403   4308  0.093547\n",
       "операции с недвижимостью  782  10814  0.072314\n",
       "получение образования     370   4014  0.092177\n",
       "проведение свадьбы        186   2335  0.079657"
      ]
     },
     "execution_count": 39,
     "metadata": {},
     "output_type": "execute_result"
    }
   ],
   "source": [
    "purpose_data = df.pivot_table(index='purpose_category', values ='debt', aggfunc=['sum','count','mean']) \n",
    "# создание сводной таблицы\n",
    "purpose_data"
   ]
  },
  {
   "cell_type": "markdown",
   "id": "77a9547d",
   "metadata": {},
   "source": [
    "Таблицы видно, что клиенты, взявшие кредит на операции с недвижимостью и проведение свадьбы, меньше имеют проблем с возратом кредите, чем те, чьи цели заключались в получении образования и проведении операций с автомобилем.  "
   ]
  },
  {
   "cell_type": "markdown",
   "id": "b0675f2b",
   "metadata": {},
   "source": [
    "## Общий вывод:"
   ]
  },
  {
   "cell_type": "markdown",
   "id": "2c015b59",
   "metadata": {},
   "source": [
    "В заключении можно сделать вывод о том, что на возврат кредита в срок влияют разные факторы:\n",
    "* Количество детей в семье\n",
    "* Семейное положение\n",
    "* Доход клиента\n",
    "* Цель получения кредита"
   ]
  }
 ],
 "metadata": {
  "ExecuteTimeLog": [
   {
    "duration": 504,
    "start_time": "2022-03-31T22:36:30.667Z"
   },
   {
    "duration": 88,
    "start_time": "2022-03-31T22:36:32.892Z"
   },
   {
    "duration": 71,
    "start_time": "2022-03-31T22:36:54.790Z"
   },
   {
    "duration": 30,
    "start_time": "2022-03-31T22:38:36.531Z"
   },
   {
    "duration": 23,
    "start_time": "2022-03-31T22:40:05.283Z"
   },
   {
    "duration": 90,
    "start_time": "2022-04-01T11:05:44.676Z"
   },
   {
    "duration": 507,
    "start_time": "2022-04-01T11:05:56.863Z"
   },
   {
    "duration": 122,
    "start_time": "2022-04-01T11:05:59.602Z"
   },
   {
    "duration": 66,
    "start_time": "2022-04-01T11:06:00.776Z"
   },
   {
    "duration": 33,
    "start_time": "2022-04-01T11:06:02.579Z"
   },
   {
    "duration": 13,
    "start_time": "2022-04-01T11:06:07.638Z"
   },
   {
    "duration": 53,
    "start_time": "2022-04-04T17:38:18.680Z"
   },
   {
    "duration": 412,
    "start_time": "2022-04-04T17:38:33.816Z"
   },
   {
    "duration": 68,
    "start_time": "2022-04-04T17:38:35.663Z"
   },
   {
    "duration": 21,
    "start_time": "2022-04-04T17:38:36.467Z"
   },
   {
    "duration": 20,
    "start_time": "2022-04-04T17:38:37.914Z"
   },
   {
    "duration": 11,
    "start_time": "2022-04-04T17:38:41.785Z"
   },
   {
    "duration": 5,
    "start_time": "2022-04-04T17:38:44.464Z"
   },
   {
    "duration": 5,
    "start_time": "2022-04-04T17:38:49.999Z"
   },
   {
    "duration": 13,
    "start_time": "2022-04-04T17:39:59.768Z"
   },
   {
    "duration": 7,
    "start_time": "2022-04-04T17:43:10.275Z"
   },
   {
    "duration": 6,
    "start_time": "2022-04-04T17:44:10.819Z"
   },
   {
    "duration": 8,
    "start_time": "2022-04-04T17:51:02.181Z"
   },
   {
    "duration": 47,
    "start_time": "2022-04-04T17:53:58.964Z"
   },
   {
    "duration": 9,
    "start_time": "2022-04-04T17:55:04.560Z"
   },
   {
    "duration": 2927,
    "start_time": "2022-04-04T17:56:15.606Z"
   },
   {
    "duration": 6,
    "start_time": "2022-04-04T17:57:08.143Z"
   },
   {
    "duration": 3,
    "start_time": "2022-04-04T19:22:58.700Z"
   },
   {
    "duration": 56,
    "start_time": "2022-04-04T19:22:59.581Z"
   },
   {
    "duration": 14,
    "start_time": "2022-04-04T19:23:00.717Z"
   },
   {
    "duration": 17,
    "start_time": "2022-04-04T19:23:01.492Z"
   },
   {
    "duration": 14,
    "start_time": "2022-04-04T19:23:03.818Z"
   },
   {
    "duration": 5,
    "start_time": "2022-04-04T19:23:04.858Z"
   },
   {
    "duration": 7,
    "start_time": "2022-04-04T19:23:05.263Z"
   },
   {
    "duration": 6,
    "start_time": "2022-04-04T19:23:07.794Z"
   },
   {
    "duration": 7,
    "start_time": "2022-04-04T19:25:55.341Z"
   },
   {
    "duration": 8,
    "start_time": "2022-04-04T19:26:04.727Z"
   },
   {
    "duration": 2185,
    "start_time": "2022-04-04T19:26:11.333Z"
   },
   {
    "duration": 5,
    "start_time": "2022-04-04T19:26:23.422Z"
   },
   {
    "duration": 2148,
    "start_time": "2022-04-04T19:26:25.304Z"
   },
   {
    "duration": 2202,
    "start_time": "2022-04-04T19:26:45.512Z"
   },
   {
    "duration": 10,
    "start_time": "2022-04-04T19:27:57.471Z"
   },
   {
    "duration": 2204,
    "start_time": "2022-04-04T19:28:03.359Z"
   },
   {
    "duration": 6,
    "start_time": "2022-04-04T19:29:37.745Z"
   },
   {
    "duration": 2089,
    "start_time": "2022-04-04T19:29:39.424Z"
   },
   {
    "duration": 402,
    "start_time": "2022-04-04T19:29:53.253Z"
   },
   {
    "duration": 72,
    "start_time": "2022-04-04T19:29:53.658Z"
   },
   {
    "duration": 22,
    "start_time": "2022-04-04T19:29:53.732Z"
   },
   {
    "duration": 16,
    "start_time": "2022-04-04T19:29:53.757Z"
   },
   {
    "duration": 31,
    "start_time": "2022-04-04T19:29:53.775Z"
   },
   {
    "duration": 8,
    "start_time": "2022-04-04T19:29:53.808Z"
   },
   {
    "duration": 14,
    "start_time": "2022-04-04T19:29:53.818Z"
   },
   {
    "duration": 2082,
    "start_time": "2022-04-04T19:29:53.834Z"
   },
   {
    "duration": 13,
    "start_time": "2022-04-04T19:29:55.932Z"
   },
   {
    "duration": 12,
    "start_time": "2022-04-04T19:35:17.911Z"
   },
   {
    "duration": 75,
    "start_time": "2022-04-04T19:37:07.650Z"
   },
   {
    "duration": 6,
    "start_time": "2022-04-04T19:45:53.636Z"
   },
   {
    "duration": 7,
    "start_time": "2022-04-04T19:46:01.359Z"
   },
   {
    "duration": 7,
    "start_time": "2022-04-04T19:46:05.892Z"
   },
   {
    "duration": 11,
    "start_time": "2022-04-04T19:46:23.293Z"
   },
   {
    "duration": 12,
    "start_time": "2022-04-04T19:46:26.563Z"
   },
   {
    "duration": 7,
    "start_time": "2022-04-04T19:47:14.287Z"
   },
   {
    "duration": 18,
    "start_time": "2022-04-04T19:47:23.699Z"
   },
   {
    "duration": 9,
    "start_time": "2022-04-04T19:47:36.755Z"
   },
   {
    "duration": 8,
    "start_time": "2022-04-04T19:47:37.455Z"
   },
   {
    "duration": 8,
    "start_time": "2022-04-04T19:47:38.235Z"
   },
   {
    "duration": 18,
    "start_time": "2022-04-04T19:47:43.979Z"
   },
   {
    "duration": 443,
    "start_time": "2022-04-04T19:48:12.689Z"
   },
   {
    "duration": 61,
    "start_time": "2022-04-04T19:48:13.135Z"
   },
   {
    "duration": 25,
    "start_time": "2022-04-04T19:48:13.201Z"
   },
   {
    "duration": 19,
    "start_time": "2022-04-04T19:48:13.228Z"
   },
   {
    "duration": 18,
    "start_time": "2022-04-04T19:48:13.249Z"
   },
   {
    "duration": 8,
    "start_time": "2022-04-04T19:48:13.300Z"
   },
   {
    "duration": 2484,
    "start_time": "2022-04-04T19:48:13.310Z"
   },
   {
    "duration": 1,
    "start_time": "2022-04-04T19:48:15.796Z"
   },
   {
    "duration": 0,
    "start_time": "2022-04-04T19:48:15.798Z"
   },
   {
    "duration": 0,
    "start_time": "2022-04-04T19:48:15.800Z"
   },
   {
    "duration": 6770,
    "start_time": "2022-04-04T19:48:41.212Z"
   },
   {
    "duration": 7,
    "start_time": "2022-04-04T19:48:47.984Z"
   },
   {
    "duration": 6,
    "start_time": "2022-04-04T19:48:48.091Z"
   },
   {
    "duration": 12,
    "start_time": "2022-04-04T19:48:57.875Z"
   },
   {
    "duration": 571,
    "start_time": "2022-04-04T19:49:20.093Z"
   },
   {
    "duration": 98,
    "start_time": "2022-04-04T19:49:20.667Z"
   },
   {
    "duration": 38,
    "start_time": "2022-04-04T19:49:20.768Z"
   },
   {
    "duration": 19,
    "start_time": "2022-04-04T19:49:20.810Z"
   },
   {
    "duration": 12,
    "start_time": "2022-04-04T19:49:20.831Z"
   },
   {
    "duration": 5,
    "start_time": "2022-04-04T19:49:20.845Z"
   },
   {
    "duration": 6731,
    "start_time": "2022-04-04T19:49:20.852Z"
   },
   {
    "duration": 7,
    "start_time": "2022-04-04T19:49:27.585Z"
   },
   {
    "duration": 7,
    "start_time": "2022-04-04T19:49:27.602Z"
   },
   {
    "duration": 15,
    "start_time": "2022-04-04T19:49:27.611Z"
   },
   {
    "duration": 595,
    "start_time": "2022-04-04T19:52:32.154Z"
   },
   {
    "duration": 71,
    "start_time": "2022-04-04T19:52:32.751Z"
   },
   {
    "duration": 25,
    "start_time": "2022-04-04T19:52:32.825Z"
   },
   {
    "duration": 18,
    "start_time": "2022-04-04T19:52:32.852Z"
   },
   {
    "duration": 41,
    "start_time": "2022-04-04T19:52:32.872Z"
   },
   {
    "duration": 12,
    "start_time": "2022-04-04T19:52:32.915Z"
   },
   {
    "duration": 22,
    "start_time": "2022-04-04T19:53:56.210Z"
   },
   {
    "duration": 28,
    "start_time": "2022-04-04T19:54:05.802Z"
   },
   {
    "duration": 4469,
    "start_time": "2022-04-04T19:54:05.832Z"
   },
   {
    "duration": 2045,
    "start_time": "2022-04-04T19:54:10.303Z"
   },
   {
    "duration": 6,
    "start_time": "2022-04-04T19:54:12.357Z"
   },
   {
    "duration": 447,
    "start_time": "2022-04-04T19:55:04.133Z"
   },
   {
    "duration": 62,
    "start_time": "2022-04-04T19:55:04.582Z"
   },
   {
    "duration": 22,
    "start_time": "2022-04-04T19:55:04.645Z"
   },
   {
    "duration": 41,
    "start_time": "2022-04-04T19:55:04.670Z"
   },
   {
    "duration": 11,
    "start_time": "2022-04-04T19:55:04.713Z"
   },
   {
    "duration": 6,
    "start_time": "2022-04-04T19:55:04.726Z"
   },
   {
    "duration": 97,
    "start_time": "2022-04-04T19:55:04.733Z"
   },
   {
    "duration": 0,
    "start_time": "2022-04-04T19:55:04.832Z"
   },
   {
    "duration": 0,
    "start_time": "2022-04-04T19:55:04.833Z"
   },
   {
    "duration": 0,
    "start_time": "2022-04-04T19:55:04.834Z"
   },
   {
    "duration": 4260,
    "start_time": "2022-04-04T19:56:17.549Z"
   },
   {
    "duration": 6,
    "start_time": "2022-04-04T19:56:21.811Z"
   },
   {
    "duration": 12,
    "start_time": "2022-04-04T19:56:24.988Z"
   },
   {
    "duration": 466,
    "start_time": "2022-04-04T19:56:33.991Z"
   },
   {
    "duration": 67,
    "start_time": "2022-04-04T19:56:34.459Z"
   },
   {
    "duration": 23,
    "start_time": "2022-04-04T19:56:34.528Z"
   },
   {
    "duration": 18,
    "start_time": "2022-04-04T19:56:34.554Z"
   },
   {
    "duration": 34,
    "start_time": "2022-04-04T19:56:34.574Z"
   },
   {
    "duration": 7,
    "start_time": "2022-04-04T19:56:34.610Z"
   },
   {
    "duration": 7464,
    "start_time": "2022-04-04T19:56:34.620Z"
   },
   {
    "duration": 14,
    "start_time": "2022-04-04T19:56:42.087Z"
   },
   {
    "duration": 10,
    "start_time": "2022-04-04T19:56:42.104Z"
   },
   {
    "duration": 20,
    "start_time": "2022-04-04T19:56:42.118Z"
   },
   {
    "duration": 4,
    "start_time": "2022-04-04T20:00:14.426Z"
   },
   {
    "duration": 72,
    "start_time": "2022-04-04T22:26:19.068Z"
   },
   {
    "duration": 535,
    "start_time": "2022-04-04T22:26:26.865Z"
   },
   {
    "duration": 83,
    "start_time": "2022-04-04T22:26:27.404Z"
   },
   {
    "duration": 31,
    "start_time": "2022-04-04T22:26:27.489Z"
   },
   {
    "duration": 21,
    "start_time": "2022-04-04T22:26:27.523Z"
   },
   {
    "duration": 35,
    "start_time": "2022-04-04T22:26:27.546Z"
   },
   {
    "duration": 6,
    "start_time": "2022-04-04T22:26:27.583Z"
   },
   {
    "duration": 7159,
    "start_time": "2022-04-04T22:26:27.591Z"
   },
   {
    "duration": 21,
    "start_time": "2022-04-04T22:26:34.752Z"
   },
   {
    "duration": 13,
    "start_time": "2022-04-04T22:26:34.775Z"
   },
   {
    "duration": 236,
    "start_time": "2022-04-04T22:35:20.819Z"
   },
   {
    "duration": 8,
    "start_time": "2022-04-04T22:36:27.316Z"
   },
   {
    "duration": 26,
    "start_time": "2022-04-04T22:42:46.201Z"
   },
   {
    "duration": 24,
    "start_time": "2022-04-04T22:43:50.903Z"
   },
   {
    "duration": 27,
    "start_time": "2022-04-04T22:45:27.879Z"
   },
   {
    "duration": 25,
    "start_time": "2022-04-04T22:46:19.745Z"
   },
   {
    "duration": 460,
    "start_time": "2022-04-06T09:24:18.713Z"
   },
   {
    "duration": 78,
    "start_time": "2022-04-06T09:24:19.176Z"
   },
   {
    "duration": 35,
    "start_time": "2022-04-06T09:24:19.256Z"
   },
   {
    "duration": 21,
    "start_time": "2022-04-06T09:24:19.294Z"
   },
   {
    "duration": 14,
    "start_time": "2022-04-06T09:24:19.318Z"
   },
   {
    "duration": 40,
    "start_time": "2022-04-06T09:24:19.334Z"
   },
   {
    "duration": 6584,
    "start_time": "2022-04-06T09:24:19.376Z"
   },
   {
    "duration": 13,
    "start_time": "2022-04-06T09:24:25.962Z"
   },
   {
    "duration": 39,
    "start_time": "2022-04-06T09:24:25.976Z"
   },
   {
    "duration": 16,
    "start_time": "2022-04-06T09:24:26.017Z"
   },
   {
    "duration": 52,
    "start_time": "2022-04-06T09:24:26.035Z"
   },
   {
    "duration": 27,
    "start_time": "2022-04-06T09:24:26.090Z"
   },
   {
    "duration": 26,
    "start_time": "2022-04-06T09:24:26.119Z"
   },
   {
    "duration": 21,
    "start_time": "2022-04-06T09:29:47.273Z"
   },
   {
    "duration": 32,
    "start_time": "2022-04-06T09:30:05.993Z"
   },
   {
    "duration": 19,
    "start_time": "2022-04-06T09:32:41.258Z"
   },
   {
    "duration": 20,
    "start_time": "2022-04-06T09:34:01.715Z"
   },
   {
    "duration": 20,
    "start_time": "2022-04-06T09:34:51.726Z"
   },
   {
    "duration": 25,
    "start_time": "2022-04-06T09:35:52.863Z"
   },
   {
    "duration": 16,
    "start_time": "2022-04-06T09:50:10.799Z"
   },
   {
    "duration": 43,
    "start_time": "2022-04-06T09:50:30.937Z"
   },
   {
    "duration": 583,
    "start_time": "2022-04-06T09:50:45.601Z"
   },
   {
    "duration": 75,
    "start_time": "2022-04-06T09:50:46.186Z"
   },
   {
    "duration": 39,
    "start_time": "2022-04-06T09:50:46.263Z"
   },
   {
    "duration": 26,
    "start_time": "2022-04-06T09:50:46.304Z"
   },
   {
    "duration": 50,
    "start_time": "2022-04-06T09:50:46.334Z"
   },
   {
    "duration": 7,
    "start_time": "2022-04-06T09:50:46.387Z"
   },
   {
    "duration": 8422,
    "start_time": "2022-04-06T09:50:46.397Z"
   },
   {
    "duration": 6,
    "start_time": "2022-04-06T09:50:54.821Z"
   },
   {
    "duration": 21,
    "start_time": "2022-04-06T09:50:54.829Z"
   },
   {
    "duration": 22,
    "start_time": "2022-04-06T09:50:54.853Z"
   },
   {
    "duration": 30,
    "start_time": "2022-04-06T09:50:54.877Z"
   },
   {
    "duration": 29,
    "start_time": "2022-04-06T09:50:54.909Z"
   },
   {
    "duration": 55,
    "start_time": "2022-04-06T09:50:54.940Z"
   },
   {
    "duration": 19,
    "start_time": "2022-04-06T09:50:55.000Z"
   },
   {
    "duration": 39,
    "start_time": "2022-04-06T09:50:55.022Z"
   },
   {
    "duration": 27,
    "start_time": "2022-04-06T09:50:55.063Z"
   },
   {
    "duration": 25,
    "start_time": "2022-04-06T09:50:55.092Z"
   },
   {
    "duration": 31,
    "start_time": "2022-04-06T09:50:55.119Z"
   },
   {
    "duration": 31,
    "start_time": "2022-04-06T09:50:55.152Z"
   },
   {
    "duration": 34,
    "start_time": "2022-04-06T09:50:55.185Z"
   },
   {
    "duration": 10,
    "start_time": "2022-04-06T09:51:41.240Z"
   },
   {
    "duration": 4,
    "start_time": "2022-04-06T09:52:05.285Z"
   },
   {
    "duration": 503,
    "start_time": "2022-04-06T09:52:13.123Z"
   },
   {
    "duration": 76,
    "start_time": "2022-04-06T09:52:13.629Z"
   },
   {
    "duration": 32,
    "start_time": "2022-04-06T09:52:13.707Z"
   },
   {
    "duration": 37,
    "start_time": "2022-04-06T09:52:13.743Z"
   },
   {
    "duration": 15,
    "start_time": "2022-04-06T09:52:13.783Z"
   },
   {
    "duration": 28,
    "start_time": "2022-04-06T09:52:13.801Z"
   },
   {
    "duration": 6676,
    "start_time": "2022-04-06T09:52:13.831Z"
   },
   {
    "duration": 5,
    "start_time": "2022-04-06T09:52:20.509Z"
   },
   {
    "duration": 31,
    "start_time": "2022-04-06T09:52:20.516Z"
   },
   {
    "duration": 33,
    "start_time": "2022-04-06T09:52:20.550Z"
   },
   {
    "duration": 48,
    "start_time": "2022-04-06T09:52:20.585Z"
   },
   {
    "duration": 29,
    "start_time": "2022-04-06T09:52:20.635Z"
   },
   {
    "duration": 26,
    "start_time": "2022-04-06T09:52:20.666Z"
   },
   {
    "duration": 20,
    "start_time": "2022-04-06T09:52:20.694Z"
   },
   {
    "duration": 20,
    "start_time": "2022-04-06T09:52:20.715Z"
   },
   {
    "duration": 39,
    "start_time": "2022-04-06T09:52:20.737Z"
   },
   {
    "duration": 27,
    "start_time": "2022-04-06T09:52:20.778Z"
   },
   {
    "duration": 26,
    "start_time": "2022-04-06T09:52:20.808Z"
   },
   {
    "duration": 44,
    "start_time": "2022-04-06T09:52:20.837Z"
   },
   {
    "duration": 4,
    "start_time": "2022-04-06T09:52:20.884Z"
   },
   {
    "duration": 16,
    "start_time": "2022-04-06T09:52:20.890Z"
   },
   {
    "duration": 16,
    "start_time": "2022-04-06T09:53:23.445Z"
   },
   {
    "duration": 27,
    "start_time": "2022-04-06T09:53:24.853Z"
   },
   {
    "duration": 10,
    "start_time": "2022-04-06T09:53:41.360Z"
   },
   {
    "duration": 4,
    "start_time": "2022-04-06T10:16:03.687Z"
   },
   {
    "duration": 19,
    "start_time": "2022-04-06T10:21:48.144Z"
   },
   {
    "duration": 18,
    "start_time": "2022-04-06T10:25:37.290Z"
   },
   {
    "duration": 19,
    "start_time": "2022-04-06T10:32:02.472Z"
   },
   {
    "duration": 8,
    "start_time": "2022-04-06T10:33:58.746Z"
   },
   {
    "duration": 92,
    "start_time": "2022-04-06T10:35:12.459Z"
   },
   {
    "duration": 8,
    "start_time": "2022-04-06T10:35:21.907Z"
   },
   {
    "duration": 7,
    "start_time": "2022-04-06T10:36:59.122Z"
   },
   {
    "duration": 25,
    "start_time": "2022-04-06T10:37:53.607Z"
   },
   {
    "duration": 48,
    "start_time": "2022-04-11T12:19:11.998Z"
   },
   {
    "duration": 437,
    "start_time": "2022-04-11T12:19:21.647Z"
   },
   {
    "duration": 72,
    "start_time": "2022-04-11T12:19:22.089Z"
   },
   {
    "duration": 31,
    "start_time": "2022-04-11T12:19:22.163Z"
   },
   {
    "duration": 20,
    "start_time": "2022-04-11T12:19:22.197Z"
   },
   {
    "duration": 34,
    "start_time": "2022-04-11T12:19:22.219Z"
   },
   {
    "duration": 7,
    "start_time": "2022-04-11T12:19:22.256Z"
   },
   {
    "duration": 4128,
    "start_time": "2022-04-11T12:19:22.267Z"
   },
   {
    "duration": 5,
    "start_time": "2022-04-11T12:19:26.396Z"
   },
   {
    "duration": 15,
    "start_time": "2022-04-11T12:19:26.402Z"
   },
   {
    "duration": 8,
    "start_time": "2022-04-11T12:19:26.419Z"
   },
   {
    "duration": 31,
    "start_time": "2022-04-11T12:19:26.428Z"
   },
   {
    "duration": 17,
    "start_time": "2022-04-11T12:19:26.461Z"
   },
   {
    "duration": 17,
    "start_time": "2022-04-11T12:19:26.479Z"
   },
   {
    "duration": 15,
    "start_time": "2022-04-11T12:19:26.498Z"
   },
   {
    "duration": 35,
    "start_time": "2022-04-11T12:19:26.514Z"
   },
   {
    "duration": 21,
    "start_time": "2022-04-11T12:19:26.551Z"
   },
   {
    "duration": 15,
    "start_time": "2022-04-11T12:19:26.574Z"
   },
   {
    "duration": 15,
    "start_time": "2022-04-11T12:19:26.591Z"
   },
   {
    "duration": 42,
    "start_time": "2022-04-11T12:19:26.608Z"
   },
   {
    "duration": 12,
    "start_time": "2022-04-11T12:19:26.652Z"
   },
   {
    "duration": 25,
    "start_time": "2022-04-11T12:19:26.666Z"
   },
   {
    "duration": 10,
    "start_time": "2022-04-11T12:19:26.693Z"
   },
   {
    "duration": 4,
    "start_time": "2022-04-11T12:19:26.705Z"
   },
   {
    "duration": 17,
    "start_time": "2022-04-11T12:19:26.711Z"
   },
   {
    "duration": 11,
    "start_time": "2022-04-11T12:19:26.748Z"
   },
   {
    "duration": 17,
    "start_time": "2022-04-11T12:19:26.761Z"
   },
   {
    "duration": 5,
    "start_time": "2022-04-11T12:19:26.779Z"
   },
   {
    "duration": 8,
    "start_time": "2022-04-11T12:19:26.786Z"
   },
   {
    "duration": 7,
    "start_time": "2022-04-11T12:19:26.795Z"
   },
   {
    "duration": 20,
    "start_time": "2022-04-11T12:19:26.803Z"
   },
   {
    "duration": 5,
    "start_time": "2022-04-11T12:19:26.846Z"
   },
   {
    "duration": 11,
    "start_time": "2022-04-11T12:19:38.932Z"
   },
   {
    "duration": 11,
    "start_time": "2022-04-11T12:20:37.435Z"
   },
   {
    "duration": 23,
    "start_time": "2022-04-11T12:25:24.517Z"
   },
   {
    "duration": 411,
    "start_time": "2022-04-11T12:25:41.847Z"
   },
   {
    "duration": 57,
    "start_time": "2022-04-11T12:25:42.260Z"
   },
   {
    "duration": 18,
    "start_time": "2022-04-11T12:25:42.318Z"
   },
   {
    "duration": 20,
    "start_time": "2022-04-11T12:25:42.338Z"
   },
   {
    "duration": 16,
    "start_time": "2022-04-11T12:25:42.360Z"
   },
   {
    "duration": 5,
    "start_time": "2022-04-11T12:25:42.378Z"
   },
   {
    "duration": 3676,
    "start_time": "2022-04-11T12:25:42.385Z"
   },
   {
    "duration": 4,
    "start_time": "2022-04-11T12:25:46.063Z"
   },
   {
    "duration": 14,
    "start_time": "2022-04-11T12:25:46.068Z"
   },
   {
    "duration": 7,
    "start_time": "2022-04-11T12:25:46.084Z"
   },
   {
    "duration": 21,
    "start_time": "2022-04-11T12:25:46.093Z"
   },
   {
    "duration": 34,
    "start_time": "2022-04-11T12:25:46.116Z"
   },
   {
    "duration": 17,
    "start_time": "2022-04-11T12:25:46.152Z"
   },
   {
    "duration": 14,
    "start_time": "2022-04-11T12:25:46.171Z"
   },
   {
    "duration": 9,
    "start_time": "2022-04-11T12:25:46.187Z"
   },
   {
    "duration": 18,
    "start_time": "2022-04-11T12:25:46.198Z"
   },
   {
    "duration": 35,
    "start_time": "2022-04-11T12:25:46.217Z"
   },
   {
    "duration": 19,
    "start_time": "2022-04-11T12:25:46.254Z"
   },
   {
    "duration": 20,
    "start_time": "2022-04-11T12:25:46.275Z"
   },
   {
    "duration": 13,
    "start_time": "2022-04-11T12:25:46.297Z"
   },
   {
    "duration": 36,
    "start_time": "2022-04-11T12:25:46.312Z"
   },
   {
    "duration": 9,
    "start_time": "2022-04-11T12:25:46.350Z"
   },
   {
    "duration": 6,
    "start_time": "2022-04-11T12:25:46.360Z"
   },
   {
    "duration": 13,
    "start_time": "2022-04-11T12:25:46.367Z"
   },
   {
    "duration": 11,
    "start_time": "2022-04-11T12:25:46.382Z"
   },
   {
    "duration": 13,
    "start_time": "2022-04-11T12:25:46.394Z"
   },
   {
    "duration": 6,
    "start_time": "2022-04-11T12:25:46.408Z"
   },
   {
    "duration": 6,
    "start_time": "2022-04-11T12:25:46.448Z"
   },
   {
    "duration": 12,
    "start_time": "2022-04-11T12:25:46.456Z"
   },
   {
    "duration": 24,
    "start_time": "2022-04-11T12:25:46.470Z"
   },
   {
    "duration": 11,
    "start_time": "2022-04-11T12:25:46.496Z"
   },
   {
    "duration": 11,
    "start_time": "2022-04-11T12:25:46.508Z"
   },
   {
    "duration": 47,
    "start_time": "2022-04-11T12:25:46.521Z"
   },
   {
    "duration": 18,
    "start_time": "2022-04-11T12:26:03.545Z"
   },
   {
    "duration": 5,
    "start_time": "2022-04-11T13:31:59.999Z"
   },
   {
    "duration": 64,
    "start_time": "2022-04-11T13:32:01.588Z"
   },
   {
    "duration": 22,
    "start_time": "2022-04-11T13:32:10.652Z"
   },
   {
    "duration": 3,
    "start_time": "2022-04-11T13:40:39.722Z"
   },
   {
    "duration": 19,
    "start_time": "2022-04-11T13:41:17.117Z"
   },
   {
    "duration": 129,
    "start_time": "2022-04-11T13:58:13.901Z"
   },
   {
    "duration": 3,
    "start_time": "2022-04-11T13:58:35.961Z"
   },
   {
    "duration": 22,
    "start_time": "2022-04-11T14:01:41.080Z"
   },
   {
    "duration": 4,
    "start_time": "2022-04-11T14:01:43.297Z"
   },
   {
    "duration": 215,
    "start_time": "2022-04-11T14:01:47.339Z"
   },
   {
    "duration": 8,
    "start_time": "2022-04-11T14:04:14.226Z"
   },
   {
    "duration": 9,
    "start_time": "2022-04-11T14:07:19.339Z"
   },
   {
    "duration": 6,
    "start_time": "2022-04-11T14:08:09.425Z"
   },
   {
    "duration": 20,
    "start_time": "2022-04-11T14:09:08.090Z"
   },
   {
    "duration": 16,
    "start_time": "2022-04-11T14:09:51.251Z"
   },
   {
    "duration": 220,
    "start_time": "2022-04-11T14:11:26.787Z"
   },
   {
    "duration": 473,
    "start_time": "2022-04-11T14:13:07.347Z"
   },
   {
    "duration": 8,
    "start_time": "2022-04-11T14:13:33.924Z"
   },
   {
    "duration": 9,
    "start_time": "2022-04-11T14:14:04.652Z"
   },
   {
    "duration": 9,
    "start_time": "2022-04-11T14:16:00.563Z"
   },
   {
    "duration": 10,
    "start_time": "2022-04-11T14:16:17.026Z"
   },
   {
    "duration": 8,
    "start_time": "2022-04-11T14:16:26.509Z"
   },
   {
    "duration": 8,
    "start_time": "2022-04-11T14:16:29.724Z"
   },
   {
    "duration": 8,
    "start_time": "2022-04-11T14:24:53.143Z"
   },
   {
    "duration": 26,
    "start_time": "2022-04-11T14:35:27.810Z"
   },
   {
    "duration": 4,
    "start_time": "2022-04-11T14:46:32.404Z"
   },
   {
    "duration": 22,
    "start_time": "2022-04-11T14:46:35.232Z"
   },
   {
    "duration": 130,
    "start_time": "2022-04-11T14:47:16.405Z"
   },
   {
    "duration": 3,
    "start_time": "2022-04-11T14:47:29.486Z"
   },
   {
    "duration": 20,
    "start_time": "2022-04-11T14:47:31.534Z"
   },
   {
    "duration": 6,
    "start_time": "2022-04-11T14:48:29.105Z"
   },
   {
    "duration": 204,
    "start_time": "2022-04-11T14:48:30.832Z"
   },
   {
    "duration": 7,
    "start_time": "2022-04-11T14:48:34.200Z"
   },
   {
    "duration": 8,
    "start_time": "2022-04-11T14:48:35.790Z"
   },
   {
    "duration": 26,
    "start_time": "2022-04-11T14:57:47.643Z"
   },
   {
    "duration": 36,
    "start_time": "2022-04-11T14:58:01.017Z"
   },
   {
    "duration": 18,
    "start_time": "2022-04-11T14:58:57.561Z"
   },
   {
    "duration": 5,
    "start_time": "2022-04-11T15:00:20.490Z"
   },
   {
    "duration": 418,
    "start_time": "2022-04-11T15:02:18.108Z"
   },
   {
    "duration": 63,
    "start_time": "2022-04-11T15:02:18.528Z"
   },
   {
    "duration": 21,
    "start_time": "2022-04-11T15:02:18.592Z"
   },
   {
    "duration": 17,
    "start_time": "2022-04-11T15:02:18.614Z"
   },
   {
    "duration": 10,
    "start_time": "2022-04-11T15:02:18.647Z"
   },
   {
    "duration": 6,
    "start_time": "2022-04-11T15:02:18.659Z"
   },
   {
    "duration": 4088,
    "start_time": "2022-04-11T15:02:18.667Z"
   },
   {
    "duration": 6,
    "start_time": "2022-04-11T15:02:22.757Z"
   },
   {
    "duration": 28,
    "start_time": "2022-04-11T15:02:22.765Z"
   },
   {
    "duration": 31,
    "start_time": "2022-04-11T15:02:22.795Z"
   },
   {
    "duration": 54,
    "start_time": "2022-04-11T15:02:22.828Z"
   },
   {
    "duration": 24,
    "start_time": "2022-04-11T15:02:22.885Z"
   },
   {
    "duration": 21,
    "start_time": "2022-04-11T15:02:22.911Z"
   },
   {
    "duration": 23,
    "start_time": "2022-04-11T15:02:22.936Z"
   },
   {
    "duration": 17,
    "start_time": "2022-04-11T15:02:22.961Z"
   },
   {
    "duration": 34,
    "start_time": "2022-04-11T15:02:22.980Z"
   },
   {
    "duration": 16,
    "start_time": "2022-04-11T15:02:23.015Z"
   },
   {
    "duration": 28,
    "start_time": "2022-04-11T15:02:23.033Z"
   },
   {
    "duration": 20,
    "start_time": "2022-04-11T15:02:23.063Z"
   },
   {
    "duration": 20,
    "start_time": "2022-04-11T15:02:23.085Z"
   },
   {
    "duration": 63,
    "start_time": "2022-04-11T15:02:23.108Z"
   },
   {
    "duration": 13,
    "start_time": "2022-04-11T15:02:23.174Z"
   },
   {
    "duration": 29,
    "start_time": "2022-04-11T15:02:23.188Z"
   },
   {
    "duration": 30,
    "start_time": "2022-04-11T15:02:23.219Z"
   },
   {
    "duration": 25,
    "start_time": "2022-04-11T15:02:23.252Z"
   },
   {
    "duration": 28,
    "start_time": "2022-04-11T15:02:23.279Z"
   },
   {
    "duration": 14,
    "start_time": "2022-04-11T15:02:23.309Z"
   },
   {
    "duration": 22,
    "start_time": "2022-04-11T15:02:23.325Z"
   },
   {
    "duration": 20,
    "start_time": "2022-04-11T15:02:23.349Z"
   },
   {
    "duration": 41,
    "start_time": "2022-04-11T15:02:23.371Z"
   },
   {
    "duration": 16,
    "start_time": "2022-04-11T15:02:23.414Z"
   },
   {
    "duration": 21,
    "start_time": "2022-04-11T15:02:23.433Z"
   },
   {
    "duration": 33,
    "start_time": "2022-04-11T15:02:23.457Z"
   },
   {
    "duration": 13,
    "start_time": "2022-04-11T15:02:23.491Z"
   },
   {
    "duration": 62,
    "start_time": "2022-04-11T15:02:23.506Z"
   },
   {
    "duration": 13,
    "start_time": "2022-04-11T15:02:23.570Z"
   },
   {
    "duration": 34,
    "start_time": "2022-04-11T15:02:23.585Z"
   },
   {
    "duration": 9,
    "start_time": "2022-04-11T15:02:23.621Z"
   },
   {
    "duration": 258,
    "start_time": "2022-04-11T15:02:23.632Z"
   },
   {
    "duration": 8,
    "start_time": "2022-04-11T15:02:23.893Z"
   },
   {
    "duration": 22,
    "start_time": "2022-04-11T15:02:23.905Z"
   },
   {
    "duration": 29,
    "start_time": "2022-04-11T15:02:23.929Z"
   },
   {
    "duration": 5,
    "start_time": "2022-04-11T15:02:23.960Z"
   },
   {
    "duration": 21,
    "start_time": "2022-04-11T15:02:23.967Z"
   },
   {
    "duration": 565,
    "start_time": "2022-04-11T15:04:41.281Z"
   },
   {
    "duration": 129,
    "start_time": "2022-04-11T15:05:56.339Z"
   },
   {
    "duration": 3,
    "start_time": "2022-04-11T15:14:15.910Z"
   },
   {
    "duration": 2051,
    "start_time": "2022-04-11T15:15:14.781Z"
   },
   {
    "duration": 4,
    "start_time": "2022-04-11T15:16:01.094Z"
   },
   {
    "duration": 131,
    "start_time": "2022-04-11T15:16:03.758Z"
   },
   {
    "duration": 435,
    "start_time": "2022-04-11T15:16:23.116Z"
   },
   {
    "duration": 61,
    "start_time": "2022-04-11T15:16:23.553Z"
   },
   {
    "duration": 21,
    "start_time": "2022-04-11T15:16:23.616Z"
   },
   {
    "duration": 17,
    "start_time": "2022-04-11T15:16:23.648Z"
   },
   {
    "duration": 12,
    "start_time": "2022-04-11T15:16:23.667Z"
   },
   {
    "duration": 6,
    "start_time": "2022-04-11T15:16:23.681Z"
   },
   {
    "duration": 7,
    "start_time": "2022-04-11T15:16:23.688Z"
   },
   {
    "duration": 3894,
    "start_time": "2022-04-11T15:16:23.697Z"
   },
   {
    "duration": 5,
    "start_time": "2022-04-11T15:16:27.592Z"
   },
   {
    "duration": 13,
    "start_time": "2022-04-11T15:16:27.600Z"
   },
   {
    "duration": 4,
    "start_time": "2022-04-11T15:16:27.615Z"
   },
   {
    "duration": 42,
    "start_time": "2022-04-11T15:16:27.620Z"
   },
   {
    "duration": 20,
    "start_time": "2022-04-11T15:16:27.664Z"
   },
   {
    "duration": 17,
    "start_time": "2022-04-11T15:16:27.686Z"
   },
   {
    "duration": 45,
    "start_time": "2022-04-11T15:16:27.704Z"
   },
   {
    "duration": 11,
    "start_time": "2022-04-11T15:16:27.751Z"
   },
   {
    "duration": 18,
    "start_time": "2022-04-11T15:16:27.764Z"
   },
   {
    "duration": 14,
    "start_time": "2022-04-11T15:16:27.783Z"
   },
   {
    "duration": 50,
    "start_time": "2022-04-11T15:16:27.798Z"
   },
   {
    "duration": 22,
    "start_time": "2022-04-11T15:16:27.850Z"
   },
   {
    "duration": 19,
    "start_time": "2022-04-11T15:16:27.875Z"
   },
   {
    "duration": 61,
    "start_time": "2022-04-11T15:16:27.896Z"
   },
   {
    "duration": 12,
    "start_time": "2022-04-11T15:16:27.960Z"
   },
   {
    "duration": 5,
    "start_time": "2022-04-11T15:16:27.974Z"
   },
   {
    "duration": 21,
    "start_time": "2022-04-11T15:16:27.981Z"
   },
   {
    "duration": 15,
    "start_time": "2022-04-11T15:16:28.004Z"
   },
   {
    "duration": 40,
    "start_time": "2022-04-11T15:16:28.022Z"
   },
   {
    "duration": 7,
    "start_time": "2022-04-11T15:16:28.067Z"
   },
   {
    "duration": 8,
    "start_time": "2022-04-11T15:16:28.076Z"
   },
   {
    "duration": 6,
    "start_time": "2022-04-11T15:16:28.086Z"
   },
   {
    "duration": 58,
    "start_time": "2022-04-11T15:16:28.094Z"
   },
   {
    "duration": 16,
    "start_time": "2022-04-11T15:16:28.154Z"
   },
   {
    "duration": 16,
    "start_time": "2022-04-11T15:16:28.172Z"
   },
   {
    "duration": 25,
    "start_time": "2022-04-11T15:16:28.190Z"
   },
   {
    "duration": 32,
    "start_time": "2022-04-11T15:16:28.217Z"
   },
   {
    "duration": 35,
    "start_time": "2022-04-11T15:16:28.252Z"
   },
   {
    "duration": 5,
    "start_time": "2022-04-11T15:16:28.289Z"
   },
   {
    "duration": 21,
    "start_time": "2022-04-11T15:16:28.295Z"
   },
   {
    "duration": 5,
    "start_time": "2022-04-11T15:16:28.317Z"
   },
   {
    "duration": 236,
    "start_time": "2022-04-11T15:16:28.324Z"
   },
   {
    "duration": 7,
    "start_time": "2022-04-11T15:16:28.562Z"
   },
   {
    "duration": 9,
    "start_time": "2022-04-11T15:16:28.571Z"
   },
   {
    "duration": 23,
    "start_time": "2022-04-11T15:16:28.582Z"
   },
   {
    "duration": 4,
    "start_time": "2022-04-11T15:16:28.607Z"
   },
   {
    "duration": 48,
    "start_time": "2022-04-11T15:16:28.612Z"
   },
   {
    "duration": 661,
    "start_time": "2022-04-11T17:54:53.805Z"
   },
   {
    "duration": 455,
    "start_time": "2022-04-11T17:54:54.469Z"
   },
   {
    "duration": 52,
    "start_time": "2022-04-11T17:54:54.926Z"
   },
   {
    "duration": 29,
    "start_time": "2022-04-11T17:54:54.982Z"
   },
   {
    "duration": 28,
    "start_time": "2022-04-11T17:54:55.015Z"
   },
   {
    "duration": 31,
    "start_time": "2022-04-11T17:54:55.046Z"
   },
   {
    "duration": 18,
    "start_time": "2022-04-11T17:54:55.085Z"
   },
   {
    "duration": 8704,
    "start_time": "2022-04-11T17:54:55.106Z"
   },
   {
    "duration": 6,
    "start_time": "2022-04-11T17:55:03.813Z"
   },
   {
    "duration": 26,
    "start_time": "2022-04-11T17:55:03.823Z"
   },
   {
    "duration": 5,
    "start_time": "2022-04-11T17:55:03.851Z"
   },
   {
    "duration": 27,
    "start_time": "2022-04-11T17:55:03.859Z"
   },
   {
    "duration": 63,
    "start_time": "2022-04-11T17:55:03.888Z"
   },
   {
    "duration": 37,
    "start_time": "2022-04-11T17:55:03.953Z"
   },
   {
    "duration": 52,
    "start_time": "2022-04-11T17:55:03.993Z"
   },
   {
    "duration": 14,
    "start_time": "2022-04-11T17:55:04.048Z"
   },
   {
    "duration": 21,
    "start_time": "2022-04-11T17:55:04.064Z"
   },
   {
    "duration": 60,
    "start_time": "2022-04-11T17:55:04.087Z"
   },
   {
    "duration": 31,
    "start_time": "2022-04-11T17:55:04.150Z"
   },
   {
    "duration": 60,
    "start_time": "2022-04-11T17:55:04.184Z"
   },
   {
    "duration": 24,
    "start_time": "2022-04-11T17:55:04.246Z"
   },
   {
    "duration": 26,
    "start_time": "2022-04-11T17:55:04.273Z"
   },
   {
    "duration": 41,
    "start_time": "2022-04-11T17:55:04.302Z"
   },
   {
    "duration": 5,
    "start_time": "2022-04-11T17:55:04.345Z"
   },
   {
    "duration": 18,
    "start_time": "2022-04-11T17:55:04.352Z"
   },
   {
    "duration": 16,
    "start_time": "2022-04-11T17:55:04.372Z"
   },
   {
    "duration": 54,
    "start_time": "2022-04-11T17:55:04.391Z"
   },
   {
    "duration": 7,
    "start_time": "2022-04-11T17:55:04.450Z"
   },
   {
    "duration": 18,
    "start_time": "2022-04-11T17:55:04.459Z"
   },
   {
    "duration": 11,
    "start_time": "2022-04-11T17:55:04.479Z"
   },
   {
    "duration": 35,
    "start_time": "2022-04-11T17:55:04.492Z"
   },
   {
    "duration": 25,
    "start_time": "2022-04-11T17:55:04.530Z"
   },
   {
    "duration": 22,
    "start_time": "2022-04-11T17:55:04.558Z"
   },
   {
    "duration": 39,
    "start_time": "2022-04-11T17:55:04.582Z"
   },
   {
    "duration": 22,
    "start_time": "2022-04-11T17:55:04.623Z"
   },
   {
    "duration": 31,
    "start_time": "2022-04-11T17:55:04.648Z"
   },
   {
    "duration": 5,
    "start_time": "2022-04-11T17:55:04.682Z"
   },
   {
    "duration": 83,
    "start_time": "2022-04-11T17:55:04.690Z"
   },
   {
    "duration": 6,
    "start_time": "2022-04-11T17:55:04.775Z"
   },
   {
    "duration": 606,
    "start_time": "2022-04-11T17:55:04.783Z"
   },
   {
    "duration": 9,
    "start_time": "2022-04-11T17:55:05.392Z"
   },
   {
    "duration": 18,
    "start_time": "2022-04-11T17:55:05.404Z"
   },
   {
    "duration": 35,
    "start_time": "2022-04-11T17:55:05.444Z"
   },
   {
    "duration": 6,
    "start_time": "2022-04-11T17:55:05.481Z"
   },
   {
    "duration": 69,
    "start_time": "2022-04-11T17:55:05.490Z"
   },
   {
    "duration": 520,
    "start_time": "2022-04-11T17:59:56.981Z"
   },
   {
    "duration": 89,
    "start_time": "2022-04-11T17:59:57.504Z"
   },
   {
    "duration": 30,
    "start_time": "2022-04-11T17:59:57.596Z"
   },
   {
    "duration": 34,
    "start_time": "2022-04-11T17:59:57.628Z"
   },
   {
    "duration": 13,
    "start_time": "2022-04-11T17:59:57.665Z"
   },
   {
    "duration": 7,
    "start_time": "2022-04-11T17:59:57.681Z"
   },
   {
    "duration": 6,
    "start_time": "2022-04-11T17:59:57.690Z"
   },
   {
    "duration": 8381,
    "start_time": "2022-04-11T17:59:57.699Z"
   },
   {
    "duration": 5,
    "start_time": "2022-04-11T18:00:06.083Z"
   },
   {
    "duration": 32,
    "start_time": "2022-04-11T18:00:06.092Z"
   },
   {
    "duration": 24,
    "start_time": "2022-04-11T18:00:06.126Z"
   },
   {
    "duration": 16,
    "start_time": "2022-04-11T18:00:06.152Z"
   },
   {
    "duration": 51,
    "start_time": "2022-04-11T18:00:06.170Z"
   },
   {
    "duration": 35,
    "start_time": "2022-04-11T18:00:06.224Z"
   },
   {
    "duration": 37,
    "start_time": "2022-04-11T18:00:06.263Z"
   },
   {
    "duration": 41,
    "start_time": "2022-04-11T18:00:06.303Z"
   },
   {
    "duration": 10,
    "start_time": "2022-04-11T18:00:06.347Z"
   },
   {
    "duration": 29,
    "start_time": "2022-04-11T18:00:06.360Z"
   },
   {
    "duration": 22,
    "start_time": "2022-04-11T18:00:06.392Z"
   },
   {
    "duration": 31,
    "start_time": "2022-04-11T18:00:06.444Z"
   },
   {
    "duration": 48,
    "start_time": "2022-04-11T18:00:06.478Z"
   },
   {
    "duration": 38,
    "start_time": "2022-04-11T18:00:06.529Z"
   },
   {
    "duration": 50,
    "start_time": "2022-04-11T18:00:06.569Z"
   },
   {
    "duration": 20,
    "start_time": "2022-04-11T18:00:06.622Z"
   },
   {
    "duration": 20,
    "start_time": "2022-04-11T18:00:06.645Z"
   },
   {
    "duration": 66,
    "start_time": "2022-04-11T18:00:06.668Z"
   },
   {
    "duration": 59,
    "start_time": "2022-04-11T18:00:06.737Z"
   },
   {
    "duration": 63,
    "start_time": "2022-04-11T18:00:06.804Z"
   },
   {
    "duration": 122,
    "start_time": "2022-04-11T18:00:06.870Z"
   },
   {
    "duration": 61,
    "start_time": "2022-04-11T18:00:06.995Z"
   },
   {
    "duration": 67,
    "start_time": "2022-04-11T18:00:07.059Z"
   },
   {
    "duration": 41,
    "start_time": "2022-04-11T18:00:07.128Z"
   },
   {
    "duration": 17,
    "start_time": "2022-04-11T18:00:07.172Z"
   },
   {
    "duration": 22,
    "start_time": "2022-04-11T18:00:07.191Z"
   },
   {
    "duration": 54,
    "start_time": "2022-04-11T18:00:07.216Z"
   },
   {
    "duration": 22,
    "start_time": "2022-04-11T18:00:07.273Z"
   },
   {
    "duration": 76,
    "start_time": "2022-04-11T18:00:07.298Z"
   },
   {
    "duration": 5,
    "start_time": "2022-04-11T18:00:07.376Z"
   },
   {
    "duration": 35,
    "start_time": "2022-04-11T18:00:07.384Z"
   },
   {
    "duration": 22,
    "start_time": "2022-04-11T18:00:07.421Z"
   },
   {
    "duration": 408,
    "start_time": "2022-04-11T18:00:07.445Z"
   },
   {
    "duration": 10,
    "start_time": "2022-04-11T18:00:07.856Z"
   },
   {
    "duration": 25,
    "start_time": "2022-04-11T18:00:07.868Z"
   },
   {
    "duration": 51,
    "start_time": "2022-04-11T18:00:07.896Z"
   },
   {
    "duration": 7,
    "start_time": "2022-04-11T18:00:07.950Z"
   },
   {
    "duration": 62,
    "start_time": "2022-04-11T18:00:07.960Z"
   },
   {
    "duration": 113,
    "start_time": "2022-04-11T18:04:50.816Z"
   },
   {
    "duration": 28,
    "start_time": "2022-04-11T18:07:32.257Z"
   },
   {
    "duration": 21,
    "start_time": "2022-04-11T18:08:36.611Z"
   },
   {
    "duration": 226,
    "start_time": "2022-04-11T18:09:31.151Z"
   },
   {
    "duration": 8,
    "start_time": "2022-04-11T18:09:49.488Z"
   },
   {
    "duration": 31,
    "start_time": "2022-04-11T18:10:13.977Z"
   },
   {
    "duration": 28,
    "start_time": "2022-04-11T18:11:21.458Z"
   },
   {
    "duration": 10,
    "start_time": "2022-04-11T18:11:49.321Z"
   },
   {
    "duration": 44,
    "start_time": "2022-04-11T18:11:59.649Z"
   },
   {
    "duration": 9,
    "start_time": "2022-04-11T18:12:52.963Z"
   },
   {
    "duration": 21,
    "start_time": "2022-04-11T18:13:01.697Z"
   },
   {
    "duration": 16,
    "start_time": "2022-04-11T18:15:34.834Z"
   },
   {
    "duration": 38,
    "start_time": "2022-04-11T18:17:46.759Z"
   },
   {
    "duration": 32,
    "start_time": "2022-04-11T18:48:25.893Z"
   },
   {
    "duration": 38,
    "start_time": "2022-04-11T18:48:38.053Z"
   },
   {
    "duration": 40,
    "start_time": "2022-04-11T18:51:42.485Z"
   },
   {
    "duration": 210,
    "start_time": "2022-04-11T18:57:49.697Z"
   },
   {
    "duration": 18,
    "start_time": "2022-04-11T18:58:48.783Z"
   },
   {
    "duration": 548,
    "start_time": "2022-04-11T18:59:05.384Z"
   },
   {
    "duration": 120,
    "start_time": "2022-04-11T18:59:05.935Z"
   },
   {
    "duration": 45,
    "start_time": "2022-04-11T18:59:06.058Z"
   },
   {
    "duration": 42,
    "start_time": "2022-04-11T18:59:06.106Z"
   },
   {
    "duration": 33,
    "start_time": "2022-04-11T18:59:06.151Z"
   },
   {
    "duration": 7,
    "start_time": "2022-04-11T18:59:06.187Z"
   },
   {
    "duration": 7,
    "start_time": "2022-04-11T18:59:06.197Z"
   },
   {
    "duration": 7517,
    "start_time": "2022-04-11T18:59:06.207Z"
   },
   {
    "duration": 7,
    "start_time": "2022-04-11T18:59:13.726Z"
   },
   {
    "duration": 7,
    "start_time": "2022-04-11T18:59:13.746Z"
   },
   {
    "duration": 28,
    "start_time": "2022-04-11T18:59:13.756Z"
   },
   {
    "duration": 6,
    "start_time": "2022-04-11T18:59:13.786Z"
   },
   {
    "duration": 58,
    "start_time": "2022-04-11T18:59:13.794Z"
   },
   {
    "duration": 35,
    "start_time": "2022-04-11T18:59:13.856Z"
   },
   {
    "duration": 26,
    "start_time": "2022-04-11T18:59:13.893Z"
   },
   {
    "duration": 30,
    "start_time": "2022-04-11T18:59:13.944Z"
   },
   {
    "duration": 11,
    "start_time": "2022-04-11T18:59:13.976Z"
   },
   {
    "duration": 69,
    "start_time": "2022-04-11T18:59:13.990Z"
   },
   {
    "duration": 20,
    "start_time": "2022-04-11T18:59:14.062Z"
   },
   {
    "duration": 20,
    "start_time": "2022-04-11T18:59:14.085Z"
   },
   {
    "duration": 66,
    "start_time": "2022-04-11T18:59:14.108Z"
   },
   {
    "duration": 25,
    "start_time": "2022-04-11T18:59:14.177Z"
   },
   {
    "duration": 54,
    "start_time": "2022-04-11T18:59:14.205Z"
   },
   {
    "duration": 11,
    "start_time": "2022-04-11T18:59:14.261Z"
   },
   {
    "duration": 5,
    "start_time": "2022-04-11T18:59:14.275Z"
   },
   {
    "duration": 19,
    "start_time": "2022-04-11T18:59:14.282Z"
   },
   {
    "duration": 54,
    "start_time": "2022-04-11T18:59:14.304Z"
   },
   {
    "duration": 25,
    "start_time": "2022-04-11T18:59:14.365Z"
   },
   {
    "duration": 9,
    "start_time": "2022-04-11T18:59:14.392Z"
   },
   {
    "duration": 40,
    "start_time": "2022-04-11T18:59:14.403Z"
   },
   {
    "duration": 7,
    "start_time": "2022-04-11T18:59:14.446Z"
   },
   {
    "duration": 29,
    "start_time": "2022-04-11T18:59:14.456Z"
   },
   {
    "duration": 6,
    "start_time": "2022-04-11T18:59:14.487Z"
   },
   {
    "duration": 48,
    "start_time": "2022-04-11T18:59:14.496Z"
   },
   {
    "duration": 28,
    "start_time": "2022-04-11T18:59:14.547Z"
   },
   {
    "duration": 5,
    "start_time": "2022-04-11T18:59:14.577Z"
   },
   {
    "duration": 70,
    "start_time": "2022-04-11T18:59:14.584Z"
   },
   {
    "duration": 9,
    "start_time": "2022-04-11T18:59:14.656Z"
   },
   {
    "duration": 30,
    "start_time": "2022-04-11T18:59:14.668Z"
   },
   {
    "duration": 76,
    "start_time": "2022-04-11T18:59:14.700Z"
   },
   {
    "duration": 35,
    "start_time": "2022-04-11T18:59:14.778Z"
   },
   {
    "duration": 47,
    "start_time": "2022-04-11T18:59:14.816Z"
   },
   {
    "duration": 523,
    "start_time": "2022-04-11T19:06:08.730Z"
   },
   {
    "duration": 88,
    "start_time": "2022-04-11T19:06:09.256Z"
   },
   {
    "duration": 30,
    "start_time": "2022-04-11T19:06:09.346Z"
   },
   {
    "duration": 22,
    "start_time": "2022-04-11T19:06:09.379Z"
   },
   {
    "duration": 39,
    "start_time": "2022-04-11T19:06:09.404Z"
   },
   {
    "duration": 6,
    "start_time": "2022-04-11T19:06:09.445Z"
   },
   {
    "duration": 6,
    "start_time": "2022-04-11T19:06:09.454Z"
   },
   {
    "duration": 7090,
    "start_time": "2022-04-11T19:06:09.463Z"
   },
   {
    "duration": 8,
    "start_time": "2022-04-11T19:06:16.555Z"
   },
   {
    "duration": 5,
    "start_time": "2022-04-11T19:06:16.568Z"
   },
   {
    "duration": 15,
    "start_time": "2022-04-11T19:06:16.575Z"
   },
   {
    "duration": 6,
    "start_time": "2022-04-11T19:06:16.592Z"
   },
   {
    "duration": 77,
    "start_time": "2022-04-11T19:06:16.600Z"
   },
   {
    "duration": 40,
    "start_time": "2022-04-11T19:06:16.680Z"
   },
   {
    "duration": 44,
    "start_time": "2022-04-11T19:06:16.723Z"
   },
   {
    "duration": 22,
    "start_time": "2022-04-11T19:06:16.769Z"
   },
   {
    "duration": 11,
    "start_time": "2022-04-11T19:06:16.794Z"
   },
   {
    "duration": 26,
    "start_time": "2022-04-11T19:06:16.843Z"
   },
   {
    "duration": 20,
    "start_time": "2022-04-11T19:06:16.871Z"
   },
   {
    "duration": 59,
    "start_time": "2022-04-11T19:06:16.894Z"
   },
   {
    "duration": 38,
    "start_time": "2022-04-11T19:06:16.955Z"
   },
   {
    "duration": 16,
    "start_time": "2022-04-11T19:06:16.995Z"
   },
   {
    "duration": 54,
    "start_time": "2022-04-11T19:06:17.013Z"
   },
   {
    "duration": 11,
    "start_time": "2022-04-11T19:06:17.069Z"
   },
   {
    "duration": 7,
    "start_time": "2022-04-11T19:06:17.083Z"
   },
   {
    "duration": 57,
    "start_time": "2022-04-11T19:06:17.092Z"
   },
   {
    "duration": 19,
    "start_time": "2022-04-11T19:06:17.151Z"
   },
   {
    "duration": 20,
    "start_time": "2022-04-11T19:06:17.175Z"
   },
   {
    "duration": 8,
    "start_time": "2022-04-11T19:06:17.197Z"
   },
   {
    "duration": 49,
    "start_time": "2022-04-11T19:06:17.208Z"
   },
   {
    "duration": 9,
    "start_time": "2022-04-11T19:06:17.260Z"
   },
   {
    "duration": 40,
    "start_time": "2022-04-11T19:06:17.271Z"
   },
   {
    "duration": 178,
    "start_time": "2022-04-11T19:06:17.314Z"
   },
   {
    "duration": 0,
    "start_time": "2022-04-11T19:06:17.496Z"
   },
   {
    "duration": 0,
    "start_time": "2022-04-11T19:06:17.498Z"
   },
   {
    "duration": 0,
    "start_time": "2022-04-11T19:06:17.500Z"
   },
   {
    "duration": 0,
    "start_time": "2022-04-11T19:06:17.502Z"
   },
   {
    "duration": 0,
    "start_time": "2022-04-11T19:06:17.504Z"
   },
   {
    "duration": 0,
    "start_time": "2022-04-11T19:06:17.506Z"
   },
   {
    "duration": 0,
    "start_time": "2022-04-11T19:06:17.508Z"
   },
   {
    "duration": 0,
    "start_time": "2022-04-11T19:06:17.512Z"
   },
   {
    "duration": 0,
    "start_time": "2022-04-11T19:06:17.514Z"
   },
   {
    "duration": 484,
    "start_time": "2022-04-11T19:07:29.887Z"
   },
   {
    "duration": 80,
    "start_time": "2022-04-11T19:07:30.374Z"
   },
   {
    "duration": 30,
    "start_time": "2022-04-11T19:07:30.456Z"
   },
   {
    "duration": 58,
    "start_time": "2022-04-11T19:07:30.489Z"
   },
   {
    "duration": 71,
    "start_time": "2022-04-11T19:07:30.550Z"
   },
   {
    "duration": 8,
    "start_time": "2022-04-11T19:07:30.624Z"
   },
   {
    "duration": 10,
    "start_time": "2022-04-11T19:07:30.635Z"
   },
   {
    "duration": 7256,
    "start_time": "2022-04-11T19:07:30.647Z"
   },
   {
    "duration": 6,
    "start_time": "2022-04-11T19:07:37.906Z"
   },
   {
    "duration": 8,
    "start_time": "2022-04-11T19:07:37.916Z"
   },
   {
    "duration": 14,
    "start_time": "2022-04-11T19:07:37.945Z"
   },
   {
    "duration": 5,
    "start_time": "2022-04-11T19:07:37.962Z"
   },
   {
    "duration": 38,
    "start_time": "2022-04-11T19:07:37.969Z"
   },
   {
    "duration": 55,
    "start_time": "2022-04-11T19:07:38.009Z"
   },
   {
    "duration": 25,
    "start_time": "2022-04-11T19:07:38.066Z"
   },
   {
    "duration": 22,
    "start_time": "2022-04-11T19:07:38.093Z"
   },
   {
    "duration": 13,
    "start_time": "2022-04-11T19:07:38.144Z"
   },
   {
    "duration": 22,
    "start_time": "2022-04-11T19:07:38.159Z"
   },
   {
    "duration": 41,
    "start_time": "2022-04-11T19:07:38.183Z"
   },
   {
    "duration": 21,
    "start_time": "2022-04-11T19:07:38.243Z"
   },
   {
    "duration": 35,
    "start_time": "2022-04-11T19:07:38.267Z"
   },
   {
    "duration": 44,
    "start_time": "2022-04-11T19:07:38.304Z"
   },
   {
    "duration": 34,
    "start_time": "2022-04-11T19:07:38.350Z"
   },
   {
    "duration": 15,
    "start_time": "2022-04-11T19:07:38.386Z"
   },
   {
    "duration": 11,
    "start_time": "2022-04-11T19:07:38.404Z"
   },
   {
    "duration": 44,
    "start_time": "2022-04-11T19:07:38.417Z"
   },
   {
    "duration": 17,
    "start_time": "2022-04-11T19:07:38.463Z"
   },
   {
    "duration": 19,
    "start_time": "2022-04-11T19:07:38.485Z"
   },
   {
    "duration": 41,
    "start_time": "2022-04-11T19:07:38.506Z"
   },
   {
    "duration": 12,
    "start_time": "2022-04-11T19:07:38.550Z"
   },
   {
    "duration": 11,
    "start_time": "2022-04-11T19:07:38.564Z"
   },
   {
    "duration": 23,
    "start_time": "2022-04-11T19:07:38.577Z"
   },
   {
    "duration": 42,
    "start_time": "2022-04-11T19:07:38.602Z"
   },
   {
    "duration": 18,
    "start_time": "2022-04-11T19:07:38.647Z"
   },
   {
    "duration": 34,
    "start_time": "2022-04-11T19:07:38.667Z"
   },
   {
    "duration": 39,
    "start_time": "2022-04-11T19:07:38.704Z"
   },
   {
    "duration": 31,
    "start_time": "2022-04-11T19:07:38.745Z"
   },
   {
    "duration": 5,
    "start_time": "2022-04-11T19:07:38.779Z"
   },
   {
    "duration": 71,
    "start_time": "2022-04-11T19:07:38.787Z"
   },
   {
    "duration": 45,
    "start_time": "2022-04-11T19:07:38.861Z"
   },
   {
    "duration": 59,
    "start_time": "2022-04-11T19:07:38.908Z"
   },
   {
    "duration": 21,
    "start_time": "2022-04-11T19:07:38.970Z"
   },
   {
    "duration": 26,
    "start_time": "2022-04-11T19:08:47.326Z"
   },
   {
    "duration": 67,
    "start_time": "2022-04-11T19:13:19.908Z"
   },
   {
    "duration": 226,
    "start_time": "2022-04-11T19:16:14.038Z"
   },
   {
    "duration": 250,
    "start_time": "2022-04-11T19:16:51.494Z"
   },
   {
    "duration": 63,
    "start_time": "2022-04-11T19:17:48.870Z"
   },
   {
    "duration": 272,
    "start_time": "2022-04-11T19:18:18.440Z"
   },
   {
    "duration": 277,
    "start_time": "2022-04-11T19:19:06.626Z"
   },
   {
    "duration": 434,
    "start_time": "2022-04-11T19:19:25.802Z"
   },
   {
    "duration": 50,
    "start_time": "2022-04-11T19:21:13.221Z"
   },
   {
    "duration": 230,
    "start_time": "2022-04-11T19:21:37.477Z"
   },
   {
    "duration": 53,
    "start_time": "2022-04-11T19:25:26.283Z"
   },
   {
    "duration": 218,
    "start_time": "2022-04-11T19:25:50.125Z"
   },
   {
    "duration": 49,
    "start_time": "2022-04-11T19:26:09.310Z"
   },
   {
    "duration": 226,
    "start_time": "2022-04-11T19:26:31.532Z"
   },
   {
    "duration": 43,
    "start_time": "2022-04-11T19:26:41.309Z"
   },
   {
    "duration": 34,
    "start_time": "2022-04-11T19:35:42.346Z"
   },
   {
    "duration": 49,
    "start_time": "2022-04-11T19:35:50.359Z"
   },
   {
    "duration": 71,
    "start_time": "2022-04-11T19:44:26.615Z"
   },
   {
    "duration": 518,
    "start_time": "2022-04-11T19:46:12.609Z"
   },
   {
    "duration": 82,
    "start_time": "2022-04-11T19:46:13.131Z"
   },
   {
    "duration": 40,
    "start_time": "2022-04-11T19:46:13.216Z"
   },
   {
    "duration": 29,
    "start_time": "2022-04-11T19:46:13.262Z"
   },
   {
    "duration": 17,
    "start_time": "2022-04-11T19:46:13.295Z"
   },
   {
    "duration": 34,
    "start_time": "2022-04-11T19:46:13.315Z"
   },
   {
    "duration": 10,
    "start_time": "2022-04-11T19:46:13.352Z"
   },
   {
    "duration": 9392,
    "start_time": "2022-04-11T19:46:13.366Z"
   },
   {
    "duration": 7,
    "start_time": "2022-04-11T19:46:22.763Z"
   },
   {
    "duration": 17,
    "start_time": "2022-04-11T19:46:22.776Z"
   },
   {
    "duration": 23,
    "start_time": "2022-04-11T19:46:22.802Z"
   },
   {
    "duration": 6,
    "start_time": "2022-04-11T19:46:22.842Z"
   },
   {
    "duration": 42,
    "start_time": "2022-04-11T19:46:22.851Z"
   },
   {
    "duration": 56,
    "start_time": "2022-04-11T19:46:22.896Z"
   },
   {
    "duration": 34,
    "start_time": "2022-04-11T19:46:22.954Z"
   },
   {
    "duration": 53,
    "start_time": "2022-04-11T19:46:22.992Z"
   },
   {
    "duration": 19,
    "start_time": "2022-04-11T19:46:23.048Z"
   },
   {
    "duration": 41,
    "start_time": "2022-04-11T19:46:23.070Z"
   },
   {
    "duration": 47,
    "start_time": "2022-04-11T19:46:23.113Z"
   },
   {
    "duration": 21,
    "start_time": "2022-04-11T19:46:23.166Z"
   },
   {
    "duration": 24,
    "start_time": "2022-04-11T19:46:23.189Z"
   },
   {
    "duration": 25,
    "start_time": "2022-04-11T19:46:23.258Z"
   },
   {
    "duration": 55,
    "start_time": "2022-04-11T19:46:23.285Z"
   },
   {
    "duration": 17,
    "start_time": "2022-04-11T19:46:23.343Z"
   },
   {
    "duration": 11,
    "start_time": "2022-04-11T19:46:23.363Z"
   },
   {
    "duration": 30,
    "start_time": "2022-04-11T19:46:23.377Z"
   },
   {
    "duration": 43,
    "start_time": "2022-04-11T19:46:23.409Z"
   },
   {
    "duration": 24,
    "start_time": "2022-04-11T19:46:23.458Z"
   },
   {
    "duration": 9,
    "start_time": "2022-04-11T19:46:23.485Z"
   },
   {
    "duration": 18,
    "start_time": "2022-04-11T19:46:23.499Z"
   },
   {
    "duration": 10,
    "start_time": "2022-04-11T19:46:23.542Z"
   },
   {
    "duration": 41,
    "start_time": "2022-04-11T19:46:23.555Z"
   },
   {
    "duration": 46,
    "start_time": "2022-04-11T19:46:23.599Z"
   },
   {
    "duration": 23,
    "start_time": "2022-04-11T19:46:23.647Z"
   },
   {
    "duration": 37,
    "start_time": "2022-04-11T19:46:23.673Z"
   },
   {
    "duration": 36,
    "start_time": "2022-04-11T19:46:23.712Z"
   },
   {
    "duration": 50,
    "start_time": "2022-04-11T19:46:23.750Z"
   },
   {
    "duration": 7,
    "start_time": "2022-04-11T19:46:23.803Z"
   },
   {
    "duration": 73,
    "start_time": "2022-04-11T19:46:23.813Z"
   },
   {
    "duration": 68,
    "start_time": "2022-04-11T19:46:23.889Z"
   },
   {
    "duration": 46,
    "start_time": "2022-04-11T19:46:23.959Z"
   },
   {
    "duration": 49,
    "start_time": "2022-04-11T19:46:24.007Z"
   },
   {
    "duration": 55,
    "start_time": "2022-04-11T19:46:24.058Z"
   },
   {
    "duration": 67,
    "start_time": "2022-04-11T19:46:24.115Z"
   },
   {
    "duration": 556,
    "start_time": "2022-04-11T20:13:00.391Z"
   },
   {
    "duration": 493,
    "start_time": "2022-04-11T20:13:00.950Z"
   },
   {
    "duration": 40,
    "start_time": "2022-04-11T20:13:01.446Z"
   },
   {
    "duration": 26,
    "start_time": "2022-04-11T20:13:01.489Z"
   },
   {
    "duration": 35,
    "start_time": "2022-04-11T20:13:01.517Z"
   },
   {
    "duration": 75,
    "start_time": "2022-04-11T20:13:01.555Z"
   },
   {
    "duration": 28,
    "start_time": "2022-04-11T20:13:01.633Z"
   },
   {
    "duration": 8366,
    "start_time": "2022-04-11T20:13:01.663Z"
   },
   {
    "duration": 13,
    "start_time": "2022-04-11T20:13:10.031Z"
   },
   {
    "duration": 16,
    "start_time": "2022-04-11T20:13:10.051Z"
   },
   {
    "duration": 14,
    "start_time": "2022-04-11T20:13:10.069Z"
   },
   {
    "duration": 5,
    "start_time": "2022-04-11T20:13:10.086Z"
   },
   {
    "duration": 59,
    "start_time": "2022-04-11T20:13:10.093Z"
   },
   {
    "duration": 37,
    "start_time": "2022-04-11T20:13:10.155Z"
   },
   {
    "duration": 49,
    "start_time": "2022-04-11T20:13:10.194Z"
   },
   {
    "duration": 31,
    "start_time": "2022-04-11T20:13:10.246Z"
   },
   {
    "duration": 10,
    "start_time": "2022-04-11T20:13:10.279Z"
   },
   {
    "duration": 66,
    "start_time": "2022-04-11T20:13:10.291Z"
   },
   {
    "duration": 21,
    "start_time": "2022-04-11T20:13:10.360Z"
   },
   {
    "duration": 19,
    "start_time": "2022-04-11T20:13:10.384Z"
   },
   {
    "duration": 69,
    "start_time": "2022-04-11T20:13:10.406Z"
   },
   {
    "duration": 16,
    "start_time": "2022-04-11T20:13:10.477Z"
   },
   {
    "duration": 62,
    "start_time": "2022-04-11T20:13:10.496Z"
   },
   {
    "duration": 12,
    "start_time": "2022-04-11T20:13:10.561Z"
   },
   {
    "duration": 14,
    "start_time": "2022-04-11T20:13:10.575Z"
   },
   {
    "duration": 19,
    "start_time": "2022-04-11T20:13:10.592Z"
   },
   {
    "duration": 52,
    "start_time": "2022-04-11T20:13:10.614Z"
   },
   {
    "duration": 23,
    "start_time": "2022-04-11T20:13:10.673Z"
   },
   {
    "duration": 8,
    "start_time": "2022-04-11T20:13:10.699Z"
   },
   {
    "duration": 37,
    "start_time": "2022-04-11T20:13:10.710Z"
   },
   {
    "duration": 11,
    "start_time": "2022-04-11T20:13:10.751Z"
   },
   {
    "duration": 29,
    "start_time": "2022-04-11T20:13:10.766Z"
   },
   {
    "duration": 18,
    "start_time": "2022-04-11T20:13:10.798Z"
   },
   {
    "duration": 48,
    "start_time": "2022-04-11T20:13:10.818Z"
   },
   {
    "duration": 28,
    "start_time": "2022-04-11T20:13:10.869Z"
   },
   {
    "duration": 7,
    "start_time": "2022-04-11T20:13:10.900Z"
   },
   {
    "duration": 44,
    "start_time": "2022-04-11T20:13:10.944Z"
   },
   {
    "duration": 6,
    "start_time": "2022-04-11T20:13:10.991Z"
   },
   {
    "duration": 56,
    "start_time": "2022-04-11T20:13:11.000Z"
   },
   {
    "duration": 48,
    "start_time": "2022-04-11T20:13:11.058Z"
   },
   {
    "duration": 68,
    "start_time": "2022-04-11T20:13:11.109Z"
   },
   {
    "duration": 26,
    "start_time": "2022-04-11T20:13:11.180Z"
   },
   {
    "duration": 91,
    "start_time": "2022-04-11T20:13:11.208Z"
   },
   {
    "duration": 78,
    "start_time": "2022-04-11T20:13:11.302Z"
   },
   {
    "duration": 414,
    "start_time": "2022-04-21T15:04:24.735Z"
   },
   {
    "duration": 164,
    "start_time": "2022-04-21T15:04:25.152Z"
   },
   {
    "duration": 84,
    "start_time": "2022-04-21T15:04:25.318Z"
   },
   {
    "duration": 17,
    "start_time": "2022-04-21T15:04:25.405Z"
   },
   {
    "duration": 12,
    "start_time": "2022-04-21T15:04:25.424Z"
   },
   {
    "duration": 6,
    "start_time": "2022-04-21T15:04:25.438Z"
   },
   {
    "duration": 4,
    "start_time": "2022-04-21T15:04:25.446Z"
   },
   {
    "duration": 4117,
    "start_time": "2022-04-21T15:04:25.451Z"
   },
   {
    "duration": 4,
    "start_time": "2022-04-21T15:04:29.569Z"
   },
   {
    "duration": 16,
    "start_time": "2022-04-21T15:04:29.576Z"
   },
   {
    "duration": 10,
    "start_time": "2022-04-21T15:04:29.594Z"
   },
   {
    "duration": 3,
    "start_time": "2022-04-21T15:04:29.606Z"
   },
   {
    "duration": 20,
    "start_time": "2022-04-21T15:04:29.610Z"
   },
   {
    "duration": 20,
    "start_time": "2022-04-21T15:04:29.632Z"
   },
   {
    "duration": 46,
    "start_time": "2022-04-21T15:04:29.653Z"
   },
   {
    "duration": 15,
    "start_time": "2022-04-21T15:04:29.701Z"
   },
   {
    "duration": 7,
    "start_time": "2022-04-21T15:04:29.717Z"
   },
   {
    "duration": 17,
    "start_time": "2022-04-21T15:04:29.725Z"
   },
   {
    "duration": 15,
    "start_time": "2022-04-21T15:04:29.743Z"
   },
   {
    "duration": 45,
    "start_time": "2022-04-21T15:04:29.759Z"
   },
   {
    "duration": 17,
    "start_time": "2022-04-21T15:04:29.805Z"
   },
   {
    "duration": 11,
    "start_time": "2022-04-21T15:04:29.824Z"
   },
   {
    "duration": 22,
    "start_time": "2022-04-21T15:04:29.837Z"
   },
   {
    "duration": 33,
    "start_time": "2022-04-21T15:04:29.860Z"
   },
   {
    "duration": 3,
    "start_time": "2022-04-21T15:04:29.895Z"
   },
   {
    "duration": 15,
    "start_time": "2022-04-21T15:04:29.899Z"
   },
   {
    "duration": 11,
    "start_time": "2022-04-21T15:04:29.915Z"
   },
   {
    "duration": 13,
    "start_time": "2022-04-21T15:04:29.929Z"
   },
   {
    "duration": 5,
    "start_time": "2022-04-21T15:04:29.944Z"
   },
   {
    "duration": 13,
    "start_time": "2022-04-21T15:04:29.950Z"
   },
   {
    "duration": 29,
    "start_time": "2022-04-21T15:04:29.964Z"
   },
   {
    "duration": 20,
    "start_time": "2022-04-21T15:04:29.995Z"
   },
   {
    "duration": 12,
    "start_time": "2022-04-21T15:04:30.017Z"
   },
   {
    "duration": 12,
    "start_time": "2022-04-21T15:04:30.031Z"
   },
   {
    "duration": 24,
    "start_time": "2022-04-21T15:04:30.045Z"
   },
   {
    "duration": 26,
    "start_time": "2022-04-21T15:04:30.071Z"
   },
   {
    "duration": 49,
    "start_time": "2022-04-21T15:04:30.100Z"
   },
   {
    "duration": 13,
    "start_time": "2022-04-21T15:04:30.150Z"
   },
   {
    "duration": 38,
    "start_time": "2022-04-21T15:04:30.165Z"
   },
   {
    "duration": 38,
    "start_time": "2022-04-21T15:04:30.205Z"
   },
   {
    "duration": 23,
    "start_time": "2022-04-21T15:04:30.244Z"
   },
   {
    "duration": 24,
    "start_time": "2022-04-21T15:04:30.269Z"
   },
   {
    "duration": 26,
    "start_time": "2022-04-21T15:04:30.294Z"
   },
   {
    "duration": 37,
    "start_time": "2022-04-21T15:04:30.322Z"
   },
   {
    "duration": 2,
    "start_time": "2022-04-21T15:22:51.914Z"
   },
   {
    "duration": 60,
    "start_time": "2022-04-21T15:22:51.918Z"
   },
   {
    "duration": 14,
    "start_time": "2022-04-21T15:22:51.980Z"
   },
   {
    "duration": 19,
    "start_time": "2022-04-21T15:22:51.996Z"
   },
   {
    "duration": 11,
    "start_time": "2022-04-21T15:22:52.018Z"
   },
   {
    "duration": 5,
    "start_time": "2022-04-21T15:22:52.031Z"
   },
   {
    "duration": 4,
    "start_time": "2022-04-21T15:22:52.038Z"
   },
   {
    "duration": 4301,
    "start_time": "2022-04-21T15:22:52.044Z"
   },
   {
    "duration": 5,
    "start_time": "2022-04-21T15:22:56.347Z"
   },
   {
    "duration": 5,
    "start_time": "2022-04-21T15:22:56.354Z"
   },
   {
    "duration": 31,
    "start_time": "2022-04-21T15:22:56.361Z"
   },
   {
    "duration": 3,
    "start_time": "2022-04-21T15:22:56.394Z"
   },
   {
    "duration": 20,
    "start_time": "2022-04-21T15:22:56.400Z"
   },
   {
    "duration": 21,
    "start_time": "2022-04-21T15:22:56.421Z"
   },
   {
    "duration": 18,
    "start_time": "2022-04-21T15:22:56.443Z"
   },
   {
    "duration": 41,
    "start_time": "2022-04-21T15:22:56.462Z"
   },
   {
    "duration": 8,
    "start_time": "2022-04-21T15:22:56.504Z"
   },
   {
    "duration": 17,
    "start_time": "2022-04-21T15:22:56.513Z"
   },
   {
    "duration": 14,
    "start_time": "2022-04-21T15:22:56.532Z"
   },
   {
    "duration": 46,
    "start_time": "2022-04-21T15:22:56.547Z"
   },
   {
    "duration": 17,
    "start_time": "2022-04-21T15:22:56.595Z"
   },
   {
    "duration": 11,
    "start_time": "2022-04-21T15:22:56.614Z"
   },
   {
    "duration": 23,
    "start_time": "2022-04-21T15:22:56.627Z"
   },
   {
    "duration": 8,
    "start_time": "2022-04-21T15:22:56.651Z"
   },
   {
    "duration": 19,
    "start_time": "2022-04-21T15:22:59.117Z"
   },
   {
    "duration": 3,
    "start_time": "2022-04-21T15:23:05.669Z"
   },
   {
    "duration": 13,
    "start_time": "2022-04-21T15:23:07.594Z"
   },
   {
    "duration": 20,
    "start_time": "2022-04-21T15:23:18.936Z"
   },
   {
    "duration": 3,
    "start_time": "2022-04-21T15:23:30.302Z"
   },
   {
    "duration": 59,
    "start_time": "2022-04-21T15:23:30.307Z"
   },
   {
    "duration": 13,
    "start_time": "2022-04-21T15:23:30.367Z"
   },
   {
    "duration": 25,
    "start_time": "2022-04-21T15:23:30.382Z"
   },
   {
    "duration": 10,
    "start_time": "2022-04-21T15:23:30.409Z"
   },
   {
    "duration": 4,
    "start_time": "2022-04-21T15:23:30.421Z"
   },
   {
    "duration": 6,
    "start_time": "2022-04-21T15:23:30.426Z"
   },
   {
    "duration": 4224,
    "start_time": "2022-04-21T15:23:30.433Z"
   },
   {
    "duration": 4,
    "start_time": "2022-04-21T15:23:34.659Z"
   },
   {
    "duration": 4,
    "start_time": "2022-04-21T15:23:34.666Z"
   },
   {
    "duration": 24,
    "start_time": "2022-04-21T15:23:34.672Z"
   },
   {
    "duration": 4,
    "start_time": "2022-04-21T15:23:34.697Z"
   },
   {
    "duration": 19,
    "start_time": "2022-04-21T15:23:34.702Z"
   },
   {
    "duration": 19,
    "start_time": "2022-04-21T15:23:34.723Z"
   },
   {
    "duration": 17,
    "start_time": "2022-04-21T15:23:34.743Z"
   },
   {
    "duration": 44,
    "start_time": "2022-04-21T15:23:34.761Z"
   },
   {
    "duration": 15,
    "start_time": "2022-04-21T15:23:34.807Z"
   },
   {
    "duration": 33,
    "start_time": "2022-04-21T15:23:34.824Z"
   },
   {
    "duration": 20,
    "start_time": "2022-04-21T15:23:34.858Z"
   },
   {
    "duration": 29,
    "start_time": "2022-04-21T15:23:34.879Z"
   },
   {
    "duration": 21,
    "start_time": "2022-04-21T15:23:34.909Z"
   },
   {
    "duration": 11,
    "start_time": "2022-04-21T15:23:34.932Z"
   },
   {
    "duration": 31,
    "start_time": "2022-04-21T15:23:34.944Z"
   },
   {
    "duration": 16,
    "start_time": "2022-04-21T15:23:34.976Z"
   },
   {
    "duration": 32,
    "start_time": "2022-04-21T15:23:34.993Z"
   },
   {
    "duration": 12,
    "start_time": "2022-04-21T15:23:40.483Z"
   },
   {
    "duration": 19,
    "start_time": "2022-04-21T15:23:43.724Z"
   },
   {
    "duration": 11,
    "start_time": "2022-04-21T15:23:53.154Z"
   },
   {
    "duration": 12,
    "start_time": "2022-04-21T15:23:53.330Z"
   },
   {
    "duration": 6,
    "start_time": "2022-04-21T15:23:53.473Z"
   },
   {
    "duration": 5,
    "start_time": "2022-04-21T15:23:53.984Z"
   },
   {
    "duration": 6,
    "start_time": "2022-04-21T15:23:55.235Z"
   },
   {
    "duration": 21,
    "start_time": "2022-04-21T15:23:57.534Z"
   },
   {
    "duration": 49,
    "start_time": "2022-04-22T20:52:24.606Z"
   },
   {
    "duration": 6,
    "start_time": "2022-04-22T20:52:30.378Z"
   },
   {
    "duration": 384,
    "start_time": "2022-04-22T20:52:41.779Z"
   },
   {
    "duration": 60,
    "start_time": "2022-04-22T20:52:42.165Z"
   },
   {
    "duration": 18,
    "start_time": "2022-04-22T20:52:42.227Z"
   },
   {
    "duration": 19,
    "start_time": "2022-04-22T20:52:42.247Z"
   },
   {
    "duration": 9,
    "start_time": "2022-04-22T20:52:42.267Z"
   },
   {
    "duration": 5,
    "start_time": "2022-04-22T20:52:42.277Z"
   },
   {
    "duration": 3,
    "start_time": "2022-04-22T20:52:42.284Z"
   },
   {
    "duration": 3733,
    "start_time": "2022-04-22T20:52:42.288Z"
   },
   {
    "duration": 4,
    "start_time": "2022-04-22T20:52:46.023Z"
   },
   {
    "duration": 6,
    "start_time": "2022-04-22T20:52:46.029Z"
   },
   {
    "duration": 19,
    "start_time": "2022-04-22T20:52:46.036Z"
   },
   {
    "duration": 14,
    "start_time": "2022-04-22T20:52:46.056Z"
   },
   {
    "duration": 3,
    "start_time": "2022-04-22T20:52:46.071Z"
   },
   {
    "duration": 20,
    "start_time": "2022-04-22T20:52:46.076Z"
   },
   {
    "duration": 19,
    "start_time": "2022-04-22T20:52:46.097Z"
   },
   {
    "duration": 15,
    "start_time": "2022-04-22T20:52:46.118Z"
   },
   {
    "duration": 15,
    "start_time": "2022-04-22T20:52:46.155Z"
   },
   {
    "duration": 10,
    "start_time": "2022-04-22T20:52:46.171Z"
   },
   {
    "duration": 15,
    "start_time": "2022-04-22T20:52:46.183Z"
   },
   {
    "duration": 15,
    "start_time": "2022-04-22T20:52:46.200Z"
   },
   {
    "duration": 38,
    "start_time": "2022-04-22T20:52:46.217Z"
   },
   {
    "duration": 16,
    "start_time": "2022-04-22T20:52:46.257Z"
   },
   {
    "duration": 11,
    "start_time": "2022-04-22T20:52:46.275Z"
   },
   {
    "duration": 19,
    "start_time": "2022-04-22T20:52:46.287Z"
   },
   {
    "duration": 7,
    "start_time": "2022-04-22T20:52:46.307Z"
   },
   {
    "duration": 4,
    "start_time": "2022-04-22T20:52:46.316Z"
   },
   {
    "duration": 43,
    "start_time": "2022-04-22T20:52:46.321Z"
   },
   {
    "duration": 10,
    "start_time": "2022-04-22T20:52:46.367Z"
   },
   {
    "duration": 11,
    "start_time": "2022-04-22T20:52:46.378Z"
   },
   {
    "duration": 4,
    "start_time": "2022-04-22T20:52:46.391Z"
   },
   {
    "duration": 13,
    "start_time": "2022-04-22T20:52:46.396Z"
   },
   {
    "duration": 6,
    "start_time": "2022-04-22T20:52:46.411Z"
   },
   {
    "duration": 38,
    "start_time": "2022-04-22T20:52:46.418Z"
   },
   {
    "duration": 11,
    "start_time": "2022-04-22T20:52:46.458Z"
   },
   {
    "duration": 12,
    "start_time": "2022-04-22T20:52:46.471Z"
   },
   {
    "duration": 16,
    "start_time": "2022-04-22T20:52:46.484Z"
   },
   {
    "duration": 6,
    "start_time": "2022-04-22T20:52:46.502Z"
   },
   {
    "duration": 21,
    "start_time": "2022-04-22T20:52:46.509Z"
   },
   {
    "duration": 4,
    "start_time": "2022-04-22T20:52:46.555Z"
   },
   {
    "duration": 22,
    "start_time": "2022-04-22T20:52:46.561Z"
   },
   {
    "duration": 29,
    "start_time": "2022-04-22T20:52:46.585Z"
   },
   {
    "duration": 42,
    "start_time": "2022-04-22T20:52:46.615Z"
   },
   {
    "duration": 12,
    "start_time": "2022-04-22T20:52:46.659Z"
   },
   {
    "duration": 31,
    "start_time": "2022-04-22T20:52:46.673Z"
   },
   {
    "duration": 27,
    "start_time": "2022-04-22T20:52:46.705Z"
   },
   {
    "duration": 138,
    "start_time": "2022-04-22T20:57:18.000Z"
   },
   {
    "duration": 7,
    "start_time": "2022-04-22T20:57:43.303Z"
   },
   {
    "duration": 3,
    "start_time": "2022-04-22T20:58:53.423Z"
   },
   {
    "duration": 5,
    "start_time": "2022-04-22T20:59:06.083Z"
   },
   {
    "duration": 5,
    "start_time": "2022-04-22T20:59:45.566Z"
   },
   {
    "duration": 425,
    "start_time": "2022-04-22T20:59:51.822Z"
   },
   {
    "duration": 59,
    "start_time": "2022-04-22T20:59:52.249Z"
   },
   {
    "duration": 18,
    "start_time": "2022-04-22T20:59:52.312Z"
   },
   {
    "duration": 40,
    "start_time": "2022-04-22T20:59:52.331Z"
   },
   {
    "duration": 9,
    "start_time": "2022-04-22T20:59:52.372Z"
   },
   {
    "duration": 7,
    "start_time": "2022-04-22T20:59:52.383Z"
   },
   {
    "duration": 4,
    "start_time": "2022-04-22T20:59:52.391Z"
   },
   {
    "duration": 3734,
    "start_time": "2022-04-22T20:59:52.397Z"
   },
   {
    "duration": 4,
    "start_time": "2022-04-22T20:59:56.133Z"
   },
   {
    "duration": 17,
    "start_time": "2022-04-22T20:59:56.138Z"
   },
   {
    "duration": 3,
    "start_time": "2022-04-22T20:59:56.156Z"
   },
   {
    "duration": 8,
    "start_time": "2022-04-22T20:59:56.160Z"
   },
   {
    "duration": 10,
    "start_time": "2022-04-22T20:59:56.170Z"
   },
   {
    "duration": 3,
    "start_time": "2022-04-22T20:59:56.182Z"
   },
   {
    "duration": 18,
    "start_time": "2022-04-22T20:59:56.186Z"
   },
   {
    "duration": 18,
    "start_time": "2022-04-22T20:59:56.206Z"
   },
   {
    "duration": 41,
    "start_time": "2022-04-22T20:59:56.226Z"
   },
   {
    "duration": 15,
    "start_time": "2022-04-22T20:59:56.268Z"
   },
   {
    "duration": 7,
    "start_time": "2022-04-22T20:59:56.284Z"
   },
   {
    "duration": 16,
    "start_time": "2022-04-22T20:59:56.292Z"
   },
   {
    "duration": 15,
    "start_time": "2022-04-22T20:59:56.310Z"
   },
   {
    "duration": 16,
    "start_time": "2022-04-22T20:59:56.355Z"
   },
   {
    "duration": 17,
    "start_time": "2022-04-22T20:59:56.372Z"
   },
   {
    "duration": 10,
    "start_time": "2022-04-22T20:59:56.390Z"
   },
   {
    "duration": 22,
    "start_time": "2022-04-22T20:59:56.402Z"
   },
   {
    "duration": 8,
    "start_time": "2022-04-22T20:59:56.425Z"
   },
   {
    "duration": 3,
    "start_time": "2022-04-22T20:59:56.457Z"
   },
   {
    "duration": 13,
    "start_time": "2022-04-22T20:59:56.462Z"
   },
   {
    "duration": 11,
    "start_time": "2022-04-22T20:59:56.476Z"
   },
   {
    "duration": 12,
    "start_time": "2022-04-22T20:59:56.489Z"
   },
   {
    "duration": 5,
    "start_time": "2022-04-22T20:59:56.503Z"
   },
   {
    "duration": 7,
    "start_time": "2022-04-22T20:59:56.510Z"
   },
   {
    "duration": 39,
    "start_time": "2022-04-22T20:59:56.518Z"
   },
   {
    "duration": 17,
    "start_time": "2022-04-22T20:59:56.558Z"
   },
   {
    "duration": 13,
    "start_time": "2022-04-22T20:59:56.577Z"
   },
   {
    "duration": 11,
    "start_time": "2022-04-22T20:59:56.591Z"
   },
   {
    "duration": 16,
    "start_time": "2022-04-22T20:59:56.603Z"
   },
   {
    "duration": 34,
    "start_time": "2022-04-22T20:59:56.621Z"
   },
   {
    "duration": 20,
    "start_time": "2022-04-22T20:59:56.656Z"
   },
   {
    "duration": 8,
    "start_time": "2022-04-22T20:59:56.677Z"
   },
   {
    "duration": 24,
    "start_time": "2022-04-22T20:59:56.687Z"
   },
   {
    "duration": 26,
    "start_time": "2022-04-22T20:59:56.712Z"
   },
   {
    "duration": 34,
    "start_time": "2022-04-22T20:59:56.739Z"
   },
   {
    "duration": 11,
    "start_time": "2022-04-22T20:59:56.774Z"
   },
   {
    "duration": 24,
    "start_time": "2022-04-22T20:59:56.786Z"
   },
   {
    "duration": 46,
    "start_time": "2022-04-22T20:59:56.812Z"
   },
   {
    "duration": 4,
    "start_time": "2022-04-22T21:00:59.843Z"
   },
   {
    "duration": 4,
    "start_time": "2022-04-22T21:01:13.608Z"
   },
   {
    "duration": 5,
    "start_time": "2022-04-22T21:01:15.203Z"
   },
   {
    "duration": 4,
    "start_time": "2022-04-22T21:01:31.434Z"
   },
   {
    "duration": 5,
    "start_time": "2022-04-22T21:01:33.473Z"
   },
   {
    "duration": 4,
    "start_time": "2022-04-22T21:01:51.489Z"
   },
   {
    "duration": 5,
    "start_time": "2022-04-22T21:01:52.083Z"
   },
   {
    "duration": 443,
    "start_time": "2022-04-22T21:02:04.420Z"
   },
   {
    "duration": 59,
    "start_time": "2022-04-22T21:02:04.865Z"
   },
   {
    "duration": 28,
    "start_time": "2022-04-22T21:02:04.927Z"
   },
   {
    "duration": 22,
    "start_time": "2022-04-22T21:02:04.958Z"
   },
   {
    "duration": 11,
    "start_time": "2022-04-22T21:02:04.981Z"
   },
   {
    "duration": 9,
    "start_time": "2022-04-22T21:02:04.994Z"
   },
   {
    "duration": 13,
    "start_time": "2022-04-22T21:02:05.004Z"
   },
   {
    "duration": 4286,
    "start_time": "2022-04-22T21:02:05.019Z"
   },
   {
    "duration": 5,
    "start_time": "2022-04-22T21:02:09.306Z"
   },
   {
    "duration": 6,
    "start_time": "2022-04-22T21:02:09.313Z"
   },
   {
    "duration": 5,
    "start_time": "2022-04-22T21:02:09.320Z"
   },
   {
    "duration": 6,
    "start_time": "2022-04-22T21:02:09.327Z"
   },
   {
    "duration": 20,
    "start_time": "2022-04-22T21:02:09.334Z"
   },
   {
    "duration": 9,
    "start_time": "2022-04-22T21:02:09.356Z"
   },
   {
    "duration": 4,
    "start_time": "2022-04-22T21:02:09.366Z"
   },
   {
    "duration": 28,
    "start_time": "2022-04-22T21:02:09.371Z"
   },
   {
    "duration": 20,
    "start_time": "2022-04-22T21:02:09.401Z"
   },
   {
    "duration": 32,
    "start_time": "2022-04-22T21:02:09.422Z"
   },
   {
    "duration": 14,
    "start_time": "2022-04-22T21:02:09.456Z"
   },
   {
    "duration": 9,
    "start_time": "2022-04-22T21:02:09.472Z"
   },
   {
    "duration": 18,
    "start_time": "2022-04-22T21:02:09.482Z"
   },
   {
    "duration": 14,
    "start_time": "2022-04-22T21:02:09.501Z"
   },
   {
    "duration": 38,
    "start_time": "2022-04-22T21:02:09.517Z"
   },
   {
    "duration": 17,
    "start_time": "2022-04-22T21:02:09.556Z"
   },
   {
    "duration": 11,
    "start_time": "2022-04-22T21:02:09.574Z"
   },
   {
    "duration": 21,
    "start_time": "2022-04-22T21:02:09.586Z"
   },
   {
    "duration": 6,
    "start_time": "2022-04-22T21:02:09.609Z"
   },
   {
    "duration": 7,
    "start_time": "2022-04-22T21:02:09.618Z"
   },
   {
    "duration": 33,
    "start_time": "2022-04-22T21:02:09.626Z"
   },
   {
    "duration": 12,
    "start_time": "2022-04-22T21:02:09.661Z"
   },
   {
    "duration": 15,
    "start_time": "2022-04-22T21:02:09.674Z"
   },
   {
    "duration": 5,
    "start_time": "2022-04-22T21:02:09.690Z"
   },
   {
    "duration": 19,
    "start_time": "2022-04-22T21:02:09.696Z"
   },
   {
    "duration": 6,
    "start_time": "2022-04-22T21:02:09.717Z"
   },
   {
    "duration": 25,
    "start_time": "2022-04-22T21:02:09.724Z"
   },
   {
    "duration": 13,
    "start_time": "2022-04-22T21:02:09.750Z"
   },
   {
    "duration": 10,
    "start_time": "2022-04-22T21:02:09.765Z"
   },
   {
    "duration": 15,
    "start_time": "2022-04-22T21:02:09.777Z"
   },
   {
    "duration": 4,
    "start_time": "2022-04-22T21:02:09.793Z"
   },
   {
    "duration": 20,
    "start_time": "2022-04-22T21:02:09.798Z"
   },
   {
    "duration": 3,
    "start_time": "2022-04-22T21:02:09.820Z"
   },
   {
    "duration": 51,
    "start_time": "2022-04-22T21:02:09.824Z"
   },
   {
    "duration": 29,
    "start_time": "2022-04-22T21:02:09.876Z"
   },
   {
    "duration": 22,
    "start_time": "2022-04-22T21:02:09.906Z"
   },
   {
    "duration": 29,
    "start_time": "2022-04-22T21:02:09.930Z"
   },
   {
    "duration": 26,
    "start_time": "2022-04-22T21:02:09.960Z"
   },
   {
    "duration": 28,
    "start_time": "2022-04-22T21:02:09.987Z"
   },
   {
    "duration": 167,
    "start_time": "2022-04-22T21:19:32.881Z"
   },
   {
    "duration": 135,
    "start_time": "2022-04-22T21:19:43.298Z"
   },
   {
    "duration": 407,
    "start_time": "2022-04-22T21:24:30.067Z"
   },
   {
    "duration": 60,
    "start_time": "2022-04-22T21:24:30.476Z"
   },
   {
    "duration": 27,
    "start_time": "2022-04-22T21:24:30.538Z"
   },
   {
    "duration": 17,
    "start_time": "2022-04-22T21:24:30.567Z"
   },
   {
    "duration": 13,
    "start_time": "2022-04-22T21:24:30.586Z"
   },
   {
    "duration": 9,
    "start_time": "2022-04-22T21:24:30.601Z"
   },
   {
    "duration": 4,
    "start_time": "2022-04-22T21:24:30.612Z"
   },
   {
    "duration": 560,
    "start_time": "2022-04-23T11:09:24.858Z"
   },
   {
    "duration": 85,
    "start_time": "2022-04-23T11:09:25.421Z"
   },
   {
    "duration": 38,
    "start_time": "2022-04-23T11:09:25.508Z"
   },
   {
    "duration": 24,
    "start_time": "2022-04-23T11:09:25.549Z"
   },
   {
    "duration": 15,
    "start_time": "2022-04-23T11:09:25.577Z"
   },
   {
    "duration": 42,
    "start_time": "2022-04-23T11:09:25.595Z"
   },
   {
    "duration": 36,
    "start_time": "2022-04-23T11:09:25.640Z"
   },
   {
    "duration": 7707,
    "start_time": "2022-04-23T11:09:25.679Z"
   },
   {
    "duration": 5,
    "start_time": "2022-04-23T11:09:33.388Z"
   },
   {
    "duration": 19,
    "start_time": "2022-04-23T11:09:33.395Z"
   },
   {
    "duration": 22,
    "start_time": "2022-04-23T11:09:33.416Z"
   },
   {
    "duration": 22,
    "start_time": "2022-04-23T11:09:33.440Z"
   },
   {
    "duration": 10,
    "start_time": "2022-04-23T11:09:33.464Z"
   },
   {
    "duration": 14,
    "start_time": "2022-04-23T11:09:33.479Z"
   },
   {
    "duration": 6,
    "start_time": "2022-04-23T11:09:33.495Z"
   },
   {
    "duration": 64,
    "start_time": "2022-04-23T11:09:33.503Z"
   },
   {
    "duration": 32,
    "start_time": "2022-04-23T11:09:33.569Z"
   },
   {
    "duration": 41,
    "start_time": "2022-04-23T11:09:33.604Z"
   },
   {
    "duration": 30,
    "start_time": "2022-04-23T11:09:33.647Z"
   },
   {
    "duration": 69,
    "start_time": "2022-04-23T11:09:33.680Z"
   },
   {
    "duration": 34,
    "start_time": "2022-04-23T11:09:33.752Z"
   },
   {
    "duration": 82,
    "start_time": "2022-04-23T11:09:33.789Z"
   },
   {
    "duration": 23,
    "start_time": "2022-04-23T11:09:33.874Z"
   },
   {
    "duration": 56,
    "start_time": "2022-04-23T11:09:33.900Z"
   },
   {
    "duration": 16,
    "start_time": "2022-04-23T11:09:33.959Z"
   },
   {
    "duration": 35,
    "start_time": "2022-04-23T11:09:33.977Z"
   },
   {
    "duration": 25,
    "start_time": "2022-04-23T11:09:34.014Z"
   },
   {
    "duration": 49,
    "start_time": "2022-04-23T11:09:34.043Z"
   },
   {
    "duration": 20,
    "start_time": "2022-04-23T11:09:34.094Z"
   },
   {
    "duration": 56,
    "start_time": "2022-04-23T11:09:34.117Z"
   },
   {
    "duration": 16,
    "start_time": "2022-04-23T11:09:34.175Z"
   },
   {
    "duration": 62,
    "start_time": "2022-04-23T11:09:34.194Z"
   },
   {
    "duration": 7,
    "start_time": "2022-04-23T11:09:34.258Z"
   },
   {
    "duration": 51,
    "start_time": "2022-04-23T11:09:34.269Z"
   },
   {
    "duration": 66,
    "start_time": "2022-04-23T11:09:34.323Z"
   },
   {
    "duration": 54,
    "start_time": "2022-04-23T11:09:34.392Z"
   },
   {
    "duration": 22,
    "start_time": "2022-04-23T11:09:34.449Z"
   },
   {
    "duration": 62,
    "start_time": "2022-04-23T11:09:34.473Z"
   },
   {
    "duration": 49,
    "start_time": "2022-04-23T11:09:34.540Z"
   },
   {
    "duration": 104,
    "start_time": "2022-04-23T11:11:37.425Z"
   }
  ],
  "kernelspec": {
   "display_name": "Python 3 (ipykernel)",
   "language": "python",
   "name": "python3"
  },
  "language_info": {
   "codemirror_mode": {
    "name": "ipython",
    "version": 3
   },
   "file_extension": ".py",
   "mimetype": "text/x-python",
   "name": "python",
   "nbconvert_exporter": "python",
   "pygments_lexer": "ipython3",
   "version": "3.9.12"
  },
  "toc": {
   "base_numbering": 1,
   "nav_menu": {},
   "number_sections": true,
   "sideBar": true,
   "skip_h1_title": true,
   "title_cell": "Table of Contents",
   "title_sidebar": "Contents",
   "toc_cell": false,
   "toc_position": {},
   "toc_section_display": true,
   "toc_window_display": false
  }
 },
 "nbformat": 4,
 "nbformat_minor": 5
}
