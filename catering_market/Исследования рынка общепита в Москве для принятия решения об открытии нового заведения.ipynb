{
 "cells": [
  {
   "cell_type": "markdown",
   "metadata": {},
   "source": [
    "# Исследования рынка общепита в Москве для принятия решения об открытии нового заведения. \n",
    "Данное исследование проводится перед открытием кафе в Москве. Оно оригинальное — гостей должны обслуживать роботы. Проект многообещающий, но дорогой. \n",
    "Цель исследование - ответить на вопрос \"сможет ли вы снискать популярность на долгое время, когда все зеваки насмотрятся на роботов-официантов?\""
   ]
  },
  {
   "cell_type": "markdown",
   "metadata": {},
   "source": [
    "**Цель исследования**:\n",
    "1. Выявить наиболее популярный тип заведения.\n",
    "2. Определить каких заведений больше: сетевых или несетевых. \n",
    "3. Установить для какого вида объекта общественного питания характерно сетевое распространение.\n",
    "4. Выяснить, что характерно для сетевых предприятий: много заведений с небольшим числом посадочных мест в каждом или мало заведений с большим количеством посадочных мест?\n",
    "5. Установить, какой вид общественного питания предоставляет в среднем самое большое количество посадочных мест?\n",
    "6. Выявить в каких районах Москвы находятся топ-10 улиц с наибольшим количеством объектов общественного питания?\n",
    "7. Выявить в каких районах Москвы находятся улицы с одним объектом общественного питания?\n",
    "\n",
    "**Ход исследования**\n",
    "\n",
    "Данные о заведениях общественного питания Москвы получим из файла `/datasets/rest_data.csv`. О качестве данных ничего не известно. Поэтому перед проверкой гипотез понадобится обзор данных. \n",
    "\n",
    "Проверим данные на ошибки и оценим их влияние на исследование. Затем, на этапе предобработки выявим возможность исправить самые критичные ошибки данных. В конце напишем общий вывод и подготовим презентацию.\n",
    " \n",
    "Таким образом, исследование пройдёт в несколько этапов:\n",
    " 1. Изучение общей информации.\n",
    " 2. Подготовка данных.\n",
    " 3. Анализ данных.\n",
    " 4. Общий вывод. \n",
    " 5. Презентация."
   ]
  },
  {
   "cell_type": "markdown",
   "metadata": {},
   "source": [
    "### Исследование рынка заведений общественного питания Москвы.\n",
    "\n",
    "_____\n",
    "###### Данное исследование разделим на несколько частей.\n",
    "\n",
    "##### Часть 1. Изучение общей информации:\n",
    "* [1. Изученеие файлов с данными, получение общей информации, загрузка библиотек.](#1-bullet)\n",
    "##### Часть 2. Подготовка данных:\n",
    "* [1. Приведение данных к нужным типам.](#19-bullet)\n",
    "* [2. Нахождение и ликвидация пропусков.](#2-bullet)\n",
    "* [2. Нахождение дубликатов.](#122-bullet)\n",
    "* [3. Нахождение и исправление аномалий и ошибок.](#20-bullet)\n",
    "##### Часть 3. Анализ данных:\n",
    "* [1. Исследование соотношения видов объектов общественного питания по количеству. Построение графика.](#21-bullet)\n",
    "* [2. Исследование соотношения сетевых и несетевых заведений по количеству. Построение графика.](#5-bullet)\n",
    "* [3. Определение вида объекта общественного питания, для которого характерно сетевое распространение.](#6-bullet)\n",
    "* [4. Определение, что характерно для сетевых заведений: много заведений с небольшим числом посадочных мест в каждом или мало заведений с большим количеством посадочных мест?](#7-bullet)\n",
    "* [5. Описание среднего количества посадочных мест для каждого вида объекта общественного питания. Определение вида предоставляющего в среднем самое большое количество посадочных мест. Построение графика.](#8-bullet)\n",
    "* [6. Выделение в отдельный столбец информации об улице из столбца `address`.](#9-bullet)\n",
    "* [7. Построение графика топ-10 улиц по количеству объектов общественного питания. Определение районов Москвы, в которых находятся эти улицы.](#10-bullet)\n",
    "* [8. Определение числа улиц с одним объектом общественного питания. Определение районов Москвы, в которых находятся эти улицы.](#11-bullet)\n",
    "##### Общий вывод\n",
    "##### Презентация"
   ]
  },
  {
   "cell_type": "markdown",
   "metadata": {},
   "source": [
    "## Изучение общей информации"
   ]
  },
  {
   "cell_type": "markdown",
   "metadata": {},
   "source": [
    "<a id='1-bullet'></a>\n",
    "### Изученеие файлов с данными, получение общей информации, загрузка библиотек."
   ]
  },
  {
   "cell_type": "code",
   "execution_count": 1,
   "metadata": {},
   "outputs": [],
   "source": [
    "import pandas as pd #импорт библиотеки Pandas\n",
    "from plotly import graph_objects as go #импорт библиотеки graph_objects\n",
    "import plotly.express as px #импорт библиотеки express\n",
    "import seaborn as sns #импорт библиотеки seaborn\n",
    "import matplotlib.pyplot as plt #импорт библиотеки matplotlib.pyplot\n",
    "import re\n",
    "import numpy as np #импорт библиотеки numpy\n",
    "from io import BytesIO\n",
    "import requests"
   ]
  },
  {
   "cell_type": "code",
   "execution_count": null,
   "metadata": {},
   "outputs": [],
   "source": []
  },
  {
   "cell_type": "code",
   "execution_count": 2,
   "metadata": {},
   "outputs": [],
   "source": [
    "rest_data = pd.read_csv(\"D:\\\\Programs\\\\rest_data\")"
   ]
  },
  {
   "cell_type": "code",
   "execution_count": 3,
   "metadata": {},
   "outputs": [
    {
     "name": "stdout",
     "output_type": "stream",
     "text": [
      "<class 'pandas.core.frame.DataFrame'>\n",
      "RangeIndex: 15366 entries, 0 to 15365\n",
      "Data columns (total 6 columns):\n",
      " #   Column       Non-Null Count  Dtype \n",
      "---  ------       --------------  ----- \n",
      " 0   id           15366 non-null  int64 \n",
      " 1   object_name  15366 non-null  object\n",
      " 2   chain        15366 non-null  object\n",
      " 3   object_type  15366 non-null  object\n",
      " 4   address      15366 non-null  object\n",
      " 5   number       15366 non-null  int64 \n",
      "dtypes: int64(2), object(4)\n",
      "memory usage: 720.4+ KB\n"
     ]
    }
   ],
   "source": [
    "rest_data.info() #получение общей информации"
   ]
  },
  {
   "cell_type": "markdown",
   "metadata": {},
   "source": [
    "Таблица rest_data:\n",
    "* `id` — идентификатор объекта;\n",
    "* `object_name` — название объекта общественного питания;\n",
    "* `chain` — сетевой ресторан;\n",
    "* `object_type` — тип объекта общественного питания;\n",
    "* `address` — адрес;\n",
    "* `number`— количество посадочных мест."
   ]
  },
  {
   "cell_type": "code",
   "execution_count": 4,
   "metadata": {
    "scrolled": true
   },
   "outputs": [
    {
     "data": {
      "text/html": [
       "<div>\n",
       "<style scoped>\n",
       "    .dataframe tbody tr th:only-of-type {\n",
       "        vertical-align: middle;\n",
       "    }\n",
       "\n",
       "    .dataframe tbody tr th {\n",
       "        vertical-align: top;\n",
       "    }\n",
       "\n",
       "    .dataframe thead th {\n",
       "        text-align: right;\n",
       "    }\n",
       "</style>\n",
       "<table border=\"1\" class=\"dataframe\">\n",
       "  <thead>\n",
       "    <tr style=\"text-align: right;\">\n",
       "      <th></th>\n",
       "      <th>id</th>\n",
       "      <th>object_name</th>\n",
       "      <th>chain</th>\n",
       "      <th>object_type</th>\n",
       "      <th>address</th>\n",
       "      <th>number</th>\n",
       "    </tr>\n",
       "  </thead>\n",
       "  <tbody>\n",
       "    <tr>\n",
       "      <th>0</th>\n",
       "      <td>151635</td>\n",
       "      <td>СМЕТАНА</td>\n",
       "      <td>нет</td>\n",
       "      <td>кафе</td>\n",
       "      <td>город Москва, улица Егора Абакумова, дом 9</td>\n",
       "      <td>48</td>\n",
       "    </tr>\n",
       "    <tr>\n",
       "      <th>1</th>\n",
       "      <td>77874</td>\n",
       "      <td>Родник</td>\n",
       "      <td>нет</td>\n",
       "      <td>кафе</td>\n",
       "      <td>город Москва, улица Талалихина, дом 2/1, корпус 1</td>\n",
       "      <td>35</td>\n",
       "    </tr>\n",
       "    <tr>\n",
       "      <th>2</th>\n",
       "      <td>24309</td>\n",
       "      <td>Кафе «Академия»</td>\n",
       "      <td>нет</td>\n",
       "      <td>кафе</td>\n",
       "      <td>город Москва, Абельмановская улица, дом 6</td>\n",
       "      <td>95</td>\n",
       "    </tr>\n",
       "    <tr>\n",
       "      <th>3</th>\n",
       "      <td>21894</td>\n",
       "      <td>ПИЦЦЕТОРИЯ</td>\n",
       "      <td>да</td>\n",
       "      <td>кафе</td>\n",
       "      <td>город Москва, Абрамцевская улица, дом 1</td>\n",
       "      <td>40</td>\n",
       "    </tr>\n",
       "    <tr>\n",
       "      <th>4</th>\n",
       "      <td>119365</td>\n",
       "      <td>Кафе «Вишневая метель»</td>\n",
       "      <td>нет</td>\n",
       "      <td>кафе</td>\n",
       "      <td>город Москва, Абрамцевская улица, дом 9, корпус 1</td>\n",
       "      <td>50</td>\n",
       "    </tr>\n",
       "  </tbody>\n",
       "</table>\n",
       "</div>"
      ],
      "text/plain": [
       "       id             object_name chain object_type  \\\n",
       "0  151635                 СМЕТАНА   нет        кафе   \n",
       "1   77874                  Родник   нет        кафе   \n",
       "2   24309         Кафе «Академия»   нет        кафе   \n",
       "3   21894              ПИЦЦЕТОРИЯ    да        кафе   \n",
       "4  119365  Кафе «Вишневая метель»   нет        кафе   \n",
       "\n",
       "                                             address  number  \n",
       "0         город Москва, улица Егора Абакумова, дом 9      48  \n",
       "1  город Москва, улица Талалихина, дом 2/1, корпус 1      35  \n",
       "2          город Москва, Абельмановская улица, дом 6      95  \n",
       "3            город Москва, Абрамцевская улица, дом 1      40  \n",
       "4  город Москва, Абрамцевская улица, дом 9, корпус 1      50  "
      ]
     },
     "execution_count": 4,
     "metadata": {},
     "output_type": "execute_result"
    }
   ],
   "source": [
    "rest_data.head(5)"
   ]
  },
  {
   "cell_type": "markdown",
   "metadata": {},
   "source": [
    "## Подготовка данных"
   ]
  },
  {
   "cell_type": "markdown",
   "metadata": {},
   "source": [
    "<a id='19-bullet'></a>\n",
    "### Приведение данных к нужным типам."
   ]
  },
  {
   "cell_type": "markdown",
   "metadata": {},
   "source": [
    "Необходимо привести столбец `chain` к типу `bool`."
   ]
  },
  {
   "cell_type": "code",
   "execution_count": 5,
   "metadata": {},
   "outputs": [
    {
     "data": {
      "text/plain": [
       "array(['нет', 'да'], dtype=object)"
      ]
     },
     "execution_count": 5,
     "metadata": {},
     "output_type": "execute_result"
    }
   ],
   "source": [
    "rest_data['chain'].unique()"
   ]
  },
  {
   "cell_type": "code",
   "execution_count": 6,
   "metadata": {},
   "outputs": [],
   "source": [
    "rest_data = rest_data.replace({'chain':{'нет':False, 'да':True}}) #замена значений"
   ]
  },
  {
   "cell_type": "markdown",
   "metadata": {},
   "source": [
    "<a id='2-bullet'></a>\n",
    "### Нахождение и ликвидация пропусков."
   ]
  },
  {
   "cell_type": "code",
   "execution_count": 7,
   "metadata": {},
   "outputs": [
    {
     "data": {
      "text/plain": [
       "id             0\n",
       "object_name    0\n",
       "chain          0\n",
       "object_type    0\n",
       "address        0\n",
       "number         0\n",
       "dtype: int64"
      ]
     },
     "execution_count": 7,
     "metadata": {},
     "output_type": "execute_result"
    }
   ],
   "source": [
    "rest_data.isna().sum()"
   ]
  },
  {
   "cell_type": "markdown",
   "metadata": {},
   "source": [
    "В данных нет пропущенных значений"
   ]
  },
  {
   "cell_type": "markdown",
   "metadata": {},
   "source": [
    "<a id='122-bullet'></a>\n",
    "### Нахождение дубликатов."
   ]
  },
  {
   "cell_type": "code",
   "execution_count": 8,
   "metadata": {},
   "outputs": [
    {
     "data": {
      "text/plain": [
       "0"
      ]
     },
     "execution_count": 8,
     "metadata": {},
     "output_type": "execute_result"
    }
   ],
   "source": [
    "rest_data.duplicated().sum()"
   ]
  },
  {
   "cell_type": "code",
   "execution_count": 9,
   "metadata": {},
   "outputs": [
    {
     "data": {
      "text/plain": [
       "array(['1-ЫЙ МОСКОВСКИЙ КАДЕТСКИЙ КОРПУС', '1-й МОК',\n",
       "       '100 личная столовая', ..., 'школа 775', 'школа 913', 'школа 919'],\n",
       "      dtype=object)"
      ]
     },
     "execution_count": 9,
     "metadata": {},
     "output_type": "execute_result"
    }
   ],
   "source": [
    "rest_data['object_name'].sort_values().unique()"
   ]
  },
  {
   "cell_type": "markdown",
   "metadata": {},
   "source": [
    "Дубликатов нет."
   ]
  },
  {
   "cell_type": "markdown",
   "metadata": {},
   "source": [
    "<a id='20-bullet'></a>\n",
    "### Нахождение и исправление аномалий и ошибок."
   ]
  },
  {
   "cell_type": "markdown",
   "metadata": {},
   "source": [
    "Проверим на ошибки тип заведений."
   ]
  },
  {
   "cell_type": "code",
   "execution_count": 10,
   "metadata": {},
   "outputs": [
    {
     "data": {
      "text/plain": [
       "array(['кафе', 'столовая', 'закусочная',\n",
       "       'предприятие быстрого обслуживания', 'ресторан', 'кафетерий',\n",
       "       'буфет', 'бар', 'магазин (отдел кулинарии)'], dtype=object)"
      ]
     },
     "execution_count": 10,
     "metadata": {},
     "output_type": "execute_result"
    }
   ],
   "source": [
    "rest_data['object_type'].unique()"
   ]
  },
  {
   "cell_type": "markdown",
   "metadata": {},
   "source": [
    "Ошибок не было обнаружено. Следом проверим вместимость."
   ]
  },
  {
   "cell_type": "code",
   "execution_count": 11,
   "metadata": {},
   "outputs": [
    {
     "data": {
      "text/plain": [
       "array([  48,   35,   95,   40,   50,  240,   10,   90,  150,  120,    5,\n",
       "         24,  140,   32,  270,  320,    7,    2,  160,   20,   30,  110,\n",
       "          6,  192,   65,   45,    4,  125,  100,   49,   63,   70,   22,\n",
       "         56,   38,  220,   78,    3,   80,   46,   15,   96,   60,   47,\n",
       "        180,  250,  200,   25,   12,   14,   16,  420,   98,   75,   34,\n",
       "        216,   43,   54,  580,  159,    0,   28,   64,   67,   42,  124,\n",
       "         82,   36,  114,    8,   71,   18,  158,   55,  196,   44,   76,\n",
       "        144,   41,   26,   68,  143,  198,   79,    1,   86,  148,  190,\n",
       "        202,  131,   52,   92,  300,   85,  102,   88,   84,  246,   81,\n",
       "         94,   23,   37,   39,   99,   61,   11,  130,   74,  128,  106,\n",
       "         58,  260,   27,   19,   29,   13,    9,  168,  350,   93,   33,\n",
       "        105,  239,  104,   17,   62,  230,  132,   87,   89,  170,   83,\n",
       "         21,  108,  210,   51,   53,  115,   66,  280,  126,   97,  356,\n",
       "        156,  428,  380,  138,   72,  118,  139,  236,  450,  194,  330,\n",
       "        225,  500,  112,  109,  146,  306,  272,  290,  176,  175,  252,\n",
       "        122,  400,  542,  424, 1040,  660,  282,  145,  395,  188,  149,\n",
       "        157,  103,   69,  184,  185,  121,  187,  247,  217,  313,  155,\n",
       "        310,  328,  101,  226,  398,  430,  166,  301,  245,  238,  283,\n",
       "        133,  142,   73,   77,  650,   57,   59,  154,  222,  174, 1200,\n",
       "        204,  127,  360,  178,  680,  244,  134,  213,  214,  152,  206,\n",
       "        248,  324,  224,  165,   31,  277,  337,  259,  167,  266,  481,\n",
       "        273,  136,  229,  242,  533,  218,  173,  228,  760,  585,  195,\n",
       "        284,  305,  215,  162,  135,  116,   91,  644,  600,  177,  338,\n",
       "        181,  302,  237,  288,  362,  141,  111,  153,  123,  495,  186,\n",
       "        275,  232,  480,  164,  255,  147,  189,  286,  625,  207,  520,\n",
       "        675,  292,  340,  205,  278,  151,  343, 1500, 1400,  308,  161,\n",
       "        483,  107,  243,  371,  276,  257,  271,  456, 1288,  172,  478,\n",
       "        113,  199,  920,  287,  326,  208,  472,  234,  455,  307, 1700,\n",
       "        490,  491,  700,  295,  268,  212,  119], dtype=int64)"
      ]
     },
     "execution_count": 11,
     "metadata": {},
     "output_type": "execute_result"
    }
   ],
   "source": [
    "rest_data['number'].unique()"
   ]
  },
  {
   "cell_type": "markdown",
   "metadata": {},
   "source": [
    "Проверим нет ли аномально больших по вместимости помещений."
   ]
  },
  {
   "cell_type": "code",
   "execution_count": 12,
   "metadata": {},
   "outputs": [
    {
     "data": {
      "text/plain": [
       "1700"
      ]
     },
     "execution_count": 12,
     "metadata": {},
     "output_type": "execute_result"
    }
   ],
   "source": [
    "rest_data['number'].max()"
   ]
  },
  {
   "cell_type": "code",
   "execution_count": 13,
   "metadata": {},
   "outputs": [
    {
     "data": {
      "text/html": [
       "<div>\n",
       "<style scoped>\n",
       "    .dataframe tbody tr th:only-of-type {\n",
       "        vertical-align: middle;\n",
       "    }\n",
       "\n",
       "    .dataframe tbody tr th {\n",
       "        vertical-align: top;\n",
       "    }\n",
       "\n",
       "    .dataframe thead th {\n",
       "        text-align: right;\n",
       "    }\n",
       "</style>\n",
       "<table border=\"1\" class=\"dataframe\">\n",
       "  <thead>\n",
       "    <tr style=\"text-align: right;\">\n",
       "      <th></th>\n",
       "      <th>id</th>\n",
       "      <th>object_name</th>\n",
       "      <th>chain</th>\n",
       "      <th>object_type</th>\n",
       "      <th>address</th>\n",
       "      <th>number</th>\n",
       "    </tr>\n",
       "  </thead>\n",
       "  <tbody>\n",
       "    <tr>\n",
       "      <th>12723</th>\n",
       "      <td>199696</td>\n",
       "      <td>Arena by Soho Family</td>\n",
       "      <td>False</td>\n",
       "      <td>бар</td>\n",
       "      <td>город Москва, Кутузовский проспект, дом 36, ст...</td>\n",
       "      <td>1700</td>\n",
       "    </tr>\n",
       "  </tbody>\n",
       "</table>\n",
       "</div>"
      ],
      "text/plain": [
       "           id           object_name  chain object_type  \\\n",
       "12723  199696  Arena by Soho Family  False         бар   \n",
       "\n",
       "                                                 address  number  \n",
       "12723  город Москва, Кутузовский проспект, дом 36, ст...    1700  "
      ]
     },
     "execution_count": 13,
     "metadata": {},
     "output_type": "execute_result"
    }
   ],
   "source": [
    "rest_data[rest_data['number']==rest_data['number'].max()]"
   ]
  },
  {
   "cell_type": "markdown",
   "metadata": {},
   "source": [
    "При проверке вместимости заведения в интернете, было выявлено, что оно соответствует действительности."
   ]
  },
  {
   "cell_type": "markdown",
   "metadata": {},
   "source": [
    "Аномалий и ошибок в данных нет."
   ]
  },
  {
   "cell_type": "markdown",
   "metadata": {},
   "source": [
    "Данные готовы к анализу."
   ]
  },
  {
   "cell_type": "code",
   "execution_count": 14,
   "metadata": {},
   "outputs": [],
   "source": [
    "dublicate_data = rest_data[rest_data.duplicated(subset=['object_name', 'chain', 'object_type', 'address', 'number'])]"
   ]
  },
  {
   "cell_type": "code",
   "execution_count": 15,
   "metadata": {},
   "outputs": [],
   "source": [
    "rest_data = rest_data[np.logical_not(rest_data['id'].isin(dublicate_data['id']))]"
   ]
  },
  {
   "cell_type": "markdown",
   "metadata": {},
   "source": [
    "## Анализ данных"
   ]
  },
  {
   "cell_type": "markdown",
   "metadata": {},
   "source": [
    "<a id='21-bullet'></a>\n",
    "### Исследование соотношения видов объектов общественного питания по количеству. Построение графика."
   ]
  },
  {
   "cell_type": "code",
   "execution_count": 16,
   "metadata": {},
   "outputs": [],
   "source": [
    "object_type = rest_data['object_type'].value_counts().reset_index()"
   ]
  },
  {
   "cell_type": "code",
   "execution_count": 17,
   "metadata": {},
   "outputs": [
    {
     "data": {
      "image/png": "[encoded data removed]"
     },
     "metadata": {},
     "output_type": "display_data"
    }
   ],
   "source": [
    "fig1 = go.Figure(data=[go.Pie(labels=object_type['index'], values=object_type['object_type'])])\n",
    "fig1.update_layout(title=\"Cоотношения видов объектов общественного питания по количеству\")\n",
    "fig1.show('png')"
   ]
  },
  {
   "cell_type": "markdown",
   "metadata": {},
   "source": [
    "Больше всего кафе. В след за ним идут столовые, рестораны и предприятия быстрого обслуживания."
   ]
  },
  {
   "cell_type": "markdown",
   "metadata": {},
   "source": [
    "<a id='5-bullet'></a>\n",
    "### Исследование соотношения сетевых и несетевых заведений по количеству. Построение графика."
   ]
  },
  {
   "cell_type": "code",
   "execution_count": 18,
   "metadata": {},
   "outputs": [],
   "source": [
    "chain = rest_data['chain'].value_counts().reset_index()"
   ]
  },
  {
   "cell_type": "code",
   "execution_count": 19,
   "metadata": {},
   "outputs": [
    {
     "data": {
      "image/png": "[encoded data removed]"
     },
     "metadata": {},
     "output_type": "display_data"
    }
   ],
   "source": [
    "fig2 = go.Figure(data=[go.Pie(labels=chain['index'], values=chain['chain'])])\n",
    "fig2.update_layout(title=\"Cоотношения сетевых и несетевых заведений по количеству\")\n",
    "fig2.show('png')"
   ]
  },
  {
   "cell_type": "markdown",
   "metadata": {},
   "source": [
    "Больше всего несетевых заведений."
   ]
  },
  {
   "cell_type": "markdown",
   "metadata": {},
   "source": [
    "<a id='6-bullet'></a>\n",
    "### Определение вида объекта общественного питания, для которого характерно сетевое распространение."
   ]
  },
  {
   "cell_type": "code",
   "execution_count": 20,
   "metadata": {},
   "outputs": [],
   "source": [
    "type_chain = rest_data.pivot_table(values='chain', index='object_type', aggfunc=['sum','count']).reset_index()"
   ]
  },
  {
   "cell_type": "code",
   "execution_count": 21,
   "metadata": {},
   "outputs": [],
   "source": [
    "type_chain.columns = ['object_type','sum','count']"
   ]
  },
  {
   "cell_type": "code",
   "execution_count": 22,
   "metadata": {},
   "outputs": [],
   "source": [
    "type_chain['ratio'] = type_chain['sum']/type_chain['count']"
   ]
  },
  {
   "cell_type": "code",
   "execution_count": 23,
   "metadata": {},
   "outputs": [
    {
     "data": {
      "text/html": [
       "<div>\n",
       "<style scoped>\n",
       "    .dataframe tbody tr th:only-of-type {\n",
       "        vertical-align: middle;\n",
       "    }\n",
       "\n",
       "    .dataframe tbody tr th {\n",
       "        vertical-align: top;\n",
       "    }\n",
       "\n",
       "    .dataframe thead th {\n",
       "        text-align: right;\n",
       "    }\n",
       "</style>\n",
       "<table border=\"1\" class=\"dataframe\">\n",
       "  <thead>\n",
       "    <tr style=\"text-align: right;\">\n",
       "      <th></th>\n",
       "      <th>object_type</th>\n",
       "      <th>sum</th>\n",
       "      <th>count</th>\n",
       "      <th>ratio</th>\n",
       "    </tr>\n",
       "  </thead>\n",
       "  <tbody>\n",
       "    <tr>\n",
       "      <th>6</th>\n",
       "      <td>предприятие быстрого обслуживания</td>\n",
       "      <td>788</td>\n",
       "      <td>1898</td>\n",
       "      <td>0.415174</td>\n",
       "    </tr>\n",
       "    <tr>\n",
       "      <th>5</th>\n",
       "      <td>магазин (отдел кулинарии)</td>\n",
       "      <td>78</td>\n",
       "      <td>273</td>\n",
       "      <td>0.285714</td>\n",
       "    </tr>\n",
       "    <tr>\n",
       "      <th>7</th>\n",
       "      <td>ресторан</td>\n",
       "      <td>543</td>\n",
       "      <td>2282</td>\n",
       "      <td>0.237949</td>\n",
       "    </tr>\n",
       "    <tr>\n",
       "      <th>3</th>\n",
       "      <td>кафе</td>\n",
       "      <td>1396</td>\n",
       "      <td>6071</td>\n",
       "      <td>0.229946</td>\n",
       "    </tr>\n",
       "    <tr>\n",
       "      <th>2</th>\n",
       "      <td>закусочная</td>\n",
       "      <td>56</td>\n",
       "      <td>349</td>\n",
       "      <td>0.160458</td>\n",
       "    </tr>\n",
       "    <tr>\n",
       "      <th>4</th>\n",
       "      <td>кафетерий</td>\n",
       "      <td>52</td>\n",
       "      <td>395</td>\n",
       "      <td>0.131646</td>\n",
       "    </tr>\n",
       "    <tr>\n",
       "      <th>0</th>\n",
       "      <td>бар</td>\n",
       "      <td>37</td>\n",
       "      <td>855</td>\n",
       "      <td>0.043275</td>\n",
       "    </tr>\n",
       "    <tr>\n",
       "      <th>1</th>\n",
       "      <td>буфет</td>\n",
       "      <td>11</td>\n",
       "      <td>577</td>\n",
       "      <td>0.019064</td>\n",
       "    </tr>\n",
       "    <tr>\n",
       "      <th>8</th>\n",
       "      <td>столовая</td>\n",
       "      <td>3</td>\n",
       "      <td>2584</td>\n",
       "      <td>0.001161</td>\n",
       "    </tr>\n",
       "  </tbody>\n",
       "</table>\n",
       "</div>"
      ],
      "text/plain": [
       "                         object_type   sum  count     ratio\n",
       "6  предприятие быстрого обслуживания   788   1898  0.415174\n",
       "5          магазин (отдел кулинарии)    78    273  0.285714\n",
       "7                           ресторан   543   2282  0.237949\n",
       "3                               кафе  1396   6071  0.229946\n",
       "2                         закусочная    56    349  0.160458\n",
       "4                          кафетерий    52    395  0.131646\n",
       "0                                бар    37    855  0.043275\n",
       "1                              буфет    11    577  0.019064\n",
       "8                           столовая     3   2584  0.001161"
      ]
     },
     "execution_count": 23,
     "metadata": {},
     "output_type": "execute_result"
    }
   ],
   "source": [
    "type_chain.sort_values(by='ratio', ascending=False)"
   ]
  },
  {
   "cell_type": "code",
   "execution_count": 24,
   "metadata": {},
   "outputs": [
    {
     "data": {
      "image/png": "[encoded data removed]"
     },
     "metadata": {},
     "output_type": "display_data"
    }
   ],
   "source": [
    "fig3 = px.bar(\n",
    "    type_chain,\n",
    "    x='object_type',\n",
    "    y='ratio',\n",
    "    title='Доля сетевых предприятий в типах заведений',\n",
    ")\n",
    "fig3.update_xaxes(tickangle=45)\n",
    "fig3.show('png') "
   ]
  },
  {
   "cell_type": "markdown",
   "metadata": {},
   "source": [
    "Наиболее характерно сетевое распространение для преприятий быстрого обслуживания."
   ]
  },
  {
   "cell_type": "markdown",
   "metadata": {},
   "source": [
    "<a id='7-bullet'></a>\n",
    "### Определение, что характерно для сетевых заведений: много заведений с небольшим числом посадочных мест в каждом или мало заведений с большим количеством посадочных мест?"
   ]
  },
  {
   "cell_type": "code",
   "execution_count": 25,
   "metadata": {},
   "outputs": [],
   "source": [
    "chain_rest = rest_data.query('chain == True')"
   ]
  },
  {
   "cell_type": "code",
   "execution_count": 26,
   "metadata": {},
   "outputs": [
    {
     "data": {
      "image/png": "[encoded data removed]",
      "text/plain": [
       "<Figure size 432x288 with 1 Axes>"
      ]
     },
     "metadata": {
      "needs_background": "light"
     },
     "output_type": "display_data"
    }
   ],
   "source": [
    "chain_number = chain_rest.groupby('object_name', as_index=False).agg({'id': 'nunique','number':'mean'}).reset_index(drop=True)\n",
    "chain_number.columns = ['object_name','rest_sum','number_mean']\n",
    "plt.scatter(chain_number['rest_sum'],chain_number['number_mean'])\n",
    "plt.title('Распределение количества посадочных мест')\n",
    "plt.xlabel('Количество заведений')\n",
    "plt.ylabel('Количество посадочных мест')\n",
    "plt.show()"
   ]
  },
  {
   "cell_type": "code",
   "execution_count": 27,
   "metadata": {},
   "outputs": [],
   "source": [
    "def chain_group(row): # создание функции для категоризации сетевых заведений по количеству предприятий и посадочных мест\n",
    "    try:\n",
    "        if row['rest_sum'] > np.percentile(chain_number['rest_sum'].sort_values().unique(),  50) and row['number_mean'] > np.percentile(chain_number['number_mean'].sort_values().unique(),  50):\n",
    "            return 'много заведений и много мест'\n",
    "        if row['rest_sum'] < np.percentile(chain_number['rest_sum'].sort_values().unique(),  50) and row['number_mean'] < np.percentile(chain_number['number_mean'].sort_values().unique(),  50):\n",
    "            return 'мало заведений и мало мест'\n",
    "        if row['rest_sum'] > np.percentile(chain_number['rest_sum'].sort_values().unique(),  50) and row['number_mean'] < np.percentile(chain_number['number_mean'].sort_values().unique(),  50):\n",
    "            return 'много заведений и мало мест'\n",
    "        if row['rest_sum'] < np.percentile(chain_number['rest_sum'].sort_values().unique(),  50) and row['number_mean'] > np.percentile(chain_number['number_mean'].sort_values().unique(),  50):\n",
    "            return 'мало заведений и много мест'\n",
    "    except(ValueError, ZeroDivisionError):\n",
    "        display(row)\n",
    "        return NaN "
   ]
  },
  {
   "cell_type": "code",
   "execution_count": 28,
   "metadata": {},
   "outputs": [
    {
     "data": {
      "text/plain": [
       "мало заведений и мало мест      411\n",
       "мало заведений и много мест     290\n",
       "много заведений и мало мест      15\n",
       "много заведений и много мест      8\n",
       "Name: category, dtype: int64"
      ]
     },
     "execution_count": 28,
     "metadata": {},
     "output_type": "execute_result"
    }
   ],
   "source": [
    "chain_number['category'] = chain_number.apply(chain_group,axis=1) #применение функции к таблице\n",
    "chain_number['category'].value_counts()"
   ]
  },
  {
   "cell_type": "markdown",
   "metadata": {},
   "source": [
    "Для сетевых заведений характерно мало заведений и много посадочных мест"
   ]
  },
  {
   "cell_type": "markdown",
   "metadata": {},
   "source": [
    "<a id='8-bullet'></a>\n",
    "### Описание среднего количества посадочных мест для каждого вида объекта общественного питания. Определение вида предоставляющего в среднем самое большое количество посадочных мест. Построение графика."
   ]
  },
  {
   "cell_type": "code",
   "execution_count": 29,
   "metadata": {},
   "outputs": [
    {
     "data": {
      "image/png": "[encoded data removed]",
      "text/plain": [
       "<Figure size 1080x360 with 1 Axes>"
      ]
     },
     "metadata": {
      "needs_background": "light"
     },
     "output_type": "display_data"
    }
   ],
   "source": [
    "plt.figure(figsize=(15,5))\n",
    "sns.barplot(x='object_type', y='number', data=rest_data)\n",
    "plt.xticks(rotation=30, ha='right')\n",
    "plt.title('Среднее количество посадочных мест для каждого вида объекта общественного питания')\n",
    "plt.xlabel('Вид объекта общественного питания')\n",
    "plt.ylabel('Среднее количество посадочных мест')\n",
    "plt.show()"
   ]
  },
  {
   "cell_type": "markdown",
   "metadata": {},
   "source": [
    "В среднем самое большое количество посадочных мест у столовых. В след за ними - рестораны."
   ]
  },
  {
   "cell_type": "markdown",
   "metadata": {},
   "source": [
    "<a id='9-bullet'></a>\n",
    "### Выделение в отдельный столбец информации об улице из столбца `address`."
   ]
  },
  {
   "cell_type": "code",
   "execution_count": 30,
   "metadata": {},
   "outputs": [
    {
     "data": {
      "text/html": [
       "<div>\n",
       "<style scoped>\n",
       "    .dataframe tbody tr th:only-of-type {\n",
       "        vertical-align: middle;\n",
       "    }\n",
       "\n",
       "    .dataframe tbody tr th {\n",
       "        vertical-align: top;\n",
       "    }\n",
       "\n",
       "    .dataframe thead th {\n",
       "        text-align: right;\n",
       "    }\n",
       "</style>\n",
       "<table border=\"1\" class=\"dataframe\">\n",
       "  <thead>\n",
       "    <tr style=\"text-align: right;\">\n",
       "      <th></th>\n",
       "      <th>id</th>\n",
       "      <th>object_name</th>\n",
       "      <th>chain</th>\n",
       "      <th>object_type</th>\n",
       "      <th>address</th>\n",
       "      <th>number</th>\n",
       "    </tr>\n",
       "  </thead>\n",
       "  <tbody>\n",
       "    <tr>\n",
       "      <th>0</th>\n",
       "      <td>151635</td>\n",
       "      <td>СМЕТАНА</td>\n",
       "      <td>False</td>\n",
       "      <td>кафе</td>\n",
       "      <td>город Москва, улица Егора Абакумова, дом 9</td>\n",
       "      <td>48</td>\n",
       "    </tr>\n",
       "    <tr>\n",
       "      <th>1</th>\n",
       "      <td>77874</td>\n",
       "      <td>Родник</td>\n",
       "      <td>False</td>\n",
       "      <td>кафе</td>\n",
       "      <td>город Москва, улица Талалихина, дом 2/1, корпус 1</td>\n",
       "      <td>35</td>\n",
       "    </tr>\n",
       "    <tr>\n",
       "      <th>2</th>\n",
       "      <td>24309</td>\n",
       "      <td>Кафе «Академия»</td>\n",
       "      <td>False</td>\n",
       "      <td>кафе</td>\n",
       "      <td>город Москва, Абельмановская улица, дом 6</td>\n",
       "      <td>95</td>\n",
       "    </tr>\n",
       "    <tr>\n",
       "      <th>3</th>\n",
       "      <td>21894</td>\n",
       "      <td>ПИЦЦЕТОРИЯ</td>\n",
       "      <td>True</td>\n",
       "      <td>кафе</td>\n",
       "      <td>город Москва, Абрамцевская улица, дом 1</td>\n",
       "      <td>40</td>\n",
       "    </tr>\n",
       "    <tr>\n",
       "      <th>4</th>\n",
       "      <td>119365</td>\n",
       "      <td>Кафе «Вишневая метель»</td>\n",
       "      <td>False</td>\n",
       "      <td>кафе</td>\n",
       "      <td>город Москва, Абрамцевская улица, дом 9, корпус 1</td>\n",
       "      <td>50</td>\n",
       "    </tr>\n",
       "    <tr>\n",
       "      <th>...</th>\n",
       "      <td>...</td>\n",
       "      <td>...</td>\n",
       "      <td>...</td>\n",
       "      <td>...</td>\n",
       "      <td>...</td>\n",
       "      <td>...</td>\n",
       "    </tr>\n",
       "    <tr>\n",
       "      <th>15361</th>\n",
       "      <td>208537</td>\n",
       "      <td>Шоколадница</td>\n",
       "      <td>True</td>\n",
       "      <td>кафе</td>\n",
       "      <td>город Москва, 3-й Крутицкий переулок, дом 18</td>\n",
       "      <td>50</td>\n",
       "    </tr>\n",
       "    <tr>\n",
       "      <th>15362</th>\n",
       "      <td>209264</td>\n",
       "      <td>Шоколадница</td>\n",
       "      <td>True</td>\n",
       "      <td>кафе</td>\n",
       "      <td>город Москва, улица Земляной Вал, дом 33</td>\n",
       "      <td>10</td>\n",
       "    </tr>\n",
       "    <tr>\n",
       "      <th>15363</th>\n",
       "      <td>209186</td>\n",
       "      <td>Шоколадница</td>\n",
       "      <td>True</td>\n",
       "      <td>кафе</td>\n",
       "      <td>город Москва, улица Земляной Вал, дом 33</td>\n",
       "      <td>20</td>\n",
       "    </tr>\n",
       "    <tr>\n",
       "      <th>15364</th>\n",
       "      <td>221900</td>\n",
       "      <td>Шоколадница</td>\n",
       "      <td>True</td>\n",
       "      <td>кафе</td>\n",
       "      <td>город Москва, поселение Московский, Киевское ш...</td>\n",
       "      <td>36</td>\n",
       "    </tr>\n",
       "    <tr>\n",
       "      <th>15365</th>\n",
       "      <td>222535</td>\n",
       "      <td>Шоколадница</td>\n",
       "      <td>True</td>\n",
       "      <td>кафе</td>\n",
       "      <td>город Москва, Ходынский бульвар, дом 4</td>\n",
       "      <td>10</td>\n",
       "    </tr>\n",
       "  </tbody>\n",
       "</table>\n",
       "<p>15284 rows × 6 columns</p>\n",
       "</div>"
      ],
      "text/plain": [
       "           id             object_name  chain object_type  \\\n",
       "0      151635                 СМЕТАНА  False        кафе   \n",
       "1       77874                  Родник  False        кафе   \n",
       "2       24309         Кафе «Академия»  False        кафе   \n",
       "3       21894              ПИЦЦЕТОРИЯ   True        кафе   \n",
       "4      119365  Кафе «Вишневая метель»  False        кафе   \n",
       "...       ...                     ...    ...         ...   \n",
       "15361  208537             Шоколадница   True        кафе   \n",
       "15362  209264             Шоколадница   True        кафе   \n",
       "15363  209186             Шоколадница   True        кафе   \n",
       "15364  221900             Шоколадница   True        кафе   \n",
       "15365  222535             Шоколадница   True        кафе   \n",
       "\n",
       "                                                 address  number  \n",
       "0             город Москва, улица Егора Абакумова, дом 9      48  \n",
       "1      город Москва, улица Талалихина, дом 2/1, корпус 1      35  \n",
       "2              город Москва, Абельмановская улица, дом 6      95  \n",
       "3                город Москва, Абрамцевская улица, дом 1      40  \n",
       "4      город Москва, Абрамцевская улица, дом 9, корпус 1      50  \n",
       "...                                                  ...     ...  \n",
       "15361       город Москва, 3-й Крутицкий переулок, дом 18      50  \n",
       "15362           город Москва, улица Земляной Вал, дом 33      10  \n",
       "15363           город Москва, улица Земляной Вал, дом 33      20  \n",
       "15364  город Москва, поселение Московский, Киевское ш...      36  \n",
       "15365             город Москва, Ходынский бульвар, дом 4      10  \n",
       "\n",
       "[15284 rows x 6 columns]"
      ]
     },
     "execution_count": 30,
     "metadata": {},
     "output_type": "execute_result"
    }
   ],
   "source": [
    "rest_data"
   ]
  },
  {
   "cell_type": "code",
   "execution_count": 31,
   "metadata": {},
   "outputs": [],
   "source": [
    "words = ['улица','ул','переулок','шоссе','проспект','площадь','проезд',\n",
    "         'село','аллея','бульвар','набережная','тупик','линия']\n",
    "\n",
    "str_pat = r\".*,\\s*\\b([^,]*?(?:{})\\b[^,]*)[,$]+\".format(\"|\".join(words))\n",
    "\n",
    "rest_data[\"street\"] = rest_data[\"address\"].str.extract(str_pat, flags=re.I)"
   ]
  },
  {
   "cell_type": "markdown",
   "metadata": {},
   "source": [
    "<a id='10-bullet'></a>\n",
    "### Построение графика топ-10 улиц по количеству объектов общественного питания. Определение районов Москвы, в которых находятся эти улицы."
   ]
  },
  {
   "cell_type": "code",
   "execution_count": 32,
   "metadata": {},
   "outputs": [
    {
     "data": {
      "image/png": "[encoded data removed]"
     },
     "metadata": {},
     "output_type": "display_data"
    }
   ],
   "source": [
    "all_street = rest_data.groupby('street').agg({'id':'nunique'}).reset_index().sort_values(by='id', ascending=False)\n",
    "top_street=all_street.head(10)\n",
    "fig_top = px.bar(top_street, x=\"street\", y=\"id\", text=\"id\")\n",
    "fig_top.update_layout(title=\"Топ-10 улиц по количеству объектов общественного питания\",\n",
    "                  xaxis_title=\"Улица\",\n",
    "                  yaxis_title=\"Количество объектов общественного питания\")\n",
    "fig_top.show('png')"
   ]
  },
  {
   "cell_type": "code",
   "execution_count": 33,
   "metadata": {},
   "outputs": [
    {
     "data": {
      "text/html": [
       "<div>\n",
       "<style scoped>\n",
       "    .dataframe tbody tr th:only-of-type {\n",
       "        vertical-align: middle;\n",
       "    }\n",
       "\n",
       "    .dataframe tbody tr th {\n",
       "        vertical-align: top;\n",
       "    }\n",
       "\n",
       "    .dataframe thead th {\n",
       "        text-align: right;\n",
       "    }\n",
       "</style>\n",
       "<table border=\"1\" class=\"dataframe\">\n",
       "  <thead>\n",
       "    <tr style=\"text-align: right;\">\n",
       "      <th></th>\n",
       "      <th>streetname</th>\n",
       "      <th>areaid</th>\n",
       "      <th>okrug</th>\n",
       "      <th>area</th>\n",
       "    </tr>\n",
       "  </thead>\n",
       "  <tbody>\n",
       "    <tr>\n",
       "      <th>0</th>\n",
       "      <td>Выставочный переулок</td>\n",
       "      <td>17</td>\n",
       "      <td>ЦАО</td>\n",
       "      <td>Пресненский район</td>\n",
       "    </tr>\n",
       "    <tr>\n",
       "      <th>1</th>\n",
       "      <td>улица Гашека</td>\n",
       "      <td>17</td>\n",
       "      <td>ЦАО</td>\n",
       "      <td>Пресненский район</td>\n",
       "    </tr>\n",
       "    <tr>\n",
       "      <th>2</th>\n",
       "      <td>Большая Никитская улица</td>\n",
       "      <td>17</td>\n",
       "      <td>ЦАО</td>\n",
       "      <td>Пресненский район</td>\n",
       "    </tr>\n",
       "    <tr>\n",
       "      <th>3</th>\n",
       "      <td>Глубокий переулок</td>\n",
       "      <td>17</td>\n",
       "      <td>ЦАО</td>\n",
       "      <td>Пресненский район</td>\n",
       "    </tr>\n",
       "    <tr>\n",
       "      <th>4</th>\n",
       "      <td>Большой Гнездниковский переулок</td>\n",
       "      <td>17</td>\n",
       "      <td>ЦАО</td>\n",
       "      <td>Пресненский район</td>\n",
       "    </tr>\n",
       "  </tbody>\n",
       "</table>\n",
       "</div>"
      ],
      "text/plain": [
       "                        streetname  areaid okrug               area\n",
       "0             Выставочный переулок      17   ЦАО  Пресненский район\n",
       "1                     улица Гашека      17   ЦАО  Пресненский район\n",
       "2          Большая Никитская улица      17   ЦАО  Пресненский район\n",
       "3                Глубокий переулок      17   ЦАО  Пресненский район\n",
       "4  Большой Гнездниковский переулок      17   ЦАО  Пресненский район"
      ]
     },
     "execution_count": 33,
     "metadata": {},
     "output_type": "execute_result"
    }
   ],
   "source": [
    "spreadsheet_id = '11gpdmIRs0HzNFoREN2s9XAGf5a13OcwnZChp1hqwVDs'\n",
    "file_name = 'https://docs.google.com/spreadsheets/d/{}/export?format=csv'.format(spreadsheet_id)\n",
    "r = requests.get(file_name)\n",
    "moscow_street = pd.read_csv(BytesIO(r.content))\n",
    "moscow_street.head(5)"
   ]
  },
  {
   "cell_type": "code",
   "execution_count": 34,
   "metadata": {},
   "outputs": [
    {
     "data": {
      "text/html": [
       "<div>\n",
       "<style scoped>\n",
       "    .dataframe tbody tr th:only-of-type {\n",
       "        vertical-align: middle;\n",
       "    }\n",
       "\n",
       "    .dataframe tbody tr th {\n",
       "        vertical-align: top;\n",
       "    }\n",
       "\n",
       "    .dataframe thead th {\n",
       "        text-align: right;\n",
       "    }\n",
       "</style>\n",
       "<table border=\"1\" class=\"dataframe\">\n",
       "  <thead>\n",
       "    <tr style=\"text-align: right;\">\n",
       "      <th></th>\n",
       "      <th>street</th>\n",
       "      <th>id</th>\n",
       "    </tr>\n",
       "  </thead>\n",
       "  <tbody>\n",
       "    <tr>\n",
       "      <th>1418</th>\n",
       "      <td>проспект Мира</td>\n",
       "      <td>204</td>\n",
       "    </tr>\n",
       "    <tr>\n",
       "      <th>1009</th>\n",
       "      <td>Профсоюзная улица</td>\n",
       "      <td>181</td>\n",
       "    </tr>\n",
       "    <tr>\n",
       "      <th>683</th>\n",
       "      <td>Ленинградский проспект</td>\n",
       "      <td>170</td>\n",
       "    </tr>\n",
       "    <tr>\n",
       "      <th>993</th>\n",
       "      <td>Пресненская набережная</td>\n",
       "      <td>167</td>\n",
       "    </tr>\n",
       "    <tr>\n",
       "      <th>397</th>\n",
       "      <td>Варшавское шоссе</td>\n",
       "      <td>164</td>\n",
       "    </tr>\n",
       "    <tr>\n",
       "      <th>686</th>\n",
       "      <td>Ленинский проспект</td>\n",
       "      <td>147</td>\n",
       "    </tr>\n",
       "    <tr>\n",
       "      <th>1414</th>\n",
       "      <td>проспект Вернадского</td>\n",
       "      <td>128</td>\n",
       "    </tr>\n",
       "    <tr>\n",
       "      <th>673</th>\n",
       "      <td>Кутузовский проспект</td>\n",
       "      <td>114</td>\n",
       "    </tr>\n",
       "    <tr>\n",
       "      <th>596</th>\n",
       "      <td>Каширское шоссе</td>\n",
       "      <td>111</td>\n",
       "    </tr>\n",
       "    <tr>\n",
       "      <th>603</th>\n",
       "      <td>Кировоградская улица</td>\n",
       "      <td>108</td>\n",
       "    </tr>\n",
       "  </tbody>\n",
       "</table>\n",
       "</div>"
      ],
      "text/plain": [
       "                      street   id\n",
       "1418           проспект Мира  204\n",
       "1009       Профсоюзная улица  181\n",
       "683   Ленинградский проспект  170\n",
       "993   Пресненская набережная  167\n",
       "397         Варшавское шоссе  164\n",
       "686       Ленинский проспект  147\n",
       "1414    проспект Вернадского  128\n",
       "673     Кутузовский проспект  114\n",
       "596          Каширское шоссе  111\n",
       "603     Кировоградская улица  108"
      ]
     },
     "execution_count": 34,
     "metadata": {},
     "output_type": "execute_result"
    }
   ],
   "source": [
    "top_street"
   ]
  },
  {
   "cell_type": "code",
   "execution_count": 35,
   "metadata": {},
   "outputs": [
    {
     "data": {
      "text/plain": [
       "array(['Пресненский район', 'Район Дорогомилово', 'Район Фили-Давыдково',\n",
       "       'Район Проспект Вернадского', 'Район Раменки',\n",
       "       'Район Тропарево-Никулино', 'Район Аэропорт', 'Район Беговой',\n",
       "       'Хорошевский район', 'Район Сокол', 'Алексеевский район',\n",
       "       'Ярославский Район', 'Район Марьина роща', 'Останкинский район',\n",
       "       'Район Ростокино', 'Район Свиблово', 'Район Чертаново Центральное',\n",
       "       'Район Чертаново Северное', 'Район Чертаново Южное',\n",
       "       'Донской район', 'Район Москворечье-Сабурово',\n",
       "       'Район Нагатино-Садовники', 'Нагорный район',\n",
       "       'Район Орехово-Борисово Южное', 'Район Орехово-Борисово Северное',\n",
       "       'Академический район', 'Район Черемушки', 'Район Гагаринский',\n",
       "       'Район Ясенево', 'Район Коньково', 'Ломоносовский район',\n",
       "       'Обручевский район', 'Район Северное Бутово', 'Район Теплый Стан',\n",
       "       'Район Южное Бутово', 'Район Якиманка', 'Мещанский район'],\n",
       "      dtype=object)"
      ]
     },
     "execution_count": 35,
     "metadata": {},
     "output_type": "execute_result"
    }
   ],
   "source": [
    "moscow_street[moscow_street['streetname'].isin(top_street['street'])]['area'].unique()"
   ]
  },
  {
   "cell_type": "markdown",
   "metadata": {},
   "source": [
    "Данные улицы находятся в районах ЦАО, ЮЗАО, САО, ЮАО, ЗАО. Самый популряный район ЦАО."
   ]
  },
  {
   "cell_type": "markdown",
   "metadata": {},
   "source": [
    "<a id='11-bullet'></a>\n",
    "### Определение числа улиц с одним объектом общественного питания. Определение районов Москвы, в которых находятся эти улицы."
   ]
  },
  {
   "cell_type": "code",
   "execution_count": 36,
   "metadata": {},
   "outputs": [
    {
     "data": {
      "text/plain": [
       "551"
      ]
     },
     "execution_count": 36,
     "metadata": {},
     "output_type": "execute_result"
    }
   ],
   "source": [
    "only_one = all_street[all_street['id']==1]\n",
    "only_one['street'].count()"
   ]
  },
  {
   "cell_type": "code",
   "execution_count": 37,
   "metadata": {},
   "outputs": [
    {
     "data": {
      "text/plain": [
       "Таганский район            27\n",
       "Район Хамовники            26\n",
       "Басманный район            25\n",
       "Тверской район             20\n",
       "Пресненский район          19\n",
       "                           ..\n",
       "Район Марьино               1\n",
       "Район Ивановское            1\n",
       "Район Восточный             1\n",
       "Район Западное Дегунино     1\n",
       "Район Южное Медведково      1\n",
       "Name: area, Length: 100, dtype: int64"
      ]
     },
     "execution_count": 37,
     "metadata": {},
     "output_type": "execute_result"
    }
   ],
   "source": [
    "moscow_street[moscow_street['streetname'].isin(only_one['street'])]['area'].value_counts()"
   ]
  },
  {
   "cell_type": "code",
   "execution_count": 38,
   "metadata": {},
   "outputs": [],
   "source": [
    "top_5_area = moscow_street[moscow_street['streetname'].isin(only_one['street'])]['area'].value_counts().reset_index().head(5)\n",
    "top_5_area.columns=['area','sum_street']"
   ]
  },
  {
   "cell_type": "code",
   "execution_count": 39,
   "metadata": {},
   "outputs": [
    {
     "data": {
      "image/png": "[encoded data removed]"
     },
     "metadata": {},
     "output_type": "display_data"
    }
   ],
   "source": [
    "fig_top_5_area = px.bar(top_5_area, x=\"area\", y=\"sum_street\", text=\"sum_street\")\n",
    "fig_top_5_area.update_layout(title=\"Топ-5 районов по количеству улиц с одним объектом общественного питания\",\n",
    "                  xaxis_title=\"Район\",\n",
    "                  yaxis_title=\"Количество улиц с одним объектом общественного питания\",\n",
    "                  margin=dict(l=20, r=20, t=30, b=20))\n",
    "fig_top_5_area.show('png')"
   ]
  },
  {
   "cell_type": "markdown",
   "metadata": {},
   "source": [
    "551 улица с одним объектом общественного питания. Можно сделать вывод, что эти улицы находятся практически во всех районах города."
   ]
  },
  {
   "cell_type": "markdown",
   "metadata": {},
   "source": [
    "## Общий вывод"
   ]
  },
  {
   "cell_type": "markdown",
   "metadata": {},
   "source": [
    "На основе данных было построена диаграмма соотношения видов объектов общественного питания по количеству. На ее основе был сделан вывод, что самым популярным типом заведения является кафе.\n",
    "\n",
    "Далее было исследовано соотношение сетевых и несетевых заведений по количеству. Также была построена диаграмма и выявлено, что несетевых заведений больше сетевых.\n",
    "\n",
    "Затем было определено для какого вида общественного питания характерно сетевое распространение. Оно характерно для преприятий быстрого обслуживания. Такой вывод был сделан на основе столбчатой диаграммы.\n",
    "\n",
    "В след за этим была выяснено, что характерно для сетевых заведений: много заведений с небольшим числом посадочных мест в каждом или мало заведений с большим количеством посадочных мест? Для этого данные были сгруппированны по названию сети и посчитано количество заведений сети и среднее количество посадочных мест в одном заведении. Далее был построен график разброса, на котором преобладает мало заведений с большим количеством посадочных мест. Также каждое заведение было разбито  на 4 категории: \n",
    "1. много заведений, мало мест\n",
    "2. много заведений, много мест\n",
    "3. мало заведений, мало мест\n",
    "4. мало заведений, много мест.\n",
    "\n",
    "Определение малого или большого количества заведений/посадочных мест было по 50 процентилю среди уникальных значений сгруппированных данных о количестве заведений/посадочных мест. Фаворитом среди двух категорий, заявленных в начале, оказалась - \"мало заведений, много мест\". Однако, лидером среди 4 категорий является - \"мало заведений и мало мест\".\n",
    "\n",
    "Далее в ходе исследования было определенно среднее количество посадочных мест для каждого вида объекта общественного питания. По столбчатой диаграмме наибольшее количество посадочных мест оказалось у столовых.\n",
    "\n",
    "Затем было выявлено топ 10 улиц по количеству заведений и определены районы, через которые они проходят.\n",
    "\n",
    "После этого были выявлены улицы с один заведением и также определены районы. Топ-5 районов отображены на графике.\n",
    "\n",
    "**Рекомендации:**\n",
    "\n",
    "Вид заведения рекомендуется выбрать в формате кафе, так как это наиболее популярный объект общественного питания. В ходе исследования было выявлено, что среднее количество мест равно 40. Поэтому целесообразно будет выбрать 40 посадочных мест для заведения. Самый популярный район оказался ЦАО, так что рекомендуется выбрать именно этот район. Не рекомендуется организовывать сеть кафе, так как доля сетевых кафе среди всех заведений данного формата мала. К тому же, доля сетевых заведений среди всех объектов общественного питания составляет лишь примерно 19 процентов. "
   ]
  },
  {
   "cell_type": "markdown",
   "metadata": {},
   "source": [
    "## Презентация"
   ]
  },
  {
   "cell_type": "markdown",
   "metadata": {},
   "source": [
    "Презентация: https://docs.google.com/presentation/d/1hDAhr1r8eilMeI72cexYIJDfCd9XsDuC-mtBDknjBHA/edit?usp=sharing"
   ]
  }
 ],
 "metadata": {
  "ExecuteTimeLog": [
   {
    "duration": 2,
    "start_time": "2022-08-03T00:37:10.563Z"
   },
   {
    "duration": 234,
    "start_time": "2022-08-03T00:37:56.365Z"
   },
   {
    "duration": 18,
    "start_time": "2022-08-03T00:38:06.699Z"
   },
   {
    "duration": 14,
    "start_time": "2022-08-03T00:39:55.930Z"
   },
   {
    "duration": 61,
    "start_time": "2022-08-03T00:45:38.335Z"
   },
   {
    "duration": 13,
    "start_time": "2022-08-03T00:45:44.404Z"
   },
   {
    "duration": 6,
    "start_time": "2022-08-03T00:46:13.979Z"
   },
   {
    "duration": 5,
    "start_time": "2022-08-03T00:46:34.359Z"
   },
   {
    "duration": 8,
    "start_time": "2022-08-03T00:49:58.543Z"
   },
   {
    "duration": 16,
    "start_time": "2022-08-03T00:50:08.990Z"
   },
   {
    "duration": 7,
    "start_time": "2022-08-03T00:51:49.588Z"
   },
   {
    "duration": 17,
    "start_time": "2022-08-03T00:52:25.533Z"
   },
   {
    "duration": 9,
    "start_time": "2022-08-03T00:52:43.569Z"
   },
   {
    "duration": 16,
    "start_time": "2022-08-03T00:55:21.630Z"
   },
   {
    "duration": 5,
    "start_time": "2022-08-03T00:56:25.935Z"
   },
   {
    "duration": 7,
    "start_time": "2022-08-03T00:56:33.928Z"
   },
   {
    "duration": 14,
    "start_time": "2022-08-03T00:56:54.448Z"
   },
   {
    "duration": 6,
    "start_time": "2022-08-03T00:57:13.028Z"
   },
   {
    "duration": 7,
    "start_time": "2022-08-03T00:57:52.558Z"
   },
   {
    "duration": 4,
    "start_time": "2022-08-03T00:59:28.883Z"
   },
   {
    "duration": 5,
    "start_time": "2022-08-03T00:59:57.971Z"
   },
   {
    "duration": 4,
    "start_time": "2022-08-03T01:01:01.076Z"
   },
   {
    "duration": 11,
    "start_time": "2022-08-03T01:01:30.862Z"
   },
   {
    "duration": 6,
    "start_time": "2022-08-03T01:14:24.484Z"
   },
   {
    "duration": 16,
    "start_time": "2022-08-03T01:14:28.930Z"
   },
   {
    "duration": 16,
    "start_time": "2022-08-03T01:14:44.349Z"
   },
   {
    "duration": 319,
    "start_time": "2022-08-03T01:18:15.623Z"
   },
   {
    "duration": 90,
    "start_time": "2022-08-03T01:18:32.838Z"
   },
   {
    "duration": 22,
    "start_time": "2022-08-03T01:19:11.427Z"
   },
   {
    "duration": 4,
    "start_time": "2022-08-03T01:19:18.129Z"
   },
   {
    "duration": 7,
    "start_time": "2022-08-03T01:19:40.045Z"
   },
   {
    "duration": 78,
    "start_time": "2022-08-03T01:19:53.041Z"
   },
   {
    "duration": 10,
    "start_time": "2022-08-03T01:20:11.819Z"
   },
   {
    "duration": 9,
    "start_time": "2022-08-03T01:20:16.249Z"
   },
   {
    "duration": 9,
    "start_time": "2022-08-03T01:20:20.956Z"
   },
   {
    "duration": 7,
    "start_time": "2022-08-03T01:20:28.521Z"
   },
   {
    "duration": 6,
    "start_time": "2022-08-03T01:20:48.683Z"
   },
   {
    "duration": 8,
    "start_time": "2022-08-03T01:20:59.358Z"
   },
   {
    "duration": 3,
    "start_time": "2022-08-03T01:21:03.531Z"
   },
   {
    "duration": 9,
    "start_time": "2022-08-03T01:21:30.634Z"
   },
   {
    "duration": 7,
    "start_time": "2022-08-03T01:21:43.265Z"
   },
   {
    "duration": 9,
    "start_time": "2022-08-03T01:22:01.294Z"
   },
   {
    "duration": 6,
    "start_time": "2022-08-03T01:23:26.093Z"
   },
   {
    "duration": 10,
    "start_time": "2022-08-03T01:23:27.593Z"
   },
   {
    "duration": 4,
    "start_time": "2022-08-03T01:27:33.028Z"
   },
   {
    "duration": 8,
    "start_time": "2022-08-03T01:28:06.247Z"
   },
   {
    "duration": 12,
    "start_time": "2022-08-03T01:39:13.715Z"
   },
   {
    "duration": 11,
    "start_time": "2022-08-03T01:40:47.087Z"
   },
   {
    "duration": 19,
    "start_time": "2022-08-03T01:41:54.839Z"
   },
   {
    "duration": 7,
    "start_time": "2022-08-03T01:42:16.541Z"
   },
   {
    "duration": 19,
    "start_time": "2022-08-03T01:42:21.317Z"
   },
   {
    "duration": 15,
    "start_time": "2022-08-03T01:43:17.343Z"
   },
   {
    "duration": 16,
    "start_time": "2022-08-03T01:43:30.567Z"
   },
   {
    "duration": 8,
    "start_time": "2022-08-03T01:43:44.968Z"
   },
   {
    "duration": 5,
    "start_time": "2022-08-03T01:43:47.951Z"
   },
   {
    "duration": 3,
    "start_time": "2022-08-03T01:44:31.131Z"
   },
   {
    "duration": 4,
    "start_time": "2022-08-03T01:45:03.719Z"
   },
   {
    "duration": 10,
    "start_time": "2022-08-03T01:45:11.618Z"
   },
   {
    "duration": 11,
    "start_time": "2022-08-03T01:45:37.524Z"
   },
   {
    "duration": 11,
    "start_time": "2022-08-03T01:46:01.482Z"
   },
   {
    "duration": 8,
    "start_time": "2022-08-03T01:48:50.123Z"
   },
   {
    "duration": 74,
    "start_time": "2022-08-03T01:49:25.717Z"
   },
   {
    "duration": 204,
    "start_time": "2022-08-03T01:49:30.296Z"
   },
   {
    "duration": 9,
    "start_time": "2022-08-03T01:51:02.594Z"
   },
   {
    "duration": 528,
    "start_time": "2022-08-03T15:27:54.482Z"
   },
   {
    "duration": 616,
    "start_time": "2022-08-03T15:27:55.013Z"
   },
   {
    "duration": 14,
    "start_time": "2022-08-03T15:27:55.631Z"
   },
   {
    "duration": 20,
    "start_time": "2022-08-03T15:27:55.647Z"
   },
   {
    "duration": 32,
    "start_time": "2022-08-03T15:27:55.669Z"
   },
   {
    "duration": 22,
    "start_time": "2022-08-03T15:27:55.703Z"
   },
   {
    "duration": 24,
    "start_time": "2022-08-03T15:27:55.727Z"
   },
   {
    "duration": 36,
    "start_time": "2022-08-03T15:27:55.753Z"
   },
   {
    "duration": 9,
    "start_time": "2022-08-03T15:27:55.790Z"
   },
   {
    "duration": 15,
    "start_time": "2022-08-03T15:27:55.801Z"
   },
   {
    "duration": 24,
    "start_time": "2022-08-03T15:27:55.817Z"
   },
   {
    "duration": 29,
    "start_time": "2022-08-03T15:27:55.842Z"
   },
   {
    "duration": 17,
    "start_time": "2022-08-03T15:27:55.872Z"
   },
   {
    "duration": 150,
    "start_time": "2022-08-03T15:27:55.890Z"
   },
   {
    "duration": 5,
    "start_time": "2022-08-03T15:27:56.042Z"
   },
   {
    "duration": 24,
    "start_time": "2022-08-03T15:27:56.048Z"
   },
   {
    "duration": 43,
    "start_time": "2022-08-03T15:27:56.073Z"
   },
   {
    "duration": 27,
    "start_time": "2022-08-03T15:27:56.117Z"
   },
   {
    "duration": 19,
    "start_time": "2022-08-03T15:27:56.146Z"
   },
   {
    "duration": 17,
    "start_time": "2022-08-03T15:27:56.167Z"
   },
   {
    "duration": 242,
    "start_time": "2022-08-03T15:27:56.203Z"
   },
   {
    "duration": 6,
    "start_time": "2022-08-03T15:29:13.390Z"
   },
   {
    "duration": 604,
    "start_time": "2022-08-03T15:34:13.634Z"
   },
   {
    "duration": 475,
    "start_time": "2022-08-03T16:20:09.382Z"
   },
   {
    "duration": 313,
    "start_time": "2022-08-03T16:20:30.701Z"
   },
   {
    "duration": 1623,
    "start_time": "2022-08-03T16:21:15.884Z"
   },
   {
    "duration": 10,
    "start_time": "2022-08-03T16:25:27.222Z"
   },
   {
    "duration": 8,
    "start_time": "2022-08-03T16:26:36.665Z"
   },
   {
    "duration": 56,
    "start_time": "2022-08-03T16:31:59.964Z"
   },
   {
    "duration": 13,
    "start_time": "2022-08-03T16:32:07.771Z"
   },
   {
    "duration": 117,
    "start_time": "2022-08-03T16:34:00.260Z"
   },
   {
    "duration": 146,
    "start_time": "2022-08-03T16:37:27.887Z"
   },
   {
    "duration": 224,
    "start_time": "2022-08-03T16:38:21.659Z"
   },
   {
    "duration": 254,
    "start_time": "2022-08-03T16:41:39.620Z"
   },
   {
    "duration": 335,
    "start_time": "2022-08-03T16:41:59.256Z"
   },
   {
    "duration": 253,
    "start_time": "2022-08-03T16:42:08.659Z"
   },
   {
    "duration": 230,
    "start_time": "2022-08-03T16:43:09.879Z"
   },
   {
    "duration": 246,
    "start_time": "2022-08-03T16:43:36.385Z"
   },
   {
    "duration": 12,
    "start_time": "2022-08-03T16:45:19.453Z"
   },
   {
    "duration": 3,
    "start_time": "2022-08-03T16:48:47.586Z"
   },
   {
    "duration": 237,
    "start_time": "2022-08-03T16:48:51.866Z"
   },
   {
    "duration": 270,
    "start_time": "2022-08-03T16:49:07.892Z"
   },
   {
    "duration": 222,
    "start_time": "2022-08-03T16:49:15.533Z"
   },
   {
    "duration": 11,
    "start_time": "2022-08-03T16:53:30.349Z"
   },
   {
    "duration": 9,
    "start_time": "2022-08-03T16:54:51.271Z"
   },
   {
    "duration": 9,
    "start_time": "2022-08-03T16:55:05.219Z"
   },
   {
    "duration": 12,
    "start_time": "2022-08-03T16:58:08.295Z"
   },
   {
    "duration": 432,
    "start_time": "2022-08-03T16:58:29.239Z"
   },
   {
    "duration": 9,
    "start_time": "2022-08-03T16:58:36.089Z"
   },
   {
    "duration": 17,
    "start_time": "2022-08-03T16:58:40.799Z"
   },
   {
    "duration": 392,
    "start_time": "2022-08-03T16:59:37.302Z"
   },
   {
    "duration": 535,
    "start_time": "2022-08-03T16:59:52.068Z"
   },
   {
    "duration": 539,
    "start_time": "2022-08-03T16:59:58.768Z"
   },
   {
    "duration": 443,
    "start_time": "2022-08-03T17:00:29.783Z"
   },
   {
    "duration": 467,
    "start_time": "2022-08-03T17:00:40.886Z"
   },
   {
    "duration": 447,
    "start_time": "2022-08-03T17:00:48.274Z"
   },
   {
    "duration": 449,
    "start_time": "2022-08-03T17:01:55.541Z"
   },
   {
    "duration": 484,
    "start_time": "2022-08-03T17:02:35.881Z"
   },
   {
    "duration": 4,
    "start_time": "2022-08-03T17:02:51.348Z"
   },
   {
    "duration": 445,
    "start_time": "2022-08-03T17:02:56.741Z"
   },
   {
    "duration": 434,
    "start_time": "2022-08-03T17:03:10.778Z"
   },
   {
    "duration": 463,
    "start_time": "2022-08-03T17:04:27.892Z"
   },
   {
    "duration": 534,
    "start_time": "2022-08-03T18:14:24.874Z"
   },
   {
    "duration": 880,
    "start_time": "2022-08-03T18:16:09.129Z"
   },
   {
    "duration": 6,
    "start_time": "2022-08-03T18:16:20.132Z"
   },
   {
    "duration": 17,
    "start_time": "2022-08-03T18:18:51.869Z"
   },
   {
    "duration": 6,
    "start_time": "2022-08-03T18:18:59.287Z"
   },
   {
    "duration": 16,
    "start_time": "2022-08-03T18:19:09.845Z"
   },
   {
    "duration": 6,
    "start_time": "2022-08-03T18:19:10.734Z"
   },
   {
    "duration": 5,
    "start_time": "2022-08-03T18:19:33.333Z"
   },
   {
    "duration": 6,
    "start_time": "2022-08-03T18:19:42.235Z"
   },
   {
    "duration": 6,
    "start_time": "2022-08-03T18:20:20.501Z"
   },
   {
    "duration": 6,
    "start_time": "2022-08-03T18:20:31.481Z"
   },
   {
    "duration": 6,
    "start_time": "2022-08-03T18:20:54.340Z"
   },
   {
    "duration": 6,
    "start_time": "2022-08-03T18:27:01.494Z"
   },
   {
    "duration": 31,
    "start_time": "2022-08-03T18:33:02.366Z"
   },
   {
    "duration": 6,
    "start_time": "2022-08-03T18:33:09.536Z"
   },
   {
    "duration": 170,
    "start_time": "2022-08-03T18:33:36.361Z"
   },
   {
    "duration": 5,
    "start_time": "2022-08-03T18:33:37.382Z"
   },
   {
    "duration": 18,
    "start_time": "2022-08-03T18:33:49.738Z"
   },
   {
    "duration": 30,
    "start_time": "2022-08-03T18:34:36.133Z"
   },
   {
    "duration": 3,
    "start_time": "2022-08-03T18:34:55.260Z"
   },
   {
    "duration": 5,
    "start_time": "2022-08-03T18:34:55.881Z"
   },
   {
    "duration": 12,
    "start_time": "2022-08-03T18:35:12.998Z"
   },
   {
    "duration": 6,
    "start_time": "2022-08-03T18:35:13.573Z"
   },
   {
    "duration": 5,
    "start_time": "2022-08-03T18:36:28.941Z"
   },
   {
    "duration": 11,
    "start_time": "2022-08-03T18:37:06.136Z"
   },
   {
    "duration": 4,
    "start_time": "2022-08-03T18:37:10.777Z"
   },
   {
    "duration": 12,
    "start_time": "2022-08-03T18:37:19.536Z"
   },
   {
    "duration": 11,
    "start_time": "2022-08-03T18:37:28.268Z"
   },
   {
    "duration": 1242,
    "start_time": "2022-08-03T19:00:45.184Z"
   },
   {
    "duration": 75,
    "start_time": "2022-08-03T19:00:46.428Z"
   },
   {
    "duration": 13,
    "start_time": "2022-08-03T19:00:46.504Z"
   },
   {
    "duration": 16,
    "start_time": "2022-08-03T19:00:46.520Z"
   },
   {
    "duration": 5,
    "start_time": "2022-08-03T19:00:46.539Z"
   },
   {
    "duration": 10,
    "start_time": "2022-08-03T19:00:46.546Z"
   },
   {
    "duration": 8,
    "start_time": "2022-08-03T19:00:46.558Z"
   },
   {
    "duration": 46,
    "start_time": "2022-08-03T19:00:46.567Z"
   },
   {
    "duration": 5,
    "start_time": "2022-08-03T19:00:46.614Z"
   },
   {
    "duration": 13,
    "start_time": "2022-08-03T19:00:46.622Z"
   },
   {
    "duration": 15,
    "start_time": "2022-08-03T19:00:46.637Z"
   },
   {
    "duration": 11,
    "start_time": "2022-08-03T19:00:46.654Z"
   },
   {
    "duration": 5,
    "start_time": "2022-08-03T19:00:46.667Z"
   },
   {
    "duration": 148,
    "start_time": "2022-08-03T19:00:46.673Z"
   },
   {
    "duration": 5,
    "start_time": "2022-08-03T19:00:46.822Z"
   },
   {
    "duration": 12,
    "start_time": "2022-08-03T19:00:46.829Z"
   },
   {
    "duration": 61,
    "start_time": "2022-08-03T19:00:46.842Z"
   },
   {
    "duration": 3,
    "start_time": "2022-08-03T19:00:46.905Z"
   },
   {
    "duration": 7,
    "start_time": "2022-08-03T19:00:46.909Z"
   },
   {
    "duration": 12,
    "start_time": "2022-08-03T19:00:46.917Z"
   },
   {
    "duration": 279,
    "start_time": "2022-08-03T19:00:46.931Z"
   },
   {
    "duration": 6,
    "start_time": "2022-08-03T19:00:47.211Z"
   },
   {
    "duration": 265,
    "start_time": "2022-08-03T19:00:47.218Z"
   },
   {
    "duration": 503,
    "start_time": "2022-08-03T19:00:47.484Z"
   },
   {
    "duration": 13,
    "start_time": "2022-08-03T19:00:47.989Z"
   },
   {
    "duration": 169,
    "start_time": "2022-08-03T19:00:48.004Z"
   },
   {
    "duration": 14,
    "start_time": "2022-08-03T19:01:13.031Z"
   },
   {
    "duration": 3,
    "start_time": "2022-08-03T19:07:42.173Z"
   },
   {
    "duration": 249,
    "start_time": "2022-08-03T19:07:46.743Z"
   },
   {
    "duration": 6,
    "start_time": "2022-08-03T19:07:59.150Z"
   },
   {
    "duration": 20,
    "start_time": "2022-08-03T19:09:14.648Z"
   },
   {
    "duration": 57,
    "start_time": "2022-08-03T19:10:24.455Z"
   },
   {
    "duration": 20,
    "start_time": "2022-08-03T19:10:35.345Z"
   },
   {
    "duration": 20,
    "start_time": "2022-08-03T19:11:07.857Z"
   },
   {
    "duration": 16,
    "start_time": "2022-08-03T19:11:16.545Z"
   },
   {
    "duration": 17,
    "start_time": "2022-08-03T19:11:54.464Z"
   },
   {
    "duration": 18,
    "start_time": "2022-08-03T19:24:47.990Z"
   },
   {
    "duration": 16,
    "start_time": "2022-08-03T19:24:57.545Z"
   },
   {
    "duration": 40,
    "start_time": "2022-08-03T19:25:23.037Z"
   },
   {
    "duration": 617,
    "start_time": "2022-08-03T19:25:45.533Z"
   },
   {
    "duration": 11,
    "start_time": "2022-08-03T19:26:08.753Z"
   },
   {
    "duration": 8,
    "start_time": "2022-08-03T19:27:09.657Z"
   },
   {
    "duration": 6,
    "start_time": "2022-08-03T19:27:28.295Z"
   },
   {
    "duration": 12,
    "start_time": "2022-08-03T19:32:48.878Z"
   },
   {
    "duration": 42,
    "start_time": "2022-08-03T19:33:39.793Z"
   },
   {
    "duration": 9,
    "start_time": "2022-08-03T19:33:43.657Z"
   },
   {
    "duration": 1520,
    "start_time": "2022-08-04T14:46:46.218Z"
   },
   {
    "duration": 278,
    "start_time": "2022-08-04T14:46:47.741Z"
   },
   {
    "duration": 16,
    "start_time": "2022-08-04T14:46:48.021Z"
   },
   {
    "duration": 13,
    "start_time": "2022-08-04T14:46:48.039Z"
   },
   {
    "duration": 6,
    "start_time": "2022-08-04T14:46:48.054Z"
   },
   {
    "duration": 9,
    "start_time": "2022-08-04T14:46:48.062Z"
   },
   {
    "duration": 8,
    "start_time": "2022-08-04T14:46:48.072Z"
   },
   {
    "duration": 22,
    "start_time": "2022-08-04T14:46:48.107Z"
   },
   {
    "duration": 5,
    "start_time": "2022-08-04T14:46:48.130Z"
   },
   {
    "duration": 7,
    "start_time": "2022-08-04T14:46:48.137Z"
   },
   {
    "duration": 7,
    "start_time": "2022-08-04T14:46:48.145Z"
   },
   {
    "duration": 13,
    "start_time": "2022-08-04T14:46:48.154Z"
   },
   {
    "duration": 6,
    "start_time": "2022-08-04T14:46:48.169Z"
   },
   {
    "duration": 169,
    "start_time": "2022-08-04T14:46:48.205Z"
   },
   {
    "duration": 5,
    "start_time": "2022-08-04T14:46:48.376Z"
   },
   {
    "duration": 31,
    "start_time": "2022-08-04T14:46:48.383Z"
   },
   {
    "duration": 39,
    "start_time": "2022-08-04T14:46:48.416Z"
   },
   {
    "duration": 49,
    "start_time": "2022-08-04T14:46:48.457Z"
   },
   {
    "duration": 6,
    "start_time": "2022-08-04T14:46:48.509Z"
   },
   {
    "duration": 15,
    "start_time": "2022-08-04T14:46:48.518Z"
   },
   {
    "duration": 263,
    "start_time": "2022-08-04T14:46:48.536Z"
   },
   {
    "duration": 9,
    "start_time": "2022-08-04T14:46:48.808Z"
   },
   {
    "duration": 414,
    "start_time": "2022-08-04T14:46:48.819Z"
   },
   {
    "duration": 478,
    "start_time": "2022-08-04T14:46:49.236Z"
   },
   {
    "duration": 13,
    "start_time": "2022-08-04T14:46:49.716Z"
   },
   {
    "duration": 176,
    "start_time": "2022-08-04T14:46:49.731Z"
   },
   {
    "duration": 18,
    "start_time": "2022-08-04T14:46:49.915Z"
   },
   {
    "duration": 6,
    "start_time": "2022-08-04T14:46:49.935Z"
   },
   {
    "duration": 490,
    "start_time": "2022-08-04T15:26:21.501Z"
   },
   {
    "duration": 539,
    "start_time": "2022-08-04T15:26:34.723Z"
   },
   {
    "duration": 581,
    "start_time": "2022-08-04T15:26:48.694Z"
   },
   {
    "duration": 609,
    "start_time": "2022-08-04T15:32:21.234Z"
   },
   {
    "duration": 462,
    "start_time": "2022-08-04T15:33:21.658Z"
   },
   {
    "duration": 495,
    "start_time": "2022-08-04T15:35:02.500Z"
   },
   {
    "duration": 516,
    "start_time": "2022-08-04T15:35:10.332Z"
   },
   {
    "duration": 639,
    "start_time": "2022-08-04T15:35:28.042Z"
   },
   {
    "duration": 1258,
    "start_time": "2022-08-04T22:57:15.128Z"
   },
   {
    "duration": 111,
    "start_time": "2022-08-04T22:57:16.388Z"
   },
   {
    "duration": 14,
    "start_time": "2022-08-04T22:57:16.501Z"
   },
   {
    "duration": 11,
    "start_time": "2022-08-04T22:57:16.517Z"
   },
   {
    "duration": 5,
    "start_time": "2022-08-04T22:57:16.530Z"
   },
   {
    "duration": 8,
    "start_time": "2022-08-04T22:57:16.537Z"
   },
   {
    "duration": 12,
    "start_time": "2022-08-04T22:57:16.546Z"
   },
   {
    "duration": 18,
    "start_time": "2022-08-04T22:57:16.559Z"
   },
   {
    "duration": 4,
    "start_time": "2022-08-04T22:57:16.579Z"
   },
   {
    "duration": 5,
    "start_time": "2022-08-04T22:57:16.586Z"
   },
   {
    "duration": 5,
    "start_time": "2022-08-04T22:57:16.592Z"
   },
   {
    "duration": 11,
    "start_time": "2022-08-04T22:57:16.598Z"
   },
   {
    "duration": 5,
    "start_time": "2022-08-04T22:57:16.610Z"
   },
   {
    "duration": 181,
    "start_time": "2022-08-04T22:57:16.616Z"
   },
   {
    "duration": 6,
    "start_time": "2022-08-04T22:57:16.799Z"
   },
   {
    "duration": 11,
    "start_time": "2022-08-04T22:57:16.806Z"
   },
   {
    "duration": 43,
    "start_time": "2022-08-04T22:57:16.819Z"
   },
   {
    "duration": 2,
    "start_time": "2022-08-04T22:57:16.864Z"
   },
   {
    "duration": 5,
    "start_time": "2022-08-04T22:57:16.868Z"
   },
   {
    "duration": 11,
    "start_time": "2022-08-04T22:57:16.875Z"
   },
   {
    "duration": 249,
    "start_time": "2022-08-04T22:57:16.887Z"
   },
   {
    "duration": 5,
    "start_time": "2022-08-04T22:57:17.138Z"
   },
   {
    "duration": 319,
    "start_time": "2022-08-04T22:57:17.154Z"
   },
   {
    "duration": 402,
    "start_time": "2022-08-04T22:57:17.474Z"
   },
   {
    "duration": 13,
    "start_time": "2022-08-04T22:57:17.877Z"
   },
   {
    "duration": 146,
    "start_time": "2022-08-04T22:57:17.892Z"
   },
   {
    "duration": 17,
    "start_time": "2022-08-04T22:57:18.040Z"
   },
   {
    "duration": 5,
    "start_time": "2022-08-04T22:57:18.059Z"
   },
   {
    "duration": 196,
    "start_time": "2022-08-04T22:59:13.130Z"
   },
   {
    "duration": 1191,
    "start_time": "2022-08-04T23:23:09.253Z"
   },
   {
    "duration": 270,
    "start_time": "2022-08-04T23:23:10.446Z"
   },
   {
    "duration": 14,
    "start_time": "2022-08-04T23:23:10.718Z"
   },
   {
    "duration": 10,
    "start_time": "2022-08-04T23:23:10.734Z"
   },
   {
    "duration": 5,
    "start_time": "2022-08-04T23:23:10.746Z"
   },
   {
    "duration": 18,
    "start_time": "2022-08-04T23:23:10.752Z"
   },
   {
    "duration": 15,
    "start_time": "2022-08-04T23:23:10.772Z"
   },
   {
    "duration": 18,
    "start_time": "2022-08-04T23:23:10.789Z"
   },
   {
    "duration": 30,
    "start_time": "2022-08-04T23:23:10.808Z"
   },
   {
    "duration": 5,
    "start_time": "2022-08-04T23:23:10.842Z"
   },
   {
    "duration": 5,
    "start_time": "2022-08-04T23:23:10.849Z"
   },
   {
    "duration": 12,
    "start_time": "2022-08-04T23:23:10.856Z"
   },
   {
    "duration": 6,
    "start_time": "2022-08-04T23:23:10.869Z"
   },
   {
    "duration": 192,
    "start_time": "2022-08-04T23:23:10.877Z"
   },
   {
    "duration": 5,
    "start_time": "2022-08-04T23:23:11.071Z"
   },
   {
    "duration": 12,
    "start_time": "2022-08-04T23:23:11.077Z"
   },
   {
    "duration": 56,
    "start_time": "2022-08-04T23:23:11.090Z"
   },
   {
    "duration": 4,
    "start_time": "2022-08-04T23:23:11.147Z"
   },
   {
    "duration": 15,
    "start_time": "2022-08-04T23:23:11.152Z"
   },
   {
    "duration": 12,
    "start_time": "2022-08-04T23:23:11.168Z"
   },
   {
    "duration": 250,
    "start_time": "2022-08-04T23:23:11.182Z"
   },
   {
    "duration": 9,
    "start_time": "2022-08-04T23:23:11.433Z"
   },
   {
    "duration": 233,
    "start_time": "2022-08-04T23:23:11.444Z"
   },
   {
    "duration": 450,
    "start_time": "2022-08-04T23:23:11.679Z"
   },
   {
    "duration": 18,
    "start_time": "2022-08-04T23:23:12.131Z"
   },
   {
    "duration": 246,
    "start_time": "2022-08-04T23:23:12.151Z"
   },
   {
    "duration": 226,
    "start_time": "2022-08-04T23:23:12.398Z"
   },
   {
    "duration": 11,
    "start_time": "2022-08-04T23:23:12.627Z"
   },
   {
    "duration": 78,
    "start_time": "2022-08-04T23:24:12.967Z"
   },
   {
    "duration": 1664,
    "start_time": "2022-08-05T17:00:29.921Z"
   },
   {
    "duration": 189,
    "start_time": "2022-08-05T17:00:31.587Z"
   },
   {
    "duration": 30,
    "start_time": "2022-08-05T17:00:31.778Z"
   },
   {
    "duration": 58,
    "start_time": "2022-08-05T17:00:31.814Z"
   },
   {
    "duration": 12,
    "start_time": "2022-08-05T17:00:31.876Z"
   },
   {
    "duration": 57,
    "start_time": "2022-08-05T17:00:31.890Z"
   },
   {
    "duration": 20,
    "start_time": "2022-08-05T17:00:31.949Z"
   },
   {
    "duration": 70,
    "start_time": "2022-08-05T17:00:31.971Z"
   },
   {
    "duration": 10,
    "start_time": "2022-08-05T17:00:32.043Z"
   },
   {
    "duration": 30,
    "start_time": "2022-08-05T17:00:32.055Z"
   },
   {
    "duration": 35,
    "start_time": "2022-08-05T17:00:32.088Z"
   },
   {
    "duration": 25,
    "start_time": "2022-08-05T17:00:32.125Z"
   },
   {
    "duration": 8,
    "start_time": "2022-08-05T17:00:32.153Z"
   },
   {
    "duration": 213,
    "start_time": "2022-08-05T17:00:32.165Z"
   },
   {
    "duration": 7,
    "start_time": "2022-08-05T17:00:32.380Z"
   },
   {
    "duration": 67,
    "start_time": "2022-08-05T17:00:32.399Z"
   },
   {
    "duration": 47,
    "start_time": "2022-08-05T17:00:32.469Z"
   },
   {
    "duration": 27,
    "start_time": "2022-08-05T17:00:32.518Z"
   },
   {
    "duration": 10,
    "start_time": "2022-08-05T17:00:32.547Z"
   },
   {
    "duration": 17,
    "start_time": "2022-08-05T17:00:32.559Z"
   },
   {
    "duration": 295,
    "start_time": "2022-08-05T17:00:32.578Z"
   },
   {
    "duration": 7,
    "start_time": "2022-08-05T17:00:32.875Z"
   },
   {
    "duration": 376,
    "start_time": "2022-08-05T17:00:32.884Z"
   },
   {
    "duration": 562,
    "start_time": "2022-08-05T17:00:33.263Z"
   },
   {
    "duration": 20,
    "start_time": "2022-08-05T17:00:33.827Z"
   },
   {
    "duration": 261,
    "start_time": "2022-08-05T17:00:33.849Z"
   },
   {
    "duration": 307,
    "start_time": "2022-08-05T17:00:34.121Z"
   },
   {
    "duration": 8,
    "start_time": "2022-08-05T17:00:34.431Z"
   },
   {
    "duration": 158,
    "start_time": "2022-08-05T17:09:07.796Z"
   },
   {
    "duration": 18,
    "start_time": "2022-08-05T17:09:49.420Z"
   },
   {
    "duration": 80,
    "start_time": "2022-08-05T17:10:12.500Z"
   },
   {
    "duration": 14386,
    "start_time": "2022-08-05T17:10:22.755Z"
   },
   {
    "duration": 26,
    "start_time": "2022-08-05T17:11:46.992Z"
   },
   {
    "duration": 13,
    "start_time": "2022-08-05T17:54:14.953Z"
   },
   {
    "duration": 6,
    "start_time": "2022-08-05T17:54:38.215Z"
   },
   {
    "duration": 26,
    "start_time": "2022-08-05T17:59:56.888Z"
   },
   {
    "duration": 29,
    "start_time": "2022-08-05T18:01:19.281Z"
   },
   {
    "duration": 13,
    "start_time": "2022-08-05T19:59:52.789Z"
   },
   {
    "duration": 159,
    "start_time": "2022-08-05T20:00:46.933Z"
   },
   {
    "duration": 11,
    "start_time": "2022-08-05T20:00:56.545Z"
   },
   {
    "duration": 21,
    "start_time": "2022-08-05T20:01:13.960Z"
   },
   {
    "duration": 14,
    "start_time": "2022-08-05T20:01:29.641Z"
   },
   {
    "duration": 16,
    "start_time": "2022-08-05T20:02:05.533Z"
   },
   {
    "duration": 15,
    "start_time": "2022-08-05T20:19:39.845Z"
   },
   {
    "duration": 26,
    "start_time": "2022-08-05T20:19:45.578Z"
   },
   {
    "duration": 16,
    "start_time": "2022-08-05T20:19:49.942Z"
   },
   {
    "duration": 11,
    "start_time": "2022-08-05T20:28:30.328Z"
   },
   {
    "duration": 15,
    "start_time": "2022-08-05T20:33:27.241Z"
   },
   {
    "duration": 14,
    "start_time": "2022-08-05T20:34:30.649Z"
   },
   {
    "duration": 20,
    "start_time": "2022-08-05T20:35:13.687Z"
   },
   {
    "duration": 473,
    "start_time": "2022-08-05T20:38:10.188Z"
   },
   {
    "duration": 20,
    "start_time": "2022-08-05T20:38:36.960Z"
   },
   {
    "duration": 24,
    "start_time": "2022-08-05T20:38:49.080Z"
   },
   {
    "duration": 191,
    "start_time": "2022-08-05T20:39:00.475Z"
   },
   {
    "duration": 219,
    "start_time": "2022-08-05T20:41:17.839Z"
   },
   {
    "duration": 4,
    "start_time": "2022-08-05T20:47:53.435Z"
   },
   {
    "duration": 5,
    "start_time": "2022-08-05T20:48:13.374Z"
   },
   {
    "duration": 11,
    "start_time": "2022-08-05T20:48:54.343Z"
   },
   {
    "duration": 4,
    "start_time": "2022-08-05T20:49:16.451Z"
   },
   {
    "duration": 7,
    "start_time": "2022-08-05T20:49:34.630Z"
   },
   {
    "duration": 5,
    "start_time": "2022-08-05T20:49:52.052Z"
   },
   {
    "duration": 4,
    "start_time": "2022-08-05T20:50:39.157Z"
   },
   {
    "duration": 5,
    "start_time": "2022-08-05T20:50:44.046Z"
   },
   {
    "duration": 6,
    "start_time": "2022-08-05T20:51:24.723Z"
   },
   {
    "duration": 5,
    "start_time": "2022-08-05T20:51:40.952Z"
   },
   {
    "duration": 8,
    "start_time": "2022-08-05T20:52:34.237Z"
   },
   {
    "duration": 9,
    "start_time": "2022-08-05T20:52:40.522Z"
   },
   {
    "duration": 9,
    "start_time": "2022-08-05T20:52:49.047Z"
   },
   {
    "duration": 8,
    "start_time": "2022-08-05T20:52:57.956Z"
   },
   {
    "duration": 20,
    "start_time": "2022-08-05T20:53:04.686Z"
   },
   {
    "duration": 8,
    "start_time": "2022-08-05T20:53:15.443Z"
   },
   {
    "duration": 16,
    "start_time": "2022-08-05T20:53:21.490Z"
   },
   {
    "duration": 13,
    "start_time": "2022-08-05T20:53:26.084Z"
   },
   {
    "duration": 9,
    "start_time": "2022-08-05T20:53:32.922Z"
   },
   {
    "duration": 8,
    "start_time": "2022-08-05T20:53:38.223Z"
   },
   {
    "duration": 9,
    "start_time": "2022-08-05T20:53:44.737Z"
   },
   {
    "duration": 9,
    "start_time": "2022-08-05T20:53:50.068Z"
   },
   {
    "duration": 23,
    "start_time": "2022-08-05T20:53:55.386Z"
   },
   {
    "duration": 7,
    "start_time": "2022-08-05T20:59:10.637Z"
   },
   {
    "duration": 88,
    "start_time": "2022-08-05T21:04:16.265Z"
   },
   {
    "duration": 8,
    "start_time": "2022-08-05T21:04:59.639Z"
   },
   {
    "duration": 48,
    "start_time": "2022-08-05T21:05:48.984Z"
   },
   {
    "duration": 8,
    "start_time": "2022-08-05T21:07:41.913Z"
   },
   {
    "duration": 1497,
    "start_time": "2022-08-05T21:07:44.639Z"
   },
   {
    "duration": 6,
    "start_time": "2022-08-05T21:09:16.047Z"
   },
   {
    "duration": 1546,
    "start_time": "2022-08-05T21:09:17.333Z"
   },
   {
    "duration": 7,
    "start_time": "2022-08-05T21:09:50.261Z"
   },
   {
    "duration": 8,
    "start_time": "2022-08-05T21:09:56.578Z"
   },
   {
    "duration": 8,
    "start_time": "2022-08-05T21:10:20.870Z"
   },
   {
    "duration": 19,
    "start_time": "2022-08-05T21:11:17.798Z"
   },
   {
    "duration": 7,
    "start_time": "2022-08-05T21:11:56.112Z"
   },
   {
    "duration": 6,
    "start_time": "2022-08-05T21:12:00.543Z"
   },
   {
    "duration": 5,
    "start_time": "2022-08-05T21:12:37.758Z"
   },
   {
    "duration": 1491,
    "start_time": "2022-08-05T21:12:38.322Z"
   },
   {
    "duration": 1257,
    "start_time": "2022-08-05T21:13:19.761Z"
   },
   {
    "duration": 166,
    "start_time": "2022-08-05T21:19:44.918Z"
   },
   {
    "duration": 13,
    "start_time": "2022-08-05T21:26:05.122Z"
   },
   {
    "duration": 35,
    "start_time": "2022-08-05T21:26:29.845Z"
   },
   {
    "duration": 55,
    "start_time": "2022-08-05T21:26:38.850Z"
   },
   {
    "duration": 17,
    "start_time": "2022-08-05T21:26:54.157Z"
   },
   {
    "duration": 70,
    "start_time": "2022-08-05T21:27:18.319Z"
   },
   {
    "duration": 229,
    "start_time": "2022-08-05T21:27:35.012Z"
   },
   {
    "duration": 243,
    "start_time": "2022-08-05T21:27:42.510Z"
   },
   {
    "duration": 450,
    "start_time": "2022-08-05T21:27:59.139Z"
   },
   {
    "duration": 187,
    "start_time": "2022-08-05T21:30:11.508Z"
   },
   {
    "duration": 56,
    "start_time": "2022-08-05T21:34:23.284Z"
   },
   {
    "duration": 70,
    "start_time": "2022-08-05T21:34:53.167Z"
   },
   {
    "duration": 2429,
    "start_time": "2022-08-05T21:43:48.256Z"
   },
   {
    "duration": 2235,
    "start_time": "2022-08-05T21:44:41.273Z"
   },
   {
    "duration": 3,
    "start_time": "2022-08-05T21:44:55.863Z"
   },
   {
    "duration": 2970,
    "start_time": "2022-08-05T21:45:00.341Z"
   },
   {
    "duration": 1058,
    "start_time": "2022-08-05T21:45:28.548Z"
   },
   {
    "duration": 868,
    "start_time": "2022-08-05T21:45:58.868Z"
   },
   {
    "duration": 8,
    "start_time": "2022-08-05T21:47:48.750Z"
   },
   {
    "duration": 7,
    "start_time": "2022-08-05T21:48:57.900Z"
   },
   {
    "duration": 20,
    "start_time": "2022-08-05T21:49:10.762Z"
   },
   {
    "duration": 16,
    "start_time": "2022-08-05T21:49:44.741Z"
   },
   {
    "duration": 11,
    "start_time": "2022-08-05T21:49:50.676Z"
   },
   {
    "duration": 8,
    "start_time": "2022-08-05T21:50:11.856Z"
   },
   {
    "duration": 9,
    "start_time": "2022-08-05T21:50:29.918Z"
   },
   {
    "duration": 10,
    "start_time": "2022-08-05T21:51:13.767Z"
   },
   {
    "duration": 8,
    "start_time": "2022-08-05T21:51:25.524Z"
   },
   {
    "duration": 6,
    "start_time": "2022-08-05T21:51:34.735Z"
   },
   {
    "duration": 1510,
    "start_time": "2022-08-05T21:52:12.811Z"
   },
   {
    "duration": 124,
    "start_time": "2022-08-05T21:52:14.323Z"
   },
   {
    "duration": 16,
    "start_time": "2022-08-05T21:52:14.449Z"
   },
   {
    "duration": 19,
    "start_time": "2022-08-05T21:52:14.467Z"
   },
   {
    "duration": 11,
    "start_time": "2022-08-05T21:52:14.489Z"
   },
   {
    "duration": 24,
    "start_time": "2022-08-05T21:52:14.501Z"
   },
   {
    "duration": 9,
    "start_time": "2022-08-05T21:52:14.527Z"
   },
   {
    "duration": 24,
    "start_time": "2022-08-05T21:52:14.538Z"
   },
   {
    "duration": 34,
    "start_time": "2022-08-05T21:52:14.563Z"
   },
   {
    "duration": 10,
    "start_time": "2022-08-05T21:52:14.599Z"
   },
   {
    "duration": 9,
    "start_time": "2022-08-05T21:52:14.611Z"
   },
   {
    "duration": 6,
    "start_time": "2022-08-05T21:52:14.622Z"
   },
   {
    "duration": 13,
    "start_time": "2022-08-05T21:52:14.629Z"
   },
   {
    "duration": 7,
    "start_time": "2022-08-05T21:52:14.645Z"
   },
   {
    "duration": 203,
    "start_time": "2022-08-05T21:52:14.654Z"
   },
   {
    "duration": 5,
    "start_time": "2022-08-05T21:52:14.859Z"
   },
   {
    "duration": 24,
    "start_time": "2022-08-05T21:52:14.892Z"
   },
   {
    "duration": 20,
    "start_time": "2022-08-05T21:52:14.918Z"
   },
   {
    "duration": 54,
    "start_time": "2022-08-05T21:52:14.940Z"
   },
   {
    "duration": 23,
    "start_time": "2022-08-05T21:52:14.998Z"
   },
   {
    "duration": 18,
    "start_time": "2022-08-05T21:52:15.023Z"
   },
   {
    "duration": 304,
    "start_time": "2022-08-05T21:52:15.043Z"
   },
   {
    "duration": 7,
    "start_time": "2022-08-05T21:52:15.350Z"
   },
   {
    "duration": 291,
    "start_time": "2022-08-05T21:52:15.359Z"
   },
   {
    "duration": 7,
    "start_time": "2022-08-05T21:52:15.652Z"
   },
   {
    "duration": 1444,
    "start_time": "2022-08-05T21:52:15.661Z"
   },
   {
    "duration": 598,
    "start_time": "2022-08-05T21:52:17.108Z"
   },
   {
    "duration": 22,
    "start_time": "2022-08-05T21:52:17.715Z"
   },
   {
    "duration": 317,
    "start_time": "2022-08-05T21:52:17.739Z"
   },
   {
    "duration": 72,
    "start_time": "2022-08-05T21:52:18.058Z"
   },
   {
    "duration": 892,
    "start_time": "2022-08-05T21:52:18.132Z"
   },
   {
    "duration": 7,
    "start_time": "2022-08-05T21:52:19.026Z"
   },
   {
    "duration": 10,
    "start_time": "2022-08-05T21:52:19.035Z"
   },
   {
    "duration": 8,
    "start_time": "2022-08-05T21:52:19.047Z"
   },
   {
    "duration": 72,
    "start_time": "2022-08-05T21:54:42.687Z"
   },
   {
    "duration": 6,
    "start_time": "2022-08-05T21:54:59.476Z"
   },
   {
    "duration": 7,
    "start_time": "2022-08-05T21:55:36.571Z"
   },
   {
    "duration": 10,
    "start_time": "2022-08-05T21:56:14.953Z"
   },
   {
    "duration": 5,
    "start_time": "2022-08-05T21:57:00.711Z"
   },
   {
    "duration": 6,
    "start_time": "2022-08-05T21:57:06.429Z"
   },
   {
    "duration": 7,
    "start_time": "2022-08-05T21:58:18.209Z"
   },
   {
    "duration": 7,
    "start_time": "2022-08-05T21:58:19.181Z"
   },
   {
    "duration": 9,
    "start_time": "2022-08-05T22:00:01.401Z"
   },
   {
    "duration": 13,
    "start_time": "2022-08-05T22:00:01.903Z"
   },
   {
    "duration": 75,
    "start_time": "2022-08-05T22:01:44.361Z"
   },
   {
    "duration": 1420,
    "start_time": "2022-08-06T13:14:54.986Z"
   },
   {
    "duration": 272,
    "start_time": "2022-08-06T13:14:56.408Z"
   },
   {
    "duration": 13,
    "start_time": "2022-08-06T13:14:56.682Z"
   },
   {
    "duration": 18,
    "start_time": "2022-08-06T13:14:56.697Z"
   },
   {
    "duration": 5,
    "start_time": "2022-08-06T13:14:56.716Z"
   },
   {
    "duration": 8,
    "start_time": "2022-08-06T13:14:56.722Z"
   },
   {
    "duration": 7,
    "start_time": "2022-08-06T13:14:56.731Z"
   },
   {
    "duration": 15,
    "start_time": "2022-08-06T13:14:56.739Z"
   },
   {
    "duration": 14,
    "start_time": "2022-08-06T13:14:56.756Z"
   },
   {
    "duration": 28,
    "start_time": "2022-08-06T13:14:56.772Z"
   },
   {
    "duration": 5,
    "start_time": "2022-08-06T13:14:56.802Z"
   },
   {
    "duration": 14,
    "start_time": "2022-08-06T13:14:56.808Z"
   },
   {
    "duration": 11,
    "start_time": "2022-08-06T13:14:56.823Z"
   },
   {
    "duration": 5,
    "start_time": "2022-08-06T13:14:56.835Z"
   },
   {
    "duration": 165,
    "start_time": "2022-08-06T13:14:56.841Z"
   },
   {
    "duration": 5,
    "start_time": "2022-08-06T13:14:57.008Z"
   },
   {
    "duration": 38,
    "start_time": "2022-08-06T13:14:57.015Z"
   },
   {
    "duration": 62,
    "start_time": "2022-08-06T13:14:57.054Z"
   },
   {
    "duration": 3,
    "start_time": "2022-08-06T13:14:57.118Z"
   },
   {
    "duration": 30,
    "start_time": "2022-08-06T13:14:57.122Z"
   },
   {
    "duration": 22,
    "start_time": "2022-08-06T13:14:57.153Z"
   },
   {
    "duration": 245,
    "start_time": "2022-08-06T13:14:57.176Z"
   },
   {
    "duration": 7,
    "start_time": "2022-08-06T13:14:57.422Z"
   },
   {
    "duration": 255,
    "start_time": "2022-08-06T13:14:57.430Z"
   },
   {
    "duration": 6,
    "start_time": "2022-08-06T13:14:57.687Z"
   },
   {
    "duration": 1058,
    "start_time": "2022-08-06T13:14:57.699Z"
   },
   {
    "duration": 431,
    "start_time": "2022-08-06T13:14:58.758Z"
   },
   {
    "duration": 24,
    "start_time": "2022-08-06T13:14:59.192Z"
   },
   {
    "duration": 179,
    "start_time": "2022-08-06T13:14:59.218Z"
   },
   {
    "duration": 49,
    "start_time": "2022-08-06T13:14:59.399Z"
   },
   {
    "duration": 33380,
    "start_time": "2022-08-06T13:14:59.450Z"
   },
   {
    "duration": 6,
    "start_time": "2022-08-06T13:15:32.832Z"
   },
   {
    "duration": 10,
    "start_time": "2022-08-06T13:15:32.840Z"
   },
   {
    "duration": 8,
    "start_time": "2022-08-06T13:15:32.851Z"
   },
   {
    "duration": 9,
    "start_time": "2022-08-06T13:15:32.861Z"
   },
   {
    "duration": 15,
    "start_time": "2022-08-06T13:15:32.872Z"
   },
   {
    "duration": 47,
    "start_time": "2022-08-06T13:15:32.889Z"
   },
   {
    "duration": 1552,
    "start_time": "2022-08-06T15:41:18.758Z"
   },
   {
    "duration": 125,
    "start_time": "2022-08-06T15:41:20.312Z"
   },
   {
    "duration": 17,
    "start_time": "2022-08-06T15:41:20.439Z"
   },
   {
    "duration": 17,
    "start_time": "2022-08-06T15:41:20.459Z"
   },
   {
    "duration": 29,
    "start_time": "2022-08-06T15:41:20.478Z"
   },
   {
    "duration": 32,
    "start_time": "2022-08-06T15:41:20.509Z"
   },
   {
    "duration": 15,
    "start_time": "2022-08-06T15:41:20.543Z"
   },
   {
    "duration": 25,
    "start_time": "2022-08-06T15:41:20.560Z"
   },
   {
    "duration": 27,
    "start_time": "2022-08-06T15:41:20.587Z"
   },
   {
    "duration": 11,
    "start_time": "2022-08-06T15:41:20.617Z"
   },
   {
    "duration": 8,
    "start_time": "2022-08-06T15:41:20.629Z"
   },
   {
    "duration": 13,
    "start_time": "2022-08-06T15:41:20.639Z"
   },
   {
    "duration": 17,
    "start_time": "2022-08-06T15:41:20.654Z"
   },
   {
    "duration": 20,
    "start_time": "2022-08-06T15:41:20.674Z"
   },
   {
    "duration": 195,
    "start_time": "2022-08-06T15:41:20.698Z"
   },
   {
    "duration": 5,
    "start_time": "2022-08-06T15:41:20.895Z"
   },
   {
    "duration": 15,
    "start_time": "2022-08-06T15:41:20.902Z"
   },
   {
    "duration": 19,
    "start_time": "2022-08-06T15:41:20.919Z"
   },
   {
    "duration": 3,
    "start_time": "2022-08-06T15:41:20.940Z"
   },
   {
    "duration": 49,
    "start_time": "2022-08-06T15:41:20.945Z"
   },
   {
    "duration": 17,
    "start_time": "2022-08-06T15:41:20.996Z"
   },
   {
    "duration": 299,
    "start_time": "2022-08-06T15:41:21.015Z"
   },
   {
    "duration": 6,
    "start_time": "2022-08-06T15:41:21.316Z"
   },
   {
    "duration": 274,
    "start_time": "2022-08-06T15:41:21.324Z"
   },
   {
    "duration": 6,
    "start_time": "2022-08-06T15:41:21.600Z"
   },
   {
    "duration": 1352,
    "start_time": "2022-08-06T15:41:21.608Z"
   },
   {
    "duration": 510,
    "start_time": "2022-08-06T15:41:22.962Z"
   },
   {
    "duration": 23,
    "start_time": "2022-08-06T15:41:23.476Z"
   },
   {
    "duration": 203,
    "start_time": "2022-08-06T15:41:23.500Z"
   },
   {
    "duration": 63,
    "start_time": "2022-08-06T15:41:23.704Z"
   },
   {
    "duration": 1209,
    "start_time": "2022-08-06T15:41:23.769Z"
   },
   {
    "duration": 8,
    "start_time": "2022-08-06T15:41:24.979Z"
   },
   {
    "duration": 9,
    "start_time": "2022-08-06T15:41:24.989Z"
   },
   {
    "duration": 13,
    "start_time": "2022-08-06T15:41:25.000Z"
   },
   {
    "duration": 11,
    "start_time": "2022-08-06T15:41:25.014Z"
   },
   {
    "duration": 17,
    "start_time": "2022-08-06T15:41:25.027Z"
   },
   {
    "duration": 59,
    "start_time": "2022-08-06T15:41:25.046Z"
   },
   {
    "duration": 1417,
    "start_time": "2022-08-06T15:41:31.200Z"
   },
   {
    "duration": 75,
    "start_time": "2022-08-06T15:41:32.619Z"
   },
   {
    "duration": 16,
    "start_time": "2022-08-06T15:41:32.696Z"
   },
   {
    "duration": 14,
    "start_time": "2022-08-06T15:41:32.715Z"
   },
   {
    "duration": 6,
    "start_time": "2022-08-06T15:41:32.731Z"
   },
   {
    "duration": 18,
    "start_time": "2022-08-06T15:41:32.738Z"
   },
   {
    "duration": 15,
    "start_time": "2022-08-06T15:41:32.758Z"
   },
   {
    "duration": 21,
    "start_time": "2022-08-06T15:41:32.793Z"
   },
   {
    "duration": 20,
    "start_time": "2022-08-06T15:41:32.815Z"
   },
   {
    "duration": 6,
    "start_time": "2022-08-06T15:41:32.837Z"
   },
   {
    "duration": 10,
    "start_time": "2022-08-06T15:41:32.844Z"
   },
   {
    "duration": 36,
    "start_time": "2022-08-06T15:41:32.856Z"
   },
   {
    "duration": 12,
    "start_time": "2022-08-06T15:41:32.894Z"
   },
   {
    "duration": 6,
    "start_time": "2022-08-06T15:41:32.908Z"
   },
   {
    "duration": 178,
    "start_time": "2022-08-06T15:41:32.916Z"
   },
   {
    "duration": 7,
    "start_time": "2022-08-06T15:41:33.096Z"
   },
   {
    "duration": 29,
    "start_time": "2022-08-06T15:41:33.104Z"
   },
   {
    "duration": 68,
    "start_time": "2022-08-06T15:41:33.135Z"
   },
   {
    "duration": 3,
    "start_time": "2022-08-06T15:41:33.205Z"
   },
   {
    "duration": 20,
    "start_time": "2022-08-06T15:41:33.210Z"
   },
   {
    "duration": 14,
    "start_time": "2022-08-06T15:41:33.232Z"
   },
   {
    "duration": 296,
    "start_time": "2022-08-06T15:41:33.248Z"
   },
   {
    "duration": 7,
    "start_time": "2022-08-06T15:41:33.545Z"
   },
   {
    "duration": 193,
    "start_time": "2022-08-06T15:41:33.553Z"
   },
   {
    "duration": 7,
    "start_time": "2022-08-06T15:41:33.749Z"
   },
   {
    "duration": 1289,
    "start_time": "2022-08-06T15:41:33.757Z"
   },
   {
    "duration": 498,
    "start_time": "2022-08-06T15:41:35.048Z"
   },
   {
    "duration": 16,
    "start_time": "2022-08-06T15:41:35.550Z"
   },
   {
    "duration": 282,
    "start_time": "2022-08-06T15:41:35.568Z"
   },
   {
    "duration": 63,
    "start_time": "2022-08-06T15:41:35.852Z"
   },
   {
    "duration": 1083,
    "start_time": "2022-08-06T15:41:35.917Z"
   },
   {
    "duration": 7,
    "start_time": "2022-08-06T15:41:37.001Z"
   },
   {
    "duration": 44,
    "start_time": "2022-08-06T15:41:37.010Z"
   },
   {
    "duration": 22,
    "start_time": "2022-08-06T15:41:37.055Z"
   },
   {
    "duration": 15,
    "start_time": "2022-08-06T15:41:37.079Z"
   },
   {
    "duration": 20,
    "start_time": "2022-08-06T15:41:37.095Z"
   },
   {
    "duration": 67,
    "start_time": "2022-08-06T15:41:37.117Z"
   },
   {
    "duration": 1360,
    "start_time": "2022-08-06T21:32:25.237Z"
   },
   {
    "duration": 127,
    "start_time": "2022-08-06T21:32:26.599Z"
   },
   {
    "duration": 15,
    "start_time": "2022-08-06T21:32:26.728Z"
   },
   {
    "duration": 13,
    "start_time": "2022-08-06T21:32:26.746Z"
   },
   {
    "duration": 8,
    "start_time": "2022-08-06T21:32:26.761Z"
   },
   {
    "duration": 11,
    "start_time": "2022-08-06T21:32:26.770Z"
   },
   {
    "duration": 11,
    "start_time": "2022-08-06T21:32:26.793Z"
   },
   {
    "duration": 42,
    "start_time": "2022-08-06T21:32:26.806Z"
   },
   {
    "duration": 20,
    "start_time": "2022-08-06T21:32:26.850Z"
   },
   {
    "duration": 9,
    "start_time": "2022-08-06T21:32:26.873Z"
   },
   {
    "duration": 16,
    "start_time": "2022-08-06T21:32:26.892Z"
   },
   {
    "duration": 10,
    "start_time": "2022-08-06T21:32:26.910Z"
   },
   {
    "duration": 15,
    "start_time": "2022-08-06T21:32:26.922Z"
   },
   {
    "duration": 7,
    "start_time": "2022-08-06T21:32:26.939Z"
   },
   {
    "duration": 241,
    "start_time": "2022-08-06T21:32:26.947Z"
   },
   {
    "duration": 5,
    "start_time": "2022-08-06T21:32:27.191Z"
   },
   {
    "duration": 18,
    "start_time": "2022-08-06T21:32:27.199Z"
   },
   {
    "duration": 20,
    "start_time": "2022-08-06T21:32:27.219Z"
   },
   {
    "duration": 3,
    "start_time": "2022-08-06T21:32:27.240Z"
   },
   {
    "duration": 5,
    "start_time": "2022-08-06T21:32:27.291Z"
   },
   {
    "duration": 17,
    "start_time": "2022-08-06T21:32:27.299Z"
   },
   {
    "duration": 312,
    "start_time": "2022-08-06T21:32:27.318Z"
   },
   {
    "duration": 6,
    "start_time": "2022-08-06T21:32:27.632Z"
   },
   {
    "duration": 199,
    "start_time": "2022-08-06T21:32:27.640Z"
   },
   {
    "duration": 6,
    "start_time": "2022-08-06T21:32:27.841Z"
   },
   {
    "duration": 1279,
    "start_time": "2022-08-06T21:32:27.848Z"
   },
   {
    "duration": 519,
    "start_time": "2022-08-06T21:32:29.128Z"
   },
   {
    "duration": 15,
    "start_time": "2022-08-06T21:32:29.651Z"
   },
   {
    "duration": 310,
    "start_time": "2022-08-06T21:32:29.667Z"
   },
   {
    "duration": 71,
    "start_time": "2022-08-06T21:32:29.979Z"
   },
   {
    "duration": 1168,
    "start_time": "2022-08-06T21:32:30.052Z"
   },
   {
    "duration": 10,
    "start_time": "2022-08-06T21:32:31.223Z"
   },
   {
    "duration": 13,
    "start_time": "2022-08-06T21:32:31.235Z"
   },
   {
    "duration": 30,
    "start_time": "2022-08-06T21:32:31.250Z"
   },
   {
    "duration": 21,
    "start_time": "2022-08-06T21:32:31.282Z"
   },
   {
    "duration": 21,
    "start_time": "2022-08-06T21:32:31.306Z"
   },
   {
    "duration": 56,
    "start_time": "2022-08-06T21:32:31.328Z"
   },
   {
    "duration": 1292,
    "start_time": "2022-08-06T22:52:50.254Z"
   },
   {
    "duration": 247,
    "start_time": "2022-08-06T22:52:51.548Z"
   },
   {
    "duration": 14,
    "start_time": "2022-08-06T22:52:51.797Z"
   },
   {
    "duration": 12,
    "start_time": "2022-08-06T22:52:51.814Z"
   },
   {
    "duration": 4,
    "start_time": "2022-08-06T22:52:51.828Z"
   },
   {
    "duration": 15,
    "start_time": "2022-08-06T22:52:51.834Z"
   },
   {
    "duration": 10,
    "start_time": "2022-08-06T22:52:51.850Z"
   },
   {
    "duration": 40,
    "start_time": "2022-08-06T22:52:51.862Z"
   },
   {
    "duration": 14,
    "start_time": "2022-08-06T22:52:51.904Z"
   },
   {
    "duration": 7,
    "start_time": "2022-08-06T22:52:51.920Z"
   },
   {
    "duration": 11,
    "start_time": "2022-08-06T22:52:51.929Z"
   },
   {
    "duration": 22,
    "start_time": "2022-08-06T22:52:51.941Z"
   },
   {
    "duration": 13,
    "start_time": "2022-08-06T22:52:51.964Z"
   },
   {
    "duration": 21,
    "start_time": "2022-08-06T22:52:51.978Z"
   },
   {
    "duration": 4,
    "start_time": "2022-08-06T22:52:52.001Z"
   },
   {
    "duration": 155,
    "start_time": "2022-08-06T22:52:52.006Z"
   },
   {
    "duration": 6,
    "start_time": "2022-08-06T22:52:52.163Z"
   },
   {
    "duration": 37,
    "start_time": "2022-08-06T22:52:52.170Z"
   },
   {
    "duration": 17,
    "start_time": "2022-08-06T22:52:52.209Z"
   },
   {
    "duration": 4,
    "start_time": "2022-08-06T22:52:52.229Z"
   },
   {
    "duration": 12,
    "start_time": "2022-08-06T22:52:52.235Z"
   },
   {
    "duration": 53,
    "start_time": "2022-08-06T22:52:52.248Z"
   },
   {
    "duration": 227,
    "start_time": "2022-08-06T22:52:52.302Z"
   },
   {
    "duration": 6,
    "start_time": "2022-08-06T22:52:52.530Z"
   },
   {
    "duration": 226,
    "start_time": "2022-08-06T22:52:52.537Z"
   },
   {
    "duration": 5,
    "start_time": "2022-08-06T22:52:52.764Z"
   },
   {
    "duration": 1108,
    "start_time": "2022-08-06T22:52:52.771Z"
   },
   {
    "duration": 422,
    "start_time": "2022-08-06T22:52:53.882Z"
   },
   {
    "duration": 13,
    "start_time": "2022-08-06T22:52:54.306Z"
   },
   {
    "duration": 149,
    "start_time": "2022-08-06T22:52:54.320Z"
   },
   {
    "duration": 56,
    "start_time": "2022-08-06T22:52:54.471Z"
   },
   {
    "duration": 1020,
    "start_time": "2022-08-06T22:52:54.529Z"
   },
   {
    "duration": 5,
    "start_time": "2022-08-06T22:52:55.551Z"
   },
   {
    "duration": 7,
    "start_time": "2022-08-06T22:52:55.558Z"
   },
   {
    "duration": 7,
    "start_time": "2022-08-06T22:52:55.567Z"
   },
   {
    "duration": 9,
    "start_time": "2022-08-06T22:52:55.575Z"
   },
   {
    "duration": 7,
    "start_time": "2022-08-06T22:52:55.585Z"
   },
   {
    "duration": 40,
    "start_time": "2022-08-06T22:52:55.594Z"
   },
   {
    "duration": 24,
    "start_time": "2022-08-06T22:56:27.890Z"
   },
   {
    "duration": 6,
    "start_time": "2022-08-06T22:56:43.150Z"
   },
   {
    "duration": 6,
    "start_time": "2022-08-06T22:59:52.076Z"
   },
   {
    "duration": 1252,
    "start_time": "2022-08-06T23:00:19.281Z"
   },
   {
    "duration": 63,
    "start_time": "2022-08-06T23:00:20.534Z"
   },
   {
    "duration": 13,
    "start_time": "2022-08-06T23:00:20.598Z"
   },
   {
    "duration": 11,
    "start_time": "2022-08-06T23:00:20.613Z"
   },
   {
    "duration": 4,
    "start_time": "2022-08-06T23:00:20.626Z"
   },
   {
    "duration": 11,
    "start_time": "2022-08-06T23:00:20.631Z"
   },
   {
    "duration": 11,
    "start_time": "2022-08-06T23:00:20.643Z"
   },
   {
    "duration": 16,
    "start_time": "2022-08-06T23:00:20.656Z"
   },
   {
    "duration": 16,
    "start_time": "2022-08-06T23:00:20.700Z"
   },
   {
    "duration": 5,
    "start_time": "2022-08-06T23:00:20.719Z"
   },
   {
    "duration": 12,
    "start_time": "2022-08-06T23:00:20.725Z"
   },
   {
    "duration": 5,
    "start_time": "2022-08-06T23:00:20.739Z"
   },
   {
    "duration": 20,
    "start_time": "2022-08-06T23:00:20.746Z"
   },
   {
    "duration": 36,
    "start_time": "2022-08-06T23:00:20.767Z"
   },
   {
    "duration": 5,
    "start_time": "2022-08-06T23:00:20.804Z"
   },
   {
    "duration": 7,
    "start_time": "2022-08-06T23:00:20.810Z"
   },
   {
    "duration": 12,
    "start_time": "2022-08-06T23:00:20.818Z"
   },
   {
    "duration": 6,
    "start_time": "2022-08-06T23:00:20.832Z"
   },
   {
    "duration": 161,
    "start_time": "2022-08-06T23:00:20.840Z"
   },
   {
    "duration": 5,
    "start_time": "2022-08-06T23:00:21.003Z"
   },
   {
    "duration": 25,
    "start_time": "2022-08-06T23:00:21.010Z"
   },
   {
    "duration": 70,
    "start_time": "2022-08-06T23:00:21.037Z"
   },
   {
    "duration": 3,
    "start_time": "2022-08-06T23:00:21.110Z"
   },
   {
    "duration": 11,
    "start_time": "2022-08-06T23:00:21.115Z"
   },
   {
    "duration": 14,
    "start_time": "2022-08-06T23:00:21.127Z"
   },
   {
    "duration": 227,
    "start_time": "2022-08-06T23:00:21.142Z"
   },
   {
    "duration": 5,
    "start_time": "2022-08-06T23:00:21.371Z"
   },
   {
    "duration": 195,
    "start_time": "2022-08-06T23:00:21.379Z"
   },
   {
    "duration": 6,
    "start_time": "2022-08-06T23:00:21.575Z"
   },
   {
    "duration": 1076,
    "start_time": "2022-08-06T23:00:21.582Z"
   },
   {
    "duration": 426,
    "start_time": "2022-08-06T23:00:22.660Z"
   },
   {
    "duration": 18,
    "start_time": "2022-08-06T23:00:23.087Z"
   },
   {
    "duration": 230,
    "start_time": "2022-08-06T23:00:23.106Z"
   },
   {
    "duration": 49,
    "start_time": "2022-08-06T23:00:23.337Z"
   },
   {
    "duration": 840,
    "start_time": "2022-08-06T23:00:23.388Z"
   },
   {
    "duration": 6,
    "start_time": "2022-08-06T23:00:24.230Z"
   },
   {
    "duration": 7,
    "start_time": "2022-08-06T23:00:24.237Z"
   },
   {
    "duration": 6,
    "start_time": "2022-08-06T23:00:24.245Z"
   },
   {
    "duration": 8,
    "start_time": "2022-08-06T23:00:24.300Z"
   },
   {
    "duration": 6,
    "start_time": "2022-08-06T23:00:24.309Z"
   },
   {
    "duration": 95,
    "start_time": "2022-08-06T23:00:24.316Z"
   },
   {
    "duration": 1216,
    "start_time": "2022-08-06T23:01:33.609Z"
   },
   {
    "duration": 63,
    "start_time": "2022-08-06T23:01:34.827Z"
   },
   {
    "duration": 12,
    "start_time": "2022-08-06T23:01:34.892Z"
   },
   {
    "duration": 21,
    "start_time": "2022-08-06T23:01:34.906Z"
   },
   {
    "duration": 15,
    "start_time": "2022-08-06T23:01:34.928Z"
   },
   {
    "duration": 21,
    "start_time": "2022-08-06T23:01:34.944Z"
   },
   {
    "duration": 12,
    "start_time": "2022-08-06T23:01:34.967Z"
   },
   {
    "duration": 34,
    "start_time": "2022-08-06T23:01:34.981Z"
   },
   {
    "duration": 17,
    "start_time": "2022-08-06T23:01:35.017Z"
   },
   {
    "duration": 4,
    "start_time": "2022-08-06T23:01:35.037Z"
   },
   {
    "duration": 21,
    "start_time": "2022-08-06T23:01:35.043Z"
   },
   {
    "duration": 18,
    "start_time": "2022-08-06T23:01:35.066Z"
   },
   {
    "duration": 21,
    "start_time": "2022-08-06T23:01:35.085Z"
   },
   {
    "duration": 21,
    "start_time": "2022-08-06T23:01:35.107Z"
   },
   {
    "duration": 6,
    "start_time": "2022-08-06T23:01:35.129Z"
   },
   {
    "duration": 21,
    "start_time": "2022-08-06T23:01:35.136Z"
   },
   {
    "duration": 154,
    "start_time": "2022-08-06T23:01:35.159Z"
   },
   {
    "duration": 5,
    "start_time": "2022-08-06T23:01:35.315Z"
   },
   {
    "duration": 41,
    "start_time": "2022-08-06T23:01:35.321Z"
   },
   {
    "duration": 49,
    "start_time": "2022-08-06T23:01:35.364Z"
   },
   {
    "duration": 3,
    "start_time": "2022-08-06T23:01:35.414Z"
   },
   {
    "duration": 36,
    "start_time": "2022-08-06T23:01:35.418Z"
   },
   {
    "duration": 25,
    "start_time": "2022-08-06T23:01:35.455Z"
   },
   {
    "duration": 215,
    "start_time": "2022-08-06T23:01:35.482Z"
   },
   {
    "duration": 6,
    "start_time": "2022-08-06T23:01:35.699Z"
   },
   {
    "duration": 154,
    "start_time": "2022-08-06T23:01:35.707Z"
   },
   {
    "duration": 6,
    "start_time": "2022-08-06T23:01:35.863Z"
   },
   {
    "duration": 1052,
    "start_time": "2022-08-06T23:01:35.872Z"
   },
   {
    "duration": 408,
    "start_time": "2022-08-06T23:01:36.925Z"
   },
   {
    "duration": 14,
    "start_time": "2022-08-06T23:01:37.334Z"
   },
   {
    "duration": 236,
    "start_time": "2022-08-06T23:01:37.349Z"
   },
   {
    "duration": 58,
    "start_time": "2022-08-06T23:01:37.586Z"
   },
   {
    "duration": 715,
    "start_time": "2022-08-06T23:01:37.646Z"
   },
   {
    "duration": 5,
    "start_time": "2022-08-06T23:01:38.363Z"
   },
   {
    "duration": 8,
    "start_time": "2022-08-06T23:01:38.370Z"
   },
   {
    "duration": 6,
    "start_time": "2022-08-06T23:01:38.379Z"
   },
   {
    "duration": 10,
    "start_time": "2022-08-06T23:01:38.386Z"
   },
   {
    "duration": 7,
    "start_time": "2022-08-06T23:01:38.397Z"
   },
   {
    "duration": 52,
    "start_time": "2022-08-06T23:01:38.405Z"
   },
   {
    "duration": 1342,
    "start_time": "2022-08-06T23:48:24.437Z"
   },
   {
    "duration": 70,
    "start_time": "2022-08-06T23:48:25.780Z"
   },
   {
    "duration": 15,
    "start_time": "2022-08-06T23:48:25.852Z"
   },
   {
    "duration": 13,
    "start_time": "2022-08-06T23:48:25.869Z"
   },
   {
    "duration": 9,
    "start_time": "2022-08-06T23:48:25.883Z"
   },
   {
    "duration": 7,
    "start_time": "2022-08-06T23:48:25.894Z"
   },
   {
    "duration": 11,
    "start_time": "2022-08-06T23:48:25.903Z"
   },
   {
    "duration": 19,
    "start_time": "2022-08-06T23:48:25.916Z"
   },
   {
    "duration": 18,
    "start_time": "2022-08-06T23:48:25.937Z"
   },
   {
    "duration": 35,
    "start_time": "2022-08-06T23:48:25.958Z"
   },
   {
    "duration": 13,
    "start_time": "2022-08-06T23:48:26.004Z"
   },
   {
    "duration": 10,
    "start_time": "2022-08-06T23:48:26.019Z"
   },
   {
    "duration": 13,
    "start_time": "2022-08-06T23:48:26.031Z"
   },
   {
    "duration": 15,
    "start_time": "2022-08-06T23:48:26.046Z"
   },
   {
    "duration": 6,
    "start_time": "2022-08-06T23:48:26.063Z"
   },
   {
    "duration": 26,
    "start_time": "2022-08-06T23:48:26.071Z"
   },
   {
    "duration": 192,
    "start_time": "2022-08-06T23:48:26.099Z"
   },
   {
    "duration": 5,
    "start_time": "2022-08-06T23:48:26.293Z"
   },
   {
    "duration": 16,
    "start_time": "2022-08-06T23:48:26.300Z"
   },
   {
    "duration": 17,
    "start_time": "2022-08-06T23:48:26.318Z"
   },
   {
    "duration": 3,
    "start_time": "2022-08-06T23:48:26.337Z"
   },
   {
    "duration": 53,
    "start_time": "2022-08-06T23:48:26.341Z"
   },
   {
    "duration": 13,
    "start_time": "2022-08-06T23:48:26.396Z"
   },
   {
    "duration": 267,
    "start_time": "2022-08-06T23:48:26.411Z"
   },
   {
    "duration": 13,
    "start_time": "2022-08-06T23:48:26.680Z"
   },
   {
    "duration": 187,
    "start_time": "2022-08-06T23:48:26.694Z"
   },
   {
    "duration": 15,
    "start_time": "2022-08-06T23:48:26.883Z"
   },
   {
    "duration": 1248,
    "start_time": "2022-08-06T23:48:26.902Z"
   },
   {
    "duration": 483,
    "start_time": "2022-08-06T23:48:28.152Z"
   },
   {
    "duration": 16,
    "start_time": "2022-08-06T23:48:28.637Z"
   },
   {
    "duration": 274,
    "start_time": "2022-08-06T23:48:28.655Z"
   },
   {
    "duration": 68,
    "start_time": "2022-08-06T23:48:28.931Z"
   },
   {
    "duration": 1038,
    "start_time": "2022-08-06T23:48:29.001Z"
   },
   {
    "duration": 7,
    "start_time": "2022-08-06T23:48:30.041Z"
   },
   {
    "duration": 14,
    "start_time": "2022-08-06T23:48:30.050Z"
   },
   {
    "duration": 8,
    "start_time": "2022-08-06T23:48:30.067Z"
   },
   {
    "duration": 10,
    "start_time": "2022-08-06T23:48:30.077Z"
   },
   {
    "duration": 10,
    "start_time": "2022-08-06T23:48:30.090Z"
   },
   {
    "duration": 57,
    "start_time": "2022-08-06T23:48:30.102Z"
   }
  ],
  "kernelspec": {
   "display_name": "Python 3 (ipykernel)",
   "language": "python",
   "name": "python3"
  },
  "language_info": {
   "codemirror_mode": {
    "name": "ipython",
    "version": 3
   },
   "file_extension": ".py",
   "mimetype": "text/x-python",
   "name": "python",
   "nbconvert_exporter": "python",
   "pygments_lexer": "ipython3",
   "version": "3.9.12"
  },
  "toc": {
   "base_numbering": 1,
   "nav_menu": {},
   "number_sections": true,
   "sideBar": true,
   "skip_h1_title": true,
   "title_cell": "Table of Contents",
   "title_sidebar": "Contents",
   "toc_cell": false,
   "toc_position": {},
   "toc_section_display": true,
   "toc_window_display": true
  }
 },
 "nbformat": 4,
 "nbformat_minor": 2
}
