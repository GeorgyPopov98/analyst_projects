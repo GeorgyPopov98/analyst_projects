{
 "cells": [
  {
   "cell_type": "markdown",
   "metadata": {},
   "source": [
    "# Изучение закономерностей, определяющих успешность игр.\n",
    "В нашем распоряжении данные интернет-магазина «Стримчик», который продаёт по всему миру компьютерные игры. Из открытых источников доступны исторические данные о продажах игр, оценки пользователей и экспертов, жанры и платформы (например, Xbox или PlayStation). Нам нужно выявить определяющие успешность игры закономерности. Это позволит сделать ставку на потенциально популярный продукт и спланировать рекламные кампании."
   ]
  },
  {
   "cell_type": "markdown",
   "metadata": {},
   "source": [
    "**Цель исследования**:\n",
    "1. Выявить параметры, определяющие успешность игр в разных регионах мира.\n",
    "\n",
    "**Ход исследования**\n",
    "Используя исторические данные о продажах компьютерных игр, оценки пользователей и экспертов, жанры и платформы, выявить закономерности, определяющие успешность игры \n",
    "\n",
    "Данные о продажах компьютерных игр, оценки пользователей и экспертов, жанры и платформы получим из файла `\\Programs\\games.csv`. О качестве данных ничего не известно. Поэтому перед проверкой гипотез понадобится обзор данных. \n",
    "\n",
    "Проверим данные на ошибки и оценим их влияние на исследование. Затем, на этапе предобработки выявим возможность исправить самые критичные ошибки данных. В конце напишем общий вывод.\n",
    " \n",
    "Таким образом, исследование пройдёт в несколько этапов:\n",
    " 1. Изучение общей информации.\n",
    " 2. Подготовка данных.\n",
    " 3. Анализ данных.\n",
    " 4. Определение портрета пользователя каждого региона. \n",
    " 5. Общий вывод."
   ]
  },
  {
   "cell_type": "markdown",
   "metadata": {},
   "source": [
    "### Исследование продаж видео игр интернет-магазина «Стримчик»\n",
    "_____\n",
    "\n",
    "###### Данное исследование разделим на несколько частей.\n",
    "\n",
    "#### Часть 1. Обзор данных:\n",
    "* [1. Изученеие файлов с данными, получение общей информации, загрузка библиотек.](#1-bullet)\n",
    "#### Часть 2. Предобработка данных:\n",
    "* [1. Стиль заголовков.](#2-bullet)\n",
    "* [2. Пропуски значений.](#3-bullet)\n",
    "#### Часть 3. Исследовательский анализ данных:\n",
    "* [1. Количество игр в разные годы.](#4-bullet)\n",
    "* [2. Топ платформ по продажам.](#5-bullet)\n",
    "* [3. Анализ продаж топовых платформ.](#6-bullet)\n",
    "* [4. Оценка влияния отзывов пользователей и критиков на продажи игр внутри одной популярной платформы.](#7-bullet)\n",
    "* [5. Распределение продаж по жанрам.](#8-bullet)\n",
    "#### Часть 4. Портрет пользователя каждого региона\n",
    "* [1. Определение топ-5 популярных платформ для каждого региона.](#9-bullet)\n",
    "* [2. Определение топ-5 популярных жанров для каждого региона.](#10-bullet)\n",
    "* [3. Оценка влияния рейтинга ESRB на продажи в отдельном регионе.](#11-bullet)\n",
    "#### Часть 5. Проверка гипотез\n",
    "##### Итоги исследования"
   ]
  },
  {
   "cell_type": "markdown",
   "metadata": {},
   "source": [
    "## Обзор данных"
   ]
  },
  {
   "cell_type": "markdown",
   "metadata": {},
   "source": [
    "<a id='1-bullet'></a>\n",
    "### Изучение файлов с данными, получение общей информации, загрузка библиотек."
   ]
  },
  {
   "cell_type": "code",
   "execution_count": 1,
   "metadata": {},
   "outputs": [],
   "source": [
    "import pandas as pd # импорт библиотеки pandas\n",
    "import math #импорт библиотеки math\n",
    "from scipy import stats as st #импорт библиотеки stats\n",
    "import matplotlib.pyplot as plt #импорт библиотеки matplotlib.pyplot\n",
    "import seaborn as sns"
   ]
  },
  {
   "cell_type": "markdown",
   "metadata": {},
   "source": [
    "Прочитаем файл из папки /datasets и сохраним его переменную `df`:"
   ]
  },
  {
   "cell_type": "code",
   "execution_count": 2,
   "metadata": {},
   "outputs": [
    {
     "data": {
      "text/html": [
       "<div>\n",
       "<style scoped>\n",
       "    .dataframe tbody tr th:only-of-type {\n",
       "        vertical-align: middle;\n",
       "    }\n",
       "\n",
       "    .dataframe tbody tr th {\n",
       "        vertical-align: top;\n",
       "    }\n",
       "\n",
       "    .dataframe thead th {\n",
       "        text-align: right;\n",
       "    }\n",
       "</style>\n",
       "<table border=\"1\" class=\"dataframe\">\n",
       "  <thead>\n",
       "    <tr style=\"text-align: right;\">\n",
       "      <th></th>\n",
       "      <th>Name</th>\n",
       "      <th>Platform</th>\n",
       "      <th>Year_of_Release</th>\n",
       "      <th>Genre</th>\n",
       "      <th>NA_sales</th>\n",
       "      <th>EU_sales</th>\n",
       "      <th>JP_sales</th>\n",
       "      <th>Other_sales</th>\n",
       "      <th>Critic_Score</th>\n",
       "      <th>User_Score</th>\n",
       "      <th>Rating</th>\n",
       "    </tr>\n",
       "  </thead>\n",
       "  <tbody>\n",
       "    <tr>\n",
       "      <th>0</th>\n",
       "      <td>Wii Sports</td>\n",
       "      <td>Wii</td>\n",
       "      <td>2006.0</td>\n",
       "      <td>Sports</td>\n",
       "      <td>41.36</td>\n",
       "      <td>28.96</td>\n",
       "      <td>3.77</td>\n",
       "      <td>8.45</td>\n",
       "      <td>76.0</td>\n",
       "      <td>8</td>\n",
       "      <td>E</td>\n",
       "    </tr>\n",
       "    <tr>\n",
       "      <th>1</th>\n",
       "      <td>Super Mario Bros.</td>\n",
       "      <td>NES</td>\n",
       "      <td>1985.0</td>\n",
       "      <td>Platform</td>\n",
       "      <td>29.08</td>\n",
       "      <td>3.58</td>\n",
       "      <td>6.81</td>\n",
       "      <td>0.77</td>\n",
       "      <td>NaN</td>\n",
       "      <td>NaN</td>\n",
       "      <td>NaN</td>\n",
       "    </tr>\n",
       "    <tr>\n",
       "      <th>2</th>\n",
       "      <td>Mario Kart Wii</td>\n",
       "      <td>Wii</td>\n",
       "      <td>2008.0</td>\n",
       "      <td>Racing</td>\n",
       "      <td>15.68</td>\n",
       "      <td>12.76</td>\n",
       "      <td>3.79</td>\n",
       "      <td>3.29</td>\n",
       "      <td>82.0</td>\n",
       "      <td>8.3</td>\n",
       "      <td>E</td>\n",
       "    </tr>\n",
       "    <tr>\n",
       "      <th>3</th>\n",
       "      <td>Wii Sports Resort</td>\n",
       "      <td>Wii</td>\n",
       "      <td>2009.0</td>\n",
       "      <td>Sports</td>\n",
       "      <td>15.61</td>\n",
       "      <td>10.93</td>\n",
       "      <td>3.28</td>\n",
       "      <td>2.95</td>\n",
       "      <td>80.0</td>\n",
       "      <td>8</td>\n",
       "      <td>E</td>\n",
       "    </tr>\n",
       "    <tr>\n",
       "      <th>4</th>\n",
       "      <td>Pokemon Red/Pokemon Blue</td>\n",
       "      <td>GB</td>\n",
       "      <td>1996.0</td>\n",
       "      <td>Role-Playing</td>\n",
       "      <td>11.27</td>\n",
       "      <td>8.89</td>\n",
       "      <td>10.22</td>\n",
       "      <td>1.00</td>\n",
       "      <td>NaN</td>\n",
       "      <td>NaN</td>\n",
       "      <td>NaN</td>\n",
       "    </tr>\n",
       "  </tbody>\n",
       "</table>\n",
       "</div>"
      ],
      "text/plain": [
       "                       Name Platform  Year_of_Release         Genre  NA_sales  \\\n",
       "0                Wii Sports      Wii           2006.0        Sports     41.36   \n",
       "1         Super Mario Bros.      NES           1985.0      Platform     29.08   \n",
       "2            Mario Kart Wii      Wii           2008.0        Racing     15.68   \n",
       "3         Wii Sports Resort      Wii           2009.0        Sports     15.61   \n",
       "4  Pokemon Red/Pokemon Blue       GB           1996.0  Role-Playing     11.27   \n",
       "\n",
       "   EU_sales  JP_sales  Other_sales  Critic_Score User_Score Rating  \n",
       "0     28.96      3.77         8.45          76.0          8      E  \n",
       "1      3.58      6.81         0.77           NaN        NaN    NaN  \n",
       "2     12.76      3.79         3.29          82.0        8.3      E  \n",
       "3     10.93      3.28         2.95          80.0          8      E  \n",
       "4      8.89     10.22         1.00           NaN        NaN    NaN  "
      ]
     },
     "execution_count": 2,
     "metadata": {},
     "output_type": "execute_result"
    }
   ],
   "source": [
    "df = pd.read_csv('D:\\Programs\\games.csv')\n",
    "df.head()"
   ]
  },
  {
   "cell_type": "code",
   "execution_count": 3,
   "metadata": {},
   "outputs": [
    {
     "name": "stdout",
     "output_type": "stream",
     "text": [
      "<class 'pandas.core.frame.DataFrame'>\n",
      "RangeIndex: 16715 entries, 0 to 16714\n",
      "Data columns (total 11 columns):\n",
      " #   Column           Non-Null Count  Dtype  \n",
      "---  ------           --------------  -----  \n",
      " 0   Name             16713 non-null  object \n",
      " 1   Platform         16715 non-null  object \n",
      " 2   Year_of_Release  16446 non-null  float64\n",
      " 3   Genre            16713 non-null  object \n",
      " 4   NA_sales         16715 non-null  float64\n",
      " 5   EU_sales         16715 non-null  float64\n",
      " 6   JP_sales         16715 non-null  float64\n",
      " 7   Other_sales      16715 non-null  float64\n",
      " 8   Critic_Score     8137 non-null   float64\n",
      " 9   User_Score       10014 non-null  object \n",
      " 10  Rating           9949 non-null   object \n",
      "dtypes: float64(6), object(5)\n",
      "memory usage: 1.4+ MB\n"
     ]
    }
   ],
   "source": [
    "df.info()"
   ]
  },
  {
   "cell_type": "markdown",
   "metadata": {},
   "source": [
    "В таблице 11 столбцов. Тип данных в столбцах — `object` и `float64`. Сразу можно заметить, что формат года неправильный.\n",
    "\n",
    "Согласно документации к данным:\n",
    "* `Name` — название игры\n",
    "* `Platform` — платформа\n",
    "* `Year_of_Releas` — год выпуска\n",
    "* `Genre` — жанр игры\n",
    "* `NA_sales` — продажи в Северной Америке (миллионы проданных копий)\n",
    "* `EU_sales` — продажи в Европе (миллионы проданных копий)\n",
    "* `JP_sales` — продажи в Японии (миллионы проданных копий)\n",
    "* `Other_sales` — продажи в других странах (миллионы проданных копий)\n",
    "* `Critic_Score` — оценка критиков (максимум 100)\n",
    "* `User_Score` — оценка пользователей (максимум 10)\n",
    "* `Rating` — рейтинг от организации ESRB (англ. Entertainment Software Rating Board). Эта ассоциация определяет рейтинг компьютерных игр и присваивает им подходящую возрастную категорию."
   ]
  },
  {
   "cell_type": "markdown",
   "metadata": {},
   "source": [
    "### Вывод"
   ]
  },
  {
   "cell_type": "markdown",
   "metadata": {},
   "source": [
    "Столбец `Year_of_Releas` необходимо привести к типы `int`. В данных есть пропуски. Данные необходимо подготовить к анализу."
   ]
  },
  {
   "cell_type": "markdown",
   "metadata": {},
   "source": [
    "## Предобработка данных"
   ]
  },
  {
   "cell_type": "markdown",
   "metadata": {},
   "source": [
    "<a id='2-bullet'></a>\n",
    "### Стиль заголовков"
   ]
  },
  {
   "cell_type": "markdown",
   "metadata": {},
   "source": [
    "Приведем название столбцов к нижнему регистру"
   ]
  },
  {
   "cell_type": "code",
   "execution_count": 4,
   "metadata": {},
   "outputs": [
    {
     "data": {
      "text/plain": [
       "Index(['name', 'platform', 'year_of_release', 'genre', 'na_sales', 'eu_sales',\n",
       "       'jp_sales', 'other_sales', 'critic_score', 'user_score', 'rating'],\n",
       "      dtype='object')"
      ]
     },
     "execution_count": 4,
     "metadata": {},
     "output_type": "execute_result"
    }
   ],
   "source": [
    "df.columns = df.columns.str.lower() #приведение столбцов к нижнему регистру\n",
    "df.columns"
   ]
  },
  {
   "cell_type": "markdown",
   "metadata": {},
   "source": [
    "<a id='3-bullet'></a>\n",
    "### Пропуски значений"
   ]
  },
  {
   "cell_type": "markdown",
   "metadata": {},
   "source": [
    "Изменим тип данных у стобца `year_of_release` с `float` на `int`, так как это целочисленные значения. Столбец `user_score` также подлежит изменению, но так как помимо численных значений содержит `tbd`, что значит - игра подлежит определению, то перед изменением типов столбцов необходимо заменить `tbd` пропусками. Перед заменой необходимо обработать пропуски."
   ]
  },
  {
   "cell_type": "markdown",
   "metadata": {},
   "source": [
    "Так как пропущенных значений в столбце, обозначающий год игры, около 1%, то данные строки можно удалить."
   ]
  },
  {
   "cell_type": "code",
   "execution_count": 5,
   "metadata": {},
   "outputs": [],
   "source": [
    "df = df.dropna(subset=['year_of_release']) #удаление пропусков в столбце year_of_release"
   ]
  },
  {
   "cell_type": "code",
   "execution_count": 6,
   "metadata": {},
   "outputs": [],
   "source": [
    "df['year_of_release'] = df['year_of_release'].astype('int') #изменение типа столбца"
   ]
  },
  {
   "cell_type": "markdown",
   "metadata": {},
   "source": [
    "Посчитаем количество пропусков в данных."
   ]
  },
  {
   "cell_type": "code",
   "execution_count": 7,
   "metadata": {},
   "outputs": [
    {
     "data": {
      "text/plain": [
       "name                  2\n",
       "platform              0\n",
       "year_of_release       0\n",
       "genre                 2\n",
       "na_sales              0\n",
       "eu_sales              0\n",
       "jp_sales              0\n",
       "other_sales           0\n",
       "critic_score       8463\n",
       "user_score         6607\n",
       "rating             6678\n",
       "dtype: int64"
      ]
     },
     "execution_count": 7,
     "metadata": {},
     "output_type": "execute_result"
    }
   ],
   "source": [
    "df.isna().sum() # подсчёт пропусков"
   ]
  },
  {
   "cell_type": "markdown",
   "metadata": {},
   "source": [
    "Две игры оказались без названия. Найдем в каких строках они находятся."
   ]
  },
  {
   "cell_type": "code",
   "execution_count": 8,
   "metadata": {},
   "outputs": [
    {
     "data": {
      "text/plain": [
       "659      True\n",
       "14244    True\n",
       "dtype: bool"
      ]
     },
     "execution_count": 8,
     "metadata": {},
     "output_type": "execute_result"
    }
   ],
   "source": [
    "df[['name','genre']].isna().all(axis=1)[lambda x : x] # поиск строк с пропущенными значениями"
   ]
  },
  {
   "cell_type": "markdown",
   "metadata": {},
   "source": [
    "Посмотрим на эти строки"
   ]
  },
  {
   "cell_type": "code",
   "execution_count": 9,
   "metadata": {},
   "outputs": [
    {
     "data": {
      "text/plain": [
       "name                NaN\n",
       "platform            GEN\n",
       "year_of_release    1993\n",
       "genre               NaN\n",
       "na_sales           1.78\n",
       "eu_sales           0.53\n",
       "jp_sales            0.0\n",
       "other_sales        0.08\n",
       "critic_score        NaN\n",
       "user_score          NaN\n",
       "rating              NaN\n",
       "Name: 659, dtype: object"
      ]
     },
     "execution_count": 9,
     "metadata": {},
     "output_type": "execute_result"
    }
   ],
   "source": [
    "df.loc[659] "
   ]
  },
  {
   "cell_type": "code",
   "execution_count": 10,
   "metadata": {},
   "outputs": [
    {
     "data": {
      "text/plain": [
       "name                NaN\n",
       "platform            GEN\n",
       "year_of_release    1993\n",
       "genre               NaN\n",
       "na_sales            0.0\n",
       "eu_sales            0.0\n",
       "jp_sales           0.03\n",
       "other_sales         0.0\n",
       "critic_score        NaN\n",
       "user_score          NaN\n",
       "rating              NaN\n",
       "Name: 14244, dtype: object"
      ]
     },
     "execution_count": 10,
     "metadata": {},
     "output_type": "execute_result"
    }
   ],
   "source": [
    "df.loc[14244]"
   ]
  },
  {
   "cell_type": "markdown",
   "metadata": {},
   "source": [
    "Судя по данным это старые игры, не имеющие рейтинга и с малыми продажами, поэтому их можно удалить."
   ]
  },
  {
   "cell_type": "code",
   "execution_count": 11,
   "metadata": {},
   "outputs": [],
   "source": [
    "df = df.drop(labels = [659,14244],axis = 0) #удаление строк"
   ]
  },
  {
   "cell_type": "markdown",
   "metadata": {},
   "source": [
    "Заменим значения `tbd` в `user_score` пропусками:"
   ]
  },
  {
   "cell_type": "code",
   "execution_count": 12,
   "metadata": {},
   "outputs": [],
   "source": [
    "df['user_score'] = df['user_score'].replace('tbd', None) #заполнение пропусков"
   ]
  },
  {
   "cell_type": "code",
   "execution_count": 13,
   "metadata": {},
   "outputs": [],
   "source": [
    "df['user_score'] = df['user_score'].astype('float') #изменение типа столбца"
   ]
  },
  {
   "cell_type": "markdown",
   "metadata": {},
   "source": [
    "Заменим пропуски в рейтинге игр значением `RP` - рейтинг ожидается."
   ]
  },
  {
   "cell_type": "code",
   "execution_count": 14,
   "metadata": {},
   "outputs": [],
   "source": [
    "df['rating'] = df['rating'].fillna('RP')"
   ]
  },
  {
   "cell_type": "markdown",
   "metadata": {},
   "source": [
    "Пропуски в столбецах `critic_score` и `rating`,`user_score` невозможно заполнить"
   ]
  },
  {
   "cell_type": "markdown",
   "metadata": {},
   "source": [
    "Посчитаем суммарные продажи в во всех регионах и запищем значение в новый столбец `sum_sales`"
   ]
  },
  {
   "cell_type": "code",
   "execution_count": 15,
   "metadata": {},
   "outputs": [],
   "source": [
    "df['sum_sales'] = df['na_sales'] +df['eu_sales'] +df['jp_sales'] +df['other_sales'] #подсчет суммарных продаж"
   ]
  },
  {
   "cell_type": "markdown",
   "metadata": {},
   "source": [
    "### Вывод"
   ]
  },
  {
   "cell_type": "markdown",
   "metadata": {},
   "source": [
    "Данные готовы к анализу"
   ]
  },
  {
   "cell_type": "markdown",
   "metadata": {},
   "source": [
    "## Исследовательский анализ данных"
   ]
  },
  {
   "cell_type": "markdown",
   "metadata": {},
   "source": [
    "<a id='4-bullet'></a>\n",
    "### Количество игр в разные годы."
   ]
  },
  {
   "cell_type": "markdown",
   "metadata": {},
   "source": [
    "Посмотрим сколько игр выпускалось в разные годы."
   ]
  },
  {
   "cell_type": "code",
   "execution_count": 16,
   "metadata": {},
   "outputs": [
    {
     "data": {
      "text/plain": [
       "<AxesSubplot:title={'center':'Количество игр в разные годы'}, xlabel='Годы выпуска', ylabel='Количество игр'>"
      ]
     },
     "execution_count": 16,
     "metadata": {},
     "output_type": "execute_result"
    },
    {
     "data": {
      "image/png": "[encoded data removed]",
      "text/plain": [
       "<Figure size 432x288 with 1 Axes>"
      ]
     },
     "metadata": {
      "needs_background": "light"
     },
     "output_type": "display_data"
    }
   ],
   "source": [
    "df.groupby('year_of_release').agg({'name':'count'}).reset_index().plot(x='year_of_release',y='name', kind='bar',title='Количество игр в разные годы',xlabel='Годы выпуска',ylabel='Количество игр') #построение гистограммы"
   ]
  },
  {
   "cell_type": "markdown",
   "metadata": {},
   "source": [
    "По графику можно увидеть, что количество игр, выпущенные в 2008 и 2009 было максимальным за весь период."
   ]
  },
  {
   "cell_type": "markdown",
   "metadata": {},
   "source": [
    "<a id='5-bullet'></a>\n",
    "### Топ платформ по продажам."
   ]
  },
  {
   "cell_type": "markdown",
   "metadata": {},
   "source": [
    "Составим топ платформ по продажам"
   ]
  },
  {
   "cell_type": "code",
   "execution_count": 17,
   "metadata": {},
   "outputs": [
    {
     "data": {
      "text/html": [
       "<div>\n",
       "<style scoped>\n",
       "    .dataframe tbody tr th:only-of-type {\n",
       "        vertical-align: middle;\n",
       "    }\n",
       "\n",
       "    .dataframe tbody tr th {\n",
       "        vertical-align: top;\n",
       "    }\n",
       "\n",
       "    .dataframe thead th {\n",
       "        text-align: right;\n",
       "    }\n",
       "</style>\n",
       "<table border=\"1\" class=\"dataframe\">\n",
       "  <thead>\n",
       "    <tr style=\"text-align: right;\">\n",
       "      <th></th>\n",
       "      <th>sum_sales</th>\n",
       "    </tr>\n",
       "    <tr>\n",
       "      <th>platform</th>\n",
       "      <th></th>\n",
       "    </tr>\n",
       "  </thead>\n",
       "  <tbody>\n",
       "    <tr>\n",
       "      <th>PS2</th>\n",
       "      <td>1233.56</td>\n",
       "    </tr>\n",
       "    <tr>\n",
       "      <th>X360</th>\n",
       "      <td>961.24</td>\n",
       "    </tr>\n",
       "    <tr>\n",
       "      <th>PS3</th>\n",
       "      <td>931.34</td>\n",
       "    </tr>\n",
       "    <tr>\n",
       "      <th>Wii</th>\n",
       "      <td>891.18</td>\n",
       "    </tr>\n",
       "    <tr>\n",
       "      <th>DS</th>\n",
       "      <td>802.78</td>\n",
       "    </tr>\n",
       "    <tr>\n",
       "      <th>PS</th>\n",
       "      <td>727.58</td>\n",
       "    </tr>\n",
       "    <tr>\n",
       "      <th>PS4</th>\n",
       "      <td>314.14</td>\n",
       "    </tr>\n",
       "    <tr>\n",
       "      <th>GBA</th>\n",
       "      <td>312.88</td>\n",
       "    </tr>\n",
       "    <tr>\n",
       "      <th>PSP</th>\n",
       "      <td>289.53</td>\n",
       "    </tr>\n",
       "    <tr>\n",
       "      <th>3DS</th>\n",
       "      <td>257.81</td>\n",
       "    </tr>\n",
       "    <tr>\n",
       "      <th>PC</th>\n",
       "      <td>255.76</td>\n",
       "    </tr>\n",
       "    <tr>\n",
       "      <th>GB</th>\n",
       "      <td>254.43</td>\n",
       "    </tr>\n",
       "    <tr>\n",
       "      <th>XB</th>\n",
       "      <td>251.57</td>\n",
       "    </tr>\n",
       "    <tr>\n",
       "      <th>NES</th>\n",
       "      <td>251.05</td>\n",
       "    </tr>\n",
       "    <tr>\n",
       "      <th>N64</th>\n",
       "      <td>218.01</td>\n",
       "    </tr>\n",
       "    <tr>\n",
       "      <th>SNES</th>\n",
       "      <td>200.04</td>\n",
       "    </tr>\n",
       "    <tr>\n",
       "      <th>GC</th>\n",
       "      <td>196.73</td>\n",
       "    </tr>\n",
       "    <tr>\n",
       "      <th>XOne</th>\n",
       "      <td>159.32</td>\n",
       "    </tr>\n",
       "    <tr>\n",
       "      <th>2600</th>\n",
       "      <td>86.48</td>\n",
       "    </tr>\n",
       "    <tr>\n",
       "      <th>WiiU</th>\n",
       "      <td>82.19</td>\n",
       "    </tr>\n",
       "    <tr>\n",
       "      <th>PSV</th>\n",
       "      <td>53.81</td>\n",
       "    </tr>\n",
       "    <tr>\n",
       "      <th>SAT</th>\n",
       "      <td>33.59</td>\n",
       "    </tr>\n",
       "    <tr>\n",
       "      <th>GEN</th>\n",
       "      <td>28.35</td>\n",
       "    </tr>\n",
       "    <tr>\n",
       "      <th>DC</th>\n",
       "      <td>15.95</td>\n",
       "    </tr>\n",
       "    <tr>\n",
       "      <th>SCD</th>\n",
       "      <td>1.86</td>\n",
       "    </tr>\n",
       "    <tr>\n",
       "      <th>NG</th>\n",
       "      <td>1.44</td>\n",
       "    </tr>\n",
       "    <tr>\n",
       "      <th>WS</th>\n",
       "      <td>1.42</td>\n",
       "    </tr>\n",
       "    <tr>\n",
       "      <th>TG16</th>\n",
       "      <td>0.16</td>\n",
       "    </tr>\n",
       "    <tr>\n",
       "      <th>3DO</th>\n",
       "      <td>0.10</td>\n",
       "    </tr>\n",
       "    <tr>\n",
       "      <th>GG</th>\n",
       "      <td>0.04</td>\n",
       "    </tr>\n",
       "    <tr>\n",
       "      <th>PCFX</th>\n",
       "      <td>0.03</td>\n",
       "    </tr>\n",
       "  </tbody>\n",
       "</table>\n",
       "</div>"
      ],
      "text/plain": [
       "          sum_sales\n",
       "platform           \n",
       "PS2         1233.56\n",
       "X360         961.24\n",
       "PS3          931.34\n",
       "Wii          891.18\n",
       "DS           802.78\n",
       "PS           727.58\n",
       "PS4          314.14\n",
       "GBA          312.88\n",
       "PSP          289.53\n",
       "3DS          257.81\n",
       "PC           255.76\n",
       "GB           254.43\n",
       "XB           251.57\n",
       "NES          251.05\n",
       "N64          218.01\n",
       "SNES         200.04\n",
       "GC           196.73\n",
       "XOne         159.32\n",
       "2600          86.48\n",
       "WiiU          82.19\n",
       "PSV           53.81\n",
       "SAT           33.59\n",
       "GEN           28.35\n",
       "DC            15.95\n",
       "SCD            1.86\n",
       "NG             1.44\n",
       "WS             1.42\n",
       "TG16           0.16\n",
       "3DO            0.10\n",
       "GG             0.04\n",
       "PCFX           0.03"
      ]
     },
     "execution_count": 17,
     "metadata": {},
     "output_type": "execute_result"
    }
   ],
   "source": [
    "df.groupby('platform').agg({'sum_sales':'sum'}).sort_values('sum_sales',ascending=False) #группировка и сортировка"
   ]
  },
  {
   "cell_type": "markdown",
   "metadata": {},
   "source": [
    "<a id='6-bullet'></a>\n",
    "### Анализ продаж топовых платформ."
   ]
  },
  {
   "cell_type": "code",
   "execution_count": 18,
   "metadata": {},
   "outputs": [
    {
     "data": {
      "image/png": "[encoded data removed]",
      "text/plain": [
       "<Figure size 432x288 with 1 Axes>"
      ]
     },
     "metadata": {
      "needs_background": "light"
     },
     "output_type": "display_data"
    }
   ],
   "source": [
    "df.query('platform == \"PS\"').groupby('year_of_release').agg({'sum_sales':'sum'}).reset_index().plot(x='year_of_release',y='sum_sales')#группировка и построение графика\n",
    "plt.title('Продажи игр на платформе PS в разные годы')\n",
    "plt.xlabel('Год продажи')\n",
    "plt.ylabel('Сумма продаж')\n",
    "plt.show()"
   ]
  },
  {
   "cell_type": "code",
   "execution_count": 19,
   "metadata": {},
   "outputs": [
    {
     "data": {
      "image/png": "[encoded data removed]",
      "text/plain": [
       "<Figure size 432x288 with 1 Axes>"
      ]
     },
     "metadata": {
      "needs_background": "light"
     },
     "output_type": "display_data"
    }
   ],
   "source": [
    "df.query('platform == \"PS2\"').groupby('year_of_release').agg({'sum_sales':'sum'}).reset_index().plot(x='year_of_release',y='sum_sales')#группировка и построение графика\n",
    "plt.title('Продажи игр на платформе PS2 в разные годы')\n",
    "plt.xlabel('Год продажи')\n",
    "plt.ylabel('Сумма продаж')\n",
    "plt.show()"
   ]
  },
  {
   "cell_type": "code",
   "execution_count": 20,
   "metadata": {},
   "outputs": [
    {
     "data": {
      "image/png": "[encoded data removed]",
      "text/plain": [
       "<Figure size 432x288 with 1 Axes>"
      ]
     },
     "metadata": {
      "needs_background": "light"
     },
     "output_type": "display_data"
    }
   ],
   "source": [
    "df.query('platform == \"PS3\"').groupby('year_of_release').agg({'sum_sales':'sum'}).reset_index().plot(x='year_of_release',y='sum_sales')#группировка и построение графика\n",
    "plt.title('Продажи игр на платформе PS3 в разные годы')\n",
    "plt.xlabel('Год продажи')\n",
    "plt.ylabel('Сумма продаж')\n",
    "plt.show()"
   ]
  },
  {
   "cell_type": "code",
   "execution_count": 21,
   "metadata": {},
   "outputs": [
    {
     "data": {
      "image/png": "[encoded data removed]",
      "text/plain": [
       "<Figure size 432x288 with 1 Axes>"
      ]
     },
     "metadata": {
      "needs_background": "light"
     },
     "output_type": "display_data"
    }
   ],
   "source": [
    "df.query('platform == \"PS4\"').groupby('year_of_release').agg({'sum_sales':'sum'}).reset_index().plot(x='year_of_release',y='sum_sales')#группировка и построение графика\n",
    "plt.title('Продажи игр на платформе PS4 в разные годы')\n",
    "plt.xlabel('Год продажи')\n",
    "plt.ylabel('Сумма продаж')\n",
    "plt.show()"
   ]
  },
  {
   "cell_type": "code",
   "execution_count": 22,
   "metadata": {},
   "outputs": [
    {
     "data": {
      "image/png": "[encoded data removed]",
      "text/plain": [
       "<Figure size 432x288 with 1 Axes>"
      ]
     },
     "metadata": {
      "needs_background": "light"
     },
     "output_type": "display_data"
    }
   ],
   "source": [
    "df.query('platform == \"PSP\"').groupby('year_of_release').agg({'sum_sales':'sum'}).reset_index().plot(x='year_of_release',y='sum_sales')#группировка и построение графика\n",
    "plt.title('Продажи игр на платформе PSP в разные годы')\n",
    "plt.xlabel('Год продажи')\n",
    "plt.ylabel('Сумма продаж')\n",
    "plt.show()"
   ]
  },
  {
   "cell_type": "code",
   "execution_count": 23,
   "metadata": {},
   "outputs": [
    {
     "data": {
      "image/png": "[encoded data removed]",
      "text/plain": [
       "<Figure size 432x288 with 1 Axes>"
      ]
     },
     "metadata": {
      "needs_background": "light"
     },
     "output_type": "display_data"
    }
   ],
   "source": [
    "df.query('platform == \"DS\" and year_of_release>2000').groupby('year_of_release').agg({'sum_sales':'sum'}).reset_index().plot(x='year_of_release',y='sum_sales')#группировка и построение графика\n",
    "plt.title('Продажи игр на платформе DS в разные годы')\n",
    "plt.xlabel('Год продажи')\n",
    "plt.ylabel('Сумма продаж')\n",
    "plt.show()"
   ]
  },
  {
   "cell_type": "code",
   "execution_count": 24,
   "metadata": {},
   "outputs": [
    {
     "data": {
      "image/png": "[encoded data removed]",
      "text/plain": [
       "<Figure size 432x288 with 1 Axes>"
      ]
     },
     "metadata": {
      "needs_background": "light"
     },
     "output_type": "display_data"
    }
   ],
   "source": [
    "df.query('platform == \"Wii\"').groupby('year_of_release').agg({'sum_sales':'sum'}).reset_index().plot(x='year_of_release',y='sum_sales')#группировка и построение графика\n",
    "plt.title('Продажи игр на платформе Wii в разные годы')\n",
    "plt.xlabel('Год продажи')\n",
    "plt.ylabel('Сумма продаж')\n",
    "plt.show()"
   ]
  },
  {
   "cell_type": "code",
   "execution_count": 25,
   "metadata": {},
   "outputs": [
    {
     "data": {
      "image/png": "[encoded data removed]",
      "text/plain": [
       "<Figure size 432x288 with 1 Axes>"
      ]
     },
     "metadata": {
      "needs_background": "light"
     },
     "output_type": "display_data"
    }
   ],
   "source": [
    "df.query('platform == \"X360\"').groupby('year_of_release').agg({'sum_sales':'sum'}).reset_index().plot(x='year_of_release',y='sum_sales')#группировка и построение графика\n",
    "plt.title('Продажи игр на платформе X360 в разные годы')\n",
    "plt.xlabel('Год продажи')\n",
    "plt.ylabel('Сумма продаж')\n",
    "plt.show()"
   ]
  },
  {
   "cell_type": "code",
   "execution_count": 26,
   "metadata": {},
   "outputs": [
    {
     "data": {
      "image/png": "[encoded data removed]",
      "text/plain": [
       "<Figure size 432x288 with 1 Axes>"
      ]
     },
     "metadata": {
      "needs_background": "light"
     },
     "output_type": "display_data"
    }
   ],
   "source": [
    "df.query('platform == \"XB\"').groupby('year_of_release').agg({'sum_sales':'sum'}).reset_index().plot(x='year_of_release',y='sum_sales')#группировка и построение графика\n",
    "plt.title('Продажи игр на платформе XB в разные годы')\n",
    "plt.xlabel('Год продажи')\n",
    "plt.ylabel('Сумма продаж')\n",
    "plt.show()"
   ]
  },
  {
   "cell_type": "code",
   "execution_count": 27,
   "metadata": {},
   "outputs": [
    {
     "data": {
      "image/png": "[encoded data removed]",
      "text/plain": [
       "<Figure size 432x288 with 1 Axes>"
      ]
     },
     "metadata": {
      "needs_background": "light"
     },
     "output_type": "display_data"
    }
   ],
   "source": [
    "df.query('platform == \"XOne\"').groupby('year_of_release').agg({'sum_sales':'sum'}).reset_index().plot(x='year_of_release',y='sum_sales')#группировка и построение графика\n",
    "plt.title('Продажи игр на платформе XOne в разные годы')\n",
    "plt.xlabel('Год продажи')\n",
    "plt.ylabel('Сумма продаж')\n",
    "plt.show()"
   ]
  },
  {
   "cell_type": "code",
   "execution_count": 28,
   "metadata": {},
   "outputs": [
    {
     "data": {
      "image/png": "[encoded data removed]",
      "text/plain": [
       "<Figure size 432x288 with 1 Axes>"
      ]
     },
     "metadata": {
      "needs_background": "light"
     },
     "output_type": "display_data"
    }
   ],
   "source": [
    "df.query('platform == \"WiiU\"').groupby('year_of_release').agg({'sum_sales':'sum'}).reset_index().plot(x='year_of_release',y='sum_sales')#группировка и построение графика\n",
    "plt.title('Продажи игр на платформе в разные годы')\n",
    "plt.xlabel('Год продажи')\n",
    "plt.ylabel('Сумма продаж')\n",
    "plt.show()"
   ]
  },
  {
   "cell_type": "code",
   "execution_count": 29,
   "metadata": {},
   "outputs": [
    {
     "data": {
      "image/png": "[encoded data removed]",
      "text/plain": [
       "<Figure size 432x288 with 1 Axes>"
      ]
     },
     "metadata": {
      "needs_background": "light"
     },
     "output_type": "display_data"
    }
   ],
   "source": [
    "df.query('platform == \"PC\"').groupby('year_of_release').agg({'sum_sales':'sum'}).reset_index().plot(x='year_of_release',y='sum_sales')#группировка и построение графика\n",
    "plt.title('Продажи игр на платформе в разные годы')\n",
    "plt.xlabel('Год продажи')\n",
    "plt.ylabel('Сумма продаж')\n",
    "plt.show()"
   ]
  },
  {
   "cell_type": "code",
   "execution_count": 30,
   "metadata": {},
   "outputs": [
    {
     "data": {
      "image/png": "[encoded data removed]",
      "text/plain": [
       "<Figure size 432x288 with 1 Axes>"
      ]
     },
     "metadata": {
      "needs_background": "light"
     },
     "output_type": "display_data"
    }
   ],
   "source": [
    "df.query('platform == \"3DS\"').groupby('year_of_release').agg({'sum_sales':'sum'}).reset_index().plot(x='year_of_release',y='sum_sales')#группировка и построение графика\n",
    "plt.title('Продажи игр на платформе в разные годы')\n",
    "plt.xlabel('Год продажи')\n",
    "plt.ylabel('Сумма продаж')\n",
    "plt.show()"
   ]
  },
  {
   "cell_type": "code",
   "execution_count": 31,
   "metadata": {},
   "outputs": [
    {
     "data": {
      "image/png": "[encoded data removed]",
      "text/plain": [
       "<Figure size 432x288 with 1 Axes>"
      ]
     },
     "metadata": {
      "needs_background": "light"
     },
     "output_type": "display_data"
    }
   ],
   "source": [
    "df.query('platform == \"PSV\"').groupby('year_of_release').agg({'sum_sales':'sum'}).reset_index().plot(x='year_of_release',y='sum_sales')#группировка и построение графика\n",
    "plt.title('Продажи игр на платформе в разные годы')\n",
    "plt.xlabel('Год продажи')\n",
    "plt.ylabel('Сумма продаж')\n",
    "plt.show()"
   ]
  },
  {
   "cell_type": "markdown",
   "metadata": {},
   "source": [
    "Судя по графикам новые платформы появляются раз в 6 лет. Последнее обновление топовых платформ происходило начиная с 2012 года, поэтому актуальный период будем считать с 2012 по 2016 год. построим срез данных."
   ]
  },
  {
   "cell_type": "code",
   "execution_count": 32,
   "metadata": {},
   "outputs": [],
   "source": [
    "df=df.query('year_of_release>=2012') #срез по году выпуска"
   ]
  },
  {
   "cell_type": "code",
   "execution_count": 33,
   "metadata": {},
   "outputs": [
    {
     "data": {
      "text/html": [
       "<div>\n",
       "<style scoped>\n",
       "    .dataframe tbody tr th:only-of-type {\n",
       "        vertical-align: middle;\n",
       "    }\n",
       "\n",
       "    .dataframe tbody tr th {\n",
       "        vertical-align: top;\n",
       "    }\n",
       "\n",
       "    .dataframe thead th {\n",
       "        text-align: right;\n",
       "    }\n",
       "</style>\n",
       "<table border=\"1\" class=\"dataframe\">\n",
       "  <thead>\n",
       "    <tr style=\"text-align: right;\">\n",
       "      <th></th>\n",
       "      <th>sum_sales</th>\n",
       "    </tr>\n",
       "    <tr>\n",
       "      <th>platform</th>\n",
       "      <th></th>\n",
       "    </tr>\n",
       "  </thead>\n",
       "  <tbody>\n",
       "    <tr>\n",
       "      <th>PS4</th>\n",
       "      <td>314.14</td>\n",
       "    </tr>\n",
       "    <tr>\n",
       "      <th>PS3</th>\n",
       "      <td>288.79</td>\n",
       "    </tr>\n",
       "    <tr>\n",
       "      <th>X360</th>\n",
       "      <td>236.54</td>\n",
       "    </tr>\n",
       "    <tr>\n",
       "      <th>3DS</th>\n",
       "      <td>194.61</td>\n",
       "    </tr>\n",
       "    <tr>\n",
       "      <th>XOne</th>\n",
       "      <td>159.32</td>\n",
       "    </tr>\n",
       "    <tr>\n",
       "      <th>WiiU</th>\n",
       "      <td>82.19</td>\n",
       "    </tr>\n",
       "    <tr>\n",
       "      <th>PC</th>\n",
       "      <td>62.65</td>\n",
       "    </tr>\n",
       "    <tr>\n",
       "      <th>PSV</th>\n",
       "      <td>49.18</td>\n",
       "    </tr>\n",
       "    <tr>\n",
       "      <th>Wii</th>\n",
       "      <td>35.37</td>\n",
       "    </tr>\n",
       "    <tr>\n",
       "      <th>DS</th>\n",
       "      <td>12.55</td>\n",
       "    </tr>\n",
       "    <tr>\n",
       "      <th>PSP</th>\n",
       "      <td>11.19</td>\n",
       "    </tr>\n",
       "  </tbody>\n",
       "</table>\n",
       "</div>"
      ],
      "text/plain": [
       "          sum_sales\n",
       "platform           \n",
       "PS4          314.14\n",
       "PS3          288.79\n",
       "X360         236.54\n",
       "3DS          194.61\n",
       "XOne         159.32\n",
       "WiiU          82.19\n",
       "PC            62.65\n",
       "PSV           49.18\n",
       "Wii           35.37\n",
       "DS            12.55\n",
       "PSP           11.19"
      ]
     },
     "execution_count": 33,
     "metadata": {},
     "output_type": "execute_result"
    }
   ],
   "source": [
    "df.groupby('platform').agg({'sum_sales':'sum'}).sort_values('sum_sales',ascending=False)#группировка и сортировка"
   ]
  },
  {
   "cell_type": "markdown",
   "metadata": {},
   "source": [
    "По графикам можно выделить лидирующие и растущие платформы: PS4, XOne, WiiU . Платформы 3DS, PC, PSV, PS3 показывают отрицательный рост. "
   ]
  },
  {
   "cell_type": "markdown",
   "metadata": {},
   "source": [
    "Построим 'ящик с усами' по глобальным продажам игр в разбивке по платформам. "
   ]
  },
  {
   "cell_type": "code",
   "execution_count": 34,
   "metadata": {},
   "outputs": [
    {
     "data": {
      "image/png": "[encoded data removed]",
      "text/plain": [
       "<Figure size 1080x360 with 1 Axes>"
      ]
     },
     "metadata": {
      "needs_background": "light"
     },
     "output_type": "display_data"
    }
   ],
   "source": [
    "plt.figure(figsize=(15,5))\n",
    "sns.boxplot(data=df, x='platform', y='sum_sales')\n",
    "plt.title('Продажи по перспективным платформам')\n",
    "plt.xlabel('Платформы')\n",
    "plt.ylabel('Общие продажи')\n",
    "plt.show()"
   ]
  },
  {
   "cell_type": "code",
   "execution_count": 35,
   "metadata": {},
   "outputs": [
    {
     "data": {
      "image/png": "[encoded data removed]",
      "text/plain": [
       "<Figure size 1080x360 with 1 Axes>"
      ]
     },
     "metadata": {
      "needs_background": "light"
     },
     "output_type": "display_data"
    }
   ],
   "source": [
    "plt.figure(figsize=(15,5))\n",
    "sns.boxplot(data=df, x='platform', y='sum_sales')\n",
    "plt.title('Продажи по перспективным платформам')\n",
    "plt.xlabel('Платформы')\n",
    "plt.ylabel('Общие продажи') #построение ящика с усами\n",
    "plt.ylim(0,2) #ограничение области\n",
    "plt.show()"
   ]
  },
  {
   "cell_type": "markdown",
   "metadata": {},
   "source": [
    "Можно сказать, что платформы PS3, X360, PS4, XOne, WiiU, Wii имеют стабильно высокие продажи, так как их медианные продажи выше, чем у других платформ."
   ]
  },
  {
   "cell_type": "markdown",
   "metadata": {},
   "source": [
    "<a id='7-bullet'></a>\n",
    "### Оценка влияния отзывов пользователей и критиков на продажи игр внутри одной популярной платформы.  "
   ]
  },
  {
   "cell_type": "code",
   "execution_count": 36,
   "metadata": {},
   "outputs": [
    {
     "data": {
      "image/png": "[encoded data removed]",
      "text/plain": [
       "<Figure size 432x288 with 1 Axes>"
      ]
     },
     "metadata": {
      "needs_background": "light"
     },
     "output_type": "display_data"
    }
   ],
   "source": [
    "df.query('platform == \"PS4\"').plot(x='user_score', y='sum_sales', kind='scatter')#построение графика\n",
    "plt.title('Продажи игр платформы PS4 на основе оценок пользователей')\n",
    "plt.xlabel('Оценки пользователей')\n",
    "plt.ylabel('Общие продажи')\n",
    "plt.show()"
   ]
  },
  {
   "cell_type": "code",
   "execution_count": 37,
   "metadata": {},
   "outputs": [
    {
     "data": {
      "image/png": "[encoded data removed]",
      "text/plain": [
       "<Figure size 432x288 with 1 Axes>"
      ]
     },
     "metadata": {
      "needs_background": "light"
     },
     "output_type": "display_data"
    }
   ],
   "source": [
    "df.query('platform == \"PS4\"').plot(x='critic_score', y='sum_sales', kind='scatter')#построение графика\n",
    "plt.title('Продажи игр платформы PS4 на основе оценок критиков')\n",
    "plt.xlabel('Оценки критиков')\n",
    "plt.ylabel('Общие продажи')\n",
    "plt.show()"
   ]
  },
  {
   "cell_type": "code",
   "execution_count": 38,
   "metadata": {},
   "outputs": [
    {
     "data": {
      "text/plain": [
       "0.40656790206178123"
      ]
     },
     "execution_count": 38,
     "metadata": {},
     "output_type": "execute_result"
    }
   ],
   "source": [
    "df.query('platform == \"PS4\"')['critic_score'].corr(df.query('platform == \"PS4\"')['sum_sales']) #коэффициент корреляции"
   ]
  },
  {
   "cell_type": "code",
   "execution_count": 39,
   "metadata": {},
   "outputs": [
    {
     "data": {
      "text/plain": [
       "-0.03195711020455644"
      ]
     },
     "execution_count": 39,
     "metadata": {},
     "output_type": "execute_result"
    }
   ],
   "source": [
    "df.query('platform == \"PS4\"')['user_score'].corr(df.query('platform == \"PS4\"')['sum_sales']) #коэффициент корреляции"
   ]
  },
  {
   "cell_type": "markdown",
   "metadata": {},
   "source": [
    "Между отзывами игроков и продажами игр есть очень слабая отрицательная связь, а между отзывами критиков и продажами игр есть слабая связь на платформе PS4."
   ]
  },
  {
   "cell_type": "code",
   "execution_count": 40,
   "metadata": {},
   "outputs": [
    {
     "data": {
      "image/png": "[encoded data removed]",
      "text/plain": [
       "<Figure size 432x288 with 1 Axes>"
      ]
     },
     "metadata": {
      "needs_background": "light"
     },
     "output_type": "display_data"
    }
   ],
   "source": [
    "df.query('platform == \"XOne\"').plot(x='user_score', y='sum_sales', kind='scatter')#построение графика\n",
    "plt.title('Продажи игр платформы XOne на основе оценок пользователей')\n",
    "plt.xlabel('Оценки пользователей')\n",
    "plt.ylabel('Общие продажи')\n",
    "plt.show()"
   ]
  },
  {
   "cell_type": "code",
   "execution_count": 41,
   "metadata": {},
   "outputs": [
    {
     "data": {
      "image/png": "[encoded data removed]",
      "text/plain": [
       "<Figure size 432x288 with 1 Axes>"
      ]
     },
     "metadata": {
      "needs_background": "light"
     },
     "output_type": "display_data"
    }
   ],
   "source": [
    "df.query('platform == \"XOne\"').plot(x='critic_score', y='sum_sales', kind='scatter')#построение графика\n",
    "plt.title('Продажи игр платформы XOne на основе оценок критиков')\n",
    "plt.xlabel('Оценки критиков')\n",
    "plt.ylabel('Общие продажи')\n",
    "plt.show()"
   ]
  },
  {
   "cell_type": "code",
   "execution_count": 42,
   "metadata": {},
   "outputs": [
    {
     "data": {
      "text/plain": [
       "0.41699832800840153"
      ]
     },
     "execution_count": 42,
     "metadata": {},
     "output_type": "execute_result"
    }
   ],
   "source": [
    "df.query('platform == \"XOne\"')['critic_score'].corr(df.query('platform == \"XOne\"')['sum_sales']) #коэффициент корреляции"
   ]
  },
  {
   "cell_type": "code",
   "execution_count": 43,
   "metadata": {},
   "outputs": [
    {
     "data": {
      "text/plain": [
       "-0.06892505328279418"
      ]
     },
     "execution_count": 43,
     "metadata": {},
     "output_type": "execute_result"
    }
   ],
   "source": [
    "df.query('platform == \"XOne\"')['user_score'].corr(df.query('platform == \"XOne\"')['sum_sales']) #коэффициент корреляции"
   ]
  },
  {
   "cell_type": "markdown",
   "metadata": {},
   "source": [
    "Между отзывами игроков и продажами игр есть очень слабая отрицательная связь, и между отзывами критиков и продажами игр есть слабая связь на платформе PS4."
   ]
  },
  {
   "cell_type": "code",
   "execution_count": 44,
   "metadata": {},
   "outputs": [
    {
     "data": {
      "image/png": "[encoded data removed]",
      "text/plain": [
       "<Figure size 432x288 with 1 Axes>"
      ]
     },
     "metadata": {
      "needs_background": "light"
     },
     "output_type": "display_data"
    }
   ],
   "source": [
    "df.query('platform == \"WiiU\"').plot(x='user_score', y='sum_sales', kind='scatter')#построение графика\n",
    "plt.title('Продажи игр платформы WiiU на основе оценок пользователей')\n",
    "plt.xlabel('Оценки пользователей')\n",
    "plt.ylabel('Общие продажи')\n",
    "plt.show()"
   ]
  },
  {
   "cell_type": "code",
   "execution_count": 45,
   "metadata": {},
   "outputs": [
    {
     "data": {
      "image/png": "[encoded data removed]",
      "text/plain": [
       "<Figure size 432x288 with 1 Axes>"
      ]
     },
     "metadata": {
      "needs_background": "light"
     },
     "output_type": "display_data"
    }
   ],
   "source": [
    "df.query('platform == \"WiiU\"').plot(x='critic_score', y='sum_sales', kind='scatter')#построение графика\n",
    "plt.title('Продажи игр платформы WiiU на основе оценок критиков')\n",
    "plt.xlabel('Оценки критиков')\n",
    "plt.ylabel('Общие продажи')\n",
    "plt.show()"
   ]
  },
  {
   "cell_type": "code",
   "execution_count": 46,
   "metadata": {},
   "outputs": [
    {
     "data": {
      "text/plain": [
       "0.34837976012017496"
      ]
     },
     "execution_count": 46,
     "metadata": {},
     "output_type": "execute_result"
    }
   ],
   "source": [
    "df.query('platform == \"WiiU\"')['critic_score'].corr(df.query('platform == \"WiiU\"')['sum_sales']) #коэффициент корреляции"
   ]
  },
  {
   "cell_type": "code",
   "execution_count": 47,
   "metadata": {},
   "outputs": [
    {
     "data": {
      "text/plain": [
       "0.40021902021486194"
      ]
     },
     "execution_count": 47,
     "metadata": {},
     "output_type": "execute_result"
    }
   ],
   "source": [
    "df.query('platform == \"WiiU\"')['user_score'].corr(df.query('platform == \"WiiU\"')['sum_sales']) #коэффициент корреляции"
   ]
  },
  {
   "cell_type": "markdown",
   "metadata": {},
   "source": [
    "Между отзывами критиков, пользователей и продажами игр есть слабая положительная связь на платформе WiiU."
   ]
  },
  {
   "cell_type": "markdown",
   "metadata": {},
   "source": [
    "<a id='8-bullet'></a>\n",
    "### Распределение продаж по жанрам."
   ]
  },
  {
   "cell_type": "markdown",
   "metadata": {},
   "source": [
    "Далее рассмотрим распределение продаж по жанрам"
   ]
  },
  {
   "cell_type": "code",
   "execution_count": 48,
   "metadata": {},
   "outputs": [
    {
     "data": {
      "image/png": "[encoded data removed]",
      "text/plain": [
       "<Figure size 1080x360 with 1 Axes>"
      ]
     },
     "metadata": {
      "needs_background": "light"
     },
     "output_type": "display_data"
    }
   ],
   "source": [
    "plt.figure(figsize=(15,5))\n",
    "sns.boxplot(data=df, x='genre', y='sum_sales')\n",
    "plt.title('Продажи по жанрам')\n",
    "plt.xlabel('Жанры')\n",
    "plt.ylabel('Общие продажи')\n",
    "plt.show()"
   ]
  },
  {
   "cell_type": "code",
   "execution_count": 49,
   "metadata": {},
   "outputs": [
    {
     "data": {
      "image/png": "[encoded data removed]",
      "text/plain": [
       "<Figure size 1080x360 with 1 Axes>"
      ]
     },
     "metadata": {
      "needs_background": "light"
     },
     "output_type": "display_data"
    }
   ],
   "source": [
    "plt.figure(figsize=(15,5))\n",
    "sns.boxplot(data=df, x='genre', y='sum_sales')\n",
    "plt.title('Продажи по жанрам')\n",
    "plt.xlabel('Жанры')\n",
    "plt.ylabel('Общие продажи')\n",
    "plt.ylim(0,2.5) #ограничение области\n",
    "plt.show()"
   ]
  },
  {
   "cell_type": "markdown",
   "metadata": {},
   "source": [
    "Исходя из медианных продаж лидерами по продажам являются жанры `Platform`, `Shooter` и `Sports`. Самые низкие продажи у игр жанра `Adventure` и `Puzzle`."
   ]
  },
  {
   "cell_type": "markdown",
   "metadata": {},
   "source": [
    "### Вывод"
   ]
  },
  {
   "cell_type": "markdown",
   "metadata": {},
   "source": [
    "Исходя из исследовательского анализа данных, можно сказать, что самые популярные платформы это  `PS4`, `XOne`, `WiiU`. Самые популярные жанры: `Platform`, `Shooter` и `Sports`."
   ]
  },
  {
   "cell_type": "markdown",
   "metadata": {},
   "source": [
    "## Портрет пользователя каждого региона"
   ]
  },
  {
   "cell_type": "markdown",
   "metadata": {},
   "source": [
    "Определим для пользователя каждого региона (NA, EU, JP):\n",
    "* Самые популярные платформы (топ-5).\n",
    "* Самые популярные жанры (топ-5).\n",
    "* Влияет ли рейтинг ESRB на продажи в отдельном регионе?"
   ]
  },
  {
   "cell_type": "markdown",
   "metadata": {},
   "source": [
    "<a id='9-bullet'></a>\n",
    "### Определение топ-5 популярных платформ для каждого региона."
   ]
  },
  {
   "cell_type": "code",
   "execution_count": 50,
   "metadata": {},
   "outputs": [],
   "source": [
    "platform_na=df.groupby('platform').agg({'na_sales':'sum'}).reset_index() #группировка\n",
    "platform_na['platform'] = platform_na['platform'].where(platform_na['na_sales'].isin(platform_na['na_sales'].nlargest(5)), 'Other')\n",
    "platform_na=platform_na.groupby('platform').agg({'na_sales':'sum'}).reset_index()"
   ]
  },
  {
   "cell_type": "code",
   "execution_count": 51,
   "metadata": {},
   "outputs": [],
   "source": [
    "platform_eu=df.groupby('platform').agg({'eu_sales':'sum'}).reset_index() #группировка\n",
    "platform_eu['platform'] = platform_eu['platform'].where(platform_eu['eu_sales'].isin(platform_eu['eu_sales'].nlargest(5)), 'Other')\n",
    "platform_eu=platform_eu.groupby('platform').agg({'eu_sales':'sum'}).reset_index()"
   ]
  },
  {
   "cell_type": "code",
   "execution_count": 52,
   "metadata": {},
   "outputs": [],
   "source": [
    "platform_jp=df.groupby('platform').agg({'jp_sales':'sum'}).reset_index() #группировка\n",
    "platform_jp['platform'] = platform_jp['platform'].where(platform_jp['jp_sales'].isin(platform_jp['jp_sales'].nlargest(5)), 'Other')\n",
    "platform_jp=platform_jp.groupby('platform').agg({'jp_sales':'sum'}).reset_index()"
   ]
  },
  {
   "cell_type": "code",
   "execution_count": 53,
   "metadata": {},
   "outputs": [
    {
     "data": {
      "image/png": "[encoded data removed]",
      "text/plain": [
       "<Figure size 1080x720 with 3 Axes>"
      ]
     },
     "metadata": {},
     "output_type": "display_data"
    }
   ],
   "source": [
    "fig, (ax1, ax2, ax3) = plt.subplots(1,3,figsize=(15,10),)\n",
    "colors = sns.color_palette('pastel')[0:6]\n",
    "fig.suptitle(\"Топ 5 платформ в регионах\",y=0.8,\n",
    "             fontsize = 20)\n",
    "ax1.pie(platform_na['na_sales'], colors=colors, labels=platform_na['platform'],autopct='%.0f%%',\n",
    "      frame=False)\n",
    "ax1.set_title('NA',fontsize = 15) \n",
    "ax2.pie(platform_eu['eu_sales'], colors=colors, labels=platform_eu['platform'],autopct='%.0f%%',\n",
    "      frame=False)\n",
    "ax2.set_title('EU',fontsize = 15) \n",
    "ax3.pie(platform_jp['jp_sales'], colors=colors, labels=platform_jp['platform'],autopct='%.0f%%',\n",
    "      frame=False)\n",
    "ax3.set_title('JP',fontsize = 15) \n",
    "plt.show()"
   ]
  },
  {
   "cell_type": "markdown",
   "metadata": {},
   "source": [
    "В целом, в Европе и Америке популярны одинаковые платформы. Однако, в Японии помимо PS3 и PS4 также популярны платформы фирмы Nintendo: WiiU и 3DS. Причем, 3DS самая популярная платформа."
   ]
  },
  {
   "cell_type": "markdown",
   "metadata": {},
   "source": [
    "<a id='10-bullet'></a>\n",
    "### Определение топ-5 популярных жанров для каждого региона."
   ]
  },
  {
   "cell_type": "code",
   "execution_count": 54,
   "metadata": {},
   "outputs": [],
   "source": [
    "genre_na=df.groupby('genre').agg({'na_sales':'sum'}).reset_index() #группировка\n",
    "genre_na['genre'] = genre_na['genre'].where(genre_na['na_sales'].isin(genre_na['na_sales'].nlargest(5)), 'Other')\n",
    "genre_na=genre_na.groupby('genre').agg({'na_sales':'sum'}).reset_index()"
   ]
  },
  {
   "cell_type": "code",
   "execution_count": 55,
   "metadata": {},
   "outputs": [],
   "source": [
    "genre_eu=df.groupby('genre').agg({'eu_sales':'sum'}).reset_index() #группировка\n",
    "genre_eu['genre'] = genre_eu['genre'].where(genre_eu['eu_sales'].isin(genre_eu['eu_sales'].nlargest(5)), 'Other')\n",
    "genre_eu=genre_eu.groupby('genre').agg({'eu_sales':'sum'}).reset_index()"
   ]
  },
  {
   "cell_type": "code",
   "execution_count": 56,
   "metadata": {},
   "outputs": [],
   "source": [
    "genre_jp=df.groupby('genre').agg({'jp_sales':'sum'}).reset_index() #группировка\n",
    "genre_jp['genre'] = genre_jp['genre'].where(genre_jp['jp_sales'].isin(genre_jp['jp_sales'].nlargest(5)), 'Other')\n",
    "genre_jp=genre_jp.groupby('genre').agg({'jp_sales':'sum'}).reset_index()"
   ]
  },
  {
   "cell_type": "code",
   "execution_count": 57,
   "metadata": {},
   "outputs": [
    {
     "data": {
      "image/png": "[encoded data removed]",
      "text/plain": [
       "<Figure size 1080x720 with 3 Axes>"
      ]
     },
     "metadata": {},
     "output_type": "display_data"
    }
   ],
   "source": [
    "fig, (ax1, ax2, ax3) = plt.subplots(1,3,figsize=(15,10),)\n",
    "colors = sns.color_palette('pastel')[0:6]\n",
    "fig.suptitle(\"Топ 5 жанров в регионах\",y=0.8,\n",
    "             fontsize = 20)\n",
    "ax1.pie(genre_na['na_sales'], colors=colors, labels=genre_na['genre'],autopct='%.0f%%',\n",
    "      frame=False)\n",
    "ax1.set_title('NA',fontsize = 15) \n",
    "ax2.pie(genre_eu['eu_sales'], colors=colors, labels=genre_eu['genre'],autopct='%.0f%%',\n",
    "      frame=False)\n",
    "ax2.set_title('EU',fontsize = 15) \n",
    "ax3.pie(genre_jp['jp_sales'], colors=colors, labels=genre_jp['genre'],autopct='%.0f%%',\n",
    "      frame=False)\n",
    "ax3.set_title('JP',fontsize = 15) \n",
    "plt.show()"
   ]
  },
  {
   "cell_type": "markdown",
   "metadata": {},
   "source": [
    "В Европе и Америке популярны одинаковые платформы. Различие лишь одно - в Америке популярен жанр `Misc`, а в Европе `Racing`. В Японии же лидирует `Role-Playing`, а жанр `Action` занимает лишь вторую строчку рейтинга. Помимо этого, популярны также жанры `Simulation` и `Fighting`, что не пользуется популярностью в Европе и Америке."
   ]
  },
  {
   "cell_type": "markdown",
   "metadata": {},
   "source": [
    "<a id='11-bullet'></a>\n",
    "### Оценка влияния рейтинга ESRB на продажи в отдельном регионе."
   ]
  },
  {
   "cell_type": "code",
   "execution_count": 58,
   "metadata": {},
   "outputs": [
    {
     "data": {
      "image/png": "[encoded data removed]",
      "text/plain": [
       "<Figure size 432x288 with 1 Axes>"
      ]
     },
     "metadata": {
      "needs_background": "light"
     },
     "output_type": "display_data"
    }
   ],
   "source": [
    "df.groupby('rating').agg({'na_sales':'sum'}).reset_index().plot(x='rating',y='na_sales', kind='bar') #построение гистограммы\n",
    "plt.title('Продажи по рейтингам в Северной Америке')\n",
    "plt.xlabel('Рейтинг')\n",
    "plt.ylabel('Общие продажи')\n",
    "plt.show()"
   ]
  },
  {
   "cell_type": "code",
   "execution_count": 59,
   "metadata": {},
   "outputs": [
    {
     "data": {
      "image/png": "[encoded data removed]",
      "text/plain": [
       "<Figure size 432x288 with 1 Axes>"
      ]
     },
     "metadata": {
      "needs_background": "light"
     },
     "output_type": "display_data"
    }
   ],
   "source": [
    "df.groupby('rating').agg({'eu_sales':'sum'}).reset_index().plot(x='rating',y='eu_sales', kind='bar') #построение гистограммы\n",
    "plt.title('Продажи по рейтингам в Европе')\n",
    "plt.xlabel('Рейтинг')\n",
    "plt.ylabel('Общие продажи')\n",
    "plt.show()"
   ]
  },
  {
   "cell_type": "code",
   "execution_count": 60,
   "metadata": {},
   "outputs": [
    {
     "data": {
      "image/png": "[encoded data removed]",
      "text/plain": [
       "<Figure size 432x288 with 1 Axes>"
      ]
     },
     "metadata": {
      "needs_background": "light"
     },
     "output_type": "display_data"
    }
   ],
   "source": [
    "df.groupby('rating').agg({'jp_sales':'sum'}).reset_index().plot(x='rating',y='jp_sales', kind='bar') #построение гистограммы\n",
    "plt.title('Продажи по рейтингам в Японии')\n",
    "plt.xlabel('Рейтинг')\n",
    "plt.ylabel('Общие продажи')\n",
    "plt.show()"
   ]
  },
  {
   "cell_type": "markdown",
   "metadata": {},
   "source": [
    "В Европе и Америке лучше всех продаются игры с рейтингом `M`, другие , в целом, продаются одинаково. В Японии же нельзя с точностью сказать, игры с каким рейтингом продаются лучше. Так как у многих игр в Японском регионе нет рейтинга `ESRB`, потому что он предназначен для маркировки игр для США и Канады."
   ]
  },
  {
   "cell_type": "markdown",
   "metadata": {},
   "source": [
    "### Вывод"
   ]
  },
  {
   "cell_type": "markdown",
   "metadata": {},
   "source": [
    "Портрет пользователя из Америки и Европы, в целом, одинаковый. Им нравятся те же платформы и жанры игр. Возрастной рейтинг игр влияет на продажи в этих регионах одинаково. В Японии же портрет пользователя совершенно другой. Типичному пользователю из Японии нравятся подвижные игры, а влияние рейтинга ESRB определить не удалось, так как в этом регионе много игр с пропущенным рейтингом."
   ]
  },
  {
   "cell_type": "markdown",
   "metadata": {},
   "source": [
    "## Проверка гипотез"
   ]
  },
  {
   "cell_type": "markdown",
   "metadata": {},
   "source": [
    "Проверим некоторые гипотезы:\n",
    "* Средние пользовательские рейтинги платформ Xbox One и PC одинаковые;\n",
    "* Средние пользовательские рейтинги жанров Action (англ. «действие», экшен-игры) и Sports (англ. «спортивные соревнования») разные."
   ]
  },
  {
   "cell_type": "markdown",
   "metadata": {},
   "source": [
    "Проверим первую гипотезу. Нулевая гипотеза будет выглядеть следующим образом: средние двух генеральных совокупностей равны между собой. Алтернативная: средние двух генеральных совокупностей не равны между собой. Чтобы подтвердить или опровергнуть нулевую гипотезу проведем t-тест для проверки равенства среднего двух генеральных совокупностей по взятым из них выборкам."
   ]
  },
  {
   "cell_type": "markdown",
   "metadata": {},
   "source": [
    "Перед проверкой необходимо удалить строки, в которых отсутствуют значения в столбцах `user_score`."
   ]
  },
  {
   "cell_type": "code",
   "execution_count": 61,
   "metadata": {},
   "outputs": [],
   "source": [
    "df_score = df.dropna(subset=['user_score']) #построение гистограммы"
   ]
  },
  {
   "cell_type": "code",
   "execution_count": 62,
   "metadata": {},
   "outputs": [
    {
     "name": "stdout",
     "output_type": "stream",
     "text": [
      "p-значение: 0.5535080500643661\n",
      "Не получилось отвергнуть нулевую гипотезу\n"
     ]
    }
   ],
   "source": [
    "results=st.ttest_ind(\n",
    "    df_score.query('platform==\"XOne\"')['user_score'], \n",
    "    df_score.query('platform==\"PC\"')['user_score'])\n",
    "alpha = 0.05\n",
    "print('p-значение:', results.pvalue)\n",
    "\n",
    "if results.pvalue < alpha:\n",
    "    print(\"Отвергаем нулевую гипотезу\")\n",
    "else:\n",
    "    print(\"Не получилось отвергнуть нулевую гипотезу\")"
   ]
  },
  {
   "cell_type": "markdown",
   "metadata": {},
   "source": [
    "Значение p-value показывает: вероятность случайно получить такое или большее различие равно почти 57%. Не получилось опровергнуть нулевую гипотезу."
   ]
  },
  {
   "cell_type": "code",
   "execution_count": 63,
   "metadata": {},
   "outputs": [
    {
     "data": {
      "text/plain": [
       "0.014433501256728709"
      ]
     },
     "execution_count": 63,
     "metadata": {},
     "output_type": "execute_result"
    }
   ],
   "source": [
    "(df_score.query('platform==\"XOne\"')['user_score'].mean() / df_score.query('platform==\"PC\"')['user_score'].mean()) - 1"
   ]
  },
  {
   "cell_type": "markdown",
   "metadata": {},
   "source": [
    "Средняя выручка у `XOne` всего на 1 процент больше, чем `PC`."
   ]
  },
  {
   "cell_type": "markdown",
   "metadata": {},
   "source": [
    "Далее проверим следующую гипотезу. Нулевая гипотеза: средние двух генеральных совокупностей равны между собой. Алтернативная: средние двух генеральных совокупностей не равны между собой. Чтобы подтвердить или опровергнуть нулевую гипотезу проведем t-тест для проверки равенства среднего двух генеральных совокупностей по взятым из них выборкам."
   ]
  },
  {
   "cell_type": "code",
   "execution_count": 64,
   "metadata": {},
   "outputs": [
    {
     "name": "stdout",
     "output_type": "stream",
     "text": [
      "p-значение: 3.7163089460934874e-26\n",
      "Отвергаем нулевую гипотезу\n"
     ]
    }
   ],
   "source": [
    "results=st.ttest_ind(\n",
    "    df_score.query('genre==\"Action\"')['user_score'], \n",
    "    df_score.query('genre==\"Sports\"')['user_score'])\n",
    "alpha = 0.01\n",
    "print('p-значение:', results.pvalue)\n",
    "\n",
    "if results.pvalue < alpha:\n",
    "    print(\"Отвергаем нулевую гипотезу\")\n",
    "else:\n",
    "    print(\"Не получилось отвергнуть нулевую гипотезу\")"
   ]
  },
  {
   "cell_type": "code",
   "execution_count": 65,
   "metadata": {},
   "outputs": [
    {
     "data": {
      "text/plain": [
       "0.2509486993361323"
      ]
     },
     "execution_count": 65,
     "metadata": {},
     "output_type": "execute_result"
    }
   ],
   "source": [
    "(df_score.query('genre==\"Action\"')['user_score'].mean() / df_score.query('genre==\"Sports\"')['user_score'].mean()) - 1"
   ]
  },
  {
   "cell_type": "markdown",
   "metadata": {},
   "source": [
    "Средняя выручка у жанра `Action` на 23 процента больше, чем у жанра `Sports`."
   ]
  },
  {
   "cell_type": "markdown",
   "metadata": {},
   "source": [
    "p-значение получилось меньше, чем критический уровень статистической значимости alpha. На имеющихся данных, на уровне значимости 1% (уровне доверия 99%) есть оснований отвергнуть нулевую гипотезу в пользу альтернативы."
   ]
  },
  {
   "cell_type": "markdown",
   "metadata": {},
   "source": [
    "### Вывод"
   ]
  },
  {
   "cell_type": "markdown",
   "metadata": {},
   "source": [
    "На основе двух проведенных тестов, можно утверждать, что нельзя опровергнуть гипотезы, выдвенутые в начале этого пункта."
   ]
  },
  {
   "cell_type": "markdown",
   "metadata": {},
   "source": [
    "## Вывод"
   ]
  },
  {
   "cell_type": "markdown",
   "metadata": {},
   "source": [
    "В Америке следует рекламировать игры на платформе `XOne`и`PS4`  с жанром `Action` и `Shooter` рейтингом `M`.\n",
    "В Европе популярны игры на платформе `PS4` в жанре `Action` и `Shooter` рейтингом `M`.\n",
    "В Японии больше всего пользуются спросом игры на платформе `3Ds` в жанре `Action` и `Role-Playing`.\n",
    "На отзывы пользователей не стоит обращать внимания, но к отзывам критиков стоит иногда прислушаться."
   ]
  }
 ],
 "metadata": {
  "ExecuteTimeLog": [
   {
    "duration": 1172,
    "start_time": "2022-06-12T13:51:10.953Z"
   },
   {
    "duration": 275,
    "start_time": "2022-06-12T13:52:47.911Z"
   },
   {
    "duration": 76,
    "start_time": "2022-06-12T13:52:54.192Z"
   },
   {
    "duration": 16,
    "start_time": "2022-06-12T13:53:07.292Z"
   },
   {
    "duration": 76,
    "start_time": "2022-06-12T13:53:32.986Z"
   },
   {
    "duration": 12,
    "start_time": "2022-06-12T13:53:37.186Z"
   },
   {
    "duration": 987,
    "start_time": "2022-06-12T13:53:55.875Z"
   },
   {
    "duration": 142,
    "start_time": "2022-06-12T13:53:56.863Z"
   },
   {
    "duration": 15,
    "start_time": "2022-06-12T13:53:57.007Z"
   },
   {
    "duration": 966,
    "start_time": "2022-06-12T13:56:11.075Z"
   },
   {
    "duration": 151,
    "start_time": "2022-06-12T13:56:12.043Z"
   },
   {
    "duration": 13,
    "start_time": "2022-06-12T13:56:12.196Z"
   },
   {
    "duration": 8,
    "start_time": "2022-06-12T14:14:58.916Z"
   },
   {
    "duration": 137,
    "start_time": "2022-06-12T14:18:48.903Z"
   },
   {
    "duration": 22,
    "start_time": "2022-06-12T14:19:16.120Z"
   },
   {
    "duration": 8,
    "start_time": "2022-06-12T14:19:28.076Z"
   },
   {
    "duration": 19,
    "start_time": "2022-06-12T14:20:08.927Z"
   },
   {
    "duration": 8,
    "start_time": "2022-06-12T14:20:36.027Z"
   },
   {
    "duration": 5,
    "start_time": "2022-06-12T14:20:56.680Z"
   },
   {
    "duration": 467,
    "start_time": "2022-06-12T14:21:23.223Z"
   },
   {
    "duration": 20,
    "start_time": "2022-06-12T14:24:35.482Z"
   },
   {
    "duration": 6,
    "start_time": "2022-06-12T14:24:43.688Z"
   },
   {
    "duration": 5,
    "start_time": "2022-06-12T14:24:53.976Z"
   },
   {
    "duration": 26,
    "start_time": "2022-06-12T14:28:38.099Z"
   },
   {
    "duration": 6,
    "start_time": "2022-06-12T14:48:15.665Z"
   },
   {
    "duration": 1164,
    "start_time": "2022-06-13T17:50:04.194Z"
   },
   {
    "duration": 268,
    "start_time": "2022-06-13T17:50:05.360Z"
   },
   {
    "duration": 15,
    "start_time": "2022-06-13T17:50:05.630Z"
   },
   {
    "duration": 11,
    "start_time": "2022-06-13T17:50:05.648Z"
   },
   {
    "duration": 11,
    "start_time": "2022-06-13T17:50:05.661Z"
   },
   {
    "duration": 10,
    "start_time": "2022-06-13T17:50:05.674Z"
   },
   {
    "duration": 10,
    "start_time": "2022-06-13T17:50:05.686Z"
   },
   {
    "duration": 10,
    "start_time": "2022-06-13T17:50:05.698Z"
   },
   {
    "duration": 142,
    "start_time": "2022-06-13T17:51:16.769Z"
   },
   {
    "duration": 83,
    "start_time": "2022-06-13T17:55:48.142Z"
   },
   {
    "duration": 10,
    "start_time": "2022-06-13T17:56:09.007Z"
   },
   {
    "duration": 7,
    "start_time": "2022-06-13T17:56:14.286Z"
   },
   {
    "duration": 5,
    "start_time": "2022-06-13T17:59:48.964Z"
   },
   {
    "duration": 411,
    "start_time": "2022-06-13T18:02:42.718Z"
   },
   {
    "duration": 394,
    "start_time": "2022-06-13T18:02:52.859Z"
   },
   {
    "duration": 10,
    "start_time": "2022-06-13T18:02:55.669Z"
   },
   {
    "duration": 13,
    "start_time": "2022-06-13T18:03:00.771Z"
   },
   {
    "duration": 7,
    "start_time": "2022-06-13T18:03:05.507Z"
   },
   {
    "duration": 4,
    "start_time": "2022-06-13T18:03:31.244Z"
   },
   {
    "duration": 410,
    "start_time": "2022-06-13T18:03:51.115Z"
   },
   {
    "duration": 440,
    "start_time": "2022-06-13T18:04:02.572Z"
   },
   {
    "duration": 33,
    "start_time": "2022-06-13T18:04:24.727Z"
   },
   {
    "duration": 13,
    "start_time": "2022-06-13T18:11:52.324Z"
   },
   {
    "duration": 11,
    "start_time": "2022-06-13T18:11:54.962Z"
   },
   {
    "duration": 918,
    "start_time": "2022-06-13T18:12:05.920Z"
   },
   {
    "duration": 117,
    "start_time": "2022-06-13T18:12:06.839Z"
   },
   {
    "duration": 14,
    "start_time": "2022-06-13T18:12:06.957Z"
   },
   {
    "duration": 4,
    "start_time": "2022-06-13T18:12:06.973Z"
   },
   {
    "duration": 99,
    "start_time": "2022-06-13T18:12:06.978Z"
   },
   {
    "duration": 0,
    "start_time": "2022-06-13T18:12:07.079Z"
   },
   {
    "duration": 0,
    "start_time": "2022-06-13T18:12:07.080Z"
   },
   {
    "duration": 0,
    "start_time": "2022-06-13T18:12:07.081Z"
   },
   {
    "duration": 0,
    "start_time": "2022-06-13T18:12:07.082Z"
   },
   {
    "duration": 0,
    "start_time": "2022-06-13T18:12:07.094Z"
   },
   {
    "duration": 0,
    "start_time": "2022-06-13T18:12:07.095Z"
   },
   {
    "duration": 928,
    "start_time": "2022-06-13T18:12:53.601Z"
   },
   {
    "duration": 116,
    "start_time": "2022-06-13T18:12:54.530Z"
   },
   {
    "duration": 12,
    "start_time": "2022-06-13T18:12:54.647Z"
   },
   {
    "duration": 5,
    "start_time": "2022-06-13T18:12:54.660Z"
   },
   {
    "duration": 8,
    "start_time": "2022-06-13T18:12:54.666Z"
   },
   {
    "duration": 111,
    "start_time": "2022-06-13T18:12:54.676Z"
   },
   {
    "duration": 0,
    "start_time": "2022-06-13T18:12:54.788Z"
   },
   {
    "duration": 0,
    "start_time": "2022-06-13T18:12:54.789Z"
   },
   {
    "duration": 0,
    "start_time": "2022-06-13T18:12:54.790Z"
   },
   {
    "duration": 0,
    "start_time": "2022-06-13T18:12:54.790Z"
   },
   {
    "duration": 8,
    "start_time": "2022-06-13T18:13:16.098Z"
   },
   {
    "duration": 6,
    "start_time": "2022-06-13T18:27:18.264Z"
   },
   {
    "duration": 5,
    "start_time": "2022-06-13T18:27:20.090Z"
   },
   {
    "duration": 6,
    "start_time": "2022-06-13T18:27:21.831Z"
   },
   {
    "duration": 158,
    "start_time": "2022-06-13T18:27:22.888Z"
   },
   {
    "duration": 9,
    "start_time": "2022-06-13T18:30:41.514Z"
   },
   {
    "duration": 6,
    "start_time": "2022-06-13T18:30:52.798Z"
   },
   {
    "duration": 128,
    "start_time": "2022-06-13T18:30:59.419Z"
   },
   {
    "duration": 4,
    "start_time": "2022-06-13T18:33:49.203Z"
   },
   {
    "duration": 878,
    "start_time": "2022-06-13T18:33:55.139Z"
   },
   {
    "duration": 114,
    "start_time": "2022-06-13T18:33:56.019Z"
   },
   {
    "duration": 12,
    "start_time": "2022-06-13T18:33:56.134Z"
   },
   {
    "duration": 3,
    "start_time": "2022-06-13T18:33:56.148Z"
   },
   {
    "duration": 8,
    "start_time": "2022-06-13T18:33:56.153Z"
   },
   {
    "duration": 8,
    "start_time": "2022-06-13T18:33:56.162Z"
   },
   {
    "duration": 8,
    "start_time": "2022-06-13T18:33:56.172Z"
   },
   {
    "duration": 5,
    "start_time": "2022-06-13T18:33:56.194Z"
   },
   {
    "duration": 8,
    "start_time": "2022-06-13T18:33:56.200Z"
   },
   {
    "duration": 141,
    "start_time": "2022-06-13T18:33:56.210Z"
   },
   {
    "duration": 5,
    "start_time": "2022-06-13T18:33:56.352Z"
   },
   {
    "duration": 120,
    "start_time": "2022-06-13T18:34:51.991Z"
   },
   {
    "duration": 1339,
    "start_time": "2022-06-14T15:41:58.955Z"
   },
   {
    "duration": 218,
    "start_time": "2022-06-14T15:42:00.297Z"
   },
   {
    "duration": 21,
    "start_time": "2022-06-14T15:42:00.517Z"
   },
   {
    "duration": 25,
    "start_time": "2022-06-14T15:42:00.541Z"
   },
   {
    "duration": 65,
    "start_time": "2022-06-14T15:42:00.568Z"
   },
   {
    "duration": 19,
    "start_time": "2022-06-14T15:42:00.642Z"
   },
   {
    "duration": 9,
    "start_time": "2022-06-14T15:42:00.663Z"
   },
   {
    "duration": 14,
    "start_time": "2022-06-14T15:42:00.674Z"
   },
   {
    "duration": 9,
    "start_time": "2022-06-14T15:42:00.690Z"
   },
   {
    "duration": 102,
    "start_time": "2022-06-14T15:44:49.135Z"
   },
   {
    "duration": 15,
    "start_time": "2022-06-14T15:45:29.935Z"
   },
   {
    "duration": 4,
    "start_time": "2022-06-14T15:45:54.223Z"
   },
   {
    "duration": 86,
    "start_time": "2022-06-14T15:47:12.244Z"
   },
   {
    "duration": 1050,
    "start_time": "2022-06-14T15:48:33.023Z"
   },
   {
    "duration": 150,
    "start_time": "2022-06-14T15:48:34.076Z"
   },
   {
    "duration": 15,
    "start_time": "2022-06-14T15:48:34.228Z"
   },
   {
    "duration": 22,
    "start_time": "2022-06-14T15:48:34.245Z"
   },
   {
    "duration": 6,
    "start_time": "2022-06-14T15:48:34.270Z"
   },
   {
    "duration": 112,
    "start_time": "2022-06-14T15:48:34.278Z"
   },
   {
    "duration": 0,
    "start_time": "2022-06-14T15:48:34.392Z"
   },
   {
    "duration": 0,
    "start_time": "2022-06-14T15:48:34.393Z"
   },
   {
    "duration": 0,
    "start_time": "2022-06-14T15:48:34.394Z"
   },
   {
    "duration": 0,
    "start_time": "2022-06-14T15:48:34.395Z"
   },
   {
    "duration": 0,
    "start_time": "2022-06-14T15:48:34.396Z"
   },
   {
    "duration": 15,
    "start_time": "2022-06-14T15:48:42.583Z"
   },
   {
    "duration": 14,
    "start_time": "2022-06-14T15:49:03.639Z"
   },
   {
    "duration": 1056,
    "start_time": "2022-06-14T15:50:37.909Z"
   },
   {
    "duration": 140,
    "start_time": "2022-06-14T15:50:38.968Z"
   },
   {
    "duration": 29,
    "start_time": "2022-06-14T15:50:39.109Z"
   },
   {
    "duration": 7,
    "start_time": "2022-06-14T15:50:39.140Z"
   },
   {
    "duration": 124,
    "start_time": "2022-06-14T15:50:39.149Z"
   },
   {
    "duration": 0,
    "start_time": "2022-06-14T15:50:39.275Z"
   },
   {
    "duration": 0,
    "start_time": "2022-06-14T15:50:39.277Z"
   },
   {
    "duration": 0,
    "start_time": "2022-06-14T15:50:39.278Z"
   },
   {
    "duration": 0,
    "start_time": "2022-06-14T15:50:39.279Z"
   },
   {
    "duration": 0,
    "start_time": "2022-06-14T15:50:39.280Z"
   },
   {
    "duration": 0,
    "start_time": "2022-06-14T15:50:39.281Z"
   },
   {
    "duration": 0,
    "start_time": "2022-06-14T15:50:39.282Z"
   },
   {
    "duration": 15,
    "start_time": "2022-06-14T15:51:15.991Z"
   },
   {
    "duration": 9,
    "start_time": "2022-06-14T15:51:27.457Z"
   },
   {
    "duration": 15,
    "start_time": "2022-06-14T15:51:29.418Z"
   },
   {
    "duration": 5,
    "start_time": "2022-06-14T15:51:38.370Z"
   },
   {
    "duration": 7,
    "start_time": "2022-06-14T15:51:57.759Z"
   },
   {
    "duration": 10,
    "start_time": "2022-06-14T15:52:06.578Z"
   },
   {
    "duration": 10,
    "start_time": "2022-06-14T16:05:03.494Z"
   },
   {
    "duration": 8,
    "start_time": "2022-06-14T16:06:42.774Z"
   },
   {
    "duration": 10,
    "start_time": "2022-06-14T16:06:53.278Z"
   },
   {
    "duration": 6,
    "start_time": "2022-06-14T16:07:11.052Z"
   },
   {
    "duration": 12,
    "start_time": "2022-06-14T16:07:15.386Z"
   },
   {
    "duration": 1162,
    "start_time": "2022-06-14T16:07:21.847Z"
   },
   {
    "duration": 167,
    "start_time": "2022-06-14T16:07:23.013Z"
   },
   {
    "duration": 16,
    "start_time": "2022-06-14T16:07:23.182Z"
   },
   {
    "duration": 5,
    "start_time": "2022-06-14T16:07:23.201Z"
   },
   {
    "duration": 30,
    "start_time": "2022-06-14T16:07:23.224Z"
   },
   {
    "duration": 10,
    "start_time": "2022-06-14T16:07:23.257Z"
   },
   {
    "duration": 15,
    "start_time": "2022-06-14T16:07:23.269Z"
   },
   {
    "duration": 11,
    "start_time": "2022-06-14T16:07:23.286Z"
   },
   {
    "duration": 12,
    "start_time": "2022-06-14T16:07:23.299Z"
   },
   {
    "duration": 26,
    "start_time": "2022-06-14T16:07:23.314Z"
   },
   {
    "duration": 14,
    "start_time": "2022-06-14T16:07:23.343Z"
   },
   {
    "duration": 6,
    "start_time": "2022-06-14T16:07:23.359Z"
   },
   {
    "duration": 17,
    "start_time": "2022-06-14T16:07:23.367Z"
   },
   {
    "duration": 22,
    "start_time": "2022-06-14T16:08:04.522Z"
   },
   {
    "duration": 1073,
    "start_time": "2022-06-14T16:08:29.952Z"
   },
   {
    "duration": 146,
    "start_time": "2022-06-14T16:08:31.027Z"
   },
   {
    "duration": 17,
    "start_time": "2022-06-14T16:08:31.174Z"
   },
   {
    "duration": 18,
    "start_time": "2022-06-14T16:08:31.193Z"
   },
   {
    "duration": 49,
    "start_time": "2022-06-14T16:08:31.212Z"
   },
   {
    "duration": 19,
    "start_time": "2022-06-14T16:08:31.263Z"
   },
   {
    "duration": 26,
    "start_time": "2022-06-14T16:08:31.284Z"
   },
   {
    "duration": 33,
    "start_time": "2022-06-14T16:08:31.312Z"
   },
   {
    "duration": 17,
    "start_time": "2022-06-14T16:08:31.348Z"
   },
   {
    "duration": 17,
    "start_time": "2022-06-14T16:08:31.368Z"
   },
   {
    "duration": 19,
    "start_time": "2022-06-14T16:08:31.386Z"
   },
   {
    "duration": 10,
    "start_time": "2022-06-14T16:08:31.407Z"
   },
   {
    "duration": 40,
    "start_time": "2022-06-14T16:08:31.419Z"
   },
   {
    "duration": 32,
    "start_time": "2022-06-14T16:08:31.461Z"
   },
   {
    "duration": 11,
    "start_time": "2022-06-14T16:08:51.181Z"
   },
   {
    "duration": 52,
    "start_time": "2022-06-14T20:42:20.101Z"
   },
   {
    "duration": 1237,
    "start_time": "2022-06-14T20:42:24.921Z"
   },
   {
    "duration": 272,
    "start_time": "2022-06-14T20:42:26.160Z"
   },
   {
    "duration": 16,
    "start_time": "2022-06-14T20:42:26.434Z"
   },
   {
    "duration": 5,
    "start_time": "2022-06-14T20:42:26.452Z"
   },
   {
    "duration": 17,
    "start_time": "2022-06-14T20:42:26.459Z"
   },
   {
    "duration": 5,
    "start_time": "2022-06-14T20:42:26.478Z"
   },
   {
    "duration": 14,
    "start_time": "2022-06-14T20:42:26.485Z"
   },
   {
    "duration": 8,
    "start_time": "2022-06-14T20:42:26.500Z"
   },
   {
    "duration": 7,
    "start_time": "2022-06-14T20:42:26.510Z"
   },
   {
    "duration": 5,
    "start_time": "2022-06-14T20:42:26.519Z"
   },
   {
    "duration": 8,
    "start_time": "2022-06-14T20:42:26.525Z"
   },
   {
    "duration": 57,
    "start_time": "2022-06-14T20:42:26.535Z"
   },
   {
    "duration": 5,
    "start_time": "2022-06-14T20:42:26.594Z"
   },
   {
    "duration": 18,
    "start_time": "2022-06-14T20:42:26.600Z"
   },
   {
    "duration": 6,
    "start_time": "2022-06-14T20:45:16.732Z"
   },
   {
    "duration": 180,
    "start_time": "2022-06-14T20:47:15.741Z"
   },
   {
    "duration": 103,
    "start_time": "2022-06-14T20:49:13.341Z"
   },
   {
    "duration": 162,
    "start_time": "2022-06-14T20:49:41.837Z"
   },
   {
    "duration": 20,
    "start_time": "2022-06-14T20:52:45.571Z"
   },
   {
    "duration": 21,
    "start_time": "2022-06-14T20:52:57.712Z"
   },
   {
    "duration": 13,
    "start_time": "2022-06-14T20:53:33.962Z"
   },
   {
    "duration": 12,
    "start_time": "2022-06-14T20:53:45.077Z"
   },
   {
    "duration": 8,
    "start_time": "2022-06-14T20:54:06.624Z"
   },
   {
    "duration": 7,
    "start_time": "2022-06-14T20:54:53.423Z"
   },
   {
    "duration": 6,
    "start_time": "2022-06-14T20:54:58.382Z"
   },
   {
    "duration": 22,
    "start_time": "2022-06-14T20:55:00.924Z"
   },
   {
    "duration": 32,
    "start_time": "2022-06-14T20:59:42.411Z"
   },
   {
    "duration": 170,
    "start_time": "2022-06-14T20:59:54.918Z"
   },
   {
    "duration": 190,
    "start_time": "2022-06-14T21:00:11.631Z"
   },
   {
    "duration": 27874,
    "start_time": "2022-06-14T21:04:33.036Z"
   },
   {
    "duration": 162,
    "start_time": "2022-06-14T21:05:12.679Z"
   },
   {
    "duration": 244,
    "start_time": "2022-06-14T21:05:45.218Z"
   },
   {
    "duration": 160,
    "start_time": "2022-06-14T21:06:04.940Z"
   },
   {
    "duration": 138,
    "start_time": "2022-06-14T21:07:08.620Z"
   },
   {
    "duration": 145,
    "start_time": "2022-06-14T21:07:31.030Z"
   },
   {
    "duration": 145,
    "start_time": "2022-06-14T21:08:15.115Z"
   },
   {
    "duration": 159,
    "start_time": "2022-06-14T21:09:08.556Z"
   },
   {
    "duration": 1064,
    "start_time": "2022-06-14T21:09:37.241Z"
   },
   {
    "duration": 133,
    "start_time": "2022-06-14T21:09:38.307Z"
   },
   {
    "duration": 17,
    "start_time": "2022-06-14T21:09:38.441Z"
   },
   {
    "duration": 5,
    "start_time": "2022-06-14T21:09:38.460Z"
   },
   {
    "duration": 9,
    "start_time": "2022-06-14T21:09:38.467Z"
   },
   {
    "duration": 5,
    "start_time": "2022-06-14T21:09:38.477Z"
   },
   {
    "duration": 9,
    "start_time": "2022-06-14T21:09:38.484Z"
   },
   {
    "duration": 8,
    "start_time": "2022-06-14T21:09:38.494Z"
   },
   {
    "duration": 6,
    "start_time": "2022-06-14T21:09:38.504Z"
   },
   {
    "duration": 5,
    "start_time": "2022-06-14T21:09:38.514Z"
   },
   {
    "duration": 7,
    "start_time": "2022-06-14T21:09:38.559Z"
   },
   {
    "duration": 12,
    "start_time": "2022-06-14T21:09:38.568Z"
   },
   {
    "duration": 11,
    "start_time": "2022-06-14T21:09:38.581Z"
   },
   {
    "duration": 164,
    "start_time": "2022-06-14T21:09:38.594Z"
   },
   {
    "duration": 142,
    "start_time": "2022-06-14T21:09:38.760Z"
   },
   {
    "duration": 8,
    "start_time": "2022-06-14T21:09:38.903Z"
   },
   {
    "duration": 155,
    "start_time": "2022-06-14T21:09:38.913Z"
   },
   {
    "duration": 157,
    "start_time": "2022-06-14T21:09:39.070Z"
   },
   {
    "duration": 166,
    "start_time": "2022-06-14T21:09:39.229Z"
   },
   {
    "duration": 146,
    "start_time": "2022-06-14T21:09:39.397Z"
   },
   {
    "duration": 184,
    "start_time": "2022-06-14T21:10:24.205Z"
   },
   {
    "duration": 165,
    "start_time": "2022-06-14T21:12:17.509Z"
   },
   {
    "duration": 155,
    "start_time": "2022-06-14T21:13:02.443Z"
   },
   {
    "duration": 156,
    "start_time": "2022-06-14T21:14:37.558Z"
   },
   {
    "duration": 227,
    "start_time": "2022-06-14T21:16:09.804Z"
   },
   {
    "duration": 163,
    "start_time": "2022-06-14T21:18:07.920Z"
   },
   {
    "duration": 188,
    "start_time": "2022-06-14T21:19:11.156Z"
   },
   {
    "duration": 7,
    "start_time": "2022-06-14T21:21:33.206Z"
   },
   {
    "duration": 6,
    "start_time": "2022-06-14T21:21:59.336Z"
   },
   {
    "duration": 1047,
    "start_time": "2022-06-14T22:10:53.185Z"
   },
   {
    "duration": 134,
    "start_time": "2022-06-14T22:10:54.234Z"
   },
   {
    "duration": 14,
    "start_time": "2022-06-14T22:10:54.370Z"
   },
   {
    "duration": 5,
    "start_time": "2022-06-14T22:10:54.386Z"
   },
   {
    "duration": 7,
    "start_time": "2022-06-14T22:10:54.394Z"
   },
   {
    "duration": 4,
    "start_time": "2022-06-14T22:10:54.403Z"
   },
   {
    "duration": 11,
    "start_time": "2022-06-14T22:10:54.409Z"
   },
   {
    "duration": 38,
    "start_time": "2022-06-14T22:10:54.422Z"
   },
   {
    "duration": 14,
    "start_time": "2022-06-14T22:10:54.462Z"
   },
   {
    "duration": 10,
    "start_time": "2022-06-14T22:10:54.478Z"
   },
   {
    "duration": 9,
    "start_time": "2022-06-14T22:10:54.490Z"
   },
   {
    "duration": 7,
    "start_time": "2022-06-14T22:10:54.501Z"
   },
   {
    "duration": 6,
    "start_time": "2022-06-14T22:10:54.510Z"
   },
   {
    "duration": 176,
    "start_time": "2022-06-14T22:10:54.517Z"
   },
   {
    "duration": 139,
    "start_time": "2022-06-14T22:10:54.695Z"
   },
   {
    "duration": 7,
    "start_time": "2022-06-14T22:10:54.837Z"
   },
   {
    "duration": 164,
    "start_time": "2022-06-14T22:10:54.859Z"
   },
   {
    "duration": 169,
    "start_time": "2022-06-14T22:10:55.025Z"
   },
   {
    "duration": 148,
    "start_time": "2022-06-14T22:10:55.196Z"
   },
   {
    "duration": 180,
    "start_time": "2022-06-14T22:10:55.346Z"
   },
   {
    "duration": 170,
    "start_time": "2022-06-14T22:10:55.527Z"
   },
   {
    "duration": 166,
    "start_time": "2022-06-14T22:10:55.698Z"
   },
   {
    "duration": 157,
    "start_time": "2022-06-14T22:10:55.866Z"
   },
   {
    "duration": 167,
    "start_time": "2022-06-14T22:10:56.025Z"
   },
   {
    "duration": 250,
    "start_time": "2022-06-14T22:10:56.194Z"
   },
   {
    "duration": 183,
    "start_time": "2022-06-14T22:10:56.446Z"
   },
   {
    "duration": 178,
    "start_time": "2022-06-14T22:10:56.631Z"
   },
   {
    "duration": 6,
    "start_time": "2022-06-14T22:10:56.812Z"
   },
   {
    "duration": 11,
    "start_time": "2022-06-14T22:10:56.819Z"
   },
   {
    "duration": 16,
    "start_time": "2022-06-14T22:13:16.951Z"
   },
   {
    "duration": 33,
    "start_time": "2022-06-14T22:13:53.056Z"
   },
   {
    "duration": 11,
    "start_time": "2022-06-14T22:14:11.669Z"
   },
   {
    "duration": 100,
    "start_time": "2022-06-14T22:14:26.429Z"
   },
   {
    "duration": 11,
    "start_time": "2022-06-14T22:15:02.937Z"
   },
   {
    "duration": 11,
    "start_time": "2022-06-14T22:15:17.112Z"
   },
   {
    "duration": 1023,
    "start_time": "2022-06-14T22:16:14.274Z"
   },
   {
    "duration": 132,
    "start_time": "2022-06-14T22:16:15.300Z"
   },
   {
    "duration": 16,
    "start_time": "2022-06-14T22:16:15.434Z"
   },
   {
    "duration": 4,
    "start_time": "2022-06-14T22:16:15.458Z"
   },
   {
    "duration": 10,
    "start_time": "2022-06-14T22:16:15.464Z"
   },
   {
    "duration": 5,
    "start_time": "2022-06-14T22:16:15.476Z"
   },
   {
    "duration": 10,
    "start_time": "2022-06-14T22:16:15.482Z"
   },
   {
    "duration": 9,
    "start_time": "2022-06-14T22:16:15.494Z"
   },
   {
    "duration": 7,
    "start_time": "2022-06-14T22:16:15.504Z"
   },
   {
    "duration": 5,
    "start_time": "2022-06-14T22:16:15.514Z"
   },
   {
    "duration": 44,
    "start_time": "2022-06-14T22:16:15.520Z"
   },
   {
    "duration": 5,
    "start_time": "2022-06-14T22:16:15.566Z"
   },
   {
    "duration": 8,
    "start_time": "2022-06-14T22:16:15.573Z"
   },
   {
    "duration": 168,
    "start_time": "2022-06-14T22:16:15.582Z"
   },
   {
    "duration": 130,
    "start_time": "2022-06-14T22:16:15.752Z"
   },
   {
    "duration": 15,
    "start_time": "2022-06-14T22:16:15.883Z"
   },
   {
    "duration": 160,
    "start_time": "2022-06-14T22:16:15.900Z"
   },
   {
    "duration": 159,
    "start_time": "2022-06-14T22:16:16.063Z"
   },
   {
    "duration": 170,
    "start_time": "2022-06-14T22:16:16.223Z"
   },
   {
    "duration": 163,
    "start_time": "2022-06-14T22:16:16.395Z"
   },
   {
    "duration": 150,
    "start_time": "2022-06-14T22:16:16.560Z"
   },
   {
    "duration": 157,
    "start_time": "2022-06-14T22:16:16.712Z"
   },
   {
    "duration": 143,
    "start_time": "2022-06-14T22:16:16.870Z"
   },
   {
    "duration": 149,
    "start_time": "2022-06-14T22:16:17.015Z"
   },
   {
    "duration": 230,
    "start_time": "2022-06-14T22:16:17.165Z"
   },
   {
    "duration": 155,
    "start_time": "2022-06-14T22:16:17.397Z"
   },
   {
    "duration": 159,
    "start_time": "2022-06-14T22:16:17.558Z"
   },
   {
    "duration": 5,
    "start_time": "2022-06-14T22:16:17.721Z"
   },
   {
    "duration": 8,
    "start_time": "2022-06-14T22:16:17.728Z"
   },
   {
    "duration": 12,
    "start_time": "2022-06-14T22:16:40.867Z"
   },
   {
    "duration": 141,
    "start_time": "2022-06-14T22:17:39.176Z"
   },
   {
    "duration": 1021,
    "start_time": "2022-06-14T22:18:42.760Z"
   },
   {
    "duration": 131,
    "start_time": "2022-06-14T22:18:43.783Z"
   },
   {
    "duration": 16,
    "start_time": "2022-06-14T22:18:43.916Z"
   },
   {
    "duration": 4,
    "start_time": "2022-06-14T22:18:43.934Z"
   },
   {
    "duration": 18,
    "start_time": "2022-06-14T22:18:43.940Z"
   },
   {
    "duration": 5,
    "start_time": "2022-06-14T22:18:43.960Z"
   },
   {
    "duration": 15,
    "start_time": "2022-06-14T22:18:43.967Z"
   },
   {
    "duration": 24,
    "start_time": "2022-06-14T22:18:43.984Z"
   },
   {
    "duration": 22,
    "start_time": "2022-06-14T22:18:44.010Z"
   },
   {
    "duration": 8,
    "start_time": "2022-06-14T22:18:44.035Z"
   },
   {
    "duration": 8,
    "start_time": "2022-06-14T22:18:44.045Z"
   },
   {
    "duration": 18,
    "start_time": "2022-06-14T22:18:44.055Z"
   },
   {
    "duration": 4,
    "start_time": "2022-06-14T22:18:44.075Z"
   },
   {
    "duration": 150,
    "start_time": "2022-06-14T22:18:44.081Z"
   },
   {
    "duration": 121,
    "start_time": "2022-06-14T22:18:44.232Z"
   },
   {
    "duration": 12,
    "start_time": "2022-06-14T22:18:44.359Z"
   },
   {
    "duration": 154,
    "start_time": "2022-06-14T22:18:44.373Z"
   },
   {
    "duration": 145,
    "start_time": "2022-06-14T22:18:44.529Z"
   },
   {
    "duration": 142,
    "start_time": "2022-06-14T22:18:44.676Z"
   },
   {
    "duration": 162,
    "start_time": "2022-06-14T22:18:44.820Z"
   },
   {
    "duration": 161,
    "start_time": "2022-06-14T22:18:44.984Z"
   },
   {
    "duration": 150,
    "start_time": "2022-06-14T22:18:45.147Z"
   },
   {
    "duration": 142,
    "start_time": "2022-06-14T22:18:45.299Z"
   },
   {
    "duration": 154,
    "start_time": "2022-06-14T22:18:45.442Z"
   },
   {
    "duration": 231,
    "start_time": "2022-06-14T22:18:45.598Z"
   },
   {
    "duration": 160,
    "start_time": "2022-06-14T22:18:45.832Z"
   },
   {
    "duration": 168,
    "start_time": "2022-06-14T22:18:45.994Z"
   },
   {
    "duration": 184,
    "start_time": "2022-06-14T22:18:46.165Z"
   },
   {
    "duration": 12,
    "start_time": "2022-06-14T22:18:46.350Z"
   },
   {
    "duration": 16,
    "start_time": "2022-06-14T22:18:46.364Z"
   },
   {
    "duration": 181,
    "start_time": "2022-06-14T22:21:30.717Z"
   },
   {
    "duration": 173,
    "start_time": "2022-06-14T22:26:08.772Z"
   },
   {
    "duration": 132,
    "start_time": "2022-06-14T22:26:21.043Z"
   },
   {
    "duration": 149,
    "start_time": "2022-06-14T22:26:24.601Z"
   },
   {
    "duration": 169,
    "start_time": "2022-06-14T22:28:42.230Z"
   },
   {
    "duration": 14,
    "start_time": "2022-06-14T22:28:56.411Z"
   },
   {
    "duration": 519,
    "start_time": "2022-06-14T22:29:30.574Z"
   },
   {
    "duration": 12,
    "start_time": "2022-06-14T22:29:45.096Z"
   },
   {
    "duration": 10,
    "start_time": "2022-06-14T22:30:11.764Z"
   },
   {
    "duration": 10,
    "start_time": "2022-06-14T22:30:28.767Z"
   },
   {
    "duration": 165,
    "start_time": "2022-06-14T22:30:37.285Z"
   },
   {
    "duration": 167,
    "start_time": "2022-06-14T22:31:20.895Z"
   },
   {
    "duration": 139,
    "start_time": "2022-06-14T22:31:55.832Z"
   },
   {
    "duration": 172,
    "start_time": "2022-06-14T22:32:25.997Z"
   },
   {
    "duration": 223,
    "start_time": "2022-06-14T22:34:02.594Z"
   },
   {
    "duration": 142,
    "start_time": "2022-06-14T22:34:50.526Z"
   },
   {
    "duration": 183,
    "start_time": "2022-06-14T22:36:11.838Z"
   },
   {
    "duration": 137,
    "start_time": "2022-06-14T22:36:33.333Z"
   },
   {
    "duration": 1032,
    "start_time": "2022-06-14T22:36:55.255Z"
   },
   {
    "duration": 133,
    "start_time": "2022-06-14T22:36:56.289Z"
   },
   {
    "duration": 16,
    "start_time": "2022-06-14T22:36:56.424Z"
   },
   {
    "duration": 11,
    "start_time": "2022-06-14T22:36:56.448Z"
   },
   {
    "duration": 7,
    "start_time": "2022-06-14T22:36:56.461Z"
   },
   {
    "duration": 4,
    "start_time": "2022-06-14T22:36:56.470Z"
   },
   {
    "duration": 12,
    "start_time": "2022-06-14T22:36:56.476Z"
   },
   {
    "duration": 9,
    "start_time": "2022-06-14T22:36:56.490Z"
   },
   {
    "duration": 8,
    "start_time": "2022-06-14T22:36:56.501Z"
   },
   {
    "duration": 5,
    "start_time": "2022-06-14T22:36:56.512Z"
   },
   {
    "duration": 42,
    "start_time": "2022-06-14T22:36:56.519Z"
   },
   {
    "duration": 5,
    "start_time": "2022-06-14T22:36:56.562Z"
   },
   {
    "duration": 6,
    "start_time": "2022-06-14T22:36:56.569Z"
   },
   {
    "duration": 166,
    "start_time": "2022-06-14T22:36:56.577Z"
   },
   {
    "duration": 126,
    "start_time": "2022-06-14T22:36:56.746Z"
   },
   {
    "duration": 12,
    "start_time": "2022-06-14T22:36:56.874Z"
   },
   {
    "duration": 160,
    "start_time": "2022-06-14T22:36:56.888Z"
   },
   {
    "duration": 148,
    "start_time": "2022-06-14T22:36:57.049Z"
   },
   {
    "duration": 159,
    "start_time": "2022-06-14T22:36:57.199Z"
   },
   {
    "duration": 154,
    "start_time": "2022-06-14T22:36:57.360Z"
   },
   {
    "duration": 152,
    "start_time": "2022-06-14T22:36:57.516Z"
   },
   {
    "duration": 158,
    "start_time": "2022-06-14T22:36:57.670Z"
   },
   {
    "duration": 147,
    "start_time": "2022-06-14T22:36:57.829Z"
   },
   {
    "duration": 163,
    "start_time": "2022-06-14T22:36:57.978Z"
   },
   {
    "duration": 238,
    "start_time": "2022-06-14T22:36:58.143Z"
   },
   {
    "duration": 153,
    "start_time": "2022-06-14T22:36:58.383Z"
   },
   {
    "duration": 169,
    "start_time": "2022-06-14T22:36:58.538Z"
   },
   {
    "duration": 173,
    "start_time": "2022-06-14T22:36:58.710Z"
   },
   {
    "duration": 164,
    "start_time": "2022-06-14T22:36:58.885Z"
   },
   {
    "duration": 9,
    "start_time": "2022-06-14T22:36:59.051Z"
   },
   {
    "duration": 17,
    "start_time": "2022-06-14T22:36:59.062Z"
   },
   {
    "duration": 163,
    "start_time": "2022-06-14T22:38:52.948Z"
   },
   {
    "duration": 150,
    "start_time": "2022-06-14T22:40:30.945Z"
   },
   {
    "duration": 153,
    "start_time": "2022-06-14T22:41:20.867Z"
   },
   {
    "duration": 235,
    "start_time": "2022-06-14T22:49:08.255Z"
   },
   {
    "duration": 101,
    "start_time": "2022-06-14T22:49:53.871Z"
   },
   {
    "duration": 300,
    "start_time": "2022-06-14T22:49:59.009Z"
   },
   {
    "duration": 6,
    "start_time": "2022-06-14T22:52:57.366Z"
   },
   {
    "duration": 145,
    "start_time": "2022-06-14T22:53:01.032Z"
   },
   {
    "duration": 139,
    "start_time": "2022-06-14T22:54:25.357Z"
   },
   {
    "duration": 146,
    "start_time": "2022-06-14T22:54:37.153Z"
   },
   {
    "duration": 1013,
    "start_time": "2022-06-14T22:56:53.164Z"
   },
   {
    "duration": 130,
    "start_time": "2022-06-14T22:56:54.178Z"
   },
   {
    "duration": 15,
    "start_time": "2022-06-14T22:56:54.310Z"
   },
   {
    "duration": 4,
    "start_time": "2022-06-14T22:56:54.327Z"
   },
   {
    "duration": 8,
    "start_time": "2022-06-14T22:56:54.333Z"
   },
   {
    "duration": 18,
    "start_time": "2022-06-14T22:56:54.343Z"
   },
   {
    "duration": 14,
    "start_time": "2022-06-14T22:56:54.363Z"
   },
   {
    "duration": 12,
    "start_time": "2022-06-14T22:56:54.379Z"
   },
   {
    "duration": 7,
    "start_time": "2022-06-14T22:56:54.392Z"
   },
   {
    "duration": 5,
    "start_time": "2022-06-14T22:56:54.402Z"
   },
   {
    "duration": 10,
    "start_time": "2022-06-14T22:56:54.408Z"
   },
   {
    "duration": 6,
    "start_time": "2022-06-14T22:56:54.419Z"
   },
   {
    "duration": 34,
    "start_time": "2022-06-14T22:56:54.426Z"
   },
   {
    "duration": 151,
    "start_time": "2022-06-14T22:56:54.462Z"
   },
   {
    "duration": 124,
    "start_time": "2022-06-14T22:56:54.614Z"
   },
   {
    "duration": 20,
    "start_time": "2022-06-14T22:56:54.739Z"
   },
   {
    "duration": 156,
    "start_time": "2022-06-14T22:56:54.761Z"
   },
   {
    "duration": 152,
    "start_time": "2022-06-14T22:56:54.919Z"
   },
   {
    "duration": 162,
    "start_time": "2022-06-14T22:56:55.073Z"
   },
   {
    "duration": 154,
    "start_time": "2022-06-14T22:56:55.238Z"
   },
   {
    "duration": 147,
    "start_time": "2022-06-14T22:56:55.394Z"
   },
   {
    "duration": 151,
    "start_time": "2022-06-14T22:56:55.542Z"
   },
   {
    "duration": 153,
    "start_time": "2022-06-14T22:56:55.695Z"
   },
   {
    "duration": 153,
    "start_time": "2022-06-14T22:56:55.858Z"
   },
   {
    "duration": 235,
    "start_time": "2022-06-14T22:56:56.013Z"
   },
   {
    "duration": 160,
    "start_time": "2022-06-14T22:56:56.249Z"
   },
   {
    "duration": 177,
    "start_time": "2022-06-14T22:56:56.411Z"
   },
   {
    "duration": 161,
    "start_time": "2022-06-14T22:56:56.591Z"
   },
   {
    "duration": 145,
    "start_time": "2022-06-14T22:56:56.758Z"
   },
   {
    "duration": 158,
    "start_time": "2022-06-14T22:56:56.905Z"
   },
   {
    "duration": 5,
    "start_time": "2022-06-14T22:56:57.065Z"
   },
   {
    "duration": 12,
    "start_time": "2022-06-14T22:56:57.071Z"
   },
   {
    "duration": 7,
    "start_time": "2022-06-14T22:56:57.085Z"
   },
   {
    "duration": 170,
    "start_time": "2022-06-14T22:56:57.093Z"
   },
   {
    "duration": 166,
    "start_time": "2022-06-14T23:05:13.866Z"
   },
   {
    "duration": 153,
    "start_time": "2022-06-14T23:05:29.239Z"
   },
   {
    "duration": 147,
    "start_time": "2022-06-14T23:06:14.190Z"
   },
   {
    "duration": 5,
    "start_time": "2022-06-14T23:07:50.247Z"
   },
   {
    "duration": 205,
    "start_time": "2022-06-14T23:08:06.853Z"
   },
   {
    "duration": 4,
    "start_time": "2022-06-14T23:08:59.592Z"
   },
   {
    "duration": 5,
    "start_time": "2022-06-14T23:09:08.939Z"
   },
   {
    "duration": 970,
    "start_time": "2022-06-14T23:09:40.508Z"
   },
   {
    "duration": 132,
    "start_time": "2022-06-14T23:09:41.479Z"
   },
   {
    "duration": 14,
    "start_time": "2022-06-14T23:09:41.613Z"
   },
   {
    "duration": 7,
    "start_time": "2022-06-14T23:09:41.630Z"
   },
   {
    "duration": 24,
    "start_time": "2022-06-14T23:09:41.638Z"
   },
   {
    "duration": 5,
    "start_time": "2022-06-14T23:09:41.664Z"
   },
   {
    "duration": 15,
    "start_time": "2022-06-14T23:09:41.670Z"
   },
   {
    "duration": 13,
    "start_time": "2022-06-14T23:09:41.686Z"
   },
   {
    "duration": 7,
    "start_time": "2022-06-14T23:09:41.700Z"
   },
   {
    "duration": 8,
    "start_time": "2022-06-14T23:09:41.710Z"
   },
   {
    "duration": 39,
    "start_time": "2022-06-14T23:09:41.720Z"
   },
   {
    "duration": 5,
    "start_time": "2022-06-14T23:09:41.761Z"
   },
   {
    "duration": 19,
    "start_time": "2022-06-14T23:09:41.768Z"
   },
   {
    "duration": 21,
    "start_time": "2022-06-14T23:09:41.790Z"
   },
   {
    "duration": 280,
    "start_time": "2022-06-14T23:09:41.814Z"
   },
   {
    "duration": 200,
    "start_time": "2022-06-14T23:09:42.096Z"
   },
   {
    "duration": 60,
    "start_time": "2022-06-14T23:09:42.298Z"
   },
   {
    "duration": 242,
    "start_time": "2022-06-14T23:09:42.360Z"
   },
   {
    "duration": 212,
    "start_time": "2022-06-14T23:09:42.604Z"
   },
   {
    "duration": 203,
    "start_time": "2022-06-14T23:09:42.818Z"
   },
   {
    "duration": 162,
    "start_time": "2022-06-14T23:09:43.023Z"
   },
   {
    "duration": 159,
    "start_time": "2022-06-14T23:09:43.186Z"
   },
   {
    "duration": 160,
    "start_time": "2022-06-14T23:09:43.347Z"
   },
   {
    "duration": 151,
    "start_time": "2022-06-14T23:09:43.509Z"
   },
   {
    "duration": 174,
    "start_time": "2022-06-14T23:09:43.662Z"
   },
   {
    "duration": 236,
    "start_time": "2022-06-14T23:09:43.838Z"
   },
   {
    "duration": 160,
    "start_time": "2022-06-14T23:09:44.076Z"
   },
   {
    "duration": 181,
    "start_time": "2022-06-14T23:09:44.241Z"
   },
   {
    "duration": 170,
    "start_time": "2022-06-14T23:09:44.425Z"
   },
   {
    "duration": 149,
    "start_time": "2022-06-14T23:09:44.597Z"
   },
   {
    "duration": 168,
    "start_time": "2022-06-14T23:09:44.748Z"
   },
   {
    "duration": 7,
    "start_time": "2022-06-14T23:09:44.919Z"
   },
   {
    "duration": 24,
    "start_time": "2022-06-14T23:09:44.927Z"
   },
   {
    "duration": 36,
    "start_time": "2022-06-14T23:09:44.957Z"
   },
   {
    "duration": 164,
    "start_time": "2022-06-14T23:09:44.994Z"
   },
   {
    "duration": 155,
    "start_time": "2022-06-14T23:09:45.160Z"
   },
   {
    "duration": 169,
    "start_time": "2022-06-14T23:09:45.317Z"
   },
   {
    "duration": 5,
    "start_time": "2022-06-14T23:09:45.487Z"
   },
   {
    "duration": 19,
    "start_time": "2022-06-14T23:09:45.494Z"
   },
   {
    "duration": 266,
    "start_time": "2022-06-14T23:14:52.195Z"
   },
   {
    "duration": 10,
    "start_time": "2022-06-14T23:15:42.974Z"
   },
   {
    "duration": 9,
    "start_time": "2022-06-14T23:15:57.946Z"
   },
   {
    "duration": 8,
    "start_time": "2022-06-14T23:16:12.059Z"
   },
   {
    "duration": 10,
    "start_time": "2022-06-14T23:16:51.346Z"
   },
   {
    "duration": 13,
    "start_time": "2022-06-14T23:18:03.327Z"
   },
   {
    "duration": 15,
    "start_time": "2022-06-14T23:18:09.789Z"
   },
   {
    "duration": 10,
    "start_time": "2022-06-14T23:18:17.688Z"
   },
   {
    "duration": 10,
    "start_time": "2022-06-14T23:18:21.400Z"
   },
   {
    "duration": 294,
    "start_time": "2022-06-14T23:19:04.847Z"
   },
   {
    "duration": 11,
    "start_time": "2022-06-14T23:19:23.678Z"
   },
   {
    "duration": 10,
    "start_time": "2022-06-14T23:19:52.464Z"
   },
   {
    "duration": 1262,
    "start_time": "2022-06-20T22:07:02.325Z"
   },
   {
    "duration": 196,
    "start_time": "2022-06-20T22:07:03.589Z"
   },
   {
    "duration": 13,
    "start_time": "2022-06-20T22:07:03.786Z"
   },
   {
    "duration": 5,
    "start_time": "2022-06-20T22:07:03.801Z"
   },
   {
    "duration": 10,
    "start_time": "2022-06-20T22:07:03.807Z"
   },
   {
    "duration": 10,
    "start_time": "2022-06-20T22:07:03.818Z"
   },
   {
    "duration": 14,
    "start_time": "2022-06-20T22:07:03.831Z"
   },
   {
    "duration": 8,
    "start_time": "2022-06-20T22:07:03.846Z"
   },
   {
    "duration": 7,
    "start_time": "2022-06-20T22:07:03.855Z"
   },
   {
    "duration": 7,
    "start_time": "2022-06-20T22:07:03.864Z"
   },
   {
    "duration": 8,
    "start_time": "2022-06-20T22:07:03.872Z"
   },
   {
    "duration": 7,
    "start_time": "2022-06-20T22:07:03.881Z"
   },
   {
    "duration": 7,
    "start_time": "2022-06-20T22:07:03.889Z"
   },
   {
    "duration": 6,
    "start_time": "2022-06-20T22:07:03.898Z"
   },
   {
    "duration": 171,
    "start_time": "2022-06-20T22:07:03.923Z"
   },
   {
    "duration": 147,
    "start_time": "2022-06-20T22:07:04.095Z"
   },
   {
    "duration": 13,
    "start_time": "2022-06-20T22:07:04.244Z"
   },
   {
    "duration": 161,
    "start_time": "2022-06-20T22:07:04.259Z"
   },
   {
    "duration": 138,
    "start_time": "2022-06-20T22:07:04.424Z"
   },
   {
    "duration": 177,
    "start_time": "2022-06-20T22:07:04.564Z"
   },
   {
    "duration": 167,
    "start_time": "2022-06-20T22:07:04.743Z"
   },
   {
    "duration": 159,
    "start_time": "2022-06-20T22:07:04.911Z"
   },
   {
    "duration": 169,
    "start_time": "2022-06-20T22:07:05.072Z"
   },
   {
    "duration": 144,
    "start_time": "2022-06-20T22:07:05.243Z"
   },
   {
    "duration": 158,
    "start_time": "2022-06-20T22:07:05.388Z"
   },
   {
    "duration": 246,
    "start_time": "2022-06-20T22:07:05.547Z"
   },
   {
    "duration": 186,
    "start_time": "2022-06-20T22:07:05.796Z"
   },
   {
    "duration": 189,
    "start_time": "2022-06-20T22:07:05.987Z"
   },
   {
    "duration": 164,
    "start_time": "2022-06-20T22:07:06.179Z"
   },
   {
    "duration": 131,
    "start_time": "2022-06-20T22:07:06.345Z"
   },
   {
    "duration": 167,
    "start_time": "2022-06-20T22:07:06.478Z"
   },
   {
    "duration": 6,
    "start_time": "2022-06-20T22:07:06.647Z"
   },
   {
    "duration": 14,
    "start_time": "2022-06-20T22:07:06.654Z"
   },
   {
    "duration": 6,
    "start_time": "2022-06-20T22:07:06.669Z"
   },
   {
    "duration": 162,
    "start_time": "2022-06-20T22:07:06.676Z"
   },
   {
    "duration": 141,
    "start_time": "2022-06-20T22:07:06.840Z"
   },
   {
    "duration": 167,
    "start_time": "2022-06-20T22:07:06.982Z"
   },
   {
    "duration": 10,
    "start_time": "2022-06-20T22:07:07.151Z"
   },
   {
    "duration": 15,
    "start_time": "2022-06-20T22:07:07.162Z"
   },
   {
    "duration": 288,
    "start_time": "2022-06-20T22:07:07.179Z"
   },
   {
    "duration": 9,
    "start_time": "2022-06-20T22:07:07.469Z"
   },
   {
    "duration": 14,
    "start_time": "2022-06-20T22:07:07.480Z"
   },
   {
    "duration": 286,
    "start_time": "2022-06-20T22:07:07.495Z"
   },
   {
    "duration": 10,
    "start_time": "2022-06-20T22:07:07.783Z"
   },
   {
    "duration": 12,
    "start_time": "2022-06-20T22:07:07.794Z"
   },
   {
    "duration": 71,
    "start_time": "2022-06-20T22:12:47.994Z"
   },
   {
    "duration": 997,
    "start_time": "2022-06-20T22:12:53.970Z"
   },
   {
    "duration": 119,
    "start_time": "2022-06-20T22:12:54.969Z"
   },
   {
    "duration": 20,
    "start_time": "2022-06-20T22:12:55.090Z"
   },
   {
    "duration": 23,
    "start_time": "2022-06-20T22:12:55.112Z"
   },
   {
    "duration": 12,
    "start_time": "2022-06-20T22:12:55.139Z"
   },
   {
    "duration": 9,
    "start_time": "2022-06-20T22:12:55.153Z"
   },
   {
    "duration": 14,
    "start_time": "2022-06-20T22:12:55.163Z"
   },
   {
    "duration": 7,
    "start_time": "2022-06-20T22:12:55.179Z"
   },
   {
    "duration": 6,
    "start_time": "2022-06-20T22:12:55.187Z"
   },
   {
    "duration": 7,
    "start_time": "2022-06-20T22:12:55.194Z"
   },
   {
    "duration": 28,
    "start_time": "2022-06-20T22:12:55.202Z"
   },
   {
    "duration": 11,
    "start_time": "2022-06-20T22:12:55.232Z"
   },
   {
    "duration": 7,
    "start_time": "2022-06-20T22:12:55.245Z"
   },
   {
    "duration": 6,
    "start_time": "2022-06-20T22:12:55.254Z"
   },
   {
    "duration": 148,
    "start_time": "2022-06-20T22:12:55.262Z"
   },
   {
    "duration": 130,
    "start_time": "2022-06-20T22:12:55.412Z"
   },
   {
    "duration": 11,
    "start_time": "2022-06-20T22:12:55.544Z"
   },
   {
    "duration": 140,
    "start_time": "2022-06-20T22:12:55.557Z"
   },
   {
    "duration": 142,
    "start_time": "2022-06-20T22:12:55.699Z"
   },
   {
    "duration": 164,
    "start_time": "2022-06-20T22:12:55.842Z"
   },
   {
    "duration": 185,
    "start_time": "2022-06-20T22:12:56.008Z"
   },
   {
    "duration": 141,
    "start_time": "2022-06-20T22:12:56.195Z"
   },
   {
    "duration": 140,
    "start_time": "2022-06-20T22:12:56.337Z"
   },
   {
    "duration": 140,
    "start_time": "2022-06-20T22:12:56.478Z"
   },
   {
    "duration": 173,
    "start_time": "2022-06-20T22:12:56.624Z"
   },
   {
    "duration": 241,
    "start_time": "2022-06-20T22:12:56.799Z"
   },
   {
    "duration": 148,
    "start_time": "2022-06-20T22:12:57.042Z"
   },
   {
    "duration": 180,
    "start_time": "2022-06-20T22:12:57.193Z"
   },
   {
    "duration": 161,
    "start_time": "2022-06-20T22:12:57.375Z"
   },
   {
    "duration": 140,
    "start_time": "2022-06-20T22:12:57.537Z"
   },
   {
    "duration": 162,
    "start_time": "2022-06-20T22:12:57.679Z"
   },
   {
    "duration": 7,
    "start_time": "2022-06-20T22:12:57.842Z"
   },
   {
    "duration": 13,
    "start_time": "2022-06-20T22:12:57.851Z"
   },
   {
    "duration": 5,
    "start_time": "2022-06-20T22:12:57.866Z"
   },
   {
    "duration": 177,
    "start_time": "2022-06-20T22:12:57.872Z"
   },
   {
    "duration": 153,
    "start_time": "2022-06-20T22:12:58.051Z"
   },
   {
    "duration": 166,
    "start_time": "2022-06-20T22:12:58.206Z"
   },
   {
    "duration": 9,
    "start_time": "2022-06-20T22:12:58.375Z"
   },
   {
    "duration": 13,
    "start_time": "2022-06-20T22:12:58.386Z"
   },
   {
    "duration": 284,
    "start_time": "2022-06-20T22:12:58.401Z"
   },
   {
    "duration": 9,
    "start_time": "2022-06-20T22:12:58.689Z"
   },
   {
    "duration": 31,
    "start_time": "2022-06-20T22:12:58.700Z"
   },
   {
    "duration": 311,
    "start_time": "2022-06-20T22:12:58.732Z"
   },
   {
    "duration": 9,
    "start_time": "2022-06-20T22:12:59.045Z"
   },
   {
    "duration": 13,
    "start_time": "2022-06-20T22:12:59.056Z"
   },
   {
    "duration": 168,
    "start_time": "2022-06-20T22:13:41.697Z"
   },
   {
    "duration": 317,
    "start_time": "2022-06-20T22:15:22.584Z"
   },
   {
    "duration": 11,
    "start_time": "2022-06-20T22:15:32.594Z"
   },
   {
    "duration": 1174,
    "start_time": "2022-06-20T22:17:02.173Z"
   },
   {
    "duration": 188,
    "start_time": "2022-06-20T22:17:23.370Z"
   },
   {
    "duration": 17,
    "start_time": "2022-06-20T22:17:59.972Z"
   },
   {
    "duration": 160,
    "start_time": "2022-06-20T22:18:16.784Z"
   },
   {
    "duration": 200,
    "start_time": "2022-06-20T22:19:15.962Z"
   },
   {
    "duration": 176,
    "start_time": "2022-06-20T22:19:28.591Z"
   },
   {
    "duration": 213,
    "start_time": "2022-06-20T22:19:48.836Z"
   },
   {
    "duration": 186,
    "start_time": "2022-06-20T22:19:55.112Z"
   },
   {
    "duration": 183,
    "start_time": "2022-06-20T22:20:25.452Z"
   },
   {
    "duration": 172,
    "start_time": "2022-06-20T22:20:30.894Z"
   },
   {
    "duration": 173,
    "start_time": "2022-06-20T22:20:49.439Z"
   },
   {
    "duration": 201,
    "start_time": "2022-06-20T22:21:04.838Z"
   },
   {
    "duration": 170,
    "start_time": "2022-06-20T22:21:11.692Z"
   },
   {
    "duration": 12,
    "start_time": "2022-06-20T22:34:06.470Z"
   },
   {
    "duration": 13,
    "start_time": "2022-06-20T22:34:18.584Z"
   },
   {
    "duration": 12,
    "start_time": "2022-06-20T22:34:21.015Z"
   },
   {
    "duration": 14,
    "start_time": "2022-06-20T22:34:37.220Z"
   },
   {
    "duration": 12,
    "start_time": "2022-06-20T22:34:46.900Z"
   },
   {
    "duration": 1034,
    "start_time": "2022-06-20T22:36:59.110Z"
   },
   {
    "duration": 122,
    "start_time": "2022-06-20T22:37:00.146Z"
   },
   {
    "duration": 13,
    "start_time": "2022-06-20T22:37:00.270Z"
   },
   {
    "duration": 6,
    "start_time": "2022-06-20T22:37:00.285Z"
   },
   {
    "duration": 16,
    "start_time": "2022-06-20T22:37:00.293Z"
   },
   {
    "duration": 4,
    "start_time": "2022-06-20T22:37:00.311Z"
   },
   {
    "duration": 15,
    "start_time": "2022-06-20T22:37:00.317Z"
   },
   {
    "duration": 12,
    "start_time": "2022-06-20T22:37:00.334Z"
   },
   {
    "duration": 22,
    "start_time": "2022-06-20T22:37:00.348Z"
   },
   {
    "duration": 9,
    "start_time": "2022-06-20T22:37:00.371Z"
   },
   {
    "duration": 9,
    "start_time": "2022-06-20T22:37:00.382Z"
   },
   {
    "duration": 8,
    "start_time": "2022-06-20T22:37:00.392Z"
   },
   {
    "duration": 15,
    "start_time": "2022-06-20T22:37:00.402Z"
   },
   {
    "duration": 6,
    "start_time": "2022-06-20T22:37:00.422Z"
   },
   {
    "duration": 142,
    "start_time": "2022-06-20T22:37:00.429Z"
   },
   {
    "duration": 121,
    "start_time": "2022-06-20T22:37:00.573Z"
   },
   {
    "duration": 12,
    "start_time": "2022-06-20T22:37:00.696Z"
   },
   {
    "duration": 162,
    "start_time": "2022-06-20T22:37:00.710Z"
   },
   {
    "duration": 135,
    "start_time": "2022-06-20T22:37:00.874Z"
   },
   {
    "duration": 149,
    "start_time": "2022-06-20T22:37:01.022Z"
   },
   {
    "duration": 145,
    "start_time": "2022-06-20T22:37:01.172Z"
   },
   {
    "duration": 146,
    "start_time": "2022-06-20T22:37:01.319Z"
   },
   {
    "duration": 163,
    "start_time": "2022-06-20T22:37:01.467Z"
   },
   {
    "duration": 157,
    "start_time": "2022-06-20T22:37:01.631Z"
   },
   {
    "duration": 160,
    "start_time": "2022-06-20T22:37:01.790Z"
   },
   {
    "duration": 244,
    "start_time": "2022-06-20T22:37:01.952Z"
   },
   {
    "duration": 165,
    "start_time": "2022-06-20T22:37:02.198Z"
   },
   {
    "duration": 184,
    "start_time": "2022-06-20T22:37:02.366Z"
   },
   {
    "duration": 202,
    "start_time": "2022-06-20T22:37:02.553Z"
   },
   {
    "duration": 147,
    "start_time": "2022-06-20T22:37:02.756Z"
   },
   {
    "duration": 147,
    "start_time": "2022-06-20T22:37:02.904Z"
   },
   {
    "duration": 7,
    "start_time": "2022-06-20T22:37:03.053Z"
   },
   {
    "duration": 13,
    "start_time": "2022-06-20T22:37:03.061Z"
   },
   {
    "duration": 8,
    "start_time": "2022-06-20T22:37:03.076Z"
   },
   {
    "duration": 157,
    "start_time": "2022-06-20T22:37:03.085Z"
   },
   {
    "duration": 160,
    "start_time": "2022-06-20T22:37:03.243Z"
   },
   {
    "duration": 145,
    "start_time": "2022-06-20T22:37:03.404Z"
   },
   {
    "duration": 9,
    "start_time": "2022-06-20T22:37:03.550Z"
   },
   {
    "duration": 12,
    "start_time": "2022-06-20T22:37:03.560Z"
   },
   {
    "duration": 297,
    "start_time": "2022-06-20T22:37:03.573Z"
   },
   {
    "duration": 9,
    "start_time": "2022-06-20T22:37:03.873Z"
   },
   {
    "duration": 16,
    "start_time": "2022-06-20T22:37:03.884Z"
   },
   {
    "duration": 290,
    "start_time": "2022-06-20T22:37:03.902Z"
   },
   {
    "duration": 8,
    "start_time": "2022-06-20T22:37:04.194Z"
   },
   {
    "duration": 20,
    "start_time": "2022-06-20T22:37:04.204Z"
   },
   {
    "duration": 188,
    "start_time": "2022-06-20T22:37:04.225Z"
   },
   {
    "duration": 19,
    "start_time": "2022-06-20T22:37:04.415Z"
   },
   {
    "duration": 13,
    "start_time": "2022-06-20T22:37:04.436Z"
   },
   {
    "duration": 14,
    "start_time": "2022-06-20T22:37:19.371Z"
   },
   {
    "duration": 16,
    "start_time": "2022-06-20T22:37:22.620Z"
   },
   {
    "duration": 10,
    "start_time": "2022-06-20T22:37:40.902Z"
   },
   {
    "duration": 97,
    "start_time": "2022-06-20T22:38:10.787Z"
   },
   {
    "duration": 11,
    "start_time": "2022-06-20T22:38:15.942Z"
   },
   {
    "duration": 20,
    "start_time": "2022-06-20T23:00:18.514Z"
   },
   {
    "duration": 11,
    "start_time": "2022-06-20T23:00:44.140Z"
   },
   {
    "duration": 15,
    "start_time": "2022-06-20T23:01:11.061Z"
   },
   {
    "duration": 213,
    "start_time": "2022-06-20T23:10:22.876Z"
   },
   {
    "duration": 129,
    "start_time": "2022-06-20T23:11:00.019Z"
   },
   {
    "duration": 139,
    "start_time": "2022-06-20T23:11:24.667Z"
   },
   {
    "duration": 120,
    "start_time": "2022-06-20T23:11:47.475Z"
   },
   {
    "duration": 14,
    "start_time": "2022-06-20T23:27:50.455Z"
   },
   {
    "duration": 9,
    "start_time": "2022-06-20T23:28:58.788Z"
   },
   {
    "duration": 11,
    "start_time": "2022-06-20T23:29:25.402Z"
   },
   {
    "duration": 9,
    "start_time": "2022-06-20T23:30:24.941Z"
   },
   {
    "duration": 8,
    "start_time": "2022-06-20T23:30:38.439Z"
   },
   {
    "duration": 3,
    "start_time": "2022-06-20T23:35:18.535Z"
   },
   {
    "duration": 1116,
    "start_time": "2022-06-20T23:37:33.207Z"
   },
   {
    "duration": 135,
    "start_time": "2022-06-20T23:37:34.325Z"
   },
   {
    "duration": 15,
    "start_time": "2022-06-20T23:37:34.461Z"
   },
   {
    "duration": 8,
    "start_time": "2022-06-20T23:37:34.478Z"
   },
   {
    "duration": 41,
    "start_time": "2022-06-20T23:37:34.487Z"
   },
   {
    "duration": 5,
    "start_time": "2022-06-20T23:37:34.529Z"
   },
   {
    "duration": 10,
    "start_time": "2022-06-20T23:37:34.535Z"
   },
   {
    "duration": 10,
    "start_time": "2022-06-20T23:37:34.547Z"
   },
   {
    "duration": 7,
    "start_time": "2022-06-20T23:37:34.558Z"
   },
   {
    "duration": 5,
    "start_time": "2022-06-20T23:37:34.568Z"
   },
   {
    "duration": 8,
    "start_time": "2022-06-20T23:37:34.575Z"
   },
   {
    "duration": 41,
    "start_time": "2022-06-20T23:37:34.585Z"
   },
   {
    "duration": 10,
    "start_time": "2022-06-20T23:37:34.628Z"
   },
   {
    "duration": 7,
    "start_time": "2022-06-20T23:37:34.640Z"
   },
   {
    "duration": 159,
    "start_time": "2022-06-20T23:37:34.649Z"
   },
   {
    "duration": 119,
    "start_time": "2022-06-20T23:37:34.809Z"
   },
   {
    "duration": 13,
    "start_time": "2022-06-20T23:37:34.930Z"
   },
   {
    "duration": 158,
    "start_time": "2022-06-20T23:37:34.944Z"
   },
   {
    "duration": 135,
    "start_time": "2022-06-20T23:37:35.104Z"
   },
   {
    "duration": 153,
    "start_time": "2022-06-20T23:37:35.241Z"
   },
   {
    "duration": 142,
    "start_time": "2022-06-20T23:37:35.396Z"
   },
   {
    "duration": 148,
    "start_time": "2022-06-20T23:37:35.540Z"
   },
   {
    "duration": 149,
    "start_time": "2022-06-20T23:37:35.690Z"
   },
   {
    "duration": 159,
    "start_time": "2022-06-20T23:37:35.841Z"
   },
   {
    "duration": 158,
    "start_time": "2022-06-20T23:37:36.003Z"
   },
   {
    "duration": 236,
    "start_time": "2022-06-20T23:37:36.162Z"
   },
   {
    "duration": 162,
    "start_time": "2022-06-20T23:37:36.400Z"
   },
   {
    "duration": 168,
    "start_time": "2022-06-20T23:37:36.566Z"
   },
   {
    "duration": 153,
    "start_time": "2022-06-20T23:37:36.736Z"
   },
   {
    "duration": 135,
    "start_time": "2022-06-20T23:37:36.890Z"
   },
   {
    "duration": 149,
    "start_time": "2022-06-20T23:37:37.027Z"
   },
   {
    "duration": 7,
    "start_time": "2022-06-20T23:37:37.178Z"
   },
   {
    "duration": 19,
    "start_time": "2022-06-20T23:37:37.187Z"
   },
   {
    "duration": 17,
    "start_time": "2022-06-20T23:37:37.207Z"
   },
   {
    "duration": 148,
    "start_time": "2022-06-20T23:37:37.225Z"
   },
   {
    "duration": 143,
    "start_time": "2022-06-20T23:37:37.375Z"
   },
   {
    "duration": 151,
    "start_time": "2022-06-20T23:37:37.522Z"
   },
   {
    "duration": 9,
    "start_time": "2022-06-20T23:37:37.675Z"
   },
   {
    "duration": 11,
    "start_time": "2022-06-20T23:37:37.686Z"
   },
   {
    "duration": 289,
    "start_time": "2022-06-20T23:37:37.699Z"
   },
   {
    "duration": 9,
    "start_time": "2022-06-20T23:37:37.990Z"
   },
   {
    "duration": 23,
    "start_time": "2022-06-20T23:37:38.001Z"
   },
   {
    "duration": 281,
    "start_time": "2022-06-20T23:37:38.026Z"
   },
   {
    "duration": 15,
    "start_time": "2022-06-20T23:37:38.309Z"
   },
   {
    "duration": 11,
    "start_time": "2022-06-20T23:37:38.325Z"
   },
   {
    "duration": 191,
    "start_time": "2022-06-20T23:37:38.337Z"
   },
   {
    "duration": 10,
    "start_time": "2022-06-20T23:37:38.530Z"
   },
   {
    "duration": 9,
    "start_time": "2022-06-20T23:37:38.542Z"
   },
   {
    "duration": 10,
    "start_time": "2022-06-20T23:37:38.552Z"
   },
   {
    "duration": 9,
    "start_time": "2022-06-20T23:37:38.564Z"
   },
   {
    "duration": 13,
    "start_time": "2022-06-20T23:37:38.575Z"
   },
   {
    "duration": 41,
    "start_time": "2022-06-20T23:37:38.590Z"
   },
   {
    "duration": 9,
    "start_time": "2022-06-20T23:37:38.634Z"
   },
   {
    "duration": 222,
    "start_time": "2022-06-20T23:37:38.645Z"
   },
   {
    "duration": 154,
    "start_time": "2022-06-20T23:37:38.869Z"
   },
   {
    "duration": 142,
    "start_time": "2022-06-20T23:37:39.025Z"
   },
   {
    "duration": 126,
    "start_time": "2022-06-20T23:37:39.169Z"
   },
   {
    "duration": 0,
    "start_time": "2022-06-20T23:37:39.297Z"
   },
   {
    "duration": 0,
    "start_time": "2022-06-20T23:37:39.299Z"
   },
   {
    "duration": 0,
    "start_time": "2022-06-20T23:37:39.300Z"
   },
   {
    "duration": 6,
    "start_time": "2022-06-20T23:37:58.601Z"
   },
   {
    "duration": 8,
    "start_time": "2022-06-20T23:38:08.784Z"
   },
   {
    "duration": 9,
    "start_time": "2022-06-20T23:38:19.701Z"
   },
   {
    "duration": 9,
    "start_time": "2022-06-20T23:38:23.801Z"
   },
   {
    "duration": 9,
    "start_time": "2022-06-20T23:38:40.580Z"
   },
   {
    "duration": 10,
    "start_time": "2022-06-20T23:41:02.125Z"
   },
   {
    "duration": 10,
    "start_time": "2022-06-20T23:54:42.218Z"
   },
   {
    "duration": 10,
    "start_time": "2022-06-20T23:54:51.318Z"
   },
   {
    "duration": 10,
    "start_time": "2022-06-20T23:55:01.652Z"
   },
   {
    "duration": 9,
    "start_time": "2022-06-20T23:58:20.984Z"
   },
   {
    "duration": 10,
    "start_time": "2022-06-21T00:00:37.353Z"
   },
   {
    "duration": 1159,
    "start_time": "2022-06-21T00:40:54.542Z"
   },
   {
    "duration": 191,
    "start_time": "2022-06-21T00:40:55.704Z"
   },
   {
    "duration": 15,
    "start_time": "2022-06-21T00:40:55.897Z"
   },
   {
    "duration": 4,
    "start_time": "2022-06-21T00:40:55.914Z"
   },
   {
    "duration": 15,
    "start_time": "2022-06-21T00:40:55.920Z"
   },
   {
    "duration": 12,
    "start_time": "2022-06-21T00:40:55.939Z"
   },
   {
    "duration": 12,
    "start_time": "2022-06-21T00:40:55.952Z"
   },
   {
    "duration": 8,
    "start_time": "2022-06-21T00:40:55.965Z"
   },
   {
    "duration": 6,
    "start_time": "2022-06-21T00:40:55.974Z"
   },
   {
    "duration": 8,
    "start_time": "2022-06-21T00:40:55.982Z"
   },
   {
    "duration": 7,
    "start_time": "2022-06-21T00:40:55.991Z"
   },
   {
    "duration": 5,
    "start_time": "2022-06-21T00:40:56.000Z"
   },
   {
    "duration": 46,
    "start_time": "2022-06-21T00:40:56.007Z"
   },
   {
    "duration": 8,
    "start_time": "2022-06-21T00:40:56.056Z"
   },
   {
    "duration": 141,
    "start_time": "2022-06-21T00:40:56.066Z"
   },
   {
    "duration": 137,
    "start_time": "2022-06-21T00:40:56.208Z"
   },
   {
    "duration": 12,
    "start_time": "2022-06-21T00:40:56.346Z"
   },
   {
    "duration": 162,
    "start_time": "2022-06-21T00:40:56.359Z"
   },
   {
    "duration": 155,
    "start_time": "2022-06-21T00:40:56.522Z"
   },
   {
    "duration": 175,
    "start_time": "2022-06-21T00:40:56.679Z"
   },
   {
    "duration": 151,
    "start_time": "2022-06-21T00:40:56.855Z"
   },
   {
    "duration": 158,
    "start_time": "2022-06-21T00:40:57.008Z"
   },
   {
    "duration": 148,
    "start_time": "2022-06-21T00:40:57.167Z"
   },
   {
    "duration": 149,
    "start_time": "2022-06-21T00:40:57.316Z"
   },
   {
    "duration": 175,
    "start_time": "2022-06-21T00:40:57.467Z"
   },
   {
    "duration": 225,
    "start_time": "2022-06-21T00:40:57.644Z"
   },
   {
    "duration": 145,
    "start_time": "2022-06-21T00:40:57.870Z"
   },
   {
    "duration": 165,
    "start_time": "2022-06-21T00:40:58.026Z"
   },
   {
    "duration": 164,
    "start_time": "2022-06-21T00:40:58.193Z"
   },
   {
    "duration": 139,
    "start_time": "2022-06-21T00:40:58.358Z"
   },
   {
    "duration": 172,
    "start_time": "2022-06-21T00:40:58.499Z"
   },
   {
    "duration": 6,
    "start_time": "2022-06-21T00:40:58.672Z"
   },
   {
    "duration": 13,
    "start_time": "2022-06-21T00:40:58.679Z"
   },
   {
    "duration": 8,
    "start_time": "2022-06-21T00:40:58.694Z"
   },
   {
    "duration": 190,
    "start_time": "2022-06-21T00:40:58.704Z"
   },
   {
    "duration": 176,
    "start_time": "2022-06-21T00:40:58.897Z"
   },
   {
    "duration": 159,
    "start_time": "2022-06-21T00:40:59.075Z"
   },
   {
    "duration": 11,
    "start_time": "2022-06-21T00:40:59.240Z"
   },
   {
    "duration": 12,
    "start_time": "2022-06-21T00:40:59.253Z"
   },
   {
    "duration": 299,
    "start_time": "2022-06-21T00:40:59.266Z"
   },
   {
    "duration": 11,
    "start_time": "2022-06-21T00:40:59.568Z"
   },
   {
    "duration": 11,
    "start_time": "2022-06-21T00:40:59.581Z"
   },
   {
    "duration": 303,
    "start_time": "2022-06-21T00:40:59.594Z"
   },
   {
    "duration": 9,
    "start_time": "2022-06-21T00:40:59.899Z"
   },
   {
    "duration": 24,
    "start_time": "2022-06-21T00:40:59.910Z"
   },
   {
    "duration": 206,
    "start_time": "2022-06-21T00:40:59.935Z"
   },
   {
    "duration": 12,
    "start_time": "2022-06-21T00:41:00.142Z"
   },
   {
    "duration": 39,
    "start_time": "2022-06-21T00:41:00.156Z"
   },
   {
    "duration": 12,
    "start_time": "2022-06-21T00:41:00.197Z"
   },
   {
    "duration": 21,
    "start_time": "2022-06-21T00:41:00.211Z"
   },
   {
    "duration": 22,
    "start_time": "2022-06-21T00:41:00.236Z"
   },
   {
    "duration": 34,
    "start_time": "2022-06-21T00:41:00.260Z"
   },
   {
    "duration": 17,
    "start_time": "2022-06-21T00:41:00.296Z"
   },
   {
    "duration": 230,
    "start_time": "2022-06-21T00:41:00.315Z"
   },
   {
    "duration": 172,
    "start_time": "2022-06-21T00:41:00.547Z"
   },
   {
    "duration": 145,
    "start_time": "2022-06-21T00:41:00.726Z"
   },
   {
    "duration": 5,
    "start_time": "2022-06-21T00:41:00.873Z"
   },
   {
    "duration": 14,
    "start_time": "2022-06-21T00:41:00.880Z"
   },
   {
    "duration": 17,
    "start_time": "2022-06-21T00:41:00.896Z"
   },
   {
    "duration": 1001,
    "start_time": "2022-06-21T11:54:30.983Z"
   },
   {
    "duration": 117,
    "start_time": "2022-06-21T11:54:31.985Z"
   },
   {
    "duration": 14,
    "start_time": "2022-06-21T11:54:32.103Z"
   },
   {
    "duration": 5,
    "start_time": "2022-06-21T11:54:32.119Z"
   },
   {
    "duration": 20,
    "start_time": "2022-06-21T11:54:32.126Z"
   },
   {
    "duration": 10,
    "start_time": "2022-06-21T11:54:32.147Z"
   },
   {
    "duration": 17,
    "start_time": "2022-06-21T11:54:32.159Z"
   },
   {
    "duration": 8,
    "start_time": "2022-06-21T11:54:32.177Z"
   },
   {
    "duration": 13,
    "start_time": "2022-06-21T11:54:32.187Z"
   },
   {
    "duration": 4,
    "start_time": "2022-06-21T11:54:32.202Z"
   },
   {
    "duration": 7,
    "start_time": "2022-06-21T11:54:32.208Z"
   },
   {
    "duration": 11,
    "start_time": "2022-06-21T11:54:32.216Z"
   },
   {
    "duration": 15,
    "start_time": "2022-06-21T11:54:32.229Z"
   },
   {
    "duration": 18,
    "start_time": "2022-06-21T11:54:32.246Z"
   },
   {
    "duration": 189,
    "start_time": "2022-06-21T11:54:32.266Z"
   },
   {
    "duration": 111,
    "start_time": "2022-06-21T11:54:32.456Z"
   },
   {
    "duration": 11,
    "start_time": "2022-06-21T11:54:32.569Z"
   },
   {
    "duration": 146,
    "start_time": "2022-06-21T11:54:32.581Z"
   },
   {
    "duration": 132,
    "start_time": "2022-06-21T11:54:32.729Z"
   },
   {
    "duration": 146,
    "start_time": "2022-06-21T11:54:32.866Z"
   },
   {
    "duration": 142,
    "start_time": "2022-06-21T11:54:33.013Z"
   },
   {
    "duration": 135,
    "start_time": "2022-06-21T11:54:33.157Z"
   },
   {
    "duration": 144,
    "start_time": "2022-06-21T11:54:33.294Z"
   },
   {
    "duration": 131,
    "start_time": "2022-06-21T11:54:33.440Z"
   },
   {
    "duration": 155,
    "start_time": "2022-06-21T11:54:33.572Z"
   },
   {
    "duration": 221,
    "start_time": "2022-06-21T11:54:33.729Z"
   },
   {
    "duration": 142,
    "start_time": "2022-06-21T11:54:33.952Z"
   },
   {
    "duration": 170,
    "start_time": "2022-06-21T11:54:34.097Z"
   },
   {
    "duration": 146,
    "start_time": "2022-06-21T11:54:34.269Z"
   },
   {
    "duration": 130,
    "start_time": "2022-06-21T11:54:34.416Z"
   },
   {
    "duration": 155,
    "start_time": "2022-06-21T11:54:34.548Z"
   },
   {
    "duration": 6,
    "start_time": "2022-06-21T11:54:34.704Z"
   },
   {
    "duration": 12,
    "start_time": "2022-06-21T11:54:34.712Z"
   },
   {
    "duration": 7,
    "start_time": "2022-06-21T11:54:34.725Z"
   },
   {
    "duration": 149,
    "start_time": "2022-06-21T11:54:34.733Z"
   },
   {
    "duration": 143,
    "start_time": "2022-06-21T11:54:34.884Z"
   },
   {
    "duration": 142,
    "start_time": "2022-06-21T11:54:35.028Z"
   },
   {
    "duration": 9,
    "start_time": "2022-06-21T11:54:35.171Z"
   },
   {
    "duration": 13,
    "start_time": "2022-06-21T11:54:35.181Z"
   },
   {
    "duration": 279,
    "start_time": "2022-06-21T11:54:35.196Z"
   },
   {
    "duration": 8,
    "start_time": "2022-06-21T11:54:35.477Z"
   },
   {
    "duration": 13,
    "start_time": "2022-06-21T11:54:35.486Z"
   },
   {
    "duration": 286,
    "start_time": "2022-06-21T11:54:35.501Z"
   },
   {
    "duration": 9,
    "start_time": "2022-06-21T11:54:35.789Z"
   },
   {
    "duration": 14,
    "start_time": "2022-06-21T11:54:35.801Z"
   },
   {
    "duration": 207,
    "start_time": "2022-06-21T11:54:35.816Z"
   },
   {
    "duration": 12,
    "start_time": "2022-06-21T11:54:36.025Z"
   },
   {
    "duration": 12,
    "start_time": "2022-06-21T11:54:36.038Z"
   },
   {
    "duration": 27,
    "start_time": "2022-06-21T11:54:36.051Z"
   },
   {
    "duration": 12,
    "start_time": "2022-06-21T11:54:36.079Z"
   },
   {
    "duration": 11,
    "start_time": "2022-06-21T11:54:36.093Z"
   },
   {
    "duration": 11,
    "start_time": "2022-06-21T11:54:36.105Z"
   },
   {
    "duration": 11,
    "start_time": "2022-06-21T11:54:36.117Z"
   },
   {
    "duration": 227,
    "start_time": "2022-06-21T11:54:36.129Z"
   },
   {
    "duration": 153,
    "start_time": "2022-06-21T11:54:36.357Z"
   },
   {
    "duration": 131,
    "start_time": "2022-06-21T11:54:36.512Z"
   },
   {
    "duration": 5,
    "start_time": "2022-06-21T11:54:36.645Z"
   },
   {
    "duration": 19,
    "start_time": "2022-06-21T11:54:36.652Z"
   },
   {
    "duration": 10,
    "start_time": "2022-06-21T11:54:36.672Z"
   },
   {
    "duration": 35,
    "start_time": "2022-06-21T12:41:13.661Z"
   },
   {
    "duration": 1195,
    "start_time": "2022-06-21T12:41:26.369Z"
   },
   {
    "duration": 138,
    "start_time": "2022-06-21T12:41:27.567Z"
   },
   {
    "duration": 16,
    "start_time": "2022-06-21T12:41:27.707Z"
   },
   {
    "duration": 8,
    "start_time": "2022-06-21T12:41:27.725Z"
   },
   {
    "duration": 21,
    "start_time": "2022-06-21T12:41:27.736Z"
   },
   {
    "duration": 15,
    "start_time": "2022-06-21T12:41:27.759Z"
   },
   {
    "duration": 12,
    "start_time": "2022-06-21T12:41:27.776Z"
   },
   {
    "duration": 10,
    "start_time": "2022-06-21T12:41:27.790Z"
   },
   {
    "duration": 9,
    "start_time": "2022-06-21T12:41:27.802Z"
   },
   {
    "duration": 7,
    "start_time": "2022-06-21T12:41:27.813Z"
   },
   {
    "duration": 8,
    "start_time": "2022-06-21T12:41:27.822Z"
   },
   {
    "duration": 6,
    "start_time": "2022-06-21T12:41:27.867Z"
   },
   {
    "duration": 7,
    "start_time": "2022-06-21T12:41:27.875Z"
   },
   {
    "duration": 6,
    "start_time": "2022-06-21T12:41:27.886Z"
   },
   {
    "duration": 105,
    "start_time": "2022-06-21T12:41:27.893Z"
   },
   {
    "duration": 155,
    "start_time": "2022-06-21T12:41:28.000Z"
   },
   {
    "duration": 137,
    "start_time": "2022-06-21T12:41:28.157Z"
   },
   {
    "duration": 14,
    "start_time": "2022-06-21T12:41:28.296Z"
   },
   {
    "duration": 190,
    "start_time": "2022-06-21T12:41:28.313Z"
   },
   {
    "duration": 150,
    "start_time": "2022-06-21T12:41:28.505Z"
   },
   {
    "duration": 167,
    "start_time": "2022-06-21T12:41:28.657Z"
   },
   {
    "duration": 217,
    "start_time": "2022-06-21T12:41:28.826Z"
   },
   {
    "duration": 191,
    "start_time": "2022-06-21T12:41:29.046Z"
   },
   {
    "duration": 175,
    "start_time": "2022-06-21T12:41:29.239Z"
   },
   {
    "duration": 179,
    "start_time": "2022-06-21T12:41:29.416Z"
   },
   {
    "duration": 183,
    "start_time": "2022-06-21T12:41:29.598Z"
   },
   {
    "duration": 259,
    "start_time": "2022-06-21T12:41:29.783Z"
   },
   {
    "duration": 174,
    "start_time": "2022-06-21T12:41:30.044Z"
   },
   {
    "duration": 200,
    "start_time": "2022-06-21T12:41:30.220Z"
   },
   {
    "duration": 183,
    "start_time": "2022-06-21T12:41:30.422Z"
   },
   {
    "duration": 165,
    "start_time": "2022-06-21T12:41:30.608Z"
   },
   {
    "duration": 180,
    "start_time": "2022-06-21T12:41:30.775Z"
   },
   {
    "duration": 13,
    "start_time": "2022-06-21T12:41:30.957Z"
   },
   {
    "duration": 21,
    "start_time": "2022-06-21T12:41:30.972Z"
   },
   {
    "duration": 10,
    "start_time": "2022-06-21T12:41:30.995Z"
   },
   {
    "duration": 171,
    "start_time": "2022-06-21T12:41:31.008Z"
   },
   {
    "duration": 162,
    "start_time": "2022-06-21T12:41:31.181Z"
   },
   {
    "duration": 185,
    "start_time": "2022-06-21T12:41:31.345Z"
   },
   {
    "duration": 11,
    "start_time": "2022-06-21T12:41:31.532Z"
   },
   {
    "duration": 59,
    "start_time": "2022-06-21T12:41:31.545Z"
   },
   {
    "duration": 334,
    "start_time": "2022-06-21T12:41:31.610Z"
   },
   {
    "duration": 28,
    "start_time": "2022-06-21T12:41:31.947Z"
   },
   {
    "duration": 15,
    "start_time": "2022-06-21T12:41:31.977Z"
   },
   {
    "duration": 327,
    "start_time": "2022-06-21T12:41:31.994Z"
   },
   {
    "duration": 12,
    "start_time": "2022-06-21T12:41:32.323Z"
   },
   {
    "duration": 14,
    "start_time": "2022-06-21T12:41:32.336Z"
   },
   {
    "duration": 219,
    "start_time": "2022-06-21T12:41:32.368Z"
   },
   {
    "duration": 15,
    "start_time": "2022-06-21T12:41:32.589Z"
   },
   {
    "duration": 13,
    "start_time": "2022-06-21T12:41:32.605Z"
   },
   {
    "duration": 12,
    "start_time": "2022-06-21T12:41:32.619Z"
   },
   {
    "duration": 41,
    "start_time": "2022-06-21T12:41:32.633Z"
   },
   {
    "duration": 12,
    "start_time": "2022-06-21T12:41:32.676Z"
   },
   {
    "duration": 13,
    "start_time": "2022-06-21T12:41:32.689Z"
   },
   {
    "duration": 12,
    "start_time": "2022-06-21T12:41:32.703Z"
   },
   {
    "duration": 265,
    "start_time": "2022-06-21T12:41:32.718Z"
   },
   {
    "duration": 178,
    "start_time": "2022-06-21T12:41:32.985Z"
   },
   {
    "duration": 155,
    "start_time": "2022-06-21T12:41:33.167Z"
   },
   {
    "duration": 8,
    "start_time": "2022-06-21T12:41:33.324Z"
   },
   {
    "duration": 16,
    "start_time": "2022-06-21T12:41:33.333Z"
   },
   {
    "duration": 26,
    "start_time": "2022-06-21T12:41:33.351Z"
   },
   {
    "duration": 592,
    "start_time": "2022-06-21T13:11:38.138Z"
   },
   {
    "duration": 9,
    "start_time": "2022-06-21T13:25:20.585Z"
   },
   {
    "duration": 1355,
    "start_time": "2022-06-22T16:22:37.297Z"
   },
   {
    "duration": 157,
    "start_time": "2022-06-22T16:22:38.655Z"
   },
   {
    "duration": 24,
    "start_time": "2022-06-22T16:22:38.815Z"
   },
   {
    "duration": 7,
    "start_time": "2022-06-22T16:22:38.842Z"
   },
   {
    "duration": 12,
    "start_time": "2022-06-22T16:22:38.851Z"
   },
   {
    "duration": 6,
    "start_time": "2022-06-22T16:22:38.865Z"
   },
   {
    "duration": 16,
    "start_time": "2022-06-22T16:22:38.873Z"
   },
   {
    "duration": 12,
    "start_time": "2022-06-22T16:22:38.891Z"
   },
   {
    "duration": 7,
    "start_time": "2022-06-22T16:22:38.905Z"
   },
   {
    "duration": 38,
    "start_time": "2022-06-22T16:22:38.915Z"
   },
   {
    "duration": 9,
    "start_time": "2022-06-22T16:22:38.956Z"
   },
   {
    "duration": 6,
    "start_time": "2022-06-22T16:22:38.967Z"
   },
   {
    "duration": 9,
    "start_time": "2022-06-22T16:22:38.975Z"
   },
   {
    "duration": 9,
    "start_time": "2022-06-22T16:22:38.986Z"
   },
   {
    "duration": 118,
    "start_time": "2022-06-22T16:22:38.997Z"
   },
   {
    "duration": 210,
    "start_time": "2022-06-22T16:22:39.118Z"
   },
   {
    "duration": 151,
    "start_time": "2022-06-22T16:22:39.330Z"
   },
   {
    "duration": 19,
    "start_time": "2022-06-22T16:22:39.483Z"
   },
   {
    "duration": 209,
    "start_time": "2022-06-22T16:22:39.505Z"
   },
   {
    "duration": 167,
    "start_time": "2022-06-22T16:22:39.716Z"
   },
   {
    "duration": 181,
    "start_time": "2022-06-22T16:22:39.886Z"
   },
   {
    "duration": 195,
    "start_time": "2022-06-22T16:22:40.069Z"
   },
   {
    "duration": 202,
    "start_time": "2022-06-22T16:22:40.266Z"
   },
   {
    "duration": 177,
    "start_time": "2022-06-22T16:22:40.469Z"
   },
   {
    "duration": 169,
    "start_time": "2022-06-22T16:22:40.650Z"
   },
   {
    "duration": 178,
    "start_time": "2022-06-22T16:22:40.822Z"
   },
   {
    "duration": 267,
    "start_time": "2022-06-22T16:22:41.002Z"
   },
   {
    "duration": 185,
    "start_time": "2022-06-22T16:22:41.274Z"
   },
   {
    "duration": 225,
    "start_time": "2022-06-22T16:22:41.462Z"
   },
   {
    "duration": 182,
    "start_time": "2022-06-22T16:22:41.690Z"
   },
   {
    "duration": 182,
    "start_time": "2022-06-22T16:22:41.874Z"
   },
   {
    "duration": 173,
    "start_time": "2022-06-22T16:22:42.058Z"
   },
   {
    "duration": 7,
    "start_time": "2022-06-22T16:22:42.233Z"
   },
   {
    "duration": 14,
    "start_time": "2022-06-22T16:22:42.251Z"
   },
   {
    "duration": 17,
    "start_time": "2022-06-22T16:22:42.267Z"
   },
   {
    "duration": 186,
    "start_time": "2022-06-22T16:22:42.286Z"
   },
   {
    "duration": 186,
    "start_time": "2022-06-22T16:22:42.475Z"
   },
   {
    "duration": 186,
    "start_time": "2022-06-22T16:22:42.663Z"
   },
   {
    "duration": 12,
    "start_time": "2022-06-22T16:22:42.851Z"
   },
   {
    "duration": 19,
    "start_time": "2022-06-22T16:22:42.866Z"
   },
   {
    "duration": 412,
    "start_time": "2022-06-22T16:22:42.887Z"
   },
   {
    "duration": 14,
    "start_time": "2022-06-22T16:22:43.302Z"
   },
   {
    "duration": 34,
    "start_time": "2022-06-22T16:22:43.319Z"
   },
   {
    "duration": 387,
    "start_time": "2022-06-22T16:22:43.355Z"
   },
   {
    "duration": 14,
    "start_time": "2022-06-22T16:22:43.750Z"
   },
   {
    "duration": 19,
    "start_time": "2022-06-22T16:22:43.766Z"
   },
   {
    "duration": 235,
    "start_time": "2022-06-22T16:22:43.789Z"
   },
   {
    "duration": 25,
    "start_time": "2022-06-22T16:22:44.026Z"
   },
   {
    "duration": 13,
    "start_time": "2022-06-22T16:22:44.054Z"
   },
   {
    "duration": 12,
    "start_time": "2022-06-22T16:22:44.070Z"
   },
   {
    "duration": 14,
    "start_time": "2022-06-22T16:22:44.085Z"
   },
   {
    "duration": 51,
    "start_time": "2022-06-22T16:22:44.101Z"
   },
   {
    "duration": 15,
    "start_time": "2022-06-22T16:22:44.155Z"
   },
   {
    "duration": 22,
    "start_time": "2022-06-22T16:22:44.172Z"
   },
   {
    "duration": 301,
    "start_time": "2022-06-22T16:22:44.196Z"
   },
   {
    "duration": 240,
    "start_time": "2022-06-22T16:22:44.499Z"
   },
   {
    "duration": 174,
    "start_time": "2022-06-22T16:22:44.742Z"
   },
   {
    "duration": 11,
    "start_time": "2022-06-22T16:22:44.918Z"
   },
   {
    "duration": 26,
    "start_time": "2022-06-22T16:22:44.931Z"
   },
   {
    "duration": 16,
    "start_time": "2022-06-22T16:22:44.959Z"
   },
   {
    "duration": 18,
    "start_time": "2022-06-22T16:22:44.977Z"
   },
   {
    "duration": 1256,
    "start_time": "2022-06-22T16:28:20.683Z"
   },
   {
    "duration": 134,
    "start_time": "2022-06-22T16:28:21.942Z"
   },
   {
    "duration": 22,
    "start_time": "2022-06-22T16:28:22.078Z"
   },
   {
    "duration": 7,
    "start_time": "2022-06-22T16:28:22.103Z"
   },
   {
    "duration": 17,
    "start_time": "2022-06-22T16:28:22.112Z"
   },
   {
    "duration": 24,
    "start_time": "2022-06-22T16:28:22.131Z"
   },
   {
    "duration": 15,
    "start_time": "2022-06-22T16:28:22.158Z"
   },
   {
    "duration": 12,
    "start_time": "2022-06-22T16:28:22.175Z"
   },
   {
    "duration": 8,
    "start_time": "2022-06-22T16:28:22.190Z"
   },
   {
    "duration": 8,
    "start_time": "2022-06-22T16:28:22.201Z"
   },
   {
    "duration": 7,
    "start_time": "2022-06-22T16:28:22.250Z"
   },
   {
    "duration": 6,
    "start_time": "2022-06-22T16:28:22.260Z"
   },
   {
    "duration": 15,
    "start_time": "2022-06-22T16:28:22.268Z"
   },
   {
    "duration": 8,
    "start_time": "2022-06-22T16:28:22.286Z"
   },
   {
    "duration": 138,
    "start_time": "2022-06-22T16:28:22.296Z"
   },
   {
    "duration": 390,
    "start_time": "2022-06-22T16:28:22.437Z"
   },
   {
    "duration": 144,
    "start_time": "2022-06-22T16:28:22.829Z"
   },
   {
    "duration": 16,
    "start_time": "2022-06-22T16:28:22.975Z"
   },
   {
    "duration": 184,
    "start_time": "2022-06-22T16:28:22.994Z"
   },
   {
    "duration": 175,
    "start_time": "2022-06-22T16:28:23.180Z"
   },
   {
    "duration": 200,
    "start_time": "2022-06-22T16:28:23.356Z"
   },
   {
    "duration": 181,
    "start_time": "2022-06-22T16:28:23.558Z"
   },
   {
    "duration": 180,
    "start_time": "2022-06-22T16:28:23.742Z"
   },
   {
    "duration": 172,
    "start_time": "2022-06-22T16:28:23.924Z"
   },
   {
    "duration": 167,
    "start_time": "2022-06-22T16:28:24.098Z"
   },
   {
    "duration": 311,
    "start_time": "2022-06-22T16:28:24.267Z"
   },
   {
    "duration": 229,
    "start_time": "2022-06-22T16:28:24.581Z"
   },
   {
    "duration": 173,
    "start_time": "2022-06-22T16:28:24.815Z"
   },
   {
    "duration": 210,
    "start_time": "2022-06-22T16:28:24.990Z"
   },
   {
    "duration": 186,
    "start_time": "2022-06-22T16:28:25.203Z"
   },
   {
    "duration": 171,
    "start_time": "2022-06-22T16:28:25.392Z"
   },
   {
    "duration": 178,
    "start_time": "2022-06-22T16:28:25.565Z"
   },
   {
    "duration": 12,
    "start_time": "2022-06-22T16:28:25.745Z"
   },
   {
    "duration": 14,
    "start_time": "2022-06-22T16:28:25.759Z"
   },
   {
    "duration": 9,
    "start_time": "2022-06-22T16:28:25.776Z"
   },
   {
    "duration": 226,
    "start_time": "2022-06-22T16:28:25.786Z"
   },
   {
    "duration": 189,
    "start_time": "2022-06-22T16:28:26.015Z"
   },
   {
    "duration": 177,
    "start_time": "2022-06-22T16:28:26.206Z"
   },
   {
    "duration": 15,
    "start_time": "2022-06-22T16:28:26.385Z"
   },
   {
    "duration": 16,
    "start_time": "2022-06-22T16:28:26.402Z"
   },
   {
    "duration": 333,
    "start_time": "2022-06-22T16:28:26.420Z"
   },
   {
    "duration": 22,
    "start_time": "2022-06-22T16:28:26.756Z"
   },
   {
    "duration": 18,
    "start_time": "2022-06-22T16:28:26.780Z"
   },
   {
    "duration": 335,
    "start_time": "2022-06-22T16:28:26.800Z"
   },
   {
    "duration": 18,
    "start_time": "2022-06-22T16:28:27.138Z"
   },
   {
    "duration": 16,
    "start_time": "2022-06-22T16:28:27.159Z"
   },
   {
    "duration": 358,
    "start_time": "2022-06-22T16:28:27.177Z"
   },
   {
    "duration": 23,
    "start_time": "2022-06-22T16:28:27.538Z"
   },
   {
    "duration": 13,
    "start_time": "2022-06-22T16:28:27.563Z"
   },
   {
    "duration": 13,
    "start_time": "2022-06-22T16:28:27.579Z"
   },
   {
    "duration": 13,
    "start_time": "2022-06-22T16:28:27.594Z"
   },
   {
    "duration": 51,
    "start_time": "2022-06-22T16:28:27.610Z"
   },
   {
    "duration": 13,
    "start_time": "2022-06-22T16:28:27.663Z"
   },
   {
    "duration": 14,
    "start_time": "2022-06-22T16:28:27.678Z"
   },
   {
    "duration": 174,
    "start_time": "2022-06-22T16:28:27.695Z"
   },
   {
    "duration": 168,
    "start_time": "2022-06-22T16:28:27.872Z"
   },
   {
    "duration": 156,
    "start_time": "2022-06-22T16:28:28.042Z"
   },
   {
    "duration": 12,
    "start_time": "2022-06-22T16:28:28.201Z"
   },
   {
    "duration": 8,
    "start_time": "2022-06-22T16:28:28.215Z"
   },
   {
    "duration": 37,
    "start_time": "2022-06-22T16:28:28.225Z"
   },
   {
    "duration": 14,
    "start_time": "2022-06-22T16:28:28.264Z"
   },
   {
    "duration": 1142,
    "start_time": "2022-06-22T16:30:31.729Z"
   },
   {
    "duration": 134,
    "start_time": "2022-06-22T16:30:32.873Z"
   },
   {
    "duration": 19,
    "start_time": "2022-06-22T16:30:33.009Z"
   },
   {
    "duration": 23,
    "start_time": "2022-06-22T16:30:33.030Z"
   },
   {
    "duration": 16,
    "start_time": "2022-06-22T16:30:33.055Z"
   },
   {
    "duration": 6,
    "start_time": "2022-06-22T16:30:33.073Z"
   },
   {
    "duration": 14,
    "start_time": "2022-06-22T16:30:33.080Z"
   },
   {
    "duration": 9,
    "start_time": "2022-06-22T16:30:33.096Z"
   },
   {
    "duration": 9,
    "start_time": "2022-06-22T16:30:33.107Z"
   },
   {
    "duration": 33,
    "start_time": "2022-06-22T16:30:33.119Z"
   },
   {
    "duration": 9,
    "start_time": "2022-06-22T16:30:33.154Z"
   },
   {
    "duration": 6,
    "start_time": "2022-06-22T16:30:33.165Z"
   },
   {
    "duration": 9,
    "start_time": "2022-06-22T16:30:33.172Z"
   },
   {
    "duration": 8,
    "start_time": "2022-06-22T16:30:33.183Z"
   },
   {
    "duration": 106,
    "start_time": "2022-06-22T16:30:33.193Z"
   },
   {
    "duration": 425,
    "start_time": "2022-06-22T16:30:33.301Z"
   },
   {
    "duration": 138,
    "start_time": "2022-06-22T16:30:33.727Z"
   },
   {
    "duration": 19,
    "start_time": "2022-06-22T16:30:33.867Z"
   },
   {
    "duration": 179,
    "start_time": "2022-06-22T16:30:33.888Z"
   },
   {
    "duration": 160,
    "start_time": "2022-06-22T16:30:34.069Z"
   },
   {
    "duration": 208,
    "start_time": "2022-06-22T16:30:34.231Z"
   },
   {
    "duration": 258,
    "start_time": "2022-06-22T16:30:34.442Z"
   },
   {
    "duration": 173,
    "start_time": "2022-06-22T16:30:34.703Z"
   },
   {
    "duration": 175,
    "start_time": "2022-06-22T16:30:34.878Z"
   },
   {
    "duration": 167,
    "start_time": "2022-06-22T16:30:35.055Z"
   },
   {
    "duration": 261,
    "start_time": "2022-06-22T16:30:35.223Z"
   },
   {
    "duration": 221,
    "start_time": "2022-06-22T16:30:35.486Z"
   },
   {
    "duration": 183,
    "start_time": "2022-06-22T16:30:35.712Z"
   },
   {
    "duration": 191,
    "start_time": "2022-06-22T16:30:35.897Z"
   },
   {
    "duration": 184,
    "start_time": "2022-06-22T16:30:36.090Z"
   },
   {
    "duration": 159,
    "start_time": "2022-06-22T16:30:36.276Z"
   },
   {
    "duration": 189,
    "start_time": "2022-06-22T16:30:36.437Z"
   },
   {
    "duration": 8,
    "start_time": "2022-06-22T16:30:36.628Z"
   },
   {
    "duration": 27,
    "start_time": "2022-06-22T16:30:36.639Z"
   },
   {
    "duration": 7,
    "start_time": "2022-06-22T16:30:36.669Z"
   },
   {
    "duration": 185,
    "start_time": "2022-06-22T16:30:36.678Z"
   },
   {
    "duration": 163,
    "start_time": "2022-06-22T16:30:36.865Z"
   },
   {
    "duration": 174,
    "start_time": "2022-06-22T16:30:37.030Z"
   },
   {
    "duration": 11,
    "start_time": "2022-06-22T16:30:37.206Z"
   },
   {
    "duration": 12,
    "start_time": "2022-06-22T16:30:37.218Z"
   },
   {
    "duration": 372,
    "start_time": "2022-06-22T16:30:37.251Z"
   },
   {
    "duration": 11,
    "start_time": "2022-06-22T16:30:37.626Z"
   },
   {
    "duration": 18,
    "start_time": "2022-06-22T16:30:37.652Z"
   },
   {
    "duration": 322,
    "start_time": "2022-06-22T16:30:37.672Z"
   },
   {
    "duration": 10,
    "start_time": "2022-06-22T16:30:37.997Z"
   },
   {
    "duration": 13,
    "start_time": "2022-06-22T16:30:38.009Z"
   },
   {
    "duration": 321,
    "start_time": "2022-06-22T16:30:38.025Z"
   },
   {
    "duration": 13,
    "start_time": "2022-06-22T16:30:38.351Z"
   },
   {
    "duration": 13,
    "start_time": "2022-06-22T16:30:38.366Z"
   },
   {
    "duration": 12,
    "start_time": "2022-06-22T16:30:38.381Z"
   },
   {
    "duration": 11,
    "start_time": "2022-06-22T16:30:38.396Z"
   },
   {
    "duration": 49,
    "start_time": "2022-06-22T16:30:38.409Z"
   },
   {
    "duration": 12,
    "start_time": "2022-06-22T16:30:38.461Z"
   },
   {
    "duration": 12,
    "start_time": "2022-06-22T16:30:38.475Z"
   },
   {
    "duration": 151,
    "start_time": "2022-06-22T16:30:38.489Z"
   },
   {
    "duration": 167,
    "start_time": "2022-06-22T16:30:38.642Z"
   },
   {
    "duration": 158,
    "start_time": "2022-06-22T16:30:38.810Z"
   },
   {
    "duration": 10,
    "start_time": "2022-06-22T16:30:38.970Z"
   },
   {
    "duration": 6,
    "start_time": "2022-06-22T16:30:38.982Z"
   },
   {
    "duration": 11,
    "start_time": "2022-06-22T16:30:38.990Z"
   },
   {
    "duration": 11,
    "start_time": "2022-06-22T16:30:39.003Z"
   },
   {
    "duration": 1205,
    "start_time": "2022-06-22T16:32:40.131Z"
   },
   {
    "duration": 128,
    "start_time": "2022-06-22T16:32:41.338Z"
   },
   {
    "duration": 19,
    "start_time": "2022-06-22T16:32:41.469Z"
   },
   {
    "duration": 8,
    "start_time": "2022-06-22T16:32:41.491Z"
   },
   {
    "duration": 18,
    "start_time": "2022-06-22T16:32:41.502Z"
   },
   {
    "duration": 30,
    "start_time": "2022-06-22T16:32:41.522Z"
   },
   {
    "duration": 12,
    "start_time": "2022-06-22T16:32:41.554Z"
   },
   {
    "duration": 9,
    "start_time": "2022-06-22T16:32:41.568Z"
   },
   {
    "duration": 6,
    "start_time": "2022-06-22T16:32:41.579Z"
   },
   {
    "duration": 6,
    "start_time": "2022-06-22T16:32:41.588Z"
   },
   {
    "duration": 8,
    "start_time": "2022-06-22T16:32:41.596Z"
   },
   {
    "duration": 46,
    "start_time": "2022-06-22T16:32:41.605Z"
   },
   {
    "duration": 6,
    "start_time": "2022-06-22T16:32:41.653Z"
   },
   {
    "duration": 7,
    "start_time": "2022-06-22T16:32:41.661Z"
   },
   {
    "duration": 100,
    "start_time": "2022-06-22T16:32:41.670Z"
   },
   {
    "duration": 389,
    "start_time": "2022-06-22T16:32:41.771Z"
   },
   {
    "duration": 138,
    "start_time": "2022-06-22T16:32:42.161Z"
   },
   {
    "duration": 16,
    "start_time": "2022-06-22T16:32:42.301Z"
   },
   {
    "duration": 183,
    "start_time": "2022-06-22T16:32:42.320Z"
   },
   {
    "duration": 166,
    "start_time": "2022-06-22T16:32:42.506Z"
   },
   {
    "duration": 185,
    "start_time": "2022-06-22T16:32:42.673Z"
   },
   {
    "duration": 172,
    "start_time": "2022-06-22T16:32:42.860Z"
   },
   {
    "duration": 168,
    "start_time": "2022-06-22T16:32:43.034Z"
   },
   {
    "duration": 180,
    "start_time": "2022-06-22T16:32:43.204Z"
   },
   {
    "duration": 176,
    "start_time": "2022-06-22T16:32:43.386Z"
   },
   {
    "duration": 254,
    "start_time": "2022-06-22T16:32:43.565Z"
   },
   {
    "duration": 184,
    "start_time": "2022-06-22T16:32:43.821Z"
   },
   {
    "duration": 192,
    "start_time": "2022-06-22T16:32:44.011Z"
   },
   {
    "duration": 198,
    "start_time": "2022-06-22T16:32:44.205Z"
   },
   {
    "duration": 240,
    "start_time": "2022-06-22T16:32:44.410Z"
   },
   {
    "duration": 189,
    "start_time": "2022-06-22T16:32:44.653Z"
   },
   {
    "duration": 208,
    "start_time": "2022-06-22T16:32:44.844Z"
   },
   {
    "duration": 7,
    "start_time": "2022-06-22T16:32:45.054Z"
   },
   {
    "duration": 16,
    "start_time": "2022-06-22T16:32:45.063Z"
   },
   {
    "duration": 7,
    "start_time": "2022-06-22T16:32:45.081Z"
   },
   {
    "duration": 182,
    "start_time": "2022-06-22T16:32:45.090Z"
   },
   {
    "duration": 177,
    "start_time": "2022-06-22T16:32:45.275Z"
   },
   {
    "duration": 193,
    "start_time": "2022-06-22T16:32:45.455Z"
   },
   {
    "duration": 12,
    "start_time": "2022-06-22T16:32:45.651Z"
   },
   {
    "duration": 10,
    "start_time": "2022-06-22T16:32:45.665Z"
   },
   {
    "duration": 330,
    "start_time": "2022-06-22T16:32:45.677Z"
   },
   {
    "duration": 12,
    "start_time": "2022-06-22T16:32:46.009Z"
   },
   {
    "duration": 29,
    "start_time": "2022-06-22T16:32:46.023Z"
   },
   {
    "duration": 309,
    "start_time": "2022-06-22T16:32:46.054Z"
   },
   {
    "duration": 10,
    "start_time": "2022-06-22T16:32:46.366Z"
   },
   {
    "duration": 16,
    "start_time": "2022-06-22T16:32:46.378Z"
   },
   {
    "duration": 337,
    "start_time": "2022-06-22T16:32:46.396Z"
   },
   {
    "duration": 23,
    "start_time": "2022-06-22T16:32:46.736Z"
   },
   {
    "duration": 12,
    "start_time": "2022-06-22T16:32:46.761Z"
   },
   {
    "duration": 12,
    "start_time": "2022-06-22T16:32:46.774Z"
   },
   {
    "duration": 11,
    "start_time": "2022-06-22T16:32:46.788Z"
   },
   {
    "duration": 51,
    "start_time": "2022-06-22T16:32:46.801Z"
   },
   {
    "duration": 13,
    "start_time": "2022-06-22T16:32:46.854Z"
   },
   {
    "duration": 15,
    "start_time": "2022-06-22T16:32:46.869Z"
   },
   {
    "duration": 154,
    "start_time": "2022-06-22T16:32:46.886Z"
   },
   {
    "duration": 167,
    "start_time": "2022-06-22T16:32:47.042Z"
   },
   {
    "duration": 160,
    "start_time": "2022-06-22T16:32:47.211Z"
   },
   {
    "duration": 11,
    "start_time": "2022-06-22T16:32:47.373Z"
   },
   {
    "duration": 12,
    "start_time": "2022-06-22T16:32:47.386Z"
   },
   {
    "duration": 15,
    "start_time": "2022-06-22T16:32:47.400Z"
   },
   {
    "duration": 14,
    "start_time": "2022-06-22T16:32:47.417Z"
   },
   {
    "duration": 1175,
    "start_time": "2022-06-22T16:38:39.980Z"
   },
   {
    "duration": 135,
    "start_time": "2022-06-22T16:38:41.157Z"
   },
   {
    "duration": 19,
    "start_time": "2022-06-22T16:38:41.294Z"
   },
   {
    "duration": 10,
    "start_time": "2022-06-22T16:38:41.316Z"
   },
   {
    "duration": 34,
    "start_time": "2022-06-22T16:38:41.328Z"
   },
   {
    "duration": 10,
    "start_time": "2022-06-22T16:38:41.364Z"
   },
   {
    "duration": 20,
    "start_time": "2022-06-22T16:38:41.376Z"
   },
   {
    "duration": 10,
    "start_time": "2022-06-22T16:38:41.398Z"
   },
   {
    "duration": 45,
    "start_time": "2022-06-22T16:38:41.410Z"
   },
   {
    "duration": 7,
    "start_time": "2022-06-22T16:38:41.459Z"
   },
   {
    "duration": 19,
    "start_time": "2022-06-22T16:38:41.468Z"
   },
   {
    "duration": 7,
    "start_time": "2022-06-22T16:38:41.490Z"
   },
   {
    "duration": 12,
    "start_time": "2022-06-22T16:38:41.500Z"
   },
   {
    "duration": 38,
    "start_time": "2022-06-22T16:38:41.514Z"
   },
   {
    "duration": 115,
    "start_time": "2022-06-22T16:38:41.554Z"
   },
   {
    "duration": 420,
    "start_time": "2022-06-22T16:38:41.671Z"
   },
   {
    "duration": 141,
    "start_time": "2022-06-22T16:38:42.093Z"
   },
   {
    "duration": 29,
    "start_time": "2022-06-22T16:38:42.236Z"
   },
   {
    "duration": 186,
    "start_time": "2022-06-22T16:38:42.268Z"
   },
   {
    "duration": 185,
    "start_time": "2022-06-22T16:38:42.456Z"
   },
   {
    "duration": 251,
    "start_time": "2022-06-22T16:38:42.643Z"
   },
   {
    "duration": 226,
    "start_time": "2022-06-22T16:38:42.897Z"
   },
   {
    "duration": 200,
    "start_time": "2022-06-22T16:38:43.126Z"
   },
   {
    "duration": 189,
    "start_time": "2022-06-22T16:38:43.328Z"
   },
   {
    "duration": 175,
    "start_time": "2022-06-22T16:38:43.519Z"
   },
   {
    "duration": 300,
    "start_time": "2022-06-22T16:38:43.696Z"
   },
   {
    "duration": 205,
    "start_time": "2022-06-22T16:38:43.998Z"
   },
   {
    "duration": 185,
    "start_time": "2022-06-22T16:38:44.207Z"
   },
   {
    "duration": 295,
    "start_time": "2022-06-22T16:38:44.400Z"
   },
   {
    "duration": 208,
    "start_time": "2022-06-22T16:38:44.697Z"
   },
   {
    "duration": 170,
    "start_time": "2022-06-22T16:38:44.908Z"
   },
   {
    "duration": 204,
    "start_time": "2022-06-22T16:38:45.080Z"
   },
   {
    "duration": 7,
    "start_time": "2022-06-22T16:38:45.286Z"
   },
   {
    "duration": 15,
    "start_time": "2022-06-22T16:38:45.296Z"
   },
   {
    "duration": 136,
    "start_time": "2022-06-22T16:38:45.313Z"
   },
   {
    "duration": 0,
    "start_time": "2022-06-22T16:38:45.451Z"
   },
   {
    "duration": 0,
    "start_time": "2022-06-22T16:38:45.453Z"
   },
   {
    "duration": 0,
    "start_time": "2022-06-22T16:38:45.454Z"
   },
   {
    "duration": 0,
    "start_time": "2022-06-22T16:38:45.455Z"
   },
   {
    "duration": 0,
    "start_time": "2022-06-22T16:38:45.457Z"
   },
   {
    "duration": 0,
    "start_time": "2022-06-22T16:38:45.458Z"
   },
   {
    "duration": 0,
    "start_time": "2022-06-22T16:38:45.459Z"
   },
   {
    "duration": 0,
    "start_time": "2022-06-22T16:38:45.461Z"
   },
   {
    "duration": 0,
    "start_time": "2022-06-22T16:38:45.461Z"
   },
   {
    "duration": 0,
    "start_time": "2022-06-22T16:38:45.463Z"
   },
   {
    "duration": 0,
    "start_time": "2022-06-22T16:38:45.464Z"
   },
   {
    "duration": 0,
    "start_time": "2022-06-22T16:38:45.465Z"
   },
   {
    "duration": 0,
    "start_time": "2022-06-22T16:38:45.466Z"
   },
   {
    "duration": 0,
    "start_time": "2022-06-22T16:38:45.467Z"
   },
   {
    "duration": 0,
    "start_time": "2022-06-22T16:38:45.468Z"
   },
   {
    "duration": 0,
    "start_time": "2022-06-22T16:38:45.476Z"
   },
   {
    "duration": 0,
    "start_time": "2022-06-22T16:38:45.477Z"
   },
   {
    "duration": 0,
    "start_time": "2022-06-22T16:38:45.478Z"
   },
   {
    "duration": 0,
    "start_time": "2022-06-22T16:38:45.479Z"
   },
   {
    "duration": 0,
    "start_time": "2022-06-22T16:38:45.479Z"
   },
   {
    "duration": 0,
    "start_time": "2022-06-22T16:38:45.481Z"
   },
   {
    "duration": 0,
    "start_time": "2022-06-22T16:38:45.482Z"
   },
   {
    "duration": 0,
    "start_time": "2022-06-22T16:38:45.482Z"
   },
   {
    "duration": 0,
    "start_time": "2022-06-22T16:38:45.483Z"
   },
   {
    "duration": 0,
    "start_time": "2022-06-22T16:38:45.484Z"
   },
   {
    "duration": 331,
    "start_time": "2022-06-22T16:39:09.782Z"
   },
   {
    "duration": 274,
    "start_time": "2022-06-22T16:39:27.310Z"
   },
   {
    "duration": 367,
    "start_time": "2022-06-22T16:39:48.890Z"
   },
   {
    "duration": 1361,
    "start_time": "2022-06-23T14:33:03.439Z"
   },
   {
    "duration": 266,
    "start_time": "2022-06-23T14:33:04.802Z"
   },
   {
    "duration": 15,
    "start_time": "2022-06-23T14:33:05.070Z"
   },
   {
    "duration": 39,
    "start_time": "2022-06-23T14:33:05.087Z"
   },
   {
    "duration": 14,
    "start_time": "2022-06-23T14:33:05.128Z"
   },
   {
    "duration": 17,
    "start_time": "2022-06-23T14:33:05.143Z"
   },
   {
    "duration": 12,
    "start_time": "2022-06-23T14:33:05.162Z"
   },
   {
    "duration": 13,
    "start_time": "2022-06-23T14:33:05.176Z"
   },
   {
    "duration": 8,
    "start_time": "2022-06-23T14:33:05.191Z"
   },
   {
    "duration": 4,
    "start_time": "2022-06-23T14:33:05.202Z"
   },
   {
    "duration": 30,
    "start_time": "2022-06-23T14:33:05.208Z"
   },
   {
    "duration": 11,
    "start_time": "2022-06-23T14:33:05.240Z"
   },
   {
    "duration": 24,
    "start_time": "2022-06-23T14:33:05.253Z"
   },
   {
    "duration": 15,
    "start_time": "2022-06-23T14:33:05.279Z"
   },
   {
    "duration": 75,
    "start_time": "2022-06-23T14:33:05.296Z"
   },
   {
    "duration": 358,
    "start_time": "2022-06-23T14:33:05.373Z"
   },
   {
    "duration": 134,
    "start_time": "2022-06-23T14:33:05.733Z"
   },
   {
    "duration": 14,
    "start_time": "2022-06-23T14:33:05.869Z"
   },
   {
    "duration": 174,
    "start_time": "2022-06-23T14:33:05.885Z"
   },
   {
    "duration": 158,
    "start_time": "2022-06-23T14:33:06.061Z"
   },
   {
    "duration": 176,
    "start_time": "2022-06-23T14:33:06.221Z"
   },
   {
    "duration": 209,
    "start_time": "2022-06-23T14:33:06.399Z"
   },
   {
    "duration": 211,
    "start_time": "2022-06-23T14:33:06.610Z"
   },
   {
    "duration": 169,
    "start_time": "2022-06-23T14:33:06.826Z"
   },
   {
    "duration": 142,
    "start_time": "2022-06-23T14:33:06.997Z"
   },
   {
    "duration": 246,
    "start_time": "2022-06-23T14:33:07.141Z"
   },
   {
    "duration": 191,
    "start_time": "2022-06-23T14:33:07.389Z"
   },
   {
    "duration": 154,
    "start_time": "2022-06-23T14:33:07.584Z"
   },
   {
    "duration": 172,
    "start_time": "2022-06-23T14:33:07.740Z"
   },
   {
    "duration": 162,
    "start_time": "2022-06-23T14:33:07.914Z"
   },
   {
    "duration": 157,
    "start_time": "2022-06-23T14:33:08.079Z"
   },
   {
    "duration": 157,
    "start_time": "2022-06-23T14:33:08.238Z"
   },
   {
    "duration": 6,
    "start_time": "2022-06-23T14:33:08.396Z"
   },
   {
    "duration": 38,
    "start_time": "2022-06-23T14:33:08.404Z"
   },
   {
    "duration": 144,
    "start_time": "2022-06-23T14:33:08.444Z"
   },
   {
    "duration": 0,
    "start_time": "2022-06-23T14:33:08.589Z"
   },
   {
    "duration": 0,
    "start_time": "2022-06-23T14:33:08.591Z"
   },
   {
    "duration": 0,
    "start_time": "2022-06-23T14:33:08.592Z"
   },
   {
    "duration": 0,
    "start_time": "2022-06-23T14:33:08.593Z"
   },
   {
    "duration": 0,
    "start_time": "2022-06-23T14:33:08.594Z"
   },
   {
    "duration": 0,
    "start_time": "2022-06-23T14:33:08.595Z"
   },
   {
    "duration": 0,
    "start_time": "2022-06-23T14:33:08.596Z"
   },
   {
    "duration": 0,
    "start_time": "2022-06-23T14:33:08.597Z"
   },
   {
    "duration": 0,
    "start_time": "2022-06-23T14:33:08.598Z"
   },
   {
    "duration": 0,
    "start_time": "2022-06-23T14:33:08.599Z"
   },
   {
    "duration": 0,
    "start_time": "2022-06-23T14:33:08.600Z"
   },
   {
    "duration": 0,
    "start_time": "2022-06-23T14:33:08.601Z"
   },
   {
    "duration": 0,
    "start_time": "2022-06-23T14:33:08.603Z"
   },
   {
    "duration": 0,
    "start_time": "2022-06-23T14:33:08.604Z"
   },
   {
    "duration": 0,
    "start_time": "2022-06-23T14:33:08.605Z"
   },
   {
    "duration": 0,
    "start_time": "2022-06-23T14:33:08.606Z"
   },
   {
    "duration": 0,
    "start_time": "2022-06-23T14:33:08.607Z"
   },
   {
    "duration": 0,
    "start_time": "2022-06-23T14:33:08.626Z"
   },
   {
    "duration": 0,
    "start_time": "2022-06-23T14:33:08.627Z"
   },
   {
    "duration": 0,
    "start_time": "2022-06-23T14:33:08.629Z"
   },
   {
    "duration": 0,
    "start_time": "2022-06-23T14:33:08.630Z"
   },
   {
    "duration": 0,
    "start_time": "2022-06-23T14:33:08.631Z"
   },
   {
    "duration": 0,
    "start_time": "2022-06-23T14:33:08.632Z"
   },
   {
    "duration": 0,
    "start_time": "2022-06-23T14:33:08.633Z"
   },
   {
    "duration": 0,
    "start_time": "2022-06-23T14:33:08.634Z"
   },
   {
    "duration": 0,
    "start_time": "2022-06-23T14:33:08.635Z"
   },
   {
    "duration": 16,
    "start_time": "2022-06-23T14:33:39.786Z"
   },
   {
    "duration": 108,
    "start_time": "2022-06-23T14:34:21.752Z"
   },
   {
    "duration": 97,
    "start_time": "2022-06-23T14:37:09.634Z"
   },
   {
    "duration": 112,
    "start_time": "2022-06-23T14:39:35.118Z"
   },
   {
    "duration": 145,
    "start_time": "2022-06-23T14:40:16.649Z"
   },
   {
    "duration": 99,
    "start_time": "2022-06-23T14:41:27.495Z"
   },
   {
    "duration": 928,
    "start_time": "2022-06-23T14:41:38.874Z"
   },
   {
    "duration": 103,
    "start_time": "2022-06-23T14:41:39.804Z"
   },
   {
    "duration": 13,
    "start_time": "2022-06-23T14:41:39.908Z"
   },
   {
    "duration": 4,
    "start_time": "2022-06-23T14:41:39.926Z"
   },
   {
    "duration": 9,
    "start_time": "2022-06-23T14:41:39.932Z"
   },
   {
    "duration": 4,
    "start_time": "2022-06-23T14:41:39.942Z"
   },
   {
    "duration": 9,
    "start_time": "2022-06-23T14:41:39.947Z"
   },
   {
    "duration": 8,
    "start_time": "2022-06-23T14:41:39.957Z"
   },
   {
    "duration": 5,
    "start_time": "2022-06-23T14:41:39.966Z"
   },
   {
    "duration": 6,
    "start_time": "2022-06-23T14:41:39.973Z"
   },
   {
    "duration": 7,
    "start_time": "2022-06-23T14:41:39.980Z"
   },
   {
    "duration": 37,
    "start_time": "2022-06-23T14:41:39.988Z"
   },
   {
    "duration": 5,
    "start_time": "2022-06-23T14:41:40.027Z"
   },
   {
    "duration": 6,
    "start_time": "2022-06-23T14:41:40.036Z"
   },
   {
    "duration": 82,
    "start_time": "2022-06-23T14:41:40.043Z"
   },
   {
    "duration": 306,
    "start_time": "2022-06-23T14:41:40.127Z"
   },
   {
    "duration": 108,
    "start_time": "2022-06-23T14:41:40.434Z"
   },
   {
    "duration": 11,
    "start_time": "2022-06-23T14:41:40.543Z"
   },
   {
    "duration": 144,
    "start_time": "2022-06-23T14:41:40.556Z"
   },
   {
    "duration": 146,
    "start_time": "2022-06-23T14:41:40.702Z"
   },
   {
    "duration": 156,
    "start_time": "2022-06-23T14:41:40.850Z"
   },
   {
    "duration": 141,
    "start_time": "2022-06-23T14:41:41.007Z"
   },
   {
    "duration": 129,
    "start_time": "2022-06-23T14:41:41.150Z"
   },
   {
    "duration": 134,
    "start_time": "2022-06-23T14:41:41.280Z"
   },
   {
    "duration": 123,
    "start_time": "2022-06-23T14:41:41.416Z"
   },
   {
    "duration": 226,
    "start_time": "2022-06-23T14:41:41.541Z"
   },
   {
    "duration": 146,
    "start_time": "2022-06-23T14:41:41.768Z"
   },
   {
    "duration": 143,
    "start_time": "2022-06-23T14:41:41.915Z"
   },
   {
    "duration": 171,
    "start_time": "2022-06-23T14:41:42.059Z"
   },
   {
    "duration": 163,
    "start_time": "2022-06-23T14:41:42.232Z"
   },
   {
    "duration": 137,
    "start_time": "2022-06-23T14:41:42.396Z"
   },
   {
    "duration": 144,
    "start_time": "2022-06-23T14:41:42.535Z"
   },
   {
    "duration": 6,
    "start_time": "2022-06-23T14:41:42.681Z"
   },
   {
    "duration": 12,
    "start_time": "2022-06-23T14:41:42.688Z"
   },
   {
    "duration": 213,
    "start_time": "2022-06-23T14:41:42.702Z"
   },
   {
    "duration": 0,
    "start_time": "2022-06-23T14:41:42.926Z"
   },
   {
    "duration": 0,
    "start_time": "2022-06-23T14:41:42.927Z"
   },
   {
    "duration": 0,
    "start_time": "2022-06-23T14:41:42.928Z"
   },
   {
    "duration": 0,
    "start_time": "2022-06-23T14:41:42.929Z"
   },
   {
    "duration": 0,
    "start_time": "2022-06-23T14:41:42.931Z"
   },
   {
    "duration": 0,
    "start_time": "2022-06-23T14:41:42.932Z"
   },
   {
    "duration": 0,
    "start_time": "2022-06-23T14:41:42.933Z"
   },
   {
    "duration": 0,
    "start_time": "2022-06-23T14:41:42.934Z"
   },
   {
    "duration": 0,
    "start_time": "2022-06-23T14:41:42.935Z"
   },
   {
    "duration": 0,
    "start_time": "2022-06-23T14:41:42.936Z"
   },
   {
    "duration": 0,
    "start_time": "2022-06-23T14:41:42.938Z"
   },
   {
    "duration": 0,
    "start_time": "2022-06-23T14:41:42.939Z"
   },
   {
    "duration": 0,
    "start_time": "2022-06-23T14:41:42.940Z"
   },
   {
    "duration": 0,
    "start_time": "2022-06-23T14:41:42.942Z"
   },
   {
    "duration": 0,
    "start_time": "2022-06-23T14:41:42.943Z"
   },
   {
    "duration": 0,
    "start_time": "2022-06-23T14:41:42.945Z"
   },
   {
    "duration": 0,
    "start_time": "2022-06-23T14:41:42.946Z"
   },
   {
    "duration": 0,
    "start_time": "2022-06-23T14:41:42.947Z"
   },
   {
    "duration": 0,
    "start_time": "2022-06-23T14:41:42.948Z"
   },
   {
    "duration": 0,
    "start_time": "2022-06-23T14:41:42.950Z"
   },
   {
    "duration": 0,
    "start_time": "2022-06-23T14:41:42.951Z"
   },
   {
    "duration": 0,
    "start_time": "2022-06-23T14:41:42.952Z"
   },
   {
    "duration": 0,
    "start_time": "2022-06-23T14:41:42.954Z"
   },
   {
    "duration": 0,
    "start_time": "2022-06-23T14:41:42.955Z"
   },
   {
    "duration": 0,
    "start_time": "2022-06-23T14:41:42.956Z"
   },
   {
    "duration": 0,
    "start_time": "2022-06-23T14:41:42.957Z"
   },
   {
    "duration": 102,
    "start_time": "2022-06-23T14:42:26.086Z"
   },
   {
    "duration": 89,
    "start_time": "2022-06-23T14:43:40.816Z"
   },
   {
    "duration": 31421,
    "start_time": "2022-06-23T14:44:22.766Z"
   },
   {
    "duration": 112,
    "start_time": "2022-06-23T14:45:36.665Z"
   },
   {
    "duration": 95,
    "start_time": "2022-06-23T14:46:04.049Z"
   },
   {
    "duration": 1433,
    "start_time": "2022-06-23T14:47:05.469Z"
   },
   {
    "duration": 11,
    "start_time": "2022-06-23T14:47:38.397Z"
   },
   {
    "duration": 1455,
    "start_time": "2022-06-23T14:48:00.739Z"
   },
   {
    "duration": 9,
    "start_time": "2022-06-23T14:49:36.039Z"
   },
   {
    "duration": 107,
    "start_time": "2022-06-23T14:49:45.863Z"
   },
   {
    "duration": 851,
    "start_time": "2022-06-23T14:54:17.687Z"
   },
   {
    "duration": 261,
    "start_time": "2022-06-23T14:54:37.580Z"
   },
   {
    "duration": 226,
    "start_time": "2022-06-23T14:56:12.301Z"
   },
   {
    "duration": 256,
    "start_time": "2022-06-23T14:56:37.664Z"
   },
   {
    "duration": 299,
    "start_time": "2022-06-23T14:58:36.408Z"
   },
   {
    "duration": 1357,
    "start_time": "2022-06-23T17:33:29.304Z"
   },
   {
    "duration": 103,
    "start_time": "2022-06-23T17:33:30.663Z"
   },
   {
    "duration": 14,
    "start_time": "2022-06-23T17:33:30.768Z"
   },
   {
    "duration": 21,
    "start_time": "2022-06-23T17:33:30.785Z"
   },
   {
    "duration": 15,
    "start_time": "2022-06-23T17:33:30.808Z"
   },
   {
    "duration": 11,
    "start_time": "2022-06-23T17:33:30.824Z"
   },
   {
    "duration": 18,
    "start_time": "2022-06-23T17:33:30.836Z"
   },
   {
    "duration": 8,
    "start_time": "2022-06-23T17:33:30.856Z"
   },
   {
    "duration": 12,
    "start_time": "2022-06-23T17:33:30.866Z"
   },
   {
    "duration": 11,
    "start_time": "2022-06-23T17:33:30.880Z"
   },
   {
    "duration": 11,
    "start_time": "2022-06-23T17:33:30.893Z"
   },
   {
    "duration": 22,
    "start_time": "2022-06-23T17:33:30.906Z"
   },
   {
    "duration": 9,
    "start_time": "2022-06-23T17:33:30.930Z"
   },
   {
    "duration": 9,
    "start_time": "2022-06-23T17:33:30.941Z"
   },
   {
    "duration": 81,
    "start_time": "2022-06-23T17:33:30.952Z"
   },
   {
    "duration": 334,
    "start_time": "2022-06-23T17:33:31.035Z"
   },
   {
    "duration": 112,
    "start_time": "2022-06-23T17:33:31.371Z"
   },
   {
    "duration": 12,
    "start_time": "2022-06-23T17:33:31.485Z"
   },
   {
    "duration": 151,
    "start_time": "2022-06-23T17:33:31.498Z"
   },
   {
    "duration": 145,
    "start_time": "2022-06-23T17:33:31.650Z"
   },
   {
    "duration": 141,
    "start_time": "2022-06-23T17:33:31.797Z"
   },
   {
    "duration": 148,
    "start_time": "2022-06-23T17:33:31.940Z"
   },
   {
    "duration": 145,
    "start_time": "2022-06-23T17:33:32.090Z"
   },
   {
    "duration": 147,
    "start_time": "2022-06-23T17:33:32.237Z"
   },
   {
    "duration": 234,
    "start_time": "2022-06-23T17:33:32.385Z"
   },
   {
    "duration": 191,
    "start_time": "2022-06-23T17:33:32.621Z"
   },
   {
    "duration": 157,
    "start_time": "2022-06-23T17:33:32.814Z"
   },
   {
    "duration": 144,
    "start_time": "2022-06-23T17:33:32.975Z"
   },
   {
    "duration": 175,
    "start_time": "2022-06-23T17:33:33.124Z"
   },
   {
    "duration": 155,
    "start_time": "2022-06-23T17:33:33.300Z"
   },
   {
    "duration": 138,
    "start_time": "2022-06-23T17:33:33.457Z"
   },
   {
    "duration": 142,
    "start_time": "2022-06-23T17:33:33.597Z"
   },
   {
    "duration": 6,
    "start_time": "2022-06-23T17:33:33.741Z"
   },
   {
    "duration": 14,
    "start_time": "2022-06-23T17:33:33.749Z"
   },
   {
    "duration": 238,
    "start_time": "2022-06-23T17:33:33.765Z"
   },
   {
    "duration": 305,
    "start_time": "2022-06-23T17:33:34.005Z"
   },
   {
    "duration": 34317,
    "start_time": "2022-06-23T17:33:34.312Z"
   },
   {
    "duration": 106,
    "start_time": "2022-06-23T17:34:08.631Z"
   },
   {
    "duration": 0,
    "start_time": "2022-06-23T17:34:08.739Z"
   },
   {
    "duration": 0,
    "start_time": "2022-06-23T17:34:08.740Z"
   },
   {
    "duration": 0,
    "start_time": "2022-06-23T17:34:08.742Z"
   },
   {
    "duration": 0,
    "start_time": "2022-06-23T17:34:08.743Z"
   },
   {
    "duration": 0,
    "start_time": "2022-06-23T17:34:08.745Z"
   },
   {
    "duration": 0,
    "start_time": "2022-06-23T17:34:08.746Z"
   },
   {
    "duration": 0,
    "start_time": "2022-06-23T17:34:08.746Z"
   },
   {
    "duration": 0,
    "start_time": "2022-06-23T17:34:08.747Z"
   },
   {
    "duration": 0,
    "start_time": "2022-06-23T17:34:08.749Z"
   },
   {
    "duration": 0,
    "start_time": "2022-06-23T17:34:08.750Z"
   },
   {
    "duration": 0,
    "start_time": "2022-06-23T17:34:08.751Z"
   },
   {
    "duration": 0,
    "start_time": "2022-06-23T17:34:08.752Z"
   },
   {
    "duration": 0,
    "start_time": "2022-06-23T17:34:08.753Z"
   },
   {
    "duration": 0,
    "start_time": "2022-06-23T17:34:08.754Z"
   },
   {
    "duration": 0,
    "start_time": "2022-06-23T17:34:08.755Z"
   },
   {
    "duration": 0,
    "start_time": "2022-06-23T17:34:08.756Z"
   },
   {
    "duration": 0,
    "start_time": "2022-06-23T17:34:08.757Z"
   },
   {
    "duration": 0,
    "start_time": "2022-06-23T17:34:08.758Z"
   },
   {
    "duration": 0,
    "start_time": "2022-06-23T17:34:08.759Z"
   },
   {
    "duration": 0,
    "start_time": "2022-06-23T17:34:08.760Z"
   },
   {
    "duration": 0,
    "start_time": "2022-06-23T17:34:08.761Z"
   },
   {
    "duration": 0,
    "start_time": "2022-06-23T17:34:08.763Z"
   },
   {
    "duration": 0,
    "start_time": "2022-06-23T17:34:08.764Z"
   },
   {
    "duration": 0,
    "start_time": "2022-06-23T17:34:08.765Z"
   },
   {
    "duration": 223,
    "start_time": "2022-06-23T17:35:50.357Z"
   },
   {
    "duration": 234,
    "start_time": "2022-06-23T17:36:50.013Z"
   },
   {
    "duration": 242,
    "start_time": "2022-06-23T17:37:43.702Z"
   },
   {
    "duration": 1171,
    "start_time": "2022-06-23T17:49:52.763Z"
   },
   {
    "duration": 79,
    "start_time": "2022-06-23T17:49:53.936Z"
   },
   {
    "duration": 22,
    "start_time": "2022-06-23T17:49:54.017Z"
   },
   {
    "duration": 6,
    "start_time": "2022-06-23T17:49:54.041Z"
   },
   {
    "duration": 10,
    "start_time": "2022-06-23T17:49:54.048Z"
   },
   {
    "duration": 4,
    "start_time": "2022-06-23T17:49:54.060Z"
   },
   {
    "duration": 11,
    "start_time": "2022-06-23T17:49:54.066Z"
   },
   {
    "duration": 49,
    "start_time": "2022-06-23T17:49:54.079Z"
   },
   {
    "duration": 7,
    "start_time": "2022-06-23T17:49:54.130Z"
   },
   {
    "duration": 7,
    "start_time": "2022-06-23T17:49:54.140Z"
   },
   {
    "duration": 11,
    "start_time": "2022-06-23T17:49:54.149Z"
   },
   {
    "duration": 6,
    "start_time": "2022-06-23T17:49:54.162Z"
   },
   {
    "duration": 12,
    "start_time": "2022-06-23T17:49:54.170Z"
   },
   {
    "duration": 39,
    "start_time": "2022-06-23T17:49:54.184Z"
   },
   {
    "duration": 74,
    "start_time": "2022-06-23T17:49:54.226Z"
   },
   {
    "duration": 348,
    "start_time": "2022-06-23T17:49:54.302Z"
   },
   {
    "duration": 124,
    "start_time": "2022-06-23T17:49:54.652Z"
   },
   {
    "duration": 14,
    "start_time": "2022-06-23T17:49:54.778Z"
   },
   {
    "duration": 164,
    "start_time": "2022-06-23T17:49:54.794Z"
   },
   {
    "duration": 152,
    "start_time": "2022-06-23T17:49:54.960Z"
   },
   {
    "duration": 169,
    "start_time": "2022-06-23T17:49:55.114Z"
   },
   {
    "duration": 174,
    "start_time": "2022-06-23T17:49:55.285Z"
   },
   {
    "duration": 150,
    "start_time": "2022-06-23T17:49:55.461Z"
   },
   {
    "duration": 154,
    "start_time": "2022-06-23T17:49:55.613Z"
   },
   {
    "duration": 236,
    "start_time": "2022-06-23T17:49:55.769Z"
   },
   {
    "duration": 182,
    "start_time": "2022-06-23T17:49:56.007Z"
   },
   {
    "duration": 237,
    "start_time": "2022-06-23T17:49:56.191Z"
   },
   {
    "duration": 177,
    "start_time": "2022-06-23T17:49:56.434Z"
   },
   {
    "duration": 160,
    "start_time": "2022-06-23T17:49:56.613Z"
   },
   {
    "duration": 174,
    "start_time": "2022-06-23T17:49:56.775Z"
   },
   {
    "duration": 149,
    "start_time": "2022-06-23T17:49:56.951Z"
   },
   {
    "duration": 205,
    "start_time": "2022-06-23T17:49:57.102Z"
   },
   {
    "duration": 16,
    "start_time": "2022-06-23T17:49:57.309Z"
   },
   {
    "duration": 13,
    "start_time": "2022-06-23T17:49:57.327Z"
   },
   {
    "duration": 241,
    "start_time": "2022-06-23T17:49:57.342Z"
   },
   {
    "duration": 336,
    "start_time": "2022-06-23T17:49:57.584Z"
   },
   {
    "duration": 162,
    "start_time": "2022-06-23T17:49:57.922Z"
   },
   {
    "duration": 160,
    "start_time": "2022-06-23T17:49:58.086Z"
   },
   {
    "duration": 10,
    "start_time": "2022-06-23T17:49:58.247Z"
   },
   {
    "duration": 12,
    "start_time": "2022-06-23T17:49:58.259Z"
   },
   {
    "duration": 289,
    "start_time": "2022-06-23T17:49:58.273Z"
   },
   {
    "duration": 119,
    "start_time": "2022-06-23T17:49:58.564Z"
   },
   {
    "duration": 0,
    "start_time": "2022-06-23T17:49:58.685Z"
   },
   {
    "duration": 0,
    "start_time": "2022-06-23T17:49:58.687Z"
   },
   {
    "duration": 0,
    "start_time": "2022-06-23T17:49:58.689Z"
   },
   {
    "duration": 0,
    "start_time": "2022-06-23T17:49:58.690Z"
   },
   {
    "duration": 0,
    "start_time": "2022-06-23T17:49:58.691Z"
   },
   {
    "duration": 0,
    "start_time": "2022-06-23T17:49:58.693Z"
   },
   {
    "duration": 0,
    "start_time": "2022-06-23T17:49:58.694Z"
   },
   {
    "duration": 0,
    "start_time": "2022-06-23T17:49:58.696Z"
   },
   {
    "duration": 0,
    "start_time": "2022-06-23T17:49:58.698Z"
   },
   {
    "duration": 1,
    "start_time": "2022-06-23T17:49:58.722Z"
   },
   {
    "duration": 0,
    "start_time": "2022-06-23T17:49:58.725Z"
   },
   {
    "duration": 0,
    "start_time": "2022-06-23T17:49:58.726Z"
   },
   {
    "duration": 0,
    "start_time": "2022-06-23T17:49:58.727Z"
   },
   {
    "duration": 0,
    "start_time": "2022-06-23T17:49:58.729Z"
   },
   {
    "duration": 0,
    "start_time": "2022-06-23T17:49:58.730Z"
   },
   {
    "duration": 0,
    "start_time": "2022-06-23T17:49:58.731Z"
   },
   {
    "duration": 0,
    "start_time": "2022-06-23T17:49:58.733Z"
   },
   {
    "duration": 0,
    "start_time": "2022-06-23T17:49:58.734Z"
   },
   {
    "duration": 0,
    "start_time": "2022-06-23T17:49:58.736Z"
   },
   {
    "duration": 11,
    "start_time": "2022-06-23T17:53:15.400Z"
   },
   {
    "duration": 155,
    "start_time": "2022-06-23T17:53:22.149Z"
   },
   {
    "duration": 1136,
    "start_time": "2022-06-23T17:53:28.408Z"
   },
   {
    "duration": 63,
    "start_time": "2022-06-23T17:53:29.547Z"
   },
   {
    "duration": 19,
    "start_time": "2022-06-23T17:53:29.611Z"
   },
   {
    "duration": 5,
    "start_time": "2022-06-23T17:53:29.632Z"
   },
   {
    "duration": 11,
    "start_time": "2022-06-23T17:53:29.639Z"
   },
   {
    "duration": 4,
    "start_time": "2022-06-23T17:53:29.651Z"
   },
   {
    "duration": 10,
    "start_time": "2022-06-23T17:53:29.657Z"
   },
   {
    "duration": 15,
    "start_time": "2022-06-23T17:53:29.669Z"
   },
   {
    "duration": 38,
    "start_time": "2022-06-23T17:53:29.686Z"
   },
   {
    "duration": 5,
    "start_time": "2022-06-23T17:53:29.726Z"
   },
   {
    "duration": 7,
    "start_time": "2022-06-23T17:53:29.733Z"
   },
   {
    "duration": 5,
    "start_time": "2022-06-23T17:53:29.741Z"
   },
   {
    "duration": 8,
    "start_time": "2022-06-23T17:53:29.747Z"
   },
   {
    "duration": 10,
    "start_time": "2022-06-23T17:53:29.757Z"
   },
   {
    "duration": 125,
    "start_time": "2022-06-23T17:53:29.768Z"
   },
   {
    "duration": 386,
    "start_time": "2022-06-23T17:53:29.895Z"
   },
   {
    "duration": 147,
    "start_time": "2022-06-23T17:53:30.284Z"
   },
   {
    "duration": 119,
    "start_time": "2022-06-23T17:53:30.433Z"
   },
   {
    "duration": 13,
    "start_time": "2022-06-23T17:53:30.554Z"
   },
   {
    "duration": 157,
    "start_time": "2022-06-23T17:53:30.569Z"
   },
   {
    "duration": 151,
    "start_time": "2022-06-23T17:53:30.727Z"
   },
   {
    "duration": 182,
    "start_time": "2022-06-23T17:53:30.879Z"
   },
   {
    "duration": 164,
    "start_time": "2022-06-23T17:53:31.062Z"
   },
   {
    "duration": 172,
    "start_time": "2022-06-23T17:53:31.228Z"
   },
   {
    "duration": 224,
    "start_time": "2022-06-23T17:53:31.402Z"
   },
   {
    "duration": 145,
    "start_time": "2022-06-23T17:53:31.627Z"
   },
   {
    "duration": 161,
    "start_time": "2022-06-23T17:53:31.775Z"
   },
   {
    "duration": 183,
    "start_time": "2022-06-23T17:53:31.942Z"
   },
   {
    "duration": 165,
    "start_time": "2022-06-23T17:53:32.127Z"
   },
   {
    "duration": 168,
    "start_time": "2022-06-23T17:53:32.294Z"
   },
   {
    "duration": 215,
    "start_time": "2022-06-23T17:53:32.464Z"
   },
   {
    "duration": 171,
    "start_time": "2022-06-23T17:53:32.681Z"
   },
   {
    "duration": 154,
    "start_time": "2022-06-23T17:53:32.854Z"
   },
   {
    "duration": 15,
    "start_time": "2022-06-23T17:53:33.010Z"
   },
   {
    "duration": 11,
    "start_time": "2022-06-23T17:53:33.027Z"
   },
   {
    "duration": 266,
    "start_time": "2022-06-23T17:53:33.040Z"
   },
   {
    "duration": 355,
    "start_time": "2022-06-23T17:53:33.307Z"
   },
   {
    "duration": 144,
    "start_time": "2022-06-23T17:53:33.664Z"
   },
   {
    "duration": 165,
    "start_time": "2022-06-23T17:53:33.810Z"
   },
   {
    "duration": 12,
    "start_time": "2022-06-23T17:53:33.977Z"
   },
   {
    "duration": 15,
    "start_time": "2022-06-23T17:53:33.990Z"
   },
   {
    "duration": 285,
    "start_time": "2022-06-23T17:53:34.022Z"
   },
   {
    "duration": 99,
    "start_time": "2022-06-23T17:53:34.309Z"
   },
   {
    "duration": 0,
    "start_time": "2022-06-23T17:53:34.410Z"
   },
   {
    "duration": 0,
    "start_time": "2022-06-23T17:53:34.411Z"
   },
   {
    "duration": 0,
    "start_time": "2022-06-23T17:53:34.412Z"
   },
   {
    "duration": 0,
    "start_time": "2022-06-23T17:53:34.412Z"
   },
   {
    "duration": 0,
    "start_time": "2022-06-23T17:53:34.413Z"
   },
   {
    "duration": 0,
    "start_time": "2022-06-23T17:53:34.413Z"
   },
   {
    "duration": 0,
    "start_time": "2022-06-23T17:53:34.424Z"
   },
   {
    "duration": 0,
    "start_time": "2022-06-23T17:53:34.425Z"
   },
   {
    "duration": 0,
    "start_time": "2022-06-23T17:53:34.426Z"
   },
   {
    "duration": 0,
    "start_time": "2022-06-23T17:53:34.427Z"
   },
   {
    "duration": 0,
    "start_time": "2022-06-23T17:53:34.428Z"
   },
   {
    "duration": 0,
    "start_time": "2022-06-23T17:53:34.429Z"
   },
   {
    "duration": 0,
    "start_time": "2022-06-23T17:53:34.430Z"
   },
   {
    "duration": 0,
    "start_time": "2022-06-23T17:53:34.431Z"
   },
   {
    "duration": 0,
    "start_time": "2022-06-23T17:53:34.432Z"
   },
   {
    "duration": 0,
    "start_time": "2022-06-23T17:53:34.433Z"
   },
   {
    "duration": 0,
    "start_time": "2022-06-23T17:53:34.435Z"
   },
   {
    "duration": 0,
    "start_time": "2022-06-23T17:53:34.436Z"
   },
   {
    "duration": 0,
    "start_time": "2022-06-23T17:53:34.437Z"
   },
   {
    "duration": 10,
    "start_time": "2022-06-23T17:57:38.510Z"
   },
   {
    "duration": 10,
    "start_time": "2022-06-23T17:57:44.318Z"
   },
   {
    "duration": 264,
    "start_time": "2022-06-23T17:57:48.195Z"
   },
   {
    "duration": 11,
    "start_time": "2022-06-23T17:57:51.879Z"
   },
   {
    "duration": 10,
    "start_time": "2022-06-23T17:57:58.441Z"
   },
   {
    "duration": 14,
    "start_time": "2022-06-23T17:58:02.650Z"
   },
   {
    "duration": 180,
    "start_time": "2022-06-23T18:00:09.022Z"
   },
   {
    "duration": 252,
    "start_time": "2022-06-23T18:01:24.914Z"
   },
   {
    "duration": 244,
    "start_time": "2022-06-23T18:02:42.316Z"
   },
   {
    "duration": 238,
    "start_time": "2022-06-23T18:03:03.318Z"
   },
   {
    "duration": 52,
    "start_time": "2022-06-23T18:05:39.105Z"
   },
   {
    "duration": 115,
    "start_time": "2022-06-23T18:06:02.332Z"
   },
   {
    "duration": 341,
    "start_time": "2022-06-23T18:08:45.855Z"
   },
   {
    "duration": 237,
    "start_time": "2022-06-23T18:09:58.023Z"
   },
   {
    "duration": 410,
    "start_time": "2022-06-23T18:10:42.003Z"
   },
   {
    "duration": 342,
    "start_time": "2022-06-23T18:10:49.341Z"
   },
   {
    "duration": 300,
    "start_time": "2022-06-23T18:10:58.013Z"
   },
   {
    "duration": 385,
    "start_time": "2022-06-23T18:11:06.609Z"
   },
   {
    "duration": 279,
    "start_time": "2022-06-23T18:11:26.814Z"
   },
   {
    "duration": 270,
    "start_time": "2022-06-23T18:12:08.237Z"
   },
   {
    "duration": 274,
    "start_time": "2022-06-23T18:12:21.716Z"
   },
   {
    "duration": 285,
    "start_time": "2022-06-23T18:12:46.822Z"
   },
   {
    "duration": 46,
    "start_time": "2022-06-23T20:15:18.244Z"
   },
   {
    "duration": 1391,
    "start_time": "2022-06-23T20:15:24.357Z"
   },
   {
    "duration": 111,
    "start_time": "2022-06-23T20:15:25.751Z"
   },
   {
    "duration": 14,
    "start_time": "2022-06-23T20:15:25.864Z"
   },
   {
    "duration": 4,
    "start_time": "2022-06-23T20:15:25.880Z"
   },
   {
    "duration": 10,
    "start_time": "2022-06-23T20:15:25.886Z"
   },
   {
    "duration": 5,
    "start_time": "2022-06-23T20:15:25.898Z"
   },
   {
    "duration": 10,
    "start_time": "2022-06-23T20:15:25.904Z"
   },
   {
    "duration": 8,
    "start_time": "2022-06-23T20:15:25.923Z"
   },
   {
    "duration": 8,
    "start_time": "2022-06-23T20:15:25.933Z"
   },
   {
    "duration": 9,
    "start_time": "2022-06-23T20:15:25.944Z"
   },
   {
    "duration": 13,
    "start_time": "2022-06-23T20:15:25.954Z"
   },
   {
    "duration": 7,
    "start_time": "2022-06-23T20:15:25.968Z"
   },
   {
    "duration": 7,
    "start_time": "2022-06-23T20:15:25.976Z"
   },
   {
    "duration": 5,
    "start_time": "2022-06-23T20:15:25.984Z"
   },
   {
    "duration": 96,
    "start_time": "2022-06-23T20:15:25.990Z"
   },
   {
    "duration": 363,
    "start_time": "2022-06-23T20:15:26.087Z"
   },
   {
    "duration": 13,
    "start_time": "2022-06-23T20:15:26.452Z"
   },
   {
    "duration": 147,
    "start_time": "2022-06-23T20:15:26.466Z"
   },
   {
    "duration": 144,
    "start_time": "2022-06-23T20:15:26.614Z"
   },
   {
    "duration": 157,
    "start_time": "2022-06-23T20:15:26.759Z"
   },
   {
    "duration": 149,
    "start_time": "2022-06-23T20:15:26.918Z"
   },
   {
    "duration": 160,
    "start_time": "2022-06-23T20:15:27.068Z"
   },
   {
    "duration": 148,
    "start_time": "2022-06-23T20:15:27.229Z"
   },
   {
    "duration": 141,
    "start_time": "2022-06-23T20:15:27.379Z"
   },
   {
    "duration": 225,
    "start_time": "2022-06-23T20:15:27.523Z"
   },
   {
    "duration": 159,
    "start_time": "2022-06-23T20:15:27.749Z"
   },
   {
    "duration": 161,
    "start_time": "2022-06-23T20:15:27.910Z"
   },
   {
    "duration": 175,
    "start_time": "2022-06-23T20:15:28.074Z"
   },
   {
    "duration": 150,
    "start_time": "2022-06-23T20:15:28.251Z"
   },
   {
    "duration": 141,
    "start_time": "2022-06-23T20:15:28.402Z"
   },
   {
    "duration": 151,
    "start_time": "2022-06-23T20:15:28.545Z"
   },
   {
    "duration": 5,
    "start_time": "2022-06-23T20:15:28.698Z"
   },
   {
    "duration": 21,
    "start_time": "2022-06-23T20:15:28.705Z"
   },
   {
    "duration": 243,
    "start_time": "2022-06-23T20:15:28.727Z"
   },
   {
    "duration": 268,
    "start_time": "2022-06-23T20:15:28.973Z"
   },
   {
    "duration": 253,
    "start_time": "2022-06-23T20:15:29.243Z"
   },
   {
    "duration": 153,
    "start_time": "2022-06-23T20:15:29.498Z"
   },
   {
    "duration": 9,
    "start_time": "2022-06-23T20:15:29.653Z"
   },
   {
    "duration": 11,
    "start_time": "2022-06-23T20:15:29.664Z"
   },
   {
    "duration": 291,
    "start_time": "2022-06-23T20:15:29.676Z"
   },
   {
    "duration": 10,
    "start_time": "2022-06-23T20:15:29.969Z"
   },
   {
    "duration": 12,
    "start_time": "2022-06-23T20:15:29.980Z"
   },
   {
    "duration": 302,
    "start_time": "2022-06-23T20:15:29.994Z"
   },
   {
    "duration": 9,
    "start_time": "2022-06-23T20:15:30.297Z"
   },
   {
    "duration": 28,
    "start_time": "2022-06-23T20:15:30.308Z"
   },
   {
    "duration": 271,
    "start_time": "2022-06-23T20:15:30.338Z"
   },
   {
    "duration": 288,
    "start_time": "2022-06-23T20:15:30.611Z"
   },
   {
    "duration": 12,
    "start_time": "2022-06-23T20:15:30.900Z"
   },
   {
    "duration": 299,
    "start_time": "2022-06-23T20:15:30.914Z"
   },
   {
    "duration": 21,
    "start_time": "2022-06-23T20:15:31.215Z"
   },
   {
    "duration": 29,
    "start_time": "2022-06-23T20:15:31.238Z"
   },
   {
    "duration": 295,
    "start_time": "2022-06-23T20:15:31.269Z"
   },
   {
    "duration": 10,
    "start_time": "2022-06-23T20:15:31.566Z"
   },
   {
    "duration": 25,
    "start_time": "2022-06-23T20:15:31.578Z"
   },
   {
    "duration": 32,
    "start_time": "2022-06-23T20:15:31.605Z"
   },
   {
    "duration": 140,
    "start_time": "2022-06-23T20:15:31.639Z"
   },
   {
    "duration": 132,
    "start_time": "2022-06-23T20:15:31.780Z"
   },
   {
    "duration": 244,
    "start_time": "2022-06-23T20:15:31.914Z"
   },
   {
    "duration": 9,
    "start_time": "2022-06-23T20:15:32.159Z"
   },
   {
    "duration": 31,
    "start_time": "2022-06-23T20:15:32.170Z"
   },
   {
    "duration": 44,
    "start_time": "2022-06-23T20:15:32.203Z"
   },
   {
    "duration": 19,
    "start_time": "2022-06-23T20:15:32.248Z"
   },
   {
    "duration": 125,
    "start_time": "2022-06-23T20:16:02.214Z"
   },
   {
    "duration": 164,
    "start_time": "2022-06-23T20:16:12.078Z"
   },
   {
    "duration": 12,
    "start_time": "2022-06-23T20:25:18.348Z"
   },
   {
    "duration": 14,
    "start_time": "2022-06-23T20:26:56.737Z"
   },
   {
    "duration": 111,
    "start_time": "2022-06-23T20:27:03.258Z"
   },
   {
    "duration": 114,
    "start_time": "2022-06-23T20:27:12.913Z"
   },
   {
    "duration": 110,
    "start_time": "2022-06-23T20:28:35.285Z"
   },
   {
    "duration": 118,
    "start_time": "2022-06-23T20:28:47.414Z"
   },
   {
    "duration": 6,
    "start_time": "2022-06-23T20:29:21.656Z"
   },
   {
    "duration": 1214,
    "start_time": "2022-06-23T20:29:50.496Z"
   },
   {
    "duration": 76,
    "start_time": "2022-06-23T20:29:51.713Z"
   },
   {
    "duration": 15,
    "start_time": "2022-06-23T20:29:51.790Z"
   },
   {
    "duration": 5,
    "start_time": "2022-06-23T20:29:51.807Z"
   },
   {
    "duration": 30,
    "start_time": "2022-06-23T20:29:51.813Z"
   },
   {
    "duration": 6,
    "start_time": "2022-06-23T20:29:51.845Z"
   },
   {
    "duration": 16,
    "start_time": "2022-06-23T20:29:51.853Z"
   },
   {
    "duration": 9,
    "start_time": "2022-06-23T20:29:51.871Z"
   },
   {
    "duration": 6,
    "start_time": "2022-06-23T20:29:51.882Z"
   },
   {
    "duration": 8,
    "start_time": "2022-06-23T20:29:51.890Z"
   },
   {
    "duration": 9,
    "start_time": "2022-06-23T20:29:51.899Z"
   },
   {
    "duration": 25,
    "start_time": "2022-06-23T20:29:51.910Z"
   },
   {
    "duration": 8,
    "start_time": "2022-06-23T20:29:51.937Z"
   },
   {
    "duration": 10,
    "start_time": "2022-06-23T20:29:51.946Z"
   },
   {
    "duration": 103,
    "start_time": "2022-06-23T20:29:51.958Z"
   },
   {
    "duration": 363,
    "start_time": "2022-06-23T20:29:52.063Z"
   },
   {
    "duration": 12,
    "start_time": "2022-06-23T20:29:52.435Z"
   },
   {
    "duration": 188,
    "start_time": "2022-06-23T20:29:52.449Z"
   },
   {
    "duration": 169,
    "start_time": "2022-06-23T20:29:52.639Z"
   },
   {
    "duration": 179,
    "start_time": "2022-06-23T20:29:52.811Z"
   },
   {
    "duration": 170,
    "start_time": "2022-06-23T20:29:52.992Z"
   },
   {
    "duration": 172,
    "start_time": "2022-06-23T20:29:53.165Z"
   },
   {
    "duration": 154,
    "start_time": "2022-06-23T20:29:53.340Z"
   },
   {
    "duration": 167,
    "start_time": "2022-06-23T20:29:53.496Z"
   },
   {
    "duration": 241,
    "start_time": "2022-06-23T20:29:53.665Z"
   },
   {
    "duration": 175,
    "start_time": "2022-06-23T20:29:53.907Z"
   },
   {
    "duration": 161,
    "start_time": "2022-06-23T20:29:54.084Z"
   },
   {
    "duration": 162,
    "start_time": "2022-06-23T20:29:54.249Z"
   },
   {
    "duration": 178,
    "start_time": "2022-06-23T20:29:54.412Z"
   },
   {
    "duration": 147,
    "start_time": "2022-06-23T20:29:54.592Z"
   },
   {
    "duration": 162,
    "start_time": "2022-06-23T20:29:54.742Z"
   },
   {
    "duration": 6,
    "start_time": "2022-06-23T20:29:54.906Z"
   },
   {
    "duration": 21,
    "start_time": "2022-06-23T20:29:54.913Z"
   },
   {
    "duration": 239,
    "start_time": "2022-06-23T20:29:54.936Z"
   },
   {
    "duration": 244,
    "start_time": "2022-06-23T20:29:55.177Z"
   },
   {
    "duration": 249,
    "start_time": "2022-06-23T20:29:55.423Z"
   },
   {
    "duration": 134,
    "start_time": "2022-06-23T20:29:55.675Z"
   },
   {
    "duration": 10,
    "start_time": "2022-06-23T20:29:55.822Z"
   },
   {
    "duration": 10,
    "start_time": "2022-06-23T20:29:55.834Z"
   },
   {
    "duration": 292,
    "start_time": "2022-06-23T20:29:55.847Z"
   },
   {
    "duration": 10,
    "start_time": "2022-06-23T20:29:56.140Z"
   },
   {
    "duration": 11,
    "start_time": "2022-06-23T20:29:56.152Z"
   },
   {
    "duration": 278,
    "start_time": "2022-06-23T20:29:56.164Z"
   },
   {
    "duration": 9,
    "start_time": "2022-06-23T20:29:56.444Z"
   },
   {
    "duration": 11,
    "start_time": "2022-06-23T20:29:56.455Z"
   },
   {
    "duration": 275,
    "start_time": "2022-06-23T20:29:56.467Z"
   },
   {
    "duration": 268,
    "start_time": "2022-06-23T20:29:56.744Z"
   },
   {
    "duration": 26,
    "start_time": "2022-06-23T20:29:57.014Z"
   },
   {
    "duration": 158,
    "start_time": "2022-06-23T20:29:57.042Z"
   },
   {
    "duration": 911,
    "start_time": "2022-06-23T20:29:57.202Z"
   },
   {
    "duration": 0,
    "start_time": "2022-06-23T20:29:58.115Z"
   },
   {
    "duration": 0,
    "start_time": "2022-06-23T20:29:58.116Z"
   },
   {
    "duration": 0,
    "start_time": "2022-06-23T20:29:58.117Z"
   },
   {
    "duration": 0,
    "start_time": "2022-06-23T20:29:58.118Z"
   },
   {
    "duration": 0,
    "start_time": "2022-06-23T20:29:58.119Z"
   },
   {
    "duration": 0,
    "start_time": "2022-06-23T20:29:58.120Z"
   },
   {
    "duration": 0,
    "start_time": "2022-06-23T20:29:58.121Z"
   },
   {
    "duration": 0,
    "start_time": "2022-06-23T20:29:58.122Z"
   },
   {
    "duration": 0,
    "start_time": "2022-06-23T20:29:58.123Z"
   },
   {
    "duration": 0,
    "start_time": "2022-06-23T20:29:58.124Z"
   },
   {
    "duration": 0,
    "start_time": "2022-06-23T20:29:58.125Z"
   },
   {
    "duration": 0,
    "start_time": "2022-06-23T20:29:58.130Z"
   },
   {
    "duration": 111,
    "start_time": "2022-06-23T20:30:10.283Z"
   },
   {
    "duration": 118,
    "start_time": "2022-06-23T20:30:19.245Z"
   },
   {
    "duration": 12,
    "start_time": "2022-06-23T20:30:43.685Z"
   },
   {
    "duration": 303,
    "start_time": "2022-06-23T20:34:32.741Z"
   },
   {
    "duration": 1672,
    "start_time": "2022-06-23T20:40:02.182Z"
   },
   {
    "duration": 9,
    "start_time": "2022-06-23T20:40:55.074Z"
   },
   {
    "duration": 9,
    "start_time": "2022-06-23T20:41:09.062Z"
   },
   {
    "duration": 1154,
    "start_time": "2022-06-23T20:41:21.004Z"
   },
   {
    "duration": 80,
    "start_time": "2022-06-23T20:41:22.160Z"
   },
   {
    "duration": 17,
    "start_time": "2022-06-23T20:41:22.242Z"
   },
   {
    "duration": 5,
    "start_time": "2022-06-23T20:41:22.261Z"
   },
   {
    "duration": 9,
    "start_time": "2022-06-23T20:41:22.268Z"
   },
   {
    "duration": 4,
    "start_time": "2022-06-23T20:41:22.278Z"
   },
   {
    "duration": 10,
    "start_time": "2022-06-23T20:41:22.284Z"
   },
   {
    "duration": 7,
    "start_time": "2022-06-23T20:41:22.295Z"
   },
   {
    "duration": 21,
    "start_time": "2022-06-23T20:41:22.303Z"
   },
   {
    "duration": 23,
    "start_time": "2022-06-23T20:41:22.327Z"
   },
   {
    "duration": 10,
    "start_time": "2022-06-23T20:41:22.352Z"
   },
   {
    "duration": 6,
    "start_time": "2022-06-23T20:41:22.364Z"
   },
   {
    "duration": 7,
    "start_time": "2022-06-23T20:41:22.371Z"
   },
   {
    "duration": 10,
    "start_time": "2022-06-23T20:41:22.379Z"
   },
   {
    "duration": 100,
    "start_time": "2022-06-23T20:41:22.390Z"
   },
   {
    "duration": 473,
    "start_time": "2022-06-23T20:41:22.492Z"
   },
   {
    "duration": 12,
    "start_time": "2022-06-23T20:41:22.968Z"
   },
   {
    "duration": 157,
    "start_time": "2022-06-23T20:41:22.982Z"
   },
   {
    "duration": 149,
    "start_time": "2022-06-23T20:41:23.141Z"
   },
   {
    "duration": 163,
    "start_time": "2022-06-23T20:41:23.291Z"
   },
   {
    "duration": 149,
    "start_time": "2022-06-23T20:41:23.456Z"
   },
   {
    "duration": 150,
    "start_time": "2022-06-23T20:41:23.607Z"
   },
   {
    "duration": 149,
    "start_time": "2022-06-23T20:41:23.759Z"
   },
   {
    "duration": 156,
    "start_time": "2022-06-23T20:41:23.909Z"
   },
   {
    "duration": 229,
    "start_time": "2022-06-23T20:41:24.066Z"
   },
   {
    "duration": 163,
    "start_time": "2022-06-23T20:41:24.296Z"
   },
   {
    "duration": 149,
    "start_time": "2022-06-23T20:41:24.461Z"
   },
   {
    "duration": 167,
    "start_time": "2022-06-23T20:41:24.614Z"
   },
   {
    "duration": 158,
    "start_time": "2022-06-23T20:41:24.783Z"
   },
   {
    "duration": 146,
    "start_time": "2022-06-23T20:41:24.943Z"
   },
   {
    "duration": 158,
    "start_time": "2022-06-23T20:41:25.090Z"
   },
   {
    "duration": 7,
    "start_time": "2022-06-23T20:41:25.250Z"
   },
   {
    "duration": 16,
    "start_time": "2022-06-23T20:41:25.258Z"
   },
   {
    "duration": 242,
    "start_time": "2022-06-23T20:41:25.276Z"
   },
   {
    "duration": 255,
    "start_time": "2022-06-23T20:41:25.520Z"
   },
   {
    "duration": 264,
    "start_time": "2022-06-23T20:41:25.777Z"
   },
   {
    "duration": 153,
    "start_time": "2022-06-23T20:41:26.043Z"
   },
   {
    "duration": 9,
    "start_time": "2022-06-23T20:41:26.198Z"
   },
   {
    "duration": 30,
    "start_time": "2022-06-23T20:41:26.209Z"
   },
   {
    "duration": 278,
    "start_time": "2022-06-23T20:41:26.241Z"
   },
   {
    "duration": 24,
    "start_time": "2022-06-23T20:41:26.523Z"
   },
   {
    "duration": 38,
    "start_time": "2022-06-23T20:41:26.549Z"
   },
   {
    "duration": 290,
    "start_time": "2022-06-23T20:41:26.589Z"
   },
   {
    "duration": 10,
    "start_time": "2022-06-23T20:41:26.881Z"
   },
   {
    "duration": 13,
    "start_time": "2022-06-23T20:41:26.892Z"
   },
   {
    "duration": 278,
    "start_time": "2022-06-23T20:41:26.906Z"
   },
   {
    "duration": 284,
    "start_time": "2022-06-23T20:41:27.186Z"
   },
   {
    "duration": 12,
    "start_time": "2022-06-23T20:41:27.472Z"
   },
   {
    "duration": 272,
    "start_time": "2022-06-23T20:41:27.486Z"
   },
   {
    "duration": 10,
    "start_time": "2022-06-23T20:41:27.759Z"
   },
   {
    "duration": 11,
    "start_time": "2022-06-23T20:41:27.771Z"
   },
   {
    "duration": 11,
    "start_time": "2022-06-23T20:41:27.783Z"
   },
   {
    "duration": 40,
    "start_time": "2022-06-23T20:41:27.796Z"
   },
   {
    "duration": 16,
    "start_time": "2022-06-23T20:41:27.838Z"
   },
   {
    "duration": 10,
    "start_time": "2022-06-23T20:41:27.856Z"
   },
   {
    "duration": 139,
    "start_time": "2022-06-23T20:41:27.868Z"
   },
   {
    "duration": 150,
    "start_time": "2022-06-23T20:41:28.009Z"
   },
   {
    "duration": 136,
    "start_time": "2022-06-23T20:41:28.162Z"
   },
   {
    "duration": 9,
    "start_time": "2022-06-23T20:41:28.300Z"
   },
   {
    "duration": 14,
    "start_time": "2022-06-23T20:41:28.326Z"
   },
   {
    "duration": 11,
    "start_time": "2022-06-23T20:41:28.342Z"
   },
   {
    "duration": 9,
    "start_time": "2022-06-23T20:41:28.355Z"
   },
   {
    "duration": 8,
    "start_time": "2022-06-23T20:42:06.695Z"
   },
   {
    "duration": 10,
    "start_time": "2022-06-23T20:42:24.283Z"
   },
   {
    "duration": 394,
    "start_time": "2022-06-23T20:44:11.569Z"
   },
   {
    "duration": 12,
    "start_time": "2022-06-23T20:44:26.662Z"
   },
   {
    "duration": 5,
    "start_time": "2022-06-23T20:44:48.592Z"
   },
   {
    "duration": 258,
    "start_time": "2022-06-23T20:45:02.298Z"
   },
   {
    "duration": 262,
    "start_time": "2022-06-23T20:47:50.897Z"
   },
   {
    "duration": 111,
    "start_time": "2022-06-23T20:51:03.753Z"
   },
   {
    "duration": 1130,
    "start_time": "2022-06-23T20:53:06.300Z"
   },
   {
    "duration": 65,
    "start_time": "2022-06-23T20:53:07.433Z"
   },
   {
    "duration": 14,
    "start_time": "2022-06-23T20:53:07.500Z"
   },
   {
    "duration": 15,
    "start_time": "2022-06-23T20:53:07.516Z"
   },
   {
    "duration": 10,
    "start_time": "2022-06-23T20:53:07.532Z"
   },
   {
    "duration": 4,
    "start_time": "2022-06-23T20:53:07.544Z"
   },
   {
    "duration": 21,
    "start_time": "2022-06-23T20:53:07.549Z"
   },
   {
    "duration": 7,
    "start_time": "2022-06-23T20:53:07.572Z"
   },
   {
    "duration": 8,
    "start_time": "2022-06-23T20:53:07.581Z"
   },
   {
    "duration": 9,
    "start_time": "2022-06-23T20:53:07.591Z"
   },
   {
    "duration": 12,
    "start_time": "2022-06-23T20:53:07.601Z"
   },
   {
    "duration": 6,
    "start_time": "2022-06-23T20:53:07.633Z"
   },
   {
    "duration": 11,
    "start_time": "2022-06-23T20:53:07.641Z"
   },
   {
    "duration": 8,
    "start_time": "2022-06-23T20:53:07.654Z"
   },
   {
    "duration": 85,
    "start_time": "2022-06-23T20:53:07.663Z"
   },
   {
    "duration": 361,
    "start_time": "2022-06-23T20:53:07.750Z"
   },
   {
    "duration": 18,
    "start_time": "2022-06-23T20:53:08.113Z"
   },
   {
    "duration": 153,
    "start_time": "2022-06-23T20:53:08.133Z"
   },
   {
    "duration": 139,
    "start_time": "2022-06-23T20:53:08.289Z"
   },
   {
    "duration": 161,
    "start_time": "2022-06-23T20:53:08.430Z"
   },
   {
    "duration": 156,
    "start_time": "2022-06-23T20:53:08.593Z"
   },
   {
    "duration": 148,
    "start_time": "2022-06-23T20:53:08.751Z"
   },
   {
    "duration": 161,
    "start_time": "2022-06-23T20:53:08.901Z"
   },
   {
    "duration": 140,
    "start_time": "2022-06-23T20:53:09.065Z"
   },
   {
    "duration": 240,
    "start_time": "2022-06-23T20:53:09.207Z"
   },
   {
    "duration": 157,
    "start_time": "2022-06-23T20:53:09.448Z"
   },
   {
    "duration": 168,
    "start_time": "2022-06-23T20:53:09.607Z"
   },
   {
    "duration": 170,
    "start_time": "2022-06-23T20:53:09.780Z"
   },
   {
    "duration": 157,
    "start_time": "2022-06-23T20:53:09.952Z"
   },
   {
    "duration": 148,
    "start_time": "2022-06-23T20:53:10.111Z"
   },
   {
    "duration": 141,
    "start_time": "2022-06-23T20:53:10.260Z"
   },
   {
    "duration": 6,
    "start_time": "2022-06-23T20:53:10.403Z"
   },
   {
    "duration": 29,
    "start_time": "2022-06-23T20:53:10.410Z"
   },
   {
    "duration": 227,
    "start_time": "2022-06-23T20:53:10.441Z"
   },
   {
    "duration": 269,
    "start_time": "2022-06-23T20:53:10.669Z"
   },
   {
    "duration": 240,
    "start_time": "2022-06-23T20:53:10.940Z"
   },
   {
    "duration": 173,
    "start_time": "2022-06-23T20:53:11.182Z"
   },
   {
    "duration": 11,
    "start_time": "2022-06-23T20:53:11.356Z"
   },
   {
    "duration": 18,
    "start_time": "2022-06-23T20:53:11.369Z"
   },
   {
    "duration": 309,
    "start_time": "2022-06-23T20:53:11.388Z"
   },
   {
    "duration": 9,
    "start_time": "2022-06-23T20:53:11.698Z"
   },
   {
    "duration": 17,
    "start_time": "2022-06-23T20:53:11.709Z"
   },
   {
    "duration": 448,
    "start_time": "2022-06-23T20:53:11.736Z"
   },
   {
    "duration": 10,
    "start_time": "2022-06-23T20:53:12.186Z"
   },
   {
    "duration": 10,
    "start_time": "2022-06-23T20:53:12.197Z"
   },
   {
    "duration": 305,
    "start_time": "2022-06-23T20:53:12.208Z"
   },
   {
    "duration": 355,
    "start_time": "2022-06-23T20:53:12.515Z"
   },
   {
    "duration": 12,
    "start_time": "2022-06-23T20:53:12.872Z"
   },
   {
    "duration": 249,
    "start_time": "2022-06-23T20:53:12.885Z"
   },
   {
    "duration": 11,
    "start_time": "2022-06-23T20:53:13.136Z"
   },
   {
    "duration": 18,
    "start_time": "2022-06-23T20:53:13.148Z"
   },
   {
    "duration": 14,
    "start_time": "2022-06-23T20:53:13.167Z"
   },
   {
    "duration": 15,
    "start_time": "2022-06-23T20:53:13.182Z"
   },
   {
    "duration": 12,
    "start_time": "2022-06-23T20:53:13.198Z"
   },
   {
    "duration": 23,
    "start_time": "2022-06-23T20:53:13.212Z"
   },
   {
    "duration": 129,
    "start_time": "2022-06-23T20:53:13.237Z"
   },
   {
    "duration": 141,
    "start_time": "2022-06-23T20:53:13.368Z"
   },
   {
    "duration": 133,
    "start_time": "2022-06-23T20:53:13.511Z"
   },
   {
    "duration": 8,
    "start_time": "2022-06-23T20:53:13.646Z"
   },
   {
    "duration": 9,
    "start_time": "2022-06-23T20:53:13.656Z"
   },
   {
    "duration": 12,
    "start_time": "2022-06-23T20:53:13.666Z"
   },
   {
    "duration": 8,
    "start_time": "2022-06-23T20:53:13.680Z"
   },
   {
    "duration": 1203,
    "start_time": "2022-06-23T20:54:38.257Z"
   },
   {
    "duration": 73,
    "start_time": "2022-06-23T20:54:39.462Z"
   },
   {
    "duration": 15,
    "start_time": "2022-06-23T20:54:39.538Z"
   },
   {
    "duration": 5,
    "start_time": "2022-06-23T20:54:39.556Z"
   },
   {
    "duration": 9,
    "start_time": "2022-06-23T20:54:39.563Z"
   },
   {
    "duration": 5,
    "start_time": "2022-06-23T20:54:39.573Z"
   },
   {
    "duration": 10,
    "start_time": "2022-06-23T20:54:39.579Z"
   },
   {
    "duration": 49,
    "start_time": "2022-06-23T20:54:39.590Z"
   },
   {
    "duration": 6,
    "start_time": "2022-06-23T20:54:39.640Z"
   },
   {
    "duration": 5,
    "start_time": "2022-06-23T20:54:39.648Z"
   },
   {
    "duration": 7,
    "start_time": "2022-06-23T20:54:39.655Z"
   },
   {
    "duration": 4,
    "start_time": "2022-06-23T20:54:39.663Z"
   },
   {
    "duration": 7,
    "start_time": "2022-06-23T20:54:39.669Z"
   },
   {
    "duration": 7,
    "start_time": "2022-06-23T20:54:39.677Z"
   },
   {
    "duration": 102,
    "start_time": "2022-06-23T20:54:39.686Z"
   },
   {
    "duration": 376,
    "start_time": "2022-06-23T20:54:39.790Z"
   },
   {
    "duration": 12,
    "start_time": "2022-06-23T20:54:40.168Z"
   },
   {
    "duration": 165,
    "start_time": "2022-06-23T20:54:40.182Z"
   },
   {
    "duration": 148,
    "start_time": "2022-06-23T20:54:40.349Z"
   },
   {
    "duration": 171,
    "start_time": "2022-06-23T20:54:40.499Z"
   },
   {
    "duration": 149,
    "start_time": "2022-06-23T20:54:40.672Z"
   },
   {
    "duration": 139,
    "start_time": "2022-06-23T20:54:40.835Z"
   },
   {
    "duration": 145,
    "start_time": "2022-06-23T20:54:40.976Z"
   },
   {
    "duration": 150,
    "start_time": "2022-06-23T20:54:41.122Z"
   },
   {
    "duration": 242,
    "start_time": "2022-06-23T20:54:41.274Z"
   },
   {
    "duration": 196,
    "start_time": "2022-06-23T20:54:41.518Z"
   },
   {
    "duration": 155,
    "start_time": "2022-06-23T20:54:41.716Z"
   },
   {
    "duration": 176,
    "start_time": "2022-06-23T20:54:41.875Z"
   },
   {
    "duration": 168,
    "start_time": "2022-06-23T20:54:42.053Z"
   },
   {
    "duration": 153,
    "start_time": "2022-06-23T20:54:42.222Z"
   },
   {
    "duration": 168,
    "start_time": "2022-06-23T20:54:42.377Z"
   },
   {
    "duration": 7,
    "start_time": "2022-06-23T20:54:42.547Z"
   },
   {
    "duration": 17,
    "start_time": "2022-06-23T20:54:42.556Z"
   },
   {
    "duration": 304,
    "start_time": "2022-06-23T20:54:42.575Z"
   },
   {
    "duration": 278,
    "start_time": "2022-06-23T20:54:42.880Z"
   },
   {
    "duration": 258,
    "start_time": "2022-06-23T20:54:43.160Z"
   },
   {
    "duration": 158,
    "start_time": "2022-06-23T20:54:43.419Z"
   },
   {
    "duration": 8,
    "start_time": "2022-06-23T20:54:43.579Z"
   },
   {
    "duration": 25,
    "start_time": "2022-06-23T20:54:43.588Z"
   },
   {
    "duration": 292,
    "start_time": "2022-06-23T20:54:43.614Z"
   },
   {
    "duration": 10,
    "start_time": "2022-06-23T20:54:43.907Z"
   },
   {
    "duration": 38,
    "start_time": "2022-06-23T20:54:43.919Z"
   },
   {
    "duration": 307,
    "start_time": "2022-06-23T20:54:43.959Z"
   },
   {
    "duration": 11,
    "start_time": "2022-06-23T20:54:44.269Z"
   },
   {
    "duration": 12,
    "start_time": "2022-06-23T20:54:44.281Z"
   },
   {
    "duration": 278,
    "start_time": "2022-06-23T20:54:44.295Z"
   },
   {
    "duration": 301,
    "start_time": "2022-06-23T20:54:44.575Z"
   },
   {
    "duration": 12,
    "start_time": "2022-06-23T20:54:44.877Z"
   },
   {
    "duration": 8,
    "start_time": "2022-06-23T20:54:44.891Z"
   },
   {
    "duration": 103,
    "start_time": "2022-06-23T20:54:44.900Z"
   },
   {
    "duration": 20,
    "start_time": "2022-06-23T20:54:45.005Z"
   },
   {
    "duration": 19,
    "start_time": "2022-06-23T20:54:45.027Z"
   },
   {
    "duration": 13,
    "start_time": "2022-06-23T20:54:45.047Z"
   },
   {
    "duration": 11,
    "start_time": "2022-06-23T20:54:45.061Z"
   },
   {
    "duration": 10,
    "start_time": "2022-06-23T20:54:45.074Z"
   },
   {
    "duration": 42,
    "start_time": "2022-06-23T20:54:45.086Z"
   },
   {
    "duration": 129,
    "start_time": "2022-06-23T20:54:45.130Z"
   },
   {
    "duration": 160,
    "start_time": "2022-06-23T20:54:45.262Z"
   },
   {
    "duration": 148,
    "start_time": "2022-06-23T20:54:45.424Z"
   },
   {
    "duration": 8,
    "start_time": "2022-06-23T20:54:45.574Z"
   },
   {
    "duration": 6,
    "start_time": "2022-06-23T20:54:45.584Z"
   },
   {
    "duration": 9,
    "start_time": "2022-06-23T20:54:45.591Z"
   },
   {
    "duration": 29,
    "start_time": "2022-06-23T20:54:45.602Z"
   },
   {
    "duration": 1093,
    "start_time": "2022-06-23T20:55:03.160Z"
   },
   {
    "duration": 64,
    "start_time": "2022-06-23T20:55:04.255Z"
   },
   {
    "duration": 23,
    "start_time": "2022-06-23T20:55:04.321Z"
   },
   {
    "duration": 8,
    "start_time": "2022-06-23T20:55:04.346Z"
   },
   {
    "duration": 12,
    "start_time": "2022-06-23T20:55:04.355Z"
   },
   {
    "duration": 4,
    "start_time": "2022-06-23T20:55:04.369Z"
   },
   {
    "duration": 9,
    "start_time": "2022-06-23T20:55:04.375Z"
   },
   {
    "duration": 7,
    "start_time": "2022-06-23T20:55:04.386Z"
   },
   {
    "duration": 7,
    "start_time": "2022-06-23T20:55:04.395Z"
   },
   {
    "duration": 26,
    "start_time": "2022-06-23T20:55:04.404Z"
   },
   {
    "duration": 11,
    "start_time": "2022-06-23T20:55:04.432Z"
   },
   {
    "duration": 4,
    "start_time": "2022-06-23T20:55:04.445Z"
   },
   {
    "duration": 7,
    "start_time": "2022-06-23T20:55:04.450Z"
   },
   {
    "duration": 5,
    "start_time": "2022-06-23T20:55:04.458Z"
   },
   {
    "duration": 84,
    "start_time": "2022-06-23T20:55:04.465Z"
   },
   {
    "duration": 352,
    "start_time": "2022-06-23T20:55:04.550Z"
   },
   {
    "duration": 32,
    "start_time": "2022-06-23T20:55:04.904Z"
   },
   {
    "duration": 140,
    "start_time": "2022-06-23T20:55:04.937Z"
   },
   {
    "duration": 142,
    "start_time": "2022-06-23T20:55:05.079Z"
   },
   {
    "duration": 165,
    "start_time": "2022-06-23T20:55:05.236Z"
   },
   {
    "duration": 160,
    "start_time": "2022-06-23T20:55:05.403Z"
   },
   {
    "duration": 158,
    "start_time": "2022-06-23T20:55:05.565Z"
   },
   {
    "duration": 152,
    "start_time": "2022-06-23T20:55:05.730Z"
   },
   {
    "duration": 156,
    "start_time": "2022-06-23T20:55:05.884Z"
   },
   {
    "duration": 242,
    "start_time": "2022-06-23T20:55:06.042Z"
   },
   {
    "duration": 166,
    "start_time": "2022-06-23T20:55:06.286Z"
   },
   {
    "duration": 148,
    "start_time": "2022-06-23T20:55:06.453Z"
   },
   {
    "duration": 185,
    "start_time": "2022-06-23T20:55:06.606Z"
   },
   {
    "duration": 162,
    "start_time": "2022-06-23T20:55:06.792Z"
   },
   {
    "duration": 146,
    "start_time": "2022-06-23T20:55:06.956Z"
   },
   {
    "duration": 149,
    "start_time": "2022-06-23T20:55:07.104Z"
   },
   {
    "duration": 7,
    "start_time": "2022-06-23T20:55:07.255Z"
   },
   {
    "duration": 11,
    "start_time": "2022-06-23T20:55:07.264Z"
   },
   {
    "duration": 269,
    "start_time": "2022-06-23T20:55:07.277Z"
   },
   {
    "duration": 256,
    "start_time": "2022-06-23T20:55:07.548Z"
   },
   {
    "duration": 258,
    "start_time": "2022-06-23T20:55:07.806Z"
   },
   {
    "duration": 145,
    "start_time": "2022-06-23T20:55:08.066Z"
   },
   {
    "duration": 24,
    "start_time": "2022-06-23T20:55:08.213Z"
   },
   {
    "duration": 12,
    "start_time": "2022-06-23T20:55:08.238Z"
   },
   {
    "duration": 256,
    "start_time": "2022-06-23T20:55:08.252Z"
   },
   {
    "duration": 29,
    "start_time": "2022-06-23T20:55:08.510Z"
   },
   {
    "duration": 11,
    "start_time": "2022-06-23T20:55:08.541Z"
   },
   {
    "duration": 280,
    "start_time": "2022-06-23T20:55:08.554Z"
   },
   {
    "duration": 12,
    "start_time": "2022-06-23T20:55:08.836Z"
   },
   {
    "duration": 10,
    "start_time": "2022-06-23T20:55:08.850Z"
   },
   {
    "duration": 314,
    "start_time": "2022-06-23T20:55:08.862Z"
   },
   {
    "duration": 307,
    "start_time": "2022-06-23T20:55:09.178Z"
   },
   {
    "duration": 11,
    "start_time": "2022-06-23T20:55:09.487Z"
   },
   {
    "duration": 116,
    "start_time": "2022-06-23T20:55:09.500Z"
   },
   {
    "duration": 0,
    "start_time": "2022-06-23T20:55:09.622Z"
   },
   {
    "duration": 0,
    "start_time": "2022-06-23T20:55:09.623Z"
   },
   {
    "duration": 0,
    "start_time": "2022-06-23T20:55:09.624Z"
   },
   {
    "duration": 0,
    "start_time": "2022-06-23T20:55:09.630Z"
   },
   {
    "duration": 0,
    "start_time": "2022-06-23T20:55:09.630Z"
   },
   {
    "duration": 0,
    "start_time": "2022-06-23T20:55:09.631Z"
   },
   {
    "duration": 0,
    "start_time": "2022-06-23T20:55:09.634Z"
   },
   {
    "duration": 0,
    "start_time": "2022-06-23T20:55:09.636Z"
   },
   {
    "duration": 0,
    "start_time": "2022-06-23T20:55:09.637Z"
   },
   {
    "duration": 0,
    "start_time": "2022-06-23T20:55:09.638Z"
   },
   {
    "duration": 0,
    "start_time": "2022-06-23T20:55:09.640Z"
   },
   {
    "duration": 0,
    "start_time": "2022-06-23T20:55:09.641Z"
   },
   {
    "duration": 0,
    "start_time": "2022-06-23T20:55:09.642Z"
   },
   {
    "duration": 0,
    "start_time": "2022-06-23T20:55:09.644Z"
   },
   {
    "duration": 4,
    "start_time": "2022-06-23T20:55:53.430Z"
   },
   {
    "duration": 18,
    "start_time": "2022-06-23T20:56:09.337Z"
   },
   {
    "duration": 20,
    "start_time": "2022-06-23T20:56:27.741Z"
   },
   {
    "duration": 11,
    "start_time": "2022-06-23T20:57:15.239Z"
   },
   {
    "duration": 1100,
    "start_time": "2022-06-23T20:58:23.256Z"
   },
   {
    "duration": 79,
    "start_time": "2022-06-23T20:58:24.358Z"
   },
   {
    "duration": 14,
    "start_time": "2022-06-23T20:58:24.439Z"
   },
   {
    "duration": 7,
    "start_time": "2022-06-23T20:58:24.455Z"
   },
   {
    "duration": 12,
    "start_time": "2022-06-23T20:58:24.464Z"
   },
   {
    "duration": 4,
    "start_time": "2022-06-23T20:58:24.478Z"
   },
   {
    "duration": 24,
    "start_time": "2022-06-23T20:58:24.483Z"
   },
   {
    "duration": 8,
    "start_time": "2022-06-23T20:58:24.509Z"
   },
   {
    "duration": 28,
    "start_time": "2022-06-23T20:58:24.518Z"
   },
   {
    "duration": 14,
    "start_time": "2022-06-23T20:58:24.548Z"
   },
   {
    "duration": 10,
    "start_time": "2022-06-23T20:58:24.564Z"
   },
   {
    "duration": 10,
    "start_time": "2022-06-23T20:58:24.576Z"
   },
   {
    "duration": 12,
    "start_time": "2022-06-23T20:58:24.588Z"
   },
   {
    "duration": 37,
    "start_time": "2022-06-23T20:58:24.601Z"
   },
   {
    "duration": 76,
    "start_time": "2022-06-23T20:58:24.640Z"
   },
   {
    "duration": 334,
    "start_time": "2022-06-23T20:58:24.717Z"
   },
   {
    "duration": 15,
    "start_time": "2022-06-23T20:58:25.053Z"
   },
   {
    "duration": 159,
    "start_time": "2022-06-23T20:58:25.070Z"
   },
   {
    "duration": 141,
    "start_time": "2022-06-23T20:58:25.230Z"
   },
   {
    "duration": 155,
    "start_time": "2022-06-23T20:58:25.372Z"
   },
   {
    "duration": 154,
    "start_time": "2022-06-23T20:58:25.534Z"
   },
   {
    "duration": 156,
    "start_time": "2022-06-23T20:58:25.690Z"
   },
   {
    "duration": 163,
    "start_time": "2022-06-23T20:58:25.848Z"
   },
   {
    "duration": 147,
    "start_time": "2022-06-23T20:58:26.013Z"
   },
   {
    "duration": 230,
    "start_time": "2022-06-23T20:58:26.161Z"
   },
   {
    "duration": 156,
    "start_time": "2022-06-23T20:58:26.393Z"
   },
   {
    "duration": 147,
    "start_time": "2022-06-23T20:58:26.551Z"
   },
   {
    "duration": 163,
    "start_time": "2022-06-23T20:58:26.702Z"
   },
   {
    "duration": 152,
    "start_time": "2022-06-23T20:58:26.867Z"
   },
   {
    "duration": 136,
    "start_time": "2022-06-23T20:58:27.030Z"
   },
   {
    "duration": 148,
    "start_time": "2022-06-23T20:58:27.168Z"
   },
   {
    "duration": 17,
    "start_time": "2022-06-23T20:58:27.318Z"
   },
   {
    "duration": 15,
    "start_time": "2022-06-23T20:58:27.336Z"
   },
   {
    "duration": 242,
    "start_time": "2022-06-23T20:58:27.352Z"
   },
   {
    "duration": 262,
    "start_time": "2022-06-23T20:58:27.596Z"
   },
   {
    "duration": 246,
    "start_time": "2022-06-23T20:58:27.859Z"
   },
   {
    "duration": 178,
    "start_time": "2022-06-23T20:58:28.107Z"
   },
   {
    "duration": 10,
    "start_time": "2022-06-23T20:58:28.288Z"
   },
   {
    "duration": 30,
    "start_time": "2022-06-23T20:58:28.300Z"
   },
   {
    "duration": 274,
    "start_time": "2022-06-23T20:58:28.331Z"
   },
   {
    "duration": 19,
    "start_time": "2022-06-23T20:58:28.607Z"
   },
   {
    "duration": 20,
    "start_time": "2022-06-23T20:58:28.631Z"
   },
   {
    "duration": 276,
    "start_time": "2022-06-23T20:58:28.652Z"
   },
   {
    "duration": 14,
    "start_time": "2022-06-23T20:58:28.932Z"
   },
   {
    "duration": 13,
    "start_time": "2022-06-23T20:58:28.947Z"
   },
   {
    "duration": 304,
    "start_time": "2022-06-23T20:58:28.962Z"
   },
   {
    "duration": 283,
    "start_time": "2022-06-23T20:58:29.268Z"
   },
   {
    "duration": 11,
    "start_time": "2022-06-23T20:58:29.553Z"
   },
   {
    "duration": 6,
    "start_time": "2022-06-23T20:58:29.566Z"
   },
   {
    "duration": 115,
    "start_time": "2022-06-23T20:58:29.574Z"
   },
   {
    "duration": 0,
    "start_time": "2022-06-23T20:58:29.691Z"
   },
   {
    "duration": 0,
    "start_time": "2022-06-23T20:58:29.692Z"
   },
   {
    "duration": 0,
    "start_time": "2022-06-23T20:58:29.693Z"
   },
   {
    "duration": 0,
    "start_time": "2022-06-23T20:58:29.694Z"
   },
   {
    "duration": 0,
    "start_time": "2022-06-23T20:58:29.695Z"
   },
   {
    "duration": 0,
    "start_time": "2022-06-23T20:58:29.696Z"
   },
   {
    "duration": 0,
    "start_time": "2022-06-23T20:58:29.697Z"
   },
   {
    "duration": 0,
    "start_time": "2022-06-23T20:58:29.699Z"
   },
   {
    "duration": 0,
    "start_time": "2022-06-23T20:58:29.700Z"
   },
   {
    "duration": 0,
    "start_time": "2022-06-23T20:58:29.701Z"
   },
   {
    "duration": 0,
    "start_time": "2022-06-23T20:58:29.701Z"
   },
   {
    "duration": 0,
    "start_time": "2022-06-23T20:58:29.702Z"
   },
   {
    "duration": 0,
    "start_time": "2022-06-23T20:58:29.703Z"
   },
   {
    "duration": 0,
    "start_time": "2022-06-23T20:58:29.704Z"
   },
   {
    "duration": 0,
    "start_time": "2022-06-23T20:58:29.705Z"
   },
   {
    "duration": 12,
    "start_time": "2022-06-23T20:58:36.636Z"
   },
   {
    "duration": 22,
    "start_time": "2022-06-23T20:58:58.218Z"
   },
   {
    "duration": 12,
    "start_time": "2022-06-23T20:59:28.060Z"
   },
   {
    "duration": 1199,
    "start_time": "2022-06-23T21:00:05.011Z"
   },
   {
    "duration": 79,
    "start_time": "2022-06-23T21:00:06.212Z"
   },
   {
    "duration": 14,
    "start_time": "2022-06-23T21:00:06.292Z"
   },
   {
    "duration": 6,
    "start_time": "2022-06-23T21:00:06.308Z"
   },
   {
    "duration": 28,
    "start_time": "2022-06-23T21:00:06.316Z"
   },
   {
    "duration": 10,
    "start_time": "2022-06-23T21:00:06.345Z"
   },
   {
    "duration": 21,
    "start_time": "2022-06-23T21:00:06.356Z"
   },
   {
    "duration": 25,
    "start_time": "2022-06-23T21:00:06.378Z"
   },
   {
    "duration": 25,
    "start_time": "2022-06-23T21:00:06.405Z"
   },
   {
    "duration": 18,
    "start_time": "2022-06-23T21:00:06.435Z"
   },
   {
    "duration": 12,
    "start_time": "2022-06-23T21:00:06.454Z"
   },
   {
    "duration": 21,
    "start_time": "2022-06-23T21:00:06.468Z"
   },
   {
    "duration": 26,
    "start_time": "2022-06-23T21:00:06.491Z"
   },
   {
    "duration": 36,
    "start_time": "2022-06-23T21:00:06.518Z"
   },
   {
    "duration": 84,
    "start_time": "2022-06-23T21:00:06.556Z"
   },
   {
    "duration": 347,
    "start_time": "2022-06-23T21:00:06.642Z"
   },
   {
    "duration": 14,
    "start_time": "2022-06-23T21:00:06.991Z"
   },
   {
    "duration": 158,
    "start_time": "2022-06-23T21:00:07.006Z"
   },
   {
    "duration": 143,
    "start_time": "2022-06-23T21:00:07.166Z"
   },
   {
    "duration": 171,
    "start_time": "2022-06-23T21:00:07.311Z"
   },
   {
    "duration": 157,
    "start_time": "2022-06-23T21:00:07.484Z"
   },
   {
    "duration": 147,
    "start_time": "2022-06-23T21:00:07.643Z"
   },
   {
    "duration": 159,
    "start_time": "2022-06-23T21:00:07.792Z"
   },
   {
    "duration": 155,
    "start_time": "2022-06-23T21:00:07.953Z"
   },
   {
    "duration": 235,
    "start_time": "2022-06-23T21:00:08.110Z"
   },
   {
    "duration": 163,
    "start_time": "2022-06-23T21:00:08.346Z"
   },
   {
    "duration": 154,
    "start_time": "2022-06-23T21:00:08.510Z"
   },
   {
    "duration": 172,
    "start_time": "2022-06-23T21:00:08.668Z"
   },
   {
    "duration": 174,
    "start_time": "2022-06-23T21:00:08.842Z"
   },
   {
    "duration": 145,
    "start_time": "2022-06-23T21:00:09.018Z"
   },
   {
    "duration": 174,
    "start_time": "2022-06-23T21:00:09.164Z"
   },
   {
    "duration": 7,
    "start_time": "2022-06-23T21:00:09.340Z"
   },
   {
    "duration": 15,
    "start_time": "2022-06-23T21:00:09.348Z"
   },
   {
    "duration": 228,
    "start_time": "2022-06-23T21:00:09.365Z"
   },
   {
    "duration": 257,
    "start_time": "2022-06-23T21:00:09.595Z"
   },
   {
    "duration": 251,
    "start_time": "2022-06-23T21:00:09.854Z"
   },
   {
    "duration": 148,
    "start_time": "2022-06-23T21:00:10.106Z"
   },
   {
    "duration": 10,
    "start_time": "2022-06-23T21:00:10.255Z"
   },
   {
    "duration": 8,
    "start_time": "2022-06-23T21:00:10.266Z"
   },
   {
    "duration": 286,
    "start_time": "2022-06-23T21:00:10.276Z"
   },
   {
    "duration": 9,
    "start_time": "2022-06-23T21:00:10.564Z"
   },
   {
    "duration": 14,
    "start_time": "2022-06-23T21:00:10.574Z"
   },
   {
    "duration": 286,
    "start_time": "2022-06-23T21:00:10.589Z"
   },
   {
    "duration": 10,
    "start_time": "2022-06-23T21:00:10.877Z"
   },
   {
    "duration": 14,
    "start_time": "2022-06-23T21:00:10.888Z"
   },
   {
    "duration": 280,
    "start_time": "2022-06-23T21:00:10.903Z"
   },
   {
    "duration": 297,
    "start_time": "2022-06-23T21:00:11.184Z"
   },
   {
    "duration": 14,
    "start_time": "2022-06-23T21:00:11.483Z"
   },
   {
    "duration": 13,
    "start_time": "2022-06-23T21:00:11.499Z"
   },
   {
    "duration": 16,
    "start_time": "2022-06-23T21:00:11.524Z"
   },
   {
    "duration": 11,
    "start_time": "2022-06-23T21:00:11.542Z"
   },
   {
    "duration": 16,
    "start_time": "2022-06-23T21:00:11.554Z"
   },
   {
    "duration": 101,
    "start_time": "2022-06-23T21:00:11.571Z"
   },
   {
    "duration": 9,
    "start_time": "2022-06-23T21:00:11.674Z"
   },
   {
    "duration": 10,
    "start_time": "2022-06-23T21:00:11.686Z"
   },
   {
    "duration": 42,
    "start_time": "2022-06-23T21:00:11.698Z"
   },
   {
    "duration": 10,
    "start_time": "2022-06-23T21:00:11.742Z"
   },
   {
    "duration": 13,
    "start_time": "2022-06-23T21:00:11.754Z"
   },
   {
    "duration": 14,
    "start_time": "2022-06-23T21:00:11.769Z"
   },
   {
    "duration": 127,
    "start_time": "2022-06-23T21:00:11.785Z"
   },
   {
    "duration": 161,
    "start_time": "2022-06-23T21:00:11.914Z"
   },
   {
    "duration": 134,
    "start_time": "2022-06-23T21:00:12.077Z"
   },
   {
    "duration": 23,
    "start_time": "2022-06-23T21:00:12.213Z"
   },
   {
    "duration": 7,
    "start_time": "2022-06-23T21:00:12.238Z"
   },
   {
    "duration": 10,
    "start_time": "2022-06-23T21:00:12.247Z"
   },
   {
    "duration": 11,
    "start_time": "2022-06-23T21:00:12.259Z"
   },
   {
    "duration": 1123,
    "start_time": "2022-06-23T21:00:56.239Z"
   },
   {
    "duration": 75,
    "start_time": "2022-06-23T21:00:57.364Z"
   },
   {
    "duration": 14,
    "start_time": "2022-06-23T21:00:57.441Z"
   },
   {
    "duration": 4,
    "start_time": "2022-06-23T21:00:57.457Z"
   },
   {
    "duration": 10,
    "start_time": "2022-06-23T21:00:57.462Z"
   },
   {
    "duration": 4,
    "start_time": "2022-06-23T21:00:57.474Z"
   },
   {
    "duration": 10,
    "start_time": "2022-06-23T21:00:57.479Z"
   },
   {
    "duration": 7,
    "start_time": "2022-06-23T21:00:57.490Z"
   },
   {
    "duration": 36,
    "start_time": "2022-06-23T21:00:57.499Z"
   },
   {
    "duration": 6,
    "start_time": "2022-06-23T21:00:57.538Z"
   },
   {
    "duration": 8,
    "start_time": "2022-06-23T21:00:57.545Z"
   },
   {
    "duration": 5,
    "start_time": "2022-06-23T21:00:57.554Z"
   },
   {
    "duration": 7,
    "start_time": "2022-06-23T21:00:57.560Z"
   },
   {
    "duration": 6,
    "start_time": "2022-06-23T21:00:57.568Z"
   },
   {
    "duration": 94,
    "start_time": "2022-06-23T21:00:57.575Z"
   },
   {
    "duration": 335,
    "start_time": "2022-06-23T21:00:57.670Z"
   },
   {
    "duration": 29,
    "start_time": "2022-06-23T21:00:58.007Z"
   },
   {
    "duration": 140,
    "start_time": "2022-06-23T21:00:58.038Z"
   },
   {
    "duration": 157,
    "start_time": "2022-06-23T21:00:58.180Z"
   },
   {
    "duration": 152,
    "start_time": "2022-06-23T21:00:58.339Z"
   },
   {
    "duration": 154,
    "start_time": "2022-06-23T21:00:58.493Z"
   },
   {
    "duration": 146,
    "start_time": "2022-06-23T21:00:58.648Z"
   },
   {
    "duration": 147,
    "start_time": "2022-06-23T21:00:58.796Z"
   },
   {
    "duration": 140,
    "start_time": "2022-06-23T21:00:58.945Z"
   },
   {
    "duration": 236,
    "start_time": "2022-06-23T21:00:59.087Z"
   },
   {
    "duration": 153,
    "start_time": "2022-06-23T21:00:59.334Z"
   },
   {
    "duration": 149,
    "start_time": "2022-06-23T21:00:59.489Z"
   },
   {
    "duration": 173,
    "start_time": "2022-06-23T21:00:59.641Z"
   },
   {
    "duration": 166,
    "start_time": "2022-06-23T21:00:59.815Z"
   },
   {
    "duration": 158,
    "start_time": "2022-06-23T21:00:59.983Z"
   },
   {
    "duration": 146,
    "start_time": "2022-06-23T21:01:00.143Z"
   },
   {
    "duration": 7,
    "start_time": "2022-06-23T21:01:00.291Z"
   },
   {
    "duration": 27,
    "start_time": "2022-06-23T21:01:00.300Z"
   },
   {
    "duration": 237,
    "start_time": "2022-06-23T21:01:00.328Z"
   },
   {
    "duration": 269,
    "start_time": "2022-06-23T21:01:00.567Z"
   },
   {
    "duration": 232,
    "start_time": "2022-06-23T21:01:00.839Z"
   },
   {
    "duration": 168,
    "start_time": "2022-06-23T21:01:01.073Z"
   },
   {
    "duration": 10,
    "start_time": "2022-06-23T21:01:01.243Z"
   },
   {
    "duration": 21,
    "start_time": "2022-06-23T21:01:01.254Z"
   },
   {
    "duration": 279,
    "start_time": "2022-06-23T21:01:01.277Z"
   },
   {
    "duration": 10,
    "start_time": "2022-06-23T21:01:01.558Z"
   },
   {
    "duration": 12,
    "start_time": "2022-06-23T21:01:01.569Z"
   },
   {
    "duration": 296,
    "start_time": "2022-06-23T21:01:01.583Z"
   },
   {
    "duration": 10,
    "start_time": "2022-06-23T21:01:01.880Z"
   },
   {
    "duration": 21,
    "start_time": "2022-06-23T21:01:01.892Z"
   },
   {
    "duration": 293,
    "start_time": "2022-06-23T21:01:01.915Z"
   },
   {
    "duration": 287,
    "start_time": "2022-06-23T21:01:02.210Z"
   },
   {
    "duration": 12,
    "start_time": "2022-06-23T21:01:02.499Z"
   },
   {
    "duration": 13,
    "start_time": "2022-06-23T21:01:02.512Z"
   },
   {
    "duration": 33,
    "start_time": "2022-06-23T21:01:02.528Z"
   },
   {
    "duration": 10,
    "start_time": "2022-06-23T21:01:02.563Z"
   },
   {
    "duration": 17,
    "start_time": "2022-06-23T21:01:02.575Z"
   },
   {
    "duration": 132,
    "start_time": "2022-06-23T21:01:02.594Z"
   },
   {
    "duration": 16,
    "start_time": "2022-06-23T21:01:02.729Z"
   },
   {
    "duration": 24,
    "start_time": "2022-06-23T21:01:02.747Z"
   },
   {
    "duration": 20,
    "start_time": "2022-06-23T21:01:02.773Z"
   },
   {
    "duration": 17,
    "start_time": "2022-06-23T21:01:02.795Z"
   },
   {
    "duration": 22,
    "start_time": "2022-06-23T21:01:02.814Z"
   },
   {
    "duration": 14,
    "start_time": "2022-06-23T21:01:02.838Z"
   },
   {
    "duration": 116,
    "start_time": "2022-06-23T21:01:02.854Z"
   },
   {
    "duration": 165,
    "start_time": "2022-06-23T21:01:02.972Z"
   },
   {
    "duration": 139,
    "start_time": "2022-06-23T21:01:03.140Z"
   },
   {
    "duration": 9,
    "start_time": "2022-06-23T21:01:03.280Z"
   },
   {
    "duration": 6,
    "start_time": "2022-06-23T21:01:03.291Z"
   },
   {
    "duration": 35,
    "start_time": "2022-06-23T21:01:03.298Z"
   },
   {
    "duration": 11,
    "start_time": "2022-06-23T21:01:03.335Z"
   },
   {
    "duration": 1252,
    "start_time": "2022-06-23T21:01:40.891Z"
   },
   {
    "duration": 66,
    "start_time": "2022-06-23T21:01:42.145Z"
   },
   {
    "duration": 24,
    "start_time": "2022-06-23T21:01:42.212Z"
   },
   {
    "duration": 21,
    "start_time": "2022-06-23T21:01:42.239Z"
   },
   {
    "duration": 21,
    "start_time": "2022-06-23T21:01:42.261Z"
   },
   {
    "duration": 20,
    "start_time": "2022-06-23T21:01:42.284Z"
   },
   {
    "duration": 32,
    "start_time": "2022-06-23T21:01:42.306Z"
   },
   {
    "duration": 15,
    "start_time": "2022-06-23T21:01:42.340Z"
   },
   {
    "duration": 15,
    "start_time": "2022-06-23T21:01:42.357Z"
   },
   {
    "duration": 29,
    "start_time": "2022-06-23T21:01:42.375Z"
   },
   {
    "duration": 33,
    "start_time": "2022-06-23T21:01:42.406Z"
   },
   {
    "duration": 23,
    "start_time": "2022-06-23T21:01:42.440Z"
   },
   {
    "duration": 24,
    "start_time": "2022-06-23T21:01:42.464Z"
   },
   {
    "duration": 12,
    "start_time": "2022-06-23T21:01:42.490Z"
   },
   {
    "duration": 113,
    "start_time": "2022-06-23T21:01:42.504Z"
   },
   {
    "duration": 417,
    "start_time": "2022-06-23T21:01:42.619Z"
   },
   {
    "duration": 14,
    "start_time": "2022-06-23T21:01:43.038Z"
   },
   {
    "duration": 153,
    "start_time": "2022-06-23T21:01:43.054Z"
   },
   {
    "duration": 150,
    "start_time": "2022-06-23T21:01:43.208Z"
   },
   {
    "duration": 158,
    "start_time": "2022-06-23T21:01:43.359Z"
   },
   {
    "duration": 153,
    "start_time": "2022-06-23T21:01:43.519Z"
   },
   {
    "duration": 147,
    "start_time": "2022-06-23T21:01:43.674Z"
   },
   {
    "duration": 170,
    "start_time": "2022-06-23T21:01:43.823Z"
   },
   {
    "duration": 146,
    "start_time": "2022-06-23T21:01:43.995Z"
   },
   {
    "duration": 246,
    "start_time": "2022-06-23T21:01:44.143Z"
   },
   {
    "duration": 163,
    "start_time": "2022-06-23T21:01:44.391Z"
   },
   {
    "duration": 149,
    "start_time": "2022-06-23T21:01:44.556Z"
   },
   {
    "duration": 175,
    "start_time": "2022-06-23T21:01:44.709Z"
   },
   {
    "duration": 175,
    "start_time": "2022-06-23T21:01:44.886Z"
   },
   {
    "duration": 140,
    "start_time": "2022-06-23T21:01:45.063Z"
   },
   {
    "duration": 157,
    "start_time": "2022-06-23T21:01:45.204Z"
   },
   {
    "duration": 6,
    "start_time": "2022-06-23T21:01:45.362Z"
   },
   {
    "duration": 19,
    "start_time": "2022-06-23T21:01:45.370Z"
   },
   {
    "duration": 262,
    "start_time": "2022-06-23T21:01:45.391Z"
   },
   {
    "duration": 256,
    "start_time": "2022-06-23T21:01:45.655Z"
   },
   {
    "duration": 250,
    "start_time": "2022-06-23T21:01:45.913Z"
   },
   {
    "duration": 147,
    "start_time": "2022-06-23T21:01:46.164Z"
   },
   {
    "duration": 25,
    "start_time": "2022-06-23T21:01:46.313Z"
   },
   {
    "duration": 12,
    "start_time": "2022-06-23T21:01:46.339Z"
   },
   {
    "duration": 290,
    "start_time": "2022-06-23T21:01:46.352Z"
   },
   {
    "duration": 10,
    "start_time": "2022-06-23T21:01:46.645Z"
   },
   {
    "duration": 10,
    "start_time": "2022-06-23T21:01:46.657Z"
   },
   {
    "duration": 300,
    "start_time": "2022-06-23T21:01:46.668Z"
   },
   {
    "duration": 9,
    "start_time": "2022-06-23T21:01:46.970Z"
   },
   {
    "duration": 16,
    "start_time": "2022-06-23T21:01:46.980Z"
   },
   {
    "duration": 290,
    "start_time": "2022-06-23T21:01:46.998Z"
   },
   {
    "duration": 279,
    "start_time": "2022-06-23T21:01:47.290Z"
   },
   {
    "duration": 11,
    "start_time": "2022-06-23T21:01:47.571Z"
   },
   {
    "duration": 106,
    "start_time": "2022-06-23T21:01:47.584Z"
   },
   {
    "duration": 10,
    "start_time": "2022-06-23T21:01:47.692Z"
   },
   {
    "duration": 29,
    "start_time": "2022-06-23T21:01:47.704Z"
   },
   {
    "duration": 10,
    "start_time": "2022-06-23T21:01:47.735Z"
   },
   {
    "duration": 14,
    "start_time": "2022-06-23T21:01:47.746Z"
   },
   {
    "duration": 15,
    "start_time": "2022-06-23T21:01:47.762Z"
   },
   {
    "duration": 11,
    "start_time": "2022-06-23T21:01:47.779Z"
   },
   {
    "duration": 146,
    "start_time": "2022-06-23T21:01:47.791Z"
   },
   {
    "duration": 150,
    "start_time": "2022-06-23T21:01:47.940Z"
   },
   {
    "duration": 131,
    "start_time": "2022-06-23T21:01:48.092Z"
   },
   {
    "duration": 11,
    "start_time": "2022-06-23T21:01:48.225Z"
   },
   {
    "duration": 15,
    "start_time": "2022-06-23T21:01:48.238Z"
   },
   {
    "duration": 10,
    "start_time": "2022-06-23T21:01:48.255Z"
   },
   {
    "duration": 8,
    "start_time": "2022-06-23T21:01:48.267Z"
   },
   {
    "duration": 98,
    "start_time": "2022-06-23T21:04:07.754Z"
   },
   {
    "duration": 980,
    "start_time": "2022-06-23T21:05:12.154Z"
   },
   {
    "duration": 14,
    "start_time": "2022-06-23T21:06:30.159Z"
   },
   {
    "duration": 198,
    "start_time": "2022-06-23T21:06:57.557Z"
   },
   {
    "duration": 257,
    "start_time": "2022-06-23T21:08:01.964Z"
   },
   {
    "duration": 1293,
    "start_time": "2022-06-24T12:15:09.000Z"
   },
   {
    "duration": 138,
    "start_time": "2022-06-24T12:15:10.296Z"
   },
   {
    "duration": 14,
    "start_time": "2022-06-24T12:15:10.436Z"
   },
   {
    "duration": 44,
    "start_time": "2022-06-24T12:15:10.452Z"
   },
   {
    "duration": 9,
    "start_time": "2022-06-24T12:15:10.498Z"
   },
   {
    "duration": 9,
    "start_time": "2022-06-24T12:15:10.509Z"
   },
   {
    "duration": 14,
    "start_time": "2022-06-24T12:15:10.520Z"
   },
   {
    "duration": 12,
    "start_time": "2022-06-24T12:15:10.535Z"
   },
   {
    "duration": 51,
    "start_time": "2022-06-24T12:15:10.548Z"
   },
   {
    "duration": 12,
    "start_time": "2022-06-24T12:15:10.601Z"
   },
   {
    "duration": 7,
    "start_time": "2022-06-24T12:15:10.615Z"
   },
   {
    "duration": 18,
    "start_time": "2022-06-24T12:15:10.623Z"
   },
   {
    "duration": 14,
    "start_time": "2022-06-24T12:15:10.642Z"
   },
   {
    "duration": 42,
    "start_time": "2022-06-24T12:15:10.659Z"
   },
   {
    "duration": 79,
    "start_time": "2022-06-24T12:15:10.703Z"
   },
   {
    "duration": 375,
    "start_time": "2022-06-24T12:15:10.791Z"
   },
   {
    "duration": 18,
    "start_time": "2022-06-24T12:15:11.171Z"
   },
   {
    "duration": 149,
    "start_time": "2022-06-24T12:15:11.191Z"
   },
   {
    "duration": 151,
    "start_time": "2022-06-24T12:15:11.341Z"
   },
   {
    "duration": 167,
    "start_time": "2022-06-24T12:15:11.493Z"
   },
   {
    "duration": 158,
    "start_time": "2022-06-24T12:15:11.662Z"
   },
   {
    "duration": 164,
    "start_time": "2022-06-24T12:15:11.822Z"
   },
   {
    "duration": 160,
    "start_time": "2022-06-24T12:15:11.988Z"
   },
   {
    "duration": 158,
    "start_time": "2022-06-24T12:15:12.149Z"
   },
   {
    "duration": 265,
    "start_time": "2022-06-24T12:15:12.309Z"
   },
   {
    "duration": 194,
    "start_time": "2022-06-24T12:15:12.581Z"
   },
   {
    "duration": 139,
    "start_time": "2022-06-24T12:15:12.779Z"
   },
   {
    "duration": 185,
    "start_time": "2022-06-24T12:15:12.922Z"
   },
   {
    "duration": 185,
    "start_time": "2022-06-24T12:15:13.109Z"
   },
   {
    "duration": 144,
    "start_time": "2022-06-24T12:15:13.298Z"
   },
   {
    "duration": 170,
    "start_time": "2022-06-24T12:15:13.444Z"
   },
   {
    "duration": 6,
    "start_time": "2022-06-24T12:15:13.615Z"
   },
   {
    "duration": 13,
    "start_time": "2022-06-24T12:15:13.623Z"
   },
   {
    "duration": 262,
    "start_time": "2022-06-24T12:15:13.638Z"
   },
   {
    "duration": 281,
    "start_time": "2022-06-24T12:15:13.903Z"
   },
   {
    "duration": 229,
    "start_time": "2022-06-24T12:15:14.190Z"
   },
   {
    "duration": 170,
    "start_time": "2022-06-24T12:15:14.421Z"
   },
   {
    "duration": 9,
    "start_time": "2022-06-24T12:15:14.594Z"
   },
   {
    "duration": 10,
    "start_time": "2022-06-24T12:15:14.605Z"
   },
   {
    "duration": 285,
    "start_time": "2022-06-24T12:15:14.617Z"
   },
   {
    "duration": 9,
    "start_time": "2022-06-24T12:15:14.904Z"
   },
   {
    "duration": 13,
    "start_time": "2022-06-24T12:15:14.914Z"
   },
   {
    "duration": 308,
    "start_time": "2022-06-24T12:15:14.929Z"
   },
   {
    "duration": 29,
    "start_time": "2022-06-24T12:15:15.239Z"
   },
   {
    "duration": 45,
    "start_time": "2022-06-24T12:15:15.269Z"
   },
   {
    "duration": 315,
    "start_time": "2022-06-24T12:15:15.317Z"
   },
   {
    "duration": 291,
    "start_time": "2022-06-24T12:15:15.634Z"
   },
   {
    "duration": 13,
    "start_time": "2022-06-24T12:15:15.926Z"
   },
   {
    "duration": 30,
    "start_time": "2022-06-24T12:15:15.940Z"
   },
   {
    "duration": 23,
    "start_time": "2022-06-24T12:15:15.981Z"
   },
   {
    "duration": 266,
    "start_time": "2022-06-24T12:15:16.006Z"
   },
   {
    "duration": 13,
    "start_time": "2022-06-24T12:15:16.273Z"
   },
   {
    "duration": 22,
    "start_time": "2022-06-24T12:15:16.287Z"
   },
   {
    "duration": 14,
    "start_time": "2022-06-24T12:15:16.310Z"
   },
   {
    "duration": 141,
    "start_time": "2022-06-24T12:15:16.326Z"
   },
   {
    "duration": 147,
    "start_time": "2022-06-24T12:15:16.469Z"
   },
   {
    "duration": 266,
    "start_time": "2022-06-24T12:15:16.617Z"
   },
   {
    "duration": 10,
    "start_time": "2022-06-24T12:15:16.885Z"
   },
   {
    "duration": 12,
    "start_time": "2022-06-24T12:15:16.897Z"
   },
   {
    "duration": 17,
    "start_time": "2022-06-24T12:15:16.911Z"
   },
   {
    "duration": 27,
    "start_time": "2022-06-24T12:15:16.929Z"
   },
   {
    "duration": 273,
    "start_time": "2022-06-24T12:16:16.609Z"
   },
   {
    "duration": 385,
    "start_time": "2022-06-24T12:22:27.247Z"
   },
   {
    "duration": 374,
    "start_time": "2022-06-24T12:22:36.808Z"
   },
   {
    "duration": 398,
    "start_time": "2022-06-24T12:23:14.321Z"
   },
   {
    "duration": 320,
    "start_time": "2022-06-24T12:23:29.104Z"
   },
   {
    "duration": 389,
    "start_time": "2022-06-24T12:29:19.020Z"
   },
   {
    "duration": 220,
    "start_time": "2022-06-24T12:29:57.388Z"
   },
   {
    "duration": 334,
    "start_time": "2022-06-24T12:34:21.893Z"
   },
   {
    "duration": 434,
    "start_time": "2022-06-24T12:34:48.899Z"
   },
   {
    "duration": 339,
    "start_time": "2022-06-24T12:41:45.592Z"
   },
   {
    "duration": 15,
    "start_time": "2022-06-24T12:47:27.224Z"
   },
   {
    "duration": 17,
    "start_time": "2022-06-24T12:47:38.252Z"
   },
   {
    "duration": 66,
    "start_time": "2022-06-24T12:53:17.908Z"
   },
   {
    "duration": 72,
    "start_time": "2022-06-24T12:53:36.129Z"
   },
   {
    "duration": 23,
    "start_time": "2022-06-24T12:53:46.655Z"
   },
   {
    "duration": 15,
    "start_time": "2022-06-24T12:58:37.714Z"
   },
   {
    "duration": 20,
    "start_time": "2022-06-24T12:59:17.313Z"
   },
   {
    "duration": 216,
    "start_time": "2022-06-24T13:00:50.309Z"
   },
   {
    "duration": 186,
    "start_time": "2022-06-24T14:21:15.437Z"
   },
   {
    "duration": 176,
    "start_time": "2022-06-24T14:22:00.201Z"
   },
   {
    "duration": 21,
    "start_time": "2022-06-24T14:23:05.727Z"
   },
   {
    "duration": 1073,
    "start_time": "2022-06-24T14:24:17.065Z"
   },
   {
    "duration": 384,
    "start_time": "2022-06-24T14:24:31.705Z"
   },
   {
    "duration": 236,
    "start_time": "2022-06-24T14:24:42.005Z"
   },
   {
    "duration": 225,
    "start_time": "2022-06-24T14:25:12.200Z"
   },
   {
    "duration": 220,
    "start_time": "2022-06-24T14:25:23.786Z"
   },
   {
    "duration": 228,
    "start_time": "2022-06-24T14:26:24.757Z"
   },
   {
    "duration": 307,
    "start_time": "2022-06-24T14:26:30.867Z"
   },
   {
    "duration": 249,
    "start_time": "2022-06-24T14:26:39.007Z"
   },
   {
    "duration": 16,
    "start_time": "2022-06-24T14:27:04.369Z"
   },
   {
    "duration": 14,
    "start_time": "2022-06-24T14:27:19.127Z"
   },
   {
    "duration": 18,
    "start_time": "2022-06-24T14:27:35.242Z"
   },
   {
    "duration": 398,
    "start_time": "2022-06-24T14:30:45.885Z"
   },
   {
    "duration": 356,
    "start_time": "2022-06-24T14:31:11.848Z"
   },
   {
    "duration": 261,
    "start_time": "2022-06-24T14:31:22.006Z"
   },
   {
    "duration": 270,
    "start_time": "2022-06-24T14:31:32.678Z"
   },
   {
    "duration": 282,
    "start_time": "2022-06-24T14:35:48.263Z"
   },
   {
    "duration": 265,
    "start_time": "2022-06-24T14:36:11.688Z"
   },
   {
    "duration": 297,
    "start_time": "2022-06-24T14:36:59.030Z"
   },
   {
    "duration": 309,
    "start_time": "2022-06-24T14:37:04.695Z"
   },
   {
    "duration": 431,
    "start_time": "2022-06-24T14:37:12.133Z"
   },
   {
    "duration": 282,
    "start_time": "2022-06-24T14:40:10.312Z"
   },
   {
    "duration": 279,
    "start_time": "2022-06-24T14:41:50.337Z"
   },
   {
    "duration": 270,
    "start_time": "2022-06-24T14:42:11.696Z"
   },
   {
    "duration": 296,
    "start_time": "2022-06-24T14:42:34.181Z"
   },
   {
    "duration": 279,
    "start_time": "2022-06-24T14:42:48.219Z"
   },
   {
    "duration": 286,
    "start_time": "2022-06-24T14:42:58.987Z"
   },
   {
    "duration": 411,
    "start_time": "2022-06-24T14:43:11.553Z"
   },
   {
    "duration": 278,
    "start_time": "2022-06-24T14:44:14.252Z"
   },
   {
    "duration": 267,
    "start_time": "2022-06-24T14:44:25.513Z"
   },
   {
    "duration": 294,
    "start_time": "2022-06-24T14:44:42.392Z"
   },
   {
    "duration": 265,
    "start_time": "2022-06-24T14:46:47.591Z"
   },
   {
    "duration": 293,
    "start_time": "2022-06-24T14:46:54.913Z"
   },
   {
    "duration": 280,
    "start_time": "2022-06-24T14:47:04.183Z"
   },
   {
    "duration": 294,
    "start_time": "2022-06-24T14:47:21.719Z"
   },
   {
    "duration": 439,
    "start_time": "2022-06-24T14:47:31.945Z"
   },
   {
    "duration": 379,
    "start_time": "2022-06-24T14:47:38.961Z"
   },
   {
    "duration": 281,
    "start_time": "2022-06-24T14:47:44.333Z"
   },
   {
    "duration": 342,
    "start_time": "2022-06-24T14:47:55.056Z"
   },
   {
    "duration": 62,
    "start_time": "2022-06-24T14:48:04.517Z"
   },
   {
    "duration": 271,
    "start_time": "2022-06-24T14:48:09.183Z"
   },
   {
    "duration": 278,
    "start_time": "2022-06-24T14:48:14.428Z"
   },
   {
    "duration": 277,
    "start_time": "2022-06-24T14:48:38.388Z"
   },
   {
    "duration": 285,
    "start_time": "2022-06-24T14:48:46.858Z"
   },
   {
    "duration": 409,
    "start_time": "2022-06-24T14:49:10.095Z"
   },
   {
    "duration": 315,
    "start_time": "2022-06-24T14:49:38.162Z"
   },
   {
    "duration": 288,
    "start_time": "2022-06-24T14:50:28.568Z"
   },
   {
    "duration": 10,
    "start_time": "2022-06-24T14:52:11.799Z"
   },
   {
    "duration": 11,
    "start_time": "2022-06-24T14:53:00.718Z"
   },
   {
    "duration": 11,
    "start_time": "2022-06-24T14:53:50.604Z"
   },
   {
    "duration": 1279,
    "start_time": "2022-06-24T14:54:44.362Z"
   },
   {
    "duration": 298,
    "start_time": "2022-06-24T14:55:15.884Z"
   },
   {
    "duration": 67,
    "start_time": "2022-06-24T23:19:16.408Z"
   },
   {
    "duration": 1484,
    "start_time": "2022-06-24T23:19:30.313Z"
   },
   {
    "duration": 145,
    "start_time": "2022-06-24T23:19:31.800Z"
   },
   {
    "duration": 15,
    "start_time": "2022-06-24T23:19:31.947Z"
   },
   {
    "duration": 6,
    "start_time": "2022-06-24T23:19:31.964Z"
   },
   {
    "duration": 9,
    "start_time": "2022-06-24T23:19:31.972Z"
   },
   {
    "duration": 9,
    "start_time": "2022-06-24T23:19:31.983Z"
   },
   {
    "duration": 13,
    "start_time": "2022-06-24T23:19:31.994Z"
   },
   {
    "duration": 35,
    "start_time": "2022-06-24T23:19:32.009Z"
   },
   {
    "duration": 9,
    "start_time": "2022-06-24T23:19:32.047Z"
   },
   {
    "duration": 5,
    "start_time": "2022-06-24T23:19:32.060Z"
   },
   {
    "duration": 14,
    "start_time": "2022-06-24T23:19:32.067Z"
   },
   {
    "duration": 8,
    "start_time": "2022-06-24T23:19:32.082Z"
   },
   {
    "duration": 10,
    "start_time": "2022-06-24T23:19:32.092Z"
   },
   {
    "duration": 9,
    "start_time": "2022-06-24T23:19:32.104Z"
   },
   {
    "duration": 100,
    "start_time": "2022-06-24T23:19:32.114Z"
   },
   {
    "duration": 408,
    "start_time": "2022-06-24T23:19:32.215Z"
   },
   {
    "duration": 22,
    "start_time": "2022-06-24T23:19:32.632Z"
   },
   {
    "duration": 178,
    "start_time": "2022-06-24T23:19:32.656Z"
   },
   {
    "duration": 151,
    "start_time": "2022-06-24T23:19:32.840Z"
   },
   {
    "duration": 164,
    "start_time": "2022-06-24T23:19:32.992Z"
   },
   {
    "duration": 152,
    "start_time": "2022-06-24T23:19:33.157Z"
   },
   {
    "duration": 172,
    "start_time": "2022-06-24T23:19:33.310Z"
   },
   {
    "duration": 165,
    "start_time": "2022-06-24T23:19:33.484Z"
   },
   {
    "duration": 149,
    "start_time": "2022-06-24T23:19:33.650Z"
   },
   {
    "duration": 241,
    "start_time": "2022-06-24T23:19:33.802Z"
   },
   {
    "duration": 148,
    "start_time": "2022-06-24T23:19:34.045Z"
   },
   {
    "duration": 146,
    "start_time": "2022-06-24T23:19:34.195Z"
   },
   {
    "duration": 201,
    "start_time": "2022-06-24T23:19:34.350Z"
   },
   {
    "duration": 201,
    "start_time": "2022-06-24T23:19:34.553Z"
   },
   {
    "duration": 156,
    "start_time": "2022-06-24T23:19:34.756Z"
   },
   {
    "duration": 167,
    "start_time": "2022-06-24T23:19:34.915Z"
   },
   {
    "duration": 6,
    "start_time": "2022-06-24T23:19:35.083Z"
   },
   {
    "duration": 13,
    "start_time": "2022-06-24T23:19:35.090Z"
   },
   {
    "duration": 275,
    "start_time": "2022-06-24T23:19:35.104Z"
   },
   {
    "duration": 297,
    "start_time": "2022-06-24T23:19:35.380Z"
   },
   {
    "duration": 266,
    "start_time": "2022-06-24T23:19:35.679Z"
   },
   {
    "duration": 152,
    "start_time": "2022-06-24T23:19:35.947Z"
   },
   {
    "duration": 10,
    "start_time": "2022-06-24T23:19:36.100Z"
   },
   {
    "duration": 25,
    "start_time": "2022-06-24T23:19:36.112Z"
   },
   {
    "duration": 280,
    "start_time": "2022-06-24T23:19:36.139Z"
   },
   {
    "duration": 11,
    "start_time": "2022-06-24T23:19:36.429Z"
   },
   {
    "duration": 22,
    "start_time": "2022-06-24T23:19:36.445Z"
   },
   {
    "duration": 324,
    "start_time": "2022-06-24T23:19:36.469Z"
   },
   {
    "duration": 9,
    "start_time": "2022-06-24T23:19:36.795Z"
   },
   {
    "duration": 34,
    "start_time": "2022-06-24T23:19:36.806Z"
   },
   {
    "duration": 272,
    "start_time": "2022-06-24T23:19:36.845Z"
   },
   {
    "duration": 292,
    "start_time": "2022-06-24T23:19:37.119Z"
   },
   {
    "duration": 36,
    "start_time": "2022-06-24T23:19:37.413Z"
   },
   {
    "duration": 12,
    "start_time": "2022-06-24T23:19:37.451Z"
   },
   {
    "duration": 13,
    "start_time": "2022-06-24T23:19:37.464Z"
   },
   {
    "duration": 316,
    "start_time": "2022-06-24T23:19:37.479Z"
   },
   {
    "duration": 12,
    "start_time": "2022-06-24T23:19:37.797Z"
   },
   {
    "duration": 40,
    "start_time": "2022-06-24T23:19:37.811Z"
   },
   {
    "duration": 11,
    "start_time": "2022-06-24T23:19:37.852Z"
   },
   {
    "duration": 407,
    "start_time": "2022-06-24T23:19:37.864Z"
   },
   {
    "duration": 130,
    "start_time": "2022-06-24T23:19:38.273Z"
   },
   {
    "duration": 170,
    "start_time": "2022-06-24T23:19:38.405Z"
   },
   {
    "duration": 141,
    "start_time": "2022-06-24T23:19:38.577Z"
   },
   {
    "duration": 13,
    "start_time": "2022-06-24T23:19:38.726Z"
   },
   {
    "duration": 9,
    "start_time": "2022-06-24T23:19:38.747Z"
   },
   {
    "duration": 12,
    "start_time": "2022-06-24T23:19:38.758Z"
   },
   {
    "duration": 9,
    "start_time": "2022-06-24T23:19:38.771Z"
   },
   {
    "duration": 1147,
    "start_time": "2022-06-24T23:26:40.953Z"
   },
   {
    "duration": 97,
    "start_time": "2022-06-24T23:26:42.102Z"
   },
   {
    "duration": 15,
    "start_time": "2022-06-24T23:26:42.202Z"
   },
   {
    "duration": 32,
    "start_time": "2022-06-24T23:26:42.219Z"
   },
   {
    "duration": 22,
    "start_time": "2022-06-24T23:26:42.253Z"
   },
   {
    "duration": 11,
    "start_time": "2022-06-24T23:26:42.277Z"
   },
   {
    "duration": 21,
    "start_time": "2022-06-24T23:26:42.290Z"
   },
   {
    "duration": 14,
    "start_time": "2022-06-24T23:26:42.313Z"
   },
   {
    "duration": 29,
    "start_time": "2022-06-24T23:26:42.328Z"
   },
   {
    "duration": 7,
    "start_time": "2022-06-24T23:26:42.360Z"
   },
   {
    "duration": 11,
    "start_time": "2022-06-24T23:26:42.369Z"
   },
   {
    "duration": 12,
    "start_time": "2022-06-24T23:26:42.381Z"
   },
   {
    "duration": 12,
    "start_time": "2022-06-24T23:26:42.395Z"
   },
   {
    "duration": 11,
    "start_time": "2022-06-24T23:26:42.409Z"
   },
   {
    "duration": 40,
    "start_time": "2022-06-24T23:26:42.422Z"
   },
   {
    "duration": 190,
    "start_time": "2022-06-24T23:26:42.464Z"
   },
   {
    "duration": 0,
    "start_time": "2022-06-24T23:26:42.660Z"
   },
   {
    "duration": 0,
    "start_time": "2022-06-24T23:26:42.661Z"
   },
   {
    "duration": 0,
    "start_time": "2022-06-24T23:26:42.663Z"
   },
   {
    "duration": 0,
    "start_time": "2022-06-24T23:26:42.678Z"
   },
   {
    "duration": 0,
    "start_time": "2022-06-24T23:26:42.680Z"
   },
   {
    "duration": 0,
    "start_time": "2022-06-24T23:26:42.681Z"
   },
   {
    "duration": 0,
    "start_time": "2022-06-24T23:26:42.683Z"
   },
   {
    "duration": 0,
    "start_time": "2022-06-24T23:26:42.684Z"
   },
   {
    "duration": 0,
    "start_time": "2022-06-24T23:26:42.685Z"
   },
   {
    "duration": 0,
    "start_time": "2022-06-24T23:26:42.686Z"
   },
   {
    "duration": 0,
    "start_time": "2022-06-24T23:26:42.688Z"
   },
   {
    "duration": 0,
    "start_time": "2022-06-24T23:26:42.689Z"
   },
   {
    "duration": 0,
    "start_time": "2022-06-24T23:26:42.690Z"
   },
   {
    "duration": 0,
    "start_time": "2022-06-24T23:26:42.692Z"
   },
   {
    "duration": 0,
    "start_time": "2022-06-24T23:26:42.694Z"
   },
   {
    "duration": 0,
    "start_time": "2022-06-24T23:26:42.695Z"
   },
   {
    "duration": 0,
    "start_time": "2022-06-24T23:26:42.696Z"
   },
   {
    "duration": 0,
    "start_time": "2022-06-24T23:26:42.698Z"
   },
   {
    "duration": 0,
    "start_time": "2022-06-24T23:26:42.699Z"
   },
   {
    "duration": 0,
    "start_time": "2022-06-24T23:26:42.700Z"
   },
   {
    "duration": 0,
    "start_time": "2022-06-24T23:26:42.702Z"
   },
   {
    "duration": 0,
    "start_time": "2022-06-24T23:26:42.726Z"
   },
   {
    "duration": 0,
    "start_time": "2022-06-24T23:26:42.728Z"
   },
   {
    "duration": 0,
    "start_time": "2022-06-24T23:26:42.729Z"
   },
   {
    "duration": 0,
    "start_time": "2022-06-24T23:26:42.730Z"
   },
   {
    "duration": 0,
    "start_time": "2022-06-24T23:26:42.730Z"
   },
   {
    "duration": 0,
    "start_time": "2022-06-24T23:26:42.733Z"
   },
   {
    "duration": 0,
    "start_time": "2022-06-24T23:26:42.735Z"
   },
   {
    "duration": 0,
    "start_time": "2022-06-24T23:26:42.735Z"
   },
   {
    "duration": 0,
    "start_time": "2022-06-24T23:26:42.736Z"
   },
   {
    "duration": 0,
    "start_time": "2022-06-24T23:26:42.737Z"
   },
   {
    "duration": 0,
    "start_time": "2022-06-24T23:26:42.737Z"
   },
   {
    "duration": 0,
    "start_time": "2022-06-24T23:26:42.738Z"
   },
   {
    "duration": 0,
    "start_time": "2022-06-24T23:26:42.739Z"
   },
   {
    "duration": 0,
    "start_time": "2022-06-24T23:26:42.740Z"
   },
   {
    "duration": 0,
    "start_time": "2022-06-24T23:26:42.740Z"
   },
   {
    "duration": 0,
    "start_time": "2022-06-24T23:26:42.741Z"
   },
   {
    "duration": 0,
    "start_time": "2022-06-24T23:26:42.741Z"
   },
   {
    "duration": 0,
    "start_time": "2022-06-24T23:26:42.742Z"
   },
   {
    "duration": 0,
    "start_time": "2022-06-24T23:26:42.744Z"
   },
   {
    "duration": 0,
    "start_time": "2022-06-24T23:26:42.745Z"
   },
   {
    "duration": 0,
    "start_time": "2022-06-24T23:26:42.746Z"
   },
   {
    "duration": 0,
    "start_time": "2022-06-24T23:26:42.746Z"
   },
   {
    "duration": 0,
    "start_time": "2022-06-24T23:26:42.747Z"
   },
   {
    "duration": 0,
    "start_time": "2022-06-24T23:26:42.748Z"
   },
   {
    "duration": 0,
    "start_time": "2022-06-24T23:26:42.749Z"
   },
   {
    "duration": 0,
    "start_time": "2022-06-24T23:26:42.750Z"
   },
   {
    "duration": 1233,
    "start_time": "2022-06-24T23:28:57.314Z"
   },
   {
    "duration": 71,
    "start_time": "2022-06-24T23:28:58.549Z"
   },
   {
    "duration": 20,
    "start_time": "2022-06-24T23:28:58.622Z"
   },
   {
    "duration": 11,
    "start_time": "2022-06-24T23:28:58.645Z"
   },
   {
    "duration": 9,
    "start_time": "2022-06-24T23:28:58.658Z"
   },
   {
    "duration": 6,
    "start_time": "2022-06-24T23:28:58.669Z"
   },
   {
    "duration": 30,
    "start_time": "2022-06-24T23:28:58.677Z"
   },
   {
    "duration": 26,
    "start_time": "2022-06-24T23:28:58.709Z"
   },
   {
    "duration": 18,
    "start_time": "2022-06-24T23:28:58.743Z"
   },
   {
    "duration": 10,
    "start_time": "2022-06-24T23:28:58.764Z"
   },
   {
    "duration": 24,
    "start_time": "2022-06-24T23:28:58.776Z"
   },
   {
    "duration": 23,
    "start_time": "2022-06-24T23:28:58.802Z"
   },
   {
    "duration": 34,
    "start_time": "2022-06-24T23:28:58.826Z"
   },
   {
    "duration": 7,
    "start_time": "2022-06-24T23:28:58.861Z"
   },
   {
    "duration": 20,
    "start_time": "2022-06-24T23:28:58.869Z"
   },
   {
    "duration": 103,
    "start_time": "2022-06-24T23:28:58.891Z"
   },
   {
    "duration": 357,
    "start_time": "2022-06-24T23:28:58.996Z"
   },
   {
    "duration": 14,
    "start_time": "2022-06-24T23:28:59.356Z"
   },
   {
    "duration": 201,
    "start_time": "2022-06-24T23:28:59.372Z"
   },
   {
    "duration": 176,
    "start_time": "2022-06-24T23:28:59.575Z"
   },
   {
    "duration": 157,
    "start_time": "2022-06-24T23:28:59.752Z"
   },
   {
    "duration": 164,
    "start_time": "2022-06-24T23:28:59.910Z"
   },
   {
    "duration": 150,
    "start_time": "2022-06-24T23:29:00.075Z"
   },
   {
    "duration": 141,
    "start_time": "2022-06-24T23:29:00.243Z"
   },
   {
    "duration": 135,
    "start_time": "2022-06-24T23:29:00.386Z"
   },
   {
    "duration": 243,
    "start_time": "2022-06-24T23:29:00.522Z"
   },
   {
    "duration": 176,
    "start_time": "2022-06-24T23:29:00.767Z"
   },
   {
    "duration": 156,
    "start_time": "2022-06-24T23:29:00.948Z"
   },
   {
    "duration": 183,
    "start_time": "2022-06-24T23:29:01.106Z"
   },
   {
    "duration": 184,
    "start_time": "2022-06-24T23:29:01.291Z"
   },
   {
    "duration": 195,
    "start_time": "2022-06-24T23:29:01.477Z"
   },
   {
    "duration": 175,
    "start_time": "2022-06-24T23:29:01.674Z"
   },
   {
    "duration": 6,
    "start_time": "2022-06-24T23:29:01.850Z"
   },
   {
    "duration": 24,
    "start_time": "2022-06-24T23:29:01.858Z"
   },
   {
    "duration": 274,
    "start_time": "2022-06-24T23:29:01.884Z"
   },
   {
    "duration": 290,
    "start_time": "2022-06-24T23:29:02.160Z"
   },
   {
    "duration": 256,
    "start_time": "2022-06-24T23:29:02.451Z"
   },
   {
    "duration": 162,
    "start_time": "2022-06-24T23:29:02.709Z"
   },
   {
    "duration": 9,
    "start_time": "2022-06-24T23:29:02.873Z"
   },
   {
    "duration": 12,
    "start_time": "2022-06-24T23:29:02.884Z"
   },
   {
    "duration": 303,
    "start_time": "2022-06-24T23:29:02.898Z"
   },
   {
    "duration": 9,
    "start_time": "2022-06-24T23:29:03.203Z"
   },
   {
    "duration": 18,
    "start_time": "2022-06-24T23:29:03.214Z"
   },
   {
    "duration": 301,
    "start_time": "2022-06-24T23:29:03.234Z"
   },
   {
    "duration": 10,
    "start_time": "2022-06-24T23:29:03.537Z"
   },
   {
    "duration": 11,
    "start_time": "2022-06-24T23:29:03.549Z"
   },
   {
    "duration": 305,
    "start_time": "2022-06-24T23:29:03.562Z"
   },
   {
    "duration": 287,
    "start_time": "2022-06-24T23:29:03.869Z"
   },
   {
    "duration": 11,
    "start_time": "2022-06-24T23:29:04.158Z"
   },
   {
    "duration": 25,
    "start_time": "2022-06-24T23:29:04.171Z"
   },
   {
    "duration": 44,
    "start_time": "2022-06-24T23:29:04.198Z"
   },
   {
    "duration": 278,
    "start_time": "2022-06-24T23:29:04.244Z"
   },
   {
    "duration": 18,
    "start_time": "2022-06-24T23:29:04.524Z"
   },
   {
    "duration": 13,
    "start_time": "2022-06-24T23:29:04.545Z"
   },
   {
    "duration": 12,
    "start_time": "2022-06-24T23:29:04.560Z"
   },
   {
    "duration": 412,
    "start_time": "2022-06-24T23:29:04.574Z"
   },
   {
    "duration": 141,
    "start_time": "2022-06-24T23:29:04.988Z"
   },
   {
    "duration": 188,
    "start_time": "2022-06-24T23:29:05.141Z"
   },
   {
    "duration": 224,
    "start_time": "2022-06-24T23:29:05.343Z"
   },
   {
    "duration": 73,
    "start_time": "2022-06-24T23:29:05.569Z"
   },
   {
    "duration": 12,
    "start_time": "2022-06-24T23:29:05.644Z"
   },
   {
    "duration": 13,
    "start_time": "2022-06-24T23:29:05.658Z"
   },
   {
    "duration": 61,
    "start_time": "2022-06-24T23:29:05.673Z"
   },
   {
    "duration": 10,
    "start_time": "2022-06-24T23:40:40.448Z"
   },
   {
    "duration": 23,
    "start_time": "2022-06-24T23:42:23.820Z"
   },
   {
    "duration": 1132,
    "start_time": "2022-06-24T23:57:02.957Z"
   },
   {
    "duration": 72,
    "start_time": "2022-06-24T23:57:04.090Z"
   },
   {
    "duration": 16,
    "start_time": "2022-06-24T23:57:04.163Z"
   },
   {
    "duration": 14,
    "start_time": "2022-06-24T23:57:04.182Z"
   },
   {
    "duration": 12,
    "start_time": "2022-06-24T23:57:04.197Z"
   },
   {
    "duration": 29,
    "start_time": "2022-06-24T23:57:04.210Z"
   },
   {
    "duration": 10,
    "start_time": "2022-06-24T23:57:04.241Z"
   },
   {
    "duration": 21,
    "start_time": "2022-06-24T23:57:04.252Z"
   },
   {
    "duration": 21,
    "start_time": "2022-06-24T23:57:04.275Z"
   },
   {
    "duration": 15,
    "start_time": "2022-06-24T23:57:04.299Z"
   },
   {
    "duration": 25,
    "start_time": "2022-06-24T23:57:04.316Z"
   },
   {
    "duration": 11,
    "start_time": "2022-06-24T23:57:04.345Z"
   },
   {
    "duration": 15,
    "start_time": "2022-06-24T23:57:04.358Z"
   },
   {
    "duration": 10,
    "start_time": "2022-06-24T23:57:04.375Z"
   },
   {
    "duration": 11,
    "start_time": "2022-06-24T23:57:04.386Z"
   },
   {
    "duration": 86,
    "start_time": "2022-06-24T23:57:04.399Z"
   },
   {
    "duration": 365,
    "start_time": "2022-06-24T23:57:04.486Z"
   },
   {
    "duration": 12,
    "start_time": "2022-06-24T23:57:04.854Z"
   },
   {
    "duration": 225,
    "start_time": "2022-06-24T23:57:04.867Z"
   },
   {
    "duration": 145,
    "start_time": "2022-06-24T23:57:05.095Z"
   },
   {
    "duration": 156,
    "start_time": "2022-06-24T23:57:05.241Z"
   },
   {
    "duration": 162,
    "start_time": "2022-06-24T23:57:05.399Z"
   },
   {
    "duration": 175,
    "start_time": "2022-06-24T23:57:05.563Z"
   },
   {
    "duration": 150,
    "start_time": "2022-06-24T23:57:05.740Z"
   },
   {
    "duration": 151,
    "start_time": "2022-06-24T23:57:05.892Z"
   },
   {
    "duration": 221,
    "start_time": "2022-06-24T23:57:06.045Z"
   },
   {
    "duration": 182,
    "start_time": "2022-06-24T23:57:06.269Z"
   },
   {
    "duration": 156,
    "start_time": "2022-06-24T23:57:06.454Z"
   },
   {
    "duration": 180,
    "start_time": "2022-06-24T23:57:06.611Z"
   },
   {
    "duration": 170,
    "start_time": "2022-06-24T23:57:06.793Z"
   },
   {
    "duration": 151,
    "start_time": "2022-06-24T23:57:06.965Z"
   },
   {
    "duration": 154,
    "start_time": "2022-06-24T23:57:07.117Z"
   },
   {
    "duration": 6,
    "start_time": "2022-06-24T23:57:07.273Z"
   },
   {
    "duration": 25,
    "start_time": "2022-06-24T23:57:07.280Z"
   },
   {
    "duration": 307,
    "start_time": "2022-06-24T23:57:07.307Z"
   },
   {
    "duration": 276,
    "start_time": "2022-06-24T23:57:07.615Z"
   },
   {
    "duration": 255,
    "start_time": "2022-06-24T23:57:07.893Z"
   },
   {
    "duration": 168,
    "start_time": "2022-06-24T23:57:08.150Z"
   },
   {
    "duration": 15,
    "start_time": "2022-06-24T23:57:08.326Z"
   },
   {
    "duration": 13,
    "start_time": "2022-06-24T23:57:08.343Z"
   },
   {
    "duration": 302,
    "start_time": "2022-06-24T23:57:08.358Z"
   },
   {
    "duration": 9,
    "start_time": "2022-06-24T23:57:08.662Z"
   },
   {
    "duration": 27,
    "start_time": "2022-06-24T23:57:08.672Z"
   },
   {
    "duration": 291,
    "start_time": "2022-06-24T23:57:08.701Z"
   },
   {
    "duration": 10,
    "start_time": "2022-06-24T23:57:08.994Z"
   },
   {
    "duration": 33,
    "start_time": "2022-06-24T23:57:09.006Z"
   },
   {
    "duration": 273,
    "start_time": "2022-06-24T23:57:09.042Z"
   },
   {
    "duration": 306,
    "start_time": "2022-06-24T23:57:09.317Z"
   },
   {
    "duration": 20,
    "start_time": "2022-06-24T23:57:09.626Z"
   },
   {
    "duration": 31,
    "start_time": "2022-06-24T23:57:09.648Z"
   },
   {
    "duration": 34,
    "start_time": "2022-06-24T23:57:09.681Z"
   },
   {
    "duration": 347,
    "start_time": "2022-06-24T23:57:09.717Z"
   },
   {
    "duration": 13,
    "start_time": "2022-06-24T23:57:10.065Z"
   },
   {
    "duration": 23,
    "start_time": "2022-06-24T23:57:10.080Z"
   },
   {
    "duration": 48,
    "start_time": "2022-06-24T23:57:10.105Z"
   },
   {
    "duration": 421,
    "start_time": "2022-06-24T23:57:10.155Z"
   },
   {
    "duration": 139,
    "start_time": "2022-06-24T23:57:10.578Z"
   },
   {
    "duration": 160,
    "start_time": "2022-06-24T23:57:10.719Z"
   },
   {
    "duration": 151,
    "start_time": "2022-06-24T23:57:10.881Z"
   },
   {
    "duration": 14,
    "start_time": "2022-06-24T23:57:11.036Z"
   },
   {
    "duration": 10,
    "start_time": "2022-06-24T23:57:11.052Z"
   },
   {
    "duration": 15,
    "start_time": "2022-06-24T23:57:11.064Z"
   },
   {
    "duration": 20,
    "start_time": "2022-06-24T23:57:11.081Z"
   },
   {
    "duration": 32,
    "start_time": "2022-06-24T23:57:11.103Z"
   },
   {
    "duration": 18,
    "start_time": "2022-06-24T23:57:11.142Z"
   },
   {
    "duration": 1163,
    "start_time": "2022-06-25T14:20:35.102Z"
   },
   {
    "duration": 71,
    "start_time": "2022-06-25T14:20:36.267Z"
   },
   {
    "duration": 18,
    "start_time": "2022-06-25T14:20:36.340Z"
   },
   {
    "duration": 9,
    "start_time": "2022-06-25T14:20:36.359Z"
   },
   {
    "duration": 47,
    "start_time": "2022-06-25T14:20:36.370Z"
   },
   {
    "duration": 16,
    "start_time": "2022-06-25T14:20:36.419Z"
   },
   {
    "duration": 36,
    "start_time": "2022-06-25T14:20:36.437Z"
   },
   {
    "duration": 12,
    "start_time": "2022-06-25T14:20:36.475Z"
   },
   {
    "duration": 10,
    "start_time": "2022-06-25T14:20:36.489Z"
   },
   {
    "duration": 7,
    "start_time": "2022-06-25T14:20:36.501Z"
   },
   {
    "duration": 8,
    "start_time": "2022-06-25T14:20:36.509Z"
   },
   {
    "duration": 28,
    "start_time": "2022-06-25T14:20:36.519Z"
   },
   {
    "duration": 10,
    "start_time": "2022-06-25T14:20:36.550Z"
   },
   {
    "duration": 5,
    "start_time": "2022-06-25T14:20:36.563Z"
   },
   {
    "duration": 13,
    "start_time": "2022-06-25T14:20:36.570Z"
   },
   {
    "duration": 98,
    "start_time": "2022-06-25T14:20:36.585Z"
   },
   {
    "duration": 339,
    "start_time": "2022-06-25T14:20:36.684Z"
   },
   {
    "duration": 20,
    "start_time": "2022-06-25T14:20:37.028Z"
   },
   {
    "duration": 146,
    "start_time": "2022-06-25T14:20:37.050Z"
   },
   {
    "duration": 165,
    "start_time": "2022-06-25T14:20:37.198Z"
   },
   {
    "duration": 166,
    "start_time": "2022-06-25T14:20:37.365Z"
   },
   {
    "duration": 156,
    "start_time": "2022-06-25T14:20:37.536Z"
   },
   {
    "duration": 155,
    "start_time": "2022-06-25T14:20:37.694Z"
   },
   {
    "duration": 146,
    "start_time": "2022-06-25T14:20:37.850Z"
   },
   {
    "duration": 160,
    "start_time": "2022-06-25T14:20:37.998Z"
   },
   {
    "duration": 212,
    "start_time": "2022-06-25T14:20:38.160Z"
   },
   {
    "duration": 158,
    "start_time": "2022-06-25T14:20:38.374Z"
   },
   {
    "duration": 133,
    "start_time": "2022-06-25T14:20:38.538Z"
   },
   {
    "duration": 172,
    "start_time": "2022-06-25T14:20:38.673Z"
   },
   {
    "duration": 146,
    "start_time": "2022-06-25T14:20:38.847Z"
   },
   {
    "duration": 144,
    "start_time": "2022-06-25T14:20:38.995Z"
   },
   {
    "duration": 148,
    "start_time": "2022-06-25T14:20:39.143Z"
   },
   {
    "duration": 6,
    "start_time": "2022-06-25T14:20:39.293Z"
   },
   {
    "duration": 15,
    "start_time": "2022-06-25T14:20:39.300Z"
   },
   {
    "duration": 270,
    "start_time": "2022-06-25T14:20:39.327Z"
   },
   {
    "duration": 278,
    "start_time": "2022-06-25T14:20:39.599Z"
   },
   {
    "duration": 164,
    "start_time": "2022-06-25T14:20:39.878Z"
   },
   {
    "duration": 233,
    "start_time": "2022-06-25T14:20:40.043Z"
   },
   {
    "duration": 9,
    "start_time": "2022-06-25T14:20:40.278Z"
   },
   {
    "duration": 12,
    "start_time": "2022-06-25T14:20:40.288Z"
   },
   {
    "duration": 299,
    "start_time": "2022-06-25T14:20:40.304Z"
   },
   {
    "duration": 10,
    "start_time": "2022-06-25T14:20:40.605Z"
   },
   {
    "duration": 11,
    "start_time": "2022-06-25T14:20:40.638Z"
   },
   {
    "duration": 302,
    "start_time": "2022-06-25T14:20:40.651Z"
   },
   {
    "duration": 11,
    "start_time": "2022-06-25T14:20:40.955Z"
   },
   {
    "duration": 18,
    "start_time": "2022-06-25T14:20:40.968Z"
   },
   {
    "duration": 276,
    "start_time": "2022-06-25T14:20:40.989Z"
   },
   {
    "duration": 290,
    "start_time": "2022-06-25T14:20:41.267Z"
   },
   {
    "duration": 11,
    "start_time": "2022-06-25T14:20:41.558Z"
   },
   {
    "duration": 14,
    "start_time": "2022-06-25T14:20:41.571Z"
   },
   {
    "duration": 15,
    "start_time": "2022-06-25T14:20:41.587Z"
   },
   {
    "duration": 286,
    "start_time": "2022-06-25T14:20:41.604Z"
   },
   {
    "duration": 11,
    "start_time": "2022-06-25T14:20:41.891Z"
   },
   {
    "duration": 26,
    "start_time": "2022-06-25T14:20:41.904Z"
   },
   {
    "duration": 27,
    "start_time": "2022-06-25T14:20:41.931Z"
   },
   {
    "duration": 308,
    "start_time": "2022-06-25T14:20:41.960Z"
   },
   {
    "duration": 224,
    "start_time": "2022-06-25T14:20:42.270Z"
   },
   {
    "duration": 149,
    "start_time": "2022-06-25T14:20:42.495Z"
   },
   {
    "duration": 126,
    "start_time": "2022-06-25T14:20:42.646Z"
   },
   {
    "duration": 8,
    "start_time": "2022-06-25T14:20:42.774Z"
   },
   {
    "duration": 9,
    "start_time": "2022-06-25T14:20:42.784Z"
   },
   {
    "duration": 12,
    "start_time": "2022-06-25T14:20:42.795Z"
   },
   {
    "duration": 29,
    "start_time": "2022-06-25T14:20:42.809Z"
   },
   {
    "duration": 15,
    "start_time": "2022-06-25T14:20:42.840Z"
   },
   {
    "duration": 13,
    "start_time": "2022-06-25T14:20:42.856Z"
   }
  ],
  "kernelspec": {
   "display_name": "Python 3 (ipykernel)",
   "language": "python",
   "name": "python3"
  },
  "language_info": {
   "codemirror_mode": {
    "name": "ipython",
    "version": 3
   },
   "file_extension": ".py",
   "mimetype": "text/x-python",
   "name": "python",
   "nbconvert_exporter": "python",
   "pygments_lexer": "ipython3",
   "version": "3.9.12"
  },
  "toc": {
   "base_numbering": 1,
   "nav_menu": {},
   "number_sections": true,
   "sideBar": true,
   "skip_h1_title": true,
   "title_cell": "Table of Contents",
   "title_sidebar": "Contents",
   "toc_cell": false,
   "toc_position": {
    "height": "calc(100% - 180px)",
    "left": "10px",
    "top": "150px",
    "width": "165px"
   },
   "toc_section_display": true,
   "toc_window_display": true
  }
 },
 "nbformat": 4,
 "nbformat_minor": 2
}
