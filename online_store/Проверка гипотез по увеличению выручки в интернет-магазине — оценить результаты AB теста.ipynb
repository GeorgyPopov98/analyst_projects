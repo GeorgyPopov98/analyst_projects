{
 "cells": [
  {
   "cell_type": "markdown",
   "metadata": {},
   "source": [
    "# Проверка гипотез по увеличению выручки в интернет-магазине — оценить результаты A/B теста. \n",
    "В нашем распоряжении данные интернет-магазина. Вместе с отделом маркетинга был подготовлен список гипотез для увеличения выручки.\n",
    "Необходимо приоритизировать гипотезы, запустить A/B-тест и проанализировать результаты."
   ]
  },
  {
   "cell_type": "markdown",
   "metadata": {},
   "source": [
    "**Цель исследования**:\n",
    "1. Приоритезировать гипотезы. \n",
    "2. Произвести оценку результатов A/B-тестирования различными методами.\n",
    "\n",
    "**Ход исследования**\n",
    "\n",
    "Проведем приоритизацию гипотез по фреймворкам ICE и RICE. \n",
    "\n",
    "Затем провем анализ результатов A/B-теста. \n",
    "\n",
    "Для этого проведем предобработку данных. Проверим данные на ошибки и оценим их влияние на исследование. Затем, на этапе предобработки выявим возможность исправить самые критичные ошибки данных.\n",
    "\n",
    "Далее построим графики кумулятивной выручки, среднего чека, конверсии по группам, а затем посчитаем статистическую значимость различий конверсий и средних чеков по сырым и очищенным данным. \n",
    "\n",
    "В конце напишем общий вывод.\n",
    " \n",
    "Таким образом, исследование пройдёт в несколько этапов:\n",
    " 1. Приоритизация гипотез\n",
    " 2. Изучение общей информации.\n",
    " 3. Предобработка данных.\n",
    " 4. Анализ A/B-теста.\n",
    " 5. Общий вывод."
   ]
  },
  {
   "cell_type": "markdown",
   "metadata": {},
   "source": [
    "### Исследование продаж видео игр интернет-магазина.\n",
    "_____\n",
    "\n",
    "###### Данное исследование разделим на несколько частей.\n",
    "\n",
    "#### Часть 1. Приоритизация гипотез:\n",
    "* [1. Примение фреймворка `ICE` для приоритизации гипотез. Сортировка их по убыванию приоритета.](#1-bullet)\n",
    "* [2. Примение фреймворка `RICE` для приоритизации гипотез. Сортировка их по убыванию приоритета.](#2-bullet)\n",
    "* [3. Указание, как изменилась приоритизация гипотез при применении `RICE` вместо `ICE`. Объясние, почему так произошло.](#3-bullet)\n",
    "#### Часть 2. Анализ A/B-теста:\n",
    "* [1. Изученеие файлов с данными, получение общей информации.](#19-bullet)\n",
    "* [2. Исключение пользователей, попавших в обе группы теста.](#20-bullet)\n",
    "* [3. Создание таблицы кумулятивных данных.](#21-bullet)\n",
    "* [4. Построение графика кумулятивной выручки по группам. Выводы и предположения.](#5-bullet)\n",
    "* [5. Построение графика кумулятивного среднего чека по группам. Выводы и предположения.](#6-bullet)\n",
    "* [6. Построение графика относительного изменения кумулятивного среднего чека группы B к группе A. Выводы и предположения.](#7-bullet)\n",
    "* [7. Построение графика кумулятивной конверсии по группам. Выводы и предположения.](#8-bullet)\n",
    "* [8. Построение графика относительного изменения кумулятивной конверсии группы B к группе A. Выводы и предположения.](#9-bullet)\n",
    "* [9. Построение точечного графика количества заказов по пользователям. Выводы и предположения.](#10-bullet)\n",
    "* [10. Расчет 95-го и 99-го перцентиля количества заказов на пользователя. Выбор границы для определения аномальных пользователей.](#11-bullet)\n",
    "* [11. Построение точечного графика стоимостей заказов. Выводы и предположения.](#12-bullet)\n",
    "* [12. Расчет 95-го и 99-го перцентиля стоимости заказов. Выбор границы для определения аномальных заказов.](#13-bullet)\n",
    "* [13. Расчет статистической значимости различий в конверсии между группами по «сырым» данным. Выводы и предположения.](#14-bullet)\n",
    "* [14. Расчет статистической значимости различий в среднем чеке заказа между группами по «сырым» данным. Выводы и предположения.](#15-bullet)\n",
    "* [15. Расчет статистической значимости различий в конверсии между группами по «очищенным» данным. Выводы и предположения.](#16-bullet)\n",
    "* [16.Расчет статистической значимости различий в среднем чеке заказа между группами по «очищенным» данным. Выводы и предположения.](#17-bullet)\n",
    "* [17.Решение по результатам теста.](#18-bullet)"
   ]
  },
  {
   "cell_type": "code",
   "execution_count": 1,
   "metadata": {},
   "outputs": [],
   "source": [
    "import pandas as pd #импорт библиотеки Pandas\n",
    "from scipy import stats as st #импорт библиотеки stats\n",
    "import numpy as np #импорт библиотеки numpy\n",
    "import math as mth #импорт библиотеки math\n",
    "import datetime as dt #импорт библиотеки datetime\n",
    "import matplotlib.pyplot as plt #импорт библиотеки matplotlib"
   ]
  },
  {
   "cell_type": "markdown",
   "metadata": {},
   "source": [
    "## Приоритизация гипотез"
   ]
  },
  {
   "cell_type": "markdown",
   "metadata": {},
   "source": [
    "<a id='1-bullet'></a>\n",
    "### Примение фреймворка `ICE` для приоритизации гипотез. Сортировка их по убыванию приоритета."
   ]
  },
  {
   "cell_type": "code",
   "execution_count": 2,
   "metadata": {},
   "outputs": [],
   "source": [
    "hypothesis = pd.read_csv(\"D:\\\\Programs\\\\hypothesis.csv\")"
   ]
  },
  {
   "cell_type": "code",
   "execution_count": 3,
   "metadata": {},
   "outputs": [],
   "source": [
    "hypothesis.columns = hypothesis.columns.str.lower()"
   ]
  },
  {
   "cell_type": "code",
   "execution_count": 4,
   "metadata": {},
   "outputs": [],
   "source": [
    "pd.set_option(\"display.max_colwidth\", 150)"
   ]
  },
  {
   "cell_type": "code",
   "execution_count": 5,
   "metadata": {},
   "outputs": [],
   "source": [
    "hypothesis['ICE'] = round(hypothesis['impact']*hypothesis['confidence']/hypothesis['efforts'],2)"
   ]
  },
  {
   "cell_type": "code",
   "execution_count": 6,
   "metadata": {},
   "outputs": [
    {
     "data": {
      "text/html": [
       "<div>\n",
       "<style scoped>\n",
       "    .dataframe tbody tr th:only-of-type {\n",
       "        vertical-align: middle;\n",
       "    }\n",
       "\n",
       "    .dataframe tbody tr th {\n",
       "        vertical-align: top;\n",
       "    }\n",
       "\n",
       "    .dataframe thead th {\n",
       "        text-align: right;\n",
       "    }\n",
       "</style>\n",
       "<table border=\"1\" class=\"dataframe\">\n",
       "  <thead>\n",
       "    <tr style=\"text-align: right;\">\n",
       "      <th></th>\n",
       "      <th>hypothesis</th>\n",
       "      <th>ICE</th>\n",
       "    </tr>\n",
       "  </thead>\n",
       "  <tbody>\n",
       "    <tr>\n",
       "      <th>8</th>\n",
       "      <td>Запустить акцию, дающую скидку на товар в день рождения</td>\n",
       "      <td>16.20</td>\n",
       "    </tr>\n",
       "    <tr>\n",
       "      <th>0</th>\n",
       "      <td>Добавить два новых канала привлечения трафика, что позволит привлекать на 30% больше пользователей</td>\n",
       "      <td>13.33</td>\n",
       "    </tr>\n",
       "    <tr>\n",
       "      <th>7</th>\n",
       "      <td>Добавить форму подписки на все основные страницы, чтобы собрать базу клиентов для email-рассылок</td>\n",
       "      <td>11.20</td>\n",
       "    </tr>\n",
       "    <tr>\n",
       "      <th>6</th>\n",
       "      <td>Показать на главной странице баннеры с актуальными акциями и распродажами, чтобы увеличить конверсию</td>\n",
       "      <td>8.00</td>\n",
       "    </tr>\n",
       "    <tr>\n",
       "      <th>2</th>\n",
       "      <td>Добавить блоки рекомендаций товаров на сайт интернет магазина, чтобы повысить конверсию и средний чек заказа</td>\n",
       "      <td>7.00</td>\n",
       "    </tr>\n",
       "    <tr>\n",
       "      <th>1</th>\n",
       "      <td>Запустить собственную службу доставки, что сократит срок доставки заказов</td>\n",
       "      <td>2.00</td>\n",
       "    </tr>\n",
       "    <tr>\n",
       "      <th>5</th>\n",
       "      <td>Добавить страницу отзывов клиентов о магазине, что позволит увеличить количество заказов</td>\n",
       "      <td>1.33</td>\n",
       "    </tr>\n",
       "    <tr>\n",
       "      <th>3</th>\n",
       "      <td>Изменить структура категорий, что увеличит конверсию, т.к. пользователи быстрее найдут нужный товар</td>\n",
       "      <td>1.12</td>\n",
       "    </tr>\n",
       "    <tr>\n",
       "      <th>4</th>\n",
       "      <td>Изменить цвет фона главной страницы, чтобы увеличить вовлеченность пользователей</td>\n",
       "      <td>1.00</td>\n",
       "    </tr>\n",
       "  </tbody>\n",
       "</table>\n",
       "</div>"
      ],
      "text/plain": [
       "                                                                                                     hypothesis  \\\n",
       "8                                                       Запустить акцию, дающую скидку на товар в день рождения   \n",
       "0            Добавить два новых канала привлечения трафика, что позволит привлекать на 30% больше пользователей   \n",
       "7              Добавить форму подписки на все основные страницы, чтобы собрать базу клиентов для email-рассылок   \n",
       "6          Показать на главной странице баннеры с актуальными акциями и распродажами, чтобы увеличить конверсию   \n",
       "2  Добавить блоки рекомендаций товаров на сайт интернет магазина, чтобы повысить конверсию и средний чек заказа   \n",
       "1                                     Запустить собственную службу доставки, что сократит срок доставки заказов   \n",
       "5                      Добавить страницу отзывов клиентов о магазине, что позволит увеличить количество заказов   \n",
       "3           Изменить структура категорий, что увеличит конверсию, т.к. пользователи быстрее найдут нужный товар   \n",
       "4                              Изменить цвет фона главной страницы, чтобы увеличить вовлеченность пользователей   \n",
       "\n",
       "     ICE  \n",
       "8  16.20  \n",
       "0  13.33  \n",
       "7  11.20  \n",
       "6   8.00  \n",
       "2   7.00  \n",
       "1   2.00  \n",
       "5   1.33  \n",
       "3   1.12  \n",
       "4   1.00  "
      ]
     },
     "execution_count": 6,
     "metadata": {},
     "output_type": "execute_result"
    }
   ],
   "source": [
    "hypothesis_ice = hypothesis[['hypothesis','ICE']].sort_values(by='ICE',ascending=False)\n",
    "hypothesis_ice.head(10)"
   ]
  },
  {
   "cell_type": "markdown",
   "metadata": {},
   "source": [
    "<a id='2-bullet'></a>\n",
    "### Примение фреймворка `RICE` для приоритизации гипотез. Сортировка их по убыванию приоритета."
   ]
  },
  {
   "cell_type": "code",
   "execution_count": 7,
   "metadata": {},
   "outputs": [],
   "source": [
    "hypothesis['RICE'] = hypothesis['reach']*hypothesis['impact']*hypothesis['confidence']/hypothesis['efforts']"
   ]
  },
  {
   "cell_type": "code",
   "execution_count": 8,
   "metadata": {},
   "outputs": [
    {
     "data": {
      "text/html": [
       "<div>\n",
       "<style scoped>\n",
       "    .dataframe tbody tr th:only-of-type {\n",
       "        vertical-align: middle;\n",
       "    }\n",
       "\n",
       "    .dataframe tbody tr th {\n",
       "        vertical-align: top;\n",
       "    }\n",
       "\n",
       "    .dataframe thead th {\n",
       "        text-align: right;\n",
       "    }\n",
       "</style>\n",
       "<table border=\"1\" class=\"dataframe\">\n",
       "  <thead>\n",
       "    <tr style=\"text-align: right;\">\n",
       "      <th></th>\n",
       "      <th>hypothesis</th>\n",
       "      <th>RICE</th>\n",
       "    </tr>\n",
       "  </thead>\n",
       "  <tbody>\n",
       "    <tr>\n",
       "      <th>7</th>\n",
       "      <td>Добавить форму подписки на все основные страницы, чтобы собрать базу клиентов для email-рассылок</td>\n",
       "      <td>112.0</td>\n",
       "    </tr>\n",
       "    <tr>\n",
       "      <th>2</th>\n",
       "      <td>Добавить блоки рекомендаций товаров на сайт интернет магазина, чтобы повысить конверсию и средний чек заказа</td>\n",
       "      <td>56.0</td>\n",
       "    </tr>\n",
       "    <tr>\n",
       "      <th>0</th>\n",
       "      <td>Добавить два новых канала привлечения трафика, что позволит привлекать на 30% больше пользователей</td>\n",
       "      <td>40.0</td>\n",
       "    </tr>\n",
       "    <tr>\n",
       "      <th>6</th>\n",
       "      <td>Показать на главной странице баннеры с актуальными акциями и распродажами, чтобы увеличить конверсию</td>\n",
       "      <td>40.0</td>\n",
       "    </tr>\n",
       "    <tr>\n",
       "      <th>8</th>\n",
       "      <td>Запустить акцию, дающую скидку на товар в день рождения</td>\n",
       "      <td>16.2</td>\n",
       "    </tr>\n",
       "    <tr>\n",
       "      <th>3</th>\n",
       "      <td>Изменить структура категорий, что увеличит конверсию, т.к. пользователи быстрее найдут нужный товар</td>\n",
       "      <td>9.0</td>\n",
       "    </tr>\n",
       "    <tr>\n",
       "      <th>1</th>\n",
       "      <td>Запустить собственную службу доставки, что сократит срок доставки заказов</td>\n",
       "      <td>4.0</td>\n",
       "    </tr>\n",
       "    <tr>\n",
       "      <th>5</th>\n",
       "      <td>Добавить страницу отзывов клиентов о магазине, что позволит увеличить количество заказов</td>\n",
       "      <td>4.0</td>\n",
       "    </tr>\n",
       "    <tr>\n",
       "      <th>4</th>\n",
       "      <td>Изменить цвет фона главной страницы, чтобы увеличить вовлеченность пользователей</td>\n",
       "      <td>3.0</td>\n",
       "    </tr>\n",
       "  </tbody>\n",
       "</table>\n",
       "</div>"
      ],
      "text/plain": [
       "                                                                                                     hypothesis  \\\n",
       "7              Добавить форму подписки на все основные страницы, чтобы собрать базу клиентов для email-рассылок   \n",
       "2  Добавить блоки рекомендаций товаров на сайт интернет магазина, чтобы повысить конверсию и средний чек заказа   \n",
       "0            Добавить два новых канала привлечения трафика, что позволит привлекать на 30% больше пользователей   \n",
       "6          Показать на главной странице баннеры с актуальными акциями и распродажами, чтобы увеличить конверсию   \n",
       "8                                                       Запустить акцию, дающую скидку на товар в день рождения   \n",
       "3           Изменить структура категорий, что увеличит конверсию, т.к. пользователи быстрее найдут нужный товар   \n",
       "1                                     Запустить собственную службу доставки, что сократит срок доставки заказов   \n",
       "5                      Добавить страницу отзывов клиентов о магазине, что позволит увеличить количество заказов   \n",
       "4                              Изменить цвет фона главной страницы, чтобы увеличить вовлеченность пользователей   \n",
       "\n",
       "    RICE  \n",
       "7  112.0  \n",
       "2   56.0  \n",
       "0   40.0  \n",
       "6   40.0  \n",
       "8   16.2  \n",
       "3    9.0  \n",
       "1    4.0  \n",
       "5    4.0  \n",
       "4    3.0  "
      ]
     },
     "execution_count": 8,
     "metadata": {},
     "output_type": "execute_result"
    }
   ],
   "source": [
    "hypothesis_rice = hypothesis[['hypothesis','RICE']].sort_values(by='RICE',ascending=False)\n",
    "hypothesis_rice.head(10)"
   ]
  },
  {
   "cell_type": "markdown",
   "metadata": {},
   "source": [
    "<a id='3-bullet'></a>\n",
    "### Указание, как изменилась приоритизация гипотез при применении `RICE` вместо `ICE`. Объясние, почему так произошло."
   ]
  },
  {
   "cell_type": "markdown",
   "metadata": {},
   "source": [
    "При разных способах приоритизации мы получили разные приоритеты выполнения задач. Так получилось благодаря тому, что при приоритизации способом `RICE` добавился новый параметр `Reach`,  который отвечает за пользователей, которых затронет изменение, внесенное нами."
   ]
  },
  {
   "cell_type": "markdown",
   "metadata": {},
   "source": [
    "## Анализ A/B-теста"
   ]
  },
  {
   "cell_type": "markdown",
   "metadata": {},
   "source": [
    "<a id='19-bullet'></a>\n",
    "### Изученеие файлов с данными, получение общей информации"
   ]
  },
  {
   "cell_type": "code",
   "execution_count": 9,
   "metadata": {},
   "outputs": [],
   "source": [
    "orders = pd.read_csv(\"D:\\\\Programs\\\\orders.csv\")\n",
    "orders['date'] = orders['date'].map(\n",
    "    lambda x: dt.datetime.strptime(x, '%Y-%m-%d')\n",
    ")"
   ]
  },
  {
   "cell_type": "code",
   "execution_count": 10,
   "metadata": {},
   "outputs": [
    {
     "name": "stdout",
     "output_type": "stream",
     "text": [
      "<class 'pandas.core.frame.DataFrame'>\n",
      "RangeIndex: 1197 entries, 0 to 1196\n",
      "Data columns (total 5 columns):\n",
      " #   Column         Non-Null Count  Dtype         \n",
      "---  ------         --------------  -----         \n",
      " 0   transactionId  1197 non-null   int64         \n",
      " 1   visitorId      1197 non-null   int64         \n",
      " 2   date           1197 non-null   datetime64[ns]\n",
      " 3   revenue        1197 non-null   int64         \n",
      " 4   group          1197 non-null   object        \n",
      "dtypes: datetime64[ns](1), int64(3), object(1)\n",
      "memory usage: 46.9+ KB\n"
     ]
    }
   ],
   "source": [
    "orders.info()"
   ]
  },
  {
   "cell_type": "code",
   "execution_count": 11,
   "metadata": {},
   "outputs": [],
   "source": [
    "orders = orders.rename( \n",
    " columns={ \n",
    "'transactionId': 'transaction_id', \n",
    "'visitorId': 'visitor_id' \n",
    " } \n",
    ")"
   ]
  },
  {
   "cell_type": "code",
   "execution_count": 12,
   "metadata": {},
   "outputs": [],
   "source": [
    "visitors = pd.read_csv(\n",
    "    \"D:\\\\Programs\\\\visitors.csv\"\n",
    ")\n",
    "visitors['date'] = visitors['date'].map(\n",
    "    lambda x: dt.datetime.strptime(x, '%Y-%m-%d')\n",
    ")"
   ]
  },
  {
   "cell_type": "code",
   "execution_count": 13,
   "metadata": {},
   "outputs": [
    {
     "name": "stdout",
     "output_type": "stream",
     "text": [
      "<class 'pandas.core.frame.DataFrame'>\n",
      "RangeIndex: 62 entries, 0 to 61\n",
      "Data columns (total 3 columns):\n",
      " #   Column    Non-Null Count  Dtype         \n",
      "---  ------    --------------  -----         \n",
      " 0   date      62 non-null     datetime64[ns]\n",
      " 1   group     62 non-null     object        \n",
      " 2   visitors  62 non-null     int64         \n",
      "dtypes: datetime64[ns](1), int64(1), object(1)\n",
      "memory usage: 1.6+ KB\n"
     ]
    }
   ],
   "source": [
    "visitors.info()"
   ]
  },
  {
   "cell_type": "code",
   "execution_count": 14,
   "metadata": {},
   "outputs": [
    {
     "data": {
      "text/html": [
       "<div>\n",
       "<style scoped>\n",
       "    .dataframe tbody tr th:only-of-type {\n",
       "        vertical-align: middle;\n",
       "    }\n",
       "\n",
       "    .dataframe tbody tr th {\n",
       "        vertical-align: top;\n",
       "    }\n",
       "\n",
       "    .dataframe thead th {\n",
       "        text-align: right;\n",
       "    }\n",
       "</style>\n",
       "<table border=\"1\" class=\"dataframe\">\n",
       "  <thead>\n",
       "    <tr style=\"text-align: right;\">\n",
       "      <th></th>\n",
       "      <th>date</th>\n",
       "      <th>group</th>\n",
       "      <th>visitors</th>\n",
       "    </tr>\n",
       "  </thead>\n",
       "  <tbody>\n",
       "    <tr>\n",
       "      <th>0</th>\n",
       "      <td>2019-08-01</td>\n",
       "      <td>A</td>\n",
       "      <td>719</td>\n",
       "    </tr>\n",
       "    <tr>\n",
       "      <th>1</th>\n",
       "      <td>2019-08-02</td>\n",
       "      <td>A</td>\n",
       "      <td>619</td>\n",
       "    </tr>\n",
       "    <tr>\n",
       "      <th>2</th>\n",
       "      <td>2019-08-03</td>\n",
       "      <td>A</td>\n",
       "      <td>507</td>\n",
       "    </tr>\n",
       "    <tr>\n",
       "      <th>3</th>\n",
       "      <td>2019-08-04</td>\n",
       "      <td>A</td>\n",
       "      <td>717</td>\n",
       "    </tr>\n",
       "    <tr>\n",
       "      <th>4</th>\n",
       "      <td>2019-08-05</td>\n",
       "      <td>A</td>\n",
       "      <td>756</td>\n",
       "    </tr>\n",
       "  </tbody>\n",
       "</table>\n",
       "</div>"
      ],
      "text/plain": [
       "        date group  visitors\n",
       "0 2019-08-01     A       719\n",
       "1 2019-08-02     A       619\n",
       "2 2019-08-03     A       507\n",
       "3 2019-08-04     A       717\n",
       "4 2019-08-05     A       756"
      ]
     },
     "execution_count": 14,
     "metadata": {},
     "output_type": "execute_result"
    }
   ],
   "source": [
    "visitors.head()"
   ]
  },
  {
   "cell_type": "markdown",
   "metadata": {},
   "source": [
    "<a id='20-bullet'></a>\n",
    "### Исключение пользователей, попавших в обе группы теста"
   ]
  },
  {
   "cell_type": "markdown",
   "metadata": {},
   "source": [
    "Прежде чем приступить к анализу необходимо исключить пользователей, попавших в обе группы теста."
   ]
  },
  {
   "cell_type": "code",
   "execution_count": 15,
   "metadata": {},
   "outputs": [],
   "source": [
    "unique_visitors_a = orders[orders['group']=='A']['visitor_id'].unique()"
   ]
  },
  {
   "cell_type": "code",
   "execution_count": 16,
   "metadata": {},
   "outputs": [],
   "source": [
    "unique_visitors_a = set(unique_visitors_a.ravel().tolist())"
   ]
  },
  {
   "cell_type": "code",
   "execution_count": 17,
   "metadata": {},
   "outputs": [],
   "source": [
    "unique_visitors_b = orders[orders['group']=='B']['visitor_id'].unique()"
   ]
  },
  {
   "cell_type": "code",
   "execution_count": 18,
   "metadata": {},
   "outputs": [],
   "source": [
    "unique_visitors_b =  set(unique_visitors_b.tolist())"
   ]
  },
  {
   "cell_type": "code",
   "execution_count": 19,
   "metadata": {},
   "outputs": [],
   "source": [
    "intersection_visitors = unique_visitors_a.intersection(unique_visitors_b)"
   ]
  },
  {
   "cell_type": "code",
   "execution_count": 20,
   "metadata": {},
   "outputs": [],
   "source": [
    "intersection_visitors = list(intersection_visitors)"
   ]
  },
  {
   "cell_type": "code",
   "execution_count": 21,
   "metadata": {},
   "outputs": [],
   "source": [
    "orders = orders[np.logical_not(orders['visitor_id'].isin(intersection_visitors))]"
   ]
  },
  {
   "cell_type": "markdown",
   "metadata": {},
   "source": [
    "Для построения графиков кумулятивных данных необходимо, для начала, создать таблицу, где будут собраны кумулятивные данные по дням и группам количества заказов, покупок, визитов и сумме покупок."
   ]
  },
  {
   "cell_type": "markdown",
   "metadata": {},
   "source": [
    "<a id='21-bullet'></a>\n",
    "### Создание таблицы кумулятивных данных."
   ]
  },
  {
   "cell_type": "code",
   "execution_count": 22,
   "metadata": {},
   "outputs": [],
   "source": [
    "dates_groups = orders[['date','group']].drop_duplicates() # создаем массив уникальных пар значений дат и групп теста"
   ]
  },
  {
   "cell_type": "code",
   "execution_count": 23,
   "metadata": {},
   "outputs": [
    {
     "data": {
      "text/html": [
       "<div>\n",
       "<style scoped>\n",
       "    .dataframe tbody tr th:only-of-type {\n",
       "        vertical-align: middle;\n",
       "    }\n",
       "\n",
       "    .dataframe tbody tr th {\n",
       "        vertical-align: top;\n",
       "    }\n",
       "\n",
       "    .dataframe thead th {\n",
       "        text-align: right;\n",
       "    }\n",
       "</style>\n",
       "<table border=\"1\" class=\"dataframe\">\n",
       "  <thead>\n",
       "    <tr style=\"text-align: right;\">\n",
       "      <th></th>\n",
       "      <th>date</th>\n",
       "      <th>group</th>\n",
       "    </tr>\n",
       "  </thead>\n",
       "  <tbody>\n",
       "    <tr>\n",
       "      <th>0</th>\n",
       "      <td>2019-08-15</td>\n",
       "      <td>B</td>\n",
       "    </tr>\n",
       "    <tr>\n",
       "      <th>7</th>\n",
       "      <td>2019-08-15</td>\n",
       "      <td>A</td>\n",
       "    </tr>\n",
       "    <tr>\n",
       "      <th>45</th>\n",
       "      <td>2019-08-16</td>\n",
       "      <td>A</td>\n",
       "    </tr>\n",
       "    <tr>\n",
       "      <th>47</th>\n",
       "      <td>2019-08-16</td>\n",
       "      <td>B</td>\n",
       "    </tr>\n",
       "    <tr>\n",
       "      <th>55</th>\n",
       "      <td>2019-08-01</td>\n",
       "      <td>A</td>\n",
       "    </tr>\n",
       "    <tr>\n",
       "      <th>...</th>\n",
       "      <td>...</td>\n",
       "      <td>...</td>\n",
       "    </tr>\n",
       "    <tr>\n",
       "      <th>1068</th>\n",
       "      <td>2019-08-12</td>\n",
       "      <td>A</td>\n",
       "    </tr>\n",
       "    <tr>\n",
       "      <th>1114</th>\n",
       "      <td>2019-08-13</td>\n",
       "      <td>B</td>\n",
       "    </tr>\n",
       "    <tr>\n",
       "      <th>1116</th>\n",
       "      <td>2019-08-13</td>\n",
       "      <td>A</td>\n",
       "    </tr>\n",
       "    <tr>\n",
       "      <th>1149</th>\n",
       "      <td>2019-08-14</td>\n",
       "      <td>B</td>\n",
       "    </tr>\n",
       "    <tr>\n",
       "      <th>1150</th>\n",
       "      <td>2019-08-14</td>\n",
       "      <td>A</td>\n",
       "    </tr>\n",
       "  </tbody>\n",
       "</table>\n",
       "<p>62 rows × 2 columns</p>\n",
       "</div>"
      ],
      "text/plain": [
       "           date group\n",
       "0    2019-08-15     B\n",
       "7    2019-08-15     A\n",
       "45   2019-08-16     A\n",
       "47   2019-08-16     B\n",
       "55   2019-08-01     A\n",
       "...         ...   ...\n",
       "1068 2019-08-12     A\n",
       "1114 2019-08-13     B\n",
       "1116 2019-08-13     A\n",
       "1149 2019-08-14     B\n",
       "1150 2019-08-14     A\n",
       "\n",
       "[62 rows x 2 columns]"
      ]
     },
     "execution_count": 23,
     "metadata": {},
     "output_type": "execute_result"
    }
   ],
   "source": [
    "dates_groups"
   ]
  },
  {
   "cell_type": "code",
   "execution_count": 24,
   "metadata": {},
   "outputs": [],
   "source": [
    "orders_aggregated = dates_groups.apply(lambda x: orders[np.logical_and(orders['date'] <= x['date'], \n",
    "                                                                       orders['group'] == x['group'])]\\\n",
    "                                       .agg({'date' : 'max',\n",
    "                                             'group' : 'max', \n",
    "                                             'transaction_id' : 'nunique',\n",
    "                                             'visitor_id' : 'nunique',\n",
    "                                             'revenue' : 'sum'}), axis=1\n",
    "                                      ).sort_values(by=['date','group']) \n",
    "#агрегированные кумулятивные по дням данные о заказах"
   ]
  },
  {
   "cell_type": "code",
   "execution_count": 25,
   "metadata": {},
   "outputs": [
    {
     "data": {
      "text/html": [
       "<div>\n",
       "<style scoped>\n",
       "    .dataframe tbody tr th:only-of-type {\n",
       "        vertical-align: middle;\n",
       "    }\n",
       "\n",
       "    .dataframe tbody tr th {\n",
       "        vertical-align: top;\n",
       "    }\n",
       "\n",
       "    .dataframe thead th {\n",
       "        text-align: right;\n",
       "    }\n",
       "</style>\n",
       "<table border=\"1\" class=\"dataframe\">\n",
       "  <thead>\n",
       "    <tr style=\"text-align: right;\">\n",
       "      <th></th>\n",
       "      <th>date</th>\n",
       "      <th>group</th>\n",
       "      <th>transaction_id</th>\n",
       "      <th>visitor_id</th>\n",
       "      <th>revenue</th>\n",
       "    </tr>\n",
       "  </thead>\n",
       "  <tbody>\n",
       "    <tr>\n",
       "      <th>55</th>\n",
       "      <td>2019-08-01</td>\n",
       "      <td>A</td>\n",
       "      <td>23</td>\n",
       "      <td>19</td>\n",
       "      <td>142779</td>\n",
       "    </tr>\n",
       "    <tr>\n",
       "      <th>66</th>\n",
       "      <td>2019-08-01</td>\n",
       "      <td>B</td>\n",
       "      <td>17</td>\n",
       "      <td>17</td>\n",
       "      <td>59758</td>\n",
       "    </tr>\n",
       "    <tr>\n",
       "      <th>175</th>\n",
       "      <td>2019-08-02</td>\n",
       "      <td>A</td>\n",
       "      <td>42</td>\n",
       "      <td>36</td>\n",
       "      <td>234381</td>\n",
       "    </tr>\n",
       "    <tr>\n",
       "      <th>173</th>\n",
       "      <td>2019-08-02</td>\n",
       "      <td>B</td>\n",
       "      <td>40</td>\n",
       "      <td>39</td>\n",
       "      <td>221801</td>\n",
       "    </tr>\n",
       "    <tr>\n",
       "      <th>291</th>\n",
       "      <td>2019-08-03</td>\n",
       "      <td>A</td>\n",
       "      <td>66</td>\n",
       "      <td>60</td>\n",
       "      <td>346854</td>\n",
       "    </tr>\n",
       "  </tbody>\n",
       "</table>\n",
       "</div>"
      ],
      "text/plain": [
       "          date group  transaction_id  visitor_id  revenue\n",
       "55  2019-08-01     A              23          19   142779\n",
       "66  2019-08-01     B              17          17    59758\n",
       "175 2019-08-02     A              42          36   234381\n",
       "173 2019-08-02     B              40          39   221801\n",
       "291 2019-08-03     A              66          60   346854"
      ]
     },
     "execution_count": 25,
     "metadata": {},
     "output_type": "execute_result"
    }
   ],
   "source": [
    "orders_aggregated.head()"
   ]
  },
  {
   "cell_type": "code",
   "execution_count": 26,
   "metadata": {},
   "outputs": [],
   "source": [
    "visitors_aggregated = dates_groups.apply(lambda x: visitors[np.logical_and(visitors['date'] <= x['date'],\n",
    "                                                                         visitors['group'] == x['group'])]\n",
    "                                       .agg({'date' : 'max',\n",
    "                                             'group' : 'max',\n",
    "                                             'visitors' : 'sum'}), axis=1\n",
    "                                      ).sort_values(by=['date','group'])\n",
    "#агрегированные кумулятивные по дням данные о посетителях интернет-магазина"
   ]
  },
  {
   "cell_type": "code",
   "execution_count": 27,
   "metadata": {},
   "outputs": [
    {
     "data": {
      "text/html": [
       "<div>\n",
       "<style scoped>\n",
       "    .dataframe tbody tr th:only-of-type {\n",
       "        vertical-align: middle;\n",
       "    }\n",
       "\n",
       "    .dataframe tbody tr th {\n",
       "        vertical-align: top;\n",
       "    }\n",
       "\n",
       "    .dataframe thead th {\n",
       "        text-align: right;\n",
       "    }\n",
       "</style>\n",
       "<table border=\"1\" class=\"dataframe\">\n",
       "  <thead>\n",
       "    <tr style=\"text-align: right;\">\n",
       "      <th></th>\n",
       "      <th>date</th>\n",
       "      <th>group</th>\n",
       "      <th>visitors</th>\n",
       "    </tr>\n",
       "  </thead>\n",
       "  <tbody>\n",
       "    <tr>\n",
       "      <th>55</th>\n",
       "      <td>2019-08-01</td>\n",
       "      <td>A</td>\n",
       "      <td>719</td>\n",
       "    </tr>\n",
       "    <tr>\n",
       "      <th>66</th>\n",
       "      <td>2019-08-01</td>\n",
       "      <td>B</td>\n",
       "      <td>713</td>\n",
       "    </tr>\n",
       "    <tr>\n",
       "      <th>175</th>\n",
       "      <td>2019-08-02</td>\n",
       "      <td>A</td>\n",
       "      <td>1338</td>\n",
       "    </tr>\n",
       "    <tr>\n",
       "      <th>173</th>\n",
       "      <td>2019-08-02</td>\n",
       "      <td>B</td>\n",
       "      <td>1294</td>\n",
       "    </tr>\n",
       "    <tr>\n",
       "      <th>291</th>\n",
       "      <td>2019-08-03</td>\n",
       "      <td>A</td>\n",
       "      <td>1845</td>\n",
       "    </tr>\n",
       "  </tbody>\n",
       "</table>\n",
       "</div>"
      ],
      "text/plain": [
       "          date group  visitors\n",
       "55  2019-08-01     A       719\n",
       "66  2019-08-01     B       713\n",
       "175 2019-08-02     A      1338\n",
       "173 2019-08-02     B      1294\n",
       "291 2019-08-03     A      1845"
      ]
     },
     "execution_count": 27,
     "metadata": {},
     "output_type": "execute_result"
    }
   ],
   "source": [
    "visitors_aggregated.head()"
   ]
  },
  {
   "cell_type": "markdown",
   "metadata": {},
   "source": [
    "Объединим таблицы"
   ]
  },
  {
   "cell_type": "code",
   "execution_count": 28,
   "metadata": {},
   "outputs": [],
   "source": [
    "cumulative_data = orders_aggregated.merge(visitors_aggregated, left_on=['date', 'group'], right_on=['date', 'group'])\n",
    "# объединяем кумулятивные данные в одной таблице\n",
    "cumulative_data.columns = ['date', 'group', 'orders', 'buyers', 'revenue', 'visitors'] \n",
    "#присваиваем ее столбцам названия"
   ]
  },
  {
   "cell_type": "code",
   "execution_count": 29,
   "metadata": {},
   "outputs": [
    {
     "data": {
      "text/html": [
       "<div>\n",
       "<style scoped>\n",
       "    .dataframe tbody tr th:only-of-type {\n",
       "        vertical-align: middle;\n",
       "    }\n",
       "\n",
       "    .dataframe tbody tr th {\n",
       "        vertical-align: top;\n",
       "    }\n",
       "\n",
       "    .dataframe thead th {\n",
       "        text-align: right;\n",
       "    }\n",
       "</style>\n",
       "<table border=\"1\" class=\"dataframe\">\n",
       "  <thead>\n",
       "    <tr style=\"text-align: right;\">\n",
       "      <th></th>\n",
       "      <th>date</th>\n",
       "      <th>group</th>\n",
       "      <th>orders</th>\n",
       "      <th>buyers</th>\n",
       "      <th>revenue</th>\n",
       "      <th>visitors</th>\n",
       "    </tr>\n",
       "  </thead>\n",
       "  <tbody>\n",
       "    <tr>\n",
       "      <th>0</th>\n",
       "      <td>2019-08-01</td>\n",
       "      <td>A</td>\n",
       "      <td>23</td>\n",
       "      <td>19</td>\n",
       "      <td>142779</td>\n",
       "      <td>719</td>\n",
       "    </tr>\n",
       "    <tr>\n",
       "      <th>1</th>\n",
       "      <td>2019-08-01</td>\n",
       "      <td>B</td>\n",
       "      <td>17</td>\n",
       "      <td>17</td>\n",
       "      <td>59758</td>\n",
       "      <td>713</td>\n",
       "    </tr>\n",
       "    <tr>\n",
       "      <th>2</th>\n",
       "      <td>2019-08-02</td>\n",
       "      <td>A</td>\n",
       "      <td>42</td>\n",
       "      <td>36</td>\n",
       "      <td>234381</td>\n",
       "      <td>1338</td>\n",
       "    </tr>\n",
       "    <tr>\n",
       "      <th>3</th>\n",
       "      <td>2019-08-02</td>\n",
       "      <td>B</td>\n",
       "      <td>40</td>\n",
       "      <td>39</td>\n",
       "      <td>221801</td>\n",
       "      <td>1294</td>\n",
       "    </tr>\n",
       "    <tr>\n",
       "      <th>4</th>\n",
       "      <td>2019-08-03</td>\n",
       "      <td>A</td>\n",
       "      <td>66</td>\n",
       "      <td>60</td>\n",
       "      <td>346854</td>\n",
       "      <td>1845</td>\n",
       "    </tr>\n",
       "  </tbody>\n",
       "</table>\n",
       "</div>"
      ],
      "text/plain": [
       "        date group  orders  buyers  revenue  visitors\n",
       "0 2019-08-01     A      23      19   142779       719\n",
       "1 2019-08-01     B      17      17    59758       713\n",
       "2 2019-08-02     A      42      36   234381      1338\n",
       "3 2019-08-02     B      40      39   221801      1294\n",
       "4 2019-08-03     A      66      60   346854      1845"
      ]
     },
     "execution_count": 29,
     "metadata": {},
     "output_type": "execute_result"
    }
   ],
   "source": [
    "cumulative_data.head()"
   ]
  },
  {
   "cell_type": "markdown",
   "metadata": {},
   "source": [
    "<a id='5-bullet'></a>\n",
    "### Построение графика кумулятивной выручки по группам. Выводы и предположения."
   ]
  },
  {
   "cell_type": "markdown",
   "metadata": {},
   "source": [
    "Построим график кумулятивной выручки по группам"
   ]
  },
  {
   "cell_type": "code",
   "execution_count": 30,
   "metadata": {},
   "outputs": [
    {
     "data": {
      "image/png": "[encoded data removed]",
      "text/plain": [
       "<Figure size 1080x360 with 1 Axes>"
      ]
     },
     "metadata": {
      "needs_background": "light"
     },
     "output_type": "display_data"
    }
   ],
   "source": [
    "# датафрейм с кумулятивным количеством заказов и кумулятивной выручкой по дням в группе А\n",
    "cumulative_revenue_a = cumulative_data[cumulative_data['group']=='A'][['date','revenue', 'orders']]\n",
    "\n",
    "# датафрейм с кумулятивным количеством заказов и кумулятивной выручкой по дням в группе B\n",
    "cumulative_revenue_b = cumulative_data[cumulative_data['group']=='B'][['date','revenue', 'orders']]\n",
    "\n",
    "plt.figure(figsize=(15,5))\n",
    "\n",
    "# Строим график выручки группы А\n",
    "plt.plot(cumulative_revenue_a['date'], cumulative_revenue_a['revenue'], label='A')\n",
    "\n",
    "# Строим график выручки группы B\n",
    "plt.plot(cumulative_revenue_b['date'], cumulative_revenue_b['revenue'], label='B')\n",
    "plt.title('График кумулятивной выручки по группам')\n",
    "plt.xlabel('Дата')\n",
    "plt.ylabel('Кумулятивная выручка')\n",
    "plt.legend();"
   ]
  },
  {
   "cell_type": "markdown",
   "metadata": {},
   "source": [
    "Выручка группы В стабильно выше А. Однако, график группы В резко возрастает 18 августа, что может говорить о всплесках числа заказов, либо о появлении очень дорогих заказов в выборке."
   ]
  },
  {
   "cell_type": "markdown",
   "metadata": {},
   "source": [
    "<a id='6-bullet'></a>\n",
    "### Построение графика кумулятивного среднего чека по группам. Выводы и предположения."
   ]
  },
  {
   "cell_type": "markdown",
   "metadata": {},
   "source": [
    "Построим график кумулятивного среднего чека по группам"
   ]
  },
  {
   "cell_type": "code",
   "execution_count": 31,
   "metadata": {},
   "outputs": [
    {
     "data": {
      "image/png": "[encoded data removed]",
      "text/plain": [
       "<Figure size 1080x360 with 1 Axes>"
      ]
     },
     "metadata": {
      "needs_background": "light"
     },
     "output_type": "display_data"
    }
   ],
   "source": [
    "plt.figure(figsize=(15,5))\n",
    "plt.plot(cumulative_revenue_a['date'], cumulative_revenue_a['revenue']/cumulative_revenue_a['orders'], label='A')\n",
    "plt.plot(cumulative_revenue_b['date'], cumulative_revenue_b['revenue']/cumulative_revenue_b['orders'], label='B')\n",
    "plt.title('График кумулятивного среднего чека по группам')\n",
    "plt.xlabel('Дата')\n",
    "plt.ylabel('Кумулятивный средний чек')\n",
    "plt.legend(); "
   ]
  },
  {
   "cell_type": "markdown",
   "metadata": {},
   "source": [
    "На графиках можно наблюдать увеличение среднего чека для обеих групп. Средний чек группы `В`, в целом, выше, чем у `А`. Но и здесь можно заметить резкий увеличение среднено чека 18 августа у группы `B`."
   ]
  },
  {
   "cell_type": "markdown",
   "metadata": {},
   "source": [
    "<a id='7-bullet'></a>\n",
    "### Построение графика относительного изменения кумулятивного среднего чека группы B к группе A. Выводы и предположения."
   ]
  },
  {
   "cell_type": "markdown",
   "metadata": {},
   "source": [
    "Построим график относительного изменения кумулятивного среднего чека группы B к группе A."
   ]
  },
  {
   "cell_type": "code",
   "execution_count": 32,
   "metadata": {},
   "outputs": [
    {
     "data": {
      "image/png": "[encoded data removed]",
      "text/plain": [
       "<Figure size 1080x360 with 1 Axes>"
      ]
     },
     "metadata": {
      "needs_background": "light"
     },
     "output_type": "display_data"
    }
   ],
   "source": [
    "plt.figure(figsize=(15,5))\n",
    "# собираем данные в одном датафрейме\n",
    "merged_cumulative_revenue = cumulative_revenue_a.merge(cumulative_revenue_b, left_on='date', right_on='date', how='left', suffixes=['A', 'B'])\n",
    "\n",
    "# cтроим отношение средних чеков\n",
    "plt.plot(merged_cumulative_revenue['date'], (merged_cumulative_revenue['revenueB']/merged_cumulative_revenue['ordersB'])/(merged_cumulative_revenue['revenueA']/merged_cumulative_revenue['ordersA'])-1)\n",
    "\n",
    "# добавляем ось X\n",
    "plt.axhline(y=0, color='black', linestyle='--') \n",
    "plt.title('График относительного изменения кумулятивного среднего чека группы B к группе A')\n",
    "plt.xlabel('Дата')\n",
    "plt.ylabel('Отношение кумулятивного среднего чека')\n",
    "plt.show()"
   ]
  },
  {
   "cell_type": "markdown",
   "metadata": {},
   "source": [
    "В нескольких точках график различия между сегментами резко изменяется. Это говорит, что в данных есть крупные заказы и выбросы."
   ]
  },
  {
   "cell_type": "markdown",
   "metadata": {},
   "source": [
    "<a id='8-bullet'></a>\n",
    "### Построение графика кумулятивной конверсии по группам. Выводы и предположения."
   ]
  },
  {
   "cell_type": "markdown",
   "metadata": {},
   "source": [
    "Построим график кумулятивной конверсии по группам"
   ]
  },
  {
   "cell_type": "code",
   "execution_count": 33,
   "metadata": {},
   "outputs": [
    {
     "data": {
      "image/png": "[encoded data removed]",
      "text/plain": [
       "<Figure size 1080x360 with 1 Axes>"
      ]
     },
     "metadata": {
      "needs_background": "light"
     },
     "output_type": "display_data"
    }
   ],
   "source": [
    "plt.figure(figsize=(15,5))\n",
    "# считаем кумулятивную конверсию\n",
    "cumulative_data['conversion'] = cumulative_data['orders']/cumulative_data['visitors']\n",
    "\n",
    "# отделяем данные по группе A\n",
    "cumulative_data_a = cumulative_data[cumulative_data['group']=='A']\n",
    "\n",
    "# отделяем данные по группе B\n",
    "cumulative_data_b = cumulative_data[cumulative_data['group']=='B']\n",
    "\n",
    "# строим графики\n",
    "plt.plot(cumulative_data_a['date'], cumulative_data_a['conversion'], label='A')\n",
    "plt.plot(cumulative_data_b['date'], cumulative_data_b['conversion'], label='B')\n",
    "plt.title('График кумулятивной конверсии по группам')\n",
    "plt.xlabel('Дата')\n",
    "plt.ylabel('Кумулятивная конверсия по группам')\n",
    "plt.legend()\n",
    "plt.show()"
   ]
  },
  {
   "cell_type": "markdown",
   "metadata": {},
   "source": [
    "Конверсия лучше у группы `В`. В двух графиках имеются резкие колебания, что может говорить о выбросах."
   ]
  },
  {
   "cell_type": "markdown",
   "metadata": {},
   "source": [
    "<a id='9-bullet'></a>\n",
    "### Построение графика относительного изменения кумулятивной конверсии группы B к группе A. Выводы и предположения."
   ]
  },
  {
   "cell_type": "markdown",
   "metadata": {},
   "source": [
    "Построим график относительного изменения кумулятивной конверсии группы B к группе A."
   ]
  },
  {
   "cell_type": "code",
   "execution_count": 34,
   "metadata": {},
   "outputs": [
    {
     "data": {
      "image/png": "[encoded data removed]",
      "text/plain": [
       "<Figure size 1080x360 with 1 Axes>"
      ]
     },
     "metadata": {
      "needs_background": "light"
     },
     "output_type": "display_data"
    }
   ],
   "source": [
    "plt.figure(figsize=(15,5))\n",
    "merged_сumulative_сonversions = cumulative_data_a[['date','conversion']].merge(cumulative_data_b[['date','conversion']], left_on='date', right_on='date', how='left', suffixes=['A', 'B'])\n",
    "\n",
    "plt.plot(merged_сumulative_сonversions['date'], merged_сumulative_сonversions['conversionB']/merged_сumulative_сonversions['conversionA']-1, label=\"Относительный прирост конверсии группы B относительно группы A\")\n",
    "\n",
    "\n",
    "plt.axhline(y=0, color='black', linestyle='--')\n",
    "plt.axhline(y=0.14, color='grey', linestyle='--')\n",
    "plt.title('График относительного изменения кумулятивной конверсии группы B к группе A')\n",
    "plt.xlabel('Дата')\n",
    "plt.ylabel('Отношение кумулятивной конверсии')\n",
    "plt.legend()\n",
    "plt.show()"
   ]
  },
  {
   "cell_type": "markdown",
   "metadata": {},
   "source": [
    "В начале теста группа `B` значительно проигрывала группе `A`, затем вырвалась вперёд. "
   ]
  },
  {
   "cell_type": "markdown",
   "metadata": {},
   "source": [
    "<a id='10-bullet'></a>\n",
    "### Построение точечного графика количества заказов по пользователям. Выводы и предположения."
   ]
  },
  {
   "cell_type": "markdown",
   "metadata": {},
   "source": [
    "Построим точечный график количества заказов по пользователям."
   ]
  },
  {
   "cell_type": "code",
   "execution_count": 35,
   "metadata": {},
   "outputs": [
    {
     "data": {
      "text/plain": [
       "<matplotlib.collections.PathCollection at 0x26c1f369f40>"
      ]
     },
     "execution_count": 35,
     "metadata": {},
     "output_type": "execute_result"
    },
    {
     "data": {
      "image/png": "[encoded data removed]",
      "text/plain": [
       "<Figure size 432x288 with 1 Axes>"
      ]
     },
     "metadata": {
      "needs_background": "light"
     },
     "output_type": "display_data"
    }
   ],
   "source": [
    "orders_by_users = (\n",
    "    orders.groupby('visitor_id', as_index=False)\n",
    "    .agg({'transaction_id': 'nunique'})\n",
    ")\n",
    "\n",
    "orders_by_users.columns = ['visitor', 'transaction']\n",
    "x_values = pd.Series(range(0,len(orders_by_users)))\n",
    "\n",
    "plt.scatter(x_values, orders_by_users['transaction'])"
   ]
  },
  {
   "cell_type": "markdown",
   "metadata": {},
   "source": [
    "Много пользователей, делавших заказ от 1 до 2 раз. Можно предположить, что показатели количества заказов от 2 и более можно считать аномальными."
   ]
  },
  {
   "cell_type": "markdown",
   "metadata": {},
   "source": [
    "<a id='11-bullet'></a>\n",
    "### Расчет 95-го и 99-го перцентиля количества заказов на пользователя. Выбор границы для определения аномальных пользователей."
   ]
  },
  {
   "cell_type": "markdown",
   "metadata": {},
   "source": [
    "Посчитаем 95-й и 99-й перцентили количества заказов на пользователя"
   ]
  },
  {
   "cell_type": "code",
   "execution_count": 36,
   "metadata": {},
   "outputs": [
    {
     "data": {
      "text/plain": [
       "array([1., 1., 2.])"
      ]
     },
     "execution_count": 36,
     "metadata": {},
     "output_type": "execute_result"
    }
   ],
   "source": [
    "np.percentile(orders_by_users['transaction'], [90, 95, 99])"
   ]
  },
  {
   "cell_type": "markdown",
   "metadata": {},
   "source": [
    "Не более 5% пользователей оформляли больше чем 1  заказов. И 1% пользователей заказывали более 2 раза.\n",
    "Разумно выбрать  2 заказа на одного пользователя за верхнюю границу числа заказов, и отсеять аномальных пользователей по ней. "
   ]
  },
  {
   "cell_type": "markdown",
   "metadata": {},
   "source": [
    "<a id='12-bullet'></a>\n",
    "### Построение точечного графика стоимостей заказов. Выводы и предположения."
   ]
  },
  {
   "cell_type": "markdown",
   "metadata": {},
   "source": [
    "Построим точечный график стоимостей заказов."
   ]
  },
  {
   "cell_type": "code",
   "execution_count": 37,
   "metadata": {},
   "outputs": [
    {
     "data": {
      "text/plain": [
       "<matplotlib.collections.PathCollection at 0x26c1f3e5670>"
      ]
     },
     "execution_count": 37,
     "metadata": {},
     "output_type": "execute_result"
    },
    {
     "data": {
      "image/png": "[encoded data removed]",
      "text/plain": [
       "<Figure size 432x288 with 1 Axes>"
      ]
     },
     "metadata": {
      "needs_background": "light"
     },
     "output_type": "display_data"
    }
   ],
   "source": [
    "x_values = pd.Series(range(0, len(orders['revenue'])))\n",
    "plt.scatter(x_values, orders['revenue'])"
   ]
  },
  {
   "cell_type": "markdown",
   "metadata": {},
   "source": [
    "На графике можно наблюдать, что два заказа превышают стоимость в 200000."
   ]
  },
  {
   "cell_type": "code",
   "execution_count": 38,
   "metadata": {},
   "outputs": [
    {
     "data": {
      "text/plain": [
       "(0.0, 200000.0)"
      ]
     },
     "execution_count": 38,
     "metadata": {},
     "output_type": "execute_result"
    },
    {
     "data": {
      "image/png": "[encoded data removed]",
      "text/plain": [
       "<Figure size 432x288 with 1 Axes>"
      ]
     },
     "metadata": {
      "needs_background": "light"
     },
     "output_type": "display_data"
    }
   ],
   "source": [
    "x_values = pd.Series(range(0, len(orders['revenue'])))\n",
    "plt.scatter(x_values, orders['revenue'])\n",
    "plt.ylim(0,200000)"
   ]
  },
  {
   "cell_type": "markdown",
   "metadata": {},
   "source": [
    "Большинство заказов не превышют стоимости в 100000. "
   ]
  },
  {
   "cell_type": "markdown",
   "metadata": {},
   "source": [
    "<a id='13-bullet'></a>\n",
    "### Расчет 95-го и 99-го перцентиля стоимости заказов. Выбор границы для определения аномальных заказов."
   ]
  },
  {
   "cell_type": "markdown",
   "metadata": {},
   "source": [
    "Посчитаем 95-й и 99-й перцентили стоимости заказов. Выберем границу для определения аномальных заказов."
   ]
  },
  {
   "cell_type": "code",
   "execution_count": 39,
   "metadata": {},
   "outputs": [
    {
     "data": {
      "text/plain": [
       "array([17990., 26785., 53904.])"
      ]
     },
     "execution_count": 39,
     "metadata": {},
     "output_type": "execute_result"
    }
   ],
   "source": [
    "np.percentile(orders['revenue'], [90, 95, 99])"
   ]
  },
  {
   "cell_type": "markdown",
   "metadata": {},
   "source": [
    "Не более 5% заказов превышают стоимость 26785 и не более 1% стоимость 53904. Таким образов границу для определения аномальных заказов можно выбрать в 50000."
   ]
  },
  {
   "cell_type": "markdown",
   "metadata": {},
   "source": [
    "<a id='14-bullet'></a>\n",
    "### Расчет статистической значимости различий в конверсии между группами по «сырым» данным. Выводы и предположения."
   ]
  },
  {
   "cell_type": "markdown",
   "metadata": {},
   "source": [
    "Посчитаем статистическую значимость различий в конверсии между группами по «сырым» данным."
   ]
  },
  {
   "cell_type": "markdown",
   "metadata": {},
   "source": [
    "Для проверки гипотез используем критерий проверки Манна-Уитни, так как в данных есть выбросы. Уровень значимости обозначим в 0.05."
   ]
  },
  {
   "cell_type": "markdown",
   "metadata": {},
   "source": [
    "Статистическую значимость различий в конверсии будем считать по среднему числу заказов в группах."
   ]
  },
  {
   "cell_type": "markdown",
   "metadata": {},
   "source": [
    "Для начала сформулируем нулевую гипотезу: Между средними показатели числа заказов группы `A` и группы `B` нет статистически значимых различий. Альтернативная гипотеза: Между средними показатели числа заказов группы `A` и группы `B` есть статистически значимые различия."
   ]
  },
  {
   "cell_type": "markdown",
   "metadata": {},
   "source": [
    "Посчитаем сколько покупок совершили пользователи группы `A`."
   ]
  },
  {
   "cell_type": "code",
   "execution_count": 40,
   "metadata": {},
   "outputs": [],
   "source": [
    "sample_a_orders = orders[\n",
    "    orders['group'] == 'A'\n",
    "].groupby(['visitor_id'], as_index=False).agg({'transaction_id': pd.Series.nunique})\n",
    "sample_a_orders.columns = ['visitor', 'orders']"
   ]
  },
  {
   "cell_type": "markdown",
   "metadata": {},
   "source": [
    "Добавим в таблицу `sample_a_orders` пользователей, которые не совершали покупок. Количество их покупок будет равно `0`."
   ]
  },
  {
   "cell_type": "code",
   "execution_count": 41,
   "metadata": {},
   "outputs": [],
   "source": [
    "sample_a_data = pd.concat(\n",
    "    [\n",
    "        sample_a_orders['orders'],\n",
    "        pd.Series(\n",
    "            0,\n",
    "            index=np.arange(\n",
    "                visitors[visitors['group'] == 'A']['visitors'].sum() - len(sample_a_orders['orders'])\n",
    "            ),\n",
    "            name='orders',\n",
    "        ),\n",
    "    ],\n",
    "    axis=0,\n",
    ")"
   ]
  },
  {
   "cell_type": "markdown",
   "metadata": {},
   "source": [
    "Посчитаем сколько покупок совершили пользователи группы `B`."
   ]
  },
  {
   "cell_type": "code",
   "execution_count": 42,
   "metadata": {},
   "outputs": [],
   "source": [
    "sample_b_orders = orders[\n",
    "    orders['group'] == 'B'\n",
    "].groupby(['visitor_id'], as_index=False).agg({'transaction_id': pd.Series.nunique})\n",
    "sample_b_orders.columns = ['visitor', 'orders']"
   ]
  },
  {
   "cell_type": "markdown",
   "metadata": {},
   "source": [
    "Добавим в таблицу `sample_b_orders` пользователей, которые не совершали покупок. Количество их покупок будет равно `0`."
   ]
  },
  {
   "cell_type": "code",
   "execution_count": 43,
   "metadata": {},
   "outputs": [],
   "source": [
    "sample_b_data = pd.concat(\n",
    "    [\n",
    "        sample_b_orders['orders'],\n",
    "        pd.Series(\n",
    "            0,\n",
    "            index=np.arange(\n",
    "                visitors[visitors['group'] == 'B']['visitors'].sum() - len(sample_b_orders['orders'])\n",
    "            ),\n",
    "            name='orders',\n",
    "        ),\n",
    "    ],\n",
    "    axis=0,\n",
    ")"
   ]
  },
  {
   "cell_type": "markdown",
   "metadata": {},
   "source": [
    "Проведем тест"
   ]
  },
  {
   "cell_type": "code",
   "execution_count": 44,
   "metadata": {},
   "outputs": [
    {
     "data": {
      "text/plain": [
       "0.011018084110014696"
      ]
     },
     "execution_count": 44,
     "metadata": {},
     "output_type": "execute_result"
    }
   ],
   "source": [
    "st.mannwhitneyu(sample_a_data, sample_b_data)[1]"
   ]
  },
  {
   "cell_type": "markdown",
   "metadata": {},
   "source": [
    "Нулевую гипотезу можно отвегнуть в пользу альтернативной, так как показатель p-value меньше 0.05. Это говорит, что между группами есть статистически значимые различия в среднем числе покупок. "
   ]
  },
  {
   "cell_type": "code",
   "execution_count": 45,
   "metadata": {},
   "outputs": [
    {
     "data": {
      "text/plain": [
       "0.1597977924896936"
      ]
     },
     "execution_count": 45,
     "metadata": {},
     "output_type": "execute_result"
    }
   ],
   "source": [
    "sample_b_data.mean() / sample_a_data.mean() - 1"
   ]
  },
  {
   "cell_type": "markdown",
   "metadata": {},
   "source": [
    "Среднее количество покупок группы `B` больше, чем у группы `A` на 15 процентов."
   ]
  },
  {
   "cell_type": "markdown",
   "metadata": {},
   "source": [
    "<a id='15-bullet'></a>\n",
    "### Расчет статистической значимости различий в среднем чеке заказа между группами по «сырым» данным. Выводы и предположения."
   ]
  },
  {
   "cell_type": "markdown",
   "metadata": {},
   "source": [
    "Для начала сформулируем нулевую гипотезу: Между показателями среднего чека группы `A` и группы `B` нет статистически значимых различий. Альтернативная гипотеза: Между показателями среднего чека группы `A` и группы `B` есть статистически значимые различия."
   ]
  },
  {
   "cell_type": "markdown",
   "metadata": {},
   "source": [
    "Проведем тест:"
   ]
  },
  {
   "cell_type": "code",
   "execution_count": 46,
   "metadata": {},
   "outputs": [
    {
     "data": {
      "text/plain": [
       "0.8294908998149533"
      ]
     },
     "execution_count": 46,
     "metadata": {},
     "output_type": "execute_result"
    }
   ],
   "source": [
    "st.mannwhitneyu(orders[orders['group']=='A']['revenue'], orders[orders['group']=='B']['revenue'])[1]"
   ]
  },
  {
   "cell_type": "markdown",
   "metadata": {},
   "source": [
    "P-value значительно больше 0.05. Значит, причин отвергать нулевую гипотезу и считать, что в среднем чеке есть различия, нет. "
   ]
  },
  {
   "cell_type": "markdown",
   "metadata": {},
   "source": [
    "Сравним средние показатели:"
   ]
  },
  {
   "cell_type": "code",
   "execution_count": 47,
   "metadata": {},
   "outputs": [
    {
     "data": {
      "text/plain": [
       "0.28660287636871096"
      ]
     },
     "execution_count": 47,
     "metadata": {},
     "output_type": "execute_result"
    }
   ],
   "source": [
    "orders[orders['group']=='B']['revenue'].mean()/orders[orders['group']=='A']['revenue'].mean()-1"
   ]
  },
  {
   "cell_type": "markdown",
   "metadata": {},
   "source": [
    "Впрочем, средний чек группы B выше среднего чека группы A на 29 процентов."
   ]
  },
  {
   "cell_type": "markdown",
   "metadata": {},
   "source": [
    "<a id='16-bullet'></a>\n",
    "### Расчет статистической значимости различий в конверсии между группами по «очищенным» данным. Выводы и предположения."
   ]
  },
  {
   "cell_type": "markdown",
   "metadata": {},
   "source": [
    "Теперь посчитаем статистическую значимость различий в конверсии между группами по «очищенным» данным."
   ]
  },
  {
   "cell_type": "markdown",
   "metadata": {},
   "source": [
    "Создадим переменную `abnormal_users`, в которой будут id пользователей с аномальным количеством заказов и стоимостью покупок."
   ]
  },
  {
   "cell_type": "code",
   "execution_count": 48,
   "metadata": {},
   "outputs": [],
   "source": [
    "orders_by_users_a = (\n",
    "    orders[orders['group'] == 'A']\n",
    "    .groupby(['visitor_id'], as_index=False)\n",
    "    .agg({'transaction_id': pd.Series.nunique})\n",
    ")\n",
    "orders_by_users_a.columns = ['visitor_id', 'transaction_id']\n",
    "\n",
    "orders_by_users_b = (\n",
    "    orders[orders['group'] == 'B']\n",
    "    .groupby('visitor_id', as_index=False)\n",
    "    .agg({'transaction_id': pd.Series.nunique})\n",
    ")\n",
    "orders_by_users_b.columns = ['visitor_id', 'transaction_id']\n",
    "users_with_many_orders = pd.concat(\n",
    "    [\n",
    "        orders_by_users_a[orders_by_users_a['transaction_id'] > np.percentile(orders['transaction_id'],  99)]['visitor_id'],\n",
    "        orders_by_users_b[orders_by_users_b['transaction_id'] > np.percentile(orders['transaction_id'],  99)]['visitor_id'],\n",
    "    ],\n",
    "    axis=0,\n",
    ")\n",
    "users_with_expensive_orders = orders[orders['revenue'] > np.percentile(orders['revenue'],  99)]['visitor_id']\n",
    "abnormal_users = (\n",
    "    pd.concat([users_with_many_orders, users_with_expensive_orders], axis=0)\n",
    "    .drop_duplicates()\n",
    "    .sort_values()\n",
    ")"
   ]
  },
  {
   "cell_type": "markdown",
   "metadata": {},
   "source": [
    "Для начала сформулируем нулевую гипотезу: Между средними показатели числа заказов группы A и группы B нет статистически значимых различий. Альтернативная гипотеза: Между средними показатели числа заказов группы A и группы B есть статистически значимые различия."
   ]
  },
  {
   "cell_type": "markdown",
   "metadata": {},
   "source": [
    "Отфильтруем пользователей в таблице `sample_a_orders` и добавим их в таблицу `sample_a_filtered_data` вместе с пользователями совершившими ноль покупок."
   ]
  },
  {
   "cell_type": "code",
   "execution_count": 49,
   "metadata": {},
   "outputs": [],
   "source": [
    "sample_a_filtered_data = pd.concat(\n",
    "    [\n",
    "        sample_a_orders[\n",
    "            np.logical_not(sample_a_orders['visitor'].isin(abnormal_users))\n",
    "        ]['orders'],\n",
    "        pd.Series(\n",
    "            0,\n",
    "            index=np.arange(\n",
    "                visitors[visitors['group'] == 'A']['visitors'].sum() - len(sample_a_orders['orders'])\n",
    "            ),\n",
    "            name='orders',\n",
    "        ),\n",
    "    ],\n",
    "    axis=0,\n",
    ")"
   ]
  },
  {
   "cell_type": "markdown",
   "metadata": {},
   "source": [
    "Отфильтруем пользователей в таблице `sample_b_orders` и добавим их в таблицу `sample_b_filtered_data` вместе с пользователями совершившими ноль покупок."
   ]
  },
  {
   "cell_type": "code",
   "execution_count": 50,
   "metadata": {},
   "outputs": [],
   "source": [
    "sample_b_filtered_data = pd.concat(\n",
    "    [\n",
    "        sample_b_orders[\n",
    "            np.logical_not(sample_b_orders['visitor'].isin(abnormal_users))\n",
    "        ]['orders'],\n",
    "        pd.Series(\n",
    "            0,\n",
    "            index=np.arange(\n",
    "                visitors[visitors['group'] == 'B']['visitors'].sum() - len(sample_b_orders['orders'])\n",
    "            ),\n",
    "            name='orders',\n",
    "        ),\n",
    "    ],\n",
    "    axis=0,\n",
    ")"
   ]
  },
  {
   "cell_type": "markdown",
   "metadata": {},
   "source": [
    "Проведем тест"
   ]
  },
  {
   "cell_type": "code",
   "execution_count": 51,
   "metadata": {},
   "outputs": [
    {
     "data": {
      "text/plain": [
       "0.00968752706566317"
      ]
     },
     "execution_count": 51,
     "metadata": {},
     "output_type": "execute_result"
    }
   ],
   "source": [
    "st.mannwhitneyu(sample_a_filtered_data,sample_b_filtered_data)[1]"
   ]
  },
  {
   "cell_type": "markdown",
   "metadata": {},
   "source": [
    "Нулевую гипотезу можно отвегнуть в пользу альтернативной, так как показатель p-value меньше 0.05. Это говорит, что между группами есть статистически значимые различия в среднем числе покупок. "
   ]
  },
  {
   "cell_type": "markdown",
   "metadata": {},
   "source": [
    "Сравним средние показатели:"
   ]
  },
  {
   "cell_type": "code",
   "execution_count": 52,
   "metadata": {},
   "outputs": [
    {
     "data": {
      "text/plain": [
       "0.1637010155938794"
      ]
     },
     "execution_count": 52,
     "metadata": {},
     "output_type": "execute_result"
    }
   ],
   "source": [
    "sample_b_filtered_data.mean() / sample_a_filtered_data.mean() - 1"
   ]
  },
  {
   "cell_type": "markdown",
   "metadata": {},
   "source": [
    "Среднее количество покупок группы `B` больше, чем у группы `A` на 16 процентов."
   ]
  },
  {
   "cell_type": "markdown",
   "metadata": {},
   "source": [
    "<a id='17-bullet'></a>\n",
    "### Расчет статистической значимости различий в среднем чеке заказа между группами по «очищенным» данным. Выводы и предположения."
   ]
  },
  {
   "cell_type": "markdown",
   "metadata": {},
   "source": [
    "Посчитаем статистическую значимость различий в среднем чеке заказа между группами по «очищенным» данным"
   ]
  },
  {
   "cell_type": "markdown",
   "metadata": {},
   "source": [
    "Нулевая гипотеза: Между показателями среднего чека группы `A` и группы `B` нет статистически значимых различий. Альтернативная гипотеза: Между показателями среднего чека группы `A` и группы `B` есть статистически значимые различия."
   ]
  },
  {
   "cell_type": "markdown",
   "metadata": {},
   "source": [
    "Проведем тест между группами по «очищенным» данным."
   ]
  },
  {
   "cell_type": "code",
   "execution_count": 53,
   "metadata": {},
   "outputs": [
    {
     "data": {
      "text/plain": [
       "0.9006884356560738"
      ]
     },
     "execution_count": 53,
     "metadata": {},
     "output_type": "execute_result"
    }
   ],
   "source": [
    "st.mannwhitneyu(\n",
    "            orders[\n",
    "                np.logical_and(\n",
    "                    orders['group'] == 'A',\n",
    "                    np.logical_not(orders['visitor_id'].isin(abnormal_users)),\n",
    "                )\n",
    "            ]['revenue'],\n",
    "            orders[\n",
    "                np.logical_and(\n",
    "                    orders['group'] == 'B',\n",
    "                    np.logical_not(orders['visitor_id'].isin(abnormal_users)),\n",
    "                )\n",
    "            ]['revenue'],\n",
    "        )[1]"
   ]
  },
  {
   "cell_type": "markdown",
   "metadata": {},
   "source": [
    "P-value значительно больше 0.05. Причин отвергать нулевую гипотезу и считать, что в среднем чеке есть различия, нет."
   ]
  },
  {
   "cell_type": "markdown",
   "metadata": {},
   "source": [
    "Также посчитаем на сколько различаются средние чеки у двух групп."
   ]
  },
  {
   "cell_type": "code",
   "execution_count": 54,
   "metadata": {},
   "outputs": [
    {
     "data": {
      "text/plain": [
       "-0.0316273123630616"
      ]
     },
     "execution_count": 54,
     "metadata": {},
     "output_type": "execute_result"
    }
   ],
   "source": [
    "orders[\n",
    "    np.logical_and(orders['group'] == 'B',\n",
    "                   np.logical_not(orders['visitor_id'].isin(abnormal_users)),\n",
    "                  )\n",
    "]['revenue'].mean()/ orders[\n",
    "    np.logical_and(orders['group'] == 'A',\n",
    "                        np.logical_not(orders['visitor_id'].isin(abnormal_users)),\n",
    "                       )]['revenue'].mean()- 1"
   ]
  },
  {
   "cell_type": "markdown",
   "metadata": {},
   "source": [
    "После очистки данных проверка также показала отсутсвие различий в среднем чеке, но относительная разница среднего чека группы `B` к группе `A` изменилась. Теперь средний чек группы `B` на 3 процента меньше группы `A`."
   ]
  },
  {
   "cell_type": "markdown",
   "metadata": {},
   "source": [
    "<a id='18-bullet'></a>\n",
    "### Решение по результатам теста."
   ]
  },
  {
   "cell_type": "markdown",
   "metadata": {},
   "source": [
    "Исходя из графика кумулятивной конверсии можно сделать вывод, что конверсия группы `B` лучше `A`. Статистический тест также показывает, что между группами также есть статистическая значимость различий в конверсии. Статистически значимого различия в среднем чеке заказа между группами нет. "
   ]
  },
  {
   "cell_type": "markdown",
   "metadata": {},
   "source": [
    "В результате можно зафиксировать победу группы B. У этой группы лучше конверсия, но не замечается увеличение среднего чека."
   ]
  }
 ],
 "metadata": {
  "ExecuteTimeLog": [
   {
    "duration": 408,
    "start_time": "2022-07-23T17:54:52.113Z"
   },
   {
    "duration": 74,
    "start_time": "2022-07-23T17:55:36.777Z"
   },
   {
    "duration": 16,
    "start_time": "2022-07-23T17:55:50.739Z"
   },
   {
    "duration": 3,
    "start_time": "2022-07-23T17:58:15.506Z"
   },
   {
    "duration": 8,
    "start_time": "2022-07-23T17:58:17.039Z"
   },
   {
    "duration": 6,
    "start_time": "2022-07-23T17:58:53.678Z"
   },
   {
    "duration": 16,
    "start_time": "2022-07-23T17:59:29.297Z"
   },
   {
    "duration": 10,
    "start_time": "2022-07-23T18:00:18.787Z"
   },
   {
    "duration": 445,
    "start_time": "2022-07-23T18:01:22.921Z"
   },
   {
    "duration": 28,
    "start_time": "2022-07-23T18:01:23.368Z"
   },
   {
    "duration": 3,
    "start_time": "2022-07-23T18:01:23.398Z"
   },
   {
    "duration": 31,
    "start_time": "2022-07-23T18:01:23.404Z"
   },
   {
    "duration": 5,
    "start_time": "2022-07-23T18:01:23.437Z"
   },
   {
    "duration": 22,
    "start_time": "2022-07-23T18:01:23.444Z"
   },
   {
    "duration": 419,
    "start_time": "2022-07-24T11:06:57.355Z"
   },
   {
    "duration": 63,
    "start_time": "2022-07-24T11:06:57.776Z"
   },
   {
    "duration": 4,
    "start_time": "2022-07-24T11:06:57.841Z"
   },
   {
    "duration": 21,
    "start_time": "2022-07-24T11:06:57.847Z"
   },
   {
    "duration": 7,
    "start_time": "2022-07-24T11:06:57.870Z"
   },
   {
    "duration": 11,
    "start_time": "2022-07-24T11:06:57.879Z"
   },
   {
    "duration": 11,
    "start_time": "2022-07-24T11:06:57.891Z"
   },
   {
    "duration": 14,
    "start_time": "2022-07-24T11:06:57.904Z"
   },
   {
    "duration": 10,
    "start_time": "2022-07-24T11:07:36.388Z"
   },
   {
    "duration": 440,
    "start_time": "2022-07-24T11:15:45.914Z"
   },
   {
    "duration": 102,
    "start_time": "2022-07-24T11:17:58.785Z"
   },
   {
    "duration": 55,
    "start_time": "2022-07-24T11:18:29.589Z"
   },
   {
    "duration": 355,
    "start_time": "2022-07-24T11:18:59.084Z"
   },
   {
    "duration": 3,
    "start_time": "2022-07-24T11:19:34.565Z"
   },
   {
    "duration": 57,
    "start_time": "2022-07-24T11:19:37.658Z"
   },
   {
    "duration": 11,
    "start_time": "2022-07-24T11:19:39.556Z"
   },
   {
    "duration": 308,
    "start_time": "2022-07-24T11:20:20.983Z"
   },
   {
    "duration": 27,
    "start_time": "2022-07-24T11:20:43.599Z"
   },
   {
    "duration": 10,
    "start_time": "2022-07-24T11:20:53.747Z"
   },
   {
    "duration": 322,
    "start_time": "2022-07-24T11:24:27.222Z"
   },
   {
    "duration": 8,
    "start_time": "2022-07-24T11:25:48.110Z"
   },
   {
    "duration": 11,
    "start_time": "2022-07-24T11:27:21.820Z"
   },
   {
    "duration": 88,
    "start_time": "2022-07-24T11:29:33.996Z"
   },
   {
    "duration": 3,
    "start_time": "2022-07-24T11:30:16.050Z"
   },
   {
    "duration": 11,
    "start_time": "2022-07-24T11:30:40.691Z"
   },
   {
    "duration": 144,
    "start_time": "2022-07-24T11:31:24.367Z"
   },
   {
    "duration": 995,
    "start_time": "2022-07-24T11:33:07.313Z"
   },
   {
    "duration": 78,
    "start_time": "2022-07-24T11:33:08.310Z"
   },
   {
    "duration": 3,
    "start_time": "2022-07-24T11:33:08.389Z"
   },
   {
    "duration": 13,
    "start_time": "2022-07-24T11:33:08.395Z"
   },
   {
    "duration": 4,
    "start_time": "2022-07-24T11:33:08.410Z"
   },
   {
    "duration": 12,
    "start_time": "2022-07-24T11:33:08.416Z"
   },
   {
    "duration": 16,
    "start_time": "2022-07-24T11:33:08.430Z"
   },
   {
    "duration": 9,
    "start_time": "2022-07-24T11:33:08.447Z"
   },
   {
    "duration": 57,
    "start_time": "2022-07-24T11:33:08.457Z"
   },
   {
    "duration": 17,
    "start_time": "2022-07-24T11:33:08.518Z"
   },
   {
    "duration": 11,
    "start_time": "2022-07-24T11:33:08.538Z"
   },
   {
    "duration": 38,
    "start_time": "2022-07-24T11:33:08.550Z"
   },
   {
    "duration": 9,
    "start_time": "2022-07-24T11:33:08.589Z"
   },
   {
    "duration": 8,
    "start_time": "2022-07-24T11:33:08.599Z"
   },
   {
    "duration": 9,
    "start_time": "2022-07-24T11:33:08.608Z"
   },
   {
    "duration": 150,
    "start_time": "2022-07-24T11:33:08.619Z"
   },
   {
    "duration": 11,
    "start_time": "2022-07-24T11:33:08.771Z"
   },
   {
    "duration": 973,
    "start_time": "2022-07-24T11:34:29.869Z"
   },
   {
    "duration": 81,
    "start_time": "2022-07-24T11:34:30.844Z"
   },
   {
    "duration": 3,
    "start_time": "2022-07-24T11:34:30.927Z"
   },
   {
    "duration": 24,
    "start_time": "2022-07-24T11:34:30.932Z"
   },
   {
    "duration": 27,
    "start_time": "2022-07-24T11:34:30.958Z"
   },
   {
    "duration": 38,
    "start_time": "2022-07-24T11:34:30.986Z"
   },
   {
    "duration": 23,
    "start_time": "2022-07-24T11:34:31.025Z"
   },
   {
    "duration": 19,
    "start_time": "2022-07-24T11:34:31.049Z"
   },
   {
    "duration": 80,
    "start_time": "2022-07-24T11:34:31.069Z"
   },
   {
    "duration": 14,
    "start_time": "2022-07-24T11:34:31.152Z"
   },
   {
    "duration": 30,
    "start_time": "2022-07-24T11:34:31.168Z"
   },
   {
    "duration": 37,
    "start_time": "2022-07-24T11:34:31.199Z"
   },
   {
    "duration": 17,
    "start_time": "2022-07-24T11:34:31.237Z"
   },
   {
    "duration": 11,
    "start_time": "2022-07-24T11:34:31.256Z"
   },
   {
    "duration": 27,
    "start_time": "2022-07-24T11:34:31.269Z"
   },
   {
    "duration": 152,
    "start_time": "2022-07-24T11:34:31.298Z"
   },
   {
    "duration": 11,
    "start_time": "2022-07-24T11:34:31.452Z"
   },
   {
    "duration": 993,
    "start_time": "2022-07-24T11:37:57.547Z"
   },
   {
    "duration": 85,
    "start_time": "2022-07-24T11:37:58.542Z"
   },
   {
    "duration": 3,
    "start_time": "2022-07-24T11:37:58.629Z"
   },
   {
    "duration": 15,
    "start_time": "2022-07-24T11:37:58.634Z"
   },
   {
    "duration": 6,
    "start_time": "2022-07-24T11:37:58.651Z"
   },
   {
    "duration": 11,
    "start_time": "2022-07-24T11:37:58.658Z"
   },
   {
    "duration": 7,
    "start_time": "2022-07-24T11:37:58.671Z"
   },
   {
    "duration": 14,
    "start_time": "2022-07-24T11:37:58.679Z"
   },
   {
    "duration": 57,
    "start_time": "2022-07-24T11:37:58.695Z"
   },
   {
    "duration": 12,
    "start_time": "2022-07-24T11:37:58.755Z"
   },
   {
    "duration": 5,
    "start_time": "2022-07-24T11:37:58.769Z"
   },
   {
    "duration": 21,
    "start_time": "2022-07-24T11:37:58.776Z"
   },
   {
    "duration": 10,
    "start_time": "2022-07-24T11:37:58.798Z"
   },
   {
    "duration": 8,
    "start_time": "2022-07-24T11:37:58.810Z"
   },
   {
    "duration": 15,
    "start_time": "2022-07-24T11:37:58.819Z"
   },
   {
    "duration": 50,
    "start_time": "2022-07-24T11:37:58.846Z"
   },
   {
    "duration": 0,
    "start_time": "2022-07-24T11:37:58.898Z"
   },
   {
    "duration": 152,
    "start_time": "2022-07-24T11:38:06.095Z"
   },
   {
    "duration": 143,
    "start_time": "2022-07-24T11:38:16.967Z"
   },
   {
    "duration": 11,
    "start_time": "2022-07-24T11:39:17.153Z"
   },
   {
    "duration": 8,
    "start_time": "2022-07-24T11:39:23.406Z"
   },
   {
    "duration": 8,
    "start_time": "2022-07-24T11:39:28.405Z"
   },
   {
    "duration": 9,
    "start_time": "2022-07-24T11:39:33.313Z"
   },
   {
    "duration": 86,
    "start_time": "2022-07-24T11:41:20.257Z"
   },
   {
    "duration": 110,
    "start_time": "2022-07-24T11:41:28.656Z"
   },
   {
    "duration": 117,
    "start_time": "2022-07-24T11:41:35.587Z"
   },
   {
    "duration": 8,
    "start_time": "2022-07-24T11:41:42.883Z"
   },
   {
    "duration": 7,
    "start_time": "2022-07-24T11:47:10.995Z"
   },
   {
    "duration": 9,
    "start_time": "2022-07-24T11:47:20.270Z"
   },
   {
    "duration": 236,
    "start_time": "2022-07-24T11:56:56.787Z"
   },
   {
    "duration": 177,
    "start_time": "2022-07-24T11:58:32.332Z"
   },
   {
    "duration": 198,
    "start_time": "2022-07-24T11:59:38.284Z"
   },
   {
    "duration": 130,
    "start_time": "2022-07-24T12:02:35.084Z"
   },
   {
    "duration": 183,
    "start_time": "2022-07-24T12:04:05.718Z"
   },
   {
    "duration": 255,
    "start_time": "2022-07-24T12:11:17.793Z"
   },
   {
    "duration": 324,
    "start_time": "2022-07-24T12:11:29.804Z"
   },
   {
    "duration": 264,
    "start_time": "2022-07-24T12:15:51.398Z"
   },
   {
    "duration": 189,
    "start_time": "2022-07-24T12:16:38.016Z"
   },
   {
    "duration": 208,
    "start_time": "2022-07-24T12:18:08.242Z"
   },
   {
    "duration": 7,
    "start_time": "2022-07-24T12:18:54.575Z"
   },
   {
    "duration": 5,
    "start_time": "2022-07-24T12:19:01.945Z"
   },
   {
    "duration": 4,
    "start_time": "2022-07-24T12:19:13.223Z"
   },
   {
    "duration": 280,
    "start_time": "2022-07-24T12:19:23.895Z"
   },
   {
    "duration": 4,
    "start_time": "2022-07-24T12:19:35.977Z"
   },
   {
    "duration": 5,
    "start_time": "2022-07-24T12:19:42.596Z"
   },
   {
    "duration": 192,
    "start_time": "2022-07-24T12:21:42.245Z"
   },
   {
    "duration": 196,
    "start_time": "2022-07-24T12:25:00.919Z"
   },
   {
    "duration": 204,
    "start_time": "2022-07-24T12:25:13.304Z"
   },
   {
    "duration": 59,
    "start_time": "2022-07-24T17:00:45.636Z"
   },
   {
    "duration": 1202,
    "start_time": "2022-07-24T17:00:55.780Z"
   },
   {
    "duration": 129,
    "start_time": "2022-07-24T17:00:56.984Z"
   },
   {
    "duration": 3,
    "start_time": "2022-07-24T17:00:57.115Z"
   },
   {
    "duration": 15,
    "start_time": "2022-07-24T17:00:57.120Z"
   },
   {
    "duration": 5,
    "start_time": "2022-07-24T17:00:57.136Z"
   },
   {
    "duration": 10,
    "start_time": "2022-07-24T17:00:57.142Z"
   },
   {
    "duration": 9,
    "start_time": "2022-07-24T17:00:57.153Z"
   },
   {
    "duration": 28,
    "start_time": "2022-07-24T17:00:57.163Z"
   },
   {
    "duration": 109,
    "start_time": "2022-07-24T17:00:57.192Z"
   },
   {
    "duration": 12,
    "start_time": "2022-07-24T17:00:57.303Z"
   },
   {
    "duration": 10,
    "start_time": "2022-07-24T17:00:57.317Z"
   },
   {
    "duration": 70,
    "start_time": "2022-07-24T17:00:57.329Z"
   },
   {
    "duration": 12,
    "start_time": "2022-07-24T17:00:57.401Z"
   },
   {
    "duration": 10,
    "start_time": "2022-07-24T17:00:57.415Z"
   },
   {
    "duration": 15,
    "start_time": "2022-07-24T17:00:57.427Z"
   },
   {
    "duration": 166,
    "start_time": "2022-07-24T17:00:57.443Z"
   },
   {
    "duration": 7,
    "start_time": "2022-07-24T17:00:57.611Z"
   },
   {
    "duration": 126,
    "start_time": "2022-07-24T17:00:57.620Z"
   },
   {
    "duration": 17,
    "start_time": "2022-07-24T17:00:57.748Z"
   },
   {
    "duration": 8,
    "start_time": "2022-07-24T17:00:57.773Z"
   },
   {
    "duration": 12,
    "start_time": "2022-07-24T17:00:57.783Z"
   },
   {
    "duration": 287,
    "start_time": "2022-07-24T17:00:57.797Z"
   },
   {
    "duration": 202,
    "start_time": "2022-07-24T17:00:58.085Z"
   },
   {
    "duration": 338,
    "start_time": "2022-07-24T17:00:58.289Z"
   },
   {
    "duration": 212,
    "start_time": "2022-07-24T17:00:58.629Z"
   },
   {
    "duration": 364,
    "start_time": "2022-07-24T17:00:58.842Z"
   },
   {
    "duration": 13,
    "start_time": "2022-07-24T17:02:14.965Z"
   },
   {
    "duration": 275,
    "start_time": "2022-07-24T17:02:25.700Z"
   },
   {
    "duration": 6,
    "start_time": "2022-07-24T17:02:46.117Z"
   },
   {
    "duration": 325,
    "start_time": "2022-07-24T17:03:05.123Z"
   },
   {
    "duration": 98,
    "start_time": "2022-07-24T17:11:05.497Z"
   },
   {
    "duration": 119,
    "start_time": "2022-07-24T17:11:19.928Z"
   },
   {
    "duration": 846,
    "start_time": "2022-07-24T18:04:19.056Z"
   },
   {
    "duration": 5,
    "start_time": "2022-07-24T18:04:31.687Z"
   },
   {
    "duration": 116,
    "start_time": "2022-07-24T18:04:44.223Z"
   },
   {
    "duration": 6,
    "start_time": "2022-07-24T18:04:49.334Z"
   },
   {
    "duration": 185,
    "start_time": "2022-07-24T18:08:41.620Z"
   },
   {
    "duration": 125,
    "start_time": "2022-07-24T18:10:46.309Z"
   },
   {
    "duration": 122,
    "start_time": "2022-07-24T18:11:06.343Z"
   },
   {
    "duration": 5,
    "start_time": "2022-07-24T18:13:45.004Z"
   },
   {
    "duration": 8,
    "start_time": "2022-07-24T18:22:32.697Z"
   },
   {
    "duration": 8,
    "start_time": "2022-07-24T18:26:39.234Z"
   },
   {
    "duration": 7,
    "start_time": "2022-07-24T18:26:59.023Z"
   },
   {
    "duration": 145,
    "start_time": "2022-07-24T18:42:58.276Z"
   },
   {
    "duration": 4,
    "start_time": "2022-07-24T18:43:53.318Z"
   },
   {
    "duration": 815,
    "start_time": "2022-07-24T18:46:13.075Z"
   },
   {
    "duration": 4,
    "start_time": "2022-07-24T18:46:23.905Z"
   },
   {
    "duration": 4,
    "start_time": "2022-07-24T18:46:40.960Z"
   },
   {
    "duration": 9,
    "start_time": "2022-07-24T18:49:50.026Z"
   },
   {
    "duration": 6,
    "start_time": "2022-07-24T18:50:46.460Z"
   },
   {
    "duration": 8,
    "start_time": "2022-07-24T18:51:34.272Z"
   },
   {
    "duration": 274,
    "start_time": "2022-07-24T18:53:26.224Z"
   },
   {
    "duration": 460,
    "start_time": "2022-07-24T22:04:45.245Z"
   },
   {
    "duration": 1018,
    "start_time": "2022-07-24T22:05:05.954Z"
   },
   {
    "duration": 93,
    "start_time": "2022-07-24T22:05:06.974Z"
   },
   {
    "duration": 4,
    "start_time": "2022-07-24T22:05:07.069Z"
   },
   {
    "duration": 18,
    "start_time": "2022-07-24T22:05:07.076Z"
   },
   {
    "duration": 8,
    "start_time": "2022-07-24T22:05:07.096Z"
   },
   {
    "duration": 14,
    "start_time": "2022-07-24T22:05:07.106Z"
   },
   {
    "duration": 9,
    "start_time": "2022-07-24T22:05:07.122Z"
   },
   {
    "duration": 35,
    "start_time": "2022-07-24T22:05:07.133Z"
   },
   {
    "duration": 50,
    "start_time": "2022-07-24T22:05:07.170Z"
   },
   {
    "duration": 12,
    "start_time": "2022-07-24T22:05:07.223Z"
   },
   {
    "duration": 4,
    "start_time": "2022-07-24T22:05:07.236Z"
   },
   {
    "duration": 21,
    "start_time": "2022-07-24T22:05:07.242Z"
   },
   {
    "duration": 11,
    "start_time": "2022-07-24T22:05:07.265Z"
   },
   {
    "duration": 9,
    "start_time": "2022-07-24T22:05:07.278Z"
   },
   {
    "duration": 14,
    "start_time": "2022-07-24T22:05:07.288Z"
   },
   {
    "duration": 181,
    "start_time": "2022-07-24T22:05:07.303Z"
   },
   {
    "duration": 9,
    "start_time": "2022-07-24T22:05:07.485Z"
   },
   {
    "duration": 137,
    "start_time": "2022-07-24T22:05:07.496Z"
   },
   {
    "duration": 13,
    "start_time": "2022-07-24T22:05:07.635Z"
   },
   {
    "duration": 16,
    "start_time": "2022-07-24T22:05:07.650Z"
   },
   {
    "duration": 14,
    "start_time": "2022-07-24T22:05:07.668Z"
   },
   {
    "duration": 289,
    "start_time": "2022-07-24T22:05:07.684Z"
   },
   {
    "duration": 211,
    "start_time": "2022-07-24T22:05:07.975Z"
   },
   {
    "duration": 282,
    "start_time": "2022-07-24T22:05:08.188Z"
   },
   {
    "duration": 214,
    "start_time": "2022-07-24T22:05:08.471Z"
   },
   {
    "duration": 311,
    "start_time": "2022-07-24T22:05:08.687Z"
   },
   {
    "duration": 135,
    "start_time": "2022-07-24T22:05:09.000Z"
   },
   {
    "duration": 8,
    "start_time": "2022-07-24T22:05:09.140Z"
   },
   {
    "duration": 154,
    "start_time": "2022-07-24T22:05:09.150Z"
   },
   {
    "duration": 142,
    "start_time": "2022-07-24T22:05:09.306Z"
   },
   {
    "duration": 14,
    "start_time": "2022-07-24T22:05:09.450Z"
   },
   {
    "duration": 8,
    "start_time": "2022-07-24T22:05:09.466Z"
   },
   {
    "duration": 493,
    "start_time": "2022-07-24T22:05:09.476Z"
   },
   {
    "duration": 0,
    "start_time": "2022-07-24T22:05:09.971Z"
   },
   {
    "duration": 0,
    "start_time": "2022-07-24T22:05:09.972Z"
   },
   {
    "duration": 0,
    "start_time": "2022-07-24T22:05:09.974Z"
   },
   {
    "duration": 0,
    "start_time": "2022-07-24T22:05:09.975Z"
   },
   {
    "duration": 1023,
    "start_time": "2022-07-24T22:05:34.702Z"
   },
   {
    "duration": 100,
    "start_time": "2022-07-24T22:05:35.726Z"
   },
   {
    "duration": 3,
    "start_time": "2022-07-24T22:05:35.828Z"
   },
   {
    "duration": 15,
    "start_time": "2022-07-24T22:05:35.833Z"
   },
   {
    "duration": 14,
    "start_time": "2022-07-24T22:05:35.850Z"
   },
   {
    "duration": 10,
    "start_time": "2022-07-24T22:05:35.866Z"
   },
   {
    "duration": 8,
    "start_time": "2022-07-24T22:05:35.878Z"
   },
   {
    "duration": 19,
    "start_time": "2022-07-24T22:05:35.889Z"
   },
   {
    "duration": 67,
    "start_time": "2022-07-24T22:05:35.910Z"
   },
   {
    "duration": 19,
    "start_time": "2022-07-24T22:05:35.981Z"
   },
   {
    "duration": 7,
    "start_time": "2022-07-24T22:05:36.002Z"
   },
   {
    "duration": 30,
    "start_time": "2022-07-24T22:05:36.011Z"
   },
   {
    "duration": 20,
    "start_time": "2022-07-24T22:05:36.043Z"
   },
   {
    "duration": 7,
    "start_time": "2022-07-24T22:05:36.065Z"
   },
   {
    "duration": 13,
    "start_time": "2022-07-24T22:05:36.073Z"
   },
   {
    "duration": 191,
    "start_time": "2022-07-24T22:05:36.087Z"
   },
   {
    "duration": 10,
    "start_time": "2022-07-24T22:05:36.280Z"
   },
   {
    "duration": 137,
    "start_time": "2022-07-24T22:05:36.292Z"
   },
   {
    "duration": 9,
    "start_time": "2022-07-24T22:05:36.431Z"
   },
   {
    "duration": 27,
    "start_time": "2022-07-24T22:05:36.443Z"
   },
   {
    "duration": 15,
    "start_time": "2022-07-24T22:05:36.472Z"
   },
   {
    "duration": 297,
    "start_time": "2022-07-24T22:05:36.489Z"
   },
   {
    "duration": 205,
    "start_time": "2022-07-24T22:05:36.789Z"
   },
   {
    "duration": 299,
    "start_time": "2022-07-24T22:05:36.996Z"
   },
   {
    "duration": 230,
    "start_time": "2022-07-24T22:05:37.297Z"
   },
   {
    "duration": 331,
    "start_time": "2022-07-24T22:05:37.529Z"
   },
   {
    "duration": 125,
    "start_time": "2022-07-24T22:05:37.864Z"
   },
   {
    "duration": 6,
    "start_time": "2022-07-24T22:05:37.992Z"
   },
   {
    "duration": 145,
    "start_time": "2022-07-24T22:05:37.999Z"
   },
   {
    "duration": 147,
    "start_time": "2022-07-24T22:05:38.145Z"
   },
   {
    "duration": 5,
    "start_time": "2022-07-24T22:05:38.295Z"
   },
   {
    "duration": 18,
    "start_time": "2022-07-24T22:05:38.302Z"
   },
   {
    "duration": 98,
    "start_time": "2022-07-24T22:05:38.323Z"
   },
   {
    "duration": 469,
    "start_time": "2022-07-24T22:05:38.423Z"
   },
   {
    "duration": 0,
    "start_time": "2022-07-24T22:05:38.894Z"
   },
   {
    "duration": 0,
    "start_time": "2022-07-24T22:05:38.896Z"
   },
   {
    "duration": 0,
    "start_time": "2022-07-24T22:05:38.897Z"
   },
   {
    "duration": 0,
    "start_time": "2022-07-24T22:05:38.898Z"
   },
   {
    "duration": 14,
    "start_time": "2022-07-24T22:05:57.192Z"
   },
   {
    "duration": 175,
    "start_time": "2022-07-24T22:07:12.079Z"
   },
   {
    "duration": 1042,
    "start_time": "2022-07-24T22:07:27.132Z"
   },
   {
    "duration": 106,
    "start_time": "2022-07-24T22:07:28.177Z"
   },
   {
    "duration": 4,
    "start_time": "2022-07-24T22:07:28.284Z"
   },
   {
    "duration": 22,
    "start_time": "2022-07-24T22:07:28.289Z"
   },
   {
    "duration": 6,
    "start_time": "2022-07-24T22:07:28.314Z"
   },
   {
    "duration": 13,
    "start_time": "2022-07-24T22:07:28.322Z"
   },
   {
    "duration": 6,
    "start_time": "2022-07-24T22:07:28.337Z"
   },
   {
    "duration": 26,
    "start_time": "2022-07-24T22:07:28.345Z"
   },
   {
    "duration": 56,
    "start_time": "2022-07-24T22:07:28.372Z"
   },
   {
    "duration": 13,
    "start_time": "2022-07-24T22:07:28.429Z"
   },
   {
    "duration": 8,
    "start_time": "2022-07-24T22:07:28.444Z"
   },
   {
    "duration": 27,
    "start_time": "2022-07-24T22:07:28.454Z"
   },
   {
    "duration": 11,
    "start_time": "2022-07-24T22:07:28.483Z"
   },
   {
    "duration": 9,
    "start_time": "2022-07-24T22:07:28.497Z"
   },
   {
    "duration": 13,
    "start_time": "2022-07-24T22:07:28.507Z"
   },
   {
    "duration": 164,
    "start_time": "2022-07-24T22:07:28.522Z"
   },
   {
    "duration": 8,
    "start_time": "2022-07-24T22:07:28.688Z"
   },
   {
    "duration": 128,
    "start_time": "2022-07-24T22:07:28.698Z"
   },
   {
    "duration": 8,
    "start_time": "2022-07-24T22:07:28.828Z"
   },
   {
    "duration": 27,
    "start_time": "2022-07-24T22:07:28.839Z"
   },
   {
    "duration": 15,
    "start_time": "2022-07-24T22:07:28.869Z"
   },
   {
    "duration": 289,
    "start_time": "2022-07-24T22:07:28.885Z"
   },
   {
    "duration": 210,
    "start_time": "2022-07-24T22:07:29.176Z"
   },
   {
    "duration": 311,
    "start_time": "2022-07-24T22:07:29.388Z"
   },
   {
    "duration": 221,
    "start_time": "2022-07-24T22:07:29.700Z"
   },
   {
    "duration": 378,
    "start_time": "2022-07-24T22:07:29.923Z"
   },
   {
    "duration": 145,
    "start_time": "2022-07-24T22:07:30.303Z"
   },
   {
    "duration": 17,
    "start_time": "2022-07-24T22:07:30.450Z"
   },
   {
    "duration": 163,
    "start_time": "2022-07-24T22:07:30.469Z"
   },
   {
    "duration": 202,
    "start_time": "2022-07-24T22:07:30.634Z"
   },
   {
    "duration": 7,
    "start_time": "2022-07-24T22:07:30.838Z"
   },
   {
    "duration": 25,
    "start_time": "2022-07-24T22:07:30.847Z"
   },
   {
    "duration": 164,
    "start_time": "2022-07-24T22:07:30.875Z"
   },
   {
    "duration": 8,
    "start_time": "2022-07-24T22:07:31.041Z"
   },
   {
    "duration": 9,
    "start_time": "2022-07-24T22:07:31.063Z"
   },
   {
    "duration": 18,
    "start_time": "2022-07-24T22:07:31.073Z"
   },
   {
    "duration": 728,
    "start_time": "2022-07-24T22:07:31.093Z"
   },
   {
    "duration": 6,
    "start_time": "2022-07-24T22:08:17.587Z"
   },
   {
    "duration": 8,
    "start_time": "2022-07-24T22:09:04.568Z"
   },
   {
    "duration": 126,
    "start_time": "2022-07-24T22:10:00.678Z"
   },
   {
    "duration": 65,
    "start_time": "2022-07-24T22:10:21.733Z"
   },
   {
    "duration": 12,
    "start_time": "2022-07-24T22:10:33.146Z"
   },
   {
    "duration": 134,
    "start_time": "2022-07-24T22:12:48.776Z"
   },
   {
    "duration": 17,
    "start_time": "2022-07-24T22:17:51.346Z"
   },
   {
    "duration": 10,
    "start_time": "2022-07-24T22:18:13.866Z"
   },
   {
    "duration": 8,
    "start_time": "2022-07-24T22:18:21.356Z"
   },
   {
    "duration": 13,
    "start_time": "2022-07-24T22:19:55.925Z"
   },
   {
    "duration": 55,
    "start_time": "2022-07-24T22:20:31.870Z"
   },
   {
    "duration": 52,
    "start_time": "2022-07-24T22:21:33.274Z"
   },
   {
    "duration": 19,
    "start_time": "2022-07-24T22:21:58.681Z"
   },
   {
    "duration": 79,
    "start_time": "2022-07-24T22:22:26.207Z"
   },
   {
    "duration": 46,
    "start_time": "2022-07-24T22:22:32.788Z"
   },
   {
    "duration": 20,
    "start_time": "2022-07-24T22:23:31.623Z"
   },
   {
    "duration": 91,
    "start_time": "2022-07-24T22:23:40.264Z"
   },
   {
    "duration": 58,
    "start_time": "2022-07-24T22:23:54.820Z"
   },
   {
    "duration": 19,
    "start_time": "2022-07-24T22:24:15.444Z"
   },
   {
    "duration": 24,
    "start_time": "2022-07-24T22:25:05.826Z"
   },
   {
    "duration": 24,
    "start_time": "2022-07-24T22:25:41.971Z"
   },
   {
    "duration": 24,
    "start_time": "2022-07-24T22:26:08.852Z"
   },
   {
    "duration": 4,
    "start_time": "2022-07-24T22:26:38.368Z"
   },
   {
    "duration": 4,
    "start_time": "2022-07-24T22:26:52.776Z"
   },
   {
    "duration": 8,
    "start_time": "2022-07-24T22:27:36.795Z"
   },
   {
    "duration": 7,
    "start_time": "2022-07-24T22:27:41.524Z"
   },
   {
    "duration": 7,
    "start_time": "2022-07-24T22:27:46.806Z"
   },
   {
    "duration": 169,
    "start_time": "2022-07-24T22:28:30.773Z"
   },
   {
    "duration": 1019,
    "start_time": "2022-07-24T22:36:46.942Z"
   },
   {
    "duration": 87,
    "start_time": "2022-07-24T22:36:47.963Z"
   },
   {
    "duration": 3,
    "start_time": "2022-07-24T22:36:48.051Z"
   },
   {
    "duration": 13,
    "start_time": "2022-07-24T22:36:48.056Z"
   },
   {
    "duration": 5,
    "start_time": "2022-07-24T22:36:48.070Z"
   },
   {
    "duration": 9,
    "start_time": "2022-07-24T22:36:48.076Z"
   },
   {
    "duration": 5,
    "start_time": "2022-07-24T22:36:48.087Z"
   },
   {
    "duration": 11,
    "start_time": "2022-07-24T22:36:48.093Z"
   },
   {
    "duration": 51,
    "start_time": "2022-07-24T22:36:48.105Z"
   },
   {
    "duration": 10,
    "start_time": "2022-07-24T22:36:48.158Z"
   },
   {
    "duration": 10,
    "start_time": "2022-07-24T22:36:48.169Z"
   },
   {
    "duration": 22,
    "start_time": "2022-07-24T22:36:48.180Z"
   },
   {
    "duration": 9,
    "start_time": "2022-07-24T22:36:48.203Z"
   },
   {
    "duration": 8,
    "start_time": "2022-07-24T22:36:48.213Z"
   },
   {
    "duration": 9,
    "start_time": "2022-07-24T22:36:48.222Z"
   },
   {
    "duration": 155,
    "start_time": "2022-07-24T22:36:48.232Z"
   },
   {
    "duration": 7,
    "start_time": "2022-07-24T22:36:48.389Z"
   },
   {
    "duration": 114,
    "start_time": "2022-07-24T22:36:48.398Z"
   },
   {
    "duration": 7,
    "start_time": "2022-07-24T22:36:48.513Z"
   },
   {
    "duration": 10,
    "start_time": "2022-07-24T22:36:48.521Z"
   },
   {
    "duration": 10,
    "start_time": "2022-07-24T22:36:48.533Z"
   },
   {
    "duration": 265,
    "start_time": "2022-07-24T22:36:48.545Z"
   },
   {
    "duration": 187,
    "start_time": "2022-07-24T22:36:48.812Z"
   },
   {
    "duration": 272,
    "start_time": "2022-07-24T22:36:49.001Z"
   },
   {
    "duration": 209,
    "start_time": "2022-07-24T22:36:49.275Z"
   },
   {
    "duration": 286,
    "start_time": "2022-07-24T22:36:49.486Z"
   },
   {
    "duration": 113,
    "start_time": "2022-07-24T22:36:49.774Z"
   },
   {
    "duration": 5,
    "start_time": "2022-07-24T22:36:49.890Z"
   },
   {
    "duration": 134,
    "start_time": "2022-07-24T22:36:49.896Z"
   },
   {
    "duration": 132,
    "start_time": "2022-07-24T22:36:50.031Z"
   },
   {
    "duration": 4,
    "start_time": "2022-07-24T22:36:50.165Z"
   },
   {
    "duration": 13,
    "start_time": "2022-07-24T22:36:50.171Z"
   },
   {
    "duration": 137,
    "start_time": "2022-07-24T22:36:50.185Z"
   },
   {
    "duration": 7,
    "start_time": "2022-07-24T22:36:50.324Z"
   },
   {
    "duration": 31,
    "start_time": "2022-07-24T22:36:50.333Z"
   },
   {
    "duration": 25,
    "start_time": "2022-07-24T22:36:50.366Z"
   },
   {
    "duration": 108,
    "start_time": "2022-07-24T22:36:50.393Z"
   },
   {
    "duration": 0,
    "start_time": "2022-07-24T22:36:50.503Z"
   },
   {
    "duration": 0,
    "start_time": "2022-07-24T22:36:50.504Z"
   },
   {
    "duration": 0,
    "start_time": "2022-07-24T22:36:50.506Z"
   },
   {
    "duration": 0,
    "start_time": "2022-07-24T22:36:50.507Z"
   },
   {
    "duration": 18,
    "start_time": "2022-07-24T22:38:18.522Z"
   },
   {
    "duration": 14,
    "start_time": "2022-07-24T22:38:34.769Z"
   },
   {
    "duration": 7,
    "start_time": "2022-07-24T22:38:51.854Z"
   },
   {
    "duration": 10,
    "start_time": "2022-07-24T22:38:59.788Z"
   },
   {
    "duration": 9,
    "start_time": "2022-07-24T22:39:22.107Z"
   },
   {
    "duration": 8,
    "start_time": "2022-07-24T22:39:39.937Z"
   },
   {
    "duration": 17,
    "start_time": "2022-07-24T22:41:32.319Z"
   },
   {
    "duration": 17,
    "start_time": "2022-07-24T22:41:54.736Z"
   },
   {
    "duration": 7,
    "start_time": "2022-07-24T22:41:59.088Z"
   },
   {
    "duration": 8,
    "start_time": "2022-07-24T22:42:01.161Z"
   },
   {
    "duration": 14,
    "start_time": "2022-07-24T22:42:28.339Z"
   },
   {
    "duration": 7,
    "start_time": "2022-07-24T22:42:44.011Z"
   },
   {
    "duration": 7,
    "start_time": "2022-07-24T22:42:49.698Z"
   },
   {
    "duration": 8,
    "start_time": "2022-07-24T22:43:20.076Z"
   },
   {
    "duration": 9,
    "start_time": "2022-07-24T22:43:35.004Z"
   },
   {
    "duration": 5,
    "start_time": "2022-07-24T22:44:18.075Z"
   },
   {
    "duration": 5,
    "start_time": "2022-07-24T22:44:19.402Z"
   },
   {
    "duration": 6,
    "start_time": "2022-07-24T22:44:35.090Z"
   },
   {
    "duration": 165,
    "start_time": "2022-07-24T22:44:56.071Z"
   },
   {
    "duration": 262,
    "start_time": "2022-07-24T22:48:11.521Z"
   },
   {
    "duration": 10,
    "start_time": "2022-07-24T22:52:20.988Z"
   },
   {
    "duration": 745,
    "start_time": "2022-07-24T22:52:32.474Z"
   },
   {
    "duration": 10,
    "start_time": "2022-07-24T22:52:59.399Z"
   },
   {
    "duration": 10,
    "start_time": "2022-07-24T22:53:16.937Z"
   },
   {
    "duration": 106,
    "start_time": "2022-07-24T22:55:05.301Z"
   },
   {
    "duration": 9,
    "start_time": "2022-07-24T22:56:57.346Z"
   },
   {
    "duration": 47,
    "start_time": "2022-07-24T22:57:44.429Z"
   },
   {
    "duration": 8,
    "start_time": "2022-07-24T22:58:03.280Z"
   },
   {
    "duration": 9,
    "start_time": "2022-07-24T22:58:19.869Z"
   },
   {
    "duration": 985,
    "start_time": "2022-07-24T23:06:04.383Z"
   },
   {
    "duration": 96,
    "start_time": "2022-07-24T23:06:05.370Z"
   },
   {
    "duration": 3,
    "start_time": "2022-07-24T23:06:05.467Z"
   },
   {
    "duration": 26,
    "start_time": "2022-07-24T23:06:05.472Z"
   },
   {
    "duration": 7,
    "start_time": "2022-07-24T23:06:05.500Z"
   },
   {
    "duration": 13,
    "start_time": "2022-07-24T23:06:05.508Z"
   },
   {
    "duration": 8,
    "start_time": "2022-07-24T23:06:05.523Z"
   },
   {
    "duration": 14,
    "start_time": "2022-07-24T23:06:05.532Z"
   },
   {
    "duration": 54,
    "start_time": "2022-07-24T23:06:05.548Z"
   },
   {
    "duration": 10,
    "start_time": "2022-07-24T23:06:05.605Z"
   },
   {
    "duration": 6,
    "start_time": "2022-07-24T23:06:05.617Z"
   },
   {
    "duration": 20,
    "start_time": "2022-07-24T23:06:05.625Z"
   },
   {
    "duration": 9,
    "start_time": "2022-07-24T23:06:05.647Z"
   },
   {
    "duration": 21,
    "start_time": "2022-07-24T23:06:05.657Z"
   },
   {
    "duration": 11,
    "start_time": "2022-07-24T23:06:05.680Z"
   },
   {
    "duration": 157,
    "start_time": "2022-07-24T23:06:05.692Z"
   },
   {
    "duration": 8,
    "start_time": "2022-07-24T23:06:05.850Z"
   },
   {
    "duration": 120,
    "start_time": "2022-07-24T23:06:05.864Z"
   },
   {
    "duration": 7,
    "start_time": "2022-07-24T23:06:05.986Z"
   },
   {
    "duration": 20,
    "start_time": "2022-07-24T23:06:05.994Z"
   },
   {
    "duration": 17,
    "start_time": "2022-07-24T23:06:06.016Z"
   },
   {
    "duration": 264,
    "start_time": "2022-07-24T23:06:06.035Z"
   },
   {
    "duration": 188,
    "start_time": "2022-07-24T23:06:06.301Z"
   },
   {
    "duration": 279,
    "start_time": "2022-07-24T23:06:06.490Z"
   },
   {
    "duration": 201,
    "start_time": "2022-07-24T23:06:06.770Z"
   },
   {
    "duration": 283,
    "start_time": "2022-07-24T23:06:06.973Z"
   },
   {
    "duration": 116,
    "start_time": "2022-07-24T23:06:07.258Z"
   },
   {
    "duration": 6,
    "start_time": "2022-07-24T23:06:07.377Z"
   },
   {
    "duration": 126,
    "start_time": "2022-07-24T23:06:07.384Z"
   },
   {
    "duration": 132,
    "start_time": "2022-07-24T23:06:07.512Z"
   },
   {
    "duration": 5,
    "start_time": "2022-07-24T23:06:07.646Z"
   },
   {
    "duration": 13,
    "start_time": "2022-07-24T23:06:07.664Z"
   },
   {
    "duration": 10,
    "start_time": "2022-07-24T23:06:07.679Z"
   },
   {
    "duration": 16,
    "start_time": "2022-07-24T23:06:07.691Z"
   },
   {
    "duration": 139,
    "start_time": "2022-07-24T23:06:07.709Z"
   },
   {
    "duration": 25,
    "start_time": "2022-07-24T23:06:07.849Z"
   },
   {
    "duration": 17,
    "start_time": "2022-07-24T23:06:07.876Z"
   },
   {
    "duration": 14,
    "start_time": "2022-07-24T23:06:07.895Z"
   },
   {
    "duration": 12,
    "start_time": "2022-07-24T23:06:07.911Z"
   },
   {
    "duration": 26,
    "start_time": "2022-07-24T23:06:07.925Z"
   },
   {
    "duration": 27,
    "start_time": "2022-07-24T23:06:07.953Z"
   },
   {
    "duration": 6,
    "start_time": "2022-07-24T23:06:07.982Z"
   },
   {
    "duration": 22,
    "start_time": "2022-07-24T23:06:07.989Z"
   },
   {
    "duration": 209,
    "start_time": "2022-07-24T23:06:08.013Z"
   },
   {
    "duration": 11,
    "start_time": "2022-07-24T23:06:08.224Z"
   },
   {
    "duration": 9,
    "start_time": "2022-07-24T23:06:08.237Z"
   },
   {
    "duration": 8,
    "start_time": "2022-07-24T23:09:02.666Z"
   },
   {
    "duration": 1002,
    "start_time": "2022-07-24T23:09:13.324Z"
   },
   {
    "duration": 84,
    "start_time": "2022-07-24T23:09:14.328Z"
   },
   {
    "duration": 3,
    "start_time": "2022-07-24T23:09:14.413Z"
   },
   {
    "duration": 14,
    "start_time": "2022-07-24T23:09:14.418Z"
   },
   {
    "duration": 6,
    "start_time": "2022-07-24T23:09:14.433Z"
   },
   {
    "duration": 10,
    "start_time": "2022-07-24T23:09:14.440Z"
   },
   {
    "duration": 5,
    "start_time": "2022-07-24T23:09:14.464Z"
   },
   {
    "duration": 13,
    "start_time": "2022-07-24T23:09:14.471Z"
   },
   {
    "duration": 51,
    "start_time": "2022-07-24T23:09:14.485Z"
   },
   {
    "duration": 11,
    "start_time": "2022-07-24T23:09:14.539Z"
   },
   {
    "duration": 7,
    "start_time": "2022-07-24T23:09:14.551Z"
   },
   {
    "duration": 23,
    "start_time": "2022-07-24T23:09:14.559Z"
   },
   {
    "duration": 9,
    "start_time": "2022-07-24T23:09:14.583Z"
   },
   {
    "duration": 8,
    "start_time": "2022-07-24T23:09:14.594Z"
   },
   {
    "duration": 8,
    "start_time": "2022-07-24T23:09:14.603Z"
   },
   {
    "duration": 10,
    "start_time": "2022-07-24T23:09:14.613Z"
   },
   {
    "duration": 156,
    "start_time": "2022-07-24T23:09:14.625Z"
   },
   {
    "duration": 8,
    "start_time": "2022-07-24T23:09:14.783Z"
   },
   {
    "duration": 121,
    "start_time": "2022-07-24T23:09:14.792Z"
   },
   {
    "duration": 6,
    "start_time": "2022-07-24T23:09:14.915Z"
   },
   {
    "duration": 9,
    "start_time": "2022-07-24T23:09:14.923Z"
   },
   {
    "duration": 21,
    "start_time": "2022-07-24T23:09:14.933Z"
   },
   {
    "duration": 263,
    "start_time": "2022-07-24T23:09:14.964Z"
   },
   {
    "duration": 190,
    "start_time": "2022-07-24T23:09:15.229Z"
   },
   {
    "duration": 282,
    "start_time": "2022-07-24T23:09:15.420Z"
   },
   {
    "duration": 206,
    "start_time": "2022-07-24T23:09:15.703Z"
   },
   {
    "duration": 261,
    "start_time": "2022-07-24T23:09:15.911Z"
   },
   {
    "duration": 120,
    "start_time": "2022-07-24T23:09:16.177Z"
   },
   {
    "duration": 5,
    "start_time": "2022-07-24T23:09:16.300Z"
   },
   {
    "duration": 133,
    "start_time": "2022-07-24T23:09:16.307Z"
   },
   {
    "duration": 140,
    "start_time": "2022-07-24T23:09:16.442Z"
   },
   {
    "duration": 5,
    "start_time": "2022-07-24T23:09:16.583Z"
   },
   {
    "duration": 12,
    "start_time": "2022-07-24T23:09:16.591Z"
   },
   {
    "duration": 7,
    "start_time": "2022-07-24T23:09:16.605Z"
   },
   {
    "duration": 11,
    "start_time": "2022-07-24T23:09:16.614Z"
   },
   {
    "duration": 6,
    "start_time": "2022-07-24T23:09:16.627Z"
   },
   {
    "duration": 157,
    "start_time": "2022-07-24T23:09:16.634Z"
   },
   {
    "duration": 17,
    "start_time": "2022-07-24T23:09:16.793Z"
   },
   {
    "duration": 18,
    "start_time": "2022-07-24T23:09:16.811Z"
   },
   {
    "duration": 7,
    "start_time": "2022-07-24T23:09:16.831Z"
   },
   {
    "duration": 8,
    "start_time": "2022-07-24T23:09:16.864Z"
   },
   {
    "duration": 9,
    "start_time": "2022-07-24T23:09:16.874Z"
   },
   {
    "duration": 4,
    "start_time": "2022-07-24T23:09:16.884Z"
   },
   {
    "duration": 7,
    "start_time": "2022-07-24T23:09:16.889Z"
   },
   {
    "duration": 9,
    "start_time": "2022-07-24T23:09:16.898Z"
   },
   {
    "duration": 205,
    "start_time": "2022-07-24T23:09:16.908Z"
   },
   {
    "duration": 10,
    "start_time": "2022-07-24T23:09:17.115Z"
   },
   {
    "duration": 9,
    "start_time": "2022-07-24T23:09:17.127Z"
   },
   {
    "duration": 4,
    "start_time": "2022-07-24T23:10:22.014Z"
   },
   {
    "duration": 6,
    "start_time": "2022-07-24T23:11:32.822Z"
   },
   {
    "duration": 10,
    "start_time": "2022-07-24T23:11:48.775Z"
   },
   {
    "duration": 8,
    "start_time": "2022-07-24T23:12:21.539Z"
   },
   {
    "duration": 8,
    "start_time": "2022-07-24T23:12:26.823Z"
   },
   {
    "duration": 13,
    "start_time": "2022-07-24T23:12:56.558Z"
   },
   {
    "duration": 8,
    "start_time": "2022-07-24T23:13:20.507Z"
   },
   {
    "duration": 1214,
    "start_time": "2022-07-24T23:14:05.340Z"
   },
   {
    "duration": 980,
    "start_time": "2022-07-24T23:14:26.407Z"
   },
   {
    "duration": 13,
    "start_time": "2022-07-24T23:14:49.296Z"
   },
   {
    "duration": 9,
    "start_time": "2022-07-24T23:14:53.934Z"
   },
   {
    "duration": 4,
    "start_time": "2022-07-24T23:14:56.314Z"
   },
   {
    "duration": 6,
    "start_time": "2022-07-24T23:15:10.895Z"
   },
   {
    "duration": 1366,
    "start_time": "2022-07-25T19:58:41.678Z"
   },
   {
    "duration": 127,
    "start_time": "2022-07-25T19:58:43.047Z"
   },
   {
    "duration": 4,
    "start_time": "2022-07-25T19:58:43.176Z"
   },
   {
    "duration": 28,
    "start_time": "2022-07-25T19:58:43.183Z"
   },
   {
    "duration": 7,
    "start_time": "2022-07-25T19:58:43.213Z"
   },
   {
    "duration": 39,
    "start_time": "2022-07-25T19:58:43.222Z"
   },
   {
    "duration": 11,
    "start_time": "2022-07-25T19:58:43.263Z"
   },
   {
    "duration": 15,
    "start_time": "2022-07-25T19:58:43.276Z"
   },
   {
    "duration": 116,
    "start_time": "2022-07-25T19:58:43.294Z"
   },
   {
    "duration": 18,
    "start_time": "2022-07-25T19:58:43.415Z"
   },
   {
    "duration": 26,
    "start_time": "2022-07-25T19:58:43.435Z"
   },
   {
    "duration": 55,
    "start_time": "2022-07-25T19:58:43.464Z"
   },
   {
    "duration": 16,
    "start_time": "2022-07-25T19:58:43.521Z"
   },
   {
    "duration": 25,
    "start_time": "2022-07-25T19:58:43.539Z"
   },
   {
    "duration": 10,
    "start_time": "2022-07-25T19:58:43.566Z"
   },
   {
    "duration": 13,
    "start_time": "2022-07-25T19:58:43.578Z"
   },
   {
    "duration": 305,
    "start_time": "2022-07-25T19:58:43.594Z"
   },
   {
    "duration": 12,
    "start_time": "2022-07-25T19:58:43.901Z"
   },
   {
    "duration": 174,
    "start_time": "2022-07-25T19:58:43.925Z"
   },
   {
    "duration": 9,
    "start_time": "2022-07-25T19:58:44.101Z"
   },
   {
    "duration": 45,
    "start_time": "2022-07-25T19:58:44.111Z"
   },
   {
    "duration": 22,
    "start_time": "2022-07-25T19:58:44.158Z"
   },
   {
    "duration": 363,
    "start_time": "2022-07-25T19:58:44.182Z"
   },
   {
    "duration": 231,
    "start_time": "2022-07-25T19:58:44.548Z"
   },
   {
    "duration": 405,
    "start_time": "2022-07-25T19:58:44.781Z"
   },
   {
    "duration": 284,
    "start_time": "2022-07-25T19:58:45.188Z"
   },
   {
    "duration": 380,
    "start_time": "2022-07-25T19:58:45.474Z"
   },
   {
    "duration": 161,
    "start_time": "2022-07-25T19:58:45.862Z"
   },
   {
    "duration": 6,
    "start_time": "2022-07-25T19:58:46.025Z"
   },
   {
    "duration": 194,
    "start_time": "2022-07-25T19:58:46.033Z"
   },
   {
    "duration": 240,
    "start_time": "2022-07-25T19:58:46.230Z"
   },
   {
    "duration": 6,
    "start_time": "2022-07-25T19:58:46.472Z"
   },
   {
    "duration": 16,
    "start_time": "2022-07-25T19:58:46.480Z"
   },
   {
    "duration": 26,
    "start_time": "2022-07-25T19:58:46.498Z"
   },
   {
    "duration": 15,
    "start_time": "2022-07-25T19:58:46.526Z"
   },
   {
    "duration": 39,
    "start_time": "2022-07-25T19:58:46.549Z"
   },
   {
    "duration": 12,
    "start_time": "2022-07-25T19:58:46.591Z"
   },
   {
    "duration": 14,
    "start_time": "2022-07-25T19:58:46.605Z"
   },
   {
    "duration": 36,
    "start_time": "2022-07-25T19:58:46.621Z"
   },
   {
    "duration": 228,
    "start_time": "2022-07-25T19:58:46.659Z"
   },
   {
    "duration": 32,
    "start_time": "2022-07-25T19:58:46.891Z"
   },
   {
    "duration": 58,
    "start_time": "2022-07-25T19:58:46.930Z"
   },
   {
    "duration": 9,
    "start_time": "2022-07-25T19:58:46.989Z"
   },
   {
    "duration": 11,
    "start_time": "2022-07-25T19:58:46.999Z"
   },
   {
    "duration": 10,
    "start_time": "2022-07-25T19:58:47.013Z"
   },
   {
    "duration": 28,
    "start_time": "2022-07-25T19:58:47.025Z"
   },
   {
    "duration": 19,
    "start_time": "2022-07-25T19:58:47.054Z"
   },
   {
    "duration": 23,
    "start_time": "2022-07-25T19:58:47.075Z"
   },
   {
    "duration": 303,
    "start_time": "2022-07-25T19:58:47.100Z"
   },
   {
    "duration": 24,
    "start_time": "2022-07-25T19:58:47.405Z"
   },
   {
    "duration": 30,
    "start_time": "2022-07-25T19:58:47.432Z"
   },
   {
    "duration": 9,
    "start_time": "2022-07-25T19:59:00.577Z"
   },
   {
    "duration": 9,
    "start_time": "2022-07-25T19:59:02.993Z"
   },
   {
    "duration": 10,
    "start_time": "2022-07-25T19:59:13.368Z"
   },
   {
    "duration": 4,
    "start_time": "2022-07-25T19:59:13.857Z"
   },
   {
    "duration": 5,
    "start_time": "2022-07-25T19:59:14.372Z"
   },
   {
    "duration": 6,
    "start_time": "2022-07-25T19:59:15.100Z"
   },
   {
    "duration": 10,
    "start_time": "2022-07-25T19:59:45.803Z"
   },
   {
    "duration": 322,
    "start_time": "2022-07-25T20:00:00.696Z"
   },
   {
    "duration": 5,
    "start_time": "2022-07-25T20:10:46.486Z"
   },
   {
    "duration": 5,
    "start_time": "2022-07-25T20:11:02.765Z"
   },
   {
    "duration": 156,
    "start_time": "2022-07-25T20:12:00.990Z"
   },
   {
    "duration": 9,
    "start_time": "2022-07-25T20:12:40.980Z"
   },
   {
    "duration": 1113,
    "start_time": "2022-07-25T20:12:54.566Z"
   },
   {
    "duration": 92,
    "start_time": "2022-07-25T20:12:55.682Z"
   },
   {
    "duration": 3,
    "start_time": "2022-07-25T20:12:55.776Z"
   },
   {
    "duration": 18,
    "start_time": "2022-07-25T20:12:55.782Z"
   },
   {
    "duration": 21,
    "start_time": "2022-07-25T20:12:55.802Z"
   },
   {
    "duration": 30,
    "start_time": "2022-07-25T20:12:55.826Z"
   },
   {
    "duration": 8,
    "start_time": "2022-07-25T20:12:55.858Z"
   },
   {
    "duration": 13,
    "start_time": "2022-07-25T20:12:55.868Z"
   },
   {
    "duration": 55,
    "start_time": "2022-07-25T20:12:55.883Z"
   },
   {
    "duration": 15,
    "start_time": "2022-07-25T20:12:55.951Z"
   },
   {
    "duration": 13,
    "start_time": "2022-07-25T20:12:55.968Z"
   },
   {
    "duration": 24,
    "start_time": "2022-07-25T20:12:55.983Z"
   },
   {
    "duration": 13,
    "start_time": "2022-07-25T20:12:56.009Z"
   },
   {
    "duration": 32,
    "start_time": "2022-07-25T20:12:56.032Z"
   },
   {
    "duration": 13,
    "start_time": "2022-07-25T20:12:56.065Z"
   },
   {
    "duration": 122,
    "start_time": "2022-07-25T20:12:56.081Z"
   },
   {
    "duration": 0,
    "start_time": "2022-07-25T20:12:56.207Z"
   },
   {
    "duration": 0,
    "start_time": "2022-07-25T20:12:56.209Z"
   },
   {
    "duration": 0,
    "start_time": "2022-07-25T20:12:56.210Z"
   },
   {
    "duration": 0,
    "start_time": "2022-07-25T20:12:56.212Z"
   },
   {
    "duration": 0,
    "start_time": "2022-07-25T20:12:56.213Z"
   },
   {
    "duration": 1,
    "start_time": "2022-07-25T20:12:56.213Z"
   },
   {
    "duration": 0,
    "start_time": "2022-07-25T20:12:56.223Z"
   },
   {
    "duration": 0,
    "start_time": "2022-07-25T20:12:56.226Z"
   },
   {
    "duration": 0,
    "start_time": "2022-07-25T20:12:56.227Z"
   },
   {
    "duration": 0,
    "start_time": "2022-07-25T20:12:56.229Z"
   },
   {
    "duration": 0,
    "start_time": "2022-07-25T20:12:56.230Z"
   },
   {
    "duration": 0,
    "start_time": "2022-07-25T20:12:56.232Z"
   },
   {
    "duration": 0,
    "start_time": "2022-07-25T20:12:56.233Z"
   },
   {
    "duration": 0,
    "start_time": "2022-07-25T20:12:56.235Z"
   },
   {
    "duration": 0,
    "start_time": "2022-07-25T20:12:56.237Z"
   },
   {
    "duration": 0,
    "start_time": "2022-07-25T20:12:56.238Z"
   },
   {
    "duration": 0,
    "start_time": "2022-07-25T20:12:56.240Z"
   },
   {
    "duration": 0,
    "start_time": "2022-07-25T20:12:56.241Z"
   },
   {
    "duration": 0,
    "start_time": "2022-07-25T20:12:56.243Z"
   },
   {
    "duration": 0,
    "start_time": "2022-07-25T20:12:56.244Z"
   },
   {
    "duration": 0,
    "start_time": "2022-07-25T20:12:56.245Z"
   },
   {
    "duration": 1,
    "start_time": "2022-07-25T20:12:56.246Z"
   },
   {
    "duration": 0,
    "start_time": "2022-07-25T20:12:56.248Z"
   },
   {
    "duration": 0,
    "start_time": "2022-07-25T20:12:56.250Z"
   },
   {
    "duration": 0,
    "start_time": "2022-07-25T20:12:56.252Z"
   },
   {
    "duration": 0,
    "start_time": "2022-07-25T20:12:56.253Z"
   },
   {
    "duration": 0,
    "start_time": "2022-07-25T20:12:56.254Z"
   },
   {
    "duration": 0,
    "start_time": "2022-07-25T20:12:56.256Z"
   },
   {
    "duration": 0,
    "start_time": "2022-07-25T20:12:56.257Z"
   },
   {
    "duration": 0,
    "start_time": "2022-07-25T20:12:56.259Z"
   },
   {
    "duration": 0,
    "start_time": "2022-07-25T20:12:56.260Z"
   },
   {
    "duration": 0,
    "start_time": "2022-07-25T20:12:56.262Z"
   },
   {
    "duration": 0,
    "start_time": "2022-07-25T20:12:56.264Z"
   },
   {
    "duration": 0,
    "start_time": "2022-07-25T20:12:56.265Z"
   },
   {
    "duration": 0,
    "start_time": "2022-07-25T20:12:56.266Z"
   },
   {
    "duration": 0,
    "start_time": "2022-07-25T20:12:56.267Z"
   },
   {
    "duration": 0,
    "start_time": "2022-07-25T20:12:56.323Z"
   },
   {
    "duration": 0,
    "start_time": "2022-07-25T20:12:56.325Z"
   },
   {
    "duration": 0,
    "start_time": "2022-07-25T20:12:56.326Z"
   },
   {
    "duration": 8,
    "start_time": "2022-07-25T20:13:26.052Z"
   },
   {
    "duration": 6,
    "start_time": "2022-07-25T20:14:42.314Z"
   },
   {
    "duration": 6,
    "start_time": "2022-07-25T20:14:54.560Z"
   },
   {
    "duration": 13,
    "start_time": "2022-07-25T20:14:55.567Z"
   },
   {
    "duration": 19,
    "start_time": "2022-07-25T20:15:11.513Z"
   },
   {
    "duration": 1386,
    "start_time": "2022-07-25T20:15:19.770Z"
   },
   {
    "duration": 113,
    "start_time": "2022-07-25T20:15:21.163Z"
   },
   {
    "duration": 8,
    "start_time": "2022-07-25T20:15:21.296Z"
   },
   {
    "duration": 44,
    "start_time": "2022-07-25T20:15:21.307Z"
   },
   {
    "duration": 43,
    "start_time": "2022-07-25T20:15:21.357Z"
   },
   {
    "duration": 52,
    "start_time": "2022-07-25T20:15:21.403Z"
   },
   {
    "duration": 46,
    "start_time": "2022-07-25T20:15:21.458Z"
   },
   {
    "duration": 64,
    "start_time": "2022-07-25T20:15:21.511Z"
   },
   {
    "duration": 75,
    "start_time": "2022-07-25T20:15:21.577Z"
   },
   {
    "duration": 19,
    "start_time": "2022-07-25T20:15:21.659Z"
   },
   {
    "duration": 21,
    "start_time": "2022-07-25T20:15:21.683Z"
   },
   {
    "duration": 55,
    "start_time": "2022-07-25T20:15:21.706Z"
   },
   {
    "duration": 35,
    "start_time": "2022-07-25T20:15:21.763Z"
   },
   {
    "duration": 16,
    "start_time": "2022-07-25T20:15:21.803Z"
   },
   {
    "duration": 46,
    "start_time": "2022-07-25T20:15:21.827Z"
   },
   {
    "duration": 16,
    "start_time": "2022-07-25T20:15:21.875Z"
   },
   {
    "duration": 13,
    "start_time": "2022-07-25T20:15:21.893Z"
   },
   {
    "duration": 24,
    "start_time": "2022-07-25T20:15:21.908Z"
   },
   {
    "duration": 206,
    "start_time": "2022-07-25T20:15:21.937Z"
   },
   {
    "duration": 0,
    "start_time": "2022-07-25T20:15:22.146Z"
   },
   {
    "duration": 0,
    "start_time": "2022-07-25T20:15:22.148Z"
   },
   {
    "duration": 0,
    "start_time": "2022-07-25T20:15:22.149Z"
   },
   {
    "duration": 0,
    "start_time": "2022-07-25T20:15:22.151Z"
   },
   {
    "duration": 0,
    "start_time": "2022-07-25T20:15:22.152Z"
   },
   {
    "duration": 0,
    "start_time": "2022-07-25T20:15:22.154Z"
   },
   {
    "duration": 0,
    "start_time": "2022-07-25T20:15:22.155Z"
   },
   {
    "duration": 0,
    "start_time": "2022-07-25T20:15:22.157Z"
   },
   {
    "duration": 0,
    "start_time": "2022-07-25T20:15:22.158Z"
   },
   {
    "duration": 0,
    "start_time": "2022-07-25T20:15:22.160Z"
   },
   {
    "duration": 0,
    "start_time": "2022-07-25T20:15:22.161Z"
   },
   {
    "duration": 0,
    "start_time": "2022-07-25T20:15:22.163Z"
   },
   {
    "duration": 0,
    "start_time": "2022-07-25T20:15:22.164Z"
   },
   {
    "duration": 0,
    "start_time": "2022-07-25T20:15:22.166Z"
   },
   {
    "duration": 0,
    "start_time": "2022-07-25T20:15:22.168Z"
   },
   {
    "duration": 0,
    "start_time": "2022-07-25T20:15:22.169Z"
   },
   {
    "duration": 0,
    "start_time": "2022-07-25T20:15:22.171Z"
   },
   {
    "duration": 0,
    "start_time": "2022-07-25T20:15:22.172Z"
   },
   {
    "duration": 0,
    "start_time": "2022-07-25T20:15:22.174Z"
   },
   {
    "duration": 0,
    "start_time": "2022-07-25T20:15:22.175Z"
   },
   {
    "duration": 0,
    "start_time": "2022-07-25T20:15:22.177Z"
   },
   {
    "duration": 0,
    "start_time": "2022-07-25T20:15:22.178Z"
   },
   {
    "duration": 0,
    "start_time": "2022-07-25T20:15:22.180Z"
   },
   {
    "duration": 0,
    "start_time": "2022-07-25T20:15:22.181Z"
   },
   {
    "duration": 0,
    "start_time": "2022-07-25T20:15:22.183Z"
   },
   {
    "duration": 0,
    "start_time": "2022-07-25T20:15:22.185Z"
   },
   {
    "duration": 0,
    "start_time": "2022-07-25T20:15:22.186Z"
   },
   {
    "duration": 0,
    "start_time": "2022-07-25T20:15:22.188Z"
   },
   {
    "duration": 0,
    "start_time": "2022-07-25T20:15:22.189Z"
   },
   {
    "duration": 0,
    "start_time": "2022-07-25T20:15:22.191Z"
   },
   {
    "duration": 0,
    "start_time": "2022-07-25T20:15:22.192Z"
   },
   {
    "duration": 0,
    "start_time": "2022-07-25T20:15:22.194Z"
   },
   {
    "duration": 0,
    "start_time": "2022-07-25T20:15:22.223Z"
   },
   {
    "duration": 0,
    "start_time": "2022-07-25T20:15:22.225Z"
   },
   {
    "duration": 0,
    "start_time": "2022-07-25T20:15:22.226Z"
   },
   {
    "duration": 0,
    "start_time": "2022-07-25T20:15:22.228Z"
   },
   {
    "duration": 0,
    "start_time": "2022-07-25T20:15:22.229Z"
   },
   {
    "duration": 7,
    "start_time": "2022-07-25T20:16:15.063Z"
   },
   {
    "duration": 6,
    "start_time": "2022-07-25T20:16:22.472Z"
   },
   {
    "duration": 6,
    "start_time": "2022-07-25T20:16:42.025Z"
   },
   {
    "duration": 3,
    "start_time": "2022-07-25T20:16:44.402Z"
   },
   {
    "duration": 13,
    "start_time": "2022-07-25T20:16:45.972Z"
   },
   {
    "duration": 12,
    "start_time": "2022-07-25T20:17:42.498Z"
   },
   {
    "duration": 1247,
    "start_time": "2022-07-25T20:17:50.697Z"
   },
   {
    "duration": 123,
    "start_time": "2022-07-25T20:17:51.948Z"
   },
   {
    "duration": 6,
    "start_time": "2022-07-25T20:17:52.073Z"
   },
   {
    "duration": 14,
    "start_time": "2022-07-25T20:17:52.100Z"
   },
   {
    "duration": 19,
    "start_time": "2022-07-25T20:17:52.116Z"
   },
   {
    "duration": 39,
    "start_time": "2022-07-25T20:17:52.149Z"
   },
   {
    "duration": 9,
    "start_time": "2022-07-25T20:17:52.191Z"
   },
   {
    "duration": 15,
    "start_time": "2022-07-25T20:17:52.202Z"
   },
   {
    "duration": 99,
    "start_time": "2022-07-25T20:17:52.219Z"
   },
   {
    "duration": 23,
    "start_time": "2022-07-25T20:17:52.322Z"
   },
   {
    "duration": 59,
    "start_time": "2022-07-25T20:17:52.346Z"
   },
   {
    "duration": 46,
    "start_time": "2022-07-25T20:17:52.407Z"
   },
   {
    "duration": 18,
    "start_time": "2022-07-25T20:17:52.455Z"
   },
   {
    "duration": 25,
    "start_time": "2022-07-25T20:17:52.478Z"
   },
   {
    "duration": 8,
    "start_time": "2022-07-25T20:17:52.505Z"
   },
   {
    "duration": 7,
    "start_time": "2022-07-25T20:17:52.514Z"
   },
   {
    "duration": 55,
    "start_time": "2022-07-25T20:17:52.525Z"
   },
   {
    "duration": 15,
    "start_time": "2022-07-25T20:17:52.582Z"
   },
   {
    "duration": 9,
    "start_time": "2022-07-25T20:17:52.599Z"
   },
   {
    "duration": 11,
    "start_time": "2022-07-25T20:17:52.610Z"
   },
   {
    "duration": 60,
    "start_time": "2022-07-25T20:17:52.628Z"
   },
   {
    "duration": 227,
    "start_time": "2022-07-25T20:17:52.690Z"
   },
   {
    "duration": 32,
    "start_time": "2022-07-25T20:17:52.919Z"
   },
   {
    "duration": 212,
    "start_time": "2022-07-25T20:17:52.955Z"
   },
   {
    "duration": 16,
    "start_time": "2022-07-25T20:17:53.178Z"
   },
   {
    "duration": 11,
    "start_time": "2022-07-25T20:17:53.197Z"
   },
   {
    "duration": 20,
    "start_time": "2022-07-25T20:17:53.210Z"
   },
   {
    "duration": 387,
    "start_time": "2022-07-25T20:17:53.234Z"
   },
   {
    "duration": 282,
    "start_time": "2022-07-25T20:17:53.623Z"
   },
   {
    "duration": 387,
    "start_time": "2022-07-25T20:17:53.908Z"
   },
   {
    "duration": 311,
    "start_time": "2022-07-25T20:17:54.297Z"
   },
   {
    "duration": 377,
    "start_time": "2022-07-25T20:17:54.610Z"
   },
   {
    "duration": 180,
    "start_time": "2022-07-25T20:17:54.990Z"
   },
   {
    "duration": 8,
    "start_time": "2022-07-25T20:17:55.172Z"
   },
   {
    "duration": 212,
    "start_time": "2022-07-25T20:17:55.182Z"
   },
   {
    "duration": 207,
    "start_time": "2022-07-25T20:17:55.396Z"
   },
   {
    "duration": 10,
    "start_time": "2022-07-25T20:17:55.605Z"
   },
   {
    "duration": 67,
    "start_time": "2022-07-25T20:17:55.617Z"
   },
   {
    "duration": 12,
    "start_time": "2022-07-25T20:17:55.687Z"
   },
   {
    "duration": 18,
    "start_time": "2022-07-25T20:17:55.702Z"
   },
   {
    "duration": 69,
    "start_time": "2022-07-25T20:17:55.723Z"
   },
   {
    "duration": 11,
    "start_time": "2022-07-25T20:17:55.794Z"
   },
   {
    "duration": 23,
    "start_time": "2022-07-25T20:17:55.807Z"
   },
   {
    "duration": 46,
    "start_time": "2022-07-25T20:17:55.832Z"
   },
   {
    "duration": 185,
    "start_time": "2022-07-25T20:17:55.880Z"
   },
   {
    "duration": 24,
    "start_time": "2022-07-25T20:17:56.066Z"
   },
   {
    "duration": 56,
    "start_time": "2022-07-25T20:17:56.092Z"
   },
   {
    "duration": 38,
    "start_time": "2022-07-25T20:17:56.157Z"
   },
   {
    "duration": 13,
    "start_time": "2022-07-25T20:17:56.197Z"
   },
   {
    "duration": 10,
    "start_time": "2022-07-25T20:17:56.212Z"
   },
   {
    "duration": 28,
    "start_time": "2022-07-25T20:17:56.240Z"
   },
   {
    "duration": 15,
    "start_time": "2022-07-25T20:17:56.270Z"
   },
   {
    "duration": 19,
    "start_time": "2022-07-25T20:17:56.287Z"
   },
   {
    "duration": 355,
    "start_time": "2022-07-25T20:17:56.308Z"
   },
   {
    "duration": 14,
    "start_time": "2022-07-25T20:17:56.666Z"
   },
   {
    "duration": 17,
    "start_time": "2022-07-25T20:17:56.682Z"
   },
   {
    "duration": 6,
    "start_time": "2022-07-25T20:18:04.293Z"
   },
   {
    "duration": 1278,
    "start_time": "2022-07-25T20:19:15.518Z"
   },
   {
    "duration": 97,
    "start_time": "2022-07-25T20:19:16.798Z"
   },
   {
    "duration": 5,
    "start_time": "2022-07-25T20:19:16.897Z"
   },
   {
    "duration": 40,
    "start_time": "2022-07-25T20:19:16.905Z"
   },
   {
    "duration": 20,
    "start_time": "2022-07-25T20:19:16.955Z"
   },
   {
    "duration": 36,
    "start_time": "2022-07-25T20:19:16.988Z"
   },
   {
    "duration": 52,
    "start_time": "2022-07-25T20:19:17.026Z"
   },
   {
    "duration": 25,
    "start_time": "2022-07-25T20:19:17.080Z"
   },
   {
    "duration": 85,
    "start_time": "2022-07-25T20:19:17.108Z"
   },
   {
    "duration": 14,
    "start_time": "2022-07-25T20:19:17.196Z"
   },
   {
    "duration": 13,
    "start_time": "2022-07-25T20:19:17.212Z"
   },
   {
    "duration": 56,
    "start_time": "2022-07-25T20:19:17.229Z"
   },
   {
    "duration": 16,
    "start_time": "2022-07-25T20:19:17.287Z"
   },
   {
    "duration": 27,
    "start_time": "2022-07-25T20:19:17.305Z"
   },
   {
    "duration": 44,
    "start_time": "2022-07-25T20:19:17.334Z"
   },
   {
    "duration": 5,
    "start_time": "2022-07-25T20:19:17.380Z"
   },
   {
    "duration": 12,
    "start_time": "2022-07-25T20:19:17.387Z"
   },
   {
    "duration": 9,
    "start_time": "2022-07-25T20:19:17.401Z"
   },
   {
    "duration": 8,
    "start_time": "2022-07-25T20:19:17.412Z"
   },
   {
    "duration": 38,
    "start_time": "2022-07-25T20:19:17.422Z"
   },
   {
    "duration": 19,
    "start_time": "2022-07-25T20:19:17.462Z"
   },
   {
    "duration": 16,
    "start_time": "2022-07-25T20:19:17.483Z"
   },
   {
    "duration": 247,
    "start_time": "2022-07-25T20:19:17.501Z"
   },
   {
    "duration": 12,
    "start_time": "2022-07-25T20:19:17.749Z"
   },
   {
    "duration": 143,
    "start_time": "2022-07-25T20:19:17.763Z"
   },
   {
    "duration": 16,
    "start_time": "2022-07-25T20:19:17.908Z"
   },
   {
    "duration": 29,
    "start_time": "2022-07-25T20:19:17.928Z"
   },
   {
    "duration": 25,
    "start_time": "2022-07-25T20:19:17.962Z"
   },
   {
    "duration": 362,
    "start_time": "2022-07-25T20:19:17.989Z"
   },
   {
    "duration": 287,
    "start_time": "2022-07-25T20:19:18.354Z"
   },
   {
    "duration": 361,
    "start_time": "2022-07-25T20:19:18.643Z"
   },
   {
    "duration": 338,
    "start_time": "2022-07-25T20:19:19.006Z"
   },
   {
    "duration": 367,
    "start_time": "2022-07-25T20:19:19.346Z"
   },
   {
    "duration": 173,
    "start_time": "2022-07-25T20:19:19.716Z"
   },
   {
    "duration": 9,
    "start_time": "2022-07-25T20:19:19.891Z"
   },
   {
    "duration": 177,
    "start_time": "2022-07-25T20:19:19.902Z"
   },
   {
    "duration": 185,
    "start_time": "2022-07-25T20:19:20.081Z"
   },
   {
    "duration": 7,
    "start_time": "2022-07-25T20:19:20.269Z"
   },
   {
    "duration": 20,
    "start_time": "2022-07-25T20:19:20.278Z"
   },
   {
    "duration": 16,
    "start_time": "2022-07-25T20:19:20.300Z"
   },
   {
    "duration": 59,
    "start_time": "2022-07-25T20:19:20.318Z"
   },
   {
    "duration": 21,
    "start_time": "2022-07-25T20:19:20.379Z"
   },
   {
    "duration": 10,
    "start_time": "2022-07-25T20:19:20.402Z"
   },
   {
    "duration": 59,
    "start_time": "2022-07-25T20:19:20.414Z"
   },
   {
    "duration": 18,
    "start_time": "2022-07-25T20:19:20.475Z"
   },
   {
    "duration": 224,
    "start_time": "2022-07-25T20:19:20.495Z"
   },
   {
    "duration": 23,
    "start_time": "2022-07-25T20:19:20.721Z"
   },
   {
    "duration": 65,
    "start_time": "2022-07-25T20:19:20.745Z"
   },
   {
    "duration": 11,
    "start_time": "2022-07-25T20:19:20.813Z"
   },
   {
    "duration": 64,
    "start_time": "2022-07-25T20:19:20.829Z"
   },
   {
    "duration": 16,
    "start_time": "2022-07-25T20:19:20.895Z"
   },
   {
    "duration": 10,
    "start_time": "2022-07-25T20:19:20.913Z"
   },
   {
    "duration": 75,
    "start_time": "2022-07-25T20:19:20.925Z"
   },
   {
    "duration": 12,
    "start_time": "2022-07-25T20:19:21.002Z"
   },
   {
    "duration": 333,
    "start_time": "2022-07-25T20:19:21.016Z"
   },
   {
    "duration": 17,
    "start_time": "2022-07-25T20:19:21.352Z"
   },
   {
    "duration": 12,
    "start_time": "2022-07-25T20:19:21.372Z"
   },
   {
    "duration": 122,
    "start_time": "2022-07-25T20:24:46.664Z"
   },
   {
    "duration": 11,
    "start_time": "2022-07-25T20:26:24.106Z"
   },
   {
    "duration": 11,
    "start_time": "2022-07-25T20:26:44.862Z"
   },
   {
    "duration": 10,
    "start_time": "2022-07-25T20:27:13.160Z"
   },
   {
    "duration": 14,
    "start_time": "2022-07-25T20:27:16.617Z"
   },
   {
    "duration": 5,
    "start_time": "2022-07-25T20:27:20.179Z"
   },
   {
    "duration": 4,
    "start_time": "2022-07-25T20:27:30.714Z"
   },
   {
    "duration": 15,
    "start_time": "2022-07-25T20:29:21.723Z"
   },
   {
    "duration": 3336,
    "start_time": "2022-07-25T20:29:50.966Z"
   },
   {
    "duration": 158,
    "start_time": "2022-07-25T20:29:54.306Z"
   },
   {
    "duration": 4,
    "start_time": "2022-07-25T20:29:54.467Z"
   },
   {
    "duration": 26,
    "start_time": "2022-07-25T20:29:54.474Z"
   },
   {
    "duration": 7,
    "start_time": "2022-07-25T20:29:54.504Z"
   },
   {
    "duration": 16,
    "start_time": "2022-07-25T20:29:54.513Z"
   },
   {
    "duration": 32,
    "start_time": "2022-07-25T20:29:54.531Z"
   },
   {
    "duration": 20,
    "start_time": "2022-07-25T20:29:54.566Z"
   },
   {
    "duration": 108,
    "start_time": "2022-07-25T20:29:54.589Z"
   },
   {
    "duration": 16,
    "start_time": "2022-07-25T20:29:54.699Z"
   },
   {
    "duration": 4,
    "start_time": "2022-07-25T20:29:54.718Z"
   },
   {
    "duration": 49,
    "start_time": "2022-07-25T20:29:54.725Z"
   },
   {
    "duration": 17,
    "start_time": "2022-07-25T20:29:54.776Z"
   },
   {
    "duration": 23,
    "start_time": "2022-07-25T20:29:54.797Z"
   },
   {
    "duration": 14,
    "start_time": "2022-07-25T20:29:54.822Z"
   },
   {
    "duration": 29,
    "start_time": "2022-07-25T20:29:54.840Z"
   },
   {
    "duration": 10,
    "start_time": "2022-07-25T20:29:54.872Z"
   },
   {
    "duration": 11,
    "start_time": "2022-07-25T20:29:54.885Z"
   },
   {
    "duration": 10,
    "start_time": "2022-07-25T20:29:54.898Z"
   },
   {
    "duration": 11,
    "start_time": "2022-07-25T20:29:54.911Z"
   },
   {
    "duration": 199,
    "start_time": "2022-07-25T20:29:54.924Z"
   },
   {
    "duration": 0,
    "start_time": "2022-07-25T20:29:55.126Z"
   },
   {
    "duration": 0,
    "start_time": "2022-07-25T20:29:55.128Z"
   },
   {
    "duration": 0,
    "start_time": "2022-07-25T20:29:55.130Z"
   },
   {
    "duration": 0,
    "start_time": "2022-07-25T20:29:55.131Z"
   },
   {
    "duration": 0,
    "start_time": "2022-07-25T20:29:55.133Z"
   },
   {
    "duration": 0,
    "start_time": "2022-07-25T20:29:55.134Z"
   },
   {
    "duration": 0,
    "start_time": "2022-07-25T20:29:55.136Z"
   },
   {
    "duration": 0,
    "start_time": "2022-07-25T20:29:55.137Z"
   },
   {
    "duration": 0,
    "start_time": "2022-07-25T20:29:55.139Z"
   },
   {
    "duration": 0,
    "start_time": "2022-07-25T20:29:55.140Z"
   },
   {
    "duration": 0,
    "start_time": "2022-07-25T20:29:55.142Z"
   },
   {
    "duration": 0,
    "start_time": "2022-07-25T20:29:55.143Z"
   },
   {
    "duration": 0,
    "start_time": "2022-07-25T20:29:55.145Z"
   },
   {
    "duration": 0,
    "start_time": "2022-07-25T20:29:55.147Z"
   },
   {
    "duration": 0,
    "start_time": "2022-07-25T20:29:55.149Z"
   },
   {
    "duration": 0,
    "start_time": "2022-07-25T20:29:55.150Z"
   },
   {
    "duration": 0,
    "start_time": "2022-07-25T20:29:55.152Z"
   },
   {
    "duration": 0,
    "start_time": "2022-07-25T20:29:55.153Z"
   },
   {
    "duration": 0,
    "start_time": "2022-07-25T20:29:55.155Z"
   },
   {
    "duration": 0,
    "start_time": "2022-07-25T20:29:55.156Z"
   },
   {
    "duration": 0,
    "start_time": "2022-07-25T20:29:55.157Z"
   },
   {
    "duration": 0,
    "start_time": "2022-07-25T20:29:55.159Z"
   },
   {
    "duration": 0,
    "start_time": "2022-07-25T20:29:55.160Z"
   },
   {
    "duration": 0,
    "start_time": "2022-07-25T20:29:55.162Z"
   },
   {
    "duration": 0,
    "start_time": "2022-07-25T20:29:55.163Z"
   },
   {
    "duration": 0,
    "start_time": "2022-07-25T20:29:55.165Z"
   },
   {
    "duration": 0,
    "start_time": "2022-07-25T20:29:55.167Z"
   },
   {
    "duration": 0,
    "start_time": "2022-07-25T20:29:55.168Z"
   },
   {
    "duration": 0,
    "start_time": "2022-07-25T20:29:55.170Z"
   },
   {
    "duration": 0,
    "start_time": "2022-07-25T20:29:55.171Z"
   },
   {
    "duration": 0,
    "start_time": "2022-07-25T20:29:55.173Z"
   },
   {
    "duration": 0,
    "start_time": "2022-07-25T20:29:55.174Z"
   },
   {
    "duration": 0,
    "start_time": "2022-07-25T20:29:55.175Z"
   },
   {
    "duration": 0,
    "start_time": "2022-07-25T20:29:55.176Z"
   },
   {
    "duration": 0,
    "start_time": "2022-07-25T20:29:55.177Z"
   },
   {
    "duration": 0,
    "start_time": "2022-07-25T20:29:55.179Z"
   },
   {
    "duration": 0,
    "start_time": "2022-07-25T20:29:55.180Z"
   },
   {
    "duration": 6,
    "start_time": "2022-07-25T20:30:38.051Z"
   },
   {
    "duration": 1376,
    "start_time": "2022-07-25T20:31:37.907Z"
   },
   {
    "duration": 121,
    "start_time": "2022-07-25T20:31:39.285Z"
   },
   {
    "duration": 4,
    "start_time": "2022-07-25T20:31:39.408Z"
   },
   {
    "duration": 94,
    "start_time": "2022-07-25T20:31:39.415Z"
   },
   {
    "duration": 78,
    "start_time": "2022-07-25T20:31:39.511Z"
   },
   {
    "duration": 92,
    "start_time": "2022-07-25T20:31:39.591Z"
   },
   {
    "duration": 25,
    "start_time": "2022-07-25T20:31:39.685Z"
   },
   {
    "duration": 98,
    "start_time": "2022-07-25T20:31:39.713Z"
   },
   {
    "duration": 141,
    "start_time": "2022-07-25T20:31:39.813Z"
   },
   {
    "duration": 41,
    "start_time": "2022-07-25T20:31:39.959Z"
   },
   {
    "duration": 17,
    "start_time": "2022-07-25T20:31:40.004Z"
   },
   {
    "duration": 88,
    "start_time": "2022-07-25T20:31:40.025Z"
   },
   {
    "duration": 15,
    "start_time": "2022-07-25T20:31:40.116Z"
   },
   {
    "duration": 49,
    "start_time": "2022-07-25T20:31:40.132Z"
   },
   {
    "duration": 7,
    "start_time": "2022-07-25T20:31:40.184Z"
   },
   {
    "duration": 7,
    "start_time": "2022-07-25T20:31:40.193Z"
   },
   {
    "duration": 6,
    "start_time": "2022-07-25T20:31:40.202Z"
   },
   {
    "duration": 8,
    "start_time": "2022-07-25T20:31:40.210Z"
   },
   {
    "duration": 50,
    "start_time": "2022-07-25T20:31:40.220Z"
   },
   {
    "duration": 10,
    "start_time": "2022-07-25T20:31:40.273Z"
   },
   {
    "duration": 8,
    "start_time": "2022-07-25T20:31:40.285Z"
   },
   {
    "duration": 8,
    "start_time": "2022-07-25T20:31:40.296Z"
   },
   {
    "duration": 26,
    "start_time": "2022-07-25T20:31:40.306Z"
   },
   {
    "duration": 281,
    "start_time": "2022-07-25T20:31:40.344Z"
   },
   {
    "duration": 15,
    "start_time": "2022-07-25T20:31:40.627Z"
   },
   {
    "duration": 229,
    "start_time": "2022-07-25T20:31:40.649Z"
   },
   {
    "duration": 13,
    "start_time": "2022-07-25T20:31:40.884Z"
   },
   {
    "duration": 11,
    "start_time": "2022-07-25T20:31:40.903Z"
   },
   {
    "duration": 92,
    "start_time": "2022-07-25T20:31:40.916Z"
   },
   {
    "duration": 713,
    "start_time": "2022-07-25T20:31:41.010Z"
   },
   {
    "duration": 339,
    "start_time": "2022-07-25T20:31:41.730Z"
   },
   {
    "duration": 439,
    "start_time": "2022-07-25T20:31:42.076Z"
   },
   {
    "duration": 327,
    "start_time": "2022-07-25T20:31:42.517Z"
   },
   {
    "duration": 444,
    "start_time": "2022-07-25T20:31:42.847Z"
   },
   {
    "duration": 207,
    "start_time": "2022-07-25T20:31:43.295Z"
   },
   {
    "duration": 11,
    "start_time": "2022-07-25T20:31:43.504Z"
   },
   {
    "duration": 255,
    "start_time": "2022-07-25T20:31:43.529Z"
   },
   {
    "duration": 189,
    "start_time": "2022-07-25T20:31:43.786Z"
   },
   {
    "duration": 6,
    "start_time": "2022-07-25T20:31:43.977Z"
   },
   {
    "duration": 55,
    "start_time": "2022-07-25T20:31:43.986Z"
   },
   {
    "duration": 67,
    "start_time": "2022-07-25T20:31:44.044Z"
   },
   {
    "duration": 83,
    "start_time": "2022-07-25T20:31:44.114Z"
   },
   {
    "duration": 61,
    "start_time": "2022-07-25T20:31:44.199Z"
   },
   {
    "duration": 49,
    "start_time": "2022-07-25T20:31:44.265Z"
   },
   {
    "duration": 145,
    "start_time": "2022-07-25T20:31:44.317Z"
   },
   {
    "duration": 66,
    "start_time": "2022-07-25T20:31:44.464Z"
   },
   {
    "duration": 571,
    "start_time": "2022-07-25T20:31:44.534Z"
   },
   {
    "duration": 46,
    "start_time": "2022-07-25T20:31:45.107Z"
   },
   {
    "duration": 82,
    "start_time": "2022-07-25T20:31:45.156Z"
   },
   {
    "duration": 70,
    "start_time": "2022-07-25T20:31:45.240Z"
   },
   {
    "duration": 32,
    "start_time": "2022-07-25T20:31:45.313Z"
   },
   {
    "duration": 58,
    "start_time": "2022-07-25T20:31:45.353Z"
   },
   {
    "duration": 70,
    "start_time": "2022-07-25T20:31:45.414Z"
   },
   {
    "duration": 23,
    "start_time": "2022-07-25T20:31:45.486Z"
   },
   {
    "duration": 112,
    "start_time": "2022-07-25T20:31:45.516Z"
   },
   {
    "duration": 443,
    "start_time": "2022-07-25T20:31:45.633Z"
   },
   {
    "duration": 17,
    "start_time": "2022-07-25T20:31:46.078Z"
   },
   {
    "duration": 92,
    "start_time": "2022-07-25T20:31:46.097Z"
   },
   {
    "duration": 1187,
    "start_time": "2022-07-25T20:36:22.492Z"
   },
   {
    "duration": 93,
    "start_time": "2022-07-25T20:36:23.682Z"
   },
   {
    "duration": 3,
    "start_time": "2022-07-25T20:36:23.777Z"
   },
   {
    "duration": 24,
    "start_time": "2022-07-25T20:36:23.782Z"
   },
   {
    "duration": 18,
    "start_time": "2022-07-25T20:36:23.808Z"
   },
   {
    "duration": 35,
    "start_time": "2022-07-25T20:36:23.828Z"
   },
   {
    "duration": 7,
    "start_time": "2022-07-25T20:36:23.866Z"
   },
   {
    "duration": 16,
    "start_time": "2022-07-25T20:36:23.875Z"
   },
   {
    "duration": 59,
    "start_time": "2022-07-25T20:36:23.893Z"
   },
   {
    "duration": 16,
    "start_time": "2022-07-25T20:36:23.955Z"
   },
   {
    "duration": 17,
    "start_time": "2022-07-25T20:36:23.973Z"
   },
   {
    "duration": 23,
    "start_time": "2022-07-25T20:36:23.992Z"
   },
   {
    "duration": 24,
    "start_time": "2022-07-25T20:36:24.017Z"
   },
   {
    "duration": 16,
    "start_time": "2022-07-25T20:36:24.046Z"
   },
   {
    "duration": 11,
    "start_time": "2022-07-25T20:36:24.064Z"
   },
   {
    "duration": 5,
    "start_time": "2022-07-25T20:36:24.078Z"
   },
   {
    "duration": 10,
    "start_time": "2022-07-25T20:36:24.085Z"
   },
   {
    "duration": 23,
    "start_time": "2022-07-25T20:36:24.098Z"
   },
   {
    "duration": 27,
    "start_time": "2022-07-25T20:36:24.123Z"
   },
   {
    "duration": 4,
    "start_time": "2022-07-25T20:36:24.153Z"
   },
   {
    "duration": 9,
    "start_time": "2022-07-25T20:36:24.159Z"
   },
   {
    "duration": 16,
    "start_time": "2022-07-25T20:36:24.170Z"
   },
   {
    "duration": 17,
    "start_time": "2022-07-25T20:36:24.188Z"
   },
   {
    "duration": 211,
    "start_time": "2022-07-25T20:36:24.207Z"
   },
   {
    "duration": 10,
    "start_time": "2022-07-25T20:36:24.419Z"
   },
   {
    "duration": 189,
    "start_time": "2022-07-25T20:36:24.431Z"
   },
   {
    "duration": 15,
    "start_time": "2022-07-25T20:36:24.626Z"
   },
   {
    "duration": 18,
    "start_time": "2022-07-25T20:36:24.648Z"
   },
   {
    "duration": 32,
    "start_time": "2022-07-25T20:36:24.668Z"
   },
   {
    "duration": 368,
    "start_time": "2022-07-25T20:36:24.702Z"
   },
   {
    "duration": 225,
    "start_time": "2022-07-25T20:36:25.073Z"
   },
   {
    "duration": 369,
    "start_time": "2022-07-25T20:36:25.301Z"
   },
   {
    "duration": 259,
    "start_time": "2022-07-25T20:36:25.672Z"
   },
   {
    "duration": 360,
    "start_time": "2022-07-25T20:36:25.934Z"
   },
   {
    "duration": 202,
    "start_time": "2022-07-25T20:36:26.296Z"
   },
   {
    "duration": 7,
    "start_time": "2022-07-25T20:36:26.500Z"
   },
   {
    "duration": 184,
    "start_time": "2022-07-25T20:36:26.509Z"
   },
   {
    "duration": 181,
    "start_time": "2022-07-25T20:36:26.696Z"
   },
   {
    "duration": 6,
    "start_time": "2022-07-25T20:36:26.878Z"
   },
   {
    "duration": 59,
    "start_time": "2022-07-25T20:36:26.886Z"
   },
   {
    "duration": 82,
    "start_time": "2022-07-25T20:36:26.948Z"
   },
   {
    "duration": 14,
    "start_time": "2022-07-25T20:36:27.036Z"
   },
   {
    "duration": 39,
    "start_time": "2022-07-25T20:36:27.052Z"
   },
   {
    "duration": 35,
    "start_time": "2022-07-25T20:36:27.093Z"
   },
   {
    "duration": 71,
    "start_time": "2022-07-25T20:36:27.132Z"
   },
   {
    "duration": 20,
    "start_time": "2022-07-25T20:36:27.206Z"
   },
   {
    "duration": 201,
    "start_time": "2022-07-25T20:36:27.227Z"
   },
   {
    "duration": 22,
    "start_time": "2022-07-25T20:36:27.430Z"
   },
   {
    "duration": 47,
    "start_time": "2022-07-25T20:36:27.454Z"
   },
   {
    "duration": 17,
    "start_time": "2022-07-25T20:36:27.503Z"
   },
   {
    "duration": 56,
    "start_time": "2022-07-25T20:36:27.528Z"
   },
   {
    "duration": 27,
    "start_time": "2022-07-25T20:36:27.586Z"
   },
   {
    "duration": 41,
    "start_time": "2022-07-25T20:36:27.615Z"
   },
   {
    "duration": 29,
    "start_time": "2022-07-25T20:36:27.658Z"
   },
   {
    "duration": 23,
    "start_time": "2022-07-25T20:36:27.690Z"
   },
   {
    "duration": 363,
    "start_time": "2022-07-25T20:36:27.715Z"
   },
   {
    "duration": 16,
    "start_time": "2022-07-25T20:36:28.079Z"
   },
   {
    "duration": 25,
    "start_time": "2022-07-25T20:36:28.096Z"
   },
   {
    "duration": 1137,
    "start_time": "2022-07-26T12:12:53.149Z"
   },
   {
    "duration": 90,
    "start_time": "2022-07-26T12:12:54.288Z"
   },
   {
    "duration": 4,
    "start_time": "2022-07-26T12:12:54.380Z"
   },
   {
    "duration": 22,
    "start_time": "2022-07-26T12:12:54.386Z"
   },
   {
    "duration": 39,
    "start_time": "2022-07-26T12:12:54.412Z"
   },
   {
    "duration": 13,
    "start_time": "2022-07-26T12:12:54.453Z"
   },
   {
    "duration": 7,
    "start_time": "2022-07-26T12:12:54.468Z"
   },
   {
    "duration": 15,
    "start_time": "2022-07-26T12:12:54.476Z"
   },
   {
    "duration": 68,
    "start_time": "2022-07-26T12:12:54.493Z"
   },
   {
    "duration": 14,
    "start_time": "2022-07-26T12:12:54.563Z"
   },
   {
    "duration": 18,
    "start_time": "2022-07-26T12:12:54.579Z"
   },
   {
    "duration": 26,
    "start_time": "2022-07-26T12:12:54.599Z"
   },
   {
    "duration": 18,
    "start_time": "2022-07-26T12:12:54.628Z"
   },
   {
    "duration": 21,
    "start_time": "2022-07-26T12:12:54.650Z"
   },
   {
    "duration": 33,
    "start_time": "2022-07-26T12:12:54.673Z"
   },
   {
    "duration": 10,
    "start_time": "2022-07-26T12:12:54.709Z"
   },
   {
    "duration": 26,
    "start_time": "2022-07-26T12:12:54.721Z"
   },
   {
    "duration": 5,
    "start_time": "2022-07-26T12:12:54.749Z"
   },
   {
    "duration": 9,
    "start_time": "2022-07-26T12:12:54.756Z"
   },
   {
    "duration": 10,
    "start_time": "2022-07-26T12:12:54.767Z"
   },
   {
    "duration": 9,
    "start_time": "2022-07-26T12:12:54.780Z"
   },
   {
    "duration": 8,
    "start_time": "2022-07-26T12:12:54.792Z"
   },
   {
    "duration": 30,
    "start_time": "2022-07-26T12:12:54.802Z"
   },
   {
    "duration": 179,
    "start_time": "2022-07-26T12:12:54.834Z"
   },
   {
    "duration": 14,
    "start_time": "2022-07-26T12:12:55.015Z"
   },
   {
    "duration": 146,
    "start_time": "2022-07-26T12:12:55.032Z"
   },
   {
    "duration": 21,
    "start_time": "2022-07-26T12:12:55.181Z"
   },
   {
    "duration": 11,
    "start_time": "2022-07-26T12:12:55.204Z"
   },
   {
    "duration": 19,
    "start_time": "2022-07-26T12:12:55.216Z"
   },
   {
    "duration": 348,
    "start_time": "2022-07-26T12:12:55.237Z"
   },
   {
    "duration": 232,
    "start_time": "2022-07-26T12:12:55.587Z"
   },
   {
    "duration": 433,
    "start_time": "2022-07-26T12:12:55.824Z"
   },
   {
    "duration": 258,
    "start_time": "2022-07-26T12:12:56.259Z"
   },
   {
    "duration": 340,
    "start_time": "2022-07-26T12:12:56.520Z"
   },
   {
    "duration": 168,
    "start_time": "2022-07-26T12:12:56.862Z"
   },
   {
    "duration": 9,
    "start_time": "2022-07-26T12:12:57.034Z"
   },
   {
    "duration": 166,
    "start_time": "2022-07-26T12:12:57.045Z"
   },
   {
    "duration": 196,
    "start_time": "2022-07-26T12:12:57.214Z"
   },
   {
    "duration": 7,
    "start_time": "2022-07-26T12:12:57.413Z"
   },
   {
    "duration": 52,
    "start_time": "2022-07-26T12:12:57.426Z"
   },
   {
    "duration": 70,
    "start_time": "2022-07-26T12:12:57.484Z"
   },
   {
    "duration": 17,
    "start_time": "2022-07-26T12:12:57.557Z"
   },
   {
    "duration": 20,
    "start_time": "2022-07-26T12:12:57.576Z"
   },
   {
    "duration": 19,
    "start_time": "2022-07-26T12:12:57.598Z"
   },
   {
    "duration": 14,
    "start_time": "2022-07-26T12:12:57.618Z"
   },
   {
    "duration": 17,
    "start_time": "2022-07-26T12:12:57.640Z"
   },
   {
    "duration": 207,
    "start_time": "2022-07-26T12:12:57.659Z"
   },
   {
    "duration": 21,
    "start_time": "2022-07-26T12:12:57.868Z"
   },
   {
    "duration": 45,
    "start_time": "2022-07-26T12:12:57.890Z"
   },
   {
    "duration": 15,
    "start_time": "2022-07-26T12:12:57.937Z"
   },
   {
    "duration": 22,
    "start_time": "2022-07-26T12:12:57.955Z"
   },
   {
    "duration": 15,
    "start_time": "2022-07-26T12:12:57.979Z"
   },
   {
    "duration": 8,
    "start_time": "2022-07-26T12:12:57.996Z"
   },
   {
    "duration": 8,
    "start_time": "2022-07-26T12:12:58.006Z"
   },
   {
    "duration": 14,
    "start_time": "2022-07-26T12:12:58.015Z"
   },
   {
    "duration": 257,
    "start_time": "2022-07-26T12:12:58.034Z"
   },
   {
    "duration": 12,
    "start_time": "2022-07-26T12:12:58.293Z"
   },
   {
    "duration": 30,
    "start_time": "2022-07-26T12:12:58.307Z"
   },
   {
    "duration": 20,
    "start_time": "2022-07-26T12:13:37.428Z"
   },
   {
    "duration": 48,
    "start_time": "2022-07-26T13:49:20.732Z"
   },
   {
    "duration": 1242,
    "start_time": "2022-07-26T13:49:26.169Z"
   },
   {
    "duration": 114,
    "start_time": "2022-07-26T13:49:27.413Z"
   },
   {
    "duration": 3,
    "start_time": "2022-07-26T13:49:27.529Z"
   },
   {
    "duration": 36,
    "start_time": "2022-07-26T13:49:27.534Z"
   },
   {
    "duration": 7,
    "start_time": "2022-07-26T13:49:27.572Z"
   },
   {
    "duration": 56,
    "start_time": "2022-07-26T13:49:27.580Z"
   },
   {
    "duration": 34,
    "start_time": "2022-07-26T13:49:27.637Z"
   },
   {
    "duration": 12,
    "start_time": "2022-07-26T13:49:27.673Z"
   },
   {
    "duration": 139,
    "start_time": "2022-07-26T13:49:27.687Z"
   },
   {
    "duration": 13,
    "start_time": "2022-07-26T13:49:27.829Z"
   },
   {
    "duration": 6,
    "start_time": "2022-07-26T13:49:27.844Z"
   },
   {
    "duration": 67,
    "start_time": "2022-07-26T13:49:27.852Z"
   },
   {
    "duration": 10,
    "start_time": "2022-07-26T13:49:27.921Z"
   },
   {
    "duration": 20,
    "start_time": "2022-07-26T13:49:27.933Z"
   },
   {
    "duration": 6,
    "start_time": "2022-07-26T13:49:27.955Z"
   },
   {
    "duration": 18,
    "start_time": "2022-07-26T13:49:27.963Z"
   },
   {
    "duration": 23,
    "start_time": "2022-07-26T13:49:27.984Z"
   },
   {
    "duration": 16,
    "start_time": "2022-07-26T13:49:28.008Z"
   },
   {
    "duration": 7,
    "start_time": "2022-07-26T13:49:28.026Z"
   },
   {
    "duration": 17,
    "start_time": "2022-07-26T13:49:28.034Z"
   },
   {
    "duration": 21,
    "start_time": "2022-07-26T13:49:28.054Z"
   },
   {
    "duration": 26,
    "start_time": "2022-07-26T13:49:28.077Z"
   },
   {
    "duration": 24,
    "start_time": "2022-07-26T13:49:28.105Z"
   },
   {
    "duration": 187,
    "start_time": "2022-07-26T13:49:28.131Z"
   },
   {
    "duration": 9,
    "start_time": "2022-07-26T13:49:28.320Z"
   },
   {
    "duration": 139,
    "start_time": "2022-07-26T13:49:28.331Z"
   },
   {
    "duration": 29,
    "start_time": "2022-07-26T13:49:28.472Z"
   },
   {
    "duration": 22,
    "start_time": "2022-07-26T13:49:28.505Z"
   },
   {
    "duration": 26,
    "start_time": "2022-07-26T13:49:28.529Z"
   },
   {
    "duration": 285,
    "start_time": "2022-07-26T13:49:28.557Z"
   },
   {
    "duration": 234,
    "start_time": "2022-07-26T13:49:28.844Z"
   },
   {
    "duration": 369,
    "start_time": "2022-07-26T13:49:29.080Z"
   },
   {
    "duration": 211,
    "start_time": "2022-07-26T13:49:29.452Z"
   },
   {
    "duration": 287,
    "start_time": "2022-07-26T13:49:29.665Z"
   },
   {
    "duration": 148,
    "start_time": "2022-07-26T13:49:29.954Z"
   },
   {
    "duration": 5,
    "start_time": "2022-07-26T13:49:30.104Z"
   },
   {
    "duration": 134,
    "start_time": "2022-07-26T13:49:30.110Z"
   },
   {
    "duration": 153,
    "start_time": "2022-07-26T13:49:30.246Z"
   },
   {
    "duration": 6,
    "start_time": "2022-07-26T13:49:30.400Z"
   },
   {
    "duration": 46,
    "start_time": "2022-07-26T13:49:30.407Z"
   },
   {
    "duration": 30,
    "start_time": "2022-07-26T13:49:30.455Z"
   },
   {
    "duration": 19,
    "start_time": "2022-07-26T13:49:30.487Z"
   },
   {
    "duration": 24,
    "start_time": "2022-07-26T13:49:30.508Z"
   },
   {
    "duration": 25,
    "start_time": "2022-07-26T13:49:30.534Z"
   },
   {
    "duration": 35,
    "start_time": "2022-07-26T13:49:30.560Z"
   },
   {
    "duration": 46,
    "start_time": "2022-07-26T13:49:30.596Z"
   },
   {
    "duration": 139,
    "start_time": "2022-07-26T13:49:30.644Z"
   },
   {
    "duration": 18,
    "start_time": "2022-07-26T13:49:30.785Z"
   },
   {
    "duration": 28,
    "start_time": "2022-07-26T13:49:30.805Z"
   },
   {
    "duration": 7,
    "start_time": "2022-07-26T13:49:30.837Z"
   },
   {
    "duration": 48,
    "start_time": "2022-07-26T13:49:30.845Z"
   },
   {
    "duration": 21,
    "start_time": "2022-07-26T13:49:30.895Z"
   },
   {
    "duration": 19,
    "start_time": "2022-07-26T13:49:30.918Z"
   },
   {
    "duration": 24,
    "start_time": "2022-07-26T13:49:30.938Z"
   },
   {
    "duration": 27,
    "start_time": "2022-07-26T13:49:30.964Z"
   },
   {
    "duration": 241,
    "start_time": "2022-07-26T13:49:30.993Z"
   },
   {
    "duration": 10,
    "start_time": "2022-07-26T13:49:31.236Z"
   },
   {
    "duration": 16,
    "start_time": "2022-07-26T13:49:31.248Z"
   },
   {
    "duration": 285,
    "start_time": "2022-07-26T13:53:04.879Z"
   },
   {
    "duration": 200,
    "start_time": "2022-07-26T13:54:34.371Z"
   },
   {
    "duration": 379,
    "start_time": "2022-07-26T13:55:48.896Z"
   },
   {
    "duration": 328,
    "start_time": "2022-07-26T13:56:08.860Z"
   },
   {
    "duration": 299,
    "start_time": "2022-07-26T13:56:14.495Z"
   },
   {
    "duration": 206,
    "start_time": "2022-07-26T13:58:07.125Z"
   },
   {
    "duration": 330,
    "start_time": "2022-07-26T13:58:48.864Z"
   },
   {
    "duration": 303,
    "start_time": "2022-07-26T13:59:51.589Z"
   },
   {
    "duration": 342,
    "start_time": "2022-07-26T13:59:58.217Z"
   },
   {
    "duration": 53,
    "start_time": "2022-07-26T15:25:56.622Z"
   },
   {
    "duration": 1242,
    "start_time": "2022-07-26T15:28:43.653Z"
   },
   {
    "duration": 106,
    "start_time": "2022-07-26T15:28:44.897Z"
   },
   {
    "duration": 3,
    "start_time": "2022-07-26T15:28:45.005Z"
   },
   {
    "duration": 39,
    "start_time": "2022-07-26T15:28:45.010Z"
   },
   {
    "duration": 12,
    "start_time": "2022-07-26T15:28:45.050Z"
   },
   {
    "duration": 10,
    "start_time": "2022-07-26T15:28:45.063Z"
   },
   {
    "duration": 6,
    "start_time": "2022-07-26T15:28:45.074Z"
   },
   {
    "duration": 15,
    "start_time": "2022-07-26T15:28:45.082Z"
   },
   {
    "duration": 88,
    "start_time": "2022-07-26T15:28:45.099Z"
   },
   {
    "duration": 12,
    "start_time": "2022-07-26T15:28:45.190Z"
   },
   {
    "duration": 9,
    "start_time": "2022-07-26T15:28:45.203Z"
   },
   {
    "duration": 52,
    "start_time": "2022-07-26T15:28:45.214Z"
   },
   {
    "duration": 10,
    "start_time": "2022-07-26T15:28:45.267Z"
   },
   {
    "duration": 15,
    "start_time": "2022-07-26T15:28:45.278Z"
   },
   {
    "duration": 8,
    "start_time": "2022-07-26T15:28:45.295Z"
   },
   {
    "duration": 5,
    "start_time": "2022-07-26T15:28:45.305Z"
   },
   {
    "duration": 6,
    "start_time": "2022-07-26T15:28:45.312Z"
   },
   {
    "duration": 4,
    "start_time": "2022-07-26T15:28:45.320Z"
   },
   {
    "duration": 6,
    "start_time": "2022-07-26T15:28:45.326Z"
   },
   {
    "duration": 4,
    "start_time": "2022-07-26T15:28:45.334Z"
   },
   {
    "duration": 10,
    "start_time": "2022-07-26T15:28:45.339Z"
   },
   {
    "duration": 6,
    "start_time": "2022-07-26T15:28:45.351Z"
   },
   {
    "duration": 22,
    "start_time": "2022-07-26T15:28:45.359Z"
   },
   {
    "duration": 177,
    "start_time": "2022-07-26T15:28:45.383Z"
   },
   {
    "duration": 8,
    "start_time": "2022-07-26T15:28:45.562Z"
   },
   {
    "duration": 130,
    "start_time": "2022-07-26T15:28:45.571Z"
   },
   {
    "duration": 7,
    "start_time": "2022-07-26T15:28:45.702Z"
   },
   {
    "duration": 22,
    "start_time": "2022-07-26T15:28:45.712Z"
   },
   {
    "duration": 12,
    "start_time": "2022-07-26T15:28:45.736Z"
   },
   {
    "duration": 287,
    "start_time": "2022-07-26T15:28:45.750Z"
   },
   {
    "duration": 218,
    "start_time": "2022-07-26T15:28:46.039Z"
   },
   {
    "duration": 323,
    "start_time": "2022-07-26T15:28:46.258Z"
   },
   {
    "duration": 214,
    "start_time": "2022-07-26T15:28:46.583Z"
   },
   {
    "duration": 341,
    "start_time": "2022-07-26T15:28:46.799Z"
   },
   {
    "duration": 129,
    "start_time": "2022-07-26T15:28:47.141Z"
   },
   {
    "duration": 5,
    "start_time": "2022-07-26T15:28:47.271Z"
   },
   {
    "duration": 129,
    "start_time": "2022-07-26T15:28:47.278Z"
   },
   {
    "duration": 132,
    "start_time": "2022-07-26T15:28:47.408Z"
   },
   {
    "duration": 5,
    "start_time": "2022-07-26T15:28:47.542Z"
   },
   {
    "duration": 16,
    "start_time": "2022-07-26T15:28:47.550Z"
   },
   {
    "duration": 23,
    "start_time": "2022-07-26T15:28:47.567Z"
   },
   {
    "duration": 14,
    "start_time": "2022-07-26T15:28:47.591Z"
   },
   {
    "duration": 15,
    "start_time": "2022-07-26T15:28:47.606Z"
   },
   {
    "duration": 22,
    "start_time": "2022-07-26T15:28:47.622Z"
   },
   {
    "duration": 17,
    "start_time": "2022-07-26T15:28:47.645Z"
   },
   {
    "duration": 11,
    "start_time": "2022-07-26T15:28:47.663Z"
   },
   {
    "duration": 15,
    "start_time": "2022-07-26T15:28:47.675Z"
   },
   {
    "duration": 164,
    "start_time": "2022-07-26T15:28:47.691Z"
   },
   {
    "duration": 15,
    "start_time": "2022-07-26T15:28:47.857Z"
   },
   {
    "duration": 18,
    "start_time": "2022-07-26T15:28:47.874Z"
   },
   {
    "duration": 13,
    "start_time": "2022-07-26T15:28:47.893Z"
   },
   {
    "duration": 32,
    "start_time": "2022-07-26T15:28:47.907Z"
   },
   {
    "duration": 8,
    "start_time": "2022-07-26T15:28:47.941Z"
   },
   {
    "duration": 8,
    "start_time": "2022-07-26T15:28:47.951Z"
   },
   {
    "duration": 5,
    "start_time": "2022-07-26T15:28:47.960Z"
   },
   {
    "duration": 8,
    "start_time": "2022-07-26T15:28:47.967Z"
   },
   {
    "duration": 238,
    "start_time": "2022-07-26T15:28:47.976Z"
   },
   {
    "duration": 10,
    "start_time": "2022-07-26T15:28:48.215Z"
   },
   {
    "duration": 7,
    "start_time": "2022-07-26T15:28:48.227Z"
   },
   {
    "duration": 1089,
    "start_time": "2022-07-26T18:48:25.647Z"
   },
   {
    "duration": 122,
    "start_time": "2022-07-26T18:48:26.738Z"
   },
   {
    "duration": 3,
    "start_time": "2022-07-26T18:48:26.862Z"
   },
   {
    "duration": 20,
    "start_time": "2022-07-26T18:48:26.866Z"
   },
   {
    "duration": 4,
    "start_time": "2022-07-26T18:48:26.888Z"
   },
   {
    "duration": 12,
    "start_time": "2022-07-26T18:48:26.894Z"
   },
   {
    "duration": 7,
    "start_time": "2022-07-26T18:48:26.907Z"
   },
   {
    "duration": 14,
    "start_time": "2022-07-26T18:48:26.916Z"
   },
   {
    "duration": 93,
    "start_time": "2022-07-26T18:48:26.932Z"
   },
   {
    "duration": 10,
    "start_time": "2022-07-26T18:48:27.026Z"
   },
   {
    "duration": 6,
    "start_time": "2022-07-26T18:48:27.038Z"
   },
   {
    "duration": 61,
    "start_time": "2022-07-26T18:48:27.045Z"
   },
   {
    "duration": 10,
    "start_time": "2022-07-26T18:48:27.108Z"
   },
   {
    "duration": 9,
    "start_time": "2022-07-26T18:48:27.121Z"
   },
   {
    "duration": 10,
    "start_time": "2022-07-26T18:48:27.132Z"
   },
   {
    "duration": 8,
    "start_time": "2022-07-26T18:48:27.143Z"
   },
   {
    "duration": 7,
    "start_time": "2022-07-26T18:48:27.152Z"
   },
   {
    "duration": 3,
    "start_time": "2022-07-26T18:48:27.161Z"
   },
   {
    "duration": 5,
    "start_time": "2022-07-26T18:48:27.167Z"
   },
   {
    "duration": 5,
    "start_time": "2022-07-26T18:48:27.174Z"
   },
   {
    "duration": 8,
    "start_time": "2022-07-26T18:48:27.201Z"
   },
   {
    "duration": 7,
    "start_time": "2022-07-26T18:48:27.211Z"
   },
   {
    "duration": 21,
    "start_time": "2022-07-26T18:48:27.220Z"
   },
   {
    "duration": 245,
    "start_time": "2022-07-26T18:48:27.244Z"
   },
   {
    "duration": 14,
    "start_time": "2022-07-26T18:48:27.491Z"
   },
   {
    "duration": 158,
    "start_time": "2022-07-26T18:48:27.509Z"
   },
   {
    "duration": 34,
    "start_time": "2022-07-26T18:48:27.669Z"
   },
   {
    "duration": 15,
    "start_time": "2022-07-26T18:48:27.705Z"
   },
   {
    "duration": 22,
    "start_time": "2022-07-26T18:48:27.723Z"
   },
   {
    "duration": 285,
    "start_time": "2022-07-26T18:48:27.746Z"
   },
   {
    "duration": 205,
    "start_time": "2022-07-26T18:48:28.032Z"
   },
   {
    "duration": 323,
    "start_time": "2022-07-26T18:48:28.239Z"
   },
   {
    "duration": 232,
    "start_time": "2022-07-26T18:48:28.563Z"
   },
   {
    "duration": 321,
    "start_time": "2022-07-26T18:48:28.796Z"
   },
   {
    "duration": 138,
    "start_time": "2022-07-26T18:48:29.120Z"
   },
   {
    "duration": 5,
    "start_time": "2022-07-26T18:48:29.259Z"
   },
   {
    "duration": 117,
    "start_time": "2022-07-26T18:48:29.265Z"
   },
   {
    "duration": 130,
    "start_time": "2022-07-26T18:48:29.384Z"
   },
   {
    "duration": 5,
    "start_time": "2022-07-26T18:48:29.515Z"
   },
   {
    "duration": 12,
    "start_time": "2022-07-26T18:48:29.522Z"
   },
   {
    "duration": 8,
    "start_time": "2022-07-26T18:48:29.537Z"
   },
   {
    "duration": 7,
    "start_time": "2022-07-26T18:48:29.547Z"
   },
   {
    "duration": 12,
    "start_time": "2022-07-26T18:48:29.556Z"
   },
   {
    "duration": 9,
    "start_time": "2022-07-26T18:48:29.569Z"
   },
   {
    "duration": 4,
    "start_time": "2022-07-26T18:48:29.602Z"
   },
   {
    "duration": 9,
    "start_time": "2022-07-26T18:48:29.608Z"
   },
   {
    "duration": 185,
    "start_time": "2022-07-26T18:48:29.619Z"
   },
   {
    "duration": 16,
    "start_time": "2022-07-26T18:48:29.806Z"
   },
   {
    "duration": 18,
    "start_time": "2022-07-26T18:48:29.823Z"
   },
   {
    "duration": 13,
    "start_time": "2022-07-26T18:48:29.842Z"
   },
   {
    "duration": 12,
    "start_time": "2022-07-26T18:48:29.856Z"
   },
   {
    "duration": 12,
    "start_time": "2022-07-26T18:48:29.870Z"
   },
   {
    "duration": 23,
    "start_time": "2022-07-26T18:48:29.884Z"
   },
   {
    "duration": 9,
    "start_time": "2022-07-26T18:48:29.909Z"
   },
   {
    "duration": 9,
    "start_time": "2022-07-26T18:48:29.920Z"
   },
   {
    "duration": 265,
    "start_time": "2022-07-26T18:48:29.931Z"
   },
   {
    "duration": 8,
    "start_time": "2022-07-26T18:48:30.198Z"
   },
   {
    "duration": 13,
    "start_time": "2022-07-26T18:48:30.208Z"
   },
   {
    "duration": 1070,
    "start_time": "2022-07-26T18:58:05.443Z"
   },
   {
    "duration": 81,
    "start_time": "2022-07-26T18:58:06.515Z"
   },
   {
    "duration": 4,
    "start_time": "2022-07-26T18:58:06.598Z"
   },
   {
    "duration": 36,
    "start_time": "2022-07-26T18:58:06.604Z"
   },
   {
    "duration": 5,
    "start_time": "2022-07-26T18:58:06.642Z"
   },
   {
    "duration": 9,
    "start_time": "2022-07-26T18:58:06.649Z"
   },
   {
    "duration": 5,
    "start_time": "2022-07-26T18:58:06.661Z"
   },
   {
    "duration": 12,
    "start_time": "2022-07-26T18:58:06.668Z"
   },
   {
    "duration": 56,
    "start_time": "2022-07-26T18:58:06.681Z"
   },
   {
    "duration": 14,
    "start_time": "2022-07-26T18:58:06.740Z"
   },
   {
    "duration": 5,
    "start_time": "2022-07-26T18:58:06.756Z"
   },
   {
    "duration": 20,
    "start_time": "2022-07-26T18:58:06.762Z"
   },
   {
    "duration": 12,
    "start_time": "2022-07-26T18:58:06.783Z"
   },
   {
    "duration": 20,
    "start_time": "2022-07-26T18:58:06.796Z"
   },
   {
    "duration": 19,
    "start_time": "2022-07-26T18:58:06.818Z"
   },
   {
    "duration": 5,
    "start_time": "2022-07-26T18:58:06.839Z"
   },
   {
    "duration": 6,
    "start_time": "2022-07-26T18:58:06.846Z"
   },
   {
    "duration": 5,
    "start_time": "2022-07-26T18:58:06.854Z"
   },
   {
    "duration": 7,
    "start_time": "2022-07-26T18:58:06.860Z"
   },
   {
    "duration": 7,
    "start_time": "2022-07-26T18:58:06.868Z"
   },
   {
    "duration": 8,
    "start_time": "2022-07-26T18:58:06.876Z"
   },
   {
    "duration": 7,
    "start_time": "2022-07-26T18:58:06.886Z"
   },
   {
    "duration": 16,
    "start_time": "2022-07-26T18:58:06.894Z"
   },
   {
    "duration": 195,
    "start_time": "2022-07-26T18:58:06.912Z"
   },
   {
    "duration": 14,
    "start_time": "2022-07-26T18:58:07.109Z"
   },
   {
    "duration": 155,
    "start_time": "2022-07-26T18:58:07.126Z"
   },
   {
    "duration": 9,
    "start_time": "2022-07-26T18:58:07.283Z"
   },
   {
    "duration": 26,
    "start_time": "2022-07-26T18:58:07.309Z"
   },
   {
    "duration": 18,
    "start_time": "2022-07-26T18:58:07.338Z"
   },
   {
    "duration": 383,
    "start_time": "2022-07-26T18:58:07.358Z"
   },
   {
    "duration": 236,
    "start_time": "2022-07-26T18:58:07.743Z"
   },
   {
    "duration": 303,
    "start_time": "2022-07-26T18:58:07.981Z"
   },
   {
    "duration": 223,
    "start_time": "2022-07-26T18:58:08.285Z"
   },
   {
    "duration": 361,
    "start_time": "2022-07-26T18:58:08.511Z"
   },
   {
    "duration": 168,
    "start_time": "2022-07-26T18:58:08.874Z"
   },
   {
    "duration": 5,
    "start_time": "2022-07-26T18:58:09.044Z"
   },
   {
    "duration": 136,
    "start_time": "2022-07-26T18:58:09.050Z"
   },
   {
    "duration": 169,
    "start_time": "2022-07-26T18:58:09.188Z"
   },
   {
    "duration": 5,
    "start_time": "2022-07-26T18:58:09.358Z"
   },
   {
    "duration": 81,
    "start_time": "2022-07-26T18:58:09.365Z"
   },
   {
    "duration": 8,
    "start_time": "2022-07-26T18:58:09.448Z"
   },
   {
    "duration": 13,
    "start_time": "2022-07-26T18:58:09.457Z"
   },
   {
    "duration": 82,
    "start_time": "2022-07-26T18:58:09.471Z"
   },
   {
    "duration": 117,
    "start_time": "2022-07-26T18:58:09.554Z"
   },
   {
    "duration": 0,
    "start_time": "2022-07-26T18:58:09.673Z"
   },
   {
    "duration": 0,
    "start_time": "2022-07-26T18:58:09.675Z"
   },
   {
    "duration": 0,
    "start_time": "2022-07-26T18:58:09.676Z"
   },
   {
    "duration": 0,
    "start_time": "2022-07-26T18:58:09.678Z"
   },
   {
    "duration": 0,
    "start_time": "2022-07-26T18:58:09.679Z"
   },
   {
    "duration": 0,
    "start_time": "2022-07-26T18:58:09.681Z"
   },
   {
    "duration": 0,
    "start_time": "2022-07-26T18:58:09.683Z"
   },
   {
    "duration": 0,
    "start_time": "2022-07-26T18:58:09.708Z"
   },
   {
    "duration": 0,
    "start_time": "2022-07-26T18:58:09.710Z"
   },
   {
    "duration": 0,
    "start_time": "2022-07-26T18:58:09.713Z"
   },
   {
    "duration": 0,
    "start_time": "2022-07-26T18:58:09.715Z"
   },
   {
    "duration": 0,
    "start_time": "2022-07-26T18:58:09.718Z"
   },
   {
    "duration": 0,
    "start_time": "2022-07-26T18:58:09.723Z"
   },
   {
    "duration": 0,
    "start_time": "2022-07-26T18:58:09.727Z"
   },
   {
    "duration": 7,
    "start_time": "2022-07-26T18:59:23.614Z"
   },
   {
    "duration": 6,
    "start_time": "2022-07-26T19:06:01.973Z"
   },
   {
    "duration": 20,
    "start_time": "2022-07-26T19:09:10.851Z"
   },
   {
    "duration": 1613,
    "start_time": "2022-07-26T19:09:59.587Z"
   },
   {
    "duration": 4,
    "start_time": "2022-07-26T19:10:28.928Z"
   },
   {
    "duration": 4,
    "start_time": "2022-07-26T19:12:09.473Z"
   },
   {
    "duration": 13,
    "start_time": "2022-07-26T19:16:56.561Z"
   },
   {
    "duration": 10,
    "start_time": "2022-07-26T19:18:17.519Z"
   },
   {
    "duration": 9,
    "start_time": "2022-07-26T19:18:28.187Z"
   },
   {
    "duration": 22,
    "start_time": "2022-07-26T19:20:28.793Z"
   },
   {
    "duration": 6,
    "start_time": "2022-07-26T19:20:33.924Z"
   },
   {
    "duration": 1084,
    "start_time": "2022-07-26T19:21:02.237Z"
   },
   {
    "duration": 75,
    "start_time": "2022-07-26T19:21:03.324Z"
   },
   {
    "duration": 22,
    "start_time": "2022-07-26T19:21:03.401Z"
   },
   {
    "duration": 31,
    "start_time": "2022-07-26T19:21:03.433Z"
   },
   {
    "duration": 20,
    "start_time": "2022-07-26T19:21:03.465Z"
   },
   {
    "duration": 48,
    "start_time": "2022-07-26T19:21:03.487Z"
   },
   {
    "duration": 27,
    "start_time": "2022-07-26T19:21:03.536Z"
   },
   {
    "duration": 47,
    "start_time": "2022-07-26T19:21:03.565Z"
   },
   {
    "duration": 100,
    "start_time": "2022-07-26T19:21:03.615Z"
   },
   {
    "duration": 16,
    "start_time": "2022-07-26T19:21:03.720Z"
   },
   {
    "duration": 33,
    "start_time": "2022-07-26T19:21:03.737Z"
   },
   {
    "duration": 51,
    "start_time": "2022-07-26T19:21:03.771Z"
   },
   {
    "duration": 13,
    "start_time": "2022-07-26T19:21:03.825Z"
   },
   {
    "duration": 25,
    "start_time": "2022-07-26T19:21:03.840Z"
   },
   {
    "duration": 17,
    "start_time": "2022-07-26T19:21:03.866Z"
   },
   {
    "duration": 15,
    "start_time": "2022-07-26T19:21:03.884Z"
   },
   {
    "duration": 42,
    "start_time": "2022-07-26T19:21:03.900Z"
   },
   {
    "duration": 6,
    "start_time": "2022-07-26T19:21:03.943Z"
   },
   {
    "duration": 23,
    "start_time": "2022-07-26T19:21:03.950Z"
   },
   {
    "duration": 15,
    "start_time": "2022-07-26T19:21:03.974Z"
   },
   {
    "duration": 30,
    "start_time": "2022-07-26T19:21:03.991Z"
   },
   {
    "duration": 29,
    "start_time": "2022-07-26T19:21:04.023Z"
   },
   {
    "duration": 20,
    "start_time": "2022-07-26T19:21:04.054Z"
   },
   {
    "duration": 203,
    "start_time": "2022-07-26T19:21:04.077Z"
   },
   {
    "duration": 8,
    "start_time": "2022-07-26T19:21:04.282Z"
   },
   {
    "duration": 154,
    "start_time": "2022-07-26T19:21:04.292Z"
   },
   {
    "duration": 30,
    "start_time": "2022-07-26T19:21:04.448Z"
   },
   {
    "duration": 19,
    "start_time": "2022-07-26T19:21:04.482Z"
   },
   {
    "duration": 49,
    "start_time": "2022-07-26T19:21:04.508Z"
   },
   {
    "duration": 314,
    "start_time": "2022-07-26T19:21:04.559Z"
   },
   {
    "duration": 221,
    "start_time": "2022-07-26T19:21:04.875Z"
   },
   {
    "duration": 337,
    "start_time": "2022-07-26T19:21:05.098Z"
   },
   {
    "duration": 231,
    "start_time": "2022-07-26T19:21:05.437Z"
   },
   {
    "duration": 365,
    "start_time": "2022-07-26T19:21:05.669Z"
   },
   {
    "duration": 155,
    "start_time": "2022-07-26T19:21:06.036Z"
   },
   {
    "duration": 5,
    "start_time": "2022-07-26T19:21:06.192Z"
   },
   {
    "duration": 180,
    "start_time": "2022-07-26T19:21:06.199Z"
   },
   {
    "duration": 155,
    "start_time": "2022-07-26T19:21:06.380Z"
   },
   {
    "duration": 5,
    "start_time": "2022-07-26T19:21:06.538Z"
   },
   {
    "duration": 111,
    "start_time": "2022-07-26T19:21:06.545Z"
   },
   {
    "duration": 5,
    "start_time": "2022-07-26T19:21:06.658Z"
   },
   {
    "duration": 83,
    "start_time": "2022-07-26T19:21:06.664Z"
   },
   {
    "duration": 6,
    "start_time": "2022-07-26T19:21:06.748Z"
   },
   {
    "duration": 10,
    "start_time": "2022-07-26T19:21:06.755Z"
   },
   {
    "duration": 48,
    "start_time": "2022-07-26T19:21:06.767Z"
   },
   {
    "duration": 6,
    "start_time": "2022-07-26T19:21:06.816Z"
   },
   {
    "duration": 16,
    "start_time": "2022-07-26T19:21:06.828Z"
   },
   {
    "duration": 162,
    "start_time": "2022-07-26T19:21:06.846Z"
   },
   {
    "duration": 27,
    "start_time": "2022-07-26T19:21:07.014Z"
   },
   {
    "duration": 22,
    "start_time": "2022-07-26T19:21:07.042Z"
   },
   {
    "duration": 10,
    "start_time": "2022-07-26T19:21:07.065Z"
   },
   {
    "duration": 8,
    "start_time": "2022-07-26T19:21:07.076Z"
   },
   {
    "duration": 8,
    "start_time": "2022-07-26T19:21:07.086Z"
   },
   {
    "duration": 11,
    "start_time": "2022-07-26T19:21:07.095Z"
   },
   {
    "duration": 26,
    "start_time": "2022-07-26T19:21:07.110Z"
   },
   {
    "duration": 12,
    "start_time": "2022-07-26T19:21:07.138Z"
   },
   {
    "duration": 256,
    "start_time": "2022-07-26T19:21:07.152Z"
   },
   {
    "duration": 22,
    "start_time": "2022-07-26T19:21:07.409Z"
   },
   {
    "duration": 23,
    "start_time": "2022-07-26T19:21:07.433Z"
   },
   {
    "duration": 5,
    "start_time": "2022-07-26T19:21:14.531Z"
   },
   {
    "duration": 21,
    "start_time": "2022-07-26T19:33:56.176Z"
   },
   {
    "duration": 4,
    "start_time": "2022-07-26T19:56:00.733Z"
   },
   {
    "duration": 191,
    "start_time": "2022-07-26T19:58:57.980Z"
   },
   {
    "duration": 23,
    "start_time": "2022-07-26T19:59:00.326Z"
   },
   {
    "duration": 36,
    "start_time": "2022-07-26T19:59:03.100Z"
   },
   {
    "duration": 8,
    "start_time": "2022-07-26T19:59:07.148Z"
   },
   {
    "duration": 9,
    "start_time": "2022-07-26T19:59:08.776Z"
   },
   {
    "duration": 9,
    "start_time": "2022-07-26T19:59:16.885Z"
   },
   {
    "duration": 4,
    "start_time": "2022-07-26T19:59:17.901Z"
   },
   {
    "duration": 4,
    "start_time": "2022-07-26T19:59:18.785Z"
   },
   {
    "duration": 7,
    "start_time": "2022-07-26T19:59:19.601Z"
   },
   {
    "duration": 287,
    "start_time": "2022-07-26T19:59:20.279Z"
   },
   {
    "duration": 51,
    "start_time": "2022-07-29T15:07:59.990Z"
   },
   {
    "duration": 1300,
    "start_time": "2022-07-29T15:08:05.172Z"
   },
   {
    "duration": 111,
    "start_time": "2022-07-29T15:08:06.475Z"
   },
   {
    "duration": 3,
    "start_time": "2022-07-29T15:08:06.587Z"
   },
   {
    "duration": 17,
    "start_time": "2022-07-29T15:08:06.592Z"
   },
   {
    "duration": 7,
    "start_time": "2022-07-29T15:08:06.611Z"
   },
   {
    "duration": 9,
    "start_time": "2022-07-29T15:08:06.619Z"
   },
   {
    "duration": 8,
    "start_time": "2022-07-29T15:08:06.629Z"
   },
   {
    "duration": 13,
    "start_time": "2022-07-29T15:08:06.638Z"
   },
   {
    "duration": 87,
    "start_time": "2022-07-29T15:08:06.652Z"
   },
   {
    "duration": 11,
    "start_time": "2022-07-29T15:08:06.742Z"
   },
   {
    "duration": 6,
    "start_time": "2022-07-29T15:08:06.755Z"
   },
   {
    "duration": 56,
    "start_time": "2022-07-29T15:08:06.763Z"
   },
   {
    "duration": 9,
    "start_time": "2022-07-29T15:08:06.820Z"
   },
   {
    "duration": 11,
    "start_time": "2022-07-29T15:08:06.831Z"
   },
   {
    "duration": 8,
    "start_time": "2022-07-29T15:08:06.843Z"
   },
   {
    "duration": 4,
    "start_time": "2022-07-29T15:08:06.852Z"
   },
   {
    "duration": 8,
    "start_time": "2022-07-29T15:08:06.857Z"
   },
   {
    "duration": 5,
    "start_time": "2022-07-29T15:08:06.866Z"
   },
   {
    "duration": 6,
    "start_time": "2022-07-29T15:08:06.872Z"
   },
   {
    "duration": 7,
    "start_time": "2022-07-29T15:08:06.880Z"
   },
   {
    "duration": 9,
    "start_time": "2022-07-29T15:08:06.888Z"
   },
   {
    "duration": 9,
    "start_time": "2022-07-29T15:08:06.898Z"
   },
   {
    "duration": 11,
    "start_time": "2022-07-29T15:08:06.909Z"
   },
   {
    "duration": 160,
    "start_time": "2022-07-29T15:08:06.934Z"
   },
   {
    "duration": 8,
    "start_time": "2022-07-29T15:08:07.095Z"
   },
   {
    "duration": 118,
    "start_time": "2022-07-29T15:08:07.105Z"
   },
   {
    "duration": 12,
    "start_time": "2022-07-29T15:08:07.225Z"
   },
   {
    "duration": 7,
    "start_time": "2022-07-29T15:08:07.240Z"
   },
   {
    "duration": 13,
    "start_time": "2022-07-29T15:08:07.248Z"
   },
   {
    "duration": 284,
    "start_time": "2022-07-29T15:08:07.262Z"
   },
   {
    "duration": 207,
    "start_time": "2022-07-29T15:08:07.548Z"
   },
   {
    "duration": 334,
    "start_time": "2022-07-29T15:08:07.756Z"
   },
   {
    "duration": 210,
    "start_time": "2022-07-29T15:08:08.092Z"
   },
   {
    "duration": 350,
    "start_time": "2022-07-29T15:08:08.304Z"
   },
   {
    "duration": 138,
    "start_time": "2022-07-29T15:08:08.655Z"
   },
   {
    "duration": 5,
    "start_time": "2022-07-29T15:08:08.795Z"
   },
   {
    "duration": 170,
    "start_time": "2022-07-29T15:08:08.802Z"
   },
   {
    "duration": 165,
    "start_time": "2022-07-29T15:08:08.974Z"
   },
   {
    "duration": 6,
    "start_time": "2022-07-29T15:08:09.141Z"
   },
   {
    "duration": 85,
    "start_time": "2022-07-29T15:08:09.148Z"
   },
   {
    "duration": 7,
    "start_time": "2022-07-29T15:08:09.236Z"
   },
   {
    "duration": 89,
    "start_time": "2022-07-29T15:08:09.245Z"
   },
   {
    "duration": 12,
    "start_time": "2022-07-29T15:08:09.336Z"
   },
   {
    "duration": 27,
    "start_time": "2022-07-29T15:08:09.350Z"
   },
   {
    "duration": 5,
    "start_time": "2022-07-29T15:08:09.379Z"
   },
   {
    "duration": 148,
    "start_time": "2022-07-29T15:08:09.387Z"
   },
   {
    "duration": 18,
    "start_time": "2022-07-29T15:08:09.537Z"
   },
   {
    "duration": 16,
    "start_time": "2022-07-29T15:08:09.557Z"
   },
   {
    "duration": 11,
    "start_time": "2022-07-29T15:08:09.575Z"
   },
   {
    "duration": 9,
    "start_time": "2022-07-29T15:08:09.588Z"
   },
   {
    "duration": 36,
    "start_time": "2022-07-29T15:08:09.599Z"
   },
   {
    "duration": 11,
    "start_time": "2022-07-29T15:08:09.637Z"
   },
   {
    "duration": 12,
    "start_time": "2022-07-29T15:08:09.649Z"
   },
   {
    "duration": 12,
    "start_time": "2022-07-29T15:08:09.662Z"
   },
   {
    "duration": 242,
    "start_time": "2022-07-29T15:08:09.676Z"
   },
   {
    "duration": 10,
    "start_time": "2022-07-29T15:08:09.920Z"
   },
   {
    "duration": 9,
    "start_time": "2022-07-29T15:08:09.932Z"
   },
   {
    "duration": 1096,
    "start_time": "2022-07-29T15:30:25.436Z"
   },
   {
    "duration": 74,
    "start_time": "2022-07-29T15:30:26.533Z"
   },
   {
    "duration": 4,
    "start_time": "2022-07-29T15:30:26.609Z"
   },
   {
    "duration": 14,
    "start_time": "2022-07-29T15:30:26.615Z"
   },
   {
    "duration": 6,
    "start_time": "2022-07-29T15:30:26.630Z"
   },
   {
    "duration": 10,
    "start_time": "2022-07-29T15:30:26.637Z"
   },
   {
    "duration": 6,
    "start_time": "2022-07-29T15:30:26.648Z"
   },
   {
    "duration": 15,
    "start_time": "2022-07-29T15:30:26.656Z"
   },
   {
    "duration": 50,
    "start_time": "2022-07-29T15:30:26.673Z"
   },
   {
    "duration": 10,
    "start_time": "2022-07-29T15:30:26.726Z"
   },
   {
    "duration": 6,
    "start_time": "2022-07-29T15:30:26.738Z"
   },
   {
    "duration": 21,
    "start_time": "2022-07-29T15:30:26.746Z"
   },
   {
    "duration": 10,
    "start_time": "2022-07-29T15:30:26.768Z"
   },
   {
    "duration": 11,
    "start_time": "2022-07-29T15:30:26.780Z"
   },
   {
    "duration": 5,
    "start_time": "2022-07-29T15:30:26.793Z"
   },
   {
    "duration": 4,
    "start_time": "2022-07-29T15:30:26.800Z"
   },
   {
    "duration": 5,
    "start_time": "2022-07-29T15:30:26.806Z"
   },
   {
    "duration": 22,
    "start_time": "2022-07-29T15:30:26.813Z"
   },
   {
    "duration": 11,
    "start_time": "2022-07-29T15:30:26.836Z"
   },
   {
    "duration": 4,
    "start_time": "2022-07-29T15:30:26.849Z"
   },
   {
    "duration": 7,
    "start_time": "2022-07-29T15:30:26.855Z"
   },
   {
    "duration": 9,
    "start_time": "2022-07-29T15:30:26.864Z"
   },
   {
    "duration": 18,
    "start_time": "2022-07-29T15:30:26.875Z"
   },
   {
    "duration": 191,
    "start_time": "2022-07-29T15:30:26.894Z"
   },
   {
    "duration": 8,
    "start_time": "2022-07-29T15:30:27.087Z"
   },
   {
    "duration": 118,
    "start_time": "2022-07-29T15:30:27.096Z"
   },
   {
    "duration": 7,
    "start_time": "2022-07-29T15:30:27.215Z"
   },
   {
    "duration": 14,
    "start_time": "2022-07-29T15:30:27.225Z"
   },
   {
    "duration": 16,
    "start_time": "2022-07-29T15:30:27.241Z"
   },
   {
    "duration": 288,
    "start_time": "2022-07-29T15:30:27.259Z"
   },
   {
    "duration": 232,
    "start_time": "2022-07-29T15:30:27.549Z"
   },
   {
    "duration": 286,
    "start_time": "2022-07-29T15:30:27.783Z"
   },
   {
    "duration": 235,
    "start_time": "2022-07-29T15:30:28.071Z"
   },
   {
    "duration": 351,
    "start_time": "2022-07-29T15:30:28.308Z"
   },
   {
    "duration": 139,
    "start_time": "2022-07-29T15:30:28.661Z"
   },
   {
    "duration": 5,
    "start_time": "2022-07-29T15:30:28.801Z"
   },
   {
    "duration": 136,
    "start_time": "2022-07-29T15:30:28.807Z"
   },
   {
    "duration": 130,
    "start_time": "2022-07-29T15:30:28.945Z"
   },
   {
    "duration": 5,
    "start_time": "2022-07-29T15:30:29.076Z"
   },
   {
    "duration": 79,
    "start_time": "2022-07-29T15:30:29.082Z"
   },
   {
    "duration": 5,
    "start_time": "2022-07-29T15:30:29.163Z"
   },
   {
    "duration": 93,
    "start_time": "2022-07-29T15:30:29.170Z"
   },
   {
    "duration": 5,
    "start_time": "2022-07-29T15:30:29.265Z"
   },
   {
    "duration": 25,
    "start_time": "2022-07-29T15:30:29.271Z"
   },
   {
    "duration": 5,
    "start_time": "2022-07-29T15:30:29.298Z"
   },
   {
    "duration": 159,
    "start_time": "2022-07-29T15:30:29.305Z"
   },
   {
    "duration": 16,
    "start_time": "2022-07-29T15:30:29.465Z"
   },
   {
    "duration": 21,
    "start_time": "2022-07-29T15:30:29.483Z"
   },
   {
    "duration": 28,
    "start_time": "2022-07-29T15:30:29.506Z"
   },
   {
    "duration": 14,
    "start_time": "2022-07-29T15:30:29.535Z"
   },
   {
    "duration": 9,
    "start_time": "2022-07-29T15:30:29.551Z"
   },
   {
    "duration": 6,
    "start_time": "2022-07-29T15:30:29.561Z"
   },
   {
    "duration": 6,
    "start_time": "2022-07-29T15:30:29.568Z"
   },
   {
    "duration": 8,
    "start_time": "2022-07-29T15:30:29.576Z"
   },
   {
    "duration": 256,
    "start_time": "2022-07-29T15:30:29.586Z"
   },
   {
    "duration": 11,
    "start_time": "2022-07-29T15:30:29.845Z"
   },
   {
    "duration": 9,
    "start_time": "2022-07-29T15:30:29.858Z"
   },
   {
    "duration": 1049,
    "start_time": "2022-07-29T15:56:32.602Z"
   },
   {
    "duration": 77,
    "start_time": "2022-07-29T15:56:33.653Z"
   },
   {
    "duration": 3,
    "start_time": "2022-07-29T15:56:33.732Z"
   },
   {
    "duration": 24,
    "start_time": "2022-07-29T15:56:33.737Z"
   },
   {
    "duration": 23,
    "start_time": "2022-07-29T15:56:33.763Z"
   },
   {
    "duration": 14,
    "start_time": "2022-07-29T15:56:33.787Z"
   },
   {
    "duration": 11,
    "start_time": "2022-07-29T15:56:33.802Z"
   },
   {
    "duration": 23,
    "start_time": "2022-07-29T15:56:33.815Z"
   },
   {
    "duration": 67,
    "start_time": "2022-07-29T15:56:33.839Z"
   },
   {
    "duration": 10,
    "start_time": "2022-07-29T15:56:33.908Z"
   },
   {
    "duration": 23,
    "start_time": "2022-07-29T15:56:33.920Z"
   },
   {
    "duration": 22,
    "start_time": "2022-07-29T15:56:33.944Z"
   },
   {
    "duration": 10,
    "start_time": "2022-07-29T15:56:33.968Z"
   },
   {
    "duration": 9,
    "start_time": "2022-07-29T15:56:33.979Z"
   },
   {
    "duration": 6,
    "start_time": "2022-07-29T15:56:33.990Z"
   },
   {
    "duration": 4,
    "start_time": "2022-07-29T15:56:33.997Z"
   },
   {
    "duration": 6,
    "start_time": "2022-07-29T15:56:34.003Z"
   },
   {
    "duration": 6,
    "start_time": "2022-07-29T15:56:34.010Z"
   },
   {
    "duration": 7,
    "start_time": "2022-07-29T15:56:34.017Z"
   },
   {
    "duration": 6,
    "start_time": "2022-07-29T15:56:34.025Z"
   },
   {
    "duration": 6,
    "start_time": "2022-07-29T15:56:34.032Z"
   },
   {
    "duration": 7,
    "start_time": "2022-07-29T15:56:34.039Z"
   },
   {
    "duration": 13,
    "start_time": "2022-07-29T15:56:34.047Z"
   },
   {
    "duration": 164,
    "start_time": "2022-07-29T15:56:34.062Z"
   },
   {
    "duration": 13,
    "start_time": "2022-07-29T15:56:34.227Z"
   },
   {
    "duration": 129,
    "start_time": "2022-07-29T15:56:34.241Z"
   },
   {
    "duration": 8,
    "start_time": "2022-07-29T15:56:34.372Z"
   },
   {
    "duration": 6,
    "start_time": "2022-07-29T15:56:34.384Z"
   },
   {
    "duration": 12,
    "start_time": "2022-07-29T15:56:34.391Z"
   },
   {
    "duration": 298,
    "start_time": "2022-07-29T15:56:34.404Z"
   },
   {
    "duration": 206,
    "start_time": "2022-07-29T15:56:34.703Z"
   },
   {
    "duration": 316,
    "start_time": "2022-07-29T15:56:34.910Z"
   },
   {
    "duration": 205,
    "start_time": "2022-07-29T15:56:35.233Z"
   },
   {
    "duration": 319,
    "start_time": "2022-07-29T15:56:35.439Z"
   },
   {
    "duration": 127,
    "start_time": "2022-07-29T15:56:35.760Z"
   },
   {
    "duration": 5,
    "start_time": "2022-07-29T15:56:35.889Z"
   },
   {
    "duration": 124,
    "start_time": "2022-07-29T15:56:35.895Z"
   },
   {
    "duration": 144,
    "start_time": "2022-07-29T15:56:36.020Z"
   },
   {
    "duration": 5,
    "start_time": "2022-07-29T15:56:36.166Z"
   },
   {
    "duration": 72,
    "start_time": "2022-07-29T15:56:36.172Z"
   },
   {
    "duration": 11,
    "start_time": "2022-07-29T15:56:36.245Z"
   },
   {
    "duration": 67,
    "start_time": "2022-07-29T15:56:36.258Z"
   },
   {
    "duration": 5,
    "start_time": "2022-07-29T15:56:36.334Z"
   },
   {
    "duration": 26,
    "start_time": "2022-07-29T15:56:36.340Z"
   },
   {
    "duration": 4,
    "start_time": "2022-07-29T15:56:36.368Z"
   },
   {
    "duration": 152,
    "start_time": "2022-07-29T15:56:36.374Z"
   },
   {
    "duration": 17,
    "start_time": "2022-07-29T15:56:36.534Z"
   },
   {
    "duration": 18,
    "start_time": "2022-07-29T15:56:36.553Z"
   },
   {
    "duration": 9,
    "start_time": "2022-07-29T15:56:36.573Z"
   },
   {
    "duration": 11,
    "start_time": "2022-07-29T15:56:36.583Z"
   },
   {
    "duration": 38,
    "start_time": "2022-07-29T15:56:36.596Z"
   },
   {
    "duration": 8,
    "start_time": "2022-07-29T15:56:36.635Z"
   },
   {
    "duration": 5,
    "start_time": "2022-07-29T15:56:36.644Z"
   },
   {
    "duration": 8,
    "start_time": "2022-07-29T15:56:36.650Z"
   },
   {
    "duration": 235,
    "start_time": "2022-07-29T15:56:36.659Z"
   },
   {
    "duration": 10,
    "start_time": "2022-07-29T15:56:36.895Z"
   },
   {
    "duration": 8,
    "start_time": "2022-07-29T15:56:36.907Z"
   },
   {
    "duration": 105,
    "start_time": "2022-07-29T15:57:59.926Z"
   },
   {
    "duration": 11,
    "start_time": "2022-07-29T16:05:38.015Z"
   },
   {
    "duration": 9,
    "start_time": "2022-07-29T16:05:43.199Z"
   },
   {
    "duration": 8,
    "start_time": "2022-07-29T16:06:16.516Z"
   },
   {
    "duration": 8,
    "start_time": "2022-07-29T16:06:31.570Z"
   },
   {
    "duration": 21,
    "start_time": "2022-07-29T16:06:38.368Z"
   },
   {
    "duration": 4,
    "start_time": "2022-07-29T16:23:38.596Z"
   },
   {
    "duration": 6,
    "start_time": "2022-07-29T16:23:44.267Z"
   },
   {
    "duration": 1101,
    "start_time": "2022-07-29T16:33:49.860Z"
   },
   {
    "duration": 90,
    "start_time": "2022-07-29T16:33:50.971Z"
   },
   {
    "duration": 5,
    "start_time": "2022-07-29T16:33:51.063Z"
   },
   {
    "duration": 5,
    "start_time": "2022-07-29T16:33:51.070Z"
   },
   {
    "duration": 20,
    "start_time": "2022-07-29T16:33:51.079Z"
   },
   {
    "duration": 4,
    "start_time": "2022-07-29T16:33:51.100Z"
   },
   {
    "duration": 13,
    "start_time": "2022-07-29T16:33:51.106Z"
   },
   {
    "duration": 77,
    "start_time": "2022-07-29T16:33:51.122Z"
   },
   {
    "duration": 11,
    "start_time": "2022-07-29T16:33:51.201Z"
   },
   {
    "duration": 4,
    "start_time": "2022-07-29T16:33:51.215Z"
   },
   {
    "duration": 51,
    "start_time": "2022-07-29T16:33:51.221Z"
   },
   {
    "duration": 10,
    "start_time": "2022-07-29T16:33:51.274Z"
   },
   {
    "duration": 10,
    "start_time": "2022-07-29T16:33:51.285Z"
   },
   {
    "duration": 7,
    "start_time": "2022-07-29T16:33:51.298Z"
   },
   {
    "duration": 18,
    "start_time": "2022-07-29T16:33:51.306Z"
   },
   {
    "duration": 23,
    "start_time": "2022-07-29T16:33:51.326Z"
   },
   {
    "duration": 7,
    "start_time": "2022-07-29T16:33:51.369Z"
   },
   {
    "duration": 3,
    "start_time": "2022-07-29T16:33:51.378Z"
   },
   {
    "duration": 10,
    "start_time": "2022-07-29T16:33:51.382Z"
   },
   {
    "duration": 7,
    "start_time": "2022-07-29T16:33:51.394Z"
   },
   {
    "duration": 8,
    "start_time": "2022-07-29T16:33:51.403Z"
   },
   {
    "duration": 11,
    "start_time": "2022-07-29T16:33:51.412Z"
   },
   {
    "duration": 184,
    "start_time": "2022-07-29T16:33:51.425Z"
   },
   {
    "duration": 8,
    "start_time": "2022-07-29T16:33:51.611Z"
   },
   {
    "duration": 148,
    "start_time": "2022-07-29T16:33:51.620Z"
   },
   {
    "duration": 9,
    "start_time": "2022-07-29T16:33:51.769Z"
   },
   {
    "duration": 13,
    "start_time": "2022-07-29T16:33:51.780Z"
   },
   {
    "duration": 13,
    "start_time": "2022-07-29T16:33:51.795Z"
   },
   {
    "duration": 365,
    "start_time": "2022-07-29T16:33:51.810Z"
   },
   {
    "duration": 230,
    "start_time": "2022-07-29T16:33:52.179Z"
   },
   {
    "duration": 313,
    "start_time": "2022-07-29T16:33:52.411Z"
   },
   {
    "duration": 279,
    "start_time": "2022-07-29T16:33:52.726Z"
   },
   {
    "duration": 365,
    "start_time": "2022-07-29T16:33:53.007Z"
   },
   {
    "duration": 140,
    "start_time": "2022-07-29T16:33:53.374Z"
   },
   {
    "duration": 4,
    "start_time": "2022-07-29T16:33:53.515Z"
   },
   {
    "duration": 125,
    "start_time": "2022-07-29T16:33:53.521Z"
   },
   {
    "duration": 132,
    "start_time": "2022-07-29T16:33:53.647Z"
   },
   {
    "duration": 5,
    "start_time": "2022-07-29T16:33:53.781Z"
   },
   {
    "duration": 74,
    "start_time": "2022-07-29T16:33:53.788Z"
   },
   {
    "duration": 13,
    "start_time": "2022-07-29T16:33:53.864Z"
   },
   {
    "duration": 95,
    "start_time": "2022-07-29T16:33:53.881Z"
   },
   {
    "duration": 5,
    "start_time": "2022-07-29T16:33:53.978Z"
   },
   {
    "duration": 22,
    "start_time": "2022-07-29T16:33:53.985Z"
   },
   {
    "duration": 4,
    "start_time": "2022-07-29T16:33:54.009Z"
   },
   {
    "duration": 9,
    "start_time": "2022-07-29T16:33:54.014Z"
   },
   {
    "duration": 14,
    "start_time": "2022-07-29T16:33:54.025Z"
   },
   {
    "duration": 63,
    "start_time": "2022-07-29T16:33:54.040Z"
   },
   {
    "duration": 0,
    "start_time": "2022-07-29T16:33:54.104Z"
   },
   {
    "duration": 0,
    "start_time": "2022-07-29T16:33:54.106Z"
   },
   {
    "duration": 0,
    "start_time": "2022-07-29T16:33:54.107Z"
   },
   {
    "duration": 0,
    "start_time": "2022-07-29T16:33:54.107Z"
   },
   {
    "duration": 0,
    "start_time": "2022-07-29T16:33:54.108Z"
   },
   {
    "duration": 0,
    "start_time": "2022-07-29T16:33:54.109Z"
   },
   {
    "duration": 152,
    "start_time": "2022-07-29T16:34:05.612Z"
   },
   {
    "duration": 1374,
    "start_time": "2022-07-29T16:34:09.100Z"
   },
   {
    "duration": 9,
    "start_time": "2022-07-29T16:35:07.112Z"
   },
   {
    "duration": 7,
    "start_time": "2022-07-29T16:35:17.780Z"
   },
   {
    "duration": 1197,
    "start_time": "2022-07-29T16:35:23.024Z"
   },
   {
    "duration": 8,
    "start_time": "2022-07-29T16:35:39.316Z"
   },
   {
    "duration": 22,
    "start_time": "2022-07-29T16:35:40.781Z"
   },
   {
    "duration": 5,
    "start_time": "2022-07-29T16:39:56.543Z"
   },
   {
    "duration": 16,
    "start_time": "2022-07-29T16:40:57.775Z"
   },
   {
    "duration": 10,
    "start_time": "2022-07-29T16:41:01.269Z"
   },
   {
    "duration": 90,
    "start_time": "2022-07-29T16:42:18.071Z"
   },
   {
    "duration": 4,
    "start_time": "2022-07-29T16:51:27.615Z"
   },
   {
    "duration": 1060,
    "start_time": "2022-07-29T16:59:50.012Z"
   },
   {
    "duration": 92,
    "start_time": "2022-07-29T16:59:51.075Z"
   },
   {
    "duration": 3,
    "start_time": "2022-07-29T16:59:51.170Z"
   },
   {
    "duration": 13,
    "start_time": "2022-07-29T16:59:51.182Z"
   },
   {
    "duration": 15,
    "start_time": "2022-07-29T16:59:51.197Z"
   },
   {
    "duration": 4,
    "start_time": "2022-07-29T16:59:51.213Z"
   },
   {
    "duration": 13,
    "start_time": "2022-07-29T16:59:51.218Z"
   },
   {
    "duration": 90,
    "start_time": "2022-07-29T16:59:51.232Z"
   },
   {
    "duration": 42,
    "start_time": "2022-07-29T16:59:51.323Z"
   },
   {
    "duration": 17,
    "start_time": "2022-07-29T16:59:51.367Z"
   },
   {
    "duration": 21,
    "start_time": "2022-07-29T16:59:51.386Z"
   },
   {
    "duration": 11,
    "start_time": "2022-07-29T16:59:51.409Z"
   },
   {
    "duration": 42,
    "start_time": "2022-07-29T16:59:51.422Z"
   },
   {
    "duration": 33,
    "start_time": "2022-07-29T16:59:51.465Z"
   },
   {
    "duration": 9,
    "start_time": "2022-07-29T16:59:51.499Z"
   },
   {
    "duration": 8,
    "start_time": "2022-07-29T16:59:51.510Z"
   },
   {
    "duration": 4,
    "start_time": "2022-07-29T16:59:51.520Z"
   },
   {
    "duration": 6,
    "start_time": "2022-07-29T16:59:51.526Z"
   },
   {
    "duration": 35,
    "start_time": "2022-07-29T16:59:51.543Z"
   },
   {
    "duration": 8,
    "start_time": "2022-07-29T16:59:51.579Z"
   },
   {
    "duration": 11,
    "start_time": "2022-07-29T16:59:51.589Z"
   },
   {
    "duration": 10,
    "start_time": "2022-07-29T16:59:51.602Z"
   },
   {
    "duration": 178,
    "start_time": "2022-07-29T16:59:51.614Z"
   },
   {
    "duration": 8,
    "start_time": "2022-07-29T16:59:51.794Z"
   },
   {
    "duration": 150,
    "start_time": "2022-07-29T16:59:51.804Z"
   },
   {
    "duration": 11,
    "start_time": "2022-07-29T16:59:51.964Z"
   },
   {
    "duration": 13,
    "start_time": "2022-07-29T16:59:51.977Z"
   },
   {
    "duration": 14,
    "start_time": "2022-07-29T16:59:51.994Z"
   },
   {
    "duration": 358,
    "start_time": "2022-07-29T16:59:52.010Z"
   },
   {
    "duration": 244,
    "start_time": "2022-07-29T16:59:52.373Z"
   },
   {
    "duration": 332,
    "start_time": "2022-07-29T16:59:52.620Z"
   },
   {
    "duration": 228,
    "start_time": "2022-07-29T16:59:52.953Z"
   },
   {
    "duration": 308,
    "start_time": "2022-07-29T16:59:53.183Z"
   },
   {
    "duration": 131,
    "start_time": "2022-07-29T16:59:53.493Z"
   },
   {
    "duration": 34,
    "start_time": "2022-07-29T16:59:53.626Z"
   },
   {
    "duration": 132,
    "start_time": "2022-07-29T16:59:53.661Z"
   },
   {
    "duration": 162,
    "start_time": "2022-07-29T16:59:53.796Z"
   },
   {
    "duration": 11,
    "start_time": "2022-07-29T16:59:53.965Z"
   },
   {
    "duration": 90,
    "start_time": "2022-07-29T16:59:53.978Z"
   },
   {
    "duration": 35,
    "start_time": "2022-07-29T16:59:54.070Z"
   },
   {
    "duration": 93,
    "start_time": "2022-07-29T16:59:54.107Z"
   },
   {
    "duration": 26,
    "start_time": "2022-07-29T16:59:54.202Z"
   },
   {
    "duration": 75,
    "start_time": "2022-07-29T16:59:54.229Z"
   },
   {
    "duration": 3,
    "start_time": "2022-07-29T16:59:54.306Z"
   },
   {
    "duration": 19,
    "start_time": "2022-07-29T16:59:54.310Z"
   },
   {
    "duration": 45,
    "start_time": "2022-07-29T16:59:54.330Z"
   },
   {
    "duration": 143,
    "start_time": "2022-07-29T16:59:54.377Z"
   },
   {
    "duration": 7,
    "start_time": "2022-07-29T16:59:54.522Z"
   },
   {
    "duration": 63,
    "start_time": "2022-07-29T16:59:54.531Z"
   },
   {
    "duration": 68,
    "start_time": "2022-07-29T16:59:54.596Z"
   },
   {
    "duration": 26,
    "start_time": "2022-07-29T16:59:54.666Z"
   },
   {
    "duration": 19,
    "start_time": "2022-07-29T16:59:54.693Z"
   },
   {
    "duration": 25,
    "start_time": "2022-07-29T16:59:54.714Z"
   },
   {
    "duration": 1096,
    "start_time": "2022-07-29T17:00:14.865Z"
   },
   {
    "duration": 94,
    "start_time": "2022-07-29T17:00:15.963Z"
   },
   {
    "duration": 18,
    "start_time": "2022-07-29T17:00:16.063Z"
   },
   {
    "duration": 21,
    "start_time": "2022-07-29T17:00:16.090Z"
   },
   {
    "duration": 33,
    "start_time": "2022-07-29T17:00:16.114Z"
   },
   {
    "duration": 27,
    "start_time": "2022-07-29T17:00:16.149Z"
   },
   {
    "duration": 16,
    "start_time": "2022-07-29T17:00:16.178Z"
   },
   {
    "duration": 65,
    "start_time": "2022-07-29T17:00:16.195Z"
   },
   {
    "duration": 16,
    "start_time": "2022-07-29T17:00:16.262Z"
   },
   {
    "duration": 5,
    "start_time": "2022-07-29T17:00:16.280Z"
   },
   {
    "duration": 18,
    "start_time": "2022-07-29T17:00:16.286Z"
   },
   {
    "duration": 11,
    "start_time": "2022-07-29T17:00:16.305Z"
   },
   {
    "duration": 15,
    "start_time": "2022-07-29T17:00:16.317Z"
   },
   {
    "duration": 44,
    "start_time": "2022-07-29T17:00:16.334Z"
   },
   {
    "duration": 6,
    "start_time": "2022-07-29T17:00:16.379Z"
   },
   {
    "duration": 6,
    "start_time": "2022-07-29T17:00:16.386Z"
   },
   {
    "duration": 6,
    "start_time": "2022-07-29T17:00:16.393Z"
   },
   {
    "duration": 5,
    "start_time": "2022-07-29T17:00:16.400Z"
   },
   {
    "duration": 7,
    "start_time": "2022-07-29T17:00:16.406Z"
   },
   {
    "duration": 5,
    "start_time": "2022-07-29T17:00:16.415Z"
   },
   {
    "duration": 9,
    "start_time": "2022-07-29T17:00:16.422Z"
   },
   {
    "duration": 58,
    "start_time": "2022-07-29T17:00:16.432Z"
   },
   {
    "duration": 177,
    "start_time": "2022-07-29T17:00:16.491Z"
   },
   {
    "duration": 12,
    "start_time": "2022-07-29T17:00:16.669Z"
   },
   {
    "duration": 125,
    "start_time": "2022-07-29T17:00:16.682Z"
   },
   {
    "duration": 7,
    "start_time": "2022-07-29T17:00:16.809Z"
   },
   {
    "duration": 8,
    "start_time": "2022-07-29T17:00:16.818Z"
   },
   {
    "duration": 26,
    "start_time": "2022-07-29T17:00:16.833Z"
   },
   {
    "duration": 353,
    "start_time": "2022-07-29T17:00:16.862Z"
   },
   {
    "duration": 264,
    "start_time": "2022-07-29T17:00:17.217Z"
   },
   {
    "duration": 291,
    "start_time": "2022-07-29T17:00:17.483Z"
   },
   {
    "duration": 232,
    "start_time": "2022-07-29T17:00:17.775Z"
   },
   {
    "duration": 1125,
    "start_time": "2022-07-30T08:37:31.687Z"
   },
   {
    "duration": 114,
    "start_time": "2022-07-30T08:37:32.814Z"
   },
   {
    "duration": 4,
    "start_time": "2022-07-30T08:37:32.929Z"
   },
   {
    "duration": 11,
    "start_time": "2022-07-30T08:37:32.936Z"
   },
   {
    "duration": 19,
    "start_time": "2022-07-30T08:37:32.949Z"
   },
   {
    "duration": 4,
    "start_time": "2022-07-30T08:37:32.970Z"
   },
   {
    "duration": 12,
    "start_time": "2022-07-30T08:37:32.975Z"
   },
   {
    "duration": 86,
    "start_time": "2022-07-30T08:37:32.988Z"
   },
   {
    "duration": 11,
    "start_time": "2022-07-30T08:37:33.076Z"
   },
   {
    "duration": 4,
    "start_time": "2022-07-30T08:37:33.090Z"
   },
   {
    "duration": 57,
    "start_time": "2022-07-30T08:37:33.095Z"
   },
   {
    "duration": 10,
    "start_time": "2022-07-30T08:37:33.154Z"
   },
   {
    "duration": 34,
    "start_time": "2022-07-30T08:37:33.166Z"
   },
   {
    "duration": 6,
    "start_time": "2022-07-30T08:37:33.202Z"
   },
   {
    "duration": 9,
    "start_time": "2022-07-30T08:37:33.209Z"
   },
   {
    "duration": 7,
    "start_time": "2022-07-30T08:37:33.219Z"
   },
   {
    "duration": 6,
    "start_time": "2022-07-30T08:37:33.227Z"
   },
   {
    "duration": 56,
    "start_time": "2022-07-30T08:37:33.234Z"
   },
   {
    "duration": 39,
    "start_time": "2022-07-30T08:37:33.291Z"
   },
   {
    "duration": 8,
    "start_time": "2022-07-30T08:37:33.331Z"
   },
   {
    "duration": 32,
    "start_time": "2022-07-30T08:37:33.341Z"
   },
   {
    "duration": 12,
    "start_time": "2022-07-30T08:37:33.374Z"
   },
   {
    "duration": 152,
    "start_time": "2022-07-30T08:37:33.388Z"
   },
   {
    "duration": 8,
    "start_time": "2022-07-30T08:37:33.542Z"
   },
   {
    "duration": 125,
    "start_time": "2022-07-30T08:37:33.551Z"
   },
   {
    "duration": 10,
    "start_time": "2022-07-30T08:37:33.678Z"
   },
   {
    "duration": 7,
    "start_time": "2022-07-30T08:37:33.690Z"
   },
   {
    "duration": 9,
    "start_time": "2022-07-30T08:37:33.700Z"
   },
   {
    "duration": 279,
    "start_time": "2022-07-30T08:37:33.710Z"
   },
   {
    "duration": 215,
    "start_time": "2022-07-30T08:37:33.990Z"
   },
   {
    "duration": 367,
    "start_time": "2022-07-30T08:37:34.207Z"
   },
   {
    "duration": 236,
    "start_time": "2022-07-30T08:37:34.575Z"
   },
   {
    "duration": 363,
    "start_time": "2022-07-30T08:37:34.813Z"
   },
   {
    "duration": 133,
    "start_time": "2022-07-30T08:37:35.178Z"
   },
   {
    "duration": 5,
    "start_time": "2022-07-30T08:37:35.313Z"
   },
   {
    "duration": 140,
    "start_time": "2022-07-30T08:37:35.319Z"
   },
   {
    "duration": 136,
    "start_time": "2022-07-30T08:37:35.463Z"
   },
   {
    "duration": 5,
    "start_time": "2022-07-30T08:37:35.601Z"
   },
   {
    "duration": 81,
    "start_time": "2022-07-30T08:37:35.607Z"
   },
   {
    "duration": 8,
    "start_time": "2022-07-30T08:37:35.689Z"
   },
   {
    "duration": 73,
    "start_time": "2022-07-30T08:37:35.698Z"
   },
   {
    "duration": 5,
    "start_time": "2022-07-30T08:37:35.772Z"
   },
   {
    "duration": 26,
    "start_time": "2022-07-30T08:37:35.778Z"
   },
   {
    "duration": 4,
    "start_time": "2022-07-30T08:37:35.805Z"
   },
   {
    "duration": 27,
    "start_time": "2022-07-30T08:37:35.810Z"
   },
   {
    "duration": 6,
    "start_time": "2022-07-30T08:37:35.839Z"
   },
   {
    "duration": 134,
    "start_time": "2022-07-30T08:37:35.847Z"
   },
   {
    "duration": 6,
    "start_time": "2022-07-30T08:37:35.983Z"
   },
   {
    "duration": 9,
    "start_time": "2022-07-30T08:37:35.990Z"
   },
   {
    "duration": 26,
    "start_time": "2022-07-30T08:37:36.001Z"
   },
   {
    "duration": 4,
    "start_time": "2022-07-30T08:37:36.036Z"
   },
   {
    "duration": 11,
    "start_time": "2022-07-30T08:37:36.041Z"
   },
   {
    "duration": 8,
    "start_time": "2022-07-30T08:37:36.053Z"
   },
   {
    "duration": 14,
    "start_time": "2022-07-30T08:38:09.065Z"
   },
   {
    "duration": 104,
    "start_time": "2022-07-30T08:55:24.138Z"
   },
   {
    "duration": 1204,
    "start_time": "2022-07-30T11:57:13.899Z"
   },
   {
    "duration": 108,
    "start_time": "2022-07-30T11:57:15.106Z"
   },
   {
    "duration": 3,
    "start_time": "2022-07-30T11:57:15.216Z"
   },
   {
    "duration": 103,
    "start_time": "2022-07-30T11:57:15.222Z"
   },
   {
    "duration": 0,
    "start_time": "2022-07-30T11:57:15.328Z"
   },
   {
    "duration": 0,
    "start_time": "2022-07-30T11:57:15.329Z"
   },
   {
    "duration": 0,
    "start_time": "2022-07-30T11:57:15.330Z"
   },
   {
    "duration": 0,
    "start_time": "2022-07-30T11:57:15.332Z"
   },
   {
    "duration": 0,
    "start_time": "2022-07-30T11:57:15.333Z"
   },
   {
    "duration": 0,
    "start_time": "2022-07-30T11:57:15.334Z"
   },
   {
    "duration": 0,
    "start_time": "2022-07-30T11:57:15.336Z"
   },
   {
    "duration": 0,
    "start_time": "2022-07-30T11:57:15.337Z"
   },
   {
    "duration": 0,
    "start_time": "2022-07-30T11:57:15.338Z"
   },
   {
    "duration": 0,
    "start_time": "2022-07-30T11:57:15.340Z"
   },
   {
    "duration": 0,
    "start_time": "2022-07-30T11:57:15.341Z"
   },
   {
    "duration": 0,
    "start_time": "2022-07-30T11:57:15.342Z"
   },
   {
    "duration": 0,
    "start_time": "2022-07-30T11:57:15.343Z"
   },
   {
    "duration": 0,
    "start_time": "2022-07-30T11:57:15.344Z"
   },
   {
    "duration": 0,
    "start_time": "2022-07-30T11:57:15.345Z"
   },
   {
    "duration": 0,
    "start_time": "2022-07-30T11:57:15.347Z"
   },
   {
    "duration": 0,
    "start_time": "2022-07-30T11:57:15.348Z"
   },
   {
    "duration": 0,
    "start_time": "2022-07-30T11:57:15.349Z"
   },
   {
    "duration": 0,
    "start_time": "2022-07-30T11:57:15.351Z"
   },
   {
    "duration": 0,
    "start_time": "2022-07-30T11:57:15.352Z"
   },
   {
    "duration": 0,
    "start_time": "2022-07-30T11:57:15.353Z"
   },
   {
    "duration": 0,
    "start_time": "2022-07-30T11:57:15.354Z"
   },
   {
    "duration": 0,
    "start_time": "2022-07-30T11:57:15.355Z"
   },
   {
    "duration": 0,
    "start_time": "2022-07-30T11:57:15.357Z"
   },
   {
    "duration": 0,
    "start_time": "2022-07-30T11:57:15.358Z"
   },
   {
    "duration": 0,
    "start_time": "2022-07-30T11:57:15.359Z"
   },
   {
    "duration": 0,
    "start_time": "2022-07-30T11:57:15.360Z"
   },
   {
    "duration": 0,
    "start_time": "2022-07-30T11:57:15.361Z"
   },
   {
    "duration": 0,
    "start_time": "2022-07-30T11:57:15.362Z"
   },
   {
    "duration": 0,
    "start_time": "2022-07-30T11:57:15.363Z"
   },
   {
    "duration": 0,
    "start_time": "2022-07-30T11:57:15.363Z"
   },
   {
    "duration": 0,
    "start_time": "2022-07-30T11:57:15.364Z"
   },
   {
    "duration": 0,
    "start_time": "2022-07-30T11:57:15.365Z"
   },
   {
    "duration": 0,
    "start_time": "2022-07-30T11:57:15.366Z"
   },
   {
    "duration": 0,
    "start_time": "2022-07-30T11:57:15.367Z"
   },
   {
    "duration": 0,
    "start_time": "2022-07-30T11:57:15.368Z"
   },
   {
    "duration": 0,
    "start_time": "2022-07-30T11:57:15.369Z"
   },
   {
    "duration": 0,
    "start_time": "2022-07-30T11:57:15.370Z"
   },
   {
    "duration": 0,
    "start_time": "2022-07-30T11:57:15.371Z"
   },
   {
    "duration": 0,
    "start_time": "2022-07-30T11:57:15.372Z"
   },
   {
    "duration": 0,
    "start_time": "2022-07-30T11:57:15.434Z"
   },
   {
    "duration": 0,
    "start_time": "2022-07-30T11:57:15.435Z"
   },
   {
    "duration": 0,
    "start_time": "2022-07-30T11:57:15.436Z"
   },
   {
    "duration": 0,
    "start_time": "2022-07-30T11:57:15.437Z"
   },
   {
    "duration": 0,
    "start_time": "2022-07-30T11:57:15.438Z"
   },
   {
    "duration": 0,
    "start_time": "2022-07-30T11:57:15.439Z"
   },
   {
    "duration": 0,
    "start_time": "2022-07-30T11:57:15.440Z"
   },
   {
    "duration": 0,
    "start_time": "2022-07-30T11:57:15.441Z"
   },
   {
    "duration": 0,
    "start_time": "2022-07-30T11:57:15.442Z"
   },
   {
    "duration": 0,
    "start_time": "2022-07-30T11:57:15.442Z"
   },
   {
    "duration": 3,
    "start_time": "2022-07-30T11:58:04.343Z"
   },
   {
    "duration": 11,
    "start_time": "2022-07-30T11:58:11.264Z"
   },
   {
    "duration": 1000,
    "start_time": "2022-07-30T11:58:24.654Z"
   },
   {
    "duration": 69,
    "start_time": "2022-07-30T11:58:25.656Z"
   },
   {
    "duration": 3,
    "start_time": "2022-07-30T11:58:25.727Z"
   },
   {
    "duration": 8,
    "start_time": "2022-07-30T11:58:25.731Z"
   },
   {
    "duration": 8,
    "start_time": "2022-07-30T11:58:25.740Z"
   },
   {
    "duration": 12,
    "start_time": "2022-07-30T11:58:25.750Z"
   },
   {
    "duration": 3,
    "start_time": "2022-07-30T11:58:25.764Z"
   },
   {
    "duration": 12,
    "start_time": "2022-07-30T11:58:25.769Z"
   },
   {
    "duration": 89,
    "start_time": "2022-07-30T11:58:25.782Z"
   },
   {
    "duration": 11,
    "start_time": "2022-07-30T11:58:25.874Z"
   },
   {
    "duration": 7,
    "start_time": "2022-07-30T11:58:25.886Z"
   },
   {
    "duration": 54,
    "start_time": "2022-07-30T11:58:25.894Z"
   },
   {
    "duration": 9,
    "start_time": "2022-07-30T11:58:25.950Z"
   },
   {
    "duration": 8,
    "start_time": "2022-07-30T11:58:25.961Z"
   },
   {
    "duration": 5,
    "start_time": "2022-07-30T11:58:25.971Z"
   },
   {
    "duration": 5,
    "start_time": "2022-07-30T11:58:25.977Z"
   },
   {
    "duration": 5,
    "start_time": "2022-07-30T11:58:25.983Z"
   },
   {
    "duration": 4,
    "start_time": "2022-07-30T11:58:25.990Z"
   },
   {
    "duration": 4,
    "start_time": "2022-07-30T11:58:25.995Z"
   },
   {
    "duration": 4,
    "start_time": "2022-07-30T11:58:26.001Z"
   },
   {
    "duration": 13,
    "start_time": "2022-07-30T11:58:26.006Z"
   },
   {
    "duration": 15,
    "start_time": "2022-07-30T11:58:26.020Z"
   },
   {
    "duration": 10,
    "start_time": "2022-07-30T11:58:26.036Z"
   },
   {
    "duration": 171,
    "start_time": "2022-07-30T11:58:26.047Z"
   },
   {
    "duration": 14,
    "start_time": "2022-07-30T11:58:26.219Z"
   },
   {
    "duration": 135,
    "start_time": "2022-07-30T11:58:26.235Z"
   },
   {
    "duration": 7,
    "start_time": "2022-07-30T11:58:26.372Z"
   },
   {
    "duration": 7,
    "start_time": "2022-07-30T11:58:26.382Z"
   },
   {
    "duration": 18,
    "start_time": "2022-07-30T11:58:26.390Z"
   },
   {
    "duration": 285,
    "start_time": "2022-07-30T11:58:26.409Z"
   },
   {
    "duration": 205,
    "start_time": "2022-07-30T11:58:26.696Z"
   },
   {
    "duration": 322,
    "start_time": "2022-07-30T11:58:26.903Z"
   },
   {
    "duration": 218,
    "start_time": "2022-07-30T11:58:27.227Z"
   },
   {
    "duration": 320,
    "start_time": "2022-07-30T11:58:27.447Z"
   },
   {
    "duration": 137,
    "start_time": "2022-07-30T11:58:27.769Z"
   },
   {
    "duration": 5,
    "start_time": "2022-07-30T11:58:27.907Z"
   },
   {
    "duration": 130,
    "start_time": "2022-07-30T11:58:27.913Z"
   },
   {
    "duration": 143,
    "start_time": "2022-07-30T11:58:28.045Z"
   },
   {
    "duration": 5,
    "start_time": "2022-07-30T11:58:28.190Z"
   },
   {
    "duration": 73,
    "start_time": "2022-07-30T11:58:28.196Z"
   },
   {
    "duration": 5,
    "start_time": "2022-07-30T11:58:28.270Z"
   },
   {
    "duration": 93,
    "start_time": "2022-07-30T11:58:28.276Z"
   },
   {
    "duration": 5,
    "start_time": "2022-07-30T11:58:28.371Z"
   },
   {
    "duration": 25,
    "start_time": "2022-07-30T11:58:28.377Z"
   },
   {
    "duration": 5,
    "start_time": "2022-07-30T11:58:28.403Z"
   },
   {
    "duration": 28,
    "start_time": "2022-07-30T11:58:28.409Z"
   },
   {
    "duration": 7,
    "start_time": "2022-07-30T11:58:28.438Z"
   },
   {
    "duration": 146,
    "start_time": "2022-07-30T11:58:28.446Z"
   },
   {
    "duration": 6,
    "start_time": "2022-07-30T11:58:28.594Z"
   },
   {
    "duration": 9,
    "start_time": "2022-07-30T11:58:28.601Z"
   },
   {
    "duration": 34,
    "start_time": "2022-07-30T11:58:28.612Z"
   },
   {
    "duration": 4,
    "start_time": "2022-07-30T11:58:28.647Z"
   },
   {
    "duration": 13,
    "start_time": "2022-07-30T11:58:28.653Z"
   },
   {
    "duration": 9,
    "start_time": "2022-07-30T11:58:28.667Z"
   }
  ],
  "kernelspec": {
   "display_name": "Python 3 (ipykernel)",
   "language": "python",
   "name": "python3"
  },
  "language_info": {
   "codemirror_mode": {
    "name": "ipython",
    "version": 3
   },
   "file_extension": ".py",
   "mimetype": "text/x-python",
   "name": "python",
   "nbconvert_exporter": "python",
   "pygments_lexer": "ipython3",
   "version": "3.9.12"
  },
  "toc": {
   "base_numbering": 1,
   "nav_menu": {},
   "number_sections": true,
   "sideBar": true,
   "skip_h1_title": true,
   "title_cell": "Table of Contents",
   "title_sidebar": "Contents",
   "toc_cell": false,
   "toc_position": {},
   "toc_section_display": true,
   "toc_window_display": false
  }
 },
 "nbformat": 4,
 "nbformat_minor": 2
}
