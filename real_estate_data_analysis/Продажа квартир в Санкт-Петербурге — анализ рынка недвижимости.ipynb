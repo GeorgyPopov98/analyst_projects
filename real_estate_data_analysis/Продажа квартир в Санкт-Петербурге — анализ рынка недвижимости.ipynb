{
 "cells": [
  {
   "cell_type": "markdown",
   "metadata": {},
   "source": [
    "# Продажа квартир в Санкт-Петербурге — анализ рынка недвижимости.\n",
    "\n",
    "В нашем распоряжении данные сервиса Яндекc Недвижимость — архив объявлений о продаже квартир в Санкт-Петербурге и соседних населённых пунктах за несколько лет.  "
   ]
  },
  {
   "cell_type": "markdown",
   "metadata": {},
   "source": [
    "**Цель исследования**:\n",
    "1. Определить рыночную стоимость объектов недвижимости и типичные параметры квартиры.\n",
    "\n",
    "**Ход исследования**\n",
    "Проведем предобработку данных. Проверим данные на ошибки и оценим их влияние на исследование. Затем, на этапе предобработки выявим возможность исправить самые критичные ошибки данных.\n",
    "\n",
    "Рассчитаем среднюю стоимость квадратного метра. Проведем анализ параметров квартир. Для этого построим гистограммы, боксплоты, диаграммы рассеивания.\n",
    "\n",
    "В конце напишем общий вывод.\n",
    " \n",
    "Таким образом, исследование пройдёт в несколько этапов:\n",
    " 1. Изучение общей информации.\n",
    " 2. Предобработка данных.\n",
    " 3. Расчёт и добавление результатов в таблицу.\n",
    " 4. Исследовательский анализ данных. \n",
    " 5. Общий вывод."
   ]
  },
  {
   "cell_type": "markdown",
   "metadata": {},
   "source": [
    "### Исследование объявлений о продаже квартир.\n",
    "_____\n",
    "\n",
    "###### Данное исследование разделим на несколько частей.\n",
    "\n",
    "#### Часть 1. Изучение данных из файла:\n",
    "* [1. Изученеие файлов с данными, получение общей информации, загрузка библиотек.](#1-bullet)\n",
    "#### Часть 2. Предобработка данных:\n",
    "* [1. Пропуски значений.](#2-bullet)\n",
    "* [2. Нахождение и исправление аномалий и ошибок.](#3-bullet)\n",
    "* [3. Приведение данных к нужным типам.](#4-bullet)\n",
    "#### Часть 3. Расчёт и добавление результатов в таблицу:\n",
    "* [1. Расчет цены квадратного метра квартиры.](#5-bullet)\n",
    "* [2. Создание столбцов с днями неделями, месяцев и годами публикации объявления.](#6-bullet)\n",
    "* [3. Категоризация этажности квартир.](#7-bullet)\n",
    "* [4. Вычисление соотношения между важными параметрами квартиры.](#8-bullet)\n",
    "* [5. Вычисление соотношения между площади кухни к общей площади квартиры.](#9-bullet)\n",
    "#### Часть 4. Исследовательский анализ данных:\n",
    "* [1. Изучение параметров квартиры.](#10-bullet)\n",
    "* [2. Изучение зависимостей между параметрами квартиры.](#11-bullet)\n",
    "* [3. Вычисление средней цены квадратного метра жилья.](#12-bullet)\n",
    "* [4. Анализ основных параметров жилья в центре Санкт-Петербурга.](#13-bullet)\n",
    "##### Итоги исследования"
   ]
  },
  {
   "cell_type": "markdown",
   "metadata": {},
   "source": [
    "## Изучение данных из файла"
   ]
  },
  {
   "cell_type": "markdown",
   "metadata": {},
   "source": [
    "<a id='1-bullet'></a>\n",
    "### Изучение файлов с данными, получение общей информации, загрузка библиотек."
   ]
  },
  {
   "cell_type": "code",
   "execution_count": 1,
   "metadata": {},
   "outputs": [],
   "source": [
    "import pandas as pd # импорт библиотеки pandas\n",
    "import matplotlib.pyplot as plt #импорт matplotlib"
   ]
  },
  {
   "cell_type": "markdown",
   "metadata": {},
   "source": [
    "Прочитаем файл `/datasets/data.csv` из папки `/datasets` и сохраним его в переменной `df`:"
   ]
  },
  {
   "cell_type": "code",
   "execution_count": 2,
   "metadata": {},
   "outputs": [],
   "source": [
    "df = pd.read_csv(\"D:\\\\Programs\\\\real_estate_data.csv\", sep='\\t') # чтение файла с данными и сохранение в df"
   ]
  },
  {
   "cell_type": "markdown",
   "metadata": {},
   "source": [
    "Выведем на экран первые 10 строк таблицы"
   ]
  },
  {
   "cell_type": "code",
   "execution_count": 3,
   "metadata": {},
   "outputs": [
    {
     "data": {
      "text/html": [
       "<div>\n",
       "<style scoped>\n",
       "    .dataframe tbody tr th:only-of-type {\n",
       "        vertical-align: middle;\n",
       "    }\n",
       "\n",
       "    .dataframe tbody tr th {\n",
       "        vertical-align: top;\n",
       "    }\n",
       "\n",
       "    .dataframe thead th {\n",
       "        text-align: right;\n",
       "    }\n",
       "</style>\n",
       "<table border=\"1\" class=\"dataframe\">\n",
       "  <thead>\n",
       "    <tr style=\"text-align: right;\">\n",
       "      <th></th>\n",
       "      <th>total_images</th>\n",
       "      <th>last_price</th>\n",
       "      <th>total_area</th>\n",
       "      <th>first_day_exposition</th>\n",
       "      <th>rooms</th>\n",
       "      <th>ceiling_height</th>\n",
       "      <th>floors_total</th>\n",
       "      <th>living_area</th>\n",
       "      <th>floor</th>\n",
       "      <th>is_apartment</th>\n",
       "      <th>...</th>\n",
       "      <th>kitchen_area</th>\n",
       "      <th>balcony</th>\n",
       "      <th>locality_name</th>\n",
       "      <th>airports_nearest</th>\n",
       "      <th>cityCenters_nearest</th>\n",
       "      <th>parks_around3000</th>\n",
       "      <th>parks_nearest</th>\n",
       "      <th>ponds_around3000</th>\n",
       "      <th>ponds_nearest</th>\n",
       "      <th>days_exposition</th>\n",
       "    </tr>\n",
       "  </thead>\n",
       "  <tbody>\n",
       "    <tr>\n",
       "      <th>0</th>\n",
       "      <td>20</td>\n",
       "      <td>13000000.0</td>\n",
       "      <td>108.00</td>\n",
       "      <td>2019-03-07T00:00:00</td>\n",
       "      <td>3</td>\n",
       "      <td>2.70</td>\n",
       "      <td>16.0</td>\n",
       "      <td>51.00</td>\n",
       "      <td>8</td>\n",
       "      <td>NaN</td>\n",
       "      <td>...</td>\n",
       "      <td>25.00</td>\n",
       "      <td>NaN</td>\n",
       "      <td>Санкт-Петербург</td>\n",
       "      <td>18863.0</td>\n",
       "      <td>16028.0</td>\n",
       "      <td>1.0</td>\n",
       "      <td>482.0</td>\n",
       "      <td>2.0</td>\n",
       "      <td>755.0</td>\n",
       "      <td>NaN</td>\n",
       "    </tr>\n",
       "    <tr>\n",
       "      <th>1</th>\n",
       "      <td>7</td>\n",
       "      <td>3350000.0</td>\n",
       "      <td>40.40</td>\n",
       "      <td>2018-12-04T00:00:00</td>\n",
       "      <td>1</td>\n",
       "      <td>NaN</td>\n",
       "      <td>11.0</td>\n",
       "      <td>18.60</td>\n",
       "      <td>1</td>\n",
       "      <td>NaN</td>\n",
       "      <td>...</td>\n",
       "      <td>11.00</td>\n",
       "      <td>2.0</td>\n",
       "      <td>посёлок Шушары</td>\n",
       "      <td>12817.0</td>\n",
       "      <td>18603.0</td>\n",
       "      <td>0.0</td>\n",
       "      <td>NaN</td>\n",
       "      <td>0.0</td>\n",
       "      <td>NaN</td>\n",
       "      <td>81.0</td>\n",
       "    </tr>\n",
       "    <tr>\n",
       "      <th>2</th>\n",
       "      <td>10</td>\n",
       "      <td>5196000.0</td>\n",
       "      <td>56.00</td>\n",
       "      <td>2015-08-20T00:00:00</td>\n",
       "      <td>2</td>\n",
       "      <td>NaN</td>\n",
       "      <td>5.0</td>\n",
       "      <td>34.30</td>\n",
       "      <td>4</td>\n",
       "      <td>NaN</td>\n",
       "      <td>...</td>\n",
       "      <td>8.30</td>\n",
       "      <td>0.0</td>\n",
       "      <td>Санкт-Петербург</td>\n",
       "      <td>21741.0</td>\n",
       "      <td>13933.0</td>\n",
       "      <td>1.0</td>\n",
       "      <td>90.0</td>\n",
       "      <td>2.0</td>\n",
       "      <td>574.0</td>\n",
       "      <td>558.0</td>\n",
       "    </tr>\n",
       "    <tr>\n",
       "      <th>3</th>\n",
       "      <td>0</td>\n",
       "      <td>64900000.0</td>\n",
       "      <td>159.00</td>\n",
       "      <td>2015-07-24T00:00:00</td>\n",
       "      <td>3</td>\n",
       "      <td>NaN</td>\n",
       "      <td>14.0</td>\n",
       "      <td>NaN</td>\n",
       "      <td>9</td>\n",
       "      <td>NaN</td>\n",
       "      <td>...</td>\n",
       "      <td>NaN</td>\n",
       "      <td>0.0</td>\n",
       "      <td>Санкт-Петербург</td>\n",
       "      <td>28098.0</td>\n",
       "      <td>6800.0</td>\n",
       "      <td>2.0</td>\n",
       "      <td>84.0</td>\n",
       "      <td>3.0</td>\n",
       "      <td>234.0</td>\n",
       "      <td>424.0</td>\n",
       "    </tr>\n",
       "    <tr>\n",
       "      <th>4</th>\n",
       "      <td>2</td>\n",
       "      <td>10000000.0</td>\n",
       "      <td>100.00</td>\n",
       "      <td>2018-06-19T00:00:00</td>\n",
       "      <td>2</td>\n",
       "      <td>3.03</td>\n",
       "      <td>14.0</td>\n",
       "      <td>32.00</td>\n",
       "      <td>13</td>\n",
       "      <td>NaN</td>\n",
       "      <td>...</td>\n",
       "      <td>41.00</td>\n",
       "      <td>NaN</td>\n",
       "      <td>Санкт-Петербург</td>\n",
       "      <td>31856.0</td>\n",
       "      <td>8098.0</td>\n",
       "      <td>2.0</td>\n",
       "      <td>112.0</td>\n",
       "      <td>1.0</td>\n",
       "      <td>48.0</td>\n",
       "      <td>121.0</td>\n",
       "    </tr>\n",
       "    <tr>\n",
       "      <th>5</th>\n",
       "      <td>10</td>\n",
       "      <td>2890000.0</td>\n",
       "      <td>30.40</td>\n",
       "      <td>2018-09-10T00:00:00</td>\n",
       "      <td>1</td>\n",
       "      <td>NaN</td>\n",
       "      <td>12.0</td>\n",
       "      <td>14.40</td>\n",
       "      <td>5</td>\n",
       "      <td>NaN</td>\n",
       "      <td>...</td>\n",
       "      <td>9.10</td>\n",
       "      <td>NaN</td>\n",
       "      <td>городской посёлок Янино-1</td>\n",
       "      <td>NaN</td>\n",
       "      <td>NaN</td>\n",
       "      <td>NaN</td>\n",
       "      <td>NaN</td>\n",
       "      <td>NaN</td>\n",
       "      <td>NaN</td>\n",
       "      <td>55.0</td>\n",
       "    </tr>\n",
       "    <tr>\n",
       "      <th>6</th>\n",
       "      <td>6</td>\n",
       "      <td>3700000.0</td>\n",
       "      <td>37.30</td>\n",
       "      <td>2017-11-02T00:00:00</td>\n",
       "      <td>1</td>\n",
       "      <td>NaN</td>\n",
       "      <td>26.0</td>\n",
       "      <td>10.60</td>\n",
       "      <td>6</td>\n",
       "      <td>NaN</td>\n",
       "      <td>...</td>\n",
       "      <td>14.40</td>\n",
       "      <td>1.0</td>\n",
       "      <td>посёлок Парголово</td>\n",
       "      <td>52996.0</td>\n",
       "      <td>19143.0</td>\n",
       "      <td>0.0</td>\n",
       "      <td>NaN</td>\n",
       "      <td>0.0</td>\n",
       "      <td>NaN</td>\n",
       "      <td>155.0</td>\n",
       "    </tr>\n",
       "    <tr>\n",
       "      <th>7</th>\n",
       "      <td>5</td>\n",
       "      <td>7915000.0</td>\n",
       "      <td>71.60</td>\n",
       "      <td>2019-04-18T00:00:00</td>\n",
       "      <td>2</td>\n",
       "      <td>NaN</td>\n",
       "      <td>24.0</td>\n",
       "      <td>NaN</td>\n",
       "      <td>22</td>\n",
       "      <td>NaN</td>\n",
       "      <td>...</td>\n",
       "      <td>18.90</td>\n",
       "      <td>2.0</td>\n",
       "      <td>Санкт-Петербург</td>\n",
       "      <td>23982.0</td>\n",
       "      <td>11634.0</td>\n",
       "      <td>0.0</td>\n",
       "      <td>NaN</td>\n",
       "      <td>0.0</td>\n",
       "      <td>NaN</td>\n",
       "      <td>NaN</td>\n",
       "    </tr>\n",
       "    <tr>\n",
       "      <th>8</th>\n",
       "      <td>20</td>\n",
       "      <td>2900000.0</td>\n",
       "      <td>33.16</td>\n",
       "      <td>2018-05-23T00:00:00</td>\n",
       "      <td>1</td>\n",
       "      <td>NaN</td>\n",
       "      <td>27.0</td>\n",
       "      <td>15.43</td>\n",
       "      <td>26</td>\n",
       "      <td>NaN</td>\n",
       "      <td>...</td>\n",
       "      <td>8.81</td>\n",
       "      <td>NaN</td>\n",
       "      <td>посёлок Мурино</td>\n",
       "      <td>NaN</td>\n",
       "      <td>NaN</td>\n",
       "      <td>NaN</td>\n",
       "      <td>NaN</td>\n",
       "      <td>NaN</td>\n",
       "      <td>NaN</td>\n",
       "      <td>189.0</td>\n",
       "    </tr>\n",
       "    <tr>\n",
       "      <th>9</th>\n",
       "      <td>18</td>\n",
       "      <td>5400000.0</td>\n",
       "      <td>61.00</td>\n",
       "      <td>2017-02-26T00:00:00</td>\n",
       "      <td>3</td>\n",
       "      <td>2.50</td>\n",
       "      <td>9.0</td>\n",
       "      <td>43.60</td>\n",
       "      <td>7</td>\n",
       "      <td>NaN</td>\n",
       "      <td>...</td>\n",
       "      <td>6.50</td>\n",
       "      <td>2.0</td>\n",
       "      <td>Санкт-Петербург</td>\n",
       "      <td>50898.0</td>\n",
       "      <td>15008.0</td>\n",
       "      <td>0.0</td>\n",
       "      <td>NaN</td>\n",
       "      <td>0.0</td>\n",
       "      <td>NaN</td>\n",
       "      <td>289.0</td>\n",
       "    </tr>\n",
       "  </tbody>\n",
       "</table>\n",
       "<p>10 rows × 22 columns</p>\n",
       "</div>"
      ],
      "text/plain": [
       "   total_images  last_price  total_area first_day_exposition  rooms  \\\n",
       "0            20  13000000.0      108.00  2019-03-07T00:00:00      3   \n",
       "1             7   3350000.0       40.40  2018-12-04T00:00:00      1   \n",
       "2            10   5196000.0       56.00  2015-08-20T00:00:00      2   \n",
       "3             0  64900000.0      159.00  2015-07-24T00:00:00      3   \n",
       "4             2  10000000.0      100.00  2018-06-19T00:00:00      2   \n",
       "5            10   2890000.0       30.40  2018-09-10T00:00:00      1   \n",
       "6             6   3700000.0       37.30  2017-11-02T00:00:00      1   \n",
       "7             5   7915000.0       71.60  2019-04-18T00:00:00      2   \n",
       "8            20   2900000.0       33.16  2018-05-23T00:00:00      1   \n",
       "9            18   5400000.0       61.00  2017-02-26T00:00:00      3   \n",
       "\n",
       "   ceiling_height  floors_total  living_area  floor is_apartment  ...  \\\n",
       "0            2.70          16.0        51.00      8          NaN  ...   \n",
       "1             NaN          11.0        18.60      1          NaN  ...   \n",
       "2             NaN           5.0        34.30      4          NaN  ...   \n",
       "3             NaN          14.0          NaN      9          NaN  ...   \n",
       "4            3.03          14.0        32.00     13          NaN  ...   \n",
       "5             NaN          12.0        14.40      5          NaN  ...   \n",
       "6             NaN          26.0        10.60      6          NaN  ...   \n",
       "7             NaN          24.0          NaN     22          NaN  ...   \n",
       "8             NaN          27.0        15.43     26          NaN  ...   \n",
       "9            2.50           9.0        43.60      7          NaN  ...   \n",
       "\n",
       "   kitchen_area  balcony              locality_name  airports_nearest  \\\n",
       "0         25.00      NaN            Санкт-Петербург           18863.0   \n",
       "1         11.00      2.0             посёлок Шушары           12817.0   \n",
       "2          8.30      0.0            Санкт-Петербург           21741.0   \n",
       "3           NaN      0.0            Санкт-Петербург           28098.0   \n",
       "4         41.00      NaN            Санкт-Петербург           31856.0   \n",
       "5          9.10      NaN  городской посёлок Янино-1               NaN   \n",
       "6         14.40      1.0          посёлок Парголово           52996.0   \n",
       "7         18.90      2.0            Санкт-Петербург           23982.0   \n",
       "8          8.81      NaN             посёлок Мурино               NaN   \n",
       "9          6.50      2.0            Санкт-Петербург           50898.0   \n",
       "\n",
       "  cityCenters_nearest  parks_around3000  parks_nearest  ponds_around3000  \\\n",
       "0             16028.0               1.0          482.0               2.0   \n",
       "1             18603.0               0.0            NaN               0.0   \n",
       "2             13933.0               1.0           90.0               2.0   \n",
       "3              6800.0               2.0           84.0               3.0   \n",
       "4              8098.0               2.0          112.0               1.0   \n",
       "5                 NaN               NaN            NaN               NaN   \n",
       "6             19143.0               0.0            NaN               0.0   \n",
       "7             11634.0               0.0            NaN               0.0   \n",
       "8                 NaN               NaN            NaN               NaN   \n",
       "9             15008.0               0.0            NaN               0.0   \n",
       "\n",
       "   ponds_nearest  days_exposition  \n",
       "0          755.0              NaN  \n",
       "1            NaN             81.0  \n",
       "2          574.0            558.0  \n",
       "3          234.0            424.0  \n",
       "4           48.0            121.0  \n",
       "5            NaN             55.0  \n",
       "6            NaN            155.0  \n",
       "7            NaN              NaN  \n",
       "8            NaN            189.0  \n",
       "9            NaN            289.0  \n",
       "\n",
       "[10 rows x 22 columns]"
      ]
     },
     "execution_count": 3,
     "metadata": {},
     "output_type": "execute_result"
    }
   ],
   "source": [
    "df.head(10) # получение первых 10 строк таблицы df"
   ]
  },
  {
   "cell_type": "markdown",
   "metadata": {},
   "source": [
    "Также необходимо посмотреть общую информацию о таблице"
   ]
  },
  {
   "cell_type": "code",
   "execution_count": 4,
   "metadata": {},
   "outputs": [
    {
     "name": "stdout",
     "output_type": "stream",
     "text": [
      "<class 'pandas.core.frame.DataFrame'>\n",
      "RangeIndex: 23699 entries, 0 to 23698\n",
      "Data columns (total 22 columns):\n",
      " #   Column                Non-Null Count  Dtype  \n",
      "---  ------                --------------  -----  \n",
      " 0   total_images          23699 non-null  int64  \n",
      " 1   last_price            23699 non-null  float64\n",
      " 2   total_area            23699 non-null  float64\n",
      " 3   first_day_exposition  23699 non-null  object \n",
      " 4   rooms                 23699 non-null  int64  \n",
      " 5   ceiling_height        14504 non-null  float64\n",
      " 6   floors_total          23613 non-null  float64\n",
      " 7   living_area           21796 non-null  float64\n",
      " 8   floor                 23699 non-null  int64  \n",
      " 9   is_apartment          2775 non-null   object \n",
      " 10  studio                23699 non-null  bool   \n",
      " 11  open_plan             23699 non-null  bool   \n",
      " 12  kitchen_area          21421 non-null  float64\n",
      " 13  balcony               12180 non-null  float64\n",
      " 14  locality_name         23650 non-null  object \n",
      " 15  airports_nearest      18157 non-null  float64\n",
      " 16  cityCenters_nearest   18180 non-null  float64\n",
      " 17  parks_around3000      18181 non-null  float64\n",
      " 18  parks_nearest         8079 non-null   float64\n",
      " 19  ponds_around3000      18181 non-null  float64\n",
      " 20  ponds_nearest         9110 non-null   float64\n",
      " 21  days_exposition       20518 non-null  float64\n",
      "dtypes: bool(2), float64(14), int64(3), object(3)\n",
      "memory usage: 3.7+ MB\n"
     ]
    }
   ],
   "source": [
    "df.info()"
   ]
  },
  {
   "cell_type": "markdown",
   "metadata": {},
   "source": [
    "Итак, в таблице 22 столбцы. Тип данных в столбцах — `object`, `int64`, `float64`,`bool`.\n",
    "\n",
    "Согласно документации к данным:\n",
    "* `airports_nearest`  — расстояние до ближайшего аэропорта в метрах (м)\n",
    "* `balcony` — число балконов\n",
    "* `ceiling_height` — высота потолков (м)\n",
    "* `cityCenters_nearest` — расстояние до центра города (м)\n",
    "* `days_exposition` — сколько дней было размещено объявление (от публикации до снятия)\n",
    "* `first_day_exposition` — дата публикации\n",
    "* `floor` — этаж\n",
    "* `floors_total` — всего этажей в доме\n",
    "* `is_apartment` — апартаменты (булев тип)\n",
    "* `kitchen_area` — площадь кухни в квадратных метрах (м²)\n",
    "* `last_price` — цена на момент снятия с публикации\n",
    "* `living_area` — жилая площадь в квадратных метрах (м²)\n",
    "* `locality_name` — название населённого пункта\n",
    "* `open_plan` —  свободная планировка (булев тип)\n",
    "* `parks_around3000` — число парков в радиусе 3 км\n",
    "* `parks_nearest` — расстояние до ближайшего парка (м)\n",
    "* `ponds_around3000` — число водоёмов в радиусе 3 км\n",
    "* `ponds_nearest` — расстояние до ближайшего водоёма (м)\n",
    "* `rooms` — число комнат\n",
    "* `studio` — квартира-студия (булев тип)\n",
    "* `total_area` — площадь квартиры в квадратных метрах (м²)\n",
    "* `total_images` — число фотографий квартиры в объявлении\n",
    "\n",
    "Количество ненулевых значений в столбцах различается. Значит, в данных есть пропущенные значения."
   ]
  },
  {
   "cell_type": "markdown",
   "metadata": {},
   "source": [
    "### Вывод"
   ]
  },
  {
   "cell_type": "markdown",
   "metadata": {},
   "source": [
    "В каждой строке таблицы — данные о квартирах. Часть колонок описывает информацию о самой квартире: этаж, число комнат, число балконов, площадь, высота потолков.Другие связаны с окружением. Остальные данные связаны с продажей: число фотографий в объявлении, цена.\n",
    "\n",
    "Колонка `is_apartment` имеет тип данных - `object`. Но в документации прописан тип данных - `bool`.\n",
    "\n",
    "Предварительно можно утверждать, что, данных достаточно для проверки гипотез, но встречаются пропуски в данных.\n",
    "\n",
    "Чтобы двигаться дальше, нужно устранить проблемы в данных."
   ]
  },
  {
   "cell_type": "markdown",
   "metadata": {},
   "source": [
    "## Предобработка данных"
   ]
  },
  {
   "cell_type": "markdown",
   "metadata": {},
   "source": [
    "<a id='2-bullet'></a>\n",
    "### Пропуски значений"
   ]
  },
  {
   "cell_type": "markdown",
   "metadata": {},
   "source": [
    "Посчитаем количество пропусков в данных."
   ]
  },
  {
   "cell_type": "code",
   "execution_count": 5,
   "metadata": {},
   "outputs": [
    {
     "data": {
      "text/plain": [
       "total_images                0\n",
       "last_price                  0\n",
       "total_area                  0\n",
       "first_day_exposition        0\n",
       "rooms                       0\n",
       "ceiling_height           9195\n",
       "floors_total               86\n",
       "living_area              1903\n",
       "floor                       0\n",
       "is_apartment            20924\n",
       "studio                      0\n",
       "open_plan                   0\n",
       "kitchen_area             2278\n",
       "balcony                 11519\n",
       "locality_name              49\n",
       "airports_nearest         5542\n",
       "cityCenters_nearest      5519\n",
       "parks_around3000         5518\n",
       "parks_nearest           15620\n",
       "ponds_around3000         5518\n",
       "ponds_nearest           14589\n",
       "days_exposition          3181\n",
       "dtype: int64"
      ]
     },
     "execution_count": 5,
     "metadata": {},
     "output_type": "execute_result"
    }
   ],
   "source": [
    "df.isna().sum() # подсчёт пропусков"
   ]
  },
  {
   "cell_type": "markdown",
   "metadata": {},
   "source": [
    "Отсутсвуют данные в столбцах, описывающих балконы, высоту потолков, жилую площадь, является ли квартира апартаментами, площадь кухни, название населенного пункта, расстояния до ближайщего аэропорта и центра, сколько дней было размещенно объявление."
   ]
  },
  {
   "cell_type": "markdown",
   "metadata": {},
   "source": [
    "<a id='3-bullet'></a>\n",
    "### Нахождение и исправление аномалий и ошибок."
   ]
  },
  {
   "cell_type": "markdown",
   "metadata": {},
   "source": [
    "Изучая столбец `ceiling_height`, наткнулся на аномальные значения высоты потолков:"
   ]
  },
  {
   "cell_type": "code",
   "execution_count": 6,
   "metadata": {},
   "outputs": [
    {
     "data": {
      "text/html": [
       "<div>\n",
       "<style scoped>\n",
       "    .dataframe tbody tr th:only-of-type {\n",
       "        vertical-align: middle;\n",
       "    }\n",
       "\n",
       "    .dataframe tbody tr th {\n",
       "        vertical-align: top;\n",
       "    }\n",
       "\n",
       "    .dataframe thead th {\n",
       "        text-align: right;\n",
       "    }\n",
       "</style>\n",
       "<table border=\"1\" class=\"dataframe\">\n",
       "  <thead>\n",
       "    <tr style=\"text-align: right;\">\n",
       "      <th></th>\n",
       "      <th>total_images</th>\n",
       "      <th>last_price</th>\n",
       "      <th>total_area</th>\n",
       "      <th>first_day_exposition</th>\n",
       "      <th>rooms</th>\n",
       "      <th>ceiling_height</th>\n",
       "      <th>floors_total</th>\n",
       "      <th>living_area</th>\n",
       "      <th>floor</th>\n",
       "      <th>is_apartment</th>\n",
       "      <th>...</th>\n",
       "      <th>kitchen_area</th>\n",
       "      <th>balcony</th>\n",
       "      <th>locality_name</th>\n",
       "      <th>airports_nearest</th>\n",
       "      <th>cityCenters_nearest</th>\n",
       "      <th>parks_around3000</th>\n",
       "      <th>parks_nearest</th>\n",
       "      <th>ponds_around3000</th>\n",
       "      <th>ponds_nearest</th>\n",
       "      <th>days_exposition</th>\n",
       "    </tr>\n",
       "  </thead>\n",
       "  <tbody>\n",
       "    <tr>\n",
       "      <th>22309</th>\n",
       "      <td>20</td>\n",
       "      <td>5300000.0</td>\n",
       "      <td>45.0</td>\n",
       "      <td>2017-09-30T00:00:00</td>\n",
       "      <td>1</td>\n",
       "      <td>10.3</td>\n",
       "      <td>16.0</td>\n",
       "      <td>15.5</td>\n",
       "      <td>15</td>\n",
       "      <td>NaN</td>\n",
       "      <td>...</td>\n",
       "      <td>NaN</td>\n",
       "      <td>NaN</td>\n",
       "      <td>Санкт-Петербург</td>\n",
       "      <td>36353.0</td>\n",
       "      <td>11936.0</td>\n",
       "      <td>2.0</td>\n",
       "      <td>440.0</td>\n",
       "      <td>2.0</td>\n",
       "      <td>450.0</td>\n",
       "      <td>136.0</td>\n",
       "    </tr>\n",
       "    <tr>\n",
       "      <th>15061</th>\n",
       "      <td>19</td>\n",
       "      <td>5600000.0</td>\n",
       "      <td>56.4</td>\n",
       "      <td>2018-05-11T00:00:00</td>\n",
       "      <td>2</td>\n",
       "      <td>14.0</td>\n",
       "      <td>14.0</td>\n",
       "      <td>32.4</td>\n",
       "      <td>5</td>\n",
       "      <td>NaN</td>\n",
       "      <td>...</td>\n",
       "      <td>9.1</td>\n",
       "      <td>2.0</td>\n",
       "      <td>Санкт-Петербург</td>\n",
       "      <td>14814.0</td>\n",
       "      <td>13610.0</td>\n",
       "      <td>0.0</td>\n",
       "      <td>NaN</td>\n",
       "      <td>0.0</td>\n",
       "      <td>NaN</td>\n",
       "      <td>315.0</td>\n",
       "    </tr>\n",
       "    <tr>\n",
       "      <th>17496</th>\n",
       "      <td>15</td>\n",
       "      <td>6700000.0</td>\n",
       "      <td>92.9</td>\n",
       "      <td>2019-02-19T00:00:00</td>\n",
       "      <td>3</td>\n",
       "      <td>20.0</td>\n",
       "      <td>17.0</td>\n",
       "      <td>53.2</td>\n",
       "      <td>14</td>\n",
       "      <td>NaN</td>\n",
       "      <td>...</td>\n",
       "      <td>12.0</td>\n",
       "      <td>5.0</td>\n",
       "      <td>Санкт-Петербург</td>\n",
       "      <td>16295.0</td>\n",
       "      <td>15092.0</td>\n",
       "      <td>1.0</td>\n",
       "      <td>967.0</td>\n",
       "      <td>0.0</td>\n",
       "      <td>NaN</td>\n",
       "      <td>NaN</td>\n",
       "    </tr>\n",
       "    <tr>\n",
       "      <th>20507</th>\n",
       "      <td>12</td>\n",
       "      <td>5950000.0</td>\n",
       "      <td>60.0</td>\n",
       "      <td>2018-02-19T00:00:00</td>\n",
       "      <td>2</td>\n",
       "      <td>22.6</td>\n",
       "      <td>14.0</td>\n",
       "      <td>35.0</td>\n",
       "      <td>11</td>\n",
       "      <td>NaN</td>\n",
       "      <td>...</td>\n",
       "      <td>13.0</td>\n",
       "      <td>1.0</td>\n",
       "      <td>Санкт-Петербург</td>\n",
       "      <td>27028.0</td>\n",
       "      <td>12570.0</td>\n",
       "      <td>0.0</td>\n",
       "      <td>NaN</td>\n",
       "      <td>0.0</td>\n",
       "      <td>NaN</td>\n",
       "      <td>40.0</td>\n",
       "    </tr>\n",
       "    <tr>\n",
       "      <th>5076</th>\n",
       "      <td>0</td>\n",
       "      <td>3850000.0</td>\n",
       "      <td>30.5</td>\n",
       "      <td>2018-10-03T00:00:00</td>\n",
       "      <td>1</td>\n",
       "      <td>24.0</td>\n",
       "      <td>5.0</td>\n",
       "      <td>19.5</td>\n",
       "      <td>1</td>\n",
       "      <td>True</td>\n",
       "      <td>...</td>\n",
       "      <td>5.5</td>\n",
       "      <td>NaN</td>\n",
       "      <td>Санкт-Петербург</td>\n",
       "      <td>29686.0</td>\n",
       "      <td>8389.0</td>\n",
       "      <td>3.0</td>\n",
       "      <td>397.0</td>\n",
       "      <td>1.0</td>\n",
       "      <td>578.0</td>\n",
       "      <td>7.0</td>\n",
       "    </tr>\n",
       "    <tr>\n",
       "      <th>355</th>\n",
       "      <td>17</td>\n",
       "      <td>3600000.0</td>\n",
       "      <td>55.2</td>\n",
       "      <td>2018-07-12T00:00:00</td>\n",
       "      <td>2</td>\n",
       "      <td>25.0</td>\n",
       "      <td>5.0</td>\n",
       "      <td>32.0</td>\n",
       "      <td>2</td>\n",
       "      <td>False</td>\n",
       "      <td>...</td>\n",
       "      <td>NaN</td>\n",
       "      <td>2.0</td>\n",
       "      <td>Гатчина</td>\n",
       "      <td>NaN</td>\n",
       "      <td>NaN</td>\n",
       "      <td>NaN</td>\n",
       "      <td>NaN</td>\n",
       "      <td>NaN</td>\n",
       "      <td>NaN</td>\n",
       "      <td>259.0</td>\n",
       "    </tr>\n",
       "    <tr>\n",
       "      <th>18545</th>\n",
       "      <td>6</td>\n",
       "      <td>3750000.0</td>\n",
       "      <td>43.0</td>\n",
       "      <td>2019-03-18T00:00:00</td>\n",
       "      <td>2</td>\n",
       "      <td>25.0</td>\n",
       "      <td>5.0</td>\n",
       "      <td>29.0</td>\n",
       "      <td>3</td>\n",
       "      <td>False</td>\n",
       "      <td>...</td>\n",
       "      <td>NaN</td>\n",
       "      <td>NaN</td>\n",
       "      <td>Санкт-Петербург</td>\n",
       "      <td>27054.0</td>\n",
       "      <td>8033.0</td>\n",
       "      <td>1.0</td>\n",
       "      <td>540.0</td>\n",
       "      <td>0.0</td>\n",
       "      <td>NaN</td>\n",
       "      <td>12.0</td>\n",
       "    </tr>\n",
       "    <tr>\n",
       "      <th>11285</th>\n",
       "      <td>0</td>\n",
       "      <td>1950000.0</td>\n",
       "      <td>37.0</td>\n",
       "      <td>2019-03-20T00:00:00</td>\n",
       "      <td>1</td>\n",
       "      <td>25.0</td>\n",
       "      <td>5.0</td>\n",
       "      <td>17.0</td>\n",
       "      <td>4</td>\n",
       "      <td>False</td>\n",
       "      <td>...</td>\n",
       "      <td>9.0</td>\n",
       "      <td>2.0</td>\n",
       "      <td>Луга</td>\n",
       "      <td>NaN</td>\n",
       "      <td>NaN</td>\n",
       "      <td>NaN</td>\n",
       "      <td>NaN</td>\n",
       "      <td>NaN</td>\n",
       "      <td>NaN</td>\n",
       "      <td>18.0</td>\n",
       "    </tr>\n",
       "    <tr>\n",
       "      <th>9379</th>\n",
       "      <td>5</td>\n",
       "      <td>3950000.0</td>\n",
       "      <td>42.0</td>\n",
       "      <td>2017-03-26T00:00:00</td>\n",
       "      <td>3</td>\n",
       "      <td>25.0</td>\n",
       "      <td>5.0</td>\n",
       "      <td>30.0</td>\n",
       "      <td>2</td>\n",
       "      <td>NaN</td>\n",
       "      <td>...</td>\n",
       "      <td>5.2</td>\n",
       "      <td>NaN</td>\n",
       "      <td>Санкт-Петербург</td>\n",
       "      <td>11647.0</td>\n",
       "      <td>13581.0</td>\n",
       "      <td>0.0</td>\n",
       "      <td>NaN</td>\n",
       "      <td>0.0</td>\n",
       "      <td>NaN</td>\n",
       "      <td>NaN</td>\n",
       "    </tr>\n",
       "    <tr>\n",
       "      <th>14382</th>\n",
       "      <td>9</td>\n",
       "      <td>1700000.0</td>\n",
       "      <td>35.0</td>\n",
       "      <td>2015-12-04T00:00:00</td>\n",
       "      <td>1</td>\n",
       "      <td>25.0</td>\n",
       "      <td>5.0</td>\n",
       "      <td>20.0</td>\n",
       "      <td>2</td>\n",
       "      <td>False</td>\n",
       "      <td>...</td>\n",
       "      <td>8.0</td>\n",
       "      <td>1.0</td>\n",
       "      <td>поселок Новый Свет</td>\n",
       "      <td>NaN</td>\n",
       "      <td>NaN</td>\n",
       "      <td>NaN</td>\n",
       "      <td>NaN</td>\n",
       "      <td>NaN</td>\n",
       "      <td>NaN</td>\n",
       "      <td>206.0</td>\n",
       "    </tr>\n",
       "    <tr>\n",
       "      <th>4643</th>\n",
       "      <td>0</td>\n",
       "      <td>4300000.0</td>\n",
       "      <td>45.0</td>\n",
       "      <td>2018-02-01T00:00:00</td>\n",
       "      <td>2</td>\n",
       "      <td>25.0</td>\n",
       "      <td>9.0</td>\n",
       "      <td>30.0</td>\n",
       "      <td>2</td>\n",
       "      <td>NaN</td>\n",
       "      <td>...</td>\n",
       "      <td>7.0</td>\n",
       "      <td>1.0</td>\n",
       "      <td>Санкт-Петербург</td>\n",
       "      <td>12016.0</td>\n",
       "      <td>13256.0</td>\n",
       "      <td>1.0</td>\n",
       "      <td>658.0</td>\n",
       "      <td>1.0</td>\n",
       "      <td>331.0</td>\n",
       "      <td>181.0</td>\n",
       "    </tr>\n",
       "    <tr>\n",
       "      <th>6246</th>\n",
       "      <td>6</td>\n",
       "      <td>3300000.0</td>\n",
       "      <td>44.4</td>\n",
       "      <td>2019-03-25T00:00:00</td>\n",
       "      <td>2</td>\n",
       "      <td>25.0</td>\n",
       "      <td>5.0</td>\n",
       "      <td>31.3</td>\n",
       "      <td>5</td>\n",
       "      <td>NaN</td>\n",
       "      <td>...</td>\n",
       "      <td>5.7</td>\n",
       "      <td>NaN</td>\n",
       "      <td>Кронштадт</td>\n",
       "      <td>68923.0</td>\n",
       "      <td>50649.0</td>\n",
       "      <td>1.0</td>\n",
       "      <td>417.0</td>\n",
       "      <td>2.0</td>\n",
       "      <td>73.0</td>\n",
       "      <td>NaN</td>\n",
       "    </tr>\n",
       "    <tr>\n",
       "      <th>5669</th>\n",
       "      <td>4</td>\n",
       "      <td>4400000.0</td>\n",
       "      <td>50.0</td>\n",
       "      <td>2017-08-08T00:00:00</td>\n",
       "      <td>2</td>\n",
       "      <td>26.0</td>\n",
       "      <td>9.0</td>\n",
       "      <td>21.3</td>\n",
       "      <td>3</td>\n",
       "      <td>NaN</td>\n",
       "      <td>...</td>\n",
       "      <td>7.0</td>\n",
       "      <td>2.0</td>\n",
       "      <td>Санкт-Петербург</td>\n",
       "      <td>28981.0</td>\n",
       "      <td>10912.0</td>\n",
       "      <td>1.0</td>\n",
       "      <td>305.0</td>\n",
       "      <td>0.0</td>\n",
       "      <td>NaN</td>\n",
       "      <td>267.0</td>\n",
       "    </tr>\n",
       "    <tr>\n",
       "      <th>10773</th>\n",
       "      <td>8</td>\n",
       "      <td>3800000.0</td>\n",
       "      <td>58.0</td>\n",
       "      <td>2017-10-13T00:00:00</td>\n",
       "      <td>2</td>\n",
       "      <td>27.0</td>\n",
       "      <td>10.0</td>\n",
       "      <td>30.1</td>\n",
       "      <td>3</td>\n",
       "      <td>False</td>\n",
       "      <td>...</td>\n",
       "      <td>8.1</td>\n",
       "      <td>2.0</td>\n",
       "      <td>посёлок Мурино</td>\n",
       "      <td>NaN</td>\n",
       "      <td>NaN</td>\n",
       "      <td>NaN</td>\n",
       "      <td>NaN</td>\n",
       "      <td>NaN</td>\n",
       "      <td>NaN</td>\n",
       "      <td>71.0</td>\n",
       "    </tr>\n",
       "    <tr>\n",
       "      <th>5807</th>\n",
       "      <td>17</td>\n",
       "      <td>8150000.0</td>\n",
       "      <td>80.0</td>\n",
       "      <td>2019-01-09T00:00:00</td>\n",
       "      <td>2</td>\n",
       "      <td>27.0</td>\n",
       "      <td>36.0</td>\n",
       "      <td>41.0</td>\n",
       "      <td>13</td>\n",
       "      <td>NaN</td>\n",
       "      <td>...</td>\n",
       "      <td>12.0</td>\n",
       "      <td>5.0</td>\n",
       "      <td>Санкт-Петербург</td>\n",
       "      <td>18732.0</td>\n",
       "      <td>20444.0</td>\n",
       "      <td>0.0</td>\n",
       "      <td>NaN</td>\n",
       "      <td>3.0</td>\n",
       "      <td>80.0</td>\n",
       "      <td>38.0</td>\n",
       "    </tr>\n",
       "    <tr>\n",
       "      <th>5246</th>\n",
       "      <td>0</td>\n",
       "      <td>2500000.0</td>\n",
       "      <td>54.0</td>\n",
       "      <td>2017-10-13T00:00:00</td>\n",
       "      <td>2</td>\n",
       "      <td>27.0</td>\n",
       "      <td>5.0</td>\n",
       "      <td>30.0</td>\n",
       "      <td>3</td>\n",
       "      <td>NaN</td>\n",
       "      <td>...</td>\n",
       "      <td>9.0</td>\n",
       "      <td>2.0</td>\n",
       "      <td>деревня Мины</td>\n",
       "      <td>NaN</td>\n",
       "      <td>NaN</td>\n",
       "      <td>NaN</td>\n",
       "      <td>NaN</td>\n",
       "      <td>NaN</td>\n",
       "      <td>NaN</td>\n",
       "      <td>540.0</td>\n",
       "    </tr>\n",
       "    <tr>\n",
       "      <th>17857</th>\n",
       "      <td>1</td>\n",
       "      <td>3900000.0</td>\n",
       "      <td>56.0</td>\n",
       "      <td>2017-12-22T00:00:00</td>\n",
       "      <td>3</td>\n",
       "      <td>27.0</td>\n",
       "      <td>5.0</td>\n",
       "      <td>33.0</td>\n",
       "      <td>4</td>\n",
       "      <td>False</td>\n",
       "      <td>...</td>\n",
       "      <td>NaN</td>\n",
       "      <td>NaN</td>\n",
       "      <td>Санкт-Петербург</td>\n",
       "      <td>41030.0</td>\n",
       "      <td>15543.0</td>\n",
       "      <td>0.0</td>\n",
       "      <td>NaN</td>\n",
       "      <td>0.0</td>\n",
       "      <td>NaN</td>\n",
       "      <td>73.0</td>\n",
       "    </tr>\n",
       "    <tr>\n",
       "      <th>4876</th>\n",
       "      <td>7</td>\n",
       "      <td>3000000.0</td>\n",
       "      <td>25.0</td>\n",
       "      <td>2017-09-27T00:00:00</td>\n",
       "      <td>0</td>\n",
       "      <td>27.0</td>\n",
       "      <td>25.0</td>\n",
       "      <td>17.0</td>\n",
       "      <td>17</td>\n",
       "      <td>NaN</td>\n",
       "      <td>...</td>\n",
       "      <td>NaN</td>\n",
       "      <td>2.0</td>\n",
       "      <td>посёлок Мурино</td>\n",
       "      <td>NaN</td>\n",
       "      <td>NaN</td>\n",
       "      <td>NaN</td>\n",
       "      <td>NaN</td>\n",
       "      <td>NaN</td>\n",
       "      <td>NaN</td>\n",
       "      <td>28.0</td>\n",
       "    </tr>\n",
       "    <tr>\n",
       "      <th>20478</th>\n",
       "      <td>11</td>\n",
       "      <td>8000000.0</td>\n",
       "      <td>45.0</td>\n",
       "      <td>2017-07-18T00:00:00</td>\n",
       "      <td>1</td>\n",
       "      <td>27.0</td>\n",
       "      <td>4.0</td>\n",
       "      <td>22.0</td>\n",
       "      <td>2</td>\n",
       "      <td>NaN</td>\n",
       "      <td>...</td>\n",
       "      <td>10.0</td>\n",
       "      <td>1.0</td>\n",
       "      <td>Санкт-Петербург</td>\n",
       "      <td>18975.0</td>\n",
       "      <td>3246.0</td>\n",
       "      <td>0.0</td>\n",
       "      <td>NaN</td>\n",
       "      <td>3.0</td>\n",
       "      <td>449.0</td>\n",
       "      <td>429.0</td>\n",
       "    </tr>\n",
       "    <tr>\n",
       "      <th>21824</th>\n",
       "      <td>20</td>\n",
       "      <td>2450000.0</td>\n",
       "      <td>44.0</td>\n",
       "      <td>2019-02-12T00:00:00</td>\n",
       "      <td>2</td>\n",
       "      <td>27.0</td>\n",
       "      <td>2.0</td>\n",
       "      <td>38.0</td>\n",
       "      <td>2</td>\n",
       "      <td>False</td>\n",
       "      <td>...</td>\n",
       "      <td>8.6</td>\n",
       "      <td>2.0</td>\n",
       "      <td>городской поселок Большая Ижора</td>\n",
       "      <td>NaN</td>\n",
       "      <td>NaN</td>\n",
       "      <td>NaN</td>\n",
       "      <td>NaN</td>\n",
       "      <td>NaN</td>\n",
       "      <td>NaN</td>\n",
       "      <td>NaN</td>\n",
       "    </tr>\n",
       "    <tr>\n",
       "      <th>22938</th>\n",
       "      <td>14</td>\n",
       "      <td>4000000.0</td>\n",
       "      <td>98.0</td>\n",
       "      <td>2018-03-15T00:00:00</td>\n",
       "      <td>4</td>\n",
       "      <td>27.0</td>\n",
       "      <td>2.0</td>\n",
       "      <td>73.0</td>\n",
       "      <td>2</td>\n",
       "      <td>True</td>\n",
       "      <td>...</td>\n",
       "      <td>9.0</td>\n",
       "      <td>1.0</td>\n",
       "      <td>деревня Нижняя</td>\n",
       "      <td>NaN</td>\n",
       "      <td>NaN</td>\n",
       "      <td>NaN</td>\n",
       "      <td>NaN</td>\n",
       "      <td>NaN</td>\n",
       "      <td>NaN</td>\n",
       "      <td>27.0</td>\n",
       "    </tr>\n",
       "    <tr>\n",
       "      <th>21377</th>\n",
       "      <td>19</td>\n",
       "      <td>4900000.0</td>\n",
       "      <td>42.0</td>\n",
       "      <td>2017-04-18T00:00:00</td>\n",
       "      <td>1</td>\n",
       "      <td>27.5</td>\n",
       "      <td>24.0</td>\n",
       "      <td>37.7</td>\n",
       "      <td>19</td>\n",
       "      <td>False</td>\n",
       "      <td>...</td>\n",
       "      <td>11.0</td>\n",
       "      <td>2.0</td>\n",
       "      <td>Санкт-Петербург</td>\n",
       "      <td>42742.0</td>\n",
       "      <td>9760.0</td>\n",
       "      <td>0.0</td>\n",
       "      <td>NaN</td>\n",
       "      <td>0.0</td>\n",
       "      <td>NaN</td>\n",
       "      <td>61.0</td>\n",
       "    </tr>\n",
       "    <tr>\n",
       "      <th>3148</th>\n",
       "      <td>14</td>\n",
       "      <td>2900000.0</td>\n",
       "      <td>75.0</td>\n",
       "      <td>2018-11-12T00:00:00</td>\n",
       "      <td>3</td>\n",
       "      <td>32.0</td>\n",
       "      <td>3.0</td>\n",
       "      <td>53.0</td>\n",
       "      <td>2</td>\n",
       "      <td>NaN</td>\n",
       "      <td>...</td>\n",
       "      <td>8.0</td>\n",
       "      <td>NaN</td>\n",
       "      <td>Волхов</td>\n",
       "      <td>NaN</td>\n",
       "      <td>NaN</td>\n",
       "      <td>NaN</td>\n",
       "      <td>NaN</td>\n",
       "      <td>NaN</td>\n",
       "      <td>NaN</td>\n",
       "      <td>NaN</td>\n",
       "    </tr>\n",
       "    <tr>\n",
       "      <th>22336</th>\n",
       "      <td>19</td>\n",
       "      <td>9999000.0</td>\n",
       "      <td>92.4</td>\n",
       "      <td>2019-04-05T00:00:00</td>\n",
       "      <td>2</td>\n",
       "      <td>32.0</td>\n",
       "      <td>6.0</td>\n",
       "      <td>55.5</td>\n",
       "      <td>5</td>\n",
       "      <td>False</td>\n",
       "      <td>...</td>\n",
       "      <td>16.5</td>\n",
       "      <td>4.0</td>\n",
       "      <td>Санкт-Петербург</td>\n",
       "      <td>18838.0</td>\n",
       "      <td>3506.0</td>\n",
       "      <td>0.0</td>\n",
       "      <td>NaN</td>\n",
       "      <td>3.0</td>\n",
       "      <td>511.0</td>\n",
       "      <td>NaN</td>\n",
       "    </tr>\n",
       "    <tr>\n",
       "      <th>22869</th>\n",
       "      <td>0</td>\n",
       "      <td>15000000.0</td>\n",
       "      <td>25.0</td>\n",
       "      <td>2018-07-25T00:00:00</td>\n",
       "      <td>1</td>\n",
       "      <td>100.0</td>\n",
       "      <td>5.0</td>\n",
       "      <td>14.0</td>\n",
       "      <td>5</td>\n",
       "      <td>True</td>\n",
       "      <td>...</td>\n",
       "      <td>11.0</td>\n",
       "      <td>5.0</td>\n",
       "      <td>Санкт-Петербург</td>\n",
       "      <td>34963.0</td>\n",
       "      <td>8283.0</td>\n",
       "      <td>1.0</td>\n",
       "      <td>223.0</td>\n",
       "      <td>3.0</td>\n",
       "      <td>30.0</td>\n",
       "      <td>19.0</td>\n",
       "    </tr>\n",
       "  </tbody>\n",
       "</table>\n",
       "<p>25 rows × 22 columns</p>\n",
       "</div>"
      ],
      "text/plain": [
       "       total_images  last_price  total_area first_day_exposition  rooms  \\\n",
       "22309            20   5300000.0        45.0  2017-09-30T00:00:00      1   \n",
       "15061            19   5600000.0        56.4  2018-05-11T00:00:00      2   \n",
       "17496            15   6700000.0        92.9  2019-02-19T00:00:00      3   \n",
       "20507            12   5950000.0        60.0  2018-02-19T00:00:00      2   \n",
       "5076              0   3850000.0        30.5  2018-10-03T00:00:00      1   \n",
       "355              17   3600000.0        55.2  2018-07-12T00:00:00      2   \n",
       "18545             6   3750000.0        43.0  2019-03-18T00:00:00      2   \n",
       "11285             0   1950000.0        37.0  2019-03-20T00:00:00      1   \n",
       "9379              5   3950000.0        42.0  2017-03-26T00:00:00      3   \n",
       "14382             9   1700000.0        35.0  2015-12-04T00:00:00      1   \n",
       "4643              0   4300000.0        45.0  2018-02-01T00:00:00      2   \n",
       "6246              6   3300000.0        44.4  2019-03-25T00:00:00      2   \n",
       "5669              4   4400000.0        50.0  2017-08-08T00:00:00      2   \n",
       "10773             8   3800000.0        58.0  2017-10-13T00:00:00      2   \n",
       "5807             17   8150000.0        80.0  2019-01-09T00:00:00      2   \n",
       "5246              0   2500000.0        54.0  2017-10-13T00:00:00      2   \n",
       "17857             1   3900000.0        56.0  2017-12-22T00:00:00      3   \n",
       "4876              7   3000000.0        25.0  2017-09-27T00:00:00      0   \n",
       "20478            11   8000000.0        45.0  2017-07-18T00:00:00      1   \n",
       "21824            20   2450000.0        44.0  2019-02-12T00:00:00      2   \n",
       "22938            14   4000000.0        98.0  2018-03-15T00:00:00      4   \n",
       "21377            19   4900000.0        42.0  2017-04-18T00:00:00      1   \n",
       "3148             14   2900000.0        75.0  2018-11-12T00:00:00      3   \n",
       "22336            19   9999000.0        92.4  2019-04-05T00:00:00      2   \n",
       "22869             0  15000000.0        25.0  2018-07-25T00:00:00      1   \n",
       "\n",
       "       ceiling_height  floors_total  living_area  floor is_apartment  ...  \\\n",
       "22309            10.3          16.0         15.5     15          NaN  ...   \n",
       "15061            14.0          14.0         32.4      5          NaN  ...   \n",
       "17496            20.0          17.0         53.2     14          NaN  ...   \n",
       "20507            22.6          14.0         35.0     11          NaN  ...   \n",
       "5076             24.0           5.0         19.5      1         True  ...   \n",
       "355              25.0           5.0         32.0      2        False  ...   \n",
       "18545            25.0           5.0         29.0      3        False  ...   \n",
       "11285            25.0           5.0         17.0      4        False  ...   \n",
       "9379             25.0           5.0         30.0      2          NaN  ...   \n",
       "14382            25.0           5.0         20.0      2        False  ...   \n",
       "4643             25.0           9.0         30.0      2          NaN  ...   \n",
       "6246             25.0           5.0         31.3      5          NaN  ...   \n",
       "5669             26.0           9.0         21.3      3          NaN  ...   \n",
       "10773            27.0          10.0         30.1      3        False  ...   \n",
       "5807             27.0          36.0         41.0     13          NaN  ...   \n",
       "5246             27.0           5.0         30.0      3          NaN  ...   \n",
       "17857            27.0           5.0         33.0      4        False  ...   \n",
       "4876             27.0          25.0         17.0     17          NaN  ...   \n",
       "20478            27.0           4.0         22.0      2          NaN  ...   \n",
       "21824            27.0           2.0         38.0      2        False  ...   \n",
       "22938            27.0           2.0         73.0      2         True  ...   \n",
       "21377            27.5          24.0         37.7     19        False  ...   \n",
       "3148             32.0           3.0         53.0      2          NaN  ...   \n",
       "22336            32.0           6.0         55.5      5        False  ...   \n",
       "22869           100.0           5.0         14.0      5         True  ...   \n",
       "\n",
       "       kitchen_area  balcony                    locality_name  \\\n",
       "22309           NaN      NaN                  Санкт-Петербург   \n",
       "15061           9.1      2.0                  Санкт-Петербург   \n",
       "17496          12.0      5.0                  Санкт-Петербург   \n",
       "20507          13.0      1.0                  Санкт-Петербург   \n",
       "5076            5.5      NaN                  Санкт-Петербург   \n",
       "355             NaN      2.0                          Гатчина   \n",
       "18545           NaN      NaN                  Санкт-Петербург   \n",
       "11285           9.0      2.0                             Луга   \n",
       "9379            5.2      NaN                  Санкт-Петербург   \n",
       "14382           8.0      1.0               поселок Новый Свет   \n",
       "4643            7.0      1.0                  Санкт-Петербург   \n",
       "6246            5.7      NaN                        Кронштадт   \n",
       "5669            7.0      2.0                  Санкт-Петербург   \n",
       "10773           8.1      2.0                   посёлок Мурино   \n",
       "5807           12.0      5.0                  Санкт-Петербург   \n",
       "5246            9.0      2.0                     деревня Мины   \n",
       "17857           NaN      NaN                  Санкт-Петербург   \n",
       "4876            NaN      2.0                   посёлок Мурино   \n",
       "20478          10.0      1.0                  Санкт-Петербург   \n",
       "21824           8.6      2.0  городской поселок Большая Ижора   \n",
       "22938           9.0      1.0                   деревня Нижняя   \n",
       "21377          11.0      2.0                  Санкт-Петербург   \n",
       "3148            8.0      NaN                           Волхов   \n",
       "22336          16.5      4.0                  Санкт-Петербург   \n",
       "22869          11.0      5.0                  Санкт-Петербург   \n",
       "\n",
       "       airports_nearest cityCenters_nearest  parks_around3000  parks_nearest  \\\n",
       "22309           36353.0             11936.0               2.0          440.0   \n",
       "15061           14814.0             13610.0               0.0            NaN   \n",
       "17496           16295.0             15092.0               1.0          967.0   \n",
       "20507           27028.0             12570.0               0.0            NaN   \n",
       "5076            29686.0              8389.0               3.0          397.0   \n",
       "355                 NaN                 NaN               NaN            NaN   \n",
       "18545           27054.0              8033.0               1.0          540.0   \n",
       "11285               NaN                 NaN               NaN            NaN   \n",
       "9379            11647.0             13581.0               0.0            NaN   \n",
       "14382               NaN                 NaN               NaN            NaN   \n",
       "4643            12016.0             13256.0               1.0          658.0   \n",
       "6246            68923.0             50649.0               1.0          417.0   \n",
       "5669            28981.0             10912.0               1.0          305.0   \n",
       "10773               NaN                 NaN               NaN            NaN   \n",
       "5807            18732.0             20444.0               0.0            NaN   \n",
       "5246                NaN                 NaN               NaN            NaN   \n",
       "17857           41030.0             15543.0               0.0            NaN   \n",
       "4876                NaN                 NaN               NaN            NaN   \n",
       "20478           18975.0              3246.0               0.0            NaN   \n",
       "21824               NaN                 NaN               NaN            NaN   \n",
       "22938               NaN                 NaN               NaN            NaN   \n",
       "21377           42742.0              9760.0               0.0            NaN   \n",
       "3148                NaN                 NaN               NaN            NaN   \n",
       "22336           18838.0              3506.0               0.0            NaN   \n",
       "22869           34963.0              8283.0               1.0          223.0   \n",
       "\n",
       "       ponds_around3000  ponds_nearest  days_exposition  \n",
       "22309               2.0          450.0            136.0  \n",
       "15061               0.0            NaN            315.0  \n",
       "17496               0.0            NaN              NaN  \n",
       "20507               0.0            NaN             40.0  \n",
       "5076                1.0          578.0              7.0  \n",
       "355                 NaN            NaN            259.0  \n",
       "18545               0.0            NaN             12.0  \n",
       "11285               NaN            NaN             18.0  \n",
       "9379                0.0            NaN              NaN  \n",
       "14382               NaN            NaN            206.0  \n",
       "4643                1.0          331.0            181.0  \n",
       "6246                2.0           73.0              NaN  \n",
       "5669                0.0            NaN            267.0  \n",
       "10773               NaN            NaN             71.0  \n",
       "5807                3.0           80.0             38.0  \n",
       "5246                NaN            NaN            540.0  \n",
       "17857               0.0            NaN             73.0  \n",
       "4876                NaN            NaN             28.0  \n",
       "20478               3.0          449.0            429.0  \n",
       "21824               NaN            NaN              NaN  \n",
       "22938               NaN            NaN             27.0  \n",
       "21377               0.0            NaN             61.0  \n",
       "3148                NaN            NaN              NaN  \n",
       "22336               3.0          511.0              NaN  \n",
       "22869               3.0           30.0             19.0  \n",
       "\n",
       "[25 rows x 22 columns]"
      ]
     },
     "execution_count": 6,
     "metadata": {},
     "output_type": "execute_result"
    }
   ],
   "source": [
    "df.query('ceiling_height > 10').sort_values(by='ceiling_height')"
   ]
  },
  {
   "cell_type": "markdown",
   "metadata": {},
   "source": [
    "Высоты потолка в 20 метров и более не бывает. Скорее всего неверно были введены данные. Разделим значение высоты потолка на 10, чтобы получить адекватную высоту потолка."
   ]
  },
  {
   "cell_type": "code",
   "execution_count": 7,
   "metadata": {},
   "outputs": [],
   "source": [
    "for index in range(len(df['ceiling_height'])):\n",
    "    if df.loc[index,'ceiling_height'] >=20:\n",
    "        df.loc[index,'ceiling_height'] = df.loc[index,'ceiling_height']/10              "
   ]
  },
  {
   "cell_type": "code",
   "execution_count": 8,
   "metadata": {},
   "outputs": [],
   "source": [
    "df['cityCenters_nearest_km'] = df['cityCenters_nearest'] "
   ]
  },
  {
   "cell_type": "code",
   "execution_count": 9,
   "metadata": {},
   "outputs": [],
   "source": [
    "for index in range(len(df['cityCenters_nearest'])):\n",
    "    df.loc[index,'cityCenters_nearest_km'] = df.loc[index,'cityCenters_nearest']/1000   "
   ]
  },
  {
   "cell_type": "code",
   "execution_count": 10,
   "metadata": {},
   "outputs": [],
   "source": [
    "df['cityCenters_nearest_km'] = df['cityCenters_nearest_km'].round(0)"
   ]
  },
  {
   "cell_type": "markdown",
   "metadata": {},
   "source": [
    "Заполним пропуски в столбце `ceiling_height` стандартным значением высоты потолка - 2,6 м:"
   ]
  },
  {
   "cell_type": "code",
   "execution_count": 11,
   "metadata": {},
   "outputs": [],
   "source": [
    "df['ceiling_height'] = df['ceiling_height'].fillna(2.6)"
   ]
  },
  {
   "cell_type": "markdown",
   "metadata": {},
   "source": [
    "Пропущенные значения в столбце `floors_total` заполнить не удастся, так как невозможно узнать количество этажей в доме или заменить его каким-либо значением."
   ]
  },
  {
   "cell_type": "markdown",
   "metadata": {},
   "source": [
    "<a id='4-bullet'></a>\n",
    "### Приведение данных к нужным типам."
   ]
  },
  {
   "cell_type": "markdown",
   "metadata": {},
   "source": [
    "Колонка `is_apartment` имеет тип данных - `object`. Но в документации прописан тип данных - `bool`. Изменим тип данных согласно документации."
   ]
  },
  {
   "cell_type": "code",
   "execution_count": 12,
   "metadata": {},
   "outputs": [],
   "source": [
    "df['is_apartment'] = df['is_apartment'].astype('bool')"
   ]
  },
  {
   "cell_type": "markdown",
   "metadata": {},
   "source": [
    "В столбеце `is_apartment` пропуски логичнее заполнить значением `False`, так как в этих строках квартиры вероятно не являтся апартаментами."
   ]
  },
  {
   "cell_type": "code",
   "execution_count": 13,
   "metadata": {},
   "outputs": [],
   "source": [
    "df['is_apartment'] = df['is_apartment'].fillna(False)"
   ]
  },
  {
   "cell_type": "markdown",
   "metadata": {},
   "source": [
    "В столбеце `balcony` пропуски логичнее заполнить значением `0`, так как в этих строках в квартирах вероятно нет балконов."
   ]
  },
  {
   "cell_type": "code",
   "execution_count": 14,
   "metadata": {},
   "outputs": [],
   "source": [
    "df['balcony'] = df['balcony'].fillna(0)"
   ]
  },
  {
   "cell_type": "markdown",
   "metadata": {},
   "source": [
    "Доля пропусков в столбцах `living_area` и `kitchen_area` состявляет около 9%. Пропуски данных могут быть связаны с тем, что некоторы люди не заполнили эти данные в своих анкетах. Пропущенные значения в столбцах можно заменить медианым значением по каждому типу квартиры, так как наши данные не однородны."
   ]
  },
  {
   "cell_type": "code",
   "execution_count": 15,
   "metadata": {},
   "outputs": [],
   "source": [
    "df['living_area'] = df['living_area'].fillna(df.groupby('rooms')['living_area'].transform('median'))"
   ]
  },
  {
   "cell_type": "code",
   "execution_count": 16,
   "metadata": {},
   "outputs": [],
   "source": [
    "df['kitchen_area'] = df['kitchen_area'].fillna(df.groupby('rooms')['kitchen_area'].transform('median'))"
   ]
  },
  {
   "cell_type": "markdown",
   "metadata": {},
   "source": [
    "Столбец `first_day_exposition` имеет неправильный тип данных. Поменяем его на формат  `datetime`:"
   ]
  },
  {
   "cell_type": "code",
   "execution_count": 17,
   "metadata": {},
   "outputs": [],
   "source": [
    "df['first_day_exposition'] = pd.to_datetime(df['first_day_exposition'], format='%Y-%m-%dT%H:%M:%S')"
   ]
  },
  {
   "cell_type": "code",
   "execution_count": 18,
   "metadata": {},
   "outputs": [
    {
     "data": {
      "text/plain": [
       "total_images                  0\n",
       "last_price                    0\n",
       "total_area                    0\n",
       "first_day_exposition          0\n",
       "rooms                         0\n",
       "ceiling_height                0\n",
       "floors_total                 86\n",
       "living_area                   0\n",
       "floor                         0\n",
       "is_apartment                  0\n",
       "studio                        0\n",
       "open_plan                     0\n",
       "kitchen_area                197\n",
       "balcony                       0\n",
       "locality_name                49\n",
       "airports_nearest           5542\n",
       "cityCenters_nearest        5519\n",
       "parks_around3000           5518\n",
       "parks_nearest             15620\n",
       "ponds_around3000           5518\n",
       "ponds_nearest             14589\n",
       "days_exposition            3181\n",
       "cityCenters_nearest_km     5519\n",
       "dtype: int64"
      ]
     },
     "execution_count": 18,
     "metadata": {},
     "output_type": "execute_result"
    }
   ],
   "source": [
    "df.isna().sum()"
   ]
  },
  {
   "cell_type": "markdown",
   "metadata": {},
   "source": [
    "Пропуски в большинстве столбцов были заполнены медианным или стандартным значением. Пропуски в столбцах, взятых на основе картографических данных, невозможно заполнить, так как у нас нет данных нет данных адреса квартиры. Столбцы, имеющие неправильный тип данных, были отфарматированы."
   ]
  },
  {
   "cell_type": "markdown",
   "metadata": {},
   "source": [
    "## Расчёты и добавление результатов в таблицу"
   ]
  },
  {
   "cell_type": "markdown",
   "metadata": {},
   "source": [
    "<a id='5-bullet'></a>\n",
    "### Расчет цены квадратного метра квартиры."
   ]
  },
  {
   "cell_type": "markdown",
   "metadata": {},
   "source": [
    "Рассчитаем цену за квадратный метр:"
   ]
  },
  {
   "cell_type": "code",
   "execution_count": 19,
   "metadata": {},
   "outputs": [],
   "source": [
    "df['area_price'] = df['last_price']/df['total_area'] #добавление стоимости квадратного метра в таблицу"
   ]
  },
  {
   "cell_type": "markdown",
   "metadata": {},
   "source": [
    "<a id='6-bullet'></a>\n",
    "### Создание столбцов с днями неделями, месяцев и годами публикации объявления."
   ]
  },
  {
   "cell_type": "code",
   "execution_count": 20,
   "metadata": {},
   "outputs": [],
   "source": [
    "df['weekday_exposition'] = df['first_day_exposition'].dt.weekday #добавление дня недели в таблицу"
   ]
  },
  {
   "cell_type": "code",
   "execution_count": 21,
   "metadata": {},
   "outputs": [],
   "source": [
    "df['month_exposition'] = df['first_day_exposition'].dt.month #добавление  месяца в таблицу"
   ]
  },
  {
   "cell_type": "code",
   "execution_count": 22,
   "metadata": {},
   "outputs": [],
   "source": [
    "df['year_exposition'] = df['first_day_exposition'].dt.year #добавление года в таблицу"
   ]
  },
  {
   "cell_type": "markdown",
   "metadata": {},
   "source": [
    "<a id='7-bullet'></a>\n",
    "### Категоризация этажности квартир."
   ]
  },
  {
   "cell_type": "markdown",
   "metadata": {},
   "source": [
    "Создадим функцию, которая возвращает группу по значению этажа `floor`, используя правила:\n",
    "* `floor` равен 1 — `первый`;\n",
    "* `floor` равен `floors_total` — `последний`;\n",
    "* `floor` не равен `floors_total` и `floor` не равен 1 — `другой`;"
   ]
  },
  {
   "cell_type": "code",
   "execution_count": 23,
   "metadata": {},
   "outputs": [],
   "source": [
    "def floor_group(row): # создание функции для категоризации 'этажа'\n",
    "    try:\n",
    "        if row['floor'] == 1:\n",
    "            return 'первый'\n",
    "        if row['floor'] == row['floors_total']:\n",
    "            return 'последний'\n",
    "        return 'другой'\n",
    "    except:\n",
    "        return 'другой'"
   ]
  },
  {
   "cell_type": "code",
   "execution_count": 24,
   "metadata": {},
   "outputs": [
    {
     "data": {
      "text/html": [
       "<div>\n",
       "<style scoped>\n",
       "    .dataframe tbody tr th:only-of-type {\n",
       "        vertical-align: middle;\n",
       "    }\n",
       "\n",
       "    .dataframe tbody tr th {\n",
       "        vertical-align: top;\n",
       "    }\n",
       "\n",
       "    .dataframe thead th {\n",
       "        text-align: right;\n",
       "    }\n",
       "</style>\n",
       "<table border=\"1\" class=\"dataframe\">\n",
       "  <thead>\n",
       "    <tr style=\"text-align: right;\">\n",
       "      <th></th>\n",
       "      <th>total_images</th>\n",
       "      <th>last_price</th>\n",
       "      <th>total_area</th>\n",
       "      <th>first_day_exposition</th>\n",
       "      <th>rooms</th>\n",
       "      <th>ceiling_height</th>\n",
       "      <th>floors_total</th>\n",
       "      <th>living_area</th>\n",
       "      <th>floor</th>\n",
       "      <th>is_apartment</th>\n",
       "      <th>...</th>\n",
       "      <th>parks_nearest</th>\n",
       "      <th>ponds_around3000</th>\n",
       "      <th>ponds_nearest</th>\n",
       "      <th>days_exposition</th>\n",
       "      <th>cityCenters_nearest_km</th>\n",
       "      <th>area_price</th>\n",
       "      <th>weekday_exposition</th>\n",
       "      <th>month_exposition</th>\n",
       "      <th>year_exposition</th>\n",
       "      <th>floor_category</th>\n",
       "    </tr>\n",
       "  </thead>\n",
       "  <tbody>\n",
       "    <tr>\n",
       "      <th>0</th>\n",
       "      <td>20</td>\n",
       "      <td>13000000.0</td>\n",
       "      <td>108.00</td>\n",
       "      <td>2019-03-07</td>\n",
       "      <td>3</td>\n",
       "      <td>2.70</td>\n",
       "      <td>16.0</td>\n",
       "      <td>51.00</td>\n",
       "      <td>8</td>\n",
       "      <td>True</td>\n",
       "      <td>...</td>\n",
       "      <td>482.0</td>\n",
       "      <td>2.0</td>\n",
       "      <td>755.0</td>\n",
       "      <td>NaN</td>\n",
       "      <td>16.0</td>\n",
       "      <td>120370.370370</td>\n",
       "      <td>3</td>\n",
       "      <td>3</td>\n",
       "      <td>2019</td>\n",
       "      <td>другой</td>\n",
       "    </tr>\n",
       "    <tr>\n",
       "      <th>1</th>\n",
       "      <td>7</td>\n",
       "      <td>3350000.0</td>\n",
       "      <td>40.40</td>\n",
       "      <td>2018-12-04</td>\n",
       "      <td>1</td>\n",
       "      <td>2.60</td>\n",
       "      <td>11.0</td>\n",
       "      <td>18.60</td>\n",
       "      <td>1</td>\n",
       "      <td>True</td>\n",
       "      <td>...</td>\n",
       "      <td>NaN</td>\n",
       "      <td>0.0</td>\n",
       "      <td>NaN</td>\n",
       "      <td>81.0</td>\n",
       "      <td>19.0</td>\n",
       "      <td>82920.792079</td>\n",
       "      <td>1</td>\n",
       "      <td>12</td>\n",
       "      <td>2018</td>\n",
       "      <td>первый</td>\n",
       "    </tr>\n",
       "    <tr>\n",
       "      <th>2</th>\n",
       "      <td>10</td>\n",
       "      <td>5196000.0</td>\n",
       "      <td>56.00</td>\n",
       "      <td>2015-08-20</td>\n",
       "      <td>2</td>\n",
       "      <td>2.60</td>\n",
       "      <td>5.0</td>\n",
       "      <td>34.30</td>\n",
       "      <td>4</td>\n",
       "      <td>True</td>\n",
       "      <td>...</td>\n",
       "      <td>90.0</td>\n",
       "      <td>2.0</td>\n",
       "      <td>574.0</td>\n",
       "      <td>558.0</td>\n",
       "      <td>14.0</td>\n",
       "      <td>92785.714286</td>\n",
       "      <td>3</td>\n",
       "      <td>8</td>\n",
       "      <td>2015</td>\n",
       "      <td>другой</td>\n",
       "    </tr>\n",
       "    <tr>\n",
       "      <th>3</th>\n",
       "      <td>0</td>\n",
       "      <td>64900000.0</td>\n",
       "      <td>159.00</td>\n",
       "      <td>2015-07-24</td>\n",
       "      <td>3</td>\n",
       "      <td>2.60</td>\n",
       "      <td>14.0</td>\n",
       "      <td>45.00</td>\n",
       "      <td>9</td>\n",
       "      <td>True</td>\n",
       "      <td>...</td>\n",
       "      <td>84.0</td>\n",
       "      <td>3.0</td>\n",
       "      <td>234.0</td>\n",
       "      <td>424.0</td>\n",
       "      <td>7.0</td>\n",
       "      <td>408176.100629</td>\n",
       "      <td>4</td>\n",
       "      <td>7</td>\n",
       "      <td>2015</td>\n",
       "      <td>другой</td>\n",
       "    </tr>\n",
       "    <tr>\n",
       "      <th>4</th>\n",
       "      <td>2</td>\n",
       "      <td>10000000.0</td>\n",
       "      <td>100.00</td>\n",
       "      <td>2018-06-19</td>\n",
       "      <td>2</td>\n",
       "      <td>3.03</td>\n",
       "      <td>14.0</td>\n",
       "      <td>32.00</td>\n",
       "      <td>13</td>\n",
       "      <td>True</td>\n",
       "      <td>...</td>\n",
       "      <td>112.0</td>\n",
       "      <td>1.0</td>\n",
       "      <td>48.0</td>\n",
       "      <td>121.0</td>\n",
       "      <td>8.0</td>\n",
       "      <td>100000.000000</td>\n",
       "      <td>1</td>\n",
       "      <td>6</td>\n",
       "      <td>2018</td>\n",
       "      <td>другой</td>\n",
       "    </tr>\n",
       "    <tr>\n",
       "      <th>5</th>\n",
       "      <td>10</td>\n",
       "      <td>2890000.0</td>\n",
       "      <td>30.40</td>\n",
       "      <td>2018-09-10</td>\n",
       "      <td>1</td>\n",
       "      <td>2.60</td>\n",
       "      <td>12.0</td>\n",
       "      <td>14.40</td>\n",
       "      <td>5</td>\n",
       "      <td>True</td>\n",
       "      <td>...</td>\n",
       "      <td>NaN</td>\n",
       "      <td>NaN</td>\n",
       "      <td>NaN</td>\n",
       "      <td>55.0</td>\n",
       "      <td>NaN</td>\n",
       "      <td>95065.789474</td>\n",
       "      <td>0</td>\n",
       "      <td>9</td>\n",
       "      <td>2018</td>\n",
       "      <td>другой</td>\n",
       "    </tr>\n",
       "    <tr>\n",
       "      <th>6</th>\n",
       "      <td>6</td>\n",
       "      <td>3700000.0</td>\n",
       "      <td>37.30</td>\n",
       "      <td>2017-11-02</td>\n",
       "      <td>1</td>\n",
       "      <td>2.60</td>\n",
       "      <td>26.0</td>\n",
       "      <td>10.60</td>\n",
       "      <td>6</td>\n",
       "      <td>True</td>\n",
       "      <td>...</td>\n",
       "      <td>NaN</td>\n",
       "      <td>0.0</td>\n",
       "      <td>NaN</td>\n",
       "      <td>155.0</td>\n",
       "      <td>19.0</td>\n",
       "      <td>99195.710456</td>\n",
       "      <td>3</td>\n",
       "      <td>11</td>\n",
       "      <td>2017</td>\n",
       "      <td>другой</td>\n",
       "    </tr>\n",
       "    <tr>\n",
       "      <th>7</th>\n",
       "      <td>5</td>\n",
       "      <td>7915000.0</td>\n",
       "      <td>71.60</td>\n",
       "      <td>2019-04-18</td>\n",
       "      <td>2</td>\n",
       "      <td>2.60</td>\n",
       "      <td>24.0</td>\n",
       "      <td>30.50</td>\n",
       "      <td>22</td>\n",
       "      <td>True</td>\n",
       "      <td>...</td>\n",
       "      <td>NaN</td>\n",
       "      <td>0.0</td>\n",
       "      <td>NaN</td>\n",
       "      <td>NaN</td>\n",
       "      <td>12.0</td>\n",
       "      <td>110544.692737</td>\n",
       "      <td>3</td>\n",
       "      <td>4</td>\n",
       "      <td>2019</td>\n",
       "      <td>другой</td>\n",
       "    </tr>\n",
       "    <tr>\n",
       "      <th>8</th>\n",
       "      <td>20</td>\n",
       "      <td>2900000.0</td>\n",
       "      <td>33.16</td>\n",
       "      <td>2018-05-23</td>\n",
       "      <td>1</td>\n",
       "      <td>2.60</td>\n",
       "      <td>27.0</td>\n",
       "      <td>15.43</td>\n",
       "      <td>26</td>\n",
       "      <td>True</td>\n",
       "      <td>...</td>\n",
       "      <td>NaN</td>\n",
       "      <td>NaN</td>\n",
       "      <td>NaN</td>\n",
       "      <td>189.0</td>\n",
       "      <td>NaN</td>\n",
       "      <td>87454.764777</td>\n",
       "      <td>2</td>\n",
       "      <td>5</td>\n",
       "      <td>2018</td>\n",
       "      <td>другой</td>\n",
       "    </tr>\n",
       "    <tr>\n",
       "      <th>9</th>\n",
       "      <td>18</td>\n",
       "      <td>5400000.0</td>\n",
       "      <td>61.00</td>\n",
       "      <td>2017-02-26</td>\n",
       "      <td>3</td>\n",
       "      <td>2.50</td>\n",
       "      <td>9.0</td>\n",
       "      <td>43.60</td>\n",
       "      <td>7</td>\n",
       "      <td>True</td>\n",
       "      <td>...</td>\n",
       "      <td>NaN</td>\n",
       "      <td>0.0</td>\n",
       "      <td>NaN</td>\n",
       "      <td>289.0</td>\n",
       "      <td>15.0</td>\n",
       "      <td>88524.590164</td>\n",
       "      <td>6</td>\n",
       "      <td>2</td>\n",
       "      <td>2017</td>\n",
       "      <td>другой</td>\n",
       "    </tr>\n",
       "  </tbody>\n",
       "</table>\n",
       "<p>10 rows × 28 columns</p>\n",
       "</div>"
      ],
      "text/plain": [
       "   total_images  last_price  total_area first_day_exposition  rooms  \\\n",
       "0            20  13000000.0      108.00           2019-03-07      3   \n",
       "1             7   3350000.0       40.40           2018-12-04      1   \n",
       "2            10   5196000.0       56.00           2015-08-20      2   \n",
       "3             0  64900000.0      159.00           2015-07-24      3   \n",
       "4             2  10000000.0      100.00           2018-06-19      2   \n",
       "5            10   2890000.0       30.40           2018-09-10      1   \n",
       "6             6   3700000.0       37.30           2017-11-02      1   \n",
       "7             5   7915000.0       71.60           2019-04-18      2   \n",
       "8            20   2900000.0       33.16           2018-05-23      1   \n",
       "9            18   5400000.0       61.00           2017-02-26      3   \n",
       "\n",
       "   ceiling_height  floors_total  living_area  floor  is_apartment  ...  \\\n",
       "0            2.70          16.0        51.00      8          True  ...   \n",
       "1            2.60          11.0        18.60      1          True  ...   \n",
       "2            2.60           5.0        34.30      4          True  ...   \n",
       "3            2.60          14.0        45.00      9          True  ...   \n",
       "4            3.03          14.0        32.00     13          True  ...   \n",
       "5            2.60          12.0        14.40      5          True  ...   \n",
       "6            2.60          26.0        10.60      6          True  ...   \n",
       "7            2.60          24.0        30.50     22          True  ...   \n",
       "8            2.60          27.0        15.43     26          True  ...   \n",
       "9            2.50           9.0        43.60      7          True  ...   \n",
       "\n",
       "   parks_nearest  ponds_around3000  ponds_nearest  days_exposition  \\\n",
       "0          482.0               2.0          755.0              NaN   \n",
       "1            NaN               0.0            NaN             81.0   \n",
       "2           90.0               2.0          574.0            558.0   \n",
       "3           84.0               3.0          234.0            424.0   \n",
       "4          112.0               1.0           48.0            121.0   \n",
       "5            NaN               NaN            NaN             55.0   \n",
       "6            NaN               0.0            NaN            155.0   \n",
       "7            NaN               0.0            NaN              NaN   \n",
       "8            NaN               NaN            NaN            189.0   \n",
       "9            NaN               0.0            NaN            289.0   \n",
       "\n",
       "  cityCenters_nearest_km     area_price  weekday_exposition  month_exposition  \\\n",
       "0                   16.0  120370.370370                   3                 3   \n",
       "1                   19.0   82920.792079                   1                12   \n",
       "2                   14.0   92785.714286                   3                 8   \n",
       "3                    7.0  408176.100629                   4                 7   \n",
       "4                    8.0  100000.000000                   1                 6   \n",
       "5                    NaN   95065.789474                   0                 9   \n",
       "6                   19.0   99195.710456                   3                11   \n",
       "7                   12.0  110544.692737                   3                 4   \n",
       "8                    NaN   87454.764777                   2                 5   \n",
       "9                   15.0   88524.590164                   6                 2   \n",
       "\n",
       "   year_exposition  floor_category  \n",
       "0             2019          другой  \n",
       "1             2018          первый  \n",
       "2             2015          другой  \n",
       "3             2015          другой  \n",
       "4             2018          другой  \n",
       "5             2018          другой  \n",
       "6             2017          другой  \n",
       "7             2019          другой  \n",
       "8             2018          другой  \n",
       "9             2017          другой  \n",
       "\n",
       "[10 rows x 28 columns]"
      ]
     },
     "execution_count": 24,
     "metadata": {},
     "output_type": "execute_result"
    }
   ],
   "source": [
    "df['floor_category'] = df.apply(floor_group, axis=1) # создание нового столбца с категориями этажа\n",
    "df.head(10)"
   ]
  },
  {
   "cell_type": "markdown",
   "metadata": {},
   "source": [
    "<a id='8-bullet'></a>\n",
    "### Вычисление соотношения между жилой и общей площади квартиры."
   ]
  },
  {
   "cell_type": "code",
   "execution_count": 25,
   "metadata": {},
   "outputs": [],
   "source": [
    "df['ratio_of_resid_and_total'] = df['living_area']/df['total_area'] #добавление соотношения жилой и общей площади"
   ]
  },
  {
   "cell_type": "markdown",
   "metadata": {},
   "source": [
    "<a id='9-bullet'></a>\n",
    "### Вычисление соотношения между площади кухни к общей площади квартиры."
   ]
  },
  {
   "cell_type": "code",
   "execution_count": 26,
   "metadata": {},
   "outputs": [],
   "source": [
    "df['ratio_of_resid_and_total'] = df['kitchen_area']/df['total_area']#добавление соотношения площади кухни к общей"
   ]
  },
  {
   "cell_type": "markdown",
   "metadata": {},
   "source": [
    "## Исследовательский анализ данных."
   ]
  },
  {
   "cell_type": "markdown",
   "metadata": {},
   "source": [
    "<a id='10-bullet'></a>\n",
    "### Изучение параметров квартиры."
   ]
  },
  {
   "cell_type": "markdown",
   "metadata": {},
   "source": [
    "Изучим следующие параметры: площадь, цена, число комнат, высота потолков. Для этого построим гистограммы для каждого параметра."
   ]
  },
  {
   "cell_type": "code",
   "execution_count": 27,
   "metadata": {},
   "outputs": [
    {
     "data": {
      "image/png": "[encoded data removed]",
      "text/plain": [
       "<Figure size 432x288 with 1 Axes>"
      ]
     },
     "metadata": {
      "needs_background": "light"
     },
     "output_type": "display_data"
    }
   ],
   "source": [
    "df['total_area'].hist(bins=100, range=(0,200)) #построение гистограммы столбца total_area\n",
    "plt.title('Количество квартир по площади')\n",
    "plt.xlabel('Площадь, кв.м')\n",
    "plt.ylabel('Количество квартир')\n",
    "plt.show()"
   ]
  },
  {
   "cell_type": "code",
   "execution_count": 28,
   "metadata": {},
   "outputs": [
    {
     "data": {
      "image/png": "[encoded data removed]",
      "text/plain": [
       "<Figure size 432x288 with 1 Axes>"
      ]
     },
     "metadata": {
      "needs_background": "light"
     },
     "output_type": "display_data"
    }
   ],
   "source": [
    "df['last_price'].hist(bins=100, range=(0,30000000)) #построение гистограммы столбца last_price\n",
    "plt.title('Количество квартир по цене продажи')\n",
    "plt.xlabel('Цена продажи, руб')\n",
    "plt.ylabel('Количество квартир')\n",
    "plt.show()"
   ]
  },
  {
   "cell_type": "code",
   "execution_count": 29,
   "metadata": {},
   "outputs": [
    {
     "data": {
      "image/png": "[encoded data removed]",
      "text/plain": [
       "<Figure size 432x288 with 1 Axes>"
      ]
     },
     "metadata": {
      "needs_background": "light"
     },
     "output_type": "display_data"
    }
   ],
   "source": [
    "df['rooms'].hist(bins=15, range=(0,15)) #построение гистограммы столбца rooms\n",
    "plt.title('Количество квартир по числу комнат')\n",
    "plt.xlabel('Число комнат')\n",
    "plt.ylabel('Количество квартир')\n",
    "plt.show()"
   ]
  },
  {
   "cell_type": "code",
   "execution_count": 30,
   "metadata": {},
   "outputs": [
    {
     "data": {
      "image/png": "[encoded data removed]",
      "text/plain": [
       "<Figure size 432x288 with 1 Axes>"
      ]
     },
     "metadata": {
      "needs_background": "light"
     },
     "output_type": "display_data"
    }
   ],
   "source": [
    "df['ceiling_height'].hist(bins=10, range=(0,4.5)) #построение гистограммы столбца ceiling_height\n",
    "plt.title('Количество квартир по высоте потолка')\n",
    "plt.xlabel('Высота потолка, м')\n",
    "plt.ylabel('Количество квартир')\n",
    "plt.show()"
   ]
  },
  {
   "cell_type": "markdown",
   "metadata": {},
   "source": [
    "Изучим время продажи квартиры. Построим гистограмму, посчитаем среднее и медиану."
   ]
  },
  {
   "cell_type": "code",
   "execution_count": 31,
   "metadata": {},
   "outputs": [
    {
     "data": {
      "image/png": "[encoded data removed]",
      "text/plain": [
       "<Figure size 432x288 with 1 Axes>"
      ]
     },
     "metadata": {
      "needs_background": "light"
     },
     "output_type": "display_data"
    }
   ],
   "source": [
    "df['days_exposition'].hist(bins=100) #построение гистограммы столбца days_exposition\n",
    "plt.title('Количество квартир по времени размещения объявления')\n",
    "plt.xlabel('Время размещения объявления, дни')\n",
    "plt.ylabel('Количество квартир')\n",
    "plt.show()"
   ]
  },
  {
   "cell_type": "code",
   "execution_count": 32,
   "metadata": {},
   "outputs": [
    {
     "data": {
      "text/plain": [
       "count    20518.000000\n",
       "mean       180.888634\n",
       "std        219.727988\n",
       "min          1.000000\n",
       "25%         45.000000\n",
       "50%         95.000000\n",
       "75%        232.000000\n",
       "max       1580.000000\n",
       "Name: days_exposition, dtype: float64"
      ]
     },
     "execution_count": 32,
     "metadata": {},
     "output_type": "execute_result"
    }
   ],
   "source": [
    "df['days_exposition'].describe() #описание столбца days_exposition"
   ]
  },
  {
   "cell_type": "code",
   "execution_count": 33,
   "metadata": {},
   "outputs": [
    {
     "data": {
      "image/png": "[encoded data removed]",
      "text/plain": [
       "<Figure size 432x288 with 1 Axes>"
      ]
     },
     "metadata": {
      "needs_background": "light"
     },
     "output_type": "display_data"
    }
   ],
   "source": [
    "df.boxplot(column='total_area')\n",
    "plt.ylim(0, 150)\n",
    "plt.title('Диаграмма размаха площади квартир')\n",
    "plt.ylabel('Площадь, кв.м.')\n",
    "plt.show()"
   ]
  },
  {
   "cell_type": "code",
   "execution_count": 34,
   "metadata": {},
   "outputs": [
    {
     "data": {
      "image/png": "[encoded data removed]",
      "text/plain": [
       "<Figure size 432x288 with 1 Axes>"
      ]
     },
     "metadata": {
      "needs_background": "light"
     },
     "output_type": "display_data"
    }
   ],
   "source": [
    "df.boxplot(column='last_price')\n",
    "plt.ylim(0, 20000000)\n",
    "plt.title('Диаграмма размаха цены продажи квартир')\n",
    "plt.ylabel('Цена, руб')\n",
    "plt.show()"
   ]
  },
  {
   "cell_type": "code",
   "execution_count": 35,
   "metadata": {},
   "outputs": [
    {
     "data": {
      "image/png": "[encoded data removed]",
      "text/plain": [
       "<Figure size 432x288 with 1 Axes>"
      ]
     },
     "metadata": {
      "needs_background": "light"
     },
     "output_type": "display_data"
    }
   ],
   "source": [
    "df.boxplot(column='rooms')\n",
    "plt.ylim(0, 7)\n",
    "plt.title('Диаграмма размаха количества комнат квартир')\n",
    "plt.ylabel('Количество комнат')\n",
    "plt.show()"
   ]
  },
  {
   "cell_type": "code",
   "execution_count": 36,
   "metadata": {},
   "outputs": [
    {
     "data": {
      "image/png": "[encoded data removed]",
      "text/plain": [
       "<Figure size 432x288 with 1 Axes>"
      ]
     },
     "metadata": {
      "needs_background": "light"
     },
     "output_type": "display_data"
    }
   ],
   "source": [
    "df.boxplot(column='ceiling_height')\n",
    "plt.ylim(2.4,2.9)\n",
    "plt.title('Диаграмма размаха высоты потолков квартир')\n",
    "plt.ylabel('Высота потолков, м')\n",
    "plt.show()"
   ]
  },
  {
   "cell_type": "code",
   "execution_count": 37,
   "metadata": {},
   "outputs": [
    {
     "data": {
      "image/png": "[encoded data removed]",
      "text/plain": [
       "<Figure size 432x288 with 1 Axes>"
      ]
     },
     "metadata": {
      "needs_background": "light"
     },
     "output_type": "display_data"
    }
   ],
   "source": [
    "df.boxplot(column='days_exposition')\n",
    "plt.ylim(0,515)\n",
    "plt.title('Диаграмма размаха времени размещения квартир')\n",
    "plt.ylabel('Время размещения объявления, дни')\n",
    "plt.show()"
   ]
  },
  {
   "cell_type": "markdown",
   "metadata": {},
   "source": [
    "Можно утверждать, что обычно квартира продается от 45 до 232 дней. Можно считать, что квартира продается необычайно долго, если ее объявление размещенно на сайте более 1000 дней и необычайно быстро, если 1 день"
   ]
  },
  {
   "cell_type": "markdown",
   "metadata": {},
   "source": [
    "Уберем редкие и выбивающиеся значения."
   ]
  },
  {
   "cell_type": "code",
   "execution_count": 38,
   "metadata": {},
   "outputs": [],
   "source": [
    "good_df = df.query('last_price <= 12500000') #срез данных по столбцу last_price"
   ]
  },
  {
   "cell_type": "code",
   "execution_count": 39,
   "metadata": {},
   "outputs": [],
   "source": [
    "good_df = good_df.query('rooms <= 6') #срез данных по столбцу rooms"
   ]
  },
  {
   "cell_type": "code",
   "execution_count": 40,
   "metadata": {},
   "outputs": [],
   "source": [
    "good_df = good_df.query('2.45 <=ceiling_height <= 2.9') #срез данных по столбцу ceiling_height"
   ]
  },
  {
   "cell_type": "code",
   "execution_count": 41,
   "metadata": {},
   "outputs": [
    {
     "name": "stdout",
     "output_type": "stream",
     "text": [
      "<class 'pandas.core.frame.DataFrame'>\n",
      "Int64Index: 19981 entries, 1 to 23698\n",
      "Data columns (total 29 columns):\n",
      " #   Column                    Non-Null Count  Dtype         \n",
      "---  ------                    --------------  -----         \n",
      " 0   total_images              19981 non-null  int64         \n",
      " 1   last_price                19981 non-null  float64       \n",
      " 2   total_area                19981 non-null  float64       \n",
      " 3   first_day_exposition      19981 non-null  datetime64[ns]\n",
      " 4   rooms                     19981 non-null  int64         \n",
      " 5   ceiling_height            19981 non-null  float64       \n",
      " 6   floors_total              19906 non-null  float64       \n",
      " 7   living_area               19981 non-null  float64       \n",
      " 8   floor                     19981 non-null  int64         \n",
      " 9   is_apartment              19981 non-null  bool          \n",
      " 10  studio                    19981 non-null  bool          \n",
      " 11  open_plan                 19981 non-null  bool          \n",
      " 12  kitchen_area              19795 non-null  float64       \n",
      " 13  balcony                   19981 non-null  float64       \n",
      " 14  locality_name             19943 non-null  object        \n",
      " 15  airports_nearest          14684 non-null  float64       \n",
      " 16  cityCenters_nearest       14697 non-null  float64       \n",
      " 17  parks_around3000          14697 non-null  float64       \n",
      " 18  parks_nearest             5757 non-null   float64       \n",
      " 19  ponds_around3000          14697 non-null  float64       \n",
      " 20  ponds_nearest             6888 non-null   float64       \n",
      " 21  days_exposition           17648 non-null  float64       \n",
      " 22  cityCenters_nearest_km    14697 non-null  float64       \n",
      " 23  area_price                19981 non-null  float64       \n",
      " 24  weekday_exposition        19981 non-null  int64         \n",
      " 25  month_exposition          19981 non-null  int64         \n",
      " 26  year_exposition           19981 non-null  int64         \n",
      " 27  floor_category            19981 non-null  object        \n",
      " 28  ratio_of_resid_and_total  19795 non-null  float64       \n",
      "dtypes: bool(3), datetime64[ns](1), float64(17), int64(6), object(2)\n",
      "memory usage: 4.2+ MB\n"
     ]
    }
   ],
   "source": [
    "good_df.info()"
   ]
  },
  {
   "cell_type": "code",
   "execution_count": 42,
   "metadata": {},
   "outputs": [
    {
     "name": "stdout",
     "output_type": "stream",
     "text": [
      "<class 'pandas.core.frame.DataFrame'>\n",
      "RangeIndex: 23699 entries, 0 to 23698\n",
      "Data columns (total 29 columns):\n",
      " #   Column                    Non-Null Count  Dtype         \n",
      "---  ------                    --------------  -----         \n",
      " 0   total_images              23699 non-null  int64         \n",
      " 1   last_price                23699 non-null  float64       \n",
      " 2   total_area                23699 non-null  float64       \n",
      " 3   first_day_exposition      23699 non-null  datetime64[ns]\n",
      " 4   rooms                     23699 non-null  int64         \n",
      " 5   ceiling_height            23699 non-null  float64       \n",
      " 6   floors_total              23613 non-null  float64       \n",
      " 7   living_area               23699 non-null  float64       \n",
      " 8   floor                     23699 non-null  int64         \n",
      " 9   is_apartment              23699 non-null  bool          \n",
      " 10  studio                    23699 non-null  bool          \n",
      " 11  open_plan                 23699 non-null  bool          \n",
      " 12  kitchen_area              23502 non-null  float64       \n",
      " 13  balcony                   23699 non-null  float64       \n",
      " 14  locality_name             23650 non-null  object        \n",
      " 15  airports_nearest          18157 non-null  float64       \n",
      " 16  cityCenters_nearest       18180 non-null  float64       \n",
      " 17  parks_around3000          18181 non-null  float64       \n",
      " 18  parks_nearest             8079 non-null   float64       \n",
      " 19  ponds_around3000          18181 non-null  float64       \n",
      " 20  ponds_nearest             9110 non-null   float64       \n",
      " 21  days_exposition           20518 non-null  float64       \n",
      " 22  cityCenters_nearest_km    18180 non-null  float64       \n",
      " 23  area_price                23699 non-null  float64       \n",
      " 24  weekday_exposition        23699 non-null  int64         \n",
      " 25  month_exposition          23699 non-null  int64         \n",
      " 26  year_exposition           23699 non-null  int64         \n",
      " 27  floor_category            23699 non-null  object        \n",
      " 28  ratio_of_resid_and_total  23502 non-null  float64       \n",
      "dtypes: bool(3), datetime64[ns](1), float64(17), int64(6), object(2)\n",
      "memory usage: 4.8+ MB\n"
     ]
    }
   ],
   "source": [
    "df.info()"
   ]
  },
  {
   "cell_type": "markdown",
   "metadata": {},
   "source": [
    "Количество потерянных данных составило около 15% процентов."
   ]
  },
  {
   "cell_type": "markdown",
   "metadata": {},
   "source": [
    "<a id='11-bullet'></a>\n",
    "### Изучение зависимостей между параметрами квартиры."
   ]
  },
  {
   "cell_type": "markdown",
   "metadata": {},
   "source": [
    "Проверим есть ли зависимость между ценной квартиры и ее площадью."
   ]
  },
  {
   "cell_type": "code",
   "execution_count": 43,
   "metadata": {},
   "outputs": [
    {
     "data": {
      "image/png": "[encoded data removed]",
      "text/plain": [
       "<Figure size 432x288 with 1 Axes>"
      ]
     },
     "metadata": {
      "needs_background": "light"
     },
     "output_type": "display_data"
    }
   ],
   "source": [
    "good_df.plot(x='last_price', y='total_area', kind='scatter') #построение диаграммы рассеяния между столбцом last_price и total_area\n",
    "plt.title('Диаграмма рассеяния между ценой продажи и площадью квартир')\n",
    "plt.xlabel('Цена продажи, руб.')\n",
    "plt.ylabel('Площадь квартиры, кв.м.')\n",
    "plt.show()"
   ]
  },
  {
   "cell_type": "markdown",
   "metadata": {},
   "source": [
    "На диаграмме видно, что с учеличением площади квартиры цена также растет."
   ]
  },
  {
   "cell_type": "markdown",
   "metadata": {},
   "source": [
    "Проверим также есть ли зависимость между ценной квартиры и числом комнат в ней."
   ]
  },
  {
   "cell_type": "code",
   "execution_count": 44,
   "metadata": {},
   "outputs": [
    {
     "data": {
      "image/png": "[encoded data removed]",
      "text/plain": [
       "<Figure size 432x288 with 1 Axes>"
      ]
     },
     "metadata": {
      "needs_background": "light"
     },
     "output_type": "display_data"
    }
   ],
   "source": [
    "good_df.plot(x='last_price', y='rooms', kind='scatter') #построение диаграммы рассеяния между столбцом last_price и rooms\n",
    "plt.title('Диаграмма рассеяния между ценой продажи и количеством комнат квартир')\n",
    "plt.xlabel('Цена продажи, руб.')\n",
    "plt.ylabel('Количество комнат')\n",
    "plt.show()"
   ]
  },
  {
   "cell_type": "markdown",
   "metadata": {},
   "source": [
    "С увеличением числа комнат можно наблюдать, что плотность точек становится больше в правой части графика. Что говорит о связи цены квартиры и количеством комнат."
   ]
  },
  {
   "cell_type": "markdown",
   "metadata": {},
   "source": [
    "Проверим также есть ли зависимость между ценной квартиры и расстоянием от центра."
   ]
  },
  {
   "cell_type": "code",
   "execution_count": 45,
   "metadata": {},
   "outputs": [
    {
     "data": {
      "image/png": "[encoded data removed]",
      "text/plain": [
       "<Figure size 432x288 with 1 Axes>"
      ]
     },
     "metadata": {
      "needs_background": "light"
     },
     "output_type": "display_data"
    }
   ],
   "source": [
    "good_df.plot(x='last_price', y='cityCenters_nearest', kind='scatter') #расчет коэффициента корреляции между столбцом last_price и cityCenters_nearest\n",
    "plt.title('Диаграмма рассеяния между ценой продажи и расстоянием до центра')\n",
    "plt.xlabel('Цена продажи, руб.')\n",
    "plt.ylabel('Расстояние до центра, м.')\n",
    "plt.show()"
   ]
  },
  {
   "cell_type": "markdown",
   "metadata": {},
   "source": [
    "С увеличением расстояния от центра города можно наблюдать, что плотность точек становится больше в левой части графика. Что говорит о связи цены квартиры и удаленностью от центра."
   ]
  },
  {
   "cell_type": "code",
   "execution_count": 46,
   "metadata": {},
   "outputs": [
    {
     "data": {
      "image/png": "[encoded data removed]",
      "text/plain": [
       "<Figure size 1080x360 with 1 Axes>"
      ]
     },
     "metadata": {
      "needs_background": "light"
     },
     "output_type": "display_data"
    }
   ],
   "source": [
    "good_df.pivot_table(index='floor_category', values='last_price', aggfunc='mean').plot(figsize=(15,5)) #построение сводной таблицы и графика\n",
    "plt.title('График зависимости между этажом и ценой продажи квартир')\n",
    "plt.xlabel('Этаж квартиры')\n",
    "plt.ylabel('Цена продажи, руб.')\n",
    "plt.show()"
   ]
  },
  {
   "cell_type": "markdown",
   "metadata": {},
   "source": [
    "Исходя из сводной таблицы, можно сказать, что цена на первом этаже ниже, чем на последнем или на другом. Цена квартиру на последнем этаже в среднем ниже, чем на другом, но выше, чем на первом."
   ]
  },
  {
   "cell_type": "markdown",
   "metadata": {},
   "source": [
    "Проверим есть ли зависимость  от даты размещения: дня недели, месяца и года"
   ]
  },
  {
   "cell_type": "code",
   "execution_count": 47,
   "metadata": {},
   "outputs": [
    {
     "data": {
      "image/png": "[encoded data removed]",
      "text/plain": [
       "<Figure size 1080x360 with 1 Axes>"
      ]
     },
     "metadata": {
      "needs_background": "light"
     },
     "output_type": "display_data"
    }
   ],
   "source": [
    "good_df.pivot_table(index='weekday_exposition', values='last_price', aggfunc='mean').plot(figsize=(15,5)) #построение сводной таблицы и графика\n",
    "plt.title('График зависимости между днем недели и ценой продажи квартир')\n",
    "plt.xlabel('День недели')\n",
    "plt.ylabel('Цена продажи, руб.')\n",
    "plt.show()"
   ]
  },
  {
   "cell_type": "markdown",
   "metadata": {},
   "source": [
    "Исходя из сводной таблицы, можно сказать, что цена квартиры размещенная в будний день в среднем выше, чем в выходной. Самая дорогие по цене квартиры размещены во вторник."
   ]
  },
  {
   "cell_type": "code",
   "execution_count": 48,
   "metadata": {},
   "outputs": [
    {
     "data": {
      "image/png": "[encoded data removed]",
      "text/plain": [
       "<Figure size 1080x360 with 1 Axes>"
      ]
     },
     "metadata": {
      "needs_background": "light"
     },
     "output_type": "display_data"
    }
   ],
   "source": [
    "good_df.pivot_table(index='month_exposition', values='last_price', aggfunc='mean').plot(figsize=(15,5)) #построение сводной таблицы и график\n",
    "plt.title('График зависимости между месяцом и ценой продажи квартир')\n",
    "plt.xlabel('Месяц')\n",
    "plt.ylabel('Цена продажи, руб.')\n",
    "plt.show()"
   ]
  },
  {
   "cell_type": "markdown",
   "metadata": {},
   "source": [
    "Исходя из сводной таблицы, можно сказать, что цена квартиры размещенные в апреле, августе, сентябрь или в ноябре в среднем выше, чем в остальные месяцы. Самая дешевые в среднем квартиры размещены в июне."
   ]
  },
  {
   "cell_type": "code",
   "execution_count": 49,
   "metadata": {},
   "outputs": [
    {
     "data": {
      "image/png": "[encoded data removed]",
      "text/plain": [
       "<Figure size 1080x360 with 1 Axes>"
      ]
     },
     "metadata": {
      "needs_background": "light"
     },
     "output_type": "display_data"
    }
   ],
   "source": [
    "good_df.pivot_table(index='year_exposition', values='last_price', aggfunc='mean').plot(figsize=(15,5)) #построение сводной таблицы и график\n",
    "plt.title('График зависимости между годом и ценой продажи квартир')\n",
    "plt.xlabel('Год')\n",
    "plt.ylabel('Цена продажи, руб.')\n",
    "plt.show()"
   ]
  },
  {
   "cell_type": "markdown",
   "metadata": {},
   "source": [
    "Исходя из сводной таблицы, можно сказать, что цены на квартиры падали до 2016 года, а после 2018 года произошел рост цен."
   ]
  },
  {
   "cell_type": "markdown",
   "metadata": {},
   "source": [
    "<a id='12-bullet'></a>\n",
    "### Вычисление средней цены квадратного метра жилья."
   ]
  },
  {
   "cell_type": "code",
   "execution_count": 50,
   "metadata": {},
   "outputs": [],
   "source": [
    "good_df['ratio_area_and_price'] = good_df['last_price']/good_df['total_area'] #расчет средней стоимости квадратного метра жилья"
   ]
  },
  {
   "cell_type": "code",
   "execution_count": 51,
   "metadata": {},
   "outputs": [
    {
     "data": {
      "text/plain": [
       "Санкт-Петербург      12414\n",
       "посёлок Мурино         517\n",
       "посёлок Шушары         438\n",
       "Всеволожск             384\n",
       "посёлок Парголово      326\n",
       "Колпино                316\n",
       "Пушкин                 304\n",
       "деревня Кудрово        297\n",
       "Гатчина                287\n",
       "Выборг                 211\n",
       "Name: locality_name, dtype: int64"
      ]
     },
     "execution_count": 51,
     "metadata": {},
     "output_type": "execute_result"
    }
   ],
   "source": [
    "top_locality = good_df['locality_name'].value_counts().head(10) #вывод топ 10 городов по числу размещений объявлений по продаже квартир\n",
    "top_locality "
   ]
  },
  {
   "cell_type": "code",
   "execution_count": 52,
   "metadata": {},
   "outputs": [],
   "source": [
    "top_locality_df = good_df.query('locality_name in @top_locality.index') #срез данных по индексам топ 10 городов из пункта выше"
   ]
  },
  {
   "cell_type": "code",
   "execution_count": 53,
   "metadata": {},
   "outputs": [
    {
     "data": {
      "text/html": [
       "<div>\n",
       "<style scoped>\n",
       "    .dataframe tbody tr th:only-of-type {\n",
       "        vertical-align: middle;\n",
       "    }\n",
       "\n",
       "    .dataframe tbody tr th {\n",
       "        vertical-align: top;\n",
       "    }\n",
       "\n",
       "    .dataframe thead th {\n",
       "        text-align: right;\n",
       "    }\n",
       "</style>\n",
       "<table border=\"1\" class=\"dataframe\">\n",
       "  <thead>\n",
       "    <tr style=\"text-align: right;\">\n",
       "      <th></th>\n",
       "      <th>ratio_area_and_price</th>\n",
       "    </tr>\n",
       "    <tr>\n",
       "      <th>locality_name</th>\n",
       "      <th></th>\n",
       "    </tr>\n",
       "  </thead>\n",
       "  <tbody>\n",
       "    <tr>\n",
       "      <th>Всеволожск</th>\n",
       "      <td>67025.971030</td>\n",
       "    </tr>\n",
       "    <tr>\n",
       "      <th>Выборг</th>\n",
       "      <td>57342.019366</td>\n",
       "    </tr>\n",
       "    <tr>\n",
       "      <th>Гатчина</th>\n",
       "      <td>68108.459961</td>\n",
       "    </tr>\n",
       "    <tr>\n",
       "      <th>Колпино</th>\n",
       "      <td>75340.258443</td>\n",
       "    </tr>\n",
       "    <tr>\n",
       "      <th>Пушкин</th>\n",
       "      <td>100165.618962</td>\n",
       "    </tr>\n",
       "    <tr>\n",
       "      <th>Санкт-Петербург</th>\n",
       "      <td>104956.810156</td>\n",
       "    </tr>\n",
       "    <tr>\n",
       "      <th>деревня Кудрово</th>\n",
       "      <td>92463.092416</td>\n",
       "    </tr>\n",
       "    <tr>\n",
       "      <th>посёлок Мурино</th>\n",
       "      <td>85765.047384</td>\n",
       "    </tr>\n",
       "    <tr>\n",
       "      <th>посёлок Парголово</th>\n",
       "      <td>90332.263023</td>\n",
       "    </tr>\n",
       "    <tr>\n",
       "      <th>посёлок Шушары</th>\n",
       "      <td>78646.843671</td>\n",
       "    </tr>\n",
       "  </tbody>\n",
       "</table>\n",
       "</div>"
      ],
      "text/plain": [
       "                   ratio_area_and_price\n",
       "locality_name                          \n",
       "Всеволожск                 67025.971030\n",
       "Выборг                     57342.019366\n",
       "Гатчина                    68108.459961\n",
       "Колпино                    75340.258443\n",
       "Пушкин                    100165.618962\n",
       "Санкт-Петербург           104956.810156\n",
       "деревня Кудрово            92463.092416\n",
       "посёлок Мурино             85765.047384\n",
       "посёлок Парголово          90332.263023\n",
       "посёлок Шушары             78646.843671"
      ]
     },
     "execution_count": 53,
     "metadata": {},
     "output_type": "execute_result"
    }
   ],
   "source": [
    "top_locality_df.pivot_table(index='locality_name', values='ratio_area_and_price', aggfunc='mean') #построение сводной таблицы "
   ]
  },
  {
   "cell_type": "markdown",
   "metadata": {},
   "source": [
    "Самая высокая цена за квадратный метр в Санкт-Петербурге, а самая низкая в Выборге."
   ]
  },
  {
   "cell_type": "markdown",
   "metadata": {},
   "source": [
    "<a id='13-bullet'></a>\n",
    "### Анализ основных параметров жилья в центре Санкт-Петербурга."
   ]
  },
  {
   "cell_type": "code",
   "execution_count": 54,
   "metadata": {},
   "outputs": [],
   "source": [
    "Saint_P_df = good_df.query('locality_name == \"Санкт-Петербург\"') #срез данных по Санкт-Петербургу"
   ]
  },
  {
   "cell_type": "code",
   "execution_count": 55,
   "metadata": {},
   "outputs": [],
   "source": [
    "center = Saint_P_df.pivot_table(index='cityCenters_nearest_km', values='last_price', aggfunc='mean') #построение сводной таблицы\n",
    "center.columns = ['last_price_mean'] #переименование столбца сводной таблицы"
   ]
  },
  {
   "cell_type": "code",
   "execution_count": 56,
   "metadata": {},
   "outputs": [
    {
     "data": {
      "image/png": "[encoded data removed]",
      "text/plain": [
       "<Figure size 1080x360 with 1 Axes>"
      ]
     },
     "metadata": {
      "needs_background": "light"
     },
     "output_type": "display_data"
    }
   ],
   "source": [
    "center.plot(y='last_price_mean', figsize=(15,5)) #построение графика сводной таблицы\n",
    "plt.title('График зависимости между расстоянием до центра и медианной ценой продажи квартир')\n",
    "plt.xlabel('Расстояние до центра, км.')\n",
    "plt.ylabel('Медианная цена продажи, руб.')\n",
    "plt.show()"
   ]
  },
  {
   "cell_type": "markdown",
   "metadata": {},
   "source": [
    "По графику видно, что при удалении от центра цена квартиры снижается. Границей центра можно считать 10 км."
   ]
  },
  {
   "cell_type": "code",
   "execution_count": 57,
   "metadata": {},
   "outputs": [],
   "source": [
    "Saint_P_df_centre = Saint_P_df.query('cityCenters_nearest_km<=10') #срез данных по центру Санкт-Петербурга"
   ]
  },
  {
   "cell_type": "code",
   "execution_count": 58,
   "metadata": {},
   "outputs": [
    {
     "data": {
      "image/png": "[encoded data removed]",
      "text/plain": [
       "<Figure size 432x288 with 1 Axes>"
      ]
     },
     "metadata": {
      "needs_background": "light"
     },
     "output_type": "display_data"
    }
   ],
   "source": [
    "Saint_P_df_centre['total_area'].hist(bins=100)  #построение гистограммы столбца total_area\n",
    "plt.title('Количество квартир по площади')\n",
    "plt.xlabel('Площадь, кв.м')\n",
    "plt.ylabel('Количество квартир')\n",
    "plt.show()"
   ]
  },
  {
   "cell_type": "code",
   "execution_count": 59,
   "metadata": {},
   "outputs": [
    {
     "data": {
      "text/plain": [
       "count    2859.000000\n",
       "mean       57.990535\n",
       "std        22.333520\n",
       "min        12.000000\n",
       "25%        42.000000\n",
       "50%        54.000000\n",
       "75%        70.700000\n",
       "max       255.000000\n",
       "Name: total_area, dtype: float64"
      ]
     },
     "execution_count": 59,
     "metadata": {},
     "output_type": "execute_result"
    }
   ],
   "source": [
    "Saint_P_df_centre['total_area'].describe()"
   ]
  },
  {
   "cell_type": "markdown",
   "metadata": {},
   "source": [
    "В среднем, большинство квартир имеют площадь от 30 до 100 кв. метров. Среднее: 68 кв. метров."
   ]
  },
  {
   "cell_type": "code",
   "execution_count": 60,
   "metadata": {},
   "outputs": [
    {
     "data": {
      "image/png": "[encoded data removed]",
      "text/plain": [
       "<Figure size 432x288 with 1 Axes>"
      ]
     },
     "metadata": {
      "needs_background": "light"
     },
     "output_type": "display_data"
    }
   ],
   "source": [
    "Saint_P_df_centre['last_price'].hist(bins=100) #построение гистограммы столбца\n",
    "plt.title('Количество квартир по цене продажи')\n",
    "plt.xlabel('Цена продажи, руб')\n",
    "plt.ylabel('Количество квартир')\n",
    "plt.show()"
   ]
  },
  {
   "cell_type": "code",
   "execution_count": 61,
   "metadata": {},
   "outputs": [
    {
     "data": {
      "text/plain": [
       "count    2.859000e+03\n",
       "mean     6.491307e+06\n",
       "std      2.455639e+06\n",
       "min      1.219000e+04\n",
       "25%      4.495000e+06\n",
       "50%      6.080000e+06\n",
       "75%      8.150000e+06\n",
       "max      1.250000e+07\n",
       "Name: last_price, dtype: float64"
      ]
     },
     "execution_count": 61,
     "metadata": {},
     "output_type": "execute_result"
    }
   ],
   "source": [
    "Saint_P_df_centre['last_price'].describe()"
   ]
  },
  {
   "cell_type": "code",
   "execution_count": 62,
   "metadata": {},
   "outputs": [
    {
     "data": {
      "text/plain": [
       "count    1.998100e+04\n",
       "mean     4.703494e+06\n",
       "std      2.180640e+06\n",
       "min      1.219000e+04\n",
       "25%      3.250000e+06\n",
       "50%      4.300000e+06\n",
       "75%      5.748000e+06\n",
       "max      1.250000e+07\n",
       "Name: last_price, dtype: float64"
      ]
     },
     "execution_count": 62,
     "metadata": {},
     "output_type": "execute_result"
    }
   ],
   "source": [
    "good_df['last_price'].describe()"
   ]
  },
  {
   "cell_type": "markdown",
   "metadata": {},
   "source": [
    "Большинство квартир стоят от 2,5 миллионов до 12,5 миллионов рублей. Средняя стоимость 7,9 миллионов рублей"
   ]
  },
  {
   "cell_type": "code",
   "execution_count": 63,
   "metadata": {},
   "outputs": [
    {
     "data": {
      "image/png": "[encoded data removed]",
      "text/plain": [
       "<Figure size 432x288 with 1 Axes>"
      ]
     },
     "metadata": {
      "needs_background": "light"
     },
     "output_type": "display_data"
    }
   ],
   "source": [
    "Saint_P_df_centre['rooms'].hist(bins=7) #построение гистограммы столбца\n",
    "plt.title('Количество квартир по числу комнат')\n",
    "plt.xlabel('Число комнат')\n",
    "plt.ylabel('Количество квартир')\n",
    "plt.show()"
   ]
  },
  {
   "cell_type": "code",
   "execution_count": 64,
   "metadata": {},
   "outputs": [
    {
     "data": {
      "text/plain": [
       "count    2859.000000\n",
       "mean        2.043022\n",
       "std         0.952641\n",
       "min         0.000000\n",
       "25%         1.000000\n",
       "50%         2.000000\n",
       "75%         3.000000\n",
       "max         6.000000\n",
       "Name: rooms, dtype: float64"
      ]
     },
     "execution_count": 64,
     "metadata": {},
     "output_type": "execute_result"
    }
   ],
   "source": [
    "Saint_P_df_centre['rooms'].describe()"
   ]
  },
  {
   "cell_type": "code",
   "execution_count": 65,
   "metadata": {},
   "outputs": [
    {
     "data": {
      "text/plain": [
       "count    19981.000000\n",
       "mean         1.895351\n",
       "std          0.893872\n",
       "min          0.000000\n",
       "25%          1.000000\n",
       "50%          2.000000\n",
       "75%          3.000000\n",
       "max          6.000000\n",
       "Name: rooms, dtype: float64"
      ]
     },
     "execution_count": 65,
     "metadata": {},
     "output_type": "execute_result"
    }
   ],
   "source": [
    "good_df['rooms'].describe()"
   ]
  },
  {
   "cell_type": "markdown",
   "metadata": {},
   "source": [
    "Большинство квартир имеют от 2 комнаты"
   ]
  },
  {
   "cell_type": "code",
   "execution_count": 66,
   "metadata": {},
   "outputs": [
    {
     "data": {
      "image/png": "[encoded data removed]",
      "text/plain": [
       "<Figure size 432x288 with 1 Axes>"
      ]
     },
     "metadata": {
      "needs_background": "light"
     },
     "output_type": "display_data"
    }
   ],
   "source": [
    "Saint_P_df_centre['ceiling_height'].hist(bins=5) #построение гистограммы столбца\n",
    "plt.title('Количество квартир по высоте потолка')\n",
    "plt.xlabel('Высота потолка, м')\n",
    "plt.ylabel('Количество квартир')\n",
    "plt.show()"
   ]
  },
  {
   "cell_type": "code",
   "execution_count": 67,
   "metadata": {},
   "outputs": [
    {
     "data": {
      "text/plain": [
       "count    2859.000000\n",
       "mean        2.627485\n",
       "std         0.095774\n",
       "min         2.450000\n",
       "25%         2.600000\n",
       "50%         2.600000\n",
       "75%         2.650000\n",
       "max         2.900000\n",
       "Name: ceiling_height, dtype: float64"
      ]
     },
     "execution_count": 67,
     "metadata": {},
     "output_type": "execute_result"
    }
   ],
   "source": [
    "Saint_P_df_centre['ceiling_height'].describe()"
   ]
  },
  {
   "cell_type": "markdown",
   "metadata": {},
   "source": [
    "Большинство домов имеют стандартную высоту потолка в 2.6 метра."
   ]
  },
  {
   "cell_type": "code",
   "execution_count": 68,
   "metadata": {},
   "outputs": [
    {
     "data": {
      "image/png": "[encoded data removed]",
      "text/plain": [
       "<Figure size 432x288 with 1 Axes>"
      ]
     },
     "metadata": {
      "needs_background": "light"
     },
     "output_type": "display_data"
    }
   ],
   "source": [
    "Saint_P_df_centre['days_exposition'].hist(bins=100) #построение гистограммы столбца\n",
    "plt.title('Количество квартир по времени размещения объявления')\n",
    "plt.xlabel('Время размещения объявления, дни')\n",
    "plt.ylabel('Количество квартир')\n",
    "plt.show()"
   ]
  },
  {
   "cell_type": "code",
   "execution_count": 69,
   "metadata": {},
   "outputs": [
    {
     "data": {
      "text/plain": [
       "count    2596.000000\n",
       "mean      192.044299\n",
       "std       234.838144\n",
       "min         3.000000\n",
       "25%        43.000000\n",
       "50%        98.000000\n",
       "75%       241.000000\n",
       "max      1477.000000\n",
       "Name: days_exposition, dtype: float64"
      ]
     },
     "execution_count": 69,
     "metadata": {},
     "output_type": "execute_result"
    }
   ],
   "source": [
    "Saint_P_df_centre['days_exposition'].describe()"
   ]
  },
  {
   "cell_type": "code",
   "execution_count": 70,
   "metadata": {},
   "outputs": [
    {
     "data": {
      "text/plain": [
       "count    17648.000000\n",
       "mean       169.186480\n",
       "std        207.117092\n",
       "min          1.000000\n",
       "25%         43.000000\n",
       "50%         90.000000\n",
       "75%        214.000000\n",
       "max       1580.000000\n",
       "Name: days_exposition, dtype: float64"
      ]
     },
     "execution_count": 70,
     "metadata": {},
     "output_type": "execute_result"
    }
   ],
   "source": [
    "good_df['days_exposition'].describe()"
   ]
  },
  {
   "cell_type": "code",
   "execution_count": 71,
   "metadata": {},
   "outputs": [
    {
     "data": {
      "image/png": "[encoded data removed]",
      "text/plain": [
       "<Figure size 1080x360 with 1 Axes>"
      ]
     },
     "metadata": {
      "needs_background": "light"
     },
     "output_type": "display_data"
    }
   ],
   "source": [
    "Saint_P_df_centre.pivot_table(index='cityCenters_nearest_km', values='last_price', aggfunc='mean').plot(figsize=(15,5))\n",
    "plt.title('График зависимости между расстоянием до центра и медианной ценой продажи квартир')\n",
    "plt.xlabel('Расстояние до центра, км.')\n",
    "plt.ylabel('Медианная цена продажи, руб.')\n",
    "plt.show()"
   ]
  },
  {
   "cell_type": "markdown",
   "metadata": {},
   "source": [
    "С увеличением расстояния до центра квартиры становятся дешевле"
   ]
  },
  {
   "cell_type": "code",
   "execution_count": 72,
   "metadata": {},
   "outputs": [
    {
     "data": {
      "image/png": "[encoded data removed]",
      "text/plain": [
       "<Figure size 1080x360 with 1 Axes>"
      ]
     },
     "metadata": {
      "needs_background": "light"
     },
     "output_type": "display_data"
    }
   ],
   "source": [
    "Saint_P_df_centre.pivot_table(index='rooms', values='last_price', aggfunc='mean').plot(figsize=(15,5))\n",
    "plt.title('График зависимости между количеством комнат и медианной ценой продажи квартир')\n",
    "plt.xlabel('Количество комнат')\n",
    "plt.ylabel('Медианная цена продажи, руб.')\n",
    "plt.show()"
   ]
  },
  {
   "cell_type": "markdown",
   "metadata": {},
   "source": [
    "С увеличением комнат стоимость квартир увеличавается"
   ]
  },
  {
   "cell_type": "code",
   "execution_count": 73,
   "metadata": {},
   "outputs": [
    {
     "data": {
      "image/png": "[encoded data removed]",
      "text/plain": [
       "<Figure size 1080x360 with 1 Axes>"
      ]
     },
     "metadata": {
      "needs_background": "light"
     },
     "output_type": "display_data"
    }
   ],
   "source": [
    "Saint_P_df_centre.pivot_table(index='year_exposition', values='last_price', aggfunc='mean').plot(figsize=(15,5))\n",
    "plt.title('График зависимости между годом подажи и медианной ценой продажи квартир')\n",
    "plt.xlabel('Год продажи')\n",
    "plt.ylabel('Медианная цена продажи, руб.')\n",
    "plt.show()"
   ]
  },
  {
   "cell_type": "markdown",
   "metadata": {},
   "source": [
    "Стоимость квартир в центре Петербурга снижалась до 2016 года и затем не наметилось повышение цен на квартиры."
   ]
  },
  {
   "cell_type": "markdown",
   "metadata": {},
   "source": [
    "В среднем, объявление по продаже квартиры в центре публикуется на сайте 116 дней. Тогда как остальные квартиры в других районах в среднем продаются 97 дней."
   ]
  },
  {
   "cell_type": "markdown",
   "metadata": {},
   "source": [
    "Исходя из анализа квартир в центре Санкт-Петербурга, можно сделат вывод, что цены на квартиры в среднем на 2 миллиона дороже. Большинстов квартир двухкомнатные, тогда как в других районах города преобладают как двух-, так трехкомнатые квартиры. Квартиры в центре продаются дольше, чем квартиры в дургих районах. "
   ]
  },
  {
   "cell_type": "markdown",
   "metadata": {},
   "source": [
    "## Общий вывод"
   ]
  },
  {
   "cell_type": "markdown",
   "metadata": {},
   "source": [
    "В данном проекте была посчитана рыночная стоимость квартир за квадратный метр в Петербурге и Ленинградской области. Была посчитана также рыночная стоимость квартир в центре Петербурга, исходя из нескольких парамтеров: число комнат, этаж, удалённость от центра, дата размещения объявления. "
   ]
  },
  {
   "cell_type": "markdown",
   "metadata": {},
   "source": [
    "В заключении, можно сказать, что такие параметры, как цена квартиры, этаж, число комнат, удаленность от центра помогут в проверке объявлений на мошеничество. Так, к примеру, квартира на первом или последнем этаже не может стоить дороже такой же этажом выше или ниже."
   ]
  }
 ],
 "metadata": {
  "ExecuteTimeLog": [
   {
    "duration": 437,
    "start_time": "2022-04-24T11:46:37.750Z"
   },
   {
    "duration": 90,
    "start_time": "2022-04-24T11:46:39.611Z"
   },
   {
    "duration": 14,
    "start_time": "2022-04-24T11:46:40.658Z"
   },
   {
    "duration": 90,
    "start_time": "2022-04-24T11:50:54.582Z"
   },
   {
    "duration": 32,
    "start_time": "2022-04-24T11:50:56.075Z"
   },
   {
    "duration": 16,
    "start_time": "2022-04-24T11:51:42.794Z"
   },
   {
    "duration": 10,
    "start_time": "2022-04-24T12:13:09.542Z"
   },
   {
    "duration": 72,
    "start_time": "2022-04-27T21:16:38.101Z"
   },
   {
    "duration": 533,
    "start_time": "2022-04-27T21:16:45.871Z"
   },
   {
    "duration": 109,
    "start_time": "2022-04-27T21:16:46.407Z"
   },
   {
    "duration": 65,
    "start_time": "2022-04-27T21:16:46.518Z"
   },
   {
    "duration": 21,
    "start_time": "2022-04-27T21:16:46.586Z"
   },
   {
    "duration": 12,
    "start_time": "2022-04-27T21:16:46.609Z"
   },
   {
    "duration": 8,
    "start_time": "2022-04-27T21:16:46.623Z"
   },
   {
    "duration": 9,
    "start_time": "2022-04-27T21:18:04.335Z"
   },
   {
    "duration": 14,
    "start_time": "2022-04-27T21:18:30.202Z"
   },
   {
    "duration": 9,
    "start_time": "2022-04-27T21:23:42.675Z"
   },
   {
    "duration": 9,
    "start_time": "2022-04-27T21:24:02.177Z"
   },
   {
    "duration": 9,
    "start_time": "2022-04-27T21:24:32.476Z"
   },
   {
    "duration": 7,
    "start_time": "2022-04-27T21:24:43.982Z"
   },
   {
    "duration": 102,
    "start_time": "2022-04-27T21:25:48.877Z"
   },
   {
    "duration": 70,
    "start_time": "2022-04-27T21:26:03.604Z"
   },
   {
    "duration": 12,
    "start_time": "2022-04-27T21:26:25.340Z"
   },
   {
    "duration": 69,
    "start_time": "2022-04-27T21:27:03.348Z"
   },
   {
    "duration": 83,
    "start_time": "2022-04-27T21:33:03.912Z"
   },
   {
    "duration": 69,
    "start_time": "2022-04-27T21:33:54.561Z"
   },
   {
    "duration": 83,
    "start_time": "2022-04-27T21:52:12.355Z"
   },
   {
    "duration": 66,
    "start_time": "2022-04-27T21:52:36.746Z"
   },
   {
    "duration": 93,
    "start_time": "2022-04-27T21:58:24.109Z"
   },
   {
    "duration": 8,
    "start_time": "2022-04-27T21:58:52.277Z"
   },
   {
    "duration": 64,
    "start_time": "2022-04-27T21:59:37.021Z"
   },
   {
    "duration": 12,
    "start_time": "2022-04-27T22:01:58.690Z"
   },
   {
    "duration": 17,
    "start_time": "2022-04-27T22:08:27.769Z"
   },
   {
    "duration": 17,
    "start_time": "2022-04-27T22:08:52.343Z"
   },
   {
    "duration": 16,
    "start_time": "2022-04-27T22:09:01.559Z"
   },
   {
    "duration": 122,
    "start_time": "2022-04-27T22:11:25.872Z"
   },
   {
    "duration": 60,
    "start_time": "2022-04-27T22:11:50.576Z"
   },
   {
    "duration": 65,
    "start_time": "2022-04-27T22:12:10.480Z"
   },
   {
    "duration": 29,
    "start_time": "2022-04-27T22:12:27.442Z"
   },
   {
    "duration": 10,
    "start_time": "2022-04-27T22:15:16.027Z"
   },
   {
    "duration": 66,
    "start_time": "2022-04-27T22:15:19.609Z"
   },
   {
    "duration": 87,
    "start_time": "2022-04-27T22:15:42.631Z"
   },
   {
    "duration": 548,
    "start_time": "2022-04-27T22:15:59.254Z"
   },
   {
    "duration": 107,
    "start_time": "2022-04-27T22:15:59.806Z"
   },
   {
    "duration": 72,
    "start_time": "2022-04-27T22:15:59.915Z"
   },
   {
    "duration": 25,
    "start_time": "2022-04-27T22:15:59.991Z"
   },
   {
    "duration": 13,
    "start_time": "2022-04-27T22:16:00.018Z"
   },
   {
    "duration": 124,
    "start_time": "2022-04-27T22:16:00.033Z"
   },
   {
    "duration": 12,
    "start_time": "2022-04-27T22:16:00.160Z"
   },
   {
    "duration": 67,
    "start_time": "2022-04-27T22:16:00.182Z"
   },
   {
    "duration": 9,
    "start_time": "2022-04-27T22:17:07.365Z"
   },
   {
    "duration": 114,
    "start_time": "2022-04-27T22:22:13.545Z"
   },
   {
    "duration": 492,
    "start_time": "2022-04-27T22:22:49.785Z"
   },
   {
    "duration": 16,
    "start_time": "2022-04-27T22:22:57.568Z"
   },
   {
    "duration": 492,
    "start_time": "2022-04-27T22:23:07.703Z"
   },
   {
    "duration": 106,
    "start_time": "2022-04-27T22:23:08.198Z"
   },
   {
    "duration": 80,
    "start_time": "2022-04-27T22:23:08.306Z"
   },
   {
    "duration": 32,
    "start_time": "2022-04-27T22:23:08.390Z"
   },
   {
    "duration": 19,
    "start_time": "2022-04-27T22:23:08.425Z"
   },
   {
    "duration": 170,
    "start_time": "2022-04-27T22:23:08.447Z"
   },
   {
    "duration": 466,
    "start_time": "2022-04-27T22:23:08.620Z"
   },
   {
    "duration": 16,
    "start_time": "2022-04-27T22:23:09.088Z"
   },
   {
    "duration": 11,
    "start_time": "2022-04-27T22:23:24.928Z"
   },
   {
    "duration": 50,
    "start_time": "2022-04-27T22:23:42.760Z"
   },
   {
    "duration": 538,
    "start_time": "2022-04-27T22:23:51.648Z"
   },
   {
    "duration": 215,
    "start_time": "2022-04-27T22:23:52.190Z"
   },
   {
    "duration": 57,
    "start_time": "2022-04-27T22:23:52.407Z"
   },
   {
    "duration": 27,
    "start_time": "2022-04-27T22:23:52.485Z"
   },
   {
    "duration": 15,
    "start_time": "2022-04-27T22:23:52.514Z"
   },
   {
    "duration": 109,
    "start_time": "2022-04-27T22:23:52.532Z"
   },
   {
    "duration": 313,
    "start_time": "2022-04-27T22:23:52.644Z"
   },
   {
    "duration": 5,
    "start_time": "2022-04-27T22:28:48.359Z"
   },
   {
    "duration": 6,
    "start_time": "2022-04-27T22:46:10.448Z"
   },
   {
    "duration": 6,
    "start_time": "2022-04-27T22:46:35.766Z"
   },
   {
    "duration": 591,
    "start_time": "2022-04-27T22:49:00.610Z"
   },
   {
    "duration": 107,
    "start_time": "2022-04-27T22:49:01.203Z"
   },
   {
    "duration": 71,
    "start_time": "2022-04-27T22:49:01.312Z"
   },
   {
    "duration": 23,
    "start_time": "2022-04-27T22:49:01.388Z"
   },
   {
    "duration": 14,
    "start_time": "2022-04-27T22:49:01.415Z"
   },
   {
    "duration": 106,
    "start_time": "2022-04-27T22:49:01.432Z"
   },
   {
    "duration": 306,
    "start_time": "2022-04-27T22:49:01.541Z"
   },
   {
    "duration": 6,
    "start_time": "2022-04-27T22:49:01.849Z"
   },
   {
    "duration": 27,
    "start_time": "2022-04-27T22:49:01.858Z"
   },
   {
    "duration": 16,
    "start_time": "2022-04-27T22:49:01.889Z"
   },
   {
    "duration": 97,
    "start_time": "2022-04-27T22:49:27.077Z"
   },
   {
    "duration": 12,
    "start_time": "2022-04-27T22:49:40.834Z"
   },
   {
    "duration": 10,
    "start_time": "2022-04-27T22:55:46.990Z"
   },
   {
    "duration": 6,
    "start_time": "2022-04-27T22:56:15.508Z"
   },
   {
    "duration": 379,
    "start_time": "2022-05-02T12:28:04.104Z"
   },
   {
    "duration": 79,
    "start_time": "2022-05-02T12:28:04.485Z"
   },
   {
    "duration": 36,
    "start_time": "2022-05-02T12:28:04.566Z"
   },
   {
    "duration": 14,
    "start_time": "2022-05-02T12:28:04.603Z"
   },
   {
    "duration": 8,
    "start_time": "2022-05-02T12:28:04.619Z"
   },
   {
    "duration": 42,
    "start_time": "2022-05-02T12:28:04.629Z"
   },
   {
    "duration": 175,
    "start_time": "2022-05-02T12:28:04.673Z"
   },
   {
    "duration": 3,
    "start_time": "2022-05-02T12:28:04.850Z"
   },
   {
    "duration": 10,
    "start_time": "2022-05-02T12:28:04.855Z"
   },
   {
    "duration": 3,
    "start_time": "2022-05-02T12:28:04.867Z"
   },
   {
    "duration": 6,
    "start_time": "2022-05-02T12:35:22.371Z"
   },
   {
    "duration": 4,
    "start_time": "2022-05-02T12:38:08.711Z"
   },
   {
    "duration": 385,
    "start_time": "2022-05-02T12:38:30.243Z"
   },
   {
    "duration": 110,
    "start_time": "2022-05-02T12:38:30.630Z"
   },
   {
    "duration": 34,
    "start_time": "2022-05-02T12:38:30.742Z"
   },
   {
    "duration": 28,
    "start_time": "2022-05-02T12:38:30.778Z"
   },
   {
    "duration": 9,
    "start_time": "2022-05-02T12:38:30.808Z"
   },
   {
    "duration": 48,
    "start_time": "2022-05-02T12:38:30.819Z"
   },
   {
    "duration": 174,
    "start_time": "2022-05-02T12:38:30.868Z"
   },
   {
    "duration": 3,
    "start_time": "2022-05-02T12:38:31.044Z"
   },
   {
    "duration": 9,
    "start_time": "2022-05-02T12:38:31.049Z"
   },
   {
    "duration": 5,
    "start_time": "2022-05-02T12:38:31.060Z"
   },
   {
    "duration": 10,
    "start_time": "2022-05-02T12:38:31.067Z"
   },
   {
    "duration": 400,
    "start_time": "2022-05-02T12:47:11.664Z"
   },
   {
    "duration": 79,
    "start_time": "2022-05-02T12:47:12.067Z"
   },
   {
    "duration": 31,
    "start_time": "2022-05-02T12:47:12.148Z"
   },
   {
    "duration": 22,
    "start_time": "2022-05-02T12:47:12.182Z"
   },
   {
    "duration": 9,
    "start_time": "2022-05-02T12:47:12.206Z"
   },
   {
    "duration": 50,
    "start_time": "2022-05-02T12:47:12.216Z"
   },
   {
    "duration": 163,
    "start_time": "2022-05-02T12:47:12.268Z"
   },
   {
    "duration": 4,
    "start_time": "2022-05-02T12:47:12.432Z"
   },
   {
    "duration": 9,
    "start_time": "2022-05-02T12:47:12.437Z"
   },
   {
    "duration": 6,
    "start_time": "2022-05-02T12:47:12.448Z"
   },
   {
    "duration": 6,
    "start_time": "2022-05-02T12:47:12.455Z"
   },
   {
    "duration": 11,
    "start_time": "2022-05-02T12:47:12.463Z"
   },
   {
    "duration": 61,
    "start_time": "2022-05-02T12:52:49.680Z"
   },
   {
    "duration": 7,
    "start_time": "2022-05-02T12:52:59.784Z"
   },
   {
    "duration": 5,
    "start_time": "2022-05-02T12:53:05.943Z"
   },
   {
    "duration": 6,
    "start_time": "2022-05-02T12:55:05.555Z"
   },
   {
    "duration": 414,
    "start_time": "2022-05-02T12:55:10.671Z"
   },
   {
    "duration": 83,
    "start_time": "2022-05-02T12:55:11.087Z"
   },
   {
    "duration": 33,
    "start_time": "2022-05-02T12:55:11.171Z"
   },
   {
    "duration": 20,
    "start_time": "2022-05-02T12:55:11.206Z"
   },
   {
    "duration": 10,
    "start_time": "2022-05-02T12:55:11.229Z"
   },
   {
    "duration": 85,
    "start_time": "2022-05-02T12:55:11.241Z"
   },
   {
    "duration": 255,
    "start_time": "2022-05-02T12:55:11.328Z"
   },
   {
    "duration": 4,
    "start_time": "2022-05-02T12:55:11.585Z"
   },
   {
    "duration": 5,
    "start_time": "2022-05-02T12:55:11.600Z"
   },
   {
    "duration": 12,
    "start_time": "2022-05-02T12:55:11.606Z"
   },
   {
    "duration": 7,
    "start_time": "2022-05-02T12:55:11.620Z"
   },
   {
    "duration": 7,
    "start_time": "2022-05-02T12:55:11.628Z"
   },
   {
    "duration": 5,
    "start_time": "2022-05-02T12:55:11.637Z"
   },
   {
    "duration": 13,
    "start_time": "2022-05-02T12:55:11.644Z"
   },
   {
    "duration": 7,
    "start_time": "2022-05-02T12:56:02.919Z"
   },
   {
    "duration": 35,
    "start_time": "2022-05-02T12:56:39.548Z"
   },
   {
    "duration": 61,
    "start_time": "2022-05-02T12:57:47.229Z"
   },
   {
    "duration": 36,
    "start_time": "2022-05-02T12:57:55.646Z"
   },
   {
    "duration": 9,
    "start_time": "2022-05-02T12:58:14.056Z"
   },
   {
    "duration": 33,
    "start_time": "2022-05-02T12:58:34.195Z"
   },
   {
    "duration": 13,
    "start_time": "2022-05-02T12:59:52.890Z"
   },
   {
    "duration": 415,
    "start_time": "2022-05-02T19:59:00.213Z"
   },
   {
    "duration": 77,
    "start_time": "2022-05-02T19:59:00.630Z"
   },
   {
    "duration": 47,
    "start_time": "2022-05-02T19:59:00.709Z"
   },
   {
    "duration": 15,
    "start_time": "2022-05-02T19:59:00.758Z"
   },
   {
    "duration": 8,
    "start_time": "2022-05-02T19:59:00.774Z"
   },
   {
    "duration": 47,
    "start_time": "2022-05-02T19:59:00.784Z"
   },
   {
    "duration": 180,
    "start_time": "2022-05-02T19:59:00.833Z"
   },
   {
    "duration": 4,
    "start_time": "2022-05-02T19:59:01.015Z"
   },
   {
    "duration": 26,
    "start_time": "2022-05-02T19:59:01.020Z"
   },
   {
    "duration": 25,
    "start_time": "2022-05-02T19:59:01.048Z"
   },
   {
    "duration": 21,
    "start_time": "2022-05-02T19:59:01.074Z"
   },
   {
    "duration": 23,
    "start_time": "2022-05-02T19:59:01.097Z"
   },
   {
    "duration": 16,
    "start_time": "2022-05-02T19:59:01.122Z"
   },
   {
    "duration": 22,
    "start_time": "2022-05-02T19:59:01.140Z"
   },
   {
    "duration": 6,
    "start_time": "2022-05-02T19:59:01.163Z"
   },
   {
    "duration": 39,
    "start_time": "2022-05-02T19:59:16.572Z"
   },
   {
    "duration": 69,
    "start_time": "2022-05-02T20:05:45.303Z"
   },
   {
    "duration": 8,
    "start_time": "2022-05-02T20:10:33.808Z"
   },
   {
    "duration": 440,
    "start_time": "2022-05-02T20:10:42.819Z"
   },
   {
    "duration": 113,
    "start_time": "2022-05-02T20:10:43.262Z"
   },
   {
    "duration": 61,
    "start_time": "2022-05-02T20:10:43.376Z"
   },
   {
    "duration": 30,
    "start_time": "2022-05-02T20:10:43.440Z"
   },
   {
    "duration": 14,
    "start_time": "2022-05-02T20:10:43.472Z"
   },
   {
    "duration": 94,
    "start_time": "2022-05-02T20:10:43.487Z"
   },
   {
    "duration": 214,
    "start_time": "2022-05-02T20:10:43.583Z"
   },
   {
    "duration": 3,
    "start_time": "2022-05-02T20:10:43.799Z"
   },
   {
    "duration": 14,
    "start_time": "2022-05-02T20:10:43.804Z"
   },
   {
    "duration": 31,
    "start_time": "2022-05-02T20:10:43.820Z"
   },
   {
    "duration": 30,
    "start_time": "2022-05-02T20:10:43.853Z"
   },
   {
    "duration": 25,
    "start_time": "2022-05-02T20:10:43.885Z"
   },
   {
    "duration": 19,
    "start_time": "2022-05-02T20:10:43.912Z"
   },
   {
    "duration": 49,
    "start_time": "2022-05-02T20:10:43.932Z"
   },
   {
    "duration": 38,
    "start_time": "2022-05-02T20:10:43.983Z"
   },
   {
    "duration": 11,
    "start_time": "2022-05-02T20:10:44.023Z"
   },
   {
    "duration": 37,
    "start_time": "2022-05-02T20:10:44.036Z"
   },
   {
    "duration": 65,
    "start_time": "2022-05-02T20:12:12.421Z"
   },
   {
    "duration": 5,
    "start_time": "2022-05-02T20:13:25.182Z"
   },
   {
    "duration": 6,
    "start_time": "2022-05-02T20:13:27.551Z"
   },
   {
    "duration": 26,
    "start_time": "2022-05-02T20:13:42.550Z"
   },
   {
    "duration": 4,
    "start_time": "2022-05-02T20:25:47.391Z"
   },
   {
    "duration": 2193,
    "start_time": "2022-05-02T20:26:31.505Z"
   },
   {
    "duration": 3,
    "start_time": "2022-05-02T20:30:25.617Z"
   },
   {
    "duration": 3,
    "start_time": "2022-05-02T20:30:49.711Z"
   },
   {
    "duration": 416,
    "start_time": "2022-05-05T20:11:12.885Z"
   },
   {
    "duration": 250,
    "start_time": "2022-05-05T20:11:13.303Z"
   },
   {
    "duration": 40,
    "start_time": "2022-05-05T20:11:13.555Z"
   },
   {
    "duration": 17,
    "start_time": "2022-05-05T20:11:13.597Z"
   },
   {
    "duration": 19,
    "start_time": "2022-05-05T20:11:13.615Z"
   },
   {
    "duration": 49,
    "start_time": "2022-05-05T20:11:13.636Z"
   },
   {
    "duration": 182,
    "start_time": "2022-05-05T20:11:13.686Z"
   },
   {
    "duration": 4,
    "start_time": "2022-05-05T20:11:13.869Z"
   },
   {
    "duration": 7,
    "start_time": "2022-05-05T20:11:13.875Z"
   },
   {
    "duration": 7,
    "start_time": "2022-05-05T20:11:13.884Z"
   },
   {
    "duration": 5,
    "start_time": "2022-05-05T20:11:13.893Z"
   },
   {
    "duration": 6,
    "start_time": "2022-05-05T20:11:13.900Z"
   },
   {
    "duration": 27,
    "start_time": "2022-05-05T20:11:13.908Z"
   },
   {
    "duration": 9,
    "start_time": "2022-05-05T20:11:13.937Z"
   },
   {
    "duration": 14,
    "start_time": "2022-05-05T20:11:13.947Z"
   },
   {
    "duration": 5,
    "start_time": "2022-05-05T20:11:13.963Z"
   },
   {
    "duration": 10,
    "start_time": "2022-05-05T20:11:13.969Z"
   },
   {
    "duration": 6,
    "start_time": "2022-05-05T20:11:13.980Z"
   },
   {
    "duration": 6,
    "start_time": "2022-05-05T20:11:13.988Z"
   },
   {
    "duration": 5,
    "start_time": "2022-05-05T20:11:13.996Z"
   },
   {
    "duration": 2254,
    "start_time": "2022-05-05T20:11:14.034Z"
   },
   {
    "duration": 4,
    "start_time": "2022-05-05T20:11:16.290Z"
   },
   {
    "duration": 11,
    "start_time": "2022-05-05T20:11:16.296Z"
   },
   {
    "duration": 488,
    "start_time": "2022-05-05T20:11:16.308Z"
   },
   {
    "duration": 156,
    "start_time": "2022-05-05T20:11:16.798Z"
   },
   {
    "duration": 174,
    "start_time": "2022-05-05T20:11:43.617Z"
   },
   {
    "duration": 178,
    "start_time": "2022-05-05T20:12:00.832Z"
   },
   {
    "duration": 131,
    "start_time": "2022-05-05T20:12:12.128Z"
   },
   {
    "duration": 1412,
    "start_time": "2022-05-05T20:12:24.319Z"
   },
   {
    "duration": 344,
    "start_time": "2022-05-05T20:12:34.261Z"
   },
   {
    "duration": 2749,
    "start_time": "2022-05-05T20:14:05.284Z"
   },
   {
    "duration": 0,
    "start_time": "2022-05-05T20:14:08.034Z"
   },
   {
    "duration": 0,
    "start_time": "2022-05-05T20:14:08.036Z"
   },
   {
    "duration": 261,
    "start_time": "2022-05-05T20:14:25.368Z"
   },
   {
    "duration": 258,
    "start_time": "2022-05-05T20:14:29.184Z"
   },
   {
    "duration": 252,
    "start_time": "2022-05-05T20:14:32.183Z"
   },
   {
    "duration": 139,
    "start_time": "2022-05-05T20:14:42.974Z"
   },
   {
    "duration": 136,
    "start_time": "2022-05-05T20:14:50.599Z"
   },
   {
    "duration": 14694,
    "start_time": "2022-05-05T20:15:13.032Z"
   },
   {
    "duration": 291,
    "start_time": "2022-05-05T20:15:42.653Z"
   },
   {
    "duration": 254,
    "start_time": "2022-05-05T20:19:22.727Z"
   },
   {
    "duration": 4,
    "start_time": "2022-05-05T20:20:17.736Z"
   },
   {
    "duration": 6,
    "start_time": "2022-05-05T20:20:19.699Z"
   },
   {
    "duration": 10,
    "start_time": "2022-05-05T20:21:11.210Z"
   },
   {
    "duration": 12,
    "start_time": "2022-05-05T20:21:16.524Z"
   },
   {
    "duration": 275,
    "start_time": "2022-05-05T20:25:16.715Z"
   },
   {
    "duration": 789,
    "start_time": "2022-05-05T20:26:20.661Z"
   },
   {
    "duration": 3,
    "start_time": "2022-05-05T20:26:57.599Z"
   },
   {
    "duration": 4,
    "start_time": "2022-05-05T20:27:06.254Z"
   },
   {
    "duration": 8,
    "start_time": "2022-05-05T20:27:11.289Z"
   },
   {
    "duration": 4,
    "start_time": "2022-05-05T20:27:24.897Z"
   },
   {
    "duration": 448,
    "start_time": "2022-05-05T20:27:41.302Z"
   },
   {
    "duration": 800,
    "start_time": "2022-05-05T20:27:41.752Z"
   },
   {
    "duration": 38,
    "start_time": "2022-05-05T20:27:42.553Z"
   },
   {
    "duration": 15,
    "start_time": "2022-05-05T20:27:42.594Z"
   },
   {
    "duration": 28,
    "start_time": "2022-05-05T20:27:42.610Z"
   },
   {
    "duration": 49,
    "start_time": "2022-05-05T20:27:42.639Z"
   },
   {
    "duration": 198,
    "start_time": "2022-05-05T20:27:42.690Z"
   },
   {
    "duration": 4,
    "start_time": "2022-05-05T20:27:42.890Z"
   },
   {
    "duration": 7,
    "start_time": "2022-05-05T20:27:42.896Z"
   },
   {
    "duration": 5,
    "start_time": "2022-05-05T20:27:42.906Z"
   },
   {
    "duration": 7,
    "start_time": "2022-05-05T20:27:42.913Z"
   },
   {
    "duration": 7,
    "start_time": "2022-05-05T20:27:42.932Z"
   },
   {
    "duration": 9,
    "start_time": "2022-05-05T20:27:42.940Z"
   },
   {
    "duration": 9,
    "start_time": "2022-05-05T20:27:42.950Z"
   },
   {
    "duration": 10,
    "start_time": "2022-05-05T20:27:42.960Z"
   },
   {
    "duration": 3,
    "start_time": "2022-05-05T20:27:42.972Z"
   },
   {
    "duration": 12,
    "start_time": "2022-05-05T20:27:42.977Z"
   },
   {
    "duration": 6,
    "start_time": "2022-05-05T20:27:42.991Z"
   },
   {
    "duration": 35,
    "start_time": "2022-05-05T20:27:42.999Z"
   },
   {
    "duration": 6,
    "start_time": "2022-05-05T20:27:43.036Z"
   },
   {
    "duration": 2309,
    "start_time": "2022-05-05T20:27:43.044Z"
   },
   {
    "duration": 4,
    "start_time": "2022-05-05T20:27:45.355Z"
   },
   {
    "duration": 8,
    "start_time": "2022-05-05T20:27:45.361Z"
   },
   {
    "duration": 307,
    "start_time": "2022-05-05T20:27:45.371Z"
   },
   {
    "duration": 284,
    "start_time": "2022-05-05T20:27:45.679Z"
   },
   {
    "duration": 290,
    "start_time": "2022-05-05T20:27:45.965Z"
   },
   {
    "duration": 365,
    "start_time": "2022-05-05T20:27:46.257Z"
   },
   {
    "duration": 279,
    "start_time": "2022-05-05T20:27:46.625Z"
   },
   {
    "duration": 276,
    "start_time": "2022-05-05T20:27:46.906Z"
   },
   {
    "duration": 6,
    "start_time": "2022-05-05T20:27:47.184Z"
   },
   {
    "duration": 11,
    "start_time": "2022-05-05T20:28:01.767Z"
   },
   {
    "duration": 269,
    "start_time": "2022-05-05T20:28:41.328Z"
   },
   {
    "duration": 240,
    "start_time": "2022-05-05T21:50:01.866Z"
   },
   {
    "duration": 18,
    "start_time": "2022-05-05T21:50:07.479Z"
   },
   {
    "duration": 11,
    "start_time": "2022-05-05T21:52:14.203Z"
   },
   {
    "duration": 680,
    "start_time": "2022-05-06T11:21:27.332Z"
   },
   {
    "duration": 150,
    "start_time": "2022-05-06T11:21:28.016Z"
   },
   {
    "duration": 96,
    "start_time": "2022-05-06T11:21:28.169Z"
   },
   {
    "duration": 30,
    "start_time": "2022-05-06T11:21:28.271Z"
   },
   {
    "duration": 19,
    "start_time": "2022-05-06T11:21:28.304Z"
   },
   {
    "duration": 119,
    "start_time": "2022-05-06T11:21:28.353Z"
   },
   {
    "duration": 495,
    "start_time": "2022-05-06T11:21:28.475Z"
   },
   {
    "duration": 6,
    "start_time": "2022-05-06T11:21:28.973Z"
   },
   {
    "duration": 15,
    "start_time": "2022-05-06T11:21:28.981Z"
   },
   {
    "duration": 6,
    "start_time": "2022-05-06T11:21:29.001Z"
   },
   {
    "duration": 41,
    "start_time": "2022-05-06T11:21:29.010Z"
   },
   {
    "duration": 10,
    "start_time": "2022-05-06T11:21:29.054Z"
   },
   {
    "duration": 13,
    "start_time": "2022-05-06T11:21:29.066Z"
   },
   {
    "duration": 18,
    "start_time": "2022-05-06T11:21:29.082Z"
   },
   {
    "duration": 51,
    "start_time": "2022-05-06T11:21:29.103Z"
   },
   {
    "duration": 6,
    "start_time": "2022-05-06T11:21:29.156Z"
   },
   {
    "duration": 17,
    "start_time": "2022-05-06T11:21:29.165Z"
   },
   {
    "duration": 8,
    "start_time": "2022-05-06T11:21:29.185Z"
   },
   {
    "duration": 8,
    "start_time": "2022-05-06T11:21:29.196Z"
   },
   {
    "duration": 11,
    "start_time": "2022-05-06T11:21:29.207Z"
   },
   {
    "duration": 4230,
    "start_time": "2022-05-06T11:21:29.253Z"
   },
   {
    "duration": 6,
    "start_time": "2022-05-06T11:21:33.487Z"
   },
   {
    "duration": 11,
    "start_time": "2022-05-06T11:21:33.495Z"
   },
   {
    "duration": 622,
    "start_time": "2022-05-06T11:21:33.508Z"
   },
   {
    "duration": 860,
    "start_time": "2022-05-06T11:21:34.134Z"
   },
   {
    "duration": 409,
    "start_time": "2022-05-06T11:21:34.997Z"
   },
   {
    "duration": 457,
    "start_time": "2022-05-06T11:21:35.408Z"
   },
   {
    "duration": 631,
    "start_time": "2022-05-06T11:21:35.869Z"
   },
   {
    "duration": 572,
    "start_time": "2022-05-06T11:21:36.503Z"
   },
   {
    "duration": 21,
    "start_time": "2022-05-06T11:21:37.078Z"
   },
   {
    "duration": 53,
    "start_time": "2022-05-06T11:21:37.102Z"
   },
   {
    "duration": 232,
    "start_time": "2022-05-06T11:22:04.724Z"
   },
   {
    "duration": 197,
    "start_time": "2022-05-06T11:22:15.097Z"
   },
   {
    "duration": 296,
    "start_time": "2022-05-06T11:22:22.162Z"
   },
   {
    "duration": 49,
    "start_time": "2022-05-06T19:09:04.048Z"
   },
   {
    "duration": 405,
    "start_time": "2022-05-06T19:09:10.775Z"
   },
   {
    "duration": 74,
    "start_time": "2022-05-06T19:09:11.182Z"
   },
   {
    "duration": 32,
    "start_time": "2022-05-06T19:09:11.258Z"
   },
   {
    "duration": 14,
    "start_time": "2022-05-06T19:09:11.292Z"
   },
   {
    "duration": 8,
    "start_time": "2022-05-06T19:09:11.308Z"
   },
   {
    "duration": 70,
    "start_time": "2022-05-06T19:09:11.317Z"
   },
   {
    "duration": 164,
    "start_time": "2022-05-06T19:09:11.389Z"
   },
   {
    "duration": 4,
    "start_time": "2022-05-06T19:09:11.554Z"
   },
   {
    "duration": 6,
    "start_time": "2022-05-06T19:09:11.559Z"
   },
   {
    "duration": 4,
    "start_time": "2022-05-06T19:09:11.568Z"
   },
   {
    "duration": 6,
    "start_time": "2022-05-06T19:09:11.573Z"
   },
   {
    "duration": 6,
    "start_time": "2022-05-06T19:09:11.581Z"
   },
   {
    "duration": 5,
    "start_time": "2022-05-06T19:09:11.589Z"
   },
   {
    "duration": 8,
    "start_time": "2022-05-06T19:09:11.596Z"
   },
   {
    "duration": 10,
    "start_time": "2022-05-06T19:09:11.605Z"
   },
   {
    "duration": 40,
    "start_time": "2022-05-06T19:09:11.617Z"
   },
   {
    "duration": 9,
    "start_time": "2022-05-06T19:09:11.659Z"
   },
   {
    "duration": 6,
    "start_time": "2022-05-06T19:09:11.669Z"
   },
   {
    "duration": 6,
    "start_time": "2022-05-06T19:09:11.676Z"
   },
   {
    "duration": 4,
    "start_time": "2022-05-06T19:09:11.683Z"
   },
   {
    "duration": 2080,
    "start_time": "2022-05-06T19:09:11.688Z"
   },
   {
    "duration": 3,
    "start_time": "2022-05-06T19:09:13.770Z"
   },
   {
    "duration": 13,
    "start_time": "2022-05-06T19:09:13.774Z"
   },
   {
    "duration": 440,
    "start_time": "2022-05-06T19:09:13.789Z"
   },
   {
    "duration": 214,
    "start_time": "2022-05-06T19:09:14.231Z"
   },
   {
    "duration": 235,
    "start_time": "2022-05-06T19:09:14.447Z"
   },
   {
    "duration": 196,
    "start_time": "2022-05-06T19:09:14.684Z"
   },
   {
    "duration": 186,
    "start_time": "2022-05-06T19:09:14.883Z"
   },
   {
    "duration": 215,
    "start_time": "2022-05-06T19:09:15.071Z"
   },
   {
    "duration": 10,
    "start_time": "2022-05-06T19:09:15.287Z"
   },
   {
    "duration": 31,
    "start_time": "2022-05-06T19:09:15.298Z"
   },
   {
    "duration": 19,
    "start_time": "2022-05-06T19:09:15.331Z"
   },
   {
    "duration": 9,
    "start_time": "2022-05-06T19:10:09.727Z"
   },
   {
    "duration": 137,
    "start_time": "2022-05-06T19:11:10.855Z"
   },
   {
    "duration": 217,
    "start_time": "2022-05-06T19:12:11.777Z"
   },
   {
    "duration": 293,
    "start_time": "2022-05-06T19:12:19.135Z"
   },
   {
    "duration": 285,
    "start_time": "2022-05-06T19:12:35.296Z"
   },
   {
    "duration": 239,
    "start_time": "2022-05-06T19:13:15.151Z"
   },
   {
    "duration": 11,
    "start_time": "2022-05-06T19:13:47.487Z"
   },
   {
    "duration": 1198,
    "start_time": "2022-05-06T19:15:25.719Z"
   },
   {
    "duration": 9,
    "start_time": "2022-05-06T19:15:37.945Z"
   },
   {
    "duration": 12,
    "start_time": "2022-05-06T19:15:40.808Z"
   },
   {
    "duration": 7,
    "start_time": "2022-05-06T19:21:01.372Z"
   },
   {
    "duration": 6,
    "start_time": "2022-05-06T19:21:47.753Z"
   },
   {
    "duration": 6,
    "start_time": "2022-05-06T19:23:16.842Z"
   },
   {
    "duration": 32,
    "start_time": "2022-05-06T19:26:26.811Z"
   },
   {
    "duration": 30,
    "start_time": "2022-05-06T19:26:53.061Z"
   },
   {
    "duration": 16,
    "start_time": "2022-05-06T19:32:56.998Z"
   },
   {
    "duration": 419,
    "start_time": "2022-05-06T19:33:51.899Z"
   },
   {
    "duration": 86,
    "start_time": "2022-05-06T19:33:52.320Z"
   },
   {
    "duration": 36,
    "start_time": "2022-05-06T19:33:52.408Z"
   },
   {
    "duration": 16,
    "start_time": "2022-05-06T19:33:52.454Z"
   },
   {
    "duration": 9,
    "start_time": "2022-05-06T19:33:52.472Z"
   },
   {
    "duration": 44,
    "start_time": "2022-05-06T19:33:52.483Z"
   },
   {
    "duration": 195,
    "start_time": "2022-05-06T19:33:52.528Z"
   },
   {
    "duration": 4,
    "start_time": "2022-05-06T19:33:52.725Z"
   },
   {
    "duration": 9,
    "start_time": "2022-05-06T19:33:52.730Z"
   },
   {
    "duration": 19,
    "start_time": "2022-05-06T19:33:52.742Z"
   },
   {
    "duration": 5,
    "start_time": "2022-05-06T19:33:52.762Z"
   },
   {
    "duration": 7,
    "start_time": "2022-05-06T19:33:52.769Z"
   },
   {
    "duration": 7,
    "start_time": "2022-05-06T19:33:52.777Z"
   },
   {
    "duration": 10,
    "start_time": "2022-05-06T19:33:52.786Z"
   },
   {
    "duration": 10,
    "start_time": "2022-05-06T19:33:52.798Z"
   },
   {
    "duration": 5,
    "start_time": "2022-05-06T19:33:52.810Z"
   },
   {
    "duration": 37,
    "start_time": "2022-05-06T19:33:52.817Z"
   },
   {
    "duration": 7,
    "start_time": "2022-05-06T19:33:52.857Z"
   },
   {
    "duration": 8,
    "start_time": "2022-05-06T19:33:52.865Z"
   },
   {
    "duration": 3,
    "start_time": "2022-05-06T19:33:52.875Z"
   },
   {
    "duration": 4135,
    "start_time": "2022-05-06T19:33:52.881Z"
   },
   {
    "duration": 5,
    "start_time": "2022-05-06T19:33:57.018Z"
   },
   {
    "duration": 21,
    "start_time": "2022-05-06T19:33:57.024Z"
   },
   {
    "duration": 313,
    "start_time": "2022-05-06T19:33:57.047Z"
   },
   {
    "duration": 354,
    "start_time": "2022-05-06T19:33:57.362Z"
   },
   {
    "duration": 483,
    "start_time": "2022-05-06T19:33:57.718Z"
   },
   {
    "duration": 218,
    "start_time": "2022-05-06T19:33:58.203Z"
   },
   {
    "duration": 365,
    "start_time": "2022-05-06T19:33:58.427Z"
   },
   {
    "duration": 352,
    "start_time": "2022-05-06T19:33:58.794Z"
   },
   {
    "duration": 17,
    "start_time": "2022-05-06T19:33:59.148Z"
   },
   {
    "duration": 36,
    "start_time": "2022-05-06T19:33:59.167Z"
   },
   {
    "duration": 15,
    "start_time": "2022-05-06T19:33:59.205Z"
   },
   {
    "duration": 30,
    "start_time": "2022-05-06T19:33:59.222Z"
   },
   {
    "duration": 17,
    "start_time": "2022-05-06T19:33:59.255Z"
   },
   {
    "duration": 37,
    "start_time": "2022-05-06T19:33:59.274Z"
   },
   {
    "duration": 13,
    "start_time": "2022-05-06T19:33:59.313Z"
   },
   {
    "duration": 17,
    "start_time": "2022-05-06T19:33:59.328Z"
   },
   {
    "duration": 26,
    "start_time": "2022-05-06T19:33:59.347Z"
   },
   {
    "duration": 22,
    "start_time": "2022-05-06T19:33:59.375Z"
   },
   {
    "duration": 507,
    "start_time": "2022-05-06T19:35:12.588Z"
   },
   {
    "duration": 116,
    "start_time": "2022-05-06T19:35:13.098Z"
   },
   {
    "duration": 56,
    "start_time": "2022-05-06T19:35:13.216Z"
   },
   {
    "duration": 23,
    "start_time": "2022-05-06T19:35:13.275Z"
   },
   {
    "duration": 14,
    "start_time": "2022-05-06T19:35:13.300Z"
   },
   {
    "duration": 72,
    "start_time": "2022-05-06T19:35:13.316Z"
   },
   {
    "duration": 172,
    "start_time": "2022-05-06T19:35:13.390Z"
   },
   {
    "duration": 4,
    "start_time": "2022-05-06T19:35:13.563Z"
   },
   {
    "duration": 10,
    "start_time": "2022-05-06T19:35:13.568Z"
   },
   {
    "duration": 5,
    "start_time": "2022-05-06T19:35:13.581Z"
   },
   {
    "duration": 4,
    "start_time": "2022-05-06T19:35:13.588Z"
   },
   {
    "duration": 7,
    "start_time": "2022-05-06T19:35:13.594Z"
   },
   {
    "duration": 6,
    "start_time": "2022-05-06T19:35:13.603Z"
   },
   {
    "duration": 9,
    "start_time": "2022-05-06T19:35:13.611Z"
   },
   {
    "duration": 36,
    "start_time": "2022-05-06T19:35:13.622Z"
   },
   {
    "duration": 4,
    "start_time": "2022-05-06T19:35:13.659Z"
   },
   {
    "duration": 11,
    "start_time": "2022-05-06T19:35:13.665Z"
   },
   {
    "duration": 6,
    "start_time": "2022-05-06T19:35:13.677Z"
   },
   {
    "duration": 6,
    "start_time": "2022-05-06T19:35:13.684Z"
   },
   {
    "duration": 140,
    "start_time": "2022-05-06T19:35:13.692Z"
   },
   {
    "duration": 0,
    "start_time": "2022-05-06T19:35:13.834Z"
   },
   {
    "duration": 0,
    "start_time": "2022-05-06T19:35:13.835Z"
   },
   {
    "duration": 0,
    "start_time": "2022-05-06T19:35:13.837Z"
   },
   {
    "duration": 0,
    "start_time": "2022-05-06T19:35:13.838Z"
   },
   {
    "duration": 0,
    "start_time": "2022-05-06T19:35:13.839Z"
   },
   {
    "duration": 0,
    "start_time": "2022-05-06T19:35:13.840Z"
   },
   {
    "duration": 0,
    "start_time": "2022-05-06T19:35:13.841Z"
   },
   {
    "duration": 0,
    "start_time": "2022-05-06T19:35:13.842Z"
   },
   {
    "duration": 0,
    "start_time": "2022-05-06T19:35:13.843Z"
   },
   {
    "duration": 0,
    "start_time": "2022-05-06T19:35:13.844Z"
   },
   {
    "duration": 0,
    "start_time": "2022-05-06T19:35:13.845Z"
   },
   {
    "duration": 0,
    "start_time": "2022-05-06T19:35:13.846Z"
   },
   {
    "duration": 0,
    "start_time": "2022-05-06T19:35:13.847Z"
   },
   {
    "duration": 1,
    "start_time": "2022-05-06T19:35:13.848Z"
   },
   {
    "duration": 0,
    "start_time": "2022-05-06T19:35:13.850Z"
   },
   {
    "duration": 0,
    "start_time": "2022-05-06T19:35:13.851Z"
   },
   {
    "duration": 0,
    "start_time": "2022-05-06T19:35:13.852Z"
   },
   {
    "duration": 0,
    "start_time": "2022-05-06T19:35:13.853Z"
   },
   {
    "duration": 0,
    "start_time": "2022-05-06T19:35:13.854Z"
   },
   {
    "duration": 3,
    "start_time": "2022-05-06T19:35:37.929Z"
   },
   {
    "duration": 2875,
    "start_time": "2022-05-06T19:35:40.165Z"
   },
   {
    "duration": 380,
    "start_time": "2022-05-06T19:35:47.184Z"
   },
   {
    "duration": 76,
    "start_time": "2022-05-06T19:35:47.566Z"
   },
   {
    "duration": 46,
    "start_time": "2022-05-06T19:35:47.644Z"
   },
   {
    "duration": 16,
    "start_time": "2022-05-06T19:35:47.692Z"
   },
   {
    "duration": 9,
    "start_time": "2022-05-06T19:35:47.710Z"
   },
   {
    "duration": 68,
    "start_time": "2022-05-06T19:35:47.720Z"
   },
   {
    "duration": 172,
    "start_time": "2022-05-06T19:35:47.790Z"
   },
   {
    "duration": 4,
    "start_time": "2022-05-06T19:35:47.963Z"
   },
   {
    "duration": 9,
    "start_time": "2022-05-06T19:35:47.969Z"
   },
   {
    "duration": 5,
    "start_time": "2022-05-06T19:35:47.981Z"
   },
   {
    "duration": 5,
    "start_time": "2022-05-06T19:35:47.988Z"
   },
   {
    "duration": 8,
    "start_time": "2022-05-06T19:35:47.994Z"
   },
   {
    "duration": 6,
    "start_time": "2022-05-06T19:35:48.003Z"
   },
   {
    "duration": 7,
    "start_time": "2022-05-06T19:35:48.011Z"
   },
   {
    "duration": 36,
    "start_time": "2022-05-06T19:35:48.019Z"
   },
   {
    "duration": 4,
    "start_time": "2022-05-06T19:35:48.057Z"
   },
   {
    "duration": 12,
    "start_time": "2022-05-06T19:35:48.063Z"
   },
   {
    "duration": 8,
    "start_time": "2022-05-06T19:35:48.076Z"
   },
   {
    "duration": 10,
    "start_time": "2022-05-06T19:35:48.086Z"
   },
   {
    "duration": 3,
    "start_time": "2022-05-06T19:35:48.098Z"
   },
   {
    "duration": 2295,
    "start_time": "2022-05-06T19:35:48.103Z"
   },
   {
    "duration": 4,
    "start_time": "2022-05-06T19:35:50.400Z"
   },
   {
    "duration": 10,
    "start_time": "2022-05-06T19:35:50.406Z"
   },
   {
    "duration": 415,
    "start_time": "2022-05-06T19:35:50.418Z"
   },
   {
    "duration": 227,
    "start_time": "2022-05-06T19:35:50.836Z"
   },
   {
    "duration": 241,
    "start_time": "2022-05-06T19:35:51.065Z"
   },
   {
    "duration": 137,
    "start_time": "2022-05-06T19:35:51.308Z"
   },
   {
    "duration": 270,
    "start_time": "2022-05-06T19:35:51.449Z"
   },
   {
    "duration": 226,
    "start_time": "2022-05-06T19:35:51.721Z"
   },
   {
    "duration": 14,
    "start_time": "2022-05-06T19:35:51.948Z"
   },
   {
    "duration": 19,
    "start_time": "2022-05-06T19:35:51.963Z"
   },
   {
    "duration": 12,
    "start_time": "2022-05-06T19:35:51.984Z"
   },
   {
    "duration": 9,
    "start_time": "2022-05-06T19:35:51.998Z"
   },
   {
    "duration": 8,
    "start_time": "2022-05-06T19:35:52.009Z"
   },
   {
    "duration": 37,
    "start_time": "2022-05-06T19:35:52.019Z"
   },
   {
    "duration": 14,
    "start_time": "2022-05-06T19:35:52.058Z"
   },
   {
    "duration": 22,
    "start_time": "2022-05-06T19:35:52.074Z"
   },
   {
    "duration": 8,
    "start_time": "2022-05-06T19:35:52.098Z"
   },
   {
    "duration": 20,
    "start_time": "2022-05-06T19:35:52.107Z"
   },
   {
    "duration": 407,
    "start_time": "2022-05-06T19:36:22.607Z"
   },
   {
    "duration": 87,
    "start_time": "2022-05-06T19:36:23.016Z"
   },
   {
    "duration": 33,
    "start_time": "2022-05-06T19:36:23.105Z"
   },
   {
    "duration": 27,
    "start_time": "2022-05-06T19:36:23.140Z"
   },
   {
    "duration": 40,
    "start_time": "2022-05-06T19:36:23.169Z"
   },
   {
    "duration": 70,
    "start_time": "2022-05-06T19:36:23.211Z"
   },
   {
    "duration": 281,
    "start_time": "2022-05-06T19:36:23.283Z"
   },
   {
    "duration": 4,
    "start_time": "2022-05-06T19:36:23.567Z"
   },
   {
    "duration": 24,
    "start_time": "2022-05-06T19:36:23.573Z"
   },
   {
    "duration": 15,
    "start_time": "2022-05-06T19:36:23.601Z"
   },
   {
    "duration": 26,
    "start_time": "2022-05-06T19:36:23.619Z"
   },
   {
    "duration": 26,
    "start_time": "2022-05-06T19:36:23.647Z"
   },
   {
    "duration": 27,
    "start_time": "2022-05-06T19:36:23.675Z"
   },
   {
    "duration": 19,
    "start_time": "2022-05-06T19:36:23.704Z"
   },
   {
    "duration": 32,
    "start_time": "2022-05-06T19:36:23.725Z"
   },
   {
    "duration": 13,
    "start_time": "2022-05-06T19:36:23.759Z"
   },
   {
    "duration": 22,
    "start_time": "2022-05-06T19:36:23.774Z"
   },
   {
    "duration": 27,
    "start_time": "2022-05-06T19:36:23.798Z"
   },
   {
    "duration": 18,
    "start_time": "2022-05-06T19:36:23.827Z"
   },
   {
    "duration": 23,
    "start_time": "2022-05-06T19:36:23.846Z"
   },
   {
    "duration": 2280,
    "start_time": "2022-05-06T19:36:23.871Z"
   },
   {
    "duration": 4,
    "start_time": "2022-05-06T19:36:26.152Z"
   },
   {
    "duration": 27,
    "start_time": "2022-05-06T19:36:26.158Z"
   },
   {
    "duration": 291,
    "start_time": "2022-05-06T19:36:26.186Z"
   },
   {
    "duration": 221,
    "start_time": "2022-05-06T19:36:26.479Z"
   },
   {
    "duration": 247,
    "start_time": "2022-05-06T19:36:26.702Z"
   },
   {
    "duration": 135,
    "start_time": "2022-05-06T19:36:26.950Z"
   },
   {
    "duration": 240,
    "start_time": "2022-05-06T19:36:27.088Z"
   },
   {
    "duration": 232,
    "start_time": "2022-05-06T19:36:27.329Z"
   },
   {
    "duration": 9,
    "start_time": "2022-05-06T19:36:27.562Z"
   },
   {
    "duration": 31,
    "start_time": "2022-05-06T19:36:27.573Z"
   },
   {
    "duration": 10,
    "start_time": "2022-05-06T19:36:27.606Z"
   },
   {
    "duration": 16,
    "start_time": "2022-05-06T19:36:27.618Z"
   },
   {
    "duration": 23,
    "start_time": "2022-05-06T19:36:27.635Z"
   },
   {
    "duration": 24,
    "start_time": "2022-05-06T19:36:27.659Z"
   },
   {
    "duration": 10,
    "start_time": "2022-05-06T19:36:27.684Z"
   },
   {
    "duration": 16,
    "start_time": "2022-05-06T19:36:27.696Z"
   },
   {
    "duration": 15,
    "start_time": "2022-05-06T19:36:27.713Z"
   },
   {
    "duration": 29,
    "start_time": "2022-05-06T19:36:27.730Z"
   },
   {
    "duration": 138,
    "start_time": "2022-05-06T19:38:50.174Z"
   },
   {
    "duration": 3,
    "start_time": "2022-05-06T19:39:03.390Z"
   },
   {
    "duration": 386,
    "start_time": "2022-05-06T19:39:08.900Z"
   },
   {
    "duration": 76,
    "start_time": "2022-05-06T19:39:09.288Z"
   },
   {
    "duration": 34,
    "start_time": "2022-05-06T19:39:09.366Z"
   },
   {
    "duration": 15,
    "start_time": "2022-05-06T19:39:09.402Z"
   },
   {
    "duration": 9,
    "start_time": "2022-05-06T19:39:09.419Z"
   },
   {
    "duration": 68,
    "start_time": "2022-05-06T19:39:09.430Z"
   },
   {
    "duration": 285,
    "start_time": "2022-05-06T19:39:09.500Z"
   },
   {
    "duration": 4,
    "start_time": "2022-05-06T19:39:09.788Z"
   },
   {
    "duration": 13,
    "start_time": "2022-05-06T19:39:09.794Z"
   },
   {
    "duration": 16,
    "start_time": "2022-05-06T19:39:09.811Z"
   },
   {
    "duration": 6,
    "start_time": "2022-05-06T19:39:09.829Z"
   },
   {
    "duration": 10,
    "start_time": "2022-05-06T19:39:09.837Z"
   },
   {
    "duration": 10,
    "start_time": "2022-05-06T19:39:09.849Z"
   },
   {
    "duration": 12,
    "start_time": "2022-05-06T19:39:09.861Z"
   },
   {
    "duration": 16,
    "start_time": "2022-05-06T19:39:09.875Z"
   },
   {
    "duration": 5,
    "start_time": "2022-05-06T19:39:09.893Z"
   },
   {
    "duration": 9,
    "start_time": "2022-05-06T19:39:09.900Z"
   },
   {
    "duration": 7,
    "start_time": "2022-05-06T19:39:09.912Z"
   },
   {
    "duration": 36,
    "start_time": "2022-05-06T19:39:09.921Z"
   },
   {
    "duration": 4,
    "start_time": "2022-05-06T19:39:09.959Z"
   },
   {
    "duration": 5891,
    "start_time": "2022-05-06T19:39:09.965Z"
   },
   {
    "duration": 4,
    "start_time": "2022-05-06T19:39:15.858Z"
   },
   {
    "duration": 8,
    "start_time": "2022-05-06T19:39:15.865Z"
   },
   {
    "duration": 386,
    "start_time": "2022-05-06T19:39:15.875Z"
   },
   {
    "duration": 372,
    "start_time": "2022-05-06T19:39:16.263Z"
   },
   {
    "duration": 398,
    "start_time": "2022-05-06T19:39:16.637Z"
   },
   {
    "duration": 220,
    "start_time": "2022-05-06T19:39:17.037Z"
   },
   {
    "duration": 374,
    "start_time": "2022-05-06T19:39:17.262Z"
   },
   {
    "duration": 380,
    "start_time": "2022-05-06T19:39:17.638Z"
   },
   {
    "duration": 12,
    "start_time": "2022-05-06T19:39:18.021Z"
   },
   {
    "duration": 33,
    "start_time": "2022-05-06T19:39:18.035Z"
   },
   {
    "duration": 15,
    "start_time": "2022-05-06T19:39:18.070Z"
   },
   {
    "duration": 12,
    "start_time": "2022-05-06T19:39:18.087Z"
   },
   {
    "duration": 10,
    "start_time": "2022-05-06T19:39:18.101Z"
   },
   {
    "duration": 9,
    "start_time": "2022-05-06T19:39:18.114Z"
   },
   {
    "duration": 35,
    "start_time": "2022-05-06T19:39:18.124Z"
   },
   {
    "duration": 5,
    "start_time": "2022-05-06T19:39:18.161Z"
   },
   {
    "duration": 5,
    "start_time": "2022-05-06T19:39:18.168Z"
   },
   {
    "duration": 13,
    "start_time": "2022-05-06T19:39:18.175Z"
   },
   {
    "duration": 413,
    "start_time": "2022-05-06T19:41:05.359Z"
   },
   {
    "duration": 81,
    "start_time": "2022-05-06T19:41:05.774Z"
   },
   {
    "duration": 37,
    "start_time": "2022-05-06T19:41:05.857Z"
   },
   {
    "duration": 15,
    "start_time": "2022-05-06T19:41:05.896Z"
   },
   {
    "duration": 11,
    "start_time": "2022-05-06T19:41:05.914Z"
   },
   {
    "duration": 70,
    "start_time": "2022-05-06T19:41:05.927Z"
   },
   {
    "duration": 189,
    "start_time": "2022-05-06T19:41:05.999Z"
   },
   {
    "duration": 4,
    "start_time": "2022-05-06T19:41:06.189Z"
   },
   {
    "duration": 14,
    "start_time": "2022-05-06T19:41:06.195Z"
   },
   {
    "duration": 6,
    "start_time": "2022-05-06T19:41:06.210Z"
   },
   {
    "duration": 7,
    "start_time": "2022-05-06T19:41:06.217Z"
   },
   {
    "duration": 12,
    "start_time": "2022-05-06T19:41:06.225Z"
   },
   {
    "duration": 9,
    "start_time": "2022-05-06T19:41:06.238Z"
   },
   {
    "duration": 9,
    "start_time": "2022-05-06T19:41:06.253Z"
   },
   {
    "duration": 13,
    "start_time": "2022-05-06T19:41:06.263Z"
   },
   {
    "duration": 4,
    "start_time": "2022-05-06T19:41:06.278Z"
   },
   {
    "duration": 12,
    "start_time": "2022-05-06T19:41:06.283Z"
   },
   {
    "duration": 7,
    "start_time": "2022-05-06T19:41:06.297Z"
   },
   {
    "duration": 6,
    "start_time": "2022-05-06T19:41:06.305Z"
   },
   {
    "duration": 3,
    "start_time": "2022-05-06T19:41:06.313Z"
   },
   {
    "duration": 2665,
    "start_time": "2022-05-06T19:41:06.318Z"
   },
   {
    "duration": 4,
    "start_time": "2022-05-06T19:41:08.985Z"
   },
   {
    "duration": 16,
    "start_time": "2022-05-06T19:41:08.990Z"
   },
   {
    "duration": 288,
    "start_time": "2022-05-06T19:41:09.008Z"
   },
   {
    "duration": 320,
    "start_time": "2022-05-06T19:41:09.298Z"
   },
   {
    "duration": 257,
    "start_time": "2022-05-06T19:41:09.620Z"
   },
   {
    "duration": 224,
    "start_time": "2022-05-06T19:41:09.880Z"
   },
   {
    "duration": 376,
    "start_time": "2022-05-06T19:41:10.107Z"
   },
   {
    "duration": 393,
    "start_time": "2022-05-06T19:41:10.485Z"
   },
   {
    "duration": 13,
    "start_time": "2022-05-06T19:41:10.881Z"
   },
   {
    "duration": 34,
    "start_time": "2022-05-06T19:41:10.896Z"
   },
   {
    "duration": 27,
    "start_time": "2022-05-06T19:41:10.932Z"
   },
   {
    "duration": 25,
    "start_time": "2022-05-06T19:41:10.961Z"
   },
   {
    "duration": 22,
    "start_time": "2022-05-06T19:41:10.988Z"
   },
   {
    "duration": 25,
    "start_time": "2022-05-06T19:41:11.013Z"
   },
   {
    "duration": 40,
    "start_time": "2022-05-06T19:41:11.040Z"
   },
   {
    "duration": 10,
    "start_time": "2022-05-06T19:41:11.082Z"
   },
   {
    "duration": 22,
    "start_time": "2022-05-06T19:41:11.094Z"
   },
   {
    "duration": 28,
    "start_time": "2022-05-06T19:41:11.118Z"
   },
   {
    "duration": 4,
    "start_time": "2022-05-06T19:44:45.869Z"
   },
   {
    "duration": 438,
    "start_time": "2022-05-06T19:45:07.630Z"
   },
   {
    "duration": 81,
    "start_time": "2022-05-06T19:45:08.070Z"
   },
   {
    "duration": 35,
    "start_time": "2022-05-06T19:45:08.154Z"
   },
   {
    "duration": 16,
    "start_time": "2022-05-06T19:45:08.192Z"
   },
   {
    "duration": 16,
    "start_time": "2022-05-06T19:45:08.210Z"
   },
   {
    "duration": 64,
    "start_time": "2022-05-06T19:45:08.228Z"
   },
   {
    "duration": 178,
    "start_time": "2022-05-06T19:45:08.294Z"
   },
   {
    "duration": 5,
    "start_time": "2022-05-06T19:45:08.474Z"
   },
   {
    "duration": 7,
    "start_time": "2022-05-06T19:45:08.481Z"
   },
   {
    "duration": 13,
    "start_time": "2022-05-06T19:45:08.491Z"
   },
   {
    "duration": 8,
    "start_time": "2022-05-06T19:45:08.506Z"
   },
   {
    "duration": 7,
    "start_time": "2022-05-06T19:45:08.516Z"
   },
   {
    "duration": 8,
    "start_time": "2022-05-06T19:45:08.524Z"
   },
   {
    "duration": 26,
    "start_time": "2022-05-06T19:45:08.533Z"
   },
   {
    "duration": 11,
    "start_time": "2022-05-06T19:45:08.561Z"
   },
   {
    "duration": 5,
    "start_time": "2022-05-06T19:45:08.573Z"
   },
   {
    "duration": 11,
    "start_time": "2022-05-06T19:45:08.580Z"
   },
   {
    "duration": 8,
    "start_time": "2022-05-06T19:45:08.593Z"
   },
   {
    "duration": 6,
    "start_time": "2022-05-06T19:45:08.602Z"
   },
   {
    "duration": 3,
    "start_time": "2022-05-06T19:45:08.610Z"
   },
   {
    "duration": 651,
    "start_time": "2022-05-06T19:45:08.615Z"
   },
   {
    "duration": 0,
    "start_time": "2022-05-06T19:45:09.268Z"
   },
   {
    "duration": 0,
    "start_time": "2022-05-06T19:45:09.270Z"
   },
   {
    "duration": 0,
    "start_time": "2022-05-06T19:45:09.271Z"
   },
   {
    "duration": 0,
    "start_time": "2022-05-06T19:45:09.272Z"
   },
   {
    "duration": 0,
    "start_time": "2022-05-06T19:45:09.274Z"
   },
   {
    "duration": 0,
    "start_time": "2022-05-06T19:45:09.275Z"
   },
   {
    "duration": 0,
    "start_time": "2022-05-06T19:45:09.276Z"
   },
   {
    "duration": 0,
    "start_time": "2022-05-06T19:45:09.277Z"
   },
   {
    "duration": 0,
    "start_time": "2022-05-06T19:45:09.278Z"
   },
   {
    "duration": 0,
    "start_time": "2022-05-06T19:45:09.279Z"
   },
   {
    "duration": 0,
    "start_time": "2022-05-06T19:45:09.280Z"
   },
   {
    "duration": 0,
    "start_time": "2022-05-06T19:45:09.281Z"
   },
   {
    "duration": 0,
    "start_time": "2022-05-06T19:45:09.282Z"
   },
   {
    "duration": 0,
    "start_time": "2022-05-06T19:45:09.283Z"
   },
   {
    "duration": 0,
    "start_time": "2022-05-06T19:45:09.284Z"
   },
   {
    "duration": 0,
    "start_time": "2022-05-06T19:45:09.286Z"
   },
   {
    "duration": 0,
    "start_time": "2022-05-06T19:45:09.287Z"
   },
   {
    "duration": 0,
    "start_time": "2022-05-06T19:45:09.288Z"
   },
   {
    "duration": 392,
    "start_time": "2022-05-06T19:47:24.411Z"
   },
   {
    "duration": 76,
    "start_time": "2022-05-06T19:47:24.805Z"
   },
   {
    "duration": 33,
    "start_time": "2022-05-06T19:47:24.883Z"
   },
   {
    "duration": 15,
    "start_time": "2022-05-06T19:47:24.918Z"
   },
   {
    "duration": 28,
    "start_time": "2022-05-06T19:47:24.934Z"
   },
   {
    "duration": 42,
    "start_time": "2022-05-06T19:47:24.963Z"
   },
   {
    "duration": 183,
    "start_time": "2022-05-06T19:47:25.007Z"
   },
   {
    "duration": 3,
    "start_time": "2022-05-06T19:47:25.192Z"
   },
   {
    "duration": 8,
    "start_time": "2022-05-06T19:47:25.197Z"
   },
   {
    "duration": 9,
    "start_time": "2022-05-06T19:47:25.208Z"
   },
   {
    "duration": 7,
    "start_time": "2022-05-06T19:47:25.218Z"
   },
   {
    "duration": 10,
    "start_time": "2022-05-06T19:47:25.226Z"
   },
   {
    "duration": 17,
    "start_time": "2022-05-06T19:47:25.238Z"
   },
   {
    "duration": 13,
    "start_time": "2022-05-06T19:47:25.256Z"
   },
   {
    "duration": 10,
    "start_time": "2022-05-06T19:47:25.271Z"
   },
   {
    "duration": 4,
    "start_time": "2022-05-06T19:47:25.283Z"
   },
   {
    "duration": 8,
    "start_time": "2022-05-06T19:47:25.289Z"
   },
   {
    "duration": 5,
    "start_time": "2022-05-06T19:47:25.299Z"
   },
   {
    "duration": 6,
    "start_time": "2022-05-06T19:47:25.306Z"
   },
   {
    "duration": 5,
    "start_time": "2022-05-06T19:47:25.313Z"
   },
   {
    "duration": 616,
    "start_time": "2022-05-06T19:47:25.319Z"
   },
   {
    "duration": 0,
    "start_time": "2022-05-06T19:47:25.937Z"
   },
   {
    "duration": 0,
    "start_time": "2022-05-06T19:47:25.939Z"
   },
   {
    "duration": 0,
    "start_time": "2022-05-06T19:47:25.940Z"
   },
   {
    "duration": 0,
    "start_time": "2022-05-06T19:47:25.941Z"
   },
   {
    "duration": 0,
    "start_time": "2022-05-06T19:47:25.942Z"
   },
   {
    "duration": 0,
    "start_time": "2022-05-06T19:47:25.943Z"
   },
   {
    "duration": 0,
    "start_time": "2022-05-06T19:47:25.944Z"
   },
   {
    "duration": 0,
    "start_time": "2022-05-06T19:47:25.945Z"
   },
   {
    "duration": 0,
    "start_time": "2022-05-06T19:47:25.946Z"
   },
   {
    "duration": 0,
    "start_time": "2022-05-06T19:47:25.947Z"
   },
   {
    "duration": 0,
    "start_time": "2022-05-06T19:47:25.948Z"
   },
   {
    "duration": 0,
    "start_time": "2022-05-06T19:47:25.950Z"
   },
   {
    "duration": 0,
    "start_time": "2022-05-06T19:47:25.951Z"
   },
   {
    "duration": 0,
    "start_time": "2022-05-06T19:47:25.952Z"
   },
   {
    "duration": 0,
    "start_time": "2022-05-06T19:47:25.953Z"
   },
   {
    "duration": 0,
    "start_time": "2022-05-06T19:47:25.954Z"
   },
   {
    "duration": 0,
    "start_time": "2022-05-06T19:47:25.955Z"
   },
   {
    "duration": 0,
    "start_time": "2022-05-06T19:47:25.956Z"
   },
   {
    "duration": 471,
    "start_time": "2022-05-06T19:48:56.231Z"
   },
   {
    "duration": 85,
    "start_time": "2022-05-06T19:48:56.704Z"
   },
   {
    "duration": 37,
    "start_time": "2022-05-06T19:48:56.791Z"
   },
   {
    "duration": 29,
    "start_time": "2022-05-06T19:48:56.830Z"
   },
   {
    "duration": 10,
    "start_time": "2022-05-06T19:48:56.860Z"
   },
   {
    "duration": 45,
    "start_time": "2022-05-06T19:48:56.872Z"
   },
   {
    "duration": 194,
    "start_time": "2022-05-06T19:48:56.919Z"
   },
   {
    "duration": 5,
    "start_time": "2022-05-06T19:48:57.114Z"
   },
   {
    "duration": 10,
    "start_time": "2022-05-06T19:48:57.120Z"
   },
   {
    "duration": 4,
    "start_time": "2022-05-06T19:48:57.134Z"
   },
   {
    "duration": 15,
    "start_time": "2022-05-06T19:48:57.140Z"
   },
   {
    "duration": 6,
    "start_time": "2022-05-06T19:48:57.158Z"
   },
   {
    "duration": 6,
    "start_time": "2022-05-06T19:48:57.166Z"
   },
   {
    "duration": 8,
    "start_time": "2022-05-06T19:48:57.174Z"
   },
   {
    "duration": 9,
    "start_time": "2022-05-06T19:48:57.184Z"
   },
   {
    "duration": 4,
    "start_time": "2022-05-06T19:48:57.194Z"
   },
   {
    "duration": 8,
    "start_time": "2022-05-06T19:48:57.200Z"
   },
   {
    "duration": 47,
    "start_time": "2022-05-06T19:48:57.209Z"
   },
   {
    "duration": 6,
    "start_time": "2022-05-06T19:48:57.258Z"
   },
   {
    "duration": 6,
    "start_time": "2022-05-06T19:48:57.265Z"
   },
   {
    "duration": 420,
    "start_time": "2022-05-06T19:48:57.272Z"
   },
   {
    "duration": 3,
    "start_time": "2022-05-06T19:48:57.694Z"
   },
   {
    "duration": 18,
    "start_time": "2022-05-06T19:48:57.699Z"
   },
   {
    "duration": 284,
    "start_time": "2022-05-06T19:48:57.719Z"
   },
   {
    "duration": 220,
    "start_time": "2022-05-06T19:48:58.005Z"
   },
   {
    "duration": 297,
    "start_time": "2022-05-06T19:48:58.226Z"
   },
   {
    "duration": 145,
    "start_time": "2022-05-06T19:48:58.525Z"
   },
   {
    "duration": 184,
    "start_time": "2022-05-06T19:48:58.673Z"
   },
   {
    "duration": 234,
    "start_time": "2022-05-06T19:48:58.859Z"
   },
   {
    "duration": 9,
    "start_time": "2022-05-06T19:48:59.095Z"
   },
   {
    "duration": 15,
    "start_time": "2022-05-06T19:48:59.106Z"
   },
   {
    "duration": 10,
    "start_time": "2022-05-06T19:48:59.122Z"
   },
   {
    "duration": 9,
    "start_time": "2022-05-06T19:48:59.155Z"
   },
   {
    "duration": 10,
    "start_time": "2022-05-06T19:48:59.165Z"
   },
   {
    "duration": 8,
    "start_time": "2022-05-06T19:48:59.177Z"
   },
   {
    "duration": 5,
    "start_time": "2022-05-06T19:48:59.187Z"
   },
   {
    "duration": 6,
    "start_time": "2022-05-06T19:48:59.194Z"
   },
   {
    "duration": 7,
    "start_time": "2022-05-06T19:48:59.202Z"
   },
   {
    "duration": 46,
    "start_time": "2022-05-06T19:48:59.210Z"
   },
   {
    "duration": 446,
    "start_time": "2022-05-06T19:49:47.913Z"
   },
   {
    "duration": 80,
    "start_time": "2022-05-06T19:49:48.361Z"
   },
   {
    "duration": 38,
    "start_time": "2022-05-06T19:49:48.443Z"
   },
   {
    "duration": 16,
    "start_time": "2022-05-06T19:49:48.483Z"
   },
   {
    "duration": 10,
    "start_time": "2022-05-06T19:49:48.501Z"
   },
   {
    "duration": 75,
    "start_time": "2022-05-06T19:49:48.513Z"
   },
   {
    "duration": 175,
    "start_time": "2022-05-06T19:49:48.590Z"
   },
   {
    "duration": 3,
    "start_time": "2022-05-06T19:49:48.767Z"
   },
   {
    "duration": 8,
    "start_time": "2022-05-06T19:49:48.772Z"
   },
   {
    "duration": 6,
    "start_time": "2022-05-06T19:49:48.783Z"
   },
   {
    "duration": 6,
    "start_time": "2022-05-06T19:49:48.791Z"
   },
   {
    "duration": 9,
    "start_time": "2022-05-06T19:49:48.799Z"
   },
   {
    "duration": 8,
    "start_time": "2022-05-06T19:49:48.810Z"
   },
   {
    "duration": 11,
    "start_time": "2022-05-06T19:49:48.820Z"
   },
   {
    "duration": 35,
    "start_time": "2022-05-06T19:49:48.832Z"
   },
   {
    "duration": 9,
    "start_time": "2022-05-06T19:49:48.869Z"
   },
   {
    "duration": 14,
    "start_time": "2022-05-06T19:49:48.880Z"
   },
   {
    "duration": 6,
    "start_time": "2022-05-06T19:49:48.895Z"
   },
   {
    "duration": 8,
    "start_time": "2022-05-06T19:49:48.903Z"
   },
   {
    "duration": 3,
    "start_time": "2022-05-06T19:49:48.913Z"
   },
   {
    "duration": 604,
    "start_time": "2022-05-06T19:49:48.917Z"
   },
   {
    "duration": 4,
    "start_time": "2022-05-06T19:49:49.523Z"
   },
   {
    "duration": 6,
    "start_time": "2022-05-06T19:49:49.529Z"
   },
   {
    "duration": 236,
    "start_time": "2022-05-06T19:49:49.536Z"
   },
   {
    "duration": 231,
    "start_time": "2022-05-06T19:49:49.774Z"
   },
   {
    "duration": 299,
    "start_time": "2022-05-06T19:49:50.007Z"
   },
   {
    "duration": 140,
    "start_time": "2022-05-06T19:49:50.308Z"
   },
   {
    "duration": 201,
    "start_time": "2022-05-06T19:49:50.451Z"
   },
   {
    "duration": 232,
    "start_time": "2022-05-06T19:49:50.654Z"
   },
   {
    "duration": 11,
    "start_time": "2022-05-06T19:49:50.888Z"
   },
   {
    "duration": 16,
    "start_time": "2022-05-06T19:49:50.901Z"
   },
   {
    "duration": 35,
    "start_time": "2022-05-06T19:49:50.919Z"
   },
   {
    "duration": 10,
    "start_time": "2022-05-06T19:49:50.956Z"
   },
   {
    "duration": 10,
    "start_time": "2022-05-06T19:49:50.968Z"
   },
   {
    "duration": 10,
    "start_time": "2022-05-06T19:49:50.980Z"
   },
   {
    "duration": 14,
    "start_time": "2022-05-06T19:49:50.992Z"
   },
   {
    "duration": 6,
    "start_time": "2022-05-06T19:49:51.008Z"
   },
   {
    "duration": 23,
    "start_time": "2022-05-06T19:49:51.016Z"
   },
   {
    "duration": 15,
    "start_time": "2022-05-06T19:49:51.055Z"
   },
   {
    "duration": 15,
    "start_time": "2022-05-06T19:50:13.658Z"
   },
   {
    "duration": 96,
    "start_time": "2022-05-06T19:52:57.705Z"
   },
   {
    "duration": 15,
    "start_time": "2022-05-06T19:53:24.682Z"
   },
   {
    "duration": 13,
    "start_time": "2022-05-06T20:03:02.498Z"
   },
   {
    "duration": 12,
    "start_time": "2022-05-06T20:07:51.113Z"
   },
   {
    "duration": 13,
    "start_time": "2022-05-06T20:12:24.113Z"
   },
   {
    "duration": 438,
    "start_time": "2022-05-06T20:15:18.730Z"
   },
   {
    "duration": 84,
    "start_time": "2022-05-06T20:15:19.171Z"
   },
   {
    "duration": 37,
    "start_time": "2022-05-06T20:15:19.257Z"
   },
   {
    "duration": 15,
    "start_time": "2022-05-06T20:15:19.297Z"
   },
   {
    "duration": 9,
    "start_time": "2022-05-06T20:15:19.314Z"
   },
   {
    "duration": 46,
    "start_time": "2022-05-06T20:15:19.355Z"
   },
   {
    "duration": 183,
    "start_time": "2022-05-06T20:15:19.403Z"
   },
   {
    "duration": 4,
    "start_time": "2022-05-06T20:15:19.588Z"
   },
   {
    "duration": 7,
    "start_time": "2022-05-06T20:15:19.593Z"
   },
   {
    "duration": 5,
    "start_time": "2022-05-06T20:15:19.602Z"
   },
   {
    "duration": 6,
    "start_time": "2022-05-06T20:15:19.609Z"
   },
   {
    "duration": 7,
    "start_time": "2022-05-06T20:15:19.617Z"
   },
   {
    "duration": 6,
    "start_time": "2022-05-06T20:15:19.625Z"
   },
   {
    "duration": 9,
    "start_time": "2022-05-06T20:15:19.655Z"
   },
   {
    "duration": 11,
    "start_time": "2022-05-06T20:15:19.665Z"
   },
   {
    "duration": 4,
    "start_time": "2022-05-06T20:15:19.678Z"
   },
   {
    "duration": 14,
    "start_time": "2022-05-06T20:15:19.683Z"
   },
   {
    "duration": 12,
    "start_time": "2022-05-06T20:15:19.698Z"
   },
   {
    "duration": 6,
    "start_time": "2022-05-06T20:15:19.712Z"
   },
   {
    "duration": 6,
    "start_time": "2022-05-06T20:15:19.719Z"
   },
   {
    "duration": 426,
    "start_time": "2022-05-06T20:15:19.726Z"
   },
   {
    "duration": 4,
    "start_time": "2022-05-06T20:15:20.155Z"
   },
   {
    "duration": 9,
    "start_time": "2022-05-06T20:15:20.160Z"
   },
   {
    "duration": 244,
    "start_time": "2022-05-06T20:15:20.170Z"
   },
   {
    "duration": 233,
    "start_time": "2022-05-06T20:15:20.415Z"
   },
   {
    "duration": 309,
    "start_time": "2022-05-06T20:15:20.649Z"
   },
   {
    "duration": 147,
    "start_time": "2022-05-06T20:15:20.960Z"
   },
   {
    "duration": 191,
    "start_time": "2022-05-06T20:15:21.110Z"
   },
   {
    "duration": 224,
    "start_time": "2022-05-06T20:15:21.302Z"
   },
   {
    "duration": 9,
    "start_time": "2022-05-06T20:15:21.528Z"
   },
   {
    "duration": 24,
    "start_time": "2022-05-06T20:15:21.539Z"
   },
   {
    "duration": 10,
    "start_time": "2022-05-06T20:15:21.565Z"
   },
   {
    "duration": 9,
    "start_time": "2022-05-06T20:15:21.577Z"
   },
   {
    "duration": 9,
    "start_time": "2022-05-06T20:15:21.587Z"
   },
   {
    "duration": 7,
    "start_time": "2022-05-06T20:15:21.598Z"
   },
   {
    "duration": 4,
    "start_time": "2022-05-06T20:15:21.607Z"
   },
   {
    "duration": 12,
    "start_time": "2022-05-06T20:15:21.613Z"
   },
   {
    "duration": 5,
    "start_time": "2022-05-06T20:15:21.655Z"
   },
   {
    "duration": 14,
    "start_time": "2022-05-06T20:15:21.662Z"
   },
   {
    "duration": 12,
    "start_time": "2022-05-06T20:15:21.678Z"
   },
   {
    "duration": 15,
    "start_time": "2022-05-06T20:15:21.691Z"
   },
   {
    "duration": 11,
    "start_time": "2022-05-06T20:15:21.708Z"
   },
   {
    "duration": 71,
    "start_time": "2022-05-06T20:15:21.720Z"
   },
   {
    "duration": 77,
    "start_time": "2022-05-06T20:18:39.347Z"
   },
   {
    "duration": 9,
    "start_time": "2022-05-06T20:18:45.827Z"
   },
   {
    "duration": 9,
    "start_time": "2022-05-06T20:18:51.371Z"
   },
   {
    "duration": 8,
    "start_time": "2022-05-06T20:21:20.894Z"
   },
   {
    "duration": 7,
    "start_time": "2022-05-06T20:21:32.779Z"
   },
   {
    "duration": 16,
    "start_time": "2022-05-06T20:23:34.483Z"
   },
   {
    "duration": 8,
    "start_time": "2022-05-06T20:25:49.069Z"
   },
   {
    "duration": 12,
    "start_time": "2022-05-06T20:26:07.323Z"
   },
   {
    "duration": 7,
    "start_time": "2022-05-06T20:26:23.161Z"
   },
   {
    "duration": 6,
    "start_time": "2022-05-06T20:26:52.741Z"
   },
   {
    "duration": 10,
    "start_time": "2022-05-06T20:28:05.031Z"
   },
   {
    "duration": 9,
    "start_time": "2022-05-06T20:28:13.101Z"
   },
   {
    "duration": 9,
    "start_time": "2022-05-06T20:28:22.955Z"
   },
   {
    "duration": 38,
    "start_time": "2022-05-06T20:28:27.197Z"
   },
   {
    "duration": 5,
    "start_time": "2022-05-06T20:29:01.643Z"
   },
   {
    "duration": 3,
    "start_time": "2022-05-06T20:30:21.204Z"
   },
   {
    "duration": 4,
    "start_time": "2022-05-06T20:30:42.293Z"
   },
   {
    "duration": 25,
    "start_time": "2022-05-06T20:32:45.472Z"
   },
   {
    "duration": 27,
    "start_time": "2022-05-06T20:34:55.823Z"
   },
   {
    "duration": 25,
    "start_time": "2022-05-06T20:35:33.408Z"
   },
   {
    "duration": 3,
    "start_time": "2022-05-06T20:36:48.944Z"
   },
   {
    "duration": 7,
    "start_time": "2022-05-06T20:36:58.368Z"
   },
   {
    "duration": 4,
    "start_time": "2022-05-06T20:37:40.463Z"
   },
   {
    "duration": 8,
    "start_time": "2022-05-06T20:37:52.151Z"
   },
   {
    "duration": 399,
    "start_time": "2022-05-06T20:38:02.084Z"
   },
   {
    "duration": 84,
    "start_time": "2022-05-06T20:38:02.485Z"
   },
   {
    "duration": 33,
    "start_time": "2022-05-06T20:38:02.571Z"
   },
   {
    "duration": 37,
    "start_time": "2022-05-06T20:38:02.606Z"
   },
   {
    "duration": 14,
    "start_time": "2022-05-06T20:38:02.645Z"
   },
   {
    "duration": 52,
    "start_time": "2022-05-06T20:38:02.661Z"
   },
   {
    "duration": 158,
    "start_time": "2022-05-06T20:38:02.714Z"
   },
   {
    "duration": 4,
    "start_time": "2022-05-06T20:38:02.874Z"
   },
   {
    "duration": 24,
    "start_time": "2022-05-06T20:38:02.880Z"
   },
   {
    "duration": 28,
    "start_time": "2022-05-06T20:38:02.906Z"
   },
   {
    "duration": 24,
    "start_time": "2022-05-06T20:38:02.935Z"
   },
   {
    "duration": 73,
    "start_time": "2022-05-06T20:38:02.960Z"
   },
   {
    "duration": 20,
    "start_time": "2022-05-06T20:38:03.035Z"
   },
   {
    "duration": 25,
    "start_time": "2022-05-06T20:38:03.056Z"
   },
   {
    "duration": 25,
    "start_time": "2022-05-06T20:38:03.082Z"
   },
   {
    "duration": 9,
    "start_time": "2022-05-06T20:38:03.109Z"
   },
   {
    "duration": 23,
    "start_time": "2022-05-06T20:38:03.120Z"
   },
   {
    "duration": 19,
    "start_time": "2022-05-06T20:38:03.145Z"
   },
   {
    "duration": 11,
    "start_time": "2022-05-06T20:38:03.166Z"
   },
   {
    "duration": 20,
    "start_time": "2022-05-06T20:38:03.179Z"
   },
   {
    "duration": 395,
    "start_time": "2022-05-06T20:38:03.201Z"
   },
   {
    "duration": 5,
    "start_time": "2022-05-06T20:38:03.597Z"
   },
   {
    "duration": 25,
    "start_time": "2022-05-06T20:38:03.603Z"
   },
   {
    "duration": 250,
    "start_time": "2022-05-06T20:38:03.630Z"
   },
   {
    "duration": 215,
    "start_time": "2022-05-06T20:38:03.882Z"
   },
   {
    "duration": 301,
    "start_time": "2022-05-06T20:38:04.099Z"
   },
   {
    "duration": 154,
    "start_time": "2022-05-06T20:38:04.402Z"
   },
   {
    "duration": 186,
    "start_time": "2022-05-06T20:38:04.560Z"
   },
   {
    "duration": 212,
    "start_time": "2022-05-06T20:38:04.748Z"
   },
   {
    "duration": 10,
    "start_time": "2022-05-06T20:38:04.962Z"
   },
   {
    "duration": 16,
    "start_time": "2022-05-06T20:38:04.974Z"
   },
   {
    "duration": 11,
    "start_time": "2022-05-06T20:38:04.992Z"
   },
   {
    "duration": 10,
    "start_time": "2022-05-06T20:38:05.005Z"
   },
   {
    "duration": 42,
    "start_time": "2022-05-06T20:38:05.016Z"
   },
   {
    "duration": 8,
    "start_time": "2022-05-06T20:38:05.060Z"
   },
   {
    "duration": 6,
    "start_time": "2022-05-06T20:38:05.069Z"
   },
   {
    "duration": 5,
    "start_time": "2022-05-06T20:38:05.076Z"
   },
   {
    "duration": 7,
    "start_time": "2022-05-06T20:38:05.082Z"
   },
   {
    "duration": 14,
    "start_time": "2022-05-06T20:38:05.090Z"
   },
   {
    "duration": 49,
    "start_time": "2022-05-06T20:38:05.106Z"
   },
   {
    "duration": 13,
    "start_time": "2022-05-06T20:38:05.157Z"
   },
   {
    "duration": 11,
    "start_time": "2022-05-06T20:38:05.172Z"
   },
   {
    "duration": 28,
    "start_time": "2022-05-06T20:38:05.184Z"
   },
   {
    "duration": 9,
    "start_time": "2022-05-06T20:38:05.214Z"
   },
   {
    "duration": 36,
    "start_time": "2022-05-06T20:38:05.224Z"
   },
   {
    "duration": 9,
    "start_time": "2022-05-06T20:38:30.540Z"
   },
   {
    "duration": 4,
    "start_time": "2022-05-06T20:47:09.201Z"
   },
   {
    "duration": 43,
    "start_time": "2022-05-06T20:48:24.801Z"
   },
   {
    "duration": 387,
    "start_time": "2022-05-06T20:48:33.996Z"
   },
   {
    "duration": 81,
    "start_time": "2022-05-06T20:48:34.385Z"
   },
   {
    "duration": 35,
    "start_time": "2022-05-06T20:48:34.468Z"
   },
   {
    "duration": 16,
    "start_time": "2022-05-06T20:48:34.505Z"
   },
   {
    "duration": 9,
    "start_time": "2022-05-06T20:48:34.522Z"
   },
   {
    "duration": 72,
    "start_time": "2022-05-06T20:48:34.556Z"
   },
   {
    "duration": 277,
    "start_time": "2022-05-06T20:48:34.630Z"
   },
   {
    "duration": 5,
    "start_time": "2022-05-06T20:48:34.909Z"
   },
   {
    "duration": 8,
    "start_time": "2022-05-06T20:48:34.916Z"
   },
   {
    "duration": 5,
    "start_time": "2022-05-06T20:48:34.927Z"
   },
   {
    "duration": 21,
    "start_time": "2022-05-06T20:48:34.934Z"
   },
   {
    "duration": 6,
    "start_time": "2022-05-06T20:48:34.957Z"
   },
   {
    "duration": 6,
    "start_time": "2022-05-06T20:48:34.964Z"
   },
   {
    "duration": 8,
    "start_time": "2022-05-06T20:48:34.972Z"
   },
   {
    "duration": 9,
    "start_time": "2022-05-06T20:48:34.981Z"
   },
   {
    "duration": 3,
    "start_time": "2022-05-06T20:48:34.992Z"
   },
   {
    "duration": 9,
    "start_time": "2022-05-06T20:48:34.996Z"
   },
   {
    "duration": 7,
    "start_time": "2022-05-06T20:48:35.007Z"
   },
   {
    "duration": 40,
    "start_time": "2022-05-06T20:48:35.015Z"
   },
   {
    "duration": 3,
    "start_time": "2022-05-06T20:48:35.057Z"
   },
   {
    "duration": 407,
    "start_time": "2022-05-06T20:48:35.062Z"
   },
   {
    "duration": 4,
    "start_time": "2022-05-06T20:48:35.471Z"
   },
   {
    "duration": 7,
    "start_time": "2022-05-06T20:48:35.476Z"
   },
   {
    "duration": 239,
    "start_time": "2022-05-06T20:48:35.485Z"
   },
   {
    "duration": 232,
    "start_time": "2022-05-06T20:48:35.726Z"
   },
   {
    "duration": 294,
    "start_time": "2022-05-06T20:48:35.960Z"
   },
   {
    "duration": 140,
    "start_time": "2022-05-06T20:48:36.256Z"
   },
   {
    "duration": 182,
    "start_time": "2022-05-06T20:48:36.400Z"
   },
   {
    "duration": 221,
    "start_time": "2022-05-06T20:48:36.584Z"
   },
   {
    "duration": 10,
    "start_time": "2022-05-06T20:48:36.807Z"
   },
   {
    "duration": 15,
    "start_time": "2022-05-06T20:48:36.819Z"
   },
   {
    "duration": 10,
    "start_time": "2022-05-06T20:48:36.854Z"
   },
   {
    "duration": 8,
    "start_time": "2022-05-06T20:48:36.866Z"
   },
   {
    "duration": 11,
    "start_time": "2022-05-06T20:48:36.875Z"
   },
   {
    "duration": 9,
    "start_time": "2022-05-06T20:48:36.888Z"
   },
   {
    "duration": 5,
    "start_time": "2022-05-06T20:48:36.899Z"
   },
   {
    "duration": 6,
    "start_time": "2022-05-06T20:48:36.905Z"
   },
   {
    "duration": 5,
    "start_time": "2022-05-06T20:48:36.913Z"
   },
   {
    "duration": 48,
    "start_time": "2022-05-06T20:48:36.919Z"
   },
   {
    "duration": 12,
    "start_time": "2022-05-06T20:48:36.969Z"
   },
   {
    "duration": 13,
    "start_time": "2022-05-06T20:48:36.982Z"
   },
   {
    "duration": 12,
    "start_time": "2022-05-06T20:48:36.996Z"
   },
   {
    "duration": 3,
    "start_time": "2022-05-06T20:48:37.010Z"
   },
   {
    "duration": 79,
    "start_time": "2022-05-06T20:48:37.015Z"
   },
   {
    "duration": 31,
    "start_time": "2022-05-06T20:48:37.096Z"
   },
   {
    "duration": 26,
    "start_time": "2022-05-06T20:48:37.129Z"
   },
   {
    "duration": 9,
    "start_time": "2022-05-06T20:48:37.156Z"
   },
   {
    "duration": 52,
    "start_time": "2022-05-06T20:49:29.813Z"
   },
   {
    "duration": 50,
    "start_time": "2022-05-06T20:49:54.520Z"
   },
   {
    "duration": 8,
    "start_time": "2022-05-06T20:50:24.881Z"
   },
   {
    "duration": 16,
    "start_time": "2022-05-06T20:51:15.768Z"
   },
   {
    "duration": 7,
    "start_time": "2022-05-06T20:51:32.880Z"
   },
   {
    "duration": 14,
    "start_time": "2022-05-06T20:51:39.736Z"
   },
   {
    "duration": 6,
    "start_time": "2022-05-06T20:51:56.352Z"
   },
   {
    "duration": 16,
    "start_time": "2022-05-06T20:52:18.944Z"
   },
   {
    "duration": 37,
    "start_time": "2022-05-06T20:52:28.208Z"
   },
   {
    "duration": 7,
    "start_time": "2022-05-06T20:52:32.711Z"
   },
   {
    "duration": 7,
    "start_time": "2022-05-06T20:52:49.195Z"
   },
   {
    "duration": 14,
    "start_time": "2022-05-06T20:53:38.315Z"
   },
   {
    "duration": 94,
    "start_time": "2022-05-06T20:58:01.376Z"
   },
   {
    "duration": 29,
    "start_time": "2022-05-06T20:58:50.712Z"
   },
   {
    "duration": 31,
    "start_time": "2022-05-06T20:59:43.274Z"
   },
   {
    "duration": 9,
    "start_time": "2022-05-06T21:01:26.891Z"
   },
   {
    "duration": 10,
    "start_time": "2022-05-06T21:03:44.138Z"
   },
   {
    "duration": 5,
    "start_time": "2022-05-06T21:05:06.771Z"
   },
   {
    "duration": 888,
    "start_time": "2022-05-06T21:06:22.484Z"
   },
   {
    "duration": 2310,
    "start_time": "2022-05-06T21:13:59.272Z"
   },
   {
    "duration": 2557,
    "start_time": "2022-05-06T21:15:06.134Z"
   },
   {
    "duration": 14,
    "start_time": "2022-05-06T21:15:28.651Z"
   },
   {
    "duration": 2163,
    "start_time": "2022-05-06T21:15:55.190Z"
   },
   {
    "duration": 2353,
    "start_time": "2022-05-06T21:16:50.688Z"
   },
   {
    "duration": 436,
    "start_time": "2022-05-06T21:17:16.047Z"
   },
   {
    "duration": 91,
    "start_time": "2022-05-06T21:17:16.485Z"
   },
   {
    "duration": 37,
    "start_time": "2022-05-06T21:17:16.577Z"
   },
   {
    "duration": 16,
    "start_time": "2022-05-06T21:17:16.616Z"
   },
   {
    "duration": 28,
    "start_time": "2022-05-06T21:17:16.634Z"
   },
   {
    "duration": 47,
    "start_time": "2022-05-06T21:17:16.664Z"
   },
   {
    "duration": 183,
    "start_time": "2022-05-06T21:17:16.713Z"
   },
   {
    "duration": 4,
    "start_time": "2022-05-06T21:17:16.898Z"
   },
   {
    "duration": 9,
    "start_time": "2022-05-06T21:17:16.904Z"
   },
   {
    "duration": 5,
    "start_time": "2022-05-06T21:17:16.916Z"
   },
   {
    "duration": 6,
    "start_time": "2022-05-06T21:17:16.923Z"
   },
   {
    "duration": 7,
    "start_time": "2022-05-06T21:17:16.931Z"
   },
   {
    "duration": 6,
    "start_time": "2022-05-06T21:17:16.955Z"
   },
   {
    "duration": 12,
    "start_time": "2022-05-06T21:17:16.962Z"
   },
   {
    "duration": 10,
    "start_time": "2022-05-06T21:17:16.975Z"
   },
   {
    "duration": 4,
    "start_time": "2022-05-06T21:17:16.986Z"
   },
   {
    "duration": 14,
    "start_time": "2022-05-06T21:17:16.992Z"
   },
   {
    "duration": 9,
    "start_time": "2022-05-06T21:17:17.007Z"
   },
   {
    "duration": 6,
    "start_time": "2022-05-06T21:17:17.018Z"
   },
   {
    "duration": 4,
    "start_time": "2022-05-06T21:17:17.025Z"
   },
   {
    "duration": 404,
    "start_time": "2022-05-06T21:17:17.055Z"
   },
   {
    "duration": 4,
    "start_time": "2022-05-06T21:17:17.461Z"
   },
   {
    "duration": 12,
    "start_time": "2022-05-06T21:17:17.466Z"
   },
   {
    "duration": 244,
    "start_time": "2022-05-06T21:17:17.479Z"
   },
   {
    "duration": 218,
    "start_time": "2022-05-06T21:17:17.725Z"
   },
   {
    "duration": 294,
    "start_time": "2022-05-06T21:17:17.945Z"
   },
   {
    "duration": 145,
    "start_time": "2022-05-06T21:17:18.240Z"
   },
   {
    "duration": 187,
    "start_time": "2022-05-06T21:17:18.389Z"
   },
   {
    "duration": 233,
    "start_time": "2022-05-06T21:17:18.578Z"
   },
   {
    "duration": 9,
    "start_time": "2022-05-06T21:17:18.813Z"
   },
   {
    "duration": 33,
    "start_time": "2022-05-06T21:17:18.823Z"
   },
   {
    "duration": 11,
    "start_time": "2022-05-06T21:17:18.857Z"
   },
   {
    "duration": 9,
    "start_time": "2022-05-06T21:17:18.870Z"
   },
   {
    "duration": 8,
    "start_time": "2022-05-06T21:17:18.880Z"
   },
   {
    "duration": 8,
    "start_time": "2022-05-06T21:17:18.890Z"
   },
   {
    "duration": 5,
    "start_time": "2022-05-06T21:17:18.900Z"
   },
   {
    "duration": 6,
    "start_time": "2022-05-06T21:17:18.906Z"
   },
   {
    "duration": 5,
    "start_time": "2022-05-06T21:17:18.913Z"
   },
   {
    "duration": 15,
    "start_time": "2022-05-06T21:17:18.955Z"
   },
   {
    "duration": 12,
    "start_time": "2022-05-06T21:17:18.972Z"
   },
   {
    "duration": 13,
    "start_time": "2022-05-06T21:17:18.986Z"
   },
   {
    "duration": 12,
    "start_time": "2022-05-06T21:17:19.000Z"
   },
   {
    "duration": 43,
    "start_time": "2022-05-06T21:17:19.014Z"
   },
   {
    "duration": 10,
    "start_time": "2022-05-06T21:17:19.059Z"
   },
   {
    "duration": 16,
    "start_time": "2022-05-06T21:17:19.071Z"
   },
   {
    "duration": 14,
    "start_time": "2022-05-06T21:17:19.088Z"
   },
   {
    "duration": 9,
    "start_time": "2022-05-06T21:17:19.104Z"
   },
   {
    "duration": 2425,
    "start_time": "2022-05-06T21:17:19.114Z"
   },
   {
    "duration": 2522,
    "start_time": "2022-05-06T21:18:57.711Z"
   },
   {
    "duration": 447,
    "start_time": "2022-05-06T21:19:34.237Z"
   },
   {
    "duration": 91,
    "start_time": "2022-05-06T21:19:34.686Z"
   },
   {
    "duration": 35,
    "start_time": "2022-05-06T21:19:34.779Z"
   },
   {
    "duration": 16,
    "start_time": "2022-05-06T21:19:34.816Z"
   },
   {
    "duration": 28,
    "start_time": "2022-05-06T21:19:34.834Z"
   },
   {
    "duration": 45,
    "start_time": "2022-05-06T21:19:34.864Z"
   },
   {
    "duration": 188,
    "start_time": "2022-05-06T21:19:34.911Z"
   },
   {
    "duration": 3,
    "start_time": "2022-05-06T21:19:35.101Z"
   },
   {
    "duration": 10,
    "start_time": "2022-05-06T21:19:35.106Z"
   },
   {
    "duration": 8,
    "start_time": "2022-05-06T21:19:35.118Z"
   },
   {
    "duration": 8,
    "start_time": "2022-05-06T21:19:35.127Z"
   },
   {
    "duration": 10,
    "start_time": "2022-05-06T21:19:35.136Z"
   },
   {
    "duration": 10,
    "start_time": "2022-05-06T21:19:35.147Z"
   },
   {
    "duration": 9,
    "start_time": "2022-05-06T21:19:35.158Z"
   },
   {
    "duration": 13,
    "start_time": "2022-05-06T21:19:35.169Z"
   },
   {
    "duration": 4,
    "start_time": "2022-05-06T21:19:35.184Z"
   },
   {
    "duration": 23,
    "start_time": "2022-05-06T21:19:35.189Z"
   },
   {
    "duration": 6,
    "start_time": "2022-05-06T21:19:35.214Z"
   },
   {
    "duration": 6,
    "start_time": "2022-05-06T21:19:35.221Z"
   },
   {
    "duration": 3,
    "start_time": "2022-05-06T21:19:35.229Z"
   },
   {
    "duration": 416,
    "start_time": "2022-05-06T21:19:35.233Z"
   },
   {
    "duration": 5,
    "start_time": "2022-05-06T21:19:35.651Z"
   },
   {
    "duration": 10,
    "start_time": "2022-05-06T21:19:35.657Z"
   },
   {
    "duration": 261,
    "start_time": "2022-05-06T21:19:35.669Z"
   },
   {
    "duration": 225,
    "start_time": "2022-05-06T21:19:35.932Z"
   },
   {
    "duration": 296,
    "start_time": "2022-05-06T21:19:36.158Z"
   },
   {
    "duration": 148,
    "start_time": "2022-05-06T21:19:36.456Z"
   },
   {
    "duration": 192,
    "start_time": "2022-05-06T21:19:36.608Z"
   },
   {
    "duration": 235,
    "start_time": "2022-05-06T21:19:36.802Z"
   },
   {
    "duration": 19,
    "start_time": "2022-05-06T21:19:37.039Z"
   },
   {
    "duration": 15,
    "start_time": "2022-05-06T21:19:37.060Z"
   },
   {
    "duration": 10,
    "start_time": "2022-05-06T21:19:37.077Z"
   },
   {
    "duration": 8,
    "start_time": "2022-05-06T21:19:37.089Z"
   },
   {
    "duration": 10,
    "start_time": "2022-05-06T21:19:37.098Z"
   },
   {
    "duration": 10,
    "start_time": "2022-05-06T21:19:37.110Z"
   },
   {
    "duration": 36,
    "start_time": "2022-05-06T21:19:37.121Z"
   },
   {
    "duration": 7,
    "start_time": "2022-05-06T21:19:37.158Z"
   },
   {
    "duration": 6,
    "start_time": "2022-05-06T21:19:37.166Z"
   },
   {
    "duration": 18,
    "start_time": "2022-05-06T21:19:37.174Z"
   },
   {
    "duration": 13,
    "start_time": "2022-05-06T21:19:37.194Z"
   },
   {
    "duration": 13,
    "start_time": "2022-05-06T21:19:37.208Z"
   },
   {
    "duration": 44,
    "start_time": "2022-05-06T21:19:37.222Z"
   },
   {
    "duration": 4,
    "start_time": "2022-05-06T21:19:37.267Z"
   },
   {
    "duration": 11,
    "start_time": "2022-05-06T21:19:37.272Z"
   },
   {
    "duration": 16,
    "start_time": "2022-05-06T21:19:37.285Z"
   },
   {
    "duration": 15,
    "start_time": "2022-05-06T21:19:37.303Z"
   },
   {
    "duration": 8,
    "start_time": "2022-05-06T21:19:37.319Z"
   },
   {
    "duration": 5,
    "start_time": "2022-05-06T21:19:37.355Z"
   },
   {
    "duration": 2356,
    "start_time": "2022-05-06T21:19:37.362Z"
   },
   {
    "duration": 137,
    "start_time": "2022-05-06T21:20:51.384Z"
   },
   {
    "duration": 4,
    "start_time": "2022-05-06T21:20:57.766Z"
   },
   {
    "duration": 2313,
    "start_time": "2022-05-06T21:21:00.613Z"
   },
   {
    "duration": 455,
    "start_time": "2022-05-06T21:23:29.917Z"
   },
   {
    "duration": 83,
    "start_time": "2022-05-06T21:23:30.374Z"
   },
   {
    "duration": 36,
    "start_time": "2022-05-06T21:23:30.459Z"
   },
   {
    "duration": 16,
    "start_time": "2022-05-06T21:23:30.497Z"
   },
   {
    "duration": 9,
    "start_time": "2022-05-06T21:23:30.514Z"
   },
   {
    "duration": 74,
    "start_time": "2022-05-06T21:23:30.525Z"
   },
   {
    "duration": 165,
    "start_time": "2022-05-06T21:23:30.600Z"
   },
   {
    "duration": 4,
    "start_time": "2022-05-06T21:23:30.766Z"
   },
   {
    "duration": 23,
    "start_time": "2022-05-06T21:23:30.772Z"
   },
   {
    "duration": 9,
    "start_time": "2022-05-06T21:23:30.798Z"
   },
   {
    "duration": 11,
    "start_time": "2022-05-06T21:23:30.809Z"
   },
   {
    "duration": 15,
    "start_time": "2022-05-06T21:23:30.822Z"
   },
   {
    "duration": 13,
    "start_time": "2022-05-06T21:23:30.839Z"
   },
   {
    "duration": 18,
    "start_time": "2022-05-06T21:23:30.853Z"
   },
   {
    "duration": 22,
    "start_time": "2022-05-06T21:23:30.872Z"
   },
   {
    "duration": 10,
    "start_time": "2022-05-06T21:23:30.895Z"
   },
   {
    "duration": 13,
    "start_time": "2022-05-06T21:23:30.907Z"
   },
   {
    "duration": 12,
    "start_time": "2022-05-06T21:23:30.922Z"
   },
   {
    "duration": 12,
    "start_time": "2022-05-06T21:23:30.935Z"
   },
   {
    "duration": 11,
    "start_time": "2022-05-06T21:23:30.950Z"
   },
   {
    "duration": 394,
    "start_time": "2022-05-06T21:23:30.963Z"
   },
   {
    "duration": 4,
    "start_time": "2022-05-06T21:23:31.359Z"
   },
   {
    "duration": 14,
    "start_time": "2022-05-06T21:23:31.365Z"
   },
   {
    "duration": 250,
    "start_time": "2022-05-06T21:23:31.380Z"
   },
   {
    "duration": 225,
    "start_time": "2022-05-06T21:23:31.632Z"
   },
   {
    "duration": 314,
    "start_time": "2022-05-06T21:23:31.859Z"
   },
   {
    "duration": 153,
    "start_time": "2022-05-06T21:23:32.175Z"
   },
   {
    "duration": 183,
    "start_time": "2022-05-06T21:23:32.332Z"
   },
   {
    "duration": 227,
    "start_time": "2022-05-06T21:23:32.517Z"
   },
   {
    "duration": 16,
    "start_time": "2022-05-06T21:23:32.745Z"
   },
   {
    "duration": 26,
    "start_time": "2022-05-06T21:23:32.763Z"
   },
   {
    "duration": 28,
    "start_time": "2022-05-06T21:23:32.791Z"
   },
   {
    "duration": 22,
    "start_time": "2022-05-06T21:23:32.821Z"
   },
   {
    "duration": 35,
    "start_time": "2022-05-06T21:23:32.845Z"
   },
   {
    "duration": 36,
    "start_time": "2022-05-06T21:23:32.882Z"
   },
   {
    "duration": 28,
    "start_time": "2022-05-06T21:23:32.920Z"
   },
   {
    "duration": 17,
    "start_time": "2022-05-06T21:23:32.950Z"
   },
   {
    "duration": 41,
    "start_time": "2022-05-06T21:23:32.969Z"
   },
   {
    "duration": 20,
    "start_time": "2022-05-06T21:23:33.011Z"
   },
   {
    "duration": 23,
    "start_time": "2022-05-06T21:23:33.033Z"
   },
   {
    "duration": 35,
    "start_time": "2022-05-06T21:23:33.058Z"
   },
   {
    "duration": 23,
    "start_time": "2022-05-06T21:23:33.095Z"
   },
   {
    "duration": 24,
    "start_time": "2022-05-06T21:23:33.119Z"
   },
   {
    "duration": 22,
    "start_time": "2022-05-06T21:23:33.145Z"
   },
   {
    "duration": 42,
    "start_time": "2022-05-06T21:23:33.169Z"
   },
   {
    "duration": 36,
    "start_time": "2022-05-06T21:23:33.213Z"
   },
   {
    "duration": 31,
    "start_time": "2022-05-06T21:23:33.251Z"
   },
   {
    "duration": 21,
    "start_time": "2022-05-06T21:23:33.284Z"
   },
   {
    "duration": 6162,
    "start_time": "2022-05-06T21:23:33.307Z"
   },
   {
    "duration": 451,
    "start_time": "2022-05-06T21:26:25.541Z"
   },
   {
    "duration": 90,
    "start_time": "2022-05-06T21:26:25.995Z"
   },
   {
    "duration": 38,
    "start_time": "2022-05-06T21:26:26.087Z"
   },
   {
    "duration": 29,
    "start_time": "2022-05-06T21:26:26.127Z"
   },
   {
    "duration": 10,
    "start_time": "2022-05-06T21:26:26.158Z"
   },
   {
    "duration": 59,
    "start_time": "2022-05-06T21:26:26.169Z"
   },
   {
    "duration": 179,
    "start_time": "2022-05-06T21:26:26.230Z"
   },
   {
    "duration": 4,
    "start_time": "2022-05-06T21:26:26.410Z"
   },
   {
    "duration": 6255,
    "start_time": "2022-05-06T21:26:26.415Z"
   },
   {
    "duration": 81,
    "start_time": "2022-05-06T21:26:32.673Z"
   },
   {
    "duration": 0,
    "start_time": "2022-05-06T21:26:32.758Z"
   },
   {
    "duration": 0,
    "start_time": "2022-05-06T21:26:32.758Z"
   },
   {
    "duration": 0,
    "start_time": "2022-05-06T21:26:32.759Z"
   },
   {
    "duration": 0,
    "start_time": "2022-05-06T21:26:32.760Z"
   },
   {
    "duration": 0,
    "start_time": "2022-05-06T21:26:32.761Z"
   },
   {
    "duration": 0,
    "start_time": "2022-05-06T21:26:32.762Z"
   },
   {
    "duration": 0,
    "start_time": "2022-05-06T21:26:32.763Z"
   },
   {
    "duration": 0,
    "start_time": "2022-05-06T21:26:32.764Z"
   },
   {
    "duration": 0,
    "start_time": "2022-05-06T21:26:32.765Z"
   },
   {
    "duration": 0,
    "start_time": "2022-05-06T21:26:32.766Z"
   },
   {
    "duration": 0,
    "start_time": "2022-05-06T21:26:32.767Z"
   },
   {
    "duration": 0,
    "start_time": "2022-05-06T21:26:32.767Z"
   },
   {
    "duration": 0,
    "start_time": "2022-05-06T21:26:32.768Z"
   },
   {
    "duration": 0,
    "start_time": "2022-05-06T21:26:32.769Z"
   },
   {
    "duration": 0,
    "start_time": "2022-05-06T21:26:32.770Z"
   },
   {
    "duration": 0,
    "start_time": "2022-05-06T21:26:32.771Z"
   },
   {
    "duration": 0,
    "start_time": "2022-05-06T21:26:32.772Z"
   },
   {
    "duration": 0,
    "start_time": "2022-05-06T21:26:32.773Z"
   },
   {
    "duration": 0,
    "start_time": "2022-05-06T21:26:32.774Z"
   },
   {
    "duration": 0,
    "start_time": "2022-05-06T21:26:32.775Z"
   },
   {
    "duration": 0,
    "start_time": "2022-05-06T21:26:32.776Z"
   },
   {
    "duration": 0,
    "start_time": "2022-05-06T21:26:32.776Z"
   },
   {
    "duration": 0,
    "start_time": "2022-05-06T21:26:32.777Z"
   },
   {
    "duration": 0,
    "start_time": "2022-05-06T21:26:32.778Z"
   },
   {
    "duration": 0,
    "start_time": "2022-05-06T21:26:32.779Z"
   },
   {
    "duration": 0,
    "start_time": "2022-05-06T21:26:32.780Z"
   },
   {
    "duration": 0,
    "start_time": "2022-05-06T21:26:32.781Z"
   },
   {
    "duration": 0,
    "start_time": "2022-05-06T21:26:32.782Z"
   },
   {
    "duration": 0,
    "start_time": "2022-05-06T21:26:32.783Z"
   },
   {
    "duration": 0,
    "start_time": "2022-05-06T21:26:32.784Z"
   },
   {
    "duration": 0,
    "start_time": "2022-05-06T21:26:32.785Z"
   },
   {
    "duration": 0,
    "start_time": "2022-05-06T21:26:32.786Z"
   },
   {
    "duration": 0,
    "start_time": "2022-05-06T21:26:32.787Z"
   },
   {
    "duration": 0,
    "start_time": "2022-05-06T21:26:32.788Z"
   },
   {
    "duration": 0,
    "start_time": "2022-05-06T21:26:32.789Z"
   },
   {
    "duration": 0,
    "start_time": "2022-05-06T21:26:32.790Z"
   },
   {
    "duration": 0,
    "start_time": "2022-05-06T21:26:32.791Z"
   },
   {
    "duration": 0,
    "start_time": "2022-05-06T21:26:32.792Z"
   },
   {
    "duration": 0,
    "start_time": "2022-05-06T21:26:32.793Z"
   },
   {
    "duration": 0,
    "start_time": "2022-05-06T21:26:32.794Z"
   },
   {
    "duration": 8,
    "start_time": "2022-05-06T21:29:01.181Z"
   },
   {
    "duration": 399,
    "start_time": "2022-05-06T21:32:04.098Z"
   },
   {
    "duration": 87,
    "start_time": "2022-05-06T21:32:04.499Z"
   },
   {
    "duration": 36,
    "start_time": "2022-05-06T21:32:04.588Z"
   },
   {
    "duration": 30,
    "start_time": "2022-05-06T21:32:04.626Z"
   },
   {
    "duration": 10,
    "start_time": "2022-05-06T21:32:04.657Z"
   },
   {
    "duration": 54,
    "start_time": "2022-05-06T21:32:04.669Z"
   },
   {
    "duration": 170,
    "start_time": "2022-05-06T21:32:04.725Z"
   },
   {
    "duration": 4,
    "start_time": "2022-05-06T21:32:04.897Z"
   },
   {
    "duration": 8022,
    "start_time": "2022-05-06T21:32:04.902Z"
   },
   {
    "duration": 31,
    "start_time": "2022-05-06T21:32:12.928Z"
   },
   {
    "duration": 4,
    "start_time": "2022-05-06T21:32:12.962Z"
   },
   {
    "duration": 6,
    "start_time": "2022-05-06T21:32:12.968Z"
   },
   {
    "duration": 6,
    "start_time": "2022-05-06T21:32:12.976Z"
   },
   {
    "duration": 5,
    "start_time": "2022-05-06T21:32:12.984Z"
   },
   {
    "duration": 6,
    "start_time": "2022-05-06T21:32:12.991Z"
   },
   {
    "duration": 7,
    "start_time": "2022-05-06T21:32:12.999Z"
   },
   {
    "duration": 46,
    "start_time": "2022-05-06T21:32:13.008Z"
   },
   {
    "duration": 10,
    "start_time": "2022-05-06T21:32:13.057Z"
   },
   {
    "duration": 5,
    "start_time": "2022-05-06T21:32:13.068Z"
   },
   {
    "duration": 11,
    "start_time": "2022-05-06T21:32:13.075Z"
   },
   {
    "duration": 7,
    "start_time": "2022-05-06T21:32:13.087Z"
   },
   {
    "duration": 7,
    "start_time": "2022-05-06T21:32:13.096Z"
   },
   {
    "duration": 5,
    "start_time": "2022-05-06T21:32:13.105Z"
   },
   {
    "duration": 417,
    "start_time": "2022-05-06T21:32:13.112Z"
   },
   {
    "duration": 5,
    "start_time": "2022-05-06T21:32:13.531Z"
   },
   {
    "duration": 17,
    "start_time": "2022-05-06T21:32:13.538Z"
   },
   {
    "duration": 232,
    "start_time": "2022-05-06T21:32:13.557Z"
   },
   {
    "duration": 223,
    "start_time": "2022-05-06T21:32:13.793Z"
   },
   {
    "duration": 324,
    "start_time": "2022-05-06T21:32:14.018Z"
   },
   {
    "duration": 161,
    "start_time": "2022-05-06T21:32:14.345Z"
   },
   {
    "duration": 197,
    "start_time": "2022-05-06T21:32:14.508Z"
   },
   {
    "duration": 289,
    "start_time": "2022-05-06T21:32:14.708Z"
   },
   {
    "duration": 11,
    "start_time": "2022-05-06T21:32:15.000Z"
   },
   {
    "duration": 39,
    "start_time": "2022-05-06T21:32:15.014Z"
   },
   {
    "duration": 11,
    "start_time": "2022-05-06T21:32:15.055Z"
   },
   {
    "duration": 14,
    "start_time": "2022-05-06T21:32:15.069Z"
   },
   {
    "duration": 10,
    "start_time": "2022-05-06T21:32:15.085Z"
   },
   {
    "duration": 10,
    "start_time": "2022-05-06T21:32:15.097Z"
   },
   {
    "duration": 19,
    "start_time": "2022-05-06T21:32:15.109Z"
   },
   {
    "duration": 26,
    "start_time": "2022-05-06T21:32:15.130Z"
   },
   {
    "duration": 6,
    "start_time": "2022-05-06T21:32:15.157Z"
   },
   {
    "duration": 14,
    "start_time": "2022-05-06T21:32:15.165Z"
   },
   {
    "duration": 13,
    "start_time": "2022-05-06T21:32:15.181Z"
   },
   {
    "duration": 14,
    "start_time": "2022-05-06T21:32:15.196Z"
   },
   {
    "duration": 44,
    "start_time": "2022-05-06T21:32:15.212Z"
   },
   {
    "duration": 4,
    "start_time": "2022-05-06T21:32:15.258Z"
   },
   {
    "duration": 10,
    "start_time": "2022-05-06T21:32:15.264Z"
   },
   {
    "duration": 25,
    "start_time": "2022-05-06T21:32:15.275Z"
   },
   {
    "duration": 14,
    "start_time": "2022-05-06T21:32:15.302Z"
   },
   {
    "duration": 8,
    "start_time": "2022-05-06T21:32:15.318Z"
   },
   {
    "duration": 45,
    "start_time": "2022-05-06T21:32:15.328Z"
   },
   {
    "duration": 445,
    "start_time": "2022-05-06T21:33:08.244Z"
   },
   {
    "duration": 92,
    "start_time": "2022-05-06T21:33:08.691Z"
   },
   {
    "duration": 36,
    "start_time": "2022-05-06T21:33:08.785Z"
   },
   {
    "duration": 32,
    "start_time": "2022-05-06T21:33:08.823Z"
   },
   {
    "duration": 10,
    "start_time": "2022-05-06T21:33:08.857Z"
   },
   {
    "duration": 45,
    "start_time": "2022-05-06T21:33:08.869Z"
   },
   {
    "duration": 188,
    "start_time": "2022-05-06T21:33:08.915Z"
   },
   {
    "duration": 4,
    "start_time": "2022-05-06T21:33:09.104Z"
   },
   {
    "duration": 6008,
    "start_time": "2022-05-06T21:33:09.110Z"
   },
   {
    "duration": 4,
    "start_time": "2022-05-06T21:33:15.121Z"
   },
   {
    "duration": 10,
    "start_time": "2022-05-06T21:33:15.126Z"
   },
   {
    "duration": 6,
    "start_time": "2022-05-06T21:33:15.138Z"
   },
   {
    "duration": 9,
    "start_time": "2022-05-06T21:33:15.146Z"
   },
   {
    "duration": 6,
    "start_time": "2022-05-06T21:33:15.156Z"
   },
   {
    "duration": 10,
    "start_time": "2022-05-06T21:33:15.163Z"
   },
   {
    "duration": 8,
    "start_time": "2022-05-06T21:33:15.174Z"
   },
   {
    "duration": 16,
    "start_time": "2022-05-06T21:33:15.184Z"
   },
   {
    "duration": 17,
    "start_time": "2022-05-06T21:33:15.201Z"
   },
   {
    "duration": 6,
    "start_time": "2022-05-06T21:33:15.219Z"
   },
   {
    "duration": 9,
    "start_time": "2022-05-06T21:33:15.227Z"
   },
   {
    "duration": 19,
    "start_time": "2022-05-06T21:33:15.238Z"
   },
   {
    "duration": 6,
    "start_time": "2022-05-06T21:33:15.259Z"
   },
   {
    "duration": 4,
    "start_time": "2022-05-06T21:33:15.266Z"
   },
   {
    "duration": 405,
    "start_time": "2022-05-06T21:33:15.272Z"
   },
   {
    "duration": 4,
    "start_time": "2022-05-06T21:33:15.680Z"
   },
   {
    "duration": 5,
    "start_time": "2022-05-06T21:33:15.686Z"
   },
   {
    "duration": 232,
    "start_time": "2022-05-06T21:33:15.693Z"
   },
   {
    "duration": 224,
    "start_time": "2022-05-06T21:33:15.930Z"
   },
   {
    "duration": 299,
    "start_time": "2022-05-06T21:33:16.156Z"
   },
   {
    "duration": 142,
    "start_time": "2022-05-06T21:33:16.457Z"
   },
   {
    "duration": 187,
    "start_time": "2022-05-06T21:33:16.602Z"
   },
   {
    "duration": 228,
    "start_time": "2022-05-06T21:33:16.791Z"
   },
   {
    "duration": 9,
    "start_time": "2022-05-06T21:33:17.020Z"
   },
   {
    "duration": 29,
    "start_time": "2022-05-06T21:33:17.030Z"
   },
   {
    "duration": 9,
    "start_time": "2022-05-06T21:33:17.061Z"
   },
   {
    "duration": 12,
    "start_time": "2022-05-06T21:33:17.071Z"
   },
   {
    "duration": 7,
    "start_time": "2022-05-06T21:33:17.085Z"
   },
   {
    "duration": 10,
    "start_time": "2022-05-06T21:33:17.093Z"
   },
   {
    "duration": 5,
    "start_time": "2022-05-06T21:33:17.104Z"
   },
   {
    "duration": 6,
    "start_time": "2022-05-06T21:33:17.111Z"
   },
   {
    "duration": 6,
    "start_time": "2022-05-06T21:33:17.119Z"
   },
   {
    "duration": 14,
    "start_time": "2022-05-06T21:33:17.155Z"
   },
   {
    "duration": 12,
    "start_time": "2022-05-06T21:33:17.170Z"
   },
   {
    "duration": 11,
    "start_time": "2022-05-06T21:33:17.183Z"
   },
   {
    "duration": 10,
    "start_time": "2022-05-06T21:33:17.196Z"
   },
   {
    "duration": 4,
    "start_time": "2022-05-06T21:33:17.208Z"
   },
   {
    "duration": 43,
    "start_time": "2022-05-06T21:33:17.213Z"
   },
   {
    "duration": 12,
    "start_time": "2022-05-06T21:33:17.257Z"
   },
   {
    "duration": 19,
    "start_time": "2022-05-06T21:33:17.271Z"
   },
   {
    "duration": 9,
    "start_time": "2022-05-06T21:33:17.292Z"
   },
   {
    "duration": 17,
    "start_time": "2022-05-06T21:33:17.302Z"
   },
   {
    "duration": 9,
    "start_time": "2022-05-06T21:36:54.490Z"
   },
   {
    "duration": 614,
    "start_time": "2022-05-06T21:40:36.268Z"
   },
   {
    "duration": 11,
    "start_time": "2022-05-06T21:41:01.967Z"
   },
   {
    "duration": 11,
    "start_time": "2022-05-06T21:41:21.215Z"
   },
   {
    "duration": 159,
    "start_time": "2022-05-06T21:41:37.155Z"
   },
   {
    "duration": 9,
    "start_time": "2022-05-06T21:46:57.493Z"
   },
   {
    "duration": 242,
    "start_time": "2022-05-06T21:47:29.813Z"
   },
   {
    "duration": 313,
    "start_time": "2022-05-06T21:48:00.919Z"
   },
   {
    "duration": 224,
    "start_time": "2022-05-06T21:48:25.703Z"
   },
   {
    "duration": 237,
    "start_time": "2022-05-06T21:49:09.149Z"
   },
   {
    "duration": 420,
    "start_time": "2022-05-06T21:50:27.286Z"
   },
   {
    "duration": 89,
    "start_time": "2022-05-06T21:50:27.709Z"
   },
   {
    "duration": 36,
    "start_time": "2022-05-06T21:50:27.800Z"
   },
   {
    "duration": 26,
    "start_time": "2022-05-06T21:50:27.838Z"
   },
   {
    "duration": 10,
    "start_time": "2022-05-06T21:50:27.866Z"
   },
   {
    "duration": 45,
    "start_time": "2022-05-06T21:50:27.878Z"
   },
   {
    "duration": 193,
    "start_time": "2022-05-06T21:50:27.924Z"
   },
   {
    "duration": 4,
    "start_time": "2022-05-06T21:50:28.119Z"
   },
   {
    "duration": 6022,
    "start_time": "2022-05-06T21:50:28.125Z"
   },
   {
    "duration": 5,
    "start_time": "2022-05-06T21:50:34.153Z"
   },
   {
    "duration": 8,
    "start_time": "2022-05-06T21:50:34.159Z"
   },
   {
    "duration": 12,
    "start_time": "2022-05-06T21:50:34.169Z"
   },
   {
    "duration": 10,
    "start_time": "2022-05-06T21:50:34.183Z"
   },
   {
    "duration": 10,
    "start_time": "2022-05-06T21:50:34.195Z"
   },
   {
    "duration": 11,
    "start_time": "2022-05-06T21:50:34.206Z"
   },
   {
    "duration": 11,
    "start_time": "2022-05-06T21:50:34.219Z"
   },
   {
    "duration": 12,
    "start_time": "2022-05-06T21:50:34.231Z"
   },
   {
    "duration": 32,
    "start_time": "2022-05-06T21:50:34.245Z"
   },
   {
    "duration": 5,
    "start_time": "2022-05-06T21:50:34.278Z"
   },
   {
    "duration": 14,
    "start_time": "2022-05-06T21:50:34.284Z"
   },
   {
    "duration": 14,
    "start_time": "2022-05-06T21:50:34.300Z"
   },
   {
    "duration": 6,
    "start_time": "2022-05-06T21:50:34.316Z"
   },
   {
    "duration": 4,
    "start_time": "2022-05-06T21:50:34.323Z"
   },
   {
    "duration": 411,
    "start_time": "2022-05-06T21:50:34.328Z"
   },
   {
    "duration": 4,
    "start_time": "2022-05-06T21:50:34.741Z"
   },
   {
    "duration": 4,
    "start_time": "2022-05-06T21:50:34.755Z"
   },
   {
    "duration": 241,
    "start_time": "2022-05-06T21:50:34.761Z"
   },
   {
    "duration": 248,
    "start_time": "2022-05-06T21:50:35.006Z"
   },
   {
    "duration": 303,
    "start_time": "2022-05-06T21:50:35.256Z"
   },
   {
    "duration": 145,
    "start_time": "2022-05-06T21:50:35.560Z"
   },
   {
    "duration": 189,
    "start_time": "2022-05-06T21:50:35.706Z"
   },
   {
    "duration": 230,
    "start_time": "2022-05-06T21:50:35.897Z"
   },
   {
    "duration": 9,
    "start_time": "2022-05-06T21:50:36.128Z"
   },
   {
    "duration": 26,
    "start_time": "2022-05-06T21:50:36.139Z"
   },
   {
    "duration": 10,
    "start_time": "2022-05-06T21:50:36.167Z"
   },
   {
    "duration": 8,
    "start_time": "2022-05-06T21:50:36.179Z"
   },
   {
    "duration": 11,
    "start_time": "2022-05-06T21:50:36.188Z"
   },
   {
    "duration": 9,
    "start_time": "2022-05-06T21:50:36.200Z"
   },
   {
    "duration": 8,
    "start_time": "2022-05-06T21:50:36.211Z"
   },
   {
    "duration": 7,
    "start_time": "2022-05-06T21:50:36.220Z"
   },
   {
    "duration": 6,
    "start_time": "2022-05-06T21:50:36.255Z"
   },
   {
    "duration": 15,
    "start_time": "2022-05-06T21:50:36.263Z"
   },
   {
    "duration": 13,
    "start_time": "2022-05-06T21:50:36.280Z"
   },
   {
    "duration": 18,
    "start_time": "2022-05-06T21:50:36.294Z"
   },
   {
    "duration": 41,
    "start_time": "2022-05-06T21:50:36.314Z"
   },
   {
    "duration": 4,
    "start_time": "2022-05-06T21:50:36.357Z"
   },
   {
    "duration": 12,
    "start_time": "2022-05-06T21:50:36.363Z"
   },
   {
    "duration": 13,
    "start_time": "2022-05-06T21:50:36.376Z"
   },
   {
    "duration": 13,
    "start_time": "2022-05-06T21:50:36.391Z"
   },
   {
    "duration": 9,
    "start_time": "2022-05-06T21:50:36.406Z"
   },
   {
    "duration": 39,
    "start_time": "2022-05-06T21:50:36.416Z"
   },
   {
    "duration": 148,
    "start_time": "2022-05-06T21:50:36.456Z"
   },
   {
    "duration": 9,
    "start_time": "2022-05-06T21:50:36.606Z"
   },
   {
    "duration": 248,
    "start_time": "2022-05-06T21:50:36.616Z"
   },
   {
    "duration": 318,
    "start_time": "2022-05-06T21:50:36.866Z"
   },
   {
    "duration": 130,
    "start_time": "2022-05-06T21:52:28.814Z"
   },
   {
    "duration": 136,
    "start_time": "2022-05-06T21:52:44.972Z"
   },
   {
    "duration": 129,
    "start_time": "2022-05-06T21:53:12.316Z"
   },
   {
    "duration": 119,
    "start_time": "2022-05-06T21:53:26.115Z"
   },
   {
    "duration": 127,
    "start_time": "2022-05-06T21:53:53.172Z"
   },
   {
    "duration": 134,
    "start_time": "2022-05-06T21:54:03.622Z"
   },
   {
    "duration": 120,
    "start_time": "2022-05-06T21:54:39.052Z"
   },
   {
    "duration": 141,
    "start_time": "2022-05-06T21:55:10.257Z"
   },
   {
    "duration": 179,
    "start_time": "2022-05-06T21:55:21.434Z"
   },
   {
    "duration": 178,
    "start_time": "2022-05-06T21:55:43.323Z"
   },
   {
    "duration": 216,
    "start_time": "2022-05-06T21:55:52.397Z"
   },
   {
    "duration": 115,
    "start_time": "2022-05-06T21:56:33.828Z"
   },
   {
    "duration": 205,
    "start_time": "2022-05-06T21:57:07.366Z"
   },
   {
    "duration": 226,
    "start_time": "2022-05-06T21:57:55.070Z"
   },
   {
    "duration": 8,
    "start_time": "2022-05-06T22:02:27.877Z"
   },
   {
    "duration": 8,
    "start_time": "2022-05-06T22:03:05.405Z"
   },
   {
    "duration": 9,
    "start_time": "2022-05-06T22:04:05.176Z"
   },
   {
    "duration": 9,
    "start_time": "2022-05-06T22:05:29.255Z"
   },
   {
    "duration": 9,
    "start_time": "2022-05-06T22:06:23.583Z"
   },
   {
    "duration": 10,
    "start_time": "2022-05-06T22:09:29.503Z"
   },
   {
    "duration": 8,
    "start_time": "2022-05-06T22:12:05.322Z"
   },
   {
    "duration": 8,
    "start_time": "2022-05-06T22:14:05.090Z"
   },
   {
    "duration": 156,
    "start_time": "2022-05-06T22:15:43.259Z"
   },
   {
    "duration": 144,
    "start_time": "2022-05-06T22:16:00.700Z"
   },
   {
    "duration": 148,
    "start_time": "2022-05-06T22:16:06.650Z"
   },
   {
    "duration": 136,
    "start_time": "2022-05-06T22:16:20.720Z"
   },
   {
    "duration": 135,
    "start_time": "2022-05-06T22:16:40.445Z"
   },
   {
    "duration": 128,
    "start_time": "2022-05-06T22:16:53.402Z"
   },
   {
    "duration": 140,
    "start_time": "2022-05-06T22:17:07.179Z"
   },
   {
    "duration": 258,
    "start_time": "2022-05-06T22:17:18.890Z"
   },
   {
    "duration": 127,
    "start_time": "2022-05-06T22:18:13.996Z"
   },
   {
    "duration": 10,
    "start_time": "2022-05-06T22:21:16.075Z"
   },
   {
    "duration": 9,
    "start_time": "2022-05-06T22:23:12.422Z"
   },
   {
    "duration": 10,
    "start_time": "2022-05-06T22:23:14.171Z"
   },
   {
    "duration": 15,
    "start_time": "2022-05-06T22:25:23.428Z"
   },
   {
    "duration": 70,
    "start_time": "2022-05-07T17:16:29.725Z"
   },
   {
    "duration": 559,
    "start_time": "2022-05-07T17:16:37.069Z"
   },
   {
    "duration": 115,
    "start_time": "2022-05-07T17:16:37.631Z"
   },
   {
    "duration": 66,
    "start_time": "2022-05-07T17:16:37.749Z"
   },
   {
    "duration": 20,
    "start_time": "2022-05-07T17:16:37.818Z"
   },
   {
    "duration": 14,
    "start_time": "2022-05-07T17:16:37.841Z"
   },
   {
    "duration": 99,
    "start_time": "2022-05-07T17:16:37.858Z"
   },
   {
    "duration": 286,
    "start_time": "2022-05-07T17:16:37.960Z"
   },
   {
    "duration": 6,
    "start_time": "2022-05-07T17:16:38.248Z"
   },
   {
    "duration": 10447,
    "start_time": "2022-05-07T17:16:38.256Z"
   },
   {
    "duration": 5,
    "start_time": "2022-05-07T17:16:48.706Z"
   },
   {
    "duration": 8,
    "start_time": "2022-05-07T17:16:48.713Z"
   },
   {
    "duration": 6,
    "start_time": "2022-05-07T17:16:48.723Z"
   },
   {
    "duration": 6,
    "start_time": "2022-05-07T17:16:48.731Z"
   },
   {
    "duration": 5,
    "start_time": "2022-05-07T17:16:48.739Z"
   },
   {
    "duration": 8,
    "start_time": "2022-05-07T17:16:48.746Z"
   },
   {
    "duration": 8,
    "start_time": "2022-05-07T17:16:48.793Z"
   },
   {
    "duration": 11,
    "start_time": "2022-05-07T17:16:48.803Z"
   },
   {
    "duration": 13,
    "start_time": "2022-05-07T17:16:48.816Z"
   },
   {
    "duration": 5,
    "start_time": "2022-05-07T17:16:48.831Z"
   },
   {
    "duration": 10,
    "start_time": "2022-05-07T17:16:48.838Z"
   },
   {
    "duration": 44,
    "start_time": "2022-05-07T17:16:48.850Z"
   },
   {
    "duration": 11,
    "start_time": "2022-05-07T17:16:48.896Z"
   },
   {
    "duration": 5,
    "start_time": "2022-05-07T17:16:48.910Z"
   },
   {
    "duration": 625,
    "start_time": "2022-05-07T17:16:48.917Z"
   },
   {
    "duration": 5,
    "start_time": "2022-05-07T17:16:49.545Z"
   },
   {
    "duration": 7,
    "start_time": "2022-05-07T17:16:49.553Z"
   },
   {
    "duration": 631,
    "start_time": "2022-05-07T17:16:49.562Z"
   },
   {
    "duration": 481,
    "start_time": "2022-05-07T17:16:50.199Z"
   },
   {
    "duration": 410,
    "start_time": "2022-05-07T17:16:50.683Z"
   },
   {
    "duration": 262,
    "start_time": "2022-05-07T17:16:51.095Z"
   },
   {
    "duration": 231,
    "start_time": "2022-05-07T17:16:51.359Z"
   },
   {
    "duration": 381,
    "start_time": "2022-05-07T17:16:51.592Z"
   },
   {
    "duration": 25,
    "start_time": "2022-05-07T17:16:51.976Z"
   },
   {
    "duration": 21,
    "start_time": "2022-05-07T17:16:52.004Z"
   },
   {
    "duration": 14,
    "start_time": "2022-05-07T17:16:52.027Z"
   },
   {
    "duration": 12,
    "start_time": "2022-05-07T17:16:52.044Z"
   },
   {
    "duration": 12,
    "start_time": "2022-05-07T17:16:52.093Z"
   },
   {
    "duration": 11,
    "start_time": "2022-05-07T17:16:52.108Z"
   },
   {
    "duration": 8,
    "start_time": "2022-05-07T17:16:52.122Z"
   },
   {
    "duration": 9,
    "start_time": "2022-05-07T17:16:52.132Z"
   },
   {
    "duration": 50,
    "start_time": "2022-05-07T17:16:52.144Z"
   },
   {
    "duration": 20,
    "start_time": "2022-05-07T17:16:52.197Z"
   },
   {
    "duration": 17,
    "start_time": "2022-05-07T17:16:52.219Z"
   },
   {
    "duration": 61,
    "start_time": "2022-05-07T17:16:52.239Z"
   },
   {
    "duration": 20,
    "start_time": "2022-05-07T17:16:52.302Z"
   },
   {
    "duration": 5,
    "start_time": "2022-05-07T17:16:52.325Z"
   },
   {
    "duration": 12,
    "start_time": "2022-05-07T17:16:52.333Z"
   },
   {
    "duration": 55,
    "start_time": "2022-05-07T17:16:52.348Z"
   },
   {
    "duration": 19,
    "start_time": "2022-05-07T17:16:52.406Z"
   },
   {
    "duration": 12,
    "start_time": "2022-05-07T17:16:52.428Z"
   },
   {
    "duration": 13,
    "start_time": "2022-05-07T17:16:52.443Z"
   },
   {
    "duration": 239,
    "start_time": "2022-05-07T17:16:52.493Z"
   },
   {
    "duration": 15,
    "start_time": "2022-05-07T17:16:52.735Z"
   },
   {
    "duration": 663,
    "start_time": "2022-05-07T17:16:52.752Z"
   },
   {
    "duration": 14,
    "start_time": "2022-05-07T17:16:53.418Z"
   },
   {
    "duration": 622,
    "start_time": "2022-05-07T17:16:53.435Z"
   },
   {
    "duration": 11,
    "start_time": "2022-05-07T17:16:54.059Z"
   },
   {
    "duration": 31,
    "start_time": "2022-05-07T17:16:54.072Z"
   },
   {
    "duration": 238,
    "start_time": "2022-05-07T17:16:54.106Z"
   },
   {
    "duration": 11,
    "start_time": "2022-05-07T17:16:54.347Z"
   },
   {
    "duration": 32,
    "start_time": "2022-05-07T17:16:54.360Z"
   },
   {
    "duration": 219,
    "start_time": "2022-05-07T17:16:54.395Z"
   },
   {
    "duration": 11,
    "start_time": "2022-05-07T17:16:54.616Z"
   },
   {
    "duration": 388,
    "start_time": "2022-05-07T17:16:54.629Z"
   },
   {
    "duration": 11,
    "start_time": "2022-05-07T17:16:55.020Z"
   },
   {
    "duration": 11,
    "start_time": "2022-05-07T17:16:55.034Z"
   },
   {
    "duration": 51,
    "start_time": "2022-05-07T17:16:55.047Z"
   },
   {
    "duration": 18,
    "start_time": "2022-05-07T17:16:55.101Z"
   },
   {
    "duration": 22,
    "start_time": "2022-05-07T17:17:51.515Z"
   },
   {
    "duration": 18,
    "start_time": "2022-05-07T17:18:39.319Z"
   },
   {
    "duration": 199,
    "start_time": "2022-05-07T17:22:32.294Z"
   },
   {
    "duration": 11,
    "start_time": "2022-05-07T17:40:59.518Z"
   },
   {
    "duration": 545,
    "start_time": "2022-05-07T17:44:51.787Z"
   },
   {
    "duration": 104,
    "start_time": "2022-05-07T17:44:52.334Z"
   },
   {
    "duration": 61,
    "start_time": "2022-05-07T17:44:52.440Z"
   },
   {
    "duration": 21,
    "start_time": "2022-05-07T17:44:52.504Z"
   },
   {
    "duration": 12,
    "start_time": "2022-05-07T17:44:52.527Z"
   },
   {
    "duration": 103,
    "start_time": "2022-05-07T17:44:52.541Z"
   },
   {
    "duration": 282,
    "start_time": "2022-05-07T17:44:52.646Z"
   },
   {
    "duration": 5,
    "start_time": "2022-05-07T17:44:52.930Z"
   },
   {
    "duration": 10304,
    "start_time": "2022-05-07T17:44:52.938Z"
   },
   {
    "duration": 5,
    "start_time": "2022-05-07T17:45:03.246Z"
   },
   {
    "duration": 16,
    "start_time": "2022-05-07T17:45:03.253Z"
   },
   {
    "duration": 11,
    "start_time": "2022-05-07T17:45:03.271Z"
   },
   {
    "duration": 4,
    "start_time": "2022-05-07T17:45:03.293Z"
   },
   {
    "duration": 9,
    "start_time": "2022-05-07T17:45:03.299Z"
   },
   {
    "duration": 11,
    "start_time": "2022-05-07T17:45:03.310Z"
   },
   {
    "duration": 13,
    "start_time": "2022-05-07T17:45:03.323Z"
   },
   {
    "duration": 12,
    "start_time": "2022-05-07T17:45:03.338Z"
   },
   {
    "duration": 41,
    "start_time": "2022-05-07T17:45:03.352Z"
   },
   {
    "duration": 6,
    "start_time": "2022-05-07T17:45:03.396Z"
   },
   {
    "duration": 13,
    "start_time": "2022-05-07T17:45:03.404Z"
   },
   {
    "duration": 8,
    "start_time": "2022-05-07T17:45:03.419Z"
   },
   {
    "duration": 9,
    "start_time": "2022-05-07T17:45:03.429Z"
   },
   {
    "duration": 5,
    "start_time": "2022-05-07T17:45:03.440Z"
   },
   {
    "duration": 619,
    "start_time": "2022-05-07T17:45:03.447Z"
   },
   {
    "duration": 5,
    "start_time": "2022-05-07T17:45:04.069Z"
   },
   {
    "duration": 18,
    "start_time": "2022-05-07T17:45:04.076Z"
   },
   {
    "duration": 352,
    "start_time": "2022-05-07T17:45:04.096Z"
   },
   {
    "duration": 401,
    "start_time": "2022-05-07T17:45:04.454Z"
   },
   {
    "duration": 461,
    "start_time": "2022-05-07T17:45:04.858Z"
   },
   {
    "duration": 258,
    "start_time": "2022-05-07T17:45:05.321Z"
   },
   {
    "duration": 232,
    "start_time": "2022-05-07T17:45:05.581Z"
   },
   {
    "duration": 392,
    "start_time": "2022-05-07T17:45:05.815Z"
   },
   {
    "duration": 13,
    "start_time": "2022-05-07T17:45:06.209Z"
   },
   {
    "duration": 21,
    "start_time": "2022-05-07T17:45:06.224Z"
   },
   {
    "duration": 45,
    "start_time": "2022-05-07T17:45:06.248Z"
   },
   {
    "duration": 13,
    "start_time": "2022-05-07T17:45:06.295Z"
   },
   {
    "duration": 15,
    "start_time": "2022-05-07T17:45:06.310Z"
   },
   {
    "duration": 12,
    "start_time": "2022-05-07T17:45:06.327Z"
   },
   {
    "duration": 7,
    "start_time": "2022-05-07T17:45:06.341Z"
   },
   {
    "duration": 45,
    "start_time": "2022-05-07T17:45:06.350Z"
   },
   {
    "duration": 8,
    "start_time": "2022-05-07T17:45:06.397Z"
   },
   {
    "duration": 22,
    "start_time": "2022-05-07T17:45:06.408Z"
   },
   {
    "duration": 60,
    "start_time": "2022-05-07T17:45:06.433Z"
   },
   {
    "duration": 22,
    "start_time": "2022-05-07T17:45:06.496Z"
   },
   {
    "duration": 22,
    "start_time": "2022-05-07T17:45:06.520Z"
   },
   {
    "duration": 6,
    "start_time": "2022-05-07T17:45:06.544Z"
   },
   {
    "duration": 44,
    "start_time": "2022-05-07T17:45:06.553Z"
   },
   {
    "duration": 16,
    "start_time": "2022-05-07T17:45:06.600Z"
   },
   {
    "duration": 20,
    "start_time": "2022-05-07T17:45:06.618Z"
   },
   {
    "duration": 12,
    "start_time": "2022-05-07T17:45:06.641Z"
   },
   {
    "duration": 47,
    "start_time": "2022-05-07T17:45:06.656Z"
   },
   {
    "duration": 234,
    "start_time": "2022-05-07T17:45:06.706Z"
   },
   {
    "duration": 10,
    "start_time": "2022-05-07T17:45:06.943Z"
   },
   {
    "duration": 400,
    "start_time": "2022-05-07T17:45:06.956Z"
   },
   {
    "duration": 12,
    "start_time": "2022-05-07T17:45:07.358Z"
   },
   {
    "duration": 394,
    "start_time": "2022-05-07T17:45:07.372Z"
   },
   {
    "duration": 12,
    "start_time": "2022-05-07T17:45:07.768Z"
   },
   {
    "duration": 10,
    "start_time": "2022-05-07T17:45:07.793Z"
   },
   {
    "duration": 296,
    "start_time": "2022-05-07T17:45:07.805Z"
   },
   {
    "duration": 11,
    "start_time": "2022-05-07T17:45:08.103Z"
   },
   {
    "duration": 17,
    "start_time": "2022-05-07T17:45:08.116Z"
   },
   {
    "duration": 227,
    "start_time": "2022-05-07T17:45:08.135Z"
   },
   {
    "duration": 11,
    "start_time": "2022-05-07T17:45:08.364Z"
   },
   {
    "duration": 358,
    "start_time": "2022-05-07T17:45:08.393Z"
   },
   {
    "duration": 11,
    "start_time": "2022-05-07T17:45:08.753Z"
   },
   {
    "duration": 35,
    "start_time": "2022-05-07T17:45:08.766Z"
   },
   {
    "duration": 17,
    "start_time": "2022-05-07T17:45:08.803Z"
   },
   {
    "duration": 19,
    "start_time": "2022-05-07T17:45:08.823Z"
   },
   {
    "duration": 16,
    "start_time": "2022-05-07T17:45:08.844Z"
   },
   {
    "duration": 392,
    "start_time": "2022-05-09T06:13:08.612Z"
   },
   {
    "duration": 77,
    "start_time": "2022-05-09T06:13:09.006Z"
   },
   {
    "duration": 32,
    "start_time": "2022-05-09T06:13:09.085Z"
   },
   {
    "duration": 28,
    "start_time": "2022-05-09T06:13:09.119Z"
   },
   {
    "duration": 11,
    "start_time": "2022-05-09T06:13:09.149Z"
   },
   {
    "duration": 39,
    "start_time": "2022-05-09T06:13:09.161Z"
   },
   {
    "duration": 161,
    "start_time": "2022-05-09T06:13:09.201Z"
   },
   {
    "duration": 3,
    "start_time": "2022-05-09T06:13:09.364Z"
   },
   {
    "duration": 5439,
    "start_time": "2022-05-09T06:13:09.368Z"
   },
   {
    "duration": 3,
    "start_time": "2022-05-09T06:13:14.810Z"
   },
   {
    "duration": 9,
    "start_time": "2022-05-09T06:13:14.814Z"
   },
   {
    "duration": 8,
    "start_time": "2022-05-09T06:13:14.824Z"
   },
   {
    "duration": 14,
    "start_time": "2022-05-09T06:13:14.833Z"
   },
   {
    "duration": 9,
    "start_time": "2022-05-09T06:13:14.849Z"
   },
   {
    "duration": 7,
    "start_time": "2022-05-09T06:13:14.859Z"
   },
   {
    "duration": 5,
    "start_time": "2022-05-09T06:13:14.868Z"
   },
   {
    "duration": 9,
    "start_time": "2022-05-09T06:13:14.874Z"
   },
   {
    "duration": 14,
    "start_time": "2022-05-09T06:13:14.885Z"
   },
   {
    "duration": 4,
    "start_time": "2022-05-09T06:13:14.901Z"
   },
   {
    "duration": 10,
    "start_time": "2022-05-09T06:13:14.907Z"
   },
   {
    "duration": 5,
    "start_time": "2022-05-09T06:13:14.919Z"
   },
   {
    "duration": 22,
    "start_time": "2022-05-09T06:13:14.925Z"
   },
   {
    "duration": 3,
    "start_time": "2022-05-09T06:13:14.949Z"
   },
   {
    "duration": 359,
    "start_time": "2022-05-09T06:13:14.953Z"
   },
   {
    "duration": 4,
    "start_time": "2022-05-09T06:13:15.313Z"
   },
   {
    "duration": 6,
    "start_time": "2022-05-09T06:13:15.318Z"
   },
   {
    "duration": 210,
    "start_time": "2022-05-09T06:13:15.326Z"
   },
   {
    "duration": 229,
    "start_time": "2022-05-09T06:13:15.540Z"
   },
   {
    "duration": 362,
    "start_time": "2022-05-09T06:13:15.771Z"
   },
   {
    "duration": 136,
    "start_time": "2022-05-09T06:13:16.135Z"
   },
   {
    "duration": 123,
    "start_time": "2022-05-09T06:13:16.272Z"
   },
   {
    "duration": 208,
    "start_time": "2022-05-09T06:13:16.396Z"
   },
   {
    "duration": 8,
    "start_time": "2022-05-09T06:13:16.606Z"
   },
   {
    "duration": 14,
    "start_time": "2022-05-09T06:13:16.615Z"
   },
   {
    "duration": 24,
    "start_time": "2022-05-09T06:13:16.630Z"
   },
   {
    "duration": 8,
    "start_time": "2022-05-09T06:13:16.656Z"
   },
   {
    "duration": 7,
    "start_time": "2022-05-09T06:13:16.665Z"
   },
   {
    "duration": 7,
    "start_time": "2022-05-09T06:13:16.673Z"
   },
   {
    "duration": 5,
    "start_time": "2022-05-09T06:13:16.682Z"
   },
   {
    "duration": 5,
    "start_time": "2022-05-09T06:13:16.688Z"
   },
   {
    "duration": 5,
    "start_time": "2022-05-09T06:13:16.694Z"
   },
   {
    "duration": 48,
    "start_time": "2022-05-09T06:13:16.701Z"
   },
   {
    "duration": 13,
    "start_time": "2022-05-09T06:13:16.751Z"
   },
   {
    "duration": 12,
    "start_time": "2022-05-09T06:13:16.765Z"
   },
   {
    "duration": 10,
    "start_time": "2022-05-09T06:13:16.779Z"
   },
   {
    "duration": 3,
    "start_time": "2022-05-09T06:13:16.791Z"
   },
   {
    "duration": 10,
    "start_time": "2022-05-09T06:13:16.796Z"
   },
   {
    "duration": 47,
    "start_time": "2022-05-09T06:13:16.808Z"
   },
   {
    "duration": 13,
    "start_time": "2022-05-09T06:13:16.857Z"
   },
   {
    "duration": 8,
    "start_time": "2022-05-09T06:13:16.872Z"
   },
   {
    "duration": 9,
    "start_time": "2022-05-09T06:13:16.881Z"
   },
   {
    "duration": 149,
    "start_time": "2022-05-09T06:13:16.891Z"
   },
   {
    "duration": 8,
    "start_time": "2022-05-09T06:13:17.048Z"
   },
   {
    "duration": 215,
    "start_time": "2022-05-09T06:13:17.057Z"
   },
   {
    "duration": 9,
    "start_time": "2022-05-09T06:13:17.274Z"
   },
   {
    "duration": 220,
    "start_time": "2022-05-09T06:13:17.284Z"
   },
   {
    "duration": 8,
    "start_time": "2022-05-09T06:13:17.507Z"
   },
   {
    "duration": 8,
    "start_time": "2022-05-09T06:13:17.517Z"
   },
   {
    "duration": 187,
    "start_time": "2022-05-09T06:13:17.547Z"
   },
   {
    "duration": 16,
    "start_time": "2022-05-09T06:13:17.736Z"
   },
   {
    "duration": 8,
    "start_time": "2022-05-09T06:13:17.754Z"
   },
   {
    "duration": 132,
    "start_time": "2022-05-09T06:13:17.763Z"
   },
   {
    "duration": 8,
    "start_time": "2022-05-09T06:13:17.897Z"
   },
   {
    "duration": 207,
    "start_time": "2022-05-09T06:13:17.907Z"
   },
   {
    "duration": 8,
    "start_time": "2022-05-09T06:13:18.116Z"
   },
   {
    "duration": 22,
    "start_time": "2022-05-09T06:13:18.126Z"
   },
   {
    "duration": 13,
    "start_time": "2022-05-09T06:13:18.150Z"
   },
   {
    "duration": 12,
    "start_time": "2022-05-09T06:13:18.164Z"
   },
   {
    "duration": 11,
    "start_time": "2022-05-09T06:13:18.177Z"
   },
   {
    "duration": 51,
    "start_time": "2022-05-11T12:16:45.090Z"
   },
   {
    "duration": 444,
    "start_time": "2022-05-11T12:16:51.093Z"
   },
   {
    "duration": 98,
    "start_time": "2022-05-11T12:16:51.538Z"
   },
   {
    "duration": 57,
    "start_time": "2022-05-11T12:16:51.638Z"
   },
   {
    "duration": 16,
    "start_time": "2022-05-11T12:16:51.700Z"
   },
   {
    "duration": 8,
    "start_time": "2022-05-11T12:16:51.718Z"
   },
   {
    "duration": 80,
    "start_time": "2022-05-11T12:16:51.727Z"
   },
   {
    "duration": 182,
    "start_time": "2022-05-11T12:16:51.809Z"
   },
   {
    "duration": 5,
    "start_time": "2022-05-11T12:16:51.994Z"
   },
   {
    "duration": 6469,
    "start_time": "2022-05-11T12:16:52.003Z"
   },
   {
    "duration": 5,
    "start_time": "2022-05-11T12:16:58.483Z"
   },
   {
    "duration": 21,
    "start_time": "2022-05-11T12:16:58.489Z"
   },
   {
    "duration": 6,
    "start_time": "2022-05-11T12:16:58.512Z"
   },
   {
    "duration": 6,
    "start_time": "2022-05-11T12:16:58.520Z"
   },
   {
    "duration": 6,
    "start_time": "2022-05-11T12:16:58.527Z"
   },
   {
    "duration": 9,
    "start_time": "2022-05-11T12:16:58.534Z"
   },
   {
    "duration": 6,
    "start_time": "2022-05-11T12:16:58.544Z"
   },
   {
    "duration": 10,
    "start_time": "2022-05-11T12:16:58.551Z"
   },
   {
    "duration": 17,
    "start_time": "2022-05-11T12:16:58.562Z"
   },
   {
    "duration": 21,
    "start_time": "2022-05-11T12:16:58.582Z"
   },
   {
    "duration": 9,
    "start_time": "2022-05-11T12:16:58.605Z"
   },
   {
    "duration": 6,
    "start_time": "2022-05-11T12:16:58.615Z"
   },
   {
    "duration": 6,
    "start_time": "2022-05-11T12:16:58.622Z"
   },
   {
    "duration": 4,
    "start_time": "2022-05-11T12:16:58.629Z"
   },
   {
    "duration": 428,
    "start_time": "2022-05-11T12:16:58.634Z"
   },
   {
    "duration": 5,
    "start_time": "2022-05-11T12:16:59.063Z"
   },
   {
    "duration": 31,
    "start_time": "2022-05-11T12:16:59.074Z"
   },
   {
    "duration": 420,
    "start_time": "2022-05-11T12:16:59.107Z"
   },
   {
    "duration": 370,
    "start_time": "2022-05-11T12:16:59.531Z"
   },
   {
    "duration": 289,
    "start_time": "2022-05-11T12:16:59.903Z"
   },
   {
    "duration": 169,
    "start_time": "2022-05-11T12:17:00.195Z"
   },
   {
    "duration": 153,
    "start_time": "2022-05-11T12:17:00.366Z"
   },
   {
    "duration": 268,
    "start_time": "2022-05-11T12:17:00.521Z"
   },
   {
    "duration": 13,
    "start_time": "2022-05-11T12:17:00.793Z"
   },
   {
    "duration": 140,
    "start_time": "2022-05-11T12:17:00.808Z"
   },
   {
    "duration": 26,
    "start_time": "2022-05-11T12:17:00.950Z"
   },
   {
    "duration": 18,
    "start_time": "2022-05-11T12:17:00.979Z"
   },
   {
    "duration": 21,
    "start_time": "2022-05-11T12:17:01.000Z"
   },
   {
    "duration": 17,
    "start_time": "2022-05-11T12:17:01.023Z"
   },
   {
    "duration": 91,
    "start_time": "2022-05-11T12:17:01.042Z"
   },
   {
    "duration": 19,
    "start_time": "2022-05-11T12:17:01.136Z"
   },
   {
    "duration": 45,
    "start_time": "2022-05-11T12:17:01.157Z"
   },
   {
    "duration": 10,
    "start_time": "2022-05-11T12:17:01.203Z"
   },
   {
    "duration": 30,
    "start_time": "2022-05-11T12:17:01.215Z"
   },
   {
    "duration": 14,
    "start_time": "2022-05-11T12:17:01.246Z"
   },
   {
    "duration": 28,
    "start_time": "2022-05-11T12:17:01.261Z"
   },
   {
    "duration": 30,
    "start_time": "2022-05-11T12:17:01.290Z"
   },
   {
    "duration": 4,
    "start_time": "2022-05-11T12:17:01.321Z"
   },
   {
    "duration": 17,
    "start_time": "2022-05-11T12:17:01.327Z"
   },
   {
    "duration": 24,
    "start_time": "2022-05-11T12:17:01.346Z"
   },
   {
    "duration": 40,
    "start_time": "2022-05-11T12:17:01.372Z"
   },
   {
    "duration": 8,
    "start_time": "2022-05-11T12:17:01.414Z"
   },
   {
    "duration": 24,
    "start_time": "2022-05-11T12:17:01.424Z"
   },
   {
    "duration": 161,
    "start_time": "2022-05-11T12:17:01.450Z"
   },
   {
    "duration": 8,
    "start_time": "2022-05-11T12:17:01.612Z"
   },
   {
    "duration": 291,
    "start_time": "2022-05-11T12:17:01.621Z"
   },
   {
    "duration": 9,
    "start_time": "2022-05-11T12:17:01.914Z"
   },
   {
    "duration": 387,
    "start_time": "2022-05-11T12:17:01.925Z"
   },
   {
    "duration": 8,
    "start_time": "2022-05-11T12:17:02.314Z"
   },
   {
    "duration": 10,
    "start_time": "2022-05-11T12:17:02.324Z"
   },
   {
    "duration": 169,
    "start_time": "2022-05-11T12:17:02.336Z"
   },
   {
    "duration": 8,
    "start_time": "2022-05-11T12:17:02.506Z"
   },
   {
    "duration": 46,
    "start_time": "2022-05-11T12:17:02.516Z"
   },
   {
    "duration": 148,
    "start_time": "2022-05-11T12:17:02.564Z"
   },
   {
    "duration": 9,
    "start_time": "2022-05-11T12:17:02.713Z"
   },
   {
    "duration": 275,
    "start_time": "2022-05-11T12:17:02.723Z"
   },
   {
    "duration": 9,
    "start_time": "2022-05-11T12:17:03.002Z"
   },
   {
    "duration": 12,
    "start_time": "2022-05-11T12:17:03.012Z"
   },
   {
    "duration": 18,
    "start_time": "2022-05-11T12:17:03.026Z"
   },
   {
    "duration": 40,
    "start_time": "2022-05-11T12:17:03.046Z"
   },
   {
    "duration": 21,
    "start_time": "2022-05-11T12:17:03.089Z"
   },
   {
    "duration": 140,
    "start_time": "2022-05-11T12:19:40.860Z"
   },
   {
    "duration": 161,
    "start_time": "2022-05-11T12:20:27.579Z"
   },
   {
    "duration": 126,
    "start_time": "2022-05-11T12:21:42.059Z"
   },
   {
    "duration": 139,
    "start_time": "2022-05-11T12:21:57.027Z"
   },
   {
    "duration": 123,
    "start_time": "2022-05-11T12:22:04.535Z"
   },
   {
    "duration": 235,
    "start_time": "2022-05-11T12:22:10.592Z"
   },
   {
    "duration": 122,
    "start_time": "2022-05-11T12:23:15.237Z"
   },
   {
    "duration": 120,
    "start_time": "2022-05-11T12:23:23.694Z"
   },
   {
    "duration": 120,
    "start_time": "2022-05-11T12:24:06.183Z"
   },
   {
    "duration": 129,
    "start_time": "2022-05-11T12:24:11.543Z"
   },
   {
    "duration": 128,
    "start_time": "2022-05-11T12:24:46.169Z"
   },
   {
    "duration": 125,
    "start_time": "2022-05-11T12:25:13.345Z"
   },
   {
    "duration": 147,
    "start_time": "2022-05-11T12:25:24.831Z"
   },
   {
    "duration": 117,
    "start_time": "2022-05-11T12:25:49.024Z"
   },
   {
    "duration": 136,
    "start_time": "2022-05-11T12:26:04.669Z"
   },
   {
    "duration": 116,
    "start_time": "2022-05-11T12:26:11.792Z"
   },
   {
    "duration": 131,
    "start_time": "2022-05-11T12:28:25.320Z"
   },
   {
    "duration": 115,
    "start_time": "2022-05-11T12:28:42.054Z"
   },
   {
    "duration": 110,
    "start_time": "2022-05-11T12:29:15.688Z"
   },
   {
    "duration": 106,
    "start_time": "2022-05-11T12:29:23.208Z"
   },
   {
    "duration": 497,
    "start_time": "2022-05-11T12:30:12.883Z"
   },
   {
    "duration": 96,
    "start_time": "2022-05-11T12:30:13.382Z"
   },
   {
    "duration": 57,
    "start_time": "2022-05-11T12:30:13.480Z"
   },
   {
    "duration": 45,
    "start_time": "2022-05-11T12:30:13.540Z"
   },
   {
    "duration": 12,
    "start_time": "2022-05-11T12:30:13.587Z"
   },
   {
    "duration": 46,
    "start_time": "2022-05-11T12:30:13.601Z"
   },
   {
    "duration": 188,
    "start_time": "2022-05-11T12:30:13.648Z"
   },
   {
    "duration": 3,
    "start_time": "2022-05-11T12:30:13.838Z"
   },
   {
    "duration": 6191,
    "start_time": "2022-05-11T12:30:13.842Z"
   },
   {
    "duration": 4,
    "start_time": "2022-05-11T12:30:20.037Z"
   },
   {
    "duration": 8,
    "start_time": "2022-05-11T12:30:20.043Z"
   },
   {
    "duration": 10,
    "start_time": "2022-05-11T12:30:20.053Z"
   },
   {
    "duration": 4,
    "start_time": "2022-05-11T12:30:20.076Z"
   },
   {
    "duration": 26,
    "start_time": "2022-05-11T12:30:20.082Z"
   },
   {
    "duration": 8,
    "start_time": "2022-05-11T12:30:20.110Z"
   },
   {
    "duration": 12,
    "start_time": "2022-05-11T12:30:20.120Z"
   },
   {
    "duration": 11,
    "start_time": "2022-05-11T12:30:20.134Z"
   },
   {
    "duration": 23,
    "start_time": "2022-05-11T12:30:20.147Z"
   },
   {
    "duration": 5,
    "start_time": "2022-05-11T12:30:20.177Z"
   },
   {
    "duration": 20,
    "start_time": "2022-05-11T12:30:20.183Z"
   },
   {
    "duration": 6,
    "start_time": "2022-05-11T12:30:20.205Z"
   },
   {
    "duration": 6,
    "start_time": "2022-05-11T12:30:20.213Z"
   },
   {
    "duration": 9,
    "start_time": "2022-05-11T12:30:20.220Z"
   },
   {
    "duration": 466,
    "start_time": "2022-05-11T12:30:20.230Z"
   },
   {
    "duration": 5,
    "start_time": "2022-05-11T12:30:20.698Z"
   },
   {
    "duration": 10,
    "start_time": "2022-05-11T12:30:20.705Z"
   },
   {
    "duration": 274,
    "start_time": "2022-05-11T12:30:20.717Z"
   },
   {
    "duration": 344,
    "start_time": "2022-05-11T12:30:20.998Z"
   },
   {
    "duration": 368,
    "start_time": "2022-05-11T12:30:21.344Z"
   },
   {
    "duration": 221,
    "start_time": "2022-05-11T12:30:21.715Z"
   },
   {
    "duration": 161,
    "start_time": "2022-05-11T12:30:21.938Z"
   },
   {
    "duration": 264,
    "start_time": "2022-05-11T12:30:22.101Z"
   },
   {
    "duration": 23,
    "start_time": "2022-05-11T12:30:22.367Z"
   },
   {
    "duration": 140,
    "start_time": "2022-05-11T12:30:22.396Z"
   },
   {
    "duration": 156,
    "start_time": "2022-05-11T12:30:22.538Z"
   },
   {
    "duration": 140,
    "start_time": "2022-05-11T12:30:22.696Z"
   },
   {
    "duration": 135,
    "start_time": "2022-05-11T12:30:22.838Z"
   },
   {
    "duration": 135,
    "start_time": "2022-05-11T12:30:22.975Z"
   },
   {
    "duration": 13,
    "start_time": "2022-05-11T12:30:23.112Z"
   },
   {
    "duration": 10,
    "start_time": "2022-05-11T12:30:23.127Z"
   },
   {
    "duration": 11,
    "start_time": "2022-05-11T12:30:23.139Z"
   },
   {
    "duration": 14,
    "start_time": "2022-05-11T12:30:23.179Z"
   },
   {
    "duration": 122,
    "start_time": "2022-05-11T12:30:23.196Z"
   },
   {
    "duration": 7,
    "start_time": "2022-05-11T12:30:23.320Z"
   },
   {
    "duration": 8,
    "start_time": "2022-05-11T12:30:23.329Z"
   },
   {
    "duration": 11,
    "start_time": "2022-05-11T12:30:23.339Z"
   },
   {
    "duration": 44,
    "start_time": "2022-05-11T12:30:23.351Z"
   },
   {
    "duration": 26,
    "start_time": "2022-05-11T12:30:23.397Z"
   },
   {
    "duration": 21,
    "start_time": "2022-05-11T12:30:23.425Z"
   },
   {
    "duration": 46,
    "start_time": "2022-05-11T12:30:23.449Z"
   },
   {
    "duration": 5,
    "start_time": "2022-05-11T12:30:23.498Z"
   },
   {
    "duration": 14,
    "start_time": "2022-05-11T12:30:23.505Z"
   },
   {
    "duration": 16,
    "start_time": "2022-05-11T12:30:23.521Z"
   },
   {
    "duration": 44,
    "start_time": "2022-05-11T12:30:23.539Z"
   },
   {
    "duration": 13,
    "start_time": "2022-05-11T12:30:23.586Z"
   },
   {
    "duration": 15,
    "start_time": "2022-05-11T12:30:23.602Z"
   },
   {
    "duration": 192,
    "start_time": "2022-05-11T12:30:23.620Z"
   },
   {
    "duration": 9,
    "start_time": "2022-05-11T12:30:23.815Z"
   },
   {
    "duration": 282,
    "start_time": "2022-05-11T12:30:23.826Z"
   },
   {
    "duration": 10,
    "start_time": "2022-05-11T12:30:24.110Z"
   },
   {
    "duration": 335,
    "start_time": "2022-05-11T12:30:24.122Z"
   },
   {
    "duration": 22,
    "start_time": "2022-05-11T12:30:24.458Z"
   },
   {
    "duration": 20,
    "start_time": "2022-05-11T12:30:24.482Z"
   },
   {
    "duration": 212,
    "start_time": "2022-05-11T12:30:24.503Z"
   },
   {
    "duration": 10,
    "start_time": "2022-05-11T12:30:24.716Z"
   },
   {
    "duration": 17,
    "start_time": "2022-05-11T12:30:24.727Z"
   },
   {
    "duration": 237,
    "start_time": "2022-05-11T12:30:24.746Z"
   },
   {
    "duration": 12,
    "start_time": "2022-05-11T12:30:24.987Z"
   },
   {
    "duration": 267,
    "start_time": "2022-05-11T12:30:25.001Z"
   },
   {
    "duration": 13,
    "start_time": "2022-05-11T12:30:25.277Z"
   },
   {
    "duration": 11,
    "start_time": "2022-05-11T12:30:25.293Z"
   },
   {
    "duration": 16,
    "start_time": "2022-05-11T12:30:25.305Z"
   },
   {
    "duration": 16,
    "start_time": "2022-05-11T12:30:25.323Z"
   },
   {
    "duration": 51,
    "start_time": "2022-05-11T12:30:25.341Z"
   },
   {
    "duration": 14,
    "start_time": "2022-05-11T12:30:45.198Z"
   },
   {
    "duration": 489,
    "start_time": "2022-05-11T12:39:36.650Z"
   },
   {
    "duration": 92,
    "start_time": "2022-05-11T12:39:37.141Z"
   },
   {
    "duration": 44,
    "start_time": "2022-05-11T12:39:37.234Z"
   },
   {
    "duration": 20,
    "start_time": "2022-05-11T12:39:37.280Z"
   },
   {
    "duration": 11,
    "start_time": "2022-05-11T12:39:37.302Z"
   },
   {
    "duration": 75,
    "start_time": "2022-05-11T12:39:37.315Z"
   },
   {
    "duration": 173,
    "start_time": "2022-05-11T12:39:37.395Z"
   },
   {
    "duration": 11,
    "start_time": "2022-05-11T12:39:37.569Z"
   },
   {
    "duration": 6230,
    "start_time": "2022-05-11T12:39:37.582Z"
   },
   {
    "duration": 4,
    "start_time": "2022-05-11T12:39:43.814Z"
   },
   {
    "duration": 7,
    "start_time": "2022-05-11T12:39:43.819Z"
   },
   {
    "duration": 9,
    "start_time": "2022-05-11T12:39:43.828Z"
   },
   {
    "duration": 5,
    "start_time": "2022-05-11T12:39:43.839Z"
   },
   {
    "duration": 6,
    "start_time": "2022-05-11T12:39:43.846Z"
   },
   {
    "duration": 21,
    "start_time": "2022-05-11T12:39:43.854Z"
   },
   {
    "duration": 8,
    "start_time": "2022-05-11T12:39:43.877Z"
   },
   {
    "duration": 14,
    "start_time": "2022-05-11T12:39:43.887Z"
   },
   {
    "duration": 15,
    "start_time": "2022-05-11T12:39:43.903Z"
   },
   {
    "duration": 6,
    "start_time": "2022-05-11T12:39:43.921Z"
   },
   {
    "duration": 14,
    "start_time": "2022-05-11T12:39:43.928Z"
   },
   {
    "duration": 9,
    "start_time": "2022-05-11T12:39:43.944Z"
   },
   {
    "duration": 21,
    "start_time": "2022-05-11T12:39:43.955Z"
   },
   {
    "duration": 4,
    "start_time": "2022-05-11T12:39:43.980Z"
   },
   {
    "duration": 416,
    "start_time": "2022-05-11T12:39:43.986Z"
   },
   {
    "duration": 5,
    "start_time": "2022-05-11T12:39:44.403Z"
   },
   {
    "duration": 7,
    "start_time": "2022-05-11T12:39:44.409Z"
   },
   {
    "duration": 251,
    "start_time": "2022-05-11T12:39:44.418Z"
   },
   {
    "duration": 293,
    "start_time": "2022-05-11T12:39:44.674Z"
   },
   {
    "duration": 334,
    "start_time": "2022-05-11T12:39:44.972Z"
   },
   {
    "duration": 173,
    "start_time": "2022-05-11T12:39:45.308Z"
   },
   {
    "duration": 162,
    "start_time": "2022-05-11T12:39:45.482Z"
   },
   {
    "duration": 267,
    "start_time": "2022-05-11T12:39:45.646Z"
   },
   {
    "duration": 13,
    "start_time": "2022-05-11T12:39:45.915Z"
   },
   {
    "duration": 188,
    "start_time": "2022-05-11T12:39:45.929Z"
   },
   {
    "duration": 160,
    "start_time": "2022-05-11T12:39:46.119Z"
   },
   {
    "duration": 178,
    "start_time": "2022-05-11T12:39:46.281Z"
   },
   {
    "duration": 186,
    "start_time": "2022-05-11T12:39:46.462Z"
   },
   {
    "duration": 149,
    "start_time": "2022-05-11T12:39:46.652Z"
   },
   {
    "duration": 16,
    "start_time": "2022-05-11T12:39:46.803Z"
   },
   {
    "duration": 15,
    "start_time": "2022-05-11T12:39:46.821Z"
   },
   {
    "duration": 10,
    "start_time": "2022-05-11T12:39:46.838Z"
   },
   {
    "duration": 11,
    "start_time": "2022-05-11T12:39:46.877Z"
   },
   {
    "duration": 112,
    "start_time": "2022-05-11T12:39:46.892Z"
   },
   {
    "duration": 18,
    "start_time": "2022-05-11T12:39:47.006Z"
   },
   {
    "duration": 8,
    "start_time": "2022-05-11T12:39:47.026Z"
   },
   {
    "duration": 16,
    "start_time": "2022-05-11T12:39:47.036Z"
   },
   {
    "duration": 32,
    "start_time": "2022-05-11T12:39:47.055Z"
   },
   {
    "duration": 42,
    "start_time": "2022-05-11T12:39:47.089Z"
   },
   {
    "duration": 18,
    "start_time": "2022-05-11T12:39:47.134Z"
   },
   {
    "duration": 18,
    "start_time": "2022-05-11T12:39:47.154Z"
   },
   {
    "duration": 41,
    "start_time": "2022-05-11T12:39:47.177Z"
   },
   {
    "duration": 72,
    "start_time": "2022-05-11T12:39:47.221Z"
   },
   {
    "duration": 33,
    "start_time": "2022-05-11T12:39:47.297Z"
   },
   {
    "duration": 23,
    "start_time": "2022-05-11T12:39:47.332Z"
   },
   {
    "duration": 32,
    "start_time": "2022-05-11T12:39:47.358Z"
   },
   {
    "duration": 27,
    "start_time": "2022-05-11T12:39:47.393Z"
   },
   {
    "duration": 14,
    "start_time": "2022-05-11T12:39:47.423Z"
   },
   {
    "duration": 205,
    "start_time": "2022-05-11T12:39:47.440Z"
   },
   {
    "duration": 12,
    "start_time": "2022-05-11T12:39:47.647Z"
   },
   {
    "duration": 344,
    "start_time": "2022-05-11T12:39:47.660Z"
   },
   {
    "duration": 13,
    "start_time": "2022-05-11T12:39:48.007Z"
   },
   {
    "duration": 342,
    "start_time": "2022-05-11T12:39:48.022Z"
   },
   {
    "duration": 22,
    "start_time": "2022-05-11T12:39:48.368Z"
   },
   {
    "duration": 30,
    "start_time": "2022-05-11T12:39:48.398Z"
   },
   {
    "duration": 174,
    "start_time": "2022-05-11T12:39:48.431Z"
   },
   {
    "duration": 14,
    "start_time": "2022-05-11T12:39:48.608Z"
   },
   {
    "duration": 13,
    "start_time": "2022-05-11T12:39:48.625Z"
   },
   {
    "duration": 195,
    "start_time": "2022-05-11T12:39:48.641Z"
   },
   {
    "duration": 15,
    "start_time": "2022-05-11T12:39:48.838Z"
   },
   {
    "duration": 476,
    "start_time": "2022-05-11T12:39:48.855Z"
   },
   {
    "duration": 10,
    "start_time": "2022-05-11T12:39:49.333Z"
   },
   {
    "duration": 35,
    "start_time": "2022-05-11T12:39:49.345Z"
   },
   {
    "duration": 28,
    "start_time": "2022-05-11T12:39:49.382Z"
   },
   {
    "duration": 37,
    "start_time": "2022-05-11T12:39:49.412Z"
   },
   {
    "duration": 24,
    "start_time": "2022-05-11T12:39:49.452Z"
   },
   {
    "duration": 125,
    "start_time": "2022-05-11T12:41:24.916Z"
   },
   {
    "duration": 438,
    "start_time": "2022-05-11T12:42:16.450Z"
   },
   {
    "duration": 107,
    "start_time": "2022-05-11T12:42:16.890Z"
   },
   {
    "duration": 34,
    "start_time": "2022-05-11T12:42:16.999Z"
   },
   {
    "duration": 14,
    "start_time": "2022-05-11T12:42:17.036Z"
   },
   {
    "duration": 34,
    "start_time": "2022-05-11T12:42:17.052Z"
   },
   {
    "duration": 44,
    "start_time": "2022-05-11T12:42:17.089Z"
   },
   {
    "duration": 177,
    "start_time": "2022-05-11T12:42:17.134Z"
   },
   {
    "duration": 4,
    "start_time": "2022-05-11T12:42:17.313Z"
   },
   {
    "duration": 5828,
    "start_time": "2022-05-11T12:42:17.318Z"
   },
   {
    "duration": 3,
    "start_time": "2022-05-11T12:42:23.149Z"
   },
   {
    "duration": 7,
    "start_time": "2022-05-11T12:42:23.154Z"
   },
   {
    "duration": 15,
    "start_time": "2022-05-11T12:42:23.162Z"
   },
   {
    "duration": 15,
    "start_time": "2022-05-11T12:42:23.178Z"
   },
   {
    "duration": 5,
    "start_time": "2022-05-11T12:42:23.195Z"
   },
   {
    "duration": 7,
    "start_time": "2022-05-11T12:42:23.202Z"
   },
   {
    "duration": 9,
    "start_time": "2022-05-11T12:42:23.211Z"
   },
   {
    "duration": 9,
    "start_time": "2022-05-11T12:42:23.221Z"
   },
   {
    "duration": 11,
    "start_time": "2022-05-11T12:42:23.232Z"
   },
   {
    "duration": 5,
    "start_time": "2022-05-11T12:42:23.245Z"
   },
   {
    "duration": 26,
    "start_time": "2022-05-11T12:42:23.251Z"
   },
   {
    "duration": 24,
    "start_time": "2022-05-11T12:42:23.278Z"
   },
   {
    "duration": 6,
    "start_time": "2022-05-11T12:42:23.304Z"
   },
   {
    "duration": 7,
    "start_time": "2022-05-11T12:42:23.311Z"
   },
   {
    "duration": 408,
    "start_time": "2022-05-11T12:42:23.319Z"
   },
   {
    "duration": 4,
    "start_time": "2022-05-11T12:42:23.729Z"
   },
   {
    "duration": 7,
    "start_time": "2022-05-11T12:42:23.734Z"
   },
   {
    "duration": 225,
    "start_time": "2022-05-11T12:42:23.742Z"
   },
   {
    "duration": 273,
    "start_time": "2022-05-11T12:42:23.980Z"
   },
   {
    "duration": 338,
    "start_time": "2022-05-11T12:42:24.255Z"
   },
   {
    "duration": 164,
    "start_time": "2022-05-11T12:42:24.595Z"
   },
   {
    "duration": 154,
    "start_time": "2022-05-11T12:42:24.761Z"
   },
   {
    "duration": 249,
    "start_time": "2022-05-11T12:42:24.916Z"
   },
   {
    "duration": 24,
    "start_time": "2022-05-11T12:42:25.167Z"
   },
   {
    "duration": 137,
    "start_time": "2022-05-11T12:42:25.192Z"
   },
   {
    "duration": 149,
    "start_time": "2022-05-11T12:42:25.331Z"
   },
   {
    "duration": 134,
    "start_time": "2022-05-11T12:42:25.482Z"
   },
   {
    "duration": 129,
    "start_time": "2022-05-11T12:42:25.618Z"
   },
   {
    "duration": 139,
    "start_time": "2022-05-11T12:42:25.749Z"
   },
   {
    "duration": 13,
    "start_time": "2022-05-11T12:42:25.890Z"
   },
   {
    "duration": 11,
    "start_time": "2022-05-11T12:42:25.905Z"
   },
   {
    "duration": 12,
    "start_time": "2022-05-11T12:42:25.918Z"
   },
   {
    "duration": 10,
    "start_time": "2022-05-11T12:42:25.932Z"
   },
   {
    "duration": 109,
    "start_time": "2022-05-11T12:42:25.944Z"
   },
   {
    "duration": 29,
    "start_time": "2022-05-11T12:42:26.055Z"
   },
   {
    "duration": 5,
    "start_time": "2022-05-11T12:42:26.086Z"
   },
   {
    "duration": 6,
    "start_time": "2022-05-11T12:42:26.092Z"
   },
   {
    "duration": 6,
    "start_time": "2022-05-11T12:42:26.100Z"
   },
   {
    "duration": 16,
    "start_time": "2022-05-11T12:42:26.108Z"
   },
   {
    "duration": 11,
    "start_time": "2022-05-11T12:42:26.126Z"
   },
   {
    "duration": 37,
    "start_time": "2022-05-11T12:42:26.139Z"
   },
   {
    "duration": 20,
    "start_time": "2022-05-11T12:42:26.177Z"
   },
   {
    "duration": 4,
    "start_time": "2022-05-11T12:42:26.199Z"
   },
   {
    "duration": 11,
    "start_time": "2022-05-11T12:42:26.205Z"
   },
   {
    "duration": 11,
    "start_time": "2022-05-11T12:42:26.218Z"
   },
   {
    "duration": 16,
    "start_time": "2022-05-11T12:42:26.231Z"
   },
   {
    "duration": 40,
    "start_time": "2022-05-11T12:42:26.249Z"
   },
   {
    "duration": 10,
    "start_time": "2022-05-11T12:42:26.293Z"
   },
   {
    "duration": 161,
    "start_time": "2022-05-11T12:42:26.305Z"
   },
   {
    "duration": 12,
    "start_time": "2022-05-11T12:42:26.468Z"
   },
   {
    "duration": 227,
    "start_time": "2022-05-11T12:42:26.482Z"
   },
   {
    "duration": 8,
    "start_time": "2022-05-11T12:42:26.710Z"
   },
   {
    "duration": 247,
    "start_time": "2022-05-11T12:42:26.720Z"
   },
   {
    "duration": 11,
    "start_time": "2022-05-11T12:42:26.976Z"
   },
   {
    "duration": 11,
    "start_time": "2022-05-11T12:42:26.989Z"
   },
   {
    "duration": 130,
    "start_time": "2022-05-11T12:42:27.002Z"
   },
   {
    "duration": 7,
    "start_time": "2022-05-11T12:42:27.134Z"
   },
   {
    "duration": 19,
    "start_time": "2022-05-11T12:42:27.143Z"
   },
   {
    "duration": 151,
    "start_time": "2022-05-11T12:42:27.163Z"
   },
   {
    "duration": 11,
    "start_time": "2022-05-11T12:42:27.315Z"
   },
   {
    "duration": 269,
    "start_time": "2022-05-11T12:42:27.328Z"
   },
   {
    "duration": 9,
    "start_time": "2022-05-11T12:42:27.599Z"
   },
   {
    "duration": 22,
    "start_time": "2022-05-11T12:42:27.609Z"
   },
   {
    "duration": 13,
    "start_time": "2022-05-11T12:42:27.633Z"
   },
   {
    "duration": 34,
    "start_time": "2022-05-11T12:42:27.648Z"
   },
   {
    "duration": 18,
    "start_time": "2022-05-11T12:42:27.685Z"
   },
   {
    "duration": 410,
    "start_time": "2022-05-11T12:43:31.619Z"
   },
   {
    "duration": 109,
    "start_time": "2022-05-11T12:43:32.031Z"
   },
   {
    "duration": 58,
    "start_time": "2022-05-11T12:43:32.142Z"
   },
   {
    "duration": 16,
    "start_time": "2022-05-11T12:43:32.202Z"
   },
   {
    "duration": 12,
    "start_time": "2022-05-11T12:43:32.220Z"
   },
   {
    "duration": 75,
    "start_time": "2022-05-11T12:43:32.234Z"
   },
   {
    "duration": 173,
    "start_time": "2022-05-11T12:43:32.310Z"
   },
   {
    "duration": 3,
    "start_time": "2022-05-11T12:43:32.485Z"
   },
   {
    "duration": 6011,
    "start_time": "2022-05-11T12:43:32.490Z"
   },
   {
    "duration": 3,
    "start_time": "2022-05-11T12:43:38.504Z"
   },
   {
    "duration": 10,
    "start_time": "2022-05-11T12:43:38.508Z"
   },
   {
    "duration": 6,
    "start_time": "2022-05-11T12:43:38.520Z"
   },
   {
    "duration": 6,
    "start_time": "2022-05-11T12:43:38.527Z"
   },
   {
    "duration": 7,
    "start_time": "2022-05-11T12:43:38.535Z"
   },
   {
    "duration": 11,
    "start_time": "2022-05-11T12:43:38.543Z"
   },
   {
    "duration": 10,
    "start_time": "2022-05-11T12:43:38.556Z"
   },
   {
    "duration": 12,
    "start_time": "2022-05-11T12:43:38.573Z"
   },
   {
    "duration": 13,
    "start_time": "2022-05-11T12:43:38.587Z"
   },
   {
    "duration": 4,
    "start_time": "2022-05-11T12:43:38.602Z"
   },
   {
    "duration": 12,
    "start_time": "2022-05-11T12:43:38.608Z"
   },
   {
    "duration": 14,
    "start_time": "2022-05-11T12:43:38.622Z"
   },
   {
    "duration": 7,
    "start_time": "2022-05-11T12:43:38.637Z"
   },
   {
    "duration": 3,
    "start_time": "2022-05-11T12:43:38.646Z"
   },
   {
    "duration": 435,
    "start_time": "2022-05-11T12:43:38.651Z"
   },
   {
    "duration": 5,
    "start_time": "2022-05-11T12:43:39.088Z"
   },
   {
    "duration": 6,
    "start_time": "2022-05-11T12:43:39.096Z"
   },
   {
    "duration": 214,
    "start_time": "2022-05-11T12:43:39.104Z"
   },
   {
    "duration": 268,
    "start_time": "2022-05-11T12:43:39.322Z"
   },
   {
    "duration": 349,
    "start_time": "2022-05-11T12:43:39.592Z"
   },
   {
    "duration": 160,
    "start_time": "2022-05-11T12:43:39.943Z"
   },
   {
    "duration": 140,
    "start_time": "2022-05-11T12:43:40.105Z"
   },
   {
    "duration": 246,
    "start_time": "2022-05-11T12:43:40.247Z"
   },
   {
    "duration": 12,
    "start_time": "2022-05-11T12:43:40.494Z"
   },
   {
    "duration": 212,
    "start_time": "2022-05-11T12:43:40.508Z"
   },
   {
    "duration": 196,
    "start_time": "2022-05-11T12:43:40.722Z"
   },
   {
    "duration": 131,
    "start_time": "2022-05-11T12:43:40.920Z"
   },
   {
    "duration": 128,
    "start_time": "2022-05-11T12:43:41.053Z"
   },
   {
    "duration": 117,
    "start_time": "2022-05-11T12:43:41.183Z"
   },
   {
    "duration": 12,
    "start_time": "2022-05-11T12:43:41.304Z"
   },
   {
    "duration": 11,
    "start_time": "2022-05-11T12:43:41.318Z"
   },
   {
    "duration": 10,
    "start_time": "2022-05-11T12:43:41.331Z"
   },
   {
    "duration": 43,
    "start_time": "2022-05-11T12:43:41.342Z"
   },
   {
    "duration": 94,
    "start_time": "2022-05-11T12:43:41.387Z"
   },
   {
    "duration": 17,
    "start_time": "2022-05-11T12:43:41.483Z"
   },
   {
    "duration": 6,
    "start_time": "2022-05-11T12:43:41.502Z"
   },
   {
    "duration": 6,
    "start_time": "2022-05-11T12:43:41.509Z"
   },
   {
    "duration": 8,
    "start_time": "2022-05-11T12:43:41.517Z"
   },
   {
    "duration": 15,
    "start_time": "2022-05-11T12:43:41.527Z"
   },
   {
    "duration": 44,
    "start_time": "2022-05-11T12:43:41.544Z"
   },
   {
    "duration": 13,
    "start_time": "2022-05-11T12:43:41.589Z"
   },
   {
    "duration": 11,
    "start_time": "2022-05-11T12:43:41.604Z"
   },
   {
    "duration": 4,
    "start_time": "2022-05-11T12:43:41.616Z"
   },
   {
    "duration": 13,
    "start_time": "2022-05-11T12:43:41.621Z"
   },
   {
    "duration": 11,
    "start_time": "2022-05-11T12:43:41.635Z"
   },
   {
    "duration": 43,
    "start_time": "2022-05-11T12:43:41.648Z"
   },
   {
    "duration": 8,
    "start_time": "2022-05-11T12:43:41.693Z"
   },
   {
    "duration": 8,
    "start_time": "2022-05-11T12:43:41.703Z"
   },
   {
    "duration": 152,
    "start_time": "2022-05-11T12:43:41.713Z"
   },
   {
    "duration": 19,
    "start_time": "2022-05-11T12:43:41.867Z"
   },
   {
    "duration": 230,
    "start_time": "2022-05-11T12:43:41.888Z"
   },
   {
    "duration": 9,
    "start_time": "2022-05-11T12:43:42.120Z"
   },
   {
    "duration": 261,
    "start_time": "2022-05-11T12:43:42.130Z"
   },
   {
    "duration": 9,
    "start_time": "2022-05-11T12:43:42.392Z"
   },
   {
    "duration": 8,
    "start_time": "2022-05-11T12:43:42.402Z"
   },
   {
    "duration": 135,
    "start_time": "2022-05-11T12:43:42.411Z"
   },
   {
    "duration": 8,
    "start_time": "2022-05-11T12:43:42.548Z"
   },
   {
    "duration": 10,
    "start_time": "2022-05-11T12:43:42.576Z"
   },
   {
    "duration": 143,
    "start_time": "2022-05-11T12:43:42.588Z"
   },
   {
    "duration": 8,
    "start_time": "2022-05-11T12:43:42.733Z"
   },
   {
    "duration": 257,
    "start_time": "2022-05-11T12:43:42.742Z"
   },
   {
    "duration": 8,
    "start_time": "2022-05-11T12:43:43.000Z"
   },
   {
    "duration": 10,
    "start_time": "2022-05-11T12:43:43.010Z"
   },
   {
    "duration": 12,
    "start_time": "2022-05-11T12:43:43.021Z"
   },
   {
    "duration": 13,
    "start_time": "2022-05-11T12:43:43.035Z"
   },
   {
    "duration": 36,
    "start_time": "2022-05-11T12:43:43.050Z"
   },
   {
    "duration": 15,
    "start_time": "2022-05-11T12:45:56.237Z"
   },
   {
    "duration": 469,
    "start_time": "2022-05-11T12:47:10.755Z"
   },
   {
    "duration": 105,
    "start_time": "2022-05-11T12:47:11.226Z"
   },
   {
    "duration": 59,
    "start_time": "2022-05-11T12:47:11.333Z"
   },
   {
    "duration": 22,
    "start_time": "2022-05-11T12:47:11.395Z"
   },
   {
    "duration": 13,
    "start_time": "2022-05-11T12:47:11.419Z"
   },
   {
    "duration": 95,
    "start_time": "2022-05-11T12:47:11.434Z"
   },
   {
    "duration": 217,
    "start_time": "2022-05-11T12:47:11.531Z"
   },
   {
    "duration": 3,
    "start_time": "2022-05-11T12:47:11.750Z"
   },
   {
    "duration": 6154,
    "start_time": "2022-05-11T12:47:11.755Z"
   },
   {
    "duration": 4,
    "start_time": "2022-05-11T12:47:17.913Z"
   },
   {
    "duration": 11,
    "start_time": "2022-05-11T12:47:17.919Z"
   },
   {
    "duration": 10,
    "start_time": "2022-05-11T12:47:17.931Z"
   },
   {
    "duration": 8,
    "start_time": "2022-05-11T12:47:17.943Z"
   },
   {
    "duration": 22,
    "start_time": "2022-05-11T12:47:17.953Z"
   },
   {
    "duration": 8,
    "start_time": "2022-05-11T12:47:17.977Z"
   },
   {
    "duration": 22,
    "start_time": "2022-05-11T12:47:17.987Z"
   },
   {
    "duration": 10,
    "start_time": "2022-05-11T12:47:18.012Z"
   },
   {
    "duration": 15,
    "start_time": "2022-05-11T12:47:18.025Z"
   },
   {
    "duration": 5,
    "start_time": "2022-05-11T12:47:18.043Z"
   },
   {
    "duration": 29,
    "start_time": "2022-05-11T12:47:18.050Z"
   },
   {
    "duration": 33,
    "start_time": "2022-05-11T12:47:18.083Z"
   },
   {
    "duration": 9,
    "start_time": "2022-05-11T12:47:18.118Z"
   },
   {
    "duration": 4,
    "start_time": "2022-05-11T12:47:18.129Z"
   },
   {
    "duration": 483,
    "start_time": "2022-05-11T12:47:18.135Z"
   },
   {
    "duration": 6,
    "start_time": "2022-05-11T12:47:18.621Z"
   },
   {
    "duration": 10,
    "start_time": "2022-05-11T12:47:18.629Z"
   },
   {
    "duration": 265,
    "start_time": "2022-05-11T12:47:18.641Z"
   },
   {
    "duration": 263,
    "start_time": "2022-05-11T12:47:18.910Z"
   },
   {
    "duration": 312,
    "start_time": "2022-05-11T12:47:19.175Z"
   },
   {
    "duration": 156,
    "start_time": "2022-05-11T12:47:19.489Z"
   },
   {
    "duration": 148,
    "start_time": "2022-05-11T12:47:19.646Z"
   },
   {
    "duration": 242,
    "start_time": "2022-05-11T12:47:19.796Z"
   },
   {
    "duration": 10,
    "start_time": "2022-05-11T12:47:20.040Z"
   },
   {
    "duration": 149,
    "start_time": "2022-05-11T12:47:20.051Z"
   },
   {
    "duration": 138,
    "start_time": "2022-05-11T12:47:20.202Z"
   },
   {
    "duration": 135,
    "start_time": "2022-05-11T12:47:20.342Z"
   },
   {
    "duration": 122,
    "start_time": "2022-05-11T12:47:20.480Z"
   },
   {
    "duration": 119,
    "start_time": "2022-05-11T12:47:20.604Z"
   },
   {
    "duration": 13,
    "start_time": "2022-05-11T12:47:20.726Z"
   },
   {
    "duration": 10,
    "start_time": "2022-05-11T12:47:20.740Z"
   },
   {
    "duration": 3,
    "start_time": "2022-05-11T12:47:20.752Z"
   },
   {
    "duration": 103,
    "start_time": "2022-05-11T12:47:20.756Z"
   },
   {
    "duration": 22,
    "start_time": "2022-05-11T12:47:20.861Z"
   },
   {
    "duration": 27,
    "start_time": "2022-05-11T12:47:20.885Z"
   },
   {
    "duration": 20,
    "start_time": "2022-05-11T12:47:20.914Z"
   },
   {
    "duration": 5,
    "start_time": "2022-05-11T12:47:20.936Z"
   },
   {
    "duration": 16,
    "start_time": "2022-05-11T12:47:20.942Z"
   },
   {
    "duration": 24,
    "start_time": "2022-05-11T12:47:20.959Z"
   },
   {
    "duration": 24,
    "start_time": "2022-05-11T12:47:20.985Z"
   },
   {
    "duration": 17,
    "start_time": "2022-05-11T12:47:21.011Z"
   },
   {
    "duration": 14,
    "start_time": "2022-05-11T12:47:21.030Z"
   },
   {
    "duration": 42,
    "start_time": "2022-05-11T12:47:21.046Z"
   },
   {
    "duration": 4,
    "start_time": "2022-05-11T12:47:21.090Z"
   },
   {
    "duration": 15,
    "start_time": "2022-05-11T12:47:21.095Z"
   },
   {
    "duration": 13,
    "start_time": "2022-05-11T12:47:21.111Z"
   },
   {
    "duration": 26,
    "start_time": "2022-05-11T12:47:21.125Z"
   },
   {
    "duration": 8,
    "start_time": "2022-05-11T12:47:21.153Z"
   },
   {
    "duration": 30,
    "start_time": "2022-05-11T12:47:21.163Z"
   },
   {
    "duration": 147,
    "start_time": "2022-05-11T12:47:21.195Z"
   },
   {
    "duration": 9,
    "start_time": "2022-05-11T12:47:21.343Z"
   },
   {
    "duration": 262,
    "start_time": "2022-05-11T12:47:21.353Z"
   },
   {
    "duration": 10,
    "start_time": "2022-05-11T12:47:21.616Z"
   },
   {
    "duration": 237,
    "start_time": "2022-05-11T12:47:21.628Z"
   },
   {
    "duration": 15,
    "start_time": "2022-05-11T12:47:21.866Z"
   },
   {
    "duration": 21,
    "start_time": "2022-05-11T12:47:21.882Z"
   },
   {
    "duration": 134,
    "start_time": "2022-05-11T12:47:21.905Z"
   },
   {
    "duration": 8,
    "start_time": "2022-05-11T12:47:22.041Z"
   },
   {
    "duration": 21,
    "start_time": "2022-05-11T12:47:22.051Z"
   },
   {
    "duration": 141,
    "start_time": "2022-05-11T12:47:22.074Z"
   },
   {
    "duration": 10,
    "start_time": "2022-05-11T12:47:22.217Z"
   },
   {
    "duration": 255,
    "start_time": "2022-05-11T12:47:22.228Z"
   },
   {
    "duration": 10,
    "start_time": "2022-05-11T12:47:22.489Z"
   },
   {
    "duration": 11,
    "start_time": "2022-05-11T12:47:22.501Z"
   },
   {
    "duration": 18,
    "start_time": "2022-05-11T12:47:22.514Z"
   },
   {
    "duration": 42,
    "start_time": "2022-05-11T12:47:22.534Z"
   },
   {
    "duration": 16,
    "start_time": "2022-05-11T12:47:22.577Z"
   },
   {
    "duration": 472,
    "start_time": "2022-05-11T12:48:30.653Z"
   },
   {
    "duration": 110,
    "start_time": "2022-05-11T12:48:31.127Z"
   },
   {
    "duration": 67,
    "start_time": "2022-05-11T12:48:31.238Z"
   },
   {
    "duration": 21,
    "start_time": "2022-05-11T12:48:31.308Z"
   },
   {
    "duration": 12,
    "start_time": "2022-05-11T12:48:31.331Z"
   },
   {
    "duration": 77,
    "start_time": "2022-05-11T12:48:31.345Z"
   },
   {
    "duration": 233,
    "start_time": "2022-05-11T12:48:31.424Z"
   },
   {
    "duration": 4,
    "start_time": "2022-05-11T12:48:31.659Z"
   },
   {
    "duration": 6476,
    "start_time": "2022-05-11T12:48:31.665Z"
   },
   {
    "duration": 4,
    "start_time": "2022-05-11T12:48:38.144Z"
   },
   {
    "duration": 6,
    "start_time": "2022-05-11T12:48:38.150Z"
   },
   {
    "duration": 20,
    "start_time": "2022-05-11T12:48:38.157Z"
   },
   {
    "duration": 4,
    "start_time": "2022-05-11T12:48:38.180Z"
   },
   {
    "duration": 32,
    "start_time": "2022-05-11T12:48:38.186Z"
   },
   {
    "duration": 8,
    "start_time": "2022-05-11T12:48:38.220Z"
   },
   {
    "duration": 7,
    "start_time": "2022-05-11T12:48:38.230Z"
   },
   {
    "duration": 15,
    "start_time": "2022-05-11T12:48:38.239Z"
   },
   {
    "duration": 11,
    "start_time": "2022-05-11T12:48:38.256Z"
   },
   {
    "duration": 12,
    "start_time": "2022-05-11T12:48:38.270Z"
   },
   {
    "duration": 35,
    "start_time": "2022-05-11T12:48:38.286Z"
   },
   {
    "duration": 10,
    "start_time": "2022-05-11T12:48:38.323Z"
   },
   {
    "duration": 8,
    "start_time": "2022-05-11T12:48:38.335Z"
   },
   {
    "duration": 5,
    "start_time": "2022-05-11T12:48:38.345Z"
   },
   {
    "duration": 443,
    "start_time": "2022-05-11T12:48:38.352Z"
   },
   {
    "duration": 4,
    "start_time": "2022-05-11T12:48:38.797Z"
   },
   {
    "duration": 25,
    "start_time": "2022-05-11T12:48:38.803Z"
   },
   {
    "duration": 306,
    "start_time": "2022-05-11T12:48:38.830Z"
   },
   {
    "duration": 287,
    "start_time": "2022-05-11T12:48:39.140Z"
   },
   {
    "duration": 332,
    "start_time": "2022-05-11T12:48:39.429Z"
   },
   {
    "duration": 176,
    "start_time": "2022-05-11T12:48:39.763Z"
   },
   {
    "duration": 165,
    "start_time": "2022-05-11T12:48:39.940Z"
   },
   {
    "duration": 287,
    "start_time": "2022-05-11T12:48:40.107Z"
   },
   {
    "duration": 13,
    "start_time": "2022-05-11T12:48:40.395Z"
   },
   {
    "duration": 133,
    "start_time": "2022-05-11T12:48:40.414Z"
   },
   {
    "duration": 156,
    "start_time": "2022-05-11T12:48:40.549Z"
   },
   {
    "duration": 140,
    "start_time": "2022-05-11T12:48:40.708Z"
   },
   {
    "duration": 145,
    "start_time": "2022-05-11T12:48:40.850Z"
   },
   {
    "duration": 128,
    "start_time": "2022-05-11T12:48:40.997Z"
   },
   {
    "duration": 2,
    "start_time": "2022-05-11T12:48:41.126Z"
   },
   {
    "duration": 97,
    "start_time": "2022-05-11T12:48:41.130Z"
   },
   {
    "duration": 0,
    "start_time": "2022-05-11T12:48:41.229Z"
   },
   {
    "duration": 0,
    "start_time": "2022-05-11T12:48:41.230Z"
   },
   {
    "duration": 0,
    "start_time": "2022-05-11T12:48:41.231Z"
   },
   {
    "duration": 0,
    "start_time": "2022-05-11T12:48:41.232Z"
   },
   {
    "duration": 0,
    "start_time": "2022-05-11T12:48:41.233Z"
   },
   {
    "duration": 0,
    "start_time": "2022-05-11T12:48:41.235Z"
   },
   {
    "duration": 0,
    "start_time": "2022-05-11T12:48:41.236Z"
   },
   {
    "duration": 0,
    "start_time": "2022-05-11T12:48:41.237Z"
   },
   {
    "duration": 0,
    "start_time": "2022-05-11T12:48:41.238Z"
   },
   {
    "duration": 0,
    "start_time": "2022-05-11T12:48:41.239Z"
   },
   {
    "duration": 0,
    "start_time": "2022-05-11T12:48:41.240Z"
   },
   {
    "duration": 0,
    "start_time": "2022-05-11T12:48:41.241Z"
   },
   {
    "duration": 0,
    "start_time": "2022-05-11T12:48:41.242Z"
   },
   {
    "duration": 0,
    "start_time": "2022-05-11T12:48:41.243Z"
   },
   {
    "duration": 0,
    "start_time": "2022-05-11T12:48:41.244Z"
   },
   {
    "duration": 0,
    "start_time": "2022-05-11T12:48:41.279Z"
   },
   {
    "duration": 0,
    "start_time": "2022-05-11T12:48:41.280Z"
   },
   {
    "duration": 0,
    "start_time": "2022-05-11T12:48:41.281Z"
   },
   {
    "duration": 0,
    "start_time": "2022-05-11T12:48:41.282Z"
   },
   {
    "duration": 0,
    "start_time": "2022-05-11T12:48:41.282Z"
   },
   {
    "duration": 0,
    "start_time": "2022-05-11T12:48:41.283Z"
   },
   {
    "duration": 0,
    "start_time": "2022-05-11T12:48:41.285Z"
   },
   {
    "duration": 0,
    "start_time": "2022-05-11T12:48:41.286Z"
   },
   {
    "duration": 0,
    "start_time": "2022-05-11T12:48:41.430Z"
   },
   {
    "duration": 0,
    "start_time": "2022-05-11T12:48:41.432Z"
   },
   {
    "duration": 0,
    "start_time": "2022-05-11T12:48:41.433Z"
   },
   {
    "duration": 0,
    "start_time": "2022-05-11T12:48:41.434Z"
   },
   {
    "duration": 0,
    "start_time": "2022-05-11T12:48:41.436Z"
   },
   {
    "duration": 0,
    "start_time": "2022-05-11T12:48:41.438Z"
   },
   {
    "duration": 0,
    "start_time": "2022-05-11T12:48:41.439Z"
   },
   {
    "duration": 1,
    "start_time": "2022-05-11T12:48:41.440Z"
   },
   {
    "duration": 0,
    "start_time": "2022-05-11T12:48:41.442Z"
   },
   {
    "duration": 0,
    "start_time": "2022-05-11T12:48:41.443Z"
   },
   {
    "duration": 0,
    "start_time": "2022-05-11T12:48:41.445Z"
   },
   {
    "duration": 0,
    "start_time": "2022-05-11T12:48:41.446Z"
   },
   {
    "duration": 0,
    "start_time": "2022-05-11T12:48:41.476Z"
   },
   {
    "duration": 422,
    "start_time": "2022-05-11T12:49:04.211Z"
   },
   {
    "duration": 725,
    "start_time": "2022-05-11T12:49:04.636Z"
   },
   {
    "duration": 61,
    "start_time": "2022-05-11T12:49:05.363Z"
   },
   {
    "duration": 26,
    "start_time": "2022-05-11T12:49:05.426Z"
   },
   {
    "duration": 9,
    "start_time": "2022-05-11T12:49:05.454Z"
   },
   {
    "duration": 60,
    "start_time": "2022-05-11T12:49:05.465Z"
   },
   {
    "duration": 184,
    "start_time": "2022-05-11T12:49:05.527Z"
   },
   {
    "duration": 5,
    "start_time": "2022-05-11T12:49:05.713Z"
   },
   {
    "duration": 6394,
    "start_time": "2022-05-11T12:49:05.720Z"
   },
   {
    "duration": 4,
    "start_time": "2022-05-11T12:49:12.118Z"
   },
   {
    "duration": 19,
    "start_time": "2022-05-11T12:49:12.123Z"
   },
   {
    "duration": 11,
    "start_time": "2022-05-11T12:49:12.145Z"
   },
   {
    "duration": 27,
    "start_time": "2022-05-11T12:49:12.157Z"
   },
   {
    "duration": 44,
    "start_time": "2022-05-11T12:49:12.186Z"
   },
   {
    "duration": 15,
    "start_time": "2022-05-11T12:49:12.231Z"
   },
   {
    "duration": 16,
    "start_time": "2022-05-11T12:49:12.248Z"
   },
   {
    "duration": 49,
    "start_time": "2022-05-11T12:49:12.265Z"
   },
   {
    "duration": 20,
    "start_time": "2022-05-11T12:49:12.316Z"
   },
   {
    "duration": 15,
    "start_time": "2022-05-11T12:49:12.338Z"
   },
   {
    "duration": 29,
    "start_time": "2022-05-11T12:49:12.354Z"
   },
   {
    "duration": 29,
    "start_time": "2022-05-11T12:49:12.388Z"
   },
   {
    "duration": 22,
    "start_time": "2022-05-11T12:49:12.419Z"
   },
   {
    "duration": 11,
    "start_time": "2022-05-11T12:49:12.442Z"
   },
   {
    "duration": 467,
    "start_time": "2022-05-11T12:49:12.454Z"
   },
   {
    "duration": 5,
    "start_time": "2022-05-11T12:49:12.922Z"
   },
   {
    "duration": 21,
    "start_time": "2022-05-11T12:49:12.928Z"
   },
   {
    "duration": 270,
    "start_time": "2022-05-11T12:49:12.951Z"
   },
   {
    "duration": 301,
    "start_time": "2022-05-11T12:49:13.226Z"
   },
   {
    "duration": 343,
    "start_time": "2022-05-11T12:49:13.529Z"
   },
   {
    "duration": 167,
    "start_time": "2022-05-11T12:49:13.874Z"
   },
   {
    "duration": 195,
    "start_time": "2022-05-11T12:49:14.043Z"
   },
   {
    "duration": 278,
    "start_time": "2022-05-11T12:49:14.240Z"
   },
   {
    "duration": 14,
    "start_time": "2022-05-11T12:49:14.521Z"
   },
   {
    "duration": 168,
    "start_time": "2022-05-11T12:49:14.537Z"
   },
   {
    "duration": 140,
    "start_time": "2022-05-11T12:49:14.707Z"
   },
   {
    "duration": 148,
    "start_time": "2022-05-11T12:49:14.849Z"
   },
   {
    "duration": 162,
    "start_time": "2022-05-11T12:49:14.999Z"
   },
   {
    "duration": 139,
    "start_time": "2022-05-11T12:49:15.163Z"
   },
   {
    "duration": 19,
    "start_time": "2022-05-11T12:49:15.304Z"
   },
   {
    "duration": 17,
    "start_time": "2022-05-11T12:49:15.326Z"
   },
   {
    "duration": 9,
    "start_time": "2022-05-11T12:49:15.345Z"
   },
   {
    "duration": 6,
    "start_time": "2022-05-11T12:49:15.355Z"
   },
   {
    "duration": 141,
    "start_time": "2022-05-11T12:49:15.363Z"
   },
   {
    "duration": 24,
    "start_time": "2022-05-11T12:49:15.506Z"
   },
   {
    "duration": 14,
    "start_time": "2022-05-11T12:49:15.532Z"
   },
   {
    "duration": 7,
    "start_time": "2022-05-11T12:49:15.547Z"
   },
   {
    "duration": 23,
    "start_time": "2022-05-11T12:49:15.555Z"
   },
   {
    "duration": 8,
    "start_time": "2022-05-11T12:49:15.580Z"
   },
   {
    "duration": 41,
    "start_time": "2022-05-11T12:49:15.590Z"
   },
   {
    "duration": 14,
    "start_time": "2022-05-11T12:49:15.633Z"
   },
   {
    "duration": 20,
    "start_time": "2022-05-11T12:49:15.649Z"
   },
   {
    "duration": 29,
    "start_time": "2022-05-11T12:49:15.671Z"
   },
   {
    "duration": 21,
    "start_time": "2022-05-11T12:49:15.702Z"
   },
   {
    "duration": 10,
    "start_time": "2022-05-11T12:49:15.725Z"
   },
   {
    "duration": 11,
    "start_time": "2022-05-11T12:49:15.738Z"
   },
   {
    "duration": 74,
    "start_time": "2022-05-11T12:49:15.750Z"
   },
   {
    "duration": 9,
    "start_time": "2022-05-11T12:49:15.826Z"
   },
   {
    "duration": 14,
    "start_time": "2022-05-11T12:49:15.837Z"
   },
   {
    "duration": 189,
    "start_time": "2022-05-11T12:49:15.854Z"
   },
   {
    "duration": 10,
    "start_time": "2022-05-11T12:49:16.046Z"
   },
   {
    "duration": 263,
    "start_time": "2022-05-11T12:49:16.058Z"
   },
   {
    "duration": 9,
    "start_time": "2022-05-11T12:49:16.323Z"
   },
   {
    "duration": 286,
    "start_time": "2022-05-11T12:49:16.334Z"
   },
   {
    "duration": 9,
    "start_time": "2022-05-11T12:49:16.622Z"
   },
   {
    "duration": 10,
    "start_time": "2022-05-11T12:49:16.632Z"
   },
   {
    "duration": 160,
    "start_time": "2022-05-11T12:49:16.644Z"
   },
   {
    "duration": 10,
    "start_time": "2022-05-11T12:49:16.806Z"
   },
   {
    "duration": 15,
    "start_time": "2022-05-11T12:49:16.819Z"
   },
   {
    "duration": 191,
    "start_time": "2022-05-11T12:49:16.836Z"
   },
   {
    "duration": 8,
    "start_time": "2022-05-11T12:49:17.029Z"
   },
   {
    "duration": 306,
    "start_time": "2022-05-11T12:49:17.039Z"
   },
   {
    "duration": 9,
    "start_time": "2022-05-11T12:49:17.347Z"
   },
   {
    "duration": 24,
    "start_time": "2022-05-11T12:49:17.358Z"
   },
   {
    "duration": 41,
    "start_time": "2022-05-11T12:49:17.386Z"
   },
   {
    "duration": 14,
    "start_time": "2022-05-11T12:49:17.429Z"
   },
   {
    "duration": 13,
    "start_time": "2022-05-11T12:49:17.444Z"
   },
   {
    "duration": 411,
    "start_time": "2022-05-11T12:50:34.329Z"
   },
   {
    "duration": 98,
    "start_time": "2022-05-11T12:50:34.742Z"
   },
   {
    "duration": 55,
    "start_time": "2022-05-11T12:50:34.842Z"
   },
   {
    "duration": 15,
    "start_time": "2022-05-11T12:50:34.899Z"
   },
   {
    "duration": 13,
    "start_time": "2022-05-11T12:50:34.916Z"
   },
   {
    "duration": 78,
    "start_time": "2022-05-11T12:50:34.931Z"
   },
   {
    "duration": 193,
    "start_time": "2022-05-11T12:50:35.011Z"
   },
   {
    "duration": 3,
    "start_time": "2022-05-11T12:50:35.206Z"
   },
   {
    "duration": 5958,
    "start_time": "2022-05-11T12:50:35.211Z"
   },
   {
    "duration": 4,
    "start_time": "2022-05-11T12:50:41.172Z"
   },
   {
    "duration": 23,
    "start_time": "2022-05-11T12:50:41.177Z"
   },
   {
    "duration": 8,
    "start_time": "2022-05-11T12:50:41.201Z"
   },
   {
    "duration": 13,
    "start_time": "2022-05-11T12:50:41.210Z"
   },
   {
    "duration": 10,
    "start_time": "2022-05-11T12:50:41.225Z"
   },
   {
    "duration": 8,
    "start_time": "2022-05-11T12:50:41.237Z"
   },
   {
    "duration": 7,
    "start_time": "2022-05-11T12:50:41.247Z"
   },
   {
    "duration": 9,
    "start_time": "2022-05-11T12:50:41.255Z"
   },
   {
    "duration": 19,
    "start_time": "2022-05-11T12:50:41.265Z"
   },
   {
    "duration": 13,
    "start_time": "2022-05-11T12:50:41.286Z"
   },
   {
    "duration": 10,
    "start_time": "2022-05-11T12:50:41.301Z"
   },
   {
    "duration": 7,
    "start_time": "2022-05-11T12:50:41.312Z"
   },
   {
    "duration": 14,
    "start_time": "2022-05-11T12:50:41.321Z"
   },
   {
    "duration": 4,
    "start_time": "2022-05-11T12:50:41.337Z"
   },
   {
    "duration": 406,
    "start_time": "2022-05-11T12:50:41.342Z"
   },
   {
    "duration": 5,
    "start_time": "2022-05-11T12:50:41.750Z"
   },
   {
    "duration": 23,
    "start_time": "2022-05-11T12:50:41.757Z"
   },
   {
    "duration": 239,
    "start_time": "2022-05-11T12:50:41.781Z"
   },
   {
    "duration": 297,
    "start_time": "2022-05-11T12:50:42.024Z"
   },
   {
    "duration": 301,
    "start_time": "2022-05-11T12:50:42.323Z"
   },
   {
    "duration": 170,
    "start_time": "2022-05-11T12:50:42.626Z"
   },
   {
    "duration": 144,
    "start_time": "2022-05-11T12:50:42.797Z"
   },
   {
    "duration": 254,
    "start_time": "2022-05-11T12:50:42.942Z"
   },
   {
    "duration": 10,
    "start_time": "2022-05-11T12:50:43.198Z"
   },
   {
    "duration": 139,
    "start_time": "2022-05-11T12:50:43.209Z"
   },
   {
    "duration": 150,
    "start_time": "2022-05-11T12:50:43.350Z"
   },
   {
    "duration": 175,
    "start_time": "2022-05-11T12:50:43.502Z"
   },
   {
    "duration": 167,
    "start_time": "2022-05-11T12:50:43.679Z"
   },
   {
    "duration": 134,
    "start_time": "2022-05-11T12:50:43.848Z"
   },
   {
    "duration": 13,
    "start_time": "2022-05-11T12:50:43.985Z"
   },
   {
    "duration": 2,
    "start_time": "2022-05-11T12:50:44.001Z"
   },
   {
    "duration": 6,
    "start_time": "2022-05-11T12:50:44.005Z"
   },
   {
    "duration": 7,
    "start_time": "2022-05-11T12:50:44.013Z"
   },
   {
    "duration": 6,
    "start_time": "2022-05-11T12:50:44.022Z"
   },
   {
    "duration": 113,
    "start_time": "2022-05-11T12:50:44.030Z"
   },
   {
    "duration": 33,
    "start_time": "2022-05-11T12:50:44.145Z"
   },
   {
    "duration": 6,
    "start_time": "2022-05-11T12:50:44.181Z"
   },
   {
    "duration": 16,
    "start_time": "2022-05-11T12:50:44.188Z"
   },
   {
    "duration": 6,
    "start_time": "2022-05-11T12:50:44.206Z"
   },
   {
    "duration": 14,
    "start_time": "2022-05-11T12:50:44.214Z"
   },
   {
    "duration": 16,
    "start_time": "2022-05-11T12:50:44.229Z"
   },
   {
    "duration": 47,
    "start_time": "2022-05-11T12:50:44.247Z"
   },
   {
    "duration": 20,
    "start_time": "2022-05-11T12:50:44.296Z"
   },
   {
    "duration": 4,
    "start_time": "2022-05-11T12:50:44.318Z"
   },
   {
    "duration": 10,
    "start_time": "2022-05-11T12:50:44.324Z"
   },
   {
    "duration": 14,
    "start_time": "2022-05-11T12:50:44.336Z"
   },
   {
    "duration": 25,
    "start_time": "2022-05-11T12:50:44.375Z"
   },
   {
    "duration": 17,
    "start_time": "2022-05-11T12:50:44.402Z"
   },
   {
    "duration": 16,
    "start_time": "2022-05-11T12:50:44.422Z"
   },
   {
    "duration": 178,
    "start_time": "2022-05-11T12:50:44.440Z"
   },
   {
    "duration": 8,
    "start_time": "2022-05-11T12:50:44.620Z"
   },
   {
    "duration": 292,
    "start_time": "2022-05-11T12:50:44.630Z"
   },
   {
    "duration": 10,
    "start_time": "2022-05-11T12:50:44.924Z"
   },
   {
    "duration": 316,
    "start_time": "2022-05-11T12:50:44.935Z"
   },
   {
    "duration": 24,
    "start_time": "2022-05-11T12:50:45.253Z"
   },
   {
    "duration": 29,
    "start_time": "2022-05-11T12:50:45.280Z"
   },
   {
    "duration": 140,
    "start_time": "2022-05-11T12:50:45.312Z"
   },
   {
    "duration": 12,
    "start_time": "2022-05-11T12:50:45.456Z"
   },
   {
    "duration": 16,
    "start_time": "2022-05-11T12:50:45.476Z"
   },
   {
    "duration": 161,
    "start_time": "2022-05-11T12:50:45.493Z"
   },
   {
    "duration": 19,
    "start_time": "2022-05-11T12:50:45.656Z"
   },
   {
    "duration": 318,
    "start_time": "2022-05-11T12:50:45.676Z"
   },
   {
    "duration": 11,
    "start_time": "2022-05-11T12:50:45.999Z"
   },
   {
    "duration": 18,
    "start_time": "2022-05-11T12:50:46.012Z"
   },
   {
    "duration": 46,
    "start_time": "2022-05-11T12:50:46.033Z"
   },
   {
    "duration": 25,
    "start_time": "2022-05-11T12:50:46.082Z"
   },
   {
    "duration": 26,
    "start_time": "2022-05-11T12:50:46.110Z"
   },
   {
    "duration": 159,
    "start_time": "2022-05-11T12:52:10.371Z"
   },
   {
    "duration": 14,
    "start_time": "2022-05-11T12:53:31.265Z"
   },
   {
    "duration": 15,
    "start_time": "2022-05-11T12:53:33.755Z"
   },
   {
    "duration": 9,
    "start_time": "2022-05-11T12:54:05.625Z"
   },
   {
    "duration": 16,
    "start_time": "2022-05-11T12:54:08.590Z"
   },
   {
    "duration": 53,
    "start_time": "2022-05-11T21:11:53.090Z"
   },
   {
    "duration": 413,
    "start_time": "2022-05-11T21:11:59.152Z"
   },
   {
    "duration": 100,
    "start_time": "2022-05-11T21:11:59.567Z"
   },
   {
    "duration": 51,
    "start_time": "2022-05-11T21:11:59.669Z"
   },
   {
    "duration": 15,
    "start_time": "2022-05-11T21:11:59.722Z"
   },
   {
    "duration": 10,
    "start_time": "2022-05-11T21:11:59.739Z"
   },
   {
    "duration": 78,
    "start_time": "2022-05-11T21:11:59.750Z"
   },
   {
    "duration": 172,
    "start_time": "2022-05-11T21:11:59.829Z"
   },
   {
    "duration": 5,
    "start_time": "2022-05-11T21:12:00.003Z"
   },
   {
    "duration": 6350,
    "start_time": "2022-05-11T21:12:00.010Z"
   },
   {
    "duration": 4,
    "start_time": "2022-05-11T21:12:06.362Z"
   },
   {
    "duration": 6,
    "start_time": "2022-05-11T21:12:06.368Z"
   },
   {
    "duration": 6,
    "start_time": "2022-05-11T21:12:06.376Z"
   },
   {
    "duration": 6,
    "start_time": "2022-05-11T21:12:06.384Z"
   },
   {
    "duration": 3,
    "start_time": "2022-05-11T21:12:06.408Z"
   },
   {
    "duration": 7,
    "start_time": "2022-05-11T21:12:06.413Z"
   },
   {
    "duration": 9,
    "start_time": "2022-05-11T21:12:06.422Z"
   },
   {
    "duration": 9,
    "start_time": "2022-05-11T21:12:06.433Z"
   },
   {
    "duration": 10,
    "start_time": "2022-05-11T21:12:06.444Z"
   },
   {
    "duration": 5,
    "start_time": "2022-05-11T21:12:06.456Z"
   },
   {
    "duration": 45,
    "start_time": "2022-05-11T21:12:06.462Z"
   },
   {
    "duration": 7,
    "start_time": "2022-05-11T21:12:06.509Z"
   },
   {
    "duration": 7,
    "start_time": "2022-05-11T21:12:06.518Z"
   },
   {
    "duration": 4,
    "start_time": "2022-05-11T21:12:06.527Z"
   },
   {
    "duration": 443,
    "start_time": "2022-05-11T21:12:06.533Z"
   },
   {
    "duration": 5,
    "start_time": "2022-05-11T21:12:06.978Z"
   },
   {
    "duration": 6,
    "start_time": "2022-05-11T21:12:06.985Z"
   },
   {
    "duration": 374,
    "start_time": "2022-05-11T21:12:07.008Z"
   },
   {
    "duration": 335,
    "start_time": "2022-05-11T21:12:07.387Z"
   },
   {
    "duration": 280,
    "start_time": "2022-05-11T21:12:07.724Z"
   },
   {
    "duration": 172,
    "start_time": "2022-05-11T21:12:08.007Z"
   },
   {
    "duration": 155,
    "start_time": "2022-05-11T21:12:08.181Z"
   },
   {
    "duration": 259,
    "start_time": "2022-05-11T21:12:08.338Z"
   },
   {
    "duration": 17,
    "start_time": "2022-05-11T21:12:08.599Z"
   },
   {
    "duration": 147,
    "start_time": "2022-05-11T21:12:08.618Z"
   },
   {
    "duration": 147,
    "start_time": "2022-05-11T21:12:08.767Z"
   },
   {
    "duration": 139,
    "start_time": "2022-05-11T21:12:08.916Z"
   },
   {
    "duration": 125,
    "start_time": "2022-05-11T21:12:09.057Z"
   },
   {
    "duration": 216,
    "start_time": "2022-05-11T21:12:09.183Z"
   },
   {
    "duration": 12,
    "start_time": "2022-05-11T21:12:09.407Z"
   },
   {
    "duration": 3,
    "start_time": "2022-05-11T21:12:09.421Z"
   },
   {
    "duration": 4,
    "start_time": "2022-05-11T21:12:09.426Z"
   },
   {
    "duration": 4,
    "start_time": "2022-05-11T21:12:09.432Z"
   },
   {
    "duration": 4,
    "start_time": "2022-05-11T21:12:09.438Z"
   },
   {
    "duration": 18,
    "start_time": "2022-05-11T21:12:09.444Z"
   },
   {
    "duration": 49,
    "start_time": "2022-05-11T21:12:09.464Z"
   },
   {
    "duration": 5,
    "start_time": "2022-05-11T21:12:09.515Z"
   },
   {
    "duration": 6,
    "start_time": "2022-05-11T21:12:09.522Z"
   },
   {
    "duration": 5,
    "start_time": "2022-05-11T21:12:09.530Z"
   },
   {
    "duration": 15,
    "start_time": "2022-05-11T21:12:09.537Z"
   },
   {
    "duration": 14,
    "start_time": "2022-05-11T21:12:09.554Z"
   },
   {
    "duration": 52,
    "start_time": "2022-05-11T21:12:09.569Z"
   },
   {
    "duration": 13,
    "start_time": "2022-05-11T21:12:09.623Z"
   },
   {
    "duration": 5,
    "start_time": "2022-05-11T21:12:09.638Z"
   },
   {
    "duration": 14,
    "start_time": "2022-05-11T21:12:09.645Z"
   },
   {
    "duration": 16,
    "start_time": "2022-05-11T21:12:09.661Z"
   },
   {
    "duration": 15,
    "start_time": "2022-05-11T21:12:09.708Z"
   },
   {
    "duration": 10,
    "start_time": "2022-05-11T21:12:09.725Z"
   },
   {
    "duration": 12,
    "start_time": "2022-05-11T21:12:09.736Z"
   },
   {
    "duration": 176,
    "start_time": "2022-05-11T21:12:09.750Z"
   },
   {
    "duration": 8,
    "start_time": "2022-05-11T21:12:09.928Z"
   },
   {
    "duration": 271,
    "start_time": "2022-05-11T21:12:09.938Z"
   },
   {
    "duration": 10,
    "start_time": "2022-05-11T21:12:10.211Z"
   },
   {
    "duration": 274,
    "start_time": "2022-05-11T21:12:10.223Z"
   },
   {
    "duration": 14,
    "start_time": "2022-05-11T21:12:10.500Z"
   },
   {
    "duration": 10,
    "start_time": "2022-05-11T21:12:10.516Z"
   },
   {
    "duration": 167,
    "start_time": "2022-05-11T21:12:10.528Z"
   },
   {
    "duration": 14,
    "start_time": "2022-05-11T21:12:10.697Z"
   },
   {
    "duration": 10,
    "start_time": "2022-05-11T21:12:10.713Z"
   },
   {
    "duration": 157,
    "start_time": "2022-05-11T21:12:10.725Z"
   },
   {
    "duration": 10,
    "start_time": "2022-05-11T21:12:10.884Z"
   },
   {
    "duration": 282,
    "start_time": "2022-05-11T21:12:10.908Z"
   },
   {
    "duration": 20,
    "start_time": "2022-05-11T21:12:11.192Z"
   },
   {
    "duration": 10,
    "start_time": "2022-05-11T21:12:11.214Z"
   },
   {
    "duration": 15,
    "start_time": "2022-05-11T21:12:11.226Z"
   },
   {
    "duration": 15,
    "start_time": "2022-05-11T21:12:11.243Z"
   },
   {
    "duration": 51,
    "start_time": "2022-05-11T21:12:11.260Z"
   },
   {
    "duration": 473,
    "start_time": "2022-05-11T21:13:37.377Z"
   },
   {
    "duration": 93,
    "start_time": "2022-05-11T21:13:37.852Z"
   },
   {
    "duration": 39,
    "start_time": "2022-05-11T21:13:37.946Z"
   },
   {
    "duration": 30,
    "start_time": "2022-05-11T21:13:37.988Z"
   },
   {
    "duration": 11,
    "start_time": "2022-05-11T21:13:38.020Z"
   },
   {
    "duration": 48,
    "start_time": "2022-05-11T21:13:38.033Z"
   },
   {
    "duration": 174,
    "start_time": "2022-05-11T21:13:38.107Z"
   },
   {
    "duration": 4,
    "start_time": "2022-05-11T21:13:38.283Z"
   },
   {
    "duration": 6008,
    "start_time": "2022-05-11T21:13:38.289Z"
   },
   {
    "duration": 3,
    "start_time": "2022-05-11T21:13:44.301Z"
   },
   {
    "duration": 5,
    "start_time": "2022-05-11T21:13:44.307Z"
   },
   {
    "duration": 5,
    "start_time": "2022-05-11T21:13:44.314Z"
   },
   {
    "duration": 4,
    "start_time": "2022-05-11T21:13:44.320Z"
   },
   {
    "duration": 5,
    "start_time": "2022-05-11T21:13:44.326Z"
   },
   {
    "duration": 5,
    "start_time": "2022-05-11T21:13:44.334Z"
   },
   {
    "duration": 7,
    "start_time": "2022-05-11T21:13:44.341Z"
   },
   {
    "duration": 8,
    "start_time": "2022-05-11T21:13:44.349Z"
   },
   {
    "duration": 49,
    "start_time": "2022-05-11T21:13:44.359Z"
   },
   {
    "duration": 4,
    "start_time": "2022-05-11T21:13:44.410Z"
   },
   {
    "duration": 10,
    "start_time": "2022-05-11T21:13:44.416Z"
   },
   {
    "duration": 6,
    "start_time": "2022-05-11T21:13:44.428Z"
   },
   {
    "duration": 6,
    "start_time": "2022-05-11T21:13:44.435Z"
   },
   {
    "duration": 3,
    "start_time": "2022-05-11T21:13:44.443Z"
   },
   {
    "duration": 450,
    "start_time": "2022-05-11T21:13:44.448Z"
   },
   {
    "duration": 8,
    "start_time": "2022-05-11T21:13:44.900Z"
   },
   {
    "duration": 4,
    "start_time": "2022-05-11T21:13:44.909Z"
   },
   {
    "duration": 207,
    "start_time": "2022-05-11T21:13:44.915Z"
   },
   {
    "duration": 291,
    "start_time": "2022-05-11T21:13:45.127Z"
   },
   {
    "duration": 319,
    "start_time": "2022-05-11T21:13:45.420Z"
   },
   {
    "duration": 169,
    "start_time": "2022-05-11T21:13:45.741Z"
   },
   {
    "duration": 153,
    "start_time": "2022-05-11T21:13:45.912Z"
   },
   {
    "duration": 251,
    "start_time": "2022-05-11T21:13:46.067Z"
   },
   {
    "duration": 11,
    "start_time": "2022-05-11T21:13:46.320Z"
   },
   {
    "duration": 140,
    "start_time": "2022-05-11T21:13:46.333Z"
   },
   {
    "duration": 150,
    "start_time": "2022-05-11T21:13:46.475Z"
   },
   {
    "duration": 122,
    "start_time": "2022-05-11T21:13:46.627Z"
   },
   {
    "duration": 124,
    "start_time": "2022-05-11T21:13:46.751Z"
   },
   {
    "duration": 149,
    "start_time": "2022-05-11T21:13:46.877Z"
   },
   {
    "duration": 14,
    "start_time": "2022-05-11T21:13:47.028Z"
   },
   {
    "duration": 10,
    "start_time": "2022-05-11T21:13:47.044Z"
   },
   {
    "duration": 9,
    "start_time": "2022-05-11T21:13:47.055Z"
   },
   {
    "duration": 99,
    "start_time": "2022-05-11T21:13:47.066Z"
   },
   {
    "duration": 9,
    "start_time": "2022-05-11T21:13:47.167Z"
   },
   {
    "duration": 31,
    "start_time": "2022-05-11T21:13:47.178Z"
   },
   {
    "duration": 15,
    "start_time": "2022-05-11T21:13:47.211Z"
   },
   {
    "duration": 6,
    "start_time": "2022-05-11T21:13:47.228Z"
   },
   {
    "duration": 5,
    "start_time": "2022-05-11T21:13:47.235Z"
   },
   {
    "duration": 5,
    "start_time": "2022-05-11T21:13:47.242Z"
   },
   {
    "duration": 14,
    "start_time": "2022-05-11T21:13:47.249Z"
   },
   {
    "duration": 53,
    "start_time": "2022-05-11T21:13:47.264Z"
   },
   {
    "duration": 13,
    "start_time": "2022-05-11T21:13:47.319Z"
   },
   {
    "duration": 13,
    "start_time": "2022-05-11T21:13:47.334Z"
   },
   {
    "duration": 6,
    "start_time": "2022-05-11T21:13:47.348Z"
   },
   {
    "duration": 9,
    "start_time": "2022-05-11T21:13:47.356Z"
   },
   {
    "duration": 44,
    "start_time": "2022-05-11T21:13:47.366Z"
   },
   {
    "duration": 14,
    "start_time": "2022-05-11T21:13:47.411Z"
   },
   {
    "duration": 8,
    "start_time": "2022-05-11T21:13:47.427Z"
   },
   {
    "duration": 10,
    "start_time": "2022-05-11T21:13:47.436Z"
   },
   {
    "duration": 172,
    "start_time": "2022-05-11T21:13:47.447Z"
   },
   {
    "duration": 7,
    "start_time": "2022-05-11T21:13:47.621Z"
   },
   {
    "duration": 247,
    "start_time": "2022-05-11T21:13:47.630Z"
   },
   {
    "duration": 8,
    "start_time": "2022-05-11T21:13:47.878Z"
   },
   {
    "duration": 276,
    "start_time": "2022-05-11T21:13:47.887Z"
   },
   {
    "duration": 9,
    "start_time": "2022-05-11T21:13:48.165Z"
   },
   {
    "duration": 9,
    "start_time": "2022-05-11T21:13:48.176Z"
   },
   {
    "duration": 145,
    "start_time": "2022-05-11T21:13:48.187Z"
   },
   {
    "duration": 8,
    "start_time": "2022-05-11T21:13:48.333Z"
   },
   {
    "duration": 10,
    "start_time": "2022-05-11T21:13:48.343Z"
   },
   {
    "duration": 142,
    "start_time": "2022-05-11T21:13:48.354Z"
   },
   {
    "duration": 14,
    "start_time": "2022-05-11T21:13:48.498Z"
   },
   {
    "duration": 252,
    "start_time": "2022-05-11T21:13:48.514Z"
   },
   {
    "duration": 9,
    "start_time": "2022-05-11T21:13:48.768Z"
   },
   {
    "duration": 10,
    "start_time": "2022-05-11T21:13:48.779Z"
   },
   {
    "duration": 15,
    "start_time": "2022-05-11T21:13:48.808Z"
   },
   {
    "duration": 13,
    "start_time": "2022-05-11T21:13:48.825Z"
   },
   {
    "duration": 15,
    "start_time": "2022-05-11T21:13:48.839Z"
   },
   {
    "duration": 156,
    "start_time": "2022-05-11T21:14:25.200Z"
   },
   {
    "duration": 131,
    "start_time": "2022-05-11T21:14:36.469Z"
   },
   {
    "duration": 239,
    "start_time": "2022-05-11T21:17:28.270Z"
   },
   {
    "duration": 480,
    "start_time": "2022-05-11T21:20:15.497Z"
   },
   {
    "duration": 95,
    "start_time": "2022-05-11T21:20:15.979Z"
   },
   {
    "duration": 58,
    "start_time": "2022-05-11T21:20:16.076Z"
   },
   {
    "duration": 16,
    "start_time": "2022-05-11T21:20:16.137Z"
   },
   {
    "duration": 10,
    "start_time": "2022-05-11T21:20:16.154Z"
   },
   {
    "duration": 81,
    "start_time": "2022-05-11T21:20:16.166Z"
   },
   {
    "duration": 178,
    "start_time": "2022-05-11T21:20:16.249Z"
   },
   {
    "duration": 4,
    "start_time": "2022-05-11T21:20:16.428Z"
   },
   {
    "duration": 6348,
    "start_time": "2022-05-11T21:20:16.434Z"
   },
   {
    "duration": 3,
    "start_time": "2022-05-11T21:20:22.786Z"
   },
   {
    "duration": 16,
    "start_time": "2022-05-11T21:20:22.791Z"
   },
   {
    "duration": 5,
    "start_time": "2022-05-11T21:20:22.809Z"
   },
   {
    "duration": 5,
    "start_time": "2022-05-11T21:20:22.816Z"
   },
   {
    "duration": 6,
    "start_time": "2022-05-11T21:20:22.823Z"
   },
   {
    "duration": 6,
    "start_time": "2022-05-11T21:20:22.831Z"
   },
   {
    "duration": 7,
    "start_time": "2022-05-11T21:20:22.838Z"
   },
   {
    "duration": 9,
    "start_time": "2022-05-11T21:20:22.847Z"
   },
   {
    "duration": 12,
    "start_time": "2022-05-11T21:20:22.858Z"
   },
   {
    "duration": 38,
    "start_time": "2022-05-11T21:20:22.871Z"
   },
   {
    "duration": 8,
    "start_time": "2022-05-11T21:20:22.911Z"
   },
   {
    "duration": 6,
    "start_time": "2022-05-11T21:20:22.921Z"
   },
   {
    "duration": 6,
    "start_time": "2022-05-11T21:20:22.928Z"
   },
   {
    "duration": 3,
    "start_time": "2022-05-11T21:20:22.936Z"
   },
   {
    "duration": 435,
    "start_time": "2022-05-11T21:20:22.940Z"
   },
   {
    "duration": 4,
    "start_time": "2022-05-11T21:20:23.377Z"
   },
   {
    "duration": 6,
    "start_time": "2022-05-11T21:20:23.383Z"
   },
   {
    "duration": 220,
    "start_time": "2022-05-11T21:20:23.390Z"
   },
   {
    "duration": 274,
    "start_time": "2022-05-11T21:20:23.615Z"
   },
   {
    "duration": 324,
    "start_time": "2022-05-11T21:20:23.891Z"
   },
   {
    "duration": 163,
    "start_time": "2022-05-11T21:20:24.216Z"
   },
   {
    "duration": 154,
    "start_time": "2022-05-11T21:20:24.381Z"
   },
   {
    "duration": 250,
    "start_time": "2022-05-11T21:20:24.537Z"
   },
   {
    "duration": 19,
    "start_time": "2022-05-11T21:20:24.789Z"
   },
   {
    "duration": 139,
    "start_time": "2022-05-11T21:20:24.810Z"
   },
   {
    "duration": 137,
    "start_time": "2022-05-11T21:20:24.951Z"
   },
   {
    "duration": 134,
    "start_time": "2022-05-11T21:20:25.089Z"
   },
   {
    "duration": 128,
    "start_time": "2022-05-11T21:20:25.224Z"
   },
   {
    "duration": 128,
    "start_time": "2022-05-11T21:20:25.354Z"
   },
   {
    "duration": 26,
    "start_time": "2022-05-11T21:20:25.484Z"
   },
   {
    "duration": 11,
    "start_time": "2022-05-11T21:20:25.512Z"
   },
   {
    "duration": 8,
    "start_time": "2022-05-11T21:20:25.525Z"
   },
   {
    "duration": 97,
    "start_time": "2022-05-11T21:20:25.534Z"
   },
   {
    "duration": 9,
    "start_time": "2022-05-11T21:20:25.633Z"
   },
   {
    "duration": 14,
    "start_time": "2022-05-11T21:20:25.644Z"
   },
   {
    "duration": 14,
    "start_time": "2022-05-11T21:20:25.660Z"
   },
   {
    "duration": 35,
    "start_time": "2022-05-11T21:20:25.676Z"
   },
   {
    "duration": 6,
    "start_time": "2022-05-11T21:20:25.713Z"
   },
   {
    "duration": 6,
    "start_time": "2022-05-11T21:20:25.720Z"
   },
   {
    "duration": 14,
    "start_time": "2022-05-11T21:20:25.728Z"
   },
   {
    "duration": 13,
    "start_time": "2022-05-11T21:20:25.744Z"
   },
   {
    "duration": 59,
    "start_time": "2022-05-11T21:20:25.758Z"
   },
   {
    "duration": 14,
    "start_time": "2022-05-11T21:20:25.818Z"
   },
   {
    "duration": 5,
    "start_time": "2022-05-11T21:20:25.834Z"
   },
   {
    "duration": 8,
    "start_time": "2022-05-11T21:20:25.841Z"
   },
   {
    "duration": 9,
    "start_time": "2022-05-11T21:20:25.851Z"
   },
   {
    "duration": 56,
    "start_time": "2022-05-11T21:20:25.862Z"
   },
   {
    "duration": 9,
    "start_time": "2022-05-11T21:20:25.920Z"
   },
   {
    "duration": 10,
    "start_time": "2022-05-11T21:20:25.931Z"
   },
   {
    "duration": 189,
    "start_time": "2022-05-11T21:20:25.943Z"
   },
   {
    "duration": 8,
    "start_time": "2022-05-11T21:20:26.134Z"
   },
   {
    "duration": 254,
    "start_time": "2022-05-11T21:20:26.144Z"
   },
   {
    "duration": 14,
    "start_time": "2022-05-11T21:20:26.400Z"
   },
   {
    "duration": 284,
    "start_time": "2022-05-11T21:20:26.415Z"
   },
   {
    "duration": 13,
    "start_time": "2022-05-11T21:20:26.701Z"
   },
   {
    "duration": 10,
    "start_time": "2022-05-11T21:20:26.716Z"
   },
   {
    "duration": 154,
    "start_time": "2022-05-11T21:20:26.727Z"
   },
   {
    "duration": 9,
    "start_time": "2022-05-11T21:20:26.883Z"
   },
   {
    "duration": 22,
    "start_time": "2022-05-11T21:20:26.893Z"
   },
   {
    "duration": 145,
    "start_time": "2022-05-11T21:20:26.918Z"
   },
   {
    "duration": 9,
    "start_time": "2022-05-11T21:20:27.065Z"
   },
   {
    "duration": 271,
    "start_time": "2022-05-11T21:20:27.076Z"
   },
   {
    "duration": 11,
    "start_time": "2022-05-11T21:20:27.348Z"
   },
   {
    "duration": 8,
    "start_time": "2022-05-11T21:20:27.361Z"
   },
   {
    "duration": 40,
    "start_time": "2022-05-11T21:20:27.376Z"
   },
   {
    "duration": 17,
    "start_time": "2022-05-11T21:20:27.419Z"
   },
   {
    "duration": 18,
    "start_time": "2022-05-11T21:20:27.438Z"
   },
   {
    "duration": 461,
    "start_time": "2022-05-11T21:21:01.252Z"
   },
   {
    "duration": 93,
    "start_time": "2022-05-11T21:21:01.715Z"
   },
   {
    "duration": 42,
    "start_time": "2022-05-11T21:21:01.809Z"
   },
   {
    "duration": 18,
    "start_time": "2022-05-11T21:21:01.853Z"
   },
   {
    "duration": 39,
    "start_time": "2022-05-11T21:21:01.873Z"
   },
   {
    "duration": 62,
    "start_time": "2022-05-11T21:21:01.914Z"
   },
   {
    "duration": 167,
    "start_time": "2022-05-11T21:21:01.978Z"
   },
   {
    "duration": 4,
    "start_time": "2022-05-11T21:21:02.147Z"
   },
   {
    "duration": 6257,
    "start_time": "2022-05-11T21:21:02.153Z"
   },
   {
    "duration": 4,
    "start_time": "2022-05-11T21:21:08.413Z"
   },
   {
    "duration": 6,
    "start_time": "2022-05-11T21:21:08.418Z"
   },
   {
    "duration": 6,
    "start_time": "2022-05-11T21:21:08.426Z"
   },
   {
    "duration": 7,
    "start_time": "2022-05-11T21:21:08.433Z"
   },
   {
    "duration": 4,
    "start_time": "2022-05-11T21:21:08.442Z"
   },
   {
    "duration": 6,
    "start_time": "2022-05-11T21:21:08.448Z"
   },
   {
    "duration": 6,
    "start_time": "2022-05-11T21:21:08.455Z"
   },
   {
    "duration": 8,
    "start_time": "2022-05-11T21:21:08.463Z"
   },
   {
    "duration": 43,
    "start_time": "2022-05-11T21:21:08.473Z"
   },
   {
    "duration": 5,
    "start_time": "2022-05-11T21:21:08.518Z"
   },
   {
    "duration": 8,
    "start_time": "2022-05-11T21:21:08.524Z"
   },
   {
    "duration": 6,
    "start_time": "2022-05-11T21:21:08.534Z"
   },
   {
    "duration": 6,
    "start_time": "2022-05-11T21:21:08.541Z"
   },
   {
    "duration": 3,
    "start_time": "2022-05-11T21:21:08.549Z"
   },
   {
    "duration": 448,
    "start_time": "2022-05-11T21:21:08.554Z"
   },
   {
    "duration": 5,
    "start_time": "2022-05-11T21:21:09.003Z"
   },
   {
    "duration": 4,
    "start_time": "2022-05-11T21:21:09.010Z"
   },
   {
    "duration": 219,
    "start_time": "2022-05-11T21:21:09.016Z"
   },
   {
    "duration": 289,
    "start_time": "2022-05-11T21:21:09.240Z"
   },
   {
    "duration": 329,
    "start_time": "2022-05-11T21:21:09.531Z"
   },
   {
    "duration": 182,
    "start_time": "2022-05-11T21:21:09.862Z"
   },
   {
    "duration": 158,
    "start_time": "2022-05-11T21:21:10.046Z"
   },
   {
    "duration": 261,
    "start_time": "2022-05-11T21:21:10.208Z"
   },
   {
    "duration": 11,
    "start_time": "2022-05-11T21:21:10.470Z"
   },
   {
    "duration": 154,
    "start_time": "2022-05-11T21:21:10.483Z"
   },
   {
    "duration": 150,
    "start_time": "2022-05-11T21:21:10.639Z"
   },
   {
    "duration": 139,
    "start_time": "2022-05-11T21:21:10.791Z"
   },
   {
    "duration": 131,
    "start_time": "2022-05-11T21:21:10.931Z"
   },
   {
    "duration": 127,
    "start_time": "2022-05-11T21:21:11.063Z"
   },
   {
    "duration": 22,
    "start_time": "2022-05-11T21:21:11.191Z"
   },
   {
    "duration": 10,
    "start_time": "2022-05-11T21:21:11.215Z"
   },
   {
    "duration": 10,
    "start_time": "2022-05-11T21:21:11.227Z"
   },
   {
    "duration": 97,
    "start_time": "2022-05-11T21:21:11.238Z"
   },
   {
    "duration": 10,
    "start_time": "2022-05-11T21:21:11.337Z"
   },
   {
    "duration": 15,
    "start_time": "2022-05-11T21:21:11.348Z"
   },
   {
    "duration": 43,
    "start_time": "2022-05-11T21:21:11.365Z"
   },
   {
    "duration": 5,
    "start_time": "2022-05-11T21:21:11.410Z"
   },
   {
    "duration": 7,
    "start_time": "2022-05-11T21:21:11.417Z"
   },
   {
    "duration": 6,
    "start_time": "2022-05-11T21:21:11.425Z"
   },
   {
    "duration": 15,
    "start_time": "2022-05-11T21:21:11.432Z"
   },
   {
    "duration": 13,
    "start_time": "2022-05-11T21:21:11.449Z"
   },
   {
    "duration": 52,
    "start_time": "2022-05-11T21:21:11.464Z"
   },
   {
    "duration": 14,
    "start_time": "2022-05-11T21:21:11.518Z"
   },
   {
    "duration": 4,
    "start_time": "2022-05-11T21:21:11.534Z"
   },
   {
    "duration": 9,
    "start_time": "2022-05-11T21:21:11.540Z"
   },
   {
    "duration": 10,
    "start_time": "2022-05-11T21:21:11.551Z"
   },
   {
    "duration": 49,
    "start_time": "2022-05-11T21:21:11.562Z"
   },
   {
    "duration": 10,
    "start_time": "2022-05-11T21:21:11.613Z"
   },
   {
    "duration": 12,
    "start_time": "2022-05-11T21:21:11.625Z"
   },
   {
    "duration": 186,
    "start_time": "2022-05-11T21:21:11.639Z"
   },
   {
    "duration": 8,
    "start_time": "2022-05-11T21:21:11.827Z"
   },
   {
    "duration": 257,
    "start_time": "2022-05-11T21:21:11.837Z"
   },
   {
    "duration": 18,
    "start_time": "2022-05-11T21:21:12.096Z"
   },
   {
    "duration": 272,
    "start_time": "2022-05-11T21:21:12.116Z"
   },
   {
    "duration": 19,
    "start_time": "2022-05-11T21:21:12.390Z"
   },
   {
    "duration": 9,
    "start_time": "2022-05-11T21:21:12.411Z"
   },
   {
    "duration": 152,
    "start_time": "2022-05-11T21:21:12.422Z"
   },
   {
    "duration": 10,
    "start_time": "2022-05-11T21:21:12.576Z"
   },
   {
    "duration": 20,
    "start_time": "2022-05-11T21:21:12.588Z"
   },
   {
    "duration": 147,
    "start_time": "2022-05-11T21:21:12.611Z"
   },
   {
    "duration": 9,
    "start_time": "2022-05-11T21:21:12.759Z"
   },
   {
    "duration": 295,
    "start_time": "2022-05-11T21:21:12.770Z"
   },
   {
    "duration": 10,
    "start_time": "2022-05-11T21:21:13.067Z"
   },
   {
    "duration": 31,
    "start_time": "2022-05-11T21:21:13.078Z"
   },
   {
    "duration": 15,
    "start_time": "2022-05-11T21:21:13.111Z"
   },
   {
    "duration": 15,
    "start_time": "2022-05-11T21:21:13.128Z"
   },
   {
    "duration": 12,
    "start_time": "2022-05-11T21:21:13.145Z"
   },
   {
    "duration": 178,
    "start_time": "2022-05-11T21:25:37.829Z"
   },
   {
    "duration": 176,
    "start_time": "2022-05-11T21:28:03.377Z"
   },
   {
    "duration": 260,
    "start_time": "2022-05-11T21:28:29.941Z"
   },
   {
    "duration": 194,
    "start_time": "2022-05-11T21:29:18.307Z"
   },
   {
    "duration": 177,
    "start_time": "2022-05-11T21:29:57.067Z"
   },
   {
    "duration": 146,
    "start_time": "2022-05-11T21:36:48.309Z"
   },
   {
    "duration": 150,
    "start_time": "2022-05-11T21:37:20.737Z"
   },
   {
    "duration": 144,
    "start_time": "2022-05-11T21:38:14.540Z"
   },
   {
    "duration": 168,
    "start_time": "2022-05-11T21:41:35.589Z"
   },
   {
    "duration": 160,
    "start_time": "2022-05-11T21:43:45.048Z"
   },
   {
    "duration": 156,
    "start_time": "2022-05-11T21:44:51.966Z"
   },
   {
    "duration": 153,
    "start_time": "2022-05-11T21:45:00.808Z"
   },
   {
    "duration": 409,
    "start_time": "2022-05-11T22:03:55.540Z"
   },
   {
    "duration": 83,
    "start_time": "2022-05-11T22:03:55.951Z"
   },
   {
    "duration": 38,
    "start_time": "2022-05-11T22:03:56.039Z"
   },
   {
    "duration": 37,
    "start_time": "2022-05-11T22:03:56.079Z"
   },
   {
    "duration": 9,
    "start_time": "2022-05-11T22:03:56.117Z"
   },
   {
    "duration": 48,
    "start_time": "2022-05-11T22:03:56.128Z"
   },
   {
    "duration": 186,
    "start_time": "2022-05-11T22:03:56.177Z"
   },
   {
    "duration": 3,
    "start_time": "2022-05-11T22:03:56.365Z"
   },
   {
    "duration": 643,
    "start_time": "2022-05-12T15:20:11.533Z"
   },
   {
    "duration": 180,
    "start_time": "2022-05-12T15:20:12.180Z"
   },
   {
    "duration": 69,
    "start_time": "2022-05-12T15:20:12.364Z"
   },
   {
    "duration": 24,
    "start_time": "2022-05-12T15:20:12.436Z"
   },
   {
    "duration": 28,
    "start_time": "2022-05-12T15:20:12.482Z"
   },
   {
    "duration": 129,
    "start_time": "2022-05-12T15:20:12.513Z"
   },
   {
    "duration": 500,
    "start_time": "2022-05-12T15:20:12.646Z"
   },
   {
    "duration": 6,
    "start_time": "2022-05-12T15:20:13.148Z"
   },
   {
    "duration": 11731,
    "start_time": "2022-05-12T15:20:13.157Z"
   },
   {
    "duration": 5,
    "start_time": "2022-05-12T15:20:24.893Z"
   },
   {
    "duration": 16,
    "start_time": "2022-05-12T15:20:24.900Z"
   },
   {
    "duration": 13,
    "start_time": "2022-05-12T15:20:24.919Z"
   },
   {
    "duration": 6,
    "start_time": "2022-05-12T15:20:24.936Z"
   },
   {
    "duration": 7,
    "start_time": "2022-05-12T15:20:24.945Z"
   },
   {
    "duration": 39,
    "start_time": "2022-05-12T15:20:24.954Z"
   },
   {
    "duration": 19,
    "start_time": "2022-05-12T15:20:24.996Z"
   },
   {
    "duration": 18,
    "start_time": "2022-05-12T15:20:25.017Z"
   },
   {
    "duration": 17,
    "start_time": "2022-05-12T15:20:25.038Z"
   },
   {
    "duration": 26,
    "start_time": "2022-05-12T15:20:25.058Z"
   },
   {
    "duration": 16,
    "start_time": "2022-05-12T15:20:25.087Z"
   },
   {
    "duration": 9,
    "start_time": "2022-05-12T15:20:25.109Z"
   },
   {
    "duration": 13,
    "start_time": "2022-05-12T15:20:25.121Z"
   },
   {
    "duration": 6,
    "start_time": "2022-05-12T15:20:25.137Z"
   },
   {
    "duration": 981,
    "start_time": "2022-05-12T15:20:25.146Z"
   },
   {
    "duration": 7,
    "start_time": "2022-05-12T15:20:26.131Z"
   },
   {
    "duration": 7,
    "start_time": "2022-05-12T15:20:26.140Z"
   },
   {
    "duration": 474,
    "start_time": "2022-05-12T15:20:26.150Z"
   },
   {
    "duration": 654,
    "start_time": "2022-05-12T15:20:26.636Z"
   },
   {
    "duration": 791,
    "start_time": "2022-05-12T15:20:27.293Z"
   },
   {
    "duration": 271,
    "start_time": "2022-05-12T15:20:28.088Z"
   },
   {
    "duration": 237,
    "start_time": "2022-05-12T15:20:28.361Z"
   },
   {
    "duration": 614,
    "start_time": "2022-05-12T15:20:28.602Z"
   },
   {
    "duration": 15,
    "start_time": "2022-05-12T15:20:29.219Z"
   },
   {
    "duration": 237,
    "start_time": "2022-05-12T15:20:29.237Z"
   },
   {
    "duration": 222,
    "start_time": "2022-05-12T15:20:29.477Z"
   },
   {
    "duration": 209,
    "start_time": "2022-05-12T15:20:29.703Z"
   },
   {
    "duration": 260,
    "start_time": "2022-05-12T15:20:29.915Z"
   },
   {
    "duration": 225,
    "start_time": "2022-05-12T15:20:30.177Z"
   },
   {
    "duration": 18,
    "start_time": "2022-05-12T15:20:30.405Z"
   },
   {
    "duration": 15,
    "start_time": "2022-05-12T15:20:30.426Z"
   },
   {
    "duration": 27,
    "start_time": "2022-05-12T15:20:30.444Z"
   },
   {
    "duration": 40,
    "start_time": "2022-05-12T15:20:30.481Z"
   },
   {
    "duration": 101,
    "start_time": "2022-05-12T15:20:30.523Z"
   },
   {
    "duration": 29,
    "start_time": "2022-05-12T15:20:30.626Z"
   },
   {
    "duration": 31,
    "start_time": "2022-05-12T15:20:30.658Z"
   },
   {
    "duration": 283,
    "start_time": "2022-05-12T15:20:30.692Z"
   },
   {
    "duration": 289,
    "start_time": "2022-05-12T15:20:30.982Z"
   },
   {
    "duration": 338,
    "start_time": "2022-05-12T15:20:31.285Z"
   },
   {
    "duration": 293,
    "start_time": "2022-05-12T15:20:31.626Z"
   },
   {
    "duration": 381,
    "start_time": "2022-05-12T15:20:31.922Z"
   },
   {
    "duration": 355,
    "start_time": "2022-05-12T15:20:32.306Z"
   },
   {
    "duration": 308,
    "start_time": "2022-05-12T15:20:32.665Z"
   },
   {
    "duration": 12,
    "start_time": "2022-05-12T15:20:32.977Z"
   },
   {
    "duration": 46,
    "start_time": "2022-05-12T15:20:32.992Z"
   },
   {
    "duration": 38,
    "start_time": "2022-05-12T15:20:33.042Z"
   },
   {
    "duration": 27,
    "start_time": "2022-05-12T15:20:33.089Z"
   },
   {
    "duration": 20,
    "start_time": "2022-05-12T15:20:33.120Z"
   },
   {
    "duration": 24,
    "start_time": "2022-05-12T15:20:33.143Z"
   },
   {
    "duration": 457,
    "start_time": "2022-05-12T15:20:33.186Z"
   },
   {
    "duration": 16,
    "start_time": "2022-05-12T15:20:33.646Z"
   },
   {
    "duration": 397,
    "start_time": "2022-05-12T15:20:33.665Z"
   },
   {
    "duration": 21,
    "start_time": "2022-05-12T15:20:34.066Z"
   },
   {
    "duration": 783,
    "start_time": "2022-05-12T15:20:34.091Z"
   },
   {
    "duration": 16,
    "start_time": "2022-05-12T15:20:34.881Z"
   },
   {
    "duration": 35,
    "start_time": "2022-05-12T15:20:34.901Z"
   },
   {
    "duration": 251,
    "start_time": "2022-05-12T15:20:34.939Z"
   },
   {
    "duration": 17,
    "start_time": "2022-05-12T15:20:35.193Z"
   },
   {
    "duration": 29,
    "start_time": "2022-05-12T15:20:35.213Z"
   },
   {
    "duration": 306,
    "start_time": "2022-05-12T15:20:35.246Z"
   },
   {
    "duration": 38,
    "start_time": "2022-05-12T15:20:35.555Z"
   },
   {
    "duration": 767,
    "start_time": "2022-05-12T15:20:35.596Z"
   },
   {
    "duration": 21,
    "start_time": "2022-05-12T15:20:36.366Z"
   },
   {
    "duration": 25,
    "start_time": "2022-05-12T15:20:36.390Z"
   },
   {
    "duration": 357,
    "start_time": "2022-05-12T15:20:36.418Z"
   },
   {
    "duration": 341,
    "start_time": "2022-05-12T15:20:36.781Z"
   },
   {
    "duration": 382,
    "start_time": "2022-05-12T15:20:37.124Z"
   },
   {
    "duration": 529,
    "start_time": "2022-05-12T15:22:13.423Z"
   },
   {
    "duration": 122,
    "start_time": "2022-05-12T15:22:13.955Z"
   },
   {
    "duration": 88,
    "start_time": "2022-05-12T15:22:14.080Z"
   },
   {
    "duration": 34,
    "start_time": "2022-05-12T15:22:14.172Z"
   },
   {
    "duration": 38,
    "start_time": "2022-05-12T15:22:14.209Z"
   },
   {
    "duration": 107,
    "start_time": "2022-05-12T15:22:14.251Z"
   },
   {
    "duration": 318,
    "start_time": "2022-05-12T15:22:14.370Z"
   },
   {
    "duration": 7,
    "start_time": "2022-05-12T15:22:14.692Z"
   },
   {
    "duration": 14673,
    "start_time": "2022-05-12T15:22:14.702Z"
   },
   {
    "duration": 8,
    "start_time": "2022-05-12T15:22:29.382Z"
   },
   {
    "duration": 8,
    "start_time": "2022-05-12T15:22:29.393Z"
   },
   {
    "duration": 22,
    "start_time": "2022-05-12T15:22:29.404Z"
   },
   {
    "duration": 6,
    "start_time": "2022-05-12T15:22:29.428Z"
   },
   {
    "duration": 8,
    "start_time": "2022-05-12T15:22:29.437Z"
   },
   {
    "duration": 12,
    "start_time": "2022-05-12T15:22:29.448Z"
   },
   {
    "duration": 13,
    "start_time": "2022-05-12T15:22:29.490Z"
   },
   {
    "duration": 18,
    "start_time": "2022-05-12T15:22:29.508Z"
   },
   {
    "duration": 16,
    "start_time": "2022-05-12T15:22:29.528Z"
   },
   {
    "duration": 6,
    "start_time": "2022-05-12T15:22:29.548Z"
   },
   {
    "duration": 32,
    "start_time": "2022-05-12T15:22:29.557Z"
   },
   {
    "duration": 19,
    "start_time": "2022-05-12T15:22:29.593Z"
   },
   {
    "duration": 8,
    "start_time": "2022-05-12T15:22:29.614Z"
   },
   {
    "duration": 5,
    "start_time": "2022-05-12T15:22:29.624Z"
   },
   {
    "duration": 769,
    "start_time": "2022-05-12T15:22:29.632Z"
   },
   {
    "duration": 6,
    "start_time": "2022-05-12T15:22:30.403Z"
   },
   {
    "duration": 60,
    "start_time": "2022-05-12T15:22:30.411Z"
   },
   {
    "duration": 399,
    "start_time": "2022-05-12T15:22:30.473Z"
   },
   {
    "duration": 628,
    "start_time": "2022-05-12T15:22:30.882Z"
   },
   {
    "duration": 572,
    "start_time": "2022-05-12T15:22:31.513Z"
   },
   {
    "duration": 339,
    "start_time": "2022-05-12T15:22:32.088Z"
   },
   {
    "duration": 368,
    "start_time": "2022-05-12T15:22:32.431Z"
   },
   {
    "duration": 602,
    "start_time": "2022-05-12T15:22:32.802Z"
   },
   {
    "duration": 16,
    "start_time": "2022-05-12T15:22:33.407Z"
   },
   {
    "duration": 233,
    "start_time": "2022-05-12T15:22:33.426Z"
   },
   {
    "duration": 222,
    "start_time": "2022-05-12T15:22:33.662Z"
   },
   {
    "duration": 207,
    "start_time": "2022-05-12T15:22:33.886Z"
   },
   {
    "duration": 234,
    "start_time": "2022-05-12T15:22:34.095Z"
   },
   {
    "duration": 280,
    "start_time": "2022-05-12T15:22:34.331Z"
   },
   {
    "duration": 22,
    "start_time": "2022-05-12T15:22:34.614Z"
   },
   {
    "duration": 43,
    "start_time": "2022-05-12T15:22:34.639Z"
   },
   {
    "duration": 17,
    "start_time": "2022-05-12T15:22:34.691Z"
   },
   {
    "duration": 21,
    "start_time": "2022-05-12T15:22:34.711Z"
   },
   {
    "duration": 148,
    "start_time": "2022-05-12T15:22:34.735Z"
   },
   {
    "duration": 28,
    "start_time": "2022-05-12T15:22:34.886Z"
   },
   {
    "duration": 21,
    "start_time": "2022-05-12T15:22:34.917Z"
   },
   {
    "duration": 407,
    "start_time": "2022-05-12T15:22:34.940Z"
   },
   {
    "duration": 407,
    "start_time": "2022-05-12T15:22:35.351Z"
   },
   {
    "duration": 346,
    "start_time": "2022-05-12T15:22:35.761Z"
   },
   {
    "duration": 278,
    "start_time": "2022-05-12T15:22:36.110Z"
   },
   {
    "duration": 244,
    "start_time": "2022-05-12T15:22:36.391Z"
   },
   {
    "duration": 238,
    "start_time": "2022-05-12T15:22:36.637Z"
   },
   {
    "duration": 255,
    "start_time": "2022-05-12T15:22:36.886Z"
   },
   {
    "duration": 5,
    "start_time": "2022-05-12T15:22:37.144Z"
   },
   {
    "duration": 36,
    "start_time": "2022-05-12T15:22:37.152Z"
   },
   {
    "duration": 20,
    "start_time": "2022-05-12T15:22:37.190Z"
   },
   {
    "duration": 22,
    "start_time": "2022-05-12T15:22:37.213Z"
   },
   {
    "duration": 12,
    "start_time": "2022-05-12T15:22:37.238Z"
   },
   {
    "duration": 40,
    "start_time": "2022-05-12T15:22:37.253Z"
   },
   {
    "duration": 365,
    "start_time": "2022-05-12T15:22:37.297Z"
   },
   {
    "duration": 25,
    "start_time": "2022-05-12T15:22:37.665Z"
   },
   {
    "duration": 403,
    "start_time": "2022-05-12T15:22:37.692Z"
   },
   {
    "duration": 13,
    "start_time": "2022-05-12T15:22:38.098Z"
   },
   {
    "duration": 513,
    "start_time": "2022-05-12T15:22:38.113Z"
   },
   {
    "duration": 12,
    "start_time": "2022-05-12T15:22:38.628Z"
   },
   {
    "duration": 14,
    "start_time": "2022-05-12T15:22:38.643Z"
   },
   {
    "duration": 243,
    "start_time": "2022-05-12T15:22:38.683Z"
   },
   {
    "duration": 12,
    "start_time": "2022-05-12T15:22:38.928Z"
   },
   {
    "duration": 16,
    "start_time": "2022-05-12T15:22:38.942Z"
   },
   {
    "duration": 223,
    "start_time": "2022-05-12T15:22:38.982Z"
   },
   {
    "duration": 12,
    "start_time": "2022-05-12T15:22:39.214Z"
   },
   {
    "duration": 440,
    "start_time": "2022-05-12T15:22:39.229Z"
   },
   {
    "duration": 23,
    "start_time": "2022-05-12T15:22:39.672Z"
   },
   {
    "duration": 31,
    "start_time": "2022-05-12T15:22:39.698Z"
   },
   {
    "duration": 237,
    "start_time": "2022-05-12T15:22:39.731Z"
   },
   {
    "duration": 249,
    "start_time": "2022-05-12T15:22:39.970Z"
   },
   {
    "duration": 353,
    "start_time": "2022-05-12T15:22:40.221Z"
   },
   {
    "duration": 22,
    "start_time": "2022-05-12T15:24:46.694Z"
   },
   {
    "duration": 14,
    "start_time": "2022-05-12T15:25:20.041Z"
   },
   {
    "duration": 20,
    "start_time": "2022-05-12T15:25:20.689Z"
   },
   {
    "duration": 14,
    "start_time": "2022-05-12T15:25:21.004Z"
   },
   {
    "duration": 21,
    "start_time": "2022-05-12T15:25:21.522Z"
   },
   {
    "duration": 393,
    "start_time": "2022-05-13T11:10:11.547Z"
   },
   {
    "duration": 86,
    "start_time": "2022-05-13T11:10:11.942Z"
   },
   {
    "duration": 31,
    "start_time": "2022-05-13T11:10:12.030Z"
   },
   {
    "duration": 13,
    "start_time": "2022-05-13T11:10:12.063Z"
   },
   {
    "duration": 27,
    "start_time": "2022-05-13T11:10:12.077Z"
   },
   {
    "duration": 47,
    "start_time": "2022-05-13T11:10:12.106Z"
   },
   {
    "duration": 169,
    "start_time": "2022-05-13T11:10:12.155Z"
   },
   {
    "duration": 4,
    "start_time": "2022-05-13T11:10:12.325Z"
   },
   {
    "duration": 5840,
    "start_time": "2022-05-13T11:10:12.330Z"
   },
   {
    "duration": 4,
    "start_time": "2022-05-13T11:10:18.173Z"
   },
   {
    "duration": 7,
    "start_time": "2022-05-13T11:10:18.178Z"
   },
   {
    "duration": 13,
    "start_time": "2022-05-13T11:10:18.187Z"
   },
   {
    "duration": 16,
    "start_time": "2022-05-13T11:10:18.202Z"
   },
   {
    "duration": 6,
    "start_time": "2022-05-13T11:10:18.220Z"
   },
   {
    "duration": 11,
    "start_time": "2022-05-13T11:10:18.227Z"
   },
   {
    "duration": 5,
    "start_time": "2022-05-13T11:10:18.239Z"
   },
   {
    "duration": 9,
    "start_time": "2022-05-13T11:10:18.246Z"
   },
   {
    "duration": 10,
    "start_time": "2022-05-13T11:10:18.256Z"
   },
   {
    "duration": 3,
    "start_time": "2022-05-13T11:10:18.268Z"
   },
   {
    "duration": 8,
    "start_time": "2022-05-13T11:10:18.273Z"
   },
   {
    "duration": 25,
    "start_time": "2022-05-13T11:10:18.282Z"
   },
   {
    "duration": 6,
    "start_time": "2022-05-13T11:10:18.313Z"
   },
   {
    "duration": 3,
    "start_time": "2022-05-13T11:10:18.320Z"
   },
   {
    "duration": 396,
    "start_time": "2022-05-13T11:10:18.325Z"
   },
   {
    "duration": 4,
    "start_time": "2022-05-13T11:10:18.723Z"
   },
   {
    "duration": 8,
    "start_time": "2022-05-13T11:10:18.728Z"
   },
   {
    "duration": 410,
    "start_time": "2022-05-13T11:10:18.737Z"
   },
   {
    "duration": 320,
    "start_time": "2022-05-13T11:10:19.152Z"
   },
   {
    "duration": 237,
    "start_time": "2022-05-13T11:10:19.473Z"
   },
   {
    "duration": 133,
    "start_time": "2022-05-13T11:10:19.713Z"
   },
   {
    "duration": 131,
    "start_time": "2022-05-13T11:10:19.847Z"
   },
   {
    "duration": 244,
    "start_time": "2022-05-13T11:10:19.979Z"
   },
   {
    "duration": 10,
    "start_time": "2022-05-13T11:10:20.224Z"
   },
   {
    "duration": 121,
    "start_time": "2022-05-13T11:10:20.235Z"
   },
   {
    "duration": 124,
    "start_time": "2022-05-13T11:10:20.358Z"
   },
   {
    "duration": 125,
    "start_time": "2022-05-13T11:10:20.483Z"
   },
   {
    "duration": 110,
    "start_time": "2022-05-13T11:10:20.609Z"
   },
   {
    "duration": 165,
    "start_time": "2022-05-13T11:10:20.721Z"
   },
   {
    "duration": 24,
    "start_time": "2022-05-13T11:10:20.887Z"
   },
   {
    "duration": 10,
    "start_time": "2022-05-13T11:10:20.913Z"
   },
   {
    "duration": 11,
    "start_time": "2022-05-13T11:10:20.924Z"
   },
   {
    "duration": 13,
    "start_time": "2022-05-13T11:10:20.936Z"
   },
   {
    "duration": 12,
    "start_time": "2022-05-13T11:10:20.950Z"
   },
   {
    "duration": 166,
    "start_time": "2022-05-13T11:10:20.963Z"
   },
   {
    "duration": 160,
    "start_time": "2022-05-13T11:10:21.130Z"
   },
   {
    "duration": 168,
    "start_time": "2022-05-13T11:10:21.291Z"
   },
   {
    "duration": 122,
    "start_time": "2022-05-13T11:10:21.461Z"
   },
   {
    "duration": 138,
    "start_time": "2022-05-13T11:10:21.585Z"
   },
   {
    "duration": 134,
    "start_time": "2022-05-13T11:10:21.724Z"
   },
   {
    "duration": 125,
    "start_time": "2022-05-13T11:10:21.860Z"
   },
   {
    "duration": 5,
    "start_time": "2022-05-13T11:10:21.987Z"
   },
   {
    "duration": 9,
    "start_time": "2022-05-13T11:10:22.000Z"
   },
   {
    "duration": 20,
    "start_time": "2022-05-13T11:10:22.011Z"
   },
   {
    "duration": 14,
    "start_time": "2022-05-13T11:10:22.033Z"
   },
   {
    "duration": 19,
    "start_time": "2022-05-13T11:10:22.049Z"
   },
   {
    "duration": 11,
    "start_time": "2022-05-13T11:10:22.070Z"
   },
   {
    "duration": 137,
    "start_time": "2022-05-13T11:10:22.082Z"
   },
   {
    "duration": 7,
    "start_time": "2022-05-13T11:10:22.221Z"
   },
   {
    "duration": 231,
    "start_time": "2022-05-13T11:10:22.230Z"
   },
   {
    "duration": 7,
    "start_time": "2022-05-13T11:10:22.463Z"
   },
   {
    "duration": 291,
    "start_time": "2022-05-13T11:10:22.472Z"
   },
   {
    "duration": 7,
    "start_time": "2022-05-13T11:10:22.765Z"
   },
   {
    "duration": 8,
    "start_time": "2022-05-13T11:10:22.773Z"
   },
   {
    "duration": 134,
    "start_time": "2022-05-13T11:10:22.782Z"
   },
   {
    "duration": 7,
    "start_time": "2022-05-13T11:10:22.918Z"
   },
   {
    "duration": 9,
    "start_time": "2022-05-13T11:10:22.926Z"
   },
   {
    "duration": 136,
    "start_time": "2022-05-13T11:10:22.937Z"
   },
   {
    "duration": 8,
    "start_time": "2022-05-13T11:10:23.074Z"
   },
   {
    "duration": 232,
    "start_time": "2022-05-13T11:10:23.083Z"
   },
   {
    "duration": 8,
    "start_time": "2022-05-13T11:10:23.317Z"
   },
   {
    "duration": 8,
    "start_time": "2022-05-13T11:10:23.326Z"
   },
   {
    "duration": 150,
    "start_time": "2022-05-13T11:10:23.335Z"
   },
   {
    "duration": 132,
    "start_time": "2022-05-13T11:10:23.486Z"
   },
   {
    "duration": 125,
    "start_time": "2022-05-13T11:10:23.620Z"
   },
   {
    "duration": 430,
    "start_time": "2022-05-13T11:11:07.395Z"
   },
   {
    "duration": 79,
    "start_time": "2022-05-13T11:11:07.827Z"
   },
   {
    "duration": 31,
    "start_time": "2022-05-13T11:11:07.908Z"
   },
   {
    "duration": 13,
    "start_time": "2022-05-13T11:11:07.941Z"
   },
   {
    "duration": 7,
    "start_time": "2022-05-13T11:11:07.956Z"
   },
   {
    "duration": 57,
    "start_time": "2022-05-13T11:11:07.965Z"
   },
   {
    "duration": 150,
    "start_time": "2022-05-13T11:11:08.024Z"
   },
   {
    "duration": 3,
    "start_time": "2022-05-13T11:11:08.176Z"
   },
   {
    "duration": 5623,
    "start_time": "2022-05-13T11:11:08.180Z"
   },
   {
    "duration": 3,
    "start_time": "2022-05-13T11:11:13.806Z"
   },
   {
    "duration": 6,
    "start_time": "2022-05-13T11:11:13.810Z"
   },
   {
    "duration": 5,
    "start_time": "2022-05-13T11:11:13.818Z"
   },
   {
    "duration": 5,
    "start_time": "2022-05-13T11:11:13.824Z"
   },
   {
    "duration": 5,
    "start_time": "2022-05-13T11:11:13.830Z"
   },
   {
    "duration": 6,
    "start_time": "2022-05-13T11:11:13.836Z"
   },
   {
    "duration": 4,
    "start_time": "2022-05-13T11:11:13.844Z"
   },
   {
    "duration": 10,
    "start_time": "2022-05-13T11:11:13.849Z"
   },
   {
    "duration": 9,
    "start_time": "2022-05-13T11:11:13.860Z"
   },
   {
    "duration": 3,
    "start_time": "2022-05-13T11:11:13.870Z"
   },
   {
    "duration": 6,
    "start_time": "2022-05-13T11:11:13.900Z"
   },
   {
    "duration": 5,
    "start_time": "2022-05-13T11:11:13.907Z"
   },
   {
    "duration": 5,
    "start_time": "2022-05-13T11:11:13.914Z"
   },
   {
    "duration": 4,
    "start_time": "2022-05-13T11:11:13.921Z"
   },
   {
    "duration": 370,
    "start_time": "2022-05-13T11:11:13.926Z"
   },
   {
    "duration": 5,
    "start_time": "2022-05-13T11:11:14.297Z"
   },
   {
    "duration": 7,
    "start_time": "2022-05-13T11:11:14.303Z"
   },
   {
    "duration": 251,
    "start_time": "2022-05-13T11:11:14.312Z"
   },
   {
    "duration": 221,
    "start_time": "2022-05-13T11:11:14.567Z"
   },
   {
    "duration": 278,
    "start_time": "2022-05-13T11:11:14.790Z"
   },
   {
    "duration": 139,
    "start_time": "2022-05-13T11:11:15.069Z"
   },
   {
    "duration": 118,
    "start_time": "2022-05-13T11:11:15.209Z"
   },
   {
    "duration": 206,
    "start_time": "2022-05-13T11:11:15.328Z"
   },
   {
    "duration": 10,
    "start_time": "2022-05-13T11:11:15.535Z"
   },
   {
    "duration": 116,
    "start_time": "2022-05-13T11:11:15.546Z"
   },
   {
    "duration": 122,
    "start_time": "2022-05-13T11:11:15.664Z"
   },
   {
    "duration": 112,
    "start_time": "2022-05-13T11:11:15.788Z"
   },
   {
    "duration": 100,
    "start_time": "2022-05-13T11:11:15.902Z"
   },
   {
    "duration": 105,
    "start_time": "2022-05-13T11:11:16.004Z"
   },
   {
    "duration": 13,
    "start_time": "2022-05-13T11:11:16.110Z"
   },
   {
    "duration": 11,
    "start_time": "2022-05-13T11:11:16.124Z"
   },
   {
    "duration": 8,
    "start_time": "2022-05-13T11:11:16.136Z"
   },
   {
    "duration": 98,
    "start_time": "2022-05-13T11:11:16.146Z"
   },
   {
    "duration": 13,
    "start_time": "2022-05-13T11:11:16.246Z"
   },
   {
    "duration": 167,
    "start_time": "2022-05-13T11:11:16.260Z"
   },
   {
    "duration": 157,
    "start_time": "2022-05-13T11:11:16.429Z"
   },
   {
    "duration": 168,
    "start_time": "2022-05-13T11:11:16.588Z"
   },
   {
    "duration": 119,
    "start_time": "2022-05-13T11:11:16.758Z"
   },
   {
    "duration": 136,
    "start_time": "2022-05-13T11:11:16.878Z"
   },
   {
    "duration": 121,
    "start_time": "2022-05-13T11:11:17.015Z"
   },
   {
    "duration": 128,
    "start_time": "2022-05-13T11:11:17.138Z"
   },
   {
    "duration": 4,
    "start_time": "2022-05-13T11:11:17.268Z"
   },
   {
    "duration": 10,
    "start_time": "2022-05-13T11:11:17.274Z"
   },
   {
    "duration": 25,
    "start_time": "2022-05-13T11:11:17.285Z"
   },
   {
    "duration": 12,
    "start_time": "2022-05-13T11:11:17.312Z"
   },
   {
    "duration": 8,
    "start_time": "2022-05-13T11:11:17.326Z"
   },
   {
    "duration": 11,
    "start_time": "2022-05-13T11:11:17.335Z"
   },
   {
    "duration": 152,
    "start_time": "2022-05-13T11:11:17.348Z"
   },
   {
    "duration": 7,
    "start_time": "2022-05-13T11:11:17.502Z"
   },
   {
    "duration": 215,
    "start_time": "2022-05-13T11:11:17.510Z"
   },
   {
    "duration": 8,
    "start_time": "2022-05-13T11:11:17.726Z"
   },
   {
    "duration": 296,
    "start_time": "2022-05-13T11:11:17.735Z"
   },
   {
    "duration": 8,
    "start_time": "2022-05-13T11:11:18.033Z"
   },
   {
    "duration": 9,
    "start_time": "2022-05-13T11:11:18.042Z"
   },
   {
    "duration": 121,
    "start_time": "2022-05-13T11:11:18.052Z"
   },
   {
    "duration": 9,
    "start_time": "2022-05-13T11:11:18.174Z"
   },
   {
    "duration": 23,
    "start_time": "2022-05-13T11:11:18.184Z"
   },
   {
    "duration": 124,
    "start_time": "2022-05-13T11:11:18.209Z"
   },
   {
    "duration": 8,
    "start_time": "2022-05-13T11:11:18.336Z"
   },
   {
    "duration": 220,
    "start_time": "2022-05-13T11:11:18.346Z"
   },
   {
    "duration": 8,
    "start_time": "2022-05-13T11:11:18.568Z"
   },
   {
    "duration": 23,
    "start_time": "2022-05-13T11:11:18.577Z"
   },
   {
    "duration": 126,
    "start_time": "2022-05-13T11:11:18.601Z"
   },
   {
    "duration": 126,
    "start_time": "2022-05-13T11:11:18.729Z"
   },
   {
    "duration": 132,
    "start_time": "2022-05-13T11:11:18.857Z"
   }
  ],
  "kernelspec": {
   "display_name": "Python 3 (ipykernel)",
   "language": "python",
   "name": "python3"
  },
  "language_info": {
   "codemirror_mode": {
    "name": "ipython",
    "version": 3
   },
   "file_extension": ".py",
   "mimetype": "text/x-python",
   "name": "python",
   "nbconvert_exporter": "python",
   "pygments_lexer": "ipython3",
   "version": "3.9.12"
  },
  "toc": {
   "base_numbering": 1,
   "nav_menu": {},
   "number_sections": true,
   "sideBar": true,
   "skip_h1_title": true,
   "title_cell": "Содержание",
   "title_sidebar": "Contents",
   "toc_cell": true,
   "toc_position": {},
   "toc_section_display": true,
   "toc_window_display": true
  }
 },
 "nbformat": 4,
 "nbformat_minor": 4
}
