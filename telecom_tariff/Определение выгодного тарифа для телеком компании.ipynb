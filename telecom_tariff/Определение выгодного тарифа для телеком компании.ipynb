{
 "cells": [
  {
   "cell_type": "markdown",
   "metadata": {},
   "source": [
    "# Определение выгодного тарифа для телеком компании.\n",
    "\n",
    "В вашем распоряжении данные компании «Мегалайн» — федерального оператора сотовой связи. Клиентам предлагают два тарифных плана: «Смарт» и «Ультра». Чтобы скорректировать рекламный бюджет, коммерческий департамент хочет понять, какой тариф приносит больше денег. В нашем распоряжении данные 500 пользователей «Мегалайна»: кто они, откуда, каким тарифом пользуются, сколько звонков и сообщений каждый отправил за 2018 год. Нужно проанализировать поведение клиентов и сделать вывод — какой тариф лучше."
   ]
  },
  {
   "cell_type": "markdown",
   "metadata": {},
   "source": [
    "**Цель исследования**:\n",
    "1. Выявить тариф, который приносит больше денег.\n",
    "\n",
    "**Ход исследования**\n",
    "\n",
    "Проведем предобработку данных. Проверим данные на ошибки и оценим их влияние на исследование. Затем, на этапе предобработки выявим возможность исправить самые критичные ошибки данных.\n",
    "\n",
    "Далее проведем предварительный анализ использования тарифов на выборке клиентов. Проанализируем поведение клиентов при использовании услуг оператора. Затем напишем рекомендации по оптимальным наборам услуг для пользователей.\n",
    "\n",
    "Проверим гипотезы о различии выручки абонентов разных тарифов и различии выручки абонентов из Москвы и других регионов.\n",
    "\n",
    "В конце напишем общий вывод.\n",
    "\n",
    "Таким образом, исследование пройдёт в несколько этапов:\n",
    " 1. Изучение общей информации.\n",
    " 2. Подготовка данных.\n",
    " 3. Анализ данных.\n",
    " 4. Определение портрета пользователя каждого региона. \n",
    " 5. Общий вывод."
   ]
  },
  {
   "cell_type": "markdown",
   "metadata": {},
   "source": [
    "**Описание тарифов**\n",
    "\n",
    "**Тариф «Смарт»**\n",
    "\n",
    "* Ежемесячная плата: 550 рублей\n",
    "* Включено 500 минут разговора, 50 сообщений и 15 Гб интернет-трафика\n",
    "* Стоимость услуг сверх тарифного пакета:\n",
    "    * минута разговора: 3 рубля\n",
    "    * сообщение: 3 рубля\n",
    "    * 1 Гб интернет-трафика: 200 рублей\n",
    "    \n",
    "**Тариф «Ультра»**\n",
    "\n",
    "* Ежемесячная плата: 1950 рублей\n",
    "* Включено 3000 минут разговора, 1000 сообщений и 30 Гб интернет-трафика\n",
    "* Стоимость услуг сверх тарифного пакета:\n",
    "    * минута разговора: 1 рубль\n",
    "    * сообщение: 1 рубль\n",
    "    * 1 Гб интернет-трафика: 150 рублей"
   ]
  },
  {
   "cell_type": "markdown",
   "metadata": {},
   "source": [
    "### Определение выгодного тарифа для телеком компании.\n",
    "_____\n",
    "\n",
    "###### Данное исследование разделим на несколько частей.\n",
    "\n",
    "#### Часть 1. Изучение данных из файла:\n",
    "* [1. Изучение файлов с данными, получение общей информации, загрузка библиотек.](#1-bullet)\n",
    "#### Часть 2. Предобработка данных:\n",
    "* [1. Пропуски значений.](#2-bullet)\n",
    "* [2. Нахождение и исправление аномалий и ошибок.](#3-bullet)\n",
    "#### Часть 3. Анализ данных:\n",
    "* [1. Расчет помесячных расходов каждого пользователя.](#4-bullet)\n",
    "* [2. Расчет помесячной выручки с каждого пользователя.](#5-bullet)\n",
    "* [3. Расчет потребляемого количества минут, сообщений и интернет-трафика пользователями каждого тарифа в месяц.](#6-bullet)\n",
    "#### Часть 4. Проверка гипотез:\n",
    "##### Итоги исследования"
   ]
  },
  {
   "cell_type": "markdown",
   "metadata": {},
   "source": [
    "## Изучение данных из файла"
   ]
  },
  {
   "cell_type": "markdown",
   "metadata": {},
   "source": [
    "<a id='1-bullet'></a>\n",
    "### Изучение файлов с данными, получение общей информации, загрузка библиотек."
   ]
  },
  {
   "cell_type": "code",
   "execution_count": 1,
   "metadata": {},
   "outputs": [],
   "source": [
    "import pandas as pd # импорт библиотеки pandas\n",
    "import math #импорт библиотеки math\n",
    "from scipy import stats as st #импорт библиотеки stats\n",
    "import matplotlib.pyplot as plt #импорт библиотеки matplotlib.pyplot"
   ]
  },
  {
   "cell_type": "markdown",
   "metadata": {},
   "source": [
    "Прочитаем файлы  из папки /datasets и сохраним их в следующих переменных:\n",
    "\n",
    "* `D:\\\\Programs\\\\calls.csv` - `df_calls`\n",
    "* `D:\\\\Programs\\\\internet.csv` - `df_internet`\n",
    "* `D:\\\\Programs\\\\messages.csv` - `df_messages`\n",
    "* `D:\\\\Programs\\\\tariffs.csv` - `df_tariffs`\n",
    "* `D:\\\\Programs\\\\users.csv` - `df_users`"
   ]
  },
  {
   "cell_type": "code",
   "execution_count": 2,
   "metadata": {},
   "outputs": [
    {
     "data": {
      "text/html": [
       "<div>\n",
       "<style scoped>\n",
       "    .dataframe tbody tr th:only-of-type {\n",
       "        vertical-align: middle;\n",
       "    }\n",
       "\n",
       "    .dataframe tbody tr th {\n",
       "        vertical-align: top;\n",
       "    }\n",
       "\n",
       "    .dataframe thead th {\n",
       "        text-align: right;\n",
       "    }\n",
       "</style>\n",
       "<table border=\"1\" class=\"dataframe\">\n",
       "  <thead>\n",
       "    <tr style=\"text-align: right;\">\n",
       "      <th></th>\n",
       "      <th>id</th>\n",
       "      <th>call_date</th>\n",
       "      <th>duration</th>\n",
       "      <th>user_id</th>\n",
       "    </tr>\n",
       "  </thead>\n",
       "  <tbody>\n",
       "    <tr>\n",
       "      <th>0</th>\n",
       "      <td>1000_0</td>\n",
       "      <td>2018-07-25</td>\n",
       "      <td>0.00</td>\n",
       "      <td>1000</td>\n",
       "    </tr>\n",
       "    <tr>\n",
       "      <th>1</th>\n",
       "      <td>1000_1</td>\n",
       "      <td>2018-08-17</td>\n",
       "      <td>0.00</td>\n",
       "      <td>1000</td>\n",
       "    </tr>\n",
       "    <tr>\n",
       "      <th>2</th>\n",
       "      <td>1000_2</td>\n",
       "      <td>2018-06-11</td>\n",
       "      <td>2.85</td>\n",
       "      <td>1000</td>\n",
       "    </tr>\n",
       "    <tr>\n",
       "      <th>3</th>\n",
       "      <td>1000_3</td>\n",
       "      <td>2018-09-21</td>\n",
       "      <td>13.80</td>\n",
       "      <td>1000</td>\n",
       "    </tr>\n",
       "    <tr>\n",
       "      <th>4</th>\n",
       "      <td>1000_4</td>\n",
       "      <td>2018-12-15</td>\n",
       "      <td>5.18</td>\n",
       "      <td>1000</td>\n",
       "    </tr>\n",
       "    <tr>\n",
       "      <th>5</th>\n",
       "      <td>1000_5</td>\n",
       "      <td>2018-11-02</td>\n",
       "      <td>0.00</td>\n",
       "      <td>1000</td>\n",
       "    </tr>\n",
       "    <tr>\n",
       "      <th>6</th>\n",
       "      <td>1000_6</td>\n",
       "      <td>2018-10-18</td>\n",
       "      <td>0.00</td>\n",
       "      <td>1000</td>\n",
       "    </tr>\n",
       "    <tr>\n",
       "      <th>7</th>\n",
       "      <td>1000_7</td>\n",
       "      <td>2018-08-22</td>\n",
       "      <td>18.31</td>\n",
       "      <td>1000</td>\n",
       "    </tr>\n",
       "    <tr>\n",
       "      <th>8</th>\n",
       "      <td>1000_8</td>\n",
       "      <td>2018-09-15</td>\n",
       "      <td>18.44</td>\n",
       "      <td>1000</td>\n",
       "    </tr>\n",
       "    <tr>\n",
       "      <th>9</th>\n",
       "      <td>1000_9</td>\n",
       "      <td>2018-08-15</td>\n",
       "      <td>0.00</td>\n",
       "      <td>1000</td>\n",
       "    </tr>\n",
       "  </tbody>\n",
       "</table>\n",
       "</div>"
      ],
      "text/plain": [
       "       id  call_date  duration  user_id\n",
       "0  1000_0 2018-07-25      0.00     1000\n",
       "1  1000_1 2018-08-17      0.00     1000\n",
       "2  1000_2 2018-06-11      2.85     1000\n",
       "3  1000_3 2018-09-21     13.80     1000\n",
       "4  1000_4 2018-12-15      5.18     1000\n",
       "5  1000_5 2018-11-02      0.00     1000\n",
       "6  1000_6 2018-10-18      0.00     1000\n",
       "7  1000_7 2018-08-22     18.31     1000\n",
       "8  1000_8 2018-09-15     18.44     1000\n",
       "9  1000_9 2018-08-15      0.00     1000"
      ]
     },
     "execution_count": 2,
     "metadata": {},
     "output_type": "execute_result"
    }
   ],
   "source": [
    "df_calls = pd.read_csv(\"D:\\\\Programs\\\\calls.csv\", parse_dates=['call_date'])\n",
    "df_calls.head(10)"
   ]
  },
  {
   "cell_type": "code",
   "execution_count": 3,
   "metadata": {},
   "outputs": [
    {
     "name": "stdout",
     "output_type": "stream",
     "text": [
      "<class 'pandas.core.frame.DataFrame'>\n",
      "RangeIndex: 202607 entries, 0 to 202606\n",
      "Data columns (total 4 columns):\n",
      " #   Column     Non-Null Count   Dtype         \n",
      "---  ------     --------------   -----         \n",
      " 0   id         202607 non-null  object        \n",
      " 1   call_date  202607 non-null  datetime64[ns]\n",
      " 2   duration   202607 non-null  float64       \n",
      " 3   user_id    202607 non-null  int64         \n",
      "dtypes: datetime64[ns](1), float64(1), int64(1), object(1)\n",
      "memory usage: 6.2+ MB\n"
     ]
    }
   ],
   "source": [
    "df_calls.info()"
   ]
  },
  {
   "cell_type": "markdown",
   "metadata": {},
   "source": [
    "В таблице 4 столбца. Тип данных в столбцах — `object`, `int64`, `float64`. \n",
    "\n",
    "Согласно документации к данным:\n",
    "* `id`  — уникальный номер звонка\n",
    "* `call_date` — дата звонка\n",
    "* `duration` — длительность звонка в минутах\n",
    "* `user_id` — идентификатор пользователя, сделавшего звонок"
   ]
  },
  {
   "cell_type": "code",
   "execution_count": 4,
   "metadata": {},
   "outputs": [
    {
     "data": {
      "text/html": [
       "<div>\n",
       "<style scoped>\n",
       "    .dataframe tbody tr th:only-of-type {\n",
       "        vertical-align: middle;\n",
       "    }\n",
       "\n",
       "    .dataframe tbody tr th {\n",
       "        vertical-align: top;\n",
       "    }\n",
       "\n",
       "    .dataframe thead th {\n",
       "        text-align: right;\n",
       "    }\n",
       "</style>\n",
       "<table border=\"1\" class=\"dataframe\">\n",
       "  <thead>\n",
       "    <tr style=\"text-align: right;\">\n",
       "      <th></th>\n",
       "      <th>id</th>\n",
       "      <th>mb_used</th>\n",
       "      <th>session_date</th>\n",
       "      <th>user_id</th>\n",
       "    </tr>\n",
       "    <tr>\n",
       "      <th>Unnamed: 0</th>\n",
       "      <th></th>\n",
       "      <th></th>\n",
       "      <th></th>\n",
       "      <th></th>\n",
       "    </tr>\n",
       "  </thead>\n",
       "  <tbody>\n",
       "    <tr>\n",
       "      <th>0</th>\n",
       "      <td>1000_0</td>\n",
       "      <td>112.95</td>\n",
       "      <td>2018-11-25</td>\n",
       "      <td>1000</td>\n",
       "    </tr>\n",
       "    <tr>\n",
       "      <th>1</th>\n",
       "      <td>1000_1</td>\n",
       "      <td>1052.81</td>\n",
       "      <td>2018-09-07</td>\n",
       "      <td>1000</td>\n",
       "    </tr>\n",
       "    <tr>\n",
       "      <th>2</th>\n",
       "      <td>1000_2</td>\n",
       "      <td>1197.26</td>\n",
       "      <td>2018-06-25</td>\n",
       "      <td>1000</td>\n",
       "    </tr>\n",
       "    <tr>\n",
       "      <th>3</th>\n",
       "      <td>1000_3</td>\n",
       "      <td>550.27</td>\n",
       "      <td>2018-08-22</td>\n",
       "      <td>1000</td>\n",
       "    </tr>\n",
       "    <tr>\n",
       "      <th>4</th>\n",
       "      <td>1000_4</td>\n",
       "      <td>302.56</td>\n",
       "      <td>2018-09-24</td>\n",
       "      <td>1000</td>\n",
       "    </tr>\n",
       "    <tr>\n",
       "      <th>5</th>\n",
       "      <td>1000_5</td>\n",
       "      <td>399.97</td>\n",
       "      <td>2018-10-02</td>\n",
       "      <td>1000</td>\n",
       "    </tr>\n",
       "    <tr>\n",
       "      <th>6</th>\n",
       "      <td>1000_6</td>\n",
       "      <td>540.08</td>\n",
       "      <td>2018-09-07</td>\n",
       "      <td>1000</td>\n",
       "    </tr>\n",
       "    <tr>\n",
       "      <th>7</th>\n",
       "      <td>1000_7</td>\n",
       "      <td>415.70</td>\n",
       "      <td>2018-07-11</td>\n",
       "      <td>1000</td>\n",
       "    </tr>\n",
       "    <tr>\n",
       "      <th>8</th>\n",
       "      <td>1000_8</td>\n",
       "      <td>505.40</td>\n",
       "      <td>2018-10-08</td>\n",
       "      <td>1000</td>\n",
       "    </tr>\n",
       "    <tr>\n",
       "      <th>9</th>\n",
       "      <td>1000_9</td>\n",
       "      <td>345.54</td>\n",
       "      <td>2018-09-03</td>\n",
       "      <td>1000</td>\n",
       "    </tr>\n",
       "  </tbody>\n",
       "</table>\n",
       "</div>"
      ],
      "text/plain": [
       "                id  mb_used session_date  user_id\n",
       "Unnamed: 0                                       \n",
       "0           1000_0   112.95   2018-11-25     1000\n",
       "1           1000_1  1052.81   2018-09-07     1000\n",
       "2           1000_2  1197.26   2018-06-25     1000\n",
       "3           1000_3   550.27   2018-08-22     1000\n",
       "4           1000_4   302.56   2018-09-24     1000\n",
       "5           1000_5   399.97   2018-10-02     1000\n",
       "6           1000_6   540.08   2018-09-07     1000\n",
       "7           1000_7   415.70   2018-07-11     1000\n",
       "8           1000_8   505.40   2018-10-08     1000\n",
       "9           1000_9   345.54   2018-09-03     1000"
      ]
     },
     "execution_count": 4,
     "metadata": {},
     "output_type": "execute_result"
    }
   ],
   "source": [
    "df_internet = pd.read_csv(\"D:\\\\Programs\\\\internet.csv\", parse_dates=['session_date'], index_col=0)\n",
    "df_internet.head(10)"
   ]
  },
  {
   "cell_type": "code",
   "execution_count": 5,
   "metadata": {},
   "outputs": [
    {
     "name": "stdout",
     "output_type": "stream",
     "text": [
      "<class 'pandas.core.frame.DataFrame'>\n",
      "Int64Index: 149396 entries, 0 to 149395\n",
      "Data columns (total 4 columns):\n",
      " #   Column        Non-Null Count   Dtype         \n",
      "---  ------        --------------   -----         \n",
      " 0   id            149396 non-null  object        \n",
      " 1   mb_used       149396 non-null  float64       \n",
      " 2   session_date  149396 non-null  datetime64[ns]\n",
      " 3   user_id       149396 non-null  int64         \n",
      "dtypes: datetime64[ns](1), float64(1), int64(1), object(1)\n",
      "memory usage: 5.7+ MB\n"
     ]
    }
   ],
   "source": [
    "df_internet.info()"
   ]
  },
  {
   "cell_type": "markdown",
   "metadata": {},
   "source": [
    "В таблице 4 столбца. Тип данных в столбцах — `object`, `int64`, `float64`. \n",
    "Согласно документации к данным:\n",
    "* `id`  — уникальный номер сессии\n",
    "* `mb_used` — объём потраченного за сессию интернет-трафика (в мегабайтах)\n",
    "* `session_date ` — дата интернет-сессии\n",
    "* `user_id` — идентификатор пользователя"
   ]
  },
  {
   "cell_type": "code",
   "execution_count": 6,
   "metadata": {},
   "outputs": [
    {
     "data": {
      "text/html": [
       "<div>\n",
       "<style scoped>\n",
       "    .dataframe tbody tr th:only-of-type {\n",
       "        vertical-align: middle;\n",
       "    }\n",
       "\n",
       "    .dataframe tbody tr th {\n",
       "        vertical-align: top;\n",
       "    }\n",
       "\n",
       "    .dataframe thead th {\n",
       "        text-align: right;\n",
       "    }\n",
       "</style>\n",
       "<table border=\"1\" class=\"dataframe\">\n",
       "  <thead>\n",
       "    <tr style=\"text-align: right;\">\n",
       "      <th></th>\n",
       "      <th>id</th>\n",
       "      <th>message_date</th>\n",
       "      <th>user_id</th>\n",
       "    </tr>\n",
       "  </thead>\n",
       "  <tbody>\n",
       "    <tr>\n",
       "      <th>0</th>\n",
       "      <td>1000_0</td>\n",
       "      <td>2018-06-27</td>\n",
       "      <td>1000</td>\n",
       "    </tr>\n",
       "    <tr>\n",
       "      <th>1</th>\n",
       "      <td>1000_1</td>\n",
       "      <td>2018-10-08</td>\n",
       "      <td>1000</td>\n",
       "    </tr>\n",
       "    <tr>\n",
       "      <th>2</th>\n",
       "      <td>1000_2</td>\n",
       "      <td>2018-08-04</td>\n",
       "      <td>1000</td>\n",
       "    </tr>\n",
       "    <tr>\n",
       "      <th>3</th>\n",
       "      <td>1000_3</td>\n",
       "      <td>2018-06-16</td>\n",
       "      <td>1000</td>\n",
       "    </tr>\n",
       "    <tr>\n",
       "      <th>4</th>\n",
       "      <td>1000_4</td>\n",
       "      <td>2018-12-05</td>\n",
       "      <td>1000</td>\n",
       "    </tr>\n",
       "    <tr>\n",
       "      <th>5</th>\n",
       "      <td>1000_5</td>\n",
       "      <td>2018-06-20</td>\n",
       "      <td>1000</td>\n",
       "    </tr>\n",
       "    <tr>\n",
       "      <th>6</th>\n",
       "      <td>1000_6</td>\n",
       "      <td>2018-11-19</td>\n",
       "      <td>1000</td>\n",
       "    </tr>\n",
       "    <tr>\n",
       "      <th>7</th>\n",
       "      <td>1000_7</td>\n",
       "      <td>2018-10-29</td>\n",
       "      <td>1000</td>\n",
       "    </tr>\n",
       "    <tr>\n",
       "      <th>8</th>\n",
       "      <td>1000_8</td>\n",
       "      <td>2018-06-25</td>\n",
       "      <td>1000</td>\n",
       "    </tr>\n",
       "    <tr>\n",
       "      <th>9</th>\n",
       "      <td>1000_9</td>\n",
       "      <td>2018-12-18</td>\n",
       "      <td>1000</td>\n",
       "    </tr>\n",
       "  </tbody>\n",
       "</table>\n",
       "</div>"
      ],
      "text/plain": [
       "       id message_date  user_id\n",
       "0  1000_0   2018-06-27     1000\n",
       "1  1000_1   2018-10-08     1000\n",
       "2  1000_2   2018-08-04     1000\n",
       "3  1000_3   2018-06-16     1000\n",
       "4  1000_4   2018-12-05     1000\n",
       "5  1000_5   2018-06-20     1000\n",
       "6  1000_6   2018-11-19     1000\n",
       "7  1000_7   2018-10-29     1000\n",
       "8  1000_8   2018-06-25     1000\n",
       "9  1000_9   2018-12-18     1000"
      ]
     },
     "execution_count": 6,
     "metadata": {},
     "output_type": "execute_result"
    }
   ],
   "source": [
    "df_messages = pd.read_csv(\"D:\\\\Programs\\\\messages.csv\", parse_dates=['message_date'])\n",
    "df_messages.head(10)"
   ]
  },
  {
   "cell_type": "code",
   "execution_count": 7,
   "metadata": {},
   "outputs": [
    {
     "name": "stdout",
     "output_type": "stream",
     "text": [
      "<class 'pandas.core.frame.DataFrame'>\n",
      "RangeIndex: 123036 entries, 0 to 123035\n",
      "Data columns (total 3 columns):\n",
      " #   Column        Non-Null Count   Dtype         \n",
      "---  ------        --------------   -----         \n",
      " 0   id            123036 non-null  object        \n",
      " 1   message_date  123036 non-null  datetime64[ns]\n",
      " 2   user_id       123036 non-null  int64         \n",
      "dtypes: datetime64[ns](1), int64(1), object(1)\n",
      "memory usage: 2.8+ MB\n"
     ]
    }
   ],
   "source": [
    "df_messages.info()"
   ]
  },
  {
   "cell_type": "markdown",
   "metadata": {},
   "source": [
    "В таблице 3 столбца. Тип данных в столбцах — `object`, `int64`.\n",
    "\n",
    "Согласно документации к данным:\n",
    "* `id`  — уникальный номер сообщения\n",
    "* `message_date` — дата сообщения\n",
    "* `user_id ` — идентификатор пользователя, отправившего сообщение"
   ]
  },
  {
   "cell_type": "code",
   "execution_count": 8,
   "metadata": {},
   "outputs": [
    {
     "data": {
      "text/html": [
       "<div>\n",
       "<style scoped>\n",
       "    .dataframe tbody tr th:only-of-type {\n",
       "        vertical-align: middle;\n",
       "    }\n",
       "\n",
       "    .dataframe tbody tr th {\n",
       "        vertical-align: top;\n",
       "    }\n",
       "\n",
       "    .dataframe thead th {\n",
       "        text-align: right;\n",
       "    }\n",
       "</style>\n",
       "<table border=\"1\" class=\"dataframe\">\n",
       "  <thead>\n",
       "    <tr style=\"text-align: right;\">\n",
       "      <th></th>\n",
       "      <th>messages_included</th>\n",
       "      <th>mb_per_month_included</th>\n",
       "      <th>minutes_included</th>\n",
       "      <th>rub_monthly_fee</th>\n",
       "      <th>rub_per_gb</th>\n",
       "      <th>rub_per_message</th>\n",
       "      <th>rub_per_minute</th>\n",
       "      <th>tariff</th>\n",
       "    </tr>\n",
       "  </thead>\n",
       "  <tbody>\n",
       "    <tr>\n",
       "      <th>0</th>\n",
       "      <td>50</td>\n",
       "      <td>15360</td>\n",
       "      <td>500</td>\n",
       "      <td>550</td>\n",
       "      <td>200</td>\n",
       "      <td>3</td>\n",
       "      <td>3</td>\n",
       "      <td>smart</td>\n",
       "    </tr>\n",
       "    <tr>\n",
       "      <th>1</th>\n",
       "      <td>1000</td>\n",
       "      <td>30720</td>\n",
       "      <td>3000</td>\n",
       "      <td>1950</td>\n",
       "      <td>150</td>\n",
       "      <td>1</td>\n",
       "      <td>1</td>\n",
       "      <td>ultra</td>\n",
       "    </tr>\n",
       "  </tbody>\n",
       "</table>\n",
       "</div>"
      ],
      "text/plain": [
       "   messages_included  mb_per_month_included  minutes_included  \\\n",
       "0                 50                  15360               500   \n",
       "1               1000                  30720              3000   \n",
       "\n",
       "   rub_monthly_fee  rub_per_gb  rub_per_message  rub_per_minute tariff  \n",
       "0              550         200                3               3  smart  \n",
       "1             1950         150                1               1  ultra  "
      ]
     },
     "execution_count": 8,
     "metadata": {},
     "output_type": "execute_result"
    }
   ],
   "source": [
    "df_tariffs = pd.read_csv(\"D:\\\\Programs\\\\tariffs.csv\")\n",
    "df_tariffs = df_tariffs.rename(columns={'tariff_name':'tariff'})\n",
    "df_tariffs"
   ]
  },
  {
   "cell_type": "code",
   "execution_count": 9,
   "metadata": {},
   "outputs": [
    {
     "name": "stdout",
     "output_type": "stream",
     "text": [
      "<class 'pandas.core.frame.DataFrame'>\n",
      "RangeIndex: 2 entries, 0 to 1\n",
      "Data columns (total 8 columns):\n",
      " #   Column                 Non-Null Count  Dtype \n",
      "---  ------                 --------------  ----- \n",
      " 0   messages_included      2 non-null      int64 \n",
      " 1   mb_per_month_included  2 non-null      int64 \n",
      " 2   minutes_included       2 non-null      int64 \n",
      " 3   rub_monthly_fee        2 non-null      int64 \n",
      " 4   rub_per_gb             2 non-null      int64 \n",
      " 5   rub_per_message        2 non-null      int64 \n",
      " 6   rub_per_minute         2 non-null      int64 \n",
      " 7   tariff                 2 non-null      object\n",
      "dtypes: int64(7), object(1)\n",
      "memory usage: 256.0+ bytes\n"
     ]
    }
   ],
   "source": [
    "df_tariffs.info()"
   ]
  },
  {
   "cell_type": "markdown",
   "metadata": {},
   "source": [
    "В таблице 8 столбцов. Тип данных в столбцах — `object`, `int64`. \n",
    "\n",
    "Согласно документации к данным:\n",
    "* `tariff_name`  — название тарифа\n",
    "* `rub_monthly_fee` — ежемесячная абонентская плата в рублях\n",
    "* `minutes_included` — количество минут разговора в месяц, включённых в абонентскую плату\n",
    "* `messages_included` — количество сообщений в месяц, включённых в абонентскую плату\n",
    "* `mb_per_month_included` — объём интернет-трафика, включённого в абонентскую плату (в мегабайтах)\n",
    "* `rub_per_minute` — стоимость минуты разговора сверх тарифного пакета (например, если в тарифе 100 минут разговора в месяц, то со 101 минуты будет взиматься плата)\n",
    "* `rub_per_message` — стоимость отправки сообщения сверх тарифного пакета\n",
    "* `rub_per_gb` — стоимость дополнительного гигабайта интернет-трафика сверх тарифного пакета (1 гигабайт = 1024 мегабайта)"
   ]
  },
  {
   "cell_type": "code",
   "execution_count": 10,
   "metadata": {},
   "outputs": [
    {
     "data": {
      "text/html": [
       "<div>\n",
       "<style scoped>\n",
       "    .dataframe tbody tr th:only-of-type {\n",
       "        vertical-align: middle;\n",
       "    }\n",
       "\n",
       "    .dataframe tbody tr th {\n",
       "        vertical-align: top;\n",
       "    }\n",
       "\n",
       "    .dataframe thead th {\n",
       "        text-align: right;\n",
       "    }\n",
       "</style>\n",
       "<table border=\"1\" class=\"dataframe\">\n",
       "  <thead>\n",
       "    <tr style=\"text-align: right;\">\n",
       "      <th></th>\n",
       "      <th>user_id</th>\n",
       "      <th>age</th>\n",
       "      <th>churn_date</th>\n",
       "      <th>city</th>\n",
       "      <th>first_name</th>\n",
       "      <th>last_name</th>\n",
       "      <th>reg_date</th>\n",
       "      <th>tariff</th>\n",
       "    </tr>\n",
       "  </thead>\n",
       "  <tbody>\n",
       "    <tr>\n",
       "      <th>0</th>\n",
       "      <td>1000</td>\n",
       "      <td>52</td>\n",
       "      <td>NaN</td>\n",
       "      <td>Краснодар</td>\n",
       "      <td>Рафаил</td>\n",
       "      <td>Верещагин</td>\n",
       "      <td>2018-05-25</td>\n",
       "      <td>ultra</td>\n",
       "    </tr>\n",
       "    <tr>\n",
       "      <th>1</th>\n",
       "      <td>1001</td>\n",
       "      <td>41</td>\n",
       "      <td>NaN</td>\n",
       "      <td>Москва</td>\n",
       "      <td>Иван</td>\n",
       "      <td>Ежов</td>\n",
       "      <td>2018-11-01</td>\n",
       "      <td>smart</td>\n",
       "    </tr>\n",
       "    <tr>\n",
       "      <th>2</th>\n",
       "      <td>1002</td>\n",
       "      <td>59</td>\n",
       "      <td>NaN</td>\n",
       "      <td>Стерлитамак</td>\n",
       "      <td>Евгений</td>\n",
       "      <td>Абрамович</td>\n",
       "      <td>2018-06-17</td>\n",
       "      <td>smart</td>\n",
       "    </tr>\n",
       "    <tr>\n",
       "      <th>3</th>\n",
       "      <td>1003</td>\n",
       "      <td>23</td>\n",
       "      <td>NaN</td>\n",
       "      <td>Москва</td>\n",
       "      <td>Белла</td>\n",
       "      <td>Белякова</td>\n",
       "      <td>2018-08-17</td>\n",
       "      <td>ultra</td>\n",
       "    </tr>\n",
       "    <tr>\n",
       "      <th>4</th>\n",
       "      <td>1004</td>\n",
       "      <td>68</td>\n",
       "      <td>NaN</td>\n",
       "      <td>Новокузнецк</td>\n",
       "      <td>Татьяна</td>\n",
       "      <td>Авдеенко</td>\n",
       "      <td>2018-05-14</td>\n",
       "      <td>ultra</td>\n",
       "    </tr>\n",
       "    <tr>\n",
       "      <th>5</th>\n",
       "      <td>1005</td>\n",
       "      <td>67</td>\n",
       "      <td>NaN</td>\n",
       "      <td>Набережные Челны</td>\n",
       "      <td>Афанасий</td>\n",
       "      <td>Горлов</td>\n",
       "      <td>2018-01-25</td>\n",
       "      <td>smart</td>\n",
       "    </tr>\n",
       "    <tr>\n",
       "      <th>6</th>\n",
       "      <td>1006</td>\n",
       "      <td>21</td>\n",
       "      <td>NaN</td>\n",
       "      <td>Ульяновск</td>\n",
       "      <td>Леонид</td>\n",
       "      <td>Ермолаев</td>\n",
       "      <td>2018-02-26</td>\n",
       "      <td>smart</td>\n",
       "    </tr>\n",
       "    <tr>\n",
       "      <th>7</th>\n",
       "      <td>1007</td>\n",
       "      <td>65</td>\n",
       "      <td>NaN</td>\n",
       "      <td>Москва</td>\n",
       "      <td>Юна</td>\n",
       "      <td>Березина</td>\n",
       "      <td>2018-04-19</td>\n",
       "      <td>smart</td>\n",
       "    </tr>\n",
       "    <tr>\n",
       "      <th>8</th>\n",
       "      <td>1008</td>\n",
       "      <td>63</td>\n",
       "      <td>NaN</td>\n",
       "      <td>Челябинск</td>\n",
       "      <td>Рустэм</td>\n",
       "      <td>Пономарёв</td>\n",
       "      <td>2018-12-19</td>\n",
       "      <td>smart</td>\n",
       "    </tr>\n",
       "    <tr>\n",
       "      <th>9</th>\n",
       "      <td>1009</td>\n",
       "      <td>24</td>\n",
       "      <td>NaN</td>\n",
       "      <td>Пермь</td>\n",
       "      <td>Василиса</td>\n",
       "      <td>Блинова</td>\n",
       "      <td>2018-03-22</td>\n",
       "      <td>smart</td>\n",
       "    </tr>\n",
       "  </tbody>\n",
       "</table>\n",
       "</div>"
      ],
      "text/plain": [
       "   user_id  age churn_date              city first_name  last_name   reg_date  \\\n",
       "0     1000   52        NaN         Краснодар     Рафаил  Верещагин 2018-05-25   \n",
       "1     1001   41        NaN            Москва       Иван       Ежов 2018-11-01   \n",
       "2     1002   59        NaN       Стерлитамак    Евгений  Абрамович 2018-06-17   \n",
       "3     1003   23        NaN            Москва      Белла   Белякова 2018-08-17   \n",
       "4     1004   68        NaN       Новокузнецк    Татьяна   Авдеенко 2018-05-14   \n",
       "5     1005   67        NaN  Набережные Челны   Афанасий     Горлов 2018-01-25   \n",
       "6     1006   21        NaN         Ульяновск     Леонид   Ермолаев 2018-02-26   \n",
       "7     1007   65        NaN            Москва        Юна   Березина 2018-04-19   \n",
       "8     1008   63        NaN         Челябинск     Рустэм  Пономарёв 2018-12-19   \n",
       "9     1009   24        NaN             Пермь   Василиса    Блинова 2018-03-22   \n",
       "\n",
       "  tariff  \n",
       "0  ultra  \n",
       "1  smart  \n",
       "2  smart  \n",
       "3  ultra  \n",
       "4  ultra  \n",
       "5  smart  \n",
       "6  smart  \n",
       "7  smart  \n",
       "8  smart  \n",
       "9  smart  "
      ]
     },
     "execution_count": 10,
     "metadata": {},
     "output_type": "execute_result"
    }
   ],
   "source": [
    "df_users = pd.read_csv(\"D:\\\\Programs\\\\users.csv\", parse_dates=['reg_date'])\n",
    "df_users.head(10)"
   ]
  },
  {
   "cell_type": "code",
   "execution_count": 11,
   "metadata": {},
   "outputs": [
    {
     "name": "stdout",
     "output_type": "stream",
     "text": [
      "<class 'pandas.core.frame.DataFrame'>\n",
      "RangeIndex: 500 entries, 0 to 499\n",
      "Data columns (total 8 columns):\n",
      " #   Column      Non-Null Count  Dtype         \n",
      "---  ------      --------------  -----         \n",
      " 0   user_id     500 non-null    int64         \n",
      " 1   age         500 non-null    int64         \n",
      " 2   churn_date  38 non-null     object        \n",
      " 3   city        500 non-null    object        \n",
      " 4   first_name  500 non-null    object        \n",
      " 5   last_name   500 non-null    object        \n",
      " 6   reg_date    500 non-null    datetime64[ns]\n",
      " 7   tariff      500 non-null    object        \n",
      "dtypes: datetime64[ns](1), int64(2), object(5)\n",
      "memory usage: 31.4+ KB\n"
     ]
    }
   ],
   "source": [
    "df_users.info()"
   ]
  },
  {
   "cell_type": "markdown",
   "metadata": {},
   "source": [
    "В таблице 8 столбцов. Тип данных в столбцах — `object`, `int64`. \n",
    "\n",
    "Согласно документации к данным:\n",
    "* `user_id` — уникальный идентификатор пользователя\n",
    "* `first_name` — имя пользователя\n",
    "* `last_name` — фамилия пользователя\n",
    "* `age` — возраст пользователя (годы)\n",
    "* `reg_date` — дата подключения тарифа (день, месяц, год)\n",
    "* `churn_date` — дата прекращения пользования тарифом (если значение пропущено, то тариф ещё действовал на момент выгрузки данных)\n",
    "* `city` — город проживания пользователя\n",
    "* `tariff` — название тарифного плана"
   ]
  },
  {
   "cell_type": "markdown",
   "metadata": {},
   "source": [
    "### Вывод"
   ]
  },
  {
   "cell_type": "markdown",
   "metadata": {},
   "source": [
    "В таблице `df_users` есть пропуски данных. Так как в документации сказано, что если значение пропущено, то тариф ещё действовал на момент выгрузки данных, удалять или заполнять их не нужно. В некоторых таблицах неверный тип данных в столбцах с датой. Необходимо подготовить таблицы к анализу"
   ]
  },
  {
   "cell_type": "markdown",
   "metadata": {},
   "source": [
    "## Предобработка данных"
   ]
  },
  {
   "cell_type": "markdown",
   "metadata": {},
   "source": [
    "<a id='2-bullet'></a>\n",
    "### Пропуски значений."
   ]
  },
  {
   "cell_type": "markdown",
   "metadata": {},
   "source": [
    "В процессе обзора данных не было выявлено явных пропусков значений."
   ]
  },
  {
   "cell_type": "markdown",
   "metadata": {},
   "source": [
    "<a id='3-bullet'></a>\n",
    "### Нахождение и исправление аномалий и ошибок."
   ]
  },
  {
   "cell_type": "markdown",
   "metadata": {},
   "source": [
    "В процессе обзора данных были исправлен неправильный тип данных у столбцов, а также удален лишний столбец в таблице `df_internet`."
   ]
  },
  {
   "cell_type": "markdown",
   "metadata": {},
   "source": [
    "Также проверим нет ли аномалий в таблицах и нет ли дубликатов в столбце `user_id`, т.к. этот столбец потом нужен для объединения."
   ]
  },
  {
   "cell_type": "code",
   "execution_count": 12,
   "metadata": {},
   "outputs": [
    {
     "data": {
      "text/html": [
       "<div>\n",
       "<style scoped>\n",
       "    .dataframe tbody tr th:only-of-type {\n",
       "        vertical-align: middle;\n",
       "    }\n",
       "\n",
       "    .dataframe tbody tr th {\n",
       "        vertical-align: top;\n",
       "    }\n",
       "\n",
       "    .dataframe thead th {\n",
       "        text-align: right;\n",
       "    }\n",
       "</style>\n",
       "<table border=\"1\" class=\"dataframe\">\n",
       "  <thead>\n",
       "    <tr style=\"text-align: right;\">\n",
       "      <th></th>\n",
       "      <th>user_id</th>\n",
       "      <th>age</th>\n",
       "    </tr>\n",
       "  </thead>\n",
       "  <tbody>\n",
       "    <tr>\n",
       "      <th>count</th>\n",
       "      <td>500.000000</td>\n",
       "      <td>500.00000</td>\n",
       "    </tr>\n",
       "    <tr>\n",
       "      <th>mean</th>\n",
       "      <td>1249.500000</td>\n",
       "      <td>46.58800</td>\n",
       "    </tr>\n",
       "    <tr>\n",
       "      <th>std</th>\n",
       "      <td>144.481833</td>\n",
       "      <td>16.66763</td>\n",
       "    </tr>\n",
       "    <tr>\n",
       "      <th>min</th>\n",
       "      <td>1000.000000</td>\n",
       "      <td>18.00000</td>\n",
       "    </tr>\n",
       "    <tr>\n",
       "      <th>25%</th>\n",
       "      <td>1124.750000</td>\n",
       "      <td>32.00000</td>\n",
       "    </tr>\n",
       "    <tr>\n",
       "      <th>50%</th>\n",
       "      <td>1249.500000</td>\n",
       "      <td>46.00000</td>\n",
       "    </tr>\n",
       "    <tr>\n",
       "      <th>75%</th>\n",
       "      <td>1374.250000</td>\n",
       "      <td>62.00000</td>\n",
       "    </tr>\n",
       "    <tr>\n",
       "      <th>max</th>\n",
       "      <td>1499.000000</td>\n",
       "      <td>75.00000</td>\n",
       "    </tr>\n",
       "  </tbody>\n",
       "</table>\n",
       "</div>"
      ],
      "text/plain": [
       "           user_id        age\n",
       "count   500.000000  500.00000\n",
       "mean   1249.500000   46.58800\n",
       "std     144.481833   16.66763\n",
       "min    1000.000000   18.00000\n",
       "25%    1124.750000   32.00000\n",
       "50%    1249.500000   46.00000\n",
       "75%    1374.250000   62.00000\n",
       "max    1499.000000   75.00000"
      ]
     },
     "execution_count": 12,
     "metadata": {},
     "output_type": "execute_result"
    }
   ],
   "source": [
    "df_users.describe()"
   ]
  },
  {
   "cell_type": "code",
   "execution_count": 13,
   "metadata": {},
   "outputs": [
    {
     "data": {
      "text/plain": [
       "0"
      ]
     },
     "execution_count": 13,
     "metadata": {},
     "output_type": "execute_result"
    }
   ],
   "source": [
    "df_users['user_id'].duplicated().sum()"
   ]
  },
  {
   "cell_type": "markdown",
   "metadata": {},
   "source": [
    "### Вывод"
   ]
  },
  {
   "cell_type": "markdown",
   "metadata": {},
   "source": [
    "Данные готовы к анализу"
   ]
  },
  {
   "cell_type": "markdown",
   "metadata": {},
   "source": [
    "## Анализ данных."
   ]
  },
  {
   "cell_type": "markdown",
   "metadata": {},
   "source": [
    "<a id='4-bullet'></a>\n",
    "### Расчет помесячных расходов каждого пользователя."
   ]
  },
  {
   "cell_type": "markdown",
   "metadata": {},
   "source": [
    "Далее для каждого пользователя посчитаем:\n",
    "* количество сделанных звонков и израсходованных минут разговора по месяцам;\n",
    "* количество отправленных сообщений по месяцам;\n",
    "* объем израсходованного интернет-трафика по месяцам;\n",
    "* помесячную выручку с каждого пользователя "
   ]
  },
  {
   "cell_type": "markdown",
   "metadata": {},
   "source": [
    "Добавим столбцы месяцев в таблицы."
   ]
  },
  {
   "cell_type": "code",
   "execution_count": 14,
   "metadata": {},
   "outputs": [],
   "source": [
    "df_calls['month']=df_calls['call_date'].dt.month\n",
    "df_messages['month']=df_messages['message_date'].dt.month\n",
    "df_internet['month']=df_internet['session_date'].dt.month"
   ]
  },
  {
   "cell_type": "markdown",
   "metadata": {},
   "source": [
    "Округлим минуты до целого в сторону большего числа"
   ]
  },
  {
   "cell_type": "code",
   "execution_count": 15,
   "metadata": {},
   "outputs": [],
   "source": [
    "df_calls['duration'] = df_calls['duration'].apply(math.ceil)"
   ]
  },
  {
   "cell_type": "markdown",
   "metadata": {},
   "source": [
    "Посчитаем количество сделанных звонков и израсходованных минут разговора по месяцам"
   ]
  },
  {
   "cell_type": "code",
   "execution_count": 16,
   "metadata": {},
   "outputs": [
    {
     "data": {
      "text/plain": [
       "array([[<AxesSubplot:title={'center':'calls_count'}>]], dtype=object)"
      ]
     },
     "execution_count": 16,
     "metadata": {},
     "output_type": "execute_result"
    },
    {
     "data": {
      "image/png": "[encoded data removed]",
      "text/plain": [
       "<Figure size 432x288 with 1 Axes>"
      ]
     },
     "metadata": {
      "needs_background": "light"
     },
     "output_type": "display_data"
    }
   ],
   "source": [
    "pivot_calls_count = df_calls.groupby(['user_id','month']).agg(calls_count=('id','count')) #сводная таблица по количеству сделанных звонков\n",
    "pivot_calls_count.reset_index() #изменение индексов\n",
    "pivot_calls_count.hist(bins=100) #построение гистограммы"
   ]
  },
  {
   "cell_type": "code",
   "execution_count": 17,
   "metadata": {},
   "outputs": [
    {
     "data": {
      "text/plain": [
       "array([[<AxesSubplot:title={'center':'calls_sum'}>]], dtype=object)"
      ]
     },
     "execution_count": 17,
     "metadata": {},
     "output_type": "execute_result"
    },
    {
     "data": {
      "image/png": "[encoded data removed]",
      "text/plain": [
       "<Figure size 432x288 with 1 Axes>"
      ]
     },
     "metadata": {
      "needs_background": "light"
     },
     "output_type": "display_data"
    }
   ],
   "source": [
    "pivot_calls_sum = df_calls.groupby(['user_id','month']).agg(calls_sum=('duration','sum')) #сводная таблица по количеству потраченных минут\n",
    "pivot_calls_sum.reset_index() #изменение индексов\n",
    "pivot_calls_sum.hist(bins=100) #построение гистограммы"
   ]
  },
  {
   "cell_type": "markdown",
   "metadata": {},
   "source": [
    "Теперь посчитаем количество отправленных сообщений по месяцам для каждого пользователя"
   ]
  },
  {
   "cell_type": "code",
   "execution_count": 18,
   "metadata": {},
   "outputs": [
    {
     "data": {
      "text/plain": [
       "array([[<AxesSubplot:title={'center':'messages_count'}>]], dtype=object)"
      ]
     },
     "execution_count": 18,
     "metadata": {},
     "output_type": "execute_result"
    },
    {
     "data": {
      "image/png": "[encoded data removed]",
      "text/plain": [
       "<Figure size 432x288 with 1 Axes>"
      ]
     },
     "metadata": {
      "needs_background": "light"
     },
     "output_type": "display_data"
    }
   ],
   "source": [
    "pivot_messages_count = df_messages.groupby(['user_id','month']).agg(messages_count=('id','count')) #сводная таблица по количеству потраченных смс\n",
    "pivot_messages_count.reset_index() #изменение индексов\n",
    "pivot_messages_count.hist(bins=100) #построение гистограммы"
   ]
  },
  {
   "cell_type": "markdown",
   "metadata": {},
   "source": [
    "Посчитаем объем израсходованного трафика для каждого пользователя"
   ]
  },
  {
   "cell_type": "code",
   "execution_count": 19,
   "metadata": {},
   "outputs": [
    {
     "data": {
      "text/plain": [
       "array([[<AxesSubplot:title={'center':'internet_sum'}>]], dtype=object)"
      ]
     },
     "execution_count": 19,
     "metadata": {},
     "output_type": "execute_result"
    },
    {
     "data": {
      "image/png": "[encoded data removed]",
      "text/plain": [
       "<Figure size 432x288 with 1 Axes>"
      ]
     },
     "metadata": {
      "needs_background": "light"
     },
     "output_type": "display_data"
    }
   ],
   "source": [
    "pivot_internet_sum = df_internet.groupby(['user_id','month']).agg(internet_sum=('mb_used','sum')) #сводная таблица по количеству потраченных Мб интернета\n",
    "pivot_internet_sum.reset_index() #изменение индексов\n",
    "pivot_internet_sum.hist(bins=100) #построение гистограммы"
   ]
  },
  {
   "cell_type": "markdown",
   "metadata": {},
   "source": [
    "<a id='5-bullet'></a>\n",
    "### Расчет помесячной выручки с каждого пользователя."
   ]
  },
  {
   "cell_type": "markdown",
   "metadata": {},
   "source": [
    "Для подсчета помесячной выручки с каждого пользователя необходимо объединить таблицы `pivot_calls_count`, `pivot_calls_sum`, `pivot_messages_count`, `pivot_internet_sum`, `user_id` в одну таблицу df."
   ]
  },
  {
   "cell_type": "code",
   "execution_count": 20,
   "metadata": {},
   "outputs": [
    {
     "data": {
      "text/html": [
       "<div>\n",
       "<style scoped>\n",
       "    .dataframe tbody tr th:only-of-type {\n",
       "        vertical-align: middle;\n",
       "    }\n",
       "\n",
       "    .dataframe tbody tr th {\n",
       "        vertical-align: top;\n",
       "    }\n",
       "\n",
       "    .dataframe thead th {\n",
       "        text-align: right;\n",
       "    }\n",
       "</style>\n",
       "<table border=\"1\" class=\"dataframe\">\n",
       "  <thead>\n",
       "    <tr style=\"text-align: right;\">\n",
       "      <th></th>\n",
       "      <th></th>\n",
       "      <th>calls_count</th>\n",
       "      <th>calls_sum</th>\n",
       "    </tr>\n",
       "    <tr>\n",
       "      <th>user_id</th>\n",
       "      <th>month</th>\n",
       "      <th></th>\n",
       "      <th></th>\n",
       "    </tr>\n",
       "  </thead>\n",
       "  <tbody>\n",
       "    <tr>\n",
       "      <th rowspan=\"8\" valign=\"top\">1000</th>\n",
       "      <th>5</th>\n",
       "      <td>22</td>\n",
       "      <td>159</td>\n",
       "    </tr>\n",
       "    <tr>\n",
       "      <th>6</th>\n",
       "      <td>43</td>\n",
       "      <td>172</td>\n",
       "    </tr>\n",
       "    <tr>\n",
       "      <th>7</th>\n",
       "      <td>47</td>\n",
       "      <td>340</td>\n",
       "    </tr>\n",
       "    <tr>\n",
       "      <th>8</th>\n",
       "      <td>52</td>\n",
       "      <td>408</td>\n",
       "    </tr>\n",
       "    <tr>\n",
       "      <th>9</th>\n",
       "      <td>58</td>\n",
       "      <td>466</td>\n",
       "    </tr>\n",
       "    <tr>\n",
       "      <th>10</th>\n",
       "      <td>57</td>\n",
       "      <td>350</td>\n",
       "    </tr>\n",
       "    <tr>\n",
       "      <th>11</th>\n",
       "      <td>43</td>\n",
       "      <td>338</td>\n",
       "    </tr>\n",
       "    <tr>\n",
       "      <th>12</th>\n",
       "      <td>46</td>\n",
       "      <td>333</td>\n",
       "    </tr>\n",
       "    <tr>\n",
       "      <th rowspan=\"2\" valign=\"top\">1001</th>\n",
       "      <th>11</th>\n",
       "      <td>59</td>\n",
       "      <td>430</td>\n",
       "    </tr>\n",
       "    <tr>\n",
       "      <th>12</th>\n",
       "      <td>63</td>\n",
       "      <td>414</td>\n",
       "    </tr>\n",
       "  </tbody>\n",
       "</table>\n",
       "</div>"
      ],
      "text/plain": [
       "               calls_count  calls_sum\n",
       "user_id month                        \n",
       "1000    5               22        159\n",
       "        6               43        172\n",
       "        7               47        340\n",
       "        8               52        408\n",
       "        9               58        466\n",
       "        10              57        350\n",
       "        11              43        338\n",
       "        12              46        333\n",
       "1001    11              59        430\n",
       "        12              63        414"
      ]
     },
     "execution_count": 20,
     "metadata": {},
     "output_type": "execute_result"
    }
   ],
   "source": [
    "df = pivot_calls_count.merge(pivot_calls_sum, on=['user_id','month'], how='outer') #объединение таблиц\n",
    "df.head(10)"
   ]
  },
  {
   "cell_type": "code",
   "execution_count": 21,
   "metadata": {},
   "outputs": [
    {
     "data": {
      "text/html": [
       "<div>\n",
       "<style scoped>\n",
       "    .dataframe tbody tr th:only-of-type {\n",
       "        vertical-align: middle;\n",
       "    }\n",
       "\n",
       "    .dataframe tbody tr th {\n",
       "        vertical-align: top;\n",
       "    }\n",
       "\n",
       "    .dataframe thead th {\n",
       "        text-align: right;\n",
       "    }\n",
       "</style>\n",
       "<table border=\"1\" class=\"dataframe\">\n",
       "  <thead>\n",
       "    <tr style=\"text-align: right;\">\n",
       "      <th></th>\n",
       "      <th></th>\n",
       "      <th>calls_count</th>\n",
       "      <th>calls_sum</th>\n",
       "      <th>messages_count</th>\n",
       "    </tr>\n",
       "    <tr>\n",
       "      <th>user_id</th>\n",
       "      <th>month</th>\n",
       "      <th></th>\n",
       "      <th></th>\n",
       "      <th></th>\n",
       "    </tr>\n",
       "  </thead>\n",
       "  <tbody>\n",
       "    <tr>\n",
       "      <th rowspan=\"8\" valign=\"top\">1000</th>\n",
       "      <th>5</th>\n",
       "      <td>22.0</td>\n",
       "      <td>159.0</td>\n",
       "      <td>22.0</td>\n",
       "    </tr>\n",
       "    <tr>\n",
       "      <th>6</th>\n",
       "      <td>43.0</td>\n",
       "      <td>172.0</td>\n",
       "      <td>60.0</td>\n",
       "    </tr>\n",
       "    <tr>\n",
       "      <th>7</th>\n",
       "      <td>47.0</td>\n",
       "      <td>340.0</td>\n",
       "      <td>75.0</td>\n",
       "    </tr>\n",
       "    <tr>\n",
       "      <th>8</th>\n",
       "      <td>52.0</td>\n",
       "      <td>408.0</td>\n",
       "      <td>81.0</td>\n",
       "    </tr>\n",
       "    <tr>\n",
       "      <th>9</th>\n",
       "      <td>58.0</td>\n",
       "      <td>466.0</td>\n",
       "      <td>57.0</td>\n",
       "    </tr>\n",
       "    <tr>\n",
       "      <th>10</th>\n",
       "      <td>57.0</td>\n",
       "      <td>350.0</td>\n",
       "      <td>73.0</td>\n",
       "    </tr>\n",
       "    <tr>\n",
       "      <th>11</th>\n",
       "      <td>43.0</td>\n",
       "      <td>338.0</td>\n",
       "      <td>58.0</td>\n",
       "    </tr>\n",
       "    <tr>\n",
       "      <th>12</th>\n",
       "      <td>46.0</td>\n",
       "      <td>333.0</td>\n",
       "      <td>70.0</td>\n",
       "    </tr>\n",
       "    <tr>\n",
       "      <th rowspan=\"2\" valign=\"top\">1001</th>\n",
       "      <th>11</th>\n",
       "      <td>59.0</td>\n",
       "      <td>430.0</td>\n",
       "      <td>NaN</td>\n",
       "    </tr>\n",
       "    <tr>\n",
       "      <th>12</th>\n",
       "      <td>63.0</td>\n",
       "      <td>414.0</td>\n",
       "      <td>NaN</td>\n",
       "    </tr>\n",
       "  </tbody>\n",
       "</table>\n",
       "</div>"
      ],
      "text/plain": [
       "               calls_count  calls_sum  messages_count\n",
       "user_id month                                        \n",
       "1000    5             22.0      159.0            22.0\n",
       "        6             43.0      172.0            60.0\n",
       "        7             47.0      340.0            75.0\n",
       "        8             52.0      408.0            81.0\n",
       "        9             58.0      466.0            57.0\n",
       "        10            57.0      350.0            73.0\n",
       "        11            43.0      338.0            58.0\n",
       "        12            46.0      333.0            70.0\n",
       "1001    11            59.0      430.0             NaN\n",
       "        12            63.0      414.0             NaN"
      ]
     },
     "execution_count": 21,
     "metadata": {},
     "output_type": "execute_result"
    }
   ],
   "source": [
    "df = df.merge(pivot_messages_count, on=['user_id','month'], how='outer') #объединение таблиц\n",
    "df.head(10)"
   ]
  },
  {
   "cell_type": "code",
   "execution_count": 22,
   "metadata": {},
   "outputs": [
    {
     "data": {
      "text/html": [
       "<div>\n",
       "<style scoped>\n",
       "    .dataframe tbody tr th:only-of-type {\n",
       "        vertical-align: middle;\n",
       "    }\n",
       "\n",
       "    .dataframe tbody tr th {\n",
       "        vertical-align: top;\n",
       "    }\n",
       "\n",
       "    .dataframe thead th {\n",
       "        text-align: right;\n",
       "    }\n",
       "</style>\n",
       "<table border=\"1\" class=\"dataframe\">\n",
       "  <thead>\n",
       "    <tr style=\"text-align: right;\">\n",
       "      <th></th>\n",
       "      <th></th>\n",
       "      <th>calls_count</th>\n",
       "      <th>calls_sum</th>\n",
       "      <th>messages_count</th>\n",
       "      <th>internet_sum</th>\n",
       "    </tr>\n",
       "    <tr>\n",
       "      <th>user_id</th>\n",
       "      <th>month</th>\n",
       "      <th></th>\n",
       "      <th></th>\n",
       "      <th></th>\n",
       "      <th></th>\n",
       "    </tr>\n",
       "  </thead>\n",
       "  <tbody>\n",
       "    <tr>\n",
       "      <th rowspan=\"8\" valign=\"top\">1000</th>\n",
       "      <th>5</th>\n",
       "      <td>22.0</td>\n",
       "      <td>159.0</td>\n",
       "      <td>22.0</td>\n",
       "      <td>2253.49</td>\n",
       "    </tr>\n",
       "    <tr>\n",
       "      <th>6</th>\n",
       "      <td>43.0</td>\n",
       "      <td>172.0</td>\n",
       "      <td>60.0</td>\n",
       "      <td>23233.77</td>\n",
       "    </tr>\n",
       "    <tr>\n",
       "      <th>7</th>\n",
       "      <td>47.0</td>\n",
       "      <td>340.0</td>\n",
       "      <td>75.0</td>\n",
       "      <td>14003.64</td>\n",
       "    </tr>\n",
       "    <tr>\n",
       "      <th>8</th>\n",
       "      <td>52.0</td>\n",
       "      <td>408.0</td>\n",
       "      <td>81.0</td>\n",
       "      <td>14055.93</td>\n",
       "    </tr>\n",
       "    <tr>\n",
       "      <th>9</th>\n",
       "      <td>58.0</td>\n",
       "      <td>466.0</td>\n",
       "      <td>57.0</td>\n",
       "      <td>14568.91</td>\n",
       "    </tr>\n",
       "    <tr>\n",
       "      <th>10</th>\n",
       "      <td>57.0</td>\n",
       "      <td>350.0</td>\n",
       "      <td>73.0</td>\n",
       "      <td>14702.49</td>\n",
       "    </tr>\n",
       "    <tr>\n",
       "      <th>11</th>\n",
       "      <td>43.0</td>\n",
       "      <td>338.0</td>\n",
       "      <td>58.0</td>\n",
       "      <td>14756.47</td>\n",
       "    </tr>\n",
       "    <tr>\n",
       "      <th>12</th>\n",
       "      <td>46.0</td>\n",
       "      <td>333.0</td>\n",
       "      <td>70.0</td>\n",
       "      <td>9817.61</td>\n",
       "    </tr>\n",
       "    <tr>\n",
       "      <th rowspan=\"2\" valign=\"top\">1001</th>\n",
       "      <th>11</th>\n",
       "      <td>59.0</td>\n",
       "      <td>430.0</td>\n",
       "      <td>NaN</td>\n",
       "      <td>18429.34</td>\n",
       "    </tr>\n",
       "    <tr>\n",
       "      <th>12</th>\n",
       "      <td>63.0</td>\n",
       "      <td>414.0</td>\n",
       "      <td>NaN</td>\n",
       "      <td>14036.66</td>\n",
       "    </tr>\n",
       "  </tbody>\n",
       "</table>\n",
       "</div>"
      ],
      "text/plain": [
       "               calls_count  calls_sum  messages_count  internet_sum\n",
       "user_id month                                                      \n",
       "1000    5             22.0      159.0            22.0       2253.49\n",
       "        6             43.0      172.0            60.0      23233.77\n",
       "        7             47.0      340.0            75.0      14003.64\n",
       "        8             52.0      408.0            81.0      14055.93\n",
       "        9             58.0      466.0            57.0      14568.91\n",
       "        10            57.0      350.0            73.0      14702.49\n",
       "        11            43.0      338.0            58.0      14756.47\n",
       "        12            46.0      333.0            70.0       9817.61\n",
       "1001    11            59.0      430.0             NaN      18429.34\n",
       "        12            63.0      414.0             NaN      14036.66"
      ]
     },
     "execution_count": 22,
     "metadata": {},
     "output_type": "execute_result"
    }
   ],
   "source": [
    "df = df.merge(pivot_internet_sum, on=['user_id','month'], how='outer') #объединение таблиц\n",
    "df.head(10)"
   ]
  },
  {
   "cell_type": "code",
   "execution_count": 23,
   "metadata": {},
   "outputs": [
    {
     "data": {
      "text/html": [
       "<div>\n",
       "<style scoped>\n",
       "    .dataframe tbody tr th:only-of-type {\n",
       "        vertical-align: middle;\n",
       "    }\n",
       "\n",
       "    .dataframe tbody tr th {\n",
       "        vertical-align: top;\n",
       "    }\n",
       "\n",
       "    .dataframe thead th {\n",
       "        text-align: right;\n",
       "    }\n",
       "</style>\n",
       "<table border=\"1\" class=\"dataframe\">\n",
       "  <thead>\n",
       "    <tr style=\"text-align: right;\">\n",
       "      <th></th>\n",
       "      <th>user_id</th>\n",
       "      <th>calls_count</th>\n",
       "      <th>calls_sum</th>\n",
       "      <th>messages_count</th>\n",
       "      <th>internet_sum</th>\n",
       "      <th>age</th>\n",
       "      <th>churn_date</th>\n",
       "      <th>city</th>\n",
       "      <th>first_name</th>\n",
       "      <th>last_name</th>\n",
       "      <th>reg_date</th>\n",
       "      <th>tariff</th>\n",
       "    </tr>\n",
       "  </thead>\n",
       "  <tbody>\n",
       "    <tr>\n",
       "      <th>0</th>\n",
       "      <td>1000</td>\n",
       "      <td>22.0</td>\n",
       "      <td>159.0</td>\n",
       "      <td>22.0</td>\n",
       "      <td>2253.49</td>\n",
       "      <td>52</td>\n",
       "      <td>NaN</td>\n",
       "      <td>Краснодар</td>\n",
       "      <td>Рафаил</td>\n",
       "      <td>Верещагин</td>\n",
       "      <td>2018-05-25</td>\n",
       "      <td>ultra</td>\n",
       "    </tr>\n",
       "    <tr>\n",
       "      <th>1</th>\n",
       "      <td>1000</td>\n",
       "      <td>43.0</td>\n",
       "      <td>172.0</td>\n",
       "      <td>60.0</td>\n",
       "      <td>23233.77</td>\n",
       "      <td>52</td>\n",
       "      <td>NaN</td>\n",
       "      <td>Краснодар</td>\n",
       "      <td>Рафаил</td>\n",
       "      <td>Верещагин</td>\n",
       "      <td>2018-05-25</td>\n",
       "      <td>ultra</td>\n",
       "    </tr>\n",
       "    <tr>\n",
       "      <th>2</th>\n",
       "      <td>1000</td>\n",
       "      <td>47.0</td>\n",
       "      <td>340.0</td>\n",
       "      <td>75.0</td>\n",
       "      <td>14003.64</td>\n",
       "      <td>52</td>\n",
       "      <td>NaN</td>\n",
       "      <td>Краснодар</td>\n",
       "      <td>Рафаил</td>\n",
       "      <td>Верещагин</td>\n",
       "      <td>2018-05-25</td>\n",
       "      <td>ultra</td>\n",
       "    </tr>\n",
       "    <tr>\n",
       "      <th>3</th>\n",
       "      <td>1000</td>\n",
       "      <td>52.0</td>\n",
       "      <td>408.0</td>\n",
       "      <td>81.0</td>\n",
       "      <td>14055.93</td>\n",
       "      <td>52</td>\n",
       "      <td>NaN</td>\n",
       "      <td>Краснодар</td>\n",
       "      <td>Рафаил</td>\n",
       "      <td>Верещагин</td>\n",
       "      <td>2018-05-25</td>\n",
       "      <td>ultra</td>\n",
       "    </tr>\n",
       "    <tr>\n",
       "      <th>4</th>\n",
       "      <td>1000</td>\n",
       "      <td>58.0</td>\n",
       "      <td>466.0</td>\n",
       "      <td>57.0</td>\n",
       "      <td>14568.91</td>\n",
       "      <td>52</td>\n",
       "      <td>NaN</td>\n",
       "      <td>Краснодар</td>\n",
       "      <td>Рафаил</td>\n",
       "      <td>Верещагин</td>\n",
       "      <td>2018-05-25</td>\n",
       "      <td>ultra</td>\n",
       "    </tr>\n",
       "    <tr>\n",
       "      <th>5</th>\n",
       "      <td>1000</td>\n",
       "      <td>57.0</td>\n",
       "      <td>350.0</td>\n",
       "      <td>73.0</td>\n",
       "      <td>14702.49</td>\n",
       "      <td>52</td>\n",
       "      <td>NaN</td>\n",
       "      <td>Краснодар</td>\n",
       "      <td>Рафаил</td>\n",
       "      <td>Верещагин</td>\n",
       "      <td>2018-05-25</td>\n",
       "      <td>ultra</td>\n",
       "    </tr>\n",
       "    <tr>\n",
       "      <th>6</th>\n",
       "      <td>1000</td>\n",
       "      <td>43.0</td>\n",
       "      <td>338.0</td>\n",
       "      <td>58.0</td>\n",
       "      <td>14756.47</td>\n",
       "      <td>52</td>\n",
       "      <td>NaN</td>\n",
       "      <td>Краснодар</td>\n",
       "      <td>Рафаил</td>\n",
       "      <td>Верещагин</td>\n",
       "      <td>2018-05-25</td>\n",
       "      <td>ultra</td>\n",
       "    </tr>\n",
       "    <tr>\n",
       "      <th>7</th>\n",
       "      <td>1000</td>\n",
       "      <td>46.0</td>\n",
       "      <td>333.0</td>\n",
       "      <td>70.0</td>\n",
       "      <td>9817.61</td>\n",
       "      <td>52</td>\n",
       "      <td>NaN</td>\n",
       "      <td>Краснодар</td>\n",
       "      <td>Рафаил</td>\n",
       "      <td>Верещагин</td>\n",
       "      <td>2018-05-25</td>\n",
       "      <td>ultra</td>\n",
       "    </tr>\n",
       "    <tr>\n",
       "      <th>8</th>\n",
       "      <td>1001</td>\n",
       "      <td>59.0</td>\n",
       "      <td>430.0</td>\n",
       "      <td>NaN</td>\n",
       "      <td>18429.34</td>\n",
       "      <td>41</td>\n",
       "      <td>NaN</td>\n",
       "      <td>Москва</td>\n",
       "      <td>Иван</td>\n",
       "      <td>Ежов</td>\n",
       "      <td>2018-11-01</td>\n",
       "      <td>smart</td>\n",
       "    </tr>\n",
       "    <tr>\n",
       "      <th>9</th>\n",
       "      <td>1001</td>\n",
       "      <td>63.0</td>\n",
       "      <td>414.0</td>\n",
       "      <td>NaN</td>\n",
       "      <td>14036.66</td>\n",
       "      <td>41</td>\n",
       "      <td>NaN</td>\n",
       "      <td>Москва</td>\n",
       "      <td>Иван</td>\n",
       "      <td>Ежов</td>\n",
       "      <td>2018-11-01</td>\n",
       "      <td>smart</td>\n",
       "    </tr>\n",
       "  </tbody>\n",
       "</table>\n",
       "</div>"
      ],
      "text/plain": [
       "   user_id  calls_count  calls_sum  messages_count  internet_sum  age  \\\n",
       "0     1000         22.0      159.0            22.0       2253.49   52   \n",
       "1     1000         43.0      172.0            60.0      23233.77   52   \n",
       "2     1000         47.0      340.0            75.0      14003.64   52   \n",
       "3     1000         52.0      408.0            81.0      14055.93   52   \n",
       "4     1000         58.0      466.0            57.0      14568.91   52   \n",
       "5     1000         57.0      350.0            73.0      14702.49   52   \n",
       "6     1000         43.0      338.0            58.0      14756.47   52   \n",
       "7     1000         46.0      333.0            70.0       9817.61   52   \n",
       "8     1001         59.0      430.0             NaN      18429.34   41   \n",
       "9     1001         63.0      414.0             NaN      14036.66   41   \n",
       "\n",
       "  churn_date       city first_name  last_name   reg_date tariff  \n",
       "0        NaN  Краснодар     Рафаил  Верещагин 2018-05-25  ultra  \n",
       "1        NaN  Краснодар     Рафаил  Верещагин 2018-05-25  ultra  \n",
       "2        NaN  Краснодар     Рафаил  Верещагин 2018-05-25  ultra  \n",
       "3        NaN  Краснодар     Рафаил  Верещагин 2018-05-25  ultra  \n",
       "4        NaN  Краснодар     Рафаил  Верещагин 2018-05-25  ultra  \n",
       "5        NaN  Краснодар     Рафаил  Верещагин 2018-05-25  ultra  \n",
       "6        NaN  Краснодар     Рафаил  Верещагин 2018-05-25  ultra  \n",
       "7        NaN  Краснодар     Рафаил  Верещагин 2018-05-25  ultra  \n",
       "8        NaN     Москва       Иван       Ежов 2018-11-01  smart  \n",
       "9        NaN     Москва       Иван       Ежов 2018-11-01  smart  "
      ]
     },
     "execution_count": 23,
     "metadata": {},
     "output_type": "execute_result"
    }
   ],
   "source": [
    "df = df.merge(df_users, on='user_id', how='outer') #объединение таблиц\n",
    "df.head(10)"
   ]
  },
  {
   "cell_type": "code",
   "execution_count": 24,
   "metadata": {},
   "outputs": [],
   "source": [
    "df = df.merge(df_tariffs, on='tariff', how='outer') #объединение таблиц"
   ]
  },
  {
   "cell_type": "markdown",
   "metadata": {},
   "source": [
    "При объединении таблиц появилось два новых пользователя, у которых нет расходов минут, сообщений и гигабайт. Удалим их"
   ]
  },
  {
   "cell_type": "code",
   "execution_count": 25,
   "metadata": {},
   "outputs": [],
   "source": [
    "df = df.drop(labels = [985,3215],axis = 0)"
   ]
  },
  {
   "cell_type": "code",
   "execution_count": 26,
   "metadata": {},
   "outputs": [],
   "source": [
    "df=df.drop(['age','churn_date','first_name','last_name','reg_date'],axis=1) #удаление столбцов"
   ]
  },
  {
   "cell_type": "code",
   "execution_count": 27,
   "metadata": {
    "scrolled": true
   },
   "outputs": [
    {
     "data": {
      "text/html": [
       "<div>\n",
       "<style scoped>\n",
       "    .dataframe tbody tr th:only-of-type {\n",
       "        vertical-align: middle;\n",
       "    }\n",
       "\n",
       "    .dataframe tbody tr th {\n",
       "        vertical-align: top;\n",
       "    }\n",
       "\n",
       "    .dataframe thead th {\n",
       "        text-align: right;\n",
       "    }\n",
       "</style>\n",
       "<table border=\"1\" class=\"dataframe\">\n",
       "  <thead>\n",
       "    <tr style=\"text-align: right;\">\n",
       "      <th></th>\n",
       "      <th>user_id</th>\n",
       "      <th>calls_count</th>\n",
       "      <th>calls_sum</th>\n",
       "      <th>messages_count</th>\n",
       "      <th>internet_sum</th>\n",
       "      <th>city</th>\n",
       "      <th>tariff</th>\n",
       "      <th>messages_included</th>\n",
       "      <th>mb_per_month_included</th>\n",
       "      <th>minutes_included</th>\n",
       "      <th>rub_monthly_fee</th>\n",
       "      <th>rub_per_gb</th>\n",
       "      <th>rub_per_message</th>\n",
       "      <th>rub_per_minute</th>\n",
       "    </tr>\n",
       "  </thead>\n",
       "  <tbody>\n",
       "    <tr>\n",
       "      <th>0</th>\n",
       "      <td>1000</td>\n",
       "      <td>22.0</td>\n",
       "      <td>159.0</td>\n",
       "      <td>22.0</td>\n",
       "      <td>2253.49</td>\n",
       "      <td>Краснодар</td>\n",
       "      <td>ultra</td>\n",
       "      <td>1000</td>\n",
       "      <td>30720</td>\n",
       "      <td>3000</td>\n",
       "      <td>1950</td>\n",
       "      <td>150</td>\n",
       "      <td>1</td>\n",
       "      <td>1</td>\n",
       "    </tr>\n",
       "    <tr>\n",
       "      <th>1</th>\n",
       "      <td>1000</td>\n",
       "      <td>43.0</td>\n",
       "      <td>172.0</td>\n",
       "      <td>60.0</td>\n",
       "      <td>23233.77</td>\n",
       "      <td>Краснодар</td>\n",
       "      <td>ultra</td>\n",
       "      <td>1000</td>\n",
       "      <td>30720</td>\n",
       "      <td>3000</td>\n",
       "      <td>1950</td>\n",
       "      <td>150</td>\n",
       "      <td>1</td>\n",
       "      <td>1</td>\n",
       "    </tr>\n",
       "    <tr>\n",
       "      <th>2</th>\n",
       "      <td>1000</td>\n",
       "      <td>47.0</td>\n",
       "      <td>340.0</td>\n",
       "      <td>75.0</td>\n",
       "      <td>14003.64</td>\n",
       "      <td>Краснодар</td>\n",
       "      <td>ultra</td>\n",
       "      <td>1000</td>\n",
       "      <td>30720</td>\n",
       "      <td>3000</td>\n",
       "      <td>1950</td>\n",
       "      <td>150</td>\n",
       "      <td>1</td>\n",
       "      <td>1</td>\n",
       "    </tr>\n",
       "    <tr>\n",
       "      <th>3</th>\n",
       "      <td>1000</td>\n",
       "      <td>52.0</td>\n",
       "      <td>408.0</td>\n",
       "      <td>81.0</td>\n",
       "      <td>14055.93</td>\n",
       "      <td>Краснодар</td>\n",
       "      <td>ultra</td>\n",
       "      <td>1000</td>\n",
       "      <td>30720</td>\n",
       "      <td>3000</td>\n",
       "      <td>1950</td>\n",
       "      <td>150</td>\n",
       "      <td>1</td>\n",
       "      <td>1</td>\n",
       "    </tr>\n",
       "    <tr>\n",
       "      <th>4</th>\n",
       "      <td>1000</td>\n",
       "      <td>58.0</td>\n",
       "      <td>466.0</td>\n",
       "      <td>57.0</td>\n",
       "      <td>14568.91</td>\n",
       "      <td>Краснодар</td>\n",
       "      <td>ultra</td>\n",
       "      <td>1000</td>\n",
       "      <td>30720</td>\n",
       "      <td>3000</td>\n",
       "      <td>1950</td>\n",
       "      <td>150</td>\n",
       "      <td>1</td>\n",
       "      <td>1</td>\n",
       "    </tr>\n",
       "    <tr>\n",
       "      <th>5</th>\n",
       "      <td>1000</td>\n",
       "      <td>57.0</td>\n",
       "      <td>350.0</td>\n",
       "      <td>73.0</td>\n",
       "      <td>14702.49</td>\n",
       "      <td>Краснодар</td>\n",
       "      <td>ultra</td>\n",
       "      <td>1000</td>\n",
       "      <td>30720</td>\n",
       "      <td>3000</td>\n",
       "      <td>1950</td>\n",
       "      <td>150</td>\n",
       "      <td>1</td>\n",
       "      <td>1</td>\n",
       "    </tr>\n",
       "    <tr>\n",
       "      <th>6</th>\n",
       "      <td>1000</td>\n",
       "      <td>43.0</td>\n",
       "      <td>338.0</td>\n",
       "      <td>58.0</td>\n",
       "      <td>14756.47</td>\n",
       "      <td>Краснодар</td>\n",
       "      <td>ultra</td>\n",
       "      <td>1000</td>\n",
       "      <td>30720</td>\n",
       "      <td>3000</td>\n",
       "      <td>1950</td>\n",
       "      <td>150</td>\n",
       "      <td>1</td>\n",
       "      <td>1</td>\n",
       "    </tr>\n",
       "    <tr>\n",
       "      <th>7</th>\n",
       "      <td>1000</td>\n",
       "      <td>46.0</td>\n",
       "      <td>333.0</td>\n",
       "      <td>70.0</td>\n",
       "      <td>9817.61</td>\n",
       "      <td>Краснодар</td>\n",
       "      <td>ultra</td>\n",
       "      <td>1000</td>\n",
       "      <td>30720</td>\n",
       "      <td>3000</td>\n",
       "      <td>1950</td>\n",
       "      <td>150</td>\n",
       "      <td>1</td>\n",
       "      <td>1</td>\n",
       "    </tr>\n",
       "    <tr>\n",
       "      <th>8</th>\n",
       "      <td>1003</td>\n",
       "      <td>55.0</td>\n",
       "      <td>380.0</td>\n",
       "      <td>37.0</td>\n",
       "      <td>8565.21</td>\n",
       "      <td>Москва</td>\n",
       "      <td>ultra</td>\n",
       "      <td>1000</td>\n",
       "      <td>30720</td>\n",
       "      <td>3000</td>\n",
       "      <td>1950</td>\n",
       "      <td>150</td>\n",
       "      <td>1</td>\n",
       "      <td>1</td>\n",
       "    </tr>\n",
       "    <tr>\n",
       "      <th>9</th>\n",
       "      <td>1003</td>\n",
       "      <td>134.0</td>\n",
       "      <td>961.0</td>\n",
       "      <td>91.0</td>\n",
       "      <td>12468.87</td>\n",
       "      <td>Москва</td>\n",
       "      <td>ultra</td>\n",
       "      <td>1000</td>\n",
       "      <td>30720</td>\n",
       "      <td>3000</td>\n",
       "      <td>1950</td>\n",
       "      <td>150</td>\n",
       "      <td>1</td>\n",
       "      <td>1</td>\n",
       "    </tr>\n",
       "  </tbody>\n",
       "</table>\n",
       "</div>"
      ],
      "text/plain": [
       "   user_id  calls_count  calls_sum  messages_count  internet_sum       city  \\\n",
       "0     1000         22.0      159.0            22.0       2253.49  Краснодар   \n",
       "1     1000         43.0      172.0            60.0      23233.77  Краснодар   \n",
       "2     1000         47.0      340.0            75.0      14003.64  Краснодар   \n",
       "3     1000         52.0      408.0            81.0      14055.93  Краснодар   \n",
       "4     1000         58.0      466.0            57.0      14568.91  Краснодар   \n",
       "5     1000         57.0      350.0            73.0      14702.49  Краснодар   \n",
       "6     1000         43.0      338.0            58.0      14756.47  Краснодар   \n",
       "7     1000         46.0      333.0            70.0       9817.61  Краснодар   \n",
       "8     1003         55.0      380.0            37.0       8565.21     Москва   \n",
       "9     1003        134.0      961.0            91.0      12468.87     Москва   \n",
       "\n",
       "  tariff  messages_included  mb_per_month_included  minutes_included  \\\n",
       "0  ultra               1000                  30720              3000   \n",
       "1  ultra               1000                  30720              3000   \n",
       "2  ultra               1000                  30720              3000   \n",
       "3  ultra               1000                  30720              3000   \n",
       "4  ultra               1000                  30720              3000   \n",
       "5  ultra               1000                  30720              3000   \n",
       "6  ultra               1000                  30720              3000   \n",
       "7  ultra               1000                  30720              3000   \n",
       "8  ultra               1000                  30720              3000   \n",
       "9  ultra               1000                  30720              3000   \n",
       "\n",
       "   rub_monthly_fee  rub_per_gb  rub_per_message  rub_per_minute  \n",
       "0             1950         150                1               1  \n",
       "1             1950         150                1               1  \n",
       "2             1950         150                1               1  \n",
       "3             1950         150                1               1  \n",
       "4             1950         150                1               1  \n",
       "5             1950         150                1               1  \n",
       "6             1950         150                1               1  \n",
       "7             1950         150                1               1  \n",
       "8             1950         150                1               1  \n",
       "9             1950         150                1               1  "
      ]
     },
     "execution_count": 27,
     "metadata": {},
     "output_type": "execute_result"
    }
   ],
   "source": [
    "df.head(10)"
   ]
  },
  {
   "cell_type": "markdown",
   "metadata": {},
   "source": [
    "Заполним пропуски нулевыми значениями"
   ]
  },
  {
   "cell_type": "code",
   "execution_count": 28,
   "metadata": {},
   "outputs": [],
   "source": [
    "df[['calls_count','calls_sum','messages_count','internet_sum']] = df[['calls_count','calls_sum','messages_count','internet_sum']].fillna(0)"
   ]
  },
  {
   "cell_type": "markdown",
   "metadata": {},
   "source": [
    "Создадим функцию, которая посчитает месячную выручку с каждого клиента. Функция вычтет бесплатный лимит из суммарного количества звонков, сообщений и интернет-трафика; остаток умножит на значение из тарифного плана; прибавит абонентскую плату, соответствующую тарифному плану"
   ]
  },
  {
   "cell_type": "code",
   "execution_count": 29,
   "metadata": {},
   "outputs": [],
   "source": [
    "def income(row): # создание функции для \n",
    "    money = 0\n",
    "    try:\n",
    "        if row['calls_sum'] > row['minutes_included']:\n",
    "            money = (row['calls_sum'] - row['minutes_included'])*row['rub_per_minute']\n",
    "        if row['messages_count'] > row['messages_included']:\n",
    "            money = (row['messages_count'] - row['messages_included'])*row['rub_per_message']\n",
    "        if row['internet_sum'] > row['mb_per_month_included']:\n",
    "            money = (math.ceil((row['internet_sum'] - row['mb_per_month_included'])/1024))*row['rub_per_gb']\n",
    "        return money + row['rub_monthly_fee']\n",
    "    except (ValueError, ZeroDivisionError):\n",
    "        display(row)\n",
    "        return NaN "
   ]
  },
  {
   "cell_type": "code",
   "execution_count": 30,
   "metadata": {},
   "outputs": [
    {
     "data": {
      "text/html": [
       "<div>\n",
       "<style scoped>\n",
       "    .dataframe tbody tr th:only-of-type {\n",
       "        vertical-align: middle;\n",
       "    }\n",
       "\n",
       "    .dataframe tbody tr th {\n",
       "        vertical-align: top;\n",
       "    }\n",
       "\n",
       "    .dataframe thead th {\n",
       "        text-align: right;\n",
       "    }\n",
       "</style>\n",
       "<table border=\"1\" class=\"dataframe\">\n",
       "  <thead>\n",
       "    <tr style=\"text-align: right;\">\n",
       "      <th></th>\n",
       "      <th>user_id</th>\n",
       "      <th>calls_count</th>\n",
       "      <th>calls_sum</th>\n",
       "      <th>messages_count</th>\n",
       "      <th>internet_sum</th>\n",
       "      <th>city</th>\n",
       "      <th>tariff</th>\n",
       "      <th>messages_included</th>\n",
       "      <th>mb_per_month_included</th>\n",
       "      <th>minutes_included</th>\n",
       "      <th>rub_monthly_fee</th>\n",
       "      <th>rub_per_gb</th>\n",
       "      <th>rub_per_message</th>\n",
       "      <th>rub_per_minute</th>\n",
       "      <th>income</th>\n",
       "    </tr>\n",
       "  </thead>\n",
       "  <tbody>\n",
       "    <tr>\n",
       "      <th>0</th>\n",
       "      <td>1000</td>\n",
       "      <td>22.0</td>\n",
       "      <td>159.0</td>\n",
       "      <td>22.0</td>\n",
       "      <td>2253.49</td>\n",
       "      <td>Краснодар</td>\n",
       "      <td>ultra</td>\n",
       "      <td>1000</td>\n",
       "      <td>30720</td>\n",
       "      <td>3000</td>\n",
       "      <td>1950</td>\n",
       "      <td>150</td>\n",
       "      <td>1</td>\n",
       "      <td>1</td>\n",
       "      <td>1950.0</td>\n",
       "    </tr>\n",
       "    <tr>\n",
       "      <th>1</th>\n",
       "      <td>1000</td>\n",
       "      <td>43.0</td>\n",
       "      <td>172.0</td>\n",
       "      <td>60.0</td>\n",
       "      <td>23233.77</td>\n",
       "      <td>Краснодар</td>\n",
       "      <td>ultra</td>\n",
       "      <td>1000</td>\n",
       "      <td>30720</td>\n",
       "      <td>3000</td>\n",
       "      <td>1950</td>\n",
       "      <td>150</td>\n",
       "      <td>1</td>\n",
       "      <td>1</td>\n",
       "      <td>1950.0</td>\n",
       "    </tr>\n",
       "    <tr>\n",
       "      <th>2</th>\n",
       "      <td>1000</td>\n",
       "      <td>47.0</td>\n",
       "      <td>340.0</td>\n",
       "      <td>75.0</td>\n",
       "      <td>14003.64</td>\n",
       "      <td>Краснодар</td>\n",
       "      <td>ultra</td>\n",
       "      <td>1000</td>\n",
       "      <td>30720</td>\n",
       "      <td>3000</td>\n",
       "      <td>1950</td>\n",
       "      <td>150</td>\n",
       "      <td>1</td>\n",
       "      <td>1</td>\n",
       "      <td>1950.0</td>\n",
       "    </tr>\n",
       "    <tr>\n",
       "      <th>3</th>\n",
       "      <td>1000</td>\n",
       "      <td>52.0</td>\n",
       "      <td>408.0</td>\n",
       "      <td>81.0</td>\n",
       "      <td>14055.93</td>\n",
       "      <td>Краснодар</td>\n",
       "      <td>ultra</td>\n",
       "      <td>1000</td>\n",
       "      <td>30720</td>\n",
       "      <td>3000</td>\n",
       "      <td>1950</td>\n",
       "      <td>150</td>\n",
       "      <td>1</td>\n",
       "      <td>1</td>\n",
       "      <td>1950.0</td>\n",
       "    </tr>\n",
       "    <tr>\n",
       "      <th>4</th>\n",
       "      <td>1000</td>\n",
       "      <td>58.0</td>\n",
       "      <td>466.0</td>\n",
       "      <td>57.0</td>\n",
       "      <td>14568.91</td>\n",
       "      <td>Краснодар</td>\n",
       "      <td>ultra</td>\n",
       "      <td>1000</td>\n",
       "      <td>30720</td>\n",
       "      <td>3000</td>\n",
       "      <td>1950</td>\n",
       "      <td>150</td>\n",
       "      <td>1</td>\n",
       "      <td>1</td>\n",
       "      <td>1950.0</td>\n",
       "    </tr>\n",
       "    <tr>\n",
       "      <th>5</th>\n",
       "      <td>1000</td>\n",
       "      <td>57.0</td>\n",
       "      <td>350.0</td>\n",
       "      <td>73.0</td>\n",
       "      <td>14702.49</td>\n",
       "      <td>Краснодар</td>\n",
       "      <td>ultra</td>\n",
       "      <td>1000</td>\n",
       "      <td>30720</td>\n",
       "      <td>3000</td>\n",
       "      <td>1950</td>\n",
       "      <td>150</td>\n",
       "      <td>1</td>\n",
       "      <td>1</td>\n",
       "      <td>1950.0</td>\n",
       "    </tr>\n",
       "    <tr>\n",
       "      <th>6</th>\n",
       "      <td>1000</td>\n",
       "      <td>43.0</td>\n",
       "      <td>338.0</td>\n",
       "      <td>58.0</td>\n",
       "      <td>14756.47</td>\n",
       "      <td>Краснодар</td>\n",
       "      <td>ultra</td>\n",
       "      <td>1000</td>\n",
       "      <td>30720</td>\n",
       "      <td>3000</td>\n",
       "      <td>1950</td>\n",
       "      <td>150</td>\n",
       "      <td>1</td>\n",
       "      <td>1</td>\n",
       "      <td>1950.0</td>\n",
       "    </tr>\n",
       "    <tr>\n",
       "      <th>7</th>\n",
       "      <td>1000</td>\n",
       "      <td>46.0</td>\n",
       "      <td>333.0</td>\n",
       "      <td>70.0</td>\n",
       "      <td>9817.61</td>\n",
       "      <td>Краснодар</td>\n",
       "      <td>ultra</td>\n",
       "      <td>1000</td>\n",
       "      <td>30720</td>\n",
       "      <td>3000</td>\n",
       "      <td>1950</td>\n",
       "      <td>150</td>\n",
       "      <td>1</td>\n",
       "      <td>1</td>\n",
       "      <td>1950.0</td>\n",
       "    </tr>\n",
       "    <tr>\n",
       "      <th>8</th>\n",
       "      <td>1003</td>\n",
       "      <td>55.0</td>\n",
       "      <td>380.0</td>\n",
       "      <td>37.0</td>\n",
       "      <td>8565.21</td>\n",
       "      <td>Москва</td>\n",
       "      <td>ultra</td>\n",
       "      <td>1000</td>\n",
       "      <td>30720</td>\n",
       "      <td>3000</td>\n",
       "      <td>1950</td>\n",
       "      <td>150</td>\n",
       "      <td>1</td>\n",
       "      <td>1</td>\n",
       "      <td>1950.0</td>\n",
       "    </tr>\n",
       "    <tr>\n",
       "      <th>9</th>\n",
       "      <td>1003</td>\n",
       "      <td>134.0</td>\n",
       "      <td>961.0</td>\n",
       "      <td>91.0</td>\n",
       "      <td>12468.87</td>\n",
       "      <td>Москва</td>\n",
       "      <td>ultra</td>\n",
       "      <td>1000</td>\n",
       "      <td>30720</td>\n",
       "      <td>3000</td>\n",
       "      <td>1950</td>\n",
       "      <td>150</td>\n",
       "      <td>1</td>\n",
       "      <td>1</td>\n",
       "      <td>1950.0</td>\n",
       "    </tr>\n",
       "  </tbody>\n",
       "</table>\n",
       "</div>"
      ],
      "text/plain": [
       "   user_id  calls_count  calls_sum  messages_count  internet_sum       city  \\\n",
       "0     1000         22.0      159.0            22.0       2253.49  Краснодар   \n",
       "1     1000         43.0      172.0            60.0      23233.77  Краснодар   \n",
       "2     1000         47.0      340.0            75.0      14003.64  Краснодар   \n",
       "3     1000         52.0      408.0            81.0      14055.93  Краснодар   \n",
       "4     1000         58.0      466.0            57.0      14568.91  Краснодар   \n",
       "5     1000         57.0      350.0            73.0      14702.49  Краснодар   \n",
       "6     1000         43.0      338.0            58.0      14756.47  Краснодар   \n",
       "7     1000         46.0      333.0            70.0       9817.61  Краснодар   \n",
       "8     1003         55.0      380.0            37.0       8565.21     Москва   \n",
       "9     1003        134.0      961.0            91.0      12468.87     Москва   \n",
       "\n",
       "  tariff  messages_included  mb_per_month_included  minutes_included  \\\n",
       "0  ultra               1000                  30720              3000   \n",
       "1  ultra               1000                  30720              3000   \n",
       "2  ultra               1000                  30720              3000   \n",
       "3  ultra               1000                  30720              3000   \n",
       "4  ultra               1000                  30720              3000   \n",
       "5  ultra               1000                  30720              3000   \n",
       "6  ultra               1000                  30720              3000   \n",
       "7  ultra               1000                  30720              3000   \n",
       "8  ultra               1000                  30720              3000   \n",
       "9  ultra               1000                  30720              3000   \n",
       "\n",
       "   rub_monthly_fee  rub_per_gb  rub_per_message  rub_per_minute  income  \n",
       "0             1950         150                1               1  1950.0  \n",
       "1             1950         150                1               1  1950.0  \n",
       "2             1950         150                1               1  1950.0  \n",
       "3             1950         150                1               1  1950.0  \n",
       "4             1950         150                1               1  1950.0  \n",
       "5             1950         150                1               1  1950.0  \n",
       "6             1950         150                1               1  1950.0  \n",
       "7             1950         150                1               1  1950.0  \n",
       "8             1950         150                1               1  1950.0  \n",
       "9             1950         150                1               1  1950.0  "
      ]
     },
     "execution_count": 30,
     "metadata": {},
     "output_type": "execute_result"
    }
   ],
   "source": [
    "df['income'] = df.apply(income,axis=1) #применение функции к таблице\n",
    "df.head(10)"
   ]
  },
  {
   "cell_type": "markdown",
   "metadata": {},
   "source": [
    "<a id='6-bullet'></a>\n",
    "### Расчет потребляемого количества минут, сообщений и интернет-трафика пользователями каждого тарифа в месяц."
   ]
  },
  {
   "cell_type": "markdown",
   "metadata": {},
   "source": [
    "Далее посчитаем сколько минут разговора, сколько сообщений и какой объём интернет-трафика требуется пользователям каждого тарифа в месяц. По каждому параметру построим гистограммы. Посчитаем среднее количество, дисперсию и стандартное отклонение. Результат оформим в сводной таблице."
   ]
  },
  {
   "cell_type": "code",
   "execution_count": 31,
   "metadata": {},
   "outputs": [
    {
     "data": {
      "text/html": [
       "<div>\n",
       "<style scoped>\n",
       "    .dataframe tbody tr th:only-of-type {\n",
       "        vertical-align: middle;\n",
       "    }\n",
       "\n",
       "    .dataframe tbody tr th {\n",
       "        vertical-align: top;\n",
       "    }\n",
       "\n",
       "    .dataframe thead th {\n",
       "        text-align: right;\n",
       "    }\n",
       "</style>\n",
       "<table border=\"1\" class=\"dataframe\">\n",
       "  <thead>\n",
       "    <tr style=\"text-align: right;\">\n",
       "      <th></th>\n",
       "      <th>tariff</th>\n",
       "      <th>mean</th>\n",
       "      <th>var</th>\n",
       "      <th>std</th>\n",
       "    </tr>\n",
       "  </thead>\n",
       "  <tbody>\n",
       "    <tr>\n",
       "      <th>0</th>\n",
       "      <td>smart</td>\n",
       "      <td>417.934948</td>\n",
       "      <td>36219.315784</td>\n",
       "      <td>190.313730</td>\n",
       "    </tr>\n",
       "    <tr>\n",
       "      <th>1</th>\n",
       "      <td>ultra</td>\n",
       "      <td>526.623350</td>\n",
       "      <td>100873.633397</td>\n",
       "      <td>317.606098</td>\n",
       "    </tr>\n",
       "  </tbody>\n",
       "</table>\n",
       "</div>"
      ],
      "text/plain": [
       "  tariff        mean            var         std\n",
       "0  smart  417.934948   36219.315784  190.313730\n",
       "1  ultra  526.623350  100873.633397  317.606098"
      ]
     },
     "execution_count": 31,
     "metadata": {},
     "output_type": "execute_result"
    },
    {
     "data": {
      "image/png": "[encoded data removed]",
      "text/plain": [
       "<Figure size 432x288 with 1 Axes>"
      ]
     },
     "metadata": {
      "needs_background": "light"
     },
     "output_type": "display_data"
    }
   ],
   "source": [
    "calls = df.groupby('tariff').agg({'calls_sum':['mean','var','std']}).reset_index() #сводная таблица \n",
    "calls.columns = ['tariff', 'mean','var','std']\n",
    "df.loc[df['tariff'] == 'smart', 'calls_sum'].hist(bins=30, alpha=0.6, color='c', label='smart', density=True)\n",
    "df.loc[df['tariff'] == 'ultra', 'calls_sum'].hist(bins=30, alpha=0.6, color='purple', label='ultra', density=True)\n",
    "plt.legend()\n",
    "calls"
   ]
  },
  {
   "cell_type": "markdown",
   "metadata": {},
   "source": [
    "Набор данных звонков в тарифе `Smart` и `Ultra` скошены влево"
   ]
  },
  {
   "cell_type": "code",
   "execution_count": 32,
   "metadata": {},
   "outputs": [
    {
     "data": {
      "text/html": [
       "<div>\n",
       "<style scoped>\n",
       "    .dataframe tbody tr th:only-of-type {\n",
       "        vertical-align: middle;\n",
       "    }\n",
       "\n",
       "    .dataframe tbody tr th {\n",
       "        vertical-align: top;\n",
       "    }\n",
       "\n",
       "    .dataframe thead th {\n",
       "        text-align: right;\n",
       "    }\n",
       "</style>\n",
       "<table border=\"1\" class=\"dataframe\">\n",
       "  <thead>\n",
       "    <tr style=\"text-align: right;\">\n",
       "      <th></th>\n",
       "      <th>tariff</th>\n",
       "      <th>mean</th>\n",
       "      <th>var</th>\n",
       "      <th>std</th>\n",
       "    </tr>\n",
       "  </thead>\n",
       "  <tbody>\n",
       "    <tr>\n",
       "      <th>0</th>\n",
       "      <td>smart</td>\n",
       "      <td>33.384029</td>\n",
       "      <td>796.812958</td>\n",
       "      <td>28.227876</td>\n",
       "    </tr>\n",
       "    <tr>\n",
       "      <th>1</th>\n",
       "      <td>ultra</td>\n",
       "      <td>49.363452</td>\n",
       "      <td>2285.266143</td>\n",
       "      <td>47.804457</td>\n",
       "    </tr>\n",
       "  </tbody>\n",
       "</table>\n",
       "</div>"
      ],
      "text/plain": [
       "  tariff       mean          var        std\n",
       "0  smart  33.384029   796.812958  28.227876\n",
       "1  ultra  49.363452  2285.266143  47.804457"
      ]
     },
     "execution_count": 32,
     "metadata": {},
     "output_type": "execute_result"
    },
    {
     "data": {
      "image/png": "[encoded data removed]",
      "text/plain": [
       "<Figure size 432x288 with 1 Axes>"
      ]
     },
     "metadata": {
      "needs_background": "light"
     },
     "output_type": "display_data"
    }
   ],
   "source": [
    "messages = df.groupby('tariff').agg({'messages_count':['mean','var','std']}).reset_index()\n",
    "messages.columns = ['tariff', 'mean','var','std']\n",
    "df.loc[df['tariff'] == 'smart', 'messages_count'].hist(bins=30, alpha=0.6, color='c', label='smart', density=True)\n",
    "df.loc[df['tariff'] == 'ultra', 'messages_count'].hist(bins=30, alpha=0.6, color='purple', label='ultra', density=True)\n",
    "plt.legend()\n",
    "messages"
   ]
  },
  {
   "cell_type": "markdown",
   "metadata": {},
   "source": [
    "Набор данных сообщений в тарифе `Smart` и `Ultra` скошены влево. Это распределение Пуассона."
   ]
  },
  {
   "cell_type": "code",
   "execution_count": 33,
   "metadata": {},
   "outputs": [
    {
     "data": {
      "text/html": [
       "<div>\n",
       "<style scoped>\n",
       "    .dataframe tbody tr th:only-of-type {\n",
       "        vertical-align: middle;\n",
       "    }\n",
       "\n",
       "    .dataframe tbody tr th {\n",
       "        vertical-align: top;\n",
       "    }\n",
       "\n",
       "    .dataframe thead th {\n",
       "        text-align: right;\n",
       "    }\n",
       "</style>\n",
       "<table border=\"1\" class=\"dataframe\">\n",
       "  <thead>\n",
       "    <tr style=\"text-align: right;\">\n",
       "      <th></th>\n",
       "      <th>tariff</th>\n",
       "      <th>mean</th>\n",
       "      <th>var</th>\n",
       "      <th>std</th>\n",
       "    </tr>\n",
       "  </thead>\n",
       "  <tbody>\n",
       "    <tr>\n",
       "      <th>0</th>\n",
       "      <td>smart</td>\n",
       "      <td>16208.386990</td>\n",
       "      <td>3.446250e+07</td>\n",
       "      <td>5870.476681</td>\n",
       "    </tr>\n",
       "    <tr>\n",
       "      <th>1</th>\n",
       "      <td>ultra</td>\n",
       "      <td>19468.805208</td>\n",
       "      <td>1.017510e+08</td>\n",
       "      <td>10087.170752</td>\n",
       "    </tr>\n",
       "  </tbody>\n",
       "</table>\n",
       "</div>"
      ],
      "text/plain": [
       "  tariff          mean           var           std\n",
       "0  smart  16208.386990  3.446250e+07   5870.476681\n",
       "1  ultra  19468.805208  1.017510e+08  10087.170752"
      ]
     },
     "execution_count": 33,
     "metadata": {},
     "output_type": "execute_result"
    },
    {
     "data": {
      "image/png": "[encoded data removed]",
      "text/plain": [
       "<Figure size 432x288 with 1 Axes>"
      ]
     },
     "metadata": {
      "needs_background": "light"
     },
     "output_type": "display_data"
    }
   ],
   "source": [
    "internet = df.groupby('tariff').agg({'internet_sum':['mean','var','std']}).reset_index()\n",
    "internet.columns = ['tariff', 'mean','var','std']\n",
    "df.loc[df['tariff'] == 'smart', 'internet_sum'].hist(bins=30, alpha=0.6, color='c', label='smart', density=True)\n",
    "df.loc[df['tariff'] == 'ultra', 'internet_sum'].hist(bins=30, alpha=0.6, color='purple', label='ultra', density=True)\n",
    "internet"
   ]
  },
  {
   "cell_type": "markdown",
   "metadata": {},
   "source": [
    "Набор данных интернета в тарифе `Smart` и `Ultra` распределены нормально"
   ]
  },
  {
   "cell_type": "markdown",
   "metadata": {},
   "source": [
    "### Вывод"
   ]
  },
  {
   "cell_type": "markdown",
   "metadata": {},
   "source": [
    "Средние показатели звонков, сообщений и Мбайт интернета различаются на 30, 56 и 21 процент соотвественно. У тариффа \"Ультра\" больше разброс."
   ]
  },
  {
   "cell_type": "markdown",
   "metadata": {},
   "source": [
    "## Проверка гипотез"
   ]
  },
  {
   "cell_type": "markdown",
   "metadata": {},
   "source": [
    "Для начала сформулируем нулевую гипотезу. В техническом задании сказано, что необходимо проверить различаются ли средняя выручка пользователей тарифов «Ультра» и «Смарт». Нулевая гипотеза будет выглядеть следующим образом: средние двух генеральных совокупностей равны между собой. Алтернативная: средние двух генеральных совокупностей не равны между собой. Чтобы подтвердить или опровергнуть нулевую гипотезу t-тест для проверки равенства среднего двух генеральных совокупностей по взятым из них выборкам"
   ]
  },
  {
   "cell_type": "code",
   "execution_count": 34,
   "metadata": {},
   "outputs": [
    {
     "name": "stdout",
     "output_type": "stream",
     "text": [
      "p-значение: 6.634158999848825e-247\n",
      "Отвергаем нулевую гипотезу\n"
     ]
    }
   ],
   "source": [
    "results=st.ttest_ind(\n",
    "    df.query('tariff==\"smart\"')['income'], \n",
    "    df.query('tariff==\"ultra\"')['income'])\n",
    "alpha = 0.05\n",
    "print('p-значение:', results.pvalue)\n",
    "\n",
    "if results.pvalue < alpha:\n",
    "    print(\"Отвергаем нулевую гипотезу\")\n",
    "else:\n",
    "    print(\"Не получилось отвергнуть нулевую гипотезу\")"
   ]
  },
  {
   "cell_type": "code",
   "execution_count": 35,
   "metadata": {},
   "outputs": [
    {
     "data": {
      "text/plain": [
       "0"
      ]
     },
     "execution_count": 35,
     "metadata": {},
     "output_type": "execute_result"
    }
   ],
   "source": [
    "df.query('tariff==\"ultra\"')['income'].isna().sum()"
   ]
  },
  {
   "cell_type": "markdown",
   "metadata": {},
   "source": [
    "p-значение получилось меньше, чем критический уровень статистической значимости alpha. Это говорит о значимом различии между средними выручками пользователей тарифа «Ультра» и «Смарт»."
   ]
  },
  {
   "cell_type": "markdown",
   "metadata": {},
   "source": [
    "Далее проверим следущую гипотезу из технического задания: средняя выручка пользователей из Москвы отличается от выручки пользователей из других регионов. Нулевая гипотеза: средние двух генеральных совокупностей равны между собой. Алтернативная: средние двух генеральных совокупностей не равны между собой. Для проверки гипотез проведем также t-тест."
   ]
  },
  {
   "cell_type": "code",
   "execution_count": 36,
   "metadata": {},
   "outputs": [
    {
     "name": "stdout",
     "output_type": "stream",
     "text": [
      "p-значение: 0.16156029276755443\n",
      "Не получилось отвергнуть нулевую гипотезу\n"
     ]
    }
   ],
   "source": [
    "results=st.ttest_ind(\n",
    "    df.query('city==\"Москва\"')['income'], \n",
    "    df.query('city!=\"Москва\"')['income'])\n",
    "alpha = 0.05\n",
    "print('p-значение:', results.pvalue)\n",
    "\n",
    "if results.pvalue < alpha:\n",
    "    print(\"Отвергаем нулевую гипотезу\")\n",
    "else:\n",
    "    print(\"Не получилось отвергнуть нулевую гипотезу\")"
   ]
  },
  {
   "cell_type": "markdown",
   "metadata": {},
   "source": [
    "Так как p-значение получилось больше критического уровня статистической значимости, статистически средняя выручка пользователей из Москвы отличается не значительно от выручки пользователей из других регионов."
   ]
  },
  {
   "cell_type": "markdown",
   "metadata": {},
   "source": [
    "## Общий вывод"
   ]
  },
  {
   "cell_type": "markdown",
   "metadata": {},
   "source": [
    "На основе анализа, можно сделать вывод, что в средняя выручка между двумя тарифами отличается между собой. Также можно сказать, что средняя выручка из Москвы не отличается от выручки пользователей из регионов."
   ]
  },
  {
   "cell_type": "code",
   "execution_count": 37,
   "metadata": {},
   "outputs": [
    {
     "data": {
      "text/plain": [
       "2070.1522842639592"
      ]
     },
     "execution_count": 37,
     "metadata": {},
     "output_type": "execute_result"
    }
   ],
   "source": [
    "df.loc[df['tariff'] == 'ultra','income'].mean() #средний показатель выручки тарифа \"Ультра\""
   ]
  },
  {
   "cell_type": "code",
   "execution_count": 38,
   "metadata": {},
   "outputs": [
    {
     "data": {
      "text/plain": [
       "1175.8968147151188"
      ]
     },
     "execution_count": 38,
     "metadata": {},
     "output_type": "execute_result"
    }
   ],
   "source": [
    "df.loc[df['tariff'] == 'smart','income'].mean() #средний показатель выручки тарифа \"Смарт\""
   ]
  },
  {
   "cell_type": "markdown",
   "metadata": {},
   "source": [
    "Средняя выручка тарифа \"Ультра\" больше, чем тарифа \"Смарт\""
   ]
  },
  {
   "cell_type": "code",
   "execution_count": 39,
   "metadata": {},
   "outputs": [
    {
     "data": {
      "text/plain": [
       "<AxesSubplot:xlabel='internet_sum', ylabel='income'>"
      ]
     },
     "execution_count": 39,
     "metadata": {},
     "output_type": "execute_result"
    },
    {
     "data": {
      "image/png": "[encoded data removed]",
      "text/plain": [
       "<Figure size 432x288 with 1 Axes>"
      ]
     },
     "metadata": {
      "needs_background": "light"
     },
     "output_type": "display_data"
    }
   ],
   "source": [
    "df.loc[df['tariff'] == 'ultra',['income','internet_sum']].plot(y='income',x='internet_sum', kind='scatter')"
   ]
  },
  {
   "cell_type": "code",
   "execution_count": 40,
   "metadata": {},
   "outputs": [
    {
     "data": {
      "text/plain": [
       "<AxesSubplot:xlabel='calls_sum', ylabel='income'>"
      ]
     },
     "execution_count": 40,
     "metadata": {},
     "output_type": "execute_result"
    },
    {
     "data": {
      "image/png": "[encoded data removed]",
      "text/plain": [
       "<Figure size 432x288 with 1 Axes>"
      ]
     },
     "metadata": {
      "needs_background": "light"
     },
     "output_type": "display_data"
    }
   ],
   "source": [
    "df.loc[df['tariff'] == 'ultra',['income','calls_sum']].plot(y='income',x='calls_sum', kind='scatter')"
   ]
  },
  {
   "cell_type": "code",
   "execution_count": 41,
   "metadata": {},
   "outputs": [
    {
     "data": {
      "text/plain": [
       "<AxesSubplot:xlabel='messages_count', ylabel='income'>"
      ]
     },
     "execution_count": 41,
     "metadata": {},
     "output_type": "execute_result"
    },
    {
     "data": {
      "image/png": "[encoded data removed]",
      "text/plain": [
       "<Figure size 432x288 with 1 Axes>"
      ]
     },
     "metadata": {
      "needs_background": "light"
     },
     "output_type": "display_data"
    }
   ],
   "source": [
    "df.loc[df['tariff'] == 'ultra',['income','messages_count']].plot(y='income',x='messages_count', kind='scatter')"
   ]
  },
  {
   "cell_type": "markdown",
   "metadata": {},
   "source": [
    "По графикам можно сказать, что с увеличением расходов интернета у пользователей также пропорционально увеличивается показатели выручки. Показатели расхода звонков и сообщений не показывают такой зависимости. "
   ]
  }
 ],
 "metadata": {
  "ExecuteTimeLog": [
   {
    "duration": 752,
    "start_time": "2022-05-24T22:59:29.938Z"
   },
   {
    "duration": 263,
    "start_time": "2022-05-24T23:10:21.096Z"
   },
   {
    "duration": 173,
    "start_time": "2022-05-24T23:10:30.844Z"
   },
   {
    "duration": 31,
    "start_time": "2022-05-24T23:10:57.237Z"
   },
   {
    "duration": 4,
    "start_time": "2022-05-24T23:12:56.845Z"
   },
   {
    "duration": 368,
    "start_time": "2022-05-24T23:15:52.392Z"
   },
   {
    "duration": 23,
    "start_time": "2022-05-24T23:16:10.248Z"
   },
   {
    "duration": 344,
    "start_time": "2022-05-24T23:21:03.081Z"
   },
   {
    "duration": 19,
    "start_time": "2022-05-24T23:21:23.699Z"
   },
   {
    "duration": 73,
    "start_time": "2022-05-24T23:23:49.824Z"
   },
   {
    "duration": 26,
    "start_time": "2022-05-24T23:23:59.449Z"
   },
   {
    "duration": 31,
    "start_time": "2022-05-24T23:24:07.422Z"
   },
   {
    "duration": 13,
    "start_time": "2022-05-24T23:24:35.598Z"
   },
   {
    "duration": 82,
    "start_time": "2022-05-24T23:27:39.733Z"
   },
   {
    "duration": 13,
    "start_time": "2022-05-24T23:27:55.721Z"
   },
   {
    "duration": 34,
    "start_time": "2022-05-24T23:32:39.223Z"
   },
   {
    "duration": 18,
    "start_time": "2022-05-24T23:32:53.231Z"
   },
   {
    "duration": 9,
    "start_time": "2022-05-24T23:33:40.472Z"
   },
   {
    "duration": 26,
    "start_time": "2022-05-24T23:34:06.276Z"
   },
   {
    "duration": 57,
    "start_time": "2022-05-24T23:38:27.351Z"
   },
   {
    "duration": 51,
    "start_time": "2022-05-24T23:39:19.154Z"
   },
   {
    "duration": 86,
    "start_time": "2022-05-24T23:42:57.154Z"
   },
   {
    "duration": 4,
    "start_time": "2022-05-24T23:43:24.862Z"
   },
   {
    "duration": 7,
    "start_time": "2022-05-24T23:43:33.951Z"
   },
   {
    "duration": 9,
    "start_time": "2022-05-24T23:43:41.350Z"
   },
   {
    "duration": 13,
    "start_time": "2022-05-24T23:47:11.514Z"
   },
   {
    "duration": 8,
    "start_time": "2022-05-24T23:47:28.768Z"
   },
   {
    "duration": 7,
    "start_time": "2022-05-24T23:47:36.595Z"
   },
   {
    "duration": 58,
    "start_time": "2022-05-24T23:47:50.019Z"
   },
   {
    "duration": 59,
    "start_time": "2022-05-25T12:42:11.847Z"
   },
   {
    "duration": 425,
    "start_time": "2022-05-25T12:42:19.189Z"
   },
   {
    "duration": 483,
    "start_time": "2022-05-25T12:42:19.616Z"
   },
   {
    "duration": 26,
    "start_time": "2022-05-25T12:42:20.100Z"
   },
   {
    "duration": 422,
    "start_time": "2022-05-25T12:42:20.129Z"
   },
   {
    "duration": 23,
    "start_time": "2022-05-25T12:42:20.553Z"
   },
   {
    "duration": 169,
    "start_time": "2022-05-25T12:42:20.578Z"
   },
   {
    "duration": 18,
    "start_time": "2022-05-25T12:42:20.748Z"
   },
   {
    "duration": 61,
    "start_time": "2022-05-25T12:42:20.768Z"
   },
   {
    "duration": 10,
    "start_time": "2022-05-25T12:42:20.830Z"
   },
   {
    "duration": 82,
    "start_time": "2022-05-25T12:42:20.842Z"
   },
   {
    "duration": 10,
    "start_time": "2022-05-25T12:42:20.926Z"
   },
   {
    "duration": 9,
    "start_time": "2022-05-25T12:42:20.939Z"
   },
   {
    "duration": 21,
    "start_time": "2022-05-25T12:42:20.950Z"
   },
   {
    "duration": 19,
    "start_time": "2022-05-25T12:42:20.973Z"
   },
   {
    "duration": 24,
    "start_time": "2022-05-25T12:42:20.994Z"
   },
   {
    "duration": 117,
    "start_time": "2022-05-25T12:42:21.020Z"
   },
   {
    "duration": 8,
    "start_time": "2022-05-25T12:42:25.069Z"
   },
   {
    "duration": 43,
    "start_time": "2022-05-25T12:42:45.494Z"
   },
   {
    "duration": 13,
    "start_time": "2022-05-25T12:43:27.038Z"
   },
   {
    "duration": 23,
    "start_time": "2022-05-25T12:43:38.717Z"
   },
   {
    "duration": 8,
    "start_time": "2022-05-25T12:44:18.352Z"
   },
   {
    "duration": 18,
    "start_time": "2022-05-25T12:44:46.383Z"
   },
   {
    "duration": 53,
    "start_time": "2022-05-25T12:47:08.628Z"
   },
   {
    "duration": 15,
    "start_time": "2022-05-25T12:47:51.283Z"
   },
   {
    "duration": 8,
    "start_time": "2022-05-25T12:48:20.519Z"
   },
   {
    "duration": 15,
    "start_time": "2022-05-25T12:49:25.918Z"
   },
   {
    "duration": 37,
    "start_time": "2022-05-25T12:49:39.096Z"
   },
   {
    "duration": 7,
    "start_time": "2022-05-25T12:49:48.105Z"
   },
   {
    "duration": 11,
    "start_time": "2022-05-25T12:50:24.400Z"
   },
   {
    "duration": 77,
    "start_time": "2022-05-25T12:50:37.322Z"
   },
   {
    "duration": 8,
    "start_time": "2022-05-25T12:50:49.338Z"
   },
   {
    "duration": 6,
    "start_time": "2022-05-25T12:51:04.192Z"
   },
   {
    "duration": 650,
    "start_time": "2022-05-25T12:51:35.810Z"
   },
   {
    "duration": 5,
    "start_time": "2022-05-25T12:51:50.153Z"
   },
   {
    "duration": 6,
    "start_time": "2022-05-25T12:52:16.756Z"
   },
   {
    "duration": 4,
    "start_time": "2022-05-25T12:52:32.287Z"
   },
   {
    "duration": 8,
    "start_time": "2022-05-25T12:52:33.310Z"
   },
   {
    "duration": 5,
    "start_time": "2022-05-25T12:52:40.235Z"
   },
   {
    "duration": 11,
    "start_time": "2022-05-25T12:53:08.677Z"
   },
   {
    "duration": 9,
    "start_time": "2022-05-25T12:53:20.140Z"
   },
   {
    "duration": 13,
    "start_time": "2022-05-25T12:53:23.993Z"
   },
   {
    "duration": 435,
    "start_time": "2022-05-25T12:53:48.259Z"
   },
   {
    "duration": 166,
    "start_time": "2022-05-25T12:53:48.696Z"
   },
   {
    "duration": 25,
    "start_time": "2022-05-25T12:53:48.864Z"
   },
   {
    "duration": 141,
    "start_time": "2022-05-25T12:53:48.895Z"
   },
   {
    "duration": 21,
    "start_time": "2022-05-25T12:53:49.037Z"
   },
   {
    "duration": 96,
    "start_time": "2022-05-25T12:53:49.059Z"
   },
   {
    "duration": 18,
    "start_time": "2022-05-25T12:53:49.157Z"
   },
   {
    "duration": 23,
    "start_time": "2022-05-25T12:53:49.177Z"
   },
   {
    "duration": 9,
    "start_time": "2022-05-25T12:53:49.201Z"
   },
   {
    "duration": 35,
    "start_time": "2022-05-25T12:53:49.213Z"
   },
   {
    "duration": 9,
    "start_time": "2022-05-25T12:53:49.250Z"
   },
   {
    "duration": 8,
    "start_time": "2022-05-25T12:53:49.261Z"
   },
   {
    "duration": 5,
    "start_time": "2022-05-25T12:53:49.271Z"
   },
   {
    "duration": 9,
    "start_time": "2022-05-25T12:53:49.277Z"
   },
   {
    "duration": 7,
    "start_time": "2022-05-25T12:53:49.294Z"
   },
   {
    "duration": 91,
    "start_time": "2022-05-25T12:53:49.303Z"
   },
   {
    "duration": 0,
    "start_time": "2022-05-25T12:53:49.396Z"
   },
   {
    "duration": 0,
    "start_time": "2022-05-25T12:53:49.397Z"
   },
   {
    "duration": 0,
    "start_time": "2022-05-25T12:53:49.398Z"
   },
   {
    "duration": 0,
    "start_time": "2022-05-25T12:53:49.400Z"
   },
   {
    "duration": 409,
    "start_time": "2022-05-25T12:54:39.517Z"
   },
   {
    "duration": 186,
    "start_time": "2022-05-25T12:54:39.929Z"
   },
   {
    "duration": 30,
    "start_time": "2022-05-25T12:54:40.116Z"
   },
   {
    "duration": 173,
    "start_time": "2022-05-25T12:54:40.147Z"
   },
   {
    "duration": 21,
    "start_time": "2022-05-25T12:54:40.322Z"
   },
   {
    "duration": 94,
    "start_time": "2022-05-25T12:54:40.344Z"
   },
   {
    "duration": 18,
    "start_time": "2022-05-25T12:54:40.440Z"
   },
   {
    "duration": 19,
    "start_time": "2022-05-25T12:54:40.459Z"
   },
   {
    "duration": 21,
    "start_time": "2022-05-25T12:54:40.480Z"
   },
   {
    "duration": 50,
    "start_time": "2022-05-25T12:54:40.502Z"
   },
   {
    "duration": 10,
    "start_time": "2022-05-25T12:54:40.554Z"
   },
   {
    "duration": 19,
    "start_time": "2022-05-25T12:54:40.566Z"
   },
   {
    "duration": 14,
    "start_time": "2022-05-25T12:54:40.586Z"
   },
   {
    "duration": 8,
    "start_time": "2022-05-25T12:54:40.603Z"
   },
   {
    "duration": 9,
    "start_time": "2022-05-25T12:54:40.613Z"
   },
   {
    "duration": 24,
    "start_time": "2022-05-25T12:54:40.624Z"
   },
   {
    "duration": 36,
    "start_time": "2022-05-25T12:54:40.650Z"
   },
   {
    "duration": 23,
    "start_time": "2022-05-25T12:54:40.688Z"
   },
   {
    "duration": 19,
    "start_time": "2022-05-25T12:54:40.713Z"
   },
   {
    "duration": 11,
    "start_time": "2022-05-25T12:54:40.733Z"
   },
   {
    "duration": 4,
    "start_time": "2022-05-25T12:55:02.112Z"
   },
   {
    "duration": 6,
    "start_time": "2022-05-25T12:55:04.727Z"
   },
   {
    "duration": 443,
    "start_time": "2022-05-25T12:55:14.375Z"
   },
   {
    "duration": 177,
    "start_time": "2022-05-25T12:55:14.820Z"
   },
   {
    "duration": 28,
    "start_time": "2022-05-25T12:55:14.999Z"
   },
   {
    "duration": 152,
    "start_time": "2022-05-25T12:55:15.029Z"
   },
   {
    "duration": 25,
    "start_time": "2022-05-25T12:55:15.183Z"
   },
   {
    "duration": 96,
    "start_time": "2022-05-25T12:55:15.210Z"
   },
   {
    "duration": 29,
    "start_time": "2022-05-25T12:55:15.307Z"
   },
   {
    "duration": 19,
    "start_time": "2022-05-25T12:55:15.338Z"
   },
   {
    "duration": 10,
    "start_time": "2022-05-25T12:55:15.359Z"
   },
   {
    "duration": 39,
    "start_time": "2022-05-25T12:55:15.373Z"
   },
   {
    "duration": 12,
    "start_time": "2022-05-25T12:55:15.416Z"
   },
   {
    "duration": 10,
    "start_time": "2022-05-25T12:55:15.430Z"
   },
   {
    "duration": 12,
    "start_time": "2022-05-25T12:55:15.442Z"
   },
   {
    "duration": 31,
    "start_time": "2022-05-25T12:55:15.457Z"
   },
   {
    "duration": 13,
    "start_time": "2022-05-25T12:55:15.490Z"
   },
   {
    "duration": 14,
    "start_time": "2022-05-25T12:55:15.505Z"
   },
   {
    "duration": 40,
    "start_time": "2022-05-25T12:55:15.520Z"
   },
   {
    "duration": 32,
    "start_time": "2022-05-25T12:55:15.562Z"
   },
   {
    "duration": 22,
    "start_time": "2022-05-25T12:55:15.596Z"
   },
   {
    "duration": 11,
    "start_time": "2022-05-25T12:55:15.620Z"
   },
   {
    "duration": 5,
    "start_time": "2022-05-25T12:56:17.520Z"
   },
   {
    "duration": 78,
    "start_time": "2022-05-25T12:56:31.651Z"
   },
   {
    "duration": 4,
    "start_time": "2022-05-25T12:57:42.275Z"
   },
   {
    "duration": 8,
    "start_time": "2022-05-25T12:57:47.313Z"
   },
   {
    "duration": 404,
    "start_time": "2022-05-25T12:57:56.940Z"
   },
   {
    "duration": 208,
    "start_time": "2022-05-25T12:57:57.346Z"
   },
   {
    "duration": 40,
    "start_time": "2022-05-25T12:57:57.556Z"
   },
   {
    "duration": 153,
    "start_time": "2022-05-25T12:57:57.599Z"
   },
   {
    "duration": 21,
    "start_time": "2022-05-25T12:57:57.754Z"
   },
   {
    "duration": 104,
    "start_time": "2022-05-25T12:57:57.777Z"
   },
   {
    "duration": 29,
    "start_time": "2022-05-25T12:57:57.883Z"
   },
   {
    "duration": 20,
    "start_time": "2022-05-25T12:57:57.913Z"
   },
   {
    "duration": 10,
    "start_time": "2022-05-25T12:57:57.934Z"
   },
   {
    "duration": 35,
    "start_time": "2022-05-25T12:57:57.947Z"
   },
   {
    "duration": 10,
    "start_time": "2022-05-25T12:57:57.983Z"
   },
   {
    "duration": 8,
    "start_time": "2022-05-25T12:57:57.995Z"
   },
   {
    "duration": 10,
    "start_time": "2022-05-25T12:57:58.004Z"
   },
   {
    "duration": 13,
    "start_time": "2022-05-25T12:57:58.015Z"
   },
   {
    "duration": 10,
    "start_time": "2022-05-25T12:57:58.030Z"
   },
   {
    "duration": 18,
    "start_time": "2022-05-25T12:57:58.042Z"
   },
   {
    "duration": 13,
    "start_time": "2022-05-25T12:57:58.061Z"
   },
   {
    "duration": 43,
    "start_time": "2022-05-25T12:57:58.075Z"
   },
   {
    "duration": 24,
    "start_time": "2022-05-25T12:57:58.120Z"
   },
   {
    "duration": 19,
    "start_time": "2022-05-25T12:57:58.145Z"
   },
   {
    "duration": 28,
    "start_time": "2022-05-25T12:57:58.166Z"
   },
   {
    "duration": 7,
    "start_time": "2022-05-25T13:04:02.777Z"
   },
   {
    "duration": 123,
    "start_time": "2022-05-25T13:04:10.246Z"
   },
   {
    "duration": 60,
    "start_time": "2022-05-25T13:04:17.632Z"
   },
   {
    "duration": 47,
    "start_time": "2022-05-25T13:04:24.644Z"
   },
   {
    "duration": 484,
    "start_time": "2022-05-25T13:07:59.672Z"
   },
   {
    "duration": 198,
    "start_time": "2022-05-25T13:08:00.158Z"
   },
   {
    "duration": 27,
    "start_time": "2022-05-25T13:08:00.358Z"
   },
   {
    "duration": 156,
    "start_time": "2022-05-25T13:08:00.395Z"
   },
   {
    "duration": 22,
    "start_time": "2022-05-25T13:08:00.553Z"
   },
   {
    "duration": 128,
    "start_time": "2022-05-25T13:08:00.577Z"
   },
   {
    "duration": 20,
    "start_time": "2022-05-25T13:08:00.708Z"
   },
   {
    "duration": 40,
    "start_time": "2022-05-25T13:08:00.730Z"
   },
   {
    "duration": 11,
    "start_time": "2022-05-25T13:08:00.772Z"
   },
   {
    "duration": 53,
    "start_time": "2022-05-25T13:08:00.787Z"
   },
   {
    "duration": 12,
    "start_time": "2022-05-25T13:08:00.842Z"
   },
   {
    "duration": 24,
    "start_time": "2022-05-25T13:08:00.855Z"
   },
   {
    "duration": 51,
    "start_time": "2022-05-25T13:08:00.881Z"
   },
   {
    "duration": 26,
    "start_time": "2022-05-25T13:08:00.934Z"
   },
   {
    "duration": 22,
    "start_time": "2022-05-25T13:08:00.962Z"
   },
   {
    "duration": 14,
    "start_time": "2022-05-25T13:08:00.994Z"
   },
   {
    "duration": 66,
    "start_time": "2022-05-25T13:08:01.010Z"
   },
   {
    "duration": 5,
    "start_time": "2022-05-25T13:08:01.078Z"
   },
   {
    "duration": 75,
    "start_time": "2022-05-25T13:08:25.110Z"
   },
   {
    "duration": 17,
    "start_time": "2022-05-25T13:08:45.577Z"
   },
   {
    "duration": 12,
    "start_time": "2022-05-25T13:08:57.418Z"
   },
   {
    "duration": 77,
    "start_time": "2022-05-25T21:54:07.667Z"
   },
   {
    "duration": 416,
    "start_time": "2022-05-25T21:54:45.331Z"
   },
   {
    "duration": 172,
    "start_time": "2022-05-25T21:54:45.749Z"
   },
   {
    "duration": 28,
    "start_time": "2022-05-25T21:54:45.922Z"
   },
   {
    "duration": 138,
    "start_time": "2022-05-25T21:54:45.953Z"
   },
   {
    "duration": 21,
    "start_time": "2022-05-25T21:54:46.092Z"
   },
   {
    "duration": 106,
    "start_time": "2022-05-25T21:54:46.115Z"
   },
   {
    "duration": 22,
    "start_time": "2022-05-25T21:54:46.227Z"
   },
   {
    "duration": 46,
    "start_time": "2022-05-25T21:54:46.251Z"
   },
   {
    "duration": 25,
    "start_time": "2022-05-25T21:54:46.299Z"
   },
   {
    "duration": 45,
    "start_time": "2022-05-25T21:54:46.327Z"
   },
   {
    "duration": 14,
    "start_time": "2022-05-25T21:54:46.375Z"
   },
   {
    "duration": 11,
    "start_time": "2022-05-25T21:54:46.392Z"
   },
   {
    "duration": 44,
    "start_time": "2022-05-25T21:54:46.405Z"
   },
   {
    "duration": 30,
    "start_time": "2022-05-25T21:54:46.452Z"
   },
   {
    "duration": 45,
    "start_time": "2022-05-25T21:54:46.485Z"
   },
   {
    "duration": 10,
    "start_time": "2022-05-25T21:54:46.533Z"
   },
   {
    "duration": 13,
    "start_time": "2022-05-25T21:54:46.545Z"
   },
   {
    "duration": 95,
    "start_time": "2022-05-25T21:55:04.552Z"
   },
   {
    "duration": 454,
    "start_time": "2022-05-25T21:55:19.108Z"
   },
   {
    "duration": 186,
    "start_time": "2022-05-25T21:55:19.565Z"
   },
   {
    "duration": 26,
    "start_time": "2022-05-25T21:55:19.753Z"
   },
   {
    "duration": 147,
    "start_time": "2022-05-25T21:55:19.781Z"
   },
   {
    "duration": 20,
    "start_time": "2022-05-25T21:55:19.930Z"
   },
   {
    "duration": 102,
    "start_time": "2022-05-25T21:55:19.952Z"
   },
   {
    "duration": 17,
    "start_time": "2022-05-25T21:55:20.056Z"
   },
   {
    "duration": 20,
    "start_time": "2022-05-25T21:55:20.075Z"
   },
   {
    "duration": 11,
    "start_time": "2022-05-25T21:55:20.097Z"
   },
   {
    "duration": 52,
    "start_time": "2022-05-25T21:55:20.109Z"
   },
   {
    "duration": 9,
    "start_time": "2022-05-25T21:55:20.163Z"
   },
   {
    "duration": 16,
    "start_time": "2022-05-25T21:55:20.174Z"
   },
   {
    "duration": 38,
    "start_time": "2022-05-25T21:55:20.191Z"
   },
   {
    "duration": 21,
    "start_time": "2022-05-25T21:55:20.231Z"
   },
   {
    "duration": 18,
    "start_time": "2022-05-25T21:55:20.254Z"
   },
   {
    "duration": 9,
    "start_time": "2022-05-25T21:55:20.273Z"
   },
   {
    "duration": 23,
    "start_time": "2022-05-25T21:55:20.284Z"
   },
   {
    "duration": 49,
    "start_time": "2022-05-25T22:01:54.043Z"
   },
   {
    "duration": 454,
    "start_time": "2022-05-25T22:05:36.611Z"
   },
   {
    "duration": 39,
    "start_time": "2022-05-25T22:06:00.709Z"
   },
   {
    "duration": 35,
    "start_time": "2022-05-25T22:09:56.272Z"
   },
   {
    "duration": 33,
    "start_time": "2022-05-25T22:11:39.108Z"
   },
   {
    "duration": 1018,
    "start_time": "2022-05-25T22:16:04.940Z"
   },
   {
    "duration": 172,
    "start_time": "2022-05-25T22:16:34.850Z"
   },
   {
    "duration": 434,
    "start_time": "2022-05-25T22:18:12.319Z"
   },
   {
    "duration": 185,
    "start_time": "2022-05-25T22:18:12.755Z"
   },
   {
    "duration": 26,
    "start_time": "2022-05-25T22:18:12.942Z"
   },
   {
    "duration": 139,
    "start_time": "2022-05-25T22:18:12.970Z"
   },
   {
    "duration": 27,
    "start_time": "2022-05-25T22:18:13.111Z"
   },
   {
    "duration": 99,
    "start_time": "2022-05-25T22:18:13.141Z"
   },
   {
    "duration": 17,
    "start_time": "2022-05-25T22:18:13.242Z"
   },
   {
    "duration": 22,
    "start_time": "2022-05-25T22:18:13.261Z"
   },
   {
    "duration": 9,
    "start_time": "2022-05-25T22:18:13.285Z"
   },
   {
    "duration": 47,
    "start_time": "2022-05-25T22:18:13.296Z"
   },
   {
    "duration": 10,
    "start_time": "2022-05-25T22:18:13.345Z"
   },
   {
    "duration": 7,
    "start_time": "2022-05-25T22:18:13.357Z"
   },
   {
    "duration": 37,
    "start_time": "2022-05-25T22:18:13.365Z"
   },
   {
    "duration": 41,
    "start_time": "2022-05-25T22:18:13.403Z"
   },
   {
    "duration": 19,
    "start_time": "2022-05-25T22:18:13.447Z"
   },
   {
    "duration": 10,
    "start_time": "2022-05-25T22:18:13.468Z"
   },
   {
    "duration": 13,
    "start_time": "2022-05-25T22:18:13.480Z"
   },
   {
    "duration": 76,
    "start_time": "2022-05-25T22:18:13.495Z"
   },
   {
    "duration": 72,
    "start_time": "2022-05-25T22:18:13.573Z"
   },
   {
    "duration": 540,
    "start_time": "2022-05-25T22:18:13.648Z"
   },
   {
    "duration": 270,
    "start_time": "2022-05-25T22:18:14.190Z"
   },
   {
    "duration": 101,
    "start_time": "2022-05-25T22:18:14.462Z"
   },
   {
    "duration": 170,
    "start_time": "2022-05-25T22:21:15.145Z"
   },
   {
    "duration": 47,
    "start_time": "2022-05-25T22:27:14.874Z"
   },
   {
    "duration": 54,
    "start_time": "2022-05-25T22:27:28.002Z"
   },
   {
    "duration": 41,
    "start_time": "2022-05-25T22:27:32.244Z"
   },
   {
    "duration": 46,
    "start_time": "2022-05-25T22:29:18.388Z"
   },
   {
    "duration": 176,
    "start_time": "2022-05-25T22:29:30.998Z"
   },
   {
    "duration": 173,
    "start_time": "2022-05-25T22:30:50.812Z"
   },
   {
    "duration": 161,
    "start_time": "2022-05-25T22:31:58.559Z"
   },
   {
    "duration": 175,
    "start_time": "2022-05-25T22:32:58.020Z"
   },
   {
    "duration": 13,
    "start_time": "2022-05-25T22:34:12.674Z"
   },
   {
    "duration": 10,
    "start_time": "2022-05-25T22:38:55.046Z"
   },
   {
    "duration": 11,
    "start_time": "2022-05-25T22:39:09.358Z"
   },
   {
    "duration": 11,
    "start_time": "2022-05-25T22:41:04.385Z"
   },
   {
    "duration": 9,
    "start_time": "2022-05-25T22:41:20.010Z"
   },
   {
    "duration": 57,
    "start_time": "2022-05-26T22:15:19.225Z"
   },
   {
    "duration": 390,
    "start_time": "2022-05-26T22:15:25.737Z"
   },
   {
    "duration": 827,
    "start_time": "2022-05-26T22:15:26.129Z"
   },
   {
    "duration": 24,
    "start_time": "2022-05-26T22:15:26.957Z"
   },
   {
    "duration": 437,
    "start_time": "2022-05-26T22:15:26.983Z"
   },
   {
    "duration": 20,
    "start_time": "2022-05-26T22:15:27.421Z"
   },
   {
    "duration": 149,
    "start_time": "2022-05-26T22:15:27.442Z"
   },
   {
    "duration": 16,
    "start_time": "2022-05-26T22:15:27.593Z"
   },
   {
    "duration": 48,
    "start_time": "2022-05-26T22:15:27.611Z"
   },
   {
    "duration": 9,
    "start_time": "2022-05-26T22:15:27.660Z"
   },
   {
    "duration": 62,
    "start_time": "2022-05-26T22:15:27.672Z"
   },
   {
    "duration": 10,
    "start_time": "2022-05-26T22:15:27.735Z"
   },
   {
    "duration": 7,
    "start_time": "2022-05-26T22:15:27.746Z"
   },
   {
    "duration": 33,
    "start_time": "2022-05-26T22:15:27.754Z"
   },
   {
    "duration": 22,
    "start_time": "2022-05-26T22:15:27.788Z"
   },
   {
    "duration": 16,
    "start_time": "2022-05-26T22:15:27.811Z"
   },
   {
    "duration": 8,
    "start_time": "2022-05-26T22:15:27.829Z"
   },
   {
    "duration": 15,
    "start_time": "2022-05-26T22:15:27.839Z"
   },
   {
    "duration": 70,
    "start_time": "2022-05-26T22:15:27.855Z"
   },
   {
    "duration": 706,
    "start_time": "2022-05-26T22:15:27.927Z"
   },
   {
    "duration": 179,
    "start_time": "2022-05-26T22:15:28.635Z"
   },
   {
    "duration": 173,
    "start_time": "2022-05-26T22:15:28.816Z"
   },
   {
    "duration": 175,
    "start_time": "2022-05-26T22:15:28.990Z"
   },
   {
    "duration": 12,
    "start_time": "2022-05-26T22:15:29.166Z"
   },
   {
    "duration": 231,
    "start_time": "2022-05-26T22:15:54.714Z"
   },
   {
    "duration": 305,
    "start_time": "2022-05-26T22:15:58.000Z"
   },
   {
    "duration": 260,
    "start_time": "2022-05-26T22:18:06.506Z"
   },
   {
    "duration": 277,
    "start_time": "2022-05-26T22:18:37.681Z"
   },
   {
    "duration": 304,
    "start_time": "2022-05-26T22:18:54.148Z"
   },
   {
    "duration": 263,
    "start_time": "2022-05-26T22:19:19.267Z"
   },
   {
    "duration": 77,
    "start_time": "2022-05-26T22:20:30.918Z"
   },
   {
    "duration": 12,
    "start_time": "2022-05-26T22:20:49.028Z"
   },
   {
    "duration": 4,
    "start_time": "2022-05-26T22:21:19.379Z"
   },
   {
    "duration": 13,
    "start_time": "2022-05-26T22:21:26.558Z"
   },
   {
    "duration": 8,
    "start_time": "2022-05-26T22:22:36.292Z"
   },
   {
    "duration": 145,
    "start_time": "2022-05-26T22:22:43.073Z"
   },
   {
    "duration": 401,
    "start_time": "2022-05-26T22:22:53.035Z"
   },
   {
    "duration": 196,
    "start_time": "2022-05-26T22:22:53.438Z"
   },
   {
    "duration": 26,
    "start_time": "2022-05-26T22:22:53.635Z"
   },
   {
    "duration": 165,
    "start_time": "2022-05-26T22:22:53.664Z"
   },
   {
    "duration": 20,
    "start_time": "2022-05-26T22:22:53.830Z"
   },
   {
    "duration": 98,
    "start_time": "2022-05-26T22:22:53.852Z"
   },
   {
    "duration": 18,
    "start_time": "2022-05-26T22:22:53.952Z"
   },
   {
    "duration": 36,
    "start_time": "2022-05-26T22:22:53.971Z"
   },
   {
    "duration": 13,
    "start_time": "2022-05-26T22:22:54.008Z"
   },
   {
    "duration": 33,
    "start_time": "2022-05-26T22:22:54.025Z"
   },
   {
    "duration": 11,
    "start_time": "2022-05-26T22:22:54.059Z"
   },
   {
    "duration": 5,
    "start_time": "2022-05-26T22:22:54.072Z"
   },
   {
    "duration": 43,
    "start_time": "2022-05-26T22:22:54.079Z"
   },
   {
    "duration": 23,
    "start_time": "2022-05-26T22:22:54.123Z"
   },
   {
    "duration": 18,
    "start_time": "2022-05-26T22:22:54.148Z"
   },
   {
    "duration": 9,
    "start_time": "2022-05-26T22:22:54.168Z"
   },
   {
    "duration": 41,
    "start_time": "2022-05-26T22:22:54.200Z"
   },
   {
    "duration": 57,
    "start_time": "2022-05-26T22:22:54.243Z"
   },
   {
    "duration": 561,
    "start_time": "2022-05-26T22:22:54.306Z"
   },
   {
    "duration": 309,
    "start_time": "2022-05-26T22:22:54.869Z"
   },
   {
    "duration": 297,
    "start_time": "2022-05-26T22:22:55.180Z"
   },
   {
    "duration": 293,
    "start_time": "2022-05-26T22:22:55.479Z"
   },
   {
    "duration": 27,
    "start_time": "2022-05-26T22:22:55.774Z"
   },
   {
    "duration": 24,
    "start_time": "2022-05-26T22:22:55.802Z"
   },
   {
    "duration": 430,
    "start_time": "2022-05-26T22:24:21.323Z"
   },
   {
    "duration": 190,
    "start_time": "2022-05-26T22:24:21.755Z"
   },
   {
    "duration": 25,
    "start_time": "2022-05-26T22:24:21.946Z"
   },
   {
    "duration": 151,
    "start_time": "2022-05-26T22:24:21.973Z"
   },
   {
    "duration": 20,
    "start_time": "2022-05-26T22:24:22.126Z"
   },
   {
    "duration": 96,
    "start_time": "2022-05-26T22:24:22.147Z"
   },
   {
    "duration": 18,
    "start_time": "2022-05-26T22:24:22.244Z"
   },
   {
    "duration": 18,
    "start_time": "2022-05-26T22:24:22.264Z"
   },
   {
    "duration": 18,
    "start_time": "2022-05-26T22:24:22.284Z"
   },
   {
    "duration": 59,
    "start_time": "2022-05-26T22:24:22.309Z"
   },
   {
    "duration": 12,
    "start_time": "2022-05-26T22:24:22.370Z"
   },
   {
    "duration": 10,
    "start_time": "2022-05-26T22:24:22.383Z"
   },
   {
    "duration": 49,
    "start_time": "2022-05-26T22:24:22.397Z"
   },
   {
    "duration": 22,
    "start_time": "2022-05-26T22:24:22.448Z"
   },
   {
    "duration": 18,
    "start_time": "2022-05-26T22:24:22.472Z"
   },
   {
    "duration": 14,
    "start_time": "2022-05-26T22:24:22.492Z"
   },
   {
    "duration": 26,
    "start_time": "2022-05-26T22:24:22.507Z"
   },
   {
    "duration": 49,
    "start_time": "2022-05-26T22:24:22.534Z"
   },
   {
    "duration": 551,
    "start_time": "2022-05-26T22:24:22.585Z"
   },
   {
    "duration": 289,
    "start_time": "2022-05-26T22:24:23.138Z"
   },
   {
    "duration": 254,
    "start_time": "2022-05-26T22:24:23.429Z"
   },
   {
    "duration": 256,
    "start_time": "2022-05-26T22:24:23.685Z"
   },
   {
    "duration": 14,
    "start_time": "2022-05-26T22:24:23.943Z"
   },
   {
    "duration": 123,
    "start_time": "2022-05-26T22:24:23.958Z"
   },
   {
    "duration": 20,
    "start_time": "2022-05-26T22:25:08.615Z"
   },
   {
    "duration": 4,
    "start_time": "2022-05-26T22:31:32.452Z"
   },
   {
    "duration": 98,
    "start_time": "2022-05-26T22:33:05.119Z"
   },
   {
    "duration": 15,
    "start_time": "2022-05-26T22:33:26.853Z"
   },
   {
    "duration": 18,
    "start_time": "2022-05-26T22:34:17.243Z"
   },
   {
    "duration": 23,
    "start_time": "2022-05-26T22:34:45.184Z"
   },
   {
    "duration": 370,
    "start_time": "2022-05-26T22:35:05.741Z"
   },
   {
    "duration": 178,
    "start_time": "2022-05-26T22:35:06.112Z"
   },
   {
    "duration": 25,
    "start_time": "2022-05-26T22:35:06.292Z"
   },
   {
    "duration": 136,
    "start_time": "2022-05-26T22:35:06.330Z"
   },
   {
    "duration": 19,
    "start_time": "2022-05-26T22:35:06.468Z"
   },
   {
    "duration": 91,
    "start_time": "2022-05-26T22:35:06.494Z"
   },
   {
    "duration": 18,
    "start_time": "2022-05-26T22:35:06.586Z"
   },
   {
    "duration": 18,
    "start_time": "2022-05-26T22:35:06.606Z"
   },
   {
    "duration": 10,
    "start_time": "2022-05-26T22:35:06.626Z"
   },
   {
    "duration": 35,
    "start_time": "2022-05-26T22:35:06.638Z"
   },
   {
    "duration": 11,
    "start_time": "2022-05-26T22:35:06.674Z"
   },
   {
    "duration": 8,
    "start_time": "2022-05-26T22:35:06.686Z"
   },
   {
    "duration": 36,
    "start_time": "2022-05-26T22:35:06.696Z"
   },
   {
    "duration": 22,
    "start_time": "2022-05-26T22:35:06.734Z"
   },
   {
    "duration": 19,
    "start_time": "2022-05-26T22:35:06.758Z"
   },
   {
    "duration": 20,
    "start_time": "2022-05-26T22:35:06.778Z"
   },
   {
    "duration": 21,
    "start_time": "2022-05-26T22:35:06.799Z"
   },
   {
    "duration": 71,
    "start_time": "2022-05-26T22:35:06.822Z"
   },
   {
    "duration": 600,
    "start_time": "2022-05-26T22:35:06.895Z"
   },
   {
    "duration": 261,
    "start_time": "2022-05-26T22:35:07.497Z"
   },
   {
    "duration": 252,
    "start_time": "2022-05-26T22:35:07.760Z"
   },
   {
    "duration": 248,
    "start_time": "2022-05-26T22:35:08.013Z"
   },
   {
    "duration": 15,
    "start_time": "2022-05-26T22:35:08.262Z"
   },
   {
    "duration": 92,
    "start_time": "2022-05-26T22:35:08.278Z"
   },
   {
    "duration": 25,
    "start_time": "2022-05-26T22:35:08.372Z"
   },
   {
    "duration": 20,
    "start_time": "2022-05-26T22:35:08.398Z"
   },
   {
    "duration": 19,
    "start_time": "2022-05-26T22:35:45.119Z"
   },
   {
    "duration": 434,
    "start_time": "2022-05-26T22:36:10.876Z"
   },
   {
    "duration": 174,
    "start_time": "2022-05-26T22:36:11.311Z"
   },
   {
    "duration": 27,
    "start_time": "2022-05-26T22:36:11.486Z"
   },
   {
    "duration": 142,
    "start_time": "2022-05-26T22:36:11.515Z"
   },
   {
    "duration": 19,
    "start_time": "2022-05-26T22:36:11.659Z"
   },
   {
    "duration": 117,
    "start_time": "2022-05-26T22:36:11.679Z"
   },
   {
    "duration": 18,
    "start_time": "2022-05-26T22:36:11.798Z"
   },
   {
    "duration": 22,
    "start_time": "2022-05-26T22:36:11.818Z"
   },
   {
    "duration": 10,
    "start_time": "2022-05-26T22:36:11.842Z"
   },
   {
    "duration": 43,
    "start_time": "2022-05-26T22:36:11.855Z"
   },
   {
    "duration": 10,
    "start_time": "2022-05-26T22:36:11.900Z"
   },
   {
    "duration": 20,
    "start_time": "2022-05-26T22:36:11.911Z"
   },
   {
    "duration": 52,
    "start_time": "2022-05-26T22:36:11.933Z"
   },
   {
    "duration": 22,
    "start_time": "2022-05-26T22:36:11.986Z"
   },
   {
    "duration": 18,
    "start_time": "2022-05-26T22:36:12.009Z"
   },
   {
    "duration": 19,
    "start_time": "2022-05-26T22:36:12.029Z"
   },
   {
    "duration": 18,
    "start_time": "2022-05-26T22:36:12.049Z"
   },
   {
    "duration": 61,
    "start_time": "2022-05-26T22:36:12.069Z"
   },
   {
    "duration": 554,
    "start_time": "2022-05-26T22:36:12.132Z"
   },
   {
    "duration": 325,
    "start_time": "2022-05-26T22:36:12.688Z"
   },
   {
    "duration": 307,
    "start_time": "2022-05-26T22:36:13.015Z"
   },
   {
    "duration": 251,
    "start_time": "2022-05-26T22:36:13.324Z"
   },
   {
    "duration": 20,
    "start_time": "2022-05-26T22:36:13.577Z"
   },
   {
    "duration": 82,
    "start_time": "2022-05-26T22:36:13.598Z"
   },
   {
    "duration": 27,
    "start_time": "2022-05-26T22:36:13.682Z"
   },
   {
    "duration": 13,
    "start_time": "2022-05-26T22:36:13.711Z"
   },
   {
    "duration": 16,
    "start_time": "2022-05-26T22:36:45.535Z"
   },
   {
    "duration": 6,
    "start_time": "2022-05-26T22:36:57.296Z"
   },
   {
    "duration": 15,
    "start_time": "2022-05-26T22:37:01.576Z"
   },
   {
    "duration": 86,
    "start_time": "2022-05-26T22:37:32.682Z"
   },
   {
    "duration": 12,
    "start_time": "2022-05-26T22:38:14.235Z"
   },
   {
    "duration": 10,
    "start_time": "2022-05-26T22:39:13.651Z"
   },
   {
    "duration": 409,
    "start_time": "2022-05-26T22:39:25.421Z"
   },
   {
    "duration": 177,
    "start_time": "2022-05-26T22:39:25.832Z"
   },
   {
    "duration": 29,
    "start_time": "2022-05-26T22:39:26.011Z"
   },
   {
    "duration": 158,
    "start_time": "2022-05-26T22:39:26.042Z"
   },
   {
    "duration": 25,
    "start_time": "2022-05-26T22:39:26.205Z"
   },
   {
    "duration": 117,
    "start_time": "2022-05-26T22:39:26.231Z"
   },
   {
    "duration": 18,
    "start_time": "2022-05-26T22:39:26.350Z"
   },
   {
    "duration": 23,
    "start_time": "2022-05-26T22:39:26.369Z"
   },
   {
    "duration": 13,
    "start_time": "2022-05-26T22:39:26.396Z"
   },
   {
    "duration": 75,
    "start_time": "2022-05-26T22:39:26.412Z"
   },
   {
    "duration": 18,
    "start_time": "2022-05-26T22:39:26.488Z"
   },
   {
    "duration": 26,
    "start_time": "2022-05-26T22:39:26.512Z"
   },
   {
    "duration": 49,
    "start_time": "2022-05-26T22:39:26.539Z"
   },
   {
    "duration": 29,
    "start_time": "2022-05-26T22:39:26.590Z"
   },
   {
    "duration": 19,
    "start_time": "2022-05-26T22:39:26.621Z"
   },
   {
    "duration": 18,
    "start_time": "2022-05-26T22:39:26.641Z"
   },
   {
    "duration": 19,
    "start_time": "2022-05-26T22:39:26.660Z"
   },
   {
    "duration": 62,
    "start_time": "2022-05-26T22:39:26.681Z"
   },
   {
    "duration": 592,
    "start_time": "2022-05-26T22:39:26.745Z"
   },
   {
    "duration": 309,
    "start_time": "2022-05-26T22:39:27.339Z"
   },
   {
    "duration": 272,
    "start_time": "2022-05-26T22:39:27.650Z"
   },
   {
    "duration": 260,
    "start_time": "2022-05-26T22:39:27.923Z"
   },
   {
    "duration": 27,
    "start_time": "2022-05-26T22:39:28.185Z"
   },
   {
    "duration": 27,
    "start_time": "2022-05-26T22:39:28.214Z"
   },
   {
    "duration": 93,
    "start_time": "2022-05-26T22:39:28.243Z"
   },
   {
    "duration": 13,
    "start_time": "2022-05-26T22:39:28.337Z"
   },
   {
    "duration": 96,
    "start_time": "2022-05-26T22:39:28.351Z"
   },
   {
    "duration": 6,
    "start_time": "2022-05-26T22:39:47.606Z"
   },
   {
    "duration": 16,
    "start_time": "2022-05-26T22:40:13.380Z"
   },
   {
    "duration": 410,
    "start_time": "2022-05-26T22:40:33.607Z"
   },
   {
    "duration": 169,
    "start_time": "2022-05-26T22:40:34.019Z"
   },
   {
    "duration": 36,
    "start_time": "2022-05-26T22:40:34.190Z"
   },
   {
    "duration": 149,
    "start_time": "2022-05-26T22:40:34.228Z"
   },
   {
    "duration": 26,
    "start_time": "2022-05-26T22:40:34.378Z"
   },
   {
    "duration": 100,
    "start_time": "2022-05-26T22:40:34.410Z"
   },
   {
    "duration": 18,
    "start_time": "2022-05-26T22:40:34.512Z"
   },
   {
    "duration": 18,
    "start_time": "2022-05-26T22:40:34.532Z"
   },
   {
    "duration": 9,
    "start_time": "2022-05-26T22:40:34.552Z"
   },
   {
    "duration": 39,
    "start_time": "2022-05-26T22:40:34.564Z"
   },
   {
    "duration": 14,
    "start_time": "2022-05-26T22:40:34.605Z"
   },
   {
    "duration": 9,
    "start_time": "2022-05-26T22:40:34.620Z"
   },
   {
    "duration": 32,
    "start_time": "2022-05-26T22:40:34.631Z"
   },
   {
    "duration": 36,
    "start_time": "2022-05-26T22:40:34.665Z"
   },
   {
    "duration": 23,
    "start_time": "2022-05-26T22:40:34.703Z"
   },
   {
    "duration": 9,
    "start_time": "2022-05-26T22:40:34.727Z"
   },
   {
    "duration": 24,
    "start_time": "2022-05-26T22:40:34.738Z"
   },
   {
    "duration": 61,
    "start_time": "2022-05-26T22:40:34.764Z"
   },
   {
    "duration": 550,
    "start_time": "2022-05-26T22:40:34.827Z"
   },
   {
    "duration": 308,
    "start_time": "2022-05-26T22:40:35.379Z"
   },
   {
    "duration": 291,
    "start_time": "2022-05-26T22:40:35.694Z"
   },
   {
    "duration": 282,
    "start_time": "2022-05-26T22:40:35.986Z"
   },
   {
    "duration": 14,
    "start_time": "2022-05-26T22:40:36.269Z"
   },
   {
    "duration": 86,
    "start_time": "2022-05-26T22:40:36.295Z"
   },
   {
    "duration": 37,
    "start_time": "2022-05-26T22:40:36.383Z"
   },
   {
    "duration": 27,
    "start_time": "2022-05-26T22:40:36.423Z"
   },
   {
    "duration": 18,
    "start_time": "2022-05-26T22:40:36.452Z"
   },
   {
    "duration": 86,
    "start_time": "2022-05-26T22:41:13.615Z"
   },
   {
    "duration": 23,
    "start_time": "2022-05-26T22:41:43.165Z"
   },
   {
    "duration": 408,
    "start_time": "2022-05-26T22:48:02.442Z"
   },
   {
    "duration": 180,
    "start_time": "2022-05-26T22:48:02.852Z"
   },
   {
    "duration": 25,
    "start_time": "2022-05-26T22:48:03.034Z"
   },
   {
    "duration": 159,
    "start_time": "2022-05-26T22:48:03.061Z"
   },
   {
    "duration": 20,
    "start_time": "2022-05-26T22:48:03.222Z"
   },
   {
    "duration": 100,
    "start_time": "2022-05-26T22:48:03.243Z"
   },
   {
    "duration": 17,
    "start_time": "2022-05-26T22:48:03.344Z"
   },
   {
    "duration": 18,
    "start_time": "2022-05-26T22:48:03.363Z"
   },
   {
    "duration": 27,
    "start_time": "2022-05-26T22:48:03.383Z"
   },
   {
    "duration": 45,
    "start_time": "2022-05-26T22:48:03.413Z"
   },
   {
    "duration": 12,
    "start_time": "2022-05-26T22:48:03.459Z"
   },
   {
    "duration": 7,
    "start_time": "2022-05-26T22:48:03.472Z"
   },
   {
    "duration": 46,
    "start_time": "2022-05-26T22:48:03.481Z"
   },
   {
    "duration": 22,
    "start_time": "2022-05-26T22:48:03.528Z"
   },
   {
    "duration": 18,
    "start_time": "2022-05-26T22:48:03.551Z"
   },
   {
    "duration": 8,
    "start_time": "2022-05-26T22:48:03.571Z"
   },
   {
    "duration": 18,
    "start_time": "2022-05-26T22:48:03.596Z"
   },
   {
    "duration": 52,
    "start_time": "2022-05-26T22:48:03.616Z"
   },
   {
    "duration": 602,
    "start_time": "2022-05-26T22:48:03.670Z"
   },
   {
    "duration": 282,
    "start_time": "2022-05-26T22:48:04.274Z"
   },
   {
    "duration": 265,
    "start_time": "2022-05-26T22:48:04.558Z"
   },
   {
    "duration": 264,
    "start_time": "2022-05-26T22:48:04.824Z"
   },
   {
    "duration": 20,
    "start_time": "2022-05-26T22:48:05.094Z"
   },
   {
    "duration": 113,
    "start_time": "2022-05-26T22:48:05.116Z"
   },
   {
    "duration": 17,
    "start_time": "2022-05-26T22:48:05.231Z"
   },
   {
    "duration": 14,
    "start_time": "2022-05-26T22:48:05.250Z"
   },
   {
    "duration": 33,
    "start_time": "2022-05-26T22:48:05.266Z"
   },
   {
    "duration": 82,
    "start_time": "2022-05-26T22:48:05.302Z"
   },
   {
    "duration": 536,
    "start_time": "2022-05-26T22:48:28.081Z"
   },
   {
    "duration": 228,
    "start_time": "2022-05-26T22:48:28.619Z"
   },
   {
    "duration": 24,
    "start_time": "2022-05-26T22:48:28.849Z"
   },
   {
    "duration": 146,
    "start_time": "2022-05-26T22:48:28.875Z"
   },
   {
    "duration": 19,
    "start_time": "2022-05-26T22:48:29.023Z"
   },
   {
    "duration": 102,
    "start_time": "2022-05-26T22:48:29.043Z"
   },
   {
    "duration": 18,
    "start_time": "2022-05-26T22:48:29.147Z"
   },
   {
    "duration": 20,
    "start_time": "2022-05-26T22:48:29.166Z"
   },
   {
    "duration": 16,
    "start_time": "2022-05-26T22:48:29.201Z"
   },
   {
    "duration": 37,
    "start_time": "2022-05-26T22:48:29.220Z"
   },
   {
    "duration": 12,
    "start_time": "2022-05-26T22:48:29.259Z"
   },
   {
    "duration": 6,
    "start_time": "2022-05-26T22:48:29.273Z"
   },
   {
    "duration": 58,
    "start_time": "2022-05-26T22:48:29.281Z"
   },
   {
    "duration": 22,
    "start_time": "2022-05-26T22:48:29.341Z"
   },
   {
    "duration": 16,
    "start_time": "2022-05-26T22:48:29.365Z"
   },
   {
    "duration": 16,
    "start_time": "2022-05-26T22:48:29.394Z"
   },
   {
    "duration": 17,
    "start_time": "2022-05-26T22:48:29.412Z"
   },
   {
    "duration": 49,
    "start_time": "2022-05-26T22:48:29.430Z"
   },
   {
    "duration": 598,
    "start_time": "2022-05-26T22:48:29.481Z"
   },
   {
    "duration": 293,
    "start_time": "2022-05-26T22:48:30.081Z"
   },
   {
    "duration": 279,
    "start_time": "2022-05-26T22:48:30.376Z"
   },
   {
    "duration": 271,
    "start_time": "2022-05-26T22:48:30.656Z"
   },
   {
    "duration": 14,
    "start_time": "2022-05-26T22:48:30.929Z"
   },
   {
    "duration": 101,
    "start_time": "2022-05-26T22:48:30.945Z"
   },
   {
    "duration": 17,
    "start_time": "2022-05-26T22:48:31.047Z"
   },
   {
    "duration": 35,
    "start_time": "2022-05-26T22:48:31.066Z"
   },
   {
    "duration": 17,
    "start_time": "2022-05-26T22:48:31.104Z"
   },
   {
    "duration": 5,
    "start_time": "2022-05-26T22:48:31.124Z"
   },
   {
    "duration": 15,
    "start_time": "2022-05-26T22:48:38.130Z"
   },
   {
    "duration": 419,
    "start_time": "2022-05-26T22:48:58.471Z"
   },
   {
    "duration": 173,
    "start_time": "2022-05-26T22:48:58.892Z"
   },
   {
    "duration": 36,
    "start_time": "2022-05-26T22:48:59.066Z"
   },
   {
    "duration": 140,
    "start_time": "2022-05-26T22:48:59.107Z"
   },
   {
    "duration": 23,
    "start_time": "2022-05-26T22:48:59.250Z"
   },
   {
    "duration": 101,
    "start_time": "2022-05-26T22:48:59.274Z"
   },
   {
    "duration": 26,
    "start_time": "2022-05-26T22:48:59.377Z"
   },
   {
    "duration": 25,
    "start_time": "2022-05-26T22:48:59.404Z"
   },
   {
    "duration": 9,
    "start_time": "2022-05-26T22:48:59.431Z"
   },
   {
    "duration": 35,
    "start_time": "2022-05-26T22:48:59.442Z"
   },
   {
    "duration": 10,
    "start_time": "2022-05-26T22:48:59.478Z"
   },
   {
    "duration": 9,
    "start_time": "2022-05-26T22:48:59.489Z"
   },
   {
    "duration": 43,
    "start_time": "2022-05-26T22:48:59.499Z"
   },
   {
    "duration": 21,
    "start_time": "2022-05-26T22:48:59.545Z"
   },
   {
    "duration": 17,
    "start_time": "2022-05-26T22:48:59.568Z"
   },
   {
    "duration": 9,
    "start_time": "2022-05-26T22:48:59.586Z"
   },
   {
    "duration": 28,
    "start_time": "2022-05-26T22:48:59.597Z"
   },
   {
    "duration": 47,
    "start_time": "2022-05-26T22:48:59.627Z"
   },
   {
    "duration": 580,
    "start_time": "2022-05-26T22:48:59.677Z"
   },
   {
    "duration": 303,
    "start_time": "2022-05-26T22:49:00.259Z"
   },
   {
    "duration": 274,
    "start_time": "2022-05-26T22:49:00.564Z"
   },
   {
    "duration": 265,
    "start_time": "2022-05-26T22:49:00.840Z"
   },
   {
    "duration": 20,
    "start_time": "2022-05-26T22:49:01.107Z"
   },
   {
    "duration": 93,
    "start_time": "2022-05-26T22:49:01.129Z"
   },
   {
    "duration": 17,
    "start_time": "2022-05-26T22:49:01.223Z"
   },
   {
    "duration": 15,
    "start_time": "2022-05-26T22:49:01.242Z"
   },
   {
    "duration": 19,
    "start_time": "2022-05-26T22:49:01.259Z"
   },
   {
    "duration": 12,
    "start_time": "2022-05-26T22:49:01.299Z"
   },
   {
    "duration": 21,
    "start_time": "2022-05-26T22:49:01.313Z"
   },
   {
    "duration": 436,
    "start_time": "2022-05-26T22:53:24.779Z"
   },
   {
    "duration": 199,
    "start_time": "2022-05-26T22:53:25.217Z"
   },
   {
    "duration": 31,
    "start_time": "2022-05-26T22:53:25.418Z"
   },
   {
    "duration": 164,
    "start_time": "2022-05-26T22:53:25.452Z"
   },
   {
    "duration": 20,
    "start_time": "2022-05-26T22:53:25.618Z"
   },
   {
    "duration": 101,
    "start_time": "2022-05-26T22:53:25.640Z"
   },
   {
    "duration": 19,
    "start_time": "2022-05-26T22:53:25.743Z"
   },
   {
    "duration": 19,
    "start_time": "2022-05-26T22:53:25.764Z"
   },
   {
    "duration": 16,
    "start_time": "2022-05-26T22:53:25.799Z"
   },
   {
    "duration": 34,
    "start_time": "2022-05-26T22:53:25.817Z"
   },
   {
    "duration": 11,
    "start_time": "2022-05-26T22:53:25.853Z"
   },
   {
    "duration": 12,
    "start_time": "2022-05-26T22:53:25.865Z"
   },
   {
    "duration": 46,
    "start_time": "2022-05-26T22:53:25.879Z"
   },
   {
    "duration": 24,
    "start_time": "2022-05-26T22:53:25.928Z"
   },
   {
    "duration": 52,
    "start_time": "2022-05-26T22:53:25.954Z"
   },
   {
    "duration": 9,
    "start_time": "2022-05-26T22:53:26.008Z"
   },
   {
    "duration": 17,
    "start_time": "2022-05-26T22:53:26.019Z"
   },
   {
    "duration": 49,
    "start_time": "2022-05-26T22:53:26.038Z"
   },
   {
    "duration": 560,
    "start_time": "2022-05-26T22:53:26.089Z"
   },
   {
    "duration": 286,
    "start_time": "2022-05-26T22:53:26.650Z"
   },
   {
    "duration": 275,
    "start_time": "2022-05-26T22:53:26.938Z"
   },
   {
    "duration": 335,
    "start_time": "2022-05-26T22:53:27.215Z"
   },
   {
    "duration": 13,
    "start_time": "2022-05-26T22:53:27.552Z"
   },
   {
    "duration": 93,
    "start_time": "2022-05-26T22:53:27.566Z"
   },
   {
    "duration": 16,
    "start_time": "2022-05-26T22:53:27.661Z"
   },
   {
    "duration": 34,
    "start_time": "2022-05-26T22:53:27.679Z"
   },
   {
    "duration": 14,
    "start_time": "2022-05-26T22:53:27.714Z"
   },
   {
    "duration": 93,
    "start_time": "2022-05-26T22:53:27.730Z"
   },
   {
    "duration": 0,
    "start_time": "2022-05-26T22:53:27.824Z"
   },
   {
    "duration": 446,
    "start_time": "2022-05-26T22:54:37.519Z"
   },
   {
    "duration": 176,
    "start_time": "2022-05-26T22:54:37.967Z"
   },
   {
    "duration": 24,
    "start_time": "2022-05-26T22:54:38.145Z"
   },
   {
    "duration": 159,
    "start_time": "2022-05-26T22:54:38.170Z"
   },
   {
    "duration": 21,
    "start_time": "2022-05-26T22:54:38.331Z"
   },
   {
    "duration": 101,
    "start_time": "2022-05-26T22:54:38.354Z"
   },
   {
    "duration": 17,
    "start_time": "2022-05-26T22:54:38.456Z"
   },
   {
    "duration": 26,
    "start_time": "2022-05-26T22:54:38.475Z"
   },
   {
    "duration": 15,
    "start_time": "2022-05-26T22:54:38.503Z"
   },
   {
    "duration": 37,
    "start_time": "2022-05-26T22:54:38.520Z"
   },
   {
    "duration": 10,
    "start_time": "2022-05-26T22:54:38.558Z"
   },
   {
    "duration": 18,
    "start_time": "2022-05-26T22:54:38.569Z"
   },
   {
    "duration": 49,
    "start_time": "2022-05-26T22:54:38.588Z"
   },
   {
    "duration": 23,
    "start_time": "2022-05-26T22:54:38.639Z"
   },
   {
    "duration": 18,
    "start_time": "2022-05-26T22:54:38.664Z"
   },
   {
    "duration": 7,
    "start_time": "2022-05-26T22:54:38.684Z"
   },
   {
    "duration": 34,
    "start_time": "2022-05-26T22:54:38.694Z"
   },
   {
    "duration": 58,
    "start_time": "2022-05-26T22:54:38.730Z"
   },
   {
    "duration": 546,
    "start_time": "2022-05-26T22:54:38.790Z"
   },
   {
    "duration": 274,
    "start_time": "2022-05-26T22:54:39.337Z"
   },
   {
    "duration": 262,
    "start_time": "2022-05-26T22:54:39.613Z"
   },
   {
    "duration": 275,
    "start_time": "2022-05-26T22:54:39.877Z"
   },
   {
    "duration": 15,
    "start_time": "2022-05-26T22:54:40.153Z"
   },
   {
    "duration": 101,
    "start_time": "2022-05-26T22:54:40.169Z"
   },
   {
    "duration": 28,
    "start_time": "2022-05-26T22:54:40.272Z"
   },
   {
    "duration": 16,
    "start_time": "2022-05-26T22:54:40.302Z"
   },
   {
    "duration": 13,
    "start_time": "2022-05-26T22:54:40.319Z"
   },
   {
    "duration": 99,
    "start_time": "2022-05-26T22:54:40.335Z"
   },
   {
    "duration": 0,
    "start_time": "2022-05-26T22:54:40.436Z"
   },
   {
    "duration": 8,
    "start_time": "2022-05-26T22:55:24.113Z"
   },
   {
    "duration": 9,
    "start_time": "2022-05-26T22:56:41.832Z"
   },
   {
    "duration": 11,
    "start_time": "2022-05-26T22:56:47.043Z"
   },
   {
    "duration": 435,
    "start_time": "2022-05-26T23:15:23.677Z"
   },
   {
    "duration": 170,
    "start_time": "2022-05-26T23:15:24.114Z"
   },
   {
    "duration": 29,
    "start_time": "2022-05-26T23:15:24.286Z"
   },
   {
    "duration": 137,
    "start_time": "2022-05-26T23:15:24.317Z"
   },
   {
    "duration": 20,
    "start_time": "2022-05-26T23:15:24.456Z"
   },
   {
    "duration": 92,
    "start_time": "2022-05-26T23:15:24.478Z"
   },
   {
    "duration": 29,
    "start_time": "2022-05-26T23:15:24.572Z"
   },
   {
    "duration": 20,
    "start_time": "2022-05-26T23:15:24.602Z"
   },
   {
    "duration": 9,
    "start_time": "2022-05-26T23:15:24.624Z"
   },
   {
    "duration": 35,
    "start_time": "2022-05-26T23:15:24.636Z"
   },
   {
    "duration": 10,
    "start_time": "2022-05-26T23:15:24.673Z"
   },
   {
    "duration": 7,
    "start_time": "2022-05-26T23:15:24.685Z"
   },
   {
    "duration": 34,
    "start_time": "2022-05-26T23:15:24.693Z"
   },
   {
    "duration": 23,
    "start_time": "2022-05-26T23:15:24.729Z"
   },
   {
    "duration": 18,
    "start_time": "2022-05-26T23:15:24.754Z"
   },
   {
    "duration": 23,
    "start_time": "2022-05-26T23:15:24.773Z"
   },
   {
    "duration": 22,
    "start_time": "2022-05-26T23:15:24.798Z"
   },
   {
    "duration": 48,
    "start_time": "2022-05-26T23:15:24.821Z"
   },
   {
    "duration": 536,
    "start_time": "2022-05-26T23:15:24.871Z"
   },
   {
    "duration": 278,
    "start_time": "2022-05-26T23:15:25.408Z"
   },
   {
    "duration": 242,
    "start_time": "2022-05-26T23:15:25.688Z"
   },
   {
    "duration": 252,
    "start_time": "2022-05-26T23:15:25.931Z"
   },
   {
    "duration": 16,
    "start_time": "2022-05-26T23:15:26.184Z"
   },
   {
    "duration": 96,
    "start_time": "2022-05-26T23:15:26.202Z"
   },
   {
    "duration": 16,
    "start_time": "2022-05-26T23:15:26.299Z"
   },
   {
    "duration": 14,
    "start_time": "2022-05-26T23:15:26.317Z"
   },
   {
    "duration": 12,
    "start_time": "2022-05-26T23:15:26.333Z"
   },
   {
    "duration": 14,
    "start_time": "2022-05-26T23:15:26.348Z"
   },
   {
    "duration": 43,
    "start_time": "2022-05-26T23:15:26.364Z"
   },
   {
    "duration": 427,
    "start_time": "2022-05-26T23:16:12.770Z"
   },
   {
    "duration": 167,
    "start_time": "2022-05-26T23:16:13.199Z"
   },
   {
    "duration": 31,
    "start_time": "2022-05-26T23:16:13.368Z"
   },
   {
    "duration": 138,
    "start_time": "2022-05-26T23:16:13.401Z"
   },
   {
    "duration": 21,
    "start_time": "2022-05-26T23:16:13.540Z"
   },
   {
    "duration": 93,
    "start_time": "2022-05-26T23:16:13.562Z"
   },
   {
    "duration": 17,
    "start_time": "2022-05-26T23:16:13.656Z"
   },
   {
    "duration": 22,
    "start_time": "2022-05-26T23:16:13.675Z"
   },
   {
    "duration": 10,
    "start_time": "2022-05-26T23:16:13.698Z"
   },
   {
    "duration": 35,
    "start_time": "2022-05-26T23:16:13.710Z"
   },
   {
    "duration": 10,
    "start_time": "2022-05-26T23:16:13.747Z"
   },
   {
    "duration": 8,
    "start_time": "2022-05-26T23:16:13.759Z"
   },
   {
    "duration": 35,
    "start_time": "2022-05-26T23:16:13.768Z"
   },
   {
    "duration": 22,
    "start_time": "2022-05-26T23:16:13.804Z"
   },
   {
    "duration": 18,
    "start_time": "2022-05-26T23:16:13.827Z"
   },
   {
    "duration": 8,
    "start_time": "2022-05-26T23:16:13.847Z"
   },
   {
    "duration": 16,
    "start_time": "2022-05-26T23:16:13.857Z"
   },
   {
    "duration": 49,
    "start_time": "2022-05-26T23:16:13.895Z"
   },
   {
    "duration": 546,
    "start_time": "2022-05-26T23:16:13.946Z"
   },
   {
    "duration": 256,
    "start_time": "2022-05-26T23:16:14.494Z"
   },
   {
    "duration": 251,
    "start_time": "2022-05-26T23:16:14.751Z"
   },
   {
    "duration": 272,
    "start_time": "2022-05-26T23:16:15.004Z"
   },
   {
    "duration": 23,
    "start_time": "2022-05-26T23:16:15.277Z"
   },
   {
    "duration": 102,
    "start_time": "2022-05-26T23:16:15.301Z"
   },
   {
    "duration": 20,
    "start_time": "2022-05-26T23:16:15.405Z"
   },
   {
    "duration": 19,
    "start_time": "2022-05-26T23:16:15.426Z"
   },
   {
    "duration": 26,
    "start_time": "2022-05-26T23:16:15.447Z"
   },
   {
    "duration": 87,
    "start_time": "2022-05-26T23:16:15.497Z"
   },
   {
    "duration": 0,
    "start_time": "2022-05-26T23:16:15.586Z"
   },
   {
    "duration": 429,
    "start_time": "2022-05-26T23:16:39.494Z"
   },
   {
    "duration": 177,
    "start_time": "2022-05-26T23:16:39.925Z"
   },
   {
    "duration": 25,
    "start_time": "2022-05-26T23:16:40.103Z"
   },
   {
    "duration": 149,
    "start_time": "2022-05-26T23:16:40.130Z"
   },
   {
    "duration": 22,
    "start_time": "2022-05-26T23:16:40.280Z"
   },
   {
    "duration": 94,
    "start_time": "2022-05-26T23:16:40.303Z"
   },
   {
    "duration": 17,
    "start_time": "2022-05-26T23:16:40.399Z"
   },
   {
    "duration": 19,
    "start_time": "2022-05-26T23:16:40.418Z"
   },
   {
    "duration": 9,
    "start_time": "2022-05-26T23:16:40.439Z"
   },
   {
    "duration": 34,
    "start_time": "2022-05-26T23:16:40.450Z"
   },
   {
    "duration": 10,
    "start_time": "2022-05-26T23:16:40.486Z"
   },
   {
    "duration": 6,
    "start_time": "2022-05-26T23:16:40.497Z"
   },
   {
    "duration": 33,
    "start_time": "2022-05-26T23:16:40.505Z"
   },
   {
    "duration": 23,
    "start_time": "2022-05-26T23:16:40.540Z"
   },
   {
    "duration": 38,
    "start_time": "2022-05-26T23:16:40.564Z"
   },
   {
    "duration": 9,
    "start_time": "2022-05-26T23:16:40.603Z"
   },
   {
    "duration": 16,
    "start_time": "2022-05-26T23:16:40.614Z"
   },
   {
    "duration": 65,
    "start_time": "2022-05-26T23:16:40.632Z"
   },
   {
    "duration": 534,
    "start_time": "2022-05-26T23:16:40.699Z"
   },
   {
    "duration": 269,
    "start_time": "2022-05-26T23:16:41.235Z"
   },
   {
    "duration": 248,
    "start_time": "2022-05-26T23:16:41.505Z"
   },
   {
    "duration": 251,
    "start_time": "2022-05-26T23:16:41.754Z"
   },
   {
    "duration": 13,
    "start_time": "2022-05-26T23:16:42.006Z"
   },
   {
    "duration": 99,
    "start_time": "2022-05-26T23:16:42.021Z"
   },
   {
    "duration": 15,
    "start_time": "2022-05-26T23:16:42.121Z"
   },
   {
    "duration": 15,
    "start_time": "2022-05-26T23:16:42.137Z"
   },
   {
    "duration": 16,
    "start_time": "2022-05-26T23:16:42.154Z"
   },
   {
    "duration": 25,
    "start_time": "2022-05-26T23:16:42.194Z"
   },
   {
    "duration": 15,
    "start_time": "2022-05-26T23:16:42.220Z"
   },
   {
    "duration": 88,
    "start_time": "2022-05-26T23:18:18.261Z"
   },
   {
    "duration": 11,
    "start_time": "2022-05-26T23:18:31.949Z"
   },
   {
    "duration": 441,
    "start_time": "2022-05-26T23:20:58.773Z"
   },
   {
    "duration": 175,
    "start_time": "2022-05-26T23:20:59.216Z"
   },
   {
    "duration": 25,
    "start_time": "2022-05-26T23:20:59.395Z"
   },
   {
    "duration": 139,
    "start_time": "2022-05-26T23:20:59.421Z"
   },
   {
    "duration": 19,
    "start_time": "2022-05-26T23:20:59.562Z"
   },
   {
    "duration": 91,
    "start_time": "2022-05-26T23:20:59.595Z"
   },
   {
    "duration": 23,
    "start_time": "2022-05-26T23:20:59.687Z"
   },
   {
    "duration": 24,
    "start_time": "2022-05-26T23:20:59.711Z"
   },
   {
    "duration": 9,
    "start_time": "2022-05-26T23:20:59.738Z"
   },
   {
    "duration": 55,
    "start_time": "2022-05-26T23:20:59.748Z"
   },
   {
    "duration": 10,
    "start_time": "2022-05-26T23:20:59.805Z"
   },
   {
    "duration": 7,
    "start_time": "2022-05-26T23:20:59.817Z"
   },
   {
    "duration": 36,
    "start_time": "2022-05-26T23:20:59.826Z"
   },
   {
    "duration": 43,
    "start_time": "2022-05-26T23:20:59.863Z"
   },
   {
    "duration": 20,
    "start_time": "2022-05-26T23:20:59.908Z"
   },
   {
    "duration": 9,
    "start_time": "2022-05-26T23:20:59.930Z"
   },
   {
    "duration": 69,
    "start_time": "2022-05-26T23:20:59.940Z"
   },
   {
    "duration": 51,
    "start_time": "2022-05-26T23:21:00.010Z"
   },
   {
    "duration": 577,
    "start_time": "2022-05-26T23:21:00.062Z"
   },
   {
    "duration": 264,
    "start_time": "2022-05-26T23:21:00.641Z"
   },
   {
    "duration": 242,
    "start_time": "2022-05-26T23:21:00.907Z"
   },
   {
    "duration": 246,
    "start_time": "2022-05-26T23:21:01.151Z"
   },
   {
    "duration": 13,
    "start_time": "2022-05-26T23:21:01.398Z"
   },
   {
    "duration": 96,
    "start_time": "2022-05-26T23:21:01.413Z"
   },
   {
    "duration": 16,
    "start_time": "2022-05-26T23:21:01.510Z"
   },
   {
    "duration": 16,
    "start_time": "2022-05-26T23:21:01.528Z"
   },
   {
    "duration": 13,
    "start_time": "2022-05-26T23:21:01.546Z"
   },
   {
    "duration": 47,
    "start_time": "2022-05-26T23:21:01.561Z"
   },
   {
    "duration": 86,
    "start_time": "2022-05-26T23:21:01.610Z"
   },
   {
    "duration": 0,
    "start_time": "2022-05-26T23:21:01.697Z"
   },
   {
    "duration": 8,
    "start_time": "2022-05-26T23:21:22.347Z"
   },
   {
    "duration": 4,
    "start_time": "2022-05-26T23:21:29.034Z"
   },
   {
    "duration": 430,
    "start_time": "2022-05-26T23:21:57.984Z"
   },
   {
    "duration": 164,
    "start_time": "2022-05-26T23:21:58.415Z"
   },
   {
    "duration": 26,
    "start_time": "2022-05-26T23:21:58.580Z"
   },
   {
    "duration": 136,
    "start_time": "2022-05-26T23:21:58.608Z"
   },
   {
    "duration": 19,
    "start_time": "2022-05-26T23:21:58.745Z"
   },
   {
    "duration": 93,
    "start_time": "2022-05-26T23:21:58.766Z"
   },
   {
    "duration": 17,
    "start_time": "2022-05-26T23:21:58.861Z"
   },
   {
    "duration": 22,
    "start_time": "2022-05-26T23:21:58.879Z"
   },
   {
    "duration": 9,
    "start_time": "2022-05-26T23:21:58.903Z"
   },
   {
    "duration": 34,
    "start_time": "2022-05-26T23:21:58.914Z"
   },
   {
    "duration": 10,
    "start_time": "2022-05-26T23:21:58.949Z"
   },
   {
    "duration": 11,
    "start_time": "2022-05-26T23:21:58.961Z"
   },
   {
    "duration": 38,
    "start_time": "2022-05-26T23:21:58.974Z"
   },
   {
    "duration": 21,
    "start_time": "2022-05-26T23:21:59.014Z"
   },
   {
    "duration": 16,
    "start_time": "2022-05-26T23:21:59.036Z"
   },
   {
    "duration": 8,
    "start_time": "2022-05-26T23:21:59.054Z"
   },
   {
    "duration": 32,
    "start_time": "2022-05-26T23:21:59.063Z"
   },
   {
    "duration": 49,
    "start_time": "2022-05-26T23:21:59.097Z"
   },
   {
    "duration": 550,
    "start_time": "2022-05-26T23:21:59.147Z"
   },
   {
    "duration": 267,
    "start_time": "2022-05-26T23:21:59.698Z"
   },
   {
    "duration": 251,
    "start_time": "2022-05-26T23:21:59.966Z"
   },
   {
    "duration": 247,
    "start_time": "2022-05-26T23:22:00.219Z"
   },
   {
    "duration": 13,
    "start_time": "2022-05-26T23:22:00.467Z"
   },
   {
    "duration": 100,
    "start_time": "2022-05-26T23:22:00.482Z"
   },
   {
    "duration": 25,
    "start_time": "2022-05-26T23:22:00.584Z"
   },
   {
    "duration": 30,
    "start_time": "2022-05-26T23:22:00.611Z"
   },
   {
    "duration": 29,
    "start_time": "2022-05-26T23:22:00.642Z"
   },
   {
    "duration": 6,
    "start_time": "2022-05-26T23:22:00.674Z"
   },
   {
    "duration": 26,
    "start_time": "2022-05-26T23:22:00.682Z"
   },
   {
    "duration": 7,
    "start_time": "2022-05-26T23:22:00.710Z"
   },
   {
    "duration": 363,
    "start_time": "2022-05-26T23:28:51.045Z"
   },
   {
    "duration": 166,
    "start_time": "2022-05-26T23:28:51.410Z"
   },
   {
    "duration": 28,
    "start_time": "2022-05-26T23:28:51.577Z"
   },
   {
    "duration": 137,
    "start_time": "2022-05-26T23:28:51.606Z"
   },
   {
    "duration": 19,
    "start_time": "2022-05-26T23:28:51.744Z"
   },
   {
    "duration": 90,
    "start_time": "2022-05-26T23:28:51.764Z"
   },
   {
    "duration": 17,
    "start_time": "2022-05-26T23:28:51.856Z"
   },
   {
    "duration": 21,
    "start_time": "2022-05-26T23:28:51.874Z"
   },
   {
    "duration": 8,
    "start_time": "2022-05-26T23:28:51.897Z"
   },
   {
    "duration": 34,
    "start_time": "2022-05-26T23:28:51.908Z"
   },
   {
    "duration": 9,
    "start_time": "2022-05-26T23:28:51.943Z"
   },
   {
    "duration": 7,
    "start_time": "2022-05-26T23:28:51.953Z"
   },
   {
    "duration": 35,
    "start_time": "2022-05-26T23:28:51.961Z"
   },
   {
    "duration": 20,
    "start_time": "2022-05-26T23:28:51.998Z"
   },
   {
    "duration": 17,
    "start_time": "2022-05-26T23:28:52.020Z"
   },
   {
    "duration": 8,
    "start_time": "2022-05-26T23:28:52.038Z"
   },
   {
    "duration": 15,
    "start_time": "2022-05-26T23:28:52.048Z"
   },
   {
    "duration": 71,
    "start_time": "2022-05-26T23:28:52.064Z"
   },
   {
    "duration": 503,
    "start_time": "2022-05-26T23:28:52.137Z"
   },
   {
    "duration": 271,
    "start_time": "2022-05-26T23:28:52.641Z"
   },
   {
    "duration": 256,
    "start_time": "2022-05-26T23:28:52.914Z"
   },
   {
    "duration": 257,
    "start_time": "2022-05-26T23:28:53.172Z"
   },
   {
    "duration": 15,
    "start_time": "2022-05-26T23:28:53.431Z"
   },
   {
    "duration": 97,
    "start_time": "2022-05-26T23:28:53.448Z"
   },
   {
    "duration": 18,
    "start_time": "2022-05-26T23:28:53.547Z"
   },
   {
    "duration": 29,
    "start_time": "2022-05-26T23:28:53.566Z"
   },
   {
    "duration": 15,
    "start_time": "2022-05-26T23:28:53.597Z"
   },
   {
    "duration": 8,
    "start_time": "2022-05-26T23:28:53.615Z"
   },
   {
    "duration": 119,
    "start_time": "2022-05-26T23:28:53.625Z"
   },
   {
    "duration": 0,
    "start_time": "2022-05-26T23:28:53.745Z"
   },
   {
    "duration": 0,
    "start_time": "2022-05-26T23:28:53.746Z"
   },
   {
    "duration": 26,
    "start_time": "2022-05-26T23:29:45.329Z"
   },
   {
    "duration": 29,
    "start_time": "2022-05-26T23:30:18.541Z"
   },
   {
    "duration": 30,
    "start_time": "2022-05-26T23:30:27.295Z"
   },
   {
    "duration": 20,
    "start_time": "2022-05-26T23:30:42.401Z"
   },
   {
    "duration": 359,
    "start_time": "2022-05-26T23:30:55.951Z"
   },
   {
    "duration": 162,
    "start_time": "2022-05-26T23:30:56.312Z"
   },
   {
    "duration": 27,
    "start_time": "2022-05-26T23:30:56.475Z"
   },
   {
    "duration": 133,
    "start_time": "2022-05-26T23:30:56.504Z"
   },
   {
    "duration": 18,
    "start_time": "2022-05-26T23:30:56.638Z"
   },
   {
    "duration": 90,
    "start_time": "2022-05-26T23:30:56.658Z"
   },
   {
    "duration": 17,
    "start_time": "2022-05-26T23:30:56.749Z"
   },
   {
    "duration": 19,
    "start_time": "2022-05-26T23:30:56.767Z"
   },
   {
    "duration": 16,
    "start_time": "2022-05-26T23:30:56.787Z"
   },
   {
    "duration": 34,
    "start_time": "2022-05-26T23:30:56.805Z"
   },
   {
    "duration": 11,
    "start_time": "2022-05-26T23:30:56.840Z"
   },
   {
    "duration": 9,
    "start_time": "2022-05-26T23:30:56.852Z"
   },
   {
    "duration": 36,
    "start_time": "2022-05-26T23:30:56.862Z"
   },
   {
    "duration": 22,
    "start_time": "2022-05-26T23:30:56.900Z"
   },
   {
    "duration": 17,
    "start_time": "2022-05-26T23:30:56.924Z"
   },
   {
    "duration": 8,
    "start_time": "2022-05-26T23:30:56.942Z"
   },
   {
    "duration": 18,
    "start_time": "2022-05-26T23:30:56.952Z"
   },
   {
    "duration": 67,
    "start_time": "2022-05-26T23:30:56.972Z"
   },
   {
    "duration": 561,
    "start_time": "2022-05-26T23:30:57.041Z"
   },
   {
    "duration": 253,
    "start_time": "2022-05-26T23:30:57.603Z"
   },
   {
    "duration": 245,
    "start_time": "2022-05-26T23:30:57.858Z"
   },
   {
    "duration": 246,
    "start_time": "2022-05-26T23:30:58.105Z"
   },
   {
    "duration": 14,
    "start_time": "2022-05-26T23:30:58.353Z"
   },
   {
    "duration": 95,
    "start_time": "2022-05-26T23:30:58.369Z"
   },
   {
    "duration": 30,
    "start_time": "2022-05-26T23:30:58.466Z"
   },
   {
    "duration": 16,
    "start_time": "2022-05-26T23:30:58.497Z"
   },
   {
    "duration": 13,
    "start_time": "2022-05-26T23:30:58.515Z"
   },
   {
    "duration": 7,
    "start_time": "2022-05-26T23:30:58.532Z"
   },
   {
    "duration": 9,
    "start_time": "2022-05-26T23:30:58.540Z"
   },
   {
    "duration": 15,
    "start_time": "2022-05-26T23:30:58.550Z"
   },
   {
    "duration": 3,
    "start_time": "2022-05-26T23:30:58.596Z"
   },
   {
    "duration": 5,
    "start_time": "2022-05-26T23:57:20.814Z"
   },
   {
    "duration": 7,
    "start_time": "2022-05-26T23:57:49.889Z"
   },
   {
    "duration": 372,
    "start_time": "2022-05-26T23:58:50.142Z"
   },
   {
    "duration": 168,
    "start_time": "2022-05-26T23:58:50.516Z"
   },
   {
    "duration": 27,
    "start_time": "2022-05-26T23:58:50.685Z"
   },
   {
    "duration": 139,
    "start_time": "2022-05-26T23:58:50.714Z"
   },
   {
    "duration": 21,
    "start_time": "2022-05-26T23:58:50.854Z"
   },
   {
    "duration": 94,
    "start_time": "2022-05-26T23:58:50.877Z"
   },
   {
    "duration": 23,
    "start_time": "2022-05-26T23:58:50.972Z"
   },
   {
    "duration": 20,
    "start_time": "2022-05-26T23:58:50.997Z"
   },
   {
    "duration": 11,
    "start_time": "2022-05-26T23:58:51.018Z"
   },
   {
    "duration": 36,
    "start_time": "2022-05-26T23:58:51.031Z"
   },
   {
    "duration": 11,
    "start_time": "2022-05-26T23:58:51.068Z"
   },
   {
    "duration": 7,
    "start_time": "2022-05-26T23:58:51.080Z"
   },
   {
    "duration": 35,
    "start_time": "2022-05-26T23:58:51.088Z"
   },
   {
    "duration": 22,
    "start_time": "2022-05-26T23:58:51.124Z"
   },
   {
    "duration": 20,
    "start_time": "2022-05-26T23:58:51.148Z"
   },
   {
    "duration": 26,
    "start_time": "2022-05-26T23:58:51.170Z"
   },
   {
    "duration": 14,
    "start_time": "2022-05-26T23:58:51.198Z"
   },
   {
    "duration": 49,
    "start_time": "2022-05-26T23:58:51.214Z"
   },
   {
    "duration": 540,
    "start_time": "2022-05-26T23:58:51.264Z"
   },
   {
    "duration": 256,
    "start_time": "2022-05-26T23:58:51.805Z"
   },
   {
    "duration": 263,
    "start_time": "2022-05-26T23:58:52.062Z"
   },
   {
    "duration": 234,
    "start_time": "2022-05-26T23:58:52.327Z"
   },
   {
    "duration": 13,
    "start_time": "2022-05-26T23:58:52.563Z"
   },
   {
    "duration": 93,
    "start_time": "2022-05-26T23:58:52.578Z"
   },
   {
    "duration": 30,
    "start_time": "2022-05-26T23:58:52.673Z"
   },
   {
    "duration": 13,
    "start_time": "2022-05-26T23:58:52.705Z"
   },
   {
    "duration": 15,
    "start_time": "2022-05-26T23:58:52.719Z"
   },
   {
    "duration": 6,
    "start_time": "2022-05-26T23:58:52.737Z"
   },
   {
    "duration": 8,
    "start_time": "2022-05-26T23:58:52.745Z"
   },
   {
    "duration": 12,
    "start_time": "2022-05-26T23:58:52.755Z"
   },
   {
    "duration": 27,
    "start_time": "2022-05-26T23:58:52.769Z"
   },
   {
    "duration": 24,
    "start_time": "2022-05-26T23:58:52.798Z"
   },
   {
    "duration": 438,
    "start_time": "2022-05-26T23:59:19.683Z"
   },
   {
    "duration": 167,
    "start_time": "2022-05-26T23:59:20.122Z"
   },
   {
    "duration": 26,
    "start_time": "2022-05-26T23:59:20.290Z"
   },
   {
    "duration": 139,
    "start_time": "2022-05-26T23:59:20.318Z"
   },
   {
    "duration": 18,
    "start_time": "2022-05-26T23:59:20.459Z"
   },
   {
    "duration": 91,
    "start_time": "2022-05-26T23:59:20.479Z"
   },
   {
    "duration": 23,
    "start_time": "2022-05-26T23:59:20.571Z"
   },
   {
    "duration": 19,
    "start_time": "2022-05-26T23:59:20.596Z"
   },
   {
    "duration": 11,
    "start_time": "2022-05-26T23:59:20.617Z"
   },
   {
    "duration": 32,
    "start_time": "2022-05-26T23:59:20.631Z"
   },
   {
    "duration": 9,
    "start_time": "2022-05-26T23:59:20.665Z"
   },
   {
    "duration": 7,
    "start_time": "2022-05-26T23:59:20.676Z"
   },
   {
    "duration": 35,
    "start_time": "2022-05-26T23:59:20.684Z"
   },
   {
    "duration": 23,
    "start_time": "2022-05-26T23:59:20.720Z"
   },
   {
    "duration": 19,
    "start_time": "2022-05-26T23:59:20.744Z"
   },
   {
    "duration": 9,
    "start_time": "2022-05-26T23:59:20.765Z"
   },
   {
    "duration": 16,
    "start_time": "2022-05-26T23:59:20.795Z"
   },
   {
    "duration": 50,
    "start_time": "2022-05-26T23:59:20.812Z"
   },
   {
    "duration": 535,
    "start_time": "2022-05-26T23:59:20.864Z"
   },
   {
    "duration": 262,
    "start_time": "2022-05-26T23:59:21.401Z"
   },
   {
    "duration": 261,
    "start_time": "2022-05-26T23:59:21.665Z"
   },
   {
    "duration": 247,
    "start_time": "2022-05-26T23:59:21.927Z"
   },
   {
    "duration": 21,
    "start_time": "2022-05-26T23:59:22.176Z"
   },
   {
    "duration": 81,
    "start_time": "2022-05-26T23:59:22.199Z"
   },
   {
    "duration": 28,
    "start_time": "2022-05-26T23:59:22.282Z"
   },
   {
    "duration": 15,
    "start_time": "2022-05-26T23:59:22.312Z"
   },
   {
    "duration": 22,
    "start_time": "2022-05-26T23:59:22.328Z"
   },
   {
    "duration": 6,
    "start_time": "2022-05-26T23:59:22.353Z"
   },
   {
    "duration": 34,
    "start_time": "2022-05-26T23:59:22.360Z"
   },
   {
    "duration": 12,
    "start_time": "2022-05-26T23:59:22.396Z"
   },
   {
    "duration": 28,
    "start_time": "2022-05-26T23:59:22.409Z"
   },
   {
    "duration": 36,
    "start_time": "2022-05-26T23:59:22.438Z"
   },
   {
    "duration": 387,
    "start_time": "2022-05-26T23:59:52.714Z"
   },
   {
    "duration": 164,
    "start_time": "2022-05-26T23:59:53.103Z"
   },
   {
    "duration": 28,
    "start_time": "2022-05-26T23:59:53.269Z"
   },
   {
    "duration": 145,
    "start_time": "2022-05-26T23:59:53.298Z"
   },
   {
    "duration": 19,
    "start_time": "2022-05-26T23:59:53.445Z"
   },
   {
    "duration": 93,
    "start_time": "2022-05-26T23:59:53.466Z"
   },
   {
    "duration": 17,
    "start_time": "2022-05-26T23:59:53.561Z"
   },
   {
    "duration": 33,
    "start_time": "2022-05-26T23:59:53.580Z"
   },
   {
    "duration": 9,
    "start_time": "2022-05-26T23:59:53.614Z"
   },
   {
    "duration": 34,
    "start_time": "2022-05-26T23:59:53.626Z"
   },
   {
    "duration": 9,
    "start_time": "2022-05-26T23:59:53.661Z"
   },
   {
    "duration": 7,
    "start_time": "2022-05-26T23:59:53.672Z"
   },
   {
    "duration": 34,
    "start_time": "2022-05-26T23:59:53.680Z"
   },
   {
    "duration": 22,
    "start_time": "2022-05-26T23:59:53.716Z"
   },
   {
    "duration": 17,
    "start_time": "2022-05-26T23:59:53.740Z"
   },
   {
    "duration": 8,
    "start_time": "2022-05-26T23:59:53.759Z"
   },
   {
    "duration": 35,
    "start_time": "2022-05-26T23:59:53.768Z"
   },
   {
    "duration": 48,
    "start_time": "2022-05-26T23:59:53.805Z"
   },
   {
    "duration": 530,
    "start_time": "2022-05-26T23:59:53.854Z"
   },
   {
    "duration": 259,
    "start_time": "2022-05-26T23:59:54.385Z"
   },
   {
    "duration": 241,
    "start_time": "2022-05-26T23:59:54.646Z"
   },
   {
    "duration": 243,
    "start_time": "2022-05-26T23:59:54.888Z"
   },
   {
    "duration": 14,
    "start_time": "2022-05-26T23:59:55.133Z"
   },
   {
    "duration": 94,
    "start_time": "2022-05-26T23:59:55.148Z"
   },
   {
    "duration": 16,
    "start_time": "2022-05-26T23:59:55.244Z"
   },
   {
    "duration": 33,
    "start_time": "2022-05-26T23:59:55.262Z"
   },
   {
    "duration": 15,
    "start_time": "2022-05-26T23:59:55.297Z"
   },
   {
    "duration": 16,
    "start_time": "2022-05-26T23:59:55.316Z"
   },
   {
    "duration": 13,
    "start_time": "2022-05-26T23:59:55.334Z"
   },
   {
    "duration": 21,
    "start_time": "2022-05-26T23:59:55.349Z"
   },
   {
    "duration": 19,
    "start_time": "2022-05-26T23:59:55.373Z"
   },
   {
    "duration": 34,
    "start_time": "2022-05-26T23:59:55.393Z"
   },
   {
    "duration": 425,
    "start_time": "2022-05-27T00:01:20.484Z"
   },
   {
    "duration": 165,
    "start_time": "2022-05-27T00:01:20.911Z"
   },
   {
    "duration": 24,
    "start_time": "2022-05-27T00:01:21.077Z"
   },
   {
    "duration": 138,
    "start_time": "2022-05-27T00:01:21.103Z"
   },
   {
    "duration": 19,
    "start_time": "2022-05-27T00:01:21.242Z"
   },
   {
    "duration": 91,
    "start_time": "2022-05-27T00:01:21.263Z"
   },
   {
    "duration": 16,
    "start_time": "2022-05-27T00:01:21.355Z"
   },
   {
    "duration": 19,
    "start_time": "2022-05-27T00:01:21.373Z"
   },
   {
    "duration": 8,
    "start_time": "2022-05-27T00:01:21.395Z"
   },
   {
    "duration": 39,
    "start_time": "2022-05-27T00:01:21.405Z"
   },
   {
    "duration": 10,
    "start_time": "2022-05-27T00:01:21.445Z"
   },
   {
    "duration": 19,
    "start_time": "2022-05-27T00:01:21.456Z"
   },
   {
    "duration": 34,
    "start_time": "2022-05-27T00:01:21.477Z"
   },
   {
    "duration": 22,
    "start_time": "2022-05-27T00:01:21.513Z"
   },
   {
    "duration": 17,
    "start_time": "2022-05-27T00:01:21.536Z"
   },
   {
    "duration": 8,
    "start_time": "2022-05-27T00:01:21.554Z"
   },
   {
    "duration": 32,
    "start_time": "2022-05-27T00:01:21.564Z"
   },
   {
    "duration": 48,
    "start_time": "2022-05-27T00:01:21.597Z"
   },
   {
    "duration": 535,
    "start_time": "2022-05-27T00:01:21.646Z"
   },
   {
    "duration": 264,
    "start_time": "2022-05-27T00:01:22.182Z"
   },
   {
    "duration": 241,
    "start_time": "2022-05-27T00:01:22.448Z"
   },
   {
    "duration": 244,
    "start_time": "2022-05-27T00:01:22.694Z"
   },
   {
    "duration": 12,
    "start_time": "2022-05-27T00:01:22.939Z"
   },
   {
    "duration": 92,
    "start_time": "2022-05-27T00:01:22.953Z"
   },
   {
    "duration": 17,
    "start_time": "2022-05-27T00:01:23.046Z"
   },
   {
    "duration": 32,
    "start_time": "2022-05-27T00:01:23.065Z"
   },
   {
    "duration": 15,
    "start_time": "2022-05-27T00:01:23.100Z"
   },
   {
    "duration": 7,
    "start_time": "2022-05-27T00:01:23.119Z"
   },
   {
    "duration": 9,
    "start_time": "2022-05-27T00:01:23.127Z"
   },
   {
    "duration": 6,
    "start_time": "2022-05-27T00:01:23.138Z"
   },
   {
    "duration": 8,
    "start_time": "2022-05-27T00:01:23.146Z"
   },
   {
    "duration": 0,
    "start_time": "2022-05-27T00:01:23.156Z"
   },
   {
    "duration": 404,
    "start_time": "2022-05-27T00:02:37.128Z"
   },
   {
    "duration": 169,
    "start_time": "2022-05-27T00:02:37.534Z"
   },
   {
    "duration": 26,
    "start_time": "2022-05-27T00:02:37.705Z"
   },
   {
    "duration": 138,
    "start_time": "2022-05-27T00:02:37.733Z"
   },
   {
    "duration": 26,
    "start_time": "2022-05-27T00:02:37.873Z"
   },
   {
    "duration": 90,
    "start_time": "2022-05-27T00:02:37.900Z"
   },
   {
    "duration": 17,
    "start_time": "2022-05-27T00:02:37.992Z"
   },
   {
    "duration": 21,
    "start_time": "2022-05-27T00:02:38.010Z"
   },
   {
    "duration": 9,
    "start_time": "2022-05-27T00:02:38.033Z"
   },
   {
    "duration": 35,
    "start_time": "2022-05-27T00:02:38.044Z"
   },
   {
    "duration": 10,
    "start_time": "2022-05-27T00:02:38.080Z"
   },
   {
    "duration": 7,
    "start_time": "2022-05-27T00:02:38.091Z"
   },
   {
    "duration": 33,
    "start_time": "2022-05-27T00:02:38.099Z"
   },
   {
    "duration": 21,
    "start_time": "2022-05-27T00:02:38.134Z"
   },
   {
    "duration": 19,
    "start_time": "2022-05-27T00:02:38.156Z"
   },
   {
    "duration": 26,
    "start_time": "2022-05-27T00:02:38.176Z"
   },
   {
    "duration": 18,
    "start_time": "2022-05-27T00:02:38.204Z"
   },
   {
    "duration": 54,
    "start_time": "2022-05-27T00:02:38.224Z"
   },
   {
    "duration": 547,
    "start_time": "2022-05-27T00:02:38.280Z"
   },
   {
    "duration": 268,
    "start_time": "2022-05-27T00:02:38.829Z"
   },
   {
    "duration": 249,
    "start_time": "2022-05-27T00:02:39.098Z"
   },
   {
    "duration": 238,
    "start_time": "2022-05-27T00:02:39.349Z"
   },
   {
    "duration": 13,
    "start_time": "2022-05-27T00:02:39.594Z"
   },
   {
    "duration": 95,
    "start_time": "2022-05-27T00:02:39.608Z"
   },
   {
    "duration": 17,
    "start_time": "2022-05-27T00:02:39.704Z"
   },
   {
    "duration": 15,
    "start_time": "2022-05-27T00:02:39.723Z"
   },
   {
    "duration": 15,
    "start_time": "2022-05-27T00:02:39.739Z"
   },
   {
    "duration": 7,
    "start_time": "2022-05-27T00:02:39.757Z"
   },
   {
    "duration": 35,
    "start_time": "2022-05-27T00:02:39.765Z"
   },
   {
    "duration": 8,
    "start_time": "2022-05-27T00:02:39.801Z"
   },
   {
    "duration": 8,
    "start_time": "2022-05-27T00:02:39.811Z"
   },
   {
    "duration": 48,
    "start_time": "2022-05-27T00:02:39.821Z"
   },
   {
    "duration": 441,
    "start_time": "2022-05-27T00:04:30.274Z"
   },
   {
    "duration": 171,
    "start_time": "2022-05-27T00:04:30.716Z"
   },
   {
    "duration": 29,
    "start_time": "2022-05-27T00:04:30.889Z"
   },
   {
    "duration": 144,
    "start_time": "2022-05-27T00:04:30.920Z"
   },
   {
    "duration": 18,
    "start_time": "2022-05-27T00:04:31.066Z"
   },
   {
    "duration": 98,
    "start_time": "2022-05-27T00:04:31.086Z"
   },
   {
    "duration": 19,
    "start_time": "2022-05-27T00:04:31.186Z"
   },
   {
    "duration": 19,
    "start_time": "2022-05-27T00:04:31.206Z"
   },
   {
    "duration": 9,
    "start_time": "2022-05-27T00:04:31.227Z"
   },
   {
    "duration": 54,
    "start_time": "2022-05-27T00:04:31.238Z"
   },
   {
    "duration": 12,
    "start_time": "2022-05-27T00:04:31.294Z"
   },
   {
    "duration": 23,
    "start_time": "2022-05-27T00:04:31.308Z"
   },
   {
    "duration": 49,
    "start_time": "2022-05-27T00:04:31.333Z"
   },
   {
    "duration": 22,
    "start_time": "2022-05-27T00:04:31.384Z"
   },
   {
    "duration": 19,
    "start_time": "2022-05-27T00:04:31.408Z"
   },
   {
    "duration": 8,
    "start_time": "2022-05-27T00:04:31.429Z"
   },
   {
    "duration": 26,
    "start_time": "2022-05-27T00:04:31.439Z"
   },
   {
    "duration": 65,
    "start_time": "2022-05-27T00:04:31.466Z"
   },
   {
    "duration": 541,
    "start_time": "2022-05-27T00:04:31.533Z"
   },
   {
    "duration": 283,
    "start_time": "2022-05-27T00:04:32.076Z"
   },
   {
    "duration": 251,
    "start_time": "2022-05-27T00:04:32.360Z"
   },
   {
    "duration": 246,
    "start_time": "2022-05-27T00:04:32.613Z"
   },
   {
    "duration": 16,
    "start_time": "2022-05-27T00:04:32.860Z"
   },
   {
    "duration": 96,
    "start_time": "2022-05-27T00:04:32.877Z"
   },
   {
    "duration": 30,
    "start_time": "2022-05-27T00:04:32.975Z"
   },
   {
    "duration": 14,
    "start_time": "2022-05-27T00:04:33.006Z"
   },
   {
    "duration": 13,
    "start_time": "2022-05-27T00:04:33.022Z"
   },
   {
    "duration": 7,
    "start_time": "2022-05-27T00:04:33.037Z"
   },
   {
    "duration": 7,
    "start_time": "2022-05-27T00:04:33.045Z"
   },
   {
    "duration": 4,
    "start_time": "2022-05-27T00:04:33.053Z"
   },
   {
    "duration": 37,
    "start_time": "2022-05-27T00:04:33.059Z"
   },
   {
    "duration": 0,
    "start_time": "2022-05-27T00:04:33.098Z"
   },
   {
    "duration": 386,
    "start_time": "2022-05-27T00:06:08.755Z"
   },
   {
    "duration": 167,
    "start_time": "2022-05-27T00:06:09.143Z"
   },
   {
    "duration": 24,
    "start_time": "2022-05-27T00:06:09.312Z"
   },
   {
    "duration": 138,
    "start_time": "2022-05-27T00:06:09.338Z"
   },
   {
    "duration": 26,
    "start_time": "2022-05-27T00:06:09.477Z"
   },
   {
    "duration": 96,
    "start_time": "2022-05-27T00:06:09.508Z"
   },
   {
    "duration": 16,
    "start_time": "2022-05-27T00:06:09.606Z"
   },
   {
    "duration": 19,
    "start_time": "2022-05-27T00:06:09.624Z"
   },
   {
    "duration": 9,
    "start_time": "2022-05-27T00:06:09.645Z"
   },
   {
    "duration": 36,
    "start_time": "2022-05-27T00:06:09.657Z"
   },
   {
    "duration": 10,
    "start_time": "2022-05-27T00:06:09.694Z"
   },
   {
    "duration": 9,
    "start_time": "2022-05-27T00:06:09.706Z"
   },
   {
    "duration": 36,
    "start_time": "2022-05-27T00:06:09.716Z"
   },
   {
    "duration": 22,
    "start_time": "2022-05-27T00:06:09.754Z"
   },
   {
    "duration": 20,
    "start_time": "2022-05-27T00:06:09.794Z"
   },
   {
    "duration": 8,
    "start_time": "2022-05-27T00:06:09.816Z"
   },
   {
    "duration": 16,
    "start_time": "2022-05-27T00:06:09.826Z"
   },
   {
    "duration": 77,
    "start_time": "2022-05-27T00:06:09.844Z"
   },
   {
    "duration": 536,
    "start_time": "2022-05-27T00:06:09.923Z"
   },
   {
    "duration": 267,
    "start_time": "2022-05-27T00:06:10.460Z"
   },
   {
    "duration": 254,
    "start_time": "2022-05-27T00:06:10.729Z"
   },
   {
    "duration": 246,
    "start_time": "2022-05-27T00:06:10.985Z"
   },
   {
    "duration": 14,
    "start_time": "2022-05-27T00:06:11.232Z"
   },
   {
    "duration": 96,
    "start_time": "2022-05-27T00:06:11.248Z"
   },
   {
    "duration": 15,
    "start_time": "2022-05-27T00:06:11.346Z"
   },
   {
    "duration": 14,
    "start_time": "2022-05-27T00:06:11.363Z"
   },
   {
    "duration": 14,
    "start_time": "2022-05-27T00:06:11.394Z"
   },
   {
    "duration": 8,
    "start_time": "2022-05-27T00:06:11.410Z"
   },
   {
    "duration": 6,
    "start_time": "2022-05-27T00:06:11.420Z"
   },
   {
    "duration": 4,
    "start_time": "2022-05-27T00:06:11.427Z"
   },
   {
    "duration": 5,
    "start_time": "2022-05-27T00:06:11.432Z"
   },
   {
    "duration": 69,
    "start_time": "2022-05-27T00:06:11.438Z"
   },
   {
    "duration": 401,
    "start_time": "2022-05-27T00:08:27.706Z"
   },
   {
    "duration": 175,
    "start_time": "2022-05-27T00:08:28.109Z"
   },
   {
    "duration": 37,
    "start_time": "2022-05-27T00:08:28.285Z"
   },
   {
    "duration": 136,
    "start_time": "2022-05-27T00:08:28.324Z"
   },
   {
    "duration": 19,
    "start_time": "2022-05-27T00:08:28.462Z"
   },
   {
    "duration": 106,
    "start_time": "2022-05-27T00:08:28.483Z"
   },
   {
    "duration": 18,
    "start_time": "2022-05-27T00:08:28.590Z"
   },
   {
    "duration": 27,
    "start_time": "2022-05-27T00:08:28.609Z"
   },
   {
    "duration": 9,
    "start_time": "2022-05-27T00:08:28.637Z"
   },
   {
    "duration": 38,
    "start_time": "2022-05-27T00:08:28.648Z"
   },
   {
    "duration": 10,
    "start_time": "2022-05-27T00:08:28.688Z"
   },
   {
    "duration": 26,
    "start_time": "2022-05-27T00:08:28.700Z"
   },
   {
    "duration": 53,
    "start_time": "2022-05-27T00:08:28.727Z"
   },
   {
    "duration": 22,
    "start_time": "2022-05-27T00:08:28.782Z"
   },
   {
    "duration": 17,
    "start_time": "2022-05-27T00:08:28.806Z"
   },
   {
    "duration": 8,
    "start_time": "2022-05-27T00:08:28.825Z"
   },
   {
    "duration": 36,
    "start_time": "2022-05-27T00:08:28.835Z"
   },
   {
    "duration": 49,
    "start_time": "2022-05-27T00:08:28.873Z"
   },
   {
    "duration": 507,
    "start_time": "2022-05-27T00:08:28.924Z"
   },
   {
    "duration": 261,
    "start_time": "2022-05-27T00:08:29.433Z"
   },
   {
    "duration": 256,
    "start_time": "2022-05-27T00:08:29.696Z"
   },
   {
    "duration": 248,
    "start_time": "2022-05-27T00:08:29.954Z"
   },
   {
    "duration": 14,
    "start_time": "2022-05-27T00:08:30.204Z"
   },
   {
    "duration": 102,
    "start_time": "2022-05-27T00:08:30.219Z"
   },
   {
    "duration": 18,
    "start_time": "2022-05-27T00:08:30.323Z"
   },
   {
    "duration": 23,
    "start_time": "2022-05-27T00:08:30.343Z"
   },
   {
    "duration": 33,
    "start_time": "2022-05-27T00:08:30.368Z"
   },
   {
    "duration": 8,
    "start_time": "2022-05-27T00:08:30.405Z"
   },
   {
    "duration": 23,
    "start_time": "2022-05-27T00:08:30.414Z"
   },
   {
    "duration": 20,
    "start_time": "2022-05-27T00:08:30.439Z"
   },
   {
    "duration": 19,
    "start_time": "2022-05-27T00:08:30.461Z"
   },
   {
    "duration": 89,
    "start_time": "2022-05-27T00:08:30.482Z"
   },
   {
    "duration": 430,
    "start_time": "2022-05-27T00:13:14.685Z"
   },
   {
    "duration": 173,
    "start_time": "2022-05-27T00:13:15.117Z"
   },
   {
    "duration": 25,
    "start_time": "2022-05-27T00:13:15.294Z"
   },
   {
    "duration": 155,
    "start_time": "2022-05-27T00:13:15.320Z"
   },
   {
    "duration": 31,
    "start_time": "2022-05-27T00:13:15.477Z"
   },
   {
    "duration": 106,
    "start_time": "2022-05-27T00:13:15.511Z"
   },
   {
    "duration": 17,
    "start_time": "2022-05-27T00:13:15.618Z"
   },
   {
    "duration": 19,
    "start_time": "2022-05-27T00:13:15.637Z"
   },
   {
    "duration": 10,
    "start_time": "2022-05-27T00:13:15.658Z"
   },
   {
    "duration": 35,
    "start_time": "2022-05-27T00:13:15.670Z"
   },
   {
    "duration": 10,
    "start_time": "2022-05-27T00:13:15.706Z"
   },
   {
    "duration": 9,
    "start_time": "2022-05-27T00:13:15.717Z"
   },
   {
    "duration": 37,
    "start_time": "2022-05-27T00:13:15.728Z"
   },
   {
    "duration": 31,
    "start_time": "2022-05-27T00:13:15.767Z"
   },
   {
    "duration": 18,
    "start_time": "2022-05-27T00:13:15.799Z"
   },
   {
    "duration": 8,
    "start_time": "2022-05-27T00:13:15.819Z"
   },
   {
    "duration": 16,
    "start_time": "2022-05-27T00:13:15.828Z"
   },
   {
    "duration": 69,
    "start_time": "2022-05-27T00:13:15.845Z"
   },
   {
    "duration": 526,
    "start_time": "2022-05-27T00:13:15.916Z"
   },
   {
    "duration": 255,
    "start_time": "2022-05-27T00:13:16.444Z"
   },
   {
    "duration": 256,
    "start_time": "2022-05-27T00:13:16.701Z"
   },
   {
    "duration": 255,
    "start_time": "2022-05-27T00:13:16.958Z"
   },
   {
    "duration": 16,
    "start_time": "2022-05-27T00:13:17.215Z"
   },
   {
    "duration": 109,
    "start_time": "2022-05-27T00:13:17.233Z"
   },
   {
    "duration": 15,
    "start_time": "2022-05-27T00:13:17.344Z"
   },
   {
    "duration": 15,
    "start_time": "2022-05-27T00:13:17.361Z"
   },
   {
    "duration": 28,
    "start_time": "2022-05-27T00:13:17.378Z"
   },
   {
    "duration": 7,
    "start_time": "2022-05-27T00:13:17.408Z"
   },
   {
    "duration": 6,
    "start_time": "2022-05-27T00:13:17.416Z"
   },
   {
    "duration": 5,
    "start_time": "2022-05-27T00:13:17.424Z"
   },
   {
    "duration": 8,
    "start_time": "2022-05-27T00:13:17.430Z"
   },
   {
    "duration": 0,
    "start_time": "2022-05-27T00:13:17.439Z"
   },
   {
    "duration": 435,
    "start_time": "2022-05-27T00:13:40.592Z"
   },
   {
    "duration": 172,
    "start_time": "2022-05-27T00:13:41.029Z"
   },
   {
    "duration": 24,
    "start_time": "2022-05-27T00:13:41.202Z"
   },
   {
    "duration": 137,
    "start_time": "2022-05-27T00:13:41.228Z"
   },
   {
    "duration": 19,
    "start_time": "2022-05-27T00:13:41.366Z"
   },
   {
    "duration": 89,
    "start_time": "2022-05-27T00:13:41.395Z"
   },
   {
    "duration": 18,
    "start_time": "2022-05-27T00:13:41.486Z"
   },
   {
    "duration": 20,
    "start_time": "2022-05-27T00:13:41.506Z"
   },
   {
    "duration": 10,
    "start_time": "2022-05-27T00:13:41.527Z"
   },
   {
    "duration": 34,
    "start_time": "2022-05-27T00:13:41.539Z"
   },
   {
    "duration": 11,
    "start_time": "2022-05-27T00:13:41.575Z"
   },
   {
    "duration": 23,
    "start_time": "2022-05-27T00:13:41.588Z"
   },
   {
    "duration": 37,
    "start_time": "2022-05-27T00:13:41.613Z"
   },
   {
    "duration": 23,
    "start_time": "2022-05-27T00:13:41.651Z"
   },
   {
    "duration": 20,
    "start_time": "2022-05-27T00:13:41.676Z"
   },
   {
    "duration": 8,
    "start_time": "2022-05-27T00:13:41.698Z"
   },
   {
    "duration": 16,
    "start_time": "2022-05-27T00:13:41.708Z"
   },
   {
    "duration": 51,
    "start_time": "2022-05-27T00:13:41.725Z"
   },
   {
    "duration": 530,
    "start_time": "2022-05-27T00:13:41.778Z"
   },
   {
    "duration": 264,
    "start_time": "2022-05-27T00:13:42.310Z"
   },
   {
    "duration": 267,
    "start_time": "2022-05-27T00:13:42.575Z"
   },
   {
    "duration": 251,
    "start_time": "2022-05-27T00:13:42.844Z"
   },
   {
    "duration": 14,
    "start_time": "2022-05-27T00:13:43.096Z"
   },
   {
    "duration": 97,
    "start_time": "2022-05-27T00:13:43.111Z"
   },
   {
    "duration": 16,
    "start_time": "2022-05-27T00:13:43.209Z"
   },
   {
    "duration": 19,
    "start_time": "2022-05-27T00:13:43.227Z"
   },
   {
    "duration": 20,
    "start_time": "2022-05-27T00:13:43.248Z"
   },
   {
    "duration": 9,
    "start_time": "2022-05-27T00:13:43.295Z"
   },
   {
    "duration": 6,
    "start_time": "2022-05-27T00:13:43.306Z"
   },
   {
    "duration": 3,
    "start_time": "2022-05-27T00:13:43.314Z"
   },
   {
    "duration": 5,
    "start_time": "2022-05-27T00:13:43.318Z"
   },
   {
    "duration": 90,
    "start_time": "2022-05-27T00:13:43.325Z"
   },
   {
    "duration": 385,
    "start_time": "2022-05-27T00:14:59.321Z"
   },
   {
    "duration": 166,
    "start_time": "2022-05-27T00:14:59.708Z"
   },
   {
    "duration": 35,
    "start_time": "2022-05-27T00:14:59.875Z"
   },
   {
    "duration": 137,
    "start_time": "2022-05-27T00:14:59.913Z"
   },
   {
    "duration": 19,
    "start_time": "2022-05-27T00:15:00.051Z"
   },
   {
    "duration": 95,
    "start_time": "2022-05-27T00:15:00.072Z"
   },
   {
    "duration": 27,
    "start_time": "2022-05-27T00:15:00.168Z"
   },
   {
    "duration": 20,
    "start_time": "2022-05-27T00:15:00.197Z"
   },
   {
    "duration": 21,
    "start_time": "2022-05-27T00:15:00.218Z"
   },
   {
    "duration": 39,
    "start_time": "2022-05-27T00:15:00.241Z"
   },
   {
    "duration": 10,
    "start_time": "2022-05-27T00:15:00.281Z"
   },
   {
    "duration": 23,
    "start_time": "2022-05-27T00:15:00.293Z"
   },
   {
    "duration": 35,
    "start_time": "2022-05-27T00:15:00.318Z"
   },
   {
    "duration": 21,
    "start_time": "2022-05-27T00:15:00.355Z"
   },
   {
    "duration": 26,
    "start_time": "2022-05-27T00:15:00.377Z"
   },
   {
    "duration": 20,
    "start_time": "2022-05-27T00:15:00.405Z"
   },
   {
    "duration": 26,
    "start_time": "2022-05-27T00:15:00.426Z"
   },
   {
    "duration": 49,
    "start_time": "2022-05-27T00:15:00.453Z"
   },
   {
    "duration": 534,
    "start_time": "2022-05-27T00:15:00.504Z"
   },
   {
    "duration": 265,
    "start_time": "2022-05-27T00:15:01.040Z"
   },
   {
    "duration": 242,
    "start_time": "2022-05-27T00:15:01.306Z"
   },
   {
    "duration": 242,
    "start_time": "2022-05-27T00:15:01.549Z"
   },
   {
    "duration": 14,
    "start_time": "2022-05-27T00:15:01.794Z"
   },
   {
    "duration": 92,
    "start_time": "2022-05-27T00:15:01.809Z"
   },
   {
    "duration": 16,
    "start_time": "2022-05-27T00:15:01.903Z"
   },
   {
    "duration": 15,
    "start_time": "2022-05-27T00:15:01.921Z"
   },
   {
    "duration": 18,
    "start_time": "2022-05-27T00:15:01.937Z"
   },
   {
    "duration": 7,
    "start_time": "2022-05-27T00:15:01.958Z"
   },
   {
    "duration": 30,
    "start_time": "2022-05-27T00:15:01.966Z"
   },
   {
    "duration": 13,
    "start_time": "2022-05-27T00:15:01.997Z"
   },
   {
    "duration": 7,
    "start_time": "2022-05-27T00:15:02.011Z"
   },
   {
    "duration": 5,
    "start_time": "2022-05-27T00:15:02.020Z"
   },
   {
    "duration": 90,
    "start_time": "2022-05-27T00:15:02.027Z"
   },
   {
    "duration": 375,
    "start_time": "2022-05-27T00:15:24.846Z"
   },
   {
    "duration": 171,
    "start_time": "2022-05-27T00:15:25.223Z"
   },
   {
    "duration": 27,
    "start_time": "2022-05-27T00:15:25.396Z"
   },
   {
    "duration": 144,
    "start_time": "2022-05-27T00:15:25.425Z"
   },
   {
    "duration": 25,
    "start_time": "2022-05-27T00:15:25.570Z"
   },
   {
    "duration": 89,
    "start_time": "2022-05-27T00:15:25.597Z"
   },
   {
    "duration": 17,
    "start_time": "2022-05-27T00:15:25.687Z"
   },
   {
    "duration": 21,
    "start_time": "2022-05-27T00:15:25.705Z"
   },
   {
    "duration": 10,
    "start_time": "2022-05-27T00:15:25.727Z"
   },
   {
    "duration": 38,
    "start_time": "2022-05-27T00:15:25.739Z"
   },
   {
    "duration": 11,
    "start_time": "2022-05-27T00:15:25.778Z"
   },
   {
    "duration": 9,
    "start_time": "2022-05-27T00:15:25.790Z"
   },
   {
    "duration": 37,
    "start_time": "2022-05-27T00:15:25.800Z"
   },
   {
    "duration": 23,
    "start_time": "2022-05-27T00:15:25.838Z"
   },
   {
    "duration": 18,
    "start_time": "2022-05-27T00:15:25.862Z"
   },
   {
    "duration": 20,
    "start_time": "2022-05-27T00:15:25.881Z"
   },
   {
    "duration": 20,
    "start_time": "2022-05-27T00:15:25.902Z"
   },
   {
    "duration": 51,
    "start_time": "2022-05-27T00:15:25.923Z"
   },
   {
    "duration": 551,
    "start_time": "2022-05-27T00:15:25.976Z"
   },
   {
    "duration": 265,
    "start_time": "2022-05-27T00:15:26.529Z"
   },
   {
    "duration": 252,
    "start_time": "2022-05-27T00:15:26.796Z"
   },
   {
    "duration": 280,
    "start_time": "2022-05-27T00:15:27.050Z"
   },
   {
    "duration": 13,
    "start_time": "2022-05-27T00:15:27.331Z"
   },
   {
    "duration": 96,
    "start_time": "2022-05-27T00:15:27.346Z"
   },
   {
    "duration": 16,
    "start_time": "2022-05-27T00:15:27.444Z"
   },
   {
    "duration": 13,
    "start_time": "2022-05-27T00:15:27.462Z"
   },
   {
    "duration": 15,
    "start_time": "2022-05-27T00:15:27.494Z"
   },
   {
    "duration": 7,
    "start_time": "2022-05-27T00:15:27.511Z"
   },
   {
    "duration": 8,
    "start_time": "2022-05-27T00:15:27.520Z"
   },
   {
    "duration": 6,
    "start_time": "2022-05-27T00:15:27.530Z"
   },
   {
    "duration": 4,
    "start_time": "2022-05-27T00:15:27.537Z"
   },
   {
    "duration": 7,
    "start_time": "2022-05-27T00:15:27.542Z"
   },
   {
    "duration": 88,
    "start_time": "2022-05-27T00:15:27.551Z"
   },
   {
    "duration": 432,
    "start_time": "2022-05-27T00:16:25.276Z"
   },
   {
    "duration": 163,
    "start_time": "2022-05-27T00:16:25.710Z"
   },
   {
    "duration": 26,
    "start_time": "2022-05-27T00:16:25.874Z"
   },
   {
    "duration": 137,
    "start_time": "2022-05-27T00:16:25.902Z"
   },
   {
    "duration": 19,
    "start_time": "2022-05-27T00:16:26.041Z"
   },
   {
    "duration": 95,
    "start_time": "2022-05-27T00:16:26.062Z"
   },
   {
    "duration": 17,
    "start_time": "2022-05-27T00:16:26.158Z"
   },
   {
    "duration": 22,
    "start_time": "2022-05-27T00:16:26.177Z"
   },
   {
    "duration": 15,
    "start_time": "2022-05-27T00:16:26.201Z"
   },
   {
    "duration": 39,
    "start_time": "2022-05-27T00:16:26.219Z"
   },
   {
    "duration": 10,
    "start_time": "2022-05-27T00:16:26.260Z"
   },
   {
    "duration": 6,
    "start_time": "2022-05-27T00:16:26.272Z"
   },
   {
    "duration": 34,
    "start_time": "2022-05-27T00:16:26.280Z"
   },
   {
    "duration": 22,
    "start_time": "2022-05-27T00:16:26.316Z"
   },
   {
    "duration": 19,
    "start_time": "2022-05-27T00:16:26.340Z"
   },
   {
    "duration": 8,
    "start_time": "2022-05-27T00:16:26.361Z"
   },
   {
    "duration": 37,
    "start_time": "2022-05-27T00:16:26.371Z"
   },
   {
    "duration": 55,
    "start_time": "2022-05-27T00:16:26.410Z"
   },
   {
    "duration": 557,
    "start_time": "2022-05-27T00:16:26.466Z"
   },
   {
    "duration": 299,
    "start_time": "2022-05-27T00:16:27.025Z"
   },
   {
    "duration": 247,
    "start_time": "2022-05-27T00:16:27.326Z"
   },
   {
    "duration": 248,
    "start_time": "2022-05-27T00:16:27.575Z"
   },
   {
    "duration": 15,
    "start_time": "2022-05-27T00:16:27.825Z"
   },
   {
    "duration": 93,
    "start_time": "2022-05-27T00:16:27.842Z"
   },
   {
    "duration": 17,
    "start_time": "2022-05-27T00:16:27.937Z"
   },
   {
    "duration": 14,
    "start_time": "2022-05-27T00:16:27.956Z"
   },
   {
    "duration": 33,
    "start_time": "2022-05-27T00:16:27.972Z"
   },
   {
    "duration": 8,
    "start_time": "2022-05-27T00:16:28.008Z"
   },
   {
    "duration": 8,
    "start_time": "2022-05-27T00:16:28.017Z"
   },
   {
    "duration": 4,
    "start_time": "2022-05-27T00:16:28.026Z"
   },
   {
    "duration": 4,
    "start_time": "2022-05-27T00:16:28.032Z"
   },
   {
    "duration": 5,
    "start_time": "2022-05-27T00:16:28.037Z"
   },
   {
    "duration": 87,
    "start_time": "2022-05-27T00:16:28.043Z"
   },
   {
    "duration": 432,
    "start_time": "2022-05-27T00:19:20.097Z"
   },
   {
    "duration": 171,
    "start_time": "2022-05-27T00:19:20.531Z"
   },
   {
    "duration": 33,
    "start_time": "2022-05-27T00:19:20.704Z"
   },
   {
    "duration": 145,
    "start_time": "2022-05-27T00:19:20.739Z"
   },
   {
    "duration": 24,
    "start_time": "2022-05-27T00:19:20.886Z"
   },
   {
    "duration": 113,
    "start_time": "2022-05-27T00:19:20.912Z"
   },
   {
    "duration": 19,
    "start_time": "2022-05-27T00:19:21.027Z"
   },
   {
    "duration": 20,
    "start_time": "2022-05-27T00:19:21.047Z"
   },
   {
    "duration": 10,
    "start_time": "2022-05-27T00:19:21.068Z"
   },
   {
    "duration": 34,
    "start_time": "2022-05-27T00:19:21.094Z"
   },
   {
    "duration": 12,
    "start_time": "2022-05-27T00:19:21.129Z"
   },
   {
    "duration": 12,
    "start_time": "2022-05-27T00:19:21.143Z"
   },
   {
    "duration": 35,
    "start_time": "2022-05-27T00:19:21.157Z"
   },
   {
    "duration": 29,
    "start_time": "2022-05-27T00:19:21.194Z"
   },
   {
    "duration": 21,
    "start_time": "2022-05-27T00:19:21.225Z"
   },
   {
    "duration": 9,
    "start_time": "2022-05-27T00:19:21.247Z"
   },
   {
    "duration": 37,
    "start_time": "2022-05-27T00:19:21.257Z"
   },
   {
    "duration": 49,
    "start_time": "2022-05-27T00:19:21.296Z"
   },
   {
    "duration": 549,
    "start_time": "2022-05-27T00:19:21.346Z"
   },
   {
    "duration": 263,
    "start_time": "2022-05-27T00:19:21.897Z"
   },
   {
    "duration": 265,
    "start_time": "2022-05-27T00:19:22.161Z"
   },
   {
    "duration": 282,
    "start_time": "2022-05-27T00:19:22.427Z"
   },
   {
    "duration": 14,
    "start_time": "2022-05-27T00:19:22.711Z"
   },
   {
    "duration": 102,
    "start_time": "2022-05-27T00:19:22.727Z"
   },
   {
    "duration": 17,
    "start_time": "2022-05-27T00:19:22.831Z"
   },
   {
    "duration": 15,
    "start_time": "2022-05-27T00:19:22.850Z"
   },
   {
    "duration": 34,
    "start_time": "2022-05-27T00:19:22.866Z"
   },
   {
    "duration": 8,
    "start_time": "2022-05-27T00:19:22.903Z"
   },
   {
    "duration": 6,
    "start_time": "2022-05-27T00:19:22.913Z"
   },
   {
    "duration": 6,
    "start_time": "2022-05-27T00:19:22.921Z"
   },
   {
    "duration": 6,
    "start_time": "2022-05-27T00:19:22.928Z"
   },
   {
    "duration": 7,
    "start_time": "2022-05-27T00:19:22.935Z"
   },
   {
    "duration": 101,
    "start_time": "2022-05-27T00:19:22.943Z"
   },
   {
    "duration": 427,
    "start_time": "2022-05-28T16:40:23.940Z"
   },
   {
    "duration": 237,
    "start_time": "2022-05-28T16:40:24.369Z"
   },
   {
    "duration": 24,
    "start_time": "2022-05-28T16:40:24.608Z"
   },
   {
    "duration": 381,
    "start_time": "2022-05-28T16:40:24.634Z"
   },
   {
    "duration": 24,
    "start_time": "2022-05-28T16:40:25.017Z"
   },
   {
    "duration": 323,
    "start_time": "2022-05-28T16:40:25.043Z"
   },
   {
    "duration": 18,
    "start_time": "2022-05-28T16:40:25.367Z"
   },
   {
    "duration": 71,
    "start_time": "2022-05-28T16:40:25.386Z"
   },
   {
    "duration": 10,
    "start_time": "2022-05-28T16:40:25.458Z"
   },
   {
    "duration": 61,
    "start_time": "2022-05-28T16:40:25.471Z"
   },
   {
    "duration": 10,
    "start_time": "2022-05-28T16:40:25.533Z"
   },
   {
    "duration": 9,
    "start_time": "2022-05-28T16:40:25.544Z"
   },
   {
    "duration": 36,
    "start_time": "2022-05-28T16:40:25.554Z"
   },
   {
    "duration": 36,
    "start_time": "2022-05-28T16:40:25.592Z"
   },
   {
    "duration": 17,
    "start_time": "2022-05-28T16:40:25.629Z"
   },
   {
    "duration": 8,
    "start_time": "2022-05-28T16:40:25.647Z"
   },
   {
    "duration": 14,
    "start_time": "2022-05-28T16:40:25.657Z"
   },
   {
    "duration": 69,
    "start_time": "2022-05-28T16:40:25.673Z"
   },
   {
    "duration": 701,
    "start_time": "2022-05-28T16:40:25.743Z"
   },
   {
    "duration": 266,
    "start_time": "2022-05-28T16:40:26.446Z"
   },
   {
    "duration": 247,
    "start_time": "2022-05-28T16:40:26.713Z"
   },
   {
    "duration": 276,
    "start_time": "2022-05-28T16:40:26.962Z"
   },
   {
    "duration": 14,
    "start_time": "2022-05-28T16:40:27.239Z"
   },
   {
    "duration": 104,
    "start_time": "2022-05-28T16:40:27.254Z"
   },
   {
    "duration": 16,
    "start_time": "2022-05-28T16:40:27.360Z"
   },
   {
    "duration": 14,
    "start_time": "2022-05-28T16:40:27.377Z"
   },
   {
    "duration": 37,
    "start_time": "2022-05-28T16:40:27.393Z"
   },
   {
    "duration": 9,
    "start_time": "2022-05-28T16:40:27.434Z"
   },
   {
    "duration": 8,
    "start_time": "2022-05-28T16:40:27.445Z"
   },
   {
    "duration": 5,
    "start_time": "2022-05-28T16:40:27.455Z"
   },
   {
    "duration": 12,
    "start_time": "2022-05-28T16:40:27.462Z"
   },
   {
    "duration": 7,
    "start_time": "2022-05-28T16:40:27.476Z"
   },
   {
    "duration": 129,
    "start_time": "2022-05-28T16:40:27.485Z"
   },
   {
    "duration": 402,
    "start_time": "2022-05-28T16:50:04.167Z"
   },
   {
    "duration": 181,
    "start_time": "2022-05-28T16:50:04.571Z"
   },
   {
    "duration": 25,
    "start_time": "2022-05-28T16:50:04.754Z"
   },
   {
    "duration": 139,
    "start_time": "2022-05-28T16:50:04.781Z"
   },
   {
    "duration": 20,
    "start_time": "2022-05-28T16:50:04.924Z"
   },
   {
    "duration": 102,
    "start_time": "2022-05-28T16:50:04.946Z"
   },
   {
    "duration": 19,
    "start_time": "2022-05-28T16:50:05.050Z"
   },
   {
    "duration": 22,
    "start_time": "2022-05-28T16:50:05.071Z"
   },
   {
    "duration": 10,
    "start_time": "2022-05-28T16:50:05.095Z"
   },
   {
    "duration": 36,
    "start_time": "2022-05-28T16:50:05.107Z"
   },
   {
    "duration": 10,
    "start_time": "2022-05-28T16:50:05.145Z"
   },
   {
    "duration": 10,
    "start_time": "2022-05-28T16:50:05.157Z"
   },
   {
    "duration": 32,
    "start_time": "2022-05-28T16:50:05.169Z"
   },
   {
    "duration": 31,
    "start_time": "2022-05-28T16:50:05.205Z"
   },
   {
    "duration": 19,
    "start_time": "2022-05-28T16:50:05.237Z"
   },
   {
    "duration": 8,
    "start_time": "2022-05-28T16:50:05.258Z"
   },
   {
    "duration": 16,
    "start_time": "2022-05-28T16:50:05.268Z"
   },
   {
    "duration": 77,
    "start_time": "2022-05-28T16:50:05.286Z"
   },
   {
    "duration": 540,
    "start_time": "2022-05-28T16:50:05.365Z"
   },
   {
    "duration": 296,
    "start_time": "2022-05-28T16:50:05.906Z"
   },
   {
    "duration": 269,
    "start_time": "2022-05-28T16:50:06.204Z"
   },
   {
    "duration": 250,
    "start_time": "2022-05-28T16:50:06.475Z"
   },
   {
    "duration": 14,
    "start_time": "2022-05-28T16:50:06.726Z"
   },
   {
    "duration": 105,
    "start_time": "2022-05-28T16:50:06.741Z"
   },
   {
    "duration": 16,
    "start_time": "2022-05-28T16:50:06.848Z"
   },
   {
    "duration": 90,
    "start_time": "2022-05-28T16:50:06.866Z"
   },
   {
    "duration": 0,
    "start_time": "2022-05-28T16:50:06.957Z"
   },
   {
    "duration": 0,
    "start_time": "2022-05-28T16:50:06.958Z"
   },
   {
    "duration": 0,
    "start_time": "2022-05-28T16:50:06.959Z"
   },
   {
    "duration": 0,
    "start_time": "2022-05-28T16:50:06.960Z"
   },
   {
    "duration": 0,
    "start_time": "2022-05-28T16:50:06.962Z"
   },
   {
    "duration": 0,
    "start_time": "2022-05-28T16:50:06.962Z"
   },
   {
    "duration": 0,
    "start_time": "2022-05-28T16:50:06.963Z"
   },
   {
    "duration": 438,
    "start_time": "2022-05-28T16:50:18.318Z"
   },
   {
    "duration": 184,
    "start_time": "2022-05-28T16:50:18.758Z"
   },
   {
    "duration": 29,
    "start_time": "2022-05-28T16:50:18.944Z"
   },
   {
    "duration": 156,
    "start_time": "2022-05-28T16:50:18.974Z"
   },
   {
    "duration": 19,
    "start_time": "2022-05-28T16:50:19.133Z"
   },
   {
    "duration": 105,
    "start_time": "2022-05-28T16:50:19.154Z"
   },
   {
    "duration": 26,
    "start_time": "2022-05-28T16:50:19.261Z"
   },
   {
    "duration": 21,
    "start_time": "2022-05-28T16:50:19.289Z"
   },
   {
    "duration": 18,
    "start_time": "2022-05-28T16:50:19.312Z"
   },
   {
    "duration": 37,
    "start_time": "2022-05-28T16:50:19.332Z"
   },
   {
    "duration": 14,
    "start_time": "2022-05-28T16:50:19.371Z"
   },
   {
    "duration": 9,
    "start_time": "2022-05-28T16:50:19.387Z"
   },
   {
    "duration": 37,
    "start_time": "2022-05-28T16:50:19.398Z"
   },
   {
    "duration": 23,
    "start_time": "2022-05-28T16:50:19.438Z"
   },
   {
    "duration": 18,
    "start_time": "2022-05-28T16:50:19.462Z"
   },
   {
    "duration": 9,
    "start_time": "2022-05-28T16:50:19.481Z"
   },
   {
    "duration": 39,
    "start_time": "2022-05-28T16:50:19.491Z"
   },
   {
    "duration": 52,
    "start_time": "2022-05-28T16:50:19.532Z"
   },
   {
    "duration": 593,
    "start_time": "2022-05-28T16:50:19.586Z"
   },
   {
    "duration": 265,
    "start_time": "2022-05-28T16:50:20.180Z"
   },
   {
    "duration": 241,
    "start_time": "2022-05-28T16:50:20.447Z"
   },
   {
    "duration": 240,
    "start_time": "2022-05-28T16:50:20.690Z"
   },
   {
    "duration": 13,
    "start_time": "2022-05-28T16:50:20.931Z"
   },
   {
    "duration": 94,
    "start_time": "2022-05-28T16:50:20.945Z"
   },
   {
    "duration": 15,
    "start_time": "2022-05-28T16:50:21.041Z"
   },
   {
    "duration": 14,
    "start_time": "2022-05-28T16:50:21.057Z"
   },
   {
    "duration": 8,
    "start_time": "2022-05-28T16:50:21.072Z"
   },
   {
    "duration": 7,
    "start_time": "2022-05-28T16:50:21.081Z"
   },
   {
    "duration": 6,
    "start_time": "2022-05-28T16:50:21.089Z"
   },
   {
    "duration": 29,
    "start_time": "2022-05-28T16:50:21.097Z"
   },
   {
    "duration": 5,
    "start_time": "2022-05-28T16:50:21.128Z"
   },
   {
    "duration": 70,
    "start_time": "2022-05-28T16:50:21.134Z"
   },
   {
    "duration": 99,
    "start_time": "2022-05-28T16:52:18.863Z"
   },
   {
    "duration": 6,
    "start_time": "2022-05-28T16:52:27.812Z"
   },
   {
    "duration": 18,
    "start_time": "2022-05-28T16:52:34.798Z"
   },
   {
    "duration": 5,
    "start_time": "2022-05-28T16:58:42.810Z"
   },
   {
    "duration": 9,
    "start_time": "2022-05-28T16:59:10.486Z"
   },
   {
    "duration": 419,
    "start_time": "2022-05-28T16:59:42.160Z"
   },
   {
    "duration": 207,
    "start_time": "2022-05-28T16:59:42.582Z"
   },
   {
    "duration": 33,
    "start_time": "2022-05-28T16:59:42.790Z"
   },
   {
    "duration": 152,
    "start_time": "2022-05-28T16:59:42.831Z"
   },
   {
    "duration": 21,
    "start_time": "2022-05-28T16:59:42.984Z"
   },
   {
    "duration": 93,
    "start_time": "2022-05-28T16:59:43.007Z"
   },
   {
    "duration": 27,
    "start_time": "2022-05-28T16:59:43.102Z"
   },
   {
    "duration": 20,
    "start_time": "2022-05-28T16:59:43.131Z"
   },
   {
    "duration": 10,
    "start_time": "2022-05-28T16:59:43.153Z"
   },
   {
    "duration": 34,
    "start_time": "2022-05-28T16:59:43.167Z"
   },
   {
    "duration": 10,
    "start_time": "2022-05-28T16:59:43.203Z"
   },
   {
    "duration": 8,
    "start_time": "2022-05-28T16:59:43.215Z"
   },
   {
    "duration": 35,
    "start_time": "2022-05-28T16:59:43.224Z"
   },
   {
    "duration": 24,
    "start_time": "2022-05-28T16:59:43.261Z"
   },
   {
    "duration": 41,
    "start_time": "2022-05-28T16:59:43.287Z"
   },
   {
    "duration": 10,
    "start_time": "2022-05-28T16:59:43.329Z"
   },
   {
    "duration": 17,
    "start_time": "2022-05-28T16:59:43.341Z"
   },
   {
    "duration": 75,
    "start_time": "2022-05-28T16:59:43.359Z"
   },
   {
    "duration": 575,
    "start_time": "2022-05-28T16:59:43.436Z"
   },
   {
    "duration": 305,
    "start_time": "2022-05-28T16:59:44.013Z"
   },
   {
    "duration": 262,
    "start_time": "2022-05-28T16:59:44.319Z"
   },
   {
    "duration": 265,
    "start_time": "2022-05-28T16:59:44.583Z"
   },
   {
    "duration": 14,
    "start_time": "2022-05-28T16:59:44.850Z"
   },
   {
    "duration": 117,
    "start_time": "2022-05-28T16:59:44.866Z"
   },
   {
    "duration": 17,
    "start_time": "2022-05-28T16:59:44.984Z"
   },
   {
    "duration": 25,
    "start_time": "2022-05-28T16:59:45.003Z"
   },
   {
    "duration": 7,
    "start_time": "2022-05-28T16:59:45.029Z"
   },
   {
    "duration": 7,
    "start_time": "2022-05-28T16:59:45.039Z"
   },
   {
    "duration": 9,
    "start_time": "2022-05-28T16:59:45.047Z"
   },
   {
    "duration": 12,
    "start_time": "2022-05-28T16:59:45.058Z"
   },
   {
    "duration": 5,
    "start_time": "2022-05-28T16:59:45.072Z"
   },
   {
    "duration": 81,
    "start_time": "2022-05-28T16:59:45.079Z"
   },
   {
    "duration": 16,
    "start_time": "2022-05-28T16:59:45.163Z"
   },
   {
    "duration": 4,
    "start_time": "2022-05-28T16:59:45.180Z"
   },
   {
    "duration": 22,
    "start_time": "2022-05-28T17:01:18.159Z"
   },
   {
    "duration": 17,
    "start_time": "2022-05-28T17:05:36.383Z"
   },
   {
    "duration": 15,
    "start_time": "2022-05-28T17:06:55.225Z"
   },
   {
    "duration": 505,
    "start_time": "2022-05-28T17:07:43.879Z"
   },
   {
    "duration": 1442,
    "start_time": "2022-05-28T17:08:01.265Z"
   },
   {
    "duration": 384,
    "start_time": "2022-05-28T17:09:04.865Z"
   },
   {
    "duration": 175,
    "start_time": "2022-05-28T17:09:05.251Z"
   },
   {
    "duration": 26,
    "start_time": "2022-05-28T17:09:05.427Z"
   },
   {
    "duration": 144,
    "start_time": "2022-05-28T17:09:05.454Z"
   },
   {
    "duration": 32,
    "start_time": "2022-05-28T17:09:05.600Z"
   },
   {
    "duration": 91,
    "start_time": "2022-05-28T17:09:05.633Z"
   },
   {
    "duration": 18,
    "start_time": "2022-05-28T17:09:05.726Z"
   },
   {
    "duration": 24,
    "start_time": "2022-05-28T17:09:05.745Z"
   },
   {
    "duration": 10,
    "start_time": "2022-05-28T17:09:05.770Z"
   },
   {
    "duration": 37,
    "start_time": "2022-05-28T17:09:05.782Z"
   },
   {
    "duration": 8,
    "start_time": "2022-05-28T17:09:05.821Z"
   },
   {
    "duration": 8,
    "start_time": "2022-05-28T17:09:05.831Z"
   },
   {
    "duration": 37,
    "start_time": "2022-05-28T17:09:05.840Z"
   },
   {
    "duration": 22,
    "start_time": "2022-05-28T17:09:05.879Z"
   },
   {
    "duration": 25,
    "start_time": "2022-05-28T17:09:05.903Z"
   },
   {
    "duration": 9,
    "start_time": "2022-05-28T17:09:05.930Z"
   },
   {
    "duration": 24,
    "start_time": "2022-05-28T17:09:05.941Z"
   },
   {
    "duration": 73,
    "start_time": "2022-05-28T17:09:05.967Z"
   },
   {
    "duration": 546,
    "start_time": "2022-05-28T17:09:06.042Z"
   },
   {
    "duration": 277,
    "start_time": "2022-05-28T17:09:06.589Z"
   },
   {
    "duration": 259,
    "start_time": "2022-05-28T17:09:06.868Z"
   },
   {
    "duration": 251,
    "start_time": "2022-05-28T17:09:07.129Z"
   },
   {
    "duration": 14,
    "start_time": "2022-05-28T17:09:07.382Z"
   },
   {
    "duration": 101,
    "start_time": "2022-05-28T17:09:07.397Z"
   },
   {
    "duration": 24,
    "start_time": "2022-05-28T17:09:07.500Z"
   },
   {
    "duration": 13,
    "start_time": "2022-05-28T17:09:07.525Z"
   },
   {
    "duration": 7,
    "start_time": "2022-05-28T17:09:07.540Z"
   },
   {
    "duration": 7,
    "start_time": "2022-05-28T17:09:07.549Z"
   },
   {
    "duration": 5,
    "start_time": "2022-05-28T17:09:07.557Z"
   },
   {
    "duration": 5,
    "start_time": "2022-05-28T17:09:07.564Z"
   },
   {
    "duration": 7,
    "start_time": "2022-05-28T17:09:07.571Z"
   },
   {
    "duration": 98,
    "start_time": "2022-05-28T17:09:07.580Z"
   },
   {
    "duration": 85,
    "start_time": "2022-05-28T17:09:07.679Z"
   },
   {
    "duration": 0,
    "start_time": "2022-05-28T17:09:07.765Z"
   },
   {
    "duration": 0,
    "start_time": "2022-05-28T17:09:07.766Z"
   },
   {
    "duration": 0,
    "start_time": "2022-05-28T17:09:07.767Z"
   },
   {
    "duration": 409,
    "start_time": "2022-05-28T17:09:29.437Z"
   },
   {
    "duration": 179,
    "start_time": "2022-05-28T17:09:29.848Z"
   },
   {
    "duration": 27,
    "start_time": "2022-05-28T17:09:30.029Z"
   },
   {
    "duration": 145,
    "start_time": "2022-05-28T17:09:30.059Z"
   },
   {
    "duration": 25,
    "start_time": "2022-05-28T17:09:30.205Z"
   },
   {
    "duration": 92,
    "start_time": "2022-05-28T17:09:30.232Z"
   },
   {
    "duration": 18,
    "start_time": "2022-05-28T17:09:30.325Z"
   },
   {
    "duration": 20,
    "start_time": "2022-05-28T17:09:30.344Z"
   },
   {
    "duration": 11,
    "start_time": "2022-05-28T17:09:30.365Z"
   },
   {
    "duration": 40,
    "start_time": "2022-05-28T17:09:30.379Z"
   },
   {
    "duration": 10,
    "start_time": "2022-05-28T17:09:30.420Z"
   },
   {
    "duration": 13,
    "start_time": "2022-05-28T17:09:30.432Z"
   },
   {
    "duration": 46,
    "start_time": "2022-05-28T17:09:30.446Z"
   },
   {
    "duration": 22,
    "start_time": "2022-05-28T17:09:30.493Z"
   },
   {
    "duration": 17,
    "start_time": "2022-05-28T17:09:30.516Z"
   },
   {
    "duration": 9,
    "start_time": "2022-05-28T17:09:30.534Z"
   },
   {
    "duration": 28,
    "start_time": "2022-05-28T17:09:30.544Z"
   },
   {
    "duration": 54,
    "start_time": "2022-05-28T17:09:30.574Z"
   },
   {
    "duration": 532,
    "start_time": "2022-05-28T17:09:30.629Z"
   },
   {
    "duration": 273,
    "start_time": "2022-05-28T17:09:31.163Z"
   },
   {
    "duration": 248,
    "start_time": "2022-05-28T17:09:31.438Z"
   },
   {
    "duration": 265,
    "start_time": "2022-05-28T17:09:31.688Z"
   },
   {
    "duration": 18,
    "start_time": "2022-05-28T17:09:31.955Z"
   },
   {
    "duration": 107,
    "start_time": "2022-05-28T17:09:31.975Z"
   },
   {
    "duration": 17,
    "start_time": "2022-05-28T17:09:32.083Z"
   },
   {
    "duration": 31,
    "start_time": "2022-05-28T17:09:32.102Z"
   },
   {
    "duration": 8,
    "start_time": "2022-05-28T17:09:32.135Z"
   },
   {
    "duration": 7,
    "start_time": "2022-05-28T17:09:32.147Z"
   },
   {
    "duration": 15,
    "start_time": "2022-05-28T17:09:32.155Z"
   },
   {
    "duration": 4,
    "start_time": "2022-05-28T17:09:32.172Z"
   },
   {
    "duration": 6,
    "start_time": "2022-05-28T17:09:32.178Z"
   },
   {
    "duration": 90,
    "start_time": "2022-05-28T17:09:32.186Z"
   },
   {
    "duration": 98,
    "start_time": "2022-05-28T17:09:32.278Z"
   },
   {
    "duration": 0,
    "start_time": "2022-05-28T17:09:32.378Z"
   },
   {
    "duration": 0,
    "start_time": "2022-05-28T17:09:32.379Z"
   },
   {
    "duration": 0,
    "start_time": "2022-05-28T17:09:32.381Z"
   },
   {
    "duration": 406,
    "start_time": "2022-05-28T17:09:54.267Z"
   },
   {
    "duration": 170,
    "start_time": "2022-05-28T17:09:54.675Z"
   },
   {
    "duration": 24,
    "start_time": "2022-05-28T17:09:54.846Z"
   },
   {
    "duration": 142,
    "start_time": "2022-05-28T17:09:54.872Z"
   },
   {
    "duration": 25,
    "start_time": "2022-05-28T17:09:55.016Z"
   },
   {
    "duration": 98,
    "start_time": "2022-05-28T17:09:55.043Z"
   },
   {
    "duration": 18,
    "start_time": "2022-05-28T17:09:55.143Z"
   },
   {
    "duration": 19,
    "start_time": "2022-05-28T17:09:55.162Z"
   },
   {
    "duration": 10,
    "start_time": "2022-05-28T17:09:55.183Z"
   },
   {
    "duration": 37,
    "start_time": "2022-05-28T17:09:55.195Z"
   },
   {
    "duration": 11,
    "start_time": "2022-05-28T17:09:55.233Z"
   },
   {
    "duration": 9,
    "start_time": "2022-05-28T17:09:55.245Z"
   },
   {
    "duration": 35,
    "start_time": "2022-05-28T17:09:55.256Z"
   },
   {
    "duration": 31,
    "start_time": "2022-05-28T17:09:55.292Z"
   },
   {
    "duration": 18,
    "start_time": "2022-05-28T17:09:55.325Z"
   },
   {
    "duration": 9,
    "start_time": "2022-05-28T17:09:55.344Z"
   },
   {
    "duration": 31,
    "start_time": "2022-05-28T17:09:55.355Z"
   },
   {
    "duration": 72,
    "start_time": "2022-05-28T17:09:55.388Z"
   },
   {
    "duration": 527,
    "start_time": "2022-05-28T17:09:55.461Z"
   },
   {
    "duration": 272,
    "start_time": "2022-05-28T17:09:55.989Z"
   },
   {
    "duration": 255,
    "start_time": "2022-05-28T17:09:56.263Z"
   },
   {
    "duration": 257,
    "start_time": "2022-05-28T17:09:56.522Z"
   },
   {
    "duration": 13,
    "start_time": "2022-05-28T17:09:56.780Z"
   },
   {
    "duration": 101,
    "start_time": "2022-05-28T17:09:56.795Z"
   },
   {
    "duration": 16,
    "start_time": "2022-05-28T17:09:56.898Z"
   },
   {
    "duration": 13,
    "start_time": "2022-05-28T17:09:56.923Z"
   },
   {
    "duration": 7,
    "start_time": "2022-05-28T17:09:56.938Z"
   },
   {
    "duration": 6,
    "start_time": "2022-05-28T17:09:56.948Z"
   },
   {
    "duration": 6,
    "start_time": "2022-05-28T17:09:56.955Z"
   },
   {
    "duration": 7,
    "start_time": "2022-05-28T17:09:56.962Z"
   },
   {
    "duration": 6,
    "start_time": "2022-05-28T17:09:56.970Z"
   },
   {
    "duration": 90,
    "start_time": "2022-05-28T17:09:56.977Z"
   },
   {
    "duration": 16,
    "start_time": "2022-05-28T17:09:57.069Z"
   },
   {
    "duration": 990,
    "start_time": "2022-05-28T17:09:57.087Z"
   },
   {
    "duration": 16,
    "start_time": "2022-05-28T17:09:58.078Z"
   },
   {
    "duration": 28,
    "start_time": "2022-05-28T17:09:58.096Z"
   },
   {
    "duration": 514,
    "start_time": "2022-05-28T17:10:06.876Z"
   },
   {
    "duration": 399,
    "start_time": "2022-05-28T17:10:58.766Z"
   },
   {
    "duration": 186,
    "start_time": "2022-05-28T17:10:59.167Z"
   },
   {
    "duration": 26,
    "start_time": "2022-05-28T17:10:59.354Z"
   },
   {
    "duration": 141,
    "start_time": "2022-05-28T17:10:59.381Z"
   },
   {
    "duration": 20,
    "start_time": "2022-05-28T17:10:59.524Z"
   },
   {
    "duration": 98,
    "start_time": "2022-05-28T17:10:59.545Z"
   },
   {
    "duration": 17,
    "start_time": "2022-05-28T17:10:59.644Z"
   },
   {
    "duration": 30,
    "start_time": "2022-05-28T17:10:59.663Z"
   },
   {
    "duration": 13,
    "start_time": "2022-05-28T17:10:59.695Z"
   },
   {
    "duration": 36,
    "start_time": "2022-05-28T17:10:59.710Z"
   },
   {
    "duration": 10,
    "start_time": "2022-05-28T17:10:59.748Z"
   },
   {
    "duration": 6,
    "start_time": "2022-05-28T17:10:59.760Z"
   },
   {
    "duration": 34,
    "start_time": "2022-05-28T17:10:59.767Z"
   },
   {
    "duration": 35,
    "start_time": "2022-05-28T17:10:59.802Z"
   },
   {
    "duration": 26,
    "start_time": "2022-05-28T17:10:59.839Z"
   },
   {
    "duration": 8,
    "start_time": "2022-05-28T17:10:59.867Z"
   },
   {
    "duration": 20,
    "start_time": "2022-05-28T17:10:59.877Z"
   },
   {
    "duration": 91,
    "start_time": "2022-05-28T17:10:59.899Z"
   },
   {
    "duration": 630,
    "start_time": "2022-05-28T17:10:59.993Z"
   },
   {
    "duration": 348,
    "start_time": "2022-05-28T17:11:00.625Z"
   },
   {
    "duration": 284,
    "start_time": "2022-05-28T17:11:00.975Z"
   },
   {
    "duration": 313,
    "start_time": "2022-05-28T17:11:01.261Z"
   },
   {
    "duration": 13,
    "start_time": "2022-05-28T17:11:01.575Z"
   },
   {
    "duration": 106,
    "start_time": "2022-05-28T17:11:01.590Z"
   },
   {
    "duration": 31,
    "start_time": "2022-05-28T17:11:01.698Z"
   },
   {
    "duration": 18,
    "start_time": "2022-05-28T17:11:01.731Z"
   },
   {
    "duration": 41,
    "start_time": "2022-05-28T17:11:01.751Z"
   },
   {
    "duration": 36,
    "start_time": "2022-05-28T17:11:01.797Z"
   },
   {
    "duration": 13,
    "start_time": "2022-05-28T17:11:01.835Z"
   },
   {
    "duration": 29,
    "start_time": "2022-05-28T17:11:01.850Z"
   },
   {
    "duration": 19,
    "start_time": "2022-05-28T17:11:01.880Z"
   },
   {
    "duration": 94,
    "start_time": "2022-05-28T17:11:01.901Z"
   },
   {
    "duration": 26,
    "start_time": "2022-05-28T17:11:01.997Z"
   },
   {
    "duration": 294,
    "start_time": "2022-05-28T17:11:02.024Z"
   },
   {
    "duration": 18,
    "start_time": "2022-05-28T17:11:02.319Z"
   },
   {
    "duration": 17,
    "start_time": "2022-05-28T17:11:02.339Z"
   },
   {
    "duration": 556,
    "start_time": "2022-05-28T17:11:14.941Z"
   },
   {
    "duration": 2347,
    "start_time": "2022-05-28T17:11:28.268Z"
   },
   {
    "duration": 671,
    "start_time": "2022-05-28T17:11:46.482Z"
   },
   {
    "duration": 597,
    "start_time": "2022-05-28T17:11:51.944Z"
   },
   {
    "duration": 356,
    "start_time": "2022-05-28T17:12:03.623Z"
   },
   {
    "duration": 247,
    "start_time": "2022-05-28T17:12:14.567Z"
   },
   {
    "duration": 327,
    "start_time": "2022-05-28T17:12:19.874Z"
   },
   {
    "duration": 270,
    "start_time": "2022-05-28T17:12:26.705Z"
   },
   {
    "duration": 330,
    "start_time": "2022-05-28T17:12:32.163Z"
   },
   {
    "duration": 580,
    "start_time": "2022-05-28T17:12:38.008Z"
   },
   {
    "duration": 404,
    "start_time": "2022-05-28T17:12:46.844Z"
   },
   {
    "duration": 392,
    "start_time": "2022-05-28T17:13:49.564Z"
   },
   {
    "duration": 361,
    "start_time": "2022-05-28T17:14:07.566Z"
   },
   {
    "duration": 349,
    "start_time": "2022-05-28T17:14:13.186Z"
   },
   {
    "duration": 332,
    "start_time": "2022-05-28T17:14:41.368Z"
   },
   {
    "duration": 917,
    "start_time": "2022-05-28T17:14:52.037Z"
   },
   {
    "duration": 403,
    "start_time": "2022-05-28T17:14:59.205Z"
   },
   {
    "duration": 477,
    "start_time": "2022-05-28T17:15:03.102Z"
   },
   {
    "duration": 481,
    "start_time": "2022-05-28T17:15:07.894Z"
   },
   {
    "duration": 441,
    "start_time": "2022-05-28T17:15:19.969Z"
   },
   {
    "duration": 16,
    "start_time": "2022-05-28T17:25:52.726Z"
   },
   {
    "duration": 8,
    "start_time": "2022-05-28T17:29:19.352Z"
   },
   {
    "duration": 15,
    "start_time": "2022-05-28T17:32:28.912Z"
   },
   {
    "duration": 14,
    "start_time": "2022-05-28T17:36:15.983Z"
   },
   {
    "duration": 13,
    "start_time": "2022-05-28T17:37:10.910Z"
   },
   {
    "duration": 13,
    "start_time": "2022-05-28T17:37:33.024Z"
   },
   {
    "duration": 60,
    "start_time": "2022-05-29T10:25:24.006Z"
   },
   {
    "duration": 428,
    "start_time": "2022-05-29T10:25:30.976Z"
   },
   {
    "duration": 542,
    "start_time": "2022-05-29T10:25:31.406Z"
   },
   {
    "duration": 39,
    "start_time": "2022-05-29T10:25:31.950Z"
   },
   {
    "duration": 433,
    "start_time": "2022-05-29T10:25:31.991Z"
   },
   {
    "duration": 20,
    "start_time": "2022-05-29T10:25:32.427Z"
   },
   {
    "duration": 156,
    "start_time": "2022-05-29T10:25:32.449Z"
   },
   {
    "duration": 20,
    "start_time": "2022-05-29T10:25:32.607Z"
   },
   {
    "duration": 51,
    "start_time": "2022-05-29T10:25:32.628Z"
   },
   {
    "duration": 10,
    "start_time": "2022-05-29T10:25:32.681Z"
   },
   {
    "duration": 73,
    "start_time": "2022-05-29T10:25:32.693Z"
   },
   {
    "duration": 12,
    "start_time": "2022-05-29T10:25:32.768Z"
   },
   {
    "duration": 9,
    "start_time": "2022-05-29T10:25:32.781Z"
   },
   {
    "duration": 41,
    "start_time": "2022-05-29T10:25:32.792Z"
   },
   {
    "duration": 37,
    "start_time": "2022-05-29T10:25:32.837Z"
   },
   {
    "duration": 16,
    "start_time": "2022-05-29T10:25:32.878Z"
   },
   {
    "duration": 8,
    "start_time": "2022-05-29T10:25:32.896Z"
   },
   {
    "duration": 15,
    "start_time": "2022-05-29T10:25:32.905Z"
   },
   {
    "duration": 84,
    "start_time": "2022-05-29T10:25:32.921Z"
   },
   {
    "duration": 665,
    "start_time": "2022-05-29T10:25:33.007Z"
   },
   {
    "duration": 241,
    "start_time": "2022-05-29T10:25:33.673Z"
   },
   {
    "duration": 271,
    "start_time": "2022-05-29T10:25:33.916Z"
   },
   {
    "duration": 281,
    "start_time": "2022-05-29T10:25:34.189Z"
   },
   {
    "duration": 12,
    "start_time": "2022-05-29T10:25:34.472Z"
   },
   {
    "duration": 84,
    "start_time": "2022-05-29T10:25:34.485Z"
   },
   {
    "duration": 18,
    "start_time": "2022-05-29T10:25:34.570Z"
   },
   {
    "duration": 17,
    "start_time": "2022-05-29T10:25:34.590Z"
   },
   {
    "duration": 9,
    "start_time": "2022-05-29T10:25:34.609Z"
   },
   {
    "duration": 8,
    "start_time": "2022-05-29T10:25:34.619Z"
   },
   {
    "duration": 31,
    "start_time": "2022-05-29T10:25:34.628Z"
   },
   {
    "duration": 2,
    "start_time": "2022-05-29T10:25:34.661Z"
   },
   {
    "duration": 8,
    "start_time": "2022-05-29T10:25:34.665Z"
   },
   {
    "duration": 66,
    "start_time": "2022-05-29T10:25:34.674Z"
   },
   {
    "duration": 280,
    "start_time": "2022-05-29T10:25:34.742Z"
   },
   {
    "duration": 11,
    "start_time": "2022-05-29T10:25:35.023Z"
   },
   {
    "duration": 19,
    "start_time": "2022-05-29T10:25:35.035Z"
   },
   {
    "duration": 506,
    "start_time": "2022-05-29T10:31:49.872Z"
   },
   {
    "duration": 10,
    "start_time": "2022-05-29T10:32:26.749Z"
   },
   {
    "duration": 15,
    "start_time": "2022-05-29T10:32:51.570Z"
   },
   {
    "duration": 9,
    "start_time": "2022-05-29T10:33:04.697Z"
   },
   {
    "duration": 13,
    "start_time": "2022-05-29T10:36:00.119Z"
   },
   {
    "duration": 13,
    "start_time": "2022-05-29T10:36:17.322Z"
   },
   {
    "duration": 9,
    "start_time": "2022-05-29T10:36:23.004Z"
   },
   {
    "duration": 9,
    "start_time": "2022-05-29T10:36:55.853Z"
   },
   {
    "duration": 8,
    "start_time": "2022-05-29T10:37:09.808Z"
   },
   {
    "duration": 13,
    "start_time": "2022-05-29T10:37:30.480Z"
   },
   {
    "duration": 10,
    "start_time": "2022-05-29T10:38:41.282Z"
   },
   {
    "duration": 9,
    "start_time": "2022-05-29T10:38:52.537Z"
   },
   {
    "duration": 145,
    "start_time": "2022-05-29T10:39:07.871Z"
   },
   {
    "duration": 409,
    "start_time": "2022-05-29T10:39:48.441Z"
   },
   {
    "duration": 159,
    "start_time": "2022-05-29T10:39:48.851Z"
   },
   {
    "duration": 29,
    "start_time": "2022-05-29T10:39:49.012Z"
   },
   {
    "duration": 134,
    "start_time": "2022-05-29T10:39:49.043Z"
   },
   {
    "duration": 18,
    "start_time": "2022-05-29T10:39:49.179Z"
   },
   {
    "duration": 85,
    "start_time": "2022-05-29T10:39:49.198Z"
   },
   {
    "duration": 16,
    "start_time": "2022-05-29T10:39:49.285Z"
   },
   {
    "duration": 24,
    "start_time": "2022-05-29T10:39:49.302Z"
   },
   {
    "duration": 9,
    "start_time": "2022-05-29T10:39:49.328Z"
   },
   {
    "duration": 34,
    "start_time": "2022-05-29T10:39:49.339Z"
   },
   {
    "duration": 15,
    "start_time": "2022-05-29T10:39:49.375Z"
   },
   {
    "duration": 6,
    "start_time": "2022-05-29T10:39:49.392Z"
   },
   {
    "duration": 39,
    "start_time": "2022-05-29T10:39:49.401Z"
   },
   {
    "duration": 33,
    "start_time": "2022-05-29T10:39:49.443Z"
   },
   {
    "duration": 26,
    "start_time": "2022-05-29T10:39:49.478Z"
   },
   {
    "duration": 11,
    "start_time": "2022-05-29T10:39:49.506Z"
   },
   {
    "duration": 12,
    "start_time": "2022-05-29T10:39:49.518Z"
   },
   {
    "duration": 78,
    "start_time": "2022-05-29T10:39:49.532Z"
   },
   {
    "duration": 566,
    "start_time": "2022-05-29T10:39:49.612Z"
   },
   {
    "duration": 246,
    "start_time": "2022-05-29T10:39:50.179Z"
   },
   {
    "duration": 236,
    "start_time": "2022-05-29T10:39:50.426Z"
   },
   {
    "duration": 271,
    "start_time": "2022-05-29T10:39:50.664Z"
   },
   {
    "duration": 22,
    "start_time": "2022-05-29T10:39:50.937Z"
   },
   {
    "duration": 67,
    "start_time": "2022-05-29T10:39:50.961Z"
   },
   {
    "duration": 15,
    "start_time": "2022-05-29T10:39:51.029Z"
   },
   {
    "duration": 13,
    "start_time": "2022-05-29T10:39:51.059Z"
   },
   {
    "duration": 6,
    "start_time": "2022-05-29T10:39:51.073Z"
   },
   {
    "duration": 16,
    "start_time": "2022-05-29T10:39:51.081Z"
   },
   {
    "duration": 10,
    "start_time": "2022-05-29T10:39:51.098Z"
   },
   {
    "duration": 10,
    "start_time": "2022-05-29T10:39:51.110Z"
   },
   {
    "duration": 8,
    "start_time": "2022-05-29T10:39:51.122Z"
   },
   {
    "duration": 70,
    "start_time": "2022-05-29T10:39:51.132Z"
   },
   {
    "duration": 177,
    "start_time": "2022-05-29T10:39:51.203Z"
   },
   {
    "duration": 0,
    "start_time": "2022-05-29T10:39:51.381Z"
   },
   {
    "duration": 0,
    "start_time": "2022-05-29T10:39:51.383Z"
   },
   {
    "duration": 225,
    "start_time": "2022-05-29T10:40:06.413Z"
   },
   {
    "duration": 254,
    "start_time": "2022-05-29T10:40:20.512Z"
   },
   {
    "duration": 274,
    "start_time": "2022-05-29T10:42:31.520Z"
   },
   {
    "duration": 204,
    "start_time": "2022-05-29T10:43:25.977Z"
   },
   {
    "duration": 306,
    "start_time": "2022-05-29T10:43:43.258Z"
   },
   {
    "duration": 168,
    "start_time": "2022-05-29T10:44:44.107Z"
   },
   {
    "duration": 251,
    "start_time": "2022-05-29T10:45:14.813Z"
   },
   {
    "duration": 305,
    "start_time": "2022-05-29T10:46:58.392Z"
   },
   {
    "duration": 282,
    "start_time": "2022-05-29T10:47:27.849Z"
   },
   {
    "duration": 183,
    "start_time": "2022-05-29T10:47:59.983Z"
   },
   {
    "duration": 551,
    "start_time": "2022-05-29T10:55:18.411Z"
   },
   {
    "duration": 287,
    "start_time": "2022-05-29T10:57:51.972Z"
   },
   {
    "duration": 190,
    "start_time": "2022-05-29T11:04:13.354Z"
   },
   {
    "duration": 187,
    "start_time": "2022-05-29T11:05:51.087Z"
   },
   {
    "duration": 183,
    "start_time": "2022-05-29T11:06:58.397Z"
   },
   {
    "duration": 248,
    "start_time": "2022-05-29T11:07:09.581Z"
   },
   {
    "duration": 211,
    "start_time": "2022-05-29T11:07:22.388Z"
   },
   {
    "duration": 146,
    "start_time": "2022-05-29T11:11:45.244Z"
   },
   {
    "duration": 37,
    "start_time": "2022-05-29T11:12:25.188Z"
   },
   {
    "duration": 149,
    "start_time": "2022-05-29T11:12:30.143Z"
   },
   {
    "duration": 254,
    "start_time": "2022-05-29T11:13:21.248Z"
   },
   {
    "duration": 513,
    "start_time": "2022-05-29T11:13:42.299Z"
   },
   {
    "duration": 305,
    "start_time": "2022-05-29T11:13:51.292Z"
   },
   {
    "duration": 228,
    "start_time": "2022-05-29T11:14:05.045Z"
   },
   {
    "duration": 275,
    "start_time": "2022-05-29T11:14:12.821Z"
   },
   {
    "duration": 301,
    "start_time": "2022-05-29T11:14:29.412Z"
   },
   {
    "duration": 276,
    "start_time": "2022-05-29T11:14:58.185Z"
   },
   {
    "duration": 382,
    "start_time": "2022-05-29T11:15:05.947Z"
   },
   {
    "duration": 259,
    "start_time": "2022-05-29T11:15:18.350Z"
   },
   {
    "duration": 297,
    "start_time": "2022-05-29T11:16:24.318Z"
   },
   {
    "duration": 12,
    "start_time": "2022-05-29T11:25:52.121Z"
   },
   {
    "duration": 276,
    "start_time": "2022-05-29T11:26:38.449Z"
   },
   {
    "duration": 18,
    "start_time": "2022-05-29T11:28:49.391Z"
   },
   {
    "duration": 10,
    "start_time": "2022-05-29T11:32:14.823Z"
   },
   {
    "duration": 13,
    "start_time": "2022-05-29T11:32:24.947Z"
   },
   {
    "duration": 7,
    "start_time": "2022-05-29T11:33:03.099Z"
   },
   {
    "duration": 12,
    "start_time": "2022-05-29T11:33:13.754Z"
   },
   {
    "duration": 6,
    "start_time": "2022-05-29T11:33:18.626Z"
   },
   {
    "duration": 30,
    "start_time": "2022-05-29T11:36:11.784Z"
   },
   {
    "duration": 37,
    "start_time": "2022-05-29T11:36:38.697Z"
   },
   {
    "duration": 37,
    "start_time": "2022-05-29T11:37:04.991Z"
   },
   {
    "duration": 444,
    "start_time": "2022-05-29T11:37:16.227Z"
   },
   {
    "duration": 157,
    "start_time": "2022-05-29T11:37:16.673Z"
   },
   {
    "duration": 27,
    "start_time": "2022-05-29T11:37:16.832Z"
   },
   {
    "duration": 125,
    "start_time": "2022-05-29T11:37:16.861Z"
   },
   {
    "duration": 20,
    "start_time": "2022-05-29T11:37:16.988Z"
   },
   {
    "duration": 84,
    "start_time": "2022-05-29T11:37:17.011Z"
   },
   {
    "duration": 16,
    "start_time": "2022-05-29T11:37:17.097Z"
   },
   {
    "duration": 38,
    "start_time": "2022-05-29T11:37:17.115Z"
   },
   {
    "duration": 20,
    "start_time": "2022-05-29T11:37:17.155Z"
   },
   {
    "duration": 48,
    "start_time": "2022-05-29T11:37:17.177Z"
   },
   {
    "duration": 9,
    "start_time": "2022-05-29T11:37:17.226Z"
   },
   {
    "duration": 8,
    "start_time": "2022-05-29T11:37:17.237Z"
   },
   {
    "duration": 47,
    "start_time": "2022-05-29T11:37:17.247Z"
   },
   {
    "duration": 20,
    "start_time": "2022-05-29T11:37:17.296Z"
   },
   {
    "duration": 16,
    "start_time": "2022-05-29T11:37:17.318Z"
   },
   {
    "duration": 8,
    "start_time": "2022-05-29T11:37:17.335Z"
   },
   {
    "duration": 13,
    "start_time": "2022-05-29T11:37:17.359Z"
   },
   {
    "duration": 46,
    "start_time": "2022-05-29T11:37:17.374Z"
   },
   {
    "duration": 584,
    "start_time": "2022-05-29T11:37:17.422Z"
   },
   {
    "duration": 255,
    "start_time": "2022-05-29T11:37:18.008Z"
   },
   {
    "duration": 225,
    "start_time": "2022-05-29T11:37:18.265Z"
   },
   {
    "duration": 235,
    "start_time": "2022-05-29T11:37:18.491Z"
   },
   {
    "duration": 13,
    "start_time": "2022-05-29T11:37:18.728Z"
   },
   {
    "duration": 78,
    "start_time": "2022-05-29T11:37:18.743Z"
   },
   {
    "duration": 15,
    "start_time": "2022-05-29T11:37:18.823Z"
   },
   {
    "duration": 25,
    "start_time": "2022-05-29T11:37:18.839Z"
   },
   {
    "duration": 8,
    "start_time": "2022-05-29T11:37:18.865Z"
   },
   {
    "duration": 9,
    "start_time": "2022-05-29T11:37:18.875Z"
   },
   {
    "duration": 7,
    "start_time": "2022-05-29T11:37:18.886Z"
   },
   {
    "duration": 7,
    "start_time": "2022-05-29T11:37:18.894Z"
   },
   {
    "duration": 12,
    "start_time": "2022-05-29T11:37:18.902Z"
   },
   {
    "duration": 78,
    "start_time": "2022-05-29T11:37:18.915Z"
   },
   {
    "duration": 314,
    "start_time": "2022-05-29T11:37:18.995Z"
   },
   {
    "duration": 262,
    "start_time": "2022-05-29T11:37:19.310Z"
   },
   {
    "duration": 249,
    "start_time": "2022-05-29T11:37:19.573Z"
   },
   {
    "duration": 15,
    "start_time": "2022-05-29T11:37:19.824Z"
   },
   {
    "duration": 9,
    "start_time": "2022-05-29T11:37:51.874Z"
   },
   {
    "duration": 13,
    "start_time": "2022-05-29T11:39:44.213Z"
   },
   {
    "duration": 89,
    "start_time": "2022-05-29T11:45:01.626Z"
   },
   {
    "duration": 463,
    "start_time": "2022-05-29T11:45:25.411Z"
   },
   {
    "duration": 83,
    "start_time": "2022-05-29T11:45:26.958Z"
   },
   {
    "duration": 13,
    "start_time": "2022-05-29T11:46:45.829Z"
   },
   {
    "duration": 14,
    "start_time": "2022-05-29T11:47:30.079Z"
   },
   {
    "duration": 9,
    "start_time": "2022-05-29T11:47:42.556Z"
   },
   {
    "duration": 9,
    "start_time": "2022-05-29T11:49:10.922Z"
   },
   {
    "duration": 9,
    "start_time": "2022-05-29T11:49:18.265Z"
   },
   {
    "duration": 10,
    "start_time": "2022-05-29T11:49:23.865Z"
   },
   {
    "duration": 8,
    "start_time": "2022-05-29T11:49:31.331Z"
   },
   {
    "duration": 365,
    "start_time": "2022-05-29T12:43:26.998Z"
   },
   {
    "duration": 175,
    "start_time": "2022-05-29T12:43:27.365Z"
   },
   {
    "duration": 27,
    "start_time": "2022-05-29T12:43:27.541Z"
   },
   {
    "duration": 127,
    "start_time": "2022-05-29T12:43:27.570Z"
   },
   {
    "duration": 20,
    "start_time": "2022-05-29T12:43:27.699Z"
   },
   {
    "duration": 118,
    "start_time": "2022-05-29T12:43:27.721Z"
   },
   {
    "duration": 25,
    "start_time": "2022-05-29T12:43:27.840Z"
   },
   {
    "duration": 24,
    "start_time": "2022-05-29T12:43:27.867Z"
   },
   {
    "duration": 13,
    "start_time": "2022-05-29T12:43:27.893Z"
   },
   {
    "duration": 42,
    "start_time": "2022-05-29T12:43:27.910Z"
   },
   {
    "duration": 12,
    "start_time": "2022-05-29T12:43:27.953Z"
   },
   {
    "duration": 11,
    "start_time": "2022-05-29T12:43:27.967Z"
   },
   {
    "duration": 53,
    "start_time": "2022-05-29T12:43:27.979Z"
   },
   {
    "duration": 23,
    "start_time": "2022-05-29T12:43:28.033Z"
   },
   {
    "duration": 23,
    "start_time": "2022-05-29T12:43:28.057Z"
   },
   {
    "duration": 13,
    "start_time": "2022-05-29T12:43:28.081Z"
   },
   {
    "duration": 26,
    "start_time": "2022-05-29T12:43:28.096Z"
   },
   {
    "duration": 58,
    "start_time": "2022-05-29T12:43:28.123Z"
   },
   {
    "duration": 472,
    "start_time": "2022-05-29T12:43:28.182Z"
   },
   {
    "duration": 245,
    "start_time": "2022-05-29T12:43:28.659Z"
   },
   {
    "duration": 225,
    "start_time": "2022-05-29T12:43:28.905Z"
   },
   {
    "duration": 230,
    "start_time": "2022-05-29T12:43:29.131Z"
   },
   {
    "duration": 12,
    "start_time": "2022-05-29T12:43:29.362Z"
   },
   {
    "duration": 89,
    "start_time": "2022-05-29T12:43:29.375Z"
   },
   {
    "duration": 16,
    "start_time": "2022-05-29T12:43:29.465Z"
   },
   {
    "duration": 13,
    "start_time": "2022-05-29T12:43:29.482Z"
   },
   {
    "duration": 6,
    "start_time": "2022-05-29T12:43:29.497Z"
   },
   {
    "duration": 7,
    "start_time": "2022-05-29T12:43:29.506Z"
   },
   {
    "duration": 7,
    "start_time": "2022-05-29T12:43:29.514Z"
   },
   {
    "duration": 5,
    "start_time": "2022-05-29T12:43:29.522Z"
   },
   {
    "duration": 32,
    "start_time": "2022-05-29T12:43:29.528Z"
   },
   {
    "duration": 90,
    "start_time": "2022-05-29T12:43:29.561Z"
   },
   {
    "duration": 287,
    "start_time": "2022-05-29T12:43:29.653Z"
   },
   {
    "duration": 241,
    "start_time": "2022-05-29T12:43:29.942Z"
   },
   {
    "duration": 251,
    "start_time": "2022-05-29T12:43:30.185Z"
   },
   {
    "duration": 12,
    "start_time": "2022-05-29T12:43:30.438Z"
   },
   {
    "duration": 488,
    "start_time": "2022-05-29T12:43:30.460Z"
   },
   {
    "duration": 14,
    "start_time": "2022-05-29T12:43:30.950Z"
   },
   {
    "duration": 17,
    "start_time": "2022-05-29T12:43:30.966Z"
   },
   {
    "duration": 10,
    "start_time": "2022-05-29T12:44:15.685Z"
   },
   {
    "duration": 3,
    "start_time": "2022-05-29T12:55:09.671Z"
   },
   {
    "duration": 101,
    "start_time": "2022-05-29T15:05:29.653Z"
   },
   {
    "duration": 419,
    "start_time": "2022-05-29T15:06:11.527Z"
   },
   {
    "duration": 167,
    "start_time": "2022-05-29T15:06:11.948Z"
   },
   {
    "duration": 23,
    "start_time": "2022-05-29T15:06:12.117Z"
   },
   {
    "duration": 134,
    "start_time": "2022-05-29T15:06:12.141Z"
   },
   {
    "duration": 18,
    "start_time": "2022-05-29T15:06:12.277Z"
   },
   {
    "duration": 91,
    "start_time": "2022-05-29T15:06:12.296Z"
   },
   {
    "duration": 22,
    "start_time": "2022-05-29T15:06:12.389Z"
   },
   {
    "duration": 18,
    "start_time": "2022-05-29T15:06:12.412Z"
   },
   {
    "duration": 9,
    "start_time": "2022-05-29T15:06:12.432Z"
   },
   {
    "duration": 33,
    "start_time": "2022-05-29T15:06:12.443Z"
   },
   {
    "duration": 9,
    "start_time": "2022-05-29T15:06:12.478Z"
   },
   {
    "duration": 6,
    "start_time": "2022-05-29T15:06:12.488Z"
   },
   {
    "duration": 33,
    "start_time": "2022-05-29T15:06:12.496Z"
   },
   {
    "duration": 28,
    "start_time": "2022-05-29T15:06:12.531Z"
   },
   {
    "duration": 17,
    "start_time": "2022-05-29T15:06:12.560Z"
   },
   {
    "duration": 8,
    "start_time": "2022-05-29T15:06:12.578Z"
   },
   {
    "duration": 15,
    "start_time": "2022-05-29T15:06:12.587Z"
   },
   {
    "duration": 62,
    "start_time": "2022-05-29T15:06:12.604Z"
   },
   {
    "duration": 518,
    "start_time": "2022-05-29T15:06:12.668Z"
   },
   {
    "duration": 274,
    "start_time": "2022-05-29T15:06:13.188Z"
   },
   {
    "duration": 271,
    "start_time": "2022-05-29T15:06:13.464Z"
   },
   {
    "duration": 250,
    "start_time": "2022-05-29T15:06:13.737Z"
   },
   {
    "duration": 14,
    "start_time": "2022-05-29T15:06:13.989Z"
   },
   {
    "duration": 83,
    "start_time": "2022-05-29T15:06:14.005Z"
   },
   {
    "duration": 16,
    "start_time": "2022-05-29T15:06:14.090Z"
   },
   {
    "duration": 14,
    "start_time": "2022-05-29T15:06:14.108Z"
   },
   {
    "duration": 8,
    "start_time": "2022-05-29T15:06:14.123Z"
   },
   {
    "duration": 7,
    "start_time": "2022-05-29T15:06:14.159Z"
   },
   {
    "duration": 6,
    "start_time": "2022-05-29T15:06:14.168Z"
   },
   {
    "duration": 7,
    "start_time": "2022-05-29T15:06:14.176Z"
   },
   {
    "duration": 6,
    "start_time": "2022-05-29T15:06:14.184Z"
   },
   {
    "duration": 80,
    "start_time": "2022-05-29T15:06:14.192Z"
   },
   {
    "duration": 294,
    "start_time": "2022-05-29T15:06:14.274Z"
   },
   {
    "duration": 255,
    "start_time": "2022-05-29T15:06:14.569Z"
   },
   {
    "duration": 294,
    "start_time": "2022-05-29T15:06:14.826Z"
   },
   {
    "duration": 11,
    "start_time": "2022-05-29T15:06:15.122Z"
   },
   {
    "duration": 476,
    "start_time": "2022-05-29T15:06:15.135Z"
   },
   {
    "duration": 10,
    "start_time": "2022-05-29T15:06:15.613Z"
   },
   {
    "duration": 8,
    "start_time": "2022-05-29T15:06:15.624Z"
   },
   {
    "duration": 412,
    "start_time": "2022-05-29T15:20:38.818Z"
   },
   {
    "duration": 183,
    "start_time": "2022-05-29T15:20:39.232Z"
   },
   {
    "duration": 24,
    "start_time": "2022-05-29T15:20:39.416Z"
   },
   {
    "duration": 160,
    "start_time": "2022-05-29T15:20:39.442Z"
   },
   {
    "duration": 28,
    "start_time": "2022-05-29T15:20:39.604Z"
   },
   {
    "duration": 101,
    "start_time": "2022-05-29T15:20:39.633Z"
   },
   {
    "duration": 27,
    "start_time": "2022-05-29T15:20:39.736Z"
   },
   {
    "duration": 23,
    "start_time": "2022-05-29T15:20:39.765Z"
   },
   {
    "duration": 23,
    "start_time": "2022-05-29T15:20:39.790Z"
   },
   {
    "duration": 41,
    "start_time": "2022-05-29T15:20:39.816Z"
   },
   {
    "duration": 11,
    "start_time": "2022-05-29T15:20:39.859Z"
   },
   {
    "duration": 9,
    "start_time": "2022-05-29T15:20:39.871Z"
   },
   {
    "duration": 41,
    "start_time": "2022-05-29T15:20:39.881Z"
   },
   {
    "duration": 22,
    "start_time": "2022-05-29T15:20:39.924Z"
   },
   {
    "duration": 25,
    "start_time": "2022-05-29T15:20:39.948Z"
   },
   {
    "duration": 8,
    "start_time": "2022-05-29T15:20:39.975Z"
   },
   {
    "duration": 23,
    "start_time": "2022-05-29T15:20:39.984Z"
   },
   {
    "duration": 66,
    "start_time": "2022-05-29T15:20:40.009Z"
   },
   {
    "duration": 509,
    "start_time": "2022-05-29T15:20:40.077Z"
   },
   {
    "duration": 257,
    "start_time": "2022-05-29T15:20:40.587Z"
   },
   {
    "duration": 283,
    "start_time": "2022-05-29T15:20:40.846Z"
   },
   {
    "duration": 251,
    "start_time": "2022-05-29T15:20:41.130Z"
   },
   {
    "duration": 13,
    "start_time": "2022-05-29T15:20:41.383Z"
   },
   {
    "duration": 89,
    "start_time": "2022-05-29T15:20:41.397Z"
   },
   {
    "duration": 21,
    "start_time": "2022-05-29T15:20:41.488Z"
   },
   {
    "duration": 14,
    "start_time": "2022-05-29T15:20:41.510Z"
   },
   {
    "duration": 6,
    "start_time": "2022-05-29T15:20:41.525Z"
   },
   {
    "duration": 31,
    "start_time": "2022-05-29T15:20:41.533Z"
   },
   {
    "duration": 4,
    "start_time": "2022-05-29T15:20:41.565Z"
   },
   {
    "duration": 8,
    "start_time": "2022-05-29T15:20:41.570Z"
   },
   {
    "duration": 12,
    "start_time": "2022-05-29T15:20:41.580Z"
   },
   {
    "duration": 92,
    "start_time": "2022-05-29T15:20:41.593Z"
   },
   {
    "duration": 341,
    "start_time": "2022-05-29T15:20:41.687Z"
   },
   {
    "duration": 267,
    "start_time": "2022-05-29T15:20:42.029Z"
   },
   {
    "duration": 255,
    "start_time": "2022-05-29T15:20:42.298Z"
   },
   {
    "duration": 14,
    "start_time": "2022-05-29T15:20:42.558Z"
   },
   {
    "duration": 446,
    "start_time": "2022-05-29T15:20:42.574Z"
   },
   {
    "duration": 11,
    "start_time": "2022-05-29T15:20:43.022Z"
   },
   {
    "duration": 9,
    "start_time": "2022-05-29T15:20:43.034Z"
   },
   {
    "duration": 60,
    "start_time": "2022-05-29T22:40:27.254Z"
   },
   {
    "duration": 780,
    "start_time": "2022-05-29T22:40:29.657Z"
   },
   {
    "duration": 244,
    "start_time": "2022-05-29T22:40:30.439Z"
   },
   {
    "duration": 25,
    "start_time": "2022-05-29T22:40:30.685Z"
   },
   {
    "duration": 320,
    "start_time": "2022-05-29T22:40:30.712Z"
   },
   {
    "duration": 18,
    "start_time": "2022-05-29T22:40:31.034Z"
   },
   {
    "duration": 325,
    "start_time": "2022-05-29T22:40:31.054Z"
   },
   {
    "duration": 16,
    "start_time": "2022-05-29T22:40:31.380Z"
   },
   {
    "duration": 78,
    "start_time": "2022-05-29T22:40:31.398Z"
   },
   {
    "duration": 9,
    "start_time": "2022-05-29T22:40:31.478Z"
   },
   {
    "duration": 79,
    "start_time": "2022-05-29T22:40:31.490Z"
   },
   {
    "duration": 11,
    "start_time": "2022-05-29T22:40:31.571Z"
   },
   {
    "duration": 17,
    "start_time": "2022-05-29T22:40:31.584Z"
   },
   {
    "duration": 38,
    "start_time": "2022-05-29T22:40:31.602Z"
   },
   {
    "duration": 21,
    "start_time": "2022-05-29T22:40:31.641Z"
   },
   {
    "duration": 15,
    "start_time": "2022-05-29T22:40:31.664Z"
   },
   {
    "duration": 8,
    "start_time": "2022-05-29T22:40:31.681Z"
   },
   {
    "duration": 29,
    "start_time": "2022-05-29T22:40:31.690Z"
   },
   {
    "duration": 47,
    "start_time": "2022-05-29T22:40:31.726Z"
   },
   {
    "duration": 512,
    "start_time": "2022-05-29T22:40:31.774Z"
   },
   {
    "duration": 241,
    "start_time": "2022-05-29T22:40:32.287Z"
   },
   {
    "duration": 235,
    "start_time": "2022-05-29T22:40:32.530Z"
   },
   {
    "duration": 229,
    "start_time": "2022-05-29T22:40:32.767Z"
   },
   {
    "duration": 13,
    "start_time": "2022-05-29T22:40:32.998Z"
   },
   {
    "duration": 83,
    "start_time": "2022-05-29T22:40:33.013Z"
   },
   {
    "duration": 15,
    "start_time": "2022-05-29T22:40:33.097Z"
   },
   {
    "duration": 13,
    "start_time": "2022-05-29T22:40:33.127Z"
   },
   {
    "duration": 24,
    "start_time": "2022-05-29T22:40:33.142Z"
   },
   {
    "duration": 46,
    "start_time": "2022-05-29T22:40:33.168Z"
   },
   {
    "duration": 0,
    "start_time": "2022-05-29T22:40:33.215Z"
   },
   {
    "duration": 0,
    "start_time": "2022-05-29T22:40:33.216Z"
   },
   {
    "duration": 0,
    "start_time": "2022-05-29T22:40:33.218Z"
   },
   {
    "duration": 0,
    "start_time": "2022-05-29T22:40:33.219Z"
   },
   {
    "duration": 0,
    "start_time": "2022-05-29T22:40:33.220Z"
   },
   {
    "duration": 0,
    "start_time": "2022-05-29T22:40:33.221Z"
   },
   {
    "duration": 0,
    "start_time": "2022-05-29T22:40:33.222Z"
   },
   {
    "duration": 0,
    "start_time": "2022-05-29T22:40:33.223Z"
   },
   {
    "duration": 0,
    "start_time": "2022-05-29T22:40:33.224Z"
   },
   {
    "duration": 0,
    "start_time": "2022-05-29T22:40:33.228Z"
   },
   {
    "duration": 0,
    "start_time": "2022-05-29T22:40:33.229Z"
   },
   {
    "duration": 0,
    "start_time": "2022-05-29T22:40:33.230Z"
   },
   {
    "duration": 8,
    "start_time": "2022-05-29T22:42:01.724Z"
   },
   {
    "duration": 5,
    "start_time": "2022-05-29T22:42:20.698Z"
   },
   {
    "duration": 2,
    "start_time": "2022-05-29T22:42:23.248Z"
   },
   {
    "duration": 184,
    "start_time": "2022-05-29T22:42:23.253Z"
   },
   {
    "duration": 23,
    "start_time": "2022-05-29T22:42:23.439Z"
   },
   {
    "duration": 140,
    "start_time": "2022-05-29T22:42:23.464Z"
   },
   {
    "duration": 24,
    "start_time": "2022-05-29T22:42:23.605Z"
   },
   {
    "duration": 94,
    "start_time": "2022-05-29T22:42:23.631Z"
   },
   {
    "duration": 18,
    "start_time": "2022-05-29T22:42:23.726Z"
   },
   {
    "duration": 39,
    "start_time": "2022-05-29T22:42:23.745Z"
   },
   {
    "duration": 10,
    "start_time": "2022-05-29T22:42:23.786Z"
   },
   {
    "duration": 64,
    "start_time": "2022-05-29T22:42:23.797Z"
   },
   {
    "duration": 13,
    "start_time": "2022-05-29T22:42:23.863Z"
   },
   {
    "duration": 23,
    "start_time": "2022-05-29T22:42:23.878Z"
   },
   {
    "duration": 45,
    "start_time": "2022-05-29T22:42:23.903Z"
   },
   {
    "duration": 19,
    "start_time": "2022-05-29T22:42:23.950Z"
   },
   {
    "duration": 26,
    "start_time": "2022-05-29T22:42:23.970Z"
   },
   {
    "duration": 18,
    "start_time": "2022-05-29T22:42:23.997Z"
   },
   {
    "duration": 29,
    "start_time": "2022-05-29T22:42:24.016Z"
   },
   {
    "duration": 53,
    "start_time": "2022-05-29T22:42:24.046Z"
   },
   {
    "duration": 244,
    "start_time": "2022-05-29T22:42:24.100Z"
   },
   {
    "duration": 233,
    "start_time": "2022-05-29T22:42:24.345Z"
   },
   {
    "duration": 248,
    "start_time": "2022-05-29T22:42:24.580Z"
   },
   {
    "duration": 233,
    "start_time": "2022-05-29T22:42:24.830Z"
   },
   {
    "duration": 11,
    "start_time": "2022-05-29T22:42:25.065Z"
   },
   {
    "duration": 21,
    "start_time": "2022-05-29T22:42:25.079Z"
   },
   {
    "duration": 20,
    "start_time": "2022-05-29T22:42:25.102Z"
   },
   {
    "duration": 23,
    "start_time": "2022-05-29T22:42:25.123Z"
   },
   {
    "duration": 8,
    "start_time": "2022-05-29T22:42:25.148Z"
   },
   {
    "duration": 27,
    "start_time": "2022-05-29T22:42:25.157Z"
   },
   {
    "duration": 14,
    "start_time": "2022-05-29T22:42:25.186Z"
   },
   {
    "duration": 19,
    "start_time": "2022-05-29T22:42:25.201Z"
   },
   {
    "duration": 24,
    "start_time": "2022-05-29T22:42:25.222Z"
   },
   {
    "duration": 14,
    "start_time": "2022-05-29T22:42:25.248Z"
   },
   {
    "duration": 18,
    "start_time": "2022-05-29T22:42:25.263Z"
   },
   {
    "duration": 94,
    "start_time": "2022-05-29T22:42:25.283Z"
   },
   {
    "duration": 363,
    "start_time": "2022-05-29T22:42:25.379Z"
   },
   {
    "duration": 256,
    "start_time": "2022-05-29T22:42:25.743Z"
   },
   {
    "duration": 278,
    "start_time": "2022-05-29T22:42:26.000Z"
   },
   {
    "duration": 15,
    "start_time": "2022-05-29T22:42:26.280Z"
   },
   {
    "duration": 812,
    "start_time": "2022-05-29T22:42:26.297Z"
   },
   {
    "duration": 9,
    "start_time": "2022-05-29T22:42:27.111Z"
   },
   {
    "duration": 25,
    "start_time": "2022-05-29T22:42:27.126Z"
   },
   {
    "duration": 347,
    "start_time": "2022-05-29T22:53:19.038Z"
   },
   {
    "duration": 223,
    "start_time": "2022-05-29T22:53:28.875Z"
   },
   {
    "duration": 5,
    "start_time": "2022-05-29T23:00:26.754Z"
   },
   {
    "duration": 9,
    "start_time": "2022-05-29T23:00:28.028Z"
   },
   {
    "duration": 445,
    "start_time": "2022-06-06T16:37:58.168Z"
   },
   {
    "duration": 700,
    "start_time": "2022-06-06T16:37:58.616Z"
   },
   {
    "duration": 36,
    "start_time": "2022-06-06T16:37:59.319Z"
   },
   {
    "duration": 780,
    "start_time": "2022-06-06T16:37:59.358Z"
   },
   {
    "duration": 35,
    "start_time": "2022-06-06T16:38:00.143Z"
   },
   {
    "duration": 1056,
    "start_time": "2022-06-06T16:38:00.180Z"
   },
   {
    "duration": 25,
    "start_time": "2022-06-06T16:38:01.238Z"
   },
   {
    "duration": 194,
    "start_time": "2022-06-06T16:38:01.265Z"
   },
   {
    "duration": 23,
    "start_time": "2022-06-06T16:38:01.461Z"
   },
   {
    "duration": 119,
    "start_time": "2022-06-06T16:38:01.487Z"
   },
   {
    "duration": 28,
    "start_time": "2022-06-06T16:38:01.608Z"
   },
   {
    "duration": 62,
    "start_time": "2022-06-06T16:38:01.641Z"
   },
   {
    "duration": 90,
    "start_time": "2022-06-06T16:38:01.705Z"
   },
   {
    "duration": 78,
    "start_time": "2022-06-06T16:38:01.799Z"
   },
   {
    "duration": 79,
    "start_time": "2022-06-06T16:38:01.887Z"
   },
   {
    "duration": 52,
    "start_time": "2022-06-06T16:38:01.972Z"
   },
   {
    "duration": 93,
    "start_time": "2022-06-06T16:38:02.026Z"
   },
   {
    "duration": 102,
    "start_time": "2022-06-06T16:38:02.121Z"
   },
   {
    "duration": 3566,
    "start_time": "2022-06-06T16:38:02.225Z"
   },
   {
    "duration": 506,
    "start_time": "2022-06-06T16:38:05.793Z"
   },
   {
    "duration": 459,
    "start_time": "2022-06-06T16:38:06.305Z"
   },
   {
    "duration": 460,
    "start_time": "2022-06-06T16:38:06.768Z"
   },
   {
    "duration": 26,
    "start_time": "2022-06-06T16:38:07.232Z"
   },
   {
    "duration": 74,
    "start_time": "2022-06-06T16:38:07.260Z"
   },
   {
    "duration": 32,
    "start_time": "2022-06-06T16:38:07.339Z"
   },
   {
    "duration": 40,
    "start_time": "2022-06-06T16:38:07.374Z"
   },
   {
    "duration": 36,
    "start_time": "2022-06-06T16:38:07.416Z"
   },
   {
    "duration": 49,
    "start_time": "2022-06-06T16:38:07.455Z"
   },
   {
    "duration": 10,
    "start_time": "2022-06-06T16:38:07.506Z"
   },
   {
    "duration": 29,
    "start_time": "2022-06-06T16:38:07.518Z"
   },
   {
    "duration": 32,
    "start_time": "2022-06-06T16:38:07.550Z"
   },
   {
    "duration": 27,
    "start_time": "2022-06-06T16:38:07.584Z"
   },
   {
    "duration": 145,
    "start_time": "2022-06-06T16:38:07.613Z"
   },
   {
    "duration": 512,
    "start_time": "2022-06-06T16:38:07.761Z"
   },
   {
    "duration": 382,
    "start_time": "2022-06-06T16:38:08.280Z"
   },
   {
    "duration": 595,
    "start_time": "2022-06-06T16:38:08.668Z"
   },
   {
    "duration": 448,
    "start_time": "2022-06-06T16:38:09.265Z"
   },
   {
    "duration": 35,
    "start_time": "2022-06-06T16:38:09.716Z"
   },
   {
    "duration": 530,
    "start_time": "2022-06-06T16:38:09.756Z"
   },
   {
    "duration": 64,
    "start_time": "2022-06-06T16:38:10.298Z"
   },
   {
    "duration": 88,
    "start_time": "2022-06-06T16:38:10.386Z"
   },
   {
    "duration": 125,
    "start_time": "2022-06-06T16:38:10.476Z"
   },
   {
    "duration": 94,
    "start_time": "2022-06-06T16:38:10.603Z"
   },
   {
    "duration": 291,
    "start_time": "2022-06-06T16:41:32.993Z"
   },
   {
    "duration": 16,
    "start_time": "2022-06-06T16:41:55.187Z"
   },
   {
    "duration": 15,
    "start_time": "2022-06-06T16:44:40.473Z"
   },
   {
    "duration": 440,
    "start_time": "2022-06-06T16:45:04.750Z"
   },
   {
    "duration": 283,
    "start_time": "2022-06-06T16:45:05.193Z"
   },
   {
    "duration": 20,
    "start_time": "2022-06-06T16:45:05.480Z"
   },
   {
    "duration": 248,
    "start_time": "2022-06-06T16:45:05.502Z"
   },
   {
    "duration": 27,
    "start_time": "2022-06-06T16:45:05.753Z"
   },
   {
    "duration": 173,
    "start_time": "2022-06-06T16:45:05.782Z"
   },
   {
    "duration": 20,
    "start_time": "2022-06-06T16:45:05.957Z"
   },
   {
    "duration": 36,
    "start_time": "2022-06-06T16:45:05.984Z"
   },
   {
    "duration": 31,
    "start_time": "2022-06-06T16:45:06.022Z"
   },
   {
    "duration": 66,
    "start_time": "2022-06-06T16:45:06.055Z"
   },
   {
    "duration": 20,
    "start_time": "2022-06-06T16:45:06.123Z"
   },
   {
    "duration": 35,
    "start_time": "2022-06-06T16:45:06.149Z"
   },
   {
    "duration": 66,
    "start_time": "2022-06-06T16:45:06.186Z"
   },
   {
    "duration": 858,
    "start_time": "2022-06-06T16:45:06.257Z"
   },
   {
    "duration": 441,
    "start_time": "2022-06-06T16:45:07.118Z"
   },
   {
    "duration": 137,
    "start_time": "2022-06-06T16:45:07.564Z"
   },
   {
    "duration": 1,
    "start_time": "2022-06-06T16:45:07.702Z"
   },
   {
    "duration": 0,
    "start_time": "2022-06-06T16:45:07.704Z"
   },
   {
    "duration": 0,
    "start_time": "2022-06-06T16:45:07.704Z"
   },
   {
    "duration": 0,
    "start_time": "2022-06-06T16:45:07.705Z"
   },
   {
    "duration": 0,
    "start_time": "2022-06-06T16:45:07.707Z"
   },
   {
    "duration": 0,
    "start_time": "2022-06-06T16:45:07.708Z"
   },
   {
    "duration": 0,
    "start_time": "2022-06-06T16:45:07.709Z"
   },
   {
    "duration": 0,
    "start_time": "2022-06-06T16:45:07.710Z"
   },
   {
    "duration": 0,
    "start_time": "2022-06-06T16:45:07.711Z"
   },
   {
    "duration": 0,
    "start_time": "2022-06-06T16:45:07.713Z"
   },
   {
    "duration": 0,
    "start_time": "2022-06-06T16:45:07.714Z"
   },
   {
    "duration": 1,
    "start_time": "2022-06-06T16:45:07.715Z"
   },
   {
    "duration": 0,
    "start_time": "2022-06-06T16:45:07.727Z"
   },
   {
    "duration": 0,
    "start_time": "2022-06-06T16:45:07.728Z"
   },
   {
    "duration": 0,
    "start_time": "2022-06-06T16:45:07.729Z"
   },
   {
    "duration": 0,
    "start_time": "2022-06-06T16:45:07.732Z"
   },
   {
    "duration": 0,
    "start_time": "2022-06-06T16:45:07.733Z"
   },
   {
    "duration": 0,
    "start_time": "2022-06-06T16:45:07.734Z"
   },
   {
    "duration": 0,
    "start_time": "2022-06-06T16:45:07.735Z"
   },
   {
    "duration": 0,
    "start_time": "2022-06-06T16:45:07.737Z"
   },
   {
    "duration": 0,
    "start_time": "2022-06-06T16:45:07.738Z"
   },
   {
    "duration": 0,
    "start_time": "2022-06-06T16:45:07.739Z"
   },
   {
    "duration": 518,
    "start_time": "2022-06-06T16:54:38.295Z"
   },
   {
    "duration": 360,
    "start_time": "2022-06-06T16:54:38.815Z"
   },
   {
    "duration": 26,
    "start_time": "2022-06-06T16:54:39.177Z"
   },
   {
    "duration": 397,
    "start_time": "2022-06-06T16:54:39.206Z"
   },
   {
    "duration": 20,
    "start_time": "2022-06-06T16:54:39.605Z"
   },
   {
    "duration": 438,
    "start_time": "2022-06-06T16:54:39.627Z"
   },
   {
    "duration": 12,
    "start_time": "2022-06-06T16:54:40.067Z"
   },
   {
    "duration": 76,
    "start_time": "2022-06-06T16:54:40.082Z"
   },
   {
    "duration": 15,
    "start_time": "2022-06-06T16:54:40.160Z"
   },
   {
    "duration": 87,
    "start_time": "2022-06-06T16:54:40.179Z"
   },
   {
    "duration": 13,
    "start_time": "2022-06-06T16:54:40.268Z"
   },
   {
    "duration": 12,
    "start_time": "2022-06-06T16:54:40.283Z"
   },
   {
    "duration": 71,
    "start_time": "2022-06-06T16:54:40.297Z"
   },
   {
    "duration": 5,
    "start_time": "2022-06-06T16:54:40.373Z"
   },
   {
    "duration": 0,
    "start_time": "2022-06-06T16:54:40.380Z"
   },
   {
    "duration": 0,
    "start_time": "2022-06-06T16:54:40.381Z"
   },
   {
    "duration": 0,
    "start_time": "2022-06-06T16:54:40.382Z"
   },
   {
    "duration": 0,
    "start_time": "2022-06-06T16:54:40.390Z"
   },
   {
    "duration": 0,
    "start_time": "2022-06-06T16:54:40.391Z"
   },
   {
    "duration": 0,
    "start_time": "2022-06-06T16:54:40.393Z"
   },
   {
    "duration": 1,
    "start_time": "2022-06-06T16:54:40.395Z"
   },
   {
    "duration": 0,
    "start_time": "2022-06-06T16:54:40.397Z"
   },
   {
    "duration": 0,
    "start_time": "2022-06-06T16:54:40.398Z"
   },
   {
    "duration": 0,
    "start_time": "2022-06-06T16:54:40.399Z"
   },
   {
    "duration": 0,
    "start_time": "2022-06-06T16:54:40.401Z"
   },
   {
    "duration": 0,
    "start_time": "2022-06-06T16:54:40.402Z"
   },
   {
    "duration": 0,
    "start_time": "2022-06-06T16:54:40.403Z"
   },
   {
    "duration": 0,
    "start_time": "2022-06-06T16:54:40.423Z"
   },
   {
    "duration": 0,
    "start_time": "2022-06-06T16:54:40.426Z"
   },
   {
    "duration": 0,
    "start_time": "2022-06-06T16:54:40.427Z"
   },
   {
    "duration": 0,
    "start_time": "2022-06-06T16:54:40.430Z"
   },
   {
    "duration": 0,
    "start_time": "2022-06-06T16:54:40.432Z"
   },
   {
    "duration": 0,
    "start_time": "2022-06-06T16:54:40.433Z"
   },
   {
    "duration": 0,
    "start_time": "2022-06-06T16:54:40.438Z"
   },
   {
    "duration": 0,
    "start_time": "2022-06-06T16:54:40.439Z"
   },
   {
    "duration": 0,
    "start_time": "2022-06-06T16:54:40.440Z"
   },
   {
    "duration": 0,
    "start_time": "2022-06-06T16:54:40.442Z"
   },
   {
    "duration": 0,
    "start_time": "2022-06-06T16:54:40.443Z"
   },
   {
    "duration": 735,
    "start_time": "2022-06-06T16:55:30.296Z"
   },
   {
    "duration": 463,
    "start_time": "2022-06-06T16:56:42.803Z"
   },
   {
    "duration": 54,
    "start_time": "2022-06-06T17:07:18.436Z"
   },
   {
    "duration": 438,
    "start_time": "2022-06-06T17:07:34.748Z"
   },
   {
    "duration": 672,
    "start_time": "2022-06-06T17:08:37.722Z"
   },
   {
    "duration": 598,
    "start_time": "2022-06-06T17:09:00.391Z"
   },
   {
    "duration": 316,
    "start_time": "2022-06-06T17:09:00.992Z"
   },
   {
    "duration": 32,
    "start_time": "2022-06-06T17:09:01.310Z"
   },
   {
    "duration": 275,
    "start_time": "2022-06-06T17:09:01.344Z"
   },
   {
    "duration": 39,
    "start_time": "2022-06-06T17:09:01.624Z"
   },
   {
    "duration": 226,
    "start_time": "2022-06-06T17:09:01.665Z"
   },
   {
    "duration": 15,
    "start_time": "2022-06-06T17:09:01.898Z"
   },
   {
    "duration": 84,
    "start_time": "2022-06-06T17:09:01.917Z"
   },
   {
    "duration": 15,
    "start_time": "2022-06-06T17:09:02.003Z"
   },
   {
    "duration": 117,
    "start_time": "2022-06-06T17:09:02.020Z"
   },
   {
    "duration": 15,
    "start_time": "2022-06-06T17:09:02.141Z"
   },
   {
    "duration": 38,
    "start_time": "2022-06-06T17:09:02.158Z"
   },
   {
    "duration": 76,
    "start_time": "2022-06-06T17:09:02.199Z"
   },
   {
    "duration": 866,
    "start_time": "2022-06-06T17:09:02.281Z"
   },
   {
    "duration": 821,
    "start_time": "2022-06-06T17:09:03.150Z"
   },
   {
    "duration": 0,
    "start_time": "2022-06-06T17:09:03.978Z"
   },
   {
    "duration": 0,
    "start_time": "2022-06-06T17:09:03.984Z"
   },
   {
    "duration": 0,
    "start_time": "2022-06-06T17:09:03.989Z"
   },
   {
    "duration": 0,
    "start_time": "2022-06-06T17:09:03.995Z"
   },
   {
    "duration": 0,
    "start_time": "2022-06-06T17:09:04.001Z"
   },
   {
    "duration": 0,
    "start_time": "2022-06-06T17:09:04.002Z"
   },
   {
    "duration": 0,
    "start_time": "2022-06-06T17:09:04.006Z"
   },
   {
    "duration": 0,
    "start_time": "2022-06-06T17:09:04.010Z"
   },
   {
    "duration": 0,
    "start_time": "2022-06-06T17:09:04.012Z"
   },
   {
    "duration": 0,
    "start_time": "2022-06-06T17:09:04.015Z"
   },
   {
    "duration": 0,
    "start_time": "2022-06-06T17:09:04.017Z"
   },
   {
    "duration": 0,
    "start_time": "2022-06-06T17:09:04.023Z"
   },
   {
    "duration": 0,
    "start_time": "2022-06-06T17:09:04.023Z"
   },
   {
    "duration": 0,
    "start_time": "2022-06-06T17:09:04.024Z"
   },
   {
    "duration": 0,
    "start_time": "2022-06-06T17:09:04.025Z"
   },
   {
    "duration": 0,
    "start_time": "2022-06-06T17:09:04.030Z"
   },
   {
    "duration": 0,
    "start_time": "2022-06-06T17:09:04.030Z"
   },
   {
    "duration": 0,
    "start_time": "2022-06-06T17:09:04.031Z"
   },
   {
    "duration": 0,
    "start_time": "2022-06-06T17:09:04.032Z"
   },
   {
    "duration": 0,
    "start_time": "2022-06-06T17:09:04.033Z"
   },
   {
    "duration": 0,
    "start_time": "2022-06-06T17:09:04.033Z"
   },
   {
    "duration": 0,
    "start_time": "2022-06-06T17:09:04.034Z"
   },
   {
    "duration": 0,
    "start_time": "2022-06-06T17:09:04.035Z"
   },
   {
    "duration": 17,
    "start_time": "2022-06-06T18:50:11.944Z"
   },
   {
    "duration": 44,
    "start_time": "2022-06-06T18:50:27.979Z"
   },
   {
    "duration": 441,
    "start_time": "2022-06-06T18:50:36.383Z"
   },
   {
    "duration": 617,
    "start_time": "2022-06-06T18:50:36.835Z"
   },
   {
    "duration": 20,
    "start_time": "2022-06-06T18:50:37.453Z"
   },
   {
    "duration": 816,
    "start_time": "2022-06-06T18:50:37.474Z"
   },
   {
    "duration": 17,
    "start_time": "2022-06-06T18:50:38.292Z"
   },
   {
    "duration": 209,
    "start_time": "2022-06-06T18:50:38.310Z"
   },
   {
    "duration": 27,
    "start_time": "2022-06-06T18:50:38.520Z"
   },
   {
    "duration": 58,
    "start_time": "2022-06-06T18:50:38.549Z"
   },
   {
    "duration": 11,
    "start_time": "2022-06-06T18:50:38.609Z"
   },
   {
    "duration": 91,
    "start_time": "2022-06-06T18:50:38.623Z"
   },
   {
    "duration": 22,
    "start_time": "2022-06-06T18:50:38.716Z"
   },
   {
    "duration": 208,
    "start_time": "2022-06-06T18:50:38.741Z"
   },
   {
    "duration": 143,
    "start_time": "2022-06-06T18:50:38.951Z"
   },
   {
    "duration": 856,
    "start_time": "2022-06-06T18:50:39.096Z"
   },
   {
    "duration": 5,
    "start_time": "2022-06-06T18:50:39.954Z"
   },
   {
    "duration": 0,
    "start_time": "2022-06-06T18:50:39.962Z"
   },
   {
    "duration": 0,
    "start_time": "2022-06-06T18:50:39.963Z"
   },
   {
    "duration": 0,
    "start_time": "2022-06-06T18:50:39.965Z"
   },
   {
    "duration": 0,
    "start_time": "2022-06-06T18:50:39.967Z"
   },
   {
    "duration": 0,
    "start_time": "2022-06-06T18:50:39.968Z"
   },
   {
    "duration": 0,
    "start_time": "2022-06-06T18:50:39.970Z"
   },
   {
    "duration": 0,
    "start_time": "2022-06-06T18:50:39.971Z"
   },
   {
    "duration": 0,
    "start_time": "2022-06-06T18:50:39.972Z"
   },
   {
    "duration": 0,
    "start_time": "2022-06-06T18:50:39.974Z"
   },
   {
    "duration": 0,
    "start_time": "2022-06-06T18:50:39.976Z"
   },
   {
    "duration": 0,
    "start_time": "2022-06-06T18:50:39.977Z"
   },
   {
    "duration": 0,
    "start_time": "2022-06-06T18:50:39.978Z"
   },
   {
    "duration": 0,
    "start_time": "2022-06-06T18:50:39.980Z"
   },
   {
    "duration": 0,
    "start_time": "2022-06-06T18:50:39.981Z"
   },
   {
    "duration": 0,
    "start_time": "2022-06-06T18:50:39.983Z"
   },
   {
    "duration": 0,
    "start_time": "2022-06-06T18:50:39.984Z"
   },
   {
    "duration": 0,
    "start_time": "2022-06-06T18:50:40.026Z"
   },
   {
    "duration": 0,
    "start_time": "2022-06-06T18:50:40.029Z"
   },
   {
    "duration": 0,
    "start_time": "2022-06-06T18:50:40.030Z"
   },
   {
    "duration": 0,
    "start_time": "2022-06-06T18:50:40.032Z"
   },
   {
    "duration": 0,
    "start_time": "2022-06-06T18:50:40.033Z"
   },
   {
    "duration": 0,
    "start_time": "2022-06-06T18:50:40.034Z"
   },
   {
    "duration": 0,
    "start_time": "2022-06-06T18:50:40.036Z"
   },
   {
    "duration": 105,
    "start_time": "2022-06-06T18:53:40.894Z"
   },
   {
    "duration": 68,
    "start_time": "2022-06-06T18:55:18.069Z"
   },
   {
    "duration": 482,
    "start_time": "2022-06-06T18:59:29.400Z"
   },
   {
    "duration": 244,
    "start_time": "2022-06-06T18:59:29.884Z"
   },
   {
    "duration": 22,
    "start_time": "2022-06-06T18:59:30.137Z"
   },
   {
    "duration": 185,
    "start_time": "2022-06-06T18:59:30.162Z"
   },
   {
    "duration": 20,
    "start_time": "2022-06-06T18:59:30.349Z"
   },
   {
    "duration": 148,
    "start_time": "2022-06-06T18:59:30.371Z"
   },
   {
    "duration": 18,
    "start_time": "2022-06-06T18:59:30.524Z"
   },
   {
    "duration": 30,
    "start_time": "2022-06-06T18:59:30.546Z"
   },
   {
    "duration": 11,
    "start_time": "2022-06-06T18:59:30.577Z"
   },
   {
    "duration": 49,
    "start_time": "2022-06-06T18:59:30.591Z"
   },
   {
    "duration": 13,
    "start_time": "2022-06-06T18:59:30.641Z"
   },
   {
    "duration": 14,
    "start_time": "2022-06-06T18:59:30.656Z"
   },
   {
    "duration": 74,
    "start_time": "2022-06-06T18:59:30.672Z"
   },
   {
    "duration": 60,
    "start_time": "2022-06-06T18:59:30.748Z"
   },
   {
    "duration": 635,
    "start_time": "2022-06-06T18:59:30.810Z"
   },
   {
    "duration": 358,
    "start_time": "2022-06-06T18:59:31.447Z"
   },
   {
    "duration": 110,
    "start_time": "2022-06-06T18:59:31.808Z"
   },
   {
    "duration": 0,
    "start_time": "2022-06-06T18:59:31.921Z"
   },
   {
    "duration": 0,
    "start_time": "2022-06-06T18:59:31.924Z"
   },
   {
    "duration": 0,
    "start_time": "2022-06-06T18:59:31.925Z"
   },
   {
    "duration": 0,
    "start_time": "2022-06-06T18:59:31.926Z"
   },
   {
    "duration": 0,
    "start_time": "2022-06-06T18:59:31.928Z"
   },
   {
    "duration": 0,
    "start_time": "2022-06-06T18:59:31.929Z"
   },
   {
    "duration": 0,
    "start_time": "2022-06-06T18:59:31.934Z"
   },
   {
    "duration": 0,
    "start_time": "2022-06-06T18:59:31.935Z"
   },
   {
    "duration": 0,
    "start_time": "2022-06-06T18:59:31.936Z"
   },
   {
    "duration": 0,
    "start_time": "2022-06-06T18:59:31.937Z"
   },
   {
    "duration": 0,
    "start_time": "2022-06-06T18:59:31.941Z"
   },
   {
    "duration": 0,
    "start_time": "2022-06-06T18:59:31.942Z"
   },
   {
    "duration": 0,
    "start_time": "2022-06-06T18:59:31.942Z"
   },
   {
    "duration": 0,
    "start_time": "2022-06-06T18:59:31.944Z"
   },
   {
    "duration": 0,
    "start_time": "2022-06-06T18:59:31.950Z"
   },
   {
    "duration": 0,
    "start_time": "2022-06-06T18:59:31.951Z"
   },
   {
    "duration": 0,
    "start_time": "2022-06-06T18:59:31.952Z"
   },
   {
    "duration": 0,
    "start_time": "2022-06-06T18:59:31.954Z"
   },
   {
    "duration": 0,
    "start_time": "2022-06-06T18:59:31.956Z"
   },
   {
    "duration": 1,
    "start_time": "2022-06-06T18:59:31.957Z"
   },
   {
    "duration": 0,
    "start_time": "2022-06-06T18:59:31.959Z"
   },
   {
    "duration": 0,
    "start_time": "2022-06-06T18:59:31.961Z"
   },
   {
    "duration": 36,
    "start_time": "2022-06-06T19:00:18.163Z"
   },
   {
    "duration": 311,
    "start_time": "2022-06-06T19:00:27.000Z"
   },
   {
    "duration": 22,
    "start_time": "2022-06-06T19:08:48.623Z"
   },
   {
    "duration": 157,
    "start_time": "2022-06-06T19:10:26.547Z"
   },
   {
    "duration": 206,
    "start_time": "2022-06-06T19:10:34.308Z"
   },
   {
    "duration": 18,
    "start_time": "2022-06-06T19:11:04.148Z"
   },
   {
    "duration": 32,
    "start_time": "2022-06-06T19:16:50.349Z"
   },
   {
    "duration": 485,
    "start_time": "2022-06-06T19:20:20.768Z"
   },
   {
    "duration": 552,
    "start_time": "2022-06-06T19:20:21.255Z"
   },
   {
    "duration": 36,
    "start_time": "2022-06-06T19:20:21.809Z"
   },
   {
    "duration": 206,
    "start_time": "2022-06-06T19:20:21.848Z"
   },
   {
    "duration": 31,
    "start_time": "2022-06-06T19:20:22.056Z"
   },
   {
    "duration": 179,
    "start_time": "2022-06-06T19:20:22.089Z"
   },
   {
    "duration": 16,
    "start_time": "2022-06-06T19:20:22.270Z"
   },
   {
    "duration": 35,
    "start_time": "2022-06-06T19:20:22.289Z"
   },
   {
    "duration": 16,
    "start_time": "2022-06-06T19:20:22.326Z"
   },
   {
    "duration": 43,
    "start_time": "2022-06-06T19:20:22.346Z"
   },
   {
    "duration": 16,
    "start_time": "2022-06-06T19:20:22.390Z"
   },
   {
    "duration": 25,
    "start_time": "2022-06-06T19:20:22.408Z"
   },
   {
    "duration": 183,
    "start_time": "2022-06-06T19:20:22.435Z"
   },
   {
    "duration": 0,
    "start_time": "2022-06-06T19:20:22.620Z"
   },
   {
    "duration": 1,
    "start_time": "2022-06-06T19:20:22.621Z"
   },
   {
    "duration": 0,
    "start_time": "2022-06-06T19:20:22.623Z"
   },
   {
    "duration": 0,
    "start_time": "2022-06-06T19:20:22.624Z"
   },
   {
    "duration": 0,
    "start_time": "2022-06-06T19:20:22.625Z"
   },
   {
    "duration": 0,
    "start_time": "2022-06-06T19:20:22.627Z"
   },
   {
    "duration": 0,
    "start_time": "2022-06-06T19:20:22.628Z"
   },
   {
    "duration": 0,
    "start_time": "2022-06-06T19:20:22.629Z"
   },
   {
    "duration": 0,
    "start_time": "2022-06-06T19:20:22.630Z"
   },
   {
    "duration": 0,
    "start_time": "2022-06-06T19:20:22.631Z"
   },
   {
    "duration": 0,
    "start_time": "2022-06-06T19:20:22.633Z"
   },
   {
    "duration": 0,
    "start_time": "2022-06-06T19:20:22.634Z"
   },
   {
    "duration": 0,
    "start_time": "2022-06-06T19:20:22.635Z"
   },
   {
    "duration": 0,
    "start_time": "2022-06-06T19:20:22.637Z"
   },
   {
    "duration": 0,
    "start_time": "2022-06-06T19:20:22.638Z"
   },
   {
    "duration": 0,
    "start_time": "2022-06-06T19:20:22.639Z"
   },
   {
    "duration": 0,
    "start_time": "2022-06-06T19:20:22.641Z"
   },
   {
    "duration": 0,
    "start_time": "2022-06-06T19:20:22.643Z"
   },
   {
    "duration": 0,
    "start_time": "2022-06-06T19:20:22.645Z"
   },
   {
    "duration": 0,
    "start_time": "2022-06-06T19:20:22.646Z"
   },
   {
    "duration": 0,
    "start_time": "2022-06-06T19:20:22.648Z"
   },
   {
    "duration": 0,
    "start_time": "2022-06-06T19:20:22.649Z"
   },
   {
    "duration": 0,
    "start_time": "2022-06-06T19:20:22.651Z"
   },
   {
    "duration": 0,
    "start_time": "2022-06-06T19:20:22.652Z"
   },
   {
    "duration": 0,
    "start_time": "2022-06-06T19:20:22.654Z"
   },
   {
    "duration": 0,
    "start_time": "2022-06-06T19:20:22.655Z"
   },
   {
    "duration": 42,
    "start_time": "2022-06-06T19:21:14.204Z"
   },
   {
    "duration": 903,
    "start_time": "2022-06-06T19:21:26.501Z"
   },
   {
    "duration": 69,
    "start_time": "2022-06-06T19:22:00.868Z"
   },
   {
    "duration": 614,
    "start_time": "2022-06-06T19:22:07.520Z"
   },
   {
    "duration": 319,
    "start_time": "2022-06-06T19:22:08.137Z"
   },
   {
    "duration": 36,
    "start_time": "2022-06-06T19:22:08.458Z"
   },
   {
    "duration": 257,
    "start_time": "2022-06-06T19:22:08.497Z"
   },
   {
    "duration": 30,
    "start_time": "2022-06-06T19:22:08.758Z"
   },
   {
    "duration": 203,
    "start_time": "2022-06-06T19:22:08.791Z"
   },
   {
    "duration": 25,
    "start_time": "2022-06-06T19:22:08.996Z"
   },
   {
    "duration": 69,
    "start_time": "2022-06-06T19:22:09.023Z"
   },
   {
    "duration": 12,
    "start_time": "2022-06-06T19:22:09.093Z"
   },
   {
    "duration": 57,
    "start_time": "2022-06-06T19:22:09.110Z"
   },
   {
    "duration": 17,
    "start_time": "2022-06-06T19:22:09.170Z"
   },
   {
    "duration": 12,
    "start_time": "2022-06-06T19:22:09.192Z"
   },
   {
    "duration": 77,
    "start_time": "2022-06-06T19:22:09.206Z"
   },
   {
    "duration": 110,
    "start_time": "2022-06-06T19:22:09.285Z"
   },
   {
    "duration": 867,
    "start_time": "2022-06-06T19:22:09.397Z"
   },
   {
    "duration": 415,
    "start_time": "2022-06-06T19:22:10.267Z"
   },
   {
    "duration": 470,
    "start_time": "2022-06-06T19:22:10.686Z"
   },
   {
    "duration": 404,
    "start_time": "2022-06-06T19:22:11.162Z"
   },
   {
    "duration": 22,
    "start_time": "2022-06-06T19:22:11.571Z"
   },
   {
    "duration": 125,
    "start_time": "2022-06-06T19:22:11.596Z"
   },
   {
    "duration": 31,
    "start_time": "2022-06-06T19:22:11.722Z"
   },
   {
    "duration": 33,
    "start_time": "2022-06-06T19:22:11.756Z"
   },
   {
    "duration": 9,
    "start_time": "2022-06-06T19:22:11.790Z"
   },
   {
    "duration": 14,
    "start_time": "2022-06-06T19:22:11.800Z"
   },
   {
    "duration": 13,
    "start_time": "2022-06-06T19:22:11.817Z"
   },
   {
    "duration": 87,
    "start_time": "2022-06-06T19:22:11.832Z"
   },
   {
    "duration": 58,
    "start_time": "2022-06-06T19:22:11.921Z"
   },
   {
    "duration": 9,
    "start_time": "2022-06-06T19:22:11.984Z"
   },
   {
    "duration": 21,
    "start_time": "2022-06-06T19:22:11.995Z"
   },
   {
    "duration": 198,
    "start_time": "2022-06-06T19:22:12.018Z"
   },
   {
    "duration": 0,
    "start_time": "2022-06-06T19:22:12.219Z"
   },
   {
    "duration": 0,
    "start_time": "2022-06-06T19:22:12.220Z"
   },
   {
    "duration": 0,
    "start_time": "2022-06-06T19:22:12.222Z"
   },
   {
    "duration": 0,
    "start_time": "2022-06-06T19:22:12.223Z"
   },
   {
    "duration": 0,
    "start_time": "2022-06-06T19:22:12.227Z"
   },
   {
    "duration": 0,
    "start_time": "2022-06-06T19:22:12.228Z"
   },
   {
    "duration": 0,
    "start_time": "2022-06-06T19:22:12.230Z"
   },
   {
    "duration": 0,
    "start_time": "2022-06-06T19:22:12.231Z"
   },
   {
    "duration": 0,
    "start_time": "2022-06-06T19:22:12.232Z"
   },
   {
    "duration": 455,
    "start_time": "2022-06-06T19:23:38.781Z"
   },
   {
    "duration": 10,
    "start_time": "2022-06-06T19:25:12.591Z"
   },
   {
    "duration": 7,
    "start_time": "2022-06-06T19:25:19.864Z"
   },
   {
    "duration": 10,
    "start_time": "2022-06-06T19:29:29.518Z"
   },
   {
    "duration": 22,
    "start_time": "2022-06-06T19:29:44.780Z"
   },
   {
    "duration": 9,
    "start_time": "2022-06-06T19:30:00.582Z"
   },
   {
    "duration": 7,
    "start_time": "2022-06-06T19:30:12.995Z"
   },
   {
    "duration": 604,
    "start_time": "2022-06-06T19:30:40.558Z"
   },
   {
    "duration": 663,
    "start_time": "2022-06-06T19:30:41.164Z"
   },
   {
    "duration": 33,
    "start_time": "2022-06-06T19:30:41.830Z"
   },
   {
    "duration": 534,
    "start_time": "2022-06-06T19:30:41.865Z"
   },
   {
    "duration": 24,
    "start_time": "2022-06-06T19:30:42.402Z"
   },
   {
    "duration": 208,
    "start_time": "2022-06-06T19:30:42.429Z"
   },
   {
    "duration": 20,
    "start_time": "2022-06-06T19:30:42.641Z"
   },
   {
    "duration": 48,
    "start_time": "2022-06-06T19:30:42.664Z"
   },
   {
    "duration": 12,
    "start_time": "2022-06-06T19:30:42.714Z"
   },
   {
    "duration": 65,
    "start_time": "2022-06-06T19:30:42.730Z"
   },
   {
    "duration": 15,
    "start_time": "2022-06-06T19:30:42.797Z"
   },
   {
    "duration": 14,
    "start_time": "2022-06-06T19:30:42.814Z"
   },
   {
    "duration": 60,
    "start_time": "2022-06-06T19:30:42.829Z"
   },
   {
    "duration": 115,
    "start_time": "2022-06-06T19:30:42.891Z"
   },
   {
    "duration": 853,
    "start_time": "2022-06-06T19:30:43.017Z"
   },
   {
    "duration": 434,
    "start_time": "2022-06-06T19:30:43.872Z"
   },
   {
    "duration": 452,
    "start_time": "2022-06-06T19:30:44.308Z"
   },
   {
    "duration": 500,
    "start_time": "2022-06-06T19:30:44.763Z"
   },
   {
    "duration": 40,
    "start_time": "2022-06-06T19:30:45.266Z"
   },
   {
    "duration": 138,
    "start_time": "2022-06-06T19:30:45.308Z"
   },
   {
    "duration": 22,
    "start_time": "2022-06-06T19:30:45.449Z"
   },
   {
    "duration": 24,
    "start_time": "2022-06-06T19:30:45.473Z"
   },
   {
    "duration": 25,
    "start_time": "2022-06-06T19:30:45.505Z"
   },
   {
    "duration": 13,
    "start_time": "2022-06-06T19:30:45.533Z"
   },
   {
    "duration": 11,
    "start_time": "2022-06-06T19:30:45.551Z"
   },
   {
    "duration": 13,
    "start_time": "2022-06-06T19:30:45.564Z"
   },
   {
    "duration": 18,
    "start_time": "2022-06-06T19:30:45.579Z"
   },
   {
    "duration": 24,
    "start_time": "2022-06-06T19:30:45.602Z"
   },
   {
    "duration": 9,
    "start_time": "2022-06-06T19:30:45.628Z"
   },
   {
    "duration": 19,
    "start_time": "2022-06-06T19:30:45.640Z"
   },
   {
    "duration": 175,
    "start_time": "2022-06-06T19:30:45.662Z"
   },
   {
    "duration": 0,
    "start_time": "2022-06-06T19:30:45.840Z"
   },
   {
    "duration": 0,
    "start_time": "2022-06-06T19:30:45.842Z"
   },
   {
    "duration": 0,
    "start_time": "2022-06-06T19:30:45.843Z"
   },
   {
    "duration": 0,
    "start_time": "2022-06-06T19:30:45.845Z"
   },
   {
    "duration": 0,
    "start_time": "2022-06-06T19:30:45.847Z"
   },
   {
    "duration": 0,
    "start_time": "2022-06-06T19:30:45.848Z"
   },
   {
    "duration": 0,
    "start_time": "2022-06-06T19:30:45.850Z"
   },
   {
    "duration": 0,
    "start_time": "2022-06-06T19:30:45.853Z"
   },
   {
    "duration": 0,
    "start_time": "2022-06-06T19:30:45.854Z"
   },
   {
    "duration": 583,
    "start_time": "2022-06-06T19:36:49.126Z"
   },
   {
    "duration": 654,
    "start_time": "2022-06-06T19:36:49.712Z"
   },
   {
    "duration": 32,
    "start_time": "2022-06-06T19:36:50.368Z"
   },
   {
    "duration": 491,
    "start_time": "2022-06-06T19:36:50.402Z"
   },
   {
    "duration": 20,
    "start_time": "2022-06-06T19:36:50.895Z"
   },
   {
    "duration": 231,
    "start_time": "2022-06-06T19:36:50.918Z"
   },
   {
    "duration": 23,
    "start_time": "2022-06-06T19:36:51.152Z"
   },
   {
    "duration": 42,
    "start_time": "2022-06-06T19:36:51.177Z"
   },
   {
    "duration": 18,
    "start_time": "2022-06-06T19:36:51.222Z"
   },
   {
    "duration": 70,
    "start_time": "2022-06-06T19:36:51.243Z"
   },
   {
    "duration": 17,
    "start_time": "2022-06-06T19:36:51.315Z"
   },
   {
    "duration": 33,
    "start_time": "2022-06-06T19:36:51.334Z"
   },
   {
    "duration": 61,
    "start_time": "2022-06-06T19:36:51.368Z"
   },
   {
    "duration": 74,
    "start_time": "2022-06-06T19:36:51.433Z"
   },
   {
    "duration": 773,
    "start_time": "2022-06-06T19:36:51.510Z"
   },
   {
    "duration": 449,
    "start_time": "2022-06-06T19:36:52.286Z"
   },
   {
    "duration": 430,
    "start_time": "2022-06-06T19:36:52.737Z"
   },
   {
    "duration": 459,
    "start_time": "2022-06-06T19:36:53.169Z"
   },
   {
    "duration": 19,
    "start_time": "2022-06-06T19:36:53.631Z"
   },
   {
    "duration": 168,
    "start_time": "2022-06-06T19:36:53.652Z"
   },
   {
    "duration": 0,
    "start_time": "2022-06-06T19:36:53.825Z"
   },
   {
    "duration": 0,
    "start_time": "2022-06-06T19:36:53.827Z"
   },
   {
    "duration": 0,
    "start_time": "2022-06-06T19:36:53.831Z"
   },
   {
    "duration": 0,
    "start_time": "2022-06-06T19:36:53.833Z"
   },
   {
    "duration": 0,
    "start_time": "2022-06-06T19:36:53.834Z"
   },
   {
    "duration": 0,
    "start_time": "2022-06-06T19:36:53.836Z"
   },
   {
    "duration": 0,
    "start_time": "2022-06-06T19:36:53.837Z"
   },
   {
    "duration": 0,
    "start_time": "2022-06-06T19:36:53.838Z"
   },
   {
    "duration": 0,
    "start_time": "2022-06-06T19:36:53.840Z"
   },
   {
    "duration": 0,
    "start_time": "2022-06-06T19:36:53.955Z"
   },
   {
    "duration": 0,
    "start_time": "2022-06-06T19:36:53.959Z"
   },
   {
    "duration": 0,
    "start_time": "2022-06-06T19:36:53.961Z"
   },
   {
    "duration": 0,
    "start_time": "2022-06-06T19:36:53.962Z"
   },
   {
    "duration": 0,
    "start_time": "2022-06-06T19:36:53.966Z"
   },
   {
    "duration": 0,
    "start_time": "2022-06-06T19:36:53.967Z"
   },
   {
    "duration": 0,
    "start_time": "2022-06-06T19:36:53.969Z"
   },
   {
    "duration": 0,
    "start_time": "2022-06-06T19:36:53.970Z"
   },
   {
    "duration": 1,
    "start_time": "2022-06-06T19:36:53.971Z"
   },
   {
    "duration": 0,
    "start_time": "2022-06-06T19:36:53.973Z"
   },
   {
    "duration": 40,
    "start_time": "2022-06-06T19:38:10.312Z"
   },
   {
    "duration": 25,
    "start_time": "2022-06-06T19:39:21.896Z"
   },
   {
    "duration": 46,
    "start_time": "2022-06-06T19:39:42.798Z"
   },
   {
    "duration": 35,
    "start_time": "2022-06-06T19:40:16.048Z"
   },
   {
    "duration": 18,
    "start_time": "2022-06-06T19:41:58.213Z"
   },
   {
    "duration": 10,
    "start_time": "2022-06-06T19:42:08.724Z"
   },
   {
    "duration": 456,
    "start_time": "2022-06-06T19:42:19.386Z"
   },
   {
    "duration": 324,
    "start_time": "2022-06-06T19:42:19.845Z"
   },
   {
    "duration": 36,
    "start_time": "2022-06-06T19:42:20.172Z"
   },
   {
    "duration": 300,
    "start_time": "2022-06-06T19:42:20.211Z"
   },
   {
    "duration": 33,
    "start_time": "2022-06-06T19:42:20.513Z"
   },
   {
    "duration": 163,
    "start_time": "2022-06-06T19:42:20.548Z"
   },
   {
    "duration": 31,
    "start_time": "2022-06-06T19:42:20.713Z"
   },
   {
    "duration": 27,
    "start_time": "2022-06-06T19:42:20.746Z"
   },
   {
    "duration": 19,
    "start_time": "2022-06-06T19:42:20.776Z"
   },
   {
    "duration": 51,
    "start_time": "2022-06-06T19:42:20.799Z"
   },
   {
    "duration": 19,
    "start_time": "2022-06-06T19:42:20.852Z"
   },
   {
    "duration": 21,
    "start_time": "2022-06-06T19:42:20.873Z"
   },
   {
    "duration": 86,
    "start_time": "2022-06-06T19:42:20.896Z"
   },
   {
    "duration": 113,
    "start_time": "2022-06-06T19:42:20.984Z"
   },
   {
    "duration": 804,
    "start_time": "2022-06-06T19:42:21.100Z"
   },
   {
    "duration": 391,
    "start_time": "2022-06-06T19:42:21.907Z"
   },
   {
    "duration": 370,
    "start_time": "2022-06-06T19:42:22.300Z"
   },
   {
    "duration": 464,
    "start_time": "2022-06-06T19:42:22.675Z"
   },
   {
    "duration": 27,
    "start_time": "2022-06-06T19:42:23.142Z"
   },
   {
    "duration": 33,
    "start_time": "2022-06-06T19:42:23.171Z"
   },
   {
    "duration": 138,
    "start_time": "2022-06-06T19:42:23.226Z"
   },
   {
    "duration": 58,
    "start_time": "2022-06-06T19:42:23.368Z"
   },
   {
    "duration": 12,
    "start_time": "2022-06-06T19:42:23.428Z"
   },
   {
    "duration": 16,
    "start_time": "2022-06-06T19:42:23.443Z"
   },
   {
    "duration": 40,
    "start_time": "2022-06-06T19:42:23.461Z"
   },
   {
    "duration": 51,
    "start_time": "2022-06-06T19:42:23.503Z"
   },
   {
    "duration": 38,
    "start_time": "2022-06-06T19:42:23.556Z"
   },
   {
    "duration": 23,
    "start_time": "2022-06-06T19:42:23.599Z"
   },
   {
    "duration": 164,
    "start_time": "2022-06-06T19:42:23.625Z"
   },
   {
    "duration": 0,
    "start_time": "2022-06-06T19:42:23.791Z"
   },
   {
    "duration": 0,
    "start_time": "2022-06-06T19:42:23.793Z"
   },
   {
    "duration": 0,
    "start_time": "2022-06-06T19:42:23.795Z"
   },
   {
    "duration": 0,
    "start_time": "2022-06-06T19:42:23.797Z"
   },
   {
    "duration": 0,
    "start_time": "2022-06-06T19:42:23.798Z"
   },
   {
    "duration": 0,
    "start_time": "2022-06-06T19:42:23.800Z"
   },
   {
    "duration": 0,
    "start_time": "2022-06-06T19:42:23.802Z"
   },
   {
    "duration": 0,
    "start_time": "2022-06-06T19:42:23.804Z"
   },
   {
    "duration": 0,
    "start_time": "2022-06-06T19:42:23.805Z"
   },
   {
    "duration": 832,
    "start_time": "2022-06-06T19:49:06.493Z"
   },
   {
    "duration": 224,
    "start_time": "2022-06-06T19:49:07.327Z"
   },
   {
    "duration": 33,
    "start_time": "2022-06-06T19:49:07.553Z"
   },
   {
    "duration": 193,
    "start_time": "2022-06-06T19:49:07.589Z"
   },
   {
    "duration": 16,
    "start_time": "2022-06-06T19:49:07.783Z"
   },
   {
    "duration": 115,
    "start_time": "2022-06-06T19:49:07.800Z"
   },
   {
    "duration": 19,
    "start_time": "2022-06-06T19:49:07.916Z"
   },
   {
    "duration": 23,
    "start_time": "2022-06-06T19:49:07.937Z"
   },
   {
    "duration": 18,
    "start_time": "2022-06-06T19:49:07.962Z"
   },
   {
    "duration": 38,
    "start_time": "2022-06-06T19:49:07.983Z"
   },
   {
    "duration": 15,
    "start_time": "2022-06-06T19:49:08.024Z"
   },
   {
    "duration": 16,
    "start_time": "2022-06-06T19:49:08.040Z"
   },
   {
    "duration": 70,
    "start_time": "2022-06-06T19:49:08.058Z"
   },
   {
    "duration": 67,
    "start_time": "2022-06-06T19:49:08.129Z"
   },
   {
    "duration": 565,
    "start_time": "2022-06-06T19:49:08.198Z"
   },
   {
    "duration": 354,
    "start_time": "2022-06-06T19:49:08.765Z"
   },
   {
    "duration": 275,
    "start_time": "2022-06-06T19:49:09.121Z"
   },
   {
    "duration": 300,
    "start_time": "2022-06-06T19:49:09.398Z"
   },
   {
    "duration": 26,
    "start_time": "2022-06-06T19:49:09.700Z"
   },
   {
    "duration": 20,
    "start_time": "2022-06-06T19:49:09.728Z"
   },
   {
    "duration": 22,
    "start_time": "2022-06-06T19:49:09.750Z"
   },
   {
    "duration": 26,
    "start_time": "2022-06-06T19:49:09.774Z"
   },
   {
    "duration": 9,
    "start_time": "2022-06-06T19:49:09.826Z"
   },
   {
    "duration": 12,
    "start_time": "2022-06-06T19:49:09.837Z"
   },
   {
    "duration": 6,
    "start_time": "2022-06-06T19:49:09.850Z"
   },
   {
    "duration": 11,
    "start_time": "2022-06-06T19:49:09.859Z"
   },
   {
    "duration": 11,
    "start_time": "2022-06-06T19:49:09.873Z"
   },
   {
    "duration": 8,
    "start_time": "2022-06-06T19:49:09.888Z"
   },
   {
    "duration": 42,
    "start_time": "2022-06-06T19:49:09.898Z"
   },
   {
    "duration": 148,
    "start_time": "2022-06-06T19:49:09.942Z"
   },
   {
    "duration": 0,
    "start_time": "2022-06-06T19:49:10.093Z"
   },
   {
    "duration": 0,
    "start_time": "2022-06-06T19:49:10.094Z"
   },
   {
    "duration": 0,
    "start_time": "2022-06-06T19:49:10.095Z"
   },
   {
    "duration": 0,
    "start_time": "2022-06-06T19:49:10.097Z"
   },
   {
    "duration": 0,
    "start_time": "2022-06-06T19:49:10.098Z"
   },
   {
    "duration": 0,
    "start_time": "2022-06-06T19:49:10.100Z"
   },
   {
    "duration": 0,
    "start_time": "2022-06-06T19:49:10.102Z"
   },
   {
    "duration": 0,
    "start_time": "2022-06-06T19:49:10.103Z"
   },
   {
    "duration": 0,
    "start_time": "2022-06-06T19:49:10.124Z"
   },
   {
    "duration": 938,
    "start_time": "2022-06-06T19:49:37.543Z"
   },
   {
    "duration": 224,
    "start_time": "2022-06-06T19:49:38.483Z"
   },
   {
    "duration": 40,
    "start_time": "2022-06-06T19:49:38.709Z"
   },
   {
    "duration": 196,
    "start_time": "2022-06-06T19:49:38.752Z"
   },
   {
    "duration": 29,
    "start_time": "2022-06-06T19:49:38.950Z"
   },
   {
    "duration": 123,
    "start_time": "2022-06-06T19:49:38.981Z"
   },
   {
    "duration": 25,
    "start_time": "2022-06-06T19:49:39.106Z"
   },
   {
    "duration": 20,
    "start_time": "2022-06-06T19:49:39.133Z"
   },
   {
    "duration": 13,
    "start_time": "2022-06-06T19:49:39.155Z"
   },
   {
    "duration": 40,
    "start_time": "2022-06-06T19:49:39.170Z"
   },
   {
    "duration": 17,
    "start_time": "2022-06-06T19:49:39.212Z"
   },
   {
    "duration": 13,
    "start_time": "2022-06-06T19:49:39.231Z"
   },
   {
    "duration": 87,
    "start_time": "2022-06-06T19:49:39.247Z"
   },
   {
    "duration": 74,
    "start_time": "2022-06-06T19:49:39.337Z"
   },
   {
    "duration": 641,
    "start_time": "2022-06-06T19:49:39.413Z"
   },
   {
    "duration": 373,
    "start_time": "2022-06-06T19:49:40.056Z"
   },
   {
    "duration": 296,
    "start_time": "2022-06-06T19:49:40.431Z"
   },
   {
    "duration": 286,
    "start_time": "2022-06-06T19:49:40.729Z"
   },
   {
    "duration": 24,
    "start_time": "2022-06-06T19:49:41.016Z"
   },
   {
    "duration": 21,
    "start_time": "2022-06-06T19:49:41.042Z"
   },
   {
    "duration": 22,
    "start_time": "2022-06-06T19:49:41.065Z"
   },
   {
    "duration": 61,
    "start_time": "2022-06-06T19:49:41.089Z"
   },
   {
    "duration": 10,
    "start_time": "2022-06-06T19:49:41.151Z"
   },
   {
    "duration": 14,
    "start_time": "2022-06-06T19:49:41.163Z"
   },
   {
    "duration": 6,
    "start_time": "2022-06-06T19:49:41.180Z"
   },
   {
    "duration": 9,
    "start_time": "2022-06-06T19:49:41.188Z"
   },
   {
    "duration": 6,
    "start_time": "2022-06-06T19:49:41.225Z"
   },
   {
    "duration": 8,
    "start_time": "2022-06-06T19:49:41.236Z"
   },
   {
    "duration": 15,
    "start_time": "2022-06-06T19:49:41.246Z"
   },
   {
    "duration": 142,
    "start_time": "2022-06-06T19:49:41.262Z"
   },
   {
    "duration": 0,
    "start_time": "2022-06-06T19:49:41.406Z"
   },
   {
    "duration": 0,
    "start_time": "2022-06-06T19:49:41.407Z"
   },
   {
    "duration": 0,
    "start_time": "2022-06-06T19:49:41.409Z"
   },
   {
    "duration": 0,
    "start_time": "2022-06-06T19:49:41.410Z"
   },
   {
    "duration": 0,
    "start_time": "2022-06-06T19:49:41.426Z"
   },
   {
    "duration": 0,
    "start_time": "2022-06-06T19:49:41.426Z"
   },
   {
    "duration": 0,
    "start_time": "2022-06-06T19:49:41.428Z"
   },
   {
    "duration": 0,
    "start_time": "2022-06-06T19:49:41.429Z"
   },
   {
    "duration": 0,
    "start_time": "2022-06-06T19:49:41.430Z"
   },
   {
    "duration": 832,
    "start_time": "2022-06-06T19:51:19.812Z"
   },
   {
    "duration": 214,
    "start_time": "2022-06-06T19:51:20.646Z"
   },
   {
    "duration": 21,
    "start_time": "2022-06-06T19:51:20.861Z"
   },
   {
    "duration": 182,
    "start_time": "2022-06-06T19:51:20.885Z"
   },
   {
    "duration": 17,
    "start_time": "2022-06-06T19:51:21.069Z"
   },
   {
    "duration": 126,
    "start_time": "2022-06-06T19:51:21.088Z"
   },
   {
    "duration": 19,
    "start_time": "2022-06-06T19:51:21.215Z"
   },
   {
    "duration": 36,
    "start_time": "2022-06-06T19:51:21.236Z"
   },
   {
    "duration": 14,
    "start_time": "2022-06-06T19:51:21.274Z"
   },
   {
    "duration": 39,
    "start_time": "2022-06-06T19:51:21.292Z"
   },
   {
    "duration": 12,
    "start_time": "2022-06-06T19:51:21.333Z"
   },
   {
    "duration": 12,
    "start_time": "2022-06-06T19:51:21.347Z"
   },
   {
    "duration": 74,
    "start_time": "2022-06-06T19:51:21.360Z"
   },
   {
    "duration": 65,
    "start_time": "2022-06-06T19:51:21.436Z"
   },
   {
    "duration": 606,
    "start_time": "2022-06-06T19:51:21.503Z"
   },
   {
    "duration": 376,
    "start_time": "2022-06-06T19:51:22.111Z"
   },
   {
    "duration": 280,
    "start_time": "2022-06-06T19:51:22.489Z"
   },
   {
    "duration": 275,
    "start_time": "2022-06-06T19:51:22.771Z"
   },
   {
    "duration": 17,
    "start_time": "2022-06-06T19:51:23.048Z"
   },
   {
    "duration": 20,
    "start_time": "2022-06-06T19:51:23.066Z"
   },
   {
    "duration": 50,
    "start_time": "2022-06-06T19:51:23.087Z"
   },
   {
    "duration": 36,
    "start_time": "2022-06-06T19:51:23.139Z"
   },
   {
    "duration": 130,
    "start_time": "2022-06-06T19:51:23.176Z"
   },
   {
    "duration": 0,
    "start_time": "2022-06-06T19:51:23.308Z"
   },
   {
    "duration": 0,
    "start_time": "2022-06-06T19:51:23.309Z"
   },
   {
    "duration": 0,
    "start_time": "2022-06-06T19:51:23.311Z"
   },
   {
    "duration": 0,
    "start_time": "2022-06-06T19:51:23.325Z"
   },
   {
    "duration": 0,
    "start_time": "2022-06-06T19:51:23.326Z"
   },
   {
    "duration": 0,
    "start_time": "2022-06-06T19:51:23.327Z"
   },
   {
    "duration": 0,
    "start_time": "2022-06-06T19:51:23.329Z"
   },
   {
    "duration": 0,
    "start_time": "2022-06-06T19:51:23.331Z"
   },
   {
    "duration": 0,
    "start_time": "2022-06-06T19:51:23.332Z"
   },
   {
    "duration": 0,
    "start_time": "2022-06-06T19:51:23.334Z"
   },
   {
    "duration": 0,
    "start_time": "2022-06-06T19:51:23.336Z"
   },
   {
    "duration": 0,
    "start_time": "2022-06-06T19:51:23.338Z"
   },
   {
    "duration": 0,
    "start_time": "2022-06-06T19:51:23.340Z"
   },
   {
    "duration": 0,
    "start_time": "2022-06-06T19:51:23.342Z"
   },
   {
    "duration": 0,
    "start_time": "2022-06-06T19:51:23.343Z"
   },
   {
    "duration": 0,
    "start_time": "2022-06-06T19:51:23.346Z"
   },
   {
    "duration": 893,
    "start_time": "2022-06-06T19:53:26.342Z"
   },
   {
    "duration": 219,
    "start_time": "2022-06-06T19:53:27.237Z"
   },
   {
    "duration": 21,
    "start_time": "2022-06-06T19:53:27.458Z"
   },
   {
    "duration": 228,
    "start_time": "2022-06-06T19:53:27.481Z"
   },
   {
    "duration": 21,
    "start_time": "2022-06-06T19:53:27.712Z"
   },
   {
    "duration": 114,
    "start_time": "2022-06-06T19:53:27.735Z"
   },
   {
    "duration": 18,
    "start_time": "2022-06-06T19:53:27.851Z"
   },
   {
    "duration": 21,
    "start_time": "2022-06-06T19:53:27.870Z"
   },
   {
    "duration": 10,
    "start_time": "2022-06-06T19:53:27.893Z"
   },
   {
    "duration": 63,
    "start_time": "2022-06-06T19:53:27.905Z"
   },
   {
    "duration": 13,
    "start_time": "2022-06-06T19:53:27.970Z"
   },
   {
    "duration": 14,
    "start_time": "2022-06-06T19:53:27.985Z"
   },
   {
    "duration": 62,
    "start_time": "2022-06-06T19:53:28.001Z"
   },
   {
    "duration": 73,
    "start_time": "2022-06-06T19:53:28.069Z"
   },
   {
    "duration": 582,
    "start_time": "2022-06-06T19:53:28.143Z"
   },
   {
    "duration": 394,
    "start_time": "2022-06-06T19:53:28.727Z"
   },
   {
    "duration": 307,
    "start_time": "2022-06-06T19:53:29.122Z"
   },
   {
    "duration": 295,
    "start_time": "2022-06-06T19:53:29.431Z"
   },
   {
    "duration": 22,
    "start_time": "2022-06-06T19:53:29.729Z"
   },
   {
    "duration": 22,
    "start_time": "2022-06-06T19:53:29.753Z"
   },
   {
    "duration": 53,
    "start_time": "2022-06-06T19:53:29.777Z"
   },
   {
    "duration": 46,
    "start_time": "2022-06-06T19:53:29.832Z"
   },
   {
    "duration": 148,
    "start_time": "2022-06-06T19:53:29.880Z"
   },
   {
    "duration": 0,
    "start_time": "2022-06-06T19:53:30.031Z"
   },
   {
    "duration": 0,
    "start_time": "2022-06-06T19:53:30.032Z"
   },
   {
    "duration": 0,
    "start_time": "2022-06-06T19:53:30.034Z"
   },
   {
    "duration": 0,
    "start_time": "2022-06-06T19:53:30.035Z"
   },
   {
    "duration": 0,
    "start_time": "2022-06-06T19:53:30.037Z"
   },
   {
    "duration": 0,
    "start_time": "2022-06-06T19:53:30.039Z"
   },
   {
    "duration": 0,
    "start_time": "2022-06-06T19:53:30.040Z"
   },
   {
    "duration": 0,
    "start_time": "2022-06-06T19:53:30.042Z"
   },
   {
    "duration": 0,
    "start_time": "2022-06-06T19:53:30.044Z"
   },
   {
    "duration": 0,
    "start_time": "2022-06-06T19:53:30.045Z"
   },
   {
    "duration": 0,
    "start_time": "2022-06-06T19:53:30.046Z"
   },
   {
    "duration": 0,
    "start_time": "2022-06-06T19:53:30.047Z"
   },
   {
    "duration": 0,
    "start_time": "2022-06-06T19:53:30.049Z"
   },
   {
    "duration": 0,
    "start_time": "2022-06-06T19:53:30.051Z"
   },
   {
    "duration": 0,
    "start_time": "2022-06-06T19:53:30.052Z"
   },
   {
    "duration": 0,
    "start_time": "2022-06-06T19:53:30.054Z"
   },
   {
    "duration": 6,
    "start_time": "2022-06-06T19:55:41.208Z"
   },
   {
    "duration": 953,
    "start_time": "2022-06-06T19:55:48.894Z"
   },
   {
    "duration": 228,
    "start_time": "2022-06-06T19:55:49.849Z"
   },
   {
    "duration": 21,
    "start_time": "2022-06-06T19:55:50.079Z"
   },
   {
    "duration": 180,
    "start_time": "2022-06-06T19:55:50.103Z"
   },
   {
    "duration": 20,
    "start_time": "2022-06-06T19:55:50.285Z"
   },
   {
    "duration": 118,
    "start_time": "2022-06-06T19:55:50.307Z"
   },
   {
    "duration": 16,
    "start_time": "2022-06-06T19:55:50.427Z"
   },
   {
    "duration": 21,
    "start_time": "2022-06-06T19:55:50.445Z"
   },
   {
    "duration": 12,
    "start_time": "2022-06-06T19:55:50.468Z"
   },
   {
    "duration": 51,
    "start_time": "2022-06-06T19:55:50.483Z"
   },
   {
    "duration": 12,
    "start_time": "2022-06-06T19:55:50.536Z"
   },
   {
    "duration": 18,
    "start_time": "2022-06-06T19:55:50.549Z"
   },
   {
    "duration": 74,
    "start_time": "2022-06-06T19:55:50.569Z"
   },
   {
    "duration": 82,
    "start_time": "2022-06-06T19:55:50.645Z"
   },
   {
    "duration": 782,
    "start_time": "2022-06-06T19:55:50.728Z"
   },
   {
    "duration": 504,
    "start_time": "2022-06-06T19:55:51.512Z"
   },
   {
    "duration": 331,
    "start_time": "2022-06-06T19:55:52.019Z"
   },
   {
    "duration": 320,
    "start_time": "2022-06-06T19:55:52.352Z"
   },
   {
    "duration": 18,
    "start_time": "2022-06-06T19:55:52.674Z"
   },
   {
    "duration": 43,
    "start_time": "2022-06-06T19:55:52.694Z"
   },
   {
    "duration": 25,
    "start_time": "2022-06-06T19:55:52.740Z"
   },
   {
    "duration": 28,
    "start_time": "2022-06-06T19:55:52.767Z"
   },
   {
    "duration": 36,
    "start_time": "2022-06-06T19:55:52.797Z"
   },
   {
    "duration": 31,
    "start_time": "2022-06-06T19:55:52.835Z"
   },
   {
    "duration": 6,
    "start_time": "2022-06-06T19:55:52.868Z"
   },
   {
    "duration": 13,
    "start_time": "2022-06-06T19:55:52.876Z"
   },
   {
    "duration": 5,
    "start_time": "2022-06-06T19:55:52.891Z"
   },
   {
    "duration": 8,
    "start_time": "2022-06-06T19:55:52.901Z"
   },
   {
    "duration": 38,
    "start_time": "2022-06-06T19:55:52.911Z"
   },
   {
    "duration": 152,
    "start_time": "2022-06-06T19:55:52.951Z"
   },
   {
    "duration": 0,
    "start_time": "2022-06-06T19:55:53.106Z"
   },
   {
    "duration": 0,
    "start_time": "2022-06-06T19:55:53.108Z"
   },
   {
    "duration": 0,
    "start_time": "2022-06-06T19:55:53.110Z"
   },
   {
    "duration": 0,
    "start_time": "2022-06-06T19:55:53.111Z"
   },
   {
    "duration": 0,
    "start_time": "2022-06-06T19:55:53.113Z"
   },
   {
    "duration": 0,
    "start_time": "2022-06-06T19:55:53.129Z"
   },
   {
    "duration": 0,
    "start_time": "2022-06-06T19:55:53.135Z"
   },
   {
    "duration": 0,
    "start_time": "2022-06-06T19:55:53.135Z"
   },
   {
    "duration": 0,
    "start_time": "2022-06-06T19:55:53.136Z"
   },
   {
    "duration": 8,
    "start_time": "2022-06-06T20:05:23.651Z"
   },
   {
    "duration": 10,
    "start_time": "2022-06-06T20:05:57.532Z"
   },
   {
    "duration": 958,
    "start_time": "2022-06-06T20:06:06.144Z"
   },
   {
    "duration": 247,
    "start_time": "2022-06-06T20:06:07.104Z"
   },
   {
    "duration": 31,
    "start_time": "2022-06-06T20:06:07.354Z"
   },
   {
    "duration": 230,
    "start_time": "2022-06-06T20:06:07.388Z"
   },
   {
    "duration": 18,
    "start_time": "2022-06-06T20:06:07.625Z"
   },
   {
    "duration": 126,
    "start_time": "2022-06-06T20:06:07.645Z"
   },
   {
    "duration": 26,
    "start_time": "2022-06-06T20:06:07.773Z"
   },
   {
    "duration": 26,
    "start_time": "2022-06-06T20:06:07.802Z"
   },
   {
    "duration": 13,
    "start_time": "2022-06-06T20:06:07.830Z"
   },
   {
    "duration": 38,
    "start_time": "2022-06-06T20:06:07.847Z"
   },
   {
    "duration": 13,
    "start_time": "2022-06-06T20:06:07.887Z"
   },
   {
    "duration": 30,
    "start_time": "2022-06-06T20:06:07.902Z"
   },
   {
    "duration": 93,
    "start_time": "2022-06-06T20:06:07.934Z"
   },
   {
    "duration": 79,
    "start_time": "2022-06-06T20:06:08.030Z"
   },
   {
    "duration": 635,
    "start_time": "2022-06-06T20:06:08.112Z"
   },
   {
    "duration": 426,
    "start_time": "2022-06-06T20:06:08.749Z"
   },
   {
    "duration": 305,
    "start_time": "2022-06-06T20:06:09.177Z"
   },
   {
    "duration": 342,
    "start_time": "2022-06-06T20:06:09.483Z"
   },
   {
    "duration": 19,
    "start_time": "2022-06-06T20:06:09.827Z"
   },
   {
    "duration": 27,
    "start_time": "2022-06-06T20:06:09.847Z"
   },
   {
    "duration": 61,
    "start_time": "2022-06-06T20:06:09.876Z"
   },
   {
    "duration": 34,
    "start_time": "2022-06-06T20:06:09.939Z"
   },
   {
    "duration": 7,
    "start_time": "2022-06-06T20:06:09.975Z"
   },
   {
    "duration": 64,
    "start_time": "2022-06-06T20:06:09.985Z"
   },
   {
    "duration": 18,
    "start_time": "2022-06-06T20:06:10.051Z"
   },
   {
    "duration": 5,
    "start_time": "2022-06-06T20:06:10.071Z"
   },
   {
    "duration": 12,
    "start_time": "2022-06-06T20:06:10.078Z"
   },
   {
    "duration": 39,
    "start_time": "2022-06-06T20:06:10.095Z"
   },
   {
    "duration": 7,
    "start_time": "2022-06-06T20:06:10.136Z"
   },
   {
    "duration": 145,
    "start_time": "2022-06-06T20:06:10.146Z"
   },
   {
    "duration": 398,
    "start_time": "2022-06-06T20:06:10.294Z"
   },
   {
    "duration": 295,
    "start_time": "2022-06-06T20:06:10.694Z"
   },
   {
    "duration": 334,
    "start_time": "2022-06-06T20:06:10.991Z"
   },
   {
    "duration": 428,
    "start_time": "2022-06-06T20:06:11.327Z"
   },
   {
    "duration": 18,
    "start_time": "2022-06-06T20:06:11.757Z"
   },
   {
    "duration": 4,
    "start_time": "2022-06-06T20:06:11.777Z"
   },
   {
    "duration": 20,
    "start_time": "2022-06-06T20:06:11.783Z"
   },
   {
    "duration": 36,
    "start_time": "2022-06-06T20:06:11.804Z"
   },
   {
    "duration": 10,
    "start_time": "2022-06-06T20:06:11.842Z"
   },
   {
    "duration": 11,
    "start_time": "2022-06-06T20:06:11.854Z"
   },
   {
    "duration": 878,
    "start_time": "2022-06-06T20:10:33.545Z"
   },
   {
    "duration": 220,
    "start_time": "2022-06-06T20:10:34.425Z"
   },
   {
    "duration": 37,
    "start_time": "2022-06-06T20:10:34.648Z"
   },
   {
    "duration": 255,
    "start_time": "2022-06-06T20:10:34.688Z"
   },
   {
    "duration": 23,
    "start_time": "2022-06-06T20:10:34.946Z"
   },
   {
    "duration": 133,
    "start_time": "2022-06-06T20:10:34.971Z"
   },
   {
    "duration": 23,
    "start_time": "2022-06-06T20:10:35.106Z"
   },
   {
    "duration": 20,
    "start_time": "2022-06-06T20:10:35.131Z"
   },
   {
    "duration": 10,
    "start_time": "2022-06-06T20:10:35.153Z"
   },
   {
    "duration": 38,
    "start_time": "2022-06-06T20:10:35.165Z"
   },
   {
    "duration": 25,
    "start_time": "2022-06-06T20:10:35.205Z"
   },
   {
    "duration": 18,
    "start_time": "2022-06-06T20:10:35.233Z"
   },
   {
    "duration": 71,
    "start_time": "2022-06-06T20:10:35.254Z"
   },
   {
    "duration": 65,
    "start_time": "2022-06-06T20:10:35.329Z"
   },
   {
    "duration": 629,
    "start_time": "2022-06-06T20:10:35.396Z"
   },
   {
    "duration": 430,
    "start_time": "2022-06-06T20:10:36.028Z"
   },
   {
    "duration": 354,
    "start_time": "2022-06-06T20:10:36.460Z"
   },
   {
    "duration": 305,
    "start_time": "2022-06-06T20:10:36.815Z"
   },
   {
    "duration": 21,
    "start_time": "2022-06-06T20:10:37.125Z"
   },
   {
    "duration": 32,
    "start_time": "2022-06-06T20:10:37.148Z"
   },
   {
    "duration": 52,
    "start_time": "2022-06-06T20:10:37.183Z"
   },
   {
    "duration": 29,
    "start_time": "2022-06-06T20:10:37.238Z"
   },
   {
    "duration": 146,
    "start_time": "2022-06-06T20:10:37.269Z"
   },
   {
    "duration": 0,
    "start_time": "2022-06-06T20:10:37.417Z"
   },
   {
    "duration": 0,
    "start_time": "2022-06-06T20:10:37.425Z"
   },
   {
    "duration": 0,
    "start_time": "2022-06-06T20:10:37.427Z"
   },
   {
    "duration": 0,
    "start_time": "2022-06-06T20:10:37.428Z"
   },
   {
    "duration": 0,
    "start_time": "2022-06-06T20:10:37.431Z"
   },
   {
    "duration": 0,
    "start_time": "2022-06-06T20:10:37.432Z"
   },
   {
    "duration": 0,
    "start_time": "2022-06-06T20:10:37.434Z"
   },
   {
    "duration": 0,
    "start_time": "2022-06-06T20:10:37.436Z"
   },
   {
    "duration": 0,
    "start_time": "2022-06-06T20:10:37.438Z"
   },
   {
    "duration": 0,
    "start_time": "2022-06-06T20:10:37.440Z"
   },
   {
    "duration": 0,
    "start_time": "2022-06-06T20:10:37.441Z"
   },
   {
    "duration": 0,
    "start_time": "2022-06-06T20:10:37.443Z"
   },
   {
    "duration": 0,
    "start_time": "2022-06-06T20:10:37.444Z"
   },
   {
    "duration": 0,
    "start_time": "2022-06-06T20:10:37.446Z"
   },
   {
    "duration": 0,
    "start_time": "2022-06-06T20:10:37.448Z"
   },
   {
    "duration": 0,
    "start_time": "2022-06-06T20:10:37.450Z"
   },
   {
    "duration": 890,
    "start_time": "2022-06-06T20:12:33.735Z"
   },
   {
    "duration": 299,
    "start_time": "2022-06-06T20:12:34.627Z"
   },
   {
    "duration": 26,
    "start_time": "2022-06-06T20:12:34.928Z"
   },
   {
    "duration": 193,
    "start_time": "2022-06-06T20:12:34.957Z"
   },
   {
    "duration": 23,
    "start_time": "2022-06-06T20:12:35.152Z"
   },
   {
    "duration": 141,
    "start_time": "2022-06-06T20:12:35.178Z"
   },
   {
    "duration": 21,
    "start_time": "2022-06-06T20:12:35.325Z"
   },
   {
    "duration": 232,
    "start_time": "2022-06-06T20:12:35.348Z"
   },
   {
    "duration": 0,
    "start_time": "2022-06-06T20:12:35.584Z"
   },
   {
    "duration": 0,
    "start_time": "2022-06-06T20:12:35.586Z"
   },
   {
    "duration": 0,
    "start_time": "2022-06-06T20:12:35.588Z"
   },
   {
    "duration": 0,
    "start_time": "2022-06-06T20:12:35.589Z"
   },
   {
    "duration": 0,
    "start_time": "2022-06-06T20:12:35.591Z"
   },
   {
    "duration": 0,
    "start_time": "2022-06-06T20:12:35.593Z"
   },
   {
    "duration": 0,
    "start_time": "2022-06-06T20:12:35.595Z"
   },
   {
    "duration": 1,
    "start_time": "2022-06-06T20:12:35.597Z"
   },
   {
    "duration": 0,
    "start_time": "2022-06-06T20:12:35.599Z"
   },
   {
    "duration": 0,
    "start_time": "2022-06-06T20:12:35.601Z"
   },
   {
    "duration": 0,
    "start_time": "2022-06-06T20:12:35.625Z"
   },
   {
    "duration": 0,
    "start_time": "2022-06-06T20:12:35.627Z"
   },
   {
    "duration": 0,
    "start_time": "2022-06-06T20:12:35.629Z"
   },
   {
    "duration": 0,
    "start_time": "2022-06-06T20:12:35.630Z"
   },
   {
    "duration": 0,
    "start_time": "2022-06-06T20:12:35.632Z"
   },
   {
    "duration": 0,
    "start_time": "2022-06-06T20:12:35.633Z"
   },
   {
    "duration": 0,
    "start_time": "2022-06-06T20:12:35.635Z"
   },
   {
    "duration": 0,
    "start_time": "2022-06-06T20:12:35.636Z"
   },
   {
    "duration": 0,
    "start_time": "2022-06-06T20:12:35.638Z"
   },
   {
    "duration": 0,
    "start_time": "2022-06-06T20:12:35.640Z"
   },
   {
    "duration": 0,
    "start_time": "2022-06-06T20:12:35.642Z"
   },
   {
    "duration": 0,
    "start_time": "2022-06-06T20:12:35.643Z"
   },
   {
    "duration": 0,
    "start_time": "2022-06-06T20:12:35.645Z"
   },
   {
    "duration": 0,
    "start_time": "2022-06-06T20:12:35.646Z"
   },
   {
    "duration": 0,
    "start_time": "2022-06-06T20:12:35.648Z"
   },
   {
    "duration": 0,
    "start_time": "2022-06-06T20:12:35.650Z"
   },
   {
    "duration": 0,
    "start_time": "2022-06-06T20:12:35.651Z"
   },
   {
    "duration": 0,
    "start_time": "2022-06-06T20:12:35.652Z"
   },
   {
    "duration": 0,
    "start_time": "2022-06-06T20:12:35.653Z"
   },
   {
    "duration": 0,
    "start_time": "2022-06-06T20:12:35.654Z"
   },
   {
    "duration": 0,
    "start_time": "2022-06-06T20:12:35.655Z"
   },
   {
    "duration": 5,
    "start_time": "2022-06-06T20:12:57.351Z"
   },
   {
    "duration": 26,
    "start_time": "2022-06-06T20:13:40.682Z"
   },
   {
    "duration": 861,
    "start_time": "2022-06-06T20:13:47.012Z"
   },
   {
    "duration": 237,
    "start_time": "2022-06-06T20:13:47.876Z"
   },
   {
    "duration": 29,
    "start_time": "2022-06-06T20:13:48.114Z"
   },
   {
    "duration": 191,
    "start_time": "2022-06-06T20:13:48.146Z"
   },
   {
    "duration": 27,
    "start_time": "2022-06-06T20:13:48.339Z"
   },
   {
    "duration": 135,
    "start_time": "2022-06-06T20:13:48.368Z"
   },
   {
    "duration": 20,
    "start_time": "2022-06-06T20:13:48.505Z"
   },
   {
    "duration": 15,
    "start_time": "2022-06-06T20:13:48.527Z"
   },
   {
    "duration": 108,
    "start_time": "2022-06-06T20:13:48.543Z"
   },
   {
    "duration": 0,
    "start_time": "2022-06-06T20:13:48.654Z"
   },
   {
    "duration": 0,
    "start_time": "2022-06-06T20:13:48.655Z"
   },
   {
    "duration": 0,
    "start_time": "2022-06-06T20:13:48.656Z"
   },
   {
    "duration": 0,
    "start_time": "2022-06-06T20:13:48.657Z"
   },
   {
    "duration": 0,
    "start_time": "2022-06-06T20:13:48.659Z"
   },
   {
    "duration": 0,
    "start_time": "2022-06-06T20:13:48.660Z"
   },
   {
    "duration": 0,
    "start_time": "2022-06-06T20:13:48.661Z"
   },
   {
    "duration": 0,
    "start_time": "2022-06-06T20:13:48.663Z"
   },
   {
    "duration": 0,
    "start_time": "2022-06-06T20:13:48.664Z"
   },
   {
    "duration": 0,
    "start_time": "2022-06-06T20:13:48.665Z"
   },
   {
    "duration": 0,
    "start_time": "2022-06-06T20:13:48.667Z"
   },
   {
    "duration": 0,
    "start_time": "2022-06-06T20:13:48.668Z"
   },
   {
    "duration": 0,
    "start_time": "2022-06-06T20:13:48.669Z"
   },
   {
    "duration": 0,
    "start_time": "2022-06-06T20:13:48.670Z"
   },
   {
    "duration": 0,
    "start_time": "2022-06-06T20:13:48.671Z"
   },
   {
    "duration": 0,
    "start_time": "2022-06-06T20:13:48.673Z"
   },
   {
    "duration": 0,
    "start_time": "2022-06-06T20:13:48.675Z"
   },
   {
    "duration": 0,
    "start_time": "2022-06-06T20:13:48.677Z"
   },
   {
    "duration": 0,
    "start_time": "2022-06-06T20:13:48.678Z"
   },
   {
    "duration": 0,
    "start_time": "2022-06-06T20:13:48.679Z"
   },
   {
    "duration": 0,
    "start_time": "2022-06-06T20:13:48.679Z"
   },
   {
    "duration": 0,
    "start_time": "2022-06-06T20:13:48.680Z"
   },
   {
    "duration": 0,
    "start_time": "2022-06-06T20:13:48.725Z"
   },
   {
    "duration": 0,
    "start_time": "2022-06-06T20:13:48.727Z"
   },
   {
    "duration": 0,
    "start_time": "2022-06-06T20:13:48.728Z"
   },
   {
    "duration": 0,
    "start_time": "2022-06-06T20:13:48.729Z"
   },
   {
    "duration": 0,
    "start_time": "2022-06-06T20:13:48.730Z"
   },
   {
    "duration": 0,
    "start_time": "2022-06-06T20:13:48.731Z"
   },
   {
    "duration": 0,
    "start_time": "2022-06-06T20:13:48.732Z"
   },
   {
    "duration": 0,
    "start_time": "2022-06-06T20:13:48.733Z"
   },
   {
    "duration": 32,
    "start_time": "2022-06-06T20:14:15.577Z"
   },
   {
    "duration": 12,
    "start_time": "2022-06-06T20:14:18.647Z"
   },
   {
    "duration": 873,
    "start_time": "2022-06-06T20:14:30.848Z"
   },
   {
    "duration": 254,
    "start_time": "2022-06-06T20:14:31.726Z"
   },
   {
    "duration": 43,
    "start_time": "2022-06-06T20:14:31.982Z"
   },
   {
    "duration": 215,
    "start_time": "2022-06-06T20:14:32.028Z"
   },
   {
    "duration": 19,
    "start_time": "2022-06-06T20:14:32.244Z"
   },
   {
    "duration": 141,
    "start_time": "2022-06-06T20:14:32.265Z"
   },
   {
    "duration": 26,
    "start_time": "2022-06-06T20:14:32.408Z"
   },
   {
    "duration": 24,
    "start_time": "2022-06-06T20:14:32.436Z"
   },
   {
    "duration": 12,
    "start_time": "2022-06-06T20:14:32.462Z"
   },
   {
    "duration": 47,
    "start_time": "2022-06-06T20:14:32.477Z"
   },
   {
    "duration": 14,
    "start_time": "2022-06-06T20:14:32.526Z"
   },
   {
    "duration": 11,
    "start_time": "2022-06-06T20:14:32.542Z"
   },
   {
    "duration": 73,
    "start_time": "2022-06-06T20:14:32.556Z"
   },
   {
    "duration": 63,
    "start_time": "2022-06-06T20:14:32.631Z"
   },
   {
    "duration": 631,
    "start_time": "2022-06-06T20:14:32.696Z"
   },
   {
    "duration": 429,
    "start_time": "2022-06-06T20:14:33.328Z"
   },
   {
    "duration": 311,
    "start_time": "2022-06-06T20:14:33.759Z"
   },
   {
    "duration": 314,
    "start_time": "2022-06-06T20:14:34.071Z"
   },
   {
    "duration": 20,
    "start_time": "2022-06-06T20:14:34.386Z"
   },
   {
    "duration": 38,
    "start_time": "2022-06-06T20:14:34.408Z"
   },
   {
    "duration": 26,
    "start_time": "2022-06-06T20:14:34.448Z"
   },
   {
    "duration": 52,
    "start_time": "2022-06-06T20:14:34.476Z"
   },
   {
    "duration": 136,
    "start_time": "2022-06-06T20:14:34.530Z"
   },
   {
    "duration": 0,
    "start_time": "2022-06-06T20:14:34.670Z"
   },
   {
    "duration": 0,
    "start_time": "2022-06-06T20:14:34.672Z"
   },
   {
    "duration": 0,
    "start_time": "2022-06-06T20:14:34.673Z"
   },
   {
    "duration": 0,
    "start_time": "2022-06-06T20:14:34.675Z"
   },
   {
    "duration": 0,
    "start_time": "2022-06-06T20:14:34.677Z"
   },
   {
    "duration": 0,
    "start_time": "2022-06-06T20:14:34.678Z"
   },
   {
    "duration": 0,
    "start_time": "2022-06-06T20:14:34.680Z"
   },
   {
    "duration": 0,
    "start_time": "2022-06-06T20:14:34.681Z"
   },
   {
    "duration": 0,
    "start_time": "2022-06-06T20:14:34.682Z"
   },
   {
    "duration": 0,
    "start_time": "2022-06-06T20:14:34.683Z"
   },
   {
    "duration": 0,
    "start_time": "2022-06-06T20:14:34.684Z"
   },
   {
    "duration": 0,
    "start_time": "2022-06-06T20:14:34.685Z"
   },
   {
    "duration": 0,
    "start_time": "2022-06-06T20:14:34.688Z"
   },
   {
    "duration": 0,
    "start_time": "2022-06-06T20:14:34.689Z"
   },
   {
    "duration": 0,
    "start_time": "2022-06-06T20:14:34.691Z"
   },
   {
    "duration": 0,
    "start_time": "2022-06-06T20:14:34.725Z"
   },
   {
    "duration": 31,
    "start_time": "2022-06-06T20:14:56.517Z"
   },
   {
    "duration": 878,
    "start_time": "2022-06-06T20:15:29.231Z"
   },
   {
    "duration": 231,
    "start_time": "2022-06-06T20:15:30.112Z"
   },
   {
    "duration": 35,
    "start_time": "2022-06-06T20:15:30.345Z"
   },
   {
    "duration": 195,
    "start_time": "2022-06-06T20:15:30.382Z"
   },
   {
    "duration": 28,
    "start_time": "2022-06-06T20:15:30.579Z"
   },
   {
    "duration": 137,
    "start_time": "2022-06-06T20:15:30.610Z"
   },
   {
    "duration": 19,
    "start_time": "2022-06-06T20:15:30.749Z"
   },
   {
    "duration": 22,
    "start_time": "2022-06-06T20:15:30.770Z"
   },
   {
    "duration": 13,
    "start_time": "2022-06-06T20:15:30.794Z"
   },
   {
    "duration": 35,
    "start_time": "2022-06-06T20:15:30.827Z"
   },
   {
    "duration": 18,
    "start_time": "2022-06-06T20:15:30.864Z"
   },
   {
    "duration": 44,
    "start_time": "2022-06-06T20:15:30.885Z"
   },
   {
    "duration": 63,
    "start_time": "2022-06-06T20:15:30.931Z"
   },
   {
    "duration": 75,
    "start_time": "2022-06-06T20:15:30.996Z"
   },
   {
    "duration": 635,
    "start_time": "2022-06-06T20:15:31.073Z"
   },
   {
    "duration": 471,
    "start_time": "2022-06-06T20:15:31.709Z"
   },
   {
    "duration": 299,
    "start_time": "2022-06-06T20:15:32.182Z"
   },
   {
    "duration": 283,
    "start_time": "2022-06-06T20:15:32.483Z"
   },
   {
    "duration": 19,
    "start_time": "2022-06-06T20:15:32.768Z"
   },
   {
    "duration": 40,
    "start_time": "2022-06-06T20:15:32.789Z"
   },
   {
    "duration": 22,
    "start_time": "2022-06-06T20:15:32.831Z"
   },
   {
    "duration": 27,
    "start_time": "2022-06-06T20:15:32.855Z"
   },
   {
    "duration": 8,
    "start_time": "2022-06-06T20:15:32.883Z"
   },
   {
    "duration": 32,
    "start_time": "2022-06-06T20:15:32.893Z"
   },
   {
    "duration": 9,
    "start_time": "2022-06-06T20:15:32.927Z"
   },
   {
    "duration": 8,
    "start_time": "2022-06-06T20:15:32.938Z"
   },
   {
    "duration": 7,
    "start_time": "2022-06-06T20:15:32.947Z"
   },
   {
    "duration": 8,
    "start_time": "2022-06-06T20:15:32.957Z"
   },
   {
    "duration": 117,
    "start_time": "2022-06-06T20:15:32.966Z"
   },
   {
    "duration": 364,
    "start_time": "2022-06-06T20:15:33.085Z"
   },
   {
    "duration": 270,
    "start_time": "2022-06-06T20:15:33.450Z"
   },
   {
    "duration": 324,
    "start_time": "2022-06-06T20:15:33.725Z"
   },
   {
    "duration": 394,
    "start_time": "2022-06-06T20:15:34.051Z"
   },
   {
    "duration": 13,
    "start_time": "2022-06-06T20:15:34.447Z"
   },
   {
    "duration": 3,
    "start_time": "2022-06-06T20:15:34.462Z"
   },
   {
    "duration": 13,
    "start_time": "2022-06-06T20:15:34.467Z"
   },
   {
    "duration": 10,
    "start_time": "2022-06-06T20:15:34.481Z"
   },
   {
    "duration": 6,
    "start_time": "2022-06-06T20:15:34.526Z"
   },
   {
    "duration": 7,
    "start_time": "2022-06-06T20:15:34.534Z"
   },
   {
    "duration": 21,
    "start_time": "2022-06-06T20:15:50.839Z"
   },
   {
    "duration": 983,
    "start_time": "2022-06-06T20:26:00.368Z"
   },
   {
    "duration": 325,
    "start_time": "2022-06-06T20:26:01.354Z"
   },
   {
    "duration": 22,
    "start_time": "2022-06-06T20:26:01.681Z"
   },
   {
    "duration": 249,
    "start_time": "2022-06-06T20:26:01.724Z"
   },
   {
    "duration": 29,
    "start_time": "2022-06-06T20:26:01.975Z"
   },
   {
    "duration": 179,
    "start_time": "2022-06-06T20:26:02.007Z"
   },
   {
    "duration": 24,
    "start_time": "2022-06-06T20:26:02.188Z"
   },
   {
    "duration": 25,
    "start_time": "2022-06-06T20:26:02.225Z"
   },
   {
    "duration": 17,
    "start_time": "2022-06-06T20:26:02.252Z"
   },
   {
    "duration": 46,
    "start_time": "2022-06-06T20:26:02.273Z"
   },
   {
    "duration": 14,
    "start_time": "2022-06-06T20:26:02.321Z"
   },
   {
    "duration": 21,
    "start_time": "2022-06-06T20:26:02.337Z"
   },
   {
    "duration": 81,
    "start_time": "2022-06-06T20:26:02.360Z"
   },
   {
    "duration": 113,
    "start_time": "2022-06-06T20:26:02.443Z"
   },
   {
    "duration": 734,
    "start_time": "2022-06-06T20:26:02.558Z"
   },
   {
    "duration": 487,
    "start_time": "2022-06-06T20:26:03.294Z"
   },
   {
    "duration": 335,
    "start_time": "2022-06-06T20:26:03.783Z"
   },
   {
    "duration": 428,
    "start_time": "2022-06-06T20:26:04.120Z"
   },
   {
    "duration": 27,
    "start_time": "2022-06-06T20:26:04.550Z"
   },
   {
    "duration": 46,
    "start_time": "2022-06-06T20:26:04.579Z"
   },
   {
    "duration": 38,
    "start_time": "2022-06-06T20:26:04.628Z"
   },
   {
    "duration": 33,
    "start_time": "2022-06-06T20:26:04.668Z"
   },
   {
    "duration": 9,
    "start_time": "2022-06-06T20:26:04.726Z"
   },
   {
    "duration": 17,
    "start_time": "2022-06-06T20:26:04.737Z"
   },
   {
    "duration": 22,
    "start_time": "2022-06-06T20:26:04.756Z"
   },
   {
    "duration": 9,
    "start_time": "2022-06-06T20:26:04.780Z"
   },
   {
    "duration": 8,
    "start_time": "2022-06-06T20:26:04.791Z"
   },
   {
    "duration": 33,
    "start_time": "2022-06-06T20:26:04.808Z"
   },
   {
    "duration": 16,
    "start_time": "2022-06-06T20:26:04.844Z"
   },
   {
    "duration": 220,
    "start_time": "2022-06-06T20:26:04.862Z"
   },
   {
    "duration": 420,
    "start_time": "2022-06-06T20:26:05.085Z"
   },
   {
    "duration": 390,
    "start_time": "2022-06-06T20:26:05.510Z"
   },
   {
    "duration": 414,
    "start_time": "2022-06-06T20:26:05.902Z"
   },
   {
    "duration": 518,
    "start_time": "2022-06-06T20:26:06.325Z"
   },
   {
    "duration": 15,
    "start_time": "2022-06-06T20:26:06.845Z"
   },
   {
    "duration": 5,
    "start_time": "2022-06-06T20:26:06.862Z"
   },
   {
    "duration": 14,
    "start_time": "2022-06-06T20:26:06.868Z"
   },
   {
    "duration": 12,
    "start_time": "2022-06-06T20:26:06.884Z"
   },
   {
    "duration": 29,
    "start_time": "2022-06-06T20:26:06.898Z"
   },
   {
    "duration": 25,
    "start_time": "2022-06-06T20:26:06.928Z"
   },
   {
    "duration": 913,
    "start_time": "2022-06-06T20:28:41.220Z"
   },
   {
    "duration": 216,
    "start_time": "2022-06-06T20:28:42.136Z"
   },
   {
    "duration": 21,
    "start_time": "2022-06-06T20:28:42.354Z"
   },
   {
    "duration": 179,
    "start_time": "2022-06-06T20:28:42.378Z"
   },
   {
    "duration": 16,
    "start_time": "2022-06-06T20:28:42.559Z"
   },
   {
    "duration": 117,
    "start_time": "2022-06-06T20:28:42.577Z"
   },
   {
    "duration": 29,
    "start_time": "2022-06-06T20:28:42.696Z"
   },
   {
    "duration": 21,
    "start_time": "2022-06-06T20:28:42.727Z"
   },
   {
    "duration": 12,
    "start_time": "2022-06-06T20:28:42.750Z"
   },
   {
    "duration": 43,
    "start_time": "2022-06-06T20:28:42.765Z"
   },
   {
    "duration": 13,
    "start_time": "2022-06-06T20:28:42.810Z"
   },
   {
    "duration": 17,
    "start_time": "2022-06-06T20:28:42.824Z"
   },
   {
    "duration": 55,
    "start_time": "2022-06-06T20:28:42.843Z"
   },
   {
    "duration": 74,
    "start_time": "2022-06-06T20:28:42.900Z"
   },
   {
    "duration": 658,
    "start_time": "2022-06-06T20:28:42.976Z"
   },
   {
    "duration": 364,
    "start_time": "2022-06-06T20:28:43.636Z"
   },
   {
    "duration": 301,
    "start_time": "2022-06-06T20:28:44.001Z"
   },
   {
    "duration": 396,
    "start_time": "2022-06-06T20:28:44.304Z"
   },
   {
    "duration": 33,
    "start_time": "2022-06-06T20:28:44.703Z"
   },
   {
    "duration": 30,
    "start_time": "2022-06-06T20:28:44.738Z"
   },
   {
    "duration": 28,
    "start_time": "2022-06-06T20:28:44.771Z"
   },
   {
    "duration": 37,
    "start_time": "2022-06-06T20:28:44.825Z"
   },
   {
    "duration": 11,
    "start_time": "2022-06-06T20:28:44.865Z"
   },
   {
    "duration": 11,
    "start_time": "2022-06-06T20:28:44.879Z"
   },
   {
    "duration": 39,
    "start_time": "2022-06-06T20:28:44.892Z"
   },
   {
    "duration": 5,
    "start_time": "2022-06-06T20:28:44.933Z"
   },
   {
    "duration": 9,
    "start_time": "2022-06-06T20:28:44.941Z"
   },
   {
    "duration": 36,
    "start_time": "2022-06-06T20:28:44.955Z"
   },
   {
    "duration": 5,
    "start_time": "2022-06-06T20:28:44.993Z"
   },
   {
    "duration": 200,
    "start_time": "2022-06-06T20:28:45.001Z"
   },
   {
    "duration": 369,
    "start_time": "2022-06-06T20:28:45.203Z"
   },
   {
    "duration": 265,
    "start_time": "2022-06-06T20:28:45.574Z"
   },
   {
    "duration": 329,
    "start_time": "2022-06-06T20:28:45.840Z"
   },
   {
    "duration": 412,
    "start_time": "2022-06-06T20:28:46.170Z"
   },
   {
    "duration": 15,
    "start_time": "2022-06-06T20:28:46.584Z"
   },
   {
    "duration": 3,
    "start_time": "2022-06-06T20:28:46.601Z"
   },
   {
    "duration": 31,
    "start_time": "2022-06-06T20:28:46.605Z"
   },
   {
    "duration": 11,
    "start_time": "2022-06-06T20:28:46.639Z"
   },
   {
    "duration": 7,
    "start_time": "2022-06-06T20:28:46.652Z"
   },
   {
    "duration": 7,
    "start_time": "2022-06-06T20:28:46.661Z"
   },
   {
    "duration": 1183,
    "start_time": "2022-06-06T20:32:26.556Z"
   },
   {
    "duration": 210,
    "start_time": "2022-06-06T20:32:27.741Z"
   },
   {
    "duration": 29,
    "start_time": "2022-06-06T20:32:27.953Z"
   },
   {
    "duration": 248,
    "start_time": "2022-06-06T20:32:27.985Z"
   },
   {
    "duration": 20,
    "start_time": "2022-06-06T20:32:28.235Z"
   },
   {
    "duration": 125,
    "start_time": "2022-06-06T20:32:28.257Z"
   },
   {
    "duration": 17,
    "start_time": "2022-06-06T20:32:28.385Z"
   },
   {
    "duration": 24,
    "start_time": "2022-06-06T20:32:28.404Z"
   },
   {
    "duration": 15,
    "start_time": "2022-06-06T20:32:28.431Z"
   },
   {
    "duration": 41,
    "start_time": "2022-06-06T20:32:28.449Z"
   },
   {
    "duration": 13,
    "start_time": "2022-06-06T20:32:28.492Z"
   },
   {
    "duration": 12,
    "start_time": "2022-06-06T20:32:28.524Z"
   },
   {
    "duration": 56,
    "start_time": "2022-06-06T20:32:28.537Z"
   },
   {
    "duration": 82,
    "start_time": "2022-06-06T20:32:28.595Z"
   },
   {
    "duration": 338,
    "start_time": "2022-06-06T20:32:28.679Z"
   },
   {
    "duration": 424,
    "start_time": "2022-06-06T20:32:29.025Z"
   },
   {
    "duration": 299,
    "start_time": "2022-06-06T20:32:29.452Z"
   },
   {
    "duration": 308,
    "start_time": "2022-06-06T20:32:29.753Z"
   },
   {
    "duration": 21,
    "start_time": "2022-06-06T20:32:30.063Z"
   },
   {
    "duration": 53,
    "start_time": "2022-06-06T20:32:30.085Z"
   },
   {
    "duration": 27,
    "start_time": "2022-06-06T20:32:30.140Z"
   },
   {
    "duration": 29,
    "start_time": "2022-06-06T20:32:30.169Z"
   },
   {
    "duration": 32,
    "start_time": "2022-06-06T20:32:30.200Z"
   },
   {
    "duration": 7,
    "start_time": "2022-06-06T20:32:30.235Z"
   },
   {
    "duration": 16,
    "start_time": "2022-06-06T20:32:30.244Z"
   },
   {
    "duration": 6,
    "start_time": "2022-06-06T20:32:30.262Z"
   },
   {
    "duration": 10,
    "start_time": "2022-06-06T20:32:30.270Z"
   },
   {
    "duration": 57,
    "start_time": "2022-06-06T20:32:30.284Z"
   },
   {
    "duration": 9,
    "start_time": "2022-06-06T20:32:30.343Z"
   },
   {
    "duration": 137,
    "start_time": "2022-06-06T20:32:30.354Z"
   },
   {
    "duration": 287,
    "start_time": "2022-06-06T20:32:30.493Z"
   },
   {
    "duration": 337,
    "start_time": "2022-06-06T20:32:30.782Z"
   },
   {
    "duration": 512,
    "start_time": "2022-06-06T20:32:31.120Z"
   },
   {
    "duration": 360,
    "start_time": "2022-06-06T20:32:31.634Z"
   },
   {
    "duration": 33,
    "start_time": "2022-06-06T20:32:31.996Z"
   },
   {
    "duration": 4,
    "start_time": "2022-06-06T20:32:32.032Z"
   },
   {
    "duration": 25,
    "start_time": "2022-06-06T20:32:32.039Z"
   },
   {
    "duration": 25,
    "start_time": "2022-06-06T20:32:32.067Z"
   },
   {
    "duration": 13,
    "start_time": "2022-06-06T20:32:32.095Z"
   },
   {
    "duration": 35,
    "start_time": "2022-06-06T20:32:32.110Z"
   },
   {
    "duration": 283,
    "start_time": "2022-06-06T20:33:15.616Z"
   },
   {
    "duration": 225,
    "start_time": "2022-06-06T20:33:46.855Z"
   },
   {
    "duration": 177,
    "start_time": "2022-06-06T22:05:37.176Z"
   },
   {
    "duration": 126,
    "start_time": "2022-06-06T22:06:17.427Z"
   },
   {
    "duration": 11,
    "start_time": "2022-06-06T22:06:24.275Z"
   },
   {
    "duration": 10,
    "start_time": "2022-06-06T22:06:46.937Z"
   },
   {
    "duration": 57184,
    "start_time": "2022-06-06T22:07:14.309Z"
   },
   {
    "duration": 145,
    "start_time": "2022-06-06T22:08:54.876Z"
   },
   {
    "duration": 140,
    "start_time": "2022-06-06T22:09:22.140Z"
   },
   {
    "duration": 164,
    "start_time": "2022-06-06T22:09:42.730Z"
   },
   {
    "duration": 155,
    "start_time": "2022-06-06T22:10:40.996Z"
   },
   {
    "duration": 129,
    "start_time": "2022-06-06T22:11:20.570Z"
   },
   {
    "duration": 16,
    "start_time": "2022-06-06T22:12:32.874Z"
   },
   {
    "duration": 161,
    "start_time": "2022-06-06T22:12:49.649Z"
   },
   {
    "duration": 166,
    "start_time": "2022-06-06T22:13:28.400Z"
   },
   {
    "duration": 157,
    "start_time": "2022-06-06T22:14:03.009Z"
   },
   {
    "duration": 154,
    "start_time": "2022-06-06T22:14:55.212Z"
   },
   {
    "duration": 143,
    "start_time": "2022-06-06T22:15:56.470Z"
   },
   {
    "duration": 147,
    "start_time": "2022-06-06T22:16:16.771Z"
   },
   {
    "duration": 1213,
    "start_time": "2022-06-06T22:16:29.972Z"
   },
   {
    "duration": 232,
    "start_time": "2022-06-06T22:16:31.187Z"
   },
   {
    "duration": 31,
    "start_time": "2022-06-06T22:16:31.427Z"
   },
   {
    "duration": 213,
    "start_time": "2022-06-06T22:16:31.460Z"
   },
   {
    "duration": 18,
    "start_time": "2022-06-06T22:16:31.674Z"
   },
   {
    "duration": 174,
    "start_time": "2022-06-06T22:16:31.694Z"
   },
   {
    "duration": 24,
    "start_time": "2022-06-06T22:16:31.870Z"
   },
   {
    "duration": 38,
    "start_time": "2022-06-06T22:16:31.897Z"
   },
   {
    "duration": 24,
    "start_time": "2022-06-06T22:16:31.937Z"
   },
   {
    "duration": 47,
    "start_time": "2022-06-06T22:16:31.964Z"
   },
   {
    "duration": 14,
    "start_time": "2022-06-06T22:16:32.013Z"
   },
   {
    "duration": 48,
    "start_time": "2022-06-06T22:16:32.029Z"
   },
   {
    "duration": 89,
    "start_time": "2022-06-06T22:16:32.078Z"
   },
   {
    "duration": 86,
    "start_time": "2022-06-06T22:16:32.169Z"
   },
   {
    "duration": 341,
    "start_time": "2022-06-06T22:16:32.258Z"
   },
   {
    "duration": 396,
    "start_time": "2022-06-06T22:16:32.600Z"
   },
   {
    "duration": 313,
    "start_time": "2022-06-06T22:16:32.998Z"
   },
   {
    "duration": 334,
    "start_time": "2022-06-06T22:16:33.313Z"
   },
   {
    "duration": 18,
    "start_time": "2022-06-06T22:16:33.649Z"
   },
   {
    "duration": 19,
    "start_time": "2022-06-06T22:16:33.669Z"
   },
   {
    "duration": 58,
    "start_time": "2022-06-06T22:16:33.689Z"
   },
   {
    "duration": 28,
    "start_time": "2022-06-06T22:16:33.749Z"
   },
   {
    "duration": 19,
    "start_time": "2022-06-06T22:16:33.779Z"
   },
   {
    "duration": 19,
    "start_time": "2022-06-06T22:16:33.800Z"
   },
   {
    "duration": 32,
    "start_time": "2022-06-06T22:16:33.821Z"
   },
   {
    "duration": 5,
    "start_time": "2022-06-06T22:16:33.855Z"
   },
   {
    "duration": 30,
    "start_time": "2022-06-06T22:16:33.861Z"
   },
   {
    "duration": 20,
    "start_time": "2022-06-06T22:16:33.895Z"
   },
   {
    "duration": 21,
    "start_time": "2022-06-06T22:16:33.916Z"
   },
   {
    "duration": 129,
    "start_time": "2022-06-06T22:16:33.939Z"
   },
   {
    "duration": 292,
    "start_time": "2022-06-06T22:16:34.069Z"
   },
   {
    "duration": 290,
    "start_time": "2022-06-06T22:16:34.362Z"
   },
   {
    "duration": 421,
    "start_time": "2022-06-06T22:16:34.654Z"
   },
   {
    "duration": 258,
    "start_time": "2022-06-06T22:16:35.076Z"
   },
   {
    "duration": 17,
    "start_time": "2022-06-06T22:16:35.337Z"
   },
   {
    "duration": 11,
    "start_time": "2022-06-06T22:16:35.356Z"
   },
   {
    "duration": 8,
    "start_time": "2022-06-06T22:16:35.368Z"
   },
   {
    "duration": 7,
    "start_time": "2022-06-06T22:16:35.377Z"
   },
   {
    "duration": 194,
    "start_time": "2022-06-06T22:16:35.386Z"
   },
   {
    "duration": 174,
    "start_time": "2022-06-06T22:16:35.582Z"
   },
   {
    "duration": 155,
    "start_time": "2022-06-06T22:16:35.758Z"
   },
   {
    "duration": 1207,
    "start_time": "2022-06-06T22:22:07.281Z"
   },
   {
    "duration": 229,
    "start_time": "2022-06-06T22:22:08.490Z"
   },
   {
    "duration": 32,
    "start_time": "2022-06-06T22:22:08.724Z"
   },
   {
    "duration": 204,
    "start_time": "2022-06-06T22:22:08.758Z"
   },
   {
    "duration": 17,
    "start_time": "2022-06-06T22:22:08.964Z"
   },
   {
    "duration": 132,
    "start_time": "2022-06-06T22:22:08.982Z"
   },
   {
    "duration": 22,
    "start_time": "2022-06-06T22:22:09.115Z"
   },
   {
    "duration": 21,
    "start_time": "2022-06-06T22:22:09.140Z"
   },
   {
    "duration": 10,
    "start_time": "2022-06-06T22:22:09.163Z"
   },
   {
    "duration": 38,
    "start_time": "2022-06-06T22:22:09.176Z"
   },
   {
    "duration": 12,
    "start_time": "2022-06-06T22:22:09.215Z"
   },
   {
    "duration": 25,
    "start_time": "2022-06-06T22:22:09.230Z"
   },
   {
    "duration": 53,
    "start_time": "2022-06-06T22:22:09.257Z"
   },
   {
    "duration": 78,
    "start_time": "2022-06-06T22:22:09.311Z"
   },
   {
    "duration": 361,
    "start_time": "2022-06-06T22:22:09.391Z"
   },
   {
    "duration": 415,
    "start_time": "2022-06-06T22:22:09.755Z"
   },
   {
    "duration": 306,
    "start_time": "2022-06-06T22:22:10.171Z"
   },
   {
    "duration": 316,
    "start_time": "2022-06-06T22:22:10.479Z"
   },
   {
    "duration": 18,
    "start_time": "2022-06-06T22:22:10.796Z"
   },
   {
    "duration": 22,
    "start_time": "2022-06-06T22:22:10.828Z"
   },
   {
    "duration": 30,
    "start_time": "2022-06-06T22:22:10.853Z"
   },
   {
    "duration": 55,
    "start_time": "2022-06-06T22:22:10.885Z"
   },
   {
    "duration": 10,
    "start_time": "2022-06-06T22:22:10.942Z"
   },
   {
    "duration": 9,
    "start_time": "2022-06-06T22:22:10.955Z"
   },
   {
    "duration": 17,
    "start_time": "2022-06-06T22:22:10.965Z"
   },
   {
    "duration": 5,
    "start_time": "2022-06-06T22:22:10.985Z"
   },
   {
    "duration": 12,
    "start_time": "2022-06-06T22:22:10.992Z"
   },
   {
    "duration": 26,
    "start_time": "2022-06-06T22:22:11.030Z"
   },
   {
    "duration": 5,
    "start_time": "2022-06-06T22:22:11.057Z"
   },
   {
    "duration": 139,
    "start_time": "2022-06-06T22:22:11.064Z"
   },
   {
    "duration": 287,
    "start_time": "2022-06-06T22:22:11.205Z"
   },
   {
    "duration": 260,
    "start_time": "2022-06-06T22:22:11.493Z"
   },
   {
    "duration": 379,
    "start_time": "2022-06-06T22:22:11.755Z"
   },
   {
    "duration": 250,
    "start_time": "2022-06-06T22:22:12.136Z"
   },
   {
    "duration": 12,
    "start_time": "2022-06-06T22:22:12.388Z"
   },
   {
    "duration": 32,
    "start_time": "2022-06-06T22:22:12.402Z"
   },
   {
    "duration": 13,
    "start_time": "2022-06-06T22:22:12.436Z"
   },
   {
    "duration": 10,
    "start_time": "2022-06-06T22:22:12.451Z"
   },
   {
    "duration": 173,
    "start_time": "2022-06-06T22:22:12.463Z"
   },
   {
    "duration": 177,
    "start_time": "2022-06-06T22:22:12.638Z"
   },
   {
    "duration": 159,
    "start_time": "2022-06-06T22:22:12.817Z"
   },
   {
    "duration": 156,
    "start_time": "2022-06-07T19:32:12.723Z"
   },
   {
    "duration": 1796,
    "start_time": "2022-06-07T20:07:48.360Z"
   },
   {
    "duration": 255,
    "start_time": "2022-06-07T20:07:50.157Z"
   },
   {
    "duration": 19,
    "start_time": "2022-06-07T20:07:50.413Z"
   },
   {
    "duration": 346,
    "start_time": "2022-06-07T20:07:50.435Z"
   },
   {
    "duration": 18,
    "start_time": "2022-06-07T20:07:50.782Z"
   },
   {
    "duration": 316,
    "start_time": "2022-06-07T20:07:50.802Z"
   },
   {
    "duration": 14,
    "start_time": "2022-06-07T20:07:51.119Z"
   },
   {
    "duration": 67,
    "start_time": "2022-06-07T20:07:51.135Z"
   },
   {
    "duration": 10,
    "start_time": "2022-06-07T20:07:51.204Z"
   },
   {
    "duration": 88,
    "start_time": "2022-06-07T20:07:51.217Z"
   },
   {
    "duration": 10,
    "start_time": "2022-06-07T20:07:51.307Z"
   },
   {
    "duration": 12,
    "start_time": "2022-06-07T20:07:51.318Z"
   },
   {
    "duration": 51,
    "start_time": "2022-06-07T20:07:51.331Z"
   },
   {
    "duration": 74,
    "start_time": "2022-06-07T20:07:51.383Z"
   },
   {
    "duration": 340,
    "start_time": "2022-06-07T20:07:51.459Z"
   },
   {
    "duration": 317,
    "start_time": "2022-06-07T20:07:51.800Z"
   },
   {
    "duration": 239,
    "start_time": "2022-06-07T20:07:52.118Z"
   },
   {
    "duration": 238,
    "start_time": "2022-06-07T20:07:52.359Z"
   },
   {
    "duration": 29,
    "start_time": "2022-06-07T20:07:52.599Z"
   },
   {
    "duration": 20,
    "start_time": "2022-06-07T20:07:52.629Z"
   },
   {
    "duration": 21,
    "start_time": "2022-06-07T20:07:52.651Z"
   },
   {
    "duration": 24,
    "start_time": "2022-06-07T20:07:52.674Z"
   },
   {
    "duration": 34,
    "start_time": "2022-06-07T20:07:52.699Z"
   },
   {
    "duration": 9,
    "start_time": "2022-06-07T20:07:52.734Z"
   },
   {
    "duration": 7,
    "start_time": "2022-06-07T20:07:52.745Z"
   },
   {
    "duration": 4,
    "start_time": "2022-06-07T20:07:52.754Z"
   },
   {
    "duration": 7,
    "start_time": "2022-06-07T20:07:52.759Z"
   },
   {
    "duration": 18,
    "start_time": "2022-06-07T20:07:52.769Z"
   },
   {
    "duration": 12,
    "start_time": "2022-06-07T20:07:52.788Z"
   },
   {
    "duration": 120,
    "start_time": "2022-06-07T20:07:52.801Z"
   },
   {
    "duration": 255,
    "start_time": "2022-06-07T20:07:52.923Z"
   },
   {
    "duration": 235,
    "start_time": "2022-06-07T20:07:53.180Z"
   },
   {
    "duration": 327,
    "start_time": "2022-06-07T20:07:53.417Z"
   },
   {
    "duration": 203,
    "start_time": "2022-06-07T20:07:53.746Z"
   },
   {
    "duration": 10,
    "start_time": "2022-06-07T20:07:53.951Z"
   },
   {
    "duration": 19,
    "start_time": "2022-06-07T20:07:53.963Z"
   },
   {
    "duration": 27,
    "start_time": "2022-06-07T20:07:53.983Z"
   },
   {
    "duration": 32,
    "start_time": "2022-06-07T20:07:54.011Z"
   },
   {
    "duration": 127,
    "start_time": "2022-06-07T20:07:54.045Z"
   },
   {
    "duration": 140,
    "start_time": "2022-06-07T20:07:54.174Z"
   },
   {
    "duration": 143,
    "start_time": "2022-06-07T20:07:54.316Z"
   },
   {
    "duration": 6,
    "start_time": "2022-06-07T20:19:11.554Z"
   },
   {
    "duration": 3,
    "start_time": "2022-06-07T20:19:19.419Z"
   },
   {
    "duration": 208,
    "start_time": "2022-06-07T20:19:19.424Z"
   },
   {
    "duration": 17,
    "start_time": "2022-06-07T20:19:19.634Z"
   },
   {
    "duration": 169,
    "start_time": "2022-06-07T20:19:19.653Z"
   },
   {
    "duration": 18,
    "start_time": "2022-06-07T20:19:19.823Z"
   },
   {
    "duration": 106,
    "start_time": "2022-06-07T20:19:19.842Z"
   },
   {
    "duration": 13,
    "start_time": "2022-06-07T20:19:19.950Z"
   },
   {
    "duration": 21,
    "start_time": "2022-06-07T20:19:19.965Z"
   },
   {
    "duration": 10,
    "start_time": "2022-06-07T20:19:19.989Z"
   },
   {
    "duration": 38,
    "start_time": "2022-06-07T20:19:20.000Z"
   },
   {
    "duration": 10,
    "start_time": "2022-06-07T20:19:20.039Z"
   },
   {
    "duration": 15,
    "start_time": "2022-06-07T20:19:20.051Z"
   },
   {
    "duration": 50,
    "start_time": "2022-06-07T20:19:20.068Z"
   },
   {
    "duration": 53,
    "start_time": "2022-06-07T20:19:20.119Z"
   },
   {
    "duration": 261,
    "start_time": "2022-06-07T20:19:20.174Z"
   },
   {
    "duration": 261,
    "start_time": "2022-06-07T20:19:20.436Z"
   },
   {
    "duration": 335,
    "start_time": "2022-06-07T20:19:20.698Z"
   },
   {
    "duration": 238,
    "start_time": "2022-06-07T20:19:21.035Z"
   },
   {
    "duration": 15,
    "start_time": "2022-06-07T20:19:21.275Z"
   },
   {
    "duration": 17,
    "start_time": "2022-06-07T20:19:21.291Z"
   },
   {
    "duration": 35,
    "start_time": "2022-06-07T20:19:21.309Z"
   },
   {
    "duration": 23,
    "start_time": "2022-06-07T20:19:21.345Z"
   },
   {
    "duration": 7,
    "start_time": "2022-06-07T20:19:21.369Z"
   },
   {
    "duration": 4,
    "start_time": "2022-06-07T20:19:21.379Z"
   },
   {
    "duration": 11,
    "start_time": "2022-06-07T20:19:21.384Z"
   },
   {
    "duration": 6,
    "start_time": "2022-06-07T20:19:21.396Z"
   },
   {
    "duration": 6,
    "start_time": "2022-06-07T20:19:21.428Z"
   },
   {
    "duration": 27,
    "start_time": "2022-06-07T20:19:21.436Z"
   },
   {
    "duration": 12,
    "start_time": "2022-06-07T20:19:21.466Z"
   },
   {
    "duration": 152,
    "start_time": "2022-06-07T20:19:21.480Z"
   },
   {
    "duration": 239,
    "start_time": "2022-06-07T20:19:21.634Z"
   },
   {
    "duration": 211,
    "start_time": "2022-06-07T20:19:21.875Z"
   },
   {
    "duration": 230,
    "start_time": "2022-06-07T20:19:22.088Z"
   },
   {
    "duration": 208,
    "start_time": "2022-06-07T20:19:22.320Z"
   },
   {
    "duration": 10,
    "start_time": "2022-06-07T20:19:22.529Z"
   },
   {
    "duration": 28,
    "start_time": "2022-06-07T20:19:22.541Z"
   },
   {
    "duration": 16,
    "start_time": "2022-06-07T20:19:22.570Z"
   },
   {
    "duration": 28,
    "start_time": "2022-06-07T20:19:22.588Z"
   },
   {
    "duration": 132,
    "start_time": "2022-06-07T20:19:22.618Z"
   },
   {
    "duration": 257,
    "start_time": "2022-06-07T20:19:22.751Z"
   },
   {
    "duration": 136,
    "start_time": "2022-06-07T20:19:23.010Z"
   },
   {
    "duration": 4,
    "start_time": "2022-06-07T20:19:45.799Z"
   },
   {
    "duration": 5,
    "start_time": "2022-06-07T20:19:48.547Z"
   },
   {
    "duration": 23,
    "start_time": "2022-06-07T20:20:03.008Z"
   },
   {
    "duration": 7,
    "start_time": "2022-06-07T20:20:22.916Z"
   },
   {
    "duration": 3,
    "start_time": "2022-06-07T20:20:26.872Z"
   },
   {
    "duration": 207,
    "start_time": "2022-06-07T20:20:26.877Z"
   },
   {
    "duration": 19,
    "start_time": "2022-06-07T20:20:27.085Z"
   },
   {
    "duration": 174,
    "start_time": "2022-06-07T20:20:27.106Z"
   },
   {
    "duration": 18,
    "start_time": "2022-06-07T20:20:27.281Z"
   },
   {
    "duration": 114,
    "start_time": "2022-06-07T20:20:27.300Z"
   },
   {
    "duration": 16,
    "start_time": "2022-06-07T20:20:27.415Z"
   },
   {
    "duration": 24,
    "start_time": "2022-06-07T20:20:27.432Z"
   },
   {
    "duration": 12,
    "start_time": "2022-06-07T20:20:27.459Z"
   },
   {
    "duration": 48,
    "start_time": "2022-06-07T20:20:27.474Z"
   },
   {
    "duration": 16,
    "start_time": "2022-06-07T20:20:27.524Z"
   },
   {
    "duration": 17,
    "start_time": "2022-06-07T20:20:27.542Z"
   },
   {
    "duration": 56,
    "start_time": "2022-06-07T20:20:27.560Z"
   },
   {
    "duration": 62,
    "start_time": "2022-06-07T20:20:27.617Z"
   },
   {
    "duration": 277,
    "start_time": "2022-06-07T20:20:27.681Z"
   },
   {
    "duration": 268,
    "start_time": "2022-06-07T20:20:27.960Z"
   },
   {
    "duration": 258,
    "start_time": "2022-06-07T20:20:28.230Z"
   },
   {
    "duration": 281,
    "start_time": "2022-06-07T20:20:28.490Z"
   },
   {
    "duration": 17,
    "start_time": "2022-06-07T20:20:28.773Z"
   },
   {
    "duration": 35,
    "start_time": "2022-06-07T20:20:28.792Z"
   },
   {
    "duration": 22,
    "start_time": "2022-06-07T20:20:28.829Z"
   },
   {
    "duration": 24,
    "start_time": "2022-06-07T20:20:28.853Z"
   },
   {
    "duration": 9,
    "start_time": "2022-06-07T20:20:28.879Z"
   },
   {
    "duration": 17,
    "start_time": "2022-06-07T20:20:28.891Z"
   },
   {
    "duration": 21,
    "start_time": "2022-06-07T20:20:28.910Z"
   },
   {
    "duration": 35,
    "start_time": "2022-06-07T20:20:28.932Z"
   },
   {
    "duration": 21,
    "start_time": "2022-06-07T20:20:28.969Z"
   },
   {
    "duration": 20,
    "start_time": "2022-06-07T20:20:28.991Z"
   },
   {
    "duration": 14,
    "start_time": "2022-06-07T20:20:29.012Z"
   },
   {
    "duration": 36,
    "start_time": "2022-06-07T20:20:29.027Z"
   },
   {
    "duration": 24,
    "start_time": "2022-06-07T20:20:29.064Z"
   },
   {
    "duration": 143,
    "start_time": "2022-06-07T20:20:29.090Z"
   },
   {
    "duration": 375,
    "start_time": "2022-06-07T20:20:29.235Z"
   },
   {
    "duration": 224,
    "start_time": "2022-06-07T20:20:29.612Z"
   },
   {
    "duration": 276,
    "start_time": "2022-06-07T20:20:29.838Z"
   },
   {
    "duration": 228,
    "start_time": "2022-06-07T20:20:30.116Z"
   },
   {
    "duration": 11,
    "start_time": "2022-06-07T20:20:30.346Z"
   },
   {
    "duration": 70,
    "start_time": "2022-06-07T20:20:30.359Z"
   },
   {
    "duration": 23,
    "start_time": "2022-06-07T20:20:30.431Z"
   },
   {
    "duration": 24,
    "start_time": "2022-06-07T20:20:30.456Z"
   },
   {
    "duration": 174,
    "start_time": "2022-06-07T20:20:30.482Z"
   },
   {
    "duration": 157,
    "start_time": "2022-06-07T20:20:30.659Z"
   },
   {
    "duration": 134,
    "start_time": "2022-06-07T20:20:30.826Z"
   },
   {
    "duration": 21,
    "start_time": "2022-06-07T20:20:55.430Z"
   },
   {
    "duration": 22,
    "start_time": "2022-06-07T20:23:20.064Z"
   },
   {
    "duration": 30,
    "start_time": "2022-06-07T20:23:43.003Z"
   },
   {
    "duration": 9,
    "start_time": "2022-06-07T20:24:00.339Z"
   },
   {
    "duration": 111,
    "start_time": "2022-06-07T20:27:32.661Z"
   },
   {
    "duration": 3,
    "start_time": "2022-06-07T20:27:53.851Z"
   },
   {
    "duration": 212,
    "start_time": "2022-06-07T20:27:53.857Z"
   },
   {
    "duration": 18,
    "start_time": "2022-06-07T20:27:54.071Z"
   },
   {
    "duration": 169,
    "start_time": "2022-06-07T20:27:54.091Z"
   },
   {
    "duration": 16,
    "start_time": "2022-06-07T20:27:54.263Z"
   },
   {
    "duration": 108,
    "start_time": "2022-06-07T20:27:54.282Z"
   },
   {
    "duration": 15,
    "start_time": "2022-06-07T20:27:54.392Z"
   },
   {
    "duration": 25,
    "start_time": "2022-06-07T20:27:54.409Z"
   },
   {
    "duration": 10,
    "start_time": "2022-06-07T20:27:54.437Z"
   },
   {
    "duration": 38,
    "start_time": "2022-06-07T20:27:54.449Z"
   },
   {
    "duration": 11,
    "start_time": "2022-06-07T20:27:54.489Z"
   },
   {
    "duration": 11,
    "start_time": "2022-06-07T20:27:54.502Z"
   },
   {
    "duration": 55,
    "start_time": "2022-06-07T20:27:54.514Z"
   },
   {
    "duration": 72,
    "start_time": "2022-06-07T20:27:54.573Z"
   },
   {
    "duration": 303,
    "start_time": "2022-06-07T20:27:54.647Z"
   },
   {
    "duration": 283,
    "start_time": "2022-06-07T20:27:54.952Z"
   },
   {
    "duration": 247,
    "start_time": "2022-06-07T20:27:55.237Z"
   },
   {
    "duration": 426,
    "start_time": "2022-06-07T20:27:55.488Z"
   },
   {
    "duration": 25,
    "start_time": "2022-06-07T20:27:55.916Z"
   },
   {
    "duration": 19,
    "start_time": "2022-06-07T20:27:55.943Z"
   },
   {
    "duration": 20,
    "start_time": "2022-06-07T20:27:55.964Z"
   },
   {
    "duration": 51,
    "start_time": "2022-06-07T20:27:55.985Z"
   },
   {
    "duration": 8,
    "start_time": "2022-06-07T20:27:56.038Z"
   },
   {
    "duration": 17,
    "start_time": "2022-06-07T20:27:56.047Z"
   },
   {
    "duration": 13,
    "start_time": "2022-06-07T20:27:56.065Z"
   },
   {
    "duration": 4,
    "start_time": "2022-06-07T20:27:56.080Z"
   },
   {
    "duration": 5,
    "start_time": "2022-06-07T20:27:56.085Z"
   },
   {
    "duration": 19,
    "start_time": "2022-06-07T20:27:56.092Z"
   },
   {
    "duration": 6,
    "start_time": "2022-06-07T20:27:56.128Z"
   },
   {
    "duration": 114,
    "start_time": "2022-06-07T20:27:56.135Z"
   },
   {
    "duration": 238,
    "start_time": "2022-06-07T20:27:56.251Z"
   },
   {
    "duration": 242,
    "start_time": "2022-06-07T20:27:56.491Z"
   },
   {
    "duration": 235,
    "start_time": "2022-06-07T20:27:56.735Z"
   },
   {
    "duration": 217,
    "start_time": "2022-06-07T20:27:56.971Z"
   },
   {
    "duration": 12,
    "start_time": "2022-06-07T20:27:57.190Z"
   },
   {
    "duration": 28,
    "start_time": "2022-06-07T20:27:57.204Z"
   },
   {
    "duration": 5,
    "start_time": "2022-06-07T20:27:57.234Z"
   },
   {
    "duration": 8,
    "start_time": "2022-06-07T20:27:57.240Z"
   },
   {
    "duration": 141,
    "start_time": "2022-06-07T20:27:57.250Z"
   },
   {
    "duration": 150,
    "start_time": "2022-06-07T20:27:57.393Z"
   },
   {
    "duration": 131,
    "start_time": "2022-06-07T20:27:57.547Z"
   },
   {
    "duration": 22,
    "start_time": "2022-06-07T20:28:05.712Z"
   },
   {
    "duration": 9,
    "start_time": "2022-06-07T20:28:34.747Z"
   },
   {
    "duration": 12,
    "start_time": "2022-06-07T20:28:38.735Z"
   },
   {
    "duration": 3,
    "start_time": "2022-06-07T20:32:42.059Z"
   },
   {
    "duration": 247,
    "start_time": "2022-06-07T20:32:42.064Z"
   },
   {
    "duration": 32,
    "start_time": "2022-06-07T20:32:42.313Z"
   },
   {
    "duration": 210,
    "start_time": "2022-06-07T20:32:42.347Z"
   },
   {
    "duration": 24,
    "start_time": "2022-06-07T20:32:42.558Z"
   },
   {
    "duration": 136,
    "start_time": "2022-06-07T20:32:42.584Z"
   },
   {
    "duration": 24,
    "start_time": "2022-06-07T20:32:42.726Z"
   },
   {
    "duration": 36,
    "start_time": "2022-06-07T20:32:42.752Z"
   },
   {
    "duration": 11,
    "start_time": "2022-06-07T20:32:42.791Z"
   },
   {
    "duration": 58,
    "start_time": "2022-06-07T20:32:42.804Z"
   },
   {
    "duration": 15,
    "start_time": "2022-06-07T20:32:42.865Z"
   },
   {
    "duration": 11,
    "start_time": "2022-06-07T20:32:42.882Z"
   },
   {
    "duration": 61,
    "start_time": "2022-06-07T20:32:42.895Z"
   },
   {
    "duration": 53,
    "start_time": "2022-06-07T20:32:42.958Z"
   },
   {
    "duration": 335,
    "start_time": "2022-06-07T20:32:43.013Z"
   },
   {
    "duration": 326,
    "start_time": "2022-06-07T20:32:43.350Z"
   },
   {
    "duration": 477,
    "start_time": "2022-06-07T20:32:43.677Z"
   },
   {
    "duration": 302,
    "start_time": "2022-06-07T20:32:44.155Z"
   },
   {
    "duration": 17,
    "start_time": "2022-06-07T20:32:44.459Z"
   },
   {
    "duration": 21,
    "start_time": "2022-06-07T20:32:44.478Z"
   },
   {
    "duration": 48,
    "start_time": "2022-06-07T20:32:44.501Z"
   },
   {
    "duration": 30,
    "start_time": "2022-06-07T20:32:44.552Z"
   },
   {
    "duration": 10,
    "start_time": "2022-06-07T20:32:44.585Z"
   },
   {
    "duration": 8,
    "start_time": "2022-06-07T20:32:44.634Z"
   },
   {
    "duration": 36,
    "start_time": "2022-06-07T20:32:44.645Z"
   },
   {
    "duration": 14,
    "start_time": "2022-06-07T20:32:44.683Z"
   },
   {
    "duration": 5,
    "start_time": "2022-06-07T20:32:44.700Z"
   },
   {
    "duration": 29,
    "start_time": "2022-06-07T20:32:44.707Z"
   },
   {
    "duration": 35,
    "start_time": "2022-06-07T20:32:44.742Z"
   },
   {
    "duration": 6,
    "start_time": "2022-06-07T20:32:44.780Z"
   },
   {
    "duration": 144,
    "start_time": "2022-06-07T20:32:44.788Z"
   },
   {
    "duration": 307,
    "start_time": "2022-06-07T20:32:44.939Z"
   },
   {
    "duration": 260,
    "start_time": "2022-06-07T20:32:45.249Z"
   },
   {
    "duration": 308,
    "start_time": "2022-06-07T20:32:45.512Z"
   },
   {
    "duration": 278,
    "start_time": "2022-06-07T20:32:45.822Z"
   },
   {
    "duration": 13,
    "start_time": "2022-06-07T20:32:46.102Z"
   },
   {
    "duration": 17,
    "start_time": "2022-06-07T20:32:46.132Z"
   },
   {
    "duration": 6,
    "start_time": "2022-06-07T20:32:46.152Z"
   },
   {
    "duration": 8,
    "start_time": "2022-06-07T20:32:46.160Z"
   },
   {
    "duration": 191,
    "start_time": "2022-06-07T20:32:46.170Z"
   },
   {
    "duration": 171,
    "start_time": "2022-06-07T20:32:46.363Z"
   },
   {
    "duration": 160,
    "start_time": "2022-06-07T20:32:46.536Z"
   },
   {
    "duration": 6,
    "start_time": "2022-06-07T20:35:37.718Z"
   },
   {
    "duration": 5,
    "start_time": "2022-06-07T20:35:42.595Z"
   },
   {
    "duration": 11,
    "start_time": "2022-06-07T20:39:26.918Z"
   },
   {
    "duration": 12,
    "start_time": "2022-06-07T20:39:30.072Z"
   },
   {
    "duration": 7,
    "start_time": "2022-06-07T20:39:35.816Z"
   },
   {
    "duration": 15,
    "start_time": "2022-06-07T20:39:39.388Z"
   },
   {
    "duration": 9,
    "start_time": "2022-06-07T20:40:18.942Z"
   },
   {
    "duration": 7,
    "start_time": "2022-06-07T20:40:27.378Z"
   },
   {
    "duration": 8,
    "start_time": "2022-06-07T20:40:33.059Z"
   },
   {
    "duration": 8,
    "start_time": "2022-06-07T20:40:41.240Z"
   },
   {
    "duration": 3,
    "start_time": "2022-06-07T20:43:00.110Z"
   },
   {
    "duration": 217,
    "start_time": "2022-06-07T20:43:00.116Z"
   },
   {
    "duration": 17,
    "start_time": "2022-06-07T20:43:00.335Z"
   },
   {
    "duration": 206,
    "start_time": "2022-06-07T20:43:00.355Z"
   },
   {
    "duration": 23,
    "start_time": "2022-06-07T20:43:00.563Z"
   },
   {
    "duration": 140,
    "start_time": "2022-06-07T20:43:00.588Z"
   },
   {
    "duration": 14,
    "start_time": "2022-06-07T20:43:00.730Z"
   },
   {
    "duration": 55,
    "start_time": "2022-06-07T20:43:00.746Z"
   },
   {
    "duration": 20,
    "start_time": "2022-06-07T20:43:00.802Z"
   },
   {
    "duration": 54,
    "start_time": "2022-06-07T20:43:00.825Z"
   },
   {
    "duration": 22,
    "start_time": "2022-06-07T20:43:00.881Z"
   },
   {
    "duration": 28,
    "start_time": "2022-06-07T20:43:00.906Z"
   },
   {
    "duration": 84,
    "start_time": "2022-06-07T20:43:00.936Z"
   },
   {
    "duration": 54,
    "start_time": "2022-06-07T20:43:01.022Z"
   },
   {
    "duration": 270,
    "start_time": "2022-06-07T20:43:01.078Z"
   },
   {
    "duration": 527,
    "start_time": "2022-06-07T20:43:01.349Z"
   },
   {
    "duration": 276,
    "start_time": "2022-06-07T20:43:01.878Z"
   },
   {
    "duration": 260,
    "start_time": "2022-06-07T20:43:02.156Z"
   },
   {
    "duration": 23,
    "start_time": "2022-06-07T20:43:02.418Z"
   },
   {
    "duration": 12,
    "start_time": "2022-06-07T20:43:02.443Z"
   },
   {
    "duration": 0,
    "start_time": "2022-06-07T20:43:02.457Z"
   },
   {
    "duration": 0,
    "start_time": "2022-06-07T20:43:02.458Z"
   },
   {
    "duration": 0,
    "start_time": "2022-06-07T20:43:02.459Z"
   },
   {
    "duration": 0,
    "start_time": "2022-06-07T20:43:02.460Z"
   },
   {
    "duration": 0,
    "start_time": "2022-06-07T20:43:02.461Z"
   },
   {
    "duration": 0,
    "start_time": "2022-06-07T20:43:02.462Z"
   },
   {
    "duration": 0,
    "start_time": "2022-06-07T20:43:02.463Z"
   },
   {
    "duration": 0,
    "start_time": "2022-06-07T20:43:02.464Z"
   },
   {
    "duration": 0,
    "start_time": "2022-06-07T20:43:02.465Z"
   },
   {
    "duration": 0,
    "start_time": "2022-06-07T20:43:02.466Z"
   },
   {
    "duration": 0,
    "start_time": "2022-06-07T20:43:02.467Z"
   },
   {
    "duration": 0,
    "start_time": "2022-06-07T20:43:02.468Z"
   },
   {
    "duration": 0,
    "start_time": "2022-06-07T20:43:02.469Z"
   },
   {
    "duration": 0,
    "start_time": "2022-06-07T20:43:02.470Z"
   },
   {
    "duration": 0,
    "start_time": "2022-06-07T20:43:02.471Z"
   },
   {
    "duration": 0,
    "start_time": "2022-06-07T20:43:02.472Z"
   },
   {
    "duration": 0,
    "start_time": "2022-06-07T20:43:02.473Z"
   },
   {
    "duration": 0,
    "start_time": "2022-06-07T20:43:02.474Z"
   },
   {
    "duration": 0,
    "start_time": "2022-06-07T20:43:02.475Z"
   },
   {
    "duration": 0,
    "start_time": "2022-06-07T20:43:02.475Z"
   },
   {
    "duration": 0,
    "start_time": "2022-06-07T20:43:02.476Z"
   },
   {
    "duration": 0,
    "start_time": "2022-06-07T20:43:02.477Z"
   },
   {
    "duration": 0,
    "start_time": "2022-06-07T20:43:02.478Z"
   },
   {
    "duration": 0,
    "start_time": "2022-06-07T20:43:02.479Z"
   },
   {
    "duration": 0,
    "start_time": "2022-06-07T20:43:02.480Z"
   },
   {
    "duration": 8,
    "start_time": "2022-06-07T20:43:30.941Z"
   },
   {
    "duration": 14,
    "start_time": "2022-06-07T20:43:37.772Z"
   },
   {
    "duration": 3,
    "start_time": "2022-06-07T20:43:46.868Z"
   },
   {
    "duration": 228,
    "start_time": "2022-06-07T20:43:46.873Z"
   },
   {
    "duration": 24,
    "start_time": "2022-06-07T20:43:47.103Z"
   },
   {
    "duration": 180,
    "start_time": "2022-06-07T20:43:47.129Z"
   },
   {
    "duration": 28,
    "start_time": "2022-06-07T20:43:47.311Z"
   },
   {
    "duration": 131,
    "start_time": "2022-06-07T20:43:47.341Z"
   },
   {
    "duration": 14,
    "start_time": "2022-06-07T20:43:47.473Z"
   },
   {
    "duration": 21,
    "start_time": "2022-06-07T20:43:47.489Z"
   },
   {
    "duration": 20,
    "start_time": "2022-06-07T20:43:47.513Z"
   },
   {
    "duration": 52,
    "start_time": "2022-06-07T20:43:47.535Z"
   },
   {
    "duration": 11,
    "start_time": "2022-06-07T20:43:47.589Z"
   },
   {
    "duration": 8,
    "start_time": "2022-06-07T20:43:47.602Z"
   },
   {
    "duration": 55,
    "start_time": "2022-06-07T20:43:47.612Z"
   },
   {
    "duration": 66,
    "start_time": "2022-06-07T20:43:47.669Z"
   },
   {
    "duration": 275,
    "start_time": "2022-06-07T20:43:47.737Z"
   },
   {
    "duration": 288,
    "start_time": "2022-06-07T20:43:48.013Z"
   },
   {
    "duration": 281,
    "start_time": "2022-06-07T20:43:48.302Z"
   },
   {
    "duration": 277,
    "start_time": "2022-06-07T20:43:48.584Z"
   },
   {
    "duration": 17,
    "start_time": "2022-06-07T20:43:48.862Z"
   },
   {
    "duration": 6,
    "start_time": "2022-06-07T20:43:48.880Z"
   },
   {
    "duration": 23,
    "start_time": "2022-06-07T20:43:48.888Z"
   },
   {
    "duration": 30,
    "start_time": "2022-06-07T20:43:48.912Z"
   },
   {
    "duration": 23,
    "start_time": "2022-06-07T20:43:48.944Z"
   },
   {
    "duration": 7,
    "start_time": "2022-06-07T20:43:48.971Z"
   },
   {
    "duration": 26,
    "start_time": "2022-06-07T20:43:48.980Z"
   },
   {
    "duration": 26,
    "start_time": "2022-06-07T20:43:49.008Z"
   },
   {
    "duration": 14,
    "start_time": "2022-06-07T20:43:49.036Z"
   },
   {
    "duration": 16,
    "start_time": "2022-06-07T20:43:49.052Z"
   },
   {
    "duration": 18,
    "start_time": "2022-06-07T20:43:49.069Z"
   },
   {
    "duration": 5,
    "start_time": "2022-06-07T20:43:49.088Z"
   },
   {
    "duration": 4,
    "start_time": "2022-06-07T20:43:49.095Z"
   },
   {
    "duration": 47,
    "start_time": "2022-06-07T20:43:49.100Z"
   },
   {
    "duration": 5,
    "start_time": "2022-06-07T20:43:49.148Z"
   },
   {
    "duration": 122,
    "start_time": "2022-06-07T20:43:49.155Z"
   },
   {
    "duration": 273,
    "start_time": "2022-06-07T20:43:49.278Z"
   },
   {
    "duration": 252,
    "start_time": "2022-06-07T20:43:49.553Z"
   },
   {
    "duration": 485,
    "start_time": "2022-06-07T20:43:49.807Z"
   },
   {
    "duration": 251,
    "start_time": "2022-06-07T20:43:50.294Z"
   },
   {
    "duration": 16,
    "start_time": "2022-06-07T20:43:50.547Z"
   },
   {
    "duration": 12,
    "start_time": "2022-06-07T20:43:50.565Z"
   },
   {
    "duration": 13,
    "start_time": "2022-06-07T20:43:50.579Z"
   },
   {
    "duration": 11,
    "start_time": "2022-06-07T20:43:50.594Z"
   },
   {
    "duration": 190,
    "start_time": "2022-06-07T20:43:50.606Z"
   },
   {
    "duration": 161,
    "start_time": "2022-06-07T20:43:50.798Z"
   },
   {
    "duration": 153,
    "start_time": "2022-06-07T20:43:50.961Z"
   },
   {
    "duration": 7,
    "start_time": "2022-06-07T20:44:47.308Z"
   },
   {
    "duration": 3,
    "start_time": "2022-06-07T20:44:50.799Z"
   },
   {
    "duration": 241,
    "start_time": "2022-06-07T20:44:50.804Z"
   },
   {
    "duration": 28,
    "start_time": "2022-06-07T20:44:51.047Z"
   },
   {
    "duration": 212,
    "start_time": "2022-06-07T20:44:51.079Z"
   },
   {
    "duration": 18,
    "start_time": "2022-06-07T20:44:51.293Z"
   },
   {
    "duration": 136,
    "start_time": "2022-06-07T20:44:51.330Z"
   },
   {
    "duration": 19,
    "start_time": "2022-06-07T20:44:51.468Z"
   },
   {
    "duration": 24,
    "start_time": "2022-06-07T20:44:51.489Z"
   },
   {
    "duration": 23,
    "start_time": "2022-06-07T20:44:51.516Z"
   },
   {
    "duration": 60,
    "start_time": "2022-06-07T20:44:51.541Z"
   },
   {
    "duration": 15,
    "start_time": "2022-06-07T20:44:51.603Z"
   },
   {
    "duration": 35,
    "start_time": "2022-06-07T20:44:51.621Z"
   },
   {
    "duration": 59,
    "start_time": "2022-06-07T20:44:51.658Z"
   },
   {
    "duration": 68,
    "start_time": "2022-06-07T20:44:51.719Z"
   },
   {
    "duration": 286,
    "start_time": "2022-06-07T20:44:51.789Z"
   },
   {
    "duration": 285,
    "start_time": "2022-06-07T20:44:52.077Z"
   },
   {
    "duration": 281,
    "start_time": "2022-06-07T20:44:52.364Z"
   },
   {
    "duration": 285,
    "start_time": "2022-06-07T20:44:52.648Z"
   },
   {
    "duration": 21,
    "start_time": "2022-06-07T20:44:52.936Z"
   },
   {
    "duration": 7,
    "start_time": "2022-06-07T20:44:52.959Z"
   },
   {
    "duration": 32,
    "start_time": "2022-06-07T20:44:52.968Z"
   },
   {
    "duration": 6,
    "start_time": "2022-06-07T20:44:53.001Z"
   },
   {
    "duration": 46,
    "start_time": "2022-06-07T20:44:53.009Z"
   },
   {
    "duration": 7,
    "start_time": "2022-06-07T20:44:53.059Z"
   },
   {
    "duration": 33,
    "start_time": "2022-06-07T20:44:53.068Z"
   },
   {
    "duration": 27,
    "start_time": "2022-06-07T20:44:53.103Z"
   },
   {
    "duration": 11,
    "start_time": "2022-06-07T20:44:53.132Z"
   },
   {
    "duration": 9,
    "start_time": "2022-06-07T20:44:53.146Z"
   },
   {
    "duration": 22,
    "start_time": "2022-06-07T20:44:53.156Z"
   },
   {
    "duration": 17,
    "start_time": "2022-06-07T20:44:53.180Z"
   },
   {
    "duration": 31,
    "start_time": "2022-06-07T20:44:53.199Z"
   },
   {
    "duration": 21,
    "start_time": "2022-06-07T20:44:53.231Z"
   },
   {
    "duration": 25,
    "start_time": "2022-06-07T20:44:53.254Z"
   },
   {
    "duration": 9,
    "start_time": "2022-06-07T20:44:53.281Z"
   },
   {
    "duration": 153,
    "start_time": "2022-06-07T20:44:53.292Z"
   },
   {
    "duration": 265,
    "start_time": "2022-06-07T20:44:53.447Z"
   },
   {
    "duration": 258,
    "start_time": "2022-06-07T20:44:53.714Z"
   },
   {
    "duration": 282,
    "start_time": "2022-06-07T20:44:53.975Z"
   },
   {
    "duration": 238,
    "start_time": "2022-06-07T20:44:54.259Z"
   },
   {
    "duration": 10,
    "start_time": "2022-06-07T20:44:54.499Z"
   },
   {
    "duration": 24,
    "start_time": "2022-06-07T20:44:54.511Z"
   },
   {
    "duration": 24,
    "start_time": "2022-06-07T20:44:54.537Z"
   },
   {
    "duration": 15,
    "start_time": "2022-06-07T20:44:54.563Z"
   },
   {
    "duration": 174,
    "start_time": "2022-06-07T20:44:54.580Z"
   },
   {
    "duration": 152,
    "start_time": "2022-06-07T20:44:54.756Z"
   },
   {
    "duration": 160,
    "start_time": "2022-06-07T20:44:54.910Z"
   },
   {
    "duration": 7,
    "start_time": "2022-06-07T20:45:22.847Z"
   },
   {
    "duration": 4,
    "start_time": "2022-06-07T20:45:26.084Z"
   },
   {
    "duration": 240,
    "start_time": "2022-06-07T20:45:26.090Z"
   },
   {
    "duration": 23,
    "start_time": "2022-06-07T20:45:26.332Z"
   },
   {
    "duration": 194,
    "start_time": "2022-06-07T20:45:26.356Z"
   },
   {
    "duration": 17,
    "start_time": "2022-06-07T20:45:26.552Z"
   },
   {
    "duration": 127,
    "start_time": "2022-06-07T20:45:26.571Z"
   },
   {
    "duration": 16,
    "start_time": "2022-06-07T20:45:26.699Z"
   },
   {
    "duration": 22,
    "start_time": "2022-06-07T20:45:26.730Z"
   },
   {
    "duration": 10,
    "start_time": "2022-06-07T20:45:26.754Z"
   },
   {
    "duration": 41,
    "start_time": "2022-06-07T20:45:26.765Z"
   },
   {
    "duration": 10,
    "start_time": "2022-06-07T20:45:26.809Z"
   },
   {
    "duration": 32,
    "start_time": "2022-06-07T20:45:26.821Z"
   },
   {
    "duration": 52,
    "start_time": "2022-06-07T20:45:26.855Z"
   },
   {
    "duration": 65,
    "start_time": "2022-06-07T20:45:26.909Z"
   },
   {
    "duration": 550,
    "start_time": "2022-06-07T20:45:26.976Z"
   },
   {
    "duration": 285,
    "start_time": "2022-06-07T20:45:27.529Z"
   },
   {
    "duration": 282,
    "start_time": "2022-06-07T20:45:27.816Z"
   },
   {
    "duration": 277,
    "start_time": "2022-06-07T20:45:28.100Z"
   },
   {
    "duration": 28,
    "start_time": "2022-06-07T20:45:28.379Z"
   },
   {
    "duration": 26,
    "start_time": "2022-06-07T20:45:28.409Z"
   },
   {
    "duration": 39,
    "start_time": "2022-06-07T20:45:28.438Z"
   },
   {
    "duration": 7,
    "start_time": "2022-06-07T20:45:28.479Z"
   },
   {
    "duration": 21,
    "start_time": "2022-06-07T20:45:28.488Z"
   },
   {
    "duration": 25,
    "start_time": "2022-06-07T20:45:28.511Z"
   },
   {
    "duration": 30,
    "start_time": "2022-06-07T20:45:28.542Z"
   },
   {
    "duration": 9,
    "start_time": "2022-06-07T20:45:28.574Z"
   },
   {
    "duration": 11,
    "start_time": "2022-06-07T20:45:28.584Z"
   },
   {
    "duration": 41,
    "start_time": "2022-06-07T20:45:28.597Z"
   },
   {
    "duration": 7,
    "start_time": "2022-06-07T20:45:28.643Z"
   },
   {
    "duration": 31,
    "start_time": "2022-06-07T20:45:28.654Z"
   },
   {
    "duration": 12,
    "start_time": "2022-06-07T20:45:28.687Z"
   },
   {
    "duration": 4,
    "start_time": "2022-06-07T20:45:28.701Z"
   },
   {
    "duration": 6,
    "start_time": "2022-06-07T20:45:28.707Z"
   },
   {
    "duration": 46,
    "start_time": "2022-06-07T20:45:28.715Z"
   },
   {
    "duration": 6,
    "start_time": "2022-06-07T20:45:28.763Z"
   },
   {
    "duration": 119,
    "start_time": "2022-06-07T20:45:28.770Z"
   },
   {
    "duration": 267,
    "start_time": "2022-06-07T20:45:28.891Z"
   },
   {
    "duration": 253,
    "start_time": "2022-06-07T20:45:29.159Z"
   },
   {
    "duration": 307,
    "start_time": "2022-06-07T20:45:29.414Z"
   },
   {
    "duration": 237,
    "start_time": "2022-06-07T20:45:29.722Z"
   },
   {
    "duration": 11,
    "start_time": "2022-06-07T20:45:29.961Z"
   },
   {
    "duration": 12,
    "start_time": "2022-06-07T20:45:29.973Z"
   },
   {
    "duration": 6,
    "start_time": "2022-06-07T20:45:29.987Z"
   },
   {
    "duration": 36,
    "start_time": "2022-06-07T20:45:29.995Z"
   },
   {
    "duration": 151,
    "start_time": "2022-06-07T20:45:30.034Z"
   },
   {
    "duration": 171,
    "start_time": "2022-06-07T20:45:30.187Z"
   },
   {
    "duration": 157,
    "start_time": "2022-06-07T20:45:30.360Z"
   },
   {
    "duration": 12,
    "start_time": "2022-06-07T20:47:50.574Z"
   },
   {
    "duration": 8,
    "start_time": "2022-06-07T20:48:03.858Z"
   },
   {
    "duration": 10,
    "start_time": "2022-06-07T20:53:42.282Z"
   },
   {
    "duration": 46,
    "start_time": "2022-06-08T18:08:41.798Z"
   },
   {
    "duration": 1123,
    "start_time": "2022-06-08T18:08:47.167Z"
   },
   {
    "duration": 325,
    "start_time": "2022-06-08T18:08:48.292Z"
   },
   {
    "duration": 19,
    "start_time": "2022-06-08T18:08:48.619Z"
   },
   {
    "duration": 371,
    "start_time": "2022-06-08T18:08:48.641Z"
   },
   {
    "duration": 16,
    "start_time": "2022-06-08T18:08:49.014Z"
   },
   {
    "duration": 324,
    "start_time": "2022-06-08T18:08:49.031Z"
   },
   {
    "duration": 14,
    "start_time": "2022-06-08T18:08:49.357Z"
   },
   {
    "duration": 90,
    "start_time": "2022-06-08T18:08:49.372Z"
   },
   {
    "duration": 12,
    "start_time": "2022-06-08T18:08:49.463Z"
   },
   {
    "duration": 98,
    "start_time": "2022-06-08T18:08:49.479Z"
   },
   {
    "duration": 11,
    "start_time": "2022-06-08T18:08:49.578Z"
   },
   {
    "duration": 36,
    "start_time": "2022-06-08T18:08:49.591Z"
   },
   {
    "duration": 69,
    "start_time": "2022-06-08T18:08:49.629Z"
   },
   {
    "duration": 82,
    "start_time": "2022-06-08T18:08:49.699Z"
   },
   {
    "duration": 283,
    "start_time": "2022-06-08T18:08:49.782Z"
   },
   {
    "duration": 248,
    "start_time": "2022-06-08T18:08:50.066Z"
   },
   {
    "duration": 250,
    "start_time": "2022-06-08T18:08:50.315Z"
   },
   {
    "duration": 280,
    "start_time": "2022-06-08T18:08:50.567Z"
   },
   {
    "duration": 20,
    "start_time": "2022-06-08T18:08:50.850Z"
   },
   {
    "duration": 36,
    "start_time": "2022-06-08T18:08:50.872Z"
   },
   {
    "duration": 26,
    "start_time": "2022-06-08T18:08:50.911Z"
   },
   {
    "duration": 27,
    "start_time": "2022-06-08T18:08:50.940Z"
   },
   {
    "duration": 31,
    "start_time": "2022-06-08T18:08:50.968Z"
   },
   {
    "duration": 42,
    "start_time": "2022-06-08T18:08:51.001Z"
   },
   {
    "duration": 35,
    "start_time": "2022-06-08T18:08:51.045Z"
   },
   {
    "duration": 8,
    "start_time": "2022-06-08T18:08:51.081Z"
   },
   {
    "duration": 30,
    "start_time": "2022-06-08T18:08:51.091Z"
   },
   {
    "duration": 30,
    "start_time": "2022-06-08T18:08:51.125Z"
   },
   {
    "duration": 39,
    "start_time": "2022-06-08T18:08:51.156Z"
   },
   {
    "duration": 15,
    "start_time": "2022-06-08T18:08:51.197Z"
   },
   {
    "duration": 151,
    "start_time": "2022-06-08T18:08:51.213Z"
   },
   {
    "duration": 303,
    "start_time": "2022-06-08T18:08:51.367Z"
   },
   {
    "duration": 315,
    "start_time": "2022-06-08T18:08:51.672Z"
   },
   {
    "duration": 230,
    "start_time": "2022-06-08T18:08:51.988Z"
   },
   {
    "duration": 203,
    "start_time": "2022-06-08T18:08:52.219Z"
   },
   {
    "duration": 13,
    "start_time": "2022-06-08T18:08:52.423Z"
   },
   {
    "duration": 21,
    "start_time": "2022-06-08T18:08:52.438Z"
   },
   {
    "duration": 22,
    "start_time": "2022-06-08T18:08:52.461Z"
   },
   {
    "duration": 37,
    "start_time": "2022-06-08T18:08:52.485Z"
   },
   {
    "duration": 30,
    "start_time": "2022-06-08T18:08:52.524Z"
   },
   {
    "duration": 181,
    "start_time": "2022-06-08T18:08:52.556Z"
   },
   {
    "duration": 146,
    "start_time": "2022-06-08T18:08:52.739Z"
   },
   {
    "duration": 142,
    "start_time": "2022-06-08T18:08:52.886Z"
   },
   {
    "duration": 5,
    "start_time": "2022-06-08T18:21:56.714Z"
   },
   {
    "duration": 922,
    "start_time": "2022-06-08T18:22:04.577Z"
   },
   {
    "duration": 245,
    "start_time": "2022-06-08T18:22:05.500Z"
   },
   {
    "duration": 17,
    "start_time": "2022-06-08T18:22:05.747Z"
   },
   {
    "duration": 163,
    "start_time": "2022-06-08T18:22:05.766Z"
   },
   {
    "duration": 19,
    "start_time": "2022-06-08T18:22:05.931Z"
   },
   {
    "duration": 132,
    "start_time": "2022-06-08T18:22:05.952Z"
   },
   {
    "duration": 17,
    "start_time": "2022-06-08T18:22:06.086Z"
   },
   {
    "duration": 23,
    "start_time": "2022-06-08T18:22:06.105Z"
   },
   {
    "duration": 10,
    "start_time": "2022-06-08T18:22:06.130Z"
   },
   {
    "duration": 39,
    "start_time": "2022-06-08T18:22:06.142Z"
   },
   {
    "duration": 12,
    "start_time": "2022-06-08T18:22:06.183Z"
   },
   {
    "duration": 17,
    "start_time": "2022-06-08T18:22:06.197Z"
   },
   {
    "duration": 48,
    "start_time": "2022-06-08T18:22:06.216Z"
   },
   {
    "duration": 92,
    "start_time": "2022-06-08T18:22:06.267Z"
   },
   {
    "duration": 285,
    "start_time": "2022-06-08T18:22:06.360Z"
   },
   {
    "duration": 253,
    "start_time": "2022-06-08T18:22:06.646Z"
   },
   {
    "duration": 253,
    "start_time": "2022-06-08T18:22:06.901Z"
   },
   {
    "duration": 240,
    "start_time": "2022-06-08T18:22:07.156Z"
   },
   {
    "duration": 16,
    "start_time": "2022-06-08T18:22:07.397Z"
   },
   {
    "duration": 28,
    "start_time": "2022-06-08T18:22:07.414Z"
   },
   {
    "duration": 19,
    "start_time": "2022-06-08T18:22:07.443Z"
   },
   {
    "duration": 22,
    "start_time": "2022-06-08T18:22:07.464Z"
   },
   {
    "duration": 6,
    "start_time": "2022-06-08T18:22:07.487Z"
   },
   {
    "duration": 32,
    "start_time": "2022-06-08T18:22:07.495Z"
   },
   {
    "duration": 8,
    "start_time": "2022-06-08T18:22:07.528Z"
   },
   {
    "duration": 5,
    "start_time": "2022-06-08T18:22:07.537Z"
   },
   {
    "duration": 8,
    "start_time": "2022-06-08T18:22:07.543Z"
   },
   {
    "duration": 7,
    "start_time": "2022-06-08T18:22:07.553Z"
   },
   {
    "duration": 19,
    "start_time": "2022-06-08T18:22:07.561Z"
   },
   {
    "duration": 6,
    "start_time": "2022-06-08T18:22:07.581Z"
   },
   {
    "duration": 128,
    "start_time": "2022-06-08T18:22:07.588Z"
   },
   {
    "duration": 253,
    "start_time": "2022-06-08T18:22:07.717Z"
   },
   {
    "duration": 304,
    "start_time": "2022-06-08T18:22:07.972Z"
   },
   {
    "duration": 224,
    "start_time": "2022-06-08T18:22:08.278Z"
   },
   {
    "duration": 219,
    "start_time": "2022-06-08T18:22:08.504Z"
   },
   {
    "duration": 12,
    "start_time": "2022-06-08T18:22:08.727Z"
   },
   {
    "duration": 10,
    "start_time": "2022-06-08T18:22:08.740Z"
   },
   {
    "duration": 9,
    "start_time": "2022-06-08T18:22:08.752Z"
   },
   {
    "duration": 15,
    "start_time": "2022-06-08T18:22:08.762Z"
   },
   {
    "duration": 8,
    "start_time": "2022-06-08T18:22:08.779Z"
   },
   {
    "duration": 154,
    "start_time": "2022-06-08T18:22:08.791Z"
   },
   {
    "duration": 136,
    "start_time": "2022-06-08T18:22:08.946Z"
   },
   {
    "duration": 128,
    "start_time": "2022-06-08T18:22:09.084Z"
   },
   {
    "duration": 1032,
    "start_time": "2022-06-08T18:23:20.414Z"
   },
   {
    "duration": 273,
    "start_time": "2022-06-08T18:23:21.449Z"
   },
   {
    "duration": 20,
    "start_time": "2022-06-08T18:23:21.726Z"
   },
   {
    "duration": 165,
    "start_time": "2022-06-08T18:23:21.749Z"
   },
   {
    "duration": 22,
    "start_time": "2022-06-08T18:23:21.916Z"
   },
   {
    "duration": 130,
    "start_time": "2022-06-08T18:23:21.940Z"
   },
   {
    "duration": 15,
    "start_time": "2022-06-08T18:23:22.071Z"
   },
   {
    "duration": 21,
    "start_time": "2022-06-08T18:23:22.088Z"
   },
   {
    "duration": 23,
    "start_time": "2022-06-08T18:23:22.111Z"
   },
   {
    "duration": 41,
    "start_time": "2022-06-08T18:23:22.137Z"
   },
   {
    "duration": 13,
    "start_time": "2022-06-08T18:23:22.180Z"
   },
   {
    "duration": 30,
    "start_time": "2022-06-08T18:23:22.195Z"
   },
   {
    "duration": 55,
    "start_time": "2022-06-08T18:23:22.227Z"
   },
   {
    "duration": 68,
    "start_time": "2022-06-08T18:23:22.285Z"
   },
   {
    "duration": 328,
    "start_time": "2022-06-08T18:23:22.355Z"
   },
   {
    "duration": 257,
    "start_time": "2022-06-08T18:23:22.685Z"
   },
   {
    "duration": 299,
    "start_time": "2022-06-08T18:23:22.944Z"
   },
   {
    "duration": 257,
    "start_time": "2022-06-08T18:23:23.244Z"
   },
   {
    "duration": 25,
    "start_time": "2022-06-08T18:23:23.502Z"
   },
   {
    "duration": 19,
    "start_time": "2022-06-08T18:23:23.529Z"
   },
   {
    "duration": 21,
    "start_time": "2022-06-08T18:23:23.550Z"
   },
   {
    "duration": 24,
    "start_time": "2022-06-08T18:23:23.572Z"
   },
   {
    "duration": 29,
    "start_time": "2022-06-08T18:23:23.597Z"
   },
   {
    "duration": 8,
    "start_time": "2022-06-08T18:23:23.628Z"
   },
   {
    "duration": 5,
    "start_time": "2022-06-08T18:23:23.637Z"
   },
   {
    "duration": 7,
    "start_time": "2022-06-08T18:23:23.644Z"
   },
   {
    "duration": 4,
    "start_time": "2022-06-08T18:23:23.652Z"
   },
   {
    "duration": 21,
    "start_time": "2022-06-08T18:23:23.658Z"
   },
   {
    "duration": 5,
    "start_time": "2022-06-08T18:23:23.681Z"
   },
   {
    "duration": 140,
    "start_time": "2022-06-08T18:23:23.688Z"
   },
   {
    "duration": 237,
    "start_time": "2022-06-08T18:23:23.829Z"
   },
   {
    "duration": 312,
    "start_time": "2022-06-08T18:23:24.068Z"
   },
   {
    "duration": 240,
    "start_time": "2022-06-08T18:23:24.381Z"
   },
   {
    "duration": 227,
    "start_time": "2022-06-08T18:23:24.626Z"
   },
   {
    "duration": 11,
    "start_time": "2022-06-08T18:23:24.854Z"
   },
   {
    "duration": 9,
    "start_time": "2022-06-08T18:23:24.867Z"
   },
   {
    "duration": 8,
    "start_time": "2022-06-08T18:23:24.878Z"
   },
   {
    "duration": 6,
    "start_time": "2022-06-08T18:23:24.887Z"
   },
   {
    "duration": 37,
    "start_time": "2022-06-08T18:23:24.895Z"
   },
   {
    "duration": 154,
    "start_time": "2022-06-08T18:23:24.934Z"
   },
   {
    "duration": 139,
    "start_time": "2022-06-08T18:23:25.090Z"
   },
   {
    "duration": 139,
    "start_time": "2022-06-08T18:23:25.230Z"
   },
   {
    "duration": 6,
    "start_time": "2022-06-08T18:25:40.594Z"
   },
   {
    "duration": 5,
    "start_time": "2022-06-08T18:26:00.663Z"
   },
   {
    "duration": 6,
    "start_time": "2022-06-08T18:26:19.584Z"
   },
   {
    "duration": 987,
    "start_time": "2022-06-08T18:26:33.809Z"
   },
   {
    "duration": 237,
    "start_time": "2022-06-08T18:26:34.798Z"
   },
   {
    "duration": 18,
    "start_time": "2022-06-08T18:26:35.037Z"
   },
   {
    "duration": 170,
    "start_time": "2022-06-08T18:26:35.057Z"
   },
   {
    "duration": 15,
    "start_time": "2022-06-08T18:26:35.229Z"
   },
   {
    "duration": 112,
    "start_time": "2022-06-08T18:26:35.246Z"
   },
   {
    "duration": 14,
    "start_time": "2022-06-08T18:26:35.360Z"
   },
   {
    "duration": 42,
    "start_time": "2022-06-08T18:26:35.376Z"
   },
   {
    "duration": 9,
    "start_time": "2022-06-08T18:26:35.420Z"
   },
   {
    "duration": 56,
    "start_time": "2022-06-08T18:26:35.431Z"
   },
   {
    "duration": 10,
    "start_time": "2022-06-08T18:26:35.488Z"
   },
   {
    "duration": 40,
    "start_time": "2022-06-08T18:26:35.499Z"
   },
   {
    "duration": 72,
    "start_time": "2022-06-08T18:26:35.541Z"
   },
   {
    "duration": 68,
    "start_time": "2022-06-08T18:26:35.615Z"
   },
   {
    "duration": 282,
    "start_time": "2022-06-08T18:26:35.685Z"
   },
   {
    "duration": 258,
    "start_time": "2022-06-08T18:26:35.968Z"
   },
   {
    "duration": 246,
    "start_time": "2022-06-08T18:26:36.228Z"
   },
   {
    "duration": 266,
    "start_time": "2022-06-08T18:26:36.475Z"
   },
   {
    "duration": 18,
    "start_time": "2022-06-08T18:26:36.743Z"
   },
   {
    "duration": 19,
    "start_time": "2022-06-08T18:26:36.763Z"
   },
   {
    "duration": 44,
    "start_time": "2022-06-08T18:26:36.784Z"
   },
   {
    "duration": 34,
    "start_time": "2022-06-08T18:26:36.830Z"
   },
   {
    "duration": 10,
    "start_time": "2022-06-08T18:26:36.866Z"
   },
   {
    "duration": 12,
    "start_time": "2022-06-08T18:26:36.877Z"
   },
   {
    "duration": 9,
    "start_time": "2022-06-08T18:26:36.891Z"
   },
   {
    "duration": 28,
    "start_time": "2022-06-08T18:26:36.902Z"
   },
   {
    "duration": 11,
    "start_time": "2022-06-08T18:26:36.932Z"
   },
   {
    "duration": 4,
    "start_time": "2022-06-08T18:26:36.947Z"
   },
   {
    "duration": 29,
    "start_time": "2022-06-08T18:26:36.953Z"
   },
   {
    "duration": 6,
    "start_time": "2022-06-08T18:26:36.983Z"
   },
   {
    "duration": 126,
    "start_time": "2022-06-08T18:26:36.990Z"
   },
   {
    "duration": 242,
    "start_time": "2022-06-08T18:26:37.118Z"
   },
   {
    "duration": 293,
    "start_time": "2022-06-08T18:26:37.361Z"
   },
   {
    "duration": 228,
    "start_time": "2022-06-08T18:26:37.656Z"
   },
   {
    "duration": 205,
    "start_time": "2022-06-08T18:26:37.886Z"
   },
   {
    "duration": 10,
    "start_time": "2022-06-08T18:26:38.093Z"
   },
   {
    "duration": 26,
    "start_time": "2022-06-08T18:26:38.104Z"
   },
   {
    "duration": 10,
    "start_time": "2022-06-08T18:26:38.132Z"
   },
   {
    "duration": 8,
    "start_time": "2022-06-08T18:26:38.143Z"
   },
   {
    "duration": 12,
    "start_time": "2022-06-08T18:26:38.153Z"
   },
   {
    "duration": 142,
    "start_time": "2022-06-08T18:26:38.167Z"
   },
   {
    "duration": 149,
    "start_time": "2022-06-08T18:26:38.310Z"
   },
   {
    "duration": 124,
    "start_time": "2022-06-08T18:26:38.461Z"
   },
   {
    "duration": 13,
    "start_time": "2022-06-08T18:27:37.093Z"
   },
   {
    "duration": 971,
    "start_time": "2022-06-08T18:33:42.558Z"
   },
   {
    "duration": 242,
    "start_time": "2022-06-08T18:33:43.530Z"
   },
   {
    "duration": 19,
    "start_time": "2022-06-08T18:33:43.774Z"
   },
   {
    "duration": 178,
    "start_time": "2022-06-08T18:33:43.795Z"
   },
   {
    "duration": 15,
    "start_time": "2022-06-08T18:33:43.974Z"
   },
   {
    "duration": 114,
    "start_time": "2022-06-08T18:33:43.990Z"
   },
   {
    "duration": 20,
    "start_time": "2022-06-08T18:33:44.106Z"
   },
   {
    "duration": 31,
    "start_time": "2022-06-08T18:33:44.128Z"
   },
   {
    "duration": 20,
    "start_time": "2022-06-08T18:33:44.160Z"
   },
   {
    "duration": 55,
    "start_time": "2022-06-08T18:33:44.182Z"
   },
   {
    "duration": 9,
    "start_time": "2022-06-08T18:33:44.239Z"
   },
   {
    "duration": 30,
    "start_time": "2022-06-08T18:33:44.250Z"
   },
   {
    "duration": 72,
    "start_time": "2022-06-08T18:33:44.282Z"
   },
   {
    "duration": 60,
    "start_time": "2022-06-08T18:33:44.355Z"
   },
   {
    "duration": 312,
    "start_time": "2022-06-08T18:33:44.417Z"
   },
   {
    "duration": 265,
    "start_time": "2022-06-08T18:33:44.731Z"
   },
   {
    "duration": 254,
    "start_time": "2022-06-08T18:33:44.998Z"
   },
   {
    "duration": 247,
    "start_time": "2022-06-08T18:33:45.254Z"
   },
   {
    "duration": 24,
    "start_time": "2022-06-08T18:33:45.503Z"
   },
   {
    "duration": 26,
    "start_time": "2022-06-08T18:33:45.529Z"
   },
   {
    "duration": 35,
    "start_time": "2022-06-08T18:33:45.556Z"
   },
   {
    "duration": 25,
    "start_time": "2022-06-08T18:33:45.592Z"
   },
   {
    "duration": 12,
    "start_time": "2022-06-08T18:33:45.620Z"
   },
   {
    "duration": 37,
    "start_time": "2022-06-08T18:33:45.635Z"
   },
   {
    "duration": 26,
    "start_time": "2022-06-08T18:33:45.674Z"
   },
   {
    "duration": 42,
    "start_time": "2022-06-08T18:33:45.701Z"
   },
   {
    "duration": 39,
    "start_time": "2022-06-08T18:33:45.745Z"
   },
   {
    "duration": 17,
    "start_time": "2022-06-08T18:33:45.789Z"
   },
   {
    "duration": 40,
    "start_time": "2022-06-08T18:33:45.808Z"
   },
   {
    "duration": 14,
    "start_time": "2022-06-08T18:33:45.850Z"
   },
   {
    "duration": 134,
    "start_time": "2022-06-08T18:33:45.866Z"
   },
   {
    "duration": 239,
    "start_time": "2022-06-08T18:33:46.001Z"
   },
   {
    "duration": 289,
    "start_time": "2022-06-08T18:33:46.242Z"
   },
   {
    "duration": 240,
    "start_time": "2022-06-08T18:33:46.533Z"
   },
   {
    "duration": 220,
    "start_time": "2022-06-08T18:33:46.775Z"
   },
   {
    "duration": 12,
    "start_time": "2022-06-08T18:33:46.997Z"
   },
   {
    "duration": 31,
    "start_time": "2022-06-08T18:33:47.010Z"
   },
   {
    "duration": 33,
    "start_time": "2022-06-08T18:33:47.043Z"
   },
   {
    "duration": 40,
    "start_time": "2022-06-08T18:33:47.078Z"
   },
   {
    "duration": 22,
    "start_time": "2022-06-08T18:33:47.120Z"
   },
   {
    "duration": 137,
    "start_time": "2022-06-08T18:33:47.144Z"
   },
   {
    "duration": 145,
    "start_time": "2022-06-08T18:33:47.283Z"
   },
   {
    "duration": 140,
    "start_time": "2022-06-08T18:33:47.430Z"
   },
   {
    "duration": 428,
    "start_time": "2022-06-08T18:35:16.350Z"
   },
   {
    "duration": 315,
    "start_time": "2022-06-08T18:35:21.099Z"
   },
   {
    "duration": 973,
    "start_time": "2022-06-08T18:35:32.730Z"
   },
   {
    "duration": 247,
    "start_time": "2022-06-08T18:35:33.705Z"
   },
   {
    "duration": 19,
    "start_time": "2022-06-08T18:35:33.954Z"
   },
   {
    "duration": 165,
    "start_time": "2022-06-08T18:35:33.975Z"
   },
   {
    "duration": 17,
    "start_time": "2022-06-08T18:35:34.142Z"
   },
   {
    "duration": 111,
    "start_time": "2022-06-08T18:35:34.161Z"
   },
   {
    "duration": 16,
    "start_time": "2022-06-08T18:35:34.274Z"
   },
   {
    "duration": 35,
    "start_time": "2022-06-08T18:35:34.292Z"
   },
   {
    "duration": 13,
    "start_time": "2022-06-08T18:35:34.329Z"
   },
   {
    "duration": 47,
    "start_time": "2022-06-08T18:35:34.346Z"
   },
   {
    "duration": 14,
    "start_time": "2022-06-08T18:35:34.395Z"
   },
   {
    "duration": 23,
    "start_time": "2022-06-08T18:35:34.411Z"
   },
   {
    "duration": 53,
    "start_time": "2022-06-08T18:35:34.436Z"
   },
   {
    "duration": 74,
    "start_time": "2022-06-08T18:35:34.490Z"
   },
   {
    "duration": 298,
    "start_time": "2022-06-08T18:35:34.566Z"
   },
   {
    "duration": 300,
    "start_time": "2022-06-08T18:35:34.866Z"
   },
   {
    "duration": 277,
    "start_time": "2022-06-08T18:35:35.168Z"
   },
   {
    "duration": 284,
    "start_time": "2022-06-08T18:35:35.447Z"
   },
   {
    "duration": 25,
    "start_time": "2022-06-08T18:35:35.733Z"
   },
   {
    "duration": 19,
    "start_time": "2022-06-08T18:35:35.761Z"
   },
   {
    "duration": 47,
    "start_time": "2022-06-08T18:35:35.782Z"
   },
   {
    "duration": 24,
    "start_time": "2022-06-08T18:35:35.831Z"
   },
   {
    "duration": 8,
    "start_time": "2022-06-08T18:35:35.857Z"
   },
   {
    "duration": 113,
    "start_time": "2022-06-08T18:35:35.866Z"
   },
   {
    "duration": 0,
    "start_time": "2022-06-08T18:35:35.981Z"
   },
   {
    "duration": 0,
    "start_time": "2022-06-08T18:35:35.983Z"
   },
   {
    "duration": 0,
    "start_time": "2022-06-08T18:35:35.984Z"
   },
   {
    "duration": 0,
    "start_time": "2022-06-08T18:35:35.985Z"
   },
   {
    "duration": 0,
    "start_time": "2022-06-08T18:35:35.987Z"
   },
   {
    "duration": 0,
    "start_time": "2022-06-08T18:35:35.989Z"
   },
   {
    "duration": 0,
    "start_time": "2022-06-08T18:35:35.990Z"
   },
   {
    "duration": 0,
    "start_time": "2022-06-08T18:35:35.991Z"
   },
   {
    "duration": 1,
    "start_time": "2022-06-08T18:35:35.992Z"
   },
   {
    "duration": 0,
    "start_time": "2022-06-08T18:35:35.994Z"
   },
   {
    "duration": 0,
    "start_time": "2022-06-08T18:35:35.995Z"
   },
   {
    "duration": 0,
    "start_time": "2022-06-08T18:35:35.997Z"
   },
   {
    "duration": 0,
    "start_time": "2022-06-08T18:35:35.998Z"
   },
   {
    "duration": 0,
    "start_time": "2022-06-08T18:35:36.027Z"
   },
   {
    "duration": 0,
    "start_time": "2022-06-08T18:35:36.029Z"
   },
   {
    "duration": 0,
    "start_time": "2022-06-08T18:35:36.030Z"
   },
   {
    "duration": 0,
    "start_time": "2022-06-08T18:35:36.032Z"
   },
   {
    "duration": 0,
    "start_time": "2022-06-08T18:35:36.033Z"
   },
   {
    "duration": 0,
    "start_time": "2022-06-08T18:35:36.035Z"
   },
   {
    "duration": 1070,
    "start_time": "2022-06-08T18:35:53.336Z"
   },
   {
    "duration": 263,
    "start_time": "2022-06-08T18:35:54.408Z"
   },
   {
    "duration": 20,
    "start_time": "2022-06-08T18:35:54.673Z"
   },
   {
    "duration": 168,
    "start_time": "2022-06-08T18:35:54.696Z"
   },
   {
    "duration": 17,
    "start_time": "2022-06-08T18:35:54.866Z"
   },
   {
    "duration": 117,
    "start_time": "2022-06-08T18:35:54.885Z"
   },
   {
    "duration": 23,
    "start_time": "2022-06-08T18:35:55.004Z"
   },
   {
    "duration": 23,
    "start_time": "2022-06-08T18:35:55.029Z"
   },
   {
    "duration": 10,
    "start_time": "2022-06-08T18:35:55.054Z"
   },
   {
    "duration": 36,
    "start_time": "2022-06-08T18:35:55.067Z"
   },
   {
    "duration": 11,
    "start_time": "2022-06-08T18:35:55.105Z"
   },
   {
    "duration": 19,
    "start_time": "2022-06-08T18:35:55.118Z"
   },
   {
    "duration": 53,
    "start_time": "2022-06-08T18:35:55.139Z"
   },
   {
    "duration": 72,
    "start_time": "2022-06-08T18:35:55.194Z"
   },
   {
    "duration": 300,
    "start_time": "2022-06-08T18:35:55.268Z"
   },
   {
    "duration": 318,
    "start_time": "2022-06-08T18:35:55.570Z"
   },
   {
    "duration": 277,
    "start_time": "2022-06-08T18:35:55.889Z"
   },
   {
    "duration": 250,
    "start_time": "2022-06-08T18:35:56.168Z"
   },
   {
    "duration": 23,
    "start_time": "2022-06-08T18:35:56.420Z"
   },
   {
    "duration": 24,
    "start_time": "2022-06-08T18:35:56.445Z"
   },
   {
    "duration": 21,
    "start_time": "2022-06-08T18:35:56.471Z"
   },
   {
    "duration": 57,
    "start_time": "2022-06-08T18:35:56.494Z"
   },
   {
    "duration": 9,
    "start_time": "2022-06-08T18:35:56.553Z"
   },
   {
    "duration": 26,
    "start_time": "2022-06-08T18:35:56.564Z"
   },
   {
    "duration": 8,
    "start_time": "2022-06-08T18:35:56.591Z"
   },
   {
    "duration": 30,
    "start_time": "2022-06-08T18:35:56.600Z"
   },
   {
    "duration": 17,
    "start_time": "2022-06-08T18:35:56.632Z"
   },
   {
    "duration": 8,
    "start_time": "2022-06-08T18:35:56.654Z"
   },
   {
    "duration": 23,
    "start_time": "2022-06-08T18:35:56.664Z"
   },
   {
    "duration": 7,
    "start_time": "2022-06-08T18:35:56.689Z"
   },
   {
    "duration": 121,
    "start_time": "2022-06-08T18:35:56.698Z"
   },
   {
    "duration": 253,
    "start_time": "2022-06-08T18:35:56.821Z"
   },
   {
    "duration": 324,
    "start_time": "2022-06-08T18:35:57.077Z"
   },
   {
    "duration": 263,
    "start_time": "2022-06-08T18:35:57.403Z"
   },
   {
    "duration": 221,
    "start_time": "2022-06-08T18:35:57.668Z"
   },
   {
    "duration": 12,
    "start_time": "2022-06-08T18:35:57.891Z"
   },
   {
    "duration": 28,
    "start_time": "2022-06-08T18:35:57.905Z"
   },
   {
    "duration": 13,
    "start_time": "2022-06-08T18:35:57.934Z"
   },
   {
    "duration": 12,
    "start_time": "2022-06-08T18:35:57.949Z"
   },
   {
    "duration": 23,
    "start_time": "2022-06-08T18:35:57.962Z"
   },
   {
    "duration": 148,
    "start_time": "2022-06-08T18:35:57.987Z"
   },
   {
    "duration": 149,
    "start_time": "2022-06-08T18:35:58.137Z"
   },
   {
    "duration": 132,
    "start_time": "2022-06-08T18:35:58.288Z"
   },
   {
    "duration": 1035,
    "start_time": "2022-06-08T18:36:48.445Z"
   },
   {
    "duration": 324,
    "start_time": "2022-06-08T18:36:49.482Z"
   },
   {
    "duration": 27,
    "start_time": "2022-06-08T18:36:49.808Z"
   },
   {
    "duration": 162,
    "start_time": "2022-06-08T18:36:49.837Z"
   },
   {
    "duration": 16,
    "start_time": "2022-06-08T18:36:50.001Z"
   },
   {
    "duration": 128,
    "start_time": "2022-06-08T18:36:50.027Z"
   },
   {
    "duration": 15,
    "start_time": "2022-06-08T18:36:50.157Z"
   },
   {
    "duration": 34,
    "start_time": "2022-06-08T18:36:50.174Z"
   },
   {
    "duration": 10,
    "start_time": "2022-06-08T18:36:50.210Z"
   },
   {
    "duration": 56,
    "start_time": "2022-06-08T18:36:50.223Z"
   },
   {
    "duration": 16,
    "start_time": "2022-06-08T18:36:50.281Z"
   },
   {
    "duration": 31,
    "start_time": "2022-06-08T18:36:50.299Z"
   },
   {
    "duration": 84,
    "start_time": "2022-06-08T18:36:50.332Z"
   },
   {
    "duration": 58,
    "start_time": "2022-06-08T18:36:50.418Z"
   },
   {
    "duration": 293,
    "start_time": "2022-06-08T18:36:50.478Z"
   },
   {
    "duration": 262,
    "start_time": "2022-06-08T18:36:50.772Z"
   },
   {
    "duration": 295,
    "start_time": "2022-06-08T18:36:51.036Z"
   },
   {
    "duration": 321,
    "start_time": "2022-06-08T18:36:51.334Z"
   },
   {
    "duration": 27,
    "start_time": "2022-06-08T18:36:51.657Z"
   },
   {
    "duration": 33,
    "start_time": "2022-06-08T18:36:51.686Z"
   },
   {
    "duration": 41,
    "start_time": "2022-06-08T18:36:51.722Z"
   },
   {
    "duration": 35,
    "start_time": "2022-06-08T18:36:51.765Z"
   },
   {
    "duration": 11,
    "start_time": "2022-06-08T18:36:51.802Z"
   },
   {
    "duration": 121,
    "start_time": "2022-06-08T18:36:51.815Z"
   },
   {
    "duration": 0,
    "start_time": "2022-06-08T18:36:51.938Z"
   },
   {
    "duration": 0,
    "start_time": "2022-06-08T18:36:51.940Z"
   },
   {
    "duration": 0,
    "start_time": "2022-06-08T18:36:51.940Z"
   },
   {
    "duration": 0,
    "start_time": "2022-06-08T18:36:51.942Z"
   },
   {
    "duration": 0,
    "start_time": "2022-06-08T18:36:51.943Z"
   },
   {
    "duration": 0,
    "start_time": "2022-06-08T18:36:51.944Z"
   },
   {
    "duration": 0,
    "start_time": "2022-06-08T18:36:51.946Z"
   },
   {
    "duration": 0,
    "start_time": "2022-06-08T18:36:51.947Z"
   },
   {
    "duration": 0,
    "start_time": "2022-06-08T18:36:51.948Z"
   },
   {
    "duration": 0,
    "start_time": "2022-06-08T18:36:51.949Z"
   },
   {
    "duration": 0,
    "start_time": "2022-06-08T18:36:51.950Z"
   },
   {
    "duration": 0,
    "start_time": "2022-06-08T18:36:51.951Z"
   },
   {
    "duration": 0,
    "start_time": "2022-06-08T18:36:51.952Z"
   },
   {
    "duration": 0,
    "start_time": "2022-06-08T18:36:51.953Z"
   },
   {
    "duration": 0,
    "start_time": "2022-06-08T18:36:51.954Z"
   },
   {
    "duration": 0,
    "start_time": "2022-06-08T18:36:51.955Z"
   },
   {
    "duration": 0,
    "start_time": "2022-06-08T18:36:51.956Z"
   },
   {
    "duration": 0,
    "start_time": "2022-06-08T18:36:51.957Z"
   },
   {
    "duration": 0,
    "start_time": "2022-06-08T18:36:51.958Z"
   },
   {
    "duration": 1030,
    "start_time": "2022-06-08T18:37:21.519Z"
   },
   {
    "duration": 263,
    "start_time": "2022-06-08T18:37:22.550Z"
   },
   {
    "duration": 28,
    "start_time": "2022-06-08T18:37:22.814Z"
   },
   {
    "duration": 163,
    "start_time": "2022-06-08T18:37:22.844Z"
   },
   {
    "duration": 29,
    "start_time": "2022-06-08T18:37:23.009Z"
   },
   {
    "duration": 137,
    "start_time": "2022-06-08T18:37:23.040Z"
   },
   {
    "duration": 15,
    "start_time": "2022-06-08T18:37:23.179Z"
   },
   {
    "duration": 23,
    "start_time": "2022-06-08T18:37:23.196Z"
   },
   {
    "duration": 12,
    "start_time": "2022-06-08T18:37:23.226Z"
   },
   {
    "duration": 37,
    "start_time": "2022-06-08T18:37:23.240Z"
   },
   {
    "duration": 11,
    "start_time": "2022-06-08T18:37:23.278Z"
   },
   {
    "duration": 21,
    "start_time": "2022-06-08T18:37:23.291Z"
   },
   {
    "duration": 56,
    "start_time": "2022-06-08T18:37:23.313Z"
   },
   {
    "duration": 68,
    "start_time": "2022-06-08T18:37:23.371Z"
   },
   {
    "duration": 280,
    "start_time": "2022-06-08T18:37:23.440Z"
   },
   {
    "duration": 252,
    "start_time": "2022-06-08T18:37:23.726Z"
   },
   {
    "duration": 258,
    "start_time": "2022-06-08T18:37:23.980Z"
   },
   {
    "duration": 269,
    "start_time": "2022-06-08T18:37:24.240Z"
   },
   {
    "duration": 33,
    "start_time": "2022-06-08T18:37:24.512Z"
   },
   {
    "duration": 18,
    "start_time": "2022-06-08T18:37:24.547Z"
   },
   {
    "duration": 20,
    "start_time": "2022-06-08T18:37:24.567Z"
   },
   {
    "duration": 58,
    "start_time": "2022-06-08T18:37:24.588Z"
   },
   {
    "duration": 9,
    "start_time": "2022-06-08T18:37:24.647Z"
   },
   {
    "duration": 31,
    "start_time": "2022-06-08T18:37:24.658Z"
   },
   {
    "duration": 0,
    "start_time": "2022-06-08T18:37:24.691Z"
   },
   {
    "duration": 0,
    "start_time": "2022-06-08T18:37:24.692Z"
   },
   {
    "duration": 0,
    "start_time": "2022-06-08T18:37:24.693Z"
   },
   {
    "duration": 0,
    "start_time": "2022-06-08T18:37:24.695Z"
   },
   {
    "duration": 0,
    "start_time": "2022-06-08T18:37:24.696Z"
   },
   {
    "duration": 0,
    "start_time": "2022-06-08T18:37:24.697Z"
   },
   {
    "duration": 0,
    "start_time": "2022-06-08T18:37:24.697Z"
   },
   {
    "duration": 0,
    "start_time": "2022-06-08T18:37:24.699Z"
   },
   {
    "duration": 0,
    "start_time": "2022-06-08T18:37:24.700Z"
   },
   {
    "duration": 0,
    "start_time": "2022-06-08T18:37:24.701Z"
   },
   {
    "duration": 0,
    "start_time": "2022-06-08T18:37:24.702Z"
   },
   {
    "duration": 0,
    "start_time": "2022-06-08T18:37:24.703Z"
   },
   {
    "duration": 0,
    "start_time": "2022-06-08T18:37:24.704Z"
   },
   {
    "duration": 0,
    "start_time": "2022-06-08T18:37:24.705Z"
   },
   {
    "duration": 0,
    "start_time": "2022-06-08T18:37:24.706Z"
   },
   {
    "duration": 0,
    "start_time": "2022-06-08T18:37:24.707Z"
   },
   {
    "duration": 0,
    "start_time": "2022-06-08T18:37:24.708Z"
   },
   {
    "duration": 0,
    "start_time": "2022-06-08T18:37:24.726Z"
   },
   {
    "duration": 0,
    "start_time": "2022-06-08T18:37:24.728Z"
   },
   {
    "duration": 983,
    "start_time": "2022-06-08T18:37:46.936Z"
   },
   {
    "duration": 244,
    "start_time": "2022-06-08T18:37:47.921Z"
   },
   {
    "duration": 21,
    "start_time": "2022-06-08T18:37:48.167Z"
   },
   {
    "duration": 172,
    "start_time": "2022-06-08T18:37:48.190Z"
   },
   {
    "duration": 17,
    "start_time": "2022-06-08T18:37:48.364Z"
   },
   {
    "duration": 111,
    "start_time": "2022-06-08T18:37:48.382Z"
   },
   {
    "duration": 14,
    "start_time": "2022-06-08T18:37:48.494Z"
   },
   {
    "duration": 25,
    "start_time": "2022-06-08T18:37:48.510Z"
   },
   {
    "duration": 9,
    "start_time": "2022-06-08T18:37:48.537Z"
   },
   {
    "duration": 46,
    "start_time": "2022-06-08T18:37:48.548Z"
   },
   {
    "duration": 13,
    "start_time": "2022-06-08T18:37:48.596Z"
   },
   {
    "duration": 25,
    "start_time": "2022-06-08T18:37:48.611Z"
   },
   {
    "duration": 67,
    "start_time": "2022-06-08T18:37:48.638Z"
   },
   {
    "duration": 58,
    "start_time": "2022-06-08T18:37:48.708Z"
   },
   {
    "duration": 272,
    "start_time": "2022-06-08T18:37:48.768Z"
   },
   {
    "duration": 270,
    "start_time": "2022-06-08T18:37:49.042Z"
   },
   {
    "duration": 297,
    "start_time": "2022-06-08T18:37:49.314Z"
   },
   {
    "duration": 255,
    "start_time": "2022-06-08T18:37:49.613Z"
   },
   {
    "duration": 19,
    "start_time": "2022-06-08T18:37:49.870Z"
   },
   {
    "duration": 38,
    "start_time": "2022-06-08T18:37:49.891Z"
   },
   {
    "duration": 24,
    "start_time": "2022-06-08T18:37:49.932Z"
   },
   {
    "duration": 32,
    "start_time": "2022-06-08T18:37:49.958Z"
   },
   {
    "duration": 10,
    "start_time": "2022-06-08T18:37:49.991Z"
   },
   {
    "duration": 32,
    "start_time": "2022-06-08T18:37:50.026Z"
   },
   {
    "duration": 0,
    "start_time": "2022-06-08T18:37:50.061Z"
   },
   {
    "duration": 0,
    "start_time": "2022-06-08T18:37:50.063Z"
   },
   {
    "duration": 0,
    "start_time": "2022-06-08T18:37:50.065Z"
   },
   {
    "duration": 0,
    "start_time": "2022-06-08T18:37:50.066Z"
   },
   {
    "duration": 0,
    "start_time": "2022-06-08T18:37:50.066Z"
   },
   {
    "duration": 0,
    "start_time": "2022-06-08T18:37:50.068Z"
   },
   {
    "duration": 0,
    "start_time": "2022-06-08T18:37:50.069Z"
   },
   {
    "duration": 0,
    "start_time": "2022-06-08T18:37:50.070Z"
   },
   {
    "duration": 0,
    "start_time": "2022-06-08T18:37:50.072Z"
   },
   {
    "duration": 0,
    "start_time": "2022-06-08T18:37:50.074Z"
   },
   {
    "duration": 0,
    "start_time": "2022-06-08T18:37:50.075Z"
   },
   {
    "duration": 0,
    "start_time": "2022-06-08T18:37:50.076Z"
   },
   {
    "duration": 0,
    "start_time": "2022-06-08T18:37:50.077Z"
   },
   {
    "duration": 0,
    "start_time": "2022-06-08T18:37:50.079Z"
   },
   {
    "duration": 0,
    "start_time": "2022-06-08T18:37:50.080Z"
   },
   {
    "duration": 0,
    "start_time": "2022-06-08T18:37:50.081Z"
   },
   {
    "duration": 0,
    "start_time": "2022-06-08T18:37:50.082Z"
   },
   {
    "duration": 0,
    "start_time": "2022-06-08T18:37:50.083Z"
   },
   {
    "duration": 0,
    "start_time": "2022-06-08T18:37:50.084Z"
   },
   {
    "duration": 1011,
    "start_time": "2022-06-08T18:38:38.403Z"
   },
   {
    "duration": 253,
    "start_time": "2022-06-08T18:38:39.416Z"
   },
   {
    "duration": 17,
    "start_time": "2022-06-08T18:38:39.672Z"
   },
   {
    "duration": 162,
    "start_time": "2022-06-08T18:38:39.691Z"
   },
   {
    "duration": 18,
    "start_time": "2022-06-08T18:38:39.854Z"
   },
   {
    "duration": 108,
    "start_time": "2022-06-08T18:38:39.873Z"
   },
   {
    "duration": 15,
    "start_time": "2022-06-08T18:38:39.982Z"
   },
   {
    "duration": 21,
    "start_time": "2022-06-08T18:38:39.998Z"
   },
   {
    "duration": 11,
    "start_time": "2022-06-08T18:38:40.027Z"
   },
   {
    "duration": 37,
    "start_time": "2022-06-08T18:38:40.040Z"
   },
   {
    "duration": 12,
    "start_time": "2022-06-08T18:38:40.079Z"
   },
   {
    "duration": 16,
    "start_time": "2022-06-08T18:38:40.092Z"
   },
   {
    "duration": 53,
    "start_time": "2022-06-08T18:38:40.109Z"
   },
   {
    "duration": 56,
    "start_time": "2022-06-08T18:38:40.163Z"
   },
   {
    "duration": 289,
    "start_time": "2022-06-08T18:38:40.227Z"
   },
   {
    "duration": 274,
    "start_time": "2022-06-08T18:38:40.517Z"
   },
   {
    "duration": 252,
    "start_time": "2022-06-08T18:38:40.793Z"
   },
   {
    "duration": 263,
    "start_time": "2022-06-08T18:38:41.047Z"
   },
   {
    "duration": 22,
    "start_time": "2022-06-08T18:38:41.311Z"
   },
   {
    "duration": 17,
    "start_time": "2022-06-08T18:38:41.335Z"
   },
   {
    "duration": 20,
    "start_time": "2022-06-08T18:38:41.353Z"
   },
   {
    "duration": 59,
    "start_time": "2022-06-08T18:38:41.374Z"
   },
   {
    "duration": 13,
    "start_time": "2022-06-08T18:38:41.434Z"
   },
   {
    "duration": 50,
    "start_time": "2022-06-08T18:38:41.450Z"
   },
   {
    "duration": 13,
    "start_time": "2022-06-08T18:38:41.502Z"
   },
   {
    "duration": 16,
    "start_time": "2022-06-08T18:38:41.517Z"
   },
   {
    "duration": 23,
    "start_time": "2022-06-08T18:38:41.535Z"
   },
   {
    "duration": 48,
    "start_time": "2022-06-08T18:38:41.563Z"
   },
   {
    "duration": 42,
    "start_time": "2022-06-08T18:38:41.613Z"
   },
   {
    "duration": 11,
    "start_time": "2022-06-08T18:38:41.658Z"
   },
   {
    "duration": 133,
    "start_time": "2022-06-08T18:38:41.672Z"
   },
   {
    "duration": 261,
    "start_time": "2022-06-08T18:38:41.807Z"
   },
   {
    "duration": 320,
    "start_time": "2022-06-08T18:38:42.070Z"
   },
   {
    "duration": 245,
    "start_time": "2022-06-08T18:38:42.391Z"
   },
   {
    "duration": 210,
    "start_time": "2022-06-08T18:38:42.638Z"
   },
   {
    "duration": 11,
    "start_time": "2022-06-08T18:38:42.850Z"
   },
   {
    "duration": 10,
    "start_time": "2022-06-08T18:38:42.862Z"
   },
   {
    "duration": 27,
    "start_time": "2022-06-08T18:38:42.874Z"
   },
   {
    "duration": 24,
    "start_time": "2022-06-08T18:38:42.903Z"
   },
   {
    "duration": 33,
    "start_time": "2022-06-08T18:38:42.929Z"
   },
   {
    "duration": 130,
    "start_time": "2022-06-08T18:38:42.964Z"
   },
   {
    "duration": 147,
    "start_time": "2022-06-08T18:38:43.096Z"
   },
   {
    "duration": 143,
    "start_time": "2022-06-08T18:38:43.245Z"
   },
   {
    "duration": 999,
    "start_time": "2022-06-08T18:39:13.909Z"
   },
   {
    "duration": 257,
    "start_time": "2022-06-08T18:39:14.909Z"
   },
   {
    "duration": 18,
    "start_time": "2022-06-08T18:39:15.168Z"
   },
   {
    "duration": 161,
    "start_time": "2022-06-08T18:39:15.188Z"
   },
   {
    "duration": 15,
    "start_time": "2022-06-08T18:39:15.350Z"
   },
   {
    "duration": 109,
    "start_time": "2022-06-08T18:39:15.367Z"
   },
   {
    "duration": 15,
    "start_time": "2022-06-08T18:39:15.478Z"
   },
   {
    "duration": 20,
    "start_time": "2022-06-08T18:39:15.494Z"
   },
   {
    "duration": 16,
    "start_time": "2022-06-08T18:39:15.515Z"
   },
   {
    "duration": 38,
    "start_time": "2022-06-08T18:39:15.534Z"
   },
   {
    "duration": 10,
    "start_time": "2022-06-08T18:39:15.574Z"
   },
   {
    "duration": 16,
    "start_time": "2022-06-08T18:39:15.585Z"
   },
   {
    "duration": 48,
    "start_time": "2022-06-08T18:39:15.603Z"
   },
   {
    "duration": 64,
    "start_time": "2022-06-08T18:39:15.652Z"
   },
   {
    "duration": 289,
    "start_time": "2022-06-08T18:39:15.717Z"
   },
   {
    "duration": 260,
    "start_time": "2022-06-08T18:39:16.007Z"
   },
   {
    "duration": 259,
    "start_time": "2022-06-08T18:39:16.269Z"
   },
   {
    "duration": 261,
    "start_time": "2022-06-08T18:39:16.530Z"
   },
   {
    "duration": 18,
    "start_time": "2022-06-08T18:39:16.793Z"
   },
   {
    "duration": 31,
    "start_time": "2022-06-08T18:39:16.813Z"
   },
   {
    "duration": 23,
    "start_time": "2022-06-08T18:39:16.846Z"
   },
   {
    "duration": 28,
    "start_time": "2022-06-08T18:39:16.871Z"
   },
   {
    "duration": 33,
    "start_time": "2022-06-08T18:39:16.900Z"
   },
   {
    "duration": 125,
    "start_time": "2022-06-08T18:39:16.935Z"
   },
   {
    "duration": 0,
    "start_time": "2022-06-08T18:39:17.063Z"
   },
   {
    "duration": 0,
    "start_time": "2022-06-08T18:39:17.064Z"
   },
   {
    "duration": 0,
    "start_time": "2022-06-08T18:39:17.064Z"
   },
   {
    "duration": 0,
    "start_time": "2022-06-08T18:39:17.065Z"
   },
   {
    "duration": 0,
    "start_time": "2022-06-08T18:39:17.066Z"
   },
   {
    "duration": 0,
    "start_time": "2022-06-08T18:39:17.067Z"
   },
   {
    "duration": 0,
    "start_time": "2022-06-08T18:39:17.068Z"
   },
   {
    "duration": 0,
    "start_time": "2022-06-08T18:39:17.069Z"
   },
   {
    "duration": 0,
    "start_time": "2022-06-08T18:39:17.070Z"
   },
   {
    "duration": 0,
    "start_time": "2022-06-08T18:39:17.071Z"
   },
   {
    "duration": 0,
    "start_time": "2022-06-08T18:39:17.072Z"
   },
   {
    "duration": 0,
    "start_time": "2022-06-08T18:39:17.073Z"
   },
   {
    "duration": 0,
    "start_time": "2022-06-08T18:39:17.074Z"
   },
   {
    "duration": 0,
    "start_time": "2022-06-08T18:39:17.075Z"
   },
   {
    "duration": 0,
    "start_time": "2022-06-08T18:39:17.076Z"
   },
   {
    "duration": 0,
    "start_time": "2022-06-08T18:39:17.077Z"
   },
   {
    "duration": 0,
    "start_time": "2022-06-08T18:39:17.077Z"
   },
   {
    "duration": 0,
    "start_time": "2022-06-08T18:39:17.078Z"
   },
   {
    "duration": 0,
    "start_time": "2022-06-08T18:39:17.079Z"
   },
   {
    "duration": 12,
    "start_time": "2022-06-08T18:39:42.637Z"
   },
   {
    "duration": 4,
    "start_time": "2022-06-08T18:40:35.877Z"
   },
   {
    "duration": 33,
    "start_time": "2022-06-08T18:43:34.717Z"
   },
   {
    "duration": 25,
    "start_time": "2022-06-08T18:43:59.797Z"
   },
   {
    "duration": 6,
    "start_time": "2022-06-08T18:44:48.110Z"
   },
   {
    "duration": 5,
    "start_time": "2022-06-08T18:45:08.368Z"
   },
   {
    "duration": 27,
    "start_time": "2022-06-08T18:45:22.501Z"
   },
   {
    "duration": 4,
    "start_time": "2022-06-08T18:45:56.891Z"
   },
   {
    "duration": 8,
    "start_time": "2022-06-08T18:47:18.734Z"
   },
   {
    "duration": 19,
    "start_time": "2022-06-08T18:53:14.132Z"
   },
   {
    "duration": 987,
    "start_time": "2022-06-08T18:53:28.016Z"
   },
   {
    "duration": 264,
    "start_time": "2022-06-08T18:53:29.005Z"
   },
   {
    "duration": 19,
    "start_time": "2022-06-08T18:53:29.271Z"
   },
   {
    "duration": 171,
    "start_time": "2022-06-08T18:53:29.292Z"
   },
   {
    "duration": 19,
    "start_time": "2022-06-08T18:53:29.465Z"
   },
   {
    "duration": 144,
    "start_time": "2022-06-08T18:53:29.486Z"
   },
   {
    "duration": 14,
    "start_time": "2022-06-08T18:53:29.632Z"
   },
   {
    "duration": 22,
    "start_time": "2022-06-08T18:53:29.648Z"
   },
   {
    "duration": 11,
    "start_time": "2022-06-08T18:53:29.671Z"
   },
   {
    "duration": 53,
    "start_time": "2022-06-08T18:53:29.685Z"
   },
   {
    "duration": 12,
    "start_time": "2022-06-08T18:53:29.740Z"
   },
   {
    "duration": 18,
    "start_time": "2022-06-08T18:53:29.754Z"
   },
   {
    "duration": 60,
    "start_time": "2022-06-08T18:53:29.774Z"
   },
   {
    "duration": 59,
    "start_time": "2022-06-08T18:53:29.835Z"
   },
   {
    "duration": 328,
    "start_time": "2022-06-08T18:53:29.896Z"
   },
   {
    "duration": 288,
    "start_time": "2022-06-08T18:53:30.226Z"
   },
   {
    "duration": 286,
    "start_time": "2022-06-08T18:53:30.515Z"
   },
   {
    "duration": 282,
    "start_time": "2022-06-08T18:53:30.803Z"
   },
   {
    "duration": 17,
    "start_time": "2022-06-08T18:53:31.087Z"
   },
   {
    "duration": 40,
    "start_time": "2022-06-08T18:53:31.106Z"
   },
   {
    "duration": 28,
    "start_time": "2022-06-08T18:53:31.148Z"
   },
   {
    "duration": 37,
    "start_time": "2022-06-08T18:53:31.178Z"
   },
   {
    "duration": 11,
    "start_time": "2022-06-08T18:53:31.227Z"
   },
   {
    "duration": 28,
    "start_time": "2022-06-08T18:53:31.240Z"
   },
   {
    "duration": 34,
    "start_time": "2022-06-08T18:53:31.270Z"
   },
   {
    "duration": 6,
    "start_time": "2022-06-08T18:53:31.307Z"
   },
   {
    "duration": 22,
    "start_time": "2022-06-08T18:53:31.314Z"
   },
   {
    "duration": 33,
    "start_time": "2022-06-08T18:53:31.339Z"
   },
   {
    "duration": 55,
    "start_time": "2022-06-08T18:53:31.373Z"
   },
   {
    "duration": 74,
    "start_time": "2022-06-08T18:53:31.430Z"
   },
   {
    "duration": 184,
    "start_time": "2022-06-08T18:53:31.506Z"
   },
   {
    "duration": 268,
    "start_time": "2022-06-08T18:53:31.692Z"
   },
   {
    "duration": 334,
    "start_time": "2022-06-08T18:53:31.961Z"
   },
   {
    "duration": 249,
    "start_time": "2022-06-08T18:53:32.297Z"
   },
   {
    "duration": 231,
    "start_time": "2022-06-08T18:53:32.548Z"
   },
   {
    "duration": 13,
    "start_time": "2022-06-08T18:53:32.781Z"
   },
   {
    "duration": 16,
    "start_time": "2022-06-08T18:53:32.796Z"
   },
   {
    "duration": 36,
    "start_time": "2022-06-08T18:53:32.813Z"
   },
   {
    "duration": 37,
    "start_time": "2022-06-08T18:53:32.850Z"
   },
   {
    "duration": 10,
    "start_time": "2022-06-08T18:53:32.889Z"
   },
   {
    "duration": 147,
    "start_time": "2022-06-08T18:53:32.901Z"
   },
   {
    "duration": 162,
    "start_time": "2022-06-08T18:53:33.050Z"
   },
   {
    "duration": 135,
    "start_time": "2022-06-08T18:53:33.213Z"
   },
   {
    "duration": 995,
    "start_time": "2022-06-08T18:54:21.452Z"
   },
   {
    "duration": 259,
    "start_time": "2022-06-08T18:54:22.449Z"
   },
   {
    "duration": 35,
    "start_time": "2022-06-08T18:54:22.709Z"
   },
   {
    "duration": 172,
    "start_time": "2022-06-08T18:54:22.748Z"
   },
   {
    "duration": 18,
    "start_time": "2022-06-08T18:54:22.922Z"
   },
   {
    "duration": 123,
    "start_time": "2022-06-08T18:54:22.942Z"
   },
   {
    "duration": 14,
    "start_time": "2022-06-08T18:54:23.066Z"
   },
   {
    "duration": 31,
    "start_time": "2022-06-08T18:54:23.082Z"
   },
   {
    "duration": 20,
    "start_time": "2022-06-08T18:54:23.115Z"
   },
   {
    "duration": 52,
    "start_time": "2022-06-08T18:54:23.138Z"
   },
   {
    "duration": 10,
    "start_time": "2022-06-08T18:54:23.192Z"
   },
   {
    "duration": 40,
    "start_time": "2022-06-08T18:54:23.204Z"
   },
   {
    "duration": 52,
    "start_time": "2022-06-08T18:54:23.246Z"
   },
   {
    "duration": 58,
    "start_time": "2022-06-08T18:54:23.300Z"
   },
   {
    "duration": 276,
    "start_time": "2022-06-08T18:54:23.360Z"
   },
   {
    "duration": 277,
    "start_time": "2022-06-08T18:54:23.638Z"
   },
   {
    "duration": 252,
    "start_time": "2022-06-08T18:54:23.917Z"
   },
   {
    "duration": 247,
    "start_time": "2022-06-08T18:54:24.171Z"
   },
   {
    "duration": 25,
    "start_time": "2022-06-08T18:54:24.420Z"
   },
   {
    "duration": 47,
    "start_time": "2022-06-08T18:54:24.446Z"
   },
   {
    "duration": 25,
    "start_time": "2022-06-08T18:54:24.494Z"
   },
   {
    "duration": 30,
    "start_time": "2022-06-08T18:54:24.520Z"
   },
   {
    "duration": 13,
    "start_time": "2022-06-08T18:54:24.551Z"
   },
   {
    "duration": 18,
    "start_time": "2022-06-08T18:54:24.566Z"
   },
   {
    "duration": 32,
    "start_time": "2022-06-08T18:54:24.586Z"
   },
   {
    "duration": 16,
    "start_time": "2022-06-08T18:54:24.620Z"
   },
   {
    "duration": 30,
    "start_time": "2022-06-08T18:54:24.638Z"
   },
   {
    "duration": 26,
    "start_time": "2022-06-08T18:54:24.672Z"
   },
   {
    "duration": 30,
    "start_time": "2022-06-08T18:54:24.700Z"
   },
   {
    "duration": 10,
    "start_time": "2022-06-08T18:54:24.732Z"
   },
   {
    "duration": 121,
    "start_time": "2022-06-08T18:54:24.743Z"
   },
   {
    "duration": 256,
    "start_time": "2022-06-08T18:54:24.866Z"
   },
   {
    "duration": 322,
    "start_time": "2022-06-08T18:54:25.126Z"
   },
   {
    "duration": 243,
    "start_time": "2022-06-08T18:54:25.450Z"
   },
   {
    "duration": 214,
    "start_time": "2022-06-08T18:54:25.695Z"
   },
   {
    "duration": 24,
    "start_time": "2022-06-08T18:54:25.911Z"
   },
   {
    "duration": 9,
    "start_time": "2022-06-08T18:54:25.937Z"
   },
   {
    "duration": 13,
    "start_time": "2022-06-08T18:54:25.948Z"
   },
   {
    "duration": 8,
    "start_time": "2022-06-08T18:54:25.962Z"
   },
   {
    "duration": 8,
    "start_time": "2022-06-08T18:54:25.972Z"
   },
   {
    "duration": 146,
    "start_time": "2022-06-08T18:54:25.982Z"
   },
   {
    "duration": 147,
    "start_time": "2022-06-08T18:54:26.130Z"
   },
   {
    "duration": 132,
    "start_time": "2022-06-08T18:54:26.279Z"
   },
   {
    "duration": 6,
    "start_time": "2022-06-08T18:56:18.640Z"
   },
   {
    "duration": 990,
    "start_time": "2022-06-08T18:56:29.523Z"
   },
   {
    "duration": 265,
    "start_time": "2022-06-08T18:56:30.515Z"
   },
   {
    "duration": 22,
    "start_time": "2022-06-08T18:56:30.782Z"
   },
   {
    "duration": 183,
    "start_time": "2022-06-08T18:56:30.806Z"
   },
   {
    "duration": 16,
    "start_time": "2022-06-08T18:56:30.990Z"
   },
   {
    "duration": 135,
    "start_time": "2022-06-08T18:56:31.007Z"
   },
   {
    "duration": 15,
    "start_time": "2022-06-08T18:56:31.143Z"
   },
   {
    "duration": 49,
    "start_time": "2022-06-08T18:56:31.159Z"
   },
   {
    "duration": 11,
    "start_time": "2022-06-08T18:56:31.209Z"
   },
   {
    "duration": 59,
    "start_time": "2022-06-08T18:56:31.223Z"
   },
   {
    "duration": 10,
    "start_time": "2022-06-08T18:56:31.284Z"
   },
   {
    "duration": 31,
    "start_time": "2022-06-08T18:56:31.296Z"
   },
   {
    "duration": 60,
    "start_time": "2022-06-08T18:56:31.329Z"
   },
   {
    "duration": 76,
    "start_time": "2022-06-08T18:56:31.391Z"
   },
   {
    "duration": 353,
    "start_time": "2022-06-08T18:56:31.469Z"
   },
   {
    "duration": 302,
    "start_time": "2022-06-08T18:56:31.826Z"
   },
   {
    "duration": 242,
    "start_time": "2022-06-08T18:56:32.130Z"
   },
   {
    "duration": 263,
    "start_time": "2022-06-08T18:56:32.374Z"
   },
   {
    "duration": 17,
    "start_time": "2022-06-08T18:56:32.638Z"
   },
   {
    "duration": 18,
    "start_time": "2022-06-08T18:56:32.657Z"
   },
   {
    "duration": 21,
    "start_time": "2022-06-08T18:56:32.677Z"
   },
   {
    "duration": 26,
    "start_time": "2022-06-08T18:56:32.726Z"
   },
   {
    "duration": 9,
    "start_time": "2022-06-08T18:56:32.753Z"
   },
   {
    "duration": 8,
    "start_time": "2022-06-08T18:56:32.764Z"
   },
   {
    "duration": 9,
    "start_time": "2022-06-08T18:56:32.773Z"
   },
   {
    "duration": 5,
    "start_time": "2022-06-08T18:56:32.783Z"
   },
   {
    "duration": 6,
    "start_time": "2022-06-08T18:56:32.790Z"
   },
   {
    "duration": 5,
    "start_time": "2022-06-08T18:56:32.829Z"
   },
   {
    "duration": 12,
    "start_time": "2022-06-08T18:56:32.836Z"
   },
   {
    "duration": 44,
    "start_time": "2022-06-08T18:56:32.849Z"
   },
   {
    "duration": 6,
    "start_time": "2022-06-08T18:56:32.894Z"
   },
   {
    "duration": 123,
    "start_time": "2022-06-08T18:56:32.902Z"
   },
   {
    "duration": 257,
    "start_time": "2022-06-08T18:56:33.026Z"
   },
   {
    "duration": 313,
    "start_time": "2022-06-08T18:56:33.285Z"
   },
   {
    "duration": 231,
    "start_time": "2022-06-08T18:56:33.599Z"
   },
   {
    "duration": 214,
    "start_time": "2022-06-08T18:56:33.832Z"
   },
   {
    "duration": 13,
    "start_time": "2022-06-08T18:56:34.048Z"
   },
   {
    "duration": 13,
    "start_time": "2022-06-08T18:56:34.063Z"
   },
   {
    "duration": 11,
    "start_time": "2022-06-08T18:56:34.078Z"
   },
   {
    "duration": 19,
    "start_time": "2022-06-08T18:56:34.091Z"
   },
   {
    "duration": 17,
    "start_time": "2022-06-08T18:56:34.112Z"
   },
   {
    "duration": 133,
    "start_time": "2022-06-08T18:56:34.131Z"
   },
   {
    "duration": 140,
    "start_time": "2022-06-08T18:56:34.267Z"
   },
   {
    "duration": 131,
    "start_time": "2022-06-08T18:56:34.409Z"
   },
   {
    "duration": 89,
    "start_time": "2022-06-08T18:58:15.126Z"
   },
   {
    "duration": 1008,
    "start_time": "2022-06-08T18:58:57.165Z"
   },
   {
    "duration": 242,
    "start_time": "2022-06-08T18:58:58.175Z"
   },
   {
    "duration": 25,
    "start_time": "2022-06-08T18:58:58.419Z"
   },
   {
    "duration": 168,
    "start_time": "2022-06-08T18:58:58.446Z"
   },
   {
    "duration": 26,
    "start_time": "2022-06-08T18:58:58.616Z"
   },
   {
    "duration": 113,
    "start_time": "2022-06-08T18:58:58.644Z"
   },
   {
    "duration": 15,
    "start_time": "2022-06-08T18:58:58.758Z"
   },
   {
    "duration": 21,
    "start_time": "2022-06-08T18:58:58.774Z"
   },
   {
    "duration": 9,
    "start_time": "2022-06-08T18:58:58.796Z"
   },
   {
    "duration": 36,
    "start_time": "2022-06-08T18:58:58.807Z"
   },
   {
    "duration": 9,
    "start_time": "2022-06-08T18:58:58.845Z"
   },
   {
    "duration": 16,
    "start_time": "2022-06-08T18:58:58.856Z"
   },
   {
    "duration": 56,
    "start_time": "2022-06-08T18:58:58.873Z"
   },
   {
    "duration": 59,
    "start_time": "2022-06-08T18:58:58.933Z"
   },
   {
    "duration": 289,
    "start_time": "2022-06-08T18:58:58.994Z"
   },
   {
    "duration": 289,
    "start_time": "2022-06-08T18:58:59.285Z"
   },
   {
    "duration": 262,
    "start_time": "2022-06-08T18:58:59.576Z"
   },
   {
    "duration": 264,
    "start_time": "2022-06-08T18:58:59.839Z"
   },
   {
    "duration": 22,
    "start_time": "2022-06-08T18:59:00.105Z"
   },
   {
    "duration": 17,
    "start_time": "2022-06-08T18:59:00.129Z"
   },
   {
    "duration": 19,
    "start_time": "2022-06-08T18:59:00.148Z"
   },
   {
    "duration": 23,
    "start_time": "2022-06-08T18:59:00.168Z"
   },
   {
    "duration": 34,
    "start_time": "2022-06-08T18:59:00.192Z"
   },
   {
    "duration": 7,
    "start_time": "2022-06-08T18:59:00.228Z"
   },
   {
    "duration": 11,
    "start_time": "2022-06-08T18:59:00.237Z"
   },
   {
    "duration": 8,
    "start_time": "2022-06-08T18:59:00.249Z"
   },
   {
    "duration": 110,
    "start_time": "2022-06-08T18:59:00.258Z"
   },
   {
    "duration": 0,
    "start_time": "2022-06-08T18:59:00.369Z"
   },
   {
    "duration": 0,
    "start_time": "2022-06-08T18:59:00.370Z"
   },
   {
    "duration": 0,
    "start_time": "2022-06-08T18:59:00.371Z"
   },
   {
    "duration": 0,
    "start_time": "2022-06-08T18:59:00.372Z"
   },
   {
    "duration": 0,
    "start_time": "2022-06-08T18:59:00.373Z"
   },
   {
    "duration": 0,
    "start_time": "2022-06-08T18:59:00.374Z"
   },
   {
    "duration": 0,
    "start_time": "2022-06-08T18:59:00.375Z"
   },
   {
    "duration": 0,
    "start_time": "2022-06-08T18:59:00.376Z"
   },
   {
    "duration": 0,
    "start_time": "2022-06-08T18:59:00.377Z"
   },
   {
    "duration": 0,
    "start_time": "2022-06-08T18:59:00.378Z"
   },
   {
    "duration": 0,
    "start_time": "2022-06-08T18:59:00.379Z"
   },
   {
    "duration": 0,
    "start_time": "2022-06-08T18:59:00.380Z"
   },
   {
    "duration": 0,
    "start_time": "2022-06-08T18:59:00.381Z"
   },
   {
    "duration": 0,
    "start_time": "2022-06-08T18:59:00.382Z"
   },
   {
    "duration": 0,
    "start_time": "2022-06-08T18:59:00.383Z"
   },
   {
    "duration": 0,
    "start_time": "2022-06-08T18:59:00.384Z"
   },
   {
    "duration": 0,
    "start_time": "2022-06-08T18:59:00.385Z"
   },
   {
    "duration": 6,
    "start_time": "2022-06-08T18:59:16.571Z"
   },
   {
    "duration": 4,
    "start_time": "2022-06-08T18:59:33.597Z"
   },
   {
    "duration": 9,
    "start_time": "2022-06-08T18:59:46.525Z"
   },
   {
    "duration": 30,
    "start_time": "2022-06-08T19:00:47.158Z"
   },
   {
    "duration": 9,
    "start_time": "2022-06-08T19:00:51.798Z"
   },
   {
    "duration": 989,
    "start_time": "2022-06-08T19:01:30.330Z"
   },
   {
    "duration": 295,
    "start_time": "2022-06-08T19:01:31.320Z"
   },
   {
    "duration": 23,
    "start_time": "2022-06-08T19:01:31.617Z"
   },
   {
    "duration": 235,
    "start_time": "2022-06-08T19:01:31.642Z"
   },
   {
    "duration": 19,
    "start_time": "2022-06-08T19:01:31.879Z"
   },
   {
    "duration": 158,
    "start_time": "2022-06-08T19:01:31.900Z"
   },
   {
    "duration": 20,
    "start_time": "2022-06-08T19:01:32.060Z"
   },
   {
    "duration": 37,
    "start_time": "2022-06-08T19:01:32.082Z"
   },
   {
    "duration": 11,
    "start_time": "2022-06-08T19:01:32.121Z"
   },
   {
    "duration": 48,
    "start_time": "2022-06-08T19:01:32.134Z"
   },
   {
    "duration": 30,
    "start_time": "2022-06-08T19:01:32.184Z"
   },
   {
    "duration": 30,
    "start_time": "2022-06-08T19:01:32.216Z"
   },
   {
    "duration": 79,
    "start_time": "2022-06-08T19:01:32.248Z"
   },
   {
    "duration": 58,
    "start_time": "2022-06-08T19:01:32.329Z"
   },
   {
    "duration": 312,
    "start_time": "2022-06-08T19:01:32.388Z"
   },
   {
    "duration": 296,
    "start_time": "2022-06-08T19:01:32.702Z"
   },
   {
    "duration": 288,
    "start_time": "2022-06-08T19:01:33.000Z"
   },
   {
    "duration": 253,
    "start_time": "2022-06-08T19:01:33.290Z"
   },
   {
    "duration": 19,
    "start_time": "2022-06-08T19:01:33.545Z"
   },
   {
    "duration": 28,
    "start_time": "2022-06-08T19:01:33.566Z"
   },
   {
    "duration": 31,
    "start_time": "2022-06-08T19:01:33.596Z"
   },
   {
    "duration": 27,
    "start_time": "2022-06-08T19:01:33.629Z"
   },
   {
    "duration": 9,
    "start_time": "2022-06-08T19:01:33.657Z"
   },
   {
    "duration": 38,
    "start_time": "2022-06-08T19:01:33.667Z"
   },
   {
    "duration": 28,
    "start_time": "2022-06-08T19:01:33.707Z"
   },
   {
    "duration": 12,
    "start_time": "2022-06-08T19:01:33.736Z"
   },
   {
    "duration": 22,
    "start_time": "2022-06-08T19:01:33.750Z"
   },
   {
    "duration": 5,
    "start_time": "2022-06-08T19:01:33.776Z"
   },
   {
    "duration": 33,
    "start_time": "2022-06-08T19:01:33.783Z"
   },
   {
    "duration": 11,
    "start_time": "2022-06-08T19:01:33.818Z"
   },
   {
    "duration": 128,
    "start_time": "2022-06-08T19:01:33.831Z"
   },
   {
    "duration": 248,
    "start_time": "2022-06-08T19:01:33.961Z"
   },
   {
    "duration": 327,
    "start_time": "2022-06-08T19:01:34.211Z"
   },
   {
    "duration": 250,
    "start_time": "2022-06-08T19:01:34.540Z"
   },
   {
    "duration": 205,
    "start_time": "2022-06-08T19:01:34.793Z"
   },
   {
    "duration": 14,
    "start_time": "2022-06-08T19:01:34.999Z"
   },
   {
    "duration": 11,
    "start_time": "2022-06-08T19:01:35.026Z"
   },
   {
    "duration": 43,
    "start_time": "2022-06-08T19:01:35.039Z"
   },
   {
    "duration": 27,
    "start_time": "2022-06-08T19:01:35.084Z"
   },
   {
    "duration": 22,
    "start_time": "2022-06-08T19:01:35.113Z"
   },
   {
    "duration": 154,
    "start_time": "2022-06-08T19:01:35.136Z"
   },
   {
    "duration": 141,
    "start_time": "2022-06-08T19:01:35.292Z"
   },
   {
    "duration": 136,
    "start_time": "2022-06-08T19:01:35.435Z"
   },
   {
    "duration": 7,
    "start_time": "2022-06-08T19:03:12.964Z"
   },
   {
    "duration": 6,
    "start_time": "2022-06-08T19:03:25.364Z"
   },
   {
    "duration": 6,
    "start_time": "2022-06-08T19:03:54.201Z"
   },
   {
    "duration": 6,
    "start_time": "2022-06-08T19:04:00.334Z"
   },
   {
    "duration": 97,
    "start_time": "2022-06-08T19:04:21.838Z"
   },
   {
    "duration": 6,
    "start_time": "2022-06-08T19:04:30.262Z"
   },
   {
    "duration": 6,
    "start_time": "2022-06-08T19:04:52.466Z"
   },
   {
    "duration": 6,
    "start_time": "2022-06-08T19:06:40.280Z"
   },
   {
    "duration": 4,
    "start_time": "2022-06-08T19:11:43.274Z"
   },
   {
    "duration": 187,
    "start_time": "2022-06-08T19:11:43.280Z"
   },
   {
    "duration": 17,
    "start_time": "2022-06-08T19:11:43.469Z"
   },
   {
    "duration": 175,
    "start_time": "2022-06-08T19:11:43.487Z"
   },
   {
    "duration": 15,
    "start_time": "2022-06-08T19:11:43.664Z"
   },
   {
    "duration": 130,
    "start_time": "2022-06-08T19:11:43.680Z"
   },
   {
    "duration": 23,
    "start_time": "2022-06-08T19:11:43.812Z"
   },
   {
    "duration": 20,
    "start_time": "2022-06-08T19:11:43.837Z"
   },
   {
    "duration": 9,
    "start_time": "2022-06-08T19:11:43.858Z"
   },
   {
    "duration": 38,
    "start_time": "2022-06-08T19:11:43.869Z"
   },
   {
    "duration": 11,
    "start_time": "2022-06-08T19:11:43.908Z"
   },
   {
    "duration": 16,
    "start_time": "2022-06-08T19:11:43.921Z"
   },
   {
    "duration": 50,
    "start_time": "2022-06-08T19:11:43.938Z"
   },
   {
    "duration": 61,
    "start_time": "2022-06-08T19:11:43.990Z"
   },
   {
    "duration": 275,
    "start_time": "2022-06-08T19:11:44.053Z"
   },
   {
    "duration": 357,
    "start_time": "2022-06-08T19:11:44.330Z"
   },
   {
    "duration": 246,
    "start_time": "2022-06-08T19:11:44.688Z"
   },
   {
    "duration": 247,
    "start_time": "2022-06-08T19:11:44.935Z"
   },
   {
    "duration": 16,
    "start_time": "2022-06-08T19:11:45.183Z"
   },
   {
    "duration": 36,
    "start_time": "2022-06-08T19:11:45.201Z"
   },
   {
    "duration": 19,
    "start_time": "2022-06-08T19:11:45.239Z"
   },
   {
    "duration": 23,
    "start_time": "2022-06-08T19:11:45.259Z"
   },
   {
    "duration": 7,
    "start_time": "2022-06-08T19:11:45.283Z"
   },
   {
    "duration": 9,
    "start_time": "2022-06-08T19:11:45.291Z"
   },
   {
    "duration": 28,
    "start_time": "2022-06-08T19:11:45.301Z"
   },
   {
    "duration": 21,
    "start_time": "2022-06-08T19:11:45.330Z"
   },
   {
    "duration": 20,
    "start_time": "2022-06-08T19:11:45.353Z"
   },
   {
    "duration": 18,
    "start_time": "2022-06-08T19:11:45.375Z"
   },
   {
    "duration": 6,
    "start_time": "2022-06-08T19:11:45.395Z"
   },
   {
    "duration": 9,
    "start_time": "2022-06-08T19:11:45.402Z"
   },
   {
    "duration": 106,
    "start_time": "2022-06-08T19:11:45.413Z"
   },
   {
    "duration": 250,
    "start_time": "2022-06-08T19:11:45.521Z"
   },
   {
    "duration": 238,
    "start_time": "2022-06-08T19:11:45.773Z"
   },
   {
    "duration": 332,
    "start_time": "2022-06-08T19:11:46.013Z"
   },
   {
    "duration": 202,
    "start_time": "2022-06-08T19:11:46.347Z"
   },
   {
    "duration": 10,
    "start_time": "2022-06-08T19:11:46.550Z"
   },
   {
    "duration": 24,
    "start_time": "2022-06-08T19:11:46.562Z"
   },
   {
    "duration": 16,
    "start_time": "2022-06-08T19:11:46.587Z"
   },
   {
    "duration": 8,
    "start_time": "2022-06-08T19:11:46.608Z"
   },
   {
    "duration": 30,
    "start_time": "2022-06-08T19:11:46.617Z"
   },
   {
    "duration": 134,
    "start_time": "2022-06-08T19:11:46.649Z"
   },
   {
    "duration": 125,
    "start_time": "2022-06-08T19:11:46.785Z"
   },
   {
    "duration": 144,
    "start_time": "2022-06-08T19:11:46.912Z"
   },
   {
    "duration": 1024,
    "start_time": "2022-06-08T19:12:31.269Z"
   },
   {
    "duration": 251,
    "start_time": "2022-06-08T19:12:32.295Z"
   },
   {
    "duration": 19,
    "start_time": "2022-06-08T19:12:32.548Z"
   },
   {
    "duration": 183,
    "start_time": "2022-06-08T19:12:32.569Z"
   },
   {
    "duration": 16,
    "start_time": "2022-06-08T19:12:32.754Z"
   },
   {
    "duration": 121,
    "start_time": "2022-06-08T19:12:32.772Z"
   },
   {
    "duration": 21,
    "start_time": "2022-06-08T19:12:32.895Z"
   },
   {
    "duration": 34,
    "start_time": "2022-06-08T19:12:32.926Z"
   },
   {
    "duration": 17,
    "start_time": "2022-06-08T19:12:32.962Z"
   },
   {
    "duration": 57,
    "start_time": "2022-06-08T19:12:32.982Z"
   },
   {
    "duration": 10,
    "start_time": "2022-06-08T19:12:33.040Z"
   },
   {
    "duration": 31,
    "start_time": "2022-06-08T19:12:33.051Z"
   },
   {
    "duration": 63,
    "start_time": "2022-06-08T19:12:33.084Z"
   },
   {
    "duration": 55,
    "start_time": "2022-06-08T19:12:33.149Z"
   },
   {
    "duration": 333,
    "start_time": "2022-06-08T19:12:33.206Z"
   },
   {
    "duration": 255,
    "start_time": "2022-06-08T19:12:33.541Z"
   },
   {
    "duration": 270,
    "start_time": "2022-06-08T19:12:33.798Z"
   },
   {
    "duration": 291,
    "start_time": "2022-06-08T19:12:34.069Z"
   },
   {
    "duration": 18,
    "start_time": "2022-06-08T19:12:34.362Z"
   },
   {
    "duration": 49,
    "start_time": "2022-06-08T19:12:34.382Z"
   },
   {
    "duration": 21,
    "start_time": "2022-06-08T19:12:34.432Z"
   },
   {
    "duration": 39,
    "start_time": "2022-06-08T19:12:34.454Z"
   },
   {
    "duration": 19,
    "start_time": "2022-06-08T19:12:34.494Z"
   },
   {
    "duration": 19,
    "start_time": "2022-06-08T19:12:34.515Z"
   },
   {
    "duration": 36,
    "start_time": "2022-06-08T19:12:34.535Z"
   },
   {
    "duration": 32,
    "start_time": "2022-06-08T19:12:34.572Z"
   },
   {
    "duration": 29,
    "start_time": "2022-06-08T19:12:34.605Z"
   },
   {
    "duration": 41,
    "start_time": "2022-06-08T19:12:34.638Z"
   },
   {
    "duration": 22,
    "start_time": "2022-06-08T19:12:34.680Z"
   },
   {
    "duration": 34,
    "start_time": "2022-06-08T19:12:34.703Z"
   },
   {
    "duration": 129,
    "start_time": "2022-06-08T19:12:34.738Z"
   },
   {
    "duration": 277,
    "start_time": "2022-06-08T19:12:34.869Z"
   },
   {
    "duration": 324,
    "start_time": "2022-06-08T19:12:35.148Z"
   },
   {
    "duration": 260,
    "start_time": "2022-06-08T19:12:35.474Z"
   },
   {
    "duration": 222,
    "start_time": "2022-06-08T19:12:35.737Z"
   },
   {
    "duration": 11,
    "start_time": "2022-06-08T19:12:35.961Z"
   },
   {
    "duration": 9,
    "start_time": "2022-06-08T19:12:35.974Z"
   },
   {
    "duration": 11,
    "start_time": "2022-06-08T19:12:35.985Z"
   },
   {
    "duration": 5,
    "start_time": "2022-06-08T19:12:35.998Z"
   },
   {
    "duration": 24,
    "start_time": "2022-06-08T19:12:36.005Z"
   },
   {
    "duration": 146,
    "start_time": "2022-06-08T19:12:36.030Z"
   },
   {
    "duration": 136,
    "start_time": "2022-06-08T19:12:36.177Z"
   },
   {
    "duration": 134,
    "start_time": "2022-06-08T19:12:36.315Z"
   },
   {
    "duration": 5,
    "start_time": "2022-06-08T19:13:38.262Z"
   },
   {
    "duration": 9,
    "start_time": "2022-06-08T19:13:42.709Z"
   },
   {
    "duration": 6,
    "start_time": "2022-06-08T19:13:44.160Z"
   },
   {
    "duration": 10,
    "start_time": "2022-06-08T19:13:46.672Z"
   },
   {
    "duration": 1014,
    "start_time": "2022-06-08T19:14:23.703Z"
   },
   {
    "duration": 257,
    "start_time": "2022-06-08T19:14:24.719Z"
   },
   {
    "duration": 28,
    "start_time": "2022-06-08T19:14:24.978Z"
   },
   {
    "duration": 166,
    "start_time": "2022-06-08T19:14:25.009Z"
   },
   {
    "duration": 18,
    "start_time": "2022-06-08T19:14:25.177Z"
   },
   {
    "duration": 111,
    "start_time": "2022-06-08T19:14:25.197Z"
   },
   {
    "duration": 24,
    "start_time": "2022-06-08T19:14:25.310Z"
   },
   {
    "duration": 21,
    "start_time": "2022-06-08T19:14:25.336Z"
   },
   {
    "duration": 10,
    "start_time": "2022-06-08T19:14:25.359Z"
   },
   {
    "duration": 38,
    "start_time": "2022-06-08T19:14:25.372Z"
   },
   {
    "duration": 11,
    "start_time": "2022-06-08T19:14:25.412Z"
   },
   {
    "duration": 20,
    "start_time": "2022-06-08T19:14:25.424Z"
   },
   {
    "duration": 61,
    "start_time": "2022-06-08T19:14:25.445Z"
   },
   {
    "duration": 59,
    "start_time": "2022-06-08T19:14:25.508Z"
   },
   {
    "duration": 316,
    "start_time": "2022-06-08T19:14:25.568Z"
   },
   {
    "duration": 292,
    "start_time": "2022-06-08T19:14:25.886Z"
   },
   {
    "duration": 256,
    "start_time": "2022-06-08T19:14:26.179Z"
   },
   {
    "duration": 262,
    "start_time": "2022-06-08T19:14:26.437Z"
   },
   {
    "duration": 28,
    "start_time": "2022-06-08T19:14:26.701Z"
   },
   {
    "duration": 22,
    "start_time": "2022-06-08T19:14:26.732Z"
   },
   {
    "duration": 22,
    "start_time": "2022-06-08T19:14:26.756Z"
   },
   {
    "duration": 49,
    "start_time": "2022-06-08T19:14:26.780Z"
   },
   {
    "duration": 8,
    "start_time": "2022-06-08T19:14:26.831Z"
   },
   {
    "duration": 6,
    "start_time": "2022-06-08T19:14:26.840Z"
   },
   {
    "duration": 9,
    "start_time": "2022-06-08T19:14:26.847Z"
   },
   {
    "duration": 4,
    "start_time": "2022-06-08T19:14:26.858Z"
   },
   {
    "duration": 7,
    "start_time": "2022-06-08T19:14:26.864Z"
   },
   {
    "duration": 7,
    "start_time": "2022-06-08T19:14:26.874Z"
   },
   {
    "duration": 45,
    "start_time": "2022-06-08T19:14:26.882Z"
   },
   {
    "duration": 5,
    "start_time": "2022-06-08T19:14:26.929Z"
   },
   {
    "duration": 8,
    "start_time": "2022-06-08T19:14:26.936Z"
   },
   {
    "duration": 118,
    "start_time": "2022-06-08T19:14:26.946Z"
   },
   {
    "duration": 275,
    "start_time": "2022-06-08T19:14:27.065Z"
   },
   {
    "duration": 328,
    "start_time": "2022-06-08T19:14:27.342Z"
   },
   {
    "duration": 254,
    "start_time": "2022-06-08T19:14:27.672Z"
   },
   {
    "duration": 216,
    "start_time": "2022-06-08T19:14:27.928Z"
   },
   {
    "duration": 12,
    "start_time": "2022-06-08T19:14:28.146Z"
   },
   {
    "duration": 10,
    "start_time": "2022-06-08T19:14:28.160Z"
   },
   {
    "duration": 10,
    "start_time": "2022-06-08T19:14:28.172Z"
   },
   {
    "duration": 8,
    "start_time": "2022-06-08T19:14:28.184Z"
   },
   {
    "duration": 35,
    "start_time": "2022-06-08T19:14:28.193Z"
   },
   {
    "duration": 143,
    "start_time": "2022-06-08T19:14:28.230Z"
   },
   {
    "duration": 153,
    "start_time": "2022-06-08T19:14:28.375Z"
   },
   {
    "duration": 144,
    "start_time": "2022-06-08T19:14:28.530Z"
   },
   {
    "duration": 939,
    "start_time": "2022-06-08T19:21:02.366Z"
   },
   {
    "duration": 254,
    "start_time": "2022-06-08T19:21:03.307Z"
   },
   {
    "duration": 18,
    "start_time": "2022-06-08T19:21:03.562Z"
   },
   {
    "duration": 166,
    "start_time": "2022-06-08T19:21:03.581Z"
   },
   {
    "duration": 16,
    "start_time": "2022-06-08T19:21:03.750Z"
   },
   {
    "duration": 116,
    "start_time": "2022-06-08T19:21:03.768Z"
   },
   {
    "duration": 14,
    "start_time": "2022-06-08T19:21:03.886Z"
   },
   {
    "duration": 33,
    "start_time": "2022-06-08T19:21:03.902Z"
   },
   {
    "duration": 11,
    "start_time": "2022-06-08T19:21:03.937Z"
   },
   {
    "duration": 40,
    "start_time": "2022-06-08T19:21:03.950Z"
   },
   {
    "duration": 10,
    "start_time": "2022-06-08T19:21:03.992Z"
   },
   {
    "duration": 22,
    "start_time": "2022-06-08T19:21:04.004Z"
   },
   {
    "duration": 63,
    "start_time": "2022-06-08T19:21:04.027Z"
   },
   {
    "duration": 64,
    "start_time": "2022-06-08T19:21:04.092Z"
   },
   {
    "duration": 282,
    "start_time": "2022-06-08T19:21:04.158Z"
   },
   {
    "duration": 285,
    "start_time": "2022-06-08T19:21:04.443Z"
   },
   {
    "duration": 261,
    "start_time": "2022-06-08T19:21:04.730Z"
   },
   {
    "duration": 258,
    "start_time": "2022-06-08T19:21:04.993Z"
   },
   {
    "duration": 18,
    "start_time": "2022-06-08T19:21:05.253Z"
   },
   {
    "duration": 23,
    "start_time": "2022-06-08T19:21:05.273Z"
   },
   {
    "duration": 41,
    "start_time": "2022-06-08T19:21:05.297Z"
   },
   {
    "duration": 24,
    "start_time": "2022-06-08T19:21:05.339Z"
   },
   {
    "duration": 9,
    "start_time": "2022-06-08T19:21:05.365Z"
   },
   {
    "duration": 27,
    "start_time": "2022-06-08T19:21:05.376Z"
   },
   {
    "duration": 22,
    "start_time": "2022-06-08T19:21:05.405Z"
   },
   {
    "duration": 28,
    "start_time": "2022-06-08T19:21:05.429Z"
   },
   {
    "duration": 33,
    "start_time": "2022-06-08T19:21:05.459Z"
   },
   {
    "duration": 21,
    "start_time": "2022-06-08T19:21:05.494Z"
   },
   {
    "duration": 30,
    "start_time": "2022-06-08T19:21:05.517Z"
   },
   {
    "duration": 17,
    "start_time": "2022-06-08T19:21:05.548Z"
   },
   {
    "duration": 21,
    "start_time": "2022-06-08T19:21:05.566Z"
   },
   {
    "duration": 156,
    "start_time": "2022-06-08T19:21:05.589Z"
   },
   {
    "duration": 291,
    "start_time": "2022-06-08T19:21:05.747Z"
   },
   {
    "duration": 333,
    "start_time": "2022-06-08T19:21:06.040Z"
   },
   {
    "duration": 248,
    "start_time": "2022-06-08T19:21:06.375Z"
   },
   {
    "duration": 205,
    "start_time": "2022-06-08T19:21:06.632Z"
   },
   {
    "duration": 11,
    "start_time": "2022-06-08T19:21:06.838Z"
   },
   {
    "duration": 8,
    "start_time": "2022-06-08T19:21:06.851Z"
   },
   {
    "duration": 12,
    "start_time": "2022-06-08T19:21:06.861Z"
   },
   {
    "duration": 9,
    "start_time": "2022-06-08T19:21:06.874Z"
   },
   {
    "duration": 7,
    "start_time": "2022-06-08T19:21:06.886Z"
   },
   {
    "duration": 169,
    "start_time": "2022-06-08T19:21:06.894Z"
   },
   {
    "duration": 162,
    "start_time": "2022-06-08T19:21:07.065Z"
   },
   {
    "duration": 150,
    "start_time": "2022-06-08T19:21:07.229Z"
   },
   {
    "duration": 35,
    "start_time": "2022-06-08T22:07:02.947Z"
   },
   {
    "duration": 46,
    "start_time": "2022-06-20T23:30:59.112Z"
   },
   {
    "duration": 1045,
    "start_time": "2022-06-20T23:31:04.321Z"
   },
   {
    "duration": 327,
    "start_time": "2022-06-20T23:31:05.368Z"
   },
   {
    "duration": 19,
    "start_time": "2022-06-20T23:31:05.697Z"
   },
   {
    "duration": 538,
    "start_time": "2022-06-20T23:31:05.718Z"
   },
   {
    "duration": 17,
    "start_time": "2022-06-20T23:31:06.258Z"
   },
   {
    "duration": 354,
    "start_time": "2022-06-20T23:31:06.277Z"
   },
   {
    "duration": 15,
    "start_time": "2022-06-20T23:31:06.633Z"
   },
   {
    "duration": 80,
    "start_time": "2022-06-20T23:31:06.650Z"
   },
   {
    "duration": 10,
    "start_time": "2022-06-20T23:31:06.732Z"
   },
   {
    "duration": 75,
    "start_time": "2022-06-20T23:31:06.744Z"
   },
   {
    "duration": 11,
    "start_time": "2022-06-20T23:31:06.820Z"
   },
   {
    "duration": 23,
    "start_time": "2022-06-20T23:31:06.833Z"
   },
   {
    "duration": 66,
    "start_time": "2022-06-20T23:31:06.858Z"
   },
   {
    "duration": 61,
    "start_time": "2022-06-20T23:31:06.926Z"
   },
   {
    "duration": 297,
    "start_time": "2022-06-20T23:31:06.989Z"
   },
   {
    "duration": 270,
    "start_time": "2022-06-20T23:31:07.287Z"
   },
   {
    "duration": 264,
    "start_time": "2022-06-20T23:31:07.559Z"
   },
   {
    "duration": 271,
    "start_time": "2022-06-20T23:31:07.824Z"
   },
   {
    "duration": 28,
    "start_time": "2022-06-20T23:31:08.096Z"
   },
   {
    "duration": 20,
    "start_time": "2022-06-20T23:31:08.126Z"
   },
   {
    "duration": 19,
    "start_time": "2022-06-20T23:31:08.148Z"
   },
   {
    "duration": 31,
    "start_time": "2022-06-20T23:31:08.170Z"
   },
   {
    "duration": 26,
    "start_time": "2022-06-20T23:31:08.202Z"
   },
   {
    "duration": 7,
    "start_time": "2022-06-20T23:31:08.230Z"
   },
   {
    "duration": 8,
    "start_time": "2022-06-20T23:31:08.238Z"
   },
   {
    "duration": 8,
    "start_time": "2022-06-20T23:31:08.248Z"
   },
   {
    "duration": 22,
    "start_time": "2022-06-20T23:31:08.257Z"
   },
   {
    "duration": 6,
    "start_time": "2022-06-20T23:31:08.283Z"
   },
   {
    "duration": 43,
    "start_time": "2022-06-20T23:31:08.291Z"
   },
   {
    "duration": 10,
    "start_time": "2022-06-20T23:31:08.335Z"
   },
   {
    "duration": 4,
    "start_time": "2022-06-20T23:31:08.347Z"
   },
   {
    "duration": 114,
    "start_time": "2022-06-20T23:31:08.353Z"
   },
   {
    "duration": 277,
    "start_time": "2022-06-20T23:31:08.469Z"
   },
   {
    "duration": 355,
    "start_time": "2022-06-20T23:31:08.748Z"
   },
   {
    "duration": 279,
    "start_time": "2022-06-20T23:31:09.105Z"
   },
   {
    "duration": 214,
    "start_time": "2022-06-20T23:31:09.385Z"
   },
   {
    "duration": 22,
    "start_time": "2022-06-20T23:31:09.601Z"
   },
   {
    "duration": 10,
    "start_time": "2022-06-20T23:31:09.625Z"
   },
   {
    "duration": 33,
    "start_time": "2022-06-20T23:31:09.636Z"
   },
   {
    "duration": 10,
    "start_time": "2022-06-20T23:31:09.671Z"
   },
   {
    "duration": 6,
    "start_time": "2022-06-20T23:31:09.683Z"
   },
   {
    "duration": 12,
    "start_time": "2022-06-20T23:31:09.690Z"
   },
   {
    "duration": 146,
    "start_time": "2022-06-20T23:31:09.704Z"
   },
   {
    "duration": 155,
    "start_time": "2022-06-20T23:31:09.851Z"
   },
   {
    "duration": 143,
    "start_time": "2022-06-20T23:31:10.007Z"
   },
   {
    "duration": 7,
    "start_time": "2022-06-20T23:31:25.237Z"
   },
   {
    "duration": 8,
    "start_time": "2022-06-20T23:31:34.887Z"
   }
  ],
  "kernelspec": {
   "display_name": "Python 3 (ipykernel)",
   "language": "python",
   "name": "python3"
  },
  "language_info": {
   "codemirror_mode": {
    "name": "ipython",
    "version": 3
   },
   "file_extension": ".py",
   "mimetype": "text/x-python",
   "name": "python",
   "nbconvert_exporter": "python",
   "pygments_lexer": "ipython3",
   "version": "3.9.12"
  },
  "toc": {
   "base_numbering": 1,
   "nav_menu": {},
   "number_sections": true,
   "sideBar": true,
   "skip_h1_title": true,
   "title_cell": "Table of Contents",
   "title_sidebar": "Contents",
   "toc_cell": false,
   "toc_position": {},
   "toc_section_display": true,
   "toc_window_display": false
  }
 },
 "nbformat": 4,
 "nbformat_minor": 2
}
